{
 "cells": [
  {
   "cell_type": "markdown",
   "id": "a9b60b0f-0c9f-4df1-acf6-f0a586a0d3a6",
   "metadata": {},
   "source": [
    "# Use Trained Model in OpenSearch Search Pipeline\n",
    "\n",
    "This notebook demonstrates how to use a trained model inside an OpenSearch search pipeline."
   ]
  },
  {
   "cell_type": "code",
   "execution_count": 12,
   "id": "b41c1af1-9f4c-4a30-934c-fab4017b9f89",
   "metadata": {},
   "outputs": [],
   "source": [
    "import requests\n",
    "import json\n",
    "import time"
   ]
  },
  {
   "cell_type": "markdown",
   "id": "bc635fef-f3f9-4cfa-a56c-59cd80737630",
   "metadata": {},
   "source": [
    "## Cluster Settings\n",
    "\n",
    "Your OpenSearch cluster needs to trust the API. We add one or more regular expressions to the set of trusted ones.\n",
    "In this example we trust API endpoints running on `localhost` and `inference-api`. Additionally, we enable connections to private IPs which is blocked by default but important when connecting to external APIs."
   ]
  },
  {
   "cell_type": "code",
   "execution_count": 2,
   "id": "9e7391d2-124e-4dac-bf27-d807867e1e7e",
   "metadata": {},
   "outputs": [],
   "source": [
    "headers = {\n",
    "    'Content-Type': 'application/json'\n",
    "}\n",
    "host = \"http://localhost:9200/\""
   ]
  },
  {
   "cell_type": "code",
   "execution_count": 5,
   "id": "59a78e8c-c249-442b-bf02-c80e78ae1e32",
   "metadata": {},
   "outputs": [
    {
     "name": "stdout",
     "output_type": "stream",
     "text": [
      "<Response [200]>\n"
     ]
    }
   ],
   "source": [
    "# Make OS trust your API\n",
    "url = host + \"_cluster/settings\"\n",
    "\n",
    "payload = {\n",
    "    \"persistent\": {\n",
    "        \"plugins.ml_commons.trusted_connector_endpoints_regex\": [\n",
    "          \"^http://localhost:.*$\",\n",
    "          \"^http://127.0.0.1:.*$\",\n",
    "          \"^http://inference-api:.*$\"\n",
    "        ]\n",
    "    }\n",
    "}\n",
    "\n",
    "response = requests.request(\"PUT\", url, headers=headers, data=json.dumps(payload))\n",
    "print(response)"
   ]
  },
  {
   "cell_type": "markdown",
   "id": "04c00e6f-e8bd-4914-b08c-d0c45eca5db0",
   "metadata": {},
   "source": [
    "## API Connector\n",
    "\n",
    "Next we create a connector with all the configuration details necessary to call the API endpoint."
   ]
  },
  {
   "cell_type": "code",
   "execution_count": 14,
   "id": "7c1abd06-b4a5-4291-a887-4c15b10b3f4f",
   "metadata": {},
   "outputs": [
    {
     "name": "stdout",
     "output_type": "stream",
     "text": [
      "Connector with id yxG2YpMBDpIvIC8uGRjp successfully created\n"
     ]
    }
   ],
   "source": [
    "url = host + \"_plugins/_ml/connectors/_create\"\n",
    "\n",
    "payload = {\n",
    "  \"name\": \"hybrid_search_optimizer\",\n",
    "  \"description\": \"predict neuralness and keywordness\",\n",
    "  \"version\": 1,\n",
    "  \"protocol\": \"http\",\n",
    "  \"actions\": [\n",
    "    {\n",
    "      \"action_type\": \"predict\",\n",
    "      \"method\": \"POST\",\n",
    "      \"headers\": {\n",
    "        \"content-type\": \"application/json\",\n",
    "        \"accept\": \"application/json\"\n",
    "      },\n",
    "      \"url\": \"http://inference-api:8000/predict/\",\n",
    "      \"request_body\": \"{ \\\"data\\\": \\\"${parameters.input}\\\"}\"\n",
    "    }\n",
    "  ]\n",
    "}\n",
    "\n",
    "response = requests.request(\"POST\", url, headers=headers, data=json.dumps(payload))\n",
    "\n",
    "if response.status_code == 200:\n",
    "    connector_id = response.json()['connector_id']\n",
    "    print(f\"Connector with id {connector_id} successfully created\")    \n",
    "else:\n",
    "    print(f\"Connector creation failed: {response}\")"
   ]
  },
  {
   "cell_type": "markdown",
   "id": "d33798a5-e4ab-4c9c-89b5-6cba4e9f855a",
   "metadata": {},
   "source": [
    "## Model Group\n",
    "\n",
    "We register the external API as a model in OpenSearch.\n",
    "\n",
    "To do so we create a model group first and then add a model by referencing the created connector."
   ]
  },
  {
   "cell_type": "code",
   "execution_count": 15,
   "id": "d07d1bcc-cdfd-4ac1-a636-961ca98f7cee",
   "metadata": {},
   "outputs": [
    {
     "name": "stdout",
     "output_type": "stream",
     "text": [
      "Model group creation failed: <Response [400]>\n"
     ]
    }
   ],
   "source": [
    "# Register a model group\n",
    "url = host + \"_plugins/_ml/model_groups/_register\"\n",
    "\n",
    "payload = {\n",
    "    \"name\": \"hybrid_search_model_group\",\n",
    "    \"description\": \"This is the model group for all models we use for hybrid search\"\n",
    "}\n",
    "\n",
    "response = requests.request(\"POST\", url, headers=headers, data=json.dumps(payload))\n",
    "\n",
    "if response.status_code == 200:\n",
    "    model_group_id = response.json()['model_group_id']\n",
    "    print(f\"Model group with id {model_group_id} successfully created\")    \n",
    "else:\n",
    "    print(f\"Model group creation failed: {response}\")"
   ]
  },
  {
   "cell_type": "code",
   "execution_count": 16,
   "id": "b8707009-c094-4992-8132-a587ce2eafcd",
   "metadata": {},
   "outputs": [
    {
     "name": "stdout",
     "output_type": "stream",
     "text": [
      "Task with id zBG2YpMBDpIvIC8uJxgi to create model with id zRG2YpMBDpIvIC8uJxhB successfully created\n"
     ]
    }
   ],
   "source": [
    "# Register model in model group\n",
    "url = host + \"_plugins/_ml/models/_register\"\n",
    "\n",
    "payload = {\n",
    "    \"name\": \"predict_neuralness\",\n",
    "    \"function_name\": \"remote\",\n",
    "    \"model_group_id\": model_group_id,\n",
    "    \"description\": \"predict neuralness and keywordness\",\n",
    "    \"connector_id\": connector_id\n",
    "}\n",
    "\n",
    "response = requests.request(\"POST\", url, headers=headers, data=json.dumps(payload))\n",
    "\n",
    "if response.status_code == 200:\n",
    "    task_id = response.json()['task_id']\n",
    "    model_id = response.json()['model_id']\n",
    "    print(f\"Task with id {task_id} to create model with id {model_id} successfully created\")    \n",
    "else:\n",
    "    print(f\"Model creation failed: {response}\")"
   ]
  },
  {
   "cell_type": "code",
   "execution_count": 17,
   "id": "822b98c4-5b9e-4b6b-8aaa-3106a160e02e",
   "metadata": {},
   "outputs": [
    {
     "name": "stdout",
     "output_type": "stream",
     "text": [
      "COMPLETED\n",
      "Task finished and model with id zRG2YpMBDpIvIC8uJxhB successfully created\n"
     ]
    }
   ],
   "source": [
    "# Check for task completion\n",
    "url = host + \"_plugins/_ml/tasks/\" + task_id\n",
    "response = requests.request(\"GET\", url, headers=headers)\n",
    "\n",
    "max_attempts = 5\n",
    "attempts = 0\n",
    "\n",
    "state = None\n",
    "while state != 'COMPLETED' and attempts < max_attempts:\n",
    "    time.sleep(5) # wait five second and then check again.\n",
    "    response = requests.request(\"GET\", url, headers=headers)\n",
    "    print(response.json()['state'])\n",
    "    state = response.json()['state']\n",
    "    attempts += 1\n",
    "\n",
    "model_id = response.json()['model_id']\n",
    "\n",
    "print(f\"Task finished and model with id {model_id} successfully created\")"
   ]
  },
  {
   "cell_type": "markdown",
   "id": "c034bccb-d6df-4637-b27d-7a81006f61dd",
   "metadata": {},
   "source": [
    "## Try the Model"
   ]
  },
  {
   "cell_type": "code",
   "execution_count": 18,
   "id": "9e325b57-eca6-419d-8581-bc6cf0448188",
   "metadata": {},
   "outputs": [
    {
     "name": "stdout",
     "output_type": "stream",
     "text": [
      "{'inference_results': [{'output': [{'name': 'response', 'dataAsMap': {'neuralness': 0.51, 'keywordness': 0.49}}], 'status_code': 200}]}\n"
     ]
    }
   ],
   "source": [
    "url = host + f\"_plugins/_ml/models/{model_id}/_predict\"\n",
    "payload = {\n",
    "  \"parameters\": {\"input\": \"2, 0, 169, 1.1657, 8.58744, 0.67777\"}\n",
    "}\n",
    "\n",
    "response = requests.request(\"POST\", url, headers=headers, data=json.dumps(payload))\n",
    "print(response.json())"
   ]
  },
  {
   "cell_type": "markdown",
   "id": "1b91c4de-ddd9-41e1-9407-f0fb2d0b0308",
   "metadata": {},
   "source": [
    "## Integrate the Model in a Query\n",
    "\n",
    "With the [ML Inference](https://opensearch.org/docs/latest/search-plugins/search-pipelines/ml-inference-search-request/#configuration-parameters) search pipeline we can make inference within search requests and use the output in a query.\n",
    "\n",
    "Currently unknown is if we can use the pipeline output as part of another pipeline (for hybrid search). See the [thread in Slack](https://opensearch.slack.com/archives/C05BGJ1N264/p1732270893567709) for details.\n",
    "\n",
    "The following pipeline uses the prdicted values as search weights for two fields, not as keyword/neural search weights in a hybrid search scenario."
   ]
  },
  {
   "cell_type": "code",
   "execution_count": 28,
   "id": "64489d78-6c1d-4640-bce1-6bf6fc6dd4fb",
   "metadata": {},
   "outputs": [
    {
     "name": "stdout",
     "output_type": "stream",
     "text": [
      "{'acknowledged': True}\n"
     ]
    }
   ],
   "source": [
    "# Creating the pipeline\n",
    "\n",
    "url = host + \"_search/pipeline/ml_inference_pipeline\" \n",
    "\n",
    "payload = {\n",
    "  \"description\": \"search with predictions\",\n",
    "  \"request_processors\": [\n",
    "    {\n",
    "      \"ml_inference\": {\n",
    "        \"function_name\": \"remote\",\n",
    "        \"full_response_path\": True,\n",
    "        \"model_id\": model_id,\n",
    "        \"model_input\": \"\"\"{ \"parameters\": {\"input\": \"${input_map.features}\"}}\"\"\",\n",
    "        \"query_template\": \"\"\"{\n",
    "  \"query\": {\n",
    "    \"multi_match\": {\n",
    "      \"type\": \"best_fields\",\n",
    "      \"fields\": [\n",
    "        \"product_id^100\",\n",
    "        \"product_bullet_point^3\",\n",
    "        \"product_color^2\",\n",
    "        \"product_brand^5\",\n",
    "        \"product_description^${keywordness}\",\n",
    "        \"product_title^${neuralness}\"\n",
    "      ],\n",
    "      \"operator\": \"and\",\n",
    "      \"query\": \"iphone\"\n",
    "    }\n",
    "  },\"explain\": true\n",
    "}\"\"\",\n",
    "        \"input_map\": [\n",
    "          {\n",
    "            \"features\": \"query.term.features.value\"\n",
    "          }\n",
    "        ],\n",
    "        \"output_map\": [\n",
    "          {\n",
    "            \"neuralness\": \"$.inference_results[0]output[0]dataAsMap.neuralness\",\n",
    "            \"keywordness\": \"$.inference_results[0]output[0]dataAsMap.keywordness\"\n",
    "          }\n",
    "        ],\n",
    "        \"ignore_missing\": False,\n",
    "        \"ignore_failure\": False\n",
    "      }\n",
    "    }\n",
    "  ]\n",
    "}\n",
    "\n",
    "response = requests.request(\"PUT\", url, headers=headers, data=json.dumps(payload))\n",
    "print(response.json())"
   ]
  },
  {
   "cell_type": "code",
   "execution_count": 30,
   "id": "914c4b82-70f1-4aa6-bb9c-4f177a167737",
   "metadata": {
    "scrolled": true
   },
   "outputs": [
    {
     "name": "stdout",
     "output_type": "stream",
     "text": [
      "{'took': 141, 'timed_out': False, '_shards': {'total': 1, 'successful': 1, 'skipped': 0, 'failed': 0}, 'hits': {'total': {'value': 10000, 'relation': 'gte'}, 'max_score': 26.413527, 'hits': [{'_shard': '[ecommerce][0]', '_node': 'RsKfw9aKSqyvO8W6Rey7TA', '_index': 'ecommerce', '_id': 'B00NOGWZKK', '_score': 26.413527, '_source': {'product_bullet_point': 'iphone 6s plus apple iphone 6 plus case iphone 6 plus cover case apple iphone 6s plus case iphone 6s case heavy duty iphone 6 plus case black iphone 6 plus case iphone 6s plus cover case black iphone 6s plus case slim iphone 6 plus case iphone 6 plus hard case iphone 6s plus hard case\\ncase iphone 6s plus iphone 6 plus cover cover iphone 6 plus iphone 6s plus cover iphone 6 soft case iphone 6 plus clear iphone 6 case apple iphone 6 plus cover iphone case 6 plus case iphone 6s phone case\\niphone 6 plus back cover apple iphone 6 case apple iphone 6s case apple iphone 6 plus cover case iphone 6 case cover apple iphone 6 plus phone case black iphone 6 case black iphone 6s case slim iphone 6 case iphone 6s cover case\\notterbox iphone 6s plus heavy duty iphone 6 case iphone 6 hard case case iphone 6 iphone 6 plus rugged case 6s plus case iphone 6s hard case apple iphone 6s plus phone case case iphone 6s cover iphone 6s\\n6 plus case iphone 6 back cover case iphone 6 plus apple soft case iphone 6 iphone 6s back cover iphone case iphone 6 apple 6s plus case iphone plus case apple 6 plus case iphone 6 plus hard cover', 'product_id': 'B00NOGWZKK', 'product_locale': 'us', 'product_color': 'ArmorBox Red', 'product_brand': 'Cable And Case', 'product_description': 'apple iphone 6 plus phone case black iphone 6 case black iphone 6s case slim iphone 6 case iphone 6s cover case otterbox iphone 6s plus heavy duty iphone 6 case iphone 6 hard case case iphone 6 iphone 6 plus rugged case 6s plus case iphone 6s hard case apple iphone 6s plus phone case case iphone 6s cover iphone 6s 6 plus case iphone 6 back cover case iphone 6 plus apple soft case iphone 6 iphone 6s back cover iphone case iphone 6 apple 6s plus case iphone plus case apple 6 plus case iphone 6 plus hard cover iphone 6 back case iphone 6s back case hard case iphone 6s apple iphone 6 case cover cover case iphone 6 iphone 6 plus skin black phone case iphone 6 iphone 6 plus protector apple iphone 6s phone case apple iphone 6s cover 6s plus protective case apple iphone 6 cover iphone 6s plus black cover black apple iphone 6 case 6 plus protective case case apple iphone 6 iphone 6 protective cover apple 6 plus phone case iphone 6 black cover iphone 6s black cover iphone 6s cover apple iphone cover case iphone 6 plus front cover apple 6s case iphone cover 6 6s plus cover case', 'title_embedding': [-0.082637526, 0.024623973, 0.03679268, 0.009476332, 0.019522438, 0.108584106, 0.036884584, 0.013500136, -0.022680633, 0.077865705, 0.0717286, 0.017408973, 0.015166235, -0.04830992, 0.037433475, 0.009045088, -0.057238083, 0.024820216, -0.05211978, -0.0018823976, -0.099618696, -0.0039122463, 0.031341657, -0.03223024, -0.04869039, 0.03653874, 0.020923743, -0.0659239, 0.04202246, -0.03900398, 0.06705605, -0.0059281713, -0.0011146034, 0.016226249, -0.055029843, -0.027704548, 0.12728357, -0.009608251, -0.037741773, -0.021387633, -0.039915275, -0.032723617, 0.055595227, 0.07173581, 0.02227814, 0.00816229, 0.06465894, 0.07308678, -0.0036525137, -0.020043004, 0.04603529, -0.040174227, -0.1029614, 0.112287045, 0.04511523, 0.024720429, -0.04196608, 0.04326716, 0.062537864, -0.03191181, 0.0053347135, -0.002107139, 0.02236242, 0.037881937, -0.011777695, 0.03059863, -0.054407217, 0.0143444445, 0.017530289, 0.038363617, -0.0717074, 0.014126897, 0.047080792, -0.005440436, -0.04168435, 0.008364024, 0.021457111, -0.03206552, -0.017687635, -0.054377895, -0.015743392, 0.024963211, -0.07613581, 0.02418902, -0.026539583, 0.05986819, -0.019896507, -0.060266666, -0.056050938, -0.03051351, 0.020384552, -0.004241039, -0.026115809, -0.114167035, -0.106631406, -0.024402665, -0.061903045, 0.0022800833, -0.0013703946, -0.0069121094, 0.06705717, -0.008407204, 0.06281248, 0.12069398, 0.07742957, -0.04572674, -0.09889479, 0.033102866, -0.036188345, 0.10978808, -0.034615677, -0.00097143726, -0.0843734, -0.06548297, 0.0052014887, -0.0023864564, -0.014290885, 0.049044654, 0.051156707, -0.05876642, 0.055362564, 0.04700667, 0.02746747, -0.046151824, -0.026003402, -0.07899418, -0.044018, 4.0678533e-33, -0.014248909, -0.00063348096, -0.0381961, 0.03609637, 0.055756092, -0.0016390022, -4.1849842e-05, 0.016805854, 0.009016498, 0.10526884, -0.075793505, 0.07855205, -0.02089362, 0.07302439, 0.06630908, 0.0050710975, -0.008963383, -0.03561149, -0.010425601, -0.07738848, -0.018379474, -0.0015022829, 0.03234068, 0.076198, -0.0023293712, 0.04125326, 0.110977285, 0.02136141, -0.013816575, -0.05752765, -0.036400948, 0.017348582, 0.04629043, 0.040537007, -0.04886866, 0.050925665, -0.031899028, -0.07931288, 0.066585, 0.0397557, -0.109299324, 0.02067883, -0.06589263, -0.02548303, 0.047145337, 0.025812438, -0.050848816, -0.029286345, 0.016485428, 0.019534474, -0.0015444261, -0.09707836, 0.057834443, -0.052030716, -0.07276057, -0.022974595, -0.04849527, 0.037715957, 0.0054360055, 0.05249832, -0.06904875, -0.039007757, 0.06398191, -0.012211003, -0.06206117, 0.008734857, 0.02056401, -0.015941814, -0.037768584, 0.051915456, -0.115224816, 0.0491978, 0.032577198, 0.0789644, -0.022982191, -0.03807315, 0.021081323, -0.098893076, -0.04240667, -0.034822382, -0.058777332, -0.0036753374, 0.07288514, 0.065140136, 0.02738111, -0.006346384, -0.08016917, -0.06101624, 0.04572389, -0.04182093, -0.0764031, -0.049313013, -0.07199151, 0.0060312473, 0.031130657, -4.887806e-33, -0.015409777, -0.02206958, -0.059101097, -0.0311512, 0.07233595, -0.04596033, 0.07991001, 0.06813663, -0.020290082, -0.037520435, -0.074066274, 0.05088742, 0.014594612, 0.08036424, -0.077239215, 0.0074362927, -0.024667904, -0.055714265, 0.11553908, 0.017499141, -0.010559584, -0.005977628, -0.06425072, -0.004073513, -0.014527769, 0.046455465, -0.050858576, -0.02711115, 0.07292001, -0.019907717, 0.060263667, -0.077265255, 0.011363992, -0.0070134746, -0.023942683, 0.026593864, 0.069295034, 0.033565238, 0.007292494, -0.04929537, 0.05052691, 0.058418047, 0.05220081, 0.079133034, 0.09192183, -0.014328615, -0.009193562, 0.042895813, -0.063987754, -0.023491591, -0.016107496, -0.039685786, -0.053489886, 0.11598311, -0.0715824, -0.05235985, 0.012687218, -0.028341975, 0.048599657, -0.0100125, 0.05583631, -0.015287275, -0.07983532, -0.03242499, -0.04654036, -0.047535054, 0.06372001, 0.0064229686, -0.05898559, -0.034996495, -0.022107713, 0.0031201323, -0.01673141, -0.09033375, 0.0011564553, -0.006861416, -0.059103355, 0.0647638, 0.058702692, 0.079096794, 0.028301893, 0.051600087, -0.003293334, 0.10416556, 0.06011006, 0.08234312, 0.034119923, 0.026629036, 0.056371436, -0.097162895, 0.0066741393, 0.037914854, -0.07979293, 0.064903565, 0.0028952386, -2.716416e-08, 0.08361709, -0.06312209, -0.07759778, -0.06860648, 0.08325731, 0.013503721, -0.04291638, 0.0028421648, -0.037320886, -0.014566795, -0.0047685336, 0.015230762, -0.044961892, -0.042106252, -0.037139714, 0.06168171, -0.08569286, 0.074783966, -0.028955085, 0.0254584, 0.03836469, 0.06334951, -0.07228731, 0.037777983, 0.0769082, 0.015453523, 0.04018594, -0.08974252, 0.02377097, 0.06288452, -0.024372052, -0.04198066, -0.017917993, -0.026927937, 0.035033546, 0.054718237, 0.028604457, -0.0338726, -0.00068368367, -0.060495704, -0.0066044144, -0.11553532, -0.013309327, -0.010086012, -0.016663454, -0.017515471, -0.079483375, -0.047855563, -0.018224677, 0.08482167, -0.0050779316, -0.075623475, -0.0030952794, -0.02414672, 0.030426782, -0.026527027, 0.07812141, 0.004267608, 0.062237184, 0.020352857, 0.07505984, -0.06503322, 0.09200206, 0.05022132], 'product_title': 'iPhone 6S Plus Case, iPhone 6 Plus Case by Cable And Case - Raised Screen Protector - Compatible Apple iPhone 6S Plus Case with Kick Stand - Phone Cases for iPhone 6s Plus- (RED)'}, '_explanation': {'value': 26.413527, 'description': 'max of:', 'details': [{'value': 4.413379, 'description': 'weight(product_description:iphone in 193974) [PerFieldSimilarity], result of:', 'details': [{'value': 4.413379, 'description': 'score(freq=43.0), computed as boost * idf * tf from:', 'details': [{'value': 1.0780001, 'description': 'boost', 'details': []}, {'value': 4.2405686, 'description': 'idf, computed as log(1 + (N - n + 0.5) / (n + 0.5)) from:', 'details': [{'value': 9298, 'description': 'n, number of documents containing term', 'details': []}, {'value': 645755, 'description': 'N, total number of documents with field', 'details': []}]}, {'value': 0.96544677, 'description': 'tf, computed as freq / (freq + k1 * (1 - b + b * dl / avgdl)) from:', 'details': [{'value': 43.0, 'description': 'freq, occurrences of term within document', 'details': []}, {'value': 1.2, 'description': 'k1, term saturation parameter', 'details': []}, {'value': 0.75, 'description': 'b, length normalization parameter', 'details': []}, {'value': 200.0, 'description': 'dl, length of field (approximate)', 'details': []}, {'value': 145.28264, 'description': 'avgdl, average length of field', 'details': []}]}]}]}, {'value': 26.413527, 'description': 'weight(product_bullet_point:iphone in 193974) [PerFieldSimilarity], result of:', 'details': [{'value': 26.413527, 'description': 'score(freq=49.0), computed as boost * idf * tf from:', 'details': [{'value': 6.6000004, 'description': 'boost', 'details': []}, {'value': 4.169001, 'description': 'idf, computed as log(1 + (N - n + 0.5) / (n + 0.5)) from:', 'details': [{'value': 16040, 'description': 'n, number of documents containing term', 'details': []}, {'value': 1037031, 'description': 'N, total number of documents with field', 'details': []}]}, {'value': 0.95995396, 'description': 'tf, computed as freq / (freq + k1 * (1 - b + b * dl / avgdl)) from:', 'details': [{'value': 49.0, 'description': 'freq, occurrences of term within document', 'details': []}, {'value': 1.2, 'description': 'k1, term saturation parameter', 'details': []}, {'value': 0.75, 'description': 'b, length normalization parameter', 'details': []}, {'value': 216.0, 'description': 'dl, length of field (approximate)', 'details': []}, {'value': 111.460526, 'description': 'avgdl, average length of field', 'details': []}]}]}]}, {'value': 3.2743402, 'description': 'weight(product_title:iphone in 193974) [PerFieldSimilarity], result of:', 'details': [{'value': 3.2743402, 'description': 'score(freq=4.0), computed as boost * idf * tf from:', 'details': [{'value': 1.122, 'description': 'boost', 'details': []}, {'value': 4.3371625, 'description': 'idf, computed as log(1 + (N - n + 0.5) / (n + 0.5)) from:', 'details': [{'value': 15895, 'description': 'n, number of documents containing term', 'details': []}, {'value': 1215849, 'description': 'N, total number of documents with field', 'details': []}]}, {'value': 0.6728608, 'description': 'tf, computed as freq / (freq + k1 * (1 - b + b * dl / avgdl)) from:', 'details': [{'value': 4.0, 'description': 'freq, occurrences of term within document', 'details': []}, {'value': 1.2, 'description': 'k1, term saturation parameter', 'details': []}, {'value': 0.75, 'description': 'b, length normalization parameter', 'details': []}, {'value': 31.0, 'description': 'dl, length of field', 'details': []}, {'value': 16.9629, 'description': 'avgdl, average length of field', 'details': []}]}]}]}]}}, {'_shard': '[ecommerce][0]', '_node': 'RsKfw9aKSqyvO8W6Rey7TA', '_index': 'ecommerce', '_id': 'B0868KSLKM', '_score': 26.411598, '_source': {'product_bullet_point': 'Brand:double-june,Type:Fitted Case,Compatible Brand:for apple for iPhones,Compatible for iPhone Model:for iPhone 6\\nCompatible for iPhone Model:for iPhone 6 Plus,Compatible for iPhone Model:for iPhone 6S,Compatible for iPhone Model:for iPhone 6s plus,Compatible for iPhone Model:for iPhone 7,Compatible for iPhone Model:for iPhone 7 Plus\\nCompatible for iPhone Model:for iPhone 8 PLUS,Compatible for iPhone Model:for iPhone 8,Compatible for iPhone Model:for iPhone X,Compatible for iPhone Model:for iPhone XS MAX,Compatible for iPhone Model:for iPhone XR\\nCompatible for iPhone Model:for iPhone xs,Design:Matte,Design:Animal,Function:Dirt-resistant,Function:Anti-knock\\nApplicable type:for iPhone 6/6s,for iPhone 6 /6sPlus,for iPhone 7/8,for iPhone 7 8Plus,for iPhone X XS Max,Texture of material:Silicone soft,Applicable product:for iPhone 6/6s,for iPhone 6 /6sPlus,for iPhone 7/8,for iPhone 7 8Plus,for iPhone X XS Max,Popular element:Kawaii Japanese Strawberry Milk Drink Bottle,model:Back cover type', 'product_id': 'B0868KSLKM', 'product_locale': 'us', 'product_color': 'A', 'product_brand': 'double-june', 'product_description': 'Brand:double-june<br>Type:Fitted Case<br>Compatible Brand:for apple for iPhones<br>Compatible for iPhone Model:for iPhone 6<br>Compatible for iPhone Model:for iPhone 6 Plus<br>Compatible for iPhone Model:for iPhone 6S<br>Compatible for iPhone Model:for iPhone 6s plus<br>Compatible for iPhone Model:for iPhone 7<br>Compatible for iPhone Model:for iPhone 7 Plus<br>Compatible for iPhone Model:for iPhone 8 PLUS<br>Compatible for iPhone Model:for iPhone 8<br>Compatible for iPhone Model:for iPhone X<br>Compatible for iPhone Model:for iPhone XS MAX<br>Compatible for iPhone Model:for iPhone XR<br>Compatible for iPhone Model:for iPhone xs<br>Design:Matte<br>Design:Animal<br>Function:Dirt-resistant<br>Function:Anti-knock<br>Applicable type:for iPhone 6/6s,for iPhone 6 /6sPlus,for iPhone 7/8,for iPhone 7 8Plus,for iPhone X XS Max<br>Texture of material:Silicone soft<br>Applicable product:for iPhone 6/6s,for iPhone 6 /6sPlus,for iPhone 7/8,for iPhone 7 8Plus,for iPhone X XS Max<br>Popular element:Kawaii Japanese Strawberry Milk Drink Bottle<br>model:Back cover type', 'title_embedding': [-0.094882384, -0.028723633, 0.028943773, -0.0460513, -0.0020253558, 0.041003622, 0.028476542, 0.070637226, -0.039100613, 0.021182697, 0.095796354, 0.019771585, -0.021969862, 0.017366385, 0.08683122, -0.007375909, 0.007360499, -0.029300135, -0.016080886, -0.014159526, -0.00038686255, -0.045050804, 0.07886941, 0.022167, -0.03528995, 0.026494807, 0.0025012312, -0.03038002, 0.02437648, -0.030501666, -0.023558518, 0.026765766, 0.03793429, 0.01354316, 0.08772025, -0.02003258, 0.017079197, -0.008743859, 0.06360728, -0.043689217, -0.04132366, -0.04602835, 0.013796093, 0.059864067, -0.011162565, -0.032830276, -0.019234208, 0.06661991, 0.0057053273, 0.09998763, 0.06639464, -0.09316376, -0.0054633142, 0.040019453, 0.026437204, -0.0076100086, -0.021476401, 0.043261193, 0.083485775, 0.058962513, 0.030716736, -0.029959057, 0.040307704, 0.05471402, 0.01365706, -0.01776872, -0.09561856, -0.003072274, -0.07949175, 0.025134183, 0.048764754, 0.015600118, 0.012890491, -0.052671697, -0.03368076, 0.018989854, 0.009496926, -0.06701381, -0.13044015, 0.119688936, 0.0020672376, -0.046588145, -0.029832697, -0.08759504, 0.007979191, -0.040118482, -0.012602438, -0.021073049, -0.06325902, -0.06674542, -0.028240068, 0.06921718, 0.017643085, -0.047422312, -0.05182386, -0.01627651, -0.01579439, -0.022065336, -0.00077337277, 0.01238378, 0.0467252, -0.05345415, 0.052613188, -0.011496631, 0.09696182, -0.024212956, -0.1147292, -0.07710483, 0.03480058, 0.044170327, -0.10656165, -0.025868885, -0.046261173, 0.02493713, -0.051130403, -0.07142556, 0.019089472, 0.06851148, 0.07178262, -0.043129075, -0.01807793, -0.004580641, -0.029372033, -0.020393943, -0.060425274, -0.0040818523, -0.052850574, 7.166121e-33, 0.02512929, -0.03412749, -0.027160032, 0.020248713, 0.06216004, -0.03441849, -0.03384048, -0.031457007, 0.031136027, 0.016262693, -0.02969364, -0.004315105, -0.017748455, -0.041449998, -0.001709086, -0.042221803, -0.03766803, -0.0015287222, 0.042757906, -0.06091643, -0.011632383, -0.048118096, -0.029153178, 0.0707249, -0.0942542, 0.04246087, 0.11887023, -0.015315974, 0.0687496, -0.0061710435, -0.035446364, -0.05509755, 0.0026354808, 0.070564464, -0.009148601, 0.047468245, 0.011232675, 0.004593079, 0.09756049, 0.014127667, -0.11044808, 0.034629308, 0.025044667, -0.0019265733, 0.0020976758, 0.055476863, -0.06803994, -0.05415518, 0.06363682, -0.091369644, -0.06652883, -0.12068153, -0.06717046, 0.013714193, -0.035122875, -0.051874578, -0.0018024943, -0.0034892485, -0.051224794, 0.045651924, 0.013837798, -0.04227895, 0.023962053, -0.00063844724, -0.04524341, 0.017796613, 0.027363433, -0.13160564, 0.010806392, 0.05113489, -0.037017073, 0.055822883, 0.076508954, 0.008298621, 0.077503055, -0.033727374, 0.08975487, -0.04480557, -0.027384607, 0.009444625, -0.03962652, 0.07143103, 0.045389734, 0.09363562, -0.016923822, -0.035978954, -0.115700915, -0.034671217, 0.022565715, -0.05412683, -0.080795676, -0.045906525, 0.034161523, -0.0099238595, 0.038715214, -7.547771e-33, 0.01575443, -0.066884145, 0.05249111, -0.0115536945, 0.05951308, -0.039316222, 0.057135064, 0.14786597, 0.0076928204, -0.046255644, -0.04034925, 0.057309918, -0.0031857388, 0.10478792, -0.026799107, 0.12163326, 0.01917303, -0.01911696, 0.052129675, -0.009997414, 0.057024363, -0.011950412, -0.0066799326, 0.0013781169, -0.021865988, 0.012532335, 0.018399835, -0.07865019, 0.025499944, 0.04145037, -0.035477698, -0.11260562, -0.09479598, 0.061846614, -0.05097911, -0.055445854, 0.020824019, 0.0032503214, -0.04331971, -0.017901054, 0.029164337, 0.02196852, 0.012685833, 0.05561743, -0.00017143569, -0.039706517, 0.053198446, 0.009291176, 0.044902034, 0.011139472, 0.0021680777, -0.0016094882, 0.022925941, 0.06277639, -0.08329115, -0.05682398, 0.045012224, -0.06997189, -0.0090842005, -0.01946704, 0.04833364, 0.039056636, -0.032082304, -0.046174496, -0.10087378, -0.034355823, 0.021097062, -0.041124843, -0.039506998, -0.015308432, -0.005917827, -0.022344204, -0.07443999, 0.030347323, 0.0031800703, -0.0060771545, -0.03436473, 0.050194625, 0.031804048, 0.040113002, 0.02033423, 0.061143424, -0.05217947, 0.08719604, 0.12364365, 0.05831012, 0.05969989, 0.034968536, 0.04774798, -0.029553529, -0.02987241, 0.050499804, -0.00023951945, 0.04499375, 0.016659066, -3.049851e-08, 0.079913564, -0.07951228, -0.041333374, -0.022413077, 0.048291594, -0.011724759, -0.1479678, -0.023596859, 0.09122869, -0.020685596, -0.057955608, 0.051773213, -0.065060474, 0.013585396, -0.12158178, 0.062289145, 0.04285915, 0.11548029, 0.01782846, 0.052024834, -0.07027599, 0.033096585, 0.02303718, -0.011168247, -0.03683159, 0.05153136, -0.03547775, -0.05088698, 0.0059320102, -0.0041049677, 0.010891105, 0.038713396, -0.023539847, -0.07615311, 0.0444805, 0.036660556, -0.021150177, -0.00027016332, -0.07310613, -0.026616663, 0.017301949, -0.14411335, 0.021698711, 0.0031093, 0.04418909, -0.034114685, 0.0021436235, -0.057694122, 0.039530724, 0.10527044, -0.03862764, -0.08064658, 0.01736442, -0.005385663, 0.04725647, 0.028481213, 0.04542316, -0.038214628, 0.023124127, 0.06732161, 0.08852465, -0.0057680393, 0.050159186, 0.030005945], 'product_title': 'Double-June Kawaii Japanese Strawberry Milk Drink Bottle Phone Case for iPhone 11 Pro Max 6S 7 8 Puls X Xs Max Xr Cases Soft-A-for iPhone 11 Pro'}, '_explanation': {'value': 26.411598, 'description': 'max of:', 'details': [{'value': 4.402682, 'description': 'weight(product_description:iphone in 189709) [PerFieldSimilarity], result of:', 'details': [{'value': 4.402682, 'description': 'score(freq=35.0), computed as boost * idf * tf from:', 'details': [{'value': 1.0780001, 'description': 'boost', 'details': []}, {'value': 4.2405686, 'description': 'idf, computed as log(1 + (N - n + 0.5) / (n + 0.5)) from:', 'details': [{'value': 9298, 'description': 'n, number of documents containing term', 'details': []}, {'value': 645755, 'description': 'N, total number of documents with field', 'details': []}]}, {'value': 0.9631067, 'description': 'tf, computed as freq / (freq + k1 * (1 - b + b * dl / avgdl)) from:', 'details': [{'value': 35.0, 'description': 'freq, occurrences of term within document', 'details': []}, {'value': 1.2, 'description': 'k1, term saturation parameter', 'details': []}, {'value': 0.75, 'description': 'b, length normalization parameter', 'details': []}, {'value': 168.0, 'description': 'dl, length of field (approximate)', 'details': []}, {'value': 145.28264, 'description': 'avgdl, average length of field', 'details': []}]}]}]}, {'value': 26.411598, 'description': 'weight(product_bullet_point:iphone in 189709) [PerFieldSimilarity], result of:', 'details': [{'value': 26.411598, 'description': 'score(freq=35.0), computed as boost * idf * tf from:', 'details': [{'value': 6.6000004, 'description': 'boost', 'details': []}, {'value': 4.169001, 'description': 'idf, computed as log(1 + (N - n + 0.5) / (n + 0.5)) from:', 'details': [{'value': 16040, 'description': 'n, number of documents containing term', 'details': []}, {'value': 1037031, 'description': 'N, total number of documents with field', 'details': []}]}, {'value': 0.95988387, 'description': 'tf, computed as freq / (freq + k1 * (1 - b + b * dl / avgdl)) from:', 'details': [{'value': 35.0, 'description': 'freq, occurrences of term within document', 'details': []}, {'value': 1.2, 'description': 'k1, term saturation parameter', 'details': []}, {'value': 0.75, 'description': 'b, length normalization parameter', 'details': []}, {'value': 144.0, 'description': 'dl, length of field (approximate)', 'details': []}, {'value': 111.460526, 'description': 'avgdl, average length of field', 'details': []}]}]}]}, {'value': 2.5008533, 'description': 'weight(product_title:iphone in 189709) [PerFieldSimilarity], result of:', 'details': [{'value': 2.5008533, 'description': 'score(freq=2.0), computed as boost * idf * tf from:', 'details': [{'value': 1.122, 'description': 'boost', 'details': []}, {'value': 4.3371625, 'description': 'idf, computed as log(1 + (N - n + 0.5) / (n + 0.5)) from:', 'details': [{'value': 15895, 'description': 'n, number of documents containing term', 'details': []}, {'value': 1215849, 'description': 'N, total number of documents with field', 'details': []}]}, {'value': 0.5139131, 'description': 'tf, computed as freq / (freq + k1 * (1 - b + b * dl / avgdl)) from:', 'details': [{'value': 2.0, 'description': 'freq, occurrences of term within document', 'details': []}, {'value': 1.2, 'description': 'k1, term saturation parameter', 'details': []}, {'value': 0.75, 'description': 'b, length normalization parameter', 'details': []}, {'value': 30.0, 'description': 'dl, length of field', 'details': []}, {'value': 16.9629, 'description': 'avgdl, average length of field', 'details': []}]}]}]}]}}, {'_shard': '[ecommerce][0]', '_node': 'RsKfw9aKSqyvO8W6Rey7TA', '_index': 'ecommerce', '_id': 'B0868L2WX8', '_score': 26.411598, '_source': {'product_bullet_point': 'Brand:double-june,Type:Fitted Case,Compatible Brand:for apple for iPhones,Compatible for iPhone Model:for iPhone 6\\nCompatible for iPhone Model:for iPhone 6 Plus,Compatible for iPhone Model:for iPhone 6S,Compatible for iPhone Model:for iPhone 6s plus,Compatible for iPhone Model:for iPhone 7,Compatible for iPhone Model:for iPhone 7 Plus\\nCompatible for iPhone Model:for iPhone 8 PLUS,Compatible for iPhone Model:for iPhone 8,Compatible for iPhone Model:for iPhone X,Compatible for iPhone Model:for iPhone XS MAX,Compatible for iPhone Model:for iPhone XR\\nCompatible for iPhone Model:for iPhone xs,Design:Matte,Design:Animal,Function:Dirt-resistant,Function:Anti-knock\\nApplicable type:for iPhone 6/6s,for iPhone 6 /6sPlus,for iPhone 7/8,for iPhone 7 8Plus,for iPhone X XS Max,Texture of material:Silicone soft,Applicable product:for iPhone 6/6s,for iPhone 6 /6sPlus,for iPhone 7/8,for iPhone 7 8Plus,for iPhone X XS Max,Popular element:Kawaii Japanese Strawberry Milk Drink Bottle,model:Back cover type', 'product_id': 'B0868L2WX8', 'product_locale': 'us', 'product_color': 'A', 'product_brand': 'double-june', 'product_description': 'Brand:double-june<br>Type:Fitted Case<br>Compatible Brand:for apple for iPhones<br>Compatible for iPhone Model:for iPhone 6<br>Compatible for iPhone Model:for iPhone 6 Plus<br>Compatible for iPhone Model:for iPhone 6S<br>Compatible for iPhone Model:for iPhone 6s plus<br>Compatible for iPhone Model:for iPhone 7<br>Compatible for iPhone Model:for iPhone 7 Plus<br>Compatible for iPhone Model:for iPhone 8 PLUS<br>Compatible for iPhone Model:for iPhone 8<br>Compatible for iPhone Model:for iPhone X<br>Compatible for iPhone Model:for iPhone XS MAX<br>Compatible for iPhone Model:for iPhone XR<br>Compatible for iPhone Model:for iPhone xs<br>Design:Matte<br>Design:Animal<br>Function:Dirt-resistant<br>Function:Anti-knock<br>Applicable type:for iPhone 6/6s,for iPhone 6 /6sPlus,for iPhone 7/8,for iPhone 7 8Plus,for iPhone X XS Max<br>Texture of material:Silicone soft<br>Applicable product:for iPhone 6/6s,for iPhone 6 /6sPlus,for iPhone 7/8,for iPhone 7 8Plus,for iPhone X XS Max<br>Popular element:Kawaii Japanese Strawberry Milk Drink Bottle<br>model:Back cover type', 'title_embedding': [-0.090961866, -0.028590035, 0.04670303, -0.032977697, 0.0054213367, 0.03427096, 0.047627848, 0.06563684, -0.03140669, 0.021432547, 0.10230113, 0.018602397, -0.019611033, 0.022097101, 0.07952796, -0.00084137067, 0.003930063, -0.039712694, -0.01065968, -0.0072662225, 0.013458639, -0.04101927, 0.050099775, 0.031851538, -0.029723918, 0.037361003, 0.011812502, -0.045864433, 0.023658348, -0.03614257, -0.039737128, 0.0342707, 0.04234099, -0.0029440986, 0.06902118, -0.0068052714, 0.044639505, -0.012033094, 0.059844427, -0.045267105, -0.04075413, -0.05384268, 0.02399976, 0.07199656, -0.018135272, -0.036626596, -0.0071213916, 0.06160364, 0.005464455, 0.10605958, 0.06223516, -0.0994064, 0.00028840158, 0.026689658, 0.03867004, -0.007263004, -0.025567645, 0.040424474, 0.06755562, 0.058123622, 0.023132298, -0.015997007, 0.051826414, 0.07504752, 0.0101778405, -0.005190866, -0.08942438, -0.0128942225, -0.08224288, 0.028874863, 0.041930012, 0.012086031, 0.013195067, -0.050053816, -0.045917004, 0.017456714, 0.029426342, -0.07470613, -0.115240395, 0.114835456, -0.00885635, -0.04956196, -0.032261934, -0.08660021, -0.006309864, -0.035218075, -0.01636886, -0.032786097, -0.05402924, -0.059353694, -0.029523822, 0.06942018, 0.023124553, -0.049885932, -0.058367483, -0.022319758, -0.011537903, -0.012331122, 0.001765859, 0.0079919705, 0.048830826, -0.044518832, 0.041502506, 0.0016666042, 0.091897815, -0.05400489, -0.12422859, -0.07582716, 0.02094477, 0.041576054, -0.10457996, -0.037461232, -0.042148568, 0.022102382, -0.054552257, -0.07273316, 0.031831335, 0.059923414, 0.0678076, -0.038216446, -0.015589071, 0.0022614007, -0.040749613, -0.027527949, -0.054119464, -0.01134811, -0.049374096, 5.9838588e-33, -0.0143008325, -0.023658073, -0.014057557, 0.0057223854, 0.057676516, -0.054757953, -0.014133414, -0.032990385, 0.023850558, 0.03318668, -0.03133274, 0.00078848907, -0.023078628, -0.054765053, 0.0069019143, -0.041464757, -0.044288915, 0.0082891015, 0.031502526, -0.040990695, -0.0013680564, -0.04226442, -0.038749825, 0.058985654, -0.088821314, 0.045738395, 0.12817332, -0.029292012, 0.055283386, -0.0152861, -0.034849502, -0.041306674, 0.00064922054, 0.06396162, -0.010017405, 0.054713707, 0.007067983, 0.005485767, 0.08658951, 0.025887854, -0.10725014, 0.024504349, 0.015654396, -0.0044888933, 6.393732e-05, 0.060237866, -0.08250531, -0.054898646, 0.063018546, -0.10211085, -0.061949268, -0.11266181, -0.06137684, 0.031191451, -0.013506682, -0.046183843, -0.007711599, -0.012217384, -0.062566355, 0.054775327, 0.021721212, -0.05021545, 0.018876027, -0.024819681, -0.05690552, 0.02102335, 0.037594993, -0.14612956, 0.0108439755, 0.04885888, -0.040189955, 0.055221073, 0.08133023, 0.0030925437, 0.08096381, -0.03793494, 0.07697539, -0.02929002, -0.021735419, 0.012171413, -0.04256277, 0.056157045, 0.053526785, 0.09964939, -0.0077946265, -0.025900904, -0.10264705, -0.007703395, 0.027381655, -0.054796677, -0.09514193, -0.055024225, 0.017306967, -0.018470524, 0.02181943, -6.531923e-33, 0.017055608, -0.067922994, 0.07085018, 0.008087516, 0.06481594, -0.037156828, 0.044302996, 0.15268047, 0.01683552, -0.04189642, -0.031856336, 0.076965235, 0.0009801304, 0.11011082, -0.026943127, 0.13216664, 0.025159685, -0.018554797, 0.035658475, -0.01183926, 0.044231035, -0.0091036605, -0.005245169, 0.011642694, -0.00931673, 0.012472792, 0.018398033, -0.07863252, 0.03187668, 0.024716368, -0.04524063, -0.114430286, -0.07004357, 0.055616003, -0.0325568, -0.061808947, 0.01210068, 0.019270936, -0.04950131, -0.011702875, 0.019418735, 0.037277117, 0.028443314, 0.06702984, -0.0038675282, -0.03681328, 0.042228103, 0.01567755, 0.043716807, 0.011312912, 0.0024063475, -0.015534782, 0.019121576, 0.0695149, -0.08804823, -0.047591988, 0.030896008, -0.054337867, -0.008203939, -0.016058622, 0.04119902, 0.026889442, -0.02413498, -0.05515106, -0.08581798, -0.046361618, 0.015077569, -0.027493164, -0.0475922, -0.030191272, 0.000112440684, -0.027726574, -0.062482156, 0.023598, 0.006319261, -0.01001341, -0.040232044, 0.04141589, 0.040918723, 0.035838194, 0.02432608, 0.07178333, -0.045667026, 0.09688138, 0.11667332, 0.06162597, 0.06851836, 0.034873407, 0.0509793, -0.04961534, -0.03730382, 0.04511662, -0.010737521, 0.031075008, 0.017150316, -3.169725e-08, 0.07602084, -0.07963924, -0.055346455, -0.016346874, 0.03882344, 0.004354508, -0.15387908, -0.031241372, 0.11012491, -0.011081865, -0.048506808, 0.034402274, -0.04895274, 0.01882222, -0.12529929, 0.05099984, 0.044258103, 0.12889276, 0.02234018, 0.048115328, -0.07146049, 0.03194836, 0.019814074, -0.02135112, -0.028869465, 0.0533619, -0.034093056, -0.055683997, 0.010207763, 0.0010737542, -0.006707676, 0.050304055, -0.023790365, -0.04671672, 0.041510995, 0.036650125, -0.044755787, 0.00054675585, -0.057001736, -0.01491266, 0.0024384062, -0.15391913, 0.03233131, 0.0007217998, 0.03030838, -0.036506455, 0.013306047, -0.069891155, 0.033939127, 0.09454572, -0.031143613, -0.07585606, 0.020139467, -0.022763407, 0.0570346, 0.037336864, 0.048451338, -0.040373474, 0.018366113, 0.06042556, 0.09133533, -0.006332487, 0.055093467, 0.039223913], 'product_title': 'Double-June Kawaii Japanese Strawberry Milk Drink Bottle Phone Case for iPhone 11 Pro Max 6S 7 8 Puls X Xs Max Xr Cases Soft-A-for iPhone Xs(5.8)'}, '_explanation': {'value': 26.411598, 'description': 'max of:', 'details': [{'value': 4.402682, 'description': 'weight(product_description:iphone in 189710) [PerFieldSimilarity], result of:', 'details': [{'value': 4.402682, 'description': 'score(freq=35.0), computed as boost * idf * tf from:', 'details': [{'value': 1.0780001, 'description': 'boost', 'details': []}, {'value': 4.2405686, 'description': 'idf, computed as log(1 + (N - n + 0.5) / (n + 0.5)) from:', 'details': [{'value': 9298, 'description': 'n, number of documents containing term', 'details': []}, {'value': 645755, 'description': 'N, total number of documents with field', 'details': []}]}, {'value': 0.9631067, 'description': 'tf, computed as freq / (freq + k1 * (1 - b + b * dl / avgdl)) from:', 'details': [{'value': 35.0, 'description': 'freq, occurrences of term within document', 'details': []}, {'value': 1.2, 'description': 'k1, term saturation parameter', 'details': []}, {'value': 0.75, 'description': 'b, length normalization parameter', 'details': []}, {'value': 168.0, 'description': 'dl, length of field (approximate)', 'details': []}, {'value': 145.28264, 'description': 'avgdl, average length of field', 'details': []}]}]}]}, {'value': 26.411598, 'description': 'weight(product_bullet_point:iphone in 189710) [PerFieldSimilarity], result of:', 'details': [{'value': 26.411598, 'description': 'score(freq=35.0), computed as boost * idf * tf from:', 'details': [{'value': 6.6000004, 'description': 'boost', 'details': []}, {'value': 4.169001, 'description': 'idf, computed as log(1 + (N - n + 0.5) / (n + 0.5)) from:', 'details': [{'value': 16040, 'description': 'n, number of documents containing term', 'details': []}, {'value': 1037031, 'description': 'N, total number of documents with field', 'details': []}]}, {'value': 0.95988387, 'description': 'tf, computed as freq / (freq + k1 * (1 - b + b * dl / avgdl)) from:', 'details': [{'value': 35.0, 'description': 'freq, occurrences of term within document', 'details': []}, {'value': 1.2, 'description': 'k1, term saturation parameter', 'details': []}, {'value': 0.75, 'description': 'b, length normalization parameter', 'details': []}, {'value': 144.0, 'description': 'dl, length of field (approximate)', 'details': []}, {'value': 111.460526, 'description': 'avgdl, average length of field', 'details': []}]}]}]}, {'value': 2.5008533, 'description': 'weight(product_title:iphone in 189710) [PerFieldSimilarity], result of:', 'details': [{'value': 2.5008533, 'description': 'score(freq=2.0), computed as boost * idf * tf from:', 'details': [{'value': 1.122, 'description': 'boost', 'details': []}, {'value': 4.3371625, 'description': 'idf, computed as log(1 + (N - n + 0.5) / (n + 0.5)) from:', 'details': [{'value': 15895, 'description': 'n, number of documents containing term', 'details': []}, {'value': 1215849, 'description': 'N, total number of documents with field', 'details': []}]}, {'value': 0.5139131, 'description': 'tf, computed as freq / (freq + k1 * (1 - b + b * dl / avgdl)) from:', 'details': [{'value': 2.0, 'description': 'freq, occurrences of term within document', 'details': []}, {'value': 1.2, 'description': 'k1, term saturation parameter', 'details': []}, {'value': 0.75, 'description': 'b, length normalization parameter', 'details': []}, {'value': 30.0, 'description': 'dl, length of field', 'details': []}, {'value': 16.9629, 'description': 'avgdl, average length of field', 'details': []}]}]}]}]}}, {'_shard': '[ecommerce][0]', '_node': 'RsKfw9aKSqyvO8W6Rey7TA', '_index': 'ecommerce', '_id': 'B0868L65Y7', '_score': 26.411598, '_source': {'product_bullet_point': 'Brand:double-june,Type:Fitted Case,Compatible Brand:for apple for iPhones,Compatible for iPhone Model:for iPhone 6\\nCompatible for iPhone Model:for iPhone 6 Plus,Compatible for iPhone Model:for iPhone 6S,Compatible for iPhone Model:for iPhone 6s plus,Compatible for iPhone Model:for iPhone 7,Compatible for iPhone Model:for iPhone 7 Plus\\nCompatible for iPhone Model:for iPhone 8 PLUS,Compatible for iPhone Model:for iPhone 8,Compatible for iPhone Model:for iPhone X,Compatible for iPhone Model:for iPhone XS MAX,Compatible for iPhone Model:for iPhone XR\\nCompatible for iPhone Model:for iPhone xs,Design:Matte,Design:Animal,Function:Dirt-resistant,Function:Anti-knock\\nApplicable type:for iPhone 6/6s,for iPhone 6 /6sPlus,for iPhone 7/8,for iPhone 7 8Plus,for iPhone X XS Max,Texture of material:Silicone soft,Applicable product:for iPhone 6/6s,for iPhone 6 /6sPlus,for iPhone 7/8,for iPhone 7 8Plus,for iPhone X XS Max,Popular element:Kawaii Japanese Strawberry Milk Drink Bottle,model:Back cover type', 'product_id': 'B0868L65Y7', 'product_locale': 'us', 'product_color': 'A', 'product_brand': 'double-june', 'product_description': 'Brand:double-june<br>Type:Fitted Case<br>Compatible Brand:for apple for iPhones<br>Compatible for iPhone Model:for iPhone 6<br>Compatible for iPhone Model:for iPhone 6 Plus<br>Compatible for iPhone Model:for iPhone 6S<br>Compatible for iPhone Model:for iPhone 6s plus<br>Compatible for iPhone Model:for iPhone 7<br>Compatible for iPhone Model:for iPhone 7 Plus<br>Compatible for iPhone Model:for iPhone 8 PLUS<br>Compatible for iPhone Model:for iPhone 8<br>Compatible for iPhone Model:for iPhone X<br>Compatible for iPhone Model:for iPhone XS MAX<br>Compatible for iPhone Model:for iPhone XR<br>Compatible for iPhone Model:for iPhone xs<br>Design:Matte<br>Design:Animal<br>Function:Dirt-resistant<br>Function:Anti-knock<br>Applicable type:for iPhone 6/6s,for iPhone 6 /6sPlus,for iPhone 7/8,for iPhone 7 8Plus,for iPhone X XS Max<br>Texture of material:Silicone soft<br>Applicable product:for iPhone 6/6s,for iPhone 6 /6sPlus,for iPhone 7/8,for iPhone 7 8Plus,for iPhone X XS Max<br>Popular element:Kawaii Japanese Strawberry Milk Drink Bottle<br>model:Back cover type', 'title_embedding': [-0.08990029, -0.018197186, 0.050911278, -0.023398358, -0.010916093, 0.04714828, 0.024572864, 0.0907686, -0.034887407, 0.016716417, 0.098491, 0.008827653, -0.022175802, 0.025528247, 0.08540643, 0.008517712, 0.0035995317, -0.035423595, -0.034425203, -0.016412875, 0.0062536667, -0.042107157, 0.06391056, 0.034173097, -0.0316977, 0.03375239, 0.012070867, -0.044059392, 0.016525593, -0.03557963, -0.023379534, 0.029539725, 0.04616527, 0.01615434, 0.08548743, -0.00046091137, 0.031833734, -0.008505823, 0.069276504, -0.03945024, -0.03763987, -0.045542374, 0.014610451, 0.0588169, -0.008012941, -0.028760744, 0.0010178217, 0.07362023, 0.018453687, 0.09495503, 0.059758473, -0.09851399, -0.0017351039, 0.03395115, 0.03515627, -0.012562389, -0.013253961, 0.041620586, 0.08629184, 0.06716283, 0.015150541, -0.02626341, 0.050494127, 0.0712625, 0.00979286, -0.024579432, -0.08549028, -0.0048158458, -0.085333236, 0.04126391, 0.051174484, 0.012462204, 0.009138401, -0.04049685, -0.035205822, 0.023176702, 0.012958021, -0.06472278, -0.116498224, 0.11486931, 0.0028439872, -0.0558263, -0.017864965, -0.09161261, 0.0036274928, -0.037312433, -0.025676899, -0.027429676, -0.05722359, -0.0639941, -0.035783213, 0.07126357, 0.018476417, -0.05316135, -0.055400845, -0.014796924, -0.01899898, -0.028072765, -0.00035715933, 0.009354719, 0.05793004, -0.061693024, 0.03190324, 0.012936783, 0.110844925, -0.036124974, -0.108981036, -0.0847236, 0.024185568, 0.04030663, -0.09549873, -0.019309277, -0.030247474, 0.01893104, -0.04640025, -0.07328789, 0.019868676, 0.07299351, 0.06678071, -0.030156795, -0.027339555, 0.005280543, -0.021914726, -0.031409796, -0.062345803, -0.0072534904, -0.057774797, 7.0789585e-33, 0.00800693, -0.024264736, -0.027513184, 0.0044173966, 0.06572743, -0.065170504, -0.022444844, -0.03646403, 0.031100685, 0.023684585, -0.03564118, -0.0026619895, -0.017831335, -0.046729647, 0.0027909116, -0.03367206, -0.035589565, -0.0018863803, 0.034134995, -0.058508053, -0.02349021, -0.045803946, -0.021625718, 0.06500641, -0.09284636, 0.045816585, 0.13066661, -0.026688915, 0.061608043, -0.022681504, -0.03215055, -0.037070427, -0.010546023, 0.0611059, -0.006226993, 0.027080692, 0.0067634154, 0.0009516185, 0.08761055, 0.031853873, -0.09679527, 0.033532605, 0.02809257, 0.00077050074, 0.005532867, 0.054347537, -0.08693955, -0.067216754, 0.07072651, -0.082514666, -0.049457476, -0.10625331, -0.070639394, 0.015245627, -0.03776289, -0.054376528, -0.00092875323, -0.0029754553, -0.047005214, 0.040229887, 0.018924404, -0.043322373, 0.026064474, -0.034614515, -0.05563486, 0.016713811, 0.01702961, -0.13404183, 0.012387118, 0.04059881, -0.0296805, 0.05202121, 0.07879891, 0.011913014, 0.07880393, -0.035165004, 0.07113429, -0.033883628, -0.02292276, 0.014466219, -0.035676498, 0.06447179, 0.055150196, 0.09544402, -0.008729712, -0.04526245, -0.094208345, -0.02818099, 0.018831791, -0.05626097, -0.09483919, -0.051249336, 0.02801707, -0.013290385, 0.03375723, -7.512891e-33, 0.010612845, -0.05735685, 0.062685736, -0.017995052, 0.0819849, -0.046484534, 0.04356819, 0.14010426, 0.0050742636, -0.046941258, -0.043301735, 0.06895485, 0.021994162, 0.1031347, -0.033029594, 0.11723357, 0.01801121, -0.013353967, 0.054311547, -0.027148766, 0.048243605, -0.012132719, -0.008069225, 0.01680503, -0.013611545, -0.011824496, 0.007978206, -0.07908938, 0.03672427, 0.035185438, -0.014817497, -0.109114595, -0.086885445, 0.07155033, -0.046920385, -0.059067946, 0.017112382, -0.0026477803, -0.04031965, -0.017600017, 0.031818297, 0.013175764, 0.023132797, 0.075845204, -0.013391545, -0.023111284, 0.052451987, 0.0049872664, 0.029112075, 0.021078004, 0.011667543, 0.0017803046, 0.012723812, 0.054984618, -0.090316124, -0.05510318, 0.03758633, -0.077092685, 0.0040423614, -0.02292612, 0.049903642, 0.024719335, -0.026967283, -0.0490273, -0.1017855, -0.020236447, 0.014146046, -0.037730772, -0.05649995, -0.026353821, 0.0029243648, -0.024888724, -0.06979169, 0.03604815, 0.018882263, -0.0070235743, -0.037353188, 0.044258654, 0.03948965, 0.042527787, 0.014377156, 0.061092235, -0.04003971, 0.08803033, 0.11959012, 0.053213153, 0.06706149, 0.014957549, 0.043915294, -0.024641609, -0.026420597, 0.03775814, -0.0009935914, 0.04814723, 0.014673227, -3.04794e-08, 0.08319738, -0.0936901, -0.04399081, -0.025284017, 0.050869092, -0.024297884, -0.1477699, -0.02646824, 0.084968604, -0.018584425, -0.055749074, 0.039439034, -0.06439476, 0.015653115, -0.11638732, 0.05175704, 0.051911496, 0.12566565, 0.02234805, 0.04787241, -0.06413555, 0.032470517, 0.025113568, -0.0085378615, -0.01820537, 0.06618733, -0.044205856, -0.052834027, 0.0024214215, -0.0037444937, 0.020884326, 0.05311048, -0.022351766, -0.057799496, 0.036842577, 0.025896132, -0.040683616, 0.0021546977, -0.07462222, -0.028274802, 0.0083940225, -0.15680614, 0.030644652, 0.003613184, 0.04132227, -0.034153983, 0.008050782, -0.061070114, 0.04564877, 0.09485195, -0.035663582, -0.09486668, 0.025730163, -0.013812887, 0.054438345, 0.005579752, 0.0497991, -0.044887688, 0.026993727, 0.05390223, 0.097959004, -0.008789817, 0.06431316, 0.022111867], 'product_title': 'Double-June Kawaii Japanese Strawberry Milk Drink Bottle Phone Case for iPhone 11 Pro Max 6S 7 8 Puls X Xs Max Xr Cases Soft-A-for iPhone 8'}, '_explanation': {'value': 26.411598, 'description': 'max of:', 'details': [{'value': 4.402682, 'description': 'weight(product_description:iphone in 189711) [PerFieldSimilarity], result of:', 'details': [{'value': 4.402682, 'description': 'score(freq=35.0), computed as boost * idf * tf from:', 'details': [{'value': 1.0780001, 'description': 'boost', 'details': []}, {'value': 4.2405686, 'description': 'idf, computed as log(1 + (N - n + 0.5) / (n + 0.5)) from:', 'details': [{'value': 9298, 'description': 'n, number of documents containing term', 'details': []}, {'value': 645755, 'description': 'N, total number of documents with field', 'details': []}]}, {'value': 0.9631067, 'description': 'tf, computed as freq / (freq + k1 * (1 - b + b * dl / avgdl)) from:', 'details': [{'value': 35.0, 'description': 'freq, occurrences of term within document', 'details': []}, {'value': 1.2, 'description': 'k1, term saturation parameter', 'details': []}, {'value': 0.75, 'description': 'b, length normalization parameter', 'details': []}, {'value': 168.0, 'description': 'dl, length of field (approximate)', 'details': []}, {'value': 145.28264, 'description': 'avgdl, average length of field', 'details': []}]}]}]}, {'value': 26.411598, 'description': 'weight(product_bullet_point:iphone in 189711) [PerFieldSimilarity], result of:', 'details': [{'value': 26.411598, 'description': 'score(freq=35.0), computed as boost * idf * tf from:', 'details': [{'value': 6.6000004, 'description': 'boost', 'details': []}, {'value': 4.169001, 'description': 'idf, computed as log(1 + (N - n + 0.5) / (n + 0.5)) from:', 'details': [{'value': 16040, 'description': 'n, number of documents containing term', 'details': []}, {'value': 1037031, 'description': 'N, total number of documents with field', 'details': []}]}, {'value': 0.95988387, 'description': 'tf, computed as freq / (freq + k1 * (1 - b + b * dl / avgdl)) from:', 'details': [{'value': 35.0, 'description': 'freq, occurrences of term within document', 'details': []}, {'value': 1.2, 'description': 'k1, term saturation parameter', 'details': []}, {'value': 0.75, 'description': 'b, length normalization parameter', 'details': []}, {'value': 144.0, 'description': 'dl, length of field (approximate)', 'details': []}, {'value': 111.460526, 'description': 'avgdl, average length of field', 'details': []}]}]}]}, {'value': 2.5354192, 'description': 'weight(product_title:iphone in 189711) [PerFieldSimilarity], result of:', 'details': [{'value': 2.5354192, 'description': 'score(freq=2.0), computed as boost * idf * tf from:', 'details': [{'value': 1.122, 'description': 'boost', 'details': []}, {'value': 4.3371625, 'description': 'idf, computed as log(1 + (N - n + 0.5) / (n + 0.5)) from:', 'details': [{'value': 15895, 'description': 'n, number of documents containing term', 'details': []}, {'value': 1215849, 'description': 'N, total number of documents with field', 'details': []}]}, {'value': 0.52101624, 'description': 'tf, computed as freq / (freq + k1 * (1 - b + b * dl / avgdl)) from:', 'details': [{'value': 2.0, 'description': 'freq, occurrences of term within document', 'details': []}, {'value': 1.2, 'description': 'k1, term saturation parameter', 'details': []}, {'value': 0.75, 'description': 'b, length normalization parameter', 'details': []}, {'value': 29.0, 'description': 'dl, length of field', 'details': []}, {'value': 16.9629, 'description': 'avgdl, average length of field', 'details': []}]}]}]}]}}, {'_shard': '[ecommerce][0]', '_node': 'RsKfw9aKSqyvO8W6Rey7TA', '_index': 'ecommerce', '_id': 'B0868LBS2D', '_score': 26.411598, '_source': {'product_bullet_point': 'Brand:double-june,Type:Fitted Case,Compatible Brand:for apple for iPhones,Compatible for iPhone Model:for iPhone 6\\nCompatible for iPhone Model:for iPhone 6 Plus,Compatible for iPhone Model:for iPhone 6S,Compatible for iPhone Model:for iPhone 6s plus,Compatible for iPhone Model:for iPhone 7,Compatible for iPhone Model:for iPhone 7 Plus\\nCompatible for iPhone Model:for iPhone 8 PLUS,Compatible for iPhone Model:for iPhone 8,Compatible for iPhone Model:for iPhone X,Compatible for iPhone Model:for iPhone XS MAX,Compatible for iPhone Model:for iPhone XR\\nCompatible for iPhone Model:for iPhone xs,Design:Matte,Design:Animal,Function:Dirt-resistant,Function:Anti-knock\\nApplicable type:for iPhone 6/6s,for iPhone 6 /6sPlus,for iPhone 7/8,for iPhone 7 8Plus,for iPhone X XS Max,Texture of material:Silicone soft,Applicable product:for iPhone 6/6s,for iPhone 6 /6sPlus,for iPhone 7/8,for iPhone 7 8Plus,for iPhone X XS Max,Popular element:Kawaii Japanese Strawberry Milk Drink Bottle,model:Back cover type', 'product_id': 'B0868LBS2D', 'product_locale': 'us', 'product_color': 'A', 'product_brand': 'double-june', 'product_description': 'Brand:double-june<br>Type:Fitted Case<br>Compatible Brand:for apple for iPhones<br>Compatible for iPhone Model:for iPhone 6<br>Compatible for iPhone Model:for iPhone 6 Plus<br>Compatible for iPhone Model:for iPhone 6S<br>Compatible for iPhone Model:for iPhone 6s plus<br>Compatible for iPhone Model:for iPhone 7<br>Compatible for iPhone Model:for iPhone 7 Plus<br>Compatible for iPhone Model:for iPhone 8 PLUS<br>Compatible for iPhone Model:for iPhone 8<br>Compatible for iPhone Model:for iPhone X<br>Compatible for iPhone Model:for iPhone XS MAX<br>Compatible for iPhone Model:for iPhone XR<br>Compatible for iPhone Model:for iPhone xs<br>Design:Matte<br>Design:Animal<br>Function:Dirt-resistant<br>Function:Anti-knock<br>Applicable type:for iPhone 6/6s,for iPhone 6 /6sPlus,for iPhone 7/8,for iPhone 7 8Plus,for iPhone X XS Max<br>Texture of material:Silicone soft<br>Applicable product:for iPhone 6/6s,for iPhone 6 /6sPlus,for iPhone 7/8,for iPhone 7 8Plus,for iPhone X XS Max<br>Popular element:Kawaii Japanese Strawberry Milk Drink Bottle<br>model:Back cover type', 'title_embedding': [-0.09428866, -0.024545852, 0.0273951, -0.043007553, -0.0030495797, 0.042395394, 0.025947627, 0.06804489, -0.039366268, 0.017782554, 0.09672079, 0.0195551, -0.025526034, 0.018461807, 0.084446825, -0.008303641, 0.0071685784, -0.027316889, -0.024311904, -0.01712236, -6.677317e-05, -0.0420017, 0.07787969, 0.022477696, -0.03140378, 0.026952615, 0.0027929994, -0.03737188, 0.0241199, -0.028853575, -0.022190914, 0.02809797, 0.03984836, 0.009354133, 0.087316625, -0.022605892, 0.020443857, -0.009157633, 0.06643955, -0.043749288, -0.042209152, -0.047853943, 0.01348091, 0.05835149, -0.013484523, -0.03571464, -0.01904185, 0.06845492, 0.0055000447, 0.097772926, 0.0651338, -0.092561126, -0.009856286, 0.040986825, 0.032070946, -0.009787049, -0.02802655, 0.045758527, 0.083617635, 0.05617423, 0.026889592, -0.027616242, 0.04393434, 0.058624007, 0.010472574, -0.020548481, -0.09567627, -0.0067170747, -0.079937525, 0.029465787, 0.053154465, 0.014630063, 0.01609857, -0.057280794, -0.03447235, 0.019819288, 0.013329822, -0.06612251, -0.13086584, 0.11674188, 0.00075842376, -0.048995778, -0.030795474, -0.08840343, 0.006417286, -0.04214072, -0.016933016, -0.019286467, -0.066235475, -0.059492864, -0.028170459, 0.068588674, 0.016606282, -0.046631835, -0.046840545, -0.0146914255, -0.012409638, -0.020828662, -0.0017315481, 0.0071243807, 0.047276903, -0.04994525, 0.05296044, -0.008578044, 0.097436376, -0.027759615, -0.11226219, -0.08206475, 0.0336434, 0.041783422, -0.10600154, -0.024587939, -0.048401475, 0.020518182, -0.050554603, -0.07629747, 0.022163182, 0.071392, 0.0701827, -0.03906351, -0.018471166, -0.004821759, -0.028123504, -0.016433328, -0.06288077, -0.007442522, -0.056316007, 6.7762334e-33, 0.026730066, -0.03458865, -0.030562343, 0.016452512, 0.060805008, -0.036000162, -0.034812715, -0.03245348, 0.03019021, 0.019304808, -0.028541854, -0.0023911768, -0.016335435, -0.04062974, -0.001555997, -0.038188018, -0.039850943, -0.0007750742, 0.045079686, -0.062845446, -0.012583892, -0.04665192, -0.03172584, 0.069282845, -0.09596748, 0.039456096, 0.117529295, -0.012612834, 0.0660318, -0.005911016, -0.031372998, -0.05069956, -0.00090040645, 0.06992877, -0.011429838, 0.051376436, 0.0146186445, 0.0073218113, 0.0965607, 0.012324776, -0.1096547, 0.03198795, 0.02468514, 0.000279143, 0.0037039046, 0.05665456, -0.066124335, -0.05644643, 0.063835755, -0.09197912, -0.07054789, -0.11991256, -0.06725765, 0.012536555, -0.03281433, -0.051922742, -0.003017017, -0.003398224, -0.05311005, 0.047960952, 0.014405175, -0.04391363, 0.02728026, 0.0006706462, -0.04567401, 0.016870439, 0.030269956, -0.13171525, 0.010944169, 0.051073626, -0.036092013, 0.05678084, 0.073526256, 0.0057324767, 0.081494026, -0.034118157, 0.09582622, -0.044342402, -0.022954518, 0.011036358, -0.038012963, 0.06927166, 0.049629282, 0.09554662, -0.0144561, -0.03313542, -0.12077161, -0.035569537, 0.020636454, -0.046819847, -0.08639807, -0.050095223, 0.03492347, -0.0113707455, 0.037222162, -7.337434e-33, 0.016148975, -0.065789446, 0.047777675, -0.016149102, 0.057713117, -0.036724076, 0.056181706, 0.14689916, 0.009652216, -0.04921595, -0.038647063, 0.061131693, -0.003819849, 0.103504114, -0.028349573, 0.12135437, 0.021801313, -0.02026943, 0.051749125, -0.01065077, 0.054953337, -0.010877847, -0.008093515, -0.0021215295, -0.019482965, 0.0124804815, 0.013252221, -0.083613284, 0.025297724, 0.038628466, -0.03331458, -0.11496339, -0.09542773, 0.061574623, -0.05062923, -0.054646794, 0.01861911, 0.0017870096, -0.04478403, -0.013245699, 0.030144844, 0.020095836, 0.011849923, 0.060559094, 0.0003037042, -0.04064451, 0.050171368, 0.011072303, 0.042142272, 0.015186946, 0.0052338154, -0.0001506919, 0.024390286, 0.068518445, -0.080501206, -0.054275177, 0.044945903, -0.06849916, -0.0052963467, -0.020389713, 0.04913203, 0.03457961, -0.036831986, -0.046008207, -0.100614026, -0.0334941, 0.02270783, -0.043036383, -0.044070028, -0.01644358, -0.003994254, -0.023979975, -0.07253205, 0.032559056, 0.0015381228, -0.008168194, -0.030746808, 0.04400123, 0.033278897, 0.038465574, 0.02740371, 0.06621434, -0.052697998, 0.0900088, 0.1236645, 0.05539295, 0.061726756, 0.03598059, 0.048171367, -0.022268876, -0.027550269, 0.04738627, 0.0029456643, 0.048885617, 0.013760308, -2.9866353e-08, 0.07627005, -0.074862234, -0.046359856, -0.023568667, 0.050550546, -0.00908147, -0.14703234, -0.02127845, 0.08814801, -0.017220652, -0.05483919, 0.050722316, -0.06252049, 0.015549764, -0.12143549, 0.05822099, 0.043607745, 0.11252615, 0.021656414, 0.047595624, -0.07093246, 0.034566022, 0.021605445, -0.011291627, -0.03572864, 0.05208709, -0.03384913, -0.05198466, 0.0054383893, -0.0012332567, 0.011067714, 0.039178595, -0.022477891, -0.073917024, 0.039844714, 0.040007103, -0.02168345, -0.0032494639, -0.070331156, -0.02687176, 0.014757792, -0.14374213, 0.023505641, 0.0014251934, 0.0451907, -0.04064697, -0.0012240795, -0.05568915, 0.039173245, 0.10495305, -0.038161166, -0.07714199, 0.019807039, -0.004379654, 0.05179767, 0.025701718, 0.047530714, -0.040104534, 0.024658134, 0.069490075, 0.087897584, -0.0024934497, 0.043690164, 0.031271905], 'product_title': 'Double-June Kawaii Japanese Strawberry Milk Drink Bottle Phone Case for iPhone 11 Pro Max 6S 7 8 Puls X Xs Max Xr Cases Soft-A-for iPhone 11'}, '_explanation': {'value': 26.411598, 'description': 'max of:', 'details': [{'value': 4.402682, 'description': 'weight(product_description:iphone in 189712) [PerFieldSimilarity], result of:', 'details': [{'value': 4.402682, 'description': 'score(freq=35.0), computed as boost * idf * tf from:', 'details': [{'value': 1.0780001, 'description': 'boost', 'details': []}, {'value': 4.2405686, 'description': 'idf, computed as log(1 + (N - n + 0.5) / (n + 0.5)) from:', 'details': [{'value': 9298, 'description': 'n, number of documents containing term', 'details': []}, {'value': 645755, 'description': 'N, total number of documents with field', 'details': []}]}, {'value': 0.9631067, 'description': 'tf, computed as freq / (freq + k1 * (1 - b + b * dl / avgdl)) from:', 'details': [{'value': 35.0, 'description': 'freq, occurrences of term within document', 'details': []}, {'value': 1.2, 'description': 'k1, term saturation parameter', 'details': []}, {'value': 0.75, 'description': 'b, length normalization parameter', 'details': []}, {'value': 168.0, 'description': 'dl, length of field (approximate)', 'details': []}, {'value': 145.28264, 'description': 'avgdl, average length of field', 'details': []}]}]}]}, {'value': 26.411598, 'description': 'weight(product_bullet_point:iphone in 189712) [PerFieldSimilarity], result of:', 'details': [{'value': 26.411598, 'description': 'score(freq=35.0), computed as boost * idf * tf from:', 'details': [{'value': 6.6000004, 'description': 'boost', 'details': []}, {'value': 4.169001, 'description': 'idf, computed as log(1 + (N - n + 0.5) / (n + 0.5)) from:', 'details': [{'value': 16040, 'description': 'n, number of documents containing term', 'details': []}, {'value': 1037031, 'description': 'N, total number of documents with field', 'details': []}]}, {'value': 0.95988387, 'description': 'tf, computed as freq / (freq + k1 * (1 - b + b * dl / avgdl)) from:', 'details': [{'value': 35.0, 'description': 'freq, occurrences of term within document', 'details': []}, {'value': 1.2, 'description': 'k1, term saturation parameter', 'details': []}, {'value': 0.75, 'description': 'b, length normalization parameter', 'details': []}, {'value': 144.0, 'description': 'dl, length of field (approximate)', 'details': []}, {'value': 111.460526, 'description': 'avgdl, average length of field', 'details': []}]}]}]}, {'value': 2.5354192, 'description': 'weight(product_title:iphone in 189712) [PerFieldSimilarity], result of:', 'details': [{'value': 2.5354192, 'description': 'score(freq=2.0), computed as boost * idf * tf from:', 'details': [{'value': 1.122, 'description': 'boost', 'details': []}, {'value': 4.3371625, 'description': 'idf, computed as log(1 + (N - n + 0.5) / (n + 0.5)) from:', 'details': [{'value': 15895, 'description': 'n, number of documents containing term', 'details': []}, {'value': 1215849, 'description': 'N, total number of documents with field', 'details': []}]}, {'value': 0.52101624, 'description': 'tf, computed as freq / (freq + k1 * (1 - b + b * dl / avgdl)) from:', 'details': [{'value': 2.0, 'description': 'freq, occurrences of term within document', 'details': []}, {'value': 1.2, 'description': 'k1, term saturation parameter', 'details': []}, {'value': 0.75, 'description': 'b, length normalization parameter', 'details': []}, {'value': 29.0, 'description': 'dl, length of field', 'details': []}, {'value': 16.9629, 'description': 'avgdl, average length of field', 'details': []}]}]}]}]}}, {'_shard': '[ecommerce][0]', '_node': 'RsKfw9aKSqyvO8W6Rey7TA', '_index': 'ecommerce', '_id': 'B0868LGN2L', '_score': 26.411598, '_source': {'product_bullet_point': 'Brand:double-june,Type:Fitted Case,Compatible Brand:for apple for iPhones,Compatible for iPhone Model:for iPhone 6\\nCompatible for iPhone Model:for iPhone 6 Plus,Compatible for iPhone Model:for iPhone 6S,Compatible for iPhone Model:for iPhone 6s plus,Compatible for iPhone Model:for iPhone 7,Compatible for iPhone Model:for iPhone 7 Plus\\nCompatible for iPhone Model:for iPhone 8 PLUS,Compatible for iPhone Model:for iPhone 8,Compatible for iPhone Model:for iPhone X,Compatible for iPhone Model:for iPhone XS MAX,Compatible for iPhone Model:for iPhone XR\\nCompatible for iPhone Model:for iPhone xs,Design:Matte,Design:Animal,Function:Dirt-resistant,Function:Anti-knock\\nApplicable type:for iPhone 6/6s,for iPhone 6 /6sPlus,for iPhone 7/8,for iPhone 7 8Plus,for iPhone X XS Max,Texture of material:Silicone soft,Applicable product:for iPhone 6/6s,for iPhone 6 /6sPlus,for iPhone 7/8,for iPhone 7 8Plus,for iPhone X XS Max,Popular element:Kawaii Japanese Strawberry Milk Drink Bottle,model:Back cover type', 'product_id': 'B0868LGN2L', 'product_locale': 'us', 'product_color': 'A', 'product_brand': 'double-june', 'product_description': 'Brand:double-june<br>Type:Fitted Case<br>Compatible Brand:for apple for iPhones<br>Compatible for iPhone Model:for iPhone 6<br>Compatible for iPhone Model:for iPhone 6 Plus<br>Compatible for iPhone Model:for iPhone 6S<br>Compatible for iPhone Model:for iPhone 6s plus<br>Compatible for iPhone Model:for iPhone 7<br>Compatible for iPhone Model:for iPhone 7 Plus<br>Compatible for iPhone Model:for iPhone 8 PLUS<br>Compatible for iPhone Model:for iPhone 8<br>Compatible for iPhone Model:for iPhone X<br>Compatible for iPhone Model:for iPhone XS MAX<br>Compatible for iPhone Model:for iPhone XR<br>Compatible for iPhone Model:for iPhone xs<br>Design:Matte<br>Design:Animal<br>Function:Dirt-resistant<br>Function:Anti-knock<br>Applicable type:for iPhone 6/6s,for iPhone 6 /6sPlus,for iPhone 7/8,for iPhone 7 8Plus,for iPhone X XS Max<br>Texture of material:Silicone soft<br>Applicable product:for iPhone 6/6s,for iPhone 6 /6sPlus,for iPhone 7/8,for iPhone 7 8Plus,for iPhone X XS Max<br>Popular element:Kawaii Japanese Strawberry Milk Drink Bottle<br>model:Back cover type', 'title_embedding': [-0.08274028, -0.033294026, 0.025472943, -0.020223198, -0.013088397, 0.05119509, 0.012866044, 0.064857356, -0.029720135, 0.021152483, 0.08754069, 0.020091888, -0.028702723, 0.002364434, 0.085766524, 0.0036786392, -0.019614456, -0.027762428, -0.022899775, 0.0023950804, -0.005914566, -0.035773955, 0.053935334, 0.017200643, -0.015876843, 0.021119557, 0.013731162, -0.033762474, 0.039492868, -0.028611168, -0.021437261, 0.05075519, 0.0415005, 0.032233186, 0.078699395, -0.007138303, 0.042577356, -0.0009794895, 0.061054047, -0.049121656, -0.03831405, -0.046134837, 0.03310183, 0.04709523, -0.0073337187, -0.013438444, -0.018066281, 0.07867549, 0.017356893, 0.08946815, 0.069226734, -0.11354243, -0.004418015, 0.030469619, 0.025430486, -0.0120739555, -0.028054804, 0.034406085, 0.07976571, 0.064567454, 0.019162066, -0.02207823, 0.047596112, 0.07193133, 0.019295597, -0.016421523, -0.09061925, 0.0057392702, -0.07829398, 0.01911694, 0.0186792, 0.0075152856, 0.024139876, -0.051072236, -0.046687808, 0.017880267, -0.00048336014, -0.083569355, -0.10837768, 0.10427105, -0.008577025, -0.05604301, -0.031210158, -0.07705151, -0.007275302, -0.030773887, -0.0073956223, -0.02475972, -0.05826783, -0.06193875, -0.016112227, 0.06163383, 0.01418228, -0.06854359, -0.07247628, -0.009420853, -0.027636638, -0.0066759787, 0.013360837, 0.011225874, 0.06328888, -0.04421191, 0.039249737, 0.0072141234, 0.12621102, -0.041009836, -0.13152432, -0.058175594, 0.025142262, 0.05292666, -0.11165555, -0.018023862, -0.033282332, 0.027533205, -0.045159616, -0.075035565, 0.016671099, 0.059371855, 0.06278275, -0.036460035, -0.009728489, 0.023175612, -0.018200533, -0.026910052, -0.061465546, -0.010774166, -0.032773364, 7.385776e-33, -0.01315161, -0.02479571, -0.0019564105, 0.0074376743, 0.06232625, -0.04586041, -0.016194446, -0.047709383, 0.010534733, 0.03638229, -0.03240229, -0.0007732257, -0.014557592, -0.040794373, 0.031689256, -0.022442501, -0.03991577, 0.004543533, 0.03564598, -0.0489848, -0.011418421, -0.038902886, -0.025911527, 0.064809784, -0.09318426, 0.051646236, 0.12871729, -0.027779466, 0.046362616, -0.014678094, -0.04061701, -0.030601697, 0.021526009, 0.063994005, -0.016388452, 0.041617025, -0.014103957, -0.002864777, 0.085647754, 0.024798986, -0.0905307, 0.027029278, -0.0060816165, 0.008398584, -0.0011360465, 0.051572643, -0.059007738, -0.050161794, 0.06437934, -0.09095949, -0.06392059, -0.12656642, -0.057399195, 0.011767348, -0.014571382, -0.05417032, -0.017847883, 0.0014114387, -0.046336, 0.047929812, 0.0029852737, -0.054578643, 0.0146, -0.0027117566, -0.053214815, 0.00020321042, 0.02679918, -0.12131473, -0.0010880516, 0.053955436, -0.043369886, 0.043623786, 0.07070397, 0.0069064777, 0.06441086, -0.03519173, 0.09084291, -0.050016798, -0.04252875, -0.0064488393, -0.027200438, 0.066894844, 0.07151273, 0.09147049, -0.008070319, -0.037041925, -0.12219423, -0.029929783, 0.017418178, -0.050412767, -0.0724119, -0.0535443, -0.00016312393, -0.011391531, 0.044925753, -7.7472586e-33, 0.031125234, -0.05622357, 0.067734666, -0.0037499056, 0.07909453, -0.044328533, 0.066213764, 0.15338044, 0.0111664925, -0.061100528, -0.045082767, 0.070427746, 0.011836968, 0.099076666, -0.028348887, 0.11757952, 0.025753992, -0.02074986, 0.070893474, -0.01120946, 0.03265774, -0.021130813, -0.03840276, 0.0044134306, -0.012746288, 0.019658718, 0.014221694, -0.09453619, 0.03220362, 0.028224869, -0.029868908, -0.11310362, -0.06172753, 0.04909874, -0.028160632, -0.059567798, 0.025693424, 0.015335407, -0.04158408, -0.0033228723, 0.024076194, 0.038774803, 0.021250727, 0.056575168, 0.013563478, -0.058343276, 0.050558507, 0.015037245, 0.03453255, 0.0053635356, 0.016996192, -0.020214261, 0.018851677, 0.0794793, -0.083224855, -0.06962823, 0.038919616, -0.086802594, -0.01041901, -0.022908568, 0.040164936, 0.022825649, -0.038294945, -0.05706863, -0.09377424, -0.034818724, 0.026946148, -0.02589432, -0.05630099, -0.039643083, 0.0055557983, -0.021073328, -0.068732806, 0.0030673032, 0.013201113, -0.014107301, -0.040970948, 0.059604604, 0.03612427, 0.048218336, 0.012011, 0.07918808, -0.05361454, 0.10529813, 0.11565733, 0.052497573, 0.08490052, 0.03072218, 0.027469635, -0.0418738, -0.037803154, 0.034546085, -0.0044624647, 0.033080563, 0.02509961, -3.0862605e-08, 0.096701995, -0.10533094, -0.04796471, -0.029588703, 0.051909562, -0.007572862, -0.14655119, -0.010314394, 0.07055403, -0.011980268, -0.052669, 0.038596187, -0.04256789, -0.004200494, -0.12399487, 0.044278793, 0.030372616, 0.11824856, 0.009397458, 0.047898725, -0.05995666, 0.029209986, 0.013387782, 0.0020580369, -0.014924548, 0.052467715, -0.040729076, -0.047781408, 0.00322072, 0.00021099485, 0.006603766, 0.02714649, -0.027281135, -0.052257407, 0.04389916, 0.035838027, -0.03371081, -0.024629183, -0.06739294, -0.034047548, 0.012714997, -0.15518308, 0.028176308, -0.0027727997, 0.035963383, -0.025976708, 0.004118083, -0.054939236, 0.028912853, 0.112014614, -0.04440997, -0.08847779, 0.015324688, -0.012350802, 0.06541702, 0.029927071, 0.053695608, -0.041839287, 0.024002895, 0.059471384, 0.101557784, -0.004978505, 0.07000653, 0.034733813], 'product_title': 'Double-June Kawaii Japanese Strawberry Milk Drink Bottle Phone Case for iPhone 11 Pro Max 6S 7 8 Puls X Xs Max Xr Cases Soft-A-for iPhone 6 6S'}, '_explanation': {'value': 26.411598, 'description': 'max of:', 'details': [{'value': 4.402682, 'description': 'weight(product_description:iphone in 189713) [PerFieldSimilarity], result of:', 'details': [{'value': 4.402682, 'description': 'score(freq=35.0), computed as boost * idf * tf from:', 'details': [{'value': 1.0780001, 'description': 'boost', 'details': []}, {'value': 4.2405686, 'description': 'idf, computed as log(1 + (N - n + 0.5) / (n + 0.5)) from:', 'details': [{'value': 9298, 'description': 'n, number of documents containing term', 'details': []}, {'value': 645755, 'description': 'N, total number of documents with field', 'details': []}]}, {'value': 0.9631067, 'description': 'tf, computed as freq / (freq + k1 * (1 - b + b * dl / avgdl)) from:', 'details': [{'value': 35.0, 'description': 'freq, occurrences of term within document', 'details': []}, {'value': 1.2, 'description': 'k1, term saturation parameter', 'details': []}, {'value': 0.75, 'description': 'b, length normalization parameter', 'details': []}, {'value': 168.0, 'description': 'dl, length of field (approximate)', 'details': []}, {'value': 145.28264, 'description': 'avgdl, average length of field', 'details': []}]}]}]}, {'value': 26.411598, 'description': 'weight(product_bullet_point:iphone in 189713) [PerFieldSimilarity], result of:', 'details': [{'value': 26.411598, 'description': 'score(freq=35.0), computed as boost * idf * tf from:', 'details': [{'value': 6.6000004, 'description': 'boost', 'details': []}, {'value': 4.169001, 'description': 'idf, computed as log(1 + (N - n + 0.5) / (n + 0.5)) from:', 'details': [{'value': 16040, 'description': 'n, number of documents containing term', 'details': []}, {'value': 1037031, 'description': 'N, total number of documents with field', 'details': []}]}, {'value': 0.95988387, 'description': 'tf, computed as freq / (freq + k1 * (1 - b + b * dl / avgdl)) from:', 'details': [{'value': 35.0, 'description': 'freq, occurrences of term within document', 'details': []}, {'value': 1.2, 'description': 'k1, term saturation parameter', 'details': []}, {'value': 0.75, 'description': 'b, length normalization parameter', 'details': []}, {'value': 144.0, 'description': 'dl, length of field (approximate)', 'details': []}, {'value': 111.460526, 'description': 'avgdl, average length of field', 'details': []}]}]}]}, {'value': 2.5008533, 'description': 'weight(product_title:iphone in 189713) [PerFieldSimilarity], result of:', 'details': [{'value': 2.5008533, 'description': 'score(freq=2.0), computed as boost * idf * tf from:', 'details': [{'value': 1.122, 'description': 'boost', 'details': []}, {'value': 4.3371625, 'description': 'idf, computed as log(1 + (N - n + 0.5) / (n + 0.5)) from:', 'details': [{'value': 15895, 'description': 'n, number of documents containing term', 'details': []}, {'value': 1215849, 'description': 'N, total number of documents with field', 'details': []}]}, {'value': 0.5139131, 'description': 'tf, computed as freq / (freq + k1 * (1 - b + b * dl / avgdl)) from:', 'details': [{'value': 2.0, 'description': 'freq, occurrences of term within document', 'details': []}, {'value': 1.2, 'description': 'k1, term saturation parameter', 'details': []}, {'value': 0.75, 'description': 'b, length normalization parameter', 'details': []}, {'value': 30.0, 'description': 'dl, length of field', 'details': []}, {'value': 16.9629, 'description': 'avgdl, average length of field', 'details': []}]}]}]}]}}, {'_shard': '[ecommerce][0]', '_node': 'RsKfw9aKSqyvO8W6Rey7TA', '_index': 'ecommerce', '_id': 'B086JF5Z1C', '_score': 26.411598, '_source': {'product_bullet_point': 'Brand:double-june,Type:Fitted Case,Compatible Brand:for apple for iPhones,Compatible for iPhone Model:for iPhone 6\\nCompatible for iPhone Model:for iPhone 6 Plus,Compatible for iPhone Model:for iPhone 6S,Compatible for iPhone Model:for iPhone 6s plus,Compatible for iPhone Model:for iPhone 7,Compatible for iPhone Model:for iPhone 7 Plus\\nCompatible for iPhone Model:for iPhone 8 PLUS,Compatible for iPhone Model:for iPhone 8,Compatible for iPhone Model:for iPhone X,Compatible for iPhone Model:for iPhone XS MAX,Compatible for iPhone Model:for iPhone XR\\nCompatible for iPhone Model:for iPhone xs,Design:Matte,Design:Animal,Function:Dirt-resistant,Function:Anti-knock\\nApplicable type:for iPhone 6/6s,for iPhone 6 /6sPlus,for iPhone 7/8,for iPhone 7 8Plus,for iPhone X XS Max,Texture of material:Silicone soft,Applicable product:for iPhone 6/6s,for iPhone 6 /6sPlus,for iPhone 7/8,for iPhone 7 8Plus,for iPhone X XS Max,Popular element:Kawaii Japanese Strawberry Milk Drink Bottle,model:Back cover type', 'product_id': 'B086JF5Z1C', 'product_locale': 'us', 'product_color': 'A', 'product_brand': 'double-june', 'product_description': 'Brand:double-june<br>Type:Fitted Case<br>Compatible Brand:for apple for iPhones<br>Compatible for iPhone Model:for iPhone 6<br>Compatible for iPhone Model:for iPhone 6 Plus<br>Compatible for iPhone Model:for iPhone 6S<br>Compatible for iPhone Model:for iPhone 6s plus<br>Compatible for iPhone Model:for iPhone 7<br>Compatible for iPhone Model:for iPhone 7 Plus<br>Compatible for iPhone Model:for iPhone 8 PLUS<br>Compatible for iPhone Model:for iPhone 8<br>Compatible for iPhone Model:for iPhone X<br>Compatible for iPhone Model:for iPhone XS MAX<br>Compatible for iPhone Model:for iPhone XR<br>Compatible for iPhone Model:for iPhone xs<br>Design:Matte<br>Design:Animal<br>Function:Dirt-resistant<br>Function:Anti-knock<br>Applicable type:for iPhone 6/6s,for iPhone 6 /6sPlus,for iPhone 7/8,for iPhone 7 8Plus,for iPhone X XS Max<br>Texture of material:Silicone soft<br>Applicable product:for iPhone 6/6s,for iPhone 6 /6sPlus,for iPhone 7/8,for iPhone 7 8Plus,for iPhone X XS Max<br>Popular element:Kawaii Japanese Strawberry Milk Drink Bottle<br>model:Back cover type', 'title_embedding': [-0.09029899, -0.03293562, 0.030563524, -0.047384795, -0.0069061993, 0.042609043, 0.02524196, 0.074530736, -0.040838707, 0.017422322, 0.09481889, 0.019331263, -0.021948216, 0.019936927, 0.083184205, -0.008190749, 0.0123002995, -0.030004993, -0.021892508, -0.01864075, -0.0004633305, -0.044381026, 0.068984546, 0.021248685, -0.035662495, 0.03152383, 0.003606417, -0.031214342, 0.033113655, -0.030964864, -0.026507746, 0.024408791, 0.04317402, 0.012925614, 0.08814773, -0.023924066, 0.014656509, -0.013845316, 0.06433387, -0.044810228, -0.04199044, -0.050043367, 0.014914846, 0.06225298, -0.011915196, -0.028012168, -0.019497996, 0.06372672, 0.0067653125, 0.10187473, 0.060929596, -0.0905336, -0.0019567055, 0.044554256, 0.030748118, -0.015242143, -0.021670086, 0.040318623, 0.08316819, 0.058118615, 0.02302206, -0.025340496, 0.044201672, 0.05412712, 0.014355571, -0.021178687, -0.09813369, -0.0028617536, -0.07938103, 0.034340505, 0.047104962, 0.0129195405, 0.011118586, -0.050869092, -0.033167154, 0.020010151, 0.005335159, -0.06607566, -0.12878071, 0.11463124, 0.0011505318, -0.05304759, -0.026916472, -0.09140674, 0.01177231, -0.04013234, -0.015259571, -0.021625577, -0.055864006, -0.059111435, -0.030765101, 0.066994704, 0.016106596, -0.044307046, -0.051588766, -0.010932757, -0.021429254, -0.022276023, -0.0034194582, 0.01061662, 0.04720496, -0.052557413, 0.055441275, -0.010795946, 0.100139484, -0.02999734, -0.11507542, -0.08064724, 0.034330808, 0.04005355, -0.106828906, -0.024040338, -0.040761407, 0.020474141, -0.045111407, -0.07720217, 0.020317465, 0.07342387, 0.06981882, -0.045090016, -0.012428568, -0.0051019513, -0.029786, -0.017705426, -0.0610747, -0.0039100377, -0.050709672, 7.434344e-33, 0.022889942, -0.03228436, -0.024698943, 0.021111265, 0.058800943, -0.032903023, -0.032255217, -0.028220396, 0.03412861, 0.016395919, -0.032742817, -0.0026680126, -0.019668853, -0.034146607, -0.003177634, -0.04169368, -0.03457145, 0.00093137356, 0.04138499, -0.060269263, -0.010577697, -0.047452178, -0.033121377, 0.06778329, -0.08898843, 0.04321024, 0.12386951, -0.015653182, 0.064288706, -0.006023014, -0.033478364, -0.05741014, 0.002721465, 0.07417949, -0.010509761, 0.047081426, 0.009641161, 0.0048446585, 0.093730204, 0.019615075, -0.10935051, 0.032092128, 0.020462966, -0.001497785, 0.002463782, 0.05910649, -0.06770137, -0.05250167, 0.062379725, -0.09219415, -0.06920613, -0.12138212, -0.06886046, 0.009112783, -0.0342228, -0.046661958, -0.0048803175, -0.0064719045, -0.05321182, 0.045959715, 0.012093385, -0.045273367, 0.026652128, -0.002461859, -0.04722408, 0.01955, 0.023640025, -0.12961341, 0.01158988, 0.05382187, -0.035421863, 0.055508826, 0.07534833, 0.0063743624, 0.07867776, -0.03508768, 0.09406188, -0.04231169, -0.027690258, 0.009095326, -0.04315706, 0.07420739, 0.05075611, 0.09165533, -0.014593289, -0.034539934, -0.11727526, -0.035652548, 0.019658478, -0.052641116, -0.07940479, -0.04732162, 0.032397453, -0.007808729, 0.039043825, -7.85054e-33, 0.020361103, -0.06660265, 0.05348932, -0.013053324, 0.059903335, -0.04080922, 0.05480791, 0.15173133, 0.005649842, -0.048152886, -0.033699445, 0.058029547, 0.0006834833, 0.1032441, -0.027651273, 0.119382836, 0.018372616, -0.02382237, 0.05657929, -0.012641525, 0.053039104, -0.010590296, -0.008970022, 0.004414947, -0.018095557, 0.014021201, 0.013263873, -0.07763457, 0.024579853, 0.04025732, -0.034618348, -0.11362122, -0.09645937, 0.06350855, -0.05396865, -0.052078534, 0.02638692, 0.005765416, -0.044886116, -0.013853457, 0.030137785, 0.021441644, 0.01842176, 0.060042158, 0.005598219, -0.04372697, 0.05211395, 0.0038485937, 0.04644714, 0.004817624, 0.005917541, -0.007062153, 0.02753053, 0.06744229, -0.08225382, -0.056499302, 0.04345465, -0.06862899, -0.0074813394, -0.02743522, 0.05055072, 0.03495896, -0.03867536, -0.039999165, -0.10601355, -0.037106942, 0.019029342, -0.043492172, -0.042582057, -0.021891631, -0.0076485756, -0.022975167, -0.071768135, 0.0340571, 5.920776e-05, -0.008058585, -0.033581708, 0.0475135, 0.03381147, 0.040385973, 0.018097918, 0.066874325, -0.055718895, 0.088752724, 0.12391718, 0.057042018, 0.056843713, 0.035264526, 0.052216277, -0.03305272, -0.035586327, 0.047688317, -0.0035877957, 0.043874253, 0.011978118, -3.1002195e-08, 0.07806281, -0.07658859, -0.04901774, -0.0243403, 0.05221465, -0.013327553, -0.1488755, -0.023543617, 0.09187581, -0.014701666, -0.054078184, 0.05038023, -0.06136475, 0.013230179, -0.1236846, 0.060801055, 0.042012762, 0.11147669, 0.022445638, 0.048356265, -0.07111998, 0.034999758, 0.020038996, -0.008648555, -0.032500595, 0.05330958, -0.034982838, -0.04968399, 0.0067983926, -0.0011021884, 0.009379193, 0.03597182, -0.02150987, -0.074177735, 0.04211349, 0.03814484, -0.026716454, 9.3309005e-05, -0.072308816, -0.0260094, 0.016462987, -0.14464158, 0.022934563, 0.0018332078, 0.046709914, -0.035014268, 0.0013632348, -0.05522023, 0.03890463, 0.10318001, -0.038280454, -0.08003113, 0.02222114, -0.005451744, 0.046848964, 0.025917504, 0.042754676, -0.03149281, 0.020377394, 0.06407013, 0.08986261, -0.0048379917, 0.046921663, 0.03626792], 'product_title': 'Double-June Kawaii Japanese Strawberry Milk Drink Bottle Phone Case for iPhone 11 Pro Max 6S 7 8 Puls X Xs Max Xr Cases Soft-A-for iPhone 11Pro Max'}, '_explanation': {'value': 26.411598, 'description': 'max of:', 'details': [{'value': 4.402682, 'description': 'weight(product_description:iphone in 189714) [PerFieldSimilarity], result of:', 'details': [{'value': 4.402682, 'description': 'score(freq=35.0), computed as boost * idf * tf from:', 'details': [{'value': 1.0780001, 'description': 'boost', 'details': []}, {'value': 4.2405686, 'description': 'idf, computed as log(1 + (N - n + 0.5) / (n + 0.5)) from:', 'details': [{'value': 9298, 'description': 'n, number of documents containing term', 'details': []}, {'value': 645755, 'description': 'N, total number of documents with field', 'details': []}]}, {'value': 0.9631067, 'description': 'tf, computed as freq / (freq + k1 * (1 - b + b * dl / avgdl)) from:', 'details': [{'value': 35.0, 'description': 'freq, occurrences of term within document', 'details': []}, {'value': 1.2, 'description': 'k1, term saturation parameter', 'details': []}, {'value': 0.75, 'description': 'b, length normalization parameter', 'details': []}, {'value': 168.0, 'description': 'dl, length of field (approximate)', 'details': []}, {'value': 145.28264, 'description': 'avgdl, average length of field', 'details': []}]}]}]}, {'value': 26.411598, 'description': 'weight(product_bullet_point:iphone in 189714) [PerFieldSimilarity], result of:', 'details': [{'value': 26.411598, 'description': 'score(freq=35.0), computed as boost * idf * tf from:', 'details': [{'value': 6.6000004, 'description': 'boost', 'details': []}, {'value': 4.169001, 'description': 'idf, computed as log(1 + (N - n + 0.5) / (n + 0.5)) from:', 'details': [{'value': 16040, 'description': 'n, number of documents containing term', 'details': []}, {'value': 1037031, 'description': 'N, total number of documents with field', 'details': []}]}, {'value': 0.95988387, 'description': 'tf, computed as freq / (freq + k1 * (1 - b + b * dl / avgdl)) from:', 'details': [{'value': 35.0, 'description': 'freq, occurrences of term within document', 'details': []}, {'value': 1.2, 'description': 'k1, term saturation parameter', 'details': []}, {'value': 0.75, 'description': 'b, length normalization parameter', 'details': []}, {'value': 144.0, 'description': 'dl, length of field (approximate)', 'details': []}, {'value': 111.460526, 'description': 'avgdl, average length of field', 'details': []}]}]}]}, {'value': 2.5008533, 'description': 'weight(product_title:iphone in 189714) [PerFieldSimilarity], result of:', 'details': [{'value': 2.5008533, 'description': 'score(freq=2.0), computed as boost * idf * tf from:', 'details': [{'value': 1.122, 'description': 'boost', 'details': []}, {'value': 4.3371625, 'description': 'idf, computed as log(1 + (N - n + 0.5) / (n + 0.5)) from:', 'details': [{'value': 15895, 'description': 'n, number of documents containing term', 'details': []}, {'value': 1215849, 'description': 'N, total number of documents with field', 'details': []}]}, {'value': 0.5139131, 'description': 'tf, computed as freq / (freq + k1 * (1 - b + b * dl / avgdl)) from:', 'details': [{'value': 2.0, 'description': 'freq, occurrences of term within document', 'details': []}, {'value': 1.2, 'description': 'k1, term saturation parameter', 'details': []}, {'value': 0.75, 'description': 'b, length normalization parameter', 'details': []}, {'value': 30.0, 'description': 'dl, length of field', 'details': []}, {'value': 16.9629, 'description': 'avgdl, average length of field', 'details': []}]}]}]}]}}, {'_shard': '[ecommerce][0]', '_node': 'RsKfw9aKSqyvO8W6Rey7TA', '_index': 'ecommerce', '_id': 'B086JFBBTF', '_score': 26.411598, '_source': {'product_bullet_point': 'Brand:double-june,Type:Fitted Case,Compatible Brand:for apple for iPhones,Compatible for iPhone Model:for iPhone 6\\nCompatible for iPhone Model:for iPhone 6 Plus,Compatible for iPhone Model:for iPhone 6S,Compatible for iPhone Model:for iPhone 6s plus,Compatible for iPhone Model:for iPhone 7,Compatible for iPhone Model:for iPhone 7 Plus\\nCompatible for iPhone Model:for iPhone 8 PLUS,Compatible for iPhone Model:for iPhone 8,Compatible for iPhone Model:for iPhone X,Compatible for iPhone Model:for iPhone XS MAX,Compatible for iPhone Model:for iPhone XR\\nCompatible for iPhone Model:for iPhone xs,Design:Matte,Design:Animal,Function:Dirt-resistant,Function:Anti-knock\\nApplicable type:for iPhone 6/6s,for iPhone 6 /6sPlus,for iPhone 7/8,for iPhone 7 8Plus,for iPhone X XS Max,Texture of material:Silicone soft,Applicable product:for iPhone 6/6s,for iPhone 6 /6sPlus,for iPhone 7/8,for iPhone 7 8Plus,for iPhone X XS Max,Popular element:Kawaii Japanese Strawberry Milk Drink Bottle,model:Back cover type', 'product_id': 'B086JFBBTF', 'product_locale': 'us', 'product_color': 'A', 'product_brand': 'double-june', 'product_description': 'Brand:double-june<br>Type:Fitted Case<br>Compatible Brand:for apple for iPhones<br>Compatible for iPhone Model:for iPhone 6<br>Compatible for iPhone Model:for iPhone 6 Plus<br>Compatible for iPhone Model:for iPhone 6S<br>Compatible for iPhone Model:for iPhone 6s plus<br>Compatible for iPhone Model:for iPhone 7<br>Compatible for iPhone Model:for iPhone 7 Plus<br>Compatible for iPhone Model:for iPhone 8 PLUS<br>Compatible for iPhone Model:for iPhone 8<br>Compatible for iPhone Model:for iPhone X<br>Compatible for iPhone Model:for iPhone XS MAX<br>Compatible for iPhone Model:for iPhone XR<br>Compatible for iPhone Model:for iPhone xs<br>Design:Matte<br>Design:Animal<br>Function:Dirt-resistant<br>Function:Anti-knock<br>Applicable type:for iPhone 6/6s,for iPhone 6 /6sPlus,for iPhone 7/8,for iPhone 7 8Plus,for iPhone X XS Max<br>Texture of material:Silicone soft<br>Applicable product:for iPhone 6/6s,for iPhone 6 /6sPlus,for iPhone 7/8,for iPhone 7 8Plus,for iPhone X XS Max<br>Popular element:Kawaii Japanese Strawberry Milk Drink Bottle<br>model:Back cover type', 'title_embedding': [-0.089994594, -0.03667768, 0.035509303, -0.03174063, -0.0022191023, 0.0334179, 0.033167157, 0.06413765, -0.035212908, 0.007835567, 0.108483545, 0.0136903925, -0.017342612, 0.020708613, 0.08323974, 0.0045827017, -0.008551907, -0.042570263, -0.008314981, -0.0038849616, -0.0051197484, -0.03212486, 0.056291245, 0.029209146, -0.019774945, 0.022583587, 0.010728183, -0.043483008, 0.037714392, -0.03622851, -0.030211363, 0.038540643, 0.046226587, 0.013854209, 0.07451524, -0.009857782, 0.04062196, -0.013262043, 0.058489487, -0.049145646, -0.035724748, -0.05432669, 0.029257523, 0.051845305, -0.019279094, -0.028029917, -0.0073424256, 0.0624257, 0.003806568, 0.10672604, 0.06824978, -0.09953148, 0.0017126848, 0.027204104, 0.04630345, -0.011627735, -0.0277413, 0.037389997, 0.071756355, 0.06470607, 0.023169532, -0.01729091, 0.051968895, 0.07020988, 0.0071256966, -0.020926442, -0.08254706, -0.008587625, -0.075357, 0.021343438, 0.031499196, 0.0070878724, 0.01686913, -0.05276467, -0.051101975, 0.016763156, 0.016643062, -0.07395249, -0.116423644, 0.11632442, -0.005478836, -0.049781714, -0.028680539, -0.08430166, -0.0029837422, -0.039930575, -0.008382081, -0.0277445, -0.05502358, -0.055050965, -0.022953514, 0.07130017, 0.02094186, -0.05314486, -0.0646445, -0.020556295, -0.0071112528, -0.009043702, 0.009145764, 0.011121585, 0.049643088, -0.052297186, 0.04505013, -0.0022857045, 0.095685944, -0.05885078, -0.12315462, -0.07340941, 0.021490414, 0.051185165, -0.10256474, -0.038310073, -0.03439806, 0.024836684, -0.057592627, -0.073424, 0.029040651, 0.06627669, 0.06823984, -0.04090386, -0.011666903, 0.001964676, -0.030593256, -0.02611266, -0.044753533, -0.02090285, -0.05014219, 5.9888686e-33, -0.011902232, -0.019473067, -0.013288417, -0.0044152737, 0.06337696, -0.048637636, -0.011123825, -0.02138549, 0.020058177, 0.026033917, -0.023342192, -0.0033354345, -0.02584617, -0.048061498, 0.005173662, -0.053359587, -0.05389119, 0.0018306382, 0.027656972, -0.04632549, -0.003093273, -0.04708898, -0.03878116, 0.06456639, -0.09491439, 0.04610151, 0.123239286, -0.031532202, 0.04983089, -0.016277635, -0.039104767, -0.041309457, 0.0055845915, 0.067998245, -0.01845392, 0.052238293, -0.0076688407, 0.002360482, 0.08579147, 0.027595932, -0.10256089, 0.023909114, 0.01425094, -0.0064614466, -0.0038682583, 0.057872016, -0.0714697, -0.054231238, 0.05604342, -0.096571766, -0.06404426, -0.11848956, -0.072732404, 0.025533423, -0.008413433, -0.051508546, -0.015671039, 0.0008328464, -0.059805207, 0.04529034, 0.009770824, -0.04796744, 0.018952634, -0.0095065925, -0.053922594, 0.014279306, 0.030966925, -0.14221804, 0.0016168797, 0.05215704, -0.041766394, 0.05371015, 0.07646553, -0.003786989, 0.07847381, -0.037718754, 0.06901408, -0.03447547, -0.028347129, -0.003617076, -0.03661826, 0.06724651, 0.056847095, 0.096777625, -0.018986316, -0.02739368, -0.10265325, -0.015512146, 0.027148409, -0.04761563, -0.08182745, -0.058586672, 0.012672212, -0.017702924, 0.029605474, -6.526947e-33, 0.025456566, -0.06601608, 0.07884202, 0.008757345, 0.068604045, -0.03880016, 0.049851585, 0.15344386, 0.0186499, -0.05396288, -0.032253087, 0.07449328, 0.0037276305, 0.11220804, -0.019438246, 0.13537918, 0.032009378, -0.012877565, 0.035311684, -0.0060341856, 0.03881716, -0.0135661755, -0.023767233, 0.009848274, -0.022082748, 0.014020172, 0.028660685, -0.07921731, 0.035435513, 0.03127973, -0.045063127, -0.11734042, -0.06483403, 0.04616165, -0.04021759, -0.060422923, 0.019670336, 0.017003765, -0.046416145, -0.005300248, 0.02991472, 0.038734555, 0.020101061, 0.06676951, 0.0035513255, -0.039939098, 0.052007888, 0.012917763, 0.047135264, 0.01181517, 0.0056454097, -0.014350375, 0.026467517, 0.06489774, -0.090300776, -0.05070033, 0.041392706, -0.07218731, -0.015032277, -0.010743554, 0.04215408, 0.029466525, -0.025780974, -0.050935082, -0.09273839, -0.046021312, 0.023574512, -0.025886586, -0.049156904, -0.025951525, 0.009314973, -0.029972684, -0.061101586, 0.01714046, 0.010111356, -0.0076333485, -0.044014405, 0.04380616, 0.034864992, 0.0372546, 0.02443008, 0.07683264, -0.05037294, 0.09531757, 0.12784219, 0.062196158, 0.07243927, 0.03838005, 0.03660471, -0.0501039, -0.032468412, 0.049120635, -0.0028829284, 0.03772012, 0.024077246, -3.1747252e-08, 0.07908132, -0.09531854, -0.05216351, -0.027441755, 0.046360422, 0.0031078355, -0.14261396, -0.027940853, 0.09169519, -0.008434046, -0.04790864, 0.036349636, -0.055601936, 0.015923785, -0.116341285, 0.054849003, 0.04187694, 0.12623465, 0.016530713, 0.04492526, -0.07113595, 0.028193709, 0.022690682, -0.02480613, -0.027705574, 0.056335382, -0.033989888, -0.043187838, 0.013385773, -0.010321718, -0.004027085, 0.051982075, -0.017432477, -0.04810823, 0.044925097, 0.039490048, -0.03370536, -0.009101032, -0.056965005, -0.021218354, 0.014250899, -0.15162838, 0.022621708, -0.0008581555, 0.034914274, -0.022679837, 0.009376322, -0.0763309, 0.03047192, 0.094391584, -0.03455832, -0.07519726, 0.027852453, -0.022883525, 0.066940375, 0.047511686, 0.041016236, -0.033541244, 0.022637242, 0.06023906, 0.09238229, -0.01070703, 0.059068378, 0.03560964], 'product_title': 'Double-June Kawaii Japanese Strawberry Milk Drink Bottle Phone Case for iPhone 11 Pro Max 6S 7 8 Puls X Xs Max Xr Cases Soft-A-for iPhone Xr(6.1)'}, '_explanation': {'value': 26.411598, 'description': 'max of:', 'details': [{'value': 4.402682, 'description': 'weight(product_description:iphone in 189715) [PerFieldSimilarity], result of:', 'details': [{'value': 4.402682, 'description': 'score(freq=35.0), computed as boost * idf * tf from:', 'details': [{'value': 1.0780001, 'description': 'boost', 'details': []}, {'value': 4.2405686, 'description': 'idf, computed as log(1 + (N - n + 0.5) / (n + 0.5)) from:', 'details': [{'value': 9298, 'description': 'n, number of documents containing term', 'details': []}, {'value': 645755, 'description': 'N, total number of documents with field', 'details': []}]}, {'value': 0.9631067, 'description': 'tf, computed as freq / (freq + k1 * (1 - b + b * dl / avgdl)) from:', 'details': [{'value': 35.0, 'description': 'freq, occurrences of term within document', 'details': []}, {'value': 1.2, 'description': 'k1, term saturation parameter', 'details': []}, {'value': 0.75, 'description': 'b, length normalization parameter', 'details': []}, {'value': 168.0, 'description': 'dl, length of field (approximate)', 'details': []}, {'value': 145.28264, 'description': 'avgdl, average length of field', 'details': []}]}]}]}, {'value': 26.411598, 'description': 'weight(product_bullet_point:iphone in 189715) [PerFieldSimilarity], result of:', 'details': [{'value': 26.411598, 'description': 'score(freq=35.0), computed as boost * idf * tf from:', 'details': [{'value': 6.6000004, 'description': 'boost', 'details': []}, {'value': 4.169001, 'description': 'idf, computed as log(1 + (N - n + 0.5) / (n + 0.5)) from:', 'details': [{'value': 16040, 'description': 'n, number of documents containing term', 'details': []}, {'value': 1037031, 'description': 'N, total number of documents with field', 'details': []}]}, {'value': 0.95988387, 'description': 'tf, computed as freq / (freq + k1 * (1 - b + b * dl / avgdl)) from:', 'details': [{'value': 35.0, 'description': 'freq, occurrences of term within document', 'details': []}, {'value': 1.2, 'description': 'k1, term saturation parameter', 'details': []}, {'value': 0.75, 'description': 'b, length normalization parameter', 'details': []}, {'value': 144.0, 'description': 'dl, length of field (approximate)', 'details': []}, {'value': 111.460526, 'description': 'avgdl, average length of field', 'details': []}]}]}]}, {'value': 2.5008533, 'description': 'weight(product_title:iphone in 189715) [PerFieldSimilarity], result of:', 'details': [{'value': 2.5008533, 'description': 'score(freq=2.0), computed as boost * idf * tf from:', 'details': [{'value': 1.122, 'description': 'boost', 'details': []}, {'value': 4.3371625, 'description': 'idf, computed as log(1 + (N - n + 0.5) / (n + 0.5)) from:', 'details': [{'value': 15895, 'description': 'n, number of documents containing term', 'details': []}, {'value': 1215849, 'description': 'N, total number of documents with field', 'details': []}]}, {'value': 0.5139131, 'description': 'tf, computed as freq / (freq + k1 * (1 - b + b * dl / avgdl)) from:', 'details': [{'value': 2.0, 'description': 'freq, occurrences of term within document', 'details': []}, {'value': 1.2, 'description': 'k1, term saturation parameter', 'details': []}, {'value': 0.75, 'description': 'b, length normalization parameter', 'details': []}, {'value': 30.0, 'description': 'dl, length of field', 'details': []}, {'value': 16.9629, 'description': 'avgdl, average length of field', 'details': []}]}]}]}]}}, {'_shard': '[ecommerce][0]', '_node': 'RsKfw9aKSqyvO8W6Rey7TA', '_index': 'ecommerce', '_id': 'B086JFP155', '_score': 26.411598, '_source': {'product_bullet_point': 'Brand:double-june,Type:Fitted Case,Compatible Brand:for apple for iPhones,Compatible for iPhone Model:for iPhone 6\\nCompatible for iPhone Model:for iPhone 6 Plus,Compatible for iPhone Model:for iPhone 6S,Compatible for iPhone Model:for iPhone 6s plus,Compatible for iPhone Model:for iPhone 7,Compatible for iPhone Model:for iPhone 7 Plus\\nCompatible for iPhone Model:for iPhone 8 PLUS,Compatible for iPhone Model:for iPhone 8,Compatible for iPhone Model:for iPhone X,Compatible for iPhone Model:for iPhone XS MAX,Compatible for iPhone Model:for iPhone XR\\nCompatible for iPhone Model:for iPhone xs,Design:Matte,Design:Animal,Function:Dirt-resistant,Function:Anti-knock\\nApplicable type:for iPhone 6/6s,for iPhone 6 /6sPlus,for iPhone 7/8,for iPhone 7 8Plus,for iPhone X XS Max,Texture of material:Silicone soft,Applicable product:for iPhone 6/6s,for iPhone 6 /6sPlus,for iPhone 7/8,for iPhone 7 8Plus,for iPhone X XS Max,Popular element:Kawaii Japanese Strawberry Milk Drink Bottle,model:Back cover type', 'product_id': 'B086JFP155', 'product_locale': 'us', 'product_color': 'A', 'product_brand': 'double-june', 'product_description': 'Brand:double-june<br>Type:Fitted Case<br>Compatible Brand:for apple for iPhones<br>Compatible for iPhone Model:for iPhone 6<br>Compatible for iPhone Model:for iPhone 6 Plus<br>Compatible for iPhone Model:for iPhone 6S<br>Compatible for iPhone Model:for iPhone 6s plus<br>Compatible for iPhone Model:for iPhone 7<br>Compatible for iPhone Model:for iPhone 7 Plus<br>Compatible for iPhone Model:for iPhone 8 PLUS<br>Compatible for iPhone Model:for iPhone 8<br>Compatible for iPhone Model:for iPhone X<br>Compatible for iPhone Model:for iPhone XS MAX<br>Compatible for iPhone Model:for iPhone XR<br>Compatible for iPhone Model:for iPhone xs<br>Design:Matte<br>Design:Animal<br>Function:Dirt-resistant<br>Function:Anti-knock<br>Applicable type:for iPhone 6/6s,for iPhone 6 /6sPlus,for iPhone 7/8,for iPhone 7 8Plus,for iPhone X XS Max<br>Texture of material:Silicone soft<br>Applicable product:for iPhone 6/6s,for iPhone 6 /6sPlus,for iPhone 7/8,for iPhone 7 8Plus,for iPhone X XS Max<br>Popular element:Kawaii Japanese Strawberry Milk Drink Bottle<br>model:Back cover type', 'title_embedding': [-0.08883865, -0.033991158, 0.042693593, -0.018364843, -0.011482809, 0.039624654, 0.031252913, 0.06832183, -0.04521644, 0.029095221, 0.08674536, 0.0034938534, -0.020958856, 0.03226656, 0.08272936, -0.0056276876, -0.007644501, -0.03401846, -0.008761916, -0.019773686, -0.00086246827, -0.03381654, 0.064843304, 0.03752829, -0.024527803, 0.037060972, 0.006294632, -0.021351868, 0.02963012, -0.046052136, -0.03683427, 0.027916124, 0.056828186, 0.02510689, 0.07323256, -0.020389507, 0.036051344, -0.0030513084, 0.054226562, -0.03624708, -0.034739643, -0.04839694, 0.024890868, 0.050687406, -0.030082438, -0.020032156, -0.006400923, 0.05918752, 0.011270054, 0.09382209, 0.053436495, -0.10184921, -0.008436748, 0.03546749, 0.032796316, -0.026615512, -0.02009105, 0.02830347, 0.07459177, 0.0639619, 0.02397781, -0.036181357, 0.04079965, 0.05732168, -0.00574173, -0.029744273, -0.09871633, -0.0019833557, -0.08291313, 0.025981987, 0.053392448, 0.0054825605, 0.021688404, -0.04270603, -0.03399384, 0.024048813, 0.009680413, -0.072874464, -0.13437048, 0.100303695, 0.008615928, -0.0489818, -0.023194745, -0.08906077, 0.0010682025, -0.031319316, -0.015795138, -0.017064014, -0.065444306, -0.06744719, -0.017736528, 0.07215559, 0.022912202, -0.0529168, -0.054047633, -0.007244007, -0.017780917, -0.017330755, -0.005422202, 0.0155450925, 0.05411772, -0.036296073, 0.04339025, -0.00086079753, 0.112352975, -0.0373764, -0.117780775, -0.07584508, 0.031911746, 0.032562733, -0.09813981, -0.019044539, -0.019544214, 0.025533132, -0.05765536, -0.07949865, 0.0301658, 0.0724265, 0.06387851, -0.029662592, -0.01383758, 0.0094610965, -0.0074821115, -0.016049651, -0.062011383, -0.022642618, -0.051635, 7.127464e-33, -0.00016309583, -0.03869752, -0.011916369, 0.013989878, 0.051716484, -0.048410982, -0.022062361, -0.0361825, 0.04393968, 0.011712225, -0.034432683, -0.010309591, -0.009044698, -0.043190118, 0.0012953273, -0.036426798, -0.047678888, -0.0048564663, 0.031540975, -0.050948527, -0.008794523, -0.043519348, -0.041921925, 0.07806122, -0.09269193, 0.0547384, 0.12218399, -0.015398345, 0.06641808, -0.0180563, -0.04023948, -0.036155596, 0.01706251, 0.07253565, -0.008646378, 0.036321677, -0.0040376107, 0.0032544655, 0.09311636, 0.04556571, -0.108129986, 0.01930912, 0.02864514, -0.0011550167, 0.005071456, 0.06346873, -0.07308149, -0.037261385, 0.060287233, -0.08510908, -0.046992525, -0.1136938, -0.07924645, 0.014537304, -0.027087094, -0.038810108, -0.0066616777, -0.0031156223, -0.042113062, 0.03237706, 0.0146807805, -0.05327298, 0.012535676, -0.019237075, -0.04666392, 0.024518076, 0.025991196, -0.12910539, 0.0021958312, 0.0439258, -0.03353532, 0.051072814, 0.08004824, -0.002157815, 0.076484434, -0.027698416, 0.090643205, -0.048152816, -0.028629752, -0.008983394, -0.04923785, 0.057642065, 0.04884535, 0.10635608, -0.014454778, -0.038705457, -0.10983012, -0.03993296, 0.021002948, -0.05173906, -0.09795371, -0.04525333, 0.011693032, -0.011889186, 0.031520385, -7.445238e-33, 0.02304818, -0.06727537, 0.060789343, 0.0018974141, 0.06260035, -0.041697364, 0.041639104, 0.15525392, -0.0042545535, -0.05923797, -0.03378139, 0.062002096, 0.014314563, 0.11030939, -0.031852968, 0.13395704, 0.022141872, -0.021272598, 0.052378748, -0.01377726, 0.04326299, -0.010147334, -0.01927433, 0.02161999, -0.0030459492, 0.006892704, 0.009746352, -0.08976318, 0.044557974, 0.050167974, -0.034125775, -0.12912625, -0.08058851, 0.056122527, -0.052934285, -0.05713183, 0.014506478, 0.0031535348, -0.043319616, -0.016905846, 0.016369954, 0.022696732, 0.022533806, 0.042353008, 0.0098955, -0.04346716, 0.059281718, 0.000876746, 0.05108088, 0.006569589, 0.0074431635, 0.0026426248, 0.0150798205, 0.05187393, -0.108334884, -0.04480458, 0.045313895, -0.07477544, 0.013565066, -0.021793835, 0.050722625, 0.010067603, -0.024194047, -0.046289466, -0.09761421, -0.03512558, 0.012097816, -0.02768383, -0.051149156, -0.04720185, -0.008967233, -0.027537765, -0.059416275, 0.032809384, 0.0145435445, -0.024468249, -0.032175392, 0.04380312, 0.019143615, 0.04604982, 0.026497517, 0.06509911, -0.061224137, 0.0908977, 0.12473332, 0.06510823, 0.07502144, 0.024032263, 0.049186185, -0.038443975, -0.03351335, 0.05497047, -0.0013176333, 0.04427367, 0.010124292, -3.0340026e-08, 0.080266766, -0.0966206, -0.039759874, -0.019057082, 0.054858394, -0.007898409, -0.15453021, -0.02387335, 0.08754447, -0.012574968, -0.05176295, 0.04375552, -0.05945938, 0.030567616, -0.12446139, 0.059477825, 0.042141296, 0.106047034, 0.028655615, 0.04665923, -0.06901242, 0.0153646665, 0.01675983, -0.0017534366, -0.023259485, 0.052450724, -0.03593097, -0.036376666, 0.0033840053, -0.015077882, 0.012935396, 0.034399237, -0.0036460469, -0.0576018, 0.03600432, 0.038443096, -0.030829914, -0.007824916, -0.057447262, -0.033892628, 0.008723536, -0.13781074, 0.03708012, 0.0059351996, 0.04338863, -0.038525105, 0.0065485328, -0.04855451, 0.05339862, 0.10066226, -0.025676392, -0.07599466, 0.030300066, -0.014724391, 0.07324566, 0.023930663, 0.050086774, -0.026994389, 0.034275316, 0.058125503, 0.09645389, -0.009052036, 0.05069248, 0.03832492], 'product_title': 'Double-June Kawaii Japanese Strawberry Milk Drink Bottle Phone Case for iPhone 11 Pro Max 6S 7 8 Puls X Xs Max Xr Cases Soft-A-for iPhone 7'}, '_explanation': {'value': 26.411598, 'description': 'max of:', 'details': [{'value': 4.402682, 'description': 'weight(product_description:iphone in 189716) [PerFieldSimilarity], result of:', 'details': [{'value': 4.402682, 'description': 'score(freq=35.0), computed as boost * idf * tf from:', 'details': [{'value': 1.0780001, 'description': 'boost', 'details': []}, {'value': 4.2405686, 'description': 'idf, computed as log(1 + (N - n + 0.5) / (n + 0.5)) from:', 'details': [{'value': 9298, 'description': 'n, number of documents containing term', 'details': []}, {'value': 645755, 'description': 'N, total number of documents with field', 'details': []}]}, {'value': 0.9631067, 'description': 'tf, computed as freq / (freq + k1 * (1 - b + b * dl / avgdl)) from:', 'details': [{'value': 35.0, 'description': 'freq, occurrences of term within document', 'details': []}, {'value': 1.2, 'description': 'k1, term saturation parameter', 'details': []}, {'value': 0.75, 'description': 'b, length normalization parameter', 'details': []}, {'value': 168.0, 'description': 'dl, length of field (approximate)', 'details': []}, {'value': 145.28264, 'description': 'avgdl, average length of field', 'details': []}]}]}]}, {'value': 26.411598, 'description': 'weight(product_bullet_point:iphone in 189716) [PerFieldSimilarity], result of:', 'details': [{'value': 26.411598, 'description': 'score(freq=35.0), computed as boost * idf * tf from:', 'details': [{'value': 6.6000004, 'description': 'boost', 'details': []}, {'value': 4.169001, 'description': 'idf, computed as log(1 + (N - n + 0.5) / (n + 0.5)) from:', 'details': [{'value': 16040, 'description': 'n, number of documents containing term', 'details': []}, {'value': 1037031, 'description': 'N, total number of documents with field', 'details': []}]}, {'value': 0.95988387, 'description': 'tf, computed as freq / (freq + k1 * (1 - b + b * dl / avgdl)) from:', 'details': [{'value': 35.0, 'description': 'freq, occurrences of term within document', 'details': []}, {'value': 1.2, 'description': 'k1, term saturation parameter', 'details': []}, {'value': 0.75, 'description': 'b, length normalization parameter', 'details': []}, {'value': 144.0, 'description': 'dl, length of field (approximate)', 'details': []}, {'value': 111.460526, 'description': 'avgdl, average length of field', 'details': []}]}]}]}, {'value': 2.5354192, 'description': 'weight(product_title:iphone in 189716) [PerFieldSimilarity], result of:', 'details': [{'value': 2.5354192, 'description': 'score(freq=2.0), computed as boost * idf * tf from:', 'details': [{'value': 1.122, 'description': 'boost', 'details': []}, {'value': 4.3371625, 'description': 'idf, computed as log(1 + (N - n + 0.5) / (n + 0.5)) from:', 'details': [{'value': 15895, 'description': 'n, number of documents containing term', 'details': []}, {'value': 1215849, 'description': 'N, total number of documents with field', 'details': []}]}, {'value': 0.52101624, 'description': 'tf, computed as freq / (freq + k1 * (1 - b + b * dl / avgdl)) from:', 'details': [{'value': 2.0, 'description': 'freq, occurrences of term within document', 'details': []}, {'value': 1.2, 'description': 'k1, term saturation parameter', 'details': []}, {'value': 0.75, 'description': 'b, length normalization parameter', 'details': []}, {'value': 29.0, 'description': 'dl, length of field', 'details': []}, {'value': 16.9629, 'description': 'avgdl, average length of field', 'details': []}]}]}]}]}}, {'_shard': '[ecommerce][0]', '_node': 'RsKfw9aKSqyvO8W6Rey7TA', '_index': 'ecommerce', '_id': 'B086JG14CJ', '_score': 26.411598, '_source': {'product_bullet_point': 'Brand:double-june,Type:Fitted Case,Compatible Brand:for apple for iPhones,Compatible for iPhone Model:for iPhone 6\\nCompatible for iPhone Model:for iPhone 6 Plus,Compatible for iPhone Model:for iPhone 6S,Compatible for iPhone Model:for iPhone 6s plus,Compatible for iPhone Model:for iPhone 7,Compatible for iPhone Model:for iPhone 7 Plus\\nCompatible for iPhone Model:for iPhone 8 PLUS,Compatible for iPhone Model:for iPhone 8,Compatible for iPhone Model:for iPhone X,Compatible for iPhone Model:for iPhone XS MAX,Compatible for iPhone Model:for iPhone XR\\nCompatible for iPhone Model:for iPhone xs,Design:Matte,Design:Animal,Function:Dirt-resistant,Function:Anti-knock\\nApplicable type:for iPhone 6/6s,for iPhone 6 /6sPlus,for iPhone 7/8,for iPhone 7 8Plus,for iPhone X XS Max,Texture of material:Silicone soft,Applicable product:for iPhone 6/6s,for iPhone 6 /6sPlus,for iPhone 7/8,for iPhone 7 8Plus,for iPhone X XS Max,Popular element:Kawaii Japanese Strawberry Milk Drink Bottle,model:Back cover type', 'product_id': 'B086JG14CJ', 'product_locale': 'us', 'product_color': 'A', 'product_brand': 'double-june', 'product_description': 'Brand:double-june<br>Type:Fitted Case<br>Compatible Brand:for apple for iPhones<br>Compatible for iPhone Model:for iPhone 6<br>Compatible for iPhone Model:for iPhone 6 Plus<br>Compatible for iPhone Model:for iPhone 6S<br>Compatible for iPhone Model:for iPhone 6s plus<br>Compatible for iPhone Model:for iPhone 7<br>Compatible for iPhone Model:for iPhone 7 Plus<br>Compatible for iPhone Model:for iPhone 8 PLUS<br>Compatible for iPhone Model:for iPhone 8<br>Compatible for iPhone Model:for iPhone X<br>Compatible for iPhone Model:for iPhone XS MAX<br>Compatible for iPhone Model:for iPhone XR<br>Compatible for iPhone Model:for iPhone xs<br>Design:Matte<br>Design:Animal<br>Function:Dirt-resistant<br>Function:Anti-knock<br>Applicable type:for iPhone 6/6s,for iPhone 6 /6sPlus,for iPhone 7/8,for iPhone 7 8Plus,for iPhone X XS Max<br>Texture of material:Silicone soft<br>Applicable product:for iPhone 6/6s,for iPhone 6 /6sPlus,for iPhone 7/8,for iPhone 7 8Plus,for iPhone X XS Max<br>Popular element:Kawaii Japanese Strawberry Milk Drink Bottle<br>model:Back cover type', 'title_embedding': [-0.07999307, -0.036315635, 0.040984787, -0.032944478, -0.010602159, 0.03836481, 0.0402589, 0.06984223, -0.027630042, 0.0104839895, 0.10277147, 0.0149269095, -0.018690538, 0.019814609, 0.07688252, 0.006032131, -0.009119131, -0.047054663, -0.019296149, 0.0059339856, 0.012501279, -0.048593525, 0.05700482, 0.021934137, -0.01804323, 0.04188702, 0.019329404, -0.03559662, 0.041748367, -0.03327013, -0.028071119, 0.049261365, 0.054552794, -0.0006129282, 0.07182698, 0.0032683348, 0.033932168, -0.011227147, 0.06266401, -0.04147936, -0.030667279, -0.053418435, 0.024659652, 0.051433314, -0.02643329, -0.04528304, -0.0054030907, 0.067375615, 0.008676946, 0.113807626, 0.0579569, -0.10385904, 0.00068447745, 0.032401912, 0.037098404, -0.016150946, -0.02862064, 0.039873946, 0.06775903, 0.052223187, 0.026799405, 0.0046199877, 0.04635099, 0.073281564, 0.0038701997, -0.013174231, -0.09000267, -0.010040007, -0.079890706, 0.033336002, 0.03850552, 0.015373641, 0.01465106, -0.04868839, -0.048140477, 0.013738673, 0.026976472, -0.08601506, -0.11284659, 0.110754244, -0.008603593, -0.037267976, -0.036921203, -0.07798396, -0.0008225174, -0.041867234, -0.010413004, -0.013615359, -0.056381136, -0.05575572, -0.011350072, 0.0787285, 0.030210547, -0.05086218, -0.04123937, -0.014699985, -0.020872645, -0.011615108, 0.007440137, 0.0026724685, 0.05862343, -0.044886462, 0.04704692, 0.005582003, 0.09418223, -0.045188684, -0.12634231, -0.07337407, 0.012374292, 0.041432265, -0.1063792, -0.046497837, -0.03451025, 0.02155969, -0.05716915, -0.060352854, 0.028797839, 0.071326874, 0.05552584, -0.04269721, -0.007467452, -0.00053194456, -0.03571458, -0.010947743, -0.038371034, -0.0076025487, -0.056595456, 6.439501e-33, -0.014872442, -0.017327556, -0.022724273, 0.006666178, 0.051247705, -0.0544784, -0.004856956, -0.03602249, 0.020844279, 0.03489148, -0.023513226, 0.007636855, -0.024122784, -0.044468578, 0.007111327, -0.04920522, -0.042058982, 0.0066619865, 0.026180245, -0.03528085, 0.006042638, -0.04668055, -0.039209332, 0.065862186, -0.09675168, 0.053725105, 0.12933941, -0.020806124, 0.04763001, -0.019627675, -0.03105501, -0.045665834, 0.00046200736, 0.076141484, -0.017663984, 0.064221, 0.0012422957, 0.0037368888, 0.08065201, 0.029346017, -0.11605318, 0.030402925, 0.017660934, -0.013490426, 0.006783094, 0.043938003, -0.08329606, -0.065056756, 0.06871859, -0.10764067, -0.06729108, -0.11302984, -0.0577291, 0.023189044, -0.013605621, -0.043299757, -0.020045338, 0.0070586693, -0.061061595, 0.05424803, 0.006837941, -0.054296523, 0.01820811, -0.0047653806, -0.057240546, 0.017076965, 0.03518325, -0.14615417, -0.0067173406, 0.06336916, -0.038655125, 0.049834274, 0.08459814, 0.003156378, 0.08514832, -0.044454075, 0.063560694, -0.03667108, -0.027694035, -0.006008359, -0.039029066, 0.05965386, 0.055694092, 0.09444157, -0.014586963, -0.033940256, -0.11153002, -0.004472058, 0.013766672, -0.03779425, -0.09072446, -0.06344484, 0.009096353, -0.009505444, 0.022786291, -6.781623e-33, 0.008089027, -0.057254467, 0.070624515, 0.0068908064, 0.056928456, -0.033633895, 0.05562036, 0.15694614, 0.0062951082, -0.05126632, -0.037081208, 0.08007592, -0.003159613, 0.10188053, -0.02080316, 0.13726722, 0.037901063, -0.025764862, 0.026294388, -0.020879483, 0.04320279, -0.0055967676, -0.019237623, 0.0129918335, -0.01537196, 0.0179458, 0.033423502, -0.08458041, 0.026919115, 0.024773829, -0.05467364, -0.1184672, -0.0650604, 0.04846262, -0.038499177, -0.067155726, 0.022490308, 0.03791397, -0.045617245, -0.0016006827, 0.029107973, 0.030409474, 0.033447463, 0.060943387, 0.0046648756, -0.04131746, 0.040076464, 0.0010501745, 0.052508835, 0.016254859, -0.002540668, -0.012557391, 0.033715058, 0.07133922, -0.088237375, -0.05879992, 0.03321399, -0.06848301, -0.009969305, -0.0152627975, 0.036298294, 0.032606166, -0.016903495, -0.044804763, -0.09103389, -0.045644514, 0.012914839, -0.034530874, -0.051185403, -0.02679543, 0.006075535, -0.03156135, -0.07110508, 0.019574156, -0.00040900038, -0.008325918, -0.051128812, 0.04075947, 0.038725678, 0.041190553, 0.02391537, 0.07219893, -0.045924082, 0.092171244, 0.11403183, 0.06119938, 0.07369164, 0.043555226, 0.0439395, -0.047820263, -0.031905893, 0.043484073, 0.003215215, 0.017532403, 0.019070303, -3.266128e-08, 0.072879136, -0.089653276, -0.04681581, -0.025922367, 0.03747579, -0.0026018757, -0.15009734, -0.032219533, 0.10306594, -0.0032302344, -0.04250363, 0.030434351, -0.050078645, 0.018726366, -0.12507312, 0.037217263, 0.04829205, 0.12224896, 0.017089153, 0.032441948, -0.06761715, 0.040238243, 0.014624945, -0.0153542245, -0.023974592, 0.049821567, -0.030214177, -0.04939283, 0.009587205, 0.005621058, -0.015936907, 0.044838473, -0.0145389065, -0.047697216, 0.031453826, 0.038586486, -0.02934514, -0.0053149066, -0.054534204, -0.010555892, 0.0136355, -0.15557702, 0.029977847, -0.0070331725, 0.04679582, -0.029632676, 0.01005885, -0.0697082, 0.045638975, 0.09639166, -0.032532476, -0.078871265, 0.011711565, -0.035380166, 0.051498514, 0.04432427, 0.038105194, -0.027942512, 0.027390597, 0.054856192, 0.08375819, -0.011303328, 0.04828537, 0.028781526], 'product_title': 'Double-June Kawaii Japanese Strawberry Milk Drink Bottle Phone Case for iPhone 11 Pro Max 6S 7 8 Puls X Xs Max Xr Cases Soft-A-for Xsmax(6.5)'}, '_explanation': {'value': 26.411598, 'description': 'max of:', 'details': [{'value': 4.402682, 'description': 'weight(product_description:iphone in 189717) [PerFieldSimilarity], result of:', 'details': [{'value': 4.402682, 'description': 'score(freq=35.0), computed as boost * idf * tf from:', 'details': [{'value': 1.0780001, 'description': 'boost', 'details': []}, {'value': 4.2405686, 'description': 'idf, computed as log(1 + (N - n + 0.5) / (n + 0.5)) from:', 'details': [{'value': 9298, 'description': 'n, number of documents containing term', 'details': []}, {'value': 645755, 'description': 'N, total number of documents with field', 'details': []}]}, {'value': 0.9631067, 'description': 'tf, computed as freq / (freq + k1 * (1 - b + b * dl / avgdl)) from:', 'details': [{'value': 35.0, 'description': 'freq, occurrences of term within document', 'details': []}, {'value': 1.2, 'description': 'k1, term saturation parameter', 'details': []}, {'value': 0.75, 'description': 'b, length normalization parameter', 'details': []}, {'value': 168.0, 'description': 'dl, length of field (approximate)', 'details': []}, {'value': 145.28264, 'description': 'avgdl, average length of field', 'details': []}]}]}]}, {'value': 26.411598, 'description': 'weight(product_bullet_point:iphone in 189717) [PerFieldSimilarity], result of:', 'details': [{'value': 26.411598, 'description': 'score(freq=35.0), computed as boost * idf * tf from:', 'details': [{'value': 6.6000004, 'description': 'boost', 'details': []}, {'value': 4.169001, 'description': 'idf, computed as log(1 + (N - n + 0.5) / (n + 0.5)) from:', 'details': [{'value': 16040, 'description': 'n, number of documents containing term', 'details': []}, {'value': 1037031, 'description': 'N, total number of documents with field', 'details': []}]}, {'value': 0.95988387, 'description': 'tf, computed as freq / (freq + k1 * (1 - b + b * dl / avgdl)) from:', 'details': [{'value': 35.0, 'description': 'freq, occurrences of term within document', 'details': []}, {'value': 1.2, 'description': 'k1, term saturation parameter', 'details': []}, {'value': 0.75, 'description': 'b, length normalization parameter', 'details': []}, {'value': 144.0, 'description': 'dl, length of field (approximate)', 'details': []}, {'value': 111.460526, 'description': 'avgdl, average length of field', 'details': []}]}]}]}, {'value': 1.7142982, 'description': 'weight(product_title:iphone in 189717) [PerFieldSimilarity], result of:', 'details': [{'value': 1.7142982, 'description': 'score(freq=1.0), computed as boost * idf * tf from:', 'details': [{'value': 1.122, 'description': 'boost', 'details': []}, {'value': 4.3371625, 'description': 'idf, computed as log(1 + (N - n + 0.5) / (n + 0.5)) from:', 'details': [{'value': 15895, 'description': 'n, number of documents containing term', 'details': []}, {'value': 1215849, 'description': 'N, total number of documents with field', 'details': []}]}, {'value': 0.35227984, 'description': 'tf, computed as freq / (freq + k1 * (1 - b + b * dl / avgdl)) from:', 'details': [{'value': 1.0, 'description': 'freq, occurrences of term within document', 'details': []}, {'value': 1.2, 'description': 'k1, term saturation parameter', 'details': []}, {'value': 0.75, 'description': 'b, length normalization parameter', 'details': []}, {'value': 29.0, 'description': 'dl, length of field', 'details': []}, {'value': 16.9629, 'description': 'avgdl, average length of field', 'details': []}]}]}]}]}}]}}\n"
     ]
    }
   ],
   "source": [
    "# Run the query\n",
    "url = host + \"ecommerce/_search?search_pipeline=ml_inference_pipeline\"\n",
    "\n",
    "payload = {\n",
    "\"query\": {\n",
    "  \"term\": {\n",
    "    \"features\": {\n",
    "      \"value\": \"2, 0, 169, 1.1657, 8.58744, 0.67777\"\n",
    "      }\n",
    "    }\n",
    "  }\n",
    "}\n",
    "\n",
    "response = requests.request(\"POST\", url, headers=headers, data=json.dumps(payload))\n",
    "print(response.json())"
   ]
  },
  {
   "cell_type": "code",
   "execution_count": 33,
   "id": "f1b5bc99-35f0-4732-99ca-93f8d6806888",
   "metadata": {},
   "outputs": [
    {
     "name": "stdout",
     "output_type": "stream",
     "text": [
      "{'acknowledged': True}\n"
     ]
    }
   ],
   "source": [
    "# this hybrid search pipeline is not working right now\n",
    "url = host + \"_search/pipeline/ml_inference_pipeline\" \n",
    "\n",
    "payload = {\n",
    "  \"description\": \"search with predictions\",\n",
    "  \"request_processors\": [\n",
    "    {\n",
    "      \"ml_inference\": {\n",
    "        \"function_name\": \"remote\",\n",
    "        \"full_response_path\": True,\n",
    "        \"model_id\": model_id,\n",
    "        \"model_input\": \"\"\"{ \"parameters\": {\"input\": \"${input_map.features}\"}}\"\"\",\n",
    "        \"query_template\": \"\"\"{\n",
    "  \"_source\": {\n",
    "    \"excludes\": [\n",
    "      \"title_embedding\"\n",
    "    ]\n",
    "  },\n",
    "  \"query\": {\n",
    "    \"hybrid\": {\n",
    "      \"queries\": [\n",
    "        {\n",
    "          \"multi_match\": {\n",
    "            \"type\": \"best_fields\",\n",
    "            \"fields\": [\n",
    "              \"product_id^100\",\n",
    "              \"product_bullet_point^3\",\n",
    "              \"product_color^2\",\n",
    "              \"product_brand^5\",\n",
    "              \"product_description\",\n",
    "              \"product_title^10\"\n",
    "            ],\n",
    "            \"operator\": \"and\",\n",
    "            \"query\": \"iphone\"\n",
    "          }\n",
    "        },\n",
    "        {\n",
    "          \"neural\": {\n",
    "            \"title_embedding\": {\n",
    "              \"query_text\": \"iphone\",\n",
    "              \"k\": 5\n",
    "            }\n",
    "          }\n",
    "        }\n",
    "      ]\n",
    "    }\n",
    "  },\n",
    "  \"search_pipeline\": {\n",
    "    \"request_processors\": [\n",
    "      {\n",
    "        \"neural_query_enricher\": {\n",
    "          \"description\": \"one of many search pipelines for experimentation\",\n",
    "          \"default_model_id\": \"i6jHTZMBflg_ePyfu9EK\",\n",
    "          \"neural_field_default_id\": {\n",
    "            \"title_embeddings\": \"i6jHTZMBflg_ePyfu9EK\"\n",
    "          }\n",
    "        }\n",
    "      }\n",
    "    ],\n",
    "    \"phase_results_processors\": [\n",
    "      {\n",
    "        \"normalization-processor\": {\n",
    "          \"normalization\": {\n",
    "            \"technique\": \"l2\"\n",
    "          },\n",
    "          \"combination\": {\n",
    "            \"technique\": \"arithmetic_mean\",\n",
    "            \"parameters\": {\n",
    "              \"weights\": [\n",
    "                ${keywordness},\n",
    "                ${neuralness}\n",
    "              ]\n",
    "            }\n",
    "          }\n",
    "        }\n",
    "      }\n",
    "    ]\n",
    "  },\n",
    "  \"size\": 1\n",
    "}\"\"\",\n",
    "        \"input_map\": [\n",
    "          {\n",
    "            \"features\": \"query.term.features.value\"\n",
    "          }\n",
    "        ],\n",
    "        \"output_map\": [\n",
    "          {\n",
    "            \"neuralness\": \"$.inference_results[0]output[0]dataAsMap.neuralness\",\n",
    "            \"keywordness\": \"$.inference_results[0]output[0]dataAsMap.keywordness\"\n",
    "          }\n",
    "        ],\n",
    "        \"ignore_missing\": False,\n",
    "        \"ignore_failure\": False\n",
    "      }\n",
    "    }\n",
    "  ]\n",
    "}\n",
    "\n",
    "response = requests.request(\"PUT\", url, headers=headers, data=json.dumps(payload))\n",
    "print(response.json())"
   ]
  },
  {
   "cell_type": "code",
   "execution_count": 34,
   "id": "41298351-aa8c-4053-a1d8-2fb0fb3baed6",
   "metadata": {},
   "outputs": [
    {
     "name": "stdout",
     "output_type": "stream",
     "text": [
      "{'error': {'root_cause': [{'type': 'null_pointer_exception', 'reason': 'modelId is marked non-null but is null'}], 'type': 'null_pointer_exception', 'reason': 'modelId is marked non-null but is null'}, 'status': 500}\n"
     ]
    }
   ],
   "source": [
    "# Run the query\n",
    "url = host + \"ecommerce/_search?search_pipeline=ml_inference_pipeline\"\n",
    "\n",
    "payload = {\n",
    "\"query\": {\n",
    "  \"term\": {\n",
    "    \"features\": {\n",
    "      \"value\": \"2, 0, 169, 1.1657, 8.58744, 0.67777\"\n",
    "      }\n",
    "    }\n",
    "  }\n",
    "}\n",
    "\n",
    "response = requests.request(\"POST\", url, headers=headers, data=json.dumps(payload))\n",
    "print(response.json())"
   ]
  },
  {
   "cell_type": "markdown",
   "id": "eda8c5af-2bae-4f15-aad0-2a0b38e7da7b",
   "metadata": {},
   "source": [
    "When changing the pipeline config by extracting the neural_query_enricher outside of the `query_template` there are results butr they look not normalized (negative scores for what apparently are neural search results, regular keyword search result scores)"
   ]
  },
  {
   "cell_type": "code",
   "execution_count": 35,
   "id": "180e42b5-8503-4640-bf9a-f9a2b41c14a8",
   "metadata": {},
   "outputs": [
    {
     "name": "stdout",
     "output_type": "stream",
     "text": [
      "{'acknowledged': True}\n"
     ]
    }
   ],
   "source": [
    "# this hybrid search pipeline is not working right now\n",
    "url = host + \"_search/pipeline/ml_inference_pipeline\" \n",
    "\n",
    "payload = {\n",
    "  \"description\": \"search with predictions\",\n",
    "  \"request_processors\": [\n",
    "    {\n",
    "      \"ml_inference\": {\n",
    "        \"function_name\": \"remote\",\n",
    "        \"full_response_path\": True,\n",
    "        \"model_id\": \"zRG2YpMBDpIvIC8uJxhB\",\n",
    "        \"model_input\": \"\"\"{ \"parameters\": {\"input\": \"${input_map.features}\"}}\"\"\",\n",
    "        \"query_template\": \"\"\"{\n",
    "  \"_source\": {\n",
    "    \"excludes\": [\n",
    "      \"title_embedding\"\n",
    "    ]\n",
    "  },\n",
    "  \"query\": {\n",
    "    \"hybrid\": {\n",
    "      \"queries\": [\n",
    "        {\n",
    "          \"multi_match\": {\n",
    "            \"type\": \"best_fields\",\n",
    "            \"fields\": [\n",
    "              \"product_id^100\",\n",
    "              \"product_bullet_point^3\",\n",
    "              \"product_color^2\",\n",
    "              \"product_brand^5\",\n",
    "              \"product_description\",\n",
    "              \"product_title^10\"\n",
    "            ],\n",
    "            \"operator\": \"and\",\n",
    "            \"query\": \"iphone\"\n",
    "          }\n",
    "        },\n",
    "        {\n",
    "          \"neural\": {\n",
    "            \"title_embedding\": {\n",
    "              \"query_text\": \"iphone\",\n",
    "              \"k\": 50\n",
    "            }\n",
    "          }\n",
    "        }\n",
    "      ]\n",
    "    }\n",
    "  },\n",
    "  \"search_pipeline\": {\n",
    "    \"phase_results_processors\": [\n",
    "      {\n",
    "        \"normalization-processor\": {\n",
    "          \"normalization\": {\n",
    "            \"technique\": \"l2\"\n",
    "          },\n",
    "          \"combination\": {\n",
    "            \"technique\": \"arithmetic_mean\",\n",
    "            \"parameters\": {\n",
    "              \"weights\": [\n",
    "                ${keywordness},\n",
    "                ${neuralness}\n",
    "              ]\n",
    "            }\n",
    "          }\n",
    "        }\n",
    "      }\n",
    "    ]\n",
    "  },\n",
    "  \"size\": 100\n",
    "}\"\"\",\n",
    "        \"input_map\": [\n",
    "          {\n",
    "            \"features\": \"query.term.features.value\"\n",
    "          }\n",
    "        ],\n",
    "        \"output_map\": [\n",
    "          {\n",
    "            \"neuralness\": \"$.inference_results[0]output[0]dataAsMap.neuralness\",\n",
    "            \"keywordness\": \"$.inference_results[0]output[0]dataAsMap.keywordness\"\n",
    "          }\n",
    "        ],\n",
    "        \"ignore_missing\": False,\n",
    "        \"ignore_failure\": False\n",
    "      }\n",
    "    },\n",
    "    {\n",
    "      \"neural_query_enricher\": {\n",
    "        \"description\": \"one of many search pipelines for experimentation\",\n",
    "        \"default_model_id\": \"i6jHTZMBflg_ePyfu9EK\",\n",
    "        \"neural_field_default_id\": {\n",
    "            \"title_embeddings\": \"i6jHTZMBflg_ePyfu9EK\"\n",
    "          }\n",
    "      }\n",
    "    }\n",
    "  ]\n",
    "}\n",
    "\n",
    "response = requests.request(\"PUT\", url, headers=headers, data=json.dumps(payload))\n",
    "print(response.json())"
   ]
  },
  {
   "cell_type": "code",
   "execution_count": null,
   "id": "5cdb2ceb-3f84-4710-bb05-6771e574128f",
   "metadata": {},
   "outputs": [],
   "source": []
  }
 ],
 "metadata": {
  "kernelspec": {
   "display_name": "Python 3 (ipykernel)",
   "language": "python",
   "name": "python3"
  },
  "language_info": {
   "codemirror_mode": {
    "name": "ipython",
    "version": 3
   },
   "file_extension": ".py",
   "mimetype": "text/x-python",
   "name": "python",
   "nbconvert_exporter": "python",
   "pygments_lexer": "ipython3",
   "version": "3.12.6"
  }
 },
 "nbformat": 4,
 "nbformat_minor": 5
}
