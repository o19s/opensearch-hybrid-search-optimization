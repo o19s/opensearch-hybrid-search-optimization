{
 "cells": [
  {
   "cell_type": "markdown",
   "id": "29730fbc-4c4d-4141-9b35-521aa23e052d",
   "metadata": {},
   "source": [
    "# Feature Engineering and Model Training for Per-Query Optimization\n",
    "\n",
    "This notebook goes through the process of feature engineering based on the query set used for the global hybrid search optimization notebook.\n",
    "\n",
    "It tries out different feature combinations and model types to identify a useful way forward towards optimizing queries dynamically.\n",
    "\n",
    "Notes:\n",
    "\n",
    "* `searcharray` produced an error with numpy version 2.1.2\n",
    "* Make sure to use `numpy==1.26.4`\n",
    "\n",
    "Error fixed in the meantime (not verified)"
   ]
  },
  {
   "cell_type": "code",
   "execution_count": 17,
   "id": "c5e017f9-90a2-41f6-ab60-41f75ba4d533",
   "metadata": {},
   "outputs": [],
   "source": [
    "import pandas as pd\n",
    "import math\n",
    "import string\n",
    "import requests\n",
    "import json\n",
    "from searcharray import SearchArray\n",
    "import numpy as np\n",
    "import plotly.express as px\n",
    "import plotly.io as pio\n",
    "from plotly.subplots import make_subplots\n",
    "import plotly.graph_objects as go\n",
    "from tqdm.notebook import tqdm_notebook"
   ]
  },
  {
   "cell_type": "code",
   "execution_count": 18,
   "id": "5abdf678-58bf-4082-9bfe-53d69e9935d2",
   "metadata": {},
   "outputs": [],
   "source": [
    "df_metrics = pd.read_csv('../data/metrics_5000_queries-2024-11-04.csv')"
   ]
  },
  {
   "cell_type": "code",
   "execution_count": 19,
   "id": "c25417d1-cb51-4622-bfca-2db3a062e438",
   "metadata": {},
   "outputs": [
    {
     "data": {
      "text/html": [
       "<div>\n",
       "<style scoped>\n",
       "    .dataframe tbody tr th:only-of-type {\n",
       "        vertical-align: middle;\n",
       "    }\n",
       "\n",
       "    .dataframe tbody tr th {\n",
       "        vertical-align: top;\n",
       "    }\n",
       "\n",
       "    .dataframe thead th {\n",
       "        text-align: right;\n",
       "    }\n",
       "</style>\n",
       "<table border=\"1\" class=\"dataframe\">\n",
       "  <thead>\n",
       "    <tr style=\"text-align: right;\">\n",
       "      <th></th>\n",
       "      <th>query</th>\n",
       "      <th>pipeline</th>\n",
       "      <th>metric</th>\n",
       "      <th>value</th>\n",
       "    </tr>\n",
       "  </thead>\n",
       "  <tbody>\n",
       "    <tr>\n",
       "      <th>330000</th>\n",
       "      <td>#8 tags without string</td>\n",
       "      <td>l2arithmetic_mean0.0</td>\n",
       "      <td>ndcg</td>\n",
       "      <td>0.078872</td>\n",
       "    </tr>\n",
       "    <tr>\n",
       "      <th>330001</th>\n",
       "      <td>#8 tags without string</td>\n",
       "      <td>l2arithmetic_mean0.1</td>\n",
       "      <td>ndcg</td>\n",
       "      <td>0.078872</td>\n",
       "    </tr>\n",
       "    <tr>\n",
       "      <th>330002</th>\n",
       "      <td>#8 tags without string</td>\n",
       "      <td>l2arithmetic_mean0.2</td>\n",
       "      <td>ndcg</td>\n",
       "      <td>0.078872</td>\n",
       "    </tr>\n",
       "  </tbody>\n",
       "</table>\n",
       "</div>"
      ],
      "text/plain": [
       "                         query              pipeline metric     value\n",
       "330000  #8 tags without string  l2arithmetic_mean0.0   ndcg  0.078872\n",
       "330001  #8 tags without string  l2arithmetic_mean0.1   ndcg  0.078872\n",
       "330002  #8 tags without string  l2arithmetic_mean0.2   ndcg  0.078872"
      ]
     },
     "execution_count": 19,
     "metadata": {},
     "output_type": "execute_result"
    }
   ],
   "source": [
    "df_metrics[df_metrics['metric'] == 'ndcg'].head(3)"
   ]
  },
  {
   "cell_type": "code",
   "execution_count": 20,
   "id": "9bb1d317-dd82-44da-b164-dccf98fbb6f6",
   "metadata": {},
   "outputs": [],
   "source": [
    "indexes = df_metrics[df_metrics['metric'] == 'ndcg'].groupby(by='query')['value'].idxmax()\n",
    "df_filtered = df_metrics.loc[indexes, ['query','pipeline', 'value']]\n",
    "df_filtered.reset_index(inplace=True, drop=True)"
   ]
  },
  {
   "cell_type": "code",
   "execution_count": 21,
   "id": "a7abc55e-9ef4-4ebc-8e69-3427550e134b",
   "metadata": {},
   "outputs": [
    {
     "data": {
      "text/html": [
       "<div>\n",
       "<style scoped>\n",
       "    .dataframe tbody tr th:only-of-type {\n",
       "        vertical-align: middle;\n",
       "    }\n",
       "\n",
       "    .dataframe tbody tr th {\n",
       "        vertical-align: top;\n",
       "    }\n",
       "\n",
       "    .dataframe thead th {\n",
       "        text-align: right;\n",
       "    }\n",
       "</style>\n",
       "<table border=\"1\" class=\"dataframe\">\n",
       "  <thead>\n",
       "    <tr style=\"text-align: right;\">\n",
       "      <th></th>\n",
       "      <th>query</th>\n",
       "      <th>pipeline</th>\n",
       "      <th>value</th>\n",
       "    </tr>\n",
       "  </thead>\n",
       "  <tbody>\n",
       "    <tr>\n",
       "      <th>0</th>\n",
       "      <td>#8 tags without string</td>\n",
       "      <td>l2arithmetic_mean0.8</td>\n",
       "      <td>0.481147</td>\n",
       "    </tr>\n",
       "    <tr>\n",
       "      <th>1</th>\n",
       "      <td>$1 dollar toys not fidgets</td>\n",
       "      <td>l2arithmetic_mean1.0</td>\n",
       "      <td>0.021742</td>\n",
       "    </tr>\n",
       "    <tr>\n",
       "      <th>2</th>\n",
       "      <td>$30 roblox gift card not digital</td>\n",
       "      <td>l2arithmetic_mean1.0</td>\n",
       "      <td>0.082293</td>\n",
       "    </tr>\n",
       "  </tbody>\n",
       "</table>\n",
       "</div>"
      ],
      "text/plain": [
       "                              query              pipeline     value\n",
       "0            #8 tags without string  l2arithmetic_mean0.8  0.481147\n",
       "1        $1 dollar toys not fidgets  l2arithmetic_mean1.0  0.021742\n",
       "2  $30 roblox gift card not digital  l2arithmetic_mean1.0  0.082293"
      ]
     },
     "execution_count": 21,
     "metadata": {},
     "output_type": "execute_result"
    }
   ],
   "source": [
    "df_filtered.head(3)"
   ]
  },
  {
   "cell_type": "markdown",
   "id": "481b10b4-02b1-4fad-b705-548931e79500",
   "metadata": {},
   "source": [
    "## Get 'neuralness' of a Query\n",
    "\n",
    "`neuralness` is the weight of the neural query extracted by the pipeline name that was used to generate the NDCG value."
   ]
  },
  {
   "cell_type": "code",
   "execution_count": 22,
   "id": "7cf5ae06-240e-497f-b14e-1db87cbb37f4",
   "metadata": {},
   "outputs": [],
   "source": [
    "def get_neuralness(pipeline):\n",
    "    keywordness = pipeline[-3:]\n",
    "\n",
    "    try:\n",
    "        neuralness = 1 - float(keywordness)\n",
    "        return neuralness\n",
    "    except ValueError:\n",
    "        print(\"ERROR\")\n",
    "        return math.nan"
   ]
  },
  {
   "cell_type": "code",
   "execution_count": 23,
   "id": "4049ce58-057c-40e7-87d9-8798a5733960",
   "metadata": {},
   "outputs": [],
   "source": [
    "df_filtered['neuralness'] = df_filtered.pipeline.apply(get_neuralness)"
   ]
  },
  {
   "cell_type": "code",
   "execution_count": 24,
   "id": "7fd7a044-6951-4bd5-9b53-b2638d94dd8a",
   "metadata": {},
   "outputs": [],
   "source": [
    "df_filtered = df_filtered.drop(columns=['pipeline'])"
   ]
  },
  {
   "cell_type": "code",
   "execution_count": 25,
   "id": "b07b083b-f29b-4dad-9407-0632fa95aa82",
   "metadata": {},
   "outputs": [],
   "source": [
    "df_filtered.columns = ['query_string', 'ndcg', 'neuralness']"
   ]
  },
  {
   "cell_type": "code",
   "execution_count": 26,
   "id": "ce1eb291-01ee-4869-ade8-d15c057e61f1",
   "metadata": {},
   "outputs": [
    {
     "data": {
      "text/html": [
       "<div>\n",
       "<style scoped>\n",
       "    .dataframe tbody tr th:only-of-type {\n",
       "        vertical-align: middle;\n",
       "    }\n",
       "\n",
       "    .dataframe tbody tr th {\n",
       "        vertical-align: top;\n",
       "    }\n",
       "\n",
       "    .dataframe thead th {\n",
       "        text-align: right;\n",
       "    }\n",
       "</style>\n",
       "<table border=\"1\" class=\"dataframe\">\n",
       "  <thead>\n",
       "    <tr style=\"text-align: right;\">\n",
       "      <th></th>\n",
       "      <th>query_string</th>\n",
       "      <th>ndcg</th>\n",
       "      <th>neuralness</th>\n",
       "    </tr>\n",
       "  </thead>\n",
       "  <tbody>\n",
       "    <tr>\n",
       "      <th>0</th>\n",
       "      <td>#8 tags without string</td>\n",
       "      <td>0.481147</td>\n",
       "      <td>0.2</td>\n",
       "    </tr>\n",
       "    <tr>\n",
       "      <th>1</th>\n",
       "      <td>$1 dollar toys not fidgets</td>\n",
       "      <td>0.021742</td>\n",
       "      <td>0.0</td>\n",
       "    </tr>\n",
       "    <tr>\n",
       "      <th>2</th>\n",
       "      <td>$30 roblox gift card not digital</td>\n",
       "      <td>0.082293</td>\n",
       "      <td>0.0</td>\n",
       "    </tr>\n",
       "  </tbody>\n",
       "</table>\n",
       "</div>"
      ],
      "text/plain": [
       "                       query_string      ndcg  neuralness\n",
       "0            #8 tags without string  0.481147         0.2\n",
       "1        $1 dollar toys not fidgets  0.021742         0.0\n",
       "2  $30 roblox gift card not digital  0.082293         0.0"
      ]
     },
     "execution_count": 26,
     "metadata": {},
     "output_type": "execute_result"
    }
   ],
   "source": [
    "df_filtered.head(3)"
   ]
  },
  {
   "cell_type": "markdown",
   "id": "0febd171-5ce8-4165-a1c6-2f1c36ba1ae4",
   "metadata": {},
   "source": [
    "## Query Feature Functions\n",
    "\n",
    "`num_of_terms`: we expect the number of query terms to be a good feature because the more query terms used the more specific a query is.\n",
    "\n",
    "`query_length`: we expect the query length (number of characters) to be a good feature because the longer a query is the more specific it is.\n",
    "\n",
    "`has_numbers`: we expect the presence of numbers/digits to be a good feature because numbers may point towards specific queries.\n",
    "\n",
    "`has_special_char`: we expect the presence of special characters (non-alphanumeric characters) to be a good feature because that may point towards specific queries. "
   ]
  },
  {
   "cell_type": "code",
   "execution_count": 27,
   "id": "26d30d9f-89f4-40c0-b44d-539d33c948d3",
   "metadata": {},
   "outputs": [],
   "source": [
    "def num_of_terms(query_string):\n",
    "    terms = query_string.split(\" \")\n",
    "    return len(terms)\n",
    "\n",
    "def query_length(query_string):\n",
    "    return len(query_string)\n",
    "\n",
    "def has_numbers(query_string):\n",
    "    return int(any(char.isdigit() for char in query_string))\n",
    "\n",
    "def has_special_char(query_string):\n",
    "    # Define special characters (all non-alphanumeric characters)\n",
    "    special_chars = string.punctuation\n",
    "    # Return True if any character in the string is a special character\n",
    "    return int(any(char in special_chars for char in query_string))"
   ]
  },
  {
   "cell_type": "code",
   "execution_count": 28,
   "id": "467724fd-74e0-491c-b444-e2e0a09296e2",
   "metadata": {},
   "outputs": [],
   "source": [
    "df_filtered['num_of_terms'] = df_filtered.query_string.apply(num_of_terms)\n",
    "df_filtered['query_length'] = df_filtered.query_string.apply(query_length)\n",
    "df_filtered['has_numbers'] = df_filtered.query_string.apply(has_numbers)\n",
    "df_filtered['has_special_char'] = df_filtered.query_string.apply(has_special_char)"
   ]
  },
  {
   "cell_type": "code",
   "execution_count": 29,
   "id": "fad3d50d-6253-44f0-b7e3-87eaeb73592c",
   "metadata": {},
   "outputs": [
    {
     "data": {
      "text/html": [
       "<div>\n",
       "<style scoped>\n",
       "    .dataframe tbody tr th:only-of-type {\n",
       "        vertical-align: middle;\n",
       "    }\n",
       "\n",
       "    .dataframe tbody tr th {\n",
       "        vertical-align: top;\n",
       "    }\n",
       "\n",
       "    .dataframe thead th {\n",
       "        text-align: right;\n",
       "    }\n",
       "</style>\n",
       "<table border=\"1\" class=\"dataframe\">\n",
       "  <thead>\n",
       "    <tr style=\"text-align: right;\">\n",
       "      <th></th>\n",
       "      <th>query_string</th>\n",
       "      <th>ndcg</th>\n",
       "      <th>neuralness</th>\n",
       "      <th>num_of_terms</th>\n",
       "      <th>query_length</th>\n",
       "      <th>has_numbers</th>\n",
       "      <th>has_special_char</th>\n",
       "    </tr>\n",
       "  </thead>\n",
       "  <tbody>\n",
       "    <tr>\n",
       "      <th>0</th>\n",
       "      <td>#8 tags without string</td>\n",
       "      <td>0.481147</td>\n",
       "      <td>0.2</td>\n",
       "      <td>4</td>\n",
       "      <td>22</td>\n",
       "      <td>1</td>\n",
       "      <td>1</td>\n",
       "    </tr>\n",
       "    <tr>\n",
       "      <th>1</th>\n",
       "      <td>$1 dollar toys not fidgets</td>\n",
       "      <td>0.021742</td>\n",
       "      <td>0.0</td>\n",
       "      <td>5</td>\n",
       "      <td>26</td>\n",
       "      <td>1</td>\n",
       "      <td>1</td>\n",
       "    </tr>\n",
       "    <tr>\n",
       "      <th>2</th>\n",
       "      <td>$30 roblox gift card not digital</td>\n",
       "      <td>0.082293</td>\n",
       "      <td>0.0</td>\n",
       "      <td>6</td>\n",
       "      <td>32</td>\n",
       "      <td>1</td>\n",
       "      <td>1</td>\n",
       "    </tr>\n",
       "    <tr>\n",
       "      <th>3</th>\n",
       "      <td>$60 ps4 that’s not gonna be on amazon</td>\n",
       "      <td>0.000000</td>\n",
       "      <td>1.0</td>\n",
       "      <td>8</td>\n",
       "      <td>37</td>\n",
       "      <td>1</td>\n",
       "      <td>1</td>\n",
       "    </tr>\n",
       "    <tr>\n",
       "      <th>4</th>\n",
       "      <td>'m team jesus i'm not religious shirt</td>\n",
       "      <td>0.409661</td>\n",
       "      <td>1.0</td>\n",
       "      <td>7</td>\n",
       "      <td>37</td>\n",
       "      <td>0</td>\n",
       "      <td>1</td>\n",
       "    </tr>\n",
       "  </tbody>\n",
       "</table>\n",
       "</div>"
      ],
      "text/plain": [
       "                            query_string      ndcg  neuralness  num_of_terms  \\\n",
       "0                 #8 tags without string  0.481147         0.2             4   \n",
       "1             $1 dollar toys not fidgets  0.021742         0.0             5   \n",
       "2       $30 roblox gift card not digital  0.082293         0.0             6   \n",
       "3  $60 ps4 that’s not gonna be on amazon  0.000000         1.0             8   \n",
       "4  'm team jesus i'm not religious shirt  0.409661         1.0             7   \n",
       "\n",
       "   query_length  has_numbers  has_special_char  \n",
       "0            22            1                 1  \n",
       "1            26            1                 1  \n",
       "2            32            1                 1  \n",
       "3            37            1                 1  \n",
       "4            37            0                 1  "
      ]
     },
     "execution_count": 29,
     "metadata": {},
     "output_type": "execute_result"
    }
   ],
   "source": [
    "df_filtered.head(5)"
   ]
  },
  {
   "cell_type": "markdown",
   "id": "7ee49930-9005-4117-a8ca-646288a8c6e4",
   "metadata": {},
   "source": [
    "## Result Feature Functions\n",
    "\n",
    "`num_results_kw_search`: the number of results for the keyword query.\n",
    "\n",
    "`max_doc_score`: max score of the retrieved top 10 titles. The scores are BM25 scores calculated individually per result set. That means that the document frequencies of terms is not calculated on the whole index but only on the retrieved subset for the query, making the scores more comparable to each other.\n",
    "\n",
    "`sum_of_doc_scores`: we use the sum of the scores (and no average value) as an aggregate to have a measure of how relevant all retrieved top 10 titles are.\n",
    "\n",
    "`get_semantic_scores_for_query`: retrieves the semantic scores for the neural query for the top 10. We store the maximum and the mean as result features.\n",
    "\n",
    "### Helper functions\n",
    "\n",
    "`get_titles_for_query`: retrieves the titles of the keyword matches for later score calculation\n",
    "\n",
    "`whitespace_to_lower`: tokenizes and lowercases text\n",
    "\n",
    "`get_model_id`: to run a neural search to get the semantic scores we need to know the id of the available model in OpenSearch\n"
   ]
  },
  {
   "cell_type": "markdown",
   "id": "319d9c26-046b-4025-85b8-7b2c0a71357e",
   "metadata": {},
   "source": [
    "### Get Number of Results for Keyword Search"
   ]
  },
  {
   "cell_type": "code",
   "execution_count": 30,
   "id": "e4ce76e9-71bd-4f40-a533-b8758c568001",
   "metadata": {},
   "outputs": [],
   "source": [
    "def num_results_kw_search(query_string):\n",
    "    url = \"http://localhost:9200/ecommerce/_search\"\n",
    "\n",
    "    headers = {\n",
    "        'Content-Type': 'application/json'\n",
    "    }\n",
    "    \n",
    "    \n",
    "    \n",
    "    payload = {\n",
    "      \"_source\": {\n",
    "        \"excludes\": [\n",
    "          \"title_embedding\"\n",
    "        ]\n",
    "      },\n",
    "      \"query\": {\n",
    "        \"multi_match\" : {\n",
    "          \"type\":       \"best_fields\",\n",
    "          \"fields\":     [\n",
    "            \"product_id^100\",\n",
    "            \"product_bullet_point^3\",\n",
    "            \"product_color^2\",\n",
    "            \"product_brand^5\",\n",
    "            \"product_description\",\n",
    "            \"product_title^10\"\n",
    "          ],\n",
    "          \"operator\":   \"and\",\n",
    "          \"query\":      query_string\n",
    "        }\n",
    "      },\n",
    "      \"track_total_hits\": \"true\"\n",
    "    }\n",
    "    response = requests.request(\"POST\", url, headers=headers, data=json.dumps(payload)).json()\n",
    "    num_results = response['hits']['total']['value']\n",
    "    return num_results"
   ]
  },
  {
   "cell_type": "code",
   "execution_count": 31,
   "id": "4a4850c1-06a3-4b9c-a1c8-ad308dae3126",
   "metadata": {},
   "outputs": [],
   "source": [
    "def get_titles_for_query(query_string):\n",
    "    url = \"http://localhost:9200/ecommerce/_search\"\n",
    "\n",
    "    headers = {\n",
    "        'Content-Type': 'application/json'\n",
    "    }\n",
    "      \n",
    "    payload = {\n",
    "      \"_source\": {\n",
    "        \"excludes\": [\n",
    "          \"title_embedding\"\n",
    "        ],\n",
    "        \"includes\": \"product_title\"\n",
    "      },\n",
    "      \"query\": {\n",
    "        \"multi_match\" : {\n",
    "          \"type\":       \"best_fields\",\n",
    "          \"fields\":     [\n",
    "            \"product_id^100\",\n",
    "            \"product_bullet_point^3\",\n",
    "            \"product_color^2\",\n",
    "            \"product_brand^5\",\n",
    "            \"product_description\",\n",
    "            \"product_title^10\"\n",
    "          ],\n",
    "          \"operator\":   \"and\",\n",
    "          \"query\":      query_string\n",
    "        }\n",
    "      },\n",
    "      \"track_total_hits\": \"true\"\n",
    "    }\n",
    "    response = requests.request(\"POST\", url, headers=headers, data=json.dumps(payload)).json()\n",
    "    titles = []\n",
    "    num_results = response['hits']['total']['value']\n",
    "    if num_results > 0:\n",
    "        # get all titles\n",
    "        titles = [item['_source']['product_title'] for item in response['hits']['hits']]\n",
    "\n",
    "    df = pd.DataFrame(titles, columns=['title'])\n",
    "\n",
    "    return df"
   ]
  },
  {
   "cell_type": "code",
   "execution_count": 32,
   "id": "3517fe79-288c-4237-a591-9692fcc5170c",
   "metadata": {},
   "outputs": [
    {
     "data": {
      "application/vnd.jupyter.widget-view+json": {
       "model_id": "09162700fdfe41729a09970f9c0b58f8",
       "version_major": 2,
       "version_minor": 0
      },
      "text/plain": [
       "  0%|          | 0/5000 [00:00<?, ?it/s]"
      ]
     },
     "metadata": {},
     "output_type": "display_data"
    }
   ],
   "source": [
    "tqdm_notebook.pandas()\n",
    "df_filtered['num_results'] = df_filtered.query_string.progress_apply(num_results_kw_search)"
   ]
  },
  {
   "cell_type": "markdown",
   "id": "3df23aa3-d867-47d2-a9f5-e33f98ffa618",
   "metadata": {},
   "source": [
    "### Tokenizer Definition\n",
    "\n",
    "We define a simple tokenizer that splits on whitespaces and lowercases."
   ]
  },
  {
   "cell_type": "code",
   "execution_count": 33,
   "id": "fd6c3193-4110-4c6f-b8e9-42a425847dfa",
   "metadata": {},
   "outputs": [],
   "source": [
    "def whitespace_to_lower(text):\n",
    "    split = text.lower().split()\n",
    "    return [token\n",
    "        for token in split]"
   ]
  },
  {
   "cell_type": "markdown",
   "id": "e7768455-d2d9-4e5a-ba74-f4f4662a961b",
   "metadata": {},
   "source": [
    "ToDo: make the following functions more efficient.\n",
    "\n",
    "The following functions contain redundant code and only differ in the return value."
   ]
  },
  {
   "cell_type": "code",
   "execution_count": 34,
   "id": "fdfb0434-346b-4d95-ad27-ecf6b6f02b82",
   "metadata": {},
   "outputs": [],
   "source": [
    "# we use searcharray to calculate the highest title score among the retrieved docs\n",
    "def max_doc_score(df, query):\n",
    "    # if we retrieved zero docs we return 0 as the max score\n",
    "    if df.shape[0] == 0:\n",
    "        return 0\n",
    "    else:\n",
    "        # index the titles with the defined tokenizer\n",
    "        df['title_indexed'] = SearchArray.index(df['title'], tokenizer=whitespace_to_lower)\n",
    "        # tokenize the query with the same tokenizer\n",
    "        tokenized_query = df['title_indexed'].array.tokenizer(query)\n",
    "        # calculate the score for each query term\n",
    "        # the result is a matrix with number of titles x number of query term dimensions\n",
    "        scores = np.asarray([df['title_indexed'].array.score(query_term)\n",
    "                                    for query_term in tokenized_query])\n",
    "        # calculate the sum of all query terms per title\n",
    "        sums = [sum(group) for group in zip(*scores)]\n",
    "        # return the maximum\n",
    "        return max(sums)\n",
    "\n",
    "# we use searcharray to calculate the sum of all title scores among the retrieved docs\n",
    "def sum_of_doc_scores(df, query):\n",
    "    # if we retrieved zero docs we return 0 as the max score\n",
    "    if df.shape[0] == 0:\n",
    "        return 0\n",
    "    else:\n",
    "        # index the titles with the defined tokenizer\n",
    "        df['title_indexed'] = SearchArray.index(df['title'], tokenizer=whitespace_to_lower)\n",
    "        # tokenize the query with the same tokenizer\n",
    "        tokenized_query = df['title_indexed'].array.tokenizer(query)\n",
    "        # calculate the score for each query term\n",
    "        # the result is a matrix with number of titles x number of query term dimensions\n",
    "        scores = np.asarray([df['title_indexed'].array.score(query_term)\n",
    "                                    for query_term in tokenized_query])\n",
    "        # calculate the sum of all query terms per title\n",
    "        sums = [sum(group) for group in zip(*scores)]\n",
    "        # return the sum of all title scores\n",
    "        return sum(sums)"
   ]
  },
  {
   "cell_type": "markdown",
   "id": "7b1123d8-16a4-408a-a951-61c620d0df13",
   "metadata": {},
   "source": [
    "### Get Semantic Scores\n",
    "\n",
    "First we get the model id, then we use the model id in the query to retrieve the semantic scores."
   ]
  },
  {
   "cell_type": "code",
   "execution_count": 35,
   "id": "0c89806a-efcc-42c2-ac1b-df7c9b54f17f",
   "metadata": {},
   "outputs": [],
   "source": [
    "# Get model_id\n",
    "# We are assuming that the installation has only one model. Change this if you have more models \n",
    "# and need to pick a specific one\n",
    "\n",
    "def get_model_id():\n",
    "    url = \"http://localhost:9200/_plugins/_ml/models/_search\"\n",
    "    \n",
    "    headers = {\n",
    "        'Content-Type': 'application/json'\n",
    "    }\n",
    "    \n",
    "    payload = {\n",
    "      \"query\": {\n",
    "        \"match_all\": {}\n",
    "      },\n",
    "      \"size\": 1\n",
    "    }\n",
    "    \n",
    "    response = requests.request(\"POST\", url, headers=headers, data=json.dumps(payload))\n",
    "\n",
    "    return response.json()['hits']['hits'][0]['_source']['model_id']\n",
    "\n",
    "model_id = get_model_id()"
   ]
  },
  {
   "cell_type": "code",
   "execution_count": 36,
   "id": "d124583a-46b6-4e56-a04e-f37b6950afa7",
   "metadata": {},
   "outputs": [],
   "source": [
    "def get_semantic_scores_for_query(query_string):\n",
    "    url = \"http://localhost:9200/ecommerce/_search\"\n",
    "\n",
    "    headers = {\n",
    "        'Content-Type': 'application/json'\n",
    "    }\n",
    "    \n",
    "    \n",
    "    \n",
    "    payload = {\n",
    "      \"_source\": {\n",
    "        \"excludes\": [\n",
    "          \"title_embedding\"\n",
    "        ],\n",
    "        \"includes\": \"product_title\"\n",
    "      },\n",
    "      \"query\": {\n",
    "        \"neural\": {\n",
    "          \"title_embedding\": {\n",
    "            \"query_text\": query_string,\n",
    "            \"k\": 100,\n",
    "            \"model_id\": model_id\n",
    "          }\n",
    "        }\n",
    "      },\n",
    "      \"size\": 10\n",
    "    }\n",
    "    response = requests.request(\"POST\", url, headers=headers, data=json.dumps(payload)).json()\n",
    "    titles = []\n",
    "    num_results = response['hits']['total']['value']\n",
    "    if num_results > 0:\n",
    "        # get all titles\n",
    "        scores = [item['_score'] for item in response['hits']['hits']]\n",
    "\n",
    "    return scores"
   ]
  },
  {
   "cell_type": "code",
   "execution_count": 37,
   "id": "ef4d8104-3073-4318-bbd2-43b2cc566406",
   "metadata": {},
   "outputs": [],
   "source": [
    "import logging, sys\n",
    "logging.disable(sys.maxsize)"
   ]
  },
  {
   "cell_type": "code",
   "execution_count": 38,
   "id": "fa5cf8e9-5cb3-4eb8-9b69-c39db47d6b8c",
   "metadata": {},
   "outputs": [
    {
     "data": {
      "application/vnd.jupyter.widget-view+json": {
       "model_id": "8be49f95b05f478a8a6fa6f65ad0a102",
       "version_major": 2,
       "version_minor": 0
      },
      "text/plain": [
       "  0%|          | 0/5000 [00:00<?, ?it/s]"
      ]
     },
     "metadata": {},
     "output_type": "display_data"
    },
    {
     "data": {
      "application/vnd.jupyter.widget-view+json": {
       "model_id": "c9dbe020b75e457a86afce272666756f",
       "version_major": 2,
       "version_minor": 0
      },
      "text/plain": [
       "  0%|          | 0/5000 [00:00<?, ?it/s]"
      ]
     },
     "metadata": {},
     "output_type": "display_data"
    }
   ],
   "source": [
    "tqdm_notebook.pandas()\n",
    "df_filtered['max_title_score'] = df_filtered['query_string'].progress_apply(lambda q: max_doc_score(get_titles_for_query(q), q))\n",
    "df_filtered['sum_title_scores'] = df_filtered['query_string'].progress_apply(lambda q: sum_of_doc_scores(get_titles_for_query(q), q))"
   ]
  },
  {
   "cell_type": "code",
   "execution_count": 39,
   "id": "3d2f780d-eb0e-47c2-afe4-1de22d01b1f1",
   "metadata": {},
   "outputs": [
    {
     "data": {
      "application/vnd.jupyter.widget-view+json": {
       "model_id": "767d7158f186494ea69125b9d43afeb8",
       "version_major": 2,
       "version_minor": 0
      },
      "text/plain": [
       "  0%|          | 0/5000 [00:00<?, ?it/s]"
      ]
     },
     "metadata": {},
     "output_type": "display_data"
    },
    {
     "data": {
      "application/vnd.jupyter.widget-view+json": {
       "model_id": "ec463893c6aa410392f4835d07eabda6",
       "version_major": 2,
       "version_minor": 0
      },
      "text/plain": [
       "  0%|          | 0/5000 [00:00<?, ?it/s]"
      ]
     },
     "metadata": {},
     "output_type": "display_data"
    }
   ],
   "source": [
    "tqdm_notebook.pandas()\n",
    "df_filtered['max_semantic_score'] = df_filtered['query_string'].progress_apply(lambda q: max(get_semantic_scores_for_query(q)))\n",
    "df_filtered['avg_semantic_score'] = df_filtered['query_string'].progress_apply(lambda q: np.mean(get_semantic_scores_for_query(q)))"
   ]
  },
  {
   "cell_type": "code",
   "execution_count": 40,
   "id": "ef69057d-4f35-4e1d-a083-1b676dc8f12d",
   "metadata": {},
   "outputs": [
    {
     "data": {
      "text/html": [
       "<div>\n",
       "<style scoped>\n",
       "    .dataframe tbody tr th:only-of-type {\n",
       "        vertical-align: middle;\n",
       "    }\n",
       "\n",
       "    .dataframe tbody tr th {\n",
       "        vertical-align: top;\n",
       "    }\n",
       "\n",
       "    .dataframe thead th {\n",
       "        text-align: right;\n",
       "    }\n",
       "</style>\n",
       "<table border=\"1\" class=\"dataframe\">\n",
       "  <thead>\n",
       "    <tr style=\"text-align: right;\">\n",
       "      <th></th>\n",
       "      <th>query_string</th>\n",
       "      <th>ndcg</th>\n",
       "      <th>neuralness</th>\n",
       "      <th>num_of_terms</th>\n",
       "      <th>query_length</th>\n",
       "      <th>has_numbers</th>\n",
       "      <th>has_special_char</th>\n",
       "      <th>num_results</th>\n",
       "      <th>max_title_score</th>\n",
       "      <th>sum_title_scores</th>\n",
       "      <th>max_semantic_score</th>\n",
       "      <th>avg_semantic_score</th>\n",
       "    </tr>\n",
       "  </thead>\n",
       "  <tbody>\n",
       "    <tr>\n",
       "      <th>0</th>\n",
       "      <td>#8 tags without string</td>\n",
       "      <td>0.481147</td>\n",
       "      <td>0.2</td>\n",
       "      <td>4</td>\n",
       "      <td>22</td>\n",
       "      <td>1</td>\n",
       "      <td>1</td>\n",
       "      <td>18</td>\n",
       "      <td>0.196224</td>\n",
       "      <td>1.427612</td>\n",
       "      <td>0.488619</td>\n",
       "      <td>0.481962</td>\n",
       "    </tr>\n",
       "    <tr>\n",
       "      <th>1</th>\n",
       "      <td>$1 dollar toys not fidgets</td>\n",
       "      <td>0.021742</td>\n",
       "      <td>0.0</td>\n",
       "      <td>5</td>\n",
       "      <td>26</td>\n",
       "      <td>1</td>\n",
       "      <td>1</td>\n",
       "      <td>3</td>\n",
       "      <td>0.225544</td>\n",
       "      <td>0.415382</td>\n",
       "      <td>0.608848</td>\n",
       "      <td>0.594967</td>\n",
       "    </tr>\n",
       "    <tr>\n",
       "      <th>2</th>\n",
       "      <td>$30 roblox gift card not digital</td>\n",
       "      <td>0.082293</td>\n",
       "      <td>0.0</td>\n",
       "      <td>6</td>\n",
       "      <td>32</td>\n",
       "      <td>1</td>\n",
       "      <td>1</td>\n",
       "      <td>0</td>\n",
       "      <td>0.000000</td>\n",
       "      <td>0.000000</td>\n",
       "      <td>0.723621</td>\n",
       "      <td>0.690628</td>\n",
       "    </tr>\n",
       "    <tr>\n",
       "      <th>3</th>\n",
       "      <td>$60 ps4 that’s not gonna be on amazon</td>\n",
       "      <td>0.000000</td>\n",
       "      <td>1.0</td>\n",
       "      <td>8</td>\n",
       "      <td>37</td>\n",
       "      <td>1</td>\n",
       "      <td>1</td>\n",
       "      <td>0</td>\n",
       "      <td>0.000000</td>\n",
       "      <td>0.000000</td>\n",
       "      <td>0.544553</td>\n",
       "      <td>0.527403</td>\n",
       "    </tr>\n",
       "    <tr>\n",
       "      <th>4</th>\n",
       "      <td>'m team jesus i'm not religious shirt</td>\n",
       "      <td>0.409661</td>\n",
       "      <td>1.0</td>\n",
       "      <td>7</td>\n",
       "      <td>37</td>\n",
       "      <td>0</td>\n",
       "      <td>1</td>\n",
       "      <td>0</td>\n",
       "      <td>0.000000</td>\n",
       "      <td>0.000000</td>\n",
       "      <td>0.891805</td>\n",
       "      <td>0.840608</td>\n",
       "    </tr>\n",
       "  </tbody>\n",
       "</table>\n",
       "</div>"
      ],
      "text/plain": [
       "                            query_string      ndcg  neuralness  num_of_terms  \\\n",
       "0                 #8 tags without string  0.481147         0.2             4   \n",
       "1             $1 dollar toys not fidgets  0.021742         0.0             5   \n",
       "2       $30 roblox gift card not digital  0.082293         0.0             6   \n",
       "3  $60 ps4 that’s not gonna be on amazon  0.000000         1.0             8   \n",
       "4  'm team jesus i'm not religious shirt  0.409661         1.0             7   \n",
       "\n",
       "   query_length  has_numbers  has_special_char  num_results  max_title_score  \\\n",
       "0            22            1                 1           18         0.196224   \n",
       "1            26            1                 1            3         0.225544   \n",
       "2            32            1                 1            0         0.000000   \n",
       "3            37            1                 1            0         0.000000   \n",
       "4            37            0                 1            0         0.000000   \n",
       "\n",
       "   sum_title_scores  max_semantic_score  avg_semantic_score  \n",
       "0          1.427612            0.488619            0.481962  \n",
       "1          0.415382            0.608848            0.594967  \n",
       "2          0.000000            0.723621            0.690628  \n",
       "3          0.000000            0.544553            0.527403  \n",
       "4          0.000000            0.891805            0.840608  "
      ]
     },
     "execution_count": 40,
     "metadata": {},
     "output_type": "execute_result"
    }
   ],
   "source": [
    "df_filtered.head(5)"
   ]
  },
  {
   "cell_type": "code",
   "execution_count": 41,
   "id": "bc018b6d-df2b-40dc-a56a-7c3bcc7be6a6",
   "metadata": {},
   "outputs": [
    {
     "data": {
      "text/plain": [
       "Index(['query_string', 'ndcg', 'neuralness', 'num_of_terms', 'query_length',\n",
       "       'has_numbers', 'has_special_char', 'num_results', 'max_title_score',\n",
       "       'sum_title_scores', 'max_semantic_score', 'avg_semantic_score'],\n",
       "      dtype='object')"
      ]
     },
     "execution_count": 41,
     "metadata": {},
     "output_type": "execute_result"
    }
   ],
   "source": [
    "df_filtered.columns"
   ]
  },
  {
   "cell_type": "code",
   "execution_count": 42,
   "id": "621c7c17-37da-4ba9-94e7-2934b608e832",
   "metadata": {},
   "outputs": [],
   "source": [
    "# rename the columns\n",
    "df_filtered = df_filtered.rename(columns={\"num_of_terms\": \"f_1_num_of_terms\",\n",
    "                            \"query_length\": \"f_2_query_length\",\n",
    "                            \"has_numbers\": \"f_3_has_numbers\",\n",
    "                            \"has_special_char\": \"f_4_has_special_char\",\n",
    "                            \"num_results\": \"f_5_num_results\",\n",
    "                            \"max_title_score\": \"f_6_max_title_score\",\n",
    "                            \"sum_title_scores\": \"f_7_sum_title_scores\",\n",
    "                            \"max_semantic_score\": \"f_8_max_semantic_score\",\n",
    "                            \"avg_semantic_score\": \"f_9_avg_semantic_score\"\n",
    "                           })"
   ]
  },
  {
   "cell_type": "code",
   "execution_count": 43,
   "id": "17298146-4790-4134-ad3d-7cf2a915df28",
   "metadata": {},
   "outputs": [
    {
     "data": {
      "text/html": [
       "<div>\n",
       "<style scoped>\n",
       "    .dataframe tbody tr th:only-of-type {\n",
       "        vertical-align: middle;\n",
       "    }\n",
       "\n",
       "    .dataframe tbody tr th {\n",
       "        vertical-align: top;\n",
       "    }\n",
       "\n",
       "    .dataframe thead th {\n",
       "        text-align: right;\n",
       "    }\n",
       "</style>\n",
       "<table border=\"1\" class=\"dataframe\">\n",
       "  <thead>\n",
       "    <tr style=\"text-align: right;\">\n",
       "      <th></th>\n",
       "      <th>query_string</th>\n",
       "      <th>ndcg</th>\n",
       "      <th>neuralness</th>\n",
       "      <th>f_1_num_of_terms</th>\n",
       "      <th>f_2_query_length</th>\n",
       "      <th>f_3_has_numbers</th>\n",
       "      <th>f_4_has_special_char</th>\n",
       "      <th>f_5_num_results</th>\n",
       "      <th>f_6_max_title_score</th>\n",
       "      <th>f_7_sum_title_scores</th>\n",
       "      <th>f_8_max_semantic_score</th>\n",
       "      <th>f_9_avg_semantic_score</th>\n",
       "    </tr>\n",
       "  </thead>\n",
       "  <tbody>\n",
       "    <tr>\n",
       "      <th>0</th>\n",
       "      <td>#8 tags without string</td>\n",
       "      <td>0.481147</td>\n",
       "      <td>0.2</td>\n",
       "      <td>4</td>\n",
       "      <td>22</td>\n",
       "      <td>1</td>\n",
       "      <td>1</td>\n",
       "      <td>18</td>\n",
       "      <td>0.196224</td>\n",
       "      <td>1.427612</td>\n",
       "      <td>0.488619</td>\n",
       "      <td>0.481962</td>\n",
       "    </tr>\n",
       "    <tr>\n",
       "      <th>1</th>\n",
       "      <td>$1 dollar toys not fidgets</td>\n",
       "      <td>0.021742</td>\n",
       "      <td>0.0</td>\n",
       "      <td>5</td>\n",
       "      <td>26</td>\n",
       "      <td>1</td>\n",
       "      <td>1</td>\n",
       "      <td>3</td>\n",
       "      <td>0.225544</td>\n",
       "      <td>0.415382</td>\n",
       "      <td>0.608848</td>\n",
       "      <td>0.594967</td>\n",
       "    </tr>\n",
       "    <tr>\n",
       "      <th>2</th>\n",
       "      <td>$30 roblox gift card not digital</td>\n",
       "      <td>0.082293</td>\n",
       "      <td>0.0</td>\n",
       "      <td>6</td>\n",
       "      <td>32</td>\n",
       "      <td>1</td>\n",
       "      <td>1</td>\n",
       "      <td>0</td>\n",
       "      <td>0.000000</td>\n",
       "      <td>0.000000</td>\n",
       "      <td>0.723621</td>\n",
       "      <td>0.690628</td>\n",
       "    </tr>\n",
       "    <tr>\n",
       "      <th>3</th>\n",
       "      <td>$60 ps4 that’s not gonna be on amazon</td>\n",
       "      <td>0.000000</td>\n",
       "      <td>1.0</td>\n",
       "      <td>8</td>\n",
       "      <td>37</td>\n",
       "      <td>1</td>\n",
       "      <td>1</td>\n",
       "      <td>0</td>\n",
       "      <td>0.000000</td>\n",
       "      <td>0.000000</td>\n",
       "      <td>0.544553</td>\n",
       "      <td>0.527403</td>\n",
       "    </tr>\n",
       "    <tr>\n",
       "      <th>4</th>\n",
       "      <td>'m team jesus i'm not religious shirt</td>\n",
       "      <td>0.409661</td>\n",
       "      <td>1.0</td>\n",
       "      <td>7</td>\n",
       "      <td>37</td>\n",
       "      <td>0</td>\n",
       "      <td>1</td>\n",
       "      <td>0</td>\n",
       "      <td>0.000000</td>\n",
       "      <td>0.000000</td>\n",
       "      <td>0.891805</td>\n",
       "      <td>0.840608</td>\n",
       "    </tr>\n",
       "  </tbody>\n",
       "</table>\n",
       "</div>"
      ],
      "text/plain": [
       "                            query_string      ndcg  neuralness  \\\n",
       "0                 #8 tags without string  0.481147         0.2   \n",
       "1             $1 dollar toys not fidgets  0.021742         0.0   \n",
       "2       $30 roblox gift card not digital  0.082293         0.0   \n",
       "3  $60 ps4 that’s not gonna be on amazon  0.000000         1.0   \n",
       "4  'm team jesus i'm not religious shirt  0.409661         1.0   \n",
       "\n",
       "   f_1_num_of_terms  f_2_query_length  f_3_has_numbers  f_4_has_special_char  \\\n",
       "0                 4                22                1                     1   \n",
       "1                 5                26                1                     1   \n",
       "2                 6                32                1                     1   \n",
       "3                 8                37                1                     1   \n",
       "4                 7                37                0                     1   \n",
       "\n",
       "   f_5_num_results  f_6_max_title_score  f_7_sum_title_scores  \\\n",
       "0               18             0.196224              1.427612   \n",
       "1                3             0.225544              0.415382   \n",
       "2                0             0.000000              0.000000   \n",
       "3                0             0.000000              0.000000   \n",
       "4                0             0.000000              0.000000   \n",
       "\n",
       "   f_8_max_semantic_score  f_9_avg_semantic_score  \n",
       "0                0.488619                0.481962  \n",
       "1                0.608848                0.594967  \n",
       "2                0.723621                0.690628  \n",
       "3                0.544553                0.527403  \n",
       "4                0.891805                0.840608  "
      ]
     },
     "execution_count": 43,
     "metadata": {},
     "output_type": "execute_result"
    }
   ],
   "source": [
    "df_filtered.head(5)"
   ]
  },
  {
   "cell_type": "code",
   "execution_count": 44,
   "id": "fde93927-9ce5-46fe-a65d-abb64e7ede3c",
   "metadata": {},
   "outputs": [],
   "source": [
    "# Uncomment the thing you want to do\n",
    "\n",
    "# write features if they're initially computed\n",
    "# df_filtered.to_csv('../data/features_5000_queries.csv', index=False)\n",
    "# get features if they're already present and you run the training process from here\n",
    "# df_filtered = to_csv('../data/features_5000_queries.csv')"
   ]
  },
  {
   "cell_type": "markdown",
   "id": "ad70be6c-439f-443e-beb6-7c543fc247ba",
   "metadata": {},
   "source": [
    "# Explore Different Model Training Options\n",
    "\n",
    "We try out linear regression and random forest regression as two types of models.\n",
    "\n",
    "We want to find out which feature combination is best by trying out all different combinations.\n",
    "\n",
    "We apply cross validation for a statistically sound process.\n",
    "\n",
    "We explore the effect of adding regularization to reduce the change of overfitting."
   ]
  },
  {
   "cell_type": "markdown",
   "id": "125dad30-6eb5-4e8c-9261-423078145c60",
   "metadata": {},
   "source": [
    "## Linear Regression with Feature Combinations and Cross Validation"
   ]
  },
  {
   "cell_type": "code",
   "execution_count": 102,
   "id": "9bce7c7a-4044-42a7-b581-3f1daf163ffc",
   "metadata": {},
   "outputs": [
    {
     "data": {
      "application/vnd.jupyter.widget-view+json": {
       "model_id": "36a4bd29a13b40ed83f1a3ec96684e7e",
       "version_major": 2,
       "version_minor": 0
      },
      "text/plain": [
       "  0%|          | 0/8 [00:00<?, ?it/s]"
      ]
     },
     "metadata": {},
     "output_type": "display_data"
    },
    {
     "name": "stdout",
     "output_type": "stream",
     "text": [
      "Best Feature Combination: ('f_1_num_of_terms', 'f_3_has_numbers', 'f_5_num_results', 'f_6_max_title_score', 'f_7_sum_title_scores', 'f_8_max_semantic_score', 'f_9_avg_semantic_score')\n",
      "Best Metrics:\n",
      "Cross-Validation RMSE (mean): 0.35732986866789085\n"
     ]
    }
   ],
   "source": [
    "from sklearn.model_selection import ShuffleSplit, cross_val_score\n",
    "from sklearn.linear_model import LinearRegression\n",
    "from sklearn.metrics import make_scorer, root_mean_squared_error, r2_score\n",
    "from itertools import combinations\n",
    "import numpy as np\n",
    "import pandas as pd\n",
    "\n",
    "# Prepare features and target\n",
    "feature_columns = [ \"f_1_num_of_terms\", \"f_2_query_length\", \"f_3_has_numbers\", \"f_4_has_special_char\", \"f_5_num_results\",\n",
    "                   \"f_6_max_title_score\", \"f_7_sum_title_scores\", \"f_8_max_semantic_score\",  \"f_9_avg_semantic_score\"]\n",
    "kws_features = [\"f_5_num_results\", \"f_6_max_title_score\", \"f_7_sum_title_scores\"]\n",
    "neural_search_features = [\"f_8_max_semantic_score\",  \"f_9_avg_semantic_score\"]\n",
    "query_features = [\"f_1_num_of_terms\",  \"f_2_query_length\", \"f_3_has_numbers\", \"f_4_has_special_char\"]\n",
    "y = df_filtered['neuralness']  # Target column\n",
    "\n",
    "# Initialize cross-validation strategy\n",
    "cv = ShuffleSplit(n_splits=5, test_size=0.2, random_state=0)\n",
    "\n",
    "# Define the model\n",
    "regr = LinearRegression()\n",
    "\n",
    "rmse_scorer = make_scorer(root_mean_squared_error, greater_is_better=False)\n",
    "\n",
    "# Initialize variables to track the best combination\n",
    "best_score = float('inf')\n",
    "best_combination = None\n",
    "best_metrics = {}\n",
    "# We initialize df_metrics only for this run and append the results of the following runs\n",
    "df_model = []\n",
    "# Initialize df_model_metrics to collect metrics for this iteration of model training\n",
    "df_model_metrics = []\n",
    "\n",
    "# Try all feature combinations of length 2 to 9\n",
    "for r in tqdm_notebook(range(2, len(feature_columns) + 1)):\n",
    "    for combo in combinations(feature_columns, r):\n",
    "        X = df_filtered[list(combo)]  # Select current feature subset\n",
    "        \n",
    "        # Perform cross-validation\n",
    "        rmse_scores = cross_val_score(regr, X, y, cv=cv, scoring=rmse_scorer)\n",
    "        \n",
    "        # Calculate the mean metrics for the current combination\n",
    "        mean_rmse = -np.mean(rmse_scores)  # Since RMSE scorer is negative for minimization\n",
    "\n",
    "        # does the current combination contain keyword search features\n",
    "        keyword_b = any(feature in combo for feature in kws_features)\n",
    "        # does the current combination contain neural search features\n",
    "        neural_b = any(feature in combo for feature in neural_search_features)\n",
    "        # does the current combination contain only query features (no keyword or neural search features)\n",
    "        query_b = any(feature in combo for feature in query_features)\n",
    "        \n",
    "        df_model_metrics.append(pd.DataFrame({\n",
    "            \"features\": [combo]*5,\n",
    "            \"rmse_scores\": rmse_scores,\n",
    "            \"keyword_f\": [keyword_b]*5,\n",
    "            \"neural_f\": [neural_b]*5,\n",
    "            \"query_f\": [query_b]*5,\n",
    "            \"model\": \"lr\",\n",
    "            \"regularization\": False,\n",
    "            }))\n",
    "        \n",
    "        # Update if the current combination is better\n",
    "        if mean_rmse < best_score:\n",
    "            best_score = mean_rmse\n",
    "            best_combination = combo\n",
    "            best_metrics = {\n",
    "                'RMSE (mean)': mean_rmse\n",
    "            }\n",
    "\n",
    "df_metrics = pd.concat(df_model_metrics)\n",
    "\n",
    "# Output the best feature combination and its metrics\n",
    "print(\"Best Feature Combination:\", best_combination)\n",
    "print(\"Best Metrics:\")\n",
    "print(f\"Cross-Validation RMSE (mean): {best_metrics['RMSE (mean)']}\")"
   ]
  },
  {
   "cell_type": "markdown",
   "id": "c35b10c4-221f-4334-a2c6-d010d7c7a247",
   "metadata": {},
   "source": [
    "## Linear Regression with Feature Combinations, Cross Validation and L2 Regularization"
   ]
  },
  {
   "cell_type": "markdown",
   "id": "d85cc4f2-2d84-4fc2-8a77-063dd825d0a7",
   "metadata": {},
   "source": [
    "### Find best regularization parameter\n",
    "\n",
    "Use all features, get the \"best\" regularization parameter with cross-validation by trying out a range"
   ]
  },
  {
   "cell_type": "code",
   "execution_count": 103,
   "id": "94a8cc76-b81a-47c4-b526-a88d24feb4a2",
   "metadata": {},
   "outputs": [
    {
     "name": "stdout",
     "output_type": "stream",
     "text": [
      "Found lower mean RMSE (0.35742989618448817) for alpha value of 0.001\n",
      "Best Metrics:\n",
      "alpha: 0.001\n",
      "Cross-Validation RMSE (mean): 0.35742989618448817\n"
     ]
    }
   ],
   "source": [
    "from sklearn.model_selection import ShuffleSplit, cross_val_score\n",
    "from sklearn.linear_model import Ridge\n",
    "from sklearn.metrics import make_scorer, root_mean_squared_error, r2_score\n",
    "from itertools import combinations\n",
    "import numpy as np\n",
    "import pandas as pd\n",
    "\n",
    "# Prepare features and target\n",
    "feature_columns = [ \"f_1_num_of_terms\", \"f_2_query_length\", \"f_3_has_numbers\", \"f_4_has_special_char\", \"f_5_num_results\",\n",
    "                   \"f_6_max_title_score\", \"f_7_sum_title_scores\", \"f_8_max_semantic_score\",  \"f_9_avg_semantic_score\"]\n",
    "kws_features = [\"f_5_num_results\", \"f_6_max_title_score\", \"f_7_sum_title_scores\"]\n",
    "neural_search_features = [\"f_8_max_semantic_score\",  \"f_9_avg_semantic_score\"]\n",
    "query_features = [\"f_1_num_of_terms\",  \"f_2_query_length\", \"f_3_has_numbers\", \"f_4_has_special_char\"]\n",
    "y = df_filtered['neuralness']  # Target column\n",
    "\n",
    "# Initialize cross-validation strategy\n",
    "cv = ShuffleSplit(n_splits=5, test_size=0.2, random_state=0)\n",
    "\n",
    "# Define alpha values to test in regularization\n",
    "alpha_vals = [0.001, 0.1, 0.2, 0.5, 1.0, 1.5, 2.0, 5.0, 10.0]\n",
    "\n",
    "# Initialize variables to track the best combination\n",
    "best_metrics = {}\n",
    "best_score = float('inf')\n",
    "for alpha in alpha_vals:\n",
    "    \n",
    "    # Define the model\n",
    "    regr = Ridge(alpha=alpha)\n",
    "\n",
    "    rmse_scorer = make_scorer(root_mean_squared_error, greater_is_better=False)\n",
    "\n",
    "    X = df_filtered[feature_columns]  # Select current feature subset\n",
    "    \n",
    "    # Perform cross-validation\n",
    "    rmse_scores = cross_val_score(regr, X, y, cv=cv, scoring=rmse_scorer)\n",
    "    \n",
    "    mean_rmse = -np.mean(rmse_scores)  # Since RMSE scorer is negative for minimization\n",
    "        \n",
    "    # Update if the current combination is better\n",
    "    if mean_rmse < best_score:\n",
    "        print(f\"Found lower mean RMSE ({mean_rmse}) for alpha value of {alpha}\")\n",
    "        best_score = mean_rmse\n",
    "        best_metrics = {\n",
    "            'alpha': alpha,\n",
    "            'RMSE (mean)': best_score\n",
    "        }\n",
    "\n",
    "# Output the best feature combination and its metrics\n",
    "print(\"Best Metrics:\")\n",
    "#print(f\"Accuracy (mean): {best_metrics['Accuracy (mean)']}\")\n",
    "print(f\"alpha: {best_metrics['alpha']}\")\n",
    "print(f\"Cross-Validation RMSE (mean): {best_metrics['RMSE (mean)']}\")"
   ]
  },
  {
   "cell_type": "code",
   "execution_count": 104,
   "id": "8a8a1244-5c96-4430-a2db-c09e7c52f9f6",
   "metadata": {},
   "outputs": [
    {
     "data": {
      "application/vnd.jupyter.widget-view+json": {
       "model_id": "ca04423459614c99a4fc58b4aa0f6b15",
       "version_major": 2,
       "version_minor": 0
      },
      "text/plain": [
       "  0%|          | 0/8 [00:00<?, ?it/s]"
      ]
     },
     "metadata": {},
     "output_type": "display_data"
    },
    {
     "name": "stdout",
     "output_type": "stream",
     "text": [
      "Best Feature Combination: ('f_1_num_of_terms', 'f_3_has_numbers', 'f_5_num_results', 'f_6_max_title_score', 'f_7_sum_title_scores')\n",
      "Best Metrics:\n",
      "Cross-Validation RMSE (mean): 0.35735408689885173\n"
     ]
    }
   ],
   "source": [
    "from sklearn.model_selection import ShuffleSplit, cross_val_score\n",
    "from sklearn.linear_model import Ridge\n",
    "from sklearn.metrics import make_scorer, root_mean_squared_error, r2_score\n",
    "from itertools import combinations\n",
    "import numpy as np\n",
    "import pandas as pd\n",
    "\n",
    "# Prepare features and target\n",
    "feature_columns = [ \"f_1_num_of_terms\", \"f_2_query_length\", \"f_3_has_numbers\", \"f_4_has_special_char\", \"f_5_num_results\",\n",
    "                   \"f_6_max_title_score\", \"f_7_sum_title_scores\", \"f_8_max_semantic_score\",  \"f_9_avg_semantic_score\"]\n",
    "kws_features = [\"f_5_num_results\", \"f_6_max_title_score\", \"f_7_sum_title_scores\"]\n",
    "neural_search_features = [\"f_8_max_semantic_score\",  \"f_9_avg_semantic_score\"]\n",
    "query_features = [\"f_1_num_of_terms\",  \"f_2_query_length\", \"f_3_has_numbers\", \"f_4_has_special_char\"]\n",
    "y = df_filtered['neuralness']  # Target column\n",
    "\n",
    "# Initialize cross-validation strategy\n",
    "cv = ShuffleSplit(n_splits=5, test_size=0.2, random_state=0)\n",
    "\n",
    "# Define the model\n",
    "regr = Ridge(alpha=alpha)\n",
    "\n",
    "rmse_scorer = make_scorer(root_mean_squared_error, greater_is_better=False)\n",
    "\n",
    "# Initialize variables to track the best combination\n",
    "best_score = float('inf')\n",
    "best_combination = None\n",
    "best_metrics = {}\n",
    "df_model_metrics = []\n",
    "\n",
    "# Try all feature combinations of length 2 to 9\n",
    "for r in tqdm_notebook(range(2, len(feature_columns) + 1)):\n",
    "    for combo in combinations(feature_columns, r):\n",
    "        X = df_filtered[list(combo)]  # Select current feature subset\n",
    "        \n",
    "        # Perform cross-validation\n",
    "        rmse_scores = cross_val_score(regr, X, y, cv=cv, scoring=rmse_scorer)\n",
    "        \n",
    "        # Calculate the mean metrics for the current combination\n",
    "        mean_rmse = -np.mean(rmse_scores)  # Since RMSE scorer is negative for minimization\n",
    "\n",
    "        # does the current combination contain keyword search features\n",
    "        keyword_b = any(feature in combo for feature in kws_features)\n",
    "        # does the current combination contain neural search features\n",
    "        neural_b = any(feature in combo for feature in neural_search_features)\n",
    "        # does the current combination contain only query features (no keyword or neural search features)\n",
    "        query_b = any(feature in combo for feature in query_features)\n",
    "\n",
    "        df_model_metrics.append(pd.DataFrame({\n",
    "            \"features\": [combo]*5,\n",
    "            \"rmse_scores\": rmse_scores,\n",
    "            \"keyword_f\": [keyword_b]*5,\n",
    "            \"neural_f\": [neural_b]*5,\n",
    "            \"query_f\": [query_b]*5,\n",
    "            \"model\": \"lr\",\n",
    "            \"regularization\": True,\n",
    "            }))\n",
    "        \n",
    "        # Update if the current combination is better\n",
    "        if mean_rmse < best_score:\n",
    "            best_score = mean_rmse\n",
    "            best_combination = combo\n",
    "            best_metrics = {\n",
    "                'RMSE (mean)': mean_rmse\n",
    "            }\n",
    "\n",
    "df_metrics = pd.concat([df_metrics, pd.concat(df_model_metrics)])\n",
    "\n",
    "# Output the best feature combination and its metrics\n",
    "print(\"Best Feature Combination:\", best_combination)\n",
    "print(\"Best Metrics:\")\n",
    "print(f\"Cross-Validation RMSE (mean): {best_metrics['RMSE (mean)']}\")"
   ]
  },
  {
   "cell_type": "markdown",
   "id": "a805171e-c356-4814-8daf-35742ccce14d",
   "metadata": {},
   "source": [
    "## Random Forest Regression with Feature Combinations and Cross Validation"
   ]
  },
  {
   "cell_type": "code",
   "execution_count": 106,
   "id": "0eed17f6-bb8c-4a1a-b002-fe960a06fe70",
   "metadata": {},
   "outputs": [
    {
     "data": {
      "application/vnd.jupyter.widget-view+json": {
       "model_id": "5245d1998ff7445397686a1b63d600de",
       "version_major": 2,
       "version_minor": 0
      },
      "text/plain": [
       "  0%|          | 0/8 [00:00<?, ?it/s]"
      ]
     },
     "metadata": {},
     "output_type": "display_data"
    },
    {
     "name": "stdout",
     "output_type": "stream",
     "text": [
      "Best Feature Combination: ('f_1_num_of_terms', 'f_2_query_length', 'f_3_has_numbers', 'f_4_has_special_char', 'f_5_num_results', 'f_6_max_title_score', 'f_7_sum_title_scores', 'f_8_max_semantic_score', 'f_9_avg_semantic_score')\n",
      "Best Metrics:\n",
      "Cross-Validation RMSE (mean): 0.35973571549845806\n"
     ]
    }
   ],
   "source": [
    "from sklearn.model_selection import ShuffleSplit, cross_val_score\n",
    "from sklearn.ensemble import RandomForestRegressor\n",
    "from sklearn.metrics import make_scorer, root_mean_squared_error, r2_score\n",
    "from itertools import combinations\n",
    "import numpy as np\n",
    "import pandas as pd\n",
    "\n",
    "# Prepare features and target\n",
    "feature_columns = [ \"f_1_num_of_terms\", \"f_2_query_length\", \"f_3_has_numbers\", \"f_4_has_special_char\", \"f_5_num_results\",\n",
    "                   \"f_6_max_title_score\", \"f_7_sum_title_scores\", \"f_8_max_semantic_score\",  \"f_9_avg_semantic_score\"]\n",
    "kws_features = [\"f_5_num_results\", \"f_6_max_title_score\", \"f_7_sum_title_scores\"]\n",
    "neural_search_features = [\"f_8_max_semantic_score\",  \"f_9_avg_semantic_score\"]\n",
    "query_features = [\"f_1_num_of_terms\",  \"f_2_query_length\", \"f_3_has_numbers\", \"f_4_has_special_char\"]\n",
    "\n",
    "y = df_filtered['neuralness']  # Target column\n",
    "\n",
    "# Initialize cross-validation strategy\n",
    "cv = ShuffleSplit(n_splits=5, test_size=0.2, random_state=0)\n",
    "\n",
    "# Define the model\n",
    "model = RandomForestRegressor(random_state=42)\n",
    "\n",
    "rmse_scorer = make_scorer(root_mean_squared_error, greater_is_better=False)\n",
    "\n",
    "# Initialize variables to track the best combination\n",
    "best_score = float('inf')\n",
    "best_combination = None\n",
    "best_metrics = {}\n",
    "df_model_metrics = []\n",
    "\n",
    "# Try all feature combinations of length 2 to 9\n",
    "for r in tqdm_notebook(range(2, len(feature_columns) + 1)):\n",
    "    for combo in combinations(feature_columns, r):\n",
    "        X = df_filtered[list(combo)]  # Select current feature subset\n",
    "        \n",
    "        # Perform cross-validation\n",
    "        scores = cross_val_score(model, X, y, cv=cv)\n",
    "        rmse_scores = cross_val_score(model, X, y, cv=cv, scoring=rmse_scorer)\n",
    "        \n",
    "        # Calculate the mean metrics for the current combination\n",
    "        mean_score = scores.mean()\n",
    "        std_score = scores.std()\n",
    "        mean_rmse = -np.mean(rmse_scores)  # Since RMSE scorer is negative for minimization\n",
    "\n",
    "        # does the current combination contain keyword search features\n",
    "        keyword_b = any(feature in combo for feature in kws_features)\n",
    "        # does the current combination contain neural search features\n",
    "        neural_b = any(feature in combo for feature in neural_search_features)\n",
    "        # does the current combination contain query features\n",
    "        query_b = any(feature in combo for feature in query_features)\n",
    "        \n",
    "        df_model_metrics.append(pd.DataFrame({\n",
    "            \"features\": [combo]*5,\n",
    "            \"rmse_scores\": rmse_scores,\n",
    "            \"keyword_f\": [keyword_b]*5,\n",
    "            \"neural_f\": [neural_b]*5,\n",
    "            \"query_f\": [query_b]*5,\n",
    "            \"model\": \"rf\",\n",
    "            \"regularization\": False,\n",
    "            }))\n",
    "        # Update if the current combination is better\n",
    "        if mean_rmse < best_score:\n",
    "            best_score = mean_rmse\n",
    "            best_combination = combo\n",
    "            best_metrics = {\n",
    "                'RMSE (mean)': mean_rmse\n",
    "            }\n",
    "\n",
    "df_metrics = pd.concat([df_metrics, pd.concat(df_model_metrics)])\n",
    "\n",
    "# Output the best feature combination and its metrics\n",
    "print(\"Best Feature Combination:\", best_combination)\n",
    "print(\"Best Metrics:\")\n",
    "print(f\"Cross-Validation RMSE (mean): {best_metrics['RMSE (mean)']}\")"
   ]
  },
  {
   "cell_type": "markdown",
   "id": "090f4e6c-8a4f-4284-a106-69058022044d",
   "metadata": {},
   "source": [
    "## Random Forest Regression with Feature Combinations, Cross Validation and Regularization (RandomizedSearchCV)"
   ]
  },
  {
   "cell_type": "code",
   "execution_count": 107,
   "id": "b796b81d-b6f9-403c-b678-09e1dd033ec9",
   "metadata": {},
   "outputs": [],
   "source": [
    "# RandomizedSearchCV is very verbose in logging warnings. The following snippet suppresses these.\n",
    "# source: https://stackoverflow.com/questions/32612180/eliminating-warnings-from-scikit-learn\n",
    "def warn(*args, **kwargs):\n",
    "    pass\n",
    "import warnings\n",
    "warnings.warn = warn"
   ]
  },
  {
   "cell_type": "code",
   "execution_count": 108,
   "id": "60e36876-addc-42f8-ad67-0922817767bb",
   "metadata": {
    "jp-MarkdownHeadingCollapsed": true,
    "scrolled": true
   },
   "outputs": [
    {
     "data": {
      "application/vnd.jupyter.widget-view+json": {
       "model_id": "01bfac27eddf492a8b2ef348c5585657",
       "version_major": 2,
       "version_minor": 0
      },
      "text/plain": [
       "  0%|          | 0/8 [00:00<?, ?it/s]"
      ]
     },
     "metadata": {},
     "output_type": "display_data"
    },
    {
     "name": "stdout",
     "output_type": "stream",
     "text": [
      "Best Feature Combination: ('f_5_num_results', 'f_6_max_title_score', 'f_7_sum_title_scores', 'f_9_avg_semantic_score')\n",
      "Best Parameter Set: {'n_estimators': 50, 'min_samples_split': 5, 'min_samples_leaf': 4, 'max_features': 'log2', 'max_depth': 5}\n",
      "Best Metrics:\n",
      "Cross-Validation RMSE (mean): 0.34714997380057133\n"
     ]
    }
   ],
   "source": [
    "from sklearn.model_selection import ShuffleSplit, cross_val_score, RandomizedSearchCV\n",
    "from sklearn.ensemble import RandomForestRegressor\n",
    "from sklearn.metrics import make_scorer, root_mean_squared_error, r2_score\n",
    "from itertools import combinations\n",
    "import numpy as np\n",
    "import pandas as pd\n",
    "\n",
    "# Prepare features and target\n",
    "feature_columns = [ \"f_1_num_of_terms\", \"f_2_query_length\", \"f_3_has_numbers\", \"f_4_has_special_char\", \"f_5_num_results\",\n",
    "                   \"f_6_max_title_score\", \"f_7_sum_title_scores\", \"f_8_max_semantic_score\",  \"f_9_avg_semantic_score\"]\n",
    "kws_features = [\"f_5_num_results\", \"f_6_max_title_score\", \"f_7_sum_title_scores\"]\n",
    "neural_search_features = [\"f_8_max_semantic_score\",  \"f_9_avg_semantic_score\"]\n",
    "query_features = [\"f_1_num_of_terms\",  \"f_2_query_length\", \"f_3_has_numbers\", \"f_4_has_special_char\"]\n",
    "\n",
    "y = df_filtered['neuralness']  # Target column\n",
    "\n",
    "# Initialize cross-validation strategy\n",
    "cv = ShuffleSplit(n_splits=5, test_size=0.2, random_state=0)\n",
    "\n",
    "# Define Random Forest hyperparameter distributions for RandomizedSearchCV\n",
    "param_dist = {\n",
    "    'n_estimators': [50, 100, 200],\n",
    "    'max_depth': [1, 2, 3, 5, 10, 15, None],\n",
    "    'min_samples_split': [2, 5, 10],\n",
    "    'min_samples_leaf': [1, 2, 4],\n",
    "    'max_features': ['auto', 'sqrt', 'log2']\n",
    "}\n",
    "\n",
    "rmse_scorer = make_scorer(root_mean_squared_error, greater_is_better=False)\n",
    "\n",
    "# Initialize variables to track the best combination\n",
    "best_score = float('inf')\n",
    "best_combination = None\n",
    "best_metrics = {}\n",
    "df_model_metrics = []\n",
    "\n",
    "# Try all feature combinations of length 2 to 9\n",
    "for r in tqdm_notebook(range(2, len(feature_columns) + 1)):\n",
    "    for combo in combinations(feature_columns, r):\n",
    "        X = df_filtered[list(combo)]  # Select current feature subset\n",
    "\n",
    "        # Define the model\n",
    "        model = RandomForestRegressor(random_state=42)\n",
    "        # Initialize RandomizedSearchCV\n",
    "        random_search = RandomizedSearchCV(\n",
    "            estimator=model,\n",
    "            param_distributions=param_dist,\n",
    "            n_iter=10,  # Number of random samples to draw\n",
    "            scoring=rmse_scorer,\n",
    "            cv=cv,\n",
    "            random_state=42,\n",
    "            n_jobs=-1,\n",
    "            verbose=0\n",
    "        )\n",
    "\n",
    "        # Perform cross-validation with randomized hyperparameter search\n",
    "        random_search.fit(X, y)\n",
    "\n",
    "        # Get the best score and parameters from the random search\n",
    "        mean_rmse = -random_search.best_score_  # Convert to positive RMSE\n",
    "        best_params = random_search.best_params_\n",
    "\n",
    "        # Retrieve mean_test_score and mask out NaNs\n",
    "        mean_test_scores = -random_search.cv_results_[\"mean_test_score\"]\n",
    "        valid_scores = np.where(~np.isnan(mean_test_scores), mean_test_scores, np.inf)  # Replace NaNs with infinity\n",
    "        \n",
    "        # Find the index of the best configuration based on valid mean_test_scores\n",
    "        best_config_index = np.argmin(valid_scores)\n",
    "        \n",
    "        # Retrieve individual fold scores for the best configuration\n",
    "        best_fold_scores = []\n",
    "        for fold_index in range(5):  # 5 folds\n",
    "            # Get the score for the current fold of the best configuration\n",
    "            score = random_search.cv_results_[f\"split{fold_index}_test_score\"][best_config_index]\n",
    "            best_fold_scores.append(score)\n",
    "\n",
    "        # does the current combination contain keyword search features\n",
    "        keyword_b = any(feature in combo for feature in kws_features)\n",
    "        # does the current combination contain neural search features\n",
    "        neural_b = any(feature in combo for feature in neural_search_features)\n",
    "        # does the current combination contain query features\n",
    "        query_b = any(feature in combo for feature in query_features)\n",
    "\n",
    "        df_model_metrics.append(pd.DataFrame({\n",
    "            \"features\": [combo]*5,\n",
    "            \"rmse_scores\": best_fold_scores,\n",
    "            \"keyword_f\": [keyword_b]*5,\n",
    "            \"neural_f\": [neural_b]*5,\n",
    "            \"query_f\": [query_b]*5,\n",
    "            \"model\": \"rf\",\n",
    "            \"regularization\": True,\n",
    "            }))\n",
    "        \n",
    "        # Update if the current combination is better\n",
    "        if mean_rmse < best_score:\n",
    "            best_score = mean_rmse\n",
    "            best_combination = combo\n",
    "            best_param_set = best_params\n",
    "            best_metrics = {\n",
    "                'RMSE (mean)': mean_rmse\n",
    "            }\n",
    "\n",
    "df_metrics = pd.concat([df_metrics, pd.concat(df_model_metrics)])\n",
    "\n",
    "# Output the best feature combination and its metrics\n",
    "print(\"Best Feature Combination:\", best_combination)\n",
    "print(\"Best Parameter Set:\", best_param_set)\n",
    "print(\"Best Metrics:\")\n",
    "print(f\"Cross-Validation RMSE (mean): {best_metrics['RMSE (mean)']}\")"
   ]
  },
  {
   "cell_type": "markdown",
   "id": "0e5200c4-c1c5-4db6-b424-3b9b4a1f713f",
   "metadata": {},
   "source": [
    "### Aggregate Metrics per Model, Regularization, and Feature Combination"
   ]
  },
  {
   "cell_type": "code",
   "execution_count": 109,
   "id": "0192d104-1cee-4eeb-b3a8-133a2ff76e8c",
   "metadata": {},
   "outputs": [],
   "source": [
    "# multiply rmse scores by -1 as they are all negative for minimization\n",
    "df_metrics['rmse_scores'] = df_metrics['rmse_scores'] * (-1)"
   ]
  },
  {
   "cell_type": "code",
   "execution_count": 110,
   "id": "9f165cf6-99b2-4902-bf7f-fca22c1011de",
   "metadata": {},
   "outputs": [],
   "source": [
    "# join features to a feature string\n",
    "df_metrics['features'] =  df_metrics.features.apply(lambda x: ','.join(x))"
   ]
  },
  {
   "cell_type": "code",
   "execution_count": 111,
   "id": "c07d1d23-a6a7-486d-95df-cf4c985982b4",
   "metadata": {},
   "outputs": [],
   "source": [
    "df_agg_metrics = df_metrics.groupby(by=['features', 'keyword_f', 'neural_f', 'query_f', 'model', 'regularization']).agg({\n",
    "    'rmse_scores': ['mean', 'var', np.std]\n",
    "}).reset_index()\n",
    "df_agg_metrics.columns = ['features', 'keyword_f', 'neural_f', 'query_f', 'model', 'regularization', 'mean_rmse', 'var_rmse', 'std_rmse']\n"
   ]
  },
  {
   "cell_type": "code",
   "execution_count": 112,
   "id": "78901f00-d60e-4752-ad29-7bde44f8435d",
   "metadata": {},
   "outputs": [
    {
     "data": {
      "text/html": [
       "<div>\n",
       "<style scoped>\n",
       "    .dataframe tbody tr th:only-of-type {\n",
       "        vertical-align: middle;\n",
       "    }\n",
       "\n",
       "    .dataframe tbody tr th {\n",
       "        vertical-align: top;\n",
       "    }\n",
       "\n",
       "    .dataframe thead th {\n",
       "        text-align: right;\n",
       "    }\n",
       "</style>\n",
       "<table border=\"1\" class=\"dataframe\">\n",
       "  <thead>\n",
       "    <tr style=\"text-align: right;\">\n",
       "      <th></th>\n",
       "      <th>features</th>\n",
       "      <th>keyword_f</th>\n",
       "      <th>neural_f</th>\n",
       "      <th>query_f</th>\n",
       "      <th>model</th>\n",
       "      <th>regularization</th>\n",
       "      <th>mean_rmse</th>\n",
       "      <th>var_rmse</th>\n",
       "      <th>std_rmse</th>\n",
       "    </tr>\n",
       "  </thead>\n",
       "  <tbody>\n",
       "    <tr>\n",
       "      <th>0</th>\n",
       "      <td>f_1_num_of_terms,f_2_query_length</td>\n",
       "      <td>False</td>\n",
       "      <td>False</td>\n",
       "      <td>True</td>\n",
       "      <td>lr</td>\n",
       "      <td>False</td>\n",
       "      <td>0.360443</td>\n",
       "      <td>0.000011</td>\n",
       "      <td>0.003353</td>\n",
       "    </tr>\n",
       "    <tr>\n",
       "      <th>1</th>\n",
       "      <td>f_1_num_of_terms,f_2_query_length</td>\n",
       "      <td>False</td>\n",
       "      <td>False</td>\n",
       "      <td>True</td>\n",
       "      <td>lr</td>\n",
       "      <td>True</td>\n",
       "      <td>0.360442</td>\n",
       "      <td>0.000011</td>\n",
       "      <td>0.003354</td>\n",
       "    </tr>\n",
       "    <tr>\n",
       "      <th>2</th>\n",
       "      <td>f_1_num_of_terms,f_2_query_length</td>\n",
       "      <td>False</td>\n",
       "      <td>False</td>\n",
       "      <td>True</td>\n",
       "      <td>rf</td>\n",
       "      <td>False</td>\n",
       "      <td>0.366891</td>\n",
       "      <td>0.000005</td>\n",
       "      <td>0.002332</td>\n",
       "    </tr>\n",
       "    <tr>\n",
       "      <th>3</th>\n",
       "      <td>f_1_num_of_terms,f_2_query_length</td>\n",
       "      <td>False</td>\n",
       "      <td>False</td>\n",
       "      <td>True</td>\n",
       "      <td>rf</td>\n",
       "      <td>True</td>\n",
       "      <td>0.360637</td>\n",
       "      <td>0.000012</td>\n",
       "      <td>0.003484</td>\n",
       "    </tr>\n",
       "    <tr>\n",
       "      <th>4</th>\n",
       "      <td>f_1_num_of_terms,f_2_query_length,f_3_has_numbers</td>\n",
       "      <td>False</td>\n",
       "      <td>False</td>\n",
       "      <td>True</td>\n",
       "      <td>lr</td>\n",
       "      <td>False</td>\n",
       "      <td>0.360300</td>\n",
       "      <td>0.000009</td>\n",
       "      <td>0.003016</td>\n",
       "    </tr>\n",
       "  </tbody>\n",
       "</table>\n",
       "</div>"
      ],
      "text/plain": [
       "                                            features  keyword_f  neural_f  \\\n",
       "0                  f_1_num_of_terms,f_2_query_length      False     False   \n",
       "1                  f_1_num_of_terms,f_2_query_length      False     False   \n",
       "2                  f_1_num_of_terms,f_2_query_length      False     False   \n",
       "3                  f_1_num_of_terms,f_2_query_length      False     False   \n",
       "4  f_1_num_of_terms,f_2_query_length,f_3_has_numbers      False     False   \n",
       "\n",
       "   query_f model  regularization  mean_rmse  var_rmse  std_rmse  \n",
       "0     True    lr           False   0.360443  0.000011  0.003353  \n",
       "1     True    lr            True   0.360442  0.000011  0.003354  \n",
       "2     True    rf           False   0.366891  0.000005  0.002332  \n",
       "3     True    rf            True   0.360637  0.000012  0.003484  \n",
       "4     True    lr           False   0.360300  0.000009  0.003016  "
      ]
     },
     "execution_count": 112,
     "metadata": {},
     "output_type": "execute_result"
    }
   ],
   "source": [
    "df_agg_metrics.head(5)"
   ]
  },
  {
   "cell_type": "code",
   "execution_count": 113,
   "id": "912abc17-7e23-4d61-9c92-aeec807edd43",
   "metadata": {},
   "outputs": [
    {
     "data": {
      "text/html": [
       "<div>\n",
       "<style scoped>\n",
       "    .dataframe tbody tr th:only-of-type {\n",
       "        vertical-align: middle;\n",
       "    }\n",
       "\n",
       "    .dataframe tbody tr th {\n",
       "        vertical-align: top;\n",
       "    }\n",
       "\n",
       "    .dataframe thead th {\n",
       "        text-align: right;\n",
       "    }\n",
       "</style>\n",
       "<table border=\"1\" class=\"dataframe\">\n",
       "  <thead>\n",
       "    <tr style=\"text-align: right;\">\n",
       "      <th></th>\n",
       "      <th>features</th>\n",
       "      <th>keyword_f</th>\n",
       "      <th>neural_f</th>\n",
       "      <th>query_f</th>\n",
       "      <th>model</th>\n",
       "      <th>regularization</th>\n",
       "      <th>mean_rmse</th>\n",
       "      <th>var_rmse</th>\n",
       "      <th>std_rmse</th>\n",
       "    </tr>\n",
       "  </thead>\n",
       "  <tbody>\n",
       "    <tr>\n",
       "      <th>1923</th>\n",
       "      <td>f_5_num_results,f_6_max_title_score,f_7_sum_ti...</td>\n",
       "      <td>True</td>\n",
       "      <td>True</td>\n",
       "      <td>False</td>\n",
       "      <td>rf</td>\n",
       "      <td>True</td>\n",
       "      <td>0.347150</td>\n",
       "      <td>0.000011</td>\n",
       "      <td>0.003283</td>\n",
       "    </tr>\n",
       "    <tr>\n",
       "      <th>919</th>\n",
       "      <td>f_1_num_of_terms,f_5_num_results,f_6_max_title...</td>\n",
       "      <td>True</td>\n",
       "      <td>True</td>\n",
       "      <td>True</td>\n",
       "      <td>rf</td>\n",
       "      <td>True</td>\n",
       "      <td>0.347173</td>\n",
       "      <td>0.000015</td>\n",
       "      <td>0.003867</td>\n",
       "    </tr>\n",
       "    <tr>\n",
       "      <th>931</th>\n",
       "      <td>f_1_num_of_terms,f_5_num_results,f_6_max_title...</td>\n",
       "      <td>True</td>\n",
       "      <td>True</td>\n",
       "      <td>True</td>\n",
       "      <td>rf</td>\n",
       "      <td>True</td>\n",
       "      <td>0.347186</td>\n",
       "      <td>0.000014</td>\n",
       "      <td>0.003702</td>\n",
       "    </tr>\n",
       "    <tr>\n",
       "      <th>539</th>\n",
       "      <td>f_1_num_of_terms,f_3_has_numbers,f_4_has_speci...</td>\n",
       "      <td>True</td>\n",
       "      <td>True</td>\n",
       "      <td>True</td>\n",
       "      <td>rf</td>\n",
       "      <td>True</td>\n",
       "      <td>0.347241</td>\n",
       "      <td>0.000012</td>\n",
       "      <td>0.003522</td>\n",
       "    </tr>\n",
       "    <tr>\n",
       "      <th>795</th>\n",
       "      <td>f_1_num_of_terms,f_4_has_special_char,f_5_num_...</td>\n",
       "      <td>True</td>\n",
       "      <td>True</td>\n",
       "      <td>True</td>\n",
       "      <td>rf</td>\n",
       "      <td>True</td>\n",
       "      <td>0.347331</td>\n",
       "      <td>0.000014</td>\n",
       "      <td>0.003788</td>\n",
       "    </tr>\n",
       "    <tr>\n",
       "      <th>1919</th>\n",
       "      <td>f_5_num_results,f_6_max_title_score,f_7_sum_ti...</td>\n",
       "      <td>True</td>\n",
       "      <td>True</td>\n",
       "      <td>False</td>\n",
       "      <td>rf</td>\n",
       "      <td>True</td>\n",
       "      <td>0.347373</td>\n",
       "      <td>0.000013</td>\n",
       "      <td>0.003546</td>\n",
       "    </tr>\n",
       "    <tr>\n",
       "      <th>1931</th>\n",
       "      <td>f_5_num_results,f_6_max_title_score,f_8_max_se...</td>\n",
       "      <td>True</td>\n",
       "      <td>True</td>\n",
       "      <td>False</td>\n",
       "      <td>rf</td>\n",
       "      <td>True</td>\n",
       "      <td>0.347405</td>\n",
       "      <td>0.000014</td>\n",
       "      <td>0.003701</td>\n",
       "    </tr>\n",
       "    <tr>\n",
       "      <th>947</th>\n",
       "      <td>f_1_num_of_terms,f_5_num_results,f_7_sum_title...</td>\n",
       "      <td>True</td>\n",
       "      <td>True</td>\n",
       "      <td>True</td>\n",
       "      <td>rf</td>\n",
       "      <td>True</td>\n",
       "      <td>0.347405</td>\n",
       "      <td>0.000014</td>\n",
       "      <td>0.003679</td>\n",
       "    </tr>\n",
       "    <tr>\n",
       "      <th>915</th>\n",
       "      <td>f_1_num_of_terms,f_5_num_results,f_6_max_title...</td>\n",
       "      <td>True</td>\n",
       "      <td>True</td>\n",
       "      <td>True</td>\n",
       "      <td>rf</td>\n",
       "      <td>True</td>\n",
       "      <td>0.347406</td>\n",
       "      <td>0.000014</td>\n",
       "      <td>0.003699</td>\n",
       "    </tr>\n",
       "    <tr>\n",
       "      <th>551</th>\n",
       "      <td>f_1_num_of_terms,f_3_has_numbers,f_4_has_speci...</td>\n",
       "      <td>True</td>\n",
       "      <td>True</td>\n",
       "      <td>True</td>\n",
       "      <td>rf</td>\n",
       "      <td>True</td>\n",
       "      <td>0.347458</td>\n",
       "      <td>0.000012</td>\n",
       "      <td>0.003396</td>\n",
       "    </tr>\n",
       "  </tbody>\n",
       "</table>\n",
       "</div>"
      ],
      "text/plain": [
       "                                               features  keyword_f  neural_f  \\\n",
       "1923  f_5_num_results,f_6_max_title_score,f_7_sum_ti...       True      True   \n",
       "919   f_1_num_of_terms,f_5_num_results,f_6_max_title...       True      True   \n",
       "931   f_1_num_of_terms,f_5_num_results,f_6_max_title...       True      True   \n",
       "539   f_1_num_of_terms,f_3_has_numbers,f_4_has_speci...       True      True   \n",
       "795   f_1_num_of_terms,f_4_has_special_char,f_5_num_...       True      True   \n",
       "1919  f_5_num_results,f_6_max_title_score,f_7_sum_ti...       True      True   \n",
       "1931  f_5_num_results,f_6_max_title_score,f_8_max_se...       True      True   \n",
       "947   f_1_num_of_terms,f_5_num_results,f_7_sum_title...       True      True   \n",
       "915   f_1_num_of_terms,f_5_num_results,f_6_max_title...       True      True   \n",
       "551   f_1_num_of_terms,f_3_has_numbers,f_4_has_speci...       True      True   \n",
       "\n",
       "      query_f model  regularization  mean_rmse  var_rmse  std_rmse  \n",
       "1923    False    rf            True   0.347150  0.000011  0.003283  \n",
       "919      True    rf            True   0.347173  0.000015  0.003867  \n",
       "931      True    rf            True   0.347186  0.000014  0.003702  \n",
       "539      True    rf            True   0.347241  0.000012  0.003522  \n",
       "795      True    rf            True   0.347331  0.000014  0.003788  \n",
       "1919    False    rf            True   0.347373  0.000013  0.003546  \n",
       "1931    False    rf            True   0.347405  0.000014  0.003701  \n",
       "947      True    rf            True   0.347405  0.000014  0.003679  \n",
       "915      True    rf            True   0.347406  0.000014  0.003699  \n",
       "551      True    rf            True   0.347458  0.000012  0.003396  "
      ]
     },
     "execution_count": 113,
     "metadata": {},
     "output_type": "execute_result"
    }
   ],
   "source": [
    "# 10 best feature combinations across all experiments\n",
    "df_agg_metrics.sort_values(by='mean_rmse').head(10)"
   ]
  },
  {
   "cell_type": "code",
   "execution_count": 114,
   "id": "d14daa24-ad50-450a-b918-7c7b00434459",
   "metadata": {},
   "outputs": [
    {
     "data": {
      "text/html": [
       "<div>\n",
       "<style scoped>\n",
       "    .dataframe tbody tr th:only-of-type {\n",
       "        vertical-align: middle;\n",
       "    }\n",
       "\n",
       "    .dataframe tbody tr th {\n",
       "        vertical-align: top;\n",
       "    }\n",
       "\n",
       "    .dataframe thead th {\n",
       "        text-align: right;\n",
       "    }\n",
       "</style>\n",
       "<table border=\"1\" class=\"dataframe\">\n",
       "  <thead>\n",
       "    <tr style=\"text-align: right;\">\n",
       "      <th></th>\n",
       "      <th>features</th>\n",
       "      <th>keyword_f</th>\n",
       "      <th>neural_f</th>\n",
       "      <th>query_f</th>\n",
       "      <th>model</th>\n",
       "      <th>regularization</th>\n",
       "      <th>mean_rmse</th>\n",
       "      <th>var_rmse</th>\n",
       "      <th>std_rmse</th>\n",
       "    </tr>\n",
       "  </thead>\n",
       "  <tbody>\n",
       "    <tr>\n",
       "      <th>1902</th>\n",
       "      <td>f_4_has_special_char,f_9_avg_semantic_score</td>\n",
       "      <td>False</td>\n",
       "      <td>True</td>\n",
       "      <td>True</td>\n",
       "      <td>rf</td>\n",
       "      <td>False</td>\n",
       "      <td>0.444089</td>\n",
       "      <td>0.000136</td>\n",
       "      <td>0.011655</td>\n",
       "    </tr>\n",
       "    <tr>\n",
       "      <th>1778</th>\n",
       "      <td>f_3_has_numbers,f_9_avg_semantic_score</td>\n",
       "      <td>False</td>\n",
       "      <td>True</td>\n",
       "      <td>True</td>\n",
       "      <td>rf</td>\n",
       "      <td>False</td>\n",
       "      <td>0.439407</td>\n",
       "      <td>0.000075</td>\n",
       "      <td>0.008642</td>\n",
       "    </tr>\n",
       "    <tr>\n",
       "      <th>1654</th>\n",
       "      <td>f_3_has_numbers,f_4_has_special_char,f_9_avg_s...</td>\n",
       "      <td>False</td>\n",
       "      <td>True</td>\n",
       "      <td>True</td>\n",
       "      <td>rf</td>\n",
       "      <td>False</td>\n",
       "      <td>0.439261</td>\n",
       "      <td>0.000085</td>\n",
       "      <td>0.009199</td>\n",
       "    </tr>\n",
       "    <tr>\n",
       "      <th>1894</th>\n",
       "      <td>f_4_has_special_char,f_8_max_semantic_score</td>\n",
       "      <td>False</td>\n",
       "      <td>True</td>\n",
       "      <td>True</td>\n",
       "      <td>rf</td>\n",
       "      <td>False</td>\n",
       "      <td>0.428562</td>\n",
       "      <td>0.000071</td>\n",
       "      <td>0.008418</td>\n",
       "    </tr>\n",
       "    <tr>\n",
       "      <th>1770</th>\n",
       "      <td>f_3_has_numbers,f_8_max_semantic_score</td>\n",
       "      <td>False</td>\n",
       "      <td>True</td>\n",
       "      <td>True</td>\n",
       "      <td>rf</td>\n",
       "      <td>False</td>\n",
       "      <td>0.424723</td>\n",
       "      <td>0.000073</td>\n",
       "      <td>0.008537</td>\n",
       "    </tr>\n",
       "    <tr>\n",
       "      <th>1018</th>\n",
       "      <td>f_1_num_of_terms,f_9_avg_semantic_score</td>\n",
       "      <td>False</td>\n",
       "      <td>True</td>\n",
       "      <td>True</td>\n",
       "      <td>rf</td>\n",
       "      <td>False</td>\n",
       "      <td>0.424651</td>\n",
       "      <td>0.000024</td>\n",
       "      <td>0.004932</td>\n",
       "    </tr>\n",
       "    <tr>\n",
       "      <th>894</th>\n",
       "      <td>f_1_num_of_terms,f_4_has_special_char,f_9_avg_...</td>\n",
       "      <td>False</td>\n",
       "      <td>True</td>\n",
       "      <td>True</td>\n",
       "      <td>rf</td>\n",
       "      <td>False</td>\n",
       "      <td>0.423400</td>\n",
       "      <td>0.000021</td>\n",
       "      <td>0.004602</td>\n",
       "    </tr>\n",
       "    <tr>\n",
       "      <th>1646</th>\n",
       "      <td>f_3_has_numbers,f_4_has_special_char,f_8_max_s...</td>\n",
       "      <td>False</td>\n",
       "      <td>True</td>\n",
       "      <td>True</td>\n",
       "      <td>rf</td>\n",
       "      <td>False</td>\n",
       "      <td>0.422285</td>\n",
       "      <td>0.000114</td>\n",
       "      <td>0.010700</td>\n",
       "    </tr>\n",
       "    <tr>\n",
       "      <th>766</th>\n",
       "      <td>f_1_num_of_terms,f_3_has_numbers,f_9_avg_seman...</td>\n",
       "      <td>False</td>\n",
       "      <td>True</td>\n",
       "      <td>True</td>\n",
       "      <td>rf</td>\n",
       "      <td>False</td>\n",
       "      <td>0.420280</td>\n",
       "      <td>0.000031</td>\n",
       "      <td>0.005598</td>\n",
       "    </tr>\n",
       "    <tr>\n",
       "      <th>642</th>\n",
       "      <td>f_1_num_of_terms,f_3_has_numbers,f_4_has_speci...</td>\n",
       "      <td>False</td>\n",
       "      <td>True</td>\n",
       "      <td>True</td>\n",
       "      <td>rf</td>\n",
       "      <td>False</td>\n",
       "      <td>0.419989</td>\n",
       "      <td>0.000027</td>\n",
       "      <td>0.005223</td>\n",
       "    </tr>\n",
       "  </tbody>\n",
       "</table>\n",
       "</div>"
      ],
      "text/plain": [
       "                                               features  keyword_f  neural_f  \\\n",
       "1902        f_4_has_special_char,f_9_avg_semantic_score      False      True   \n",
       "1778             f_3_has_numbers,f_9_avg_semantic_score      False      True   \n",
       "1654  f_3_has_numbers,f_4_has_special_char,f_9_avg_s...      False      True   \n",
       "1894        f_4_has_special_char,f_8_max_semantic_score      False      True   \n",
       "1770             f_3_has_numbers,f_8_max_semantic_score      False      True   \n",
       "1018            f_1_num_of_terms,f_9_avg_semantic_score      False      True   \n",
       "894   f_1_num_of_terms,f_4_has_special_char,f_9_avg_...      False      True   \n",
       "1646  f_3_has_numbers,f_4_has_special_char,f_8_max_s...      False      True   \n",
       "766   f_1_num_of_terms,f_3_has_numbers,f_9_avg_seman...      False      True   \n",
       "642   f_1_num_of_terms,f_3_has_numbers,f_4_has_speci...      False      True   \n",
       "\n",
       "      query_f model  regularization  mean_rmse  var_rmse  std_rmse  \n",
       "1902     True    rf           False   0.444089  0.000136  0.011655  \n",
       "1778     True    rf           False   0.439407  0.000075  0.008642  \n",
       "1654     True    rf           False   0.439261  0.000085  0.009199  \n",
       "1894     True    rf           False   0.428562  0.000071  0.008418  \n",
       "1770     True    rf           False   0.424723  0.000073  0.008537  \n",
       "1018     True    rf           False   0.424651  0.000024  0.004932  \n",
       "894      True    rf           False   0.423400  0.000021  0.004602  \n",
       "1646     True    rf           False   0.422285  0.000114  0.010700  \n",
       "766      True    rf           False   0.420280  0.000031  0.005598  \n",
       "642      True    rf           False   0.419989  0.000027  0.005223  "
      ]
     },
     "execution_count": 114,
     "metadata": {},
     "output_type": "execute_result"
    }
   ],
   "source": [
    "# 10 worst feature combinations across all experiments\n",
    "df_agg_metrics.sort_values(by='mean_rmse', ascending=False).head(10)"
   ]
  },
  {
   "cell_type": "markdown",
   "id": "1e23011b-a929-4553-b34a-8c804476d51d",
   "metadata": {},
   "source": [
    "### Visualization"
   ]
  },
  {
   "cell_type": "code",
   "execution_count": 115,
   "id": "1ee4af17-9405-40e3-b6b1-78424ada2171",
   "metadata": {},
   "outputs": [
    {
     "data": {
      "application/vnd.plotly.v1+json": {
       "config": {
        "plotlyServerURL": "https://plot.ly"
       },
       "data": [
        {
         "alignmentgroup": "True",
         "hovertemplate": "features=%{x}<br>rmse_scores=%{y}<extra></extra>",
         "legendgroup": "",
         "marker": {
          "color": "#636efa"
         },
         "name": "",
         "notched": false,
         "offsetgroup": "",
         "orientation": "v",
         "showlegend": false,
         "type": "box",
         "x": [
          "f_1_num_of_terms,f_5_num_results,f_6_max_title_score,f_9_avg_semantic_score",
          "f_1_num_of_terms,f_5_num_results,f_6_max_title_score,f_9_avg_semantic_score",
          "f_1_num_of_terms,f_5_num_results,f_6_max_title_score,f_9_avg_semantic_score",
          "f_1_num_of_terms,f_5_num_results,f_6_max_title_score,f_9_avg_semantic_score",
          "f_1_num_of_terms,f_5_num_results,f_6_max_title_score,f_9_avg_semantic_score",
          "f_1_num_of_terms,f_5_num_results,f_7_sum_title_scores,f_9_avg_semantic_score",
          "f_1_num_of_terms,f_5_num_results,f_7_sum_title_scores,f_9_avg_semantic_score",
          "f_1_num_of_terms,f_5_num_results,f_7_sum_title_scores,f_9_avg_semantic_score",
          "f_1_num_of_terms,f_5_num_results,f_7_sum_title_scores,f_9_avg_semantic_score",
          "f_1_num_of_terms,f_5_num_results,f_7_sum_title_scores,f_9_avg_semantic_score",
          "f_5_num_results,f_6_max_title_score,f_7_sum_title_scores,f_9_avg_semantic_score",
          "f_5_num_results,f_6_max_title_score,f_7_sum_title_scores,f_9_avg_semantic_score",
          "f_5_num_results,f_6_max_title_score,f_7_sum_title_scores,f_9_avg_semantic_score",
          "f_5_num_results,f_6_max_title_score,f_7_sum_title_scores,f_9_avg_semantic_score",
          "f_5_num_results,f_6_max_title_score,f_7_sum_title_scores,f_9_avg_semantic_score",
          "f_5_num_results,f_6_max_title_score,f_8_max_semantic_score,f_9_avg_semantic_score",
          "f_5_num_results,f_6_max_title_score,f_8_max_semantic_score,f_9_avg_semantic_score",
          "f_5_num_results,f_6_max_title_score,f_8_max_semantic_score,f_9_avg_semantic_score",
          "f_5_num_results,f_6_max_title_score,f_8_max_semantic_score,f_9_avg_semantic_score",
          "f_5_num_results,f_6_max_title_score,f_8_max_semantic_score,f_9_avg_semantic_score",
          "f_1_num_of_terms,f_5_num_results,f_6_max_title_score,f_7_sum_title_scores,f_9_avg_semantic_score",
          "f_1_num_of_terms,f_5_num_results,f_6_max_title_score,f_7_sum_title_scores,f_9_avg_semantic_score",
          "f_1_num_of_terms,f_5_num_results,f_6_max_title_score,f_7_sum_title_scores,f_9_avg_semantic_score",
          "f_1_num_of_terms,f_5_num_results,f_6_max_title_score,f_7_sum_title_scores,f_9_avg_semantic_score",
          "f_1_num_of_terms,f_5_num_results,f_6_max_title_score,f_7_sum_title_scores,f_9_avg_semantic_score",
          "f_5_num_results,f_6_max_title_score,f_7_sum_title_scores,f_8_max_semantic_score,f_9_avg_semantic_score",
          "f_5_num_results,f_6_max_title_score,f_7_sum_title_scores,f_8_max_semantic_score,f_9_avg_semantic_score",
          "f_5_num_results,f_6_max_title_score,f_7_sum_title_scores,f_8_max_semantic_score,f_9_avg_semantic_score",
          "f_5_num_results,f_6_max_title_score,f_7_sum_title_scores,f_8_max_semantic_score,f_9_avg_semantic_score",
          "f_5_num_results,f_6_max_title_score,f_7_sum_title_scores,f_8_max_semantic_score,f_9_avg_semantic_score",
          "f_1_num_of_terms,f_4_has_special_char,f_5_num_results,f_6_max_title_score,f_7_sum_title_scores,f_9_avg_semantic_score",
          "f_1_num_of_terms,f_4_has_special_char,f_5_num_results,f_6_max_title_score,f_7_sum_title_scores,f_9_avg_semantic_score",
          "f_1_num_of_terms,f_4_has_special_char,f_5_num_results,f_6_max_title_score,f_7_sum_title_scores,f_9_avg_semantic_score",
          "f_1_num_of_terms,f_4_has_special_char,f_5_num_results,f_6_max_title_score,f_7_sum_title_scores,f_9_avg_semantic_score",
          "f_1_num_of_terms,f_4_has_special_char,f_5_num_results,f_6_max_title_score,f_7_sum_title_scores,f_9_avg_semantic_score",
          "f_1_num_of_terms,f_5_num_results,f_6_max_title_score,f_7_sum_title_scores,f_8_max_semantic_score,f_9_avg_semantic_score",
          "f_1_num_of_terms,f_5_num_results,f_6_max_title_score,f_7_sum_title_scores,f_8_max_semantic_score,f_9_avg_semantic_score",
          "f_1_num_of_terms,f_5_num_results,f_6_max_title_score,f_7_sum_title_scores,f_8_max_semantic_score,f_9_avg_semantic_score",
          "f_1_num_of_terms,f_5_num_results,f_6_max_title_score,f_7_sum_title_scores,f_8_max_semantic_score,f_9_avg_semantic_score",
          "f_1_num_of_terms,f_5_num_results,f_6_max_title_score,f_7_sum_title_scores,f_8_max_semantic_score,f_9_avg_semantic_score",
          "f_1_num_of_terms,f_3_has_numbers,f_4_has_special_char,f_5_num_results,f_6_max_title_score,f_8_max_semantic_score,f_9_avg_semantic_score",
          "f_1_num_of_terms,f_3_has_numbers,f_4_has_special_char,f_5_num_results,f_6_max_title_score,f_8_max_semantic_score,f_9_avg_semantic_score",
          "f_1_num_of_terms,f_3_has_numbers,f_4_has_special_char,f_5_num_results,f_6_max_title_score,f_8_max_semantic_score,f_9_avg_semantic_score",
          "f_1_num_of_terms,f_3_has_numbers,f_4_has_special_char,f_5_num_results,f_6_max_title_score,f_8_max_semantic_score,f_9_avg_semantic_score",
          "f_1_num_of_terms,f_3_has_numbers,f_4_has_special_char,f_5_num_results,f_6_max_title_score,f_8_max_semantic_score,f_9_avg_semantic_score",
          "f_1_num_of_terms,f_3_has_numbers,f_4_has_special_char,f_5_num_results,f_6_max_title_score,f_7_sum_title_scores,f_8_max_semantic_score,f_9_avg_semantic_score",
          "f_1_num_of_terms,f_3_has_numbers,f_4_has_special_char,f_5_num_results,f_6_max_title_score,f_7_sum_title_scores,f_8_max_semantic_score,f_9_avg_semantic_score",
          "f_1_num_of_terms,f_3_has_numbers,f_4_has_special_char,f_5_num_results,f_6_max_title_score,f_7_sum_title_scores,f_8_max_semantic_score,f_9_avg_semantic_score",
          "f_1_num_of_terms,f_3_has_numbers,f_4_has_special_char,f_5_num_results,f_6_max_title_score,f_7_sum_title_scores,f_8_max_semantic_score,f_9_avg_semantic_score",
          "f_1_num_of_terms,f_3_has_numbers,f_4_has_special_char,f_5_num_results,f_6_max_title_score,f_7_sum_title_scores,f_8_max_semantic_score,f_9_avg_semantic_score",
          "f_1_num_of_terms,f_5_num_results,f_6_max_title_score,f_9_avg_semantic_score",
          "f_1_num_of_terms,f_5_num_results,f_6_max_title_score,f_9_avg_semantic_score",
          "f_1_num_of_terms,f_5_num_results,f_6_max_title_score,f_9_avg_semantic_score",
          "f_1_num_of_terms,f_5_num_results,f_6_max_title_score,f_9_avg_semantic_score",
          "f_1_num_of_terms,f_5_num_results,f_6_max_title_score,f_9_avg_semantic_score",
          "f_1_num_of_terms,f_5_num_results,f_7_sum_title_scores,f_9_avg_semantic_score",
          "f_1_num_of_terms,f_5_num_results,f_7_sum_title_scores,f_9_avg_semantic_score",
          "f_1_num_of_terms,f_5_num_results,f_7_sum_title_scores,f_9_avg_semantic_score",
          "f_1_num_of_terms,f_5_num_results,f_7_sum_title_scores,f_9_avg_semantic_score",
          "f_1_num_of_terms,f_5_num_results,f_7_sum_title_scores,f_9_avg_semantic_score",
          "f_5_num_results,f_6_max_title_score,f_7_sum_title_scores,f_9_avg_semantic_score",
          "f_5_num_results,f_6_max_title_score,f_7_sum_title_scores,f_9_avg_semantic_score",
          "f_5_num_results,f_6_max_title_score,f_7_sum_title_scores,f_9_avg_semantic_score",
          "f_5_num_results,f_6_max_title_score,f_7_sum_title_scores,f_9_avg_semantic_score",
          "f_5_num_results,f_6_max_title_score,f_7_sum_title_scores,f_9_avg_semantic_score",
          "f_5_num_results,f_6_max_title_score,f_8_max_semantic_score,f_9_avg_semantic_score",
          "f_5_num_results,f_6_max_title_score,f_8_max_semantic_score,f_9_avg_semantic_score",
          "f_5_num_results,f_6_max_title_score,f_8_max_semantic_score,f_9_avg_semantic_score",
          "f_5_num_results,f_6_max_title_score,f_8_max_semantic_score,f_9_avg_semantic_score",
          "f_5_num_results,f_6_max_title_score,f_8_max_semantic_score,f_9_avg_semantic_score",
          "f_1_num_of_terms,f_5_num_results,f_6_max_title_score,f_7_sum_title_scores,f_9_avg_semantic_score",
          "f_1_num_of_terms,f_5_num_results,f_6_max_title_score,f_7_sum_title_scores,f_9_avg_semantic_score",
          "f_1_num_of_terms,f_5_num_results,f_6_max_title_score,f_7_sum_title_scores,f_9_avg_semantic_score",
          "f_1_num_of_terms,f_5_num_results,f_6_max_title_score,f_7_sum_title_scores,f_9_avg_semantic_score",
          "f_1_num_of_terms,f_5_num_results,f_6_max_title_score,f_7_sum_title_scores,f_9_avg_semantic_score",
          "f_5_num_results,f_6_max_title_score,f_7_sum_title_scores,f_8_max_semantic_score,f_9_avg_semantic_score",
          "f_5_num_results,f_6_max_title_score,f_7_sum_title_scores,f_8_max_semantic_score,f_9_avg_semantic_score",
          "f_5_num_results,f_6_max_title_score,f_7_sum_title_scores,f_8_max_semantic_score,f_9_avg_semantic_score",
          "f_5_num_results,f_6_max_title_score,f_7_sum_title_scores,f_8_max_semantic_score,f_9_avg_semantic_score",
          "f_5_num_results,f_6_max_title_score,f_7_sum_title_scores,f_8_max_semantic_score,f_9_avg_semantic_score",
          "f_1_num_of_terms,f_4_has_special_char,f_5_num_results,f_6_max_title_score,f_7_sum_title_scores,f_9_avg_semantic_score",
          "f_1_num_of_terms,f_4_has_special_char,f_5_num_results,f_6_max_title_score,f_7_sum_title_scores,f_9_avg_semantic_score",
          "f_1_num_of_terms,f_4_has_special_char,f_5_num_results,f_6_max_title_score,f_7_sum_title_scores,f_9_avg_semantic_score",
          "f_1_num_of_terms,f_4_has_special_char,f_5_num_results,f_6_max_title_score,f_7_sum_title_scores,f_9_avg_semantic_score",
          "f_1_num_of_terms,f_4_has_special_char,f_5_num_results,f_6_max_title_score,f_7_sum_title_scores,f_9_avg_semantic_score",
          "f_1_num_of_terms,f_5_num_results,f_6_max_title_score,f_7_sum_title_scores,f_8_max_semantic_score,f_9_avg_semantic_score",
          "f_1_num_of_terms,f_5_num_results,f_6_max_title_score,f_7_sum_title_scores,f_8_max_semantic_score,f_9_avg_semantic_score",
          "f_1_num_of_terms,f_5_num_results,f_6_max_title_score,f_7_sum_title_scores,f_8_max_semantic_score,f_9_avg_semantic_score",
          "f_1_num_of_terms,f_5_num_results,f_6_max_title_score,f_7_sum_title_scores,f_8_max_semantic_score,f_9_avg_semantic_score",
          "f_1_num_of_terms,f_5_num_results,f_6_max_title_score,f_7_sum_title_scores,f_8_max_semantic_score,f_9_avg_semantic_score",
          "f_1_num_of_terms,f_3_has_numbers,f_4_has_special_char,f_5_num_results,f_6_max_title_score,f_8_max_semantic_score,f_9_avg_semantic_score",
          "f_1_num_of_terms,f_3_has_numbers,f_4_has_special_char,f_5_num_results,f_6_max_title_score,f_8_max_semantic_score,f_9_avg_semantic_score",
          "f_1_num_of_terms,f_3_has_numbers,f_4_has_special_char,f_5_num_results,f_6_max_title_score,f_8_max_semantic_score,f_9_avg_semantic_score",
          "f_1_num_of_terms,f_3_has_numbers,f_4_has_special_char,f_5_num_results,f_6_max_title_score,f_8_max_semantic_score,f_9_avg_semantic_score",
          "f_1_num_of_terms,f_3_has_numbers,f_4_has_special_char,f_5_num_results,f_6_max_title_score,f_8_max_semantic_score,f_9_avg_semantic_score",
          "f_1_num_of_terms,f_3_has_numbers,f_4_has_special_char,f_5_num_results,f_6_max_title_score,f_7_sum_title_scores,f_8_max_semantic_score,f_9_avg_semantic_score",
          "f_1_num_of_terms,f_3_has_numbers,f_4_has_special_char,f_5_num_results,f_6_max_title_score,f_7_sum_title_scores,f_8_max_semantic_score,f_9_avg_semantic_score",
          "f_1_num_of_terms,f_3_has_numbers,f_4_has_special_char,f_5_num_results,f_6_max_title_score,f_7_sum_title_scores,f_8_max_semantic_score,f_9_avg_semantic_score",
          "f_1_num_of_terms,f_3_has_numbers,f_4_has_special_char,f_5_num_results,f_6_max_title_score,f_7_sum_title_scores,f_8_max_semantic_score,f_9_avg_semantic_score",
          "f_1_num_of_terms,f_3_has_numbers,f_4_has_special_char,f_5_num_results,f_6_max_title_score,f_7_sum_title_scores,f_8_max_semantic_score,f_9_avg_semantic_score",
          "f_1_num_of_terms,f_5_num_results,f_6_max_title_score,f_9_avg_semantic_score",
          "f_1_num_of_terms,f_5_num_results,f_6_max_title_score,f_9_avg_semantic_score",
          "f_1_num_of_terms,f_5_num_results,f_6_max_title_score,f_9_avg_semantic_score",
          "f_1_num_of_terms,f_5_num_results,f_6_max_title_score,f_9_avg_semantic_score",
          "f_1_num_of_terms,f_5_num_results,f_6_max_title_score,f_9_avg_semantic_score",
          "f_1_num_of_terms,f_5_num_results,f_7_sum_title_scores,f_9_avg_semantic_score",
          "f_1_num_of_terms,f_5_num_results,f_7_sum_title_scores,f_9_avg_semantic_score",
          "f_1_num_of_terms,f_5_num_results,f_7_sum_title_scores,f_9_avg_semantic_score",
          "f_1_num_of_terms,f_5_num_results,f_7_sum_title_scores,f_9_avg_semantic_score",
          "f_1_num_of_terms,f_5_num_results,f_7_sum_title_scores,f_9_avg_semantic_score",
          "f_5_num_results,f_6_max_title_score,f_7_sum_title_scores,f_9_avg_semantic_score",
          "f_5_num_results,f_6_max_title_score,f_7_sum_title_scores,f_9_avg_semantic_score",
          "f_5_num_results,f_6_max_title_score,f_7_sum_title_scores,f_9_avg_semantic_score",
          "f_5_num_results,f_6_max_title_score,f_7_sum_title_scores,f_9_avg_semantic_score",
          "f_5_num_results,f_6_max_title_score,f_7_sum_title_scores,f_9_avg_semantic_score",
          "f_5_num_results,f_6_max_title_score,f_8_max_semantic_score,f_9_avg_semantic_score",
          "f_5_num_results,f_6_max_title_score,f_8_max_semantic_score,f_9_avg_semantic_score",
          "f_5_num_results,f_6_max_title_score,f_8_max_semantic_score,f_9_avg_semantic_score",
          "f_5_num_results,f_6_max_title_score,f_8_max_semantic_score,f_9_avg_semantic_score",
          "f_5_num_results,f_6_max_title_score,f_8_max_semantic_score,f_9_avg_semantic_score",
          "f_1_num_of_terms,f_5_num_results,f_6_max_title_score,f_7_sum_title_scores,f_9_avg_semantic_score",
          "f_1_num_of_terms,f_5_num_results,f_6_max_title_score,f_7_sum_title_scores,f_9_avg_semantic_score",
          "f_1_num_of_terms,f_5_num_results,f_6_max_title_score,f_7_sum_title_scores,f_9_avg_semantic_score",
          "f_1_num_of_terms,f_5_num_results,f_6_max_title_score,f_7_sum_title_scores,f_9_avg_semantic_score",
          "f_1_num_of_terms,f_5_num_results,f_6_max_title_score,f_7_sum_title_scores,f_9_avg_semantic_score",
          "f_5_num_results,f_6_max_title_score,f_7_sum_title_scores,f_8_max_semantic_score,f_9_avg_semantic_score",
          "f_5_num_results,f_6_max_title_score,f_7_sum_title_scores,f_8_max_semantic_score,f_9_avg_semantic_score",
          "f_5_num_results,f_6_max_title_score,f_7_sum_title_scores,f_8_max_semantic_score,f_9_avg_semantic_score",
          "f_5_num_results,f_6_max_title_score,f_7_sum_title_scores,f_8_max_semantic_score,f_9_avg_semantic_score",
          "f_5_num_results,f_6_max_title_score,f_7_sum_title_scores,f_8_max_semantic_score,f_9_avg_semantic_score",
          "f_1_num_of_terms,f_4_has_special_char,f_5_num_results,f_6_max_title_score,f_7_sum_title_scores,f_9_avg_semantic_score",
          "f_1_num_of_terms,f_4_has_special_char,f_5_num_results,f_6_max_title_score,f_7_sum_title_scores,f_9_avg_semantic_score",
          "f_1_num_of_terms,f_4_has_special_char,f_5_num_results,f_6_max_title_score,f_7_sum_title_scores,f_9_avg_semantic_score",
          "f_1_num_of_terms,f_4_has_special_char,f_5_num_results,f_6_max_title_score,f_7_sum_title_scores,f_9_avg_semantic_score",
          "f_1_num_of_terms,f_4_has_special_char,f_5_num_results,f_6_max_title_score,f_7_sum_title_scores,f_9_avg_semantic_score",
          "f_1_num_of_terms,f_5_num_results,f_6_max_title_score,f_7_sum_title_scores,f_8_max_semantic_score,f_9_avg_semantic_score",
          "f_1_num_of_terms,f_5_num_results,f_6_max_title_score,f_7_sum_title_scores,f_8_max_semantic_score,f_9_avg_semantic_score",
          "f_1_num_of_terms,f_5_num_results,f_6_max_title_score,f_7_sum_title_scores,f_8_max_semantic_score,f_9_avg_semantic_score",
          "f_1_num_of_terms,f_5_num_results,f_6_max_title_score,f_7_sum_title_scores,f_8_max_semantic_score,f_9_avg_semantic_score",
          "f_1_num_of_terms,f_5_num_results,f_6_max_title_score,f_7_sum_title_scores,f_8_max_semantic_score,f_9_avg_semantic_score",
          "f_1_num_of_terms,f_3_has_numbers,f_4_has_special_char,f_5_num_results,f_6_max_title_score,f_8_max_semantic_score,f_9_avg_semantic_score",
          "f_1_num_of_terms,f_3_has_numbers,f_4_has_special_char,f_5_num_results,f_6_max_title_score,f_8_max_semantic_score,f_9_avg_semantic_score",
          "f_1_num_of_terms,f_3_has_numbers,f_4_has_special_char,f_5_num_results,f_6_max_title_score,f_8_max_semantic_score,f_9_avg_semantic_score",
          "f_1_num_of_terms,f_3_has_numbers,f_4_has_special_char,f_5_num_results,f_6_max_title_score,f_8_max_semantic_score,f_9_avg_semantic_score",
          "f_1_num_of_terms,f_3_has_numbers,f_4_has_special_char,f_5_num_results,f_6_max_title_score,f_8_max_semantic_score,f_9_avg_semantic_score",
          "f_1_num_of_terms,f_3_has_numbers,f_4_has_special_char,f_5_num_results,f_6_max_title_score,f_7_sum_title_scores,f_8_max_semantic_score,f_9_avg_semantic_score",
          "f_1_num_of_terms,f_3_has_numbers,f_4_has_special_char,f_5_num_results,f_6_max_title_score,f_7_sum_title_scores,f_8_max_semantic_score,f_9_avg_semantic_score",
          "f_1_num_of_terms,f_3_has_numbers,f_4_has_special_char,f_5_num_results,f_6_max_title_score,f_7_sum_title_scores,f_8_max_semantic_score,f_9_avg_semantic_score",
          "f_1_num_of_terms,f_3_has_numbers,f_4_has_special_char,f_5_num_results,f_6_max_title_score,f_7_sum_title_scores,f_8_max_semantic_score,f_9_avg_semantic_score",
          "f_1_num_of_terms,f_3_has_numbers,f_4_has_special_char,f_5_num_results,f_6_max_title_score,f_7_sum_title_scores,f_8_max_semantic_score,f_9_avg_semantic_score",
          "f_1_num_of_terms,f_5_num_results,f_6_max_title_score,f_9_avg_semantic_score",
          "f_1_num_of_terms,f_5_num_results,f_6_max_title_score,f_9_avg_semantic_score",
          "f_1_num_of_terms,f_5_num_results,f_6_max_title_score,f_9_avg_semantic_score",
          "f_1_num_of_terms,f_5_num_results,f_6_max_title_score,f_9_avg_semantic_score",
          "f_1_num_of_terms,f_5_num_results,f_6_max_title_score,f_9_avg_semantic_score",
          "f_1_num_of_terms,f_5_num_results,f_7_sum_title_scores,f_9_avg_semantic_score",
          "f_1_num_of_terms,f_5_num_results,f_7_sum_title_scores,f_9_avg_semantic_score",
          "f_1_num_of_terms,f_5_num_results,f_7_sum_title_scores,f_9_avg_semantic_score",
          "f_1_num_of_terms,f_5_num_results,f_7_sum_title_scores,f_9_avg_semantic_score",
          "f_1_num_of_terms,f_5_num_results,f_7_sum_title_scores,f_9_avg_semantic_score",
          "f_5_num_results,f_6_max_title_score,f_7_sum_title_scores,f_9_avg_semantic_score",
          "f_5_num_results,f_6_max_title_score,f_7_sum_title_scores,f_9_avg_semantic_score",
          "f_5_num_results,f_6_max_title_score,f_7_sum_title_scores,f_9_avg_semantic_score",
          "f_5_num_results,f_6_max_title_score,f_7_sum_title_scores,f_9_avg_semantic_score",
          "f_5_num_results,f_6_max_title_score,f_7_sum_title_scores,f_9_avg_semantic_score",
          "f_5_num_results,f_6_max_title_score,f_8_max_semantic_score,f_9_avg_semantic_score",
          "f_5_num_results,f_6_max_title_score,f_8_max_semantic_score,f_9_avg_semantic_score",
          "f_5_num_results,f_6_max_title_score,f_8_max_semantic_score,f_9_avg_semantic_score",
          "f_5_num_results,f_6_max_title_score,f_8_max_semantic_score,f_9_avg_semantic_score",
          "f_5_num_results,f_6_max_title_score,f_8_max_semantic_score,f_9_avg_semantic_score",
          "f_1_num_of_terms,f_5_num_results,f_6_max_title_score,f_7_sum_title_scores,f_9_avg_semantic_score",
          "f_1_num_of_terms,f_5_num_results,f_6_max_title_score,f_7_sum_title_scores,f_9_avg_semantic_score",
          "f_1_num_of_terms,f_5_num_results,f_6_max_title_score,f_7_sum_title_scores,f_9_avg_semantic_score",
          "f_1_num_of_terms,f_5_num_results,f_6_max_title_score,f_7_sum_title_scores,f_9_avg_semantic_score",
          "f_1_num_of_terms,f_5_num_results,f_6_max_title_score,f_7_sum_title_scores,f_9_avg_semantic_score",
          "f_5_num_results,f_6_max_title_score,f_7_sum_title_scores,f_8_max_semantic_score,f_9_avg_semantic_score",
          "f_5_num_results,f_6_max_title_score,f_7_sum_title_scores,f_8_max_semantic_score,f_9_avg_semantic_score",
          "f_5_num_results,f_6_max_title_score,f_7_sum_title_scores,f_8_max_semantic_score,f_9_avg_semantic_score",
          "f_5_num_results,f_6_max_title_score,f_7_sum_title_scores,f_8_max_semantic_score,f_9_avg_semantic_score",
          "f_5_num_results,f_6_max_title_score,f_7_sum_title_scores,f_8_max_semantic_score,f_9_avg_semantic_score",
          "f_1_num_of_terms,f_4_has_special_char,f_5_num_results,f_6_max_title_score,f_7_sum_title_scores,f_9_avg_semantic_score",
          "f_1_num_of_terms,f_4_has_special_char,f_5_num_results,f_6_max_title_score,f_7_sum_title_scores,f_9_avg_semantic_score",
          "f_1_num_of_terms,f_4_has_special_char,f_5_num_results,f_6_max_title_score,f_7_sum_title_scores,f_9_avg_semantic_score",
          "f_1_num_of_terms,f_4_has_special_char,f_5_num_results,f_6_max_title_score,f_7_sum_title_scores,f_9_avg_semantic_score",
          "f_1_num_of_terms,f_4_has_special_char,f_5_num_results,f_6_max_title_score,f_7_sum_title_scores,f_9_avg_semantic_score",
          "f_1_num_of_terms,f_5_num_results,f_6_max_title_score,f_7_sum_title_scores,f_8_max_semantic_score,f_9_avg_semantic_score",
          "f_1_num_of_terms,f_5_num_results,f_6_max_title_score,f_7_sum_title_scores,f_8_max_semantic_score,f_9_avg_semantic_score",
          "f_1_num_of_terms,f_5_num_results,f_6_max_title_score,f_7_sum_title_scores,f_8_max_semantic_score,f_9_avg_semantic_score",
          "f_1_num_of_terms,f_5_num_results,f_6_max_title_score,f_7_sum_title_scores,f_8_max_semantic_score,f_9_avg_semantic_score",
          "f_1_num_of_terms,f_5_num_results,f_6_max_title_score,f_7_sum_title_scores,f_8_max_semantic_score,f_9_avg_semantic_score",
          "f_1_num_of_terms,f_3_has_numbers,f_4_has_special_char,f_5_num_results,f_6_max_title_score,f_8_max_semantic_score,f_9_avg_semantic_score",
          "f_1_num_of_terms,f_3_has_numbers,f_4_has_special_char,f_5_num_results,f_6_max_title_score,f_8_max_semantic_score,f_9_avg_semantic_score",
          "f_1_num_of_terms,f_3_has_numbers,f_4_has_special_char,f_5_num_results,f_6_max_title_score,f_8_max_semantic_score,f_9_avg_semantic_score",
          "f_1_num_of_terms,f_3_has_numbers,f_4_has_special_char,f_5_num_results,f_6_max_title_score,f_8_max_semantic_score,f_9_avg_semantic_score",
          "f_1_num_of_terms,f_3_has_numbers,f_4_has_special_char,f_5_num_results,f_6_max_title_score,f_8_max_semantic_score,f_9_avg_semantic_score",
          "f_1_num_of_terms,f_3_has_numbers,f_4_has_special_char,f_5_num_results,f_6_max_title_score,f_7_sum_title_scores,f_8_max_semantic_score,f_9_avg_semantic_score",
          "f_1_num_of_terms,f_3_has_numbers,f_4_has_special_char,f_5_num_results,f_6_max_title_score,f_7_sum_title_scores,f_8_max_semantic_score,f_9_avg_semantic_score",
          "f_1_num_of_terms,f_3_has_numbers,f_4_has_special_char,f_5_num_results,f_6_max_title_score,f_7_sum_title_scores,f_8_max_semantic_score,f_9_avg_semantic_score",
          "f_1_num_of_terms,f_3_has_numbers,f_4_has_special_char,f_5_num_results,f_6_max_title_score,f_7_sum_title_scores,f_8_max_semantic_score,f_9_avg_semantic_score",
          "f_1_num_of_terms,f_3_has_numbers,f_4_has_special_char,f_5_num_results,f_6_max_title_score,f_7_sum_title_scores,f_8_max_semantic_score,f_9_avg_semantic_score"
         ],
         "x0": " ",
         "xaxis": "x",
         "y": [
          0.3647156170939952,
          0.3592484058940682,
          0.3590671148150675,
          0.36054286711361533,
          0.35438445696732057,
          0.3627455835341125,
          0.3580423761750634,
          0.3566444097083755,
          0.36049591190265295,
          0.35322995059025414,
          0.3618822054399467,
          0.35939442735713883,
          0.357534042480449,
          0.36346238155953425,
          0.3540901115491693,
          0.3651132013085845,
          0.36057636941217824,
          0.3603408137432646,
          0.36371047556890246,
          0.35491041542675134,
          0.3610842910144989,
          0.35798271923187786,
          0.3559649481383512,
          0.3600258473141683,
          0.3532801060725638,
          0.3616471451514155,
          0.35946996302035233,
          0.3574513774200448,
          0.36316362401911745,
          0.35378767863293054,
          0.36121229590118514,
          0.35813593741577043,
          0.35595933019113873,
          0.36015603344213654,
          0.35327604344281927,
          0.3609495264989145,
          0.35802639018919563,
          0.3559609014769119,
          0.3598747990628174,
          0.35311669397626644,
          0.36445662830003867,
          0.3590323376006336,
          0.3585594778348803,
          0.36055402099115275,
          0.3548020263879491,
          0.36065508383054684,
          0.35770323072862265,
          0.35552214660960546,
          0.3596407544853737,
          0.3534000320351028,
          0.36461100374775834,
          0.3592421807659612,
          0.3590832825901413,
          0.36053915162579725,
          0.354337045333231,
          0.3627424546264185,
          0.3579254323277893,
          0.3566183923360848,
          0.36039908350837113,
          0.3532423038525651,
          0.36215473278098087,
          0.35894578205653643,
          0.35743514601033816,
          0.363325410301082,
          0.35419333642829853,
          0.36518080422273314,
          0.3603504216068894,
          0.36026956070323585,
          0.3637379214723843,
          0.35497721336515914,
          0.36117110366445676,
          0.3577500900431274,
          0.35592855268157225,
          0.3598777443122251,
          0.3533017557078424,
          0.3621510376122579,
          0.3589281758076043,
          0.35741852889182585,
          0.36335984782094494,
          0.3541855912726918,
          0.3612923203209704,
          0.3578948423546001,
          0.35592350028861947,
          0.359999616660323,
          0.3532981891237151,
          0.36116894963925283,
          0.35772639628256464,
          0.35591240689718634,
          0.3598931828159732,
          0.35328951559508354,
          0.364367527794557,
          0.3589952687743851,
          0.3585709739818261,
          0.36051936399315454,
          0.35464937426726967,
          0.36090042590033694,
          0.3574445374298309,
          0.3555070843005059,
          0.3596812111278262,
          0.3535867707794023,
          0.3780404753462253,
          0.36980103839767675,
          0.37110158582253455,
          0.3693170264149759,
          0.3667520524823276,
          0.3779794835702065,
          0.36947698710474514,
          0.3755159211005573,
          0.37045369616188206,
          0.37138195836631593,
          0.3769810844061012,
          0.37058137028188565,
          0.3723562084885923,
          0.3708852329225309,
          0.3649211819009689,
          0.37067120875514464,
          0.36963541767530883,
          0.36298013857510164,
          0.36223903848149774,
          0.36294927607036226,
          0.3749845863498925,
          0.36521774327105194,
          0.36940252435520793,
          0.3672947753508073,
          0.3673616664814118,
          0.36790706842897164,
          0.3662378803455481,
          0.3635283936640988,
          0.3581876421653879,
          0.36023737174257753,
          0.3739168236386269,
          0.3655205835517338,
          0.36916163939391106,
          0.3672249392402428,
          0.36646031572327176,
          0.36622915230767744,
          0.3639874297280059,
          0.36281550132264195,
          0.3557413329935109,
          0.3585468058705864,
          0.36659508861958306,
          0.3647823008316056,
          0.3599496673147511,
          0.35645435612431503,
          0.35965457733775613,
          0.3643946775132699,
          0.36377470775192716,
          0.3602966042027041,
          0.35438176307479485,
          0.359478872814523,
          0.35148913087740524,
          0.3495244862825814,
          0.3457009094819266,
          0.3473795362593996,
          0.3418382933704195,
          0.3522970830716034,
          0.34863431185654414,
          0.34558542340667925,
          0.34809688797871297,
          0.34241303584117383,
          0.35112021373069735,
          0.3492209858847402,
          0.34535116255351056,
          0.3473545009722272,
          0.3427030058616811,
          0.35157152429140187,
          0.350203126178577,
          0.34544804927338335,
          0.34747208610779823,
          0.34232933560302853,
          0.35208202655682935,
          0.348955392164589,
          0.34601399424237256,
          0.34722335810645427,
          0.34158846403850607,
          0.3523479190784554,
          0.34832729719381156,
          0.34582942847634396,
          0.3476941793293545,
          0.3426677042850376,
          0.35251939689977985,
          0.34838014123912386,
          0.3464761582533539,
          0.347299901286274,
          0.3419801266485877,
          0.35235812287429225,
          0.3482471515353239,
          0.34658083912823984,
          0.3477934121711585,
          0.34205057431801156,
          0.3518780444239995,
          0.3495125426318372,
          0.3470673382708161,
          0.3457821079239488,
          0.3430511319289377,
          0.3517442221238433,
          0.3490193294433211,
          0.3457007441428164,
          0.34737752102435426,
          0.34236429804814744
         ],
         "y0": " ",
         "yaxis": "y"
        }
       ],
       "layout": {
        "boxmode": "group",
        "height": 800,
        "legend": {
         "tracegroupgap": 0
        },
        "template": {
         "data": {
          "bar": [
           {
            "error_x": {
             "color": "#2a3f5f"
            },
            "error_y": {
             "color": "#2a3f5f"
            },
            "marker": {
             "line": {
              "color": "#E5ECF6",
              "width": 0.5
             },
             "pattern": {
              "fillmode": "overlay",
              "size": 10,
              "solidity": 0.2
             }
            },
            "type": "bar"
           }
          ],
          "barpolar": [
           {
            "marker": {
             "line": {
              "color": "#E5ECF6",
              "width": 0.5
             },
             "pattern": {
              "fillmode": "overlay",
              "size": 10,
              "solidity": 0.2
             }
            },
            "type": "barpolar"
           }
          ],
          "carpet": [
           {
            "aaxis": {
             "endlinecolor": "#2a3f5f",
             "gridcolor": "white",
             "linecolor": "white",
             "minorgridcolor": "white",
             "startlinecolor": "#2a3f5f"
            },
            "baxis": {
             "endlinecolor": "#2a3f5f",
             "gridcolor": "white",
             "linecolor": "white",
             "minorgridcolor": "white",
             "startlinecolor": "#2a3f5f"
            },
            "type": "carpet"
           }
          ],
          "choropleth": [
           {
            "colorbar": {
             "outlinewidth": 0,
             "ticks": ""
            },
            "type": "choropleth"
           }
          ],
          "contour": [
           {
            "colorbar": {
             "outlinewidth": 0,
             "ticks": ""
            },
            "colorscale": [
             [
              0,
              "#0d0887"
             ],
             [
              0.1111111111111111,
              "#46039f"
             ],
             [
              0.2222222222222222,
              "#7201a8"
             ],
             [
              0.3333333333333333,
              "#9c179e"
             ],
             [
              0.4444444444444444,
              "#bd3786"
             ],
             [
              0.5555555555555556,
              "#d8576b"
             ],
             [
              0.6666666666666666,
              "#ed7953"
             ],
             [
              0.7777777777777778,
              "#fb9f3a"
             ],
             [
              0.8888888888888888,
              "#fdca26"
             ],
             [
              1,
              "#f0f921"
             ]
            ],
            "type": "contour"
           }
          ],
          "contourcarpet": [
           {
            "colorbar": {
             "outlinewidth": 0,
             "ticks": ""
            },
            "type": "contourcarpet"
           }
          ],
          "heatmap": [
           {
            "colorbar": {
             "outlinewidth": 0,
             "ticks": ""
            },
            "colorscale": [
             [
              0,
              "#0d0887"
             ],
             [
              0.1111111111111111,
              "#46039f"
             ],
             [
              0.2222222222222222,
              "#7201a8"
             ],
             [
              0.3333333333333333,
              "#9c179e"
             ],
             [
              0.4444444444444444,
              "#bd3786"
             ],
             [
              0.5555555555555556,
              "#d8576b"
             ],
             [
              0.6666666666666666,
              "#ed7953"
             ],
             [
              0.7777777777777778,
              "#fb9f3a"
             ],
             [
              0.8888888888888888,
              "#fdca26"
             ],
             [
              1,
              "#f0f921"
             ]
            ],
            "type": "heatmap"
           }
          ],
          "heatmapgl": [
           {
            "colorbar": {
             "outlinewidth": 0,
             "ticks": ""
            },
            "colorscale": [
             [
              0,
              "#0d0887"
             ],
             [
              0.1111111111111111,
              "#46039f"
             ],
             [
              0.2222222222222222,
              "#7201a8"
             ],
             [
              0.3333333333333333,
              "#9c179e"
             ],
             [
              0.4444444444444444,
              "#bd3786"
             ],
             [
              0.5555555555555556,
              "#d8576b"
             ],
             [
              0.6666666666666666,
              "#ed7953"
             ],
             [
              0.7777777777777778,
              "#fb9f3a"
             ],
             [
              0.8888888888888888,
              "#fdca26"
             ],
             [
              1,
              "#f0f921"
             ]
            ],
            "type": "heatmapgl"
           }
          ],
          "histogram": [
           {
            "marker": {
             "pattern": {
              "fillmode": "overlay",
              "size": 10,
              "solidity": 0.2
             }
            },
            "type": "histogram"
           }
          ],
          "histogram2d": [
           {
            "colorbar": {
             "outlinewidth": 0,
             "ticks": ""
            },
            "colorscale": [
             [
              0,
              "#0d0887"
             ],
             [
              0.1111111111111111,
              "#46039f"
             ],
             [
              0.2222222222222222,
              "#7201a8"
             ],
             [
              0.3333333333333333,
              "#9c179e"
             ],
             [
              0.4444444444444444,
              "#bd3786"
             ],
             [
              0.5555555555555556,
              "#d8576b"
             ],
             [
              0.6666666666666666,
              "#ed7953"
             ],
             [
              0.7777777777777778,
              "#fb9f3a"
             ],
             [
              0.8888888888888888,
              "#fdca26"
             ],
             [
              1,
              "#f0f921"
             ]
            ],
            "type": "histogram2d"
           }
          ],
          "histogram2dcontour": [
           {
            "colorbar": {
             "outlinewidth": 0,
             "ticks": ""
            },
            "colorscale": [
             [
              0,
              "#0d0887"
             ],
             [
              0.1111111111111111,
              "#46039f"
             ],
             [
              0.2222222222222222,
              "#7201a8"
             ],
             [
              0.3333333333333333,
              "#9c179e"
             ],
             [
              0.4444444444444444,
              "#bd3786"
             ],
             [
              0.5555555555555556,
              "#d8576b"
             ],
             [
              0.6666666666666666,
              "#ed7953"
             ],
             [
              0.7777777777777778,
              "#fb9f3a"
             ],
             [
              0.8888888888888888,
              "#fdca26"
             ],
             [
              1,
              "#f0f921"
             ]
            ],
            "type": "histogram2dcontour"
           }
          ],
          "mesh3d": [
           {
            "colorbar": {
             "outlinewidth": 0,
             "ticks": ""
            },
            "type": "mesh3d"
           }
          ],
          "parcoords": [
           {
            "line": {
             "colorbar": {
              "outlinewidth": 0,
              "ticks": ""
             }
            },
            "type": "parcoords"
           }
          ],
          "pie": [
           {
            "automargin": true,
            "type": "pie"
           }
          ],
          "scatter": [
           {
            "fillpattern": {
             "fillmode": "overlay",
             "size": 10,
             "solidity": 0.2
            },
            "type": "scatter"
           }
          ],
          "scatter3d": [
           {
            "line": {
             "colorbar": {
              "outlinewidth": 0,
              "ticks": ""
             }
            },
            "marker": {
             "colorbar": {
              "outlinewidth": 0,
              "ticks": ""
             }
            },
            "type": "scatter3d"
           }
          ],
          "scattercarpet": [
           {
            "marker": {
             "colorbar": {
              "outlinewidth": 0,
              "ticks": ""
             }
            },
            "type": "scattercarpet"
           }
          ],
          "scattergeo": [
           {
            "marker": {
             "colorbar": {
              "outlinewidth": 0,
              "ticks": ""
             }
            },
            "type": "scattergeo"
           }
          ],
          "scattergl": [
           {
            "marker": {
             "colorbar": {
              "outlinewidth": 0,
              "ticks": ""
             }
            },
            "type": "scattergl"
           }
          ],
          "scattermapbox": [
           {
            "marker": {
             "colorbar": {
              "outlinewidth": 0,
              "ticks": ""
             }
            },
            "type": "scattermapbox"
           }
          ],
          "scatterpolar": [
           {
            "marker": {
             "colorbar": {
              "outlinewidth": 0,
              "ticks": ""
             }
            },
            "type": "scatterpolar"
           }
          ],
          "scatterpolargl": [
           {
            "marker": {
             "colorbar": {
              "outlinewidth": 0,
              "ticks": ""
             }
            },
            "type": "scatterpolargl"
           }
          ],
          "scatterternary": [
           {
            "marker": {
             "colorbar": {
              "outlinewidth": 0,
              "ticks": ""
             }
            },
            "type": "scatterternary"
           }
          ],
          "surface": [
           {
            "colorbar": {
             "outlinewidth": 0,
             "ticks": ""
            },
            "colorscale": [
             [
              0,
              "#0d0887"
             ],
             [
              0.1111111111111111,
              "#46039f"
             ],
             [
              0.2222222222222222,
              "#7201a8"
             ],
             [
              0.3333333333333333,
              "#9c179e"
             ],
             [
              0.4444444444444444,
              "#bd3786"
             ],
             [
              0.5555555555555556,
              "#d8576b"
             ],
             [
              0.6666666666666666,
              "#ed7953"
             ],
             [
              0.7777777777777778,
              "#fb9f3a"
             ],
             [
              0.8888888888888888,
              "#fdca26"
             ],
             [
              1,
              "#f0f921"
             ]
            ],
            "type": "surface"
           }
          ],
          "table": [
           {
            "cells": {
             "fill": {
              "color": "#EBF0F8"
             },
             "line": {
              "color": "white"
             }
            },
            "header": {
             "fill": {
              "color": "#C8D4E3"
             },
             "line": {
              "color": "white"
             }
            },
            "type": "table"
           }
          ]
         },
         "layout": {
          "annotationdefaults": {
           "arrowcolor": "#2a3f5f",
           "arrowhead": 0,
           "arrowwidth": 1
          },
          "autotypenumbers": "strict",
          "coloraxis": {
           "colorbar": {
            "outlinewidth": 0,
            "ticks": ""
           }
          },
          "colorscale": {
           "diverging": [
            [
             0,
             "#8e0152"
            ],
            [
             0.1,
             "#c51b7d"
            ],
            [
             0.2,
             "#de77ae"
            ],
            [
             0.3,
             "#f1b6da"
            ],
            [
             0.4,
             "#fde0ef"
            ],
            [
             0.5,
             "#f7f7f7"
            ],
            [
             0.6,
             "#e6f5d0"
            ],
            [
             0.7,
             "#b8e186"
            ],
            [
             0.8,
             "#7fbc41"
            ],
            [
             0.9,
             "#4d9221"
            ],
            [
             1,
             "#276419"
            ]
           ],
           "sequential": [
            [
             0,
             "#0d0887"
            ],
            [
             0.1111111111111111,
             "#46039f"
            ],
            [
             0.2222222222222222,
             "#7201a8"
            ],
            [
             0.3333333333333333,
             "#9c179e"
            ],
            [
             0.4444444444444444,
             "#bd3786"
            ],
            [
             0.5555555555555556,
             "#d8576b"
            ],
            [
             0.6666666666666666,
             "#ed7953"
            ],
            [
             0.7777777777777778,
             "#fb9f3a"
            ],
            [
             0.8888888888888888,
             "#fdca26"
            ],
            [
             1,
             "#f0f921"
            ]
           ],
           "sequentialminus": [
            [
             0,
             "#0d0887"
            ],
            [
             0.1111111111111111,
             "#46039f"
            ],
            [
             0.2222222222222222,
             "#7201a8"
            ],
            [
             0.3333333333333333,
             "#9c179e"
            ],
            [
             0.4444444444444444,
             "#bd3786"
            ],
            [
             0.5555555555555556,
             "#d8576b"
            ],
            [
             0.6666666666666666,
             "#ed7953"
            ],
            [
             0.7777777777777778,
             "#fb9f3a"
            ],
            [
             0.8888888888888888,
             "#fdca26"
            ],
            [
             1,
             "#f0f921"
            ]
           ]
          },
          "colorway": [
           "#636efa",
           "#EF553B",
           "#00cc96",
           "#ab63fa",
           "#FFA15A",
           "#19d3f3",
           "#FF6692",
           "#B6E880",
           "#FF97FF",
           "#FECB52"
          ],
          "font": {
           "color": "#2a3f5f"
          },
          "geo": {
           "bgcolor": "white",
           "lakecolor": "white",
           "landcolor": "#E5ECF6",
           "showlakes": true,
           "showland": true,
           "subunitcolor": "white"
          },
          "hoverlabel": {
           "align": "left"
          },
          "hovermode": "closest",
          "mapbox": {
           "style": "light"
          },
          "paper_bgcolor": "white",
          "plot_bgcolor": "#E5ECF6",
          "polar": {
           "angularaxis": {
            "gridcolor": "white",
            "linecolor": "white",
            "ticks": ""
           },
           "bgcolor": "#E5ECF6",
           "radialaxis": {
            "gridcolor": "white",
            "linecolor": "white",
            "ticks": ""
           }
          },
          "scene": {
           "xaxis": {
            "backgroundcolor": "#E5ECF6",
            "gridcolor": "white",
            "gridwidth": 2,
            "linecolor": "white",
            "showbackground": true,
            "ticks": "",
            "zerolinecolor": "white"
           },
           "yaxis": {
            "backgroundcolor": "#E5ECF6",
            "gridcolor": "white",
            "gridwidth": 2,
            "linecolor": "white",
            "showbackground": true,
            "ticks": "",
            "zerolinecolor": "white"
           },
           "zaxis": {
            "backgroundcolor": "#E5ECF6",
            "gridcolor": "white",
            "gridwidth": 2,
            "linecolor": "white",
            "showbackground": true,
            "ticks": "",
            "zerolinecolor": "white"
           }
          },
          "shapedefaults": {
           "line": {
            "color": "#2a3f5f"
           }
          },
          "ternary": {
           "aaxis": {
            "gridcolor": "white",
            "linecolor": "white",
            "ticks": ""
           },
           "baxis": {
            "gridcolor": "white",
            "linecolor": "white",
            "ticks": ""
           },
           "bgcolor": "#E5ECF6",
           "caxis": {
            "gridcolor": "white",
            "linecolor": "white",
            "ticks": ""
           }
          },
          "title": {
           "x": 0.05
          },
          "xaxis": {
           "automargin": true,
           "gridcolor": "white",
           "linecolor": "white",
           "ticks": "",
           "title": {
            "standoff": 15
           },
           "zerolinecolor": "white",
           "zerolinewidth": 2
          },
          "yaxis": {
           "automargin": true,
           "gridcolor": "white",
           "linecolor": "white",
           "ticks": "",
           "title": {
            "standoff": 15
           },
           "zerolinecolor": "white",
           "zerolinewidth": 2
          }
         }
        },
        "title": {
         "text": "Top 10 Feature Combinations"
        },
        "width": 1100,
        "xaxis": {
         "anchor": "y",
         "autorange": true,
         "domain": [
          0,
          1
         ],
         "range": [
          -0.5,
          9.5
         ],
         "showticklabels": false,
         "title": {
          "text": "feature combinations"
         },
         "type": "category"
        },
        "yaxis": {
         "anchor": "x",
         "autorange": true,
         "domain": [
          0,
          1
         ],
         "range": [
          0.3395633522991883,
          0.38006558708554306
         ],
         "title": {
          "text": "rmse scores"
         },
         "type": "linear"
        }
       }
      }
     },
     "metadata": {},
     "output_type": "display_data"
    }
   ],
   "source": [
    "pio.renderers.default = 'plotly_mimetype'\n",
    "x = df_agg_metrics.sort_values(by='mean_rmse')['features'].head(10)\n",
    "\n",
    "fig = px.box(df_metrics[df_metrics['features'].isin(x)], x='features',\n",
    "             y='rmse_scores', title='RMSE Boxplot of Top 10 Feature Combinations')\n",
    "fig.update_layout(height=800, width=1100,\n",
    "                  title_text=\"Top 10 Feature Combinations\",\n",
    "                  xaxis_title=\"feature combinations\", yaxis_title=\"rmse scores\")\n",
    "fig.update_xaxes(showticklabels=False)\n",
    "fig.show()"
   ]
  },
  {
   "cell_type": "markdown",
   "id": "b67c298c-a122-4eb9-9e37-8a300a313c2e",
   "metadata": {},
   "source": [
    "#### Best Linear Models"
   ]
  },
  {
   "cell_type": "code",
   "execution_count": 116,
   "id": "a192d3a7-5fd4-4dce-b4f5-a33b2b78894e",
   "metadata": {},
   "outputs": [
    {
     "data": {
      "application/vnd.plotly.v1+json": {
       "config": {
        "plotlyServerURL": "https://plot.ly"
       },
       "data": [
        {
         "alignmentgroup": "True",
         "hovertemplate": "features=%{x}<br>rmse_scores=%{y}<extra></extra>",
         "legendgroup": "",
         "marker": {
          "color": "#636efa"
         },
         "name": "",
         "notched": false,
         "offsetgroup": "",
         "orientation": "v",
         "showlegend": false,
         "type": "box",
         "x": [
          "f_1_num_of_terms,f_3_has_numbers,f_5_num_results,f_6_max_title_score,f_7_sum_title_scores",
          "f_1_num_of_terms,f_3_has_numbers,f_5_num_results,f_6_max_title_score,f_7_sum_title_scores",
          "f_1_num_of_terms,f_3_has_numbers,f_5_num_results,f_6_max_title_score,f_7_sum_title_scores",
          "f_1_num_of_terms,f_3_has_numbers,f_5_num_results,f_6_max_title_score,f_7_sum_title_scores",
          "f_1_num_of_terms,f_3_has_numbers,f_5_num_results,f_6_max_title_score,f_7_sum_title_scores",
          "f_1_num_of_terms,f_3_has_numbers,f_4_has_special_char,f_5_num_results,f_6_max_title_score,f_7_sum_title_scores",
          "f_1_num_of_terms,f_3_has_numbers,f_4_has_special_char,f_5_num_results,f_6_max_title_score,f_7_sum_title_scores",
          "f_1_num_of_terms,f_3_has_numbers,f_4_has_special_char,f_5_num_results,f_6_max_title_score,f_7_sum_title_scores",
          "f_1_num_of_terms,f_3_has_numbers,f_4_has_special_char,f_5_num_results,f_6_max_title_score,f_7_sum_title_scores",
          "f_1_num_of_terms,f_3_has_numbers,f_4_has_special_char,f_5_num_results,f_6_max_title_score,f_7_sum_title_scores",
          "f_1_num_of_terms,f_3_has_numbers,f_5_num_results,f_6_max_title_score,f_7_sum_title_scores,f_8_max_semantic_score",
          "f_1_num_of_terms,f_3_has_numbers,f_5_num_results,f_6_max_title_score,f_7_sum_title_scores,f_8_max_semantic_score",
          "f_1_num_of_terms,f_3_has_numbers,f_5_num_results,f_6_max_title_score,f_7_sum_title_scores,f_8_max_semantic_score",
          "f_1_num_of_terms,f_3_has_numbers,f_5_num_results,f_6_max_title_score,f_7_sum_title_scores,f_8_max_semantic_score",
          "f_1_num_of_terms,f_3_has_numbers,f_5_num_results,f_6_max_title_score,f_7_sum_title_scores,f_8_max_semantic_score",
          "f_1_num_of_terms,f_3_has_numbers,f_5_num_results,f_6_max_title_score,f_7_sum_title_scores,f_9_avg_semantic_score",
          "f_1_num_of_terms,f_3_has_numbers,f_5_num_results,f_6_max_title_score,f_7_sum_title_scores,f_9_avg_semantic_score",
          "f_1_num_of_terms,f_3_has_numbers,f_5_num_results,f_6_max_title_score,f_7_sum_title_scores,f_9_avg_semantic_score",
          "f_1_num_of_terms,f_3_has_numbers,f_5_num_results,f_6_max_title_score,f_7_sum_title_scores,f_9_avg_semantic_score",
          "f_1_num_of_terms,f_3_has_numbers,f_5_num_results,f_6_max_title_score,f_7_sum_title_scores,f_9_avg_semantic_score",
          "f_1_num_of_terms,f_3_has_numbers,f_5_num_results,f_6_max_title_score,f_7_sum_title_scores,f_8_max_semantic_score,f_9_avg_semantic_score",
          "f_1_num_of_terms,f_3_has_numbers,f_5_num_results,f_6_max_title_score,f_7_sum_title_scores,f_8_max_semantic_score,f_9_avg_semantic_score",
          "f_1_num_of_terms,f_3_has_numbers,f_5_num_results,f_6_max_title_score,f_7_sum_title_scores,f_8_max_semantic_score,f_9_avg_semantic_score",
          "f_1_num_of_terms,f_3_has_numbers,f_5_num_results,f_6_max_title_score,f_7_sum_title_scores,f_8_max_semantic_score,f_9_avg_semantic_score",
          "f_1_num_of_terms,f_3_has_numbers,f_5_num_results,f_6_max_title_score,f_7_sum_title_scores,f_8_max_semantic_score,f_9_avg_semantic_score",
          "f_1_num_of_terms,f_2_query_length,f_3_has_numbers,f_5_num_results,f_6_max_title_score,f_7_sum_title_scores,f_8_max_semantic_score,f_9_avg_semantic_score",
          "f_1_num_of_terms,f_2_query_length,f_3_has_numbers,f_5_num_results,f_6_max_title_score,f_7_sum_title_scores,f_8_max_semantic_score,f_9_avg_semantic_score",
          "f_1_num_of_terms,f_2_query_length,f_3_has_numbers,f_5_num_results,f_6_max_title_score,f_7_sum_title_scores,f_8_max_semantic_score,f_9_avg_semantic_score",
          "f_1_num_of_terms,f_2_query_length,f_3_has_numbers,f_5_num_results,f_6_max_title_score,f_7_sum_title_scores,f_8_max_semantic_score,f_9_avg_semantic_score",
          "f_1_num_of_terms,f_2_query_length,f_3_has_numbers,f_5_num_results,f_6_max_title_score,f_7_sum_title_scores,f_8_max_semantic_score,f_9_avg_semantic_score",
          "f_1_num_of_terms,f_3_has_numbers,f_4_has_special_char,f_5_num_results,f_6_max_title_score,f_7_sum_title_scores,f_8_max_semantic_score,f_9_avg_semantic_score",
          "f_1_num_of_terms,f_3_has_numbers,f_4_has_special_char,f_5_num_results,f_6_max_title_score,f_7_sum_title_scores,f_8_max_semantic_score,f_9_avg_semantic_score",
          "f_1_num_of_terms,f_3_has_numbers,f_4_has_special_char,f_5_num_results,f_6_max_title_score,f_7_sum_title_scores,f_8_max_semantic_score,f_9_avg_semantic_score",
          "f_1_num_of_terms,f_3_has_numbers,f_4_has_special_char,f_5_num_results,f_6_max_title_score,f_7_sum_title_scores,f_8_max_semantic_score,f_9_avg_semantic_score",
          "f_1_num_of_terms,f_3_has_numbers,f_4_has_special_char,f_5_num_results,f_6_max_title_score,f_7_sum_title_scores,f_8_max_semantic_score,f_9_avg_semantic_score",
          "f_1_num_of_terms,f_3_has_numbers,f_5_num_results,f_6_max_title_score,f_7_sum_title_scores",
          "f_1_num_of_terms,f_3_has_numbers,f_5_num_results,f_6_max_title_score,f_7_sum_title_scores",
          "f_1_num_of_terms,f_3_has_numbers,f_5_num_results,f_6_max_title_score,f_7_sum_title_scores",
          "f_1_num_of_terms,f_3_has_numbers,f_5_num_results,f_6_max_title_score,f_7_sum_title_scores",
          "f_1_num_of_terms,f_3_has_numbers,f_5_num_results,f_6_max_title_score,f_7_sum_title_scores",
          "f_1_num_of_terms,f_3_has_numbers,f_4_has_special_char,f_5_num_results,f_6_max_title_score,f_7_sum_title_scores",
          "f_1_num_of_terms,f_3_has_numbers,f_4_has_special_char,f_5_num_results,f_6_max_title_score,f_7_sum_title_scores",
          "f_1_num_of_terms,f_3_has_numbers,f_4_has_special_char,f_5_num_results,f_6_max_title_score,f_7_sum_title_scores",
          "f_1_num_of_terms,f_3_has_numbers,f_4_has_special_char,f_5_num_results,f_6_max_title_score,f_7_sum_title_scores",
          "f_1_num_of_terms,f_3_has_numbers,f_4_has_special_char,f_5_num_results,f_6_max_title_score,f_7_sum_title_scores",
          "f_1_num_of_terms,f_3_has_numbers,f_5_num_results,f_6_max_title_score,f_7_sum_title_scores,f_8_max_semantic_score",
          "f_1_num_of_terms,f_3_has_numbers,f_5_num_results,f_6_max_title_score,f_7_sum_title_scores,f_8_max_semantic_score",
          "f_1_num_of_terms,f_3_has_numbers,f_5_num_results,f_6_max_title_score,f_7_sum_title_scores,f_8_max_semantic_score",
          "f_1_num_of_terms,f_3_has_numbers,f_5_num_results,f_6_max_title_score,f_7_sum_title_scores,f_8_max_semantic_score",
          "f_1_num_of_terms,f_3_has_numbers,f_5_num_results,f_6_max_title_score,f_7_sum_title_scores,f_8_max_semantic_score",
          "f_1_num_of_terms,f_3_has_numbers,f_5_num_results,f_6_max_title_score,f_7_sum_title_scores,f_9_avg_semantic_score",
          "f_1_num_of_terms,f_3_has_numbers,f_5_num_results,f_6_max_title_score,f_7_sum_title_scores,f_9_avg_semantic_score",
          "f_1_num_of_terms,f_3_has_numbers,f_5_num_results,f_6_max_title_score,f_7_sum_title_scores,f_9_avg_semantic_score",
          "f_1_num_of_terms,f_3_has_numbers,f_5_num_results,f_6_max_title_score,f_7_sum_title_scores,f_9_avg_semantic_score",
          "f_1_num_of_terms,f_3_has_numbers,f_5_num_results,f_6_max_title_score,f_7_sum_title_scores,f_9_avg_semantic_score",
          "f_1_num_of_terms,f_3_has_numbers,f_5_num_results,f_6_max_title_score,f_7_sum_title_scores,f_8_max_semantic_score,f_9_avg_semantic_score",
          "f_1_num_of_terms,f_3_has_numbers,f_5_num_results,f_6_max_title_score,f_7_sum_title_scores,f_8_max_semantic_score,f_9_avg_semantic_score",
          "f_1_num_of_terms,f_3_has_numbers,f_5_num_results,f_6_max_title_score,f_7_sum_title_scores,f_8_max_semantic_score,f_9_avg_semantic_score",
          "f_1_num_of_terms,f_3_has_numbers,f_5_num_results,f_6_max_title_score,f_7_sum_title_scores,f_8_max_semantic_score,f_9_avg_semantic_score",
          "f_1_num_of_terms,f_3_has_numbers,f_5_num_results,f_6_max_title_score,f_7_sum_title_scores,f_8_max_semantic_score,f_9_avg_semantic_score",
          "f_1_num_of_terms,f_2_query_length,f_3_has_numbers,f_5_num_results,f_6_max_title_score,f_7_sum_title_scores,f_8_max_semantic_score,f_9_avg_semantic_score",
          "f_1_num_of_terms,f_2_query_length,f_3_has_numbers,f_5_num_results,f_6_max_title_score,f_7_sum_title_scores,f_8_max_semantic_score,f_9_avg_semantic_score",
          "f_1_num_of_terms,f_2_query_length,f_3_has_numbers,f_5_num_results,f_6_max_title_score,f_7_sum_title_scores,f_8_max_semantic_score,f_9_avg_semantic_score",
          "f_1_num_of_terms,f_2_query_length,f_3_has_numbers,f_5_num_results,f_6_max_title_score,f_7_sum_title_scores,f_8_max_semantic_score,f_9_avg_semantic_score",
          "f_1_num_of_terms,f_2_query_length,f_3_has_numbers,f_5_num_results,f_6_max_title_score,f_7_sum_title_scores,f_8_max_semantic_score,f_9_avg_semantic_score",
          "f_1_num_of_terms,f_3_has_numbers,f_4_has_special_char,f_5_num_results,f_6_max_title_score,f_7_sum_title_scores,f_8_max_semantic_score,f_9_avg_semantic_score",
          "f_1_num_of_terms,f_3_has_numbers,f_4_has_special_char,f_5_num_results,f_6_max_title_score,f_7_sum_title_scores,f_8_max_semantic_score,f_9_avg_semantic_score",
          "f_1_num_of_terms,f_3_has_numbers,f_4_has_special_char,f_5_num_results,f_6_max_title_score,f_7_sum_title_scores,f_8_max_semantic_score,f_9_avg_semantic_score",
          "f_1_num_of_terms,f_3_has_numbers,f_4_has_special_char,f_5_num_results,f_6_max_title_score,f_7_sum_title_scores,f_8_max_semantic_score,f_9_avg_semantic_score",
          "f_1_num_of_terms,f_3_has_numbers,f_4_has_special_char,f_5_num_results,f_6_max_title_score,f_7_sum_title_scores,f_8_max_semantic_score,f_9_avg_semantic_score"
         ],
         "x0": " ",
         "xaxis": "x",
         "y": [
          0.3608444225789693,
          0.3571782927392644,
          0.3555481433373397,
          0.35942692575668567,
          0.35376391685584613,
          0.36096248771428247,
          0.357296072114609,
          0.3555078210571836,
          0.3595640426777874,
          0.35373110916509787,
          0.36088375142679907,
          0.3572753553102985,
          0.3555582950178704,
          0.35962014129007436,
          0.3537697853485882,
          0.36071290655964905,
          0.35760140341361907,
          0.35560401484543036,
          0.359694949610413,
          0.35363698945211686,
          0.36054075344858233,
          0.3575995476839125,
          0.3555657060631093,
          0.3595066459440644,
          0.3534366901997857,
          0.36046507697314234,
          0.3573069180613931,
          0.3555464511285852,
          0.3599309542204781,
          0.3536309929895221,
          0.36065508383054684,
          0.35770323072862265,
          0.35552214660960546,
          0.3596407544853737,
          0.3534000320351028,
          0.36087967240061886,
          0.35717253410187794,
          0.35556122555059566,
          0.35942876826985587,
          0.35372823417131044,
          0.3609885886189457,
          0.3572822805090967,
          0.35552325106134947,
          0.359556473819639,
          0.3536968012846021,
          0.3609090486284853,
          0.357242066128498,
          0.3555684947824023,
          0.3595708801748135,
          0.35373262810150446,
          0.3608041604475704,
          0.357374209286306,
          0.35557233013252854,
          0.3595543370504839,
          0.35364780286749964,
          0.36079358534110206,
          0.35733909925629154,
          0.3555463922283543,
          0.3595541712693376,
          0.35361965351668423,
          0.36075572739440126,
          0.3571049096109547,
          0.3555146542182186,
          0.35995424160415895,
          0.3538343633429807,
          0.36090042590033694,
          0.3574445374298309,
          0.3555070843005059,
          0.3596812111278262,
          0.3535867707794023
         ],
         "y0": " ",
         "yaxis": "y"
        }
       ],
       "layout": {
        "boxmode": "group",
        "height": 800,
        "legend": {
         "tracegroupgap": 0
        },
        "template": {
         "data": {
          "bar": [
           {
            "error_x": {
             "color": "#2a3f5f"
            },
            "error_y": {
             "color": "#2a3f5f"
            },
            "marker": {
             "line": {
              "color": "#E5ECF6",
              "width": 0.5
             },
             "pattern": {
              "fillmode": "overlay",
              "size": 10,
              "solidity": 0.2
             }
            },
            "type": "bar"
           }
          ],
          "barpolar": [
           {
            "marker": {
             "line": {
              "color": "#E5ECF6",
              "width": 0.5
             },
             "pattern": {
              "fillmode": "overlay",
              "size": 10,
              "solidity": 0.2
             }
            },
            "type": "barpolar"
           }
          ],
          "carpet": [
           {
            "aaxis": {
             "endlinecolor": "#2a3f5f",
             "gridcolor": "white",
             "linecolor": "white",
             "minorgridcolor": "white",
             "startlinecolor": "#2a3f5f"
            },
            "baxis": {
             "endlinecolor": "#2a3f5f",
             "gridcolor": "white",
             "linecolor": "white",
             "minorgridcolor": "white",
             "startlinecolor": "#2a3f5f"
            },
            "type": "carpet"
           }
          ],
          "choropleth": [
           {
            "colorbar": {
             "outlinewidth": 0,
             "ticks": ""
            },
            "type": "choropleth"
           }
          ],
          "contour": [
           {
            "colorbar": {
             "outlinewidth": 0,
             "ticks": ""
            },
            "colorscale": [
             [
              0,
              "#0d0887"
             ],
             [
              0.1111111111111111,
              "#46039f"
             ],
             [
              0.2222222222222222,
              "#7201a8"
             ],
             [
              0.3333333333333333,
              "#9c179e"
             ],
             [
              0.4444444444444444,
              "#bd3786"
             ],
             [
              0.5555555555555556,
              "#d8576b"
             ],
             [
              0.6666666666666666,
              "#ed7953"
             ],
             [
              0.7777777777777778,
              "#fb9f3a"
             ],
             [
              0.8888888888888888,
              "#fdca26"
             ],
             [
              1,
              "#f0f921"
             ]
            ],
            "type": "contour"
           }
          ],
          "contourcarpet": [
           {
            "colorbar": {
             "outlinewidth": 0,
             "ticks": ""
            },
            "type": "contourcarpet"
           }
          ],
          "heatmap": [
           {
            "colorbar": {
             "outlinewidth": 0,
             "ticks": ""
            },
            "colorscale": [
             [
              0,
              "#0d0887"
             ],
             [
              0.1111111111111111,
              "#46039f"
             ],
             [
              0.2222222222222222,
              "#7201a8"
             ],
             [
              0.3333333333333333,
              "#9c179e"
             ],
             [
              0.4444444444444444,
              "#bd3786"
             ],
             [
              0.5555555555555556,
              "#d8576b"
             ],
             [
              0.6666666666666666,
              "#ed7953"
             ],
             [
              0.7777777777777778,
              "#fb9f3a"
             ],
             [
              0.8888888888888888,
              "#fdca26"
             ],
             [
              1,
              "#f0f921"
             ]
            ],
            "type": "heatmap"
           }
          ],
          "heatmapgl": [
           {
            "colorbar": {
             "outlinewidth": 0,
             "ticks": ""
            },
            "colorscale": [
             [
              0,
              "#0d0887"
             ],
             [
              0.1111111111111111,
              "#46039f"
             ],
             [
              0.2222222222222222,
              "#7201a8"
             ],
             [
              0.3333333333333333,
              "#9c179e"
             ],
             [
              0.4444444444444444,
              "#bd3786"
             ],
             [
              0.5555555555555556,
              "#d8576b"
             ],
             [
              0.6666666666666666,
              "#ed7953"
             ],
             [
              0.7777777777777778,
              "#fb9f3a"
             ],
             [
              0.8888888888888888,
              "#fdca26"
             ],
             [
              1,
              "#f0f921"
             ]
            ],
            "type": "heatmapgl"
           }
          ],
          "histogram": [
           {
            "marker": {
             "pattern": {
              "fillmode": "overlay",
              "size": 10,
              "solidity": 0.2
             }
            },
            "type": "histogram"
           }
          ],
          "histogram2d": [
           {
            "colorbar": {
             "outlinewidth": 0,
             "ticks": ""
            },
            "colorscale": [
             [
              0,
              "#0d0887"
             ],
             [
              0.1111111111111111,
              "#46039f"
             ],
             [
              0.2222222222222222,
              "#7201a8"
             ],
             [
              0.3333333333333333,
              "#9c179e"
             ],
             [
              0.4444444444444444,
              "#bd3786"
             ],
             [
              0.5555555555555556,
              "#d8576b"
             ],
             [
              0.6666666666666666,
              "#ed7953"
             ],
             [
              0.7777777777777778,
              "#fb9f3a"
             ],
             [
              0.8888888888888888,
              "#fdca26"
             ],
             [
              1,
              "#f0f921"
             ]
            ],
            "type": "histogram2d"
           }
          ],
          "histogram2dcontour": [
           {
            "colorbar": {
             "outlinewidth": 0,
             "ticks": ""
            },
            "colorscale": [
             [
              0,
              "#0d0887"
             ],
             [
              0.1111111111111111,
              "#46039f"
             ],
             [
              0.2222222222222222,
              "#7201a8"
             ],
             [
              0.3333333333333333,
              "#9c179e"
             ],
             [
              0.4444444444444444,
              "#bd3786"
             ],
             [
              0.5555555555555556,
              "#d8576b"
             ],
             [
              0.6666666666666666,
              "#ed7953"
             ],
             [
              0.7777777777777778,
              "#fb9f3a"
             ],
             [
              0.8888888888888888,
              "#fdca26"
             ],
             [
              1,
              "#f0f921"
             ]
            ],
            "type": "histogram2dcontour"
           }
          ],
          "mesh3d": [
           {
            "colorbar": {
             "outlinewidth": 0,
             "ticks": ""
            },
            "type": "mesh3d"
           }
          ],
          "parcoords": [
           {
            "line": {
             "colorbar": {
              "outlinewidth": 0,
              "ticks": ""
             }
            },
            "type": "parcoords"
           }
          ],
          "pie": [
           {
            "automargin": true,
            "type": "pie"
           }
          ],
          "scatter": [
           {
            "fillpattern": {
             "fillmode": "overlay",
             "size": 10,
             "solidity": 0.2
            },
            "type": "scatter"
           }
          ],
          "scatter3d": [
           {
            "line": {
             "colorbar": {
              "outlinewidth": 0,
              "ticks": ""
             }
            },
            "marker": {
             "colorbar": {
              "outlinewidth": 0,
              "ticks": ""
             }
            },
            "type": "scatter3d"
           }
          ],
          "scattercarpet": [
           {
            "marker": {
             "colorbar": {
              "outlinewidth": 0,
              "ticks": ""
             }
            },
            "type": "scattercarpet"
           }
          ],
          "scattergeo": [
           {
            "marker": {
             "colorbar": {
              "outlinewidth": 0,
              "ticks": ""
             }
            },
            "type": "scattergeo"
           }
          ],
          "scattergl": [
           {
            "marker": {
             "colorbar": {
              "outlinewidth": 0,
              "ticks": ""
             }
            },
            "type": "scattergl"
           }
          ],
          "scattermapbox": [
           {
            "marker": {
             "colorbar": {
              "outlinewidth": 0,
              "ticks": ""
             }
            },
            "type": "scattermapbox"
           }
          ],
          "scatterpolar": [
           {
            "marker": {
             "colorbar": {
              "outlinewidth": 0,
              "ticks": ""
             }
            },
            "type": "scatterpolar"
           }
          ],
          "scatterpolargl": [
           {
            "marker": {
             "colorbar": {
              "outlinewidth": 0,
              "ticks": ""
             }
            },
            "type": "scatterpolargl"
           }
          ],
          "scatterternary": [
           {
            "marker": {
             "colorbar": {
              "outlinewidth": 0,
              "ticks": ""
             }
            },
            "type": "scatterternary"
           }
          ],
          "surface": [
           {
            "colorbar": {
             "outlinewidth": 0,
             "ticks": ""
            },
            "colorscale": [
             [
              0,
              "#0d0887"
             ],
             [
              0.1111111111111111,
              "#46039f"
             ],
             [
              0.2222222222222222,
              "#7201a8"
             ],
             [
              0.3333333333333333,
              "#9c179e"
             ],
             [
              0.4444444444444444,
              "#bd3786"
             ],
             [
              0.5555555555555556,
              "#d8576b"
             ],
             [
              0.6666666666666666,
              "#ed7953"
             ],
             [
              0.7777777777777778,
              "#fb9f3a"
             ],
             [
              0.8888888888888888,
              "#fdca26"
             ],
             [
              1,
              "#f0f921"
             ]
            ],
            "type": "surface"
           }
          ],
          "table": [
           {
            "cells": {
             "fill": {
              "color": "#EBF0F8"
             },
             "line": {
              "color": "white"
             }
            },
            "header": {
             "fill": {
              "color": "#C8D4E3"
             },
             "line": {
              "color": "white"
             }
            },
            "type": "table"
           }
          ]
         },
         "layout": {
          "annotationdefaults": {
           "arrowcolor": "#2a3f5f",
           "arrowhead": 0,
           "arrowwidth": 1
          },
          "autotypenumbers": "strict",
          "coloraxis": {
           "colorbar": {
            "outlinewidth": 0,
            "ticks": ""
           }
          },
          "colorscale": {
           "diverging": [
            [
             0,
             "#8e0152"
            ],
            [
             0.1,
             "#c51b7d"
            ],
            [
             0.2,
             "#de77ae"
            ],
            [
             0.3,
             "#f1b6da"
            ],
            [
             0.4,
             "#fde0ef"
            ],
            [
             0.5,
             "#f7f7f7"
            ],
            [
             0.6,
             "#e6f5d0"
            ],
            [
             0.7,
             "#b8e186"
            ],
            [
             0.8,
             "#7fbc41"
            ],
            [
             0.9,
             "#4d9221"
            ],
            [
             1,
             "#276419"
            ]
           ],
           "sequential": [
            [
             0,
             "#0d0887"
            ],
            [
             0.1111111111111111,
             "#46039f"
            ],
            [
             0.2222222222222222,
             "#7201a8"
            ],
            [
             0.3333333333333333,
             "#9c179e"
            ],
            [
             0.4444444444444444,
             "#bd3786"
            ],
            [
             0.5555555555555556,
             "#d8576b"
            ],
            [
             0.6666666666666666,
             "#ed7953"
            ],
            [
             0.7777777777777778,
             "#fb9f3a"
            ],
            [
             0.8888888888888888,
             "#fdca26"
            ],
            [
             1,
             "#f0f921"
            ]
           ],
           "sequentialminus": [
            [
             0,
             "#0d0887"
            ],
            [
             0.1111111111111111,
             "#46039f"
            ],
            [
             0.2222222222222222,
             "#7201a8"
            ],
            [
             0.3333333333333333,
             "#9c179e"
            ],
            [
             0.4444444444444444,
             "#bd3786"
            ],
            [
             0.5555555555555556,
             "#d8576b"
            ],
            [
             0.6666666666666666,
             "#ed7953"
            ],
            [
             0.7777777777777778,
             "#fb9f3a"
            ],
            [
             0.8888888888888888,
             "#fdca26"
            ],
            [
             1,
             "#f0f921"
            ]
           ]
          },
          "colorway": [
           "#636efa",
           "#EF553B",
           "#00cc96",
           "#ab63fa",
           "#FFA15A",
           "#19d3f3",
           "#FF6692",
           "#B6E880",
           "#FF97FF",
           "#FECB52"
          ],
          "font": {
           "color": "#2a3f5f"
          },
          "geo": {
           "bgcolor": "white",
           "lakecolor": "white",
           "landcolor": "#E5ECF6",
           "showlakes": true,
           "showland": true,
           "subunitcolor": "white"
          },
          "hoverlabel": {
           "align": "left"
          },
          "hovermode": "closest",
          "mapbox": {
           "style": "light"
          },
          "paper_bgcolor": "white",
          "plot_bgcolor": "#E5ECF6",
          "polar": {
           "angularaxis": {
            "gridcolor": "white",
            "linecolor": "white",
            "ticks": ""
           },
           "bgcolor": "#E5ECF6",
           "radialaxis": {
            "gridcolor": "white",
            "linecolor": "white",
            "ticks": ""
           }
          },
          "scene": {
           "xaxis": {
            "backgroundcolor": "#E5ECF6",
            "gridcolor": "white",
            "gridwidth": 2,
            "linecolor": "white",
            "showbackground": true,
            "ticks": "",
            "zerolinecolor": "white"
           },
           "yaxis": {
            "backgroundcolor": "#E5ECF6",
            "gridcolor": "white",
            "gridwidth": 2,
            "linecolor": "white",
            "showbackground": true,
            "ticks": "",
            "zerolinecolor": "white"
           },
           "zaxis": {
            "backgroundcolor": "#E5ECF6",
            "gridcolor": "white",
            "gridwidth": 2,
            "linecolor": "white",
            "showbackground": true,
            "ticks": "",
            "zerolinecolor": "white"
           }
          },
          "shapedefaults": {
           "line": {
            "color": "#2a3f5f"
           }
          },
          "ternary": {
           "aaxis": {
            "gridcolor": "white",
            "linecolor": "white",
            "ticks": ""
           },
           "baxis": {
            "gridcolor": "white",
            "linecolor": "white",
            "ticks": ""
           },
           "bgcolor": "#E5ECF6",
           "caxis": {
            "gridcolor": "white",
            "linecolor": "white",
            "ticks": ""
           }
          },
          "title": {
           "x": 0.05
          },
          "xaxis": {
           "automargin": true,
           "gridcolor": "white",
           "linecolor": "white",
           "ticks": "",
           "title": {
            "standoff": 15
           },
           "zerolinecolor": "white",
           "zerolinewidth": 2
          },
          "yaxis": {
           "automargin": true,
           "gridcolor": "white",
           "linecolor": "white",
           "ticks": "",
           "title": {
            "standoff": 15
           },
           "zerolinecolor": "white",
           "zerolinewidth": 2
          }
         }
        },
        "title": {
         "text": "Top 10 Linear Regression Feature Combinations"
        },
        "width": 1100,
        "xaxis": {
         "anchor": "y",
         "autorange": true,
         "domain": [
          0,
          1
         ],
         "range": [
          -0.5,
          6.5
         ],
         "showticklabels": false,
         "title": {
          "text": "feature combinations"
         },
         "type": "category"
        },
        "yaxis": {
         "anchor": "x",
         "autorange": true,
         "domain": [
          0,
          1
         ],
         "range": [
          0.3529784455582226,
          0.3614101750958259
         ],
         "title": {
          "text": "rmse scores"
         },
         "type": "linear"
        }
       }
      }
     },
     "metadata": {},
     "output_type": "display_data"
    }
   ],
   "source": [
    "x = df_agg_metrics[df_agg_metrics['model'] == 'lr'].sort_values(by='mean_rmse')['features'].head(10)\n",
    "\n",
    "fig = px.box(df_metrics[(df_metrics['features'].isin(x)) & (df_metrics['model'] == 'lr')], x='features',\n",
    "             y='rmse_scores', title='RMSE Boxplot of Top 10 Feature Combinations')\n",
    "fig.update_layout(height=800, width=1100,\n",
    "                  title_text=\"Top 10 Linear Regression Feature Combinations\",\n",
    "                  xaxis_title=\"feature combinations\", yaxis_title=\"rmse scores\")\n",
    "fig.update_xaxes(showticklabels=False)\n",
    "fig.show()"
   ]
  },
  {
   "cell_type": "markdown",
   "id": "08183c20-44d9-4c49-9d90-5b6209071479",
   "metadata": {},
   "source": [
    "#### Best Random Forest Models"
   ]
  },
  {
   "cell_type": "code",
   "execution_count": 117,
   "id": "41cfa7e0-fd75-4b81-b555-b2b8f49965cf",
   "metadata": {},
   "outputs": [
    {
     "data": {
      "application/vnd.plotly.v1+json": {
       "config": {
        "plotlyServerURL": "https://plot.ly"
       },
       "data": [
        {
         "alignmentgroup": "True",
         "hovertemplate": "features=%{x}<br>rmse_scores=%{y}<extra></extra>",
         "legendgroup": "",
         "marker": {
          "color": "#636efa"
         },
         "name": "",
         "notched": false,
         "offsetgroup": "",
         "orientation": "v",
         "showlegend": false,
         "type": "box",
         "x": [
          "f_1_num_of_terms,f_5_num_results,f_6_max_title_score,f_9_avg_semantic_score",
          "f_1_num_of_terms,f_5_num_results,f_6_max_title_score,f_9_avg_semantic_score",
          "f_1_num_of_terms,f_5_num_results,f_6_max_title_score,f_9_avg_semantic_score",
          "f_1_num_of_terms,f_5_num_results,f_6_max_title_score,f_9_avg_semantic_score",
          "f_1_num_of_terms,f_5_num_results,f_6_max_title_score,f_9_avg_semantic_score",
          "f_1_num_of_terms,f_5_num_results,f_7_sum_title_scores,f_9_avg_semantic_score",
          "f_1_num_of_terms,f_5_num_results,f_7_sum_title_scores,f_9_avg_semantic_score",
          "f_1_num_of_terms,f_5_num_results,f_7_sum_title_scores,f_9_avg_semantic_score",
          "f_1_num_of_terms,f_5_num_results,f_7_sum_title_scores,f_9_avg_semantic_score",
          "f_1_num_of_terms,f_5_num_results,f_7_sum_title_scores,f_9_avg_semantic_score",
          "f_5_num_results,f_6_max_title_score,f_7_sum_title_scores,f_9_avg_semantic_score",
          "f_5_num_results,f_6_max_title_score,f_7_sum_title_scores,f_9_avg_semantic_score",
          "f_5_num_results,f_6_max_title_score,f_7_sum_title_scores,f_9_avg_semantic_score",
          "f_5_num_results,f_6_max_title_score,f_7_sum_title_scores,f_9_avg_semantic_score",
          "f_5_num_results,f_6_max_title_score,f_7_sum_title_scores,f_9_avg_semantic_score",
          "f_5_num_results,f_6_max_title_score,f_8_max_semantic_score,f_9_avg_semantic_score",
          "f_5_num_results,f_6_max_title_score,f_8_max_semantic_score,f_9_avg_semantic_score",
          "f_5_num_results,f_6_max_title_score,f_8_max_semantic_score,f_9_avg_semantic_score",
          "f_5_num_results,f_6_max_title_score,f_8_max_semantic_score,f_9_avg_semantic_score",
          "f_5_num_results,f_6_max_title_score,f_8_max_semantic_score,f_9_avg_semantic_score",
          "f_1_num_of_terms,f_5_num_results,f_6_max_title_score,f_7_sum_title_scores,f_9_avg_semantic_score",
          "f_1_num_of_terms,f_5_num_results,f_6_max_title_score,f_7_sum_title_scores,f_9_avg_semantic_score",
          "f_1_num_of_terms,f_5_num_results,f_6_max_title_score,f_7_sum_title_scores,f_9_avg_semantic_score",
          "f_1_num_of_terms,f_5_num_results,f_6_max_title_score,f_7_sum_title_scores,f_9_avg_semantic_score",
          "f_1_num_of_terms,f_5_num_results,f_6_max_title_score,f_7_sum_title_scores,f_9_avg_semantic_score",
          "f_5_num_results,f_6_max_title_score,f_7_sum_title_scores,f_8_max_semantic_score,f_9_avg_semantic_score",
          "f_5_num_results,f_6_max_title_score,f_7_sum_title_scores,f_8_max_semantic_score,f_9_avg_semantic_score",
          "f_5_num_results,f_6_max_title_score,f_7_sum_title_scores,f_8_max_semantic_score,f_9_avg_semantic_score",
          "f_5_num_results,f_6_max_title_score,f_7_sum_title_scores,f_8_max_semantic_score,f_9_avg_semantic_score",
          "f_5_num_results,f_6_max_title_score,f_7_sum_title_scores,f_8_max_semantic_score,f_9_avg_semantic_score",
          "f_1_num_of_terms,f_4_has_special_char,f_5_num_results,f_6_max_title_score,f_7_sum_title_scores,f_9_avg_semantic_score",
          "f_1_num_of_terms,f_4_has_special_char,f_5_num_results,f_6_max_title_score,f_7_sum_title_scores,f_9_avg_semantic_score",
          "f_1_num_of_terms,f_4_has_special_char,f_5_num_results,f_6_max_title_score,f_7_sum_title_scores,f_9_avg_semantic_score",
          "f_1_num_of_terms,f_4_has_special_char,f_5_num_results,f_6_max_title_score,f_7_sum_title_scores,f_9_avg_semantic_score",
          "f_1_num_of_terms,f_4_has_special_char,f_5_num_results,f_6_max_title_score,f_7_sum_title_scores,f_9_avg_semantic_score",
          "f_1_num_of_terms,f_5_num_results,f_6_max_title_score,f_7_sum_title_scores,f_8_max_semantic_score,f_9_avg_semantic_score",
          "f_1_num_of_terms,f_5_num_results,f_6_max_title_score,f_7_sum_title_scores,f_8_max_semantic_score,f_9_avg_semantic_score",
          "f_1_num_of_terms,f_5_num_results,f_6_max_title_score,f_7_sum_title_scores,f_8_max_semantic_score,f_9_avg_semantic_score",
          "f_1_num_of_terms,f_5_num_results,f_6_max_title_score,f_7_sum_title_scores,f_8_max_semantic_score,f_9_avg_semantic_score",
          "f_1_num_of_terms,f_5_num_results,f_6_max_title_score,f_7_sum_title_scores,f_8_max_semantic_score,f_9_avg_semantic_score",
          "f_1_num_of_terms,f_3_has_numbers,f_4_has_special_char,f_5_num_results,f_6_max_title_score,f_8_max_semantic_score,f_9_avg_semantic_score",
          "f_1_num_of_terms,f_3_has_numbers,f_4_has_special_char,f_5_num_results,f_6_max_title_score,f_8_max_semantic_score,f_9_avg_semantic_score",
          "f_1_num_of_terms,f_3_has_numbers,f_4_has_special_char,f_5_num_results,f_6_max_title_score,f_8_max_semantic_score,f_9_avg_semantic_score",
          "f_1_num_of_terms,f_3_has_numbers,f_4_has_special_char,f_5_num_results,f_6_max_title_score,f_8_max_semantic_score,f_9_avg_semantic_score",
          "f_1_num_of_terms,f_3_has_numbers,f_4_has_special_char,f_5_num_results,f_6_max_title_score,f_8_max_semantic_score,f_9_avg_semantic_score",
          "f_1_num_of_terms,f_3_has_numbers,f_4_has_special_char,f_5_num_results,f_6_max_title_score,f_7_sum_title_scores,f_8_max_semantic_score,f_9_avg_semantic_score",
          "f_1_num_of_terms,f_3_has_numbers,f_4_has_special_char,f_5_num_results,f_6_max_title_score,f_7_sum_title_scores,f_8_max_semantic_score,f_9_avg_semantic_score",
          "f_1_num_of_terms,f_3_has_numbers,f_4_has_special_char,f_5_num_results,f_6_max_title_score,f_7_sum_title_scores,f_8_max_semantic_score,f_9_avg_semantic_score",
          "f_1_num_of_terms,f_3_has_numbers,f_4_has_special_char,f_5_num_results,f_6_max_title_score,f_7_sum_title_scores,f_8_max_semantic_score,f_9_avg_semantic_score",
          "f_1_num_of_terms,f_3_has_numbers,f_4_has_special_char,f_5_num_results,f_6_max_title_score,f_7_sum_title_scores,f_8_max_semantic_score,f_9_avg_semantic_score",
          "f_1_num_of_terms,f_5_num_results,f_6_max_title_score,f_9_avg_semantic_score",
          "f_1_num_of_terms,f_5_num_results,f_6_max_title_score,f_9_avg_semantic_score",
          "f_1_num_of_terms,f_5_num_results,f_6_max_title_score,f_9_avg_semantic_score",
          "f_1_num_of_terms,f_5_num_results,f_6_max_title_score,f_9_avg_semantic_score",
          "f_1_num_of_terms,f_5_num_results,f_6_max_title_score,f_9_avg_semantic_score",
          "f_1_num_of_terms,f_5_num_results,f_7_sum_title_scores,f_9_avg_semantic_score",
          "f_1_num_of_terms,f_5_num_results,f_7_sum_title_scores,f_9_avg_semantic_score",
          "f_1_num_of_terms,f_5_num_results,f_7_sum_title_scores,f_9_avg_semantic_score",
          "f_1_num_of_terms,f_5_num_results,f_7_sum_title_scores,f_9_avg_semantic_score",
          "f_1_num_of_terms,f_5_num_results,f_7_sum_title_scores,f_9_avg_semantic_score",
          "f_5_num_results,f_6_max_title_score,f_7_sum_title_scores,f_9_avg_semantic_score",
          "f_5_num_results,f_6_max_title_score,f_7_sum_title_scores,f_9_avg_semantic_score",
          "f_5_num_results,f_6_max_title_score,f_7_sum_title_scores,f_9_avg_semantic_score",
          "f_5_num_results,f_6_max_title_score,f_7_sum_title_scores,f_9_avg_semantic_score",
          "f_5_num_results,f_6_max_title_score,f_7_sum_title_scores,f_9_avg_semantic_score",
          "f_5_num_results,f_6_max_title_score,f_8_max_semantic_score,f_9_avg_semantic_score",
          "f_5_num_results,f_6_max_title_score,f_8_max_semantic_score,f_9_avg_semantic_score",
          "f_5_num_results,f_6_max_title_score,f_8_max_semantic_score,f_9_avg_semantic_score",
          "f_5_num_results,f_6_max_title_score,f_8_max_semantic_score,f_9_avg_semantic_score",
          "f_5_num_results,f_6_max_title_score,f_8_max_semantic_score,f_9_avg_semantic_score",
          "f_1_num_of_terms,f_5_num_results,f_6_max_title_score,f_7_sum_title_scores,f_9_avg_semantic_score",
          "f_1_num_of_terms,f_5_num_results,f_6_max_title_score,f_7_sum_title_scores,f_9_avg_semantic_score",
          "f_1_num_of_terms,f_5_num_results,f_6_max_title_score,f_7_sum_title_scores,f_9_avg_semantic_score",
          "f_1_num_of_terms,f_5_num_results,f_6_max_title_score,f_7_sum_title_scores,f_9_avg_semantic_score",
          "f_1_num_of_terms,f_5_num_results,f_6_max_title_score,f_7_sum_title_scores,f_9_avg_semantic_score",
          "f_5_num_results,f_6_max_title_score,f_7_sum_title_scores,f_8_max_semantic_score,f_9_avg_semantic_score",
          "f_5_num_results,f_6_max_title_score,f_7_sum_title_scores,f_8_max_semantic_score,f_9_avg_semantic_score",
          "f_5_num_results,f_6_max_title_score,f_7_sum_title_scores,f_8_max_semantic_score,f_9_avg_semantic_score",
          "f_5_num_results,f_6_max_title_score,f_7_sum_title_scores,f_8_max_semantic_score,f_9_avg_semantic_score",
          "f_5_num_results,f_6_max_title_score,f_7_sum_title_scores,f_8_max_semantic_score,f_9_avg_semantic_score",
          "f_1_num_of_terms,f_4_has_special_char,f_5_num_results,f_6_max_title_score,f_7_sum_title_scores,f_9_avg_semantic_score",
          "f_1_num_of_terms,f_4_has_special_char,f_5_num_results,f_6_max_title_score,f_7_sum_title_scores,f_9_avg_semantic_score",
          "f_1_num_of_terms,f_4_has_special_char,f_5_num_results,f_6_max_title_score,f_7_sum_title_scores,f_9_avg_semantic_score",
          "f_1_num_of_terms,f_4_has_special_char,f_5_num_results,f_6_max_title_score,f_7_sum_title_scores,f_9_avg_semantic_score",
          "f_1_num_of_terms,f_4_has_special_char,f_5_num_results,f_6_max_title_score,f_7_sum_title_scores,f_9_avg_semantic_score",
          "f_1_num_of_terms,f_5_num_results,f_6_max_title_score,f_7_sum_title_scores,f_8_max_semantic_score,f_9_avg_semantic_score",
          "f_1_num_of_terms,f_5_num_results,f_6_max_title_score,f_7_sum_title_scores,f_8_max_semantic_score,f_9_avg_semantic_score",
          "f_1_num_of_terms,f_5_num_results,f_6_max_title_score,f_7_sum_title_scores,f_8_max_semantic_score,f_9_avg_semantic_score",
          "f_1_num_of_terms,f_5_num_results,f_6_max_title_score,f_7_sum_title_scores,f_8_max_semantic_score,f_9_avg_semantic_score",
          "f_1_num_of_terms,f_5_num_results,f_6_max_title_score,f_7_sum_title_scores,f_8_max_semantic_score,f_9_avg_semantic_score",
          "f_1_num_of_terms,f_3_has_numbers,f_4_has_special_char,f_5_num_results,f_6_max_title_score,f_8_max_semantic_score,f_9_avg_semantic_score",
          "f_1_num_of_terms,f_3_has_numbers,f_4_has_special_char,f_5_num_results,f_6_max_title_score,f_8_max_semantic_score,f_9_avg_semantic_score",
          "f_1_num_of_terms,f_3_has_numbers,f_4_has_special_char,f_5_num_results,f_6_max_title_score,f_8_max_semantic_score,f_9_avg_semantic_score",
          "f_1_num_of_terms,f_3_has_numbers,f_4_has_special_char,f_5_num_results,f_6_max_title_score,f_8_max_semantic_score,f_9_avg_semantic_score",
          "f_1_num_of_terms,f_3_has_numbers,f_4_has_special_char,f_5_num_results,f_6_max_title_score,f_8_max_semantic_score,f_9_avg_semantic_score",
          "f_1_num_of_terms,f_3_has_numbers,f_4_has_special_char,f_5_num_results,f_6_max_title_score,f_7_sum_title_scores,f_8_max_semantic_score,f_9_avg_semantic_score",
          "f_1_num_of_terms,f_3_has_numbers,f_4_has_special_char,f_5_num_results,f_6_max_title_score,f_7_sum_title_scores,f_8_max_semantic_score,f_9_avg_semantic_score",
          "f_1_num_of_terms,f_3_has_numbers,f_4_has_special_char,f_5_num_results,f_6_max_title_score,f_7_sum_title_scores,f_8_max_semantic_score,f_9_avg_semantic_score",
          "f_1_num_of_terms,f_3_has_numbers,f_4_has_special_char,f_5_num_results,f_6_max_title_score,f_7_sum_title_scores,f_8_max_semantic_score,f_9_avg_semantic_score",
          "f_1_num_of_terms,f_3_has_numbers,f_4_has_special_char,f_5_num_results,f_6_max_title_score,f_7_sum_title_scores,f_8_max_semantic_score,f_9_avg_semantic_score"
         ],
         "x0": " ",
         "xaxis": "x",
         "y": [
          0.3780404753462253,
          0.36980103839767675,
          0.37110158582253455,
          0.3693170264149759,
          0.3667520524823276,
          0.3779794835702065,
          0.36947698710474514,
          0.3755159211005573,
          0.37045369616188206,
          0.37138195836631593,
          0.3769810844061012,
          0.37058137028188565,
          0.3723562084885923,
          0.3708852329225309,
          0.3649211819009689,
          0.37067120875514464,
          0.36963541767530883,
          0.36298013857510164,
          0.36223903848149774,
          0.36294927607036226,
          0.3749845863498925,
          0.36521774327105194,
          0.36940252435520793,
          0.3672947753508073,
          0.3673616664814118,
          0.36790706842897164,
          0.3662378803455481,
          0.3635283936640988,
          0.3581876421653879,
          0.36023737174257753,
          0.3739168236386269,
          0.3655205835517338,
          0.36916163939391106,
          0.3672249392402428,
          0.36646031572327176,
          0.36622915230767744,
          0.3639874297280059,
          0.36281550132264195,
          0.3557413329935109,
          0.3585468058705864,
          0.36659508861958306,
          0.3647823008316056,
          0.3599496673147511,
          0.35645435612431503,
          0.35965457733775613,
          0.3643946775132699,
          0.36377470775192716,
          0.3602966042027041,
          0.35438176307479485,
          0.359478872814523,
          0.35148913087740524,
          0.3495244862825814,
          0.3457009094819266,
          0.3473795362593996,
          0.3418382933704195,
          0.3522970830716034,
          0.34863431185654414,
          0.34558542340667925,
          0.34809688797871297,
          0.34241303584117383,
          0.35112021373069735,
          0.3492209858847402,
          0.34535116255351056,
          0.3473545009722272,
          0.3427030058616811,
          0.35157152429140187,
          0.350203126178577,
          0.34544804927338335,
          0.34747208610779823,
          0.34232933560302853,
          0.35208202655682935,
          0.348955392164589,
          0.34601399424237256,
          0.34722335810645427,
          0.34158846403850607,
          0.3523479190784554,
          0.34832729719381156,
          0.34582942847634396,
          0.3476941793293545,
          0.3426677042850376,
          0.35251939689977985,
          0.34838014123912386,
          0.3464761582533539,
          0.347299901286274,
          0.3419801266485877,
          0.35235812287429225,
          0.3482471515353239,
          0.34658083912823984,
          0.3477934121711585,
          0.34205057431801156,
          0.3518780444239995,
          0.3495125426318372,
          0.3470673382708161,
          0.3457821079239488,
          0.3430511319289377,
          0.3517442221238433,
          0.3490193294433211,
          0.3457007441428164,
          0.34737752102435426,
          0.34236429804814744
         ],
         "y0": " ",
         "yaxis": "y"
        }
       ],
       "layout": {
        "boxmode": "group",
        "height": 800,
        "legend": {
         "tracegroupgap": 0
        },
        "template": {
         "data": {
          "bar": [
           {
            "error_x": {
             "color": "#2a3f5f"
            },
            "error_y": {
             "color": "#2a3f5f"
            },
            "marker": {
             "line": {
              "color": "#E5ECF6",
              "width": 0.5
             },
             "pattern": {
              "fillmode": "overlay",
              "size": 10,
              "solidity": 0.2
             }
            },
            "type": "bar"
           }
          ],
          "barpolar": [
           {
            "marker": {
             "line": {
              "color": "#E5ECF6",
              "width": 0.5
             },
             "pattern": {
              "fillmode": "overlay",
              "size": 10,
              "solidity": 0.2
             }
            },
            "type": "barpolar"
           }
          ],
          "carpet": [
           {
            "aaxis": {
             "endlinecolor": "#2a3f5f",
             "gridcolor": "white",
             "linecolor": "white",
             "minorgridcolor": "white",
             "startlinecolor": "#2a3f5f"
            },
            "baxis": {
             "endlinecolor": "#2a3f5f",
             "gridcolor": "white",
             "linecolor": "white",
             "minorgridcolor": "white",
             "startlinecolor": "#2a3f5f"
            },
            "type": "carpet"
           }
          ],
          "choropleth": [
           {
            "colorbar": {
             "outlinewidth": 0,
             "ticks": ""
            },
            "type": "choropleth"
           }
          ],
          "contour": [
           {
            "colorbar": {
             "outlinewidth": 0,
             "ticks": ""
            },
            "colorscale": [
             [
              0,
              "#0d0887"
             ],
             [
              0.1111111111111111,
              "#46039f"
             ],
             [
              0.2222222222222222,
              "#7201a8"
             ],
             [
              0.3333333333333333,
              "#9c179e"
             ],
             [
              0.4444444444444444,
              "#bd3786"
             ],
             [
              0.5555555555555556,
              "#d8576b"
             ],
             [
              0.6666666666666666,
              "#ed7953"
             ],
             [
              0.7777777777777778,
              "#fb9f3a"
             ],
             [
              0.8888888888888888,
              "#fdca26"
             ],
             [
              1,
              "#f0f921"
             ]
            ],
            "type": "contour"
           }
          ],
          "contourcarpet": [
           {
            "colorbar": {
             "outlinewidth": 0,
             "ticks": ""
            },
            "type": "contourcarpet"
           }
          ],
          "heatmap": [
           {
            "colorbar": {
             "outlinewidth": 0,
             "ticks": ""
            },
            "colorscale": [
             [
              0,
              "#0d0887"
             ],
             [
              0.1111111111111111,
              "#46039f"
             ],
             [
              0.2222222222222222,
              "#7201a8"
             ],
             [
              0.3333333333333333,
              "#9c179e"
             ],
             [
              0.4444444444444444,
              "#bd3786"
             ],
             [
              0.5555555555555556,
              "#d8576b"
             ],
             [
              0.6666666666666666,
              "#ed7953"
             ],
             [
              0.7777777777777778,
              "#fb9f3a"
             ],
             [
              0.8888888888888888,
              "#fdca26"
             ],
             [
              1,
              "#f0f921"
             ]
            ],
            "type": "heatmap"
           }
          ],
          "heatmapgl": [
           {
            "colorbar": {
             "outlinewidth": 0,
             "ticks": ""
            },
            "colorscale": [
             [
              0,
              "#0d0887"
             ],
             [
              0.1111111111111111,
              "#46039f"
             ],
             [
              0.2222222222222222,
              "#7201a8"
             ],
             [
              0.3333333333333333,
              "#9c179e"
             ],
             [
              0.4444444444444444,
              "#bd3786"
             ],
             [
              0.5555555555555556,
              "#d8576b"
             ],
             [
              0.6666666666666666,
              "#ed7953"
             ],
             [
              0.7777777777777778,
              "#fb9f3a"
             ],
             [
              0.8888888888888888,
              "#fdca26"
             ],
             [
              1,
              "#f0f921"
             ]
            ],
            "type": "heatmapgl"
           }
          ],
          "histogram": [
           {
            "marker": {
             "pattern": {
              "fillmode": "overlay",
              "size": 10,
              "solidity": 0.2
             }
            },
            "type": "histogram"
           }
          ],
          "histogram2d": [
           {
            "colorbar": {
             "outlinewidth": 0,
             "ticks": ""
            },
            "colorscale": [
             [
              0,
              "#0d0887"
             ],
             [
              0.1111111111111111,
              "#46039f"
             ],
             [
              0.2222222222222222,
              "#7201a8"
             ],
             [
              0.3333333333333333,
              "#9c179e"
             ],
             [
              0.4444444444444444,
              "#bd3786"
             ],
             [
              0.5555555555555556,
              "#d8576b"
             ],
             [
              0.6666666666666666,
              "#ed7953"
             ],
             [
              0.7777777777777778,
              "#fb9f3a"
             ],
             [
              0.8888888888888888,
              "#fdca26"
             ],
             [
              1,
              "#f0f921"
             ]
            ],
            "type": "histogram2d"
           }
          ],
          "histogram2dcontour": [
           {
            "colorbar": {
             "outlinewidth": 0,
             "ticks": ""
            },
            "colorscale": [
             [
              0,
              "#0d0887"
             ],
             [
              0.1111111111111111,
              "#46039f"
             ],
             [
              0.2222222222222222,
              "#7201a8"
             ],
             [
              0.3333333333333333,
              "#9c179e"
             ],
             [
              0.4444444444444444,
              "#bd3786"
             ],
             [
              0.5555555555555556,
              "#d8576b"
             ],
             [
              0.6666666666666666,
              "#ed7953"
             ],
             [
              0.7777777777777778,
              "#fb9f3a"
             ],
             [
              0.8888888888888888,
              "#fdca26"
             ],
             [
              1,
              "#f0f921"
             ]
            ],
            "type": "histogram2dcontour"
           }
          ],
          "mesh3d": [
           {
            "colorbar": {
             "outlinewidth": 0,
             "ticks": ""
            },
            "type": "mesh3d"
           }
          ],
          "parcoords": [
           {
            "line": {
             "colorbar": {
              "outlinewidth": 0,
              "ticks": ""
             }
            },
            "type": "parcoords"
           }
          ],
          "pie": [
           {
            "automargin": true,
            "type": "pie"
           }
          ],
          "scatter": [
           {
            "fillpattern": {
             "fillmode": "overlay",
             "size": 10,
             "solidity": 0.2
            },
            "type": "scatter"
           }
          ],
          "scatter3d": [
           {
            "line": {
             "colorbar": {
              "outlinewidth": 0,
              "ticks": ""
             }
            },
            "marker": {
             "colorbar": {
              "outlinewidth": 0,
              "ticks": ""
             }
            },
            "type": "scatter3d"
           }
          ],
          "scattercarpet": [
           {
            "marker": {
             "colorbar": {
              "outlinewidth": 0,
              "ticks": ""
             }
            },
            "type": "scattercarpet"
           }
          ],
          "scattergeo": [
           {
            "marker": {
             "colorbar": {
              "outlinewidth": 0,
              "ticks": ""
             }
            },
            "type": "scattergeo"
           }
          ],
          "scattergl": [
           {
            "marker": {
             "colorbar": {
              "outlinewidth": 0,
              "ticks": ""
             }
            },
            "type": "scattergl"
           }
          ],
          "scattermapbox": [
           {
            "marker": {
             "colorbar": {
              "outlinewidth": 0,
              "ticks": ""
             }
            },
            "type": "scattermapbox"
           }
          ],
          "scatterpolar": [
           {
            "marker": {
             "colorbar": {
              "outlinewidth": 0,
              "ticks": ""
             }
            },
            "type": "scatterpolar"
           }
          ],
          "scatterpolargl": [
           {
            "marker": {
             "colorbar": {
              "outlinewidth": 0,
              "ticks": ""
             }
            },
            "type": "scatterpolargl"
           }
          ],
          "scatterternary": [
           {
            "marker": {
             "colorbar": {
              "outlinewidth": 0,
              "ticks": ""
             }
            },
            "type": "scatterternary"
           }
          ],
          "surface": [
           {
            "colorbar": {
             "outlinewidth": 0,
             "ticks": ""
            },
            "colorscale": [
             [
              0,
              "#0d0887"
             ],
             [
              0.1111111111111111,
              "#46039f"
             ],
             [
              0.2222222222222222,
              "#7201a8"
             ],
             [
              0.3333333333333333,
              "#9c179e"
             ],
             [
              0.4444444444444444,
              "#bd3786"
             ],
             [
              0.5555555555555556,
              "#d8576b"
             ],
             [
              0.6666666666666666,
              "#ed7953"
             ],
             [
              0.7777777777777778,
              "#fb9f3a"
             ],
             [
              0.8888888888888888,
              "#fdca26"
             ],
             [
              1,
              "#f0f921"
             ]
            ],
            "type": "surface"
           }
          ],
          "table": [
           {
            "cells": {
             "fill": {
              "color": "#EBF0F8"
             },
             "line": {
              "color": "white"
             }
            },
            "header": {
             "fill": {
              "color": "#C8D4E3"
             },
             "line": {
              "color": "white"
             }
            },
            "type": "table"
           }
          ]
         },
         "layout": {
          "annotationdefaults": {
           "arrowcolor": "#2a3f5f",
           "arrowhead": 0,
           "arrowwidth": 1
          },
          "autotypenumbers": "strict",
          "coloraxis": {
           "colorbar": {
            "outlinewidth": 0,
            "ticks": ""
           }
          },
          "colorscale": {
           "diverging": [
            [
             0,
             "#8e0152"
            ],
            [
             0.1,
             "#c51b7d"
            ],
            [
             0.2,
             "#de77ae"
            ],
            [
             0.3,
             "#f1b6da"
            ],
            [
             0.4,
             "#fde0ef"
            ],
            [
             0.5,
             "#f7f7f7"
            ],
            [
             0.6,
             "#e6f5d0"
            ],
            [
             0.7,
             "#b8e186"
            ],
            [
             0.8,
             "#7fbc41"
            ],
            [
             0.9,
             "#4d9221"
            ],
            [
             1,
             "#276419"
            ]
           ],
           "sequential": [
            [
             0,
             "#0d0887"
            ],
            [
             0.1111111111111111,
             "#46039f"
            ],
            [
             0.2222222222222222,
             "#7201a8"
            ],
            [
             0.3333333333333333,
             "#9c179e"
            ],
            [
             0.4444444444444444,
             "#bd3786"
            ],
            [
             0.5555555555555556,
             "#d8576b"
            ],
            [
             0.6666666666666666,
             "#ed7953"
            ],
            [
             0.7777777777777778,
             "#fb9f3a"
            ],
            [
             0.8888888888888888,
             "#fdca26"
            ],
            [
             1,
             "#f0f921"
            ]
           ],
           "sequentialminus": [
            [
             0,
             "#0d0887"
            ],
            [
             0.1111111111111111,
             "#46039f"
            ],
            [
             0.2222222222222222,
             "#7201a8"
            ],
            [
             0.3333333333333333,
             "#9c179e"
            ],
            [
             0.4444444444444444,
             "#bd3786"
            ],
            [
             0.5555555555555556,
             "#d8576b"
            ],
            [
             0.6666666666666666,
             "#ed7953"
            ],
            [
             0.7777777777777778,
             "#fb9f3a"
            ],
            [
             0.8888888888888888,
             "#fdca26"
            ],
            [
             1,
             "#f0f921"
            ]
           ]
          },
          "colorway": [
           "#636efa",
           "#EF553B",
           "#00cc96",
           "#ab63fa",
           "#FFA15A",
           "#19d3f3",
           "#FF6692",
           "#B6E880",
           "#FF97FF",
           "#FECB52"
          ],
          "font": {
           "color": "#2a3f5f"
          },
          "geo": {
           "bgcolor": "white",
           "lakecolor": "white",
           "landcolor": "#E5ECF6",
           "showlakes": true,
           "showland": true,
           "subunitcolor": "white"
          },
          "hoverlabel": {
           "align": "left"
          },
          "hovermode": "closest",
          "mapbox": {
           "style": "light"
          },
          "paper_bgcolor": "white",
          "plot_bgcolor": "#E5ECF6",
          "polar": {
           "angularaxis": {
            "gridcolor": "white",
            "linecolor": "white",
            "ticks": ""
           },
           "bgcolor": "#E5ECF6",
           "radialaxis": {
            "gridcolor": "white",
            "linecolor": "white",
            "ticks": ""
           }
          },
          "scene": {
           "xaxis": {
            "backgroundcolor": "#E5ECF6",
            "gridcolor": "white",
            "gridwidth": 2,
            "linecolor": "white",
            "showbackground": true,
            "ticks": "",
            "zerolinecolor": "white"
           },
           "yaxis": {
            "backgroundcolor": "#E5ECF6",
            "gridcolor": "white",
            "gridwidth": 2,
            "linecolor": "white",
            "showbackground": true,
            "ticks": "",
            "zerolinecolor": "white"
           },
           "zaxis": {
            "backgroundcolor": "#E5ECF6",
            "gridcolor": "white",
            "gridwidth": 2,
            "linecolor": "white",
            "showbackground": true,
            "ticks": "",
            "zerolinecolor": "white"
           }
          },
          "shapedefaults": {
           "line": {
            "color": "#2a3f5f"
           }
          },
          "ternary": {
           "aaxis": {
            "gridcolor": "white",
            "linecolor": "white",
            "ticks": ""
           },
           "baxis": {
            "gridcolor": "white",
            "linecolor": "white",
            "ticks": ""
           },
           "bgcolor": "#E5ECF6",
           "caxis": {
            "gridcolor": "white",
            "linecolor": "white",
            "ticks": ""
           }
          },
          "title": {
           "x": 0.05
          },
          "xaxis": {
           "automargin": true,
           "gridcolor": "white",
           "linecolor": "white",
           "ticks": "",
           "title": {
            "standoff": 15
           },
           "zerolinecolor": "white",
           "zerolinewidth": 2
          },
          "yaxis": {
           "automargin": true,
           "gridcolor": "white",
           "linecolor": "white",
           "ticks": "",
           "title": {
            "standoff": 15
           },
           "zerolinecolor": "white",
           "zerolinewidth": 2
          }
         }
        },
        "title": {
         "text": "Top 10 Random Forest Feature Combinations"
        },
        "width": 1100,
        "xaxis": {
         "anchor": "y",
         "autorange": true,
         "domain": [
          0,
          1
         ],
         "range": [
          -0.5,
          9.5
         ],
         "showticklabels": false,
         "title": {
          "text": "feature combinations"
         },
         "type": "category"
        },
        "yaxis": {
         "anchor": "x",
         "autorange": true,
         "domain": [
          0,
          1
         ],
         "range": [
          0.3395633522991883,
          0.38006558708554306
         ],
         "title": {
          "text": "rmse scores"
         },
         "type": "linear"
        }
       }
      }
     },
     "metadata": {},
     "output_type": "display_data"
    }
   ],
   "source": [
    "x = df_agg_metrics[df_agg_metrics['model'] == 'rf'].sort_values(by='mean_rmse')['features'].head(10)\n",
    "\n",
    "fig = px.box(df_metrics[(df_metrics['features'].isin(x)) & (df_metrics['model'] == 'rf')], x='features',\n",
    "             y='rmse_scores', title='RMSE Boxplot of Top 10 Feature Combinations')\n",
    "fig.update_layout(height=800, width=1100,\n",
    "                  title_text=\"Top 10 Random Forest Feature Combinations\",\n",
    "                  xaxis_title=\"feature combinations\", yaxis_title=\"rmse scores\")\n",
    "fig.update_xaxes(showticklabels=False)\n",
    "fig.show()"
   ]
  },
  {
   "cell_type": "markdown",
   "id": "abefdc97-ce55-4103-9ec0-2c1010332ea6",
   "metadata": {},
   "source": [
    "### Show the best feature combinations based on the mean root squared error grouped by the features they include\n",
    "\n",
    "Groups: contains query features, contains keyword search features, and contains neural search features and best of all"
   ]
  },
  {
   "cell_type": "code",
   "execution_count": 118,
   "id": "a7ecf668-91bc-4b69-9f3f-d7ee5ecafd6a",
   "metadata": {},
   "outputs": [],
   "source": [
    "df_agg_metrics['keyword_f_only'] = (df_agg_metrics['keyword_f'] == True) & (df_agg_metrics['neural_f'] == False) & (df_agg_metrics['query_f'] == False)\n",
    "df_agg_metrics['neural_f_only'] = (df_agg_metrics['keyword_f'] == False) & (df_agg_metrics['neural_f'] == True) & (df_agg_metrics['query_f'] == False)\n",
    "df_agg_metrics['query_f_only'] = (df_agg_metrics['keyword_f'] == False) & (df_agg_metrics['neural_f'] == False) & (df_agg_metrics['query_f'] == True)\n"
   ]
  },
  {
   "cell_type": "code",
   "execution_count": 119,
   "id": "0663ae54-d907-4013-867a-8ccc50e33660",
   "metadata": {},
   "outputs": [
    {
     "data": {
      "text/html": [
       "<div>\n",
       "<style scoped>\n",
       "    .dataframe tbody tr th:only-of-type {\n",
       "        vertical-align: middle;\n",
       "    }\n",
       "\n",
       "    .dataframe tbody tr th {\n",
       "        vertical-align: top;\n",
       "    }\n",
       "\n",
       "    .dataframe thead th {\n",
       "        text-align: right;\n",
       "    }\n",
       "</style>\n",
       "<table border=\"1\" class=\"dataframe\">\n",
       "  <thead>\n",
       "    <tr style=\"text-align: right;\">\n",
       "      <th></th>\n",
       "      <th>features</th>\n",
       "      <th>keyword_f</th>\n",
       "      <th>neural_f</th>\n",
       "      <th>query_f</th>\n",
       "      <th>model</th>\n",
       "      <th>regularization</th>\n",
       "      <th>mean_rmse</th>\n",
       "      <th>var_rmse</th>\n",
       "      <th>std_rmse</th>\n",
       "      <th>keyword_f_only</th>\n",
       "      <th>neural_f_only</th>\n",
       "      <th>query_f_only</th>\n",
       "    </tr>\n",
       "  </thead>\n",
       "  <tbody>\n",
       "    <tr>\n",
       "      <th>0</th>\n",
       "      <td>f_1_num_of_terms,f_2_query_length</td>\n",
       "      <td>False</td>\n",
       "      <td>False</td>\n",
       "      <td>True</td>\n",
       "      <td>lr</td>\n",
       "      <td>False</td>\n",
       "      <td>0.360443</td>\n",
       "      <td>0.000011</td>\n",
       "      <td>0.003353</td>\n",
       "      <td>False</td>\n",
       "      <td>False</td>\n",
       "      <td>True</td>\n",
       "    </tr>\n",
       "    <tr>\n",
       "      <th>1</th>\n",
       "      <td>f_1_num_of_terms,f_2_query_length</td>\n",
       "      <td>False</td>\n",
       "      <td>False</td>\n",
       "      <td>True</td>\n",
       "      <td>lr</td>\n",
       "      <td>True</td>\n",
       "      <td>0.360442</td>\n",
       "      <td>0.000011</td>\n",
       "      <td>0.003354</td>\n",
       "      <td>False</td>\n",
       "      <td>False</td>\n",
       "      <td>True</td>\n",
       "    </tr>\n",
       "    <tr>\n",
       "      <th>2</th>\n",
       "      <td>f_1_num_of_terms,f_2_query_length</td>\n",
       "      <td>False</td>\n",
       "      <td>False</td>\n",
       "      <td>True</td>\n",
       "      <td>rf</td>\n",
       "      <td>False</td>\n",
       "      <td>0.366891</td>\n",
       "      <td>0.000005</td>\n",
       "      <td>0.002332</td>\n",
       "      <td>False</td>\n",
       "      <td>False</td>\n",
       "      <td>True</td>\n",
       "    </tr>\n",
       "  </tbody>\n",
       "</table>\n",
       "</div>"
      ],
      "text/plain": [
       "                            features  keyword_f  neural_f  query_f model  \\\n",
       "0  f_1_num_of_terms,f_2_query_length      False     False     True    lr   \n",
       "1  f_1_num_of_terms,f_2_query_length      False     False     True    lr   \n",
       "2  f_1_num_of_terms,f_2_query_length      False     False     True    rf   \n",
       "\n",
       "   regularization  mean_rmse  var_rmse  std_rmse  keyword_f_only  \\\n",
       "0           False   0.360443  0.000011  0.003353           False   \n",
       "1            True   0.360442  0.000011  0.003354           False   \n",
       "2           False   0.366891  0.000005  0.002332           False   \n",
       "\n",
       "   neural_f_only  query_f_only  \n",
       "0          False          True  \n",
       "1          False          True  \n",
       "2          False          True  "
      ]
     },
     "execution_count": 119,
     "metadata": {},
     "output_type": "execute_result"
    }
   ],
   "source": [
    "df_agg_metrics.head(3)"
   ]
  },
  {
   "cell_type": "code",
   "execution_count": 120,
   "id": "3cdee467-40df-4718-9616-8fc43dcc2fa8",
   "metadata": {},
   "outputs": [],
   "source": [
    "# Create a better readable string to identify the feature combinations\n",
    "# The string contains 'k' if it contains keyword search features, 'n' if contains neural search features and\n",
    "# 'q' if it contains query string features\n",
    "\n",
    "def create_feature_string(row):\n",
    "    keyword_s = \"\"\n",
    "    neural_s = \"\"\n",
    "    query_s = \"\"\n",
    "    if row.keyword_f == True:\n",
    "        keyword_s = \"k\"\n",
    "    if row.neural_f == True:\n",
    "        neural_s = \"n\"\n",
    "    if row.query_f == True:\n",
    "        query_s = \"q\"\n",
    "    return keyword_s + neural_s + query_s"
   ]
  },
  {
   "cell_type": "code",
   "execution_count": 121,
   "id": "24c24ecb-ab92-4461-ab87-b21f245237cb",
   "metadata": {},
   "outputs": [
    {
     "data": {
      "text/html": [
       "<div>\n",
       "<style scoped>\n",
       "    .dataframe tbody tr th:only-of-type {\n",
       "        vertical-align: middle;\n",
       "    }\n",
       "\n",
       "    .dataframe tbody tr th {\n",
       "        vertical-align: top;\n",
       "    }\n",
       "\n",
       "    .dataframe thead th {\n",
       "        text-align: right;\n",
       "    }\n",
       "</style>\n",
       "<table border=\"1\" class=\"dataframe\">\n",
       "  <thead>\n",
       "    <tr style=\"text-align: right;\">\n",
       "      <th></th>\n",
       "      <th>features</th>\n",
       "      <th>rmse_scores</th>\n",
       "      <th>keyword_f</th>\n",
       "      <th>neural_f</th>\n",
       "      <th>query_f</th>\n",
       "      <th>model</th>\n",
       "      <th>regularization</th>\n",
       "      <th>f_str</th>\n",
       "    </tr>\n",
       "  </thead>\n",
       "  <tbody>\n",
       "    <tr>\n",
       "      <th>0</th>\n",
       "      <td>f_1_num_of_terms,f_2_query_length</td>\n",
       "      <td>0.364615</td>\n",
       "      <td>False</td>\n",
       "      <td>False</td>\n",
       "      <td>True</td>\n",
       "      <td>lr</td>\n",
       "      <td>False</td>\n",
       "      <td>q</td>\n",
       "    </tr>\n",
       "    <tr>\n",
       "      <th>1</th>\n",
       "      <td>f_1_num_of_terms,f_2_query_length</td>\n",
       "      <td>0.360374</td>\n",
       "      <td>False</td>\n",
       "      <td>False</td>\n",
       "      <td>True</td>\n",
       "      <td>lr</td>\n",
       "      <td>False</td>\n",
       "      <td>q</td>\n",
       "    </tr>\n",
       "    <tr>\n",
       "      <th>2</th>\n",
       "      <td>f_1_num_of_terms,f_2_query_length</td>\n",
       "      <td>0.360657</td>\n",
       "      <td>False</td>\n",
       "      <td>False</td>\n",
       "      <td>True</td>\n",
       "      <td>lr</td>\n",
       "      <td>False</td>\n",
       "      <td>q</td>\n",
       "    </tr>\n",
       "  </tbody>\n",
       "</table>\n",
       "</div>"
      ],
      "text/plain": [
       "                            features  rmse_scores  keyword_f  neural_f  \\\n",
       "0  f_1_num_of_terms,f_2_query_length     0.364615      False     False   \n",
       "1  f_1_num_of_terms,f_2_query_length     0.360374      False     False   \n",
       "2  f_1_num_of_terms,f_2_query_length     0.360657      False     False   \n",
       "\n",
       "   query_f model  regularization f_str  \n",
       "0     True    lr           False     q  \n",
       "1     True    lr           False     q  \n",
       "2     True    lr           False     q  "
      ]
     },
     "execution_count": 121,
     "metadata": {},
     "output_type": "execute_result"
    }
   ],
   "source": [
    "# create a string as a key of the feature combination\n",
    "df_metrics['f_str'] = df_metrics.apply(create_feature_string, axis=1)\n",
    "df_metrics.head(3)"
   ]
  },
  {
   "cell_type": "markdown",
   "id": "6102f2b6-bac6-4672-93dd-79700a1925aa",
   "metadata": {},
   "source": [
    "### Linear Regression Model: Best Feature Combination Grouped by Feature types "
   ]
  },
  {
   "cell_type": "code",
   "execution_count": 122,
   "id": "2c02680a-0c40-4540-907e-dfaeb60ca0de",
   "metadata": {},
   "outputs": [],
   "source": [
    "# Select the best three models that contain query features, neural features, keyword features and the best overall feature combinations\n",
    "x_query_f = df_agg_metrics[(df_agg_metrics['query_f']==True) & (df_agg_metrics['model'] == 'lr')].sort_values(by='mean_rmse')['features'].head(5).values\n",
    "x_neural_f = df_agg_metrics[(df_agg_metrics['neural_f']==True) & (df_agg_metrics['model'] == 'lr')].sort_values(by='mean_rmse')['features'].head(5).values\n",
    "x_keyword_f = df_agg_metrics[(df_agg_metrics['keyword_f']==True) & (df_agg_metrics['model'] == 'lr')].sort_values(by='mean_rmse')['features'].head(5).values\n",
    "\n",
    "x_all_f = df_agg_metrics[df_agg_metrics['model'] == 'lr'].sort_values(by='mean_rmse')['features'].head(5).values\n",
    "\n",
    "x = np.concatenate([x_query_f, x_neural_f, x_keyword_f, x_all_f])"
   ]
  },
  {
   "cell_type": "code",
   "execution_count": 123,
   "id": "93174a3f-15c4-42b3-abde-4f08760b81f7",
   "metadata": {},
   "outputs": [
    {
     "data": {
      "application/vnd.plotly.v1+json": {
       "config": {
        "plotlyServerURL": "https://plot.ly"
       },
       "data": [
        {
         "alignmentgroup": "True",
         "hovertemplate": "f_str=kq<br>features=%{x}<br>rmse_scores=%{y}<extra></extra>",
         "legendgroup": "kq",
         "marker": {
          "color": "#636efa"
         },
         "name": "kq",
         "notched": false,
         "offsetgroup": "kq",
         "orientation": "v",
         "showlegend": true,
         "type": "box",
         "x": [
          "f_1_num_of_terms,f_3_has_numbers,f_5_num_results,f_6_max_title_score,f_7_sum_title_scores",
          "f_1_num_of_terms,f_3_has_numbers,f_5_num_results,f_6_max_title_score,f_7_sum_title_scores",
          "f_1_num_of_terms,f_3_has_numbers,f_5_num_results,f_6_max_title_score,f_7_sum_title_scores",
          "f_1_num_of_terms,f_3_has_numbers,f_5_num_results,f_6_max_title_score,f_7_sum_title_scores",
          "f_1_num_of_terms,f_3_has_numbers,f_5_num_results,f_6_max_title_score,f_7_sum_title_scores",
          "f_1_num_of_terms,f_3_has_numbers,f_5_num_results,f_6_max_title_score,f_7_sum_title_scores",
          "f_1_num_of_terms,f_3_has_numbers,f_5_num_results,f_6_max_title_score,f_7_sum_title_scores",
          "f_1_num_of_terms,f_3_has_numbers,f_5_num_results,f_6_max_title_score,f_7_sum_title_scores",
          "f_1_num_of_terms,f_3_has_numbers,f_5_num_results,f_6_max_title_score,f_7_sum_title_scores",
          "f_1_num_of_terms,f_3_has_numbers,f_5_num_results,f_6_max_title_score,f_7_sum_title_scores"
         ],
         "x0": " ",
         "xaxis": "x",
         "y": [
          0.3608444225789693,
          0.3571782927392644,
          0.3555481433373397,
          0.35942692575668567,
          0.35376391685584613,
          0.36087967240061886,
          0.35717253410187794,
          0.35556122555059566,
          0.35942876826985587,
          0.35372823417131044
         ],
         "y0": " ",
         "yaxis": "y"
        },
        {
         "alignmentgroup": "True",
         "hovertemplate": "f_str=knq<br>features=%{x}<br>rmse_scores=%{y}<extra></extra>",
         "legendgroup": "knq",
         "marker": {
          "color": "#EF553B"
         },
         "name": "knq",
         "notched": false,
         "offsetgroup": "knq",
         "orientation": "v",
         "showlegend": true,
         "type": "box",
         "x": [
          "f_1_num_of_terms,f_3_has_numbers,f_5_num_results,f_6_max_title_score,f_7_sum_title_scores,f_9_avg_semantic_score",
          "f_1_num_of_terms,f_3_has_numbers,f_5_num_results,f_6_max_title_score,f_7_sum_title_scores,f_9_avg_semantic_score",
          "f_1_num_of_terms,f_3_has_numbers,f_5_num_results,f_6_max_title_score,f_7_sum_title_scores,f_9_avg_semantic_score",
          "f_1_num_of_terms,f_3_has_numbers,f_5_num_results,f_6_max_title_score,f_7_sum_title_scores,f_9_avg_semantic_score",
          "f_1_num_of_terms,f_3_has_numbers,f_5_num_results,f_6_max_title_score,f_7_sum_title_scores,f_9_avg_semantic_score",
          "f_1_num_of_terms,f_3_has_numbers,f_5_num_results,f_6_max_title_score,f_7_sum_title_scores,f_8_max_semantic_score,f_9_avg_semantic_score",
          "f_1_num_of_terms,f_3_has_numbers,f_5_num_results,f_6_max_title_score,f_7_sum_title_scores,f_8_max_semantic_score,f_9_avg_semantic_score",
          "f_1_num_of_terms,f_3_has_numbers,f_5_num_results,f_6_max_title_score,f_7_sum_title_scores,f_8_max_semantic_score,f_9_avg_semantic_score",
          "f_1_num_of_terms,f_3_has_numbers,f_5_num_results,f_6_max_title_score,f_7_sum_title_scores,f_8_max_semantic_score,f_9_avg_semantic_score",
          "f_1_num_of_terms,f_3_has_numbers,f_5_num_results,f_6_max_title_score,f_7_sum_title_scores,f_8_max_semantic_score,f_9_avg_semantic_score",
          "f_1_num_of_terms,f_2_query_length,f_3_has_numbers,f_5_num_results,f_6_max_title_score,f_7_sum_title_scores,f_8_max_semantic_score,f_9_avg_semantic_score",
          "f_1_num_of_terms,f_2_query_length,f_3_has_numbers,f_5_num_results,f_6_max_title_score,f_7_sum_title_scores,f_8_max_semantic_score,f_9_avg_semantic_score",
          "f_1_num_of_terms,f_2_query_length,f_3_has_numbers,f_5_num_results,f_6_max_title_score,f_7_sum_title_scores,f_8_max_semantic_score,f_9_avg_semantic_score",
          "f_1_num_of_terms,f_2_query_length,f_3_has_numbers,f_5_num_results,f_6_max_title_score,f_7_sum_title_scores,f_8_max_semantic_score,f_9_avg_semantic_score",
          "f_1_num_of_terms,f_2_query_length,f_3_has_numbers,f_5_num_results,f_6_max_title_score,f_7_sum_title_scores,f_8_max_semantic_score,f_9_avg_semantic_score",
          "f_1_num_of_terms,f_3_has_numbers,f_4_has_special_char,f_5_num_results,f_6_max_title_score,f_7_sum_title_scores,f_8_max_semantic_score,f_9_avg_semantic_score",
          "f_1_num_of_terms,f_3_has_numbers,f_4_has_special_char,f_5_num_results,f_6_max_title_score,f_7_sum_title_scores,f_8_max_semantic_score,f_9_avg_semantic_score",
          "f_1_num_of_terms,f_3_has_numbers,f_4_has_special_char,f_5_num_results,f_6_max_title_score,f_7_sum_title_scores,f_8_max_semantic_score,f_9_avg_semantic_score",
          "f_1_num_of_terms,f_3_has_numbers,f_4_has_special_char,f_5_num_results,f_6_max_title_score,f_7_sum_title_scores,f_8_max_semantic_score,f_9_avg_semantic_score",
          "f_1_num_of_terms,f_3_has_numbers,f_4_has_special_char,f_5_num_results,f_6_max_title_score,f_7_sum_title_scores,f_8_max_semantic_score,f_9_avg_semantic_score",
          "f_1_num_of_terms,f_3_has_numbers,f_5_num_results,f_6_max_title_score,f_7_sum_title_scores,f_9_avg_semantic_score",
          "f_1_num_of_terms,f_3_has_numbers,f_5_num_results,f_6_max_title_score,f_7_sum_title_scores,f_9_avg_semantic_score",
          "f_1_num_of_terms,f_3_has_numbers,f_5_num_results,f_6_max_title_score,f_7_sum_title_scores,f_9_avg_semantic_score",
          "f_1_num_of_terms,f_3_has_numbers,f_5_num_results,f_6_max_title_score,f_7_sum_title_scores,f_9_avg_semantic_score",
          "f_1_num_of_terms,f_3_has_numbers,f_5_num_results,f_6_max_title_score,f_7_sum_title_scores,f_9_avg_semantic_score",
          "f_1_num_of_terms,f_3_has_numbers,f_5_num_results,f_6_max_title_score,f_7_sum_title_scores,f_8_max_semantic_score,f_9_avg_semantic_score",
          "f_1_num_of_terms,f_3_has_numbers,f_5_num_results,f_6_max_title_score,f_7_sum_title_scores,f_8_max_semantic_score,f_9_avg_semantic_score",
          "f_1_num_of_terms,f_3_has_numbers,f_5_num_results,f_6_max_title_score,f_7_sum_title_scores,f_8_max_semantic_score,f_9_avg_semantic_score",
          "f_1_num_of_terms,f_3_has_numbers,f_5_num_results,f_6_max_title_score,f_7_sum_title_scores,f_8_max_semantic_score,f_9_avg_semantic_score",
          "f_1_num_of_terms,f_3_has_numbers,f_5_num_results,f_6_max_title_score,f_7_sum_title_scores,f_8_max_semantic_score,f_9_avg_semantic_score",
          "f_1_num_of_terms,f_2_query_length,f_3_has_numbers,f_5_num_results,f_6_max_title_score,f_7_sum_title_scores,f_8_max_semantic_score,f_9_avg_semantic_score",
          "f_1_num_of_terms,f_2_query_length,f_3_has_numbers,f_5_num_results,f_6_max_title_score,f_7_sum_title_scores,f_8_max_semantic_score,f_9_avg_semantic_score",
          "f_1_num_of_terms,f_2_query_length,f_3_has_numbers,f_5_num_results,f_6_max_title_score,f_7_sum_title_scores,f_8_max_semantic_score,f_9_avg_semantic_score",
          "f_1_num_of_terms,f_2_query_length,f_3_has_numbers,f_5_num_results,f_6_max_title_score,f_7_sum_title_scores,f_8_max_semantic_score,f_9_avg_semantic_score",
          "f_1_num_of_terms,f_2_query_length,f_3_has_numbers,f_5_num_results,f_6_max_title_score,f_7_sum_title_scores,f_8_max_semantic_score,f_9_avg_semantic_score",
          "f_1_num_of_terms,f_3_has_numbers,f_4_has_special_char,f_5_num_results,f_6_max_title_score,f_7_sum_title_scores,f_8_max_semantic_score,f_9_avg_semantic_score",
          "f_1_num_of_terms,f_3_has_numbers,f_4_has_special_char,f_5_num_results,f_6_max_title_score,f_7_sum_title_scores,f_8_max_semantic_score,f_9_avg_semantic_score",
          "f_1_num_of_terms,f_3_has_numbers,f_4_has_special_char,f_5_num_results,f_6_max_title_score,f_7_sum_title_scores,f_8_max_semantic_score,f_9_avg_semantic_score",
          "f_1_num_of_terms,f_3_has_numbers,f_4_has_special_char,f_5_num_results,f_6_max_title_score,f_7_sum_title_scores,f_8_max_semantic_score,f_9_avg_semantic_score",
          "f_1_num_of_terms,f_3_has_numbers,f_4_has_special_char,f_5_num_results,f_6_max_title_score,f_7_sum_title_scores,f_8_max_semantic_score,f_9_avg_semantic_score"
         ],
         "x0": " ",
         "xaxis": "x",
         "y": [
          0.36071290655964905,
          0.35760140341361907,
          0.35560401484543036,
          0.359694949610413,
          0.35363698945211686,
          0.36054075344858233,
          0.3575995476839125,
          0.3555657060631093,
          0.3595066459440644,
          0.3534366901997857,
          0.36046507697314234,
          0.3573069180613931,
          0.3555464511285852,
          0.3599309542204781,
          0.3536309929895221,
          0.36065508383054684,
          0.35770323072862265,
          0.35552214660960546,
          0.3596407544853737,
          0.3534000320351028,
          0.3608041604475704,
          0.357374209286306,
          0.35557233013252854,
          0.3595543370504839,
          0.35364780286749964,
          0.36079358534110206,
          0.35733909925629154,
          0.3555463922283543,
          0.3595541712693376,
          0.35361965351668423,
          0.36075572739440126,
          0.3571049096109547,
          0.3555146542182186,
          0.35995424160415895,
          0.3538343633429807,
          0.36090042590033694,
          0.3574445374298309,
          0.3555070843005059,
          0.3596812111278262,
          0.3535867707794023
         ],
         "y0": " ",
         "yaxis": "y"
        }
       ],
       "layout": {
        "boxmode": "group",
        "height": 800,
        "legend": {
         "title": {
          "text": "f_str"
         },
         "tracegroupgap": 0
        },
        "template": {
         "data": {
          "bar": [
           {
            "error_x": {
             "color": "#2a3f5f"
            },
            "error_y": {
             "color": "#2a3f5f"
            },
            "marker": {
             "line": {
              "color": "#E5ECF6",
              "width": 0.5
             },
             "pattern": {
              "fillmode": "overlay",
              "size": 10,
              "solidity": 0.2
             }
            },
            "type": "bar"
           }
          ],
          "barpolar": [
           {
            "marker": {
             "line": {
              "color": "#E5ECF6",
              "width": 0.5
             },
             "pattern": {
              "fillmode": "overlay",
              "size": 10,
              "solidity": 0.2
             }
            },
            "type": "barpolar"
           }
          ],
          "carpet": [
           {
            "aaxis": {
             "endlinecolor": "#2a3f5f",
             "gridcolor": "white",
             "linecolor": "white",
             "minorgridcolor": "white",
             "startlinecolor": "#2a3f5f"
            },
            "baxis": {
             "endlinecolor": "#2a3f5f",
             "gridcolor": "white",
             "linecolor": "white",
             "minorgridcolor": "white",
             "startlinecolor": "#2a3f5f"
            },
            "type": "carpet"
           }
          ],
          "choropleth": [
           {
            "colorbar": {
             "outlinewidth": 0,
             "ticks": ""
            },
            "type": "choropleth"
           }
          ],
          "contour": [
           {
            "colorbar": {
             "outlinewidth": 0,
             "ticks": ""
            },
            "colorscale": [
             [
              0,
              "#0d0887"
             ],
             [
              0.1111111111111111,
              "#46039f"
             ],
             [
              0.2222222222222222,
              "#7201a8"
             ],
             [
              0.3333333333333333,
              "#9c179e"
             ],
             [
              0.4444444444444444,
              "#bd3786"
             ],
             [
              0.5555555555555556,
              "#d8576b"
             ],
             [
              0.6666666666666666,
              "#ed7953"
             ],
             [
              0.7777777777777778,
              "#fb9f3a"
             ],
             [
              0.8888888888888888,
              "#fdca26"
             ],
             [
              1,
              "#f0f921"
             ]
            ],
            "type": "contour"
           }
          ],
          "contourcarpet": [
           {
            "colorbar": {
             "outlinewidth": 0,
             "ticks": ""
            },
            "type": "contourcarpet"
           }
          ],
          "heatmap": [
           {
            "colorbar": {
             "outlinewidth": 0,
             "ticks": ""
            },
            "colorscale": [
             [
              0,
              "#0d0887"
             ],
             [
              0.1111111111111111,
              "#46039f"
             ],
             [
              0.2222222222222222,
              "#7201a8"
             ],
             [
              0.3333333333333333,
              "#9c179e"
             ],
             [
              0.4444444444444444,
              "#bd3786"
             ],
             [
              0.5555555555555556,
              "#d8576b"
             ],
             [
              0.6666666666666666,
              "#ed7953"
             ],
             [
              0.7777777777777778,
              "#fb9f3a"
             ],
             [
              0.8888888888888888,
              "#fdca26"
             ],
             [
              1,
              "#f0f921"
             ]
            ],
            "type": "heatmap"
           }
          ],
          "heatmapgl": [
           {
            "colorbar": {
             "outlinewidth": 0,
             "ticks": ""
            },
            "colorscale": [
             [
              0,
              "#0d0887"
             ],
             [
              0.1111111111111111,
              "#46039f"
             ],
             [
              0.2222222222222222,
              "#7201a8"
             ],
             [
              0.3333333333333333,
              "#9c179e"
             ],
             [
              0.4444444444444444,
              "#bd3786"
             ],
             [
              0.5555555555555556,
              "#d8576b"
             ],
             [
              0.6666666666666666,
              "#ed7953"
             ],
             [
              0.7777777777777778,
              "#fb9f3a"
             ],
             [
              0.8888888888888888,
              "#fdca26"
             ],
             [
              1,
              "#f0f921"
             ]
            ],
            "type": "heatmapgl"
           }
          ],
          "histogram": [
           {
            "marker": {
             "pattern": {
              "fillmode": "overlay",
              "size": 10,
              "solidity": 0.2
             }
            },
            "type": "histogram"
           }
          ],
          "histogram2d": [
           {
            "colorbar": {
             "outlinewidth": 0,
             "ticks": ""
            },
            "colorscale": [
             [
              0,
              "#0d0887"
             ],
             [
              0.1111111111111111,
              "#46039f"
             ],
             [
              0.2222222222222222,
              "#7201a8"
             ],
             [
              0.3333333333333333,
              "#9c179e"
             ],
             [
              0.4444444444444444,
              "#bd3786"
             ],
             [
              0.5555555555555556,
              "#d8576b"
             ],
             [
              0.6666666666666666,
              "#ed7953"
             ],
             [
              0.7777777777777778,
              "#fb9f3a"
             ],
             [
              0.8888888888888888,
              "#fdca26"
             ],
             [
              1,
              "#f0f921"
             ]
            ],
            "type": "histogram2d"
           }
          ],
          "histogram2dcontour": [
           {
            "colorbar": {
             "outlinewidth": 0,
             "ticks": ""
            },
            "colorscale": [
             [
              0,
              "#0d0887"
             ],
             [
              0.1111111111111111,
              "#46039f"
             ],
             [
              0.2222222222222222,
              "#7201a8"
             ],
             [
              0.3333333333333333,
              "#9c179e"
             ],
             [
              0.4444444444444444,
              "#bd3786"
             ],
             [
              0.5555555555555556,
              "#d8576b"
             ],
             [
              0.6666666666666666,
              "#ed7953"
             ],
             [
              0.7777777777777778,
              "#fb9f3a"
             ],
             [
              0.8888888888888888,
              "#fdca26"
             ],
             [
              1,
              "#f0f921"
             ]
            ],
            "type": "histogram2dcontour"
           }
          ],
          "mesh3d": [
           {
            "colorbar": {
             "outlinewidth": 0,
             "ticks": ""
            },
            "type": "mesh3d"
           }
          ],
          "parcoords": [
           {
            "line": {
             "colorbar": {
              "outlinewidth": 0,
              "ticks": ""
             }
            },
            "type": "parcoords"
           }
          ],
          "pie": [
           {
            "automargin": true,
            "type": "pie"
           }
          ],
          "scatter": [
           {
            "fillpattern": {
             "fillmode": "overlay",
             "size": 10,
             "solidity": 0.2
            },
            "type": "scatter"
           }
          ],
          "scatter3d": [
           {
            "line": {
             "colorbar": {
              "outlinewidth": 0,
              "ticks": ""
             }
            },
            "marker": {
             "colorbar": {
              "outlinewidth": 0,
              "ticks": ""
             }
            },
            "type": "scatter3d"
           }
          ],
          "scattercarpet": [
           {
            "marker": {
             "colorbar": {
              "outlinewidth": 0,
              "ticks": ""
             }
            },
            "type": "scattercarpet"
           }
          ],
          "scattergeo": [
           {
            "marker": {
             "colorbar": {
              "outlinewidth": 0,
              "ticks": ""
             }
            },
            "type": "scattergeo"
           }
          ],
          "scattergl": [
           {
            "marker": {
             "colorbar": {
              "outlinewidth": 0,
              "ticks": ""
             }
            },
            "type": "scattergl"
           }
          ],
          "scattermapbox": [
           {
            "marker": {
             "colorbar": {
              "outlinewidth": 0,
              "ticks": ""
             }
            },
            "type": "scattermapbox"
           }
          ],
          "scatterpolar": [
           {
            "marker": {
             "colorbar": {
              "outlinewidth": 0,
              "ticks": ""
             }
            },
            "type": "scatterpolar"
           }
          ],
          "scatterpolargl": [
           {
            "marker": {
             "colorbar": {
              "outlinewidth": 0,
              "ticks": ""
             }
            },
            "type": "scatterpolargl"
           }
          ],
          "scatterternary": [
           {
            "marker": {
             "colorbar": {
              "outlinewidth": 0,
              "ticks": ""
             }
            },
            "type": "scatterternary"
           }
          ],
          "surface": [
           {
            "colorbar": {
             "outlinewidth": 0,
             "ticks": ""
            },
            "colorscale": [
             [
              0,
              "#0d0887"
             ],
             [
              0.1111111111111111,
              "#46039f"
             ],
             [
              0.2222222222222222,
              "#7201a8"
             ],
             [
              0.3333333333333333,
              "#9c179e"
             ],
             [
              0.4444444444444444,
              "#bd3786"
             ],
             [
              0.5555555555555556,
              "#d8576b"
             ],
             [
              0.6666666666666666,
              "#ed7953"
             ],
             [
              0.7777777777777778,
              "#fb9f3a"
             ],
             [
              0.8888888888888888,
              "#fdca26"
             ],
             [
              1,
              "#f0f921"
             ]
            ],
            "type": "surface"
           }
          ],
          "table": [
           {
            "cells": {
             "fill": {
              "color": "#EBF0F8"
             },
             "line": {
              "color": "white"
             }
            },
            "header": {
             "fill": {
              "color": "#C8D4E3"
             },
             "line": {
              "color": "white"
             }
            },
            "type": "table"
           }
          ]
         },
         "layout": {
          "annotationdefaults": {
           "arrowcolor": "#2a3f5f",
           "arrowhead": 0,
           "arrowwidth": 1
          },
          "autotypenumbers": "strict",
          "coloraxis": {
           "colorbar": {
            "outlinewidth": 0,
            "ticks": ""
           }
          },
          "colorscale": {
           "diverging": [
            [
             0,
             "#8e0152"
            ],
            [
             0.1,
             "#c51b7d"
            ],
            [
             0.2,
             "#de77ae"
            ],
            [
             0.3,
             "#f1b6da"
            ],
            [
             0.4,
             "#fde0ef"
            ],
            [
             0.5,
             "#f7f7f7"
            ],
            [
             0.6,
             "#e6f5d0"
            ],
            [
             0.7,
             "#b8e186"
            ],
            [
             0.8,
             "#7fbc41"
            ],
            [
             0.9,
             "#4d9221"
            ],
            [
             1,
             "#276419"
            ]
           ],
           "sequential": [
            [
             0,
             "#0d0887"
            ],
            [
             0.1111111111111111,
             "#46039f"
            ],
            [
             0.2222222222222222,
             "#7201a8"
            ],
            [
             0.3333333333333333,
             "#9c179e"
            ],
            [
             0.4444444444444444,
             "#bd3786"
            ],
            [
             0.5555555555555556,
             "#d8576b"
            ],
            [
             0.6666666666666666,
             "#ed7953"
            ],
            [
             0.7777777777777778,
             "#fb9f3a"
            ],
            [
             0.8888888888888888,
             "#fdca26"
            ],
            [
             1,
             "#f0f921"
            ]
           ],
           "sequentialminus": [
            [
             0,
             "#0d0887"
            ],
            [
             0.1111111111111111,
             "#46039f"
            ],
            [
             0.2222222222222222,
             "#7201a8"
            ],
            [
             0.3333333333333333,
             "#9c179e"
            ],
            [
             0.4444444444444444,
             "#bd3786"
            ],
            [
             0.5555555555555556,
             "#d8576b"
            ],
            [
             0.6666666666666666,
             "#ed7953"
            ],
            [
             0.7777777777777778,
             "#fb9f3a"
            ],
            [
             0.8888888888888888,
             "#fdca26"
            ],
            [
             1,
             "#f0f921"
            ]
           ]
          },
          "colorway": [
           "#636efa",
           "#EF553B",
           "#00cc96",
           "#ab63fa",
           "#FFA15A",
           "#19d3f3",
           "#FF6692",
           "#B6E880",
           "#FF97FF",
           "#FECB52"
          ],
          "font": {
           "color": "#2a3f5f"
          },
          "geo": {
           "bgcolor": "white",
           "lakecolor": "white",
           "landcolor": "#E5ECF6",
           "showlakes": true,
           "showland": true,
           "subunitcolor": "white"
          },
          "hoverlabel": {
           "align": "left"
          },
          "hovermode": "closest",
          "mapbox": {
           "style": "light"
          },
          "paper_bgcolor": "white",
          "plot_bgcolor": "#E5ECF6",
          "polar": {
           "angularaxis": {
            "gridcolor": "white",
            "linecolor": "white",
            "ticks": ""
           },
           "bgcolor": "#E5ECF6",
           "radialaxis": {
            "gridcolor": "white",
            "linecolor": "white",
            "ticks": ""
           }
          },
          "scene": {
           "xaxis": {
            "backgroundcolor": "#E5ECF6",
            "gridcolor": "white",
            "gridwidth": 2,
            "linecolor": "white",
            "showbackground": true,
            "ticks": "",
            "zerolinecolor": "white"
           },
           "yaxis": {
            "backgroundcolor": "#E5ECF6",
            "gridcolor": "white",
            "gridwidth": 2,
            "linecolor": "white",
            "showbackground": true,
            "ticks": "",
            "zerolinecolor": "white"
           },
           "zaxis": {
            "backgroundcolor": "#E5ECF6",
            "gridcolor": "white",
            "gridwidth": 2,
            "linecolor": "white",
            "showbackground": true,
            "ticks": "",
            "zerolinecolor": "white"
           }
          },
          "shapedefaults": {
           "line": {
            "color": "#2a3f5f"
           }
          },
          "ternary": {
           "aaxis": {
            "gridcolor": "white",
            "linecolor": "white",
            "ticks": ""
           },
           "baxis": {
            "gridcolor": "white",
            "linecolor": "white",
            "ticks": ""
           },
           "bgcolor": "#E5ECF6",
           "caxis": {
            "gridcolor": "white",
            "linecolor": "white",
            "ticks": ""
           }
          },
          "title": {
           "x": 0.05
          },
          "xaxis": {
           "automargin": true,
           "gridcolor": "white",
           "linecolor": "white",
           "ticks": "",
           "title": {
            "standoff": 15
           },
           "zerolinecolor": "white",
           "zerolinewidth": 2
          },
          "yaxis": {
           "automargin": true,
           "gridcolor": "white",
           "linecolor": "white",
           "ticks": "",
           "title": {
            "standoff": 15
           },
           "zerolinecolor": "white",
           "zerolinewidth": 2
          }
         }
        },
        "title": {
         "text": "Linear Model - Best Feature Combinations by Feature Types"
        },
        "width": 1100,
        "xaxis": {
         "anchor": "y",
         "autorange": true,
         "domain": [
          0,
          1
         ],
         "range": [
          -0.5,
          4.5
         ],
         "showticklabels": false,
         "title": {
          "text": "feature combinations"
         },
         "type": "category"
        },
        "yaxis": {
         "anchor": "x",
         "autorange": true,
         "domain": [
          0,
          1
         ],
         "range": [
          0.3529833434870342,
          0.36131711444840553
         ],
         "title": {
          "text": "rmse scores"
         },
         "type": "linear"
        }
       }
      }
     },
     "metadata": {},
     "output_type": "display_data"
    }
   ],
   "source": [
    "fig = px.box(df_metrics[(df_metrics['features'].isin(x)) & (df_metrics['model'] == 'lr')], x='features',\n",
    "             y='rmse_scores', title='RMSE Boxplot of Best Feature Combinations', color='f_str')\n",
    "fig.update_layout(height=800, width=1100,\n",
    "                  title_text=\"Linear Model - Best Feature Combinations by Feature Types\",\n",
    "                  xaxis_title=\"feature combinations\", yaxis_title=\"rmse scores\")\n",
    "fig.update_xaxes(showticklabels=False)\n",
    "fig.show()"
   ]
  },
  {
   "cell_type": "code",
   "execution_count": 124,
   "id": "35326dbd-f387-460a-ba53-dfe233487e90",
   "metadata": {},
   "outputs": [],
   "source": [
    "x_query_f = df_agg_metrics[(df_agg_metrics['query_f_only']==True) & (df_agg_metrics['model'] == 'lr')].sort_values(by='mean_rmse')['features'].head(3).values\n",
    "x_neural_f = df_agg_metrics[(df_agg_metrics['neural_f_only']==True) & (df_agg_metrics['model'] == 'lr')].sort_values(by='mean_rmse')['features'].head(3).values\n",
    "x_keyword_f = df_agg_metrics[(df_agg_metrics['keyword_f_only']==True) & (df_agg_metrics['model'] == 'lr')].sort_values(by='mean_rmse')['features'].head(3).values\n",
    "\n",
    "x_all_f = df_agg_metrics[df_agg_metrics['model'] == 'lr'].sort_values(by='mean_rmse')['features'].head(3).values\n",
    "\n",
    "x = np.concatenate([x_query_f, x_neural_f, x_keyword_f, x_all_f])"
   ]
  },
  {
   "cell_type": "code",
   "execution_count": 125,
   "id": "bff7a10d-6953-46ec-85f7-8e136ed7f4e1",
   "metadata": {},
   "outputs": [
    {
     "data": {
      "application/vnd.plotly.v1+json": {
       "config": {
        "plotlyServerURL": "https://plot.ly"
       },
       "data": [
        {
         "alignmentgroup": "True",
         "hovertemplate": "f_str=q<br>features=%{x}<br>rmse_scores=%{y}<extra></extra>",
         "legendgroup": "q",
         "marker": {
          "color": "#636efa"
         },
         "name": "q",
         "notched": false,
         "offsetgroup": "q",
         "orientation": "v",
         "showlegend": true,
         "type": "box",
         "x": [
          "f_1_num_of_terms,f_3_has_numbers",
          "f_1_num_of_terms,f_3_has_numbers",
          "f_1_num_of_terms,f_3_has_numbers",
          "f_1_num_of_terms,f_3_has_numbers",
          "f_1_num_of_terms,f_3_has_numbers",
          "f_1_num_of_terms,f_3_has_numbers,f_4_has_special_char",
          "f_1_num_of_terms,f_3_has_numbers,f_4_has_special_char",
          "f_1_num_of_terms,f_3_has_numbers,f_4_has_special_char",
          "f_1_num_of_terms,f_3_has_numbers,f_4_has_special_char",
          "f_1_num_of_terms,f_3_has_numbers,f_4_has_special_char",
          "f_1_num_of_terms,f_3_has_numbers",
          "f_1_num_of_terms,f_3_has_numbers",
          "f_1_num_of_terms,f_3_has_numbers",
          "f_1_num_of_terms,f_3_has_numbers",
          "f_1_num_of_terms,f_3_has_numbers",
          "f_1_num_of_terms,f_3_has_numbers,f_4_has_special_char",
          "f_1_num_of_terms,f_3_has_numbers,f_4_has_special_char",
          "f_1_num_of_terms,f_3_has_numbers,f_4_has_special_char",
          "f_1_num_of_terms,f_3_has_numbers,f_4_has_special_char",
          "f_1_num_of_terms,f_3_has_numbers,f_4_has_special_char"
         ],
         "x0": " ",
         "xaxis": "x",
         "y": [
          0.36426738530383673,
          0.3600298470511718,
          0.3602675102762278,
          0.36086650940467796,
          0.3555815003935623,
          0.364427324105755,
          0.360143067623876,
          0.36005833480885985,
          0.3611210853599705,
          0.35545161426705946,
          0.3642724040826158,
          0.36003479397468174,
          0.3602721664801566,
          0.3608723140240664,
          0.35556818482094493,
          0.36441440079175264,
          0.3601346558388696,
          0.3600742007997681,
          0.3611026141433003,
          0.35544096308888107
         ],
         "y0": " ",
         "yaxis": "y"
        },
        {
         "alignmentgroup": "True",
         "hovertemplate": "f_str=k<br>features=%{x}<br>rmse_scores=%{y}<extra></extra>",
         "legendgroup": "k",
         "marker": {
          "color": "#EF553B"
         },
         "name": "k",
         "notched": false,
         "offsetgroup": "k",
         "orientation": "v",
         "showlegend": true,
         "type": "box",
         "x": [
          "f_6_max_title_score,f_7_sum_title_scores",
          "f_6_max_title_score,f_7_sum_title_scores",
          "f_6_max_title_score,f_7_sum_title_scores",
          "f_6_max_title_score,f_7_sum_title_scores",
          "f_6_max_title_score,f_7_sum_title_scores",
          "f_5_num_results,f_6_max_title_score,f_7_sum_title_scores",
          "f_5_num_results,f_6_max_title_score,f_7_sum_title_scores",
          "f_5_num_results,f_6_max_title_score,f_7_sum_title_scores",
          "f_5_num_results,f_6_max_title_score,f_7_sum_title_scores",
          "f_5_num_results,f_6_max_title_score,f_7_sum_title_scores",
          "f_6_max_title_score,f_7_sum_title_scores",
          "f_6_max_title_score,f_7_sum_title_scores",
          "f_6_max_title_score,f_7_sum_title_scores",
          "f_6_max_title_score,f_7_sum_title_scores",
          "f_6_max_title_score,f_7_sum_title_scores",
          "f_5_num_results,f_6_max_title_score,f_7_sum_title_scores",
          "f_5_num_results,f_6_max_title_score,f_7_sum_title_scores",
          "f_5_num_results,f_6_max_title_score,f_7_sum_title_scores",
          "f_5_num_results,f_6_max_title_score,f_7_sum_title_scores",
          "f_5_num_results,f_6_max_title_score,f_7_sum_title_scores"
         ],
         "x0": " ",
         "xaxis": "x",
         "y": [
          0.36306262501467496,
          0.35906149826148137,
          0.35799896324363767,
          0.3639169187505187,
          0.35481762542600787,
          0.3625405291497663,
          0.3586418609106061,
          0.35748851252123925,
          0.36334482054655826,
          0.35453605435044605,
          0.36309069974721475,
          0.3590494943505389,
          0.3580040596002323,
          0.3639100460703985,
          0.3547899405987078,
          0.3625694350104197,
          0.35862981490977247,
          0.3574938783124257,
          0.36333839384742855,
          0.3545084022450716
         ],
         "y0": " ",
         "yaxis": "y"
        },
        {
         "alignmentgroup": "True",
         "hovertemplate": "f_str=n<br>features=%{x}<br>rmse_scores=%{y}<extra></extra>",
         "legendgroup": "n",
         "marker": {
          "color": "#00cc96"
         },
         "name": "n",
         "notched": false,
         "offsetgroup": "n",
         "orientation": "v",
         "showlegend": true,
         "type": "box",
         "x": [
          "f_8_max_semantic_score,f_9_avg_semantic_score",
          "f_8_max_semantic_score,f_9_avg_semantic_score",
          "f_8_max_semantic_score,f_9_avg_semantic_score",
          "f_8_max_semantic_score,f_9_avg_semantic_score",
          "f_8_max_semantic_score,f_9_avg_semantic_score",
          "f_8_max_semantic_score,f_9_avg_semantic_score",
          "f_8_max_semantic_score,f_9_avg_semantic_score",
          "f_8_max_semantic_score,f_9_avg_semantic_score",
          "f_8_max_semantic_score,f_9_avg_semantic_score",
          "f_8_max_semantic_score,f_9_avg_semantic_score"
         ],
         "x0": " ",
         "xaxis": "x",
         "y": [
          0.36508251953563436,
          0.3612568719243584,
          0.36123559005331474,
          0.3638508540063185,
          0.355449388039629,
          0.3651384397942391,
          0.3610472930909169,
          0.361147496708464,
          0.3638686103846105,
          0.35547784626933826
         ],
         "y0": " ",
         "yaxis": "y"
        },
        {
         "alignmentgroup": "True",
         "hovertemplate": "f_str=kq<br>features=%{x}<br>rmse_scores=%{y}<extra></extra>",
         "legendgroup": "kq",
         "marker": {
          "color": "#ab63fa"
         },
         "name": "kq",
         "notched": false,
         "offsetgroup": "kq",
         "orientation": "v",
         "showlegend": true,
         "type": "box",
         "x": [
          "f_1_num_of_terms,f_3_has_numbers,f_5_num_results,f_6_max_title_score,f_7_sum_title_scores",
          "f_1_num_of_terms,f_3_has_numbers,f_5_num_results,f_6_max_title_score,f_7_sum_title_scores",
          "f_1_num_of_terms,f_3_has_numbers,f_5_num_results,f_6_max_title_score,f_7_sum_title_scores",
          "f_1_num_of_terms,f_3_has_numbers,f_5_num_results,f_6_max_title_score,f_7_sum_title_scores",
          "f_1_num_of_terms,f_3_has_numbers,f_5_num_results,f_6_max_title_score,f_7_sum_title_scores",
          "f_1_num_of_terms,f_3_has_numbers,f_5_num_results,f_6_max_title_score,f_7_sum_title_scores",
          "f_1_num_of_terms,f_3_has_numbers,f_5_num_results,f_6_max_title_score,f_7_sum_title_scores",
          "f_1_num_of_terms,f_3_has_numbers,f_5_num_results,f_6_max_title_score,f_7_sum_title_scores",
          "f_1_num_of_terms,f_3_has_numbers,f_5_num_results,f_6_max_title_score,f_7_sum_title_scores",
          "f_1_num_of_terms,f_3_has_numbers,f_5_num_results,f_6_max_title_score,f_7_sum_title_scores"
         ],
         "x0": " ",
         "xaxis": "x",
         "y": [
          0.3608444225789693,
          0.3571782927392644,
          0.3555481433373397,
          0.35942692575668567,
          0.35376391685584613,
          0.36087967240061886,
          0.35717253410187794,
          0.35556122555059566,
          0.35942876826985587,
          0.35372823417131044
         ],
         "y0": " ",
         "yaxis": "y"
        },
        {
         "alignmentgroup": "True",
         "hovertemplate": "f_str=knq<br>features=%{x}<br>rmse_scores=%{y}<extra></extra>",
         "legendgroup": "knq",
         "marker": {
          "color": "#FFA15A"
         },
         "name": "knq",
         "notched": false,
         "offsetgroup": "knq",
         "orientation": "v",
         "showlegend": true,
         "type": "box",
         "x": [
          "f_1_num_of_terms,f_3_has_numbers,f_5_num_results,f_6_max_title_score,f_7_sum_title_scores,f_8_max_semantic_score,f_9_avg_semantic_score",
          "f_1_num_of_terms,f_3_has_numbers,f_5_num_results,f_6_max_title_score,f_7_sum_title_scores,f_8_max_semantic_score,f_9_avg_semantic_score",
          "f_1_num_of_terms,f_3_has_numbers,f_5_num_results,f_6_max_title_score,f_7_sum_title_scores,f_8_max_semantic_score,f_9_avg_semantic_score",
          "f_1_num_of_terms,f_3_has_numbers,f_5_num_results,f_6_max_title_score,f_7_sum_title_scores,f_8_max_semantic_score,f_9_avg_semantic_score",
          "f_1_num_of_terms,f_3_has_numbers,f_5_num_results,f_6_max_title_score,f_7_sum_title_scores,f_8_max_semantic_score,f_9_avg_semantic_score",
          "f_1_num_of_terms,f_3_has_numbers,f_5_num_results,f_6_max_title_score,f_7_sum_title_scores,f_8_max_semantic_score,f_9_avg_semantic_score",
          "f_1_num_of_terms,f_3_has_numbers,f_5_num_results,f_6_max_title_score,f_7_sum_title_scores,f_8_max_semantic_score,f_9_avg_semantic_score",
          "f_1_num_of_terms,f_3_has_numbers,f_5_num_results,f_6_max_title_score,f_7_sum_title_scores,f_8_max_semantic_score,f_9_avg_semantic_score",
          "f_1_num_of_terms,f_3_has_numbers,f_5_num_results,f_6_max_title_score,f_7_sum_title_scores,f_8_max_semantic_score,f_9_avg_semantic_score",
          "f_1_num_of_terms,f_3_has_numbers,f_5_num_results,f_6_max_title_score,f_7_sum_title_scores,f_8_max_semantic_score,f_9_avg_semantic_score"
         ],
         "x0": " ",
         "xaxis": "x",
         "y": [
          0.36054075344858233,
          0.3575995476839125,
          0.3555657060631093,
          0.3595066459440644,
          0.3534366901997857,
          0.36079358534110206,
          0.35733909925629154,
          0.3555463922283543,
          0.3595541712693376,
          0.35361965351668423
         ],
         "y0": " ",
         "yaxis": "y"
        }
       ],
       "layout": {
        "boxmode": "group",
        "height": 800,
        "legend": {
         "title": {
          "text": "f_str"
         },
         "tracegroupgap": 0
        },
        "template": {
         "data": {
          "bar": [
           {
            "error_x": {
             "color": "#2a3f5f"
            },
            "error_y": {
             "color": "#2a3f5f"
            },
            "marker": {
             "line": {
              "color": "#E5ECF6",
              "width": 0.5
             },
             "pattern": {
              "fillmode": "overlay",
              "size": 10,
              "solidity": 0.2
             }
            },
            "type": "bar"
           }
          ],
          "barpolar": [
           {
            "marker": {
             "line": {
              "color": "#E5ECF6",
              "width": 0.5
             },
             "pattern": {
              "fillmode": "overlay",
              "size": 10,
              "solidity": 0.2
             }
            },
            "type": "barpolar"
           }
          ],
          "carpet": [
           {
            "aaxis": {
             "endlinecolor": "#2a3f5f",
             "gridcolor": "white",
             "linecolor": "white",
             "minorgridcolor": "white",
             "startlinecolor": "#2a3f5f"
            },
            "baxis": {
             "endlinecolor": "#2a3f5f",
             "gridcolor": "white",
             "linecolor": "white",
             "minorgridcolor": "white",
             "startlinecolor": "#2a3f5f"
            },
            "type": "carpet"
           }
          ],
          "choropleth": [
           {
            "colorbar": {
             "outlinewidth": 0,
             "ticks": ""
            },
            "type": "choropleth"
           }
          ],
          "contour": [
           {
            "colorbar": {
             "outlinewidth": 0,
             "ticks": ""
            },
            "colorscale": [
             [
              0,
              "#0d0887"
             ],
             [
              0.1111111111111111,
              "#46039f"
             ],
             [
              0.2222222222222222,
              "#7201a8"
             ],
             [
              0.3333333333333333,
              "#9c179e"
             ],
             [
              0.4444444444444444,
              "#bd3786"
             ],
             [
              0.5555555555555556,
              "#d8576b"
             ],
             [
              0.6666666666666666,
              "#ed7953"
             ],
             [
              0.7777777777777778,
              "#fb9f3a"
             ],
             [
              0.8888888888888888,
              "#fdca26"
             ],
             [
              1,
              "#f0f921"
             ]
            ],
            "type": "contour"
           }
          ],
          "contourcarpet": [
           {
            "colorbar": {
             "outlinewidth": 0,
             "ticks": ""
            },
            "type": "contourcarpet"
           }
          ],
          "heatmap": [
           {
            "colorbar": {
             "outlinewidth": 0,
             "ticks": ""
            },
            "colorscale": [
             [
              0,
              "#0d0887"
             ],
             [
              0.1111111111111111,
              "#46039f"
             ],
             [
              0.2222222222222222,
              "#7201a8"
             ],
             [
              0.3333333333333333,
              "#9c179e"
             ],
             [
              0.4444444444444444,
              "#bd3786"
             ],
             [
              0.5555555555555556,
              "#d8576b"
             ],
             [
              0.6666666666666666,
              "#ed7953"
             ],
             [
              0.7777777777777778,
              "#fb9f3a"
             ],
             [
              0.8888888888888888,
              "#fdca26"
             ],
             [
              1,
              "#f0f921"
             ]
            ],
            "type": "heatmap"
           }
          ],
          "heatmapgl": [
           {
            "colorbar": {
             "outlinewidth": 0,
             "ticks": ""
            },
            "colorscale": [
             [
              0,
              "#0d0887"
             ],
             [
              0.1111111111111111,
              "#46039f"
             ],
             [
              0.2222222222222222,
              "#7201a8"
             ],
             [
              0.3333333333333333,
              "#9c179e"
             ],
             [
              0.4444444444444444,
              "#bd3786"
             ],
             [
              0.5555555555555556,
              "#d8576b"
             ],
             [
              0.6666666666666666,
              "#ed7953"
             ],
             [
              0.7777777777777778,
              "#fb9f3a"
             ],
             [
              0.8888888888888888,
              "#fdca26"
             ],
             [
              1,
              "#f0f921"
             ]
            ],
            "type": "heatmapgl"
           }
          ],
          "histogram": [
           {
            "marker": {
             "pattern": {
              "fillmode": "overlay",
              "size": 10,
              "solidity": 0.2
             }
            },
            "type": "histogram"
           }
          ],
          "histogram2d": [
           {
            "colorbar": {
             "outlinewidth": 0,
             "ticks": ""
            },
            "colorscale": [
             [
              0,
              "#0d0887"
             ],
             [
              0.1111111111111111,
              "#46039f"
             ],
             [
              0.2222222222222222,
              "#7201a8"
             ],
             [
              0.3333333333333333,
              "#9c179e"
             ],
             [
              0.4444444444444444,
              "#bd3786"
             ],
             [
              0.5555555555555556,
              "#d8576b"
             ],
             [
              0.6666666666666666,
              "#ed7953"
             ],
             [
              0.7777777777777778,
              "#fb9f3a"
             ],
             [
              0.8888888888888888,
              "#fdca26"
             ],
             [
              1,
              "#f0f921"
             ]
            ],
            "type": "histogram2d"
           }
          ],
          "histogram2dcontour": [
           {
            "colorbar": {
             "outlinewidth": 0,
             "ticks": ""
            },
            "colorscale": [
             [
              0,
              "#0d0887"
             ],
             [
              0.1111111111111111,
              "#46039f"
             ],
             [
              0.2222222222222222,
              "#7201a8"
             ],
             [
              0.3333333333333333,
              "#9c179e"
             ],
             [
              0.4444444444444444,
              "#bd3786"
             ],
             [
              0.5555555555555556,
              "#d8576b"
             ],
             [
              0.6666666666666666,
              "#ed7953"
             ],
             [
              0.7777777777777778,
              "#fb9f3a"
             ],
             [
              0.8888888888888888,
              "#fdca26"
             ],
             [
              1,
              "#f0f921"
             ]
            ],
            "type": "histogram2dcontour"
           }
          ],
          "mesh3d": [
           {
            "colorbar": {
             "outlinewidth": 0,
             "ticks": ""
            },
            "type": "mesh3d"
           }
          ],
          "parcoords": [
           {
            "line": {
             "colorbar": {
              "outlinewidth": 0,
              "ticks": ""
             }
            },
            "type": "parcoords"
           }
          ],
          "pie": [
           {
            "automargin": true,
            "type": "pie"
           }
          ],
          "scatter": [
           {
            "fillpattern": {
             "fillmode": "overlay",
             "size": 10,
             "solidity": 0.2
            },
            "type": "scatter"
           }
          ],
          "scatter3d": [
           {
            "line": {
             "colorbar": {
              "outlinewidth": 0,
              "ticks": ""
             }
            },
            "marker": {
             "colorbar": {
              "outlinewidth": 0,
              "ticks": ""
             }
            },
            "type": "scatter3d"
           }
          ],
          "scattercarpet": [
           {
            "marker": {
             "colorbar": {
              "outlinewidth": 0,
              "ticks": ""
             }
            },
            "type": "scattercarpet"
           }
          ],
          "scattergeo": [
           {
            "marker": {
             "colorbar": {
              "outlinewidth": 0,
              "ticks": ""
             }
            },
            "type": "scattergeo"
           }
          ],
          "scattergl": [
           {
            "marker": {
             "colorbar": {
              "outlinewidth": 0,
              "ticks": ""
             }
            },
            "type": "scattergl"
           }
          ],
          "scattermapbox": [
           {
            "marker": {
             "colorbar": {
              "outlinewidth": 0,
              "ticks": ""
             }
            },
            "type": "scattermapbox"
           }
          ],
          "scatterpolar": [
           {
            "marker": {
             "colorbar": {
              "outlinewidth": 0,
              "ticks": ""
             }
            },
            "type": "scatterpolar"
           }
          ],
          "scatterpolargl": [
           {
            "marker": {
             "colorbar": {
              "outlinewidth": 0,
              "ticks": ""
             }
            },
            "type": "scatterpolargl"
           }
          ],
          "scatterternary": [
           {
            "marker": {
             "colorbar": {
              "outlinewidth": 0,
              "ticks": ""
             }
            },
            "type": "scatterternary"
           }
          ],
          "surface": [
           {
            "colorbar": {
             "outlinewidth": 0,
             "ticks": ""
            },
            "colorscale": [
             [
              0,
              "#0d0887"
             ],
             [
              0.1111111111111111,
              "#46039f"
             ],
             [
              0.2222222222222222,
              "#7201a8"
             ],
             [
              0.3333333333333333,
              "#9c179e"
             ],
             [
              0.4444444444444444,
              "#bd3786"
             ],
             [
              0.5555555555555556,
              "#d8576b"
             ],
             [
              0.6666666666666666,
              "#ed7953"
             ],
             [
              0.7777777777777778,
              "#fb9f3a"
             ],
             [
              0.8888888888888888,
              "#fdca26"
             ],
             [
              1,
              "#f0f921"
             ]
            ],
            "type": "surface"
           }
          ],
          "table": [
           {
            "cells": {
             "fill": {
              "color": "#EBF0F8"
             },
             "line": {
              "color": "white"
             }
            },
            "header": {
             "fill": {
              "color": "#C8D4E3"
             },
             "line": {
              "color": "white"
             }
            },
            "type": "table"
           }
          ]
         },
         "layout": {
          "annotationdefaults": {
           "arrowcolor": "#2a3f5f",
           "arrowhead": 0,
           "arrowwidth": 1
          },
          "autotypenumbers": "strict",
          "coloraxis": {
           "colorbar": {
            "outlinewidth": 0,
            "ticks": ""
           }
          },
          "colorscale": {
           "diverging": [
            [
             0,
             "#8e0152"
            ],
            [
             0.1,
             "#c51b7d"
            ],
            [
             0.2,
             "#de77ae"
            ],
            [
             0.3,
             "#f1b6da"
            ],
            [
             0.4,
             "#fde0ef"
            ],
            [
             0.5,
             "#f7f7f7"
            ],
            [
             0.6,
             "#e6f5d0"
            ],
            [
             0.7,
             "#b8e186"
            ],
            [
             0.8,
             "#7fbc41"
            ],
            [
             0.9,
             "#4d9221"
            ],
            [
             1,
             "#276419"
            ]
           ],
           "sequential": [
            [
             0,
             "#0d0887"
            ],
            [
             0.1111111111111111,
             "#46039f"
            ],
            [
             0.2222222222222222,
             "#7201a8"
            ],
            [
             0.3333333333333333,
             "#9c179e"
            ],
            [
             0.4444444444444444,
             "#bd3786"
            ],
            [
             0.5555555555555556,
             "#d8576b"
            ],
            [
             0.6666666666666666,
             "#ed7953"
            ],
            [
             0.7777777777777778,
             "#fb9f3a"
            ],
            [
             0.8888888888888888,
             "#fdca26"
            ],
            [
             1,
             "#f0f921"
            ]
           ],
           "sequentialminus": [
            [
             0,
             "#0d0887"
            ],
            [
             0.1111111111111111,
             "#46039f"
            ],
            [
             0.2222222222222222,
             "#7201a8"
            ],
            [
             0.3333333333333333,
             "#9c179e"
            ],
            [
             0.4444444444444444,
             "#bd3786"
            ],
            [
             0.5555555555555556,
             "#d8576b"
            ],
            [
             0.6666666666666666,
             "#ed7953"
            ],
            [
             0.7777777777777778,
             "#fb9f3a"
            ],
            [
             0.8888888888888888,
             "#fdca26"
            ],
            [
             1,
             "#f0f921"
            ]
           ]
          },
          "colorway": [
           "#636efa",
           "#EF553B",
           "#00cc96",
           "#ab63fa",
           "#FFA15A",
           "#19d3f3",
           "#FF6692",
           "#B6E880",
           "#FF97FF",
           "#FECB52"
          ],
          "font": {
           "color": "#2a3f5f"
          },
          "geo": {
           "bgcolor": "white",
           "lakecolor": "white",
           "landcolor": "#E5ECF6",
           "showlakes": true,
           "showland": true,
           "subunitcolor": "white"
          },
          "hoverlabel": {
           "align": "left"
          },
          "hovermode": "closest",
          "mapbox": {
           "style": "light"
          },
          "paper_bgcolor": "white",
          "plot_bgcolor": "#E5ECF6",
          "polar": {
           "angularaxis": {
            "gridcolor": "white",
            "linecolor": "white",
            "ticks": ""
           },
           "bgcolor": "#E5ECF6",
           "radialaxis": {
            "gridcolor": "white",
            "linecolor": "white",
            "ticks": ""
           }
          },
          "scene": {
           "xaxis": {
            "backgroundcolor": "#E5ECF6",
            "gridcolor": "white",
            "gridwidth": 2,
            "linecolor": "white",
            "showbackground": true,
            "ticks": "",
            "zerolinecolor": "white"
           },
           "yaxis": {
            "backgroundcolor": "#E5ECF6",
            "gridcolor": "white",
            "gridwidth": 2,
            "linecolor": "white",
            "showbackground": true,
            "ticks": "",
            "zerolinecolor": "white"
           },
           "zaxis": {
            "backgroundcolor": "#E5ECF6",
            "gridcolor": "white",
            "gridwidth": 2,
            "linecolor": "white",
            "showbackground": true,
            "ticks": "",
            "zerolinecolor": "white"
           }
          },
          "shapedefaults": {
           "line": {
            "color": "#2a3f5f"
           }
          },
          "ternary": {
           "aaxis": {
            "gridcolor": "white",
            "linecolor": "white",
            "ticks": ""
           },
           "baxis": {
            "gridcolor": "white",
            "linecolor": "white",
            "ticks": ""
           },
           "bgcolor": "#E5ECF6",
           "caxis": {
            "gridcolor": "white",
            "linecolor": "white",
            "ticks": ""
           }
          },
          "title": {
           "x": 0.05
          },
          "xaxis": {
           "automargin": true,
           "gridcolor": "white",
           "linecolor": "white",
           "ticks": "",
           "title": {
            "standoff": 15
           },
           "zerolinecolor": "white",
           "zerolinewidth": 2
          },
          "yaxis": {
           "automargin": true,
           "gridcolor": "white",
           "linecolor": "white",
           "ticks": "",
           "title": {
            "standoff": 15
           },
           "zerolinecolor": "white",
           "zerolinewidth": 2
          }
         }
        },
        "title": {
         "text": "Linear Model - Best Feature Combinations within Feature Groups"
        },
        "width": 1100,
        "xaxis": {
         "anchor": "y",
         "autorange": true,
         "domain": [
          0,
          1
         ],
         "range": [
          -0.5229257641921398,
          6.52292576419214
         ],
         "showticklabels": false,
         "title": {
          "text": "feature combinations"
         },
         "type": "category"
        },
        "yaxis": {
         "anchor": "x",
         "autorange": true,
         "domain": [
          0,
          1
         ],
         "range": [
          0.35278659300009385,
          0.36578853699393094
         ],
         "title": {
          "text": "rmse scores"
         },
         "type": "linear"
        }
       }
      }
     },
     "metadata": {},
     "output_type": "display_data"
    }
   ],
   "source": [
    "fig = px.box(df_metrics[(df_metrics['features'].isin(x)) & (df_metrics['model'] == 'lr')], x='features',\n",
    "             y='rmse_scores', title='RMSE Boxplot of Best Feature Combinations', color='f_str')\n",
    "fig.update_layout(height=800, width=1100,\n",
    "                  title_text=\"Linear Model - Best Feature Combinations within Feature Groups\",\n",
    "                  xaxis_title=\"feature combinations\", yaxis_title=\"rmse scores\")\n",
    "fig.update_xaxes(showticklabels=False)\n",
    "fig.show()"
   ]
  },
  {
   "cell_type": "markdown",
   "id": "1cc7b8a5-4d4e-4ec5-a115-2d1f5a40ef5a",
   "metadata": {},
   "source": [
    "### Random Forest Model: Best Feature Combination Grouped by Feature types "
   ]
  },
  {
   "cell_type": "code",
   "execution_count": 126,
   "id": "300ee6b8-5444-4bf6-8a99-5c44eb8f4004",
   "metadata": {},
   "outputs": [],
   "source": [
    "# Select the best three models that contain query features, neural features, keyword features and the best overall feature combinations\n",
    "x_query_f = df_agg_metrics[(df_agg_metrics['query_f']==True) & (df_agg_metrics['model'] == 'rf')].sort_values(by='mean_rmse')['features'].head(5).values\n",
    "x_neural_f = df_agg_metrics[(df_agg_metrics['neural_f']==True) & (df_agg_metrics['model'] == 'rf')].sort_values(by='mean_rmse')['features'].head(5).values\n",
    "x_keyword_f = df_agg_metrics[(df_agg_metrics['keyword_f']==True) & (df_agg_metrics['model'] == 'rf')].sort_values(by='mean_rmse')['features'].head(5).values\n",
    "\n",
    "x_all_f = df_agg_metrics[df_agg_metrics['model'] == 'rf'].sort_values(by='mean_rmse')['features'].head(5).values\n",
    "\n",
    "x = np.concatenate([x_query_f, x_neural_f, x_keyword_f, x_all_f])"
   ]
  },
  {
   "cell_type": "code",
   "execution_count": 127,
   "id": "62b6828d-8cc3-412b-83bc-583bbf6c35df",
   "metadata": {},
   "outputs": [
    {
     "data": {
      "application/vnd.plotly.v1+json": {
       "config": {
        "plotlyServerURL": "https://plot.ly"
       },
       "data": [
        {
         "alignmentgroup": "True",
         "hovertemplate": "f_str=knq<br>features=%{x}<br>rmse_scores=%{y}<extra></extra>",
         "legendgroup": "knq",
         "marker": {
          "color": "#636efa"
         },
         "name": "knq",
         "notched": false,
         "offsetgroup": "knq",
         "orientation": "v",
         "showlegend": true,
         "type": "box",
         "x": [
          "f_1_num_of_terms,f_5_num_results,f_6_max_title_score,f_9_avg_semantic_score",
          "f_1_num_of_terms,f_5_num_results,f_6_max_title_score,f_9_avg_semantic_score",
          "f_1_num_of_terms,f_5_num_results,f_6_max_title_score,f_9_avg_semantic_score",
          "f_1_num_of_terms,f_5_num_results,f_6_max_title_score,f_9_avg_semantic_score",
          "f_1_num_of_terms,f_5_num_results,f_6_max_title_score,f_9_avg_semantic_score",
          "f_1_num_of_terms,f_5_num_results,f_7_sum_title_scores,f_9_avg_semantic_score",
          "f_1_num_of_terms,f_5_num_results,f_7_sum_title_scores,f_9_avg_semantic_score",
          "f_1_num_of_terms,f_5_num_results,f_7_sum_title_scores,f_9_avg_semantic_score",
          "f_1_num_of_terms,f_5_num_results,f_7_sum_title_scores,f_9_avg_semantic_score",
          "f_1_num_of_terms,f_5_num_results,f_7_sum_title_scores,f_9_avg_semantic_score",
          "f_1_num_of_terms,f_5_num_results,f_6_max_title_score,f_7_sum_title_scores,f_9_avg_semantic_score",
          "f_1_num_of_terms,f_5_num_results,f_6_max_title_score,f_7_sum_title_scores,f_9_avg_semantic_score",
          "f_1_num_of_terms,f_5_num_results,f_6_max_title_score,f_7_sum_title_scores,f_9_avg_semantic_score",
          "f_1_num_of_terms,f_5_num_results,f_6_max_title_score,f_7_sum_title_scores,f_9_avg_semantic_score",
          "f_1_num_of_terms,f_5_num_results,f_6_max_title_score,f_7_sum_title_scores,f_9_avg_semantic_score",
          "f_1_num_of_terms,f_4_has_special_char,f_5_num_results,f_6_max_title_score,f_7_sum_title_scores,f_9_avg_semantic_score",
          "f_1_num_of_terms,f_4_has_special_char,f_5_num_results,f_6_max_title_score,f_7_sum_title_scores,f_9_avg_semantic_score",
          "f_1_num_of_terms,f_4_has_special_char,f_5_num_results,f_6_max_title_score,f_7_sum_title_scores,f_9_avg_semantic_score",
          "f_1_num_of_terms,f_4_has_special_char,f_5_num_results,f_6_max_title_score,f_7_sum_title_scores,f_9_avg_semantic_score",
          "f_1_num_of_terms,f_4_has_special_char,f_5_num_results,f_6_max_title_score,f_7_sum_title_scores,f_9_avg_semantic_score",
          "f_1_num_of_terms,f_3_has_numbers,f_4_has_special_char,f_5_num_results,f_6_max_title_score,f_7_sum_title_scores,f_8_max_semantic_score,f_9_avg_semantic_score",
          "f_1_num_of_terms,f_3_has_numbers,f_4_has_special_char,f_5_num_results,f_6_max_title_score,f_7_sum_title_scores,f_8_max_semantic_score,f_9_avg_semantic_score",
          "f_1_num_of_terms,f_3_has_numbers,f_4_has_special_char,f_5_num_results,f_6_max_title_score,f_7_sum_title_scores,f_8_max_semantic_score,f_9_avg_semantic_score",
          "f_1_num_of_terms,f_3_has_numbers,f_4_has_special_char,f_5_num_results,f_6_max_title_score,f_7_sum_title_scores,f_8_max_semantic_score,f_9_avg_semantic_score",
          "f_1_num_of_terms,f_3_has_numbers,f_4_has_special_char,f_5_num_results,f_6_max_title_score,f_7_sum_title_scores,f_8_max_semantic_score,f_9_avg_semantic_score",
          "f_1_num_of_terms,f_5_num_results,f_6_max_title_score,f_9_avg_semantic_score",
          "f_1_num_of_terms,f_5_num_results,f_6_max_title_score,f_9_avg_semantic_score",
          "f_1_num_of_terms,f_5_num_results,f_6_max_title_score,f_9_avg_semantic_score",
          "f_1_num_of_terms,f_5_num_results,f_6_max_title_score,f_9_avg_semantic_score",
          "f_1_num_of_terms,f_5_num_results,f_6_max_title_score,f_9_avg_semantic_score",
          "f_1_num_of_terms,f_5_num_results,f_7_sum_title_scores,f_9_avg_semantic_score",
          "f_1_num_of_terms,f_5_num_results,f_7_sum_title_scores,f_9_avg_semantic_score",
          "f_1_num_of_terms,f_5_num_results,f_7_sum_title_scores,f_9_avg_semantic_score",
          "f_1_num_of_terms,f_5_num_results,f_7_sum_title_scores,f_9_avg_semantic_score",
          "f_1_num_of_terms,f_5_num_results,f_7_sum_title_scores,f_9_avg_semantic_score",
          "f_1_num_of_terms,f_5_num_results,f_6_max_title_score,f_7_sum_title_scores,f_9_avg_semantic_score",
          "f_1_num_of_terms,f_5_num_results,f_6_max_title_score,f_7_sum_title_scores,f_9_avg_semantic_score",
          "f_1_num_of_terms,f_5_num_results,f_6_max_title_score,f_7_sum_title_scores,f_9_avg_semantic_score",
          "f_1_num_of_terms,f_5_num_results,f_6_max_title_score,f_7_sum_title_scores,f_9_avg_semantic_score",
          "f_1_num_of_terms,f_5_num_results,f_6_max_title_score,f_7_sum_title_scores,f_9_avg_semantic_score",
          "f_1_num_of_terms,f_4_has_special_char,f_5_num_results,f_6_max_title_score,f_7_sum_title_scores,f_9_avg_semantic_score",
          "f_1_num_of_terms,f_4_has_special_char,f_5_num_results,f_6_max_title_score,f_7_sum_title_scores,f_9_avg_semantic_score",
          "f_1_num_of_terms,f_4_has_special_char,f_5_num_results,f_6_max_title_score,f_7_sum_title_scores,f_9_avg_semantic_score",
          "f_1_num_of_terms,f_4_has_special_char,f_5_num_results,f_6_max_title_score,f_7_sum_title_scores,f_9_avg_semantic_score",
          "f_1_num_of_terms,f_4_has_special_char,f_5_num_results,f_6_max_title_score,f_7_sum_title_scores,f_9_avg_semantic_score",
          "f_1_num_of_terms,f_3_has_numbers,f_4_has_special_char,f_5_num_results,f_6_max_title_score,f_7_sum_title_scores,f_8_max_semantic_score,f_9_avg_semantic_score",
          "f_1_num_of_terms,f_3_has_numbers,f_4_has_special_char,f_5_num_results,f_6_max_title_score,f_7_sum_title_scores,f_8_max_semantic_score,f_9_avg_semantic_score",
          "f_1_num_of_terms,f_3_has_numbers,f_4_has_special_char,f_5_num_results,f_6_max_title_score,f_7_sum_title_scores,f_8_max_semantic_score,f_9_avg_semantic_score",
          "f_1_num_of_terms,f_3_has_numbers,f_4_has_special_char,f_5_num_results,f_6_max_title_score,f_7_sum_title_scores,f_8_max_semantic_score,f_9_avg_semantic_score",
          "f_1_num_of_terms,f_3_has_numbers,f_4_has_special_char,f_5_num_results,f_6_max_title_score,f_7_sum_title_scores,f_8_max_semantic_score,f_9_avg_semantic_score"
         ],
         "x0": " ",
         "xaxis": "x",
         "y": [
          0.3780404753462253,
          0.36980103839767675,
          0.37110158582253455,
          0.3693170264149759,
          0.3667520524823276,
          0.3779794835702065,
          0.36947698710474514,
          0.3755159211005573,
          0.37045369616188206,
          0.37138195836631593,
          0.3749845863498925,
          0.36521774327105194,
          0.36940252435520793,
          0.3672947753508073,
          0.3673616664814118,
          0.3739168236386269,
          0.3655205835517338,
          0.36916163939391106,
          0.3672249392402428,
          0.36646031572327176,
          0.3643946775132699,
          0.36377470775192716,
          0.3602966042027041,
          0.35438176307479485,
          0.359478872814523,
          0.35148913087740524,
          0.3495244862825814,
          0.3457009094819266,
          0.3473795362593996,
          0.3418382933704195,
          0.3522970830716034,
          0.34863431185654414,
          0.34558542340667925,
          0.34809688797871297,
          0.34241303584117383,
          0.35208202655682935,
          0.348955392164589,
          0.34601399424237256,
          0.34722335810645427,
          0.34158846403850607,
          0.35251939689977985,
          0.34838014123912386,
          0.3464761582533539,
          0.347299901286274,
          0.3419801266485877,
          0.3517442221238433,
          0.3490193294433211,
          0.3457007441428164,
          0.34737752102435426,
          0.34236429804814744
         ],
         "y0": " ",
         "yaxis": "y"
        },
        {
         "alignmentgroup": "True",
         "hovertemplate": "f_str=kn<br>features=%{x}<br>rmse_scores=%{y}<extra></extra>",
         "legendgroup": "kn",
         "marker": {
          "color": "#EF553B"
         },
         "name": "kn",
         "notched": false,
         "offsetgroup": "kn",
         "orientation": "v",
         "showlegend": true,
         "type": "box",
         "x": [
          "f_5_num_results,f_6_max_title_score,f_7_sum_title_scores,f_9_avg_semantic_score",
          "f_5_num_results,f_6_max_title_score,f_7_sum_title_scores,f_9_avg_semantic_score",
          "f_5_num_results,f_6_max_title_score,f_7_sum_title_scores,f_9_avg_semantic_score",
          "f_5_num_results,f_6_max_title_score,f_7_sum_title_scores,f_9_avg_semantic_score",
          "f_5_num_results,f_6_max_title_score,f_7_sum_title_scores,f_9_avg_semantic_score",
          "f_5_num_results,f_6_max_title_score,f_7_sum_title_scores,f_9_avg_semantic_score",
          "f_5_num_results,f_6_max_title_score,f_7_sum_title_scores,f_9_avg_semantic_score",
          "f_5_num_results,f_6_max_title_score,f_7_sum_title_scores,f_9_avg_semantic_score",
          "f_5_num_results,f_6_max_title_score,f_7_sum_title_scores,f_9_avg_semantic_score",
          "f_5_num_results,f_6_max_title_score,f_7_sum_title_scores,f_9_avg_semantic_score"
         ],
         "x0": " ",
         "xaxis": "x",
         "y": [
          0.3769810844061012,
          0.37058137028188565,
          0.3723562084885923,
          0.3708852329225309,
          0.3649211819009689,
          0.35112021373069735,
          0.3492209858847402,
          0.34535116255351056,
          0.3473545009722272,
          0.3427030058616811
         ],
         "y0": " ",
         "yaxis": "y"
        }
       ],
       "layout": {
        "boxmode": "group",
        "height": 800,
        "legend": {
         "title": {
          "text": "f_str"
         },
         "tracegroupgap": 0
        },
        "template": {
         "data": {
          "bar": [
           {
            "error_x": {
             "color": "#2a3f5f"
            },
            "error_y": {
             "color": "#2a3f5f"
            },
            "marker": {
             "line": {
              "color": "#E5ECF6",
              "width": 0.5
             },
             "pattern": {
              "fillmode": "overlay",
              "size": 10,
              "solidity": 0.2
             }
            },
            "type": "bar"
           }
          ],
          "barpolar": [
           {
            "marker": {
             "line": {
              "color": "#E5ECF6",
              "width": 0.5
             },
             "pattern": {
              "fillmode": "overlay",
              "size": 10,
              "solidity": 0.2
             }
            },
            "type": "barpolar"
           }
          ],
          "carpet": [
           {
            "aaxis": {
             "endlinecolor": "#2a3f5f",
             "gridcolor": "white",
             "linecolor": "white",
             "minorgridcolor": "white",
             "startlinecolor": "#2a3f5f"
            },
            "baxis": {
             "endlinecolor": "#2a3f5f",
             "gridcolor": "white",
             "linecolor": "white",
             "minorgridcolor": "white",
             "startlinecolor": "#2a3f5f"
            },
            "type": "carpet"
           }
          ],
          "choropleth": [
           {
            "colorbar": {
             "outlinewidth": 0,
             "ticks": ""
            },
            "type": "choropleth"
           }
          ],
          "contour": [
           {
            "colorbar": {
             "outlinewidth": 0,
             "ticks": ""
            },
            "colorscale": [
             [
              0,
              "#0d0887"
             ],
             [
              0.1111111111111111,
              "#46039f"
             ],
             [
              0.2222222222222222,
              "#7201a8"
             ],
             [
              0.3333333333333333,
              "#9c179e"
             ],
             [
              0.4444444444444444,
              "#bd3786"
             ],
             [
              0.5555555555555556,
              "#d8576b"
             ],
             [
              0.6666666666666666,
              "#ed7953"
             ],
             [
              0.7777777777777778,
              "#fb9f3a"
             ],
             [
              0.8888888888888888,
              "#fdca26"
             ],
             [
              1,
              "#f0f921"
             ]
            ],
            "type": "contour"
           }
          ],
          "contourcarpet": [
           {
            "colorbar": {
             "outlinewidth": 0,
             "ticks": ""
            },
            "type": "contourcarpet"
           }
          ],
          "heatmap": [
           {
            "colorbar": {
             "outlinewidth": 0,
             "ticks": ""
            },
            "colorscale": [
             [
              0,
              "#0d0887"
             ],
             [
              0.1111111111111111,
              "#46039f"
             ],
             [
              0.2222222222222222,
              "#7201a8"
             ],
             [
              0.3333333333333333,
              "#9c179e"
             ],
             [
              0.4444444444444444,
              "#bd3786"
             ],
             [
              0.5555555555555556,
              "#d8576b"
             ],
             [
              0.6666666666666666,
              "#ed7953"
             ],
             [
              0.7777777777777778,
              "#fb9f3a"
             ],
             [
              0.8888888888888888,
              "#fdca26"
             ],
             [
              1,
              "#f0f921"
             ]
            ],
            "type": "heatmap"
           }
          ],
          "heatmapgl": [
           {
            "colorbar": {
             "outlinewidth": 0,
             "ticks": ""
            },
            "colorscale": [
             [
              0,
              "#0d0887"
             ],
             [
              0.1111111111111111,
              "#46039f"
             ],
             [
              0.2222222222222222,
              "#7201a8"
             ],
             [
              0.3333333333333333,
              "#9c179e"
             ],
             [
              0.4444444444444444,
              "#bd3786"
             ],
             [
              0.5555555555555556,
              "#d8576b"
             ],
             [
              0.6666666666666666,
              "#ed7953"
             ],
             [
              0.7777777777777778,
              "#fb9f3a"
             ],
             [
              0.8888888888888888,
              "#fdca26"
             ],
             [
              1,
              "#f0f921"
             ]
            ],
            "type": "heatmapgl"
           }
          ],
          "histogram": [
           {
            "marker": {
             "pattern": {
              "fillmode": "overlay",
              "size": 10,
              "solidity": 0.2
             }
            },
            "type": "histogram"
           }
          ],
          "histogram2d": [
           {
            "colorbar": {
             "outlinewidth": 0,
             "ticks": ""
            },
            "colorscale": [
             [
              0,
              "#0d0887"
             ],
             [
              0.1111111111111111,
              "#46039f"
             ],
             [
              0.2222222222222222,
              "#7201a8"
             ],
             [
              0.3333333333333333,
              "#9c179e"
             ],
             [
              0.4444444444444444,
              "#bd3786"
             ],
             [
              0.5555555555555556,
              "#d8576b"
             ],
             [
              0.6666666666666666,
              "#ed7953"
             ],
             [
              0.7777777777777778,
              "#fb9f3a"
             ],
             [
              0.8888888888888888,
              "#fdca26"
             ],
             [
              1,
              "#f0f921"
             ]
            ],
            "type": "histogram2d"
           }
          ],
          "histogram2dcontour": [
           {
            "colorbar": {
             "outlinewidth": 0,
             "ticks": ""
            },
            "colorscale": [
             [
              0,
              "#0d0887"
             ],
             [
              0.1111111111111111,
              "#46039f"
             ],
             [
              0.2222222222222222,
              "#7201a8"
             ],
             [
              0.3333333333333333,
              "#9c179e"
             ],
             [
              0.4444444444444444,
              "#bd3786"
             ],
             [
              0.5555555555555556,
              "#d8576b"
             ],
             [
              0.6666666666666666,
              "#ed7953"
             ],
             [
              0.7777777777777778,
              "#fb9f3a"
             ],
             [
              0.8888888888888888,
              "#fdca26"
             ],
             [
              1,
              "#f0f921"
             ]
            ],
            "type": "histogram2dcontour"
           }
          ],
          "mesh3d": [
           {
            "colorbar": {
             "outlinewidth": 0,
             "ticks": ""
            },
            "type": "mesh3d"
           }
          ],
          "parcoords": [
           {
            "line": {
             "colorbar": {
              "outlinewidth": 0,
              "ticks": ""
             }
            },
            "type": "parcoords"
           }
          ],
          "pie": [
           {
            "automargin": true,
            "type": "pie"
           }
          ],
          "scatter": [
           {
            "fillpattern": {
             "fillmode": "overlay",
             "size": 10,
             "solidity": 0.2
            },
            "type": "scatter"
           }
          ],
          "scatter3d": [
           {
            "line": {
             "colorbar": {
              "outlinewidth": 0,
              "ticks": ""
             }
            },
            "marker": {
             "colorbar": {
              "outlinewidth": 0,
              "ticks": ""
             }
            },
            "type": "scatter3d"
           }
          ],
          "scattercarpet": [
           {
            "marker": {
             "colorbar": {
              "outlinewidth": 0,
              "ticks": ""
             }
            },
            "type": "scattercarpet"
           }
          ],
          "scattergeo": [
           {
            "marker": {
             "colorbar": {
              "outlinewidth": 0,
              "ticks": ""
             }
            },
            "type": "scattergeo"
           }
          ],
          "scattergl": [
           {
            "marker": {
             "colorbar": {
              "outlinewidth": 0,
              "ticks": ""
             }
            },
            "type": "scattergl"
           }
          ],
          "scattermapbox": [
           {
            "marker": {
             "colorbar": {
              "outlinewidth": 0,
              "ticks": ""
             }
            },
            "type": "scattermapbox"
           }
          ],
          "scatterpolar": [
           {
            "marker": {
             "colorbar": {
              "outlinewidth": 0,
              "ticks": ""
             }
            },
            "type": "scatterpolar"
           }
          ],
          "scatterpolargl": [
           {
            "marker": {
             "colorbar": {
              "outlinewidth": 0,
              "ticks": ""
             }
            },
            "type": "scatterpolargl"
           }
          ],
          "scatterternary": [
           {
            "marker": {
             "colorbar": {
              "outlinewidth": 0,
              "ticks": ""
             }
            },
            "type": "scatterternary"
           }
          ],
          "surface": [
           {
            "colorbar": {
             "outlinewidth": 0,
             "ticks": ""
            },
            "colorscale": [
             [
              0,
              "#0d0887"
             ],
             [
              0.1111111111111111,
              "#46039f"
             ],
             [
              0.2222222222222222,
              "#7201a8"
             ],
             [
              0.3333333333333333,
              "#9c179e"
             ],
             [
              0.4444444444444444,
              "#bd3786"
             ],
             [
              0.5555555555555556,
              "#d8576b"
             ],
             [
              0.6666666666666666,
              "#ed7953"
             ],
             [
              0.7777777777777778,
              "#fb9f3a"
             ],
             [
              0.8888888888888888,
              "#fdca26"
             ],
             [
              1,
              "#f0f921"
             ]
            ],
            "type": "surface"
           }
          ],
          "table": [
           {
            "cells": {
             "fill": {
              "color": "#EBF0F8"
             },
             "line": {
              "color": "white"
             }
            },
            "header": {
             "fill": {
              "color": "#C8D4E3"
             },
             "line": {
              "color": "white"
             }
            },
            "type": "table"
           }
          ]
         },
         "layout": {
          "annotationdefaults": {
           "arrowcolor": "#2a3f5f",
           "arrowhead": 0,
           "arrowwidth": 1
          },
          "autotypenumbers": "strict",
          "coloraxis": {
           "colorbar": {
            "outlinewidth": 0,
            "ticks": ""
           }
          },
          "colorscale": {
           "diverging": [
            [
             0,
             "#8e0152"
            ],
            [
             0.1,
             "#c51b7d"
            ],
            [
             0.2,
             "#de77ae"
            ],
            [
             0.3,
             "#f1b6da"
            ],
            [
             0.4,
             "#fde0ef"
            ],
            [
             0.5,
             "#f7f7f7"
            ],
            [
             0.6,
             "#e6f5d0"
            ],
            [
             0.7,
             "#b8e186"
            ],
            [
             0.8,
             "#7fbc41"
            ],
            [
             0.9,
             "#4d9221"
            ],
            [
             1,
             "#276419"
            ]
           ],
           "sequential": [
            [
             0,
             "#0d0887"
            ],
            [
             0.1111111111111111,
             "#46039f"
            ],
            [
             0.2222222222222222,
             "#7201a8"
            ],
            [
             0.3333333333333333,
             "#9c179e"
            ],
            [
             0.4444444444444444,
             "#bd3786"
            ],
            [
             0.5555555555555556,
             "#d8576b"
            ],
            [
             0.6666666666666666,
             "#ed7953"
            ],
            [
             0.7777777777777778,
             "#fb9f3a"
            ],
            [
             0.8888888888888888,
             "#fdca26"
            ],
            [
             1,
             "#f0f921"
            ]
           ],
           "sequentialminus": [
            [
             0,
             "#0d0887"
            ],
            [
             0.1111111111111111,
             "#46039f"
            ],
            [
             0.2222222222222222,
             "#7201a8"
            ],
            [
             0.3333333333333333,
             "#9c179e"
            ],
            [
             0.4444444444444444,
             "#bd3786"
            ],
            [
             0.5555555555555556,
             "#d8576b"
            ],
            [
             0.6666666666666666,
             "#ed7953"
            ],
            [
             0.7777777777777778,
             "#fb9f3a"
            ],
            [
             0.8888888888888888,
             "#fdca26"
            ],
            [
             1,
             "#f0f921"
            ]
           ]
          },
          "colorway": [
           "#636efa",
           "#EF553B",
           "#00cc96",
           "#ab63fa",
           "#FFA15A",
           "#19d3f3",
           "#FF6692",
           "#B6E880",
           "#FF97FF",
           "#FECB52"
          ],
          "font": {
           "color": "#2a3f5f"
          },
          "geo": {
           "bgcolor": "white",
           "lakecolor": "white",
           "landcolor": "#E5ECF6",
           "showlakes": true,
           "showland": true,
           "subunitcolor": "white"
          },
          "hoverlabel": {
           "align": "left"
          },
          "hovermode": "closest",
          "mapbox": {
           "style": "light"
          },
          "paper_bgcolor": "white",
          "plot_bgcolor": "#E5ECF6",
          "polar": {
           "angularaxis": {
            "gridcolor": "white",
            "linecolor": "white",
            "ticks": ""
           },
           "bgcolor": "#E5ECF6",
           "radialaxis": {
            "gridcolor": "white",
            "linecolor": "white",
            "ticks": ""
           }
          },
          "scene": {
           "xaxis": {
            "backgroundcolor": "#E5ECF6",
            "gridcolor": "white",
            "gridwidth": 2,
            "linecolor": "white",
            "showbackground": true,
            "ticks": "",
            "zerolinecolor": "white"
           },
           "yaxis": {
            "backgroundcolor": "#E5ECF6",
            "gridcolor": "white",
            "gridwidth": 2,
            "linecolor": "white",
            "showbackground": true,
            "ticks": "",
            "zerolinecolor": "white"
           },
           "zaxis": {
            "backgroundcolor": "#E5ECF6",
            "gridcolor": "white",
            "gridwidth": 2,
            "linecolor": "white",
            "showbackground": true,
            "ticks": "",
            "zerolinecolor": "white"
           }
          },
          "shapedefaults": {
           "line": {
            "color": "#2a3f5f"
           }
          },
          "ternary": {
           "aaxis": {
            "gridcolor": "white",
            "linecolor": "white",
            "ticks": ""
           },
           "baxis": {
            "gridcolor": "white",
            "linecolor": "white",
            "ticks": ""
           },
           "bgcolor": "#E5ECF6",
           "caxis": {
            "gridcolor": "white",
            "linecolor": "white",
            "ticks": ""
           }
          },
          "title": {
           "x": 0.05
          },
          "xaxis": {
           "automargin": true,
           "gridcolor": "white",
           "linecolor": "white",
           "ticks": "",
           "title": {
            "standoff": 15
           },
           "zerolinecolor": "white",
           "zerolinewidth": 2
          },
          "yaxis": {
           "automargin": true,
           "gridcolor": "white",
           "linecolor": "white",
           "ticks": "",
           "title": {
            "standoff": 15
           },
           "zerolinecolor": "white",
           "zerolinewidth": 2
          }
         }
        },
        "title": {
         "text": "Random Forest - Best Feature Combinations by Feature Types"
        },
        "width": 1100,
        "xaxis": {
         "anchor": "y",
         "autorange": true,
         "domain": [
          0,
          1
         ],
         "range": [
          -0.5,
          5.5
         ],
         "showticklabels": false,
         "title": {
          "text": "feature combinations"
         },
         "type": "category"
        },
        "yaxis": {
         "anchor": "x",
         "autorange": true,
         "domain": [
          0,
          1
         ],
         "range": [
          0.3395633522991883,
          0.38006558708554306
         ],
         "title": {
          "text": "rmse scores"
         },
         "type": "linear"
        }
       }
      }
     },
     "metadata": {},
     "output_type": "display_data"
    }
   ],
   "source": [
    "fig = px.box(df_metrics[(df_metrics['features'].isin(x)) & (df_metrics['model'] == 'rf')], x='features',\n",
    "             y='rmse_scores', title='RMSE Boxplot of Best Feature Combinations', color='f_str')\n",
    "fig.update_layout(height=800, width=1100,\n",
    "                  title_text=\"Random Forest - Best Feature Combinations by Feature Types\",\n",
    "                  xaxis_title=\"feature combinations\", yaxis_title=\"rmse scores\")\n",
    "fig.update_xaxes(showticklabels=False)\n",
    "fig.show()"
   ]
  },
  {
   "cell_type": "code",
   "execution_count": 128,
   "id": "dd17d957-849f-44a5-9750-579bd23c325d",
   "metadata": {},
   "outputs": [],
   "source": [
    "x_query_f = df_agg_metrics[(df_agg_metrics['query_f_only']==True) & (df_agg_metrics['model'] == 'rf')].sort_values(by='mean_rmse')['features'].head(3).values\n",
    "x_neural_f = df_agg_metrics[(df_agg_metrics['neural_f_only']==True) & (df_agg_metrics['model'] == 'rf')].sort_values(by='mean_rmse')['features'].head(3).values\n",
    "x_keyword_f = df_agg_metrics[(df_agg_metrics['keyword_f_only']==True) & (df_agg_metrics['model'] == 'rf')].sort_values(by='mean_rmse')['features'].head(3).values\n",
    "\n",
    "x_all_f = df_agg_metrics[df_agg_metrics['model'] == 'rf'].sort_values(by='mean_rmse')['features'].head(3).values\n",
    "\n",
    "x = np.concatenate([x_query_f, x_neural_f, x_keyword_f, x_all_f])"
   ]
  },
  {
   "cell_type": "code",
   "execution_count": 129,
   "id": "0f61a66a-622a-4ef1-819e-3e937e2afaef",
   "metadata": {},
   "outputs": [
    {
     "data": {
      "application/vnd.plotly.v1+json": {
       "config": {
        "plotlyServerURL": "https://plot.ly"
       },
       "data": [
        {
         "alignmentgroup": "True",
         "hovertemplate": "f_str=q<br>features=%{x}<br>rmse_scores=%{y}<extra></extra>",
         "legendgroup": "q",
         "marker": {
          "color": "#636efa"
         },
         "name": "q",
         "notched": false,
         "offsetgroup": "q",
         "orientation": "v",
         "showlegend": true,
         "type": "box",
         "x": [
          "f_1_num_of_terms,f_4_has_special_char",
          "f_1_num_of_terms,f_4_has_special_char",
          "f_1_num_of_terms,f_4_has_special_char",
          "f_1_num_of_terms,f_4_has_special_char",
          "f_1_num_of_terms,f_4_has_special_char",
          "f_1_num_of_terms,f_3_has_numbers,f_4_has_special_char",
          "f_1_num_of_terms,f_3_has_numbers,f_4_has_special_char",
          "f_1_num_of_terms,f_3_has_numbers,f_4_has_special_char",
          "f_1_num_of_terms,f_3_has_numbers,f_4_has_special_char",
          "f_1_num_of_terms,f_3_has_numbers,f_4_has_special_char",
          "f_1_num_of_terms,f_4_has_special_char",
          "f_1_num_of_terms,f_4_has_special_char",
          "f_1_num_of_terms,f_4_has_special_char",
          "f_1_num_of_terms,f_4_has_special_char",
          "f_1_num_of_terms,f_4_has_special_char",
          "f_1_num_of_terms,f_3_has_numbers,f_4_has_special_char",
          "f_1_num_of_terms,f_3_has_numbers,f_4_has_special_char",
          "f_1_num_of_terms,f_3_has_numbers,f_4_has_special_char",
          "f_1_num_of_terms,f_3_has_numbers,f_4_has_special_char",
          "f_1_num_of_terms,f_3_has_numbers,f_4_has_special_char"
         ],
         "x0": " ",
         "xaxis": "x",
         "y": [
          0.36454512383348164,
          0.35958850232322515,
          0.3598052003022891,
          0.3614373536764055,
          0.35580194522650765,
          0.3636206857938469,
          0.359172097400136,
          0.35895580713086545,
          0.3621134702004337,
          0.35857294397159295,
          0.3647918421877495,
          0.359484776191726,
          0.35988750256492136,
          0.36141983862312094,
          0.3551875573259462,
          0.3644412368938563,
          0.35883755083149776,
          0.35941371711533115,
          0.3620648645611215,
          0.3570012248871956
         ],
         "y0": " ",
         "yaxis": "y"
        },
        {
         "alignmentgroup": "True",
         "hovertemplate": "f_str=k<br>features=%{x}<br>rmse_scores=%{y}<extra></extra>",
         "legendgroup": "k",
         "marker": {
          "color": "#EF553B"
         },
         "name": "k",
         "notched": false,
         "offsetgroup": "k",
         "orientation": "v",
         "showlegend": true,
         "type": "box",
         "x": [
          "f_5_num_results,f_6_max_title_score",
          "f_5_num_results,f_6_max_title_score",
          "f_5_num_results,f_6_max_title_score",
          "f_5_num_results,f_6_max_title_score",
          "f_5_num_results,f_6_max_title_score",
          "f_5_num_results,f_7_sum_title_scores",
          "f_5_num_results,f_7_sum_title_scores",
          "f_5_num_results,f_7_sum_title_scores",
          "f_5_num_results,f_7_sum_title_scores",
          "f_5_num_results,f_7_sum_title_scores",
          "f_5_num_results,f_6_max_title_score,f_7_sum_title_scores",
          "f_5_num_results,f_6_max_title_score,f_7_sum_title_scores",
          "f_5_num_results,f_6_max_title_score,f_7_sum_title_scores",
          "f_5_num_results,f_6_max_title_score,f_7_sum_title_scores",
          "f_5_num_results,f_6_max_title_score,f_7_sum_title_scores",
          "f_5_num_results,f_6_max_title_score",
          "f_5_num_results,f_6_max_title_score",
          "f_5_num_results,f_6_max_title_score",
          "f_5_num_results,f_6_max_title_score",
          "f_5_num_results,f_6_max_title_score",
          "f_5_num_results,f_7_sum_title_scores",
          "f_5_num_results,f_7_sum_title_scores",
          "f_5_num_results,f_7_sum_title_scores",
          "f_5_num_results,f_7_sum_title_scores",
          "f_5_num_results,f_7_sum_title_scores",
          "f_5_num_results,f_6_max_title_score,f_7_sum_title_scores",
          "f_5_num_results,f_6_max_title_score,f_7_sum_title_scores",
          "f_5_num_results,f_6_max_title_score,f_7_sum_title_scores",
          "f_5_num_results,f_6_max_title_score,f_7_sum_title_scores",
          "f_5_num_results,f_6_max_title_score,f_7_sum_title_scores"
         ],
         "x0": " ",
         "xaxis": "x",
         "y": [
          0.3814728568946045,
          0.3826456826532931,
          0.3801309982339933,
          0.37363943777397607,
          0.37456005559067124,
          0.3792073563110302,
          0.37174335854643603,
          0.37587537159150736,
          0.3783585467441129,
          0.3699365999675204,
          0.37073727288157127,
          0.367860138894947,
          0.36914098413517843,
          0.36440764428549133,
          0.3622343834469252,
          0.35320053050145533,
          0.3506305937355563,
          0.3474111825208225,
          0.3475461570494095,
          0.3453647055896041,
          0.3540063790654962,
          0.3511412932621063,
          0.3478834406161902,
          0.347947871373099,
          0.346169321540311,
          0.3532810460690243,
          0.3506693944023824,
          0.34788746400864545,
          0.3487545360105063,
          0.3458603745266764
         ],
         "y0": " ",
         "yaxis": "y"
        },
        {
         "alignmentgroup": "True",
         "hovertemplate": "f_str=n<br>features=%{x}<br>rmse_scores=%{y}<extra></extra>",
         "legendgroup": "n",
         "marker": {
          "color": "#00cc96"
         },
         "name": "n",
         "notched": false,
         "offsetgroup": "n",
         "orientation": "v",
         "showlegend": true,
         "type": "box",
         "x": [
          "f_8_max_semantic_score,f_9_avg_semantic_score",
          "f_8_max_semantic_score,f_9_avg_semantic_score",
          "f_8_max_semantic_score,f_9_avg_semantic_score",
          "f_8_max_semantic_score,f_9_avg_semantic_score",
          "f_8_max_semantic_score,f_9_avg_semantic_score",
          "f_8_max_semantic_score,f_9_avg_semantic_score",
          "f_8_max_semantic_score,f_9_avg_semantic_score",
          "f_8_max_semantic_score,f_9_avg_semantic_score",
          "f_8_max_semantic_score,f_9_avg_semantic_score",
          "f_8_max_semantic_score,f_9_avg_semantic_score"
         ],
         "x0": " ",
         "xaxis": "x",
         "y": [
          0.3994516616563261,
          0.3990627557164412,
          0.39424906975159757,
          0.3985054278174891,
          0.3882367975862155,
          0.36532183481004926,
          0.3607127727053727,
          0.36166841798728727,
          0.36428552095077527,
          0.35459562753999335
         ],
         "y0": " ",
         "yaxis": "y"
        },
        {
         "alignmentgroup": "True",
         "hovertemplate": "f_str=knq<br>features=%{x}<br>rmse_scores=%{y}<extra></extra>",
         "legendgroup": "knq",
         "marker": {
          "color": "#ab63fa"
         },
         "name": "knq",
         "notched": false,
         "offsetgroup": "knq",
         "orientation": "v",
         "showlegend": true,
         "type": "box",
         "x": [
          "f_1_num_of_terms,f_5_num_results,f_6_max_title_score,f_9_avg_semantic_score",
          "f_1_num_of_terms,f_5_num_results,f_6_max_title_score,f_9_avg_semantic_score",
          "f_1_num_of_terms,f_5_num_results,f_6_max_title_score,f_9_avg_semantic_score",
          "f_1_num_of_terms,f_5_num_results,f_6_max_title_score,f_9_avg_semantic_score",
          "f_1_num_of_terms,f_5_num_results,f_6_max_title_score,f_9_avg_semantic_score",
          "f_1_num_of_terms,f_5_num_results,f_6_max_title_score,f_7_sum_title_scores,f_9_avg_semantic_score",
          "f_1_num_of_terms,f_5_num_results,f_6_max_title_score,f_7_sum_title_scores,f_9_avg_semantic_score",
          "f_1_num_of_terms,f_5_num_results,f_6_max_title_score,f_7_sum_title_scores,f_9_avg_semantic_score",
          "f_1_num_of_terms,f_5_num_results,f_6_max_title_score,f_7_sum_title_scores,f_9_avg_semantic_score",
          "f_1_num_of_terms,f_5_num_results,f_6_max_title_score,f_7_sum_title_scores,f_9_avg_semantic_score",
          "f_1_num_of_terms,f_5_num_results,f_6_max_title_score,f_9_avg_semantic_score",
          "f_1_num_of_terms,f_5_num_results,f_6_max_title_score,f_9_avg_semantic_score",
          "f_1_num_of_terms,f_5_num_results,f_6_max_title_score,f_9_avg_semantic_score",
          "f_1_num_of_terms,f_5_num_results,f_6_max_title_score,f_9_avg_semantic_score",
          "f_1_num_of_terms,f_5_num_results,f_6_max_title_score,f_9_avg_semantic_score",
          "f_1_num_of_terms,f_5_num_results,f_6_max_title_score,f_7_sum_title_scores,f_9_avg_semantic_score",
          "f_1_num_of_terms,f_5_num_results,f_6_max_title_score,f_7_sum_title_scores,f_9_avg_semantic_score",
          "f_1_num_of_terms,f_5_num_results,f_6_max_title_score,f_7_sum_title_scores,f_9_avg_semantic_score",
          "f_1_num_of_terms,f_5_num_results,f_6_max_title_score,f_7_sum_title_scores,f_9_avg_semantic_score",
          "f_1_num_of_terms,f_5_num_results,f_6_max_title_score,f_7_sum_title_scores,f_9_avg_semantic_score"
         ],
         "x0": " ",
         "xaxis": "x",
         "y": [
          0.3780404753462253,
          0.36980103839767675,
          0.37110158582253455,
          0.3693170264149759,
          0.3667520524823276,
          0.3749845863498925,
          0.36521774327105194,
          0.36940252435520793,
          0.3672947753508073,
          0.3673616664814118,
          0.35148913087740524,
          0.3495244862825814,
          0.3457009094819266,
          0.3473795362593996,
          0.3418382933704195,
          0.35208202655682935,
          0.348955392164589,
          0.34601399424237256,
          0.34722335810645427,
          0.34158846403850607
         ],
         "y0": " ",
         "yaxis": "y"
        },
        {
         "alignmentgroup": "True",
         "hovertemplate": "f_str=kn<br>features=%{x}<br>rmse_scores=%{y}<extra></extra>",
         "legendgroup": "kn",
         "marker": {
          "color": "#FFA15A"
         },
         "name": "kn",
         "notched": false,
         "offsetgroup": "kn",
         "orientation": "v",
         "showlegend": true,
         "type": "box",
         "x": [
          "f_5_num_results,f_6_max_title_score,f_7_sum_title_scores,f_9_avg_semantic_score",
          "f_5_num_results,f_6_max_title_score,f_7_sum_title_scores,f_9_avg_semantic_score",
          "f_5_num_results,f_6_max_title_score,f_7_sum_title_scores,f_9_avg_semantic_score",
          "f_5_num_results,f_6_max_title_score,f_7_sum_title_scores,f_9_avg_semantic_score",
          "f_5_num_results,f_6_max_title_score,f_7_sum_title_scores,f_9_avg_semantic_score",
          "f_5_num_results,f_6_max_title_score,f_7_sum_title_scores,f_9_avg_semantic_score",
          "f_5_num_results,f_6_max_title_score,f_7_sum_title_scores,f_9_avg_semantic_score",
          "f_5_num_results,f_6_max_title_score,f_7_sum_title_scores,f_9_avg_semantic_score",
          "f_5_num_results,f_6_max_title_score,f_7_sum_title_scores,f_9_avg_semantic_score",
          "f_5_num_results,f_6_max_title_score,f_7_sum_title_scores,f_9_avg_semantic_score"
         ],
         "x0": " ",
         "xaxis": "x",
         "y": [
          0.3769810844061012,
          0.37058137028188565,
          0.3723562084885923,
          0.3708852329225309,
          0.3649211819009689,
          0.35112021373069735,
          0.3492209858847402,
          0.34535116255351056,
          0.3473545009722272,
          0.3427030058616811
         ],
         "y0": " ",
         "yaxis": "y"
        }
       ],
       "layout": {
        "boxmode": "group",
        "height": 800,
        "legend": {
         "title": {
          "text": "f_str"
         },
         "tracegroupgap": 0
        },
        "template": {
         "data": {
          "bar": [
           {
            "error_x": {
             "color": "#2a3f5f"
            },
            "error_y": {
             "color": "#2a3f5f"
            },
            "marker": {
             "line": {
              "color": "#E5ECF6",
              "width": 0.5
             },
             "pattern": {
              "fillmode": "overlay",
              "size": 10,
              "solidity": 0.2
             }
            },
            "type": "bar"
           }
          ],
          "barpolar": [
           {
            "marker": {
             "line": {
              "color": "#E5ECF6",
              "width": 0.5
             },
             "pattern": {
              "fillmode": "overlay",
              "size": 10,
              "solidity": 0.2
             }
            },
            "type": "barpolar"
           }
          ],
          "carpet": [
           {
            "aaxis": {
             "endlinecolor": "#2a3f5f",
             "gridcolor": "white",
             "linecolor": "white",
             "minorgridcolor": "white",
             "startlinecolor": "#2a3f5f"
            },
            "baxis": {
             "endlinecolor": "#2a3f5f",
             "gridcolor": "white",
             "linecolor": "white",
             "minorgridcolor": "white",
             "startlinecolor": "#2a3f5f"
            },
            "type": "carpet"
           }
          ],
          "choropleth": [
           {
            "colorbar": {
             "outlinewidth": 0,
             "ticks": ""
            },
            "type": "choropleth"
           }
          ],
          "contour": [
           {
            "colorbar": {
             "outlinewidth": 0,
             "ticks": ""
            },
            "colorscale": [
             [
              0,
              "#0d0887"
             ],
             [
              0.1111111111111111,
              "#46039f"
             ],
             [
              0.2222222222222222,
              "#7201a8"
             ],
             [
              0.3333333333333333,
              "#9c179e"
             ],
             [
              0.4444444444444444,
              "#bd3786"
             ],
             [
              0.5555555555555556,
              "#d8576b"
             ],
             [
              0.6666666666666666,
              "#ed7953"
             ],
             [
              0.7777777777777778,
              "#fb9f3a"
             ],
             [
              0.8888888888888888,
              "#fdca26"
             ],
             [
              1,
              "#f0f921"
             ]
            ],
            "type": "contour"
           }
          ],
          "contourcarpet": [
           {
            "colorbar": {
             "outlinewidth": 0,
             "ticks": ""
            },
            "type": "contourcarpet"
           }
          ],
          "heatmap": [
           {
            "colorbar": {
             "outlinewidth": 0,
             "ticks": ""
            },
            "colorscale": [
             [
              0,
              "#0d0887"
             ],
             [
              0.1111111111111111,
              "#46039f"
             ],
             [
              0.2222222222222222,
              "#7201a8"
             ],
             [
              0.3333333333333333,
              "#9c179e"
             ],
             [
              0.4444444444444444,
              "#bd3786"
             ],
             [
              0.5555555555555556,
              "#d8576b"
             ],
             [
              0.6666666666666666,
              "#ed7953"
             ],
             [
              0.7777777777777778,
              "#fb9f3a"
             ],
             [
              0.8888888888888888,
              "#fdca26"
             ],
             [
              1,
              "#f0f921"
             ]
            ],
            "type": "heatmap"
           }
          ],
          "heatmapgl": [
           {
            "colorbar": {
             "outlinewidth": 0,
             "ticks": ""
            },
            "colorscale": [
             [
              0,
              "#0d0887"
             ],
             [
              0.1111111111111111,
              "#46039f"
             ],
             [
              0.2222222222222222,
              "#7201a8"
             ],
             [
              0.3333333333333333,
              "#9c179e"
             ],
             [
              0.4444444444444444,
              "#bd3786"
             ],
             [
              0.5555555555555556,
              "#d8576b"
             ],
             [
              0.6666666666666666,
              "#ed7953"
             ],
             [
              0.7777777777777778,
              "#fb9f3a"
             ],
             [
              0.8888888888888888,
              "#fdca26"
             ],
             [
              1,
              "#f0f921"
             ]
            ],
            "type": "heatmapgl"
           }
          ],
          "histogram": [
           {
            "marker": {
             "pattern": {
              "fillmode": "overlay",
              "size": 10,
              "solidity": 0.2
             }
            },
            "type": "histogram"
           }
          ],
          "histogram2d": [
           {
            "colorbar": {
             "outlinewidth": 0,
             "ticks": ""
            },
            "colorscale": [
             [
              0,
              "#0d0887"
             ],
             [
              0.1111111111111111,
              "#46039f"
             ],
             [
              0.2222222222222222,
              "#7201a8"
             ],
             [
              0.3333333333333333,
              "#9c179e"
             ],
             [
              0.4444444444444444,
              "#bd3786"
             ],
             [
              0.5555555555555556,
              "#d8576b"
             ],
             [
              0.6666666666666666,
              "#ed7953"
             ],
             [
              0.7777777777777778,
              "#fb9f3a"
             ],
             [
              0.8888888888888888,
              "#fdca26"
             ],
             [
              1,
              "#f0f921"
             ]
            ],
            "type": "histogram2d"
           }
          ],
          "histogram2dcontour": [
           {
            "colorbar": {
             "outlinewidth": 0,
             "ticks": ""
            },
            "colorscale": [
             [
              0,
              "#0d0887"
             ],
             [
              0.1111111111111111,
              "#46039f"
             ],
             [
              0.2222222222222222,
              "#7201a8"
             ],
             [
              0.3333333333333333,
              "#9c179e"
             ],
             [
              0.4444444444444444,
              "#bd3786"
             ],
             [
              0.5555555555555556,
              "#d8576b"
             ],
             [
              0.6666666666666666,
              "#ed7953"
             ],
             [
              0.7777777777777778,
              "#fb9f3a"
             ],
             [
              0.8888888888888888,
              "#fdca26"
             ],
             [
              1,
              "#f0f921"
             ]
            ],
            "type": "histogram2dcontour"
           }
          ],
          "mesh3d": [
           {
            "colorbar": {
             "outlinewidth": 0,
             "ticks": ""
            },
            "type": "mesh3d"
           }
          ],
          "parcoords": [
           {
            "line": {
             "colorbar": {
              "outlinewidth": 0,
              "ticks": ""
             }
            },
            "type": "parcoords"
           }
          ],
          "pie": [
           {
            "automargin": true,
            "type": "pie"
           }
          ],
          "scatter": [
           {
            "fillpattern": {
             "fillmode": "overlay",
             "size": 10,
             "solidity": 0.2
            },
            "type": "scatter"
           }
          ],
          "scatter3d": [
           {
            "line": {
             "colorbar": {
              "outlinewidth": 0,
              "ticks": ""
             }
            },
            "marker": {
             "colorbar": {
              "outlinewidth": 0,
              "ticks": ""
             }
            },
            "type": "scatter3d"
           }
          ],
          "scattercarpet": [
           {
            "marker": {
             "colorbar": {
              "outlinewidth": 0,
              "ticks": ""
             }
            },
            "type": "scattercarpet"
           }
          ],
          "scattergeo": [
           {
            "marker": {
             "colorbar": {
              "outlinewidth": 0,
              "ticks": ""
             }
            },
            "type": "scattergeo"
           }
          ],
          "scattergl": [
           {
            "marker": {
             "colorbar": {
              "outlinewidth": 0,
              "ticks": ""
             }
            },
            "type": "scattergl"
           }
          ],
          "scattermapbox": [
           {
            "marker": {
             "colorbar": {
              "outlinewidth": 0,
              "ticks": ""
             }
            },
            "type": "scattermapbox"
           }
          ],
          "scatterpolar": [
           {
            "marker": {
             "colorbar": {
              "outlinewidth": 0,
              "ticks": ""
             }
            },
            "type": "scatterpolar"
           }
          ],
          "scatterpolargl": [
           {
            "marker": {
             "colorbar": {
              "outlinewidth": 0,
              "ticks": ""
             }
            },
            "type": "scatterpolargl"
           }
          ],
          "scatterternary": [
           {
            "marker": {
             "colorbar": {
              "outlinewidth": 0,
              "ticks": ""
             }
            },
            "type": "scatterternary"
           }
          ],
          "surface": [
           {
            "colorbar": {
             "outlinewidth": 0,
             "ticks": ""
            },
            "colorscale": [
             [
              0,
              "#0d0887"
             ],
             [
              0.1111111111111111,
              "#46039f"
             ],
             [
              0.2222222222222222,
              "#7201a8"
             ],
             [
              0.3333333333333333,
              "#9c179e"
             ],
             [
              0.4444444444444444,
              "#bd3786"
             ],
             [
              0.5555555555555556,
              "#d8576b"
             ],
             [
              0.6666666666666666,
              "#ed7953"
             ],
             [
              0.7777777777777778,
              "#fb9f3a"
             ],
             [
              0.8888888888888888,
              "#fdca26"
             ],
             [
              1,
              "#f0f921"
             ]
            ],
            "type": "surface"
           }
          ],
          "table": [
           {
            "cells": {
             "fill": {
              "color": "#EBF0F8"
             },
             "line": {
              "color": "white"
             }
            },
            "header": {
             "fill": {
              "color": "#C8D4E3"
             },
             "line": {
              "color": "white"
             }
            },
            "type": "table"
           }
          ]
         },
         "layout": {
          "annotationdefaults": {
           "arrowcolor": "#2a3f5f",
           "arrowhead": 0,
           "arrowwidth": 1
          },
          "autotypenumbers": "strict",
          "coloraxis": {
           "colorbar": {
            "outlinewidth": 0,
            "ticks": ""
           }
          },
          "colorscale": {
           "diverging": [
            [
             0,
             "#8e0152"
            ],
            [
             0.1,
             "#c51b7d"
            ],
            [
             0.2,
             "#de77ae"
            ],
            [
             0.3,
             "#f1b6da"
            ],
            [
             0.4,
             "#fde0ef"
            ],
            [
             0.5,
             "#f7f7f7"
            ],
            [
             0.6,
             "#e6f5d0"
            ],
            [
             0.7,
             "#b8e186"
            ],
            [
             0.8,
             "#7fbc41"
            ],
            [
             0.9,
             "#4d9221"
            ],
            [
             1,
             "#276419"
            ]
           ],
           "sequential": [
            [
             0,
             "#0d0887"
            ],
            [
             0.1111111111111111,
             "#46039f"
            ],
            [
             0.2222222222222222,
             "#7201a8"
            ],
            [
             0.3333333333333333,
             "#9c179e"
            ],
            [
             0.4444444444444444,
             "#bd3786"
            ],
            [
             0.5555555555555556,
             "#d8576b"
            ],
            [
             0.6666666666666666,
             "#ed7953"
            ],
            [
             0.7777777777777778,
             "#fb9f3a"
            ],
            [
             0.8888888888888888,
             "#fdca26"
            ],
            [
             1,
             "#f0f921"
            ]
           ],
           "sequentialminus": [
            [
             0,
             "#0d0887"
            ],
            [
             0.1111111111111111,
             "#46039f"
            ],
            [
             0.2222222222222222,
             "#7201a8"
            ],
            [
             0.3333333333333333,
             "#9c179e"
            ],
            [
             0.4444444444444444,
             "#bd3786"
            ],
            [
             0.5555555555555556,
             "#d8576b"
            ],
            [
             0.6666666666666666,
             "#ed7953"
            ],
            [
             0.7777777777777778,
             "#fb9f3a"
            ],
            [
             0.8888888888888888,
             "#fdca26"
            ],
            [
             1,
             "#f0f921"
            ]
           ]
          },
          "colorway": [
           "#636efa",
           "#EF553B",
           "#00cc96",
           "#ab63fa",
           "#FFA15A",
           "#19d3f3",
           "#FF6692",
           "#B6E880",
           "#FF97FF",
           "#FECB52"
          ],
          "font": {
           "color": "#2a3f5f"
          },
          "geo": {
           "bgcolor": "white",
           "lakecolor": "white",
           "landcolor": "#E5ECF6",
           "showlakes": true,
           "showland": true,
           "subunitcolor": "white"
          },
          "hoverlabel": {
           "align": "left"
          },
          "hovermode": "closest",
          "mapbox": {
           "style": "light"
          },
          "paper_bgcolor": "white",
          "plot_bgcolor": "#E5ECF6",
          "polar": {
           "angularaxis": {
            "gridcolor": "white",
            "linecolor": "white",
            "ticks": ""
           },
           "bgcolor": "#E5ECF6",
           "radialaxis": {
            "gridcolor": "white",
            "linecolor": "white",
            "ticks": ""
           }
          },
          "scene": {
           "xaxis": {
            "backgroundcolor": "#E5ECF6",
            "gridcolor": "white",
            "gridwidth": 2,
            "linecolor": "white",
            "showbackground": true,
            "ticks": "",
            "zerolinecolor": "white"
           },
           "yaxis": {
            "backgroundcolor": "#E5ECF6",
            "gridcolor": "white",
            "gridwidth": 2,
            "linecolor": "white",
            "showbackground": true,
            "ticks": "",
            "zerolinecolor": "white"
           },
           "zaxis": {
            "backgroundcolor": "#E5ECF6",
            "gridcolor": "white",
            "gridwidth": 2,
            "linecolor": "white",
            "showbackground": true,
            "ticks": "",
            "zerolinecolor": "white"
           }
          },
          "shapedefaults": {
           "line": {
            "color": "#2a3f5f"
           }
          },
          "ternary": {
           "aaxis": {
            "gridcolor": "white",
            "linecolor": "white",
            "ticks": ""
           },
           "baxis": {
            "gridcolor": "white",
            "linecolor": "white",
            "ticks": ""
           },
           "bgcolor": "#E5ECF6",
           "caxis": {
            "gridcolor": "white",
            "linecolor": "white",
            "ticks": ""
           }
          },
          "title": {
           "x": 0.05
          },
          "xaxis": {
           "automargin": true,
           "gridcolor": "white",
           "linecolor": "white",
           "ticks": "",
           "title": {
            "standoff": 15
           },
           "zerolinecolor": "white",
           "zerolinewidth": 2
          },
          "yaxis": {
           "automargin": true,
           "gridcolor": "white",
           "linecolor": "white",
           "ticks": "",
           "title": {
            "standoff": 15
           },
           "zerolinecolor": "white",
           "zerolinewidth": 2
          }
         }
        },
        "title": {
         "text": "Random Forest - Best Feature Combinations within Feature Groups"
        },
        "width": 1100,
        "xaxis": {
         "anchor": "y",
         "autorange": true,
         "domain": [
          0,
          1
         ],
         "range": [
          -0.5294759825327511,
          8.529475982532752
         ],
         "showticklabels": false,
         "title": {
          "text": "feature combinations"
         },
         "type": "category"
        },
        "yaxis": {
         "anchor": "x",
         "autorange": true,
         "domain": [
          0,
          1
         ],
         "range": [
          0.3383738419486272,
          0.402666283746205
         ],
         "title": {
          "text": "rmse scores"
         },
         "type": "linear"
        }
       }
      }
     },
     "metadata": {},
     "output_type": "display_data"
    }
   ],
   "source": [
    "fig = px.box(df_metrics[(df_metrics['features'].isin(x)) & (df_metrics['model'] == 'rf')], x='features',\n",
    "             y='rmse_scores', title='RMSE Boxplot of Best Feature Combinations', color='f_str')\n",
    "fig.update_layout(height=800, width=1100,\n",
    "                  title_text=\"Random Forest - Best Feature Combinations within Feature Groups\",\n",
    "                  xaxis_title=\"feature combinations\", yaxis_title=\"rmse scores\")\n",
    "fig.update_xaxes(showticklabels=False)\n",
    "fig.show()"
   ]
  },
  {
   "cell_type": "code",
   "execution_count": 130,
   "id": "fcb6f7c1-3a03-42bc-b200-156ac15676ba",
   "metadata": {},
   "outputs": [
    {
     "data": {
      "application/vnd.plotly.v1+json": {
       "config": {
        "plotlyServerURL": "https://plot.ly"
       },
       "data": [
        {
         "name": "all combinations",
         "type": "box",
         "xaxis": "x",
         "y": [
          0.34714997380057133,
          0.34717264702175027,
          0.3471864712543465,
          0.3472412229564965,
          0.3473311448654239,
          0.3473733056726006,
          0.3474048242908378,
          0.34740534843094273,
          0.3474060200054052,
          0.34745823303590784
         ],
         "yaxis": "y"
        },
        {
         "name": "only keyword features",
         "type": "box",
         "xaxis": "x2",
         "y": [
          0.36085000542901763,
          0.3608484854510824,
          0.37848980622930767,
          0.3488306338793695,
          0.3593103554957232,
          0.3593079848650236,
          0.36687608472882266,
          0.34929056300344696,
          0.35997853678890257,
          0.35997819100935374
         ],
         "yaxis": "y2"
        },
        {
         "name": "only neural features",
         "type": "box",
         "xaxis": "x3",
         "y": [
          0.34714997380057133,
          0.34717264702175027,
          0.3471864712543465,
          0.3472412229564965,
          0.3473311448654239,
          0.3473733056726006,
          0.3474048242908378,
          0.34740534843094273,
          0.3474060200054052,
          0.34745823303590784
         ],
         "yaxis": "y3"
        },
        {
         "name": "only query features",
         "type": "box",
         "xaxis": "x4",
         "y": [
          0.3601543033786928,
          0.36020255048589533,
          0.36020397267649307,
          0.36023336693251434,
          0.3602356250723818,
          0.3602402852331042,
          0.36029981428854624,
          0.360299882874627,
          0.36032107690031767,
          0.36032950465383917
         ],
         "yaxis": "y4"
        }
       ],
       "layout": {
        "height": 800,
        "template": {
         "data": {
          "bar": [
           {
            "error_x": {
             "color": "#2a3f5f"
            },
            "error_y": {
             "color": "#2a3f5f"
            },
            "marker": {
             "line": {
              "color": "#E5ECF6",
              "width": 0.5
             },
             "pattern": {
              "fillmode": "overlay",
              "size": 10,
              "solidity": 0.2
             }
            },
            "type": "bar"
           }
          ],
          "barpolar": [
           {
            "marker": {
             "line": {
              "color": "#E5ECF6",
              "width": 0.5
             },
             "pattern": {
              "fillmode": "overlay",
              "size": 10,
              "solidity": 0.2
             }
            },
            "type": "barpolar"
           }
          ],
          "carpet": [
           {
            "aaxis": {
             "endlinecolor": "#2a3f5f",
             "gridcolor": "white",
             "linecolor": "white",
             "minorgridcolor": "white",
             "startlinecolor": "#2a3f5f"
            },
            "baxis": {
             "endlinecolor": "#2a3f5f",
             "gridcolor": "white",
             "linecolor": "white",
             "minorgridcolor": "white",
             "startlinecolor": "#2a3f5f"
            },
            "type": "carpet"
           }
          ],
          "choropleth": [
           {
            "colorbar": {
             "outlinewidth": 0,
             "ticks": ""
            },
            "type": "choropleth"
           }
          ],
          "contour": [
           {
            "colorbar": {
             "outlinewidth": 0,
             "ticks": ""
            },
            "colorscale": [
             [
              0,
              "#0d0887"
             ],
             [
              0.1111111111111111,
              "#46039f"
             ],
             [
              0.2222222222222222,
              "#7201a8"
             ],
             [
              0.3333333333333333,
              "#9c179e"
             ],
             [
              0.4444444444444444,
              "#bd3786"
             ],
             [
              0.5555555555555556,
              "#d8576b"
             ],
             [
              0.6666666666666666,
              "#ed7953"
             ],
             [
              0.7777777777777778,
              "#fb9f3a"
             ],
             [
              0.8888888888888888,
              "#fdca26"
             ],
             [
              1,
              "#f0f921"
             ]
            ],
            "type": "contour"
           }
          ],
          "contourcarpet": [
           {
            "colorbar": {
             "outlinewidth": 0,
             "ticks": ""
            },
            "type": "contourcarpet"
           }
          ],
          "heatmap": [
           {
            "colorbar": {
             "outlinewidth": 0,
             "ticks": ""
            },
            "colorscale": [
             [
              0,
              "#0d0887"
             ],
             [
              0.1111111111111111,
              "#46039f"
             ],
             [
              0.2222222222222222,
              "#7201a8"
             ],
             [
              0.3333333333333333,
              "#9c179e"
             ],
             [
              0.4444444444444444,
              "#bd3786"
             ],
             [
              0.5555555555555556,
              "#d8576b"
             ],
             [
              0.6666666666666666,
              "#ed7953"
             ],
             [
              0.7777777777777778,
              "#fb9f3a"
             ],
             [
              0.8888888888888888,
              "#fdca26"
             ],
             [
              1,
              "#f0f921"
             ]
            ],
            "type": "heatmap"
           }
          ],
          "heatmapgl": [
           {
            "colorbar": {
             "outlinewidth": 0,
             "ticks": ""
            },
            "colorscale": [
             [
              0,
              "#0d0887"
             ],
             [
              0.1111111111111111,
              "#46039f"
             ],
             [
              0.2222222222222222,
              "#7201a8"
             ],
             [
              0.3333333333333333,
              "#9c179e"
             ],
             [
              0.4444444444444444,
              "#bd3786"
             ],
             [
              0.5555555555555556,
              "#d8576b"
             ],
             [
              0.6666666666666666,
              "#ed7953"
             ],
             [
              0.7777777777777778,
              "#fb9f3a"
             ],
             [
              0.8888888888888888,
              "#fdca26"
             ],
             [
              1,
              "#f0f921"
             ]
            ],
            "type": "heatmapgl"
           }
          ],
          "histogram": [
           {
            "marker": {
             "pattern": {
              "fillmode": "overlay",
              "size": 10,
              "solidity": 0.2
             }
            },
            "type": "histogram"
           }
          ],
          "histogram2d": [
           {
            "colorbar": {
             "outlinewidth": 0,
             "ticks": ""
            },
            "colorscale": [
             [
              0,
              "#0d0887"
             ],
             [
              0.1111111111111111,
              "#46039f"
             ],
             [
              0.2222222222222222,
              "#7201a8"
             ],
             [
              0.3333333333333333,
              "#9c179e"
             ],
             [
              0.4444444444444444,
              "#bd3786"
             ],
             [
              0.5555555555555556,
              "#d8576b"
             ],
             [
              0.6666666666666666,
              "#ed7953"
             ],
             [
              0.7777777777777778,
              "#fb9f3a"
             ],
             [
              0.8888888888888888,
              "#fdca26"
             ],
             [
              1,
              "#f0f921"
             ]
            ],
            "type": "histogram2d"
           }
          ],
          "histogram2dcontour": [
           {
            "colorbar": {
             "outlinewidth": 0,
             "ticks": ""
            },
            "colorscale": [
             [
              0,
              "#0d0887"
             ],
             [
              0.1111111111111111,
              "#46039f"
             ],
             [
              0.2222222222222222,
              "#7201a8"
             ],
             [
              0.3333333333333333,
              "#9c179e"
             ],
             [
              0.4444444444444444,
              "#bd3786"
             ],
             [
              0.5555555555555556,
              "#d8576b"
             ],
             [
              0.6666666666666666,
              "#ed7953"
             ],
             [
              0.7777777777777778,
              "#fb9f3a"
             ],
             [
              0.8888888888888888,
              "#fdca26"
             ],
             [
              1,
              "#f0f921"
             ]
            ],
            "type": "histogram2dcontour"
           }
          ],
          "mesh3d": [
           {
            "colorbar": {
             "outlinewidth": 0,
             "ticks": ""
            },
            "type": "mesh3d"
           }
          ],
          "parcoords": [
           {
            "line": {
             "colorbar": {
              "outlinewidth": 0,
              "ticks": ""
             }
            },
            "type": "parcoords"
           }
          ],
          "pie": [
           {
            "automargin": true,
            "type": "pie"
           }
          ],
          "scatter": [
           {
            "fillpattern": {
             "fillmode": "overlay",
             "size": 10,
             "solidity": 0.2
            },
            "type": "scatter"
           }
          ],
          "scatter3d": [
           {
            "line": {
             "colorbar": {
              "outlinewidth": 0,
              "ticks": ""
             }
            },
            "marker": {
             "colorbar": {
              "outlinewidth": 0,
              "ticks": ""
             }
            },
            "type": "scatter3d"
           }
          ],
          "scattercarpet": [
           {
            "marker": {
             "colorbar": {
              "outlinewidth": 0,
              "ticks": ""
             }
            },
            "type": "scattercarpet"
           }
          ],
          "scattergeo": [
           {
            "marker": {
             "colorbar": {
              "outlinewidth": 0,
              "ticks": ""
             }
            },
            "type": "scattergeo"
           }
          ],
          "scattergl": [
           {
            "marker": {
             "colorbar": {
              "outlinewidth": 0,
              "ticks": ""
             }
            },
            "type": "scattergl"
           }
          ],
          "scattermapbox": [
           {
            "marker": {
             "colorbar": {
              "outlinewidth": 0,
              "ticks": ""
             }
            },
            "type": "scattermapbox"
           }
          ],
          "scatterpolar": [
           {
            "marker": {
             "colorbar": {
              "outlinewidth": 0,
              "ticks": ""
             }
            },
            "type": "scatterpolar"
           }
          ],
          "scatterpolargl": [
           {
            "marker": {
             "colorbar": {
              "outlinewidth": 0,
              "ticks": ""
             }
            },
            "type": "scatterpolargl"
           }
          ],
          "scatterternary": [
           {
            "marker": {
             "colorbar": {
              "outlinewidth": 0,
              "ticks": ""
             }
            },
            "type": "scatterternary"
           }
          ],
          "surface": [
           {
            "colorbar": {
             "outlinewidth": 0,
             "ticks": ""
            },
            "colorscale": [
             [
              0,
              "#0d0887"
             ],
             [
              0.1111111111111111,
              "#46039f"
             ],
             [
              0.2222222222222222,
              "#7201a8"
             ],
             [
              0.3333333333333333,
              "#9c179e"
             ],
             [
              0.4444444444444444,
              "#bd3786"
             ],
             [
              0.5555555555555556,
              "#d8576b"
             ],
             [
              0.6666666666666666,
              "#ed7953"
             ],
             [
              0.7777777777777778,
              "#fb9f3a"
             ],
             [
              0.8888888888888888,
              "#fdca26"
             ],
             [
              1,
              "#f0f921"
             ]
            ],
            "type": "surface"
           }
          ],
          "table": [
           {
            "cells": {
             "fill": {
              "color": "#EBF0F8"
             },
             "line": {
              "color": "white"
             }
            },
            "header": {
             "fill": {
              "color": "#C8D4E3"
             },
             "line": {
              "color": "white"
             }
            },
            "type": "table"
           }
          ]
         },
         "layout": {
          "annotationdefaults": {
           "arrowcolor": "#2a3f5f",
           "arrowhead": 0,
           "arrowwidth": 1
          },
          "autotypenumbers": "strict",
          "coloraxis": {
           "colorbar": {
            "outlinewidth": 0,
            "ticks": ""
           }
          },
          "colorscale": {
           "diverging": [
            [
             0,
             "#8e0152"
            ],
            [
             0.1,
             "#c51b7d"
            ],
            [
             0.2,
             "#de77ae"
            ],
            [
             0.3,
             "#f1b6da"
            ],
            [
             0.4,
             "#fde0ef"
            ],
            [
             0.5,
             "#f7f7f7"
            ],
            [
             0.6,
             "#e6f5d0"
            ],
            [
             0.7,
             "#b8e186"
            ],
            [
             0.8,
             "#7fbc41"
            ],
            [
             0.9,
             "#4d9221"
            ],
            [
             1,
             "#276419"
            ]
           ],
           "sequential": [
            [
             0,
             "#0d0887"
            ],
            [
             0.1111111111111111,
             "#46039f"
            ],
            [
             0.2222222222222222,
             "#7201a8"
            ],
            [
             0.3333333333333333,
             "#9c179e"
            ],
            [
             0.4444444444444444,
             "#bd3786"
            ],
            [
             0.5555555555555556,
             "#d8576b"
            ],
            [
             0.6666666666666666,
             "#ed7953"
            ],
            [
             0.7777777777777778,
             "#fb9f3a"
            ],
            [
             0.8888888888888888,
             "#fdca26"
            ],
            [
             1,
             "#f0f921"
            ]
           ],
           "sequentialminus": [
            [
             0,
             "#0d0887"
            ],
            [
             0.1111111111111111,
             "#46039f"
            ],
            [
             0.2222222222222222,
             "#7201a8"
            ],
            [
             0.3333333333333333,
             "#9c179e"
            ],
            [
             0.4444444444444444,
             "#bd3786"
            ],
            [
             0.5555555555555556,
             "#d8576b"
            ],
            [
             0.6666666666666666,
             "#ed7953"
            ],
            [
             0.7777777777777778,
             "#fb9f3a"
            ],
            [
             0.8888888888888888,
             "#fdca26"
            ],
            [
             1,
             "#f0f921"
            ]
           ]
          },
          "colorway": [
           "#636efa",
           "#EF553B",
           "#00cc96",
           "#ab63fa",
           "#FFA15A",
           "#19d3f3",
           "#FF6692",
           "#B6E880",
           "#FF97FF",
           "#FECB52"
          ],
          "font": {
           "color": "#2a3f5f"
          },
          "geo": {
           "bgcolor": "white",
           "lakecolor": "white",
           "landcolor": "#E5ECF6",
           "showlakes": true,
           "showland": true,
           "subunitcolor": "white"
          },
          "hoverlabel": {
           "align": "left"
          },
          "hovermode": "closest",
          "mapbox": {
           "style": "light"
          },
          "paper_bgcolor": "white",
          "plot_bgcolor": "#E5ECF6",
          "polar": {
           "angularaxis": {
            "gridcolor": "white",
            "linecolor": "white",
            "ticks": ""
           },
           "bgcolor": "#E5ECF6",
           "radialaxis": {
            "gridcolor": "white",
            "linecolor": "white",
            "ticks": ""
           }
          },
          "scene": {
           "xaxis": {
            "backgroundcolor": "#E5ECF6",
            "gridcolor": "white",
            "gridwidth": 2,
            "linecolor": "white",
            "showbackground": true,
            "ticks": "",
            "zerolinecolor": "white"
           },
           "yaxis": {
            "backgroundcolor": "#E5ECF6",
            "gridcolor": "white",
            "gridwidth": 2,
            "linecolor": "white",
            "showbackground": true,
            "ticks": "",
            "zerolinecolor": "white"
           },
           "zaxis": {
            "backgroundcolor": "#E5ECF6",
            "gridcolor": "white",
            "gridwidth": 2,
            "linecolor": "white",
            "showbackground": true,
            "ticks": "",
            "zerolinecolor": "white"
           }
          },
          "shapedefaults": {
           "line": {
            "color": "#2a3f5f"
           }
          },
          "ternary": {
           "aaxis": {
            "gridcolor": "white",
            "linecolor": "white",
            "ticks": ""
           },
           "baxis": {
            "gridcolor": "white",
            "linecolor": "white",
            "ticks": ""
           },
           "bgcolor": "#E5ECF6",
           "caxis": {
            "gridcolor": "white",
            "linecolor": "white",
            "ticks": ""
           }
          },
          "title": {
           "x": 0.05
          },
          "xaxis": {
           "automargin": true,
           "gridcolor": "white",
           "linecolor": "white",
           "ticks": "",
           "title": {
            "standoff": 15
           },
           "zerolinecolor": "white",
           "zerolinewidth": 2
          },
          "yaxis": {
           "automargin": true,
           "gridcolor": "white",
           "linecolor": "white",
           "ticks": "",
           "title": {
            "standoff": 15
           },
           "zerolinecolor": "white",
           "zerolinewidth": 2
          }
         }
        },
        "title": {
         "text": "Top 10 Feature Combinations within Feature Groups"
        },
        "width": 1100,
        "xaxis": {
         "anchor": "y",
         "autorange": true,
         "domain": [
          0,
          0.2125
         ],
         "range": [
          -0.5,
          0.5
         ],
         "type": "category"
        },
        "xaxis2": {
         "anchor": "y2",
         "autorange": true,
         "domain": [
          0.2625,
          0.475
         ],
         "range": [
          -0.5,
          0.5
         ],
         "type": "category"
        },
        "xaxis3": {
         "anchor": "y3",
         "autorange": true,
         "domain": [
          0.525,
          0.7375
         ],
         "range": [
          -0.5,
          0.5
         ],
         "type": "category"
        },
        "xaxis4": {
         "anchor": "y4",
         "autorange": true,
         "domain": [
          0.7875,
          1
         ],
         "range": [
          -0.5,
          0.5
         ],
         "type": "category"
        },
        "yaxis": {
         "anchor": "x",
         "autorange": true,
         "domain": [
          0,
          1
         ],
         "range": [
          0.34540887199897485,
          0.38023090803090415
         ],
         "type": "linear"
        },
        "yaxis2": {
         "anchor": "x2",
         "autorange": true,
         "domain": [
          0,
          1
         ],
         "matches": "y",
         "range": [
          0.34540887199897485,
          0.38023090803090415
         ],
         "showticklabels": false,
         "type": "linear"
        },
        "yaxis3": {
         "anchor": "x3",
         "autorange": true,
         "domain": [
          0,
          1
         ],
         "matches": "y",
         "range": [
          0.34540887199897485,
          0.38023090803090415
         ],
         "showticklabels": false,
         "type": "linear"
        },
        "yaxis4": {
         "anchor": "x4",
         "autorange": true,
         "domain": [
          0,
          1
         ],
         "matches": "y",
         "range": [
          0.34540887199897485,
          0.38023090803090415
         ],
         "showticklabels": false,
         "type": "linear"
        }
       }
      }
     },
     "metadata": {},
     "output_type": "display_data"
    }
   ],
   "source": [
    "fig = make_subplots(rows=1, cols=4, shared_yaxes=True)\n",
    "\n",
    "fig.add_trace(go.Box(y=df_agg_metrics.sort_values(by=['mean_rmse']).head(10)['mean_rmse'],\n",
    "                     name=\"all combinations\"),\n",
    "              row=1, col=1)\n",
    "\n",
    "fig.add_trace(go.Box(y=df_agg_metrics[df_agg_metrics['keyword_f_only'] == True].head(10)['mean_rmse'],\n",
    "                    name=\"only keyword features\"),\n",
    "              row=1, col=2)\n",
    "\n",
    "fig.add_trace(go.Box(y=df_agg_metrics[df_agg_metrics['neural_f'] == True].sort_values(by=['mean_rmse']).head(10)['mean_rmse'],\n",
    "                    name=\"only neural features\"),\n",
    "              row=1, col=3)\n",
    "\n",
    "fig.add_trace(go.Box(y=df_agg_metrics[df_agg_metrics['query_f_only'] == True].sort_values(by=['mean_rmse']).head(10)['mean_rmse'],\n",
    "                    name=\"only query features\"),\n",
    "              row=1, col=4)\n",
    "\n",
    "fig.update_layout(height=800, width=1100,\n",
    "                  title_text=\"Top 10 Feature Combinations within Feature Groups\")\n",
    "fig.show()"
   ]
  },
  {
   "cell_type": "code",
   "execution_count": 131,
   "id": "987fed89-1ab4-4440-9d27-edd558f8185a",
   "metadata": {},
   "outputs": [
    {
     "data": {
      "application/vnd.plotly.v1+json": {
       "config": {
        "plotlyServerURL": "https://plot.ly"
       },
       "data": [
        {
         "name": "all combinations",
         "type": "box",
         "xaxis": "x",
         "y": [
          0.35732986866789085,
          0.35735234025362106,
          0.35735408689885173,
          0.35737058032235397,
          0.3573760786746242,
          0.35738424953785025,
          0.35739056795687774,
          0.3574046235631407,
          0.3574094790587266,
          0.35741230654579204
         ],
         "yaxis": "y"
        },
        {
         "name": "only keyword features",
         "type": "box",
         "xaxis": "x2",
         "y": [
          0.36085000542901763,
          0.3608484854510824,
          0.3593103554957232,
          0.3593079848650236,
          0.35997853678890257,
          0.35997819100935374,
          0.3597715261392641,
          0.35976884807341847
         ],
         "yaxis": "y2"
        },
        {
         "name": "only neural features",
         "type": "box",
         "xaxis": "x3",
         "y": [
          0.35732986866789085,
          0.35737058032235397,
          0.3573760786746242,
          0.35738424953785025,
          0.35739056795687774,
          0.3574046235631407,
          0.3574214656787261,
          0.35742400590758044,
          0.35742989555836574,
          0.35743277923414285
         ],
         "yaxis": "y3"
        },
        {
         "name": "only query features",
         "type": "box",
         "xaxis": "x4",
         "y": [
          0.36020255048589533,
          0.36020397267649307,
          0.36023336693251434,
          0.3602402852331042,
          0.36029981428854624,
          0.360299882874627,
          0.36032107690031767,
          0.36032950465383917,
          0.36044201217903715,
          0.36044333478716045
         ],
         "yaxis": "y4"
        }
       ],
       "layout": {
        "height": 800,
        "template": {
         "data": {
          "bar": [
           {
            "error_x": {
             "color": "#2a3f5f"
            },
            "error_y": {
             "color": "#2a3f5f"
            },
            "marker": {
             "line": {
              "color": "#E5ECF6",
              "width": 0.5
             },
             "pattern": {
              "fillmode": "overlay",
              "size": 10,
              "solidity": 0.2
             }
            },
            "type": "bar"
           }
          ],
          "barpolar": [
           {
            "marker": {
             "line": {
              "color": "#E5ECF6",
              "width": 0.5
             },
             "pattern": {
              "fillmode": "overlay",
              "size": 10,
              "solidity": 0.2
             }
            },
            "type": "barpolar"
           }
          ],
          "carpet": [
           {
            "aaxis": {
             "endlinecolor": "#2a3f5f",
             "gridcolor": "white",
             "linecolor": "white",
             "minorgridcolor": "white",
             "startlinecolor": "#2a3f5f"
            },
            "baxis": {
             "endlinecolor": "#2a3f5f",
             "gridcolor": "white",
             "linecolor": "white",
             "minorgridcolor": "white",
             "startlinecolor": "#2a3f5f"
            },
            "type": "carpet"
           }
          ],
          "choropleth": [
           {
            "colorbar": {
             "outlinewidth": 0,
             "ticks": ""
            },
            "type": "choropleth"
           }
          ],
          "contour": [
           {
            "colorbar": {
             "outlinewidth": 0,
             "ticks": ""
            },
            "colorscale": [
             [
              0,
              "#0d0887"
             ],
             [
              0.1111111111111111,
              "#46039f"
             ],
             [
              0.2222222222222222,
              "#7201a8"
             ],
             [
              0.3333333333333333,
              "#9c179e"
             ],
             [
              0.4444444444444444,
              "#bd3786"
             ],
             [
              0.5555555555555556,
              "#d8576b"
             ],
             [
              0.6666666666666666,
              "#ed7953"
             ],
             [
              0.7777777777777778,
              "#fb9f3a"
             ],
             [
              0.8888888888888888,
              "#fdca26"
             ],
             [
              1,
              "#f0f921"
             ]
            ],
            "type": "contour"
           }
          ],
          "contourcarpet": [
           {
            "colorbar": {
             "outlinewidth": 0,
             "ticks": ""
            },
            "type": "contourcarpet"
           }
          ],
          "heatmap": [
           {
            "colorbar": {
             "outlinewidth": 0,
             "ticks": ""
            },
            "colorscale": [
             [
              0,
              "#0d0887"
             ],
             [
              0.1111111111111111,
              "#46039f"
             ],
             [
              0.2222222222222222,
              "#7201a8"
             ],
             [
              0.3333333333333333,
              "#9c179e"
             ],
             [
              0.4444444444444444,
              "#bd3786"
             ],
             [
              0.5555555555555556,
              "#d8576b"
             ],
             [
              0.6666666666666666,
              "#ed7953"
             ],
             [
              0.7777777777777778,
              "#fb9f3a"
             ],
             [
              0.8888888888888888,
              "#fdca26"
             ],
             [
              1,
              "#f0f921"
             ]
            ],
            "type": "heatmap"
           }
          ],
          "heatmapgl": [
           {
            "colorbar": {
             "outlinewidth": 0,
             "ticks": ""
            },
            "colorscale": [
             [
              0,
              "#0d0887"
             ],
             [
              0.1111111111111111,
              "#46039f"
             ],
             [
              0.2222222222222222,
              "#7201a8"
             ],
             [
              0.3333333333333333,
              "#9c179e"
             ],
             [
              0.4444444444444444,
              "#bd3786"
             ],
             [
              0.5555555555555556,
              "#d8576b"
             ],
             [
              0.6666666666666666,
              "#ed7953"
             ],
             [
              0.7777777777777778,
              "#fb9f3a"
             ],
             [
              0.8888888888888888,
              "#fdca26"
             ],
             [
              1,
              "#f0f921"
             ]
            ],
            "type": "heatmapgl"
           }
          ],
          "histogram": [
           {
            "marker": {
             "pattern": {
              "fillmode": "overlay",
              "size": 10,
              "solidity": 0.2
             }
            },
            "type": "histogram"
           }
          ],
          "histogram2d": [
           {
            "colorbar": {
             "outlinewidth": 0,
             "ticks": ""
            },
            "colorscale": [
             [
              0,
              "#0d0887"
             ],
             [
              0.1111111111111111,
              "#46039f"
             ],
             [
              0.2222222222222222,
              "#7201a8"
             ],
             [
              0.3333333333333333,
              "#9c179e"
             ],
             [
              0.4444444444444444,
              "#bd3786"
             ],
             [
              0.5555555555555556,
              "#d8576b"
             ],
             [
              0.6666666666666666,
              "#ed7953"
             ],
             [
              0.7777777777777778,
              "#fb9f3a"
             ],
             [
              0.8888888888888888,
              "#fdca26"
             ],
             [
              1,
              "#f0f921"
             ]
            ],
            "type": "histogram2d"
           }
          ],
          "histogram2dcontour": [
           {
            "colorbar": {
             "outlinewidth": 0,
             "ticks": ""
            },
            "colorscale": [
             [
              0,
              "#0d0887"
             ],
             [
              0.1111111111111111,
              "#46039f"
             ],
             [
              0.2222222222222222,
              "#7201a8"
             ],
             [
              0.3333333333333333,
              "#9c179e"
             ],
             [
              0.4444444444444444,
              "#bd3786"
             ],
             [
              0.5555555555555556,
              "#d8576b"
             ],
             [
              0.6666666666666666,
              "#ed7953"
             ],
             [
              0.7777777777777778,
              "#fb9f3a"
             ],
             [
              0.8888888888888888,
              "#fdca26"
             ],
             [
              1,
              "#f0f921"
             ]
            ],
            "type": "histogram2dcontour"
           }
          ],
          "mesh3d": [
           {
            "colorbar": {
             "outlinewidth": 0,
             "ticks": ""
            },
            "type": "mesh3d"
           }
          ],
          "parcoords": [
           {
            "line": {
             "colorbar": {
              "outlinewidth": 0,
              "ticks": ""
             }
            },
            "type": "parcoords"
           }
          ],
          "pie": [
           {
            "automargin": true,
            "type": "pie"
           }
          ],
          "scatter": [
           {
            "fillpattern": {
             "fillmode": "overlay",
             "size": 10,
             "solidity": 0.2
            },
            "type": "scatter"
           }
          ],
          "scatter3d": [
           {
            "line": {
             "colorbar": {
              "outlinewidth": 0,
              "ticks": ""
             }
            },
            "marker": {
             "colorbar": {
              "outlinewidth": 0,
              "ticks": ""
             }
            },
            "type": "scatter3d"
           }
          ],
          "scattercarpet": [
           {
            "marker": {
             "colorbar": {
              "outlinewidth": 0,
              "ticks": ""
             }
            },
            "type": "scattercarpet"
           }
          ],
          "scattergeo": [
           {
            "marker": {
             "colorbar": {
              "outlinewidth": 0,
              "ticks": ""
             }
            },
            "type": "scattergeo"
           }
          ],
          "scattergl": [
           {
            "marker": {
             "colorbar": {
              "outlinewidth": 0,
              "ticks": ""
             }
            },
            "type": "scattergl"
           }
          ],
          "scattermapbox": [
           {
            "marker": {
             "colorbar": {
              "outlinewidth": 0,
              "ticks": ""
             }
            },
            "type": "scattermapbox"
           }
          ],
          "scatterpolar": [
           {
            "marker": {
             "colorbar": {
              "outlinewidth": 0,
              "ticks": ""
             }
            },
            "type": "scatterpolar"
           }
          ],
          "scatterpolargl": [
           {
            "marker": {
             "colorbar": {
              "outlinewidth": 0,
              "ticks": ""
             }
            },
            "type": "scatterpolargl"
           }
          ],
          "scatterternary": [
           {
            "marker": {
             "colorbar": {
              "outlinewidth": 0,
              "ticks": ""
             }
            },
            "type": "scatterternary"
           }
          ],
          "surface": [
           {
            "colorbar": {
             "outlinewidth": 0,
             "ticks": ""
            },
            "colorscale": [
             [
              0,
              "#0d0887"
             ],
             [
              0.1111111111111111,
              "#46039f"
             ],
             [
              0.2222222222222222,
              "#7201a8"
             ],
             [
              0.3333333333333333,
              "#9c179e"
             ],
             [
              0.4444444444444444,
              "#bd3786"
             ],
             [
              0.5555555555555556,
              "#d8576b"
             ],
             [
              0.6666666666666666,
              "#ed7953"
             ],
             [
              0.7777777777777778,
              "#fb9f3a"
             ],
             [
              0.8888888888888888,
              "#fdca26"
             ],
             [
              1,
              "#f0f921"
             ]
            ],
            "type": "surface"
           }
          ],
          "table": [
           {
            "cells": {
             "fill": {
              "color": "#EBF0F8"
             },
             "line": {
              "color": "white"
             }
            },
            "header": {
             "fill": {
              "color": "#C8D4E3"
             },
             "line": {
              "color": "white"
             }
            },
            "type": "table"
           }
          ]
         },
         "layout": {
          "annotationdefaults": {
           "arrowcolor": "#2a3f5f",
           "arrowhead": 0,
           "arrowwidth": 1
          },
          "autotypenumbers": "strict",
          "coloraxis": {
           "colorbar": {
            "outlinewidth": 0,
            "ticks": ""
           }
          },
          "colorscale": {
           "diverging": [
            [
             0,
             "#8e0152"
            ],
            [
             0.1,
             "#c51b7d"
            ],
            [
             0.2,
             "#de77ae"
            ],
            [
             0.3,
             "#f1b6da"
            ],
            [
             0.4,
             "#fde0ef"
            ],
            [
             0.5,
             "#f7f7f7"
            ],
            [
             0.6,
             "#e6f5d0"
            ],
            [
             0.7,
             "#b8e186"
            ],
            [
             0.8,
             "#7fbc41"
            ],
            [
             0.9,
             "#4d9221"
            ],
            [
             1,
             "#276419"
            ]
           ],
           "sequential": [
            [
             0,
             "#0d0887"
            ],
            [
             0.1111111111111111,
             "#46039f"
            ],
            [
             0.2222222222222222,
             "#7201a8"
            ],
            [
             0.3333333333333333,
             "#9c179e"
            ],
            [
             0.4444444444444444,
             "#bd3786"
            ],
            [
             0.5555555555555556,
             "#d8576b"
            ],
            [
             0.6666666666666666,
             "#ed7953"
            ],
            [
             0.7777777777777778,
             "#fb9f3a"
            ],
            [
             0.8888888888888888,
             "#fdca26"
            ],
            [
             1,
             "#f0f921"
            ]
           ],
           "sequentialminus": [
            [
             0,
             "#0d0887"
            ],
            [
             0.1111111111111111,
             "#46039f"
            ],
            [
             0.2222222222222222,
             "#7201a8"
            ],
            [
             0.3333333333333333,
             "#9c179e"
            ],
            [
             0.4444444444444444,
             "#bd3786"
            ],
            [
             0.5555555555555556,
             "#d8576b"
            ],
            [
             0.6666666666666666,
             "#ed7953"
            ],
            [
             0.7777777777777778,
             "#fb9f3a"
            ],
            [
             0.8888888888888888,
             "#fdca26"
            ],
            [
             1,
             "#f0f921"
            ]
           ]
          },
          "colorway": [
           "#636efa",
           "#EF553B",
           "#00cc96",
           "#ab63fa",
           "#FFA15A",
           "#19d3f3",
           "#FF6692",
           "#B6E880",
           "#FF97FF",
           "#FECB52"
          ],
          "font": {
           "color": "#2a3f5f"
          },
          "geo": {
           "bgcolor": "white",
           "lakecolor": "white",
           "landcolor": "#E5ECF6",
           "showlakes": true,
           "showland": true,
           "subunitcolor": "white"
          },
          "hoverlabel": {
           "align": "left"
          },
          "hovermode": "closest",
          "mapbox": {
           "style": "light"
          },
          "paper_bgcolor": "white",
          "plot_bgcolor": "#E5ECF6",
          "polar": {
           "angularaxis": {
            "gridcolor": "white",
            "linecolor": "white",
            "ticks": ""
           },
           "bgcolor": "#E5ECF6",
           "radialaxis": {
            "gridcolor": "white",
            "linecolor": "white",
            "ticks": ""
           }
          },
          "scene": {
           "xaxis": {
            "backgroundcolor": "#E5ECF6",
            "gridcolor": "white",
            "gridwidth": 2,
            "linecolor": "white",
            "showbackground": true,
            "ticks": "",
            "zerolinecolor": "white"
           },
           "yaxis": {
            "backgroundcolor": "#E5ECF6",
            "gridcolor": "white",
            "gridwidth": 2,
            "linecolor": "white",
            "showbackground": true,
            "ticks": "",
            "zerolinecolor": "white"
           },
           "zaxis": {
            "backgroundcolor": "#E5ECF6",
            "gridcolor": "white",
            "gridwidth": 2,
            "linecolor": "white",
            "showbackground": true,
            "ticks": "",
            "zerolinecolor": "white"
           }
          },
          "shapedefaults": {
           "line": {
            "color": "#2a3f5f"
           }
          },
          "ternary": {
           "aaxis": {
            "gridcolor": "white",
            "linecolor": "white",
            "ticks": ""
           },
           "baxis": {
            "gridcolor": "white",
            "linecolor": "white",
            "ticks": ""
           },
           "bgcolor": "#E5ECF6",
           "caxis": {
            "gridcolor": "white",
            "linecolor": "white",
            "ticks": ""
           }
          },
          "title": {
           "x": 0.05
          },
          "xaxis": {
           "automargin": true,
           "gridcolor": "white",
           "linecolor": "white",
           "ticks": "",
           "title": {
            "standoff": 15
           },
           "zerolinecolor": "white",
           "zerolinewidth": 2
          },
          "yaxis": {
           "automargin": true,
           "gridcolor": "white",
           "linecolor": "white",
           "ticks": "",
           "title": {
            "standoff": 15
           },
           "zerolinecolor": "white",
           "zerolinewidth": 2
          }
         }
        },
        "title": {
         "text": "Linear Model - Top 10 Feature Combinations within Feature Groups"
        },
        "width": 1100,
        "xaxis": {
         "anchor": "y",
         "autorange": true,
         "domain": [
          0,
          0.2125
         ],
         "range": [
          -0.5,
          0.5
         ],
         "type": "category"
        },
        "xaxis2": {
         "anchor": "y2",
         "autorange": true,
         "domain": [
          0.2625,
          0.475
         ],
         "range": [
          -0.5,
          0.5
         ],
         "type": "category"
        },
        "xaxis3": {
         "anchor": "y3",
         "autorange": true,
         "domain": [
          0.525,
          0.7375
         ],
         "range": [
          -0.5,
          0.5
         ],
         "type": "category"
        },
        "xaxis4": {
         "anchor": "y4",
         "autorange": true,
         "domain": [
          0.7875,
          1
         ],
         "range": [
          -0.5,
          0.5
         ],
         "type": "category"
        },
        "yaxis": {
         "anchor": "x",
         "autorange": true,
         "domain": [
          0,
          1
         ],
         "range": [
          0.35713430551449493,
          0.36104556858241355
         ],
         "type": "linear"
        },
        "yaxis2": {
         "anchor": "x2",
         "autorange": true,
         "domain": [
          0,
          1
         ],
         "matches": "y",
         "range": [
          0.35713430551449493,
          0.36104556858241355
         ],
         "showticklabels": false,
         "type": "linear"
        },
        "yaxis3": {
         "anchor": "x3",
         "autorange": true,
         "domain": [
          0,
          1
         ],
         "matches": "y",
         "range": [
          0.35713430551449493,
          0.36104556858241355
         ],
         "showticklabels": false,
         "type": "linear"
        },
        "yaxis4": {
         "anchor": "x4",
         "autorange": true,
         "domain": [
          0,
          1
         ],
         "matches": "y",
         "range": [
          0.35713430551449493,
          0.36104556858241355
         ],
         "showticklabels": false,
         "type": "linear"
        }
       }
      }
     },
     "metadata": {},
     "output_type": "display_data"
    }
   ],
   "source": [
    "fig = make_subplots(rows=1, cols=4, shared_yaxes=True)\n",
    "\n",
    "fig.add_trace(go.Box(y=df_agg_metrics[df_agg_metrics['model'] == 'lr'].sort_values(by=['mean_rmse']).head(10)['mean_rmse'],\n",
    "                     name=\"all combinations\"),\n",
    "              row=1, col=1)\n",
    "\n",
    "fig.add_trace(go.Box(y=df_agg_metrics[(df_agg_metrics['keyword_f_only'] == True) & (df_agg_metrics['model'] == 'lr')].head(10)['mean_rmse'],\n",
    "                    name=\"only keyword features\"),\n",
    "              row=1, col=2)\n",
    "\n",
    "fig.add_trace(go.Box(y=df_agg_metrics[(df_agg_metrics['neural_f'] == True) & (df_agg_metrics['model'] == 'lr')].sort_values(by=['mean_rmse']).head(10)['mean_rmse'],\n",
    "                    name=\"only neural features\"),\n",
    "              row=1, col=3)\n",
    "\n",
    "fig.add_trace(go.Box(y=df_agg_metrics[(df_agg_metrics['query_f_only'] == True) & (df_agg_metrics['model'] == 'lr')].sort_values(by=['mean_rmse']).head(10)['mean_rmse'],\n",
    "                    name=\"only query features\"),\n",
    "              row=1, col=4)\n",
    "\n",
    "fig.update_layout(height=800, width=1100,\n",
    "                  title_text=\"Linear Model - Top 10 Feature Combinations within Feature Groups\")\n",
    "fig.show()"
   ]
  },
  {
   "cell_type": "code",
   "execution_count": 132,
   "id": "ec09bf70-9b1f-46b7-8739-b6eec18c7191",
   "metadata": {},
   "outputs": [
    {
     "data": {
      "application/vnd.plotly.v1+json": {
       "config": {
        "plotlyServerURL": "https://plot.ly"
       },
       "data": [
        {
         "name": "all combinations",
         "type": "box",
         "xaxis": "x",
         "y": [
          0.34714997380057133,
          0.34717264702175027,
          0.3471864712543465,
          0.3472412229564965,
          0.3473311448654239,
          0.3473733056726006,
          0.3474048242908378,
          0.34740534843094273,
          0.3474060200054052,
          0.34745823303590784
         ],
         "yaxis": "y"
        },
        {
         "name": "only keyword features",
         "type": "box",
         "xaxis": "x2",
         "y": [
          0.37848980622930767,
          0.3488306338793695,
          0.36687608472882266,
          0.34929056300344696,
          0.37502424663212136,
          0.3494296611714406,
          0.38214835913615863,
          0.35423368506009445
         ],
         "yaxis": "y2"
        },
        {
         "name": "only neural features",
         "type": "box",
         "xaxis": "x3",
         "y": [
          0.34714997380057133,
          0.34717264702175027,
          0.3471864712543465,
          0.3472412229564965,
          0.3473311448654239,
          0.3473733056726006,
          0.3474048242908378,
          0.34740534843094273,
          0.3474060200054052,
          0.34745823303590784
         ],
         "yaxis": "y3"
        },
        {
         "name": "only query features",
         "type": "box",
         "xaxis": "x4",
         "y": [
          0.3601543033786928,
          0.3602356250723818,
          0.3603517188578005,
          0.36047415433109553,
          0.36048700089937497,
          0.36051887360090323,
          0.36055026945080837,
          0.36063623242770987,
          0.36063682831833466,
          0.3606638545489184
         ],
         "yaxis": "y4"
        }
       ],
       "layout": {
        "height": 800,
        "template": {
         "data": {
          "bar": [
           {
            "error_x": {
             "color": "#2a3f5f"
            },
            "error_y": {
             "color": "#2a3f5f"
            },
            "marker": {
             "line": {
              "color": "#E5ECF6",
              "width": 0.5
             },
             "pattern": {
              "fillmode": "overlay",
              "size": 10,
              "solidity": 0.2
             }
            },
            "type": "bar"
           }
          ],
          "barpolar": [
           {
            "marker": {
             "line": {
              "color": "#E5ECF6",
              "width": 0.5
             },
             "pattern": {
              "fillmode": "overlay",
              "size": 10,
              "solidity": 0.2
             }
            },
            "type": "barpolar"
           }
          ],
          "carpet": [
           {
            "aaxis": {
             "endlinecolor": "#2a3f5f",
             "gridcolor": "white",
             "linecolor": "white",
             "minorgridcolor": "white",
             "startlinecolor": "#2a3f5f"
            },
            "baxis": {
             "endlinecolor": "#2a3f5f",
             "gridcolor": "white",
             "linecolor": "white",
             "minorgridcolor": "white",
             "startlinecolor": "#2a3f5f"
            },
            "type": "carpet"
           }
          ],
          "choropleth": [
           {
            "colorbar": {
             "outlinewidth": 0,
             "ticks": ""
            },
            "type": "choropleth"
           }
          ],
          "contour": [
           {
            "colorbar": {
             "outlinewidth": 0,
             "ticks": ""
            },
            "colorscale": [
             [
              0,
              "#0d0887"
             ],
             [
              0.1111111111111111,
              "#46039f"
             ],
             [
              0.2222222222222222,
              "#7201a8"
             ],
             [
              0.3333333333333333,
              "#9c179e"
             ],
             [
              0.4444444444444444,
              "#bd3786"
             ],
             [
              0.5555555555555556,
              "#d8576b"
             ],
             [
              0.6666666666666666,
              "#ed7953"
             ],
             [
              0.7777777777777778,
              "#fb9f3a"
             ],
             [
              0.8888888888888888,
              "#fdca26"
             ],
             [
              1,
              "#f0f921"
             ]
            ],
            "type": "contour"
           }
          ],
          "contourcarpet": [
           {
            "colorbar": {
             "outlinewidth": 0,
             "ticks": ""
            },
            "type": "contourcarpet"
           }
          ],
          "heatmap": [
           {
            "colorbar": {
             "outlinewidth": 0,
             "ticks": ""
            },
            "colorscale": [
             [
              0,
              "#0d0887"
             ],
             [
              0.1111111111111111,
              "#46039f"
             ],
             [
              0.2222222222222222,
              "#7201a8"
             ],
             [
              0.3333333333333333,
              "#9c179e"
             ],
             [
              0.4444444444444444,
              "#bd3786"
             ],
             [
              0.5555555555555556,
              "#d8576b"
             ],
             [
              0.6666666666666666,
              "#ed7953"
             ],
             [
              0.7777777777777778,
              "#fb9f3a"
             ],
             [
              0.8888888888888888,
              "#fdca26"
             ],
             [
              1,
              "#f0f921"
             ]
            ],
            "type": "heatmap"
           }
          ],
          "heatmapgl": [
           {
            "colorbar": {
             "outlinewidth": 0,
             "ticks": ""
            },
            "colorscale": [
             [
              0,
              "#0d0887"
             ],
             [
              0.1111111111111111,
              "#46039f"
             ],
             [
              0.2222222222222222,
              "#7201a8"
             ],
             [
              0.3333333333333333,
              "#9c179e"
             ],
             [
              0.4444444444444444,
              "#bd3786"
             ],
             [
              0.5555555555555556,
              "#d8576b"
             ],
             [
              0.6666666666666666,
              "#ed7953"
             ],
             [
              0.7777777777777778,
              "#fb9f3a"
             ],
             [
              0.8888888888888888,
              "#fdca26"
             ],
             [
              1,
              "#f0f921"
             ]
            ],
            "type": "heatmapgl"
           }
          ],
          "histogram": [
           {
            "marker": {
             "pattern": {
              "fillmode": "overlay",
              "size": 10,
              "solidity": 0.2
             }
            },
            "type": "histogram"
           }
          ],
          "histogram2d": [
           {
            "colorbar": {
             "outlinewidth": 0,
             "ticks": ""
            },
            "colorscale": [
             [
              0,
              "#0d0887"
             ],
             [
              0.1111111111111111,
              "#46039f"
             ],
             [
              0.2222222222222222,
              "#7201a8"
             ],
             [
              0.3333333333333333,
              "#9c179e"
             ],
             [
              0.4444444444444444,
              "#bd3786"
             ],
             [
              0.5555555555555556,
              "#d8576b"
             ],
             [
              0.6666666666666666,
              "#ed7953"
             ],
             [
              0.7777777777777778,
              "#fb9f3a"
             ],
             [
              0.8888888888888888,
              "#fdca26"
             ],
             [
              1,
              "#f0f921"
             ]
            ],
            "type": "histogram2d"
           }
          ],
          "histogram2dcontour": [
           {
            "colorbar": {
             "outlinewidth": 0,
             "ticks": ""
            },
            "colorscale": [
             [
              0,
              "#0d0887"
             ],
             [
              0.1111111111111111,
              "#46039f"
             ],
             [
              0.2222222222222222,
              "#7201a8"
             ],
             [
              0.3333333333333333,
              "#9c179e"
             ],
             [
              0.4444444444444444,
              "#bd3786"
             ],
             [
              0.5555555555555556,
              "#d8576b"
             ],
             [
              0.6666666666666666,
              "#ed7953"
             ],
             [
              0.7777777777777778,
              "#fb9f3a"
             ],
             [
              0.8888888888888888,
              "#fdca26"
             ],
             [
              1,
              "#f0f921"
             ]
            ],
            "type": "histogram2dcontour"
           }
          ],
          "mesh3d": [
           {
            "colorbar": {
             "outlinewidth": 0,
             "ticks": ""
            },
            "type": "mesh3d"
           }
          ],
          "parcoords": [
           {
            "line": {
             "colorbar": {
              "outlinewidth": 0,
              "ticks": ""
             }
            },
            "type": "parcoords"
           }
          ],
          "pie": [
           {
            "automargin": true,
            "type": "pie"
           }
          ],
          "scatter": [
           {
            "fillpattern": {
             "fillmode": "overlay",
             "size": 10,
             "solidity": 0.2
            },
            "type": "scatter"
           }
          ],
          "scatter3d": [
           {
            "line": {
             "colorbar": {
              "outlinewidth": 0,
              "ticks": ""
             }
            },
            "marker": {
             "colorbar": {
              "outlinewidth": 0,
              "ticks": ""
             }
            },
            "type": "scatter3d"
           }
          ],
          "scattercarpet": [
           {
            "marker": {
             "colorbar": {
              "outlinewidth": 0,
              "ticks": ""
             }
            },
            "type": "scattercarpet"
           }
          ],
          "scattergeo": [
           {
            "marker": {
             "colorbar": {
              "outlinewidth": 0,
              "ticks": ""
             }
            },
            "type": "scattergeo"
           }
          ],
          "scattergl": [
           {
            "marker": {
             "colorbar": {
              "outlinewidth": 0,
              "ticks": ""
             }
            },
            "type": "scattergl"
           }
          ],
          "scattermapbox": [
           {
            "marker": {
             "colorbar": {
              "outlinewidth": 0,
              "ticks": ""
             }
            },
            "type": "scattermapbox"
           }
          ],
          "scatterpolar": [
           {
            "marker": {
             "colorbar": {
              "outlinewidth": 0,
              "ticks": ""
             }
            },
            "type": "scatterpolar"
           }
          ],
          "scatterpolargl": [
           {
            "marker": {
             "colorbar": {
              "outlinewidth": 0,
              "ticks": ""
             }
            },
            "type": "scatterpolargl"
           }
          ],
          "scatterternary": [
           {
            "marker": {
             "colorbar": {
              "outlinewidth": 0,
              "ticks": ""
             }
            },
            "type": "scatterternary"
           }
          ],
          "surface": [
           {
            "colorbar": {
             "outlinewidth": 0,
             "ticks": ""
            },
            "colorscale": [
             [
              0,
              "#0d0887"
             ],
             [
              0.1111111111111111,
              "#46039f"
             ],
             [
              0.2222222222222222,
              "#7201a8"
             ],
             [
              0.3333333333333333,
              "#9c179e"
             ],
             [
              0.4444444444444444,
              "#bd3786"
             ],
             [
              0.5555555555555556,
              "#d8576b"
             ],
             [
              0.6666666666666666,
              "#ed7953"
             ],
             [
              0.7777777777777778,
              "#fb9f3a"
             ],
             [
              0.8888888888888888,
              "#fdca26"
             ],
             [
              1,
              "#f0f921"
             ]
            ],
            "type": "surface"
           }
          ],
          "table": [
           {
            "cells": {
             "fill": {
              "color": "#EBF0F8"
             },
             "line": {
              "color": "white"
             }
            },
            "header": {
             "fill": {
              "color": "#C8D4E3"
             },
             "line": {
              "color": "white"
             }
            },
            "type": "table"
           }
          ]
         },
         "layout": {
          "annotationdefaults": {
           "arrowcolor": "#2a3f5f",
           "arrowhead": 0,
           "arrowwidth": 1
          },
          "autotypenumbers": "strict",
          "coloraxis": {
           "colorbar": {
            "outlinewidth": 0,
            "ticks": ""
           }
          },
          "colorscale": {
           "diverging": [
            [
             0,
             "#8e0152"
            ],
            [
             0.1,
             "#c51b7d"
            ],
            [
             0.2,
             "#de77ae"
            ],
            [
             0.3,
             "#f1b6da"
            ],
            [
             0.4,
             "#fde0ef"
            ],
            [
             0.5,
             "#f7f7f7"
            ],
            [
             0.6,
             "#e6f5d0"
            ],
            [
             0.7,
             "#b8e186"
            ],
            [
             0.8,
             "#7fbc41"
            ],
            [
             0.9,
             "#4d9221"
            ],
            [
             1,
             "#276419"
            ]
           ],
           "sequential": [
            [
             0,
             "#0d0887"
            ],
            [
             0.1111111111111111,
             "#46039f"
            ],
            [
             0.2222222222222222,
             "#7201a8"
            ],
            [
             0.3333333333333333,
             "#9c179e"
            ],
            [
             0.4444444444444444,
             "#bd3786"
            ],
            [
             0.5555555555555556,
             "#d8576b"
            ],
            [
             0.6666666666666666,
             "#ed7953"
            ],
            [
             0.7777777777777778,
             "#fb9f3a"
            ],
            [
             0.8888888888888888,
             "#fdca26"
            ],
            [
             1,
             "#f0f921"
            ]
           ],
           "sequentialminus": [
            [
             0,
             "#0d0887"
            ],
            [
             0.1111111111111111,
             "#46039f"
            ],
            [
             0.2222222222222222,
             "#7201a8"
            ],
            [
             0.3333333333333333,
             "#9c179e"
            ],
            [
             0.4444444444444444,
             "#bd3786"
            ],
            [
             0.5555555555555556,
             "#d8576b"
            ],
            [
             0.6666666666666666,
             "#ed7953"
            ],
            [
             0.7777777777777778,
             "#fb9f3a"
            ],
            [
             0.8888888888888888,
             "#fdca26"
            ],
            [
             1,
             "#f0f921"
            ]
           ]
          },
          "colorway": [
           "#636efa",
           "#EF553B",
           "#00cc96",
           "#ab63fa",
           "#FFA15A",
           "#19d3f3",
           "#FF6692",
           "#B6E880",
           "#FF97FF",
           "#FECB52"
          ],
          "font": {
           "color": "#2a3f5f"
          },
          "geo": {
           "bgcolor": "white",
           "lakecolor": "white",
           "landcolor": "#E5ECF6",
           "showlakes": true,
           "showland": true,
           "subunitcolor": "white"
          },
          "hoverlabel": {
           "align": "left"
          },
          "hovermode": "closest",
          "mapbox": {
           "style": "light"
          },
          "paper_bgcolor": "white",
          "plot_bgcolor": "#E5ECF6",
          "polar": {
           "angularaxis": {
            "gridcolor": "white",
            "linecolor": "white",
            "ticks": ""
           },
           "bgcolor": "#E5ECF6",
           "radialaxis": {
            "gridcolor": "white",
            "linecolor": "white",
            "ticks": ""
           }
          },
          "scene": {
           "xaxis": {
            "backgroundcolor": "#E5ECF6",
            "gridcolor": "white",
            "gridwidth": 2,
            "linecolor": "white",
            "showbackground": true,
            "ticks": "",
            "zerolinecolor": "white"
           },
           "yaxis": {
            "backgroundcolor": "#E5ECF6",
            "gridcolor": "white",
            "gridwidth": 2,
            "linecolor": "white",
            "showbackground": true,
            "ticks": "",
            "zerolinecolor": "white"
           },
           "zaxis": {
            "backgroundcolor": "#E5ECF6",
            "gridcolor": "white",
            "gridwidth": 2,
            "linecolor": "white",
            "showbackground": true,
            "ticks": "",
            "zerolinecolor": "white"
           }
          },
          "shapedefaults": {
           "line": {
            "color": "#2a3f5f"
           }
          },
          "ternary": {
           "aaxis": {
            "gridcolor": "white",
            "linecolor": "white",
            "ticks": ""
           },
           "baxis": {
            "gridcolor": "white",
            "linecolor": "white",
            "ticks": ""
           },
           "bgcolor": "#E5ECF6",
           "caxis": {
            "gridcolor": "white",
            "linecolor": "white",
            "ticks": ""
           }
          },
          "title": {
           "x": 0.05
          },
          "xaxis": {
           "automargin": true,
           "gridcolor": "white",
           "linecolor": "white",
           "ticks": "",
           "title": {
            "standoff": 15
           },
           "zerolinecolor": "white",
           "zerolinewidth": 2
          },
          "yaxis": {
           "automargin": true,
           "gridcolor": "white",
           "linecolor": "white",
           "ticks": "",
           "title": {
            "standoff": 15
           },
           "zerolinecolor": "white",
           "zerolinewidth": 2
          }
         }
        },
        "title": {
         "text": "Random Forest - Top 10 Feature Combinations within Feature Groups"
        },
        "width": 1100,
        "xaxis": {
         "anchor": "y",
         "autorange": true,
         "domain": [
          0,
          0.2125
         ],
         "range": [
          -0.5,
          0.5
         ],
         "type": "category"
        },
        "xaxis2": {
         "anchor": "y2",
         "autorange": true,
         "domain": [
          0.2625,
          0.475
         ],
         "range": [
          -0.5,
          0.5
         ],
         "type": "category"
        },
        "xaxis3": {
         "anchor": "y3",
         "autorange": true,
         "domain": [
          0.525,
          0.7375
         ],
         "range": [
          -0.5,
          0.5
         ],
         "type": "category"
        },
        "xaxis4": {
         "anchor": "y4",
         "autorange": true,
         "domain": [
          0.7875,
          1
         ],
         "range": [
          -0.5,
          0.5
         ],
         "type": "category"
        },
        "yaxis": {
         "anchor": "x",
         "autorange": true,
         "domain": [
          0,
          1
         ],
         "range": [
          0.34520561905970537,
          0.3840927138770246
         ],
         "type": "linear"
        },
        "yaxis2": {
         "anchor": "x2",
         "autorange": true,
         "domain": [
          0,
          1
         ],
         "matches": "y",
         "range": [
          0.34520561905970537,
          0.3840927138770246
         ],
         "showticklabels": false,
         "type": "linear"
        },
        "yaxis3": {
         "anchor": "x3",
         "autorange": true,
         "domain": [
          0,
          1
         ],
         "matches": "y",
         "range": [
          0.34520561905970537,
          0.3840927138770246
         ],
         "showticklabels": false,
         "type": "linear"
        },
        "yaxis4": {
         "anchor": "x4",
         "autorange": true,
         "domain": [
          0,
          1
         ],
         "matches": "y",
         "range": [
          0.34520561905970537,
          0.3840927138770246
         ],
         "showticklabels": false,
         "type": "linear"
        }
       }
      }
     },
     "metadata": {},
     "output_type": "display_data"
    }
   ],
   "source": [
    "fig = make_subplots(rows=1, cols=4, shared_yaxes=True)\n",
    "\n",
    "fig.add_trace(go.Box(y=df_agg_metrics[df_agg_metrics['model'] == 'rf'].sort_values(by=['mean_rmse']).head(10)['mean_rmse'],\n",
    "                     name=\"all combinations\"),\n",
    "              row=1, col=1)\n",
    "\n",
    "fig.add_trace(go.Box(y=df_agg_metrics[(df_agg_metrics['keyword_f_only'] == True) & (df_agg_metrics['model'] == 'rf')].head(10)['mean_rmse'],\n",
    "                    name=\"only keyword features\"),\n",
    "              row=1, col=2)\n",
    "\n",
    "fig.add_trace(go.Box(y=df_agg_metrics[(df_agg_metrics['neural_f'] == True) & (df_agg_metrics['model'] == 'rf')].sort_values(by=['mean_rmse']).head(10)['mean_rmse'],\n",
    "                    name=\"only neural features\"),\n",
    "              row=1, col=3)\n",
    "\n",
    "fig.add_trace(go.Box(y=df_agg_metrics[(df_agg_metrics['query_f_only'] == True) & (df_agg_metrics['model'] == 'rf')].sort_values(by=['mean_rmse']).head(10)['mean_rmse'],\n",
    "                    name=\"only query features\"),\n",
    "              row=1, col=4)\n",
    "\n",
    "fig.update_layout(height=800, width=1100,\n",
    "                  title_text=\"Random Forest - Top 10 Feature Combinations within Feature Groups\")\n",
    "fig.show()"
   ]
  },
  {
   "cell_type": "markdown",
   "id": "98afa583-dea4-4cf1-9365-16141fb2f307",
   "metadata": {},
   "source": [
    "# Train Models\n",
    "\n",
    "With the above exploration and analysis done, we can train a linear regression model and a random forest regressor by using some of the insights the analysis produced."
   ]
  },
  {
   "cell_type": "markdown",
   "id": "9a08e042-2293-43a4-b088-5202f232355d",
   "metadata": {},
   "source": [
    "## Train a Linear Regression Model with cross-validation"
   ]
  },
  {
   "cell_type": "code",
   "execution_count": 147,
   "id": "e2059c2e-1ca9-4529-949c-c939225ff637",
   "metadata": {},
   "outputs": [
    {
     "name": "stdout",
     "output_type": "stream",
     "text": [
      "Cross-Validation Root Mean Squared Error: 0.35732986866789085\n",
      "Root Mean Squared Error: 0.3610767534918256\n",
      "R^2 Score: 0.01869201474127502\n"
     ]
    }
   ],
   "source": [
    "from sklearn.linear_model import LinearRegression\n",
    "from sklearn.model_selection import ShuffleSplit, cross_val_score, train_test_split\n",
    "\n",
    "# Prepare features and target - the best feature combination based on the previous exploration\n",
    "#feature_columns = [ \"f_1_num_of_terms\", \"f_2_query_length\", \"f_3_has_numbers\", \"f_4_has_special_char\", \"f_5_num_results\",\n",
    "#                   \"f_6_max_title_score\", \"f_7_sum_title_scores\", \"f_8_max_semantic_score\",  \"f_9_avg_semantic_score\"]\n",
    "feature_columns = ['f_1_num_of_terms', 'f_3_has_numbers', 'f_5_num_results', 'f_6_max_title_score', 'f_7_sum_title_scores',\n",
    "                   'f_8_max_semantic_score', 'f_9_avg_semantic_score']\n",
    "X = df_filtered[feature_columns]   # Select feature columns\n",
    "y = df_filtered['neuralness']      # Select the target column\n",
    "\n",
    "# Initialize cross-validation strategy\n",
    "cv = ShuffleSplit(n_splits=5, test_size=0.2, random_state=0)\n",
    "\n",
    "# Define the model\n",
    "regr = LinearRegression()\n",
    "\n",
    "# Perform cross-validation\n",
    "rmse_scorer = make_scorer(root_mean_squared_error)\n",
    "\n",
    "rmse_scores = cross_val_score(regr, X, y, cv=cv, scoring=rmse_scorer)\n",
    "\n",
    "# Output the results\n",
    "print(\"Cross-Validation Root Mean Squared Error:\", np.mean(rmse_scores))\n",
    "\n",
    "# Split data into training and testing sets\n",
    "X_train, X_test, y_train, y_test = train_test_split(X, y, test_size=0.2, random_state=42)\n",
    "\n",
    "regr.fit(X_train, y_train)\n",
    "\n",
    "y_regr_pred = regr.predict(X_test)\n",
    "\n",
    "# Evaluate the model\n",
    "rmse = root_mean_squared_error(y_test, y_regr_pred)\n",
    "r2 = r2_score(y_test, y_regr_pred)\n",
    "\n",
    "print(\"Root Mean Squared Error:\", rmse)\n",
    "print(\"R^2 Score:\", r2)"
   ]
  },
  {
   "cell_type": "markdown",
   "id": "f58de3fa-8610-4e0f-b5ad-8dd12ca74c98",
   "metadata": {},
   "source": [
    "## Train a Random Forest Regression Model with cross-validation"
   ]
  },
  {
   "cell_type": "markdown",
   "id": "6f298b50-560e-43de-9d23-6ceff31afea1",
   "metadata": {},
   "source": [
    "The RandomForestRegressor parameters were the best set identified as part of a series of experiments. See https://github.com/o19s/opensearch-hybrid-search-optimization/issues/1 for additional information."
   ]
  },
  {
   "cell_type": "code",
   "execution_count": 148,
   "id": "cd9b5f31-4809-44e6-ac60-3106fccad5f1",
   "metadata": {
    "scrolled": true
   },
   "outputs": [
    {
     "name": "stdout",
     "output_type": "stream",
     "text": [
      "Cross-Validation Root Mean Squared Error: 0.34683362136019724\n",
      "Root Mean Squared Error: 0.35095592838015427\n",
      "R^2 Score: 0.07293231976513026\n"
     ]
    }
   ],
   "source": [
    "from sklearn.ensemble import RandomForestRegressor\n",
    "from sklearn.metrics import make_scorer, root_mean_squared_error, r2_score\n",
    "import numpy as np\n",
    "\n",
    "# Prepare features and target\n",
    "#feature_columns = [ \"f_1_num_of_terms\", \"f_2_query_length\", \"f_3_has_numbers\", \"f_4_has_special_char\", \"f_5_num_results\",\n",
    "#                   \"f_6_max_title_score\", \"f_7_sum_title_scores\", \"f_8_max_semantic_score\",  \"f_9_avg_semantic_score\"]\n",
    "feature_columns = ['f_1_num_of_terms', 'f_3_has_numbers', 'f_4_has_special_char', 'f_5_num_results', 'f_6_max_title_score',\n",
    "                   'f_7_sum_title_scores', 'f_8_max_semantic_score', 'f_9_avg_semantic_score']\n",
    "X = df_filtered[feature_columns]   # Select feature columns\n",
    "y = df_filtered['neuralness']      # Select the target column\n",
    "\n",
    "# Initialize cross-validation strategy\n",
    "cv = ShuffleSplit(n_splits=5, test_size=0.2, random_state=0)\n",
    "\n",
    "# Define the model\n",
    "model = RandomForestRegressor(n_estimators=200, min_samples_split=2, min_samples_leaf=1, max_features=\"log2\", \n",
    "                                max_depth=10, random_state=42)\n",
    "\n",
    "# Perform cross-validation\n",
    "rmse_scorer = make_scorer(root_mean_squared_error)\n",
    "\n",
    "rmse_scores = cross_val_score(model, X, y, cv=cv, scoring=rmse_scorer)\n",
    "\n",
    "# Output the results\n",
    "print(\"Cross-Validation Root Mean Squared Error:\", np.mean(rmse_scores))\n",
    "\n",
    "# Split data into training and testing sets\n",
    "X_train, X_test, y_train, y_test = train_test_split(X, y, test_size=0.2, random_state=42)\n",
    "\n",
    "# Train the model on the training data\n",
    "model.fit(X_train, y_train)\n",
    "\n",
    "# Predict on the test data\n",
    "y_pred = model.predict(X_test)\n",
    "\n",
    "# Evaluate the model\n",
    "rmse = root_mean_squared_error(y_test, y_pred)\n",
    "r2 = r2_score(y_test, y_pred)\n",
    "\n",
    "print(\"Root Mean Squared Error:\", rmse)\n",
    "print(\"R^2 Score:\", r2)"
   ]
  },
  {
   "cell_type": "code",
   "execution_count": 149,
   "id": "c4b38456-7c64-4266-8000-1dcbc5d65277",
   "metadata": {},
   "outputs": [],
   "source": [
    "# Store the test data for later usage\n",
    "df_filtered.loc[df_filtered.index.isin(X_test.index)].to_csv('dynamic_optimizer_test_data.csv', index=False)"
   ]
  },
  {
   "cell_type": "markdown",
   "id": "7ceaa570-31b8-46e7-a581-76b7e8eec921",
   "metadata": {},
   "source": [
    "## Save Models"
   ]
  },
  {
   "cell_type": "code",
   "execution_count": 150,
   "id": "7b78d3a4-1b1f-4205-b0b2-82ec37938626",
   "metadata": {},
   "outputs": [],
   "source": [
    "import pickle\n",
    "\n",
    "with open('regression_model.pkl', 'wb') as fid:\n",
    "    pickle.dump(regr, fid) \n",
    "\n",
    "with open('random_forest_model.pkl', 'wb') as fid:\n",
    "    pickle.dump(model, fid) "
   ]
  },
  {
   "cell_type": "code",
   "execution_count": null,
   "id": "74d873cc-6cf5-4cd2-87da-42aee33825e9",
   "metadata": {},
   "outputs": [],
   "source": []
  }
 ],
 "metadata": {
  "kernelspec": {
   "display_name": ".venv",
   "language": "python",
   "name": ".venv"
  },
  "language_info": {
   "codemirror_mode": {
    "name": "ipython",
    "version": 3
   },
   "file_extension": ".py",
   "mimetype": "text/x-python",
   "name": "python",
   "nbconvert_exporter": "python",
   "pygments_lexer": "ipython3",
   "version": "3.12.6"
  }
 },
 "nbformat": 4,
 "nbformat_minor": 5
}
