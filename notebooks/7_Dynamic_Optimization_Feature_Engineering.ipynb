{
 "cells": [
  {
   "cell_type": "markdown",
   "id": "29730fbc-4c4d-4141-9b35-521aa23e052d",
   "metadata": {},
   "source": [
    "# Feature Engineering and Model Training for Per-Query Optimization\n",
    "\n",
    "This notebook goes through the process of feature engineering based on the query set used for the global hybrid search optimization notebook.\n",
    "\n",
    "It tries out different feature combinations and model types to identify a useful way forward towards optimizing queries dynamically.\n",
    "\n",
    "Notes:\n",
    "\n",
    "* `searcharray` produced an error with numpy version 2.1.2\n",
    "* Make sure to use `numpy==1.26.4`\n",
    "\n",
    "Error fixed in the meantime (not verified)"
   ]
  },
  {
   "cell_type": "code",
   "execution_count": 175,
   "id": "c5e017f9-90a2-41f6-ab60-41f75ba4d533",
   "metadata": {},
   "outputs": [],
   "source": [
    "import pandas as pd\n",
    "import math\n",
    "import string\n",
    "import requests\n",
    "import json\n",
    "from searcharray import SearchArray\n",
    "import numpy as np\n",
    "import plotly.express as px\n",
    "import plotly.io as pio\n",
    "from plotly.subplots import make_subplots\n",
    "import plotly.graph_objects as go\n",
    "from tqdm.notebook import tqdm_notebook"
   ]
  },
  {
   "cell_type": "code",
   "execution_count": 192,
   "id": "5abdf678-58bf-4082-9bfe-53d69e9935d2",
   "metadata": {},
   "outputs": [],
   "source": [
    "df_metrics_train = pd.read_csv('../data/metrics_query_train_small.csv')\n",
    "df_metrics_test = pd.read_csv('../data/metrics_query_test_small.csv')\n",
    "df_metrics = pd.concat([df_metrics_train, df_metrics_test])\n",
    "df_metrics.reset_index(inplace=True, drop=True)"
   ]
  },
  {
   "cell_type": "code",
   "execution_count": 193,
   "id": "c25417d1-cb51-4622-bfca-2db3a062e438",
   "metadata": {},
   "outputs": [
    {
     "data": {
      "text/html": [
       "<div>\n",
       "<style scoped>\n",
       "    .dataframe tbody tr th:only-of-type {\n",
       "        vertical-align: middle;\n",
       "    }\n",
       "\n",
       "    .dataframe tbody tr th {\n",
       "        vertical-align: top;\n",
       "    }\n",
       "\n",
       "    .dataframe thead th {\n",
       "        text-align: right;\n",
       "    }\n",
       "</style>\n",
       "<table border=\"1\" class=\"dataframe\">\n",
       "  <thead>\n",
       "    <tr style=\"text-align: right;\">\n",
       "      <th></th>\n",
       "      <th>query</th>\n",
       "      <th>pipeline</th>\n",
       "      <th>metric</th>\n",
       "      <th>value</th>\n",
       "    </tr>\n",
       "  </thead>\n",
       "  <tbody>\n",
       "    <tr>\n",
       "      <th>13200</th>\n",
       "      <td>09 g6 wheel not cover grey</td>\n",
       "      <td>l2arithmetic_mean0.0</td>\n",
       "      <td>ndcg</td>\n",
       "      <td>0.0</td>\n",
       "    </tr>\n",
       "    <tr>\n",
       "      <th>13201</th>\n",
       "      <td>09 g6 wheel not cover grey</td>\n",
       "      <td>l2arithmetic_mean0.1</td>\n",
       "      <td>ndcg</td>\n",
       "      <td>0.0</td>\n",
       "    </tr>\n",
       "    <tr>\n",
       "      <th>13202</th>\n",
       "      <td>09 g6 wheel not cover grey</td>\n",
       "      <td>l2arithmetic_mean0.2</td>\n",
       "      <td>ndcg</td>\n",
       "      <td>0.0</td>\n",
       "    </tr>\n",
       "  </tbody>\n",
       "</table>\n",
       "</div>"
      ],
      "text/plain": [
       "                            query              pipeline metric  value\n",
       "13200  09 g6 wheel not cover grey  l2arithmetic_mean0.0   ndcg    0.0\n",
       "13201  09 g6 wheel not cover grey  l2arithmetic_mean0.1   ndcg    0.0\n",
       "13202  09 g6 wheel not cover grey  l2arithmetic_mean0.2   ndcg    0.0"
      ]
     },
     "execution_count": 193,
     "metadata": {},
     "output_type": "execute_result"
    }
   ],
   "source": [
    "df_metrics[df_metrics['metric'] == 'ndcg'].head(3)"
   ]
  },
  {
   "cell_type": "code",
   "execution_count": 195,
   "id": "9bb1d317-dd82-44da-b164-dccf98fbb6f6",
   "metadata": {},
   "outputs": [],
   "source": [
    "indexes = df_metrics[df_metrics['metric'] == 'ndcg'].groupby(by='query')['value'].idxmax()\n",
    "df_filtered = df_metrics.loc[indexes, ['query','pipeline', 'value']]\n",
    "df_filtered.reset_index(inplace=True, drop=True)"
   ]
  },
  {
   "cell_type": "code",
   "execution_count": 198,
   "id": "a7abc55e-9ef4-4ebc-8e69-3427550e134b",
   "metadata": {},
   "outputs": [
    {
     "data": {
      "text/html": [
       "<div>\n",
       "<style scoped>\n",
       "    .dataframe tbody tr th:only-of-type {\n",
       "        vertical-align: middle;\n",
       "    }\n",
       "\n",
       "    .dataframe tbody tr th {\n",
       "        vertical-align: top;\n",
       "    }\n",
       "\n",
       "    .dataframe thead th {\n",
       "        text-align: right;\n",
       "    }\n",
       "</style>\n",
       "<table border=\"1\" class=\"dataframe\">\n",
       "  <thead>\n",
       "    <tr style=\"text-align: right;\">\n",
       "      <th></th>\n",
       "      <th>query</th>\n",
       "      <th>pipeline</th>\n",
       "      <th>value</th>\n",
       "    </tr>\n",
       "  </thead>\n",
       "  <tbody>\n",
       "    <tr>\n",
       "      <th>0</th>\n",
       "      <td>09 g6 wheel not cover grey</td>\n",
       "      <td>l2arithmetic_mean0.0</td>\n",
       "      <td>0.000000</td>\n",
       "    </tr>\n",
       "    <tr>\n",
       "      <th>1</th>\n",
       "      <td>1 1/4 pop up bathroom sink drain without overflow</td>\n",
       "      <td>l2arithmetic_mean0.4</td>\n",
       "      <td>0.044023</td>\n",
       "    </tr>\n",
       "    <tr>\n",
       "      <th>2</th>\n",
       "      <td>1 ‘ velcro without adhesive for sewing</td>\n",
       "      <td>l2arithmetic_mean0.4</td>\n",
       "      <td>0.086189</td>\n",
       "    </tr>\n",
       "    <tr>\n",
       "      <th>3</th>\n",
       "      <td>1.5 inch heel</td>\n",
       "      <td>l2arithmetic_mean0.4</td>\n",
       "      <td>0.062158</td>\n",
       "    </tr>\n",
       "    <tr>\n",
       "      <th>4</th>\n",
       "      <td>1/2 inch binder</td>\n",
       "      <td>l2geometric_mean0.1</td>\n",
       "      <td>0.158702</td>\n",
       "    </tr>\n",
       "  </tbody>\n",
       "</table>\n",
       "</div>"
      ],
      "text/plain": [
       "                                               query              pipeline  \\\n",
       "0                         09 g6 wheel not cover grey  l2arithmetic_mean0.0   \n",
       "1  1 1/4 pop up bathroom sink drain without overflow  l2arithmetic_mean0.4   \n",
       "2             1 ‘ velcro without adhesive for sewing  l2arithmetic_mean0.4   \n",
       "3                                      1.5 inch heel  l2arithmetic_mean0.4   \n",
       "4                                    1/2 inch binder   l2geometric_mean0.1   \n",
       "\n",
       "      value  \n",
       "0  0.000000  \n",
       "1  0.044023  \n",
       "2  0.086189  \n",
       "3  0.062158  \n",
       "4  0.158702  "
      ]
     },
     "execution_count": 198,
     "metadata": {},
     "output_type": "execute_result"
    }
   ],
   "source": [
    "df_filtered.sort_values(by='query').head(5)"
   ]
  },
  {
   "cell_type": "code",
   "execution_count": 197,
   "id": "18b69b22-8e24-4c02-9313-2f3c5038826e",
   "metadata": {},
   "outputs": [
    {
     "data": {
      "text/plain": [
       "250"
      ]
     },
     "execution_count": 197,
     "metadata": {},
     "output_type": "execute_result"
    }
   ],
   "source": [
    "df_filtered.shape[0]"
   ]
  },
  {
   "cell_type": "markdown",
   "id": "481b10b4-02b1-4fad-b705-548931e79500",
   "metadata": {},
   "source": [
    "## Get 'neuralness' of a Query\n",
    "\n",
    "`neuralness` is the weight of the neural query extracted by the pipeline name that was used to generate the NDCG value."
   ]
  },
  {
   "cell_type": "code",
   "execution_count": 199,
   "id": "7cf5ae06-240e-497f-b14e-1db87cbb37f4",
   "metadata": {},
   "outputs": [],
   "source": [
    "def get_neuralness(pipeline):\n",
    "    keywordness = pipeline[-3:]\n",
    "\n",
    "    try:\n",
    "        neuralness = 1 - float(keywordness)\n",
    "        return neuralness\n",
    "    except ValueError:\n",
    "        print(\"ERROR\")\n",
    "        return math.nan"
   ]
  },
  {
   "cell_type": "code",
   "execution_count": 200,
   "id": "4049ce58-057c-40e7-87d9-8798a5733960",
   "metadata": {},
   "outputs": [],
   "source": [
    "df_filtered['neuralness'] = df_filtered.pipeline.apply(get_neuralness)"
   ]
  },
  {
   "cell_type": "code",
   "execution_count": 201,
   "id": "7fd7a044-6951-4bd5-9b53-b2638d94dd8a",
   "metadata": {},
   "outputs": [],
   "source": [
    "df_filtered = df_filtered.drop(columns=['pipeline'])"
   ]
  },
  {
   "cell_type": "code",
   "execution_count": 202,
   "id": "b07b083b-f29b-4dad-9407-0632fa95aa82",
   "metadata": {},
   "outputs": [],
   "source": [
    "df_filtered.columns = ['query_string', 'ndcg', 'neuralness']"
   ]
  },
  {
   "cell_type": "code",
   "execution_count": 203,
   "id": "ce1eb291-01ee-4869-ade8-d15c057e61f1",
   "metadata": {},
   "outputs": [
    {
     "data": {
      "text/html": [
       "<div>\n",
       "<style scoped>\n",
       "    .dataframe tbody tr th:only-of-type {\n",
       "        vertical-align: middle;\n",
       "    }\n",
       "\n",
       "    .dataframe tbody tr th {\n",
       "        vertical-align: top;\n",
       "    }\n",
       "\n",
       "    .dataframe thead th {\n",
       "        text-align: right;\n",
       "    }\n",
       "</style>\n",
       "<table border=\"1\" class=\"dataframe\">\n",
       "  <thead>\n",
       "    <tr style=\"text-align: right;\">\n",
       "      <th></th>\n",
       "      <th>query_string</th>\n",
       "      <th>ndcg</th>\n",
       "      <th>neuralness</th>\n",
       "    </tr>\n",
       "  </thead>\n",
       "  <tbody>\n",
       "    <tr>\n",
       "      <th>0</th>\n",
       "      <td>09 g6 wheel not cover grey</td>\n",
       "      <td>0.000000</td>\n",
       "      <td>1.0</td>\n",
       "    </tr>\n",
       "    <tr>\n",
       "      <th>1</th>\n",
       "      <td>1 1/4 pop up bathroom sink drain without overflow</td>\n",
       "      <td>0.044023</td>\n",
       "      <td>0.6</td>\n",
       "    </tr>\n",
       "    <tr>\n",
       "      <th>2</th>\n",
       "      <td>1 ‘ velcro without adhesive for sewing</td>\n",
       "      <td>0.086189</td>\n",
       "      <td>0.6</td>\n",
       "    </tr>\n",
       "  </tbody>\n",
       "</table>\n",
       "</div>"
      ],
      "text/plain": [
       "                                        query_string      ndcg  neuralness\n",
       "0                         09 g6 wheel not cover grey  0.000000         1.0\n",
       "1  1 1/4 pop up bathroom sink drain without overflow  0.044023         0.6\n",
       "2             1 ‘ velcro without adhesive for sewing  0.086189         0.6"
      ]
     },
     "execution_count": 203,
     "metadata": {},
     "output_type": "execute_result"
    }
   ],
   "source": [
    "df_filtered.head(3)"
   ]
  },
  {
   "cell_type": "markdown",
   "id": "0febd171-5ce8-4165-a1c6-2f1c36ba1ae4",
   "metadata": {},
   "source": [
    "## Query Feature Functions\n",
    "\n",
    "`num_of_terms`: we expect the number of query terms to be a good feature because the more query terms used the more specific a query is.\n",
    "\n",
    "`query_length`: we expect the query length (number of characters) to be a good feature because the longer a query is the more specific it is.\n",
    "\n",
    "`has_numbers`: we expect the presence of numbers/digits to be a good feature because numbers may point towards specific queries.\n",
    "\n",
    "`has_special_char`: we expect the presence of special characters (non-alphanumeric characters) to be a good feature because that may point towards specific queries. "
   ]
  },
  {
   "cell_type": "code",
   "execution_count": 204,
   "id": "26d30d9f-89f4-40c0-b44d-539d33c948d3",
   "metadata": {},
   "outputs": [],
   "source": [
    "def num_of_terms(query_string):\n",
    "    terms = query_string.split(\" \")\n",
    "    return len(terms)\n",
    "\n",
    "def query_length(query_string):\n",
    "    return len(query_string)\n",
    "\n",
    "def has_numbers(query_string):\n",
    "    return int(any(char.isdigit() for char in query_string))\n",
    "\n",
    "def has_special_char(query_string):\n",
    "    # Define special characters (all non-alphanumeric characters)\n",
    "    special_chars = string.punctuation\n",
    "    # Return True if any character in the string is a special character\n",
    "    return int(any(char in special_chars for char in query_string))"
   ]
  },
  {
   "cell_type": "code",
   "execution_count": 205,
   "id": "467724fd-74e0-491c-b444-e2e0a09296e2",
   "metadata": {},
   "outputs": [],
   "source": [
    "df_filtered['num_of_terms'] = df_filtered.query_string.apply(num_of_terms)\n",
    "df_filtered['query_length'] = df_filtered.query_string.apply(query_length)\n",
    "df_filtered['has_numbers'] = df_filtered.query_string.apply(has_numbers)\n",
    "df_filtered['has_special_char'] = df_filtered.query_string.apply(has_special_char)"
   ]
  },
  {
   "cell_type": "code",
   "execution_count": 206,
   "id": "fad3d50d-6253-44f0-b7e3-87eaeb73592c",
   "metadata": {},
   "outputs": [
    {
     "data": {
      "text/html": [
       "<div>\n",
       "<style scoped>\n",
       "    .dataframe tbody tr th:only-of-type {\n",
       "        vertical-align: middle;\n",
       "    }\n",
       "\n",
       "    .dataframe tbody tr th {\n",
       "        vertical-align: top;\n",
       "    }\n",
       "\n",
       "    .dataframe thead th {\n",
       "        text-align: right;\n",
       "    }\n",
       "</style>\n",
       "<table border=\"1\" class=\"dataframe\">\n",
       "  <thead>\n",
       "    <tr style=\"text-align: right;\">\n",
       "      <th></th>\n",
       "      <th>query_string</th>\n",
       "      <th>ndcg</th>\n",
       "      <th>neuralness</th>\n",
       "      <th>num_of_terms</th>\n",
       "      <th>query_length</th>\n",
       "      <th>has_numbers</th>\n",
       "      <th>has_special_char</th>\n",
       "    </tr>\n",
       "  </thead>\n",
       "  <tbody>\n",
       "    <tr>\n",
       "      <th>0</th>\n",
       "      <td>09 g6 wheel not cover grey</td>\n",
       "      <td>0.000000</td>\n",
       "      <td>1.0</td>\n",
       "      <td>6</td>\n",
       "      <td>26</td>\n",
       "      <td>1</td>\n",
       "      <td>0</td>\n",
       "    </tr>\n",
       "    <tr>\n",
       "      <th>1</th>\n",
       "      <td>1 1/4 pop up bathroom sink drain without overflow</td>\n",
       "      <td>0.044023</td>\n",
       "      <td>0.6</td>\n",
       "      <td>9</td>\n",
       "      <td>49</td>\n",
       "      <td>1</td>\n",
       "      <td>1</td>\n",
       "    </tr>\n",
       "    <tr>\n",
       "      <th>2</th>\n",
       "      <td>1 ‘ velcro without adhesive for sewing</td>\n",
       "      <td>0.086189</td>\n",
       "      <td>0.6</td>\n",
       "      <td>7</td>\n",
       "      <td>38</td>\n",
       "      <td>1</td>\n",
       "      <td>0</td>\n",
       "    </tr>\n",
       "    <tr>\n",
       "      <th>3</th>\n",
       "      <td>1.5 inch heel</td>\n",
       "      <td>0.062158</td>\n",
       "      <td>0.6</td>\n",
       "      <td>3</td>\n",
       "      <td>13</td>\n",
       "      <td>1</td>\n",
       "      <td>1</td>\n",
       "    </tr>\n",
       "    <tr>\n",
       "      <th>4</th>\n",
       "      <td>1/2 inch binder</td>\n",
       "      <td>0.158702</td>\n",
       "      <td>0.9</td>\n",
       "      <td>3</td>\n",
       "      <td>15</td>\n",
       "      <td>1</td>\n",
       "      <td>1</td>\n",
       "    </tr>\n",
       "  </tbody>\n",
       "</table>\n",
       "</div>"
      ],
      "text/plain": [
       "                                        query_string      ndcg  neuralness  \\\n",
       "0                         09 g6 wheel not cover grey  0.000000         1.0   \n",
       "1  1 1/4 pop up bathroom sink drain without overflow  0.044023         0.6   \n",
       "2             1 ‘ velcro without adhesive for sewing  0.086189         0.6   \n",
       "3                                      1.5 inch heel  0.062158         0.6   \n",
       "4                                    1/2 inch binder  0.158702         0.9   \n",
       "\n",
       "   num_of_terms  query_length  has_numbers  has_special_char  \n",
       "0             6            26            1                 0  \n",
       "1             9            49            1                 1  \n",
       "2             7            38            1                 0  \n",
       "3             3            13            1                 1  \n",
       "4             3            15            1                 1  "
      ]
     },
     "execution_count": 206,
     "metadata": {},
     "output_type": "execute_result"
    }
   ],
   "source": [
    "df_filtered.head(5)"
   ]
  },
  {
   "cell_type": "markdown",
   "id": "7ee49930-9005-4117-a8ca-646288a8c6e4",
   "metadata": {},
   "source": [
    "## Result Feature Functions\n",
    "\n",
    "`num_results_kw_search`: the number of results for the keyword query.\n",
    "\n",
    "`max_doc_score`: max score of the retrieved top 10 titles. The scores are BM25 scores calculated individually per result set. That means that the document frequencies of terms is not calculated on the whole index but only on the retrieved subset for the query, making the scores more comparable to each other.\n",
    "\n",
    "`sum_of_doc_scores`: we use the sum of the scores (and no average value) as an aggregate to have a measure of how relevant all retrieved top 10 titles are.\n",
    "\n",
    "`get_semantic_scores_for_query`: retrieves the semantic scores for the neural query for the top 10. We store the maximum and the mean as result features.\n",
    "\n",
    "### Helper functions\n",
    "\n",
    "`get_titles_for_query`: retrieves the titles of the keyword matches for later score calculation\n",
    "\n",
    "`whitespace_to_lower`: tokenizes and lowercases text\n",
    "\n",
    "`get_model_id`: to run a neural search to get the semantic scores we need to know the id of the available model in OpenSearch\n"
   ]
  },
  {
   "cell_type": "markdown",
   "id": "319d9c26-046b-4025-85b8-7b2c0a71357e",
   "metadata": {},
   "source": [
    "### Get Number of Results for Keyword Search"
   ]
  },
  {
   "cell_type": "code",
   "execution_count": 207,
   "id": "e4ce76e9-71bd-4f40-a533-b8758c568001",
   "metadata": {},
   "outputs": [],
   "source": [
    "def num_results_kw_search(query_string):\n",
    "    url = \"http://localhost:9200/ecommerce/_search\"\n",
    "\n",
    "    headers = {\n",
    "        'Content-Type': 'application/json'\n",
    "    }\n",
    "    \n",
    "    \n",
    "    \n",
    "    payload = {\n",
    "      \"_source\": {\n",
    "        \"excludes\": [\n",
    "          \"title_embedding\"\n",
    "        ]\n",
    "      },\n",
    "      \"query\": {\n",
    "        \"multi_match\" : {\n",
    "          \"type\":       \"best_fields\",\n",
    "          \"fields\":     [\n",
    "            \"product_id^100\",\n",
    "            \"product_bullet_point^3\",\n",
    "            \"product_color^2\",\n",
    "            \"product_brand^5\",\n",
    "            \"product_description\",\n",
    "            \"product_title^10\"\n",
    "          ],\n",
    "          \"operator\":   \"and\",\n",
    "          \"query\":      query_string\n",
    "        }\n",
    "      },\n",
    "      \"track_total_hits\": \"true\"\n",
    "    }\n",
    "    response = requests.request(\"POST\", url, headers=headers, data=json.dumps(payload)).json()\n",
    "    num_results = response['hits']['total']['value']\n",
    "    return num_results"
   ]
  },
  {
   "cell_type": "code",
   "execution_count": 208,
   "id": "4a4850c1-06a3-4b9c-a1c8-ad308dae3126",
   "metadata": {},
   "outputs": [],
   "source": [
    "def get_titles_for_query(query_string):\n",
    "    url = \"http://localhost:9200/ecommerce/_search\"\n",
    "\n",
    "    headers = {\n",
    "        'Content-Type': 'application/json'\n",
    "    }\n",
    "      \n",
    "    payload = {\n",
    "      \"_source\": {\n",
    "        \"excludes\": [\n",
    "          \"title_embedding\"\n",
    "        ],\n",
    "        \"includes\": \"product_title\"\n",
    "      },\n",
    "      \"query\": {\n",
    "        \"multi_match\" : {\n",
    "          \"type\":       \"best_fields\",\n",
    "          \"fields\":     [\n",
    "            \"product_id^100\",\n",
    "            \"product_bullet_point^3\",\n",
    "            \"product_color^2\",\n",
    "            \"product_brand^5\",\n",
    "            \"product_description\",\n",
    "            \"product_title^10\"\n",
    "          ],\n",
    "          \"operator\":   \"and\",\n",
    "          \"query\":      query_string\n",
    "        }\n",
    "      },\n",
    "      \"track_total_hits\": \"true\"\n",
    "    }\n",
    "    response = requests.request(\"POST\", url, headers=headers, data=json.dumps(payload)).json()\n",
    "    titles = []\n",
    "    num_results = response['hits']['total']['value']\n",
    "    if num_results > 0:\n",
    "        # get all titles\n",
    "        titles = [item['_source']['product_title'] for item in response['hits']['hits']]\n",
    "\n",
    "    df = pd.DataFrame(titles, columns=['title'])\n",
    "\n",
    "    return df"
   ]
  },
  {
   "cell_type": "code",
   "execution_count": 209,
   "id": "3517fe79-288c-4237-a591-9692fcc5170c",
   "metadata": {},
   "outputs": [
    {
     "data": {
      "application/vnd.jupyter.widget-view+json": {
       "model_id": "b9bcff84a5834c489cb36c95d4574efe",
       "version_major": 2,
       "version_minor": 0
      },
      "text/plain": [
       "  0%|          | 0/250 [00:00<?, ?it/s]"
      ]
     },
     "metadata": {},
     "output_type": "display_data"
    }
   ],
   "source": [
    "tqdm_notebook.pandas()\n",
    "df_filtered['num_results'] = df_filtered.query_string.progress_apply(num_results_kw_search)"
   ]
  },
  {
   "cell_type": "markdown",
   "id": "3df23aa3-d867-47d2-a9f5-e33f98ffa618",
   "metadata": {},
   "source": [
    "### Tokenizer Definition\n",
    "\n",
    "We define a simple tokenizer that splits on whitespaces and lowercases."
   ]
  },
  {
   "cell_type": "code",
   "execution_count": 210,
   "id": "fd6c3193-4110-4c6f-b8e9-42a425847dfa",
   "metadata": {},
   "outputs": [],
   "source": [
    "def whitespace_to_lower(text):\n",
    "    split = text.lower().split()\n",
    "    return [token\n",
    "        for token in split]"
   ]
  },
  {
   "cell_type": "markdown",
   "id": "e7768455-d2d9-4e5a-ba74-f4f4662a961b",
   "metadata": {},
   "source": [
    "ToDo: make the following functions more efficient.\n",
    "\n",
    "The following functions contain redundant code and only differ in the return value."
   ]
  },
  {
   "cell_type": "code",
   "execution_count": 211,
   "id": "fdfb0434-346b-4d95-ad27-ecf6b6f02b82",
   "metadata": {},
   "outputs": [],
   "source": [
    "# we use searcharray to calculate the highest title score among the retrieved docs\n",
    "def max_doc_score(df, query):\n",
    "    # if we retrieved zero docs we return 0 as the max score\n",
    "    if df.shape[0] == 0:\n",
    "        return 0\n",
    "    else:\n",
    "        # index the titles with the defined tokenizer\n",
    "        df['title_indexed'] = SearchArray.index(df['title'], tokenizer=whitespace_to_lower)\n",
    "        # tokenize the query with the same tokenizer\n",
    "        tokenized_query = df['title_indexed'].array.tokenizer(query)\n",
    "        # calculate the score for each query term\n",
    "        # the result is a matrix with number of titles x number of query term dimensions\n",
    "        scores = np.asarray([df['title_indexed'].array.score(query_term)\n",
    "                                    for query_term in tokenized_query])\n",
    "        # calculate the sum of all query terms per title\n",
    "        sums = [sum(group) for group in zip(*scores)]\n",
    "        # return the maximum\n",
    "        return max(sums)\n",
    "\n",
    "# we use searcharray to calculate the sum of all title scores among the retrieved docs\n",
    "def sum_of_doc_scores(df, query):\n",
    "    # if we retrieved zero docs we return 0 as the max score\n",
    "    if df.shape[0] == 0:\n",
    "        return 0\n",
    "    else:\n",
    "        # index the titles with the defined tokenizer\n",
    "        df['title_indexed'] = SearchArray.index(df['title'], tokenizer=whitespace_to_lower)\n",
    "        # tokenize the query with the same tokenizer\n",
    "        tokenized_query = df['title_indexed'].array.tokenizer(query)\n",
    "        # calculate the score for each query term\n",
    "        # the result is a matrix with number of titles x number of query term dimensions\n",
    "        scores = np.asarray([df['title_indexed'].array.score(query_term)\n",
    "                                    for query_term in tokenized_query])\n",
    "        # calculate the sum of all query terms per title\n",
    "        sums = [sum(group) for group in zip(*scores)]\n",
    "        # return the sum of all title scores\n",
    "        return sum(sums)"
   ]
  },
  {
   "cell_type": "markdown",
   "id": "7b1123d8-16a4-408a-a951-61c620d0df13",
   "metadata": {},
   "source": [
    "### Get Semantic Scores\n",
    "\n",
    "First we get the model id, then we use the model id in the query to retrieve the semantic scores."
   ]
  },
  {
   "cell_type": "code",
   "execution_count": 212,
   "id": "0c89806a-efcc-42c2-ac1b-df7c9b54f17f",
   "metadata": {},
   "outputs": [],
   "source": [
    "# Get model_id\n",
    "# We are assuming that the installation has only one model. Change this if you have more models \n",
    "# and need to pick a specific one\n",
    "\n",
    "def get_model_id():\n",
    "    url = \"http://localhost:9200/_plugins/_ml/models/_search\"\n",
    "    \n",
    "    headers = {\n",
    "        'Content-Type': 'application/json'\n",
    "    }\n",
    "    \n",
    "    payload = {\n",
    "      \"query\": {\n",
    "        \"match_all\": {}\n",
    "      },\n",
    "      \"size\": 1\n",
    "    }\n",
    "    \n",
    "    response = requests.request(\"POST\", url, headers=headers, data=json.dumps(payload))\n",
    "\n",
    "    return response.json()['hits']['hits'][0]['_source']['model_id']\n",
    "\n",
    "model_id = get_model_id()"
   ]
  },
  {
   "cell_type": "code",
   "execution_count": 213,
   "id": "d124583a-46b6-4e56-a04e-f37b6950afa7",
   "metadata": {},
   "outputs": [],
   "source": [
    "def get_semantic_scores_for_query(query_string):\n",
    "    url = \"http://localhost:9200/ecommerce/_search\"\n",
    "\n",
    "    headers = {\n",
    "        'Content-Type': 'application/json'\n",
    "    }\n",
    "    \n",
    "    \n",
    "    \n",
    "    payload = {\n",
    "      \"_source\": {\n",
    "        \"excludes\": [\n",
    "          \"title_embedding\"\n",
    "        ],\n",
    "        \"includes\": \"product_title\"\n",
    "      },\n",
    "      \"query\": {\n",
    "        \"neural\": {\n",
    "          \"title_embedding\": {\n",
    "            \"query_text\": query_string,\n",
    "            \"k\": 100,\n",
    "            \"model_id\": model_id\n",
    "          }\n",
    "        }\n",
    "      },\n",
    "      \"size\": 10\n",
    "    }\n",
    "    response = requests.request(\"POST\", url, headers=headers, data=json.dumps(payload)).json()\n",
    "    titles = []\n",
    "    num_results = response['hits']['total']['value']\n",
    "    if num_results > 0:\n",
    "        # get all titles\n",
    "        scores = [item['_score'] for item in response['hits']['hits']]\n",
    "\n",
    "    return scores"
   ]
  },
  {
   "cell_type": "code",
   "execution_count": 214,
   "id": "ef4d8104-3073-4318-bbd2-43b2cc566406",
   "metadata": {},
   "outputs": [],
   "source": [
    "import logging, sys\n",
    "logging.disable(sys.maxsize)"
   ]
  },
  {
   "cell_type": "code",
   "execution_count": 215,
   "id": "fa5cf8e9-5cb3-4eb8-9b69-c39db47d6b8c",
   "metadata": {},
   "outputs": [
    {
     "data": {
      "application/vnd.jupyter.widget-view+json": {
       "model_id": "87b4e00a997c4e9a843b659d38589c48",
       "version_major": 2,
       "version_minor": 0
      },
      "text/plain": [
       "  0%|          | 0/250 [00:00<?, ?it/s]"
      ]
     },
     "metadata": {},
     "output_type": "display_data"
    },
    {
     "data": {
      "application/vnd.jupyter.widget-view+json": {
       "model_id": "60684431cfbc481c8a30dc4458cec709",
       "version_major": 2,
       "version_minor": 0
      },
      "text/plain": [
       "  0%|          | 0/250 [00:00<?, ?it/s]"
      ]
     },
     "metadata": {},
     "output_type": "display_data"
    }
   ],
   "source": [
    "tqdm_notebook.pandas()\n",
    "df_filtered['max_title_score'] = df_filtered['query_string'].progress_apply(lambda q: max_doc_score(get_titles_for_query(q), q))\n",
    "df_filtered['sum_title_scores'] = df_filtered['query_string'].progress_apply(lambda q: sum_of_doc_scores(get_titles_for_query(q), q))"
   ]
  },
  {
   "cell_type": "code",
   "execution_count": 216,
   "id": "3d2f780d-eb0e-47c2-afe4-1de22d01b1f1",
   "metadata": {},
   "outputs": [
    {
     "data": {
      "application/vnd.jupyter.widget-view+json": {
       "model_id": "0ea683a459b1489a9cabe15bf1a57f2f",
       "version_major": 2,
       "version_minor": 0
      },
      "text/plain": [
       "  0%|          | 0/250 [00:00<?, ?it/s]"
      ]
     },
     "metadata": {},
     "output_type": "display_data"
    },
    {
     "data": {
      "application/vnd.jupyter.widget-view+json": {
       "model_id": "55b74f00c37541008e157f7a56b06758",
       "version_major": 2,
       "version_minor": 0
      },
      "text/plain": [
       "  0%|          | 0/250 [00:00<?, ?it/s]"
      ]
     },
     "metadata": {},
     "output_type": "display_data"
    }
   ],
   "source": [
    "tqdm_notebook.pandas()\n",
    "df_filtered['max_semantic_score'] = df_filtered['query_string'].progress_apply(lambda q: max(get_semantic_scores_for_query(q)))\n",
    "df_filtered['avg_semantic_score'] = df_filtered['query_string'].progress_apply(lambda q: np.mean(get_semantic_scores_for_query(q)))"
   ]
  },
  {
   "cell_type": "code",
   "execution_count": 217,
   "id": "ef69057d-4f35-4e1d-a083-1b676dc8f12d",
   "metadata": {},
   "outputs": [
    {
     "data": {
      "text/html": [
       "<div>\n",
       "<style scoped>\n",
       "    .dataframe tbody tr th:only-of-type {\n",
       "        vertical-align: middle;\n",
       "    }\n",
       "\n",
       "    .dataframe tbody tr th {\n",
       "        vertical-align: top;\n",
       "    }\n",
       "\n",
       "    .dataframe thead th {\n",
       "        text-align: right;\n",
       "    }\n",
       "</style>\n",
       "<table border=\"1\" class=\"dataframe\">\n",
       "  <thead>\n",
       "    <tr style=\"text-align: right;\">\n",
       "      <th></th>\n",
       "      <th>query_string</th>\n",
       "      <th>ndcg</th>\n",
       "      <th>neuralness</th>\n",
       "      <th>num_of_terms</th>\n",
       "      <th>query_length</th>\n",
       "      <th>has_numbers</th>\n",
       "      <th>has_special_char</th>\n",
       "      <th>num_results</th>\n",
       "      <th>max_title_score</th>\n",
       "      <th>sum_title_scores</th>\n",
       "      <th>max_semantic_score</th>\n",
       "      <th>avg_semantic_score</th>\n",
       "    </tr>\n",
       "  </thead>\n",
       "  <tbody>\n",
       "    <tr>\n",
       "      <th>0</th>\n",
       "      <td>09 g6 wheel not cover grey</td>\n",
       "      <td>0.000000</td>\n",
       "      <td>1.0</td>\n",
       "      <td>6</td>\n",
       "      <td>26</td>\n",
       "      <td>1</td>\n",
       "      <td>0</td>\n",
       "      <td>0</td>\n",
       "      <td>0.000000</td>\n",
       "      <td>0.000000</td>\n",
       "      <td>0.542725</td>\n",
       "      <td>0.529522</td>\n",
       "    </tr>\n",
       "    <tr>\n",
       "      <th>1</th>\n",
       "      <td>1 1/4 pop up bathroom sink drain without overflow</td>\n",
       "      <td>0.044023</td>\n",
       "      <td>0.6</td>\n",
       "      <td>9</td>\n",
       "      <td>49</td>\n",
       "      <td>1</td>\n",
       "      <td>1</td>\n",
       "      <td>91</td>\n",
       "      <td>0.329475</td>\n",
       "      <td>2.666837</td>\n",
       "      <td>0.746640</td>\n",
       "      <td>0.681141</td>\n",
       "    </tr>\n",
       "    <tr>\n",
       "      <th>2</th>\n",
       "      <td>1 ‘ velcro without adhesive for sewing</td>\n",
       "      <td>0.086189</td>\n",
       "      <td>0.6</td>\n",
       "      <td>7</td>\n",
       "      <td>38</td>\n",
       "      <td>1</td>\n",
       "      <td>0</td>\n",
       "      <td>0</td>\n",
       "      <td>0.000000</td>\n",
       "      <td>0.000000</td>\n",
       "      <td>0.643718</td>\n",
       "      <td>0.586100</td>\n",
       "    </tr>\n",
       "    <tr>\n",
       "      <th>3</th>\n",
       "      <td>1.5 inch heel</td>\n",
       "      <td>0.062158</td>\n",
       "      <td>0.6</td>\n",
       "      <td>3</td>\n",
       "      <td>13</td>\n",
       "      <td>1</td>\n",
       "      <td>1</td>\n",
       "      <td>78</td>\n",
       "      <td>1.030156</td>\n",
       "      <td>4.811234</td>\n",
       "      <td>0.625160</td>\n",
       "      <td>0.568985</td>\n",
       "    </tr>\n",
       "    <tr>\n",
       "      <th>4</th>\n",
       "      <td>1/2 inch binder</td>\n",
       "      <td>0.158702</td>\n",
       "      <td>0.9</td>\n",
       "      <td>3</td>\n",
       "      <td>15</td>\n",
       "      <td>1</td>\n",
       "      <td>1</td>\n",
       "      <td>294</td>\n",
       "      <td>0.549694</td>\n",
       "      <td>2.752247</td>\n",
       "      <td>0.709633</td>\n",
       "      <td>0.677592</td>\n",
       "    </tr>\n",
       "  </tbody>\n",
       "</table>\n",
       "</div>"
      ],
      "text/plain": [
       "                                        query_string      ndcg  neuralness  \\\n",
       "0                         09 g6 wheel not cover grey  0.000000         1.0   \n",
       "1  1 1/4 pop up bathroom sink drain without overflow  0.044023         0.6   \n",
       "2             1 ‘ velcro without adhesive for sewing  0.086189         0.6   \n",
       "3                                      1.5 inch heel  0.062158         0.6   \n",
       "4                                    1/2 inch binder  0.158702         0.9   \n",
       "\n",
       "   num_of_terms  query_length  has_numbers  has_special_char  num_results  \\\n",
       "0             6            26            1                 0            0   \n",
       "1             9            49            1                 1           91   \n",
       "2             7            38            1                 0            0   \n",
       "3             3            13            1                 1           78   \n",
       "4             3            15            1                 1          294   \n",
       "\n",
       "   max_title_score  sum_title_scores  max_semantic_score  avg_semantic_score  \n",
       "0         0.000000          0.000000            0.542725            0.529522  \n",
       "1         0.329475          2.666837            0.746640            0.681141  \n",
       "2         0.000000          0.000000            0.643718            0.586100  \n",
       "3         1.030156          4.811234            0.625160            0.568985  \n",
       "4         0.549694          2.752247            0.709633            0.677592  "
      ]
     },
     "execution_count": 217,
     "metadata": {},
     "output_type": "execute_result"
    }
   ],
   "source": [
    "df_filtered.head(5)"
   ]
  },
  {
   "cell_type": "code",
   "execution_count": 218,
   "id": "bc018b6d-df2b-40dc-a56a-7c3bcc7be6a6",
   "metadata": {},
   "outputs": [
    {
     "data": {
      "text/plain": [
       "Index(['query_string', 'ndcg', 'neuralness', 'num_of_terms', 'query_length',\n",
       "       'has_numbers', 'has_special_char', 'num_results', 'max_title_score',\n",
       "       'sum_title_scores', 'max_semantic_score', 'avg_semantic_score'],\n",
       "      dtype='object')"
      ]
     },
     "execution_count": 218,
     "metadata": {},
     "output_type": "execute_result"
    }
   ],
   "source": [
    "df_filtered.columns"
   ]
  },
  {
   "cell_type": "code",
   "execution_count": 219,
   "id": "621c7c17-37da-4ba9-94e7-2934b608e832",
   "metadata": {},
   "outputs": [],
   "source": [
    "# rename the columns\n",
    "df_filtered = df_filtered.rename(columns={\"num_of_terms\": \"f_1_num_of_terms\",\n",
    "                            \"query_length\": \"f_2_query_length\",\n",
    "                            \"has_numbers\": \"f_3_has_numbers\",\n",
    "                            \"has_special_char\": \"f_4_has_special_char\",\n",
    "                            \"num_results\": \"f_5_num_results\",\n",
    "                            \"max_title_score\": \"f_6_max_title_score\",\n",
    "                            \"sum_title_scores\": \"f_7_sum_title_scores\",\n",
    "                            \"max_semantic_score\": \"f_8_max_semantic_score\",\n",
    "                            \"avg_semantic_score\": \"f_9_avg_semantic_score\"\n",
    "                           })"
   ]
  },
  {
   "cell_type": "code",
   "execution_count": 220,
   "id": "17298146-4790-4134-ad3d-7cf2a915df28",
   "metadata": {},
   "outputs": [
    {
     "data": {
      "text/html": [
       "<div>\n",
       "<style scoped>\n",
       "    .dataframe tbody tr th:only-of-type {\n",
       "        vertical-align: middle;\n",
       "    }\n",
       "\n",
       "    .dataframe tbody tr th {\n",
       "        vertical-align: top;\n",
       "    }\n",
       "\n",
       "    .dataframe thead th {\n",
       "        text-align: right;\n",
       "    }\n",
       "</style>\n",
       "<table border=\"1\" class=\"dataframe\">\n",
       "  <thead>\n",
       "    <tr style=\"text-align: right;\">\n",
       "      <th></th>\n",
       "      <th>query_string</th>\n",
       "      <th>ndcg</th>\n",
       "      <th>neuralness</th>\n",
       "      <th>f_1_num_of_terms</th>\n",
       "      <th>f_2_query_length</th>\n",
       "      <th>f_3_has_numbers</th>\n",
       "      <th>f_4_has_special_char</th>\n",
       "      <th>f_5_num_results</th>\n",
       "      <th>f_6_max_title_score</th>\n",
       "      <th>f_7_sum_title_scores</th>\n",
       "      <th>f_8_max_semantic_score</th>\n",
       "      <th>f_9_avg_semantic_score</th>\n",
       "    </tr>\n",
       "  </thead>\n",
       "  <tbody>\n",
       "    <tr>\n",
       "      <th>0</th>\n",
       "      <td>09 g6 wheel not cover grey</td>\n",
       "      <td>0.000000</td>\n",
       "      <td>1.0</td>\n",
       "      <td>6</td>\n",
       "      <td>26</td>\n",
       "      <td>1</td>\n",
       "      <td>0</td>\n",
       "      <td>0</td>\n",
       "      <td>0.000000</td>\n",
       "      <td>0.000000</td>\n",
       "      <td>0.542725</td>\n",
       "      <td>0.529522</td>\n",
       "    </tr>\n",
       "    <tr>\n",
       "      <th>1</th>\n",
       "      <td>1 1/4 pop up bathroom sink drain without overflow</td>\n",
       "      <td>0.044023</td>\n",
       "      <td>0.6</td>\n",
       "      <td>9</td>\n",
       "      <td>49</td>\n",
       "      <td>1</td>\n",
       "      <td>1</td>\n",
       "      <td>91</td>\n",
       "      <td>0.329475</td>\n",
       "      <td>2.666837</td>\n",
       "      <td>0.746640</td>\n",
       "      <td>0.681141</td>\n",
       "    </tr>\n",
       "    <tr>\n",
       "      <th>2</th>\n",
       "      <td>1 ‘ velcro without adhesive for sewing</td>\n",
       "      <td>0.086189</td>\n",
       "      <td>0.6</td>\n",
       "      <td>7</td>\n",
       "      <td>38</td>\n",
       "      <td>1</td>\n",
       "      <td>0</td>\n",
       "      <td>0</td>\n",
       "      <td>0.000000</td>\n",
       "      <td>0.000000</td>\n",
       "      <td>0.643718</td>\n",
       "      <td>0.586100</td>\n",
       "    </tr>\n",
       "    <tr>\n",
       "      <th>3</th>\n",
       "      <td>1.5 inch heel</td>\n",
       "      <td>0.062158</td>\n",
       "      <td>0.6</td>\n",
       "      <td>3</td>\n",
       "      <td>13</td>\n",
       "      <td>1</td>\n",
       "      <td>1</td>\n",
       "      <td>78</td>\n",
       "      <td>1.030156</td>\n",
       "      <td>4.811234</td>\n",
       "      <td>0.625160</td>\n",
       "      <td>0.568985</td>\n",
       "    </tr>\n",
       "    <tr>\n",
       "      <th>4</th>\n",
       "      <td>1/2 inch binder</td>\n",
       "      <td>0.158702</td>\n",
       "      <td>0.9</td>\n",
       "      <td>3</td>\n",
       "      <td>15</td>\n",
       "      <td>1</td>\n",
       "      <td>1</td>\n",
       "      <td>294</td>\n",
       "      <td>0.549694</td>\n",
       "      <td>2.752247</td>\n",
       "      <td>0.709633</td>\n",
       "      <td>0.677592</td>\n",
       "    </tr>\n",
       "  </tbody>\n",
       "</table>\n",
       "</div>"
      ],
      "text/plain": [
       "                                        query_string      ndcg  neuralness  \\\n",
       "0                         09 g6 wheel not cover grey  0.000000         1.0   \n",
       "1  1 1/4 pop up bathroom sink drain without overflow  0.044023         0.6   \n",
       "2             1 ‘ velcro without adhesive for sewing  0.086189         0.6   \n",
       "3                                      1.5 inch heel  0.062158         0.6   \n",
       "4                                    1/2 inch binder  0.158702         0.9   \n",
       "\n",
       "   f_1_num_of_terms  f_2_query_length  f_3_has_numbers  f_4_has_special_char  \\\n",
       "0                 6                26                1                     0   \n",
       "1                 9                49                1                     1   \n",
       "2                 7                38                1                     0   \n",
       "3                 3                13                1                     1   \n",
       "4                 3                15                1                     1   \n",
       "\n",
       "   f_5_num_results  f_6_max_title_score  f_7_sum_title_scores  \\\n",
       "0                0             0.000000              0.000000   \n",
       "1               91             0.329475              2.666837   \n",
       "2                0             0.000000              0.000000   \n",
       "3               78             1.030156              4.811234   \n",
       "4              294             0.549694              2.752247   \n",
       "\n",
       "   f_8_max_semantic_score  f_9_avg_semantic_score  \n",
       "0                0.542725                0.529522  \n",
       "1                0.746640                0.681141  \n",
       "2                0.643718                0.586100  \n",
       "3                0.625160                0.568985  \n",
       "4                0.709633                0.677592  "
      ]
     },
     "execution_count": 220,
     "metadata": {},
     "output_type": "execute_result"
    }
   ],
   "source": [
    "df_filtered.head(5)"
   ]
  },
  {
   "cell_type": "code",
   "execution_count": 221,
   "id": "fde93927-9ce5-46fe-a65d-abb64e7ede3c",
   "metadata": {},
   "outputs": [],
   "source": [
    "# Uncomment the thing you want to do\n",
    "\n",
    "# write features if they're initially computed\n",
    "# df_filtered.to_csv('../data/features_5000_queries.csv', index=False)\n",
    "# get features if they're already present and you run the training process from here\n",
    "# df_filtered = to_csv('../data/features_5000_queries.csv')"
   ]
  },
  {
   "cell_type": "markdown",
   "id": "ad70be6c-439f-443e-beb6-7c543fc247ba",
   "metadata": {},
   "source": [
    "# Explore Different Model Training Options\n",
    "\n",
    "We try out linear regression and random forest regression as two types of models.\n",
    "\n",
    "We want to find out which feature combination is best by trying out all different combinations.\n",
    "\n",
    "We apply cross validation for a statistically sound process.\n",
    "\n",
    "We explore the effect of adding regularization to reduce the change of overfitting."
   ]
  },
  {
   "cell_type": "markdown",
   "id": "125dad30-6eb5-4e8c-9261-423078145c60",
   "metadata": {},
   "source": [
    "## Linear Regression with Feature Combinations and Cross Validation"
   ]
  },
  {
   "cell_type": "code",
   "execution_count": 222,
   "id": "9bce7c7a-4044-42a7-b581-3f1daf163ffc",
   "metadata": {},
   "outputs": [
    {
     "data": {
      "application/vnd.jupyter.widget-view+json": {
       "model_id": "37d606733fad4bcc82a7ad2227d438b3",
       "version_major": 2,
       "version_minor": 0
      },
      "text/plain": [
       "  0%|          | 0/8 [00:00<?, ?it/s]"
      ]
     },
     "metadata": {},
     "output_type": "display_data"
    },
    {
     "name": "stdout",
     "output_type": "stream",
     "text": [
      "Best Feature Combination: ('f_1_num_of_terms', 'f_5_num_results', 'f_7_sum_title_scores', 'f_9_avg_semantic_score')\n",
      "Best Metrics:\n",
      "Cross-Validation RMSE (mean): 0.2633574367986088\n"
     ]
    }
   ],
   "source": [
    "from sklearn.model_selection import ShuffleSplit, cross_val_score\n",
    "from sklearn.linear_model import LinearRegression\n",
    "from sklearn.metrics import make_scorer, root_mean_squared_error, r2_score\n",
    "from itertools import combinations\n",
    "import numpy as np\n",
    "import pandas as pd\n",
    "\n",
    "# Prepare features and target\n",
    "feature_columns = [ \"f_1_num_of_terms\", \"f_2_query_length\", \"f_3_has_numbers\", \"f_4_has_special_char\", \"f_5_num_results\",\n",
    "                   \"f_6_max_title_score\", \"f_7_sum_title_scores\", \"f_8_max_semantic_score\",  \"f_9_avg_semantic_score\"]\n",
    "kws_features = [\"f_5_num_results\", \"f_6_max_title_score\", \"f_7_sum_title_scores\"]\n",
    "neural_search_features = [\"f_8_max_semantic_score\",  \"f_9_avg_semantic_score\"]\n",
    "query_features = [\"f_1_num_of_terms\",  \"f_2_query_length\", \"f_3_has_numbers\", \"f_4_has_special_char\"]\n",
    "y = df_filtered['neuralness']  # Target column\n",
    "\n",
    "# Initialize cross-validation strategy\n",
    "cv = ShuffleSplit(n_splits=5, test_size=0.2, random_state=0)\n",
    "\n",
    "# Define the model\n",
    "regr = LinearRegression()\n",
    "\n",
    "rmse_scorer = make_scorer(root_mean_squared_error, greater_is_better=False)\n",
    "\n",
    "# Initialize variables to track the best combination\n",
    "best_score = float('inf')\n",
    "best_combination = None\n",
    "best_metrics = {}\n",
    "# We initialize df_metrics only for this run and append the results of the following runs\n",
    "df_model = []\n",
    "# Initialize df_model_metrics to collect metrics for this iteration of model training\n",
    "df_model_metrics = []\n",
    "\n",
    "# Try all feature combinations of length 2 to 9\n",
    "for r in tqdm_notebook(range(2, len(feature_columns) + 1)):\n",
    "    for combo in combinations(feature_columns, r):\n",
    "        X = df_filtered[list(combo)]  # Select current feature subset\n",
    "        \n",
    "        # Perform cross-validation\n",
    "        rmse_scores = cross_val_score(regr, X, y, cv=cv, scoring=rmse_scorer)\n",
    "        \n",
    "        # Calculate the mean metrics for the current combination\n",
    "        mean_rmse = -np.mean(rmse_scores)  # Since RMSE scorer is negative for minimization\n",
    "\n",
    "        # does the current combination contain keyword search features\n",
    "        keyword_b = any(feature in combo for feature in kws_features)\n",
    "        # does the current combination contain neural search features\n",
    "        neural_b = any(feature in combo for feature in neural_search_features)\n",
    "        # does the current combination contain only query features (no keyword or neural search features)\n",
    "        query_b = any(feature in combo for feature in query_features)\n",
    "        \n",
    "        df_model_metrics.append(pd.DataFrame({\n",
    "            \"features\": [combo]*5,\n",
    "            \"rmse_scores\": rmse_scores,\n",
    "            \"keyword_f\": [keyword_b]*5,\n",
    "            \"neural_f\": [neural_b]*5,\n",
    "            \"query_f\": [query_b]*5,\n",
    "            \"model\": \"lr\",\n",
    "            \"regularization\": False,\n",
    "            }))\n",
    "        \n",
    "        # Update if the current combination is better\n",
    "        if mean_rmse < best_score:\n",
    "            best_score = mean_rmse\n",
    "            best_combination = combo\n",
    "            best_metrics = {\n",
    "                'RMSE (mean)': mean_rmse\n",
    "            }\n",
    "\n",
    "df_metrics = pd.concat(df_model_metrics)\n",
    "\n",
    "# Output the best feature combination and its metrics\n",
    "print(\"Best Feature Combination:\", best_combination)\n",
    "print(\"Best Metrics:\")\n",
    "print(f\"Cross-Validation RMSE (mean): {best_metrics['RMSE (mean)']}\")"
   ]
  },
  {
   "cell_type": "markdown",
   "id": "c35b10c4-221f-4334-a2c6-d010d7c7a247",
   "metadata": {},
   "source": [
    "## Linear Regression with Feature Combinations, Cross Validation and L2 Regularization"
   ]
  },
  {
   "cell_type": "markdown",
   "id": "d85cc4f2-2d84-4fc2-8a77-063dd825d0a7",
   "metadata": {},
   "source": [
    "### Find best regularization parameter\n",
    "\n",
    "Use all features, get the \"best\" regularization parameter with cross-validation by trying out a range"
   ]
  },
  {
   "cell_type": "code",
   "execution_count": 223,
   "id": "94a8cc76-b81a-47c4-b526-a88d24feb4a2",
   "metadata": {},
   "outputs": [
    {
     "name": "stdout",
     "output_type": "stream",
     "text": [
      "Found lower mean RMSE (0.27003352982087214) for alpha value of 0.001\n",
      "Found lower mean RMSE (0.26952092870350997) for alpha value of 0.1\n",
      "Found lower mean RMSE (0.26934471186149855) for alpha value of 0.2\n",
      "Found lower mean RMSE (0.2691170261524326) for alpha value of 0.5\n",
      "Found lower mean RMSE (0.2688805828423716) for alpha value of 1.0\n",
      "Found lower mean RMSE (0.2686798290018556) for alpha value of 1.5\n",
      "Found lower mean RMSE (0.26849882472534536) for alpha value of 2.0\n",
      "Found lower mean RMSE (0.26767963067932565) for alpha value of 5.0\n",
      "Found lower mean RMSE (0.26687696316635584) for alpha value of 10.0\n",
      "Best Metrics:\n",
      "alpha: 10.0\n",
      "Cross-Validation RMSE (mean): 0.26687696316635584\n"
     ]
    }
   ],
   "source": [
    "from sklearn.model_selection import ShuffleSplit, cross_val_score\n",
    "from sklearn.linear_model import Ridge\n",
    "from sklearn.metrics import make_scorer, root_mean_squared_error, r2_score\n",
    "from itertools import combinations\n",
    "import numpy as np\n",
    "import pandas as pd\n",
    "\n",
    "# Prepare features and target\n",
    "feature_columns = [ \"f_1_num_of_terms\", \"f_2_query_length\", \"f_3_has_numbers\", \"f_4_has_special_char\", \"f_5_num_results\",\n",
    "                   \"f_6_max_title_score\", \"f_7_sum_title_scores\", \"f_8_max_semantic_score\",  \"f_9_avg_semantic_score\"]\n",
    "kws_features = [\"f_5_num_results\", \"f_6_max_title_score\", \"f_7_sum_title_scores\"]\n",
    "neural_search_features = [\"f_8_max_semantic_score\",  \"f_9_avg_semantic_score\"]\n",
    "query_features = [\"f_1_num_of_terms\",  \"f_2_query_length\", \"f_3_has_numbers\", \"f_4_has_special_char\"]\n",
    "y = df_filtered['neuralness']  # Target column\n",
    "\n",
    "# Initialize cross-validation strategy\n",
    "cv = ShuffleSplit(n_splits=5, test_size=0.2, random_state=0)\n",
    "\n",
    "# Define alpha values to test in regularization\n",
    "alpha_vals = [0.001, 0.1, 0.2, 0.5, 1.0, 1.5, 2.0, 5.0, 10.0]\n",
    "\n",
    "# Initialize variables to track the best combination\n",
    "best_metrics = {}\n",
    "best_score = float('inf')\n",
    "for alpha in alpha_vals:\n",
    "    \n",
    "    # Define the model\n",
    "    regr = Ridge(alpha=alpha)\n",
    "\n",
    "    rmse_scorer = make_scorer(root_mean_squared_error, greater_is_better=False)\n",
    "\n",
    "    X = df_filtered[feature_columns]  # Select current feature subset\n",
    "    \n",
    "    # Perform cross-validation\n",
    "    rmse_scores = cross_val_score(regr, X, y, cv=cv, scoring=rmse_scorer)\n",
    "    \n",
    "    mean_rmse = -np.mean(rmse_scores)  # Since RMSE scorer is negative for minimization\n",
    "        \n",
    "    # Update if the current combination is better\n",
    "    if mean_rmse < best_score:\n",
    "        print(f\"Found lower mean RMSE ({mean_rmse}) for alpha value of {alpha}\")\n",
    "        best_score = mean_rmse\n",
    "        best_metrics = {\n",
    "            'alpha': alpha,\n",
    "            'RMSE (mean)': best_score\n",
    "        }\n",
    "\n",
    "# Output the best feature combination and its metrics\n",
    "print(\"Best Metrics:\")\n",
    "#print(f\"Accuracy (mean): {best_metrics['Accuracy (mean)']}\")\n",
    "print(f\"alpha: {best_metrics['alpha']}\")\n",
    "print(f\"Cross-Validation RMSE (mean): {best_metrics['RMSE (mean)']}\")"
   ]
  },
  {
   "cell_type": "code",
   "execution_count": 224,
   "id": "8a8a1244-5c96-4430-a2db-c09e7c52f9f6",
   "metadata": {},
   "outputs": [
    {
     "data": {
      "application/vnd.jupyter.widget-view+json": {
       "model_id": "ca99270542fe4fd88ef8bb771b6cd5d9",
       "version_major": 2,
       "version_minor": 0
      },
      "text/plain": [
       "  0%|          | 0/8 [00:00<?, ?it/s]"
      ]
     },
     "metadata": {},
     "output_type": "display_data"
    },
    {
     "name": "stdout",
     "output_type": "stream",
     "text": [
      "Best Feature Combination: ('f_1_num_of_terms', 'f_5_num_results', 'f_7_sum_title_scores', 'f_9_avg_semantic_score')\n",
      "Best Metrics:\n",
      "Cross-Validation RMSE (mean): 0.26376753118554336\n"
     ]
    }
   ],
   "source": [
    "from sklearn.model_selection import ShuffleSplit, cross_val_score\n",
    "from sklearn.linear_model import Ridge\n",
    "from sklearn.metrics import make_scorer, root_mean_squared_error, r2_score\n",
    "from itertools import combinations\n",
    "import numpy as np\n",
    "import pandas as pd\n",
    "\n",
    "# Prepare features and target\n",
    "feature_columns = [ \"f_1_num_of_terms\", \"f_2_query_length\", \"f_3_has_numbers\", \"f_4_has_special_char\", \"f_5_num_results\",\n",
    "                   \"f_6_max_title_score\", \"f_7_sum_title_scores\", \"f_8_max_semantic_score\",  \"f_9_avg_semantic_score\"]\n",
    "kws_features = [\"f_5_num_results\", \"f_6_max_title_score\", \"f_7_sum_title_scores\"]\n",
    "neural_search_features = [\"f_8_max_semantic_score\",  \"f_9_avg_semantic_score\"]\n",
    "query_features = [\"f_1_num_of_terms\",  \"f_2_query_length\", \"f_3_has_numbers\", \"f_4_has_special_char\"]\n",
    "y = df_filtered['neuralness']  # Target column\n",
    "\n",
    "# Initialize cross-validation strategy\n",
    "cv = ShuffleSplit(n_splits=5, test_size=0.2, random_state=0)\n",
    "\n",
    "# Define the model\n",
    "regr = Ridge(alpha=alpha)\n",
    "\n",
    "rmse_scorer = make_scorer(root_mean_squared_error, greater_is_better=False)\n",
    "\n",
    "# Initialize variables to track the best combination\n",
    "best_score = float('inf')\n",
    "best_combination = None\n",
    "best_metrics = {}\n",
    "df_model_metrics = []\n",
    "\n",
    "# Try all feature combinations of length 2 to 9\n",
    "for r in tqdm_notebook(range(2, len(feature_columns) + 1)):\n",
    "    for combo in combinations(feature_columns, r):\n",
    "        X = df_filtered[list(combo)]  # Select current feature subset\n",
    "        \n",
    "        # Perform cross-validation\n",
    "        rmse_scores = cross_val_score(regr, X, y, cv=cv, scoring=rmse_scorer)\n",
    "        \n",
    "        # Calculate the mean metrics for the current combination\n",
    "        mean_rmse = -np.mean(rmse_scores)  # Since RMSE scorer is negative for minimization\n",
    "\n",
    "        # does the current combination contain keyword search features\n",
    "        keyword_b = any(feature in combo for feature in kws_features)\n",
    "        # does the current combination contain neural search features\n",
    "        neural_b = any(feature in combo for feature in neural_search_features)\n",
    "        # does the current combination contain only query features (no keyword or neural search features)\n",
    "        query_b = any(feature in combo for feature in query_features)\n",
    "\n",
    "        df_model_metrics.append(pd.DataFrame({\n",
    "            \"features\": [combo]*5,\n",
    "            \"rmse_scores\": rmse_scores,\n",
    "            \"keyword_f\": [keyword_b]*5,\n",
    "            \"neural_f\": [neural_b]*5,\n",
    "            \"query_f\": [query_b]*5,\n",
    "            \"model\": \"lr\",\n",
    "            \"regularization\": True,\n",
    "            }))\n",
    "        \n",
    "        # Update if the current combination is better\n",
    "        if mean_rmse < best_score:\n",
    "            best_score = mean_rmse\n",
    "            best_combination = combo\n",
    "            best_metrics = {\n",
    "                'RMSE (mean)': mean_rmse\n",
    "            }\n",
    "\n",
    "df_metrics = pd.concat([df_metrics, pd.concat(df_model_metrics)])\n",
    "\n",
    "# Output the best feature combination and its metrics\n",
    "print(\"Best Feature Combination:\", best_combination)\n",
    "print(\"Best Metrics:\")\n",
    "print(f\"Cross-Validation RMSE (mean): {best_metrics['RMSE (mean)']}\")"
   ]
  },
  {
   "cell_type": "markdown",
   "id": "a805171e-c356-4814-8daf-35742ccce14d",
   "metadata": {},
   "source": [
    "## Random Forest Regression with Feature Combinations and Cross Validation"
   ]
  },
  {
   "cell_type": "code",
   "execution_count": 225,
   "id": "0eed17f6-bb8c-4a1a-b002-fe960a06fe70",
   "metadata": {},
   "outputs": [
    {
     "data": {
      "application/vnd.jupyter.widget-view+json": {
       "model_id": "c67698176a78456aa663940e2b74d1ff",
       "version_major": 2,
       "version_minor": 0
      },
      "text/plain": [
       "  0%|          | 0/8 [00:00<?, ?it/s]"
      ]
     },
     "metadata": {},
     "output_type": "display_data"
    },
    {
     "name": "stdout",
     "output_type": "stream",
     "text": [
      "Best Feature Combination: ('f_2_query_length', 'f_3_has_numbers', 'f_4_has_special_char', 'f_5_num_results', 'f_7_sum_title_scores')\n",
      "Best Metrics:\n",
      "Cross-Validation RMSE (mean): 0.27058291759236447\n"
     ]
    }
   ],
   "source": [
    "from sklearn.model_selection import ShuffleSplit, cross_val_score\n",
    "from sklearn.ensemble import RandomForestRegressor\n",
    "from sklearn.metrics import make_scorer, root_mean_squared_error, r2_score\n",
    "from itertools import combinations\n",
    "import numpy as np\n",
    "import pandas as pd\n",
    "\n",
    "# Prepare features and target\n",
    "feature_columns = [ \"f_1_num_of_terms\", \"f_2_query_length\", \"f_3_has_numbers\", \"f_4_has_special_char\", \"f_5_num_results\",\n",
    "                   \"f_6_max_title_score\", \"f_7_sum_title_scores\", \"f_8_max_semantic_score\",  \"f_9_avg_semantic_score\"]\n",
    "kws_features = [\"f_5_num_results\", \"f_6_max_title_score\", \"f_7_sum_title_scores\"]\n",
    "neural_search_features = [\"f_8_max_semantic_score\",  \"f_9_avg_semantic_score\"]\n",
    "query_features = [\"f_1_num_of_terms\",  \"f_2_query_length\", \"f_3_has_numbers\", \"f_4_has_special_char\"]\n",
    "\n",
    "y = df_filtered['neuralness']  # Target column\n",
    "\n",
    "# Initialize cross-validation strategy\n",
    "cv = ShuffleSplit(n_splits=5, test_size=0.2, random_state=0)\n",
    "\n",
    "# Define the model\n",
    "model = RandomForestRegressor(random_state=42)\n",
    "\n",
    "rmse_scorer = make_scorer(root_mean_squared_error, greater_is_better=False)\n",
    "\n",
    "# Initialize variables to track the best combination\n",
    "best_score = float('inf')\n",
    "best_combination = None\n",
    "best_metrics = {}\n",
    "df_model_metrics = []\n",
    "\n",
    "# Try all feature combinations of length 2 to 9\n",
    "for r in tqdm_notebook(range(2, len(feature_columns) + 1)):\n",
    "    for combo in combinations(feature_columns, r):\n",
    "        X = df_filtered[list(combo)]  # Select current feature subset\n",
    "        \n",
    "        # Perform cross-validation\n",
    "        scores = cross_val_score(model, X, y, cv=cv)\n",
    "        rmse_scores = cross_val_score(model, X, y, cv=cv, scoring=rmse_scorer)\n",
    "        \n",
    "        # Calculate the mean metrics for the current combination\n",
    "        mean_score = scores.mean()\n",
    "        std_score = scores.std()\n",
    "        mean_rmse = -np.mean(rmse_scores)  # Since RMSE scorer is negative for minimization\n",
    "\n",
    "        # does the current combination contain keyword search features\n",
    "        keyword_b = any(feature in combo for feature in kws_features)\n",
    "        # does the current combination contain neural search features\n",
    "        neural_b = any(feature in combo for feature in neural_search_features)\n",
    "        # does the current combination contain query features\n",
    "        query_b = any(feature in combo for feature in query_features)\n",
    "        \n",
    "        df_model_metrics.append(pd.DataFrame({\n",
    "            \"features\": [combo]*5,\n",
    "            \"rmse_scores\": rmse_scores,\n",
    "            \"keyword_f\": [keyword_b]*5,\n",
    "            \"neural_f\": [neural_b]*5,\n",
    "            \"query_f\": [query_b]*5,\n",
    "            \"model\": \"rf\",\n",
    "            \"regularization\": False,\n",
    "            }))\n",
    "        # Update if the current combination is better\n",
    "        if mean_rmse < best_score:\n",
    "            best_score = mean_rmse\n",
    "            best_combination = combo\n",
    "            best_metrics = {\n",
    "                'RMSE (mean)': mean_rmse\n",
    "            }\n",
    "\n",
    "df_metrics = pd.concat([df_metrics, pd.concat(df_model_metrics)])\n",
    "\n",
    "# Output the best feature combination and its metrics\n",
    "print(\"Best Feature Combination:\", best_combination)\n",
    "print(\"Best Metrics:\")\n",
    "print(f\"Cross-Validation RMSE (mean): {best_metrics['RMSE (mean)']}\")"
   ]
  },
  {
   "cell_type": "markdown",
   "id": "090f4e6c-8a4f-4284-a106-69058022044d",
   "metadata": {},
   "source": [
    "## Random Forest Regression with Feature Combinations, Cross Validation and Regularization (RandomizedSearchCV)"
   ]
  },
  {
   "cell_type": "code",
   "execution_count": 226,
   "id": "b796b81d-b6f9-403c-b678-09e1dd033ec9",
   "metadata": {},
   "outputs": [],
   "source": [
    "# RandomizedSearchCV is very verbose in logging warnings. The following snippet suppresses these.\n",
    "# source: https://stackoverflow.com/questions/32612180/eliminating-warnings-from-scikit-learn\n",
    "def warn(*args, **kwargs):\n",
    "    pass\n",
    "import warnings\n",
    "warnings.warn = warn"
   ]
  },
  {
   "cell_type": "code",
   "execution_count": 227,
   "id": "60e36876-addc-42f8-ad67-0922817767bb",
   "metadata": {
    "jp-MarkdownHeadingCollapsed": true,
    "scrolled": true
   },
   "outputs": [
    {
     "data": {
      "application/vnd.jupyter.widget-view+json": {
       "model_id": "67a94b24bf5548738de9bc47d80f97c8",
       "version_major": 2,
       "version_minor": 0
      },
      "text/plain": [
       "  0%|          | 0/8 [00:00<?, ?it/s]"
      ]
     },
     "metadata": {},
     "output_type": "display_data"
    },
    {
     "name": "stdout",
     "output_type": "stream",
     "text": [
      "Best Feature Combination: ('f_4_has_special_char', 'f_5_num_results')\n",
      "Best Parameter Set: {'n_estimators': 50, 'min_samples_split': 2, 'min_samples_leaf': 4, 'max_features': 'log2', 'max_depth': 3}\n",
      "Best Metrics:\n",
      "Cross-Validation RMSE (mean): 0.2560437740620821\n"
     ]
    }
   ],
   "source": [
    "from sklearn.model_selection import ShuffleSplit, cross_val_score, RandomizedSearchCV\n",
    "from sklearn.ensemble import RandomForestRegressor\n",
    "from sklearn.metrics import make_scorer, root_mean_squared_error, r2_score\n",
    "from itertools import combinations\n",
    "import numpy as np\n",
    "import pandas as pd\n",
    "\n",
    "# Prepare features and target\n",
    "feature_columns = [ \"f_1_num_of_terms\", \"f_2_query_length\", \"f_3_has_numbers\", \"f_4_has_special_char\", \"f_5_num_results\",\n",
    "                   \"f_6_max_title_score\", \"f_7_sum_title_scores\", \"f_8_max_semantic_score\",  \"f_9_avg_semantic_score\"]\n",
    "kws_features = [\"f_5_num_results\", \"f_6_max_title_score\", \"f_7_sum_title_scores\"]\n",
    "neural_search_features = [\"f_8_max_semantic_score\",  \"f_9_avg_semantic_score\"]\n",
    "query_features = [\"f_1_num_of_terms\",  \"f_2_query_length\", \"f_3_has_numbers\", \"f_4_has_special_char\"]\n",
    "\n",
    "y = df_filtered['neuralness']  # Target column\n",
    "\n",
    "# Initialize cross-validation strategy\n",
    "cv = ShuffleSplit(n_splits=5, test_size=0.2, random_state=0)\n",
    "\n",
    "# Define Random Forest hyperparameter distributions for RandomizedSearchCV\n",
    "param_dist = {\n",
    "    'n_estimators': [50, 100, 200],\n",
    "    'max_depth': [1, 2, 3, 5, 10, 15, None],\n",
    "    'min_samples_split': [2, 5, 10],\n",
    "    'min_samples_leaf': [1, 2, 4],\n",
    "    'max_features': ['auto', 'sqrt', 'log2']\n",
    "}\n",
    "\n",
    "rmse_scorer = make_scorer(root_mean_squared_error, greater_is_better=False)\n",
    "\n",
    "# Initialize variables to track the best combination\n",
    "best_score = float('inf')\n",
    "best_combination = None\n",
    "best_metrics = {}\n",
    "df_model_metrics = []\n",
    "\n",
    "# Try all feature combinations of length 2 to 9\n",
    "for r in tqdm_notebook(range(2, len(feature_columns) + 1)):\n",
    "    for combo in combinations(feature_columns, r):\n",
    "        X = df_filtered[list(combo)]  # Select current feature subset\n",
    "\n",
    "        # Define the model\n",
    "        model = RandomForestRegressor(random_state=42)\n",
    "        # Initialize RandomizedSearchCV\n",
    "        random_search = RandomizedSearchCV(\n",
    "            estimator=model,\n",
    "            param_distributions=param_dist,\n",
    "            n_iter=10,  # Number of random samples to draw\n",
    "            scoring=rmse_scorer,\n",
    "            cv=cv,\n",
    "            random_state=42,\n",
    "            n_jobs=-1,\n",
    "            verbose=0\n",
    "        )\n",
    "\n",
    "        # Perform cross-validation with randomized hyperparameter search\n",
    "        random_search.fit(X, y)\n",
    "\n",
    "        # Get the best score and parameters from the random search\n",
    "        mean_rmse = -random_search.best_score_  # Convert to positive RMSE\n",
    "        best_params = random_search.best_params_\n",
    "\n",
    "        # Retrieve mean_test_score and mask out NaNs\n",
    "        mean_test_scores = -random_search.cv_results_[\"mean_test_score\"]\n",
    "        valid_scores = np.where(~np.isnan(mean_test_scores), mean_test_scores, np.inf)  # Replace NaNs with infinity\n",
    "        \n",
    "        # Find the index of the best configuration based on valid mean_test_scores\n",
    "        best_config_index = np.argmin(valid_scores)\n",
    "        \n",
    "        # Retrieve individual fold scores for the best configuration\n",
    "        best_fold_scores = []\n",
    "        for fold_index in range(5):  # 5 folds\n",
    "            # Get the score for the current fold of the best configuration\n",
    "            score = random_search.cv_results_[f\"split{fold_index}_test_score\"][best_config_index]\n",
    "            best_fold_scores.append(score)\n",
    "\n",
    "        # does the current combination contain keyword search features\n",
    "        keyword_b = any(feature in combo for feature in kws_features)\n",
    "        # does the current combination contain neural search features\n",
    "        neural_b = any(feature in combo for feature in neural_search_features)\n",
    "        # does the current combination contain query features\n",
    "        query_b = any(feature in combo for feature in query_features)\n",
    "\n",
    "        df_model_metrics.append(pd.DataFrame({\n",
    "            \"features\": [combo]*5,\n",
    "            \"rmse_scores\": best_fold_scores,\n",
    "            \"keyword_f\": [keyword_b]*5,\n",
    "            \"neural_f\": [neural_b]*5,\n",
    "            \"query_f\": [query_b]*5,\n",
    "            \"model\": \"rf\",\n",
    "            \"regularization\": True,\n",
    "            }))\n",
    "        \n",
    "        # Update if the current combination is better\n",
    "        if mean_rmse < best_score:\n",
    "            best_score = mean_rmse\n",
    "            best_combination = combo\n",
    "            best_param_set = best_params\n",
    "            best_metrics = {\n",
    "                'RMSE (mean)': mean_rmse\n",
    "            }\n",
    "\n",
    "df_metrics = pd.concat([df_metrics, pd.concat(df_model_metrics)])\n",
    "\n",
    "# Output the best feature combination and its metrics\n",
    "print(\"Best Feature Combination:\", best_combination)\n",
    "print(\"Best Parameter Set:\", best_param_set)\n",
    "print(\"Best Metrics:\")\n",
    "print(f\"Cross-Validation RMSE (mean): {best_metrics['RMSE (mean)']}\")"
   ]
  },
  {
   "cell_type": "markdown",
   "id": "0e5200c4-c1c5-4db6-b424-3b9b4a1f713f",
   "metadata": {},
   "source": [
    "### Aggregate Metrics per Model, Regularization, and Feature Combination"
   ]
  },
  {
   "cell_type": "code",
   "execution_count": 228,
   "id": "0192d104-1cee-4eeb-b3a8-133a2ff76e8c",
   "metadata": {},
   "outputs": [],
   "source": [
    "# multiply rmse scores by -1 as they are all negative for minimization\n",
    "df_metrics['rmse_scores'] = df_metrics['rmse_scores'] * (-1)"
   ]
  },
  {
   "cell_type": "code",
   "execution_count": 229,
   "id": "9f165cf6-99b2-4902-bf7f-fca22c1011de",
   "metadata": {},
   "outputs": [],
   "source": [
    "# join features to a feature string\n",
    "df_metrics['features'] =  df_metrics.features.apply(lambda x: ','.join(x))"
   ]
  },
  {
   "cell_type": "code",
   "execution_count": 230,
   "id": "c07d1d23-a6a7-486d-95df-cf4c985982b4",
   "metadata": {},
   "outputs": [],
   "source": [
    "df_agg_metrics = df_metrics.groupby(by=['features', 'keyword_f', 'neural_f', 'query_f', 'model', 'regularization']).agg({\n",
    "    'rmse_scores': ['mean', 'var', np.std]\n",
    "}).reset_index()\n",
    "df_agg_metrics.columns = ['features', 'keyword_f', 'neural_f', 'query_f', 'model', 'regularization', 'mean_rmse', 'var_rmse', 'std_rmse']\n"
   ]
  },
  {
   "cell_type": "code",
   "execution_count": 231,
   "id": "78901f00-d60e-4752-ad29-7bde44f8435d",
   "metadata": {},
   "outputs": [
    {
     "data": {
      "text/html": [
       "<div>\n",
       "<style scoped>\n",
       "    .dataframe tbody tr th:only-of-type {\n",
       "        vertical-align: middle;\n",
       "    }\n",
       "\n",
       "    .dataframe tbody tr th {\n",
       "        vertical-align: top;\n",
       "    }\n",
       "\n",
       "    .dataframe thead th {\n",
       "        text-align: right;\n",
       "    }\n",
       "</style>\n",
       "<table border=\"1\" class=\"dataframe\">\n",
       "  <thead>\n",
       "    <tr style=\"text-align: right;\">\n",
       "      <th></th>\n",
       "      <th>features</th>\n",
       "      <th>keyword_f</th>\n",
       "      <th>neural_f</th>\n",
       "      <th>query_f</th>\n",
       "      <th>model</th>\n",
       "      <th>regularization</th>\n",
       "      <th>mean_rmse</th>\n",
       "      <th>var_rmse</th>\n",
       "      <th>std_rmse</th>\n",
       "    </tr>\n",
       "  </thead>\n",
       "  <tbody>\n",
       "    <tr>\n",
       "      <th>0</th>\n",
       "      <td>f_1_num_of_terms,f_2_query_length</td>\n",
       "      <td>False</td>\n",
       "      <td>False</td>\n",
       "      <td>True</td>\n",
       "      <td>lr</td>\n",
       "      <td>False</td>\n",
       "      <td>0.268859</td>\n",
       "      <td>0.000808</td>\n",
       "      <td>0.028434</td>\n",
       "    </tr>\n",
       "    <tr>\n",
       "      <th>1</th>\n",
       "      <td>f_1_num_of_terms,f_2_query_length</td>\n",
       "      <td>False</td>\n",
       "      <td>False</td>\n",
       "      <td>True</td>\n",
       "      <td>lr</td>\n",
       "      <td>True</td>\n",
       "      <td>0.268695</td>\n",
       "      <td>0.000803</td>\n",
       "      <td>0.028340</td>\n",
       "    </tr>\n",
       "    <tr>\n",
       "      <th>2</th>\n",
       "      <td>f_1_num_of_terms,f_2_query_length</td>\n",
       "      <td>False</td>\n",
       "      <td>False</td>\n",
       "      <td>True</td>\n",
       "      <td>rf</td>\n",
       "      <td>False</td>\n",
       "      <td>0.292087</td>\n",
       "      <td>0.000029</td>\n",
       "      <td>0.005383</td>\n",
       "    </tr>\n",
       "    <tr>\n",
       "      <th>3</th>\n",
       "      <td>f_1_num_of_terms,f_2_query_length</td>\n",
       "      <td>False</td>\n",
       "      <td>False</td>\n",
       "      <td>True</td>\n",
       "      <td>rf</td>\n",
       "      <td>True</td>\n",
       "      <td>0.273332</td>\n",
       "      <td>0.000441</td>\n",
       "      <td>0.021009</td>\n",
       "    </tr>\n",
       "    <tr>\n",
       "      <th>4</th>\n",
       "      <td>f_1_num_of_terms,f_2_query_length,f_3_has_numbers</td>\n",
       "      <td>False</td>\n",
       "      <td>False</td>\n",
       "      <td>True</td>\n",
       "      <td>lr</td>\n",
       "      <td>False</td>\n",
       "      <td>0.271316</td>\n",
       "      <td>0.000823</td>\n",
       "      <td>0.028694</td>\n",
       "    </tr>\n",
       "  </tbody>\n",
       "</table>\n",
       "</div>"
      ],
      "text/plain": [
       "                                            features  keyword_f  neural_f  \\\n",
       "0                  f_1_num_of_terms,f_2_query_length      False     False   \n",
       "1                  f_1_num_of_terms,f_2_query_length      False     False   \n",
       "2                  f_1_num_of_terms,f_2_query_length      False     False   \n",
       "3                  f_1_num_of_terms,f_2_query_length      False     False   \n",
       "4  f_1_num_of_terms,f_2_query_length,f_3_has_numbers      False     False   \n",
       "\n",
       "   query_f model  regularization  mean_rmse  var_rmse  std_rmse  \n",
       "0     True    lr           False   0.268859  0.000808  0.028434  \n",
       "1     True    lr            True   0.268695  0.000803  0.028340  \n",
       "2     True    rf           False   0.292087  0.000029  0.005383  \n",
       "3     True    rf            True   0.273332  0.000441  0.021009  \n",
       "4     True    lr           False   0.271316  0.000823  0.028694  "
      ]
     },
     "execution_count": 231,
     "metadata": {},
     "output_type": "execute_result"
    }
   ],
   "source": [
    "df_agg_metrics.head(5)"
   ]
  },
  {
   "cell_type": "code",
   "execution_count": 232,
   "id": "912abc17-7e23-4d61-9c92-aeec807edd43",
   "metadata": {},
   "outputs": [
    {
     "data": {
      "text/html": [
       "<div>\n",
       "<style scoped>\n",
       "    .dataframe tbody tr th:only-of-type {\n",
       "        vertical-align: middle;\n",
       "    }\n",
       "\n",
       "    .dataframe tbody tr th {\n",
       "        vertical-align: top;\n",
       "    }\n",
       "\n",
       "    .dataframe thead th {\n",
       "        text-align: right;\n",
       "    }\n",
       "</style>\n",
       "<table border=\"1\" class=\"dataframe\">\n",
       "  <thead>\n",
       "    <tr style=\"text-align: right;\">\n",
       "      <th></th>\n",
       "      <th>features</th>\n",
       "      <th>keyword_f</th>\n",
       "      <th>neural_f</th>\n",
       "      <th>query_f</th>\n",
       "      <th>model</th>\n",
       "      <th>regularization</th>\n",
       "      <th>mean_rmse</th>\n",
       "      <th>var_rmse</th>\n",
       "      <th>std_rmse</th>\n",
       "    </tr>\n",
       "  </thead>\n",
       "  <tbody>\n",
       "    <tr>\n",
       "      <th>1783</th>\n",
       "      <td>f_4_has_special_char,f_5_num_results</td>\n",
       "      <td>True</td>\n",
       "      <td>False</td>\n",
       "      <td>True</td>\n",
       "      <td>rf</td>\n",
       "      <td>True</td>\n",
       "      <td>0.256044</td>\n",
       "      <td>0.000256</td>\n",
       "      <td>0.015999</td>\n",
       "    </tr>\n",
       "    <tr>\n",
       "      <th>1407</th>\n",
       "      <td>f_2_query_length,f_5_num_results</td>\n",
       "      <td>True</td>\n",
       "      <td>False</td>\n",
       "      <td>True</td>\n",
       "      <td>rf</td>\n",
       "      <td>True</td>\n",
       "      <td>0.257924</td>\n",
       "      <td>0.000282</td>\n",
       "      <td>0.016787</td>\n",
       "    </tr>\n",
       "    <tr>\n",
       "      <th>1835</th>\n",
       "      <td>f_4_has_special_char,f_5_num_results,f_8_max_s...</td>\n",
       "      <td>True</td>\n",
       "      <td>True</td>\n",
       "      <td>True</td>\n",
       "      <td>rf</td>\n",
       "      <td>True</td>\n",
       "      <td>0.258696</td>\n",
       "      <td>0.000429</td>\n",
       "      <td>0.020700</td>\n",
       "    </tr>\n",
       "    <tr>\n",
       "      <th>1283</th>\n",
       "      <td>f_2_query_length,f_4_has_special_char,f_5_num_...</td>\n",
       "      <td>True</td>\n",
       "      <td>False</td>\n",
       "      <td>True</td>\n",
       "      <td>rf</td>\n",
       "      <td>True</td>\n",
       "      <td>0.258848</td>\n",
       "      <td>0.000324</td>\n",
       "      <td>0.017997</td>\n",
       "    </tr>\n",
       "    <tr>\n",
       "      <th>15</th>\n",
       "      <td>f_1_num_of_terms,f_2_query_length,f_3_has_numb...</td>\n",
       "      <td>True</td>\n",
       "      <td>False</td>\n",
       "      <td>True</td>\n",
       "      <td>rf</td>\n",
       "      <td>True</td>\n",
       "      <td>0.259053</td>\n",
       "      <td>0.000301</td>\n",
       "      <td>0.017355</td>\n",
       "    </tr>\n",
       "    <tr>\n",
       "      <th>1335</th>\n",
       "      <td>f_2_query_length,f_4_has_special_char,f_5_num_...</td>\n",
       "      <td>True</td>\n",
       "      <td>True</td>\n",
       "      <td>True</td>\n",
       "      <td>rf</td>\n",
       "      <td>True</td>\n",
       "      <td>0.259317</td>\n",
       "      <td>0.000304</td>\n",
       "      <td>0.017449</td>\n",
       "    </tr>\n",
       "    <tr>\n",
       "      <th>1031</th>\n",
       "      <td>f_2_query_length,f_3_has_numbers,f_4_has_speci...</td>\n",
       "      <td>True</td>\n",
       "      <td>False</td>\n",
       "      <td>True</td>\n",
       "      <td>rf</td>\n",
       "      <td>True</td>\n",
       "      <td>0.259382</td>\n",
       "      <td>0.000325</td>\n",
       "      <td>0.018041</td>\n",
       "    </tr>\n",
       "    <tr>\n",
       "      <th>1907</th>\n",
       "      <td>f_5_num_results,f_6_max_title_score</td>\n",
       "      <td>True</td>\n",
       "      <td>False</td>\n",
       "      <td>False</td>\n",
       "      <td>rf</td>\n",
       "      <td>True</td>\n",
       "      <td>0.259466</td>\n",
       "      <td>0.000380</td>\n",
       "      <td>0.019498</td>\n",
       "    </tr>\n",
       "    <tr>\n",
       "      <th>1787</th>\n",
       "      <td>f_4_has_special_char,f_5_num_results,f_6_max_t...</td>\n",
       "      <td>True</td>\n",
       "      <td>False</td>\n",
       "      <td>True</td>\n",
       "      <td>rf</td>\n",
       "      <td>True</td>\n",
       "      <td>0.259555</td>\n",
       "      <td>0.000417</td>\n",
       "      <td>0.020417</td>\n",
       "    </tr>\n",
       "    <tr>\n",
       "      <th>1819</th>\n",
       "      <td>f_4_has_special_char,f_5_num_results,f_7_sum_t...</td>\n",
       "      <td>True</td>\n",
       "      <td>False</td>\n",
       "      <td>True</td>\n",
       "      <td>rf</td>\n",
       "      <td>True</td>\n",
       "      <td>0.259560</td>\n",
       "      <td>0.000425</td>\n",
       "      <td>0.020604</td>\n",
       "    </tr>\n",
       "  </tbody>\n",
       "</table>\n",
       "</div>"
      ],
      "text/plain": [
       "                                               features  keyword_f  neural_f  \\\n",
       "1783               f_4_has_special_char,f_5_num_results       True     False   \n",
       "1407                   f_2_query_length,f_5_num_results       True     False   \n",
       "1835  f_4_has_special_char,f_5_num_results,f_8_max_s...       True      True   \n",
       "1283  f_2_query_length,f_4_has_special_char,f_5_num_...       True     False   \n",
       "15    f_1_num_of_terms,f_2_query_length,f_3_has_numb...       True     False   \n",
       "1335  f_2_query_length,f_4_has_special_char,f_5_num_...       True      True   \n",
       "1031  f_2_query_length,f_3_has_numbers,f_4_has_speci...       True     False   \n",
       "1907                f_5_num_results,f_6_max_title_score       True     False   \n",
       "1787  f_4_has_special_char,f_5_num_results,f_6_max_t...       True     False   \n",
       "1819  f_4_has_special_char,f_5_num_results,f_7_sum_t...       True     False   \n",
       "\n",
       "      query_f model  regularization  mean_rmse  var_rmse  std_rmse  \n",
       "1783     True    rf            True   0.256044  0.000256  0.015999  \n",
       "1407     True    rf            True   0.257924  0.000282  0.016787  \n",
       "1835     True    rf            True   0.258696  0.000429  0.020700  \n",
       "1283     True    rf            True   0.258848  0.000324  0.017997  \n",
       "15       True    rf            True   0.259053  0.000301  0.017355  \n",
       "1335     True    rf            True   0.259317  0.000304  0.017449  \n",
       "1031     True    rf            True   0.259382  0.000325  0.018041  \n",
       "1907    False    rf            True   0.259466  0.000380  0.019498  \n",
       "1787     True    rf            True   0.259555  0.000417  0.020417  \n",
       "1819     True    rf            True   0.259560  0.000425  0.020604  "
      ]
     },
     "execution_count": 232,
     "metadata": {},
     "output_type": "execute_result"
    }
   ],
   "source": [
    "# 10 best feature combinations across all experiments\n",
    "df_agg_metrics.sort_values(by='mean_rmse').head(10)"
   ]
  },
  {
   "cell_type": "code",
   "execution_count": 233,
   "id": "d14daa24-ad50-450a-b918-7c7b00434459",
   "metadata": {},
   "outputs": [
    {
     "data": {
      "text/html": [
       "<div>\n",
       "<style scoped>\n",
       "    .dataframe tbody tr th:only-of-type {\n",
       "        vertical-align: middle;\n",
       "    }\n",
       "\n",
       "    .dataframe tbody tr th {\n",
       "        vertical-align: top;\n",
       "    }\n",
       "\n",
       "    .dataframe thead th {\n",
       "        text-align: right;\n",
       "    }\n",
       "</style>\n",
       "<table border=\"1\" class=\"dataframe\">\n",
       "  <thead>\n",
       "    <tr style=\"text-align: right;\">\n",
       "      <th></th>\n",
       "      <th>features</th>\n",
       "      <th>keyword_f</th>\n",
       "      <th>neural_f</th>\n",
       "      <th>query_f</th>\n",
       "      <th>model</th>\n",
       "      <th>regularization</th>\n",
       "      <th>mean_rmse</th>\n",
       "      <th>var_rmse</th>\n",
       "      <th>std_rmse</th>\n",
       "    </tr>\n",
       "  </thead>\n",
       "  <tbody>\n",
       "    <tr>\n",
       "      <th>1894</th>\n",
       "      <td>f_4_has_special_char,f_8_max_semantic_score</td>\n",
       "      <td>False</td>\n",
       "      <td>True</td>\n",
       "      <td>True</td>\n",
       "      <td>rf</td>\n",
       "      <td>False</td>\n",
       "      <td>0.342811</td>\n",
       "      <td>0.000516</td>\n",
       "      <td>0.022710</td>\n",
       "    </tr>\n",
       "    <tr>\n",
       "      <th>1010</th>\n",
       "      <td>f_1_num_of_terms,f_8_max_semantic_score</td>\n",
       "      <td>False</td>\n",
       "      <td>True</td>\n",
       "      <td>True</td>\n",
       "      <td>rf</td>\n",
       "      <td>False</td>\n",
       "      <td>0.335348</td>\n",
       "      <td>0.000469</td>\n",
       "      <td>0.021653</td>\n",
       "    </tr>\n",
       "    <tr>\n",
       "      <th>886</th>\n",
       "      <td>f_1_num_of_terms,f_4_has_special_char,f_8_max_...</td>\n",
       "      <td>False</td>\n",
       "      <td>True</td>\n",
       "      <td>True</td>\n",
       "      <td>rf</td>\n",
       "      <td>False</td>\n",
       "      <td>0.331135</td>\n",
       "      <td>0.000379</td>\n",
       "      <td>0.019458</td>\n",
       "    </tr>\n",
       "    <tr>\n",
       "      <th>1878</th>\n",
       "      <td>f_4_has_special_char,f_7_sum_title_scores</td>\n",
       "      <td>True</td>\n",
       "      <td>False</td>\n",
       "      <td>True</td>\n",
       "      <td>rf</td>\n",
       "      <td>False</td>\n",
       "      <td>0.330046</td>\n",
       "      <td>0.000487</td>\n",
       "      <td>0.022065</td>\n",
       "    </tr>\n",
       "    <tr>\n",
       "      <th>1770</th>\n",
       "      <td>f_3_has_numbers,f_8_max_semantic_score</td>\n",
       "      <td>False</td>\n",
       "      <td>True</td>\n",
       "      <td>True</td>\n",
       "      <td>rf</td>\n",
       "      <td>False</td>\n",
       "      <td>0.330042</td>\n",
       "      <td>0.000503</td>\n",
       "      <td>0.022431</td>\n",
       "    </tr>\n",
       "    <tr>\n",
       "      <th>1646</th>\n",
       "      <td>f_3_has_numbers,f_4_has_special_char,f_8_max_s...</td>\n",
       "      <td>False</td>\n",
       "      <td>True</td>\n",
       "      <td>True</td>\n",
       "      <td>rf</td>\n",
       "      <td>False</td>\n",
       "      <td>0.329870</td>\n",
       "      <td>0.000473</td>\n",
       "      <td>0.021760</td>\n",
       "    </tr>\n",
       "    <tr>\n",
       "      <th>1630</th>\n",
       "      <td>f_3_has_numbers,f_4_has_special_char,f_7_sum_t...</td>\n",
       "      <td>True</td>\n",
       "      <td>False</td>\n",
       "      <td>True</td>\n",
       "      <td>rf</td>\n",
       "      <td>False</td>\n",
       "      <td>0.323936</td>\n",
       "      <td>0.000526</td>\n",
       "      <td>0.022926</td>\n",
       "    </tr>\n",
       "    <tr>\n",
       "      <th>1846</th>\n",
       "      <td>f_4_has_special_char,f_6_max_title_score</td>\n",
       "      <td>True</td>\n",
       "      <td>False</td>\n",
       "      <td>True</td>\n",
       "      <td>rf</td>\n",
       "      <td>False</td>\n",
       "      <td>0.323361</td>\n",
       "      <td>0.000817</td>\n",
       "      <td>0.028581</td>\n",
       "    </tr>\n",
       "    <tr>\n",
       "      <th>1754</th>\n",
       "      <td>f_3_has_numbers,f_7_sum_title_scores</td>\n",
       "      <td>True</td>\n",
       "      <td>False</td>\n",
       "      <td>True</td>\n",
       "      <td>rf</td>\n",
       "      <td>False</td>\n",
       "      <td>0.322077</td>\n",
       "      <td>0.000599</td>\n",
       "      <td>0.024474</td>\n",
       "    </tr>\n",
       "    <tr>\n",
       "      <th>758</th>\n",
       "      <td>f_1_num_of_terms,f_3_has_numbers,f_8_max_seman...</td>\n",
       "      <td>False</td>\n",
       "      <td>True</td>\n",
       "      <td>True</td>\n",
       "      <td>rf</td>\n",
       "      <td>False</td>\n",
       "      <td>0.321825</td>\n",
       "      <td>0.000733</td>\n",
       "      <td>0.027066</td>\n",
       "    </tr>\n",
       "  </tbody>\n",
       "</table>\n",
       "</div>"
      ],
      "text/plain": [
       "                                               features  keyword_f  neural_f  \\\n",
       "1894        f_4_has_special_char,f_8_max_semantic_score      False      True   \n",
       "1010            f_1_num_of_terms,f_8_max_semantic_score      False      True   \n",
       "886   f_1_num_of_terms,f_4_has_special_char,f_8_max_...      False      True   \n",
       "1878          f_4_has_special_char,f_7_sum_title_scores       True     False   \n",
       "1770             f_3_has_numbers,f_8_max_semantic_score      False      True   \n",
       "1646  f_3_has_numbers,f_4_has_special_char,f_8_max_s...      False      True   \n",
       "1630  f_3_has_numbers,f_4_has_special_char,f_7_sum_t...       True     False   \n",
       "1846           f_4_has_special_char,f_6_max_title_score       True     False   \n",
       "1754               f_3_has_numbers,f_7_sum_title_scores       True     False   \n",
       "758   f_1_num_of_terms,f_3_has_numbers,f_8_max_seman...      False      True   \n",
       "\n",
       "      query_f model  regularization  mean_rmse  var_rmse  std_rmse  \n",
       "1894     True    rf           False   0.342811  0.000516  0.022710  \n",
       "1010     True    rf           False   0.335348  0.000469  0.021653  \n",
       "886      True    rf           False   0.331135  0.000379  0.019458  \n",
       "1878     True    rf           False   0.330046  0.000487  0.022065  \n",
       "1770     True    rf           False   0.330042  0.000503  0.022431  \n",
       "1646     True    rf           False   0.329870  0.000473  0.021760  \n",
       "1630     True    rf           False   0.323936  0.000526  0.022926  \n",
       "1846     True    rf           False   0.323361  0.000817  0.028581  \n",
       "1754     True    rf           False   0.322077  0.000599  0.024474  \n",
       "758      True    rf           False   0.321825  0.000733  0.027066  "
      ]
     },
     "execution_count": 233,
     "metadata": {},
     "output_type": "execute_result"
    }
   ],
   "source": [
    "# 10 worst feature combinations across all experiments\n",
    "df_agg_metrics.sort_values(by='mean_rmse', ascending=False).head(10)"
   ]
  },
  {
   "cell_type": "markdown",
   "id": "1e23011b-a929-4553-b34a-8c804476d51d",
   "metadata": {},
   "source": [
    "### Visualization"
   ]
  },
  {
   "cell_type": "code",
   "execution_count": 234,
   "id": "1ee4af17-9405-40e3-b6b1-78424ada2171",
   "metadata": {},
   "outputs": [
    {
     "data": {
      "application/vnd.plotly.v1+json": {
       "config": {
        "plotlyServerURL": "https://plot.ly"
       },
       "data": [
        {
         "alignmentgroup": "True",
         "hovertemplate": "features=%{x}<br>rmse_scores=%{y}<extra></extra>",
         "legendgroup": "",
         "marker": {
          "color": "#636efa"
         },
         "name": "",
         "notched": false,
         "offsetgroup": "",
         "orientation": "v",
         "showlegend": false,
         "type": "box",
         "x": [
          "f_2_query_length,f_5_num_results",
          "f_2_query_length,f_5_num_results",
          "f_2_query_length,f_5_num_results",
          "f_2_query_length,f_5_num_results",
          "f_2_query_length,f_5_num_results",
          "f_4_has_special_char,f_5_num_results",
          "f_4_has_special_char,f_5_num_results",
          "f_4_has_special_char,f_5_num_results",
          "f_4_has_special_char,f_5_num_results",
          "f_4_has_special_char,f_5_num_results",
          "f_5_num_results,f_6_max_title_score",
          "f_5_num_results,f_6_max_title_score",
          "f_5_num_results,f_6_max_title_score",
          "f_5_num_results,f_6_max_title_score",
          "f_5_num_results,f_6_max_title_score",
          "f_2_query_length,f_4_has_special_char,f_5_num_results",
          "f_2_query_length,f_4_has_special_char,f_5_num_results",
          "f_2_query_length,f_4_has_special_char,f_5_num_results",
          "f_2_query_length,f_4_has_special_char,f_5_num_results",
          "f_2_query_length,f_4_has_special_char,f_5_num_results",
          "f_4_has_special_char,f_5_num_results,f_6_max_title_score",
          "f_4_has_special_char,f_5_num_results,f_6_max_title_score",
          "f_4_has_special_char,f_5_num_results,f_6_max_title_score",
          "f_4_has_special_char,f_5_num_results,f_6_max_title_score",
          "f_4_has_special_char,f_5_num_results,f_6_max_title_score",
          "f_4_has_special_char,f_5_num_results,f_7_sum_title_scores",
          "f_4_has_special_char,f_5_num_results,f_7_sum_title_scores",
          "f_4_has_special_char,f_5_num_results,f_7_sum_title_scores",
          "f_4_has_special_char,f_5_num_results,f_7_sum_title_scores",
          "f_4_has_special_char,f_5_num_results,f_7_sum_title_scores",
          "f_4_has_special_char,f_5_num_results,f_8_max_semantic_score",
          "f_4_has_special_char,f_5_num_results,f_8_max_semantic_score",
          "f_4_has_special_char,f_5_num_results,f_8_max_semantic_score",
          "f_4_has_special_char,f_5_num_results,f_8_max_semantic_score",
          "f_4_has_special_char,f_5_num_results,f_8_max_semantic_score",
          "f_2_query_length,f_3_has_numbers,f_4_has_special_char,f_5_num_results",
          "f_2_query_length,f_3_has_numbers,f_4_has_special_char,f_5_num_results",
          "f_2_query_length,f_3_has_numbers,f_4_has_special_char,f_5_num_results",
          "f_2_query_length,f_3_has_numbers,f_4_has_special_char,f_5_num_results",
          "f_2_query_length,f_3_has_numbers,f_4_has_special_char,f_5_num_results",
          "f_2_query_length,f_4_has_special_char,f_5_num_results,f_8_max_semantic_score",
          "f_2_query_length,f_4_has_special_char,f_5_num_results,f_8_max_semantic_score",
          "f_2_query_length,f_4_has_special_char,f_5_num_results,f_8_max_semantic_score",
          "f_2_query_length,f_4_has_special_char,f_5_num_results,f_8_max_semantic_score",
          "f_2_query_length,f_4_has_special_char,f_5_num_results,f_8_max_semantic_score",
          "f_1_num_of_terms,f_2_query_length,f_3_has_numbers,f_4_has_special_char,f_5_num_results",
          "f_1_num_of_terms,f_2_query_length,f_3_has_numbers,f_4_has_special_char,f_5_num_results",
          "f_1_num_of_terms,f_2_query_length,f_3_has_numbers,f_4_has_special_char,f_5_num_results",
          "f_1_num_of_terms,f_2_query_length,f_3_has_numbers,f_4_has_special_char,f_5_num_results",
          "f_1_num_of_terms,f_2_query_length,f_3_has_numbers,f_4_has_special_char,f_5_num_results",
          "f_2_query_length,f_5_num_results",
          "f_2_query_length,f_5_num_results",
          "f_2_query_length,f_5_num_results",
          "f_2_query_length,f_5_num_results",
          "f_2_query_length,f_5_num_results",
          "f_4_has_special_char,f_5_num_results",
          "f_4_has_special_char,f_5_num_results",
          "f_4_has_special_char,f_5_num_results",
          "f_4_has_special_char,f_5_num_results",
          "f_4_has_special_char,f_5_num_results",
          "f_5_num_results,f_6_max_title_score",
          "f_5_num_results,f_6_max_title_score",
          "f_5_num_results,f_6_max_title_score",
          "f_5_num_results,f_6_max_title_score",
          "f_5_num_results,f_6_max_title_score",
          "f_2_query_length,f_4_has_special_char,f_5_num_results",
          "f_2_query_length,f_4_has_special_char,f_5_num_results",
          "f_2_query_length,f_4_has_special_char,f_5_num_results",
          "f_2_query_length,f_4_has_special_char,f_5_num_results",
          "f_2_query_length,f_4_has_special_char,f_5_num_results",
          "f_4_has_special_char,f_5_num_results,f_6_max_title_score",
          "f_4_has_special_char,f_5_num_results,f_6_max_title_score",
          "f_4_has_special_char,f_5_num_results,f_6_max_title_score",
          "f_4_has_special_char,f_5_num_results,f_6_max_title_score",
          "f_4_has_special_char,f_5_num_results,f_6_max_title_score",
          "f_4_has_special_char,f_5_num_results,f_7_sum_title_scores",
          "f_4_has_special_char,f_5_num_results,f_7_sum_title_scores",
          "f_4_has_special_char,f_5_num_results,f_7_sum_title_scores",
          "f_4_has_special_char,f_5_num_results,f_7_sum_title_scores",
          "f_4_has_special_char,f_5_num_results,f_7_sum_title_scores",
          "f_4_has_special_char,f_5_num_results,f_8_max_semantic_score",
          "f_4_has_special_char,f_5_num_results,f_8_max_semantic_score",
          "f_4_has_special_char,f_5_num_results,f_8_max_semantic_score",
          "f_4_has_special_char,f_5_num_results,f_8_max_semantic_score",
          "f_4_has_special_char,f_5_num_results,f_8_max_semantic_score",
          "f_2_query_length,f_3_has_numbers,f_4_has_special_char,f_5_num_results",
          "f_2_query_length,f_3_has_numbers,f_4_has_special_char,f_5_num_results",
          "f_2_query_length,f_3_has_numbers,f_4_has_special_char,f_5_num_results",
          "f_2_query_length,f_3_has_numbers,f_4_has_special_char,f_5_num_results",
          "f_2_query_length,f_3_has_numbers,f_4_has_special_char,f_5_num_results",
          "f_2_query_length,f_4_has_special_char,f_5_num_results,f_8_max_semantic_score",
          "f_2_query_length,f_4_has_special_char,f_5_num_results,f_8_max_semantic_score",
          "f_2_query_length,f_4_has_special_char,f_5_num_results,f_8_max_semantic_score",
          "f_2_query_length,f_4_has_special_char,f_5_num_results,f_8_max_semantic_score",
          "f_2_query_length,f_4_has_special_char,f_5_num_results,f_8_max_semantic_score",
          "f_1_num_of_terms,f_2_query_length,f_3_has_numbers,f_4_has_special_char,f_5_num_results",
          "f_1_num_of_terms,f_2_query_length,f_3_has_numbers,f_4_has_special_char,f_5_num_results",
          "f_1_num_of_terms,f_2_query_length,f_3_has_numbers,f_4_has_special_char,f_5_num_results",
          "f_1_num_of_terms,f_2_query_length,f_3_has_numbers,f_4_has_special_char,f_5_num_results",
          "f_1_num_of_terms,f_2_query_length,f_3_has_numbers,f_4_has_special_char,f_5_num_results",
          "f_2_query_length,f_5_num_results",
          "f_2_query_length,f_5_num_results",
          "f_2_query_length,f_5_num_results",
          "f_2_query_length,f_5_num_results",
          "f_2_query_length,f_5_num_results",
          "f_4_has_special_char,f_5_num_results",
          "f_4_has_special_char,f_5_num_results",
          "f_4_has_special_char,f_5_num_results",
          "f_4_has_special_char,f_5_num_results",
          "f_4_has_special_char,f_5_num_results",
          "f_5_num_results,f_6_max_title_score",
          "f_5_num_results,f_6_max_title_score",
          "f_5_num_results,f_6_max_title_score",
          "f_5_num_results,f_6_max_title_score",
          "f_5_num_results,f_6_max_title_score",
          "f_2_query_length,f_4_has_special_char,f_5_num_results",
          "f_2_query_length,f_4_has_special_char,f_5_num_results",
          "f_2_query_length,f_4_has_special_char,f_5_num_results",
          "f_2_query_length,f_4_has_special_char,f_5_num_results",
          "f_2_query_length,f_4_has_special_char,f_5_num_results",
          "f_4_has_special_char,f_5_num_results,f_6_max_title_score",
          "f_4_has_special_char,f_5_num_results,f_6_max_title_score",
          "f_4_has_special_char,f_5_num_results,f_6_max_title_score",
          "f_4_has_special_char,f_5_num_results,f_6_max_title_score",
          "f_4_has_special_char,f_5_num_results,f_6_max_title_score",
          "f_4_has_special_char,f_5_num_results,f_7_sum_title_scores",
          "f_4_has_special_char,f_5_num_results,f_7_sum_title_scores",
          "f_4_has_special_char,f_5_num_results,f_7_sum_title_scores",
          "f_4_has_special_char,f_5_num_results,f_7_sum_title_scores",
          "f_4_has_special_char,f_5_num_results,f_7_sum_title_scores",
          "f_4_has_special_char,f_5_num_results,f_8_max_semantic_score",
          "f_4_has_special_char,f_5_num_results,f_8_max_semantic_score",
          "f_4_has_special_char,f_5_num_results,f_8_max_semantic_score",
          "f_4_has_special_char,f_5_num_results,f_8_max_semantic_score",
          "f_4_has_special_char,f_5_num_results,f_8_max_semantic_score",
          "f_2_query_length,f_3_has_numbers,f_4_has_special_char,f_5_num_results",
          "f_2_query_length,f_3_has_numbers,f_4_has_special_char,f_5_num_results",
          "f_2_query_length,f_3_has_numbers,f_4_has_special_char,f_5_num_results",
          "f_2_query_length,f_3_has_numbers,f_4_has_special_char,f_5_num_results",
          "f_2_query_length,f_3_has_numbers,f_4_has_special_char,f_5_num_results",
          "f_2_query_length,f_4_has_special_char,f_5_num_results,f_8_max_semantic_score",
          "f_2_query_length,f_4_has_special_char,f_5_num_results,f_8_max_semantic_score",
          "f_2_query_length,f_4_has_special_char,f_5_num_results,f_8_max_semantic_score",
          "f_2_query_length,f_4_has_special_char,f_5_num_results,f_8_max_semantic_score",
          "f_2_query_length,f_4_has_special_char,f_5_num_results,f_8_max_semantic_score",
          "f_1_num_of_terms,f_2_query_length,f_3_has_numbers,f_4_has_special_char,f_5_num_results",
          "f_1_num_of_terms,f_2_query_length,f_3_has_numbers,f_4_has_special_char,f_5_num_results",
          "f_1_num_of_terms,f_2_query_length,f_3_has_numbers,f_4_has_special_char,f_5_num_results",
          "f_1_num_of_terms,f_2_query_length,f_3_has_numbers,f_4_has_special_char,f_5_num_results",
          "f_1_num_of_terms,f_2_query_length,f_3_has_numbers,f_4_has_special_char,f_5_num_results",
          "f_2_query_length,f_5_num_results",
          "f_2_query_length,f_5_num_results",
          "f_2_query_length,f_5_num_results",
          "f_2_query_length,f_5_num_results",
          "f_2_query_length,f_5_num_results",
          "f_4_has_special_char,f_5_num_results",
          "f_4_has_special_char,f_5_num_results",
          "f_4_has_special_char,f_5_num_results",
          "f_4_has_special_char,f_5_num_results",
          "f_4_has_special_char,f_5_num_results",
          "f_5_num_results,f_6_max_title_score",
          "f_5_num_results,f_6_max_title_score",
          "f_5_num_results,f_6_max_title_score",
          "f_5_num_results,f_6_max_title_score",
          "f_5_num_results,f_6_max_title_score",
          "f_2_query_length,f_4_has_special_char,f_5_num_results",
          "f_2_query_length,f_4_has_special_char,f_5_num_results",
          "f_2_query_length,f_4_has_special_char,f_5_num_results",
          "f_2_query_length,f_4_has_special_char,f_5_num_results",
          "f_2_query_length,f_4_has_special_char,f_5_num_results",
          "f_4_has_special_char,f_5_num_results,f_6_max_title_score",
          "f_4_has_special_char,f_5_num_results,f_6_max_title_score",
          "f_4_has_special_char,f_5_num_results,f_6_max_title_score",
          "f_4_has_special_char,f_5_num_results,f_6_max_title_score",
          "f_4_has_special_char,f_5_num_results,f_6_max_title_score",
          "f_4_has_special_char,f_5_num_results,f_7_sum_title_scores",
          "f_4_has_special_char,f_5_num_results,f_7_sum_title_scores",
          "f_4_has_special_char,f_5_num_results,f_7_sum_title_scores",
          "f_4_has_special_char,f_5_num_results,f_7_sum_title_scores",
          "f_4_has_special_char,f_5_num_results,f_7_sum_title_scores",
          "f_4_has_special_char,f_5_num_results,f_8_max_semantic_score",
          "f_4_has_special_char,f_5_num_results,f_8_max_semantic_score",
          "f_4_has_special_char,f_5_num_results,f_8_max_semantic_score",
          "f_4_has_special_char,f_5_num_results,f_8_max_semantic_score",
          "f_4_has_special_char,f_5_num_results,f_8_max_semantic_score",
          "f_2_query_length,f_3_has_numbers,f_4_has_special_char,f_5_num_results",
          "f_2_query_length,f_3_has_numbers,f_4_has_special_char,f_5_num_results",
          "f_2_query_length,f_3_has_numbers,f_4_has_special_char,f_5_num_results",
          "f_2_query_length,f_3_has_numbers,f_4_has_special_char,f_5_num_results",
          "f_2_query_length,f_3_has_numbers,f_4_has_special_char,f_5_num_results",
          "f_2_query_length,f_4_has_special_char,f_5_num_results,f_8_max_semantic_score",
          "f_2_query_length,f_4_has_special_char,f_5_num_results,f_8_max_semantic_score",
          "f_2_query_length,f_4_has_special_char,f_5_num_results,f_8_max_semantic_score",
          "f_2_query_length,f_4_has_special_char,f_5_num_results,f_8_max_semantic_score",
          "f_2_query_length,f_4_has_special_char,f_5_num_results,f_8_max_semantic_score",
          "f_1_num_of_terms,f_2_query_length,f_3_has_numbers,f_4_has_special_char,f_5_num_results",
          "f_1_num_of_terms,f_2_query_length,f_3_has_numbers,f_4_has_special_char,f_5_num_results",
          "f_1_num_of_terms,f_2_query_length,f_3_has_numbers,f_4_has_special_char,f_5_num_results",
          "f_1_num_of_terms,f_2_query_length,f_3_has_numbers,f_4_has_special_char,f_5_num_results",
          "f_1_num_of_terms,f_2_query_length,f_3_has_numbers,f_4_has_special_char,f_5_num_results"
         ],
         "x0": " ",
         "xaxis": "x",
         "y": [
          0.23642519049818211,
          0.24705193089896402,
          0.28729273314844456,
          0.25685194992258004,
          0.2998437227322419,
          0.23877193305824324,
          0.24475352101696882,
          0.28760674910526207,
          0.2607280048743443,
          0.30012763462669106,
          0.24084057792470773,
          0.2453279513814025,
          0.28771789498456873,
          0.26212045294333397,
          0.2996321034050245,
          0.23789663510570966,
          0.24687735391636242,
          0.2874749266857937,
          0.2600904582877474,
          0.2997000605683942,
          0.24291106402579685,
          0.24550970271700256,
          0.2883940170578491,
          0.2673924074425295,
          0.2996006287718145,
          0.23791805534105387,
          0.2499644065055563,
          0.2820555444715018,
          0.27066095641810917,
          0.2941651861330629,
          0.2385412027142103,
          0.24537479451475366,
          0.2873358045012866,
          0.2624115082484899,
          0.3000695557709261,
          0.23924119453575687,
          0.24746348909332705,
          0.29079159358800416,
          0.26064946901149494,
          0.3008930726489291,
          0.23739716222741128,
          0.24665730744896489,
          0.28704637562867763,
          0.26169927387415975,
          0.299393531682311,
          0.24561363638599398,
          0.24524211543319538,
          0.2890189642837589,
          0.2600726255644468,
          0.30764388963108746,
          0.2364256127561769,
          0.24705019089486263,
          0.2872927317125073,
          0.25685208393648495,
          0.29984392718945974,
          0.2377153131484974,
          0.2447737918191545,
          0.2874335799973084,
          0.2587140647542306,
          0.30016234052054436,
          0.23994820835968833,
          0.24518851039616957,
          0.28763846980701196,
          0.260985213036148,
          0.29967881937334245,
          0.23689763010490422,
          0.24696109068777353,
          0.2873676475994908,
          0.2582281131368787,
          0.2997688923179678,
          0.24066014954302417,
          0.24525389765752614,
          0.2879234827241664,
          0.2630755176120611,
          0.29965741249293104,
          0.23730178949260627,
          0.24961127737848515,
          0.2819868248266123,
          0.26790533182264026,
          0.2942640617625556,
          0.23766841943354697,
          0.24486014462053332,
          0.2873908601956863,
          0.25888092785346084,
          0.3001436710792237,
          0.23814673286963586,
          0.247301542564225,
          0.289607217773643,
          0.25884530261927163,
          0.3004630306573539,
          0.23681186502541227,
          0.24692971563214564,
          0.287305170564756,
          0.25838881036828537,
          0.2997150791752117,
          0.24258068671654645,
          0.2453659803307866,
          0.288222182218288,
          0.2583973880178023,
          0.3053317950307542,
          0.25648030984393655,
          0.2964535008694917,
          0.2863136764377651,
          0.2949058212436664,
          0.3140220645587952,
          0.2676122858791722,
          0.3038236712453998,
          0.2787592233953798,
          0.3074499241186333,
          0.288256801853002,
          0.24654344761105898,
          0.2784257974685875,
          0.28614379149515096,
          0.2728746658747572,
          0.31896190127646695,
          0.25779070293413286,
          0.2966976090979575,
          0.2866157258965081,
          0.2947678049282556,
          0.31357749479781866,
          0.24610756172576262,
          0.2767609908239574,
          0.28604137383187495,
          0.27167311681831363,
          0.31823036509662217,
          0.24437546146363612,
          0.2770372085672743,
          0.2816000844169376,
          0.27124121809116786,
          0.298452141003427,
          0.2919708889598414,
          0.29667628823348857,
          0.3004635418815401,
          0.29370631590076496,
          0.31223042772926524,
          0.25858427846655335,
          0.29529024139313864,
          0.276169764325567,
          0.28624392617703276,
          0.2992606424793662,
          0.2652498444862881,
          0.2805982537365476,
          0.285890923255706,
          0.2862679863344834,
          0.30650435559711053,
          0.26506013671825013,
          0.2974779579646698,
          0.26921352341967947,
          0.2809084489058074,
          0.2883867463058467,
          0.23512388344113366,
          0.2538248245492328,
          0.2715767375527165,
          0.2519658262504619,
          0.2771263038779177,
          0.23020893425257027,
          0.25696395243491194,
          0.2666196318130772,
          0.2548169823694712,
          0.2716093694403801,
          0.22878374615003466,
          0.2598847256956596,
          0.2735264790097852,
          0.2563850711164042,
          0.278752230757358,
          0.23456284914445694,
          0.25254943113996753,
          0.2742984478562216,
          0.25390656653221677,
          0.2789220065975264,
          0.2284472582520871,
          0.25501245650632065,
          0.273486019999288,
          0.25925303324020593,
          0.28157498397403585,
          0.22711359483828888,
          0.25473409450185636,
          0.27432873364132937,
          0.2621307221481789,
          0.27949467065689815,
          0.22926658925268578,
          0.2492535823685117,
          0.2729314669494603,
          0.25977742020190797,
          0.28225311808227355,
          0.2342775963839938,
          0.2546532765964287,
          0.2745453795955945,
          0.25423352289739287,
          0.27920264739581796,
          0.23502712415100202,
          0.25531120118276524,
          0.2710485088071398,
          0.25461941293227947,
          0.28057931135738207,
          0.2354640539125436,
          0.25661720039216945,
          0.27481569070617134,
          0.2511231908423433,
          0.2772464959406791
         ],
         "y0": " ",
         "yaxis": "y"
        }
       ],
       "layout": {
        "boxmode": "group",
        "height": 800,
        "legend": {
         "tracegroupgap": 0
        },
        "template": {
         "data": {
          "bar": [
           {
            "error_x": {
             "color": "#2a3f5f"
            },
            "error_y": {
             "color": "#2a3f5f"
            },
            "marker": {
             "line": {
              "color": "#E5ECF6",
              "width": 0.5
             },
             "pattern": {
              "fillmode": "overlay",
              "size": 10,
              "solidity": 0.2
             }
            },
            "type": "bar"
           }
          ],
          "barpolar": [
           {
            "marker": {
             "line": {
              "color": "#E5ECF6",
              "width": 0.5
             },
             "pattern": {
              "fillmode": "overlay",
              "size": 10,
              "solidity": 0.2
             }
            },
            "type": "barpolar"
           }
          ],
          "carpet": [
           {
            "aaxis": {
             "endlinecolor": "#2a3f5f",
             "gridcolor": "white",
             "linecolor": "white",
             "minorgridcolor": "white",
             "startlinecolor": "#2a3f5f"
            },
            "baxis": {
             "endlinecolor": "#2a3f5f",
             "gridcolor": "white",
             "linecolor": "white",
             "minorgridcolor": "white",
             "startlinecolor": "#2a3f5f"
            },
            "type": "carpet"
           }
          ],
          "choropleth": [
           {
            "colorbar": {
             "outlinewidth": 0,
             "ticks": ""
            },
            "type": "choropleth"
           }
          ],
          "contour": [
           {
            "colorbar": {
             "outlinewidth": 0,
             "ticks": ""
            },
            "colorscale": [
             [
              0,
              "#0d0887"
             ],
             [
              0.1111111111111111,
              "#46039f"
             ],
             [
              0.2222222222222222,
              "#7201a8"
             ],
             [
              0.3333333333333333,
              "#9c179e"
             ],
             [
              0.4444444444444444,
              "#bd3786"
             ],
             [
              0.5555555555555556,
              "#d8576b"
             ],
             [
              0.6666666666666666,
              "#ed7953"
             ],
             [
              0.7777777777777778,
              "#fb9f3a"
             ],
             [
              0.8888888888888888,
              "#fdca26"
             ],
             [
              1,
              "#f0f921"
             ]
            ],
            "type": "contour"
           }
          ],
          "contourcarpet": [
           {
            "colorbar": {
             "outlinewidth": 0,
             "ticks": ""
            },
            "type": "contourcarpet"
           }
          ],
          "heatmap": [
           {
            "colorbar": {
             "outlinewidth": 0,
             "ticks": ""
            },
            "colorscale": [
             [
              0,
              "#0d0887"
             ],
             [
              0.1111111111111111,
              "#46039f"
             ],
             [
              0.2222222222222222,
              "#7201a8"
             ],
             [
              0.3333333333333333,
              "#9c179e"
             ],
             [
              0.4444444444444444,
              "#bd3786"
             ],
             [
              0.5555555555555556,
              "#d8576b"
             ],
             [
              0.6666666666666666,
              "#ed7953"
             ],
             [
              0.7777777777777778,
              "#fb9f3a"
             ],
             [
              0.8888888888888888,
              "#fdca26"
             ],
             [
              1,
              "#f0f921"
             ]
            ],
            "type": "heatmap"
           }
          ],
          "heatmapgl": [
           {
            "colorbar": {
             "outlinewidth": 0,
             "ticks": ""
            },
            "colorscale": [
             [
              0,
              "#0d0887"
             ],
             [
              0.1111111111111111,
              "#46039f"
             ],
             [
              0.2222222222222222,
              "#7201a8"
             ],
             [
              0.3333333333333333,
              "#9c179e"
             ],
             [
              0.4444444444444444,
              "#bd3786"
             ],
             [
              0.5555555555555556,
              "#d8576b"
             ],
             [
              0.6666666666666666,
              "#ed7953"
             ],
             [
              0.7777777777777778,
              "#fb9f3a"
             ],
             [
              0.8888888888888888,
              "#fdca26"
             ],
             [
              1,
              "#f0f921"
             ]
            ],
            "type": "heatmapgl"
           }
          ],
          "histogram": [
           {
            "marker": {
             "pattern": {
              "fillmode": "overlay",
              "size": 10,
              "solidity": 0.2
             }
            },
            "type": "histogram"
           }
          ],
          "histogram2d": [
           {
            "colorbar": {
             "outlinewidth": 0,
             "ticks": ""
            },
            "colorscale": [
             [
              0,
              "#0d0887"
             ],
             [
              0.1111111111111111,
              "#46039f"
             ],
             [
              0.2222222222222222,
              "#7201a8"
             ],
             [
              0.3333333333333333,
              "#9c179e"
             ],
             [
              0.4444444444444444,
              "#bd3786"
             ],
             [
              0.5555555555555556,
              "#d8576b"
             ],
             [
              0.6666666666666666,
              "#ed7953"
             ],
             [
              0.7777777777777778,
              "#fb9f3a"
             ],
             [
              0.8888888888888888,
              "#fdca26"
             ],
             [
              1,
              "#f0f921"
             ]
            ],
            "type": "histogram2d"
           }
          ],
          "histogram2dcontour": [
           {
            "colorbar": {
             "outlinewidth": 0,
             "ticks": ""
            },
            "colorscale": [
             [
              0,
              "#0d0887"
             ],
             [
              0.1111111111111111,
              "#46039f"
             ],
             [
              0.2222222222222222,
              "#7201a8"
             ],
             [
              0.3333333333333333,
              "#9c179e"
             ],
             [
              0.4444444444444444,
              "#bd3786"
             ],
             [
              0.5555555555555556,
              "#d8576b"
             ],
             [
              0.6666666666666666,
              "#ed7953"
             ],
             [
              0.7777777777777778,
              "#fb9f3a"
             ],
             [
              0.8888888888888888,
              "#fdca26"
             ],
             [
              1,
              "#f0f921"
             ]
            ],
            "type": "histogram2dcontour"
           }
          ],
          "mesh3d": [
           {
            "colorbar": {
             "outlinewidth": 0,
             "ticks": ""
            },
            "type": "mesh3d"
           }
          ],
          "parcoords": [
           {
            "line": {
             "colorbar": {
              "outlinewidth": 0,
              "ticks": ""
             }
            },
            "type": "parcoords"
           }
          ],
          "pie": [
           {
            "automargin": true,
            "type": "pie"
           }
          ],
          "scatter": [
           {
            "fillpattern": {
             "fillmode": "overlay",
             "size": 10,
             "solidity": 0.2
            },
            "type": "scatter"
           }
          ],
          "scatter3d": [
           {
            "line": {
             "colorbar": {
              "outlinewidth": 0,
              "ticks": ""
             }
            },
            "marker": {
             "colorbar": {
              "outlinewidth": 0,
              "ticks": ""
             }
            },
            "type": "scatter3d"
           }
          ],
          "scattercarpet": [
           {
            "marker": {
             "colorbar": {
              "outlinewidth": 0,
              "ticks": ""
             }
            },
            "type": "scattercarpet"
           }
          ],
          "scattergeo": [
           {
            "marker": {
             "colorbar": {
              "outlinewidth": 0,
              "ticks": ""
             }
            },
            "type": "scattergeo"
           }
          ],
          "scattergl": [
           {
            "marker": {
             "colorbar": {
              "outlinewidth": 0,
              "ticks": ""
             }
            },
            "type": "scattergl"
           }
          ],
          "scattermapbox": [
           {
            "marker": {
             "colorbar": {
              "outlinewidth": 0,
              "ticks": ""
             }
            },
            "type": "scattermapbox"
           }
          ],
          "scatterpolar": [
           {
            "marker": {
             "colorbar": {
              "outlinewidth": 0,
              "ticks": ""
             }
            },
            "type": "scatterpolar"
           }
          ],
          "scatterpolargl": [
           {
            "marker": {
             "colorbar": {
              "outlinewidth": 0,
              "ticks": ""
             }
            },
            "type": "scatterpolargl"
           }
          ],
          "scatterternary": [
           {
            "marker": {
             "colorbar": {
              "outlinewidth": 0,
              "ticks": ""
             }
            },
            "type": "scatterternary"
           }
          ],
          "surface": [
           {
            "colorbar": {
             "outlinewidth": 0,
             "ticks": ""
            },
            "colorscale": [
             [
              0,
              "#0d0887"
             ],
             [
              0.1111111111111111,
              "#46039f"
             ],
             [
              0.2222222222222222,
              "#7201a8"
             ],
             [
              0.3333333333333333,
              "#9c179e"
             ],
             [
              0.4444444444444444,
              "#bd3786"
             ],
             [
              0.5555555555555556,
              "#d8576b"
             ],
             [
              0.6666666666666666,
              "#ed7953"
             ],
             [
              0.7777777777777778,
              "#fb9f3a"
             ],
             [
              0.8888888888888888,
              "#fdca26"
             ],
             [
              1,
              "#f0f921"
             ]
            ],
            "type": "surface"
           }
          ],
          "table": [
           {
            "cells": {
             "fill": {
              "color": "#EBF0F8"
             },
             "line": {
              "color": "white"
             }
            },
            "header": {
             "fill": {
              "color": "#C8D4E3"
             },
             "line": {
              "color": "white"
             }
            },
            "type": "table"
           }
          ]
         },
         "layout": {
          "annotationdefaults": {
           "arrowcolor": "#2a3f5f",
           "arrowhead": 0,
           "arrowwidth": 1
          },
          "autotypenumbers": "strict",
          "coloraxis": {
           "colorbar": {
            "outlinewidth": 0,
            "ticks": ""
           }
          },
          "colorscale": {
           "diverging": [
            [
             0,
             "#8e0152"
            ],
            [
             0.1,
             "#c51b7d"
            ],
            [
             0.2,
             "#de77ae"
            ],
            [
             0.3,
             "#f1b6da"
            ],
            [
             0.4,
             "#fde0ef"
            ],
            [
             0.5,
             "#f7f7f7"
            ],
            [
             0.6,
             "#e6f5d0"
            ],
            [
             0.7,
             "#b8e186"
            ],
            [
             0.8,
             "#7fbc41"
            ],
            [
             0.9,
             "#4d9221"
            ],
            [
             1,
             "#276419"
            ]
           ],
           "sequential": [
            [
             0,
             "#0d0887"
            ],
            [
             0.1111111111111111,
             "#46039f"
            ],
            [
             0.2222222222222222,
             "#7201a8"
            ],
            [
             0.3333333333333333,
             "#9c179e"
            ],
            [
             0.4444444444444444,
             "#bd3786"
            ],
            [
             0.5555555555555556,
             "#d8576b"
            ],
            [
             0.6666666666666666,
             "#ed7953"
            ],
            [
             0.7777777777777778,
             "#fb9f3a"
            ],
            [
             0.8888888888888888,
             "#fdca26"
            ],
            [
             1,
             "#f0f921"
            ]
           ],
           "sequentialminus": [
            [
             0,
             "#0d0887"
            ],
            [
             0.1111111111111111,
             "#46039f"
            ],
            [
             0.2222222222222222,
             "#7201a8"
            ],
            [
             0.3333333333333333,
             "#9c179e"
            ],
            [
             0.4444444444444444,
             "#bd3786"
            ],
            [
             0.5555555555555556,
             "#d8576b"
            ],
            [
             0.6666666666666666,
             "#ed7953"
            ],
            [
             0.7777777777777778,
             "#fb9f3a"
            ],
            [
             0.8888888888888888,
             "#fdca26"
            ],
            [
             1,
             "#f0f921"
            ]
           ]
          },
          "colorway": [
           "#636efa",
           "#EF553B",
           "#00cc96",
           "#ab63fa",
           "#FFA15A",
           "#19d3f3",
           "#FF6692",
           "#B6E880",
           "#FF97FF",
           "#FECB52"
          ],
          "font": {
           "color": "#2a3f5f"
          },
          "geo": {
           "bgcolor": "white",
           "lakecolor": "white",
           "landcolor": "#E5ECF6",
           "showlakes": true,
           "showland": true,
           "subunitcolor": "white"
          },
          "hoverlabel": {
           "align": "left"
          },
          "hovermode": "closest",
          "mapbox": {
           "style": "light"
          },
          "paper_bgcolor": "white",
          "plot_bgcolor": "#E5ECF6",
          "polar": {
           "angularaxis": {
            "gridcolor": "white",
            "linecolor": "white",
            "ticks": ""
           },
           "bgcolor": "#E5ECF6",
           "radialaxis": {
            "gridcolor": "white",
            "linecolor": "white",
            "ticks": ""
           }
          },
          "scene": {
           "xaxis": {
            "backgroundcolor": "#E5ECF6",
            "gridcolor": "white",
            "gridwidth": 2,
            "linecolor": "white",
            "showbackground": true,
            "ticks": "",
            "zerolinecolor": "white"
           },
           "yaxis": {
            "backgroundcolor": "#E5ECF6",
            "gridcolor": "white",
            "gridwidth": 2,
            "linecolor": "white",
            "showbackground": true,
            "ticks": "",
            "zerolinecolor": "white"
           },
           "zaxis": {
            "backgroundcolor": "#E5ECF6",
            "gridcolor": "white",
            "gridwidth": 2,
            "linecolor": "white",
            "showbackground": true,
            "ticks": "",
            "zerolinecolor": "white"
           }
          },
          "shapedefaults": {
           "line": {
            "color": "#2a3f5f"
           }
          },
          "ternary": {
           "aaxis": {
            "gridcolor": "white",
            "linecolor": "white",
            "ticks": ""
           },
           "baxis": {
            "gridcolor": "white",
            "linecolor": "white",
            "ticks": ""
           },
           "bgcolor": "#E5ECF6",
           "caxis": {
            "gridcolor": "white",
            "linecolor": "white",
            "ticks": ""
           }
          },
          "title": {
           "x": 0.05
          },
          "xaxis": {
           "automargin": true,
           "gridcolor": "white",
           "linecolor": "white",
           "ticks": "",
           "title": {
            "standoff": 15
           },
           "zerolinecolor": "white",
           "zerolinewidth": 2
          },
          "yaxis": {
           "automargin": true,
           "gridcolor": "white",
           "linecolor": "white",
           "ticks": "",
           "title": {
            "standoff": 15
           },
           "zerolinecolor": "white",
           "zerolinewidth": 2
          }
         }
        },
        "title": {
         "text": "Top 10 Feature Combinations"
        },
        "width": 1100,
        "xaxis": {
         "anchor": "y",
         "autorange": true,
         "domain": [
          0,
          1
         ],
         "range": [
          -0.5,
          9.5
         ],
         "showticklabels": false,
         "title": {
          "text": "feature combinations"
         },
         "type": "category"
        },
        "yaxis": {
         "anchor": "x",
         "autorange": true,
         "domain": [
          0,
          1
         ],
         "range": [
          0.222010911147279,
          0.32406458496747687
         ],
         "title": {
          "text": "rmse scores"
         },
         "type": "linear"
        }
       }
      }
     },
     "metadata": {},
     "output_type": "display_data"
    }
   ],
   "source": [
    "pio.renderers.default = 'plotly_mimetype'\n",
    "x = df_agg_metrics.sort_values(by='mean_rmse')['features'].head(10)\n",
    "\n",
    "fig = px.box(df_metrics[df_metrics['features'].isin(x)], x='features',\n",
    "             y='rmse_scores', title='RMSE Boxplot of Top 10 Feature Combinations')\n",
    "fig.update_layout(height=800, width=1100,\n",
    "                  title_text=\"Top 10 Feature Combinations\",\n",
    "                  xaxis_title=\"feature combinations\", yaxis_title=\"rmse scores\")\n",
    "fig.update_xaxes(showticklabels=False)\n",
    "fig.show()"
   ]
  },
  {
   "cell_type": "markdown",
   "id": "b67c298c-a122-4eb9-9e37-8a300a313c2e",
   "metadata": {},
   "source": [
    "#### Best Linear Models"
   ]
  },
  {
   "cell_type": "code",
   "execution_count": 235,
   "id": "a192d3a7-5fd4-4dce-b4f5-a33b2b78894e",
   "metadata": {},
   "outputs": [
    {
     "data": {
      "application/vnd.plotly.v1+json": {
       "config": {
        "plotlyServerURL": "https://plot.ly"
       },
       "data": [
        {
         "alignmentgroup": "True",
         "hovertemplate": "features=%{x}<br>rmse_scores=%{y}<extra></extra>",
         "legendgroup": "",
         "marker": {
          "color": "#636efa"
         },
         "name": "",
         "notched": false,
         "offsetgroup": "",
         "orientation": "v",
         "showlegend": false,
         "type": "box",
         "x": [
          "f_1_num_of_terms,f_5_num_results,f_7_sum_title_scores",
          "f_1_num_of_terms,f_5_num_results,f_7_sum_title_scores",
          "f_1_num_of_terms,f_5_num_results,f_7_sum_title_scores",
          "f_1_num_of_terms,f_5_num_results,f_7_sum_title_scores",
          "f_1_num_of_terms,f_5_num_results,f_7_sum_title_scores",
          "f_1_num_of_terms,f_5_num_results,f_9_avg_semantic_score",
          "f_1_num_of_terms,f_5_num_results,f_9_avg_semantic_score",
          "f_1_num_of_terms,f_5_num_results,f_9_avg_semantic_score",
          "f_1_num_of_terms,f_5_num_results,f_9_avg_semantic_score",
          "f_1_num_of_terms,f_5_num_results,f_9_avg_semantic_score",
          "f_1_num_of_terms,f_5_num_results,f_6_max_title_score,f_7_sum_title_scores",
          "f_1_num_of_terms,f_5_num_results,f_6_max_title_score,f_7_sum_title_scores",
          "f_1_num_of_terms,f_5_num_results,f_6_max_title_score,f_7_sum_title_scores",
          "f_1_num_of_terms,f_5_num_results,f_6_max_title_score,f_7_sum_title_scores",
          "f_1_num_of_terms,f_5_num_results,f_6_max_title_score,f_7_sum_title_scores",
          "f_1_num_of_terms,f_5_num_results,f_7_sum_title_scores,f_8_max_semantic_score",
          "f_1_num_of_terms,f_5_num_results,f_7_sum_title_scores,f_8_max_semantic_score",
          "f_1_num_of_terms,f_5_num_results,f_7_sum_title_scores,f_8_max_semantic_score",
          "f_1_num_of_terms,f_5_num_results,f_7_sum_title_scores,f_8_max_semantic_score",
          "f_1_num_of_terms,f_5_num_results,f_7_sum_title_scores,f_8_max_semantic_score",
          "f_1_num_of_terms,f_5_num_results,f_7_sum_title_scores,f_9_avg_semantic_score",
          "f_1_num_of_terms,f_5_num_results,f_7_sum_title_scores,f_9_avg_semantic_score",
          "f_1_num_of_terms,f_5_num_results,f_7_sum_title_scores,f_9_avg_semantic_score",
          "f_1_num_of_terms,f_5_num_results,f_7_sum_title_scores,f_9_avg_semantic_score",
          "f_1_num_of_terms,f_5_num_results,f_7_sum_title_scores,f_9_avg_semantic_score",
          "f_1_num_of_terms,f_5_num_results,f_6_max_title_score,f_7_sum_title_scores,f_9_avg_semantic_score",
          "f_1_num_of_terms,f_5_num_results,f_6_max_title_score,f_7_sum_title_scores,f_9_avg_semantic_score",
          "f_1_num_of_terms,f_5_num_results,f_6_max_title_score,f_7_sum_title_scores,f_9_avg_semantic_score",
          "f_1_num_of_terms,f_5_num_results,f_6_max_title_score,f_7_sum_title_scores,f_9_avg_semantic_score",
          "f_1_num_of_terms,f_5_num_results,f_6_max_title_score,f_7_sum_title_scores,f_9_avg_semantic_score",
          "f_1_num_of_terms,f_5_num_results,f_7_sum_title_scores,f_8_max_semantic_score,f_9_avg_semantic_score",
          "f_1_num_of_terms,f_5_num_results,f_7_sum_title_scores,f_8_max_semantic_score,f_9_avg_semantic_score",
          "f_1_num_of_terms,f_5_num_results,f_7_sum_title_scores,f_8_max_semantic_score,f_9_avg_semantic_score",
          "f_1_num_of_terms,f_5_num_results,f_7_sum_title_scores,f_8_max_semantic_score,f_9_avg_semantic_score",
          "f_1_num_of_terms,f_5_num_results,f_7_sum_title_scores,f_8_max_semantic_score,f_9_avg_semantic_score",
          "f_1_num_of_terms,f_5_num_results,f_6_max_title_score,f_7_sum_title_scores,f_8_max_semantic_score,f_9_avg_semantic_score",
          "f_1_num_of_terms,f_5_num_results,f_6_max_title_score,f_7_sum_title_scores,f_8_max_semantic_score,f_9_avg_semantic_score",
          "f_1_num_of_terms,f_5_num_results,f_6_max_title_score,f_7_sum_title_scores,f_8_max_semantic_score,f_9_avg_semantic_score",
          "f_1_num_of_terms,f_5_num_results,f_6_max_title_score,f_7_sum_title_scores,f_8_max_semantic_score,f_9_avg_semantic_score",
          "f_1_num_of_terms,f_5_num_results,f_6_max_title_score,f_7_sum_title_scores,f_8_max_semantic_score,f_9_avg_semantic_score",
          "f_1_num_of_terms,f_5_num_results,f_7_sum_title_scores",
          "f_1_num_of_terms,f_5_num_results,f_7_sum_title_scores",
          "f_1_num_of_terms,f_5_num_results,f_7_sum_title_scores",
          "f_1_num_of_terms,f_5_num_results,f_7_sum_title_scores",
          "f_1_num_of_terms,f_5_num_results,f_7_sum_title_scores",
          "f_1_num_of_terms,f_5_num_results,f_9_avg_semantic_score",
          "f_1_num_of_terms,f_5_num_results,f_9_avg_semantic_score",
          "f_1_num_of_terms,f_5_num_results,f_9_avg_semantic_score",
          "f_1_num_of_terms,f_5_num_results,f_9_avg_semantic_score",
          "f_1_num_of_terms,f_5_num_results,f_9_avg_semantic_score",
          "f_1_num_of_terms,f_5_num_results,f_6_max_title_score,f_7_sum_title_scores",
          "f_1_num_of_terms,f_5_num_results,f_6_max_title_score,f_7_sum_title_scores",
          "f_1_num_of_terms,f_5_num_results,f_6_max_title_score,f_7_sum_title_scores",
          "f_1_num_of_terms,f_5_num_results,f_6_max_title_score,f_7_sum_title_scores",
          "f_1_num_of_terms,f_5_num_results,f_6_max_title_score,f_7_sum_title_scores",
          "f_1_num_of_terms,f_5_num_results,f_7_sum_title_scores,f_8_max_semantic_score",
          "f_1_num_of_terms,f_5_num_results,f_7_sum_title_scores,f_8_max_semantic_score",
          "f_1_num_of_terms,f_5_num_results,f_7_sum_title_scores,f_8_max_semantic_score",
          "f_1_num_of_terms,f_5_num_results,f_7_sum_title_scores,f_8_max_semantic_score",
          "f_1_num_of_terms,f_5_num_results,f_7_sum_title_scores,f_8_max_semantic_score",
          "f_1_num_of_terms,f_5_num_results,f_7_sum_title_scores,f_9_avg_semantic_score",
          "f_1_num_of_terms,f_5_num_results,f_7_sum_title_scores,f_9_avg_semantic_score",
          "f_1_num_of_terms,f_5_num_results,f_7_sum_title_scores,f_9_avg_semantic_score",
          "f_1_num_of_terms,f_5_num_results,f_7_sum_title_scores,f_9_avg_semantic_score",
          "f_1_num_of_terms,f_5_num_results,f_7_sum_title_scores,f_9_avg_semantic_score",
          "f_1_num_of_terms,f_5_num_results,f_6_max_title_score,f_7_sum_title_scores,f_9_avg_semantic_score",
          "f_1_num_of_terms,f_5_num_results,f_6_max_title_score,f_7_sum_title_scores,f_9_avg_semantic_score",
          "f_1_num_of_terms,f_5_num_results,f_6_max_title_score,f_7_sum_title_scores,f_9_avg_semantic_score",
          "f_1_num_of_terms,f_5_num_results,f_6_max_title_score,f_7_sum_title_scores,f_9_avg_semantic_score",
          "f_1_num_of_terms,f_5_num_results,f_6_max_title_score,f_7_sum_title_scores,f_9_avg_semantic_score",
          "f_1_num_of_terms,f_5_num_results,f_7_sum_title_scores,f_8_max_semantic_score,f_9_avg_semantic_score",
          "f_1_num_of_terms,f_5_num_results,f_7_sum_title_scores,f_8_max_semantic_score,f_9_avg_semantic_score",
          "f_1_num_of_terms,f_5_num_results,f_7_sum_title_scores,f_8_max_semantic_score,f_9_avg_semantic_score",
          "f_1_num_of_terms,f_5_num_results,f_7_sum_title_scores,f_8_max_semantic_score,f_9_avg_semantic_score",
          "f_1_num_of_terms,f_5_num_results,f_7_sum_title_scores,f_8_max_semantic_score,f_9_avg_semantic_score",
          "f_1_num_of_terms,f_5_num_results,f_6_max_title_score,f_7_sum_title_scores,f_8_max_semantic_score,f_9_avg_semantic_score",
          "f_1_num_of_terms,f_5_num_results,f_6_max_title_score,f_7_sum_title_scores,f_8_max_semantic_score,f_9_avg_semantic_score",
          "f_1_num_of_terms,f_5_num_results,f_6_max_title_score,f_7_sum_title_scores,f_8_max_semantic_score,f_9_avg_semantic_score",
          "f_1_num_of_terms,f_5_num_results,f_6_max_title_score,f_7_sum_title_scores,f_8_max_semantic_score,f_9_avg_semantic_score",
          "f_1_num_of_terms,f_5_num_results,f_6_max_title_score,f_7_sum_title_scores,f_8_max_semantic_score,f_9_avg_semantic_score"
         ],
         "x0": " ",
         "xaxis": "x",
         "y": [
          0.2342909208617683,
          0.25170072130826665,
          0.27822545928445164,
          0.2635176455223521,
          0.29170055443771326,
          0.2336928737871511,
          0.24172921287269486,
          0.285003208179762,
          0.2574994969786711,
          0.3005528193247857,
          0.23064841089801025,
          0.25194684149411156,
          0.2917480758018297,
          0.2619352929682954,
          0.28990519985213437,
          0.234395011978582,
          0.252985557325128,
          0.27815441593521617,
          0.26364816187910567,
          0.29167574983074407,
          0.23242376124151148,
          0.2496926062395958,
          0.27739526871003345,
          0.26349280086261123,
          0.2937827469392923,
          0.22924616318332144,
          0.2504388233893405,
          0.2905841527096232,
          0.262460066265155,
          0.29169525743603625,
          0.23653610989171406,
          0.25143705149007123,
          0.2775128006890953,
          0.2627646904396636,
          0.29610837964273745,
          0.23333440488362786,
          0.25240912423430517,
          0.2904309999147899,
          0.2619415360408041,
          0.2942932008363959,
          0.23429772316572944,
          0.25136003517222383,
          0.27842299924918207,
          0.2632279093611851,
          0.2918493413404916,
          0.23594780190179768,
          0.24487469615564042,
          0.28667423064884046,
          0.2559162197652336,
          0.29911148320368264,
          0.23187872188687605,
          0.2512339764598441,
          0.28542451855488754,
          0.26196031394158864,
          0.2903036399423055,
          0.23430838792552391,
          0.25152374403623556,
          0.27841268560570626,
          0.26324411631293027,
          0.2918420646142935,
          0.2341585305212535,
          0.2512280768462393,
          0.278344306123352,
          0.26319029401514465,
          0.2919164484217275,
          0.23176331046946685,
          0.25112484366922183,
          0.28534574684482866,
          0.26195021005296326,
          0.2903769225559325,
          0.2341804339290764,
          0.25139479323015107,
          0.2783390496131967,
          0.26320628406469576,
          0.29191162266877696,
          0.23178825677843579,
          0.25130345135659443,
          0.2853474364341217,
          0.26197171409807235,
          0.290371886629448
         ],
         "y0": " ",
         "yaxis": "y"
        }
       ],
       "layout": {
        "boxmode": "group",
        "height": 800,
        "legend": {
         "tracegroupgap": 0
        },
        "template": {
         "data": {
          "bar": [
           {
            "error_x": {
             "color": "#2a3f5f"
            },
            "error_y": {
             "color": "#2a3f5f"
            },
            "marker": {
             "line": {
              "color": "#E5ECF6",
              "width": 0.5
             },
             "pattern": {
              "fillmode": "overlay",
              "size": 10,
              "solidity": 0.2
             }
            },
            "type": "bar"
           }
          ],
          "barpolar": [
           {
            "marker": {
             "line": {
              "color": "#E5ECF6",
              "width": 0.5
             },
             "pattern": {
              "fillmode": "overlay",
              "size": 10,
              "solidity": 0.2
             }
            },
            "type": "barpolar"
           }
          ],
          "carpet": [
           {
            "aaxis": {
             "endlinecolor": "#2a3f5f",
             "gridcolor": "white",
             "linecolor": "white",
             "minorgridcolor": "white",
             "startlinecolor": "#2a3f5f"
            },
            "baxis": {
             "endlinecolor": "#2a3f5f",
             "gridcolor": "white",
             "linecolor": "white",
             "minorgridcolor": "white",
             "startlinecolor": "#2a3f5f"
            },
            "type": "carpet"
           }
          ],
          "choropleth": [
           {
            "colorbar": {
             "outlinewidth": 0,
             "ticks": ""
            },
            "type": "choropleth"
           }
          ],
          "contour": [
           {
            "colorbar": {
             "outlinewidth": 0,
             "ticks": ""
            },
            "colorscale": [
             [
              0,
              "#0d0887"
             ],
             [
              0.1111111111111111,
              "#46039f"
             ],
             [
              0.2222222222222222,
              "#7201a8"
             ],
             [
              0.3333333333333333,
              "#9c179e"
             ],
             [
              0.4444444444444444,
              "#bd3786"
             ],
             [
              0.5555555555555556,
              "#d8576b"
             ],
             [
              0.6666666666666666,
              "#ed7953"
             ],
             [
              0.7777777777777778,
              "#fb9f3a"
             ],
             [
              0.8888888888888888,
              "#fdca26"
             ],
             [
              1,
              "#f0f921"
             ]
            ],
            "type": "contour"
           }
          ],
          "contourcarpet": [
           {
            "colorbar": {
             "outlinewidth": 0,
             "ticks": ""
            },
            "type": "contourcarpet"
           }
          ],
          "heatmap": [
           {
            "colorbar": {
             "outlinewidth": 0,
             "ticks": ""
            },
            "colorscale": [
             [
              0,
              "#0d0887"
             ],
             [
              0.1111111111111111,
              "#46039f"
             ],
             [
              0.2222222222222222,
              "#7201a8"
             ],
             [
              0.3333333333333333,
              "#9c179e"
             ],
             [
              0.4444444444444444,
              "#bd3786"
             ],
             [
              0.5555555555555556,
              "#d8576b"
             ],
             [
              0.6666666666666666,
              "#ed7953"
             ],
             [
              0.7777777777777778,
              "#fb9f3a"
             ],
             [
              0.8888888888888888,
              "#fdca26"
             ],
             [
              1,
              "#f0f921"
             ]
            ],
            "type": "heatmap"
           }
          ],
          "heatmapgl": [
           {
            "colorbar": {
             "outlinewidth": 0,
             "ticks": ""
            },
            "colorscale": [
             [
              0,
              "#0d0887"
             ],
             [
              0.1111111111111111,
              "#46039f"
             ],
             [
              0.2222222222222222,
              "#7201a8"
             ],
             [
              0.3333333333333333,
              "#9c179e"
             ],
             [
              0.4444444444444444,
              "#bd3786"
             ],
             [
              0.5555555555555556,
              "#d8576b"
             ],
             [
              0.6666666666666666,
              "#ed7953"
             ],
             [
              0.7777777777777778,
              "#fb9f3a"
             ],
             [
              0.8888888888888888,
              "#fdca26"
             ],
             [
              1,
              "#f0f921"
             ]
            ],
            "type": "heatmapgl"
           }
          ],
          "histogram": [
           {
            "marker": {
             "pattern": {
              "fillmode": "overlay",
              "size": 10,
              "solidity": 0.2
             }
            },
            "type": "histogram"
           }
          ],
          "histogram2d": [
           {
            "colorbar": {
             "outlinewidth": 0,
             "ticks": ""
            },
            "colorscale": [
             [
              0,
              "#0d0887"
             ],
             [
              0.1111111111111111,
              "#46039f"
             ],
             [
              0.2222222222222222,
              "#7201a8"
             ],
             [
              0.3333333333333333,
              "#9c179e"
             ],
             [
              0.4444444444444444,
              "#bd3786"
             ],
             [
              0.5555555555555556,
              "#d8576b"
             ],
             [
              0.6666666666666666,
              "#ed7953"
             ],
             [
              0.7777777777777778,
              "#fb9f3a"
             ],
             [
              0.8888888888888888,
              "#fdca26"
             ],
             [
              1,
              "#f0f921"
             ]
            ],
            "type": "histogram2d"
           }
          ],
          "histogram2dcontour": [
           {
            "colorbar": {
             "outlinewidth": 0,
             "ticks": ""
            },
            "colorscale": [
             [
              0,
              "#0d0887"
             ],
             [
              0.1111111111111111,
              "#46039f"
             ],
             [
              0.2222222222222222,
              "#7201a8"
             ],
             [
              0.3333333333333333,
              "#9c179e"
             ],
             [
              0.4444444444444444,
              "#bd3786"
             ],
             [
              0.5555555555555556,
              "#d8576b"
             ],
             [
              0.6666666666666666,
              "#ed7953"
             ],
             [
              0.7777777777777778,
              "#fb9f3a"
             ],
             [
              0.8888888888888888,
              "#fdca26"
             ],
             [
              1,
              "#f0f921"
             ]
            ],
            "type": "histogram2dcontour"
           }
          ],
          "mesh3d": [
           {
            "colorbar": {
             "outlinewidth": 0,
             "ticks": ""
            },
            "type": "mesh3d"
           }
          ],
          "parcoords": [
           {
            "line": {
             "colorbar": {
              "outlinewidth": 0,
              "ticks": ""
             }
            },
            "type": "parcoords"
           }
          ],
          "pie": [
           {
            "automargin": true,
            "type": "pie"
           }
          ],
          "scatter": [
           {
            "fillpattern": {
             "fillmode": "overlay",
             "size": 10,
             "solidity": 0.2
            },
            "type": "scatter"
           }
          ],
          "scatter3d": [
           {
            "line": {
             "colorbar": {
              "outlinewidth": 0,
              "ticks": ""
             }
            },
            "marker": {
             "colorbar": {
              "outlinewidth": 0,
              "ticks": ""
             }
            },
            "type": "scatter3d"
           }
          ],
          "scattercarpet": [
           {
            "marker": {
             "colorbar": {
              "outlinewidth": 0,
              "ticks": ""
             }
            },
            "type": "scattercarpet"
           }
          ],
          "scattergeo": [
           {
            "marker": {
             "colorbar": {
              "outlinewidth": 0,
              "ticks": ""
             }
            },
            "type": "scattergeo"
           }
          ],
          "scattergl": [
           {
            "marker": {
             "colorbar": {
              "outlinewidth": 0,
              "ticks": ""
             }
            },
            "type": "scattergl"
           }
          ],
          "scattermapbox": [
           {
            "marker": {
             "colorbar": {
              "outlinewidth": 0,
              "ticks": ""
             }
            },
            "type": "scattermapbox"
           }
          ],
          "scatterpolar": [
           {
            "marker": {
             "colorbar": {
              "outlinewidth": 0,
              "ticks": ""
             }
            },
            "type": "scatterpolar"
           }
          ],
          "scatterpolargl": [
           {
            "marker": {
             "colorbar": {
              "outlinewidth": 0,
              "ticks": ""
             }
            },
            "type": "scatterpolargl"
           }
          ],
          "scatterternary": [
           {
            "marker": {
             "colorbar": {
              "outlinewidth": 0,
              "ticks": ""
             }
            },
            "type": "scatterternary"
           }
          ],
          "surface": [
           {
            "colorbar": {
             "outlinewidth": 0,
             "ticks": ""
            },
            "colorscale": [
             [
              0,
              "#0d0887"
             ],
             [
              0.1111111111111111,
              "#46039f"
             ],
             [
              0.2222222222222222,
              "#7201a8"
             ],
             [
              0.3333333333333333,
              "#9c179e"
             ],
             [
              0.4444444444444444,
              "#bd3786"
             ],
             [
              0.5555555555555556,
              "#d8576b"
             ],
             [
              0.6666666666666666,
              "#ed7953"
             ],
             [
              0.7777777777777778,
              "#fb9f3a"
             ],
             [
              0.8888888888888888,
              "#fdca26"
             ],
             [
              1,
              "#f0f921"
             ]
            ],
            "type": "surface"
           }
          ],
          "table": [
           {
            "cells": {
             "fill": {
              "color": "#EBF0F8"
             },
             "line": {
              "color": "white"
             }
            },
            "header": {
             "fill": {
              "color": "#C8D4E3"
             },
             "line": {
              "color": "white"
             }
            },
            "type": "table"
           }
          ]
         },
         "layout": {
          "annotationdefaults": {
           "arrowcolor": "#2a3f5f",
           "arrowhead": 0,
           "arrowwidth": 1
          },
          "autotypenumbers": "strict",
          "coloraxis": {
           "colorbar": {
            "outlinewidth": 0,
            "ticks": ""
           }
          },
          "colorscale": {
           "diverging": [
            [
             0,
             "#8e0152"
            ],
            [
             0.1,
             "#c51b7d"
            ],
            [
             0.2,
             "#de77ae"
            ],
            [
             0.3,
             "#f1b6da"
            ],
            [
             0.4,
             "#fde0ef"
            ],
            [
             0.5,
             "#f7f7f7"
            ],
            [
             0.6,
             "#e6f5d0"
            ],
            [
             0.7,
             "#b8e186"
            ],
            [
             0.8,
             "#7fbc41"
            ],
            [
             0.9,
             "#4d9221"
            ],
            [
             1,
             "#276419"
            ]
           ],
           "sequential": [
            [
             0,
             "#0d0887"
            ],
            [
             0.1111111111111111,
             "#46039f"
            ],
            [
             0.2222222222222222,
             "#7201a8"
            ],
            [
             0.3333333333333333,
             "#9c179e"
            ],
            [
             0.4444444444444444,
             "#bd3786"
            ],
            [
             0.5555555555555556,
             "#d8576b"
            ],
            [
             0.6666666666666666,
             "#ed7953"
            ],
            [
             0.7777777777777778,
             "#fb9f3a"
            ],
            [
             0.8888888888888888,
             "#fdca26"
            ],
            [
             1,
             "#f0f921"
            ]
           ],
           "sequentialminus": [
            [
             0,
             "#0d0887"
            ],
            [
             0.1111111111111111,
             "#46039f"
            ],
            [
             0.2222222222222222,
             "#7201a8"
            ],
            [
             0.3333333333333333,
             "#9c179e"
            ],
            [
             0.4444444444444444,
             "#bd3786"
            ],
            [
             0.5555555555555556,
             "#d8576b"
            ],
            [
             0.6666666666666666,
             "#ed7953"
            ],
            [
             0.7777777777777778,
             "#fb9f3a"
            ],
            [
             0.8888888888888888,
             "#fdca26"
            ],
            [
             1,
             "#f0f921"
            ]
           ]
          },
          "colorway": [
           "#636efa",
           "#EF553B",
           "#00cc96",
           "#ab63fa",
           "#FFA15A",
           "#19d3f3",
           "#FF6692",
           "#B6E880",
           "#FF97FF",
           "#FECB52"
          ],
          "font": {
           "color": "#2a3f5f"
          },
          "geo": {
           "bgcolor": "white",
           "lakecolor": "white",
           "landcolor": "#E5ECF6",
           "showlakes": true,
           "showland": true,
           "subunitcolor": "white"
          },
          "hoverlabel": {
           "align": "left"
          },
          "hovermode": "closest",
          "mapbox": {
           "style": "light"
          },
          "paper_bgcolor": "white",
          "plot_bgcolor": "#E5ECF6",
          "polar": {
           "angularaxis": {
            "gridcolor": "white",
            "linecolor": "white",
            "ticks": ""
           },
           "bgcolor": "#E5ECF6",
           "radialaxis": {
            "gridcolor": "white",
            "linecolor": "white",
            "ticks": ""
           }
          },
          "scene": {
           "xaxis": {
            "backgroundcolor": "#E5ECF6",
            "gridcolor": "white",
            "gridwidth": 2,
            "linecolor": "white",
            "showbackground": true,
            "ticks": "",
            "zerolinecolor": "white"
           },
           "yaxis": {
            "backgroundcolor": "#E5ECF6",
            "gridcolor": "white",
            "gridwidth": 2,
            "linecolor": "white",
            "showbackground": true,
            "ticks": "",
            "zerolinecolor": "white"
           },
           "zaxis": {
            "backgroundcolor": "#E5ECF6",
            "gridcolor": "white",
            "gridwidth": 2,
            "linecolor": "white",
            "showbackground": true,
            "ticks": "",
            "zerolinecolor": "white"
           }
          },
          "shapedefaults": {
           "line": {
            "color": "#2a3f5f"
           }
          },
          "ternary": {
           "aaxis": {
            "gridcolor": "white",
            "linecolor": "white",
            "ticks": ""
           },
           "baxis": {
            "gridcolor": "white",
            "linecolor": "white",
            "ticks": ""
           },
           "bgcolor": "#E5ECF6",
           "caxis": {
            "gridcolor": "white",
            "linecolor": "white",
            "ticks": ""
           }
          },
          "title": {
           "x": 0.05
          },
          "xaxis": {
           "automargin": true,
           "gridcolor": "white",
           "linecolor": "white",
           "ticks": "",
           "title": {
            "standoff": 15
           },
           "zerolinecolor": "white",
           "zerolinewidth": 2
          },
          "yaxis": {
           "automargin": true,
           "gridcolor": "white",
           "linecolor": "white",
           "ticks": "",
           "title": {
            "standoff": 15
           },
           "zerolinecolor": "white",
           "zerolinewidth": 2
          }
         }
        },
        "title": {
         "text": "Top 10 Linear Regression Feature Combinations"
        },
        "width": 1100,
        "xaxis": {
         "anchor": "y",
         "autorange": true,
         "domain": [
          0,
          1
         ],
         "range": [
          -0.5,
          7.5
         ],
         "showticklabels": false,
         "title": {
          "text": "feature combinations"
         },
         "type": "category"
        },
        "yaxis": {
         "anchor": "x",
         "autorange": true,
         "domain": [
          0,
          1
         ],
         "range": [
          0.22528468228657342,
          0.30451430022153375
         ],
         "title": {
          "text": "rmse scores"
         },
         "type": "linear"
        }
       }
      }
     },
     "metadata": {},
     "output_type": "display_data"
    }
   ],
   "source": [
    "x = df_agg_metrics[df_agg_metrics['model'] == 'lr'].sort_values(by='mean_rmse')['features'].head(10)\n",
    "\n",
    "fig = px.box(df_metrics[(df_metrics['features'].isin(x)) & (df_metrics['model'] == 'lr')], x='features',\n",
    "             y='rmse_scores', title='RMSE Boxplot of Top 10 Feature Combinations')\n",
    "fig.update_layout(height=800, width=1100,\n",
    "                  title_text=\"Top 10 Linear Regression Feature Combinations\",\n",
    "                  xaxis_title=\"feature combinations\", yaxis_title=\"rmse scores\")\n",
    "fig.update_xaxes(showticklabels=False)\n",
    "fig.show()"
   ]
  },
  {
   "cell_type": "markdown",
   "id": "08183c20-44d9-4c49-9d90-5b6209071479",
   "metadata": {},
   "source": [
    "#### Best Random Forest Models"
   ]
  },
  {
   "cell_type": "code",
   "execution_count": 236,
   "id": "41cfa7e0-fd75-4b81-b555-b2b8f49965cf",
   "metadata": {},
   "outputs": [
    {
     "data": {
      "application/vnd.plotly.v1+json": {
       "config": {
        "plotlyServerURL": "https://plot.ly"
       },
       "data": [
        {
         "alignmentgroup": "True",
         "hovertemplate": "features=%{x}<br>rmse_scores=%{y}<extra></extra>",
         "legendgroup": "",
         "marker": {
          "color": "#636efa"
         },
         "name": "",
         "notched": false,
         "offsetgroup": "",
         "orientation": "v",
         "showlegend": false,
         "type": "box",
         "x": [
          "f_2_query_length,f_5_num_results",
          "f_2_query_length,f_5_num_results",
          "f_2_query_length,f_5_num_results",
          "f_2_query_length,f_5_num_results",
          "f_2_query_length,f_5_num_results",
          "f_4_has_special_char,f_5_num_results",
          "f_4_has_special_char,f_5_num_results",
          "f_4_has_special_char,f_5_num_results",
          "f_4_has_special_char,f_5_num_results",
          "f_4_has_special_char,f_5_num_results",
          "f_5_num_results,f_6_max_title_score",
          "f_5_num_results,f_6_max_title_score",
          "f_5_num_results,f_6_max_title_score",
          "f_5_num_results,f_6_max_title_score",
          "f_5_num_results,f_6_max_title_score",
          "f_2_query_length,f_4_has_special_char,f_5_num_results",
          "f_2_query_length,f_4_has_special_char,f_5_num_results",
          "f_2_query_length,f_4_has_special_char,f_5_num_results",
          "f_2_query_length,f_4_has_special_char,f_5_num_results",
          "f_2_query_length,f_4_has_special_char,f_5_num_results",
          "f_4_has_special_char,f_5_num_results,f_6_max_title_score",
          "f_4_has_special_char,f_5_num_results,f_6_max_title_score",
          "f_4_has_special_char,f_5_num_results,f_6_max_title_score",
          "f_4_has_special_char,f_5_num_results,f_6_max_title_score",
          "f_4_has_special_char,f_5_num_results,f_6_max_title_score",
          "f_4_has_special_char,f_5_num_results,f_7_sum_title_scores",
          "f_4_has_special_char,f_5_num_results,f_7_sum_title_scores",
          "f_4_has_special_char,f_5_num_results,f_7_sum_title_scores",
          "f_4_has_special_char,f_5_num_results,f_7_sum_title_scores",
          "f_4_has_special_char,f_5_num_results,f_7_sum_title_scores",
          "f_4_has_special_char,f_5_num_results,f_8_max_semantic_score",
          "f_4_has_special_char,f_5_num_results,f_8_max_semantic_score",
          "f_4_has_special_char,f_5_num_results,f_8_max_semantic_score",
          "f_4_has_special_char,f_5_num_results,f_8_max_semantic_score",
          "f_4_has_special_char,f_5_num_results,f_8_max_semantic_score",
          "f_2_query_length,f_3_has_numbers,f_4_has_special_char,f_5_num_results",
          "f_2_query_length,f_3_has_numbers,f_4_has_special_char,f_5_num_results",
          "f_2_query_length,f_3_has_numbers,f_4_has_special_char,f_5_num_results",
          "f_2_query_length,f_3_has_numbers,f_4_has_special_char,f_5_num_results",
          "f_2_query_length,f_3_has_numbers,f_4_has_special_char,f_5_num_results",
          "f_2_query_length,f_4_has_special_char,f_5_num_results,f_8_max_semantic_score",
          "f_2_query_length,f_4_has_special_char,f_5_num_results,f_8_max_semantic_score",
          "f_2_query_length,f_4_has_special_char,f_5_num_results,f_8_max_semantic_score",
          "f_2_query_length,f_4_has_special_char,f_5_num_results,f_8_max_semantic_score",
          "f_2_query_length,f_4_has_special_char,f_5_num_results,f_8_max_semantic_score",
          "f_1_num_of_terms,f_2_query_length,f_3_has_numbers,f_4_has_special_char,f_5_num_results",
          "f_1_num_of_terms,f_2_query_length,f_3_has_numbers,f_4_has_special_char,f_5_num_results",
          "f_1_num_of_terms,f_2_query_length,f_3_has_numbers,f_4_has_special_char,f_5_num_results",
          "f_1_num_of_terms,f_2_query_length,f_3_has_numbers,f_4_has_special_char,f_5_num_results",
          "f_1_num_of_terms,f_2_query_length,f_3_has_numbers,f_4_has_special_char,f_5_num_results",
          "f_2_query_length,f_5_num_results",
          "f_2_query_length,f_5_num_results",
          "f_2_query_length,f_5_num_results",
          "f_2_query_length,f_5_num_results",
          "f_2_query_length,f_5_num_results",
          "f_4_has_special_char,f_5_num_results",
          "f_4_has_special_char,f_5_num_results",
          "f_4_has_special_char,f_5_num_results",
          "f_4_has_special_char,f_5_num_results",
          "f_4_has_special_char,f_5_num_results",
          "f_5_num_results,f_6_max_title_score",
          "f_5_num_results,f_6_max_title_score",
          "f_5_num_results,f_6_max_title_score",
          "f_5_num_results,f_6_max_title_score",
          "f_5_num_results,f_6_max_title_score",
          "f_2_query_length,f_4_has_special_char,f_5_num_results",
          "f_2_query_length,f_4_has_special_char,f_5_num_results",
          "f_2_query_length,f_4_has_special_char,f_5_num_results",
          "f_2_query_length,f_4_has_special_char,f_5_num_results",
          "f_2_query_length,f_4_has_special_char,f_5_num_results",
          "f_4_has_special_char,f_5_num_results,f_6_max_title_score",
          "f_4_has_special_char,f_5_num_results,f_6_max_title_score",
          "f_4_has_special_char,f_5_num_results,f_6_max_title_score",
          "f_4_has_special_char,f_5_num_results,f_6_max_title_score",
          "f_4_has_special_char,f_5_num_results,f_6_max_title_score",
          "f_4_has_special_char,f_5_num_results,f_7_sum_title_scores",
          "f_4_has_special_char,f_5_num_results,f_7_sum_title_scores",
          "f_4_has_special_char,f_5_num_results,f_7_sum_title_scores",
          "f_4_has_special_char,f_5_num_results,f_7_sum_title_scores",
          "f_4_has_special_char,f_5_num_results,f_7_sum_title_scores",
          "f_4_has_special_char,f_5_num_results,f_8_max_semantic_score",
          "f_4_has_special_char,f_5_num_results,f_8_max_semantic_score",
          "f_4_has_special_char,f_5_num_results,f_8_max_semantic_score",
          "f_4_has_special_char,f_5_num_results,f_8_max_semantic_score",
          "f_4_has_special_char,f_5_num_results,f_8_max_semantic_score",
          "f_2_query_length,f_3_has_numbers,f_4_has_special_char,f_5_num_results",
          "f_2_query_length,f_3_has_numbers,f_4_has_special_char,f_5_num_results",
          "f_2_query_length,f_3_has_numbers,f_4_has_special_char,f_5_num_results",
          "f_2_query_length,f_3_has_numbers,f_4_has_special_char,f_5_num_results",
          "f_2_query_length,f_3_has_numbers,f_4_has_special_char,f_5_num_results",
          "f_2_query_length,f_4_has_special_char,f_5_num_results,f_8_max_semantic_score",
          "f_2_query_length,f_4_has_special_char,f_5_num_results,f_8_max_semantic_score",
          "f_2_query_length,f_4_has_special_char,f_5_num_results,f_8_max_semantic_score",
          "f_2_query_length,f_4_has_special_char,f_5_num_results,f_8_max_semantic_score",
          "f_2_query_length,f_4_has_special_char,f_5_num_results,f_8_max_semantic_score",
          "f_1_num_of_terms,f_2_query_length,f_3_has_numbers,f_4_has_special_char,f_5_num_results",
          "f_1_num_of_terms,f_2_query_length,f_3_has_numbers,f_4_has_special_char,f_5_num_results",
          "f_1_num_of_terms,f_2_query_length,f_3_has_numbers,f_4_has_special_char,f_5_num_results",
          "f_1_num_of_terms,f_2_query_length,f_3_has_numbers,f_4_has_special_char,f_5_num_results",
          "f_1_num_of_terms,f_2_query_length,f_3_has_numbers,f_4_has_special_char,f_5_num_results"
         ],
         "x0": " ",
         "xaxis": "x",
         "y": [
          0.25648030984393655,
          0.2964535008694917,
          0.2863136764377651,
          0.2949058212436664,
          0.3140220645587952,
          0.2676122858791722,
          0.3038236712453998,
          0.2787592233953798,
          0.3074499241186333,
          0.288256801853002,
          0.24654344761105898,
          0.2784257974685875,
          0.28614379149515096,
          0.2728746658747572,
          0.31896190127646695,
          0.25779070293413286,
          0.2966976090979575,
          0.2866157258965081,
          0.2947678049282556,
          0.31357749479781866,
          0.24610756172576262,
          0.2767609908239574,
          0.28604137383187495,
          0.27167311681831363,
          0.31823036509662217,
          0.24437546146363612,
          0.2770372085672743,
          0.2816000844169376,
          0.27124121809116786,
          0.298452141003427,
          0.2919708889598414,
          0.29667628823348857,
          0.3004635418815401,
          0.29370631590076496,
          0.31223042772926524,
          0.25858427846655335,
          0.29529024139313864,
          0.276169764325567,
          0.28624392617703276,
          0.2992606424793662,
          0.2652498444862881,
          0.2805982537365476,
          0.285890923255706,
          0.2862679863344834,
          0.30650435559711053,
          0.26506013671825013,
          0.2974779579646698,
          0.26921352341967947,
          0.2809084489058074,
          0.2883867463058467,
          0.23512388344113366,
          0.2538248245492328,
          0.2715767375527165,
          0.2519658262504619,
          0.2771263038779177,
          0.23020893425257027,
          0.25696395243491194,
          0.2666196318130772,
          0.2548169823694712,
          0.2716093694403801,
          0.22878374615003466,
          0.2598847256956596,
          0.2735264790097852,
          0.2563850711164042,
          0.278752230757358,
          0.23456284914445694,
          0.25254943113996753,
          0.2742984478562216,
          0.25390656653221677,
          0.2789220065975264,
          0.2284472582520871,
          0.25501245650632065,
          0.273486019999288,
          0.25925303324020593,
          0.28157498397403585,
          0.22711359483828888,
          0.25473409450185636,
          0.27432873364132937,
          0.2621307221481789,
          0.27949467065689815,
          0.22926658925268578,
          0.2492535823685117,
          0.2729314669494603,
          0.25977742020190797,
          0.28225311808227355,
          0.2342775963839938,
          0.2546532765964287,
          0.2745453795955945,
          0.25423352289739287,
          0.27920264739581796,
          0.23502712415100202,
          0.25531120118276524,
          0.2710485088071398,
          0.25461941293227947,
          0.28057931135738207,
          0.2354640539125436,
          0.25661720039216945,
          0.27481569070617134,
          0.2511231908423433,
          0.2772464959406791
         ],
         "y0": " ",
         "yaxis": "y"
        }
       ],
       "layout": {
        "boxmode": "group",
        "height": 800,
        "legend": {
         "tracegroupgap": 0
        },
        "template": {
         "data": {
          "bar": [
           {
            "error_x": {
             "color": "#2a3f5f"
            },
            "error_y": {
             "color": "#2a3f5f"
            },
            "marker": {
             "line": {
              "color": "#E5ECF6",
              "width": 0.5
             },
             "pattern": {
              "fillmode": "overlay",
              "size": 10,
              "solidity": 0.2
             }
            },
            "type": "bar"
           }
          ],
          "barpolar": [
           {
            "marker": {
             "line": {
              "color": "#E5ECF6",
              "width": 0.5
             },
             "pattern": {
              "fillmode": "overlay",
              "size": 10,
              "solidity": 0.2
             }
            },
            "type": "barpolar"
           }
          ],
          "carpet": [
           {
            "aaxis": {
             "endlinecolor": "#2a3f5f",
             "gridcolor": "white",
             "linecolor": "white",
             "minorgridcolor": "white",
             "startlinecolor": "#2a3f5f"
            },
            "baxis": {
             "endlinecolor": "#2a3f5f",
             "gridcolor": "white",
             "linecolor": "white",
             "minorgridcolor": "white",
             "startlinecolor": "#2a3f5f"
            },
            "type": "carpet"
           }
          ],
          "choropleth": [
           {
            "colorbar": {
             "outlinewidth": 0,
             "ticks": ""
            },
            "type": "choropleth"
           }
          ],
          "contour": [
           {
            "colorbar": {
             "outlinewidth": 0,
             "ticks": ""
            },
            "colorscale": [
             [
              0,
              "#0d0887"
             ],
             [
              0.1111111111111111,
              "#46039f"
             ],
             [
              0.2222222222222222,
              "#7201a8"
             ],
             [
              0.3333333333333333,
              "#9c179e"
             ],
             [
              0.4444444444444444,
              "#bd3786"
             ],
             [
              0.5555555555555556,
              "#d8576b"
             ],
             [
              0.6666666666666666,
              "#ed7953"
             ],
             [
              0.7777777777777778,
              "#fb9f3a"
             ],
             [
              0.8888888888888888,
              "#fdca26"
             ],
             [
              1,
              "#f0f921"
             ]
            ],
            "type": "contour"
           }
          ],
          "contourcarpet": [
           {
            "colorbar": {
             "outlinewidth": 0,
             "ticks": ""
            },
            "type": "contourcarpet"
           }
          ],
          "heatmap": [
           {
            "colorbar": {
             "outlinewidth": 0,
             "ticks": ""
            },
            "colorscale": [
             [
              0,
              "#0d0887"
             ],
             [
              0.1111111111111111,
              "#46039f"
             ],
             [
              0.2222222222222222,
              "#7201a8"
             ],
             [
              0.3333333333333333,
              "#9c179e"
             ],
             [
              0.4444444444444444,
              "#bd3786"
             ],
             [
              0.5555555555555556,
              "#d8576b"
             ],
             [
              0.6666666666666666,
              "#ed7953"
             ],
             [
              0.7777777777777778,
              "#fb9f3a"
             ],
             [
              0.8888888888888888,
              "#fdca26"
             ],
             [
              1,
              "#f0f921"
             ]
            ],
            "type": "heatmap"
           }
          ],
          "heatmapgl": [
           {
            "colorbar": {
             "outlinewidth": 0,
             "ticks": ""
            },
            "colorscale": [
             [
              0,
              "#0d0887"
             ],
             [
              0.1111111111111111,
              "#46039f"
             ],
             [
              0.2222222222222222,
              "#7201a8"
             ],
             [
              0.3333333333333333,
              "#9c179e"
             ],
             [
              0.4444444444444444,
              "#bd3786"
             ],
             [
              0.5555555555555556,
              "#d8576b"
             ],
             [
              0.6666666666666666,
              "#ed7953"
             ],
             [
              0.7777777777777778,
              "#fb9f3a"
             ],
             [
              0.8888888888888888,
              "#fdca26"
             ],
             [
              1,
              "#f0f921"
             ]
            ],
            "type": "heatmapgl"
           }
          ],
          "histogram": [
           {
            "marker": {
             "pattern": {
              "fillmode": "overlay",
              "size": 10,
              "solidity": 0.2
             }
            },
            "type": "histogram"
           }
          ],
          "histogram2d": [
           {
            "colorbar": {
             "outlinewidth": 0,
             "ticks": ""
            },
            "colorscale": [
             [
              0,
              "#0d0887"
             ],
             [
              0.1111111111111111,
              "#46039f"
             ],
             [
              0.2222222222222222,
              "#7201a8"
             ],
             [
              0.3333333333333333,
              "#9c179e"
             ],
             [
              0.4444444444444444,
              "#bd3786"
             ],
             [
              0.5555555555555556,
              "#d8576b"
             ],
             [
              0.6666666666666666,
              "#ed7953"
             ],
             [
              0.7777777777777778,
              "#fb9f3a"
             ],
             [
              0.8888888888888888,
              "#fdca26"
             ],
             [
              1,
              "#f0f921"
             ]
            ],
            "type": "histogram2d"
           }
          ],
          "histogram2dcontour": [
           {
            "colorbar": {
             "outlinewidth": 0,
             "ticks": ""
            },
            "colorscale": [
             [
              0,
              "#0d0887"
             ],
             [
              0.1111111111111111,
              "#46039f"
             ],
             [
              0.2222222222222222,
              "#7201a8"
             ],
             [
              0.3333333333333333,
              "#9c179e"
             ],
             [
              0.4444444444444444,
              "#bd3786"
             ],
             [
              0.5555555555555556,
              "#d8576b"
             ],
             [
              0.6666666666666666,
              "#ed7953"
             ],
             [
              0.7777777777777778,
              "#fb9f3a"
             ],
             [
              0.8888888888888888,
              "#fdca26"
             ],
             [
              1,
              "#f0f921"
             ]
            ],
            "type": "histogram2dcontour"
           }
          ],
          "mesh3d": [
           {
            "colorbar": {
             "outlinewidth": 0,
             "ticks": ""
            },
            "type": "mesh3d"
           }
          ],
          "parcoords": [
           {
            "line": {
             "colorbar": {
              "outlinewidth": 0,
              "ticks": ""
             }
            },
            "type": "parcoords"
           }
          ],
          "pie": [
           {
            "automargin": true,
            "type": "pie"
           }
          ],
          "scatter": [
           {
            "fillpattern": {
             "fillmode": "overlay",
             "size": 10,
             "solidity": 0.2
            },
            "type": "scatter"
           }
          ],
          "scatter3d": [
           {
            "line": {
             "colorbar": {
              "outlinewidth": 0,
              "ticks": ""
             }
            },
            "marker": {
             "colorbar": {
              "outlinewidth": 0,
              "ticks": ""
             }
            },
            "type": "scatter3d"
           }
          ],
          "scattercarpet": [
           {
            "marker": {
             "colorbar": {
              "outlinewidth": 0,
              "ticks": ""
             }
            },
            "type": "scattercarpet"
           }
          ],
          "scattergeo": [
           {
            "marker": {
             "colorbar": {
              "outlinewidth": 0,
              "ticks": ""
             }
            },
            "type": "scattergeo"
           }
          ],
          "scattergl": [
           {
            "marker": {
             "colorbar": {
              "outlinewidth": 0,
              "ticks": ""
             }
            },
            "type": "scattergl"
           }
          ],
          "scattermapbox": [
           {
            "marker": {
             "colorbar": {
              "outlinewidth": 0,
              "ticks": ""
             }
            },
            "type": "scattermapbox"
           }
          ],
          "scatterpolar": [
           {
            "marker": {
             "colorbar": {
              "outlinewidth": 0,
              "ticks": ""
             }
            },
            "type": "scatterpolar"
           }
          ],
          "scatterpolargl": [
           {
            "marker": {
             "colorbar": {
              "outlinewidth": 0,
              "ticks": ""
             }
            },
            "type": "scatterpolargl"
           }
          ],
          "scatterternary": [
           {
            "marker": {
             "colorbar": {
              "outlinewidth": 0,
              "ticks": ""
             }
            },
            "type": "scatterternary"
           }
          ],
          "surface": [
           {
            "colorbar": {
             "outlinewidth": 0,
             "ticks": ""
            },
            "colorscale": [
             [
              0,
              "#0d0887"
             ],
             [
              0.1111111111111111,
              "#46039f"
             ],
             [
              0.2222222222222222,
              "#7201a8"
             ],
             [
              0.3333333333333333,
              "#9c179e"
             ],
             [
              0.4444444444444444,
              "#bd3786"
             ],
             [
              0.5555555555555556,
              "#d8576b"
             ],
             [
              0.6666666666666666,
              "#ed7953"
             ],
             [
              0.7777777777777778,
              "#fb9f3a"
             ],
             [
              0.8888888888888888,
              "#fdca26"
             ],
             [
              1,
              "#f0f921"
             ]
            ],
            "type": "surface"
           }
          ],
          "table": [
           {
            "cells": {
             "fill": {
              "color": "#EBF0F8"
             },
             "line": {
              "color": "white"
             }
            },
            "header": {
             "fill": {
              "color": "#C8D4E3"
             },
             "line": {
              "color": "white"
             }
            },
            "type": "table"
           }
          ]
         },
         "layout": {
          "annotationdefaults": {
           "arrowcolor": "#2a3f5f",
           "arrowhead": 0,
           "arrowwidth": 1
          },
          "autotypenumbers": "strict",
          "coloraxis": {
           "colorbar": {
            "outlinewidth": 0,
            "ticks": ""
           }
          },
          "colorscale": {
           "diverging": [
            [
             0,
             "#8e0152"
            ],
            [
             0.1,
             "#c51b7d"
            ],
            [
             0.2,
             "#de77ae"
            ],
            [
             0.3,
             "#f1b6da"
            ],
            [
             0.4,
             "#fde0ef"
            ],
            [
             0.5,
             "#f7f7f7"
            ],
            [
             0.6,
             "#e6f5d0"
            ],
            [
             0.7,
             "#b8e186"
            ],
            [
             0.8,
             "#7fbc41"
            ],
            [
             0.9,
             "#4d9221"
            ],
            [
             1,
             "#276419"
            ]
           ],
           "sequential": [
            [
             0,
             "#0d0887"
            ],
            [
             0.1111111111111111,
             "#46039f"
            ],
            [
             0.2222222222222222,
             "#7201a8"
            ],
            [
             0.3333333333333333,
             "#9c179e"
            ],
            [
             0.4444444444444444,
             "#bd3786"
            ],
            [
             0.5555555555555556,
             "#d8576b"
            ],
            [
             0.6666666666666666,
             "#ed7953"
            ],
            [
             0.7777777777777778,
             "#fb9f3a"
            ],
            [
             0.8888888888888888,
             "#fdca26"
            ],
            [
             1,
             "#f0f921"
            ]
           ],
           "sequentialminus": [
            [
             0,
             "#0d0887"
            ],
            [
             0.1111111111111111,
             "#46039f"
            ],
            [
             0.2222222222222222,
             "#7201a8"
            ],
            [
             0.3333333333333333,
             "#9c179e"
            ],
            [
             0.4444444444444444,
             "#bd3786"
            ],
            [
             0.5555555555555556,
             "#d8576b"
            ],
            [
             0.6666666666666666,
             "#ed7953"
            ],
            [
             0.7777777777777778,
             "#fb9f3a"
            ],
            [
             0.8888888888888888,
             "#fdca26"
            ],
            [
             1,
             "#f0f921"
            ]
           ]
          },
          "colorway": [
           "#636efa",
           "#EF553B",
           "#00cc96",
           "#ab63fa",
           "#FFA15A",
           "#19d3f3",
           "#FF6692",
           "#B6E880",
           "#FF97FF",
           "#FECB52"
          ],
          "font": {
           "color": "#2a3f5f"
          },
          "geo": {
           "bgcolor": "white",
           "lakecolor": "white",
           "landcolor": "#E5ECF6",
           "showlakes": true,
           "showland": true,
           "subunitcolor": "white"
          },
          "hoverlabel": {
           "align": "left"
          },
          "hovermode": "closest",
          "mapbox": {
           "style": "light"
          },
          "paper_bgcolor": "white",
          "plot_bgcolor": "#E5ECF6",
          "polar": {
           "angularaxis": {
            "gridcolor": "white",
            "linecolor": "white",
            "ticks": ""
           },
           "bgcolor": "#E5ECF6",
           "radialaxis": {
            "gridcolor": "white",
            "linecolor": "white",
            "ticks": ""
           }
          },
          "scene": {
           "xaxis": {
            "backgroundcolor": "#E5ECF6",
            "gridcolor": "white",
            "gridwidth": 2,
            "linecolor": "white",
            "showbackground": true,
            "ticks": "",
            "zerolinecolor": "white"
           },
           "yaxis": {
            "backgroundcolor": "#E5ECF6",
            "gridcolor": "white",
            "gridwidth": 2,
            "linecolor": "white",
            "showbackground": true,
            "ticks": "",
            "zerolinecolor": "white"
           },
           "zaxis": {
            "backgroundcolor": "#E5ECF6",
            "gridcolor": "white",
            "gridwidth": 2,
            "linecolor": "white",
            "showbackground": true,
            "ticks": "",
            "zerolinecolor": "white"
           }
          },
          "shapedefaults": {
           "line": {
            "color": "#2a3f5f"
           }
          },
          "ternary": {
           "aaxis": {
            "gridcolor": "white",
            "linecolor": "white",
            "ticks": ""
           },
           "baxis": {
            "gridcolor": "white",
            "linecolor": "white",
            "ticks": ""
           },
           "bgcolor": "#E5ECF6",
           "caxis": {
            "gridcolor": "white",
            "linecolor": "white",
            "ticks": ""
           }
          },
          "title": {
           "x": 0.05
          },
          "xaxis": {
           "automargin": true,
           "gridcolor": "white",
           "linecolor": "white",
           "ticks": "",
           "title": {
            "standoff": 15
           },
           "zerolinecolor": "white",
           "zerolinewidth": 2
          },
          "yaxis": {
           "automargin": true,
           "gridcolor": "white",
           "linecolor": "white",
           "ticks": "",
           "title": {
            "standoff": 15
           },
           "zerolinecolor": "white",
           "zerolinewidth": 2
          }
         }
        },
        "title": {
         "text": "Top 10 Random Forest Feature Combinations"
        },
        "width": 1100,
        "xaxis": {
         "anchor": "y",
         "autorange": true,
         "domain": [
          0,
          1
         ],
         "range": [
          -0.5,
          9.5
         ],
         "showticklabels": false,
         "title": {
          "text": "feature combinations"
         },
         "type": "category"
        },
        "yaxis": {
         "anchor": "x",
         "autorange": true,
         "domain": [
          0,
          1
         ],
         "range": [
          0.222010911147279,
          0.32406458496747687
         ],
         "title": {
          "text": "rmse scores"
         },
         "type": "linear"
        }
       }
      }
     },
     "metadata": {},
     "output_type": "display_data"
    }
   ],
   "source": [
    "x = df_agg_metrics[df_agg_metrics['model'] == 'rf'].sort_values(by='mean_rmse')['features'].head(10)\n",
    "\n",
    "fig = px.box(df_metrics[(df_metrics['features'].isin(x)) & (df_metrics['model'] == 'rf')], x='features',\n",
    "             y='rmse_scores', title='RMSE Boxplot of Top 10 Feature Combinations')\n",
    "fig.update_layout(height=800, width=1100,\n",
    "                  title_text=\"Top 10 Random Forest Feature Combinations\",\n",
    "                  xaxis_title=\"feature combinations\", yaxis_title=\"rmse scores\")\n",
    "fig.update_xaxes(showticklabels=False)\n",
    "fig.show()"
   ]
  },
  {
   "cell_type": "markdown",
   "id": "abefdc97-ce55-4103-9ec0-2c1010332ea6",
   "metadata": {},
   "source": [
    "### Show the best feature combinations based on the mean root squared error grouped by the features they include\n",
    "\n",
    "Groups: contains query features, contains keyword search features, and contains neural search features and best of all"
   ]
  },
  {
   "cell_type": "code",
   "execution_count": 237,
   "id": "a7ecf668-91bc-4b69-9f3f-d7ee5ecafd6a",
   "metadata": {},
   "outputs": [],
   "source": [
    "df_agg_metrics['keyword_f_only'] = (df_agg_metrics['keyword_f'] == True) & (df_agg_metrics['neural_f'] == False) & (df_agg_metrics['query_f'] == False)\n",
    "df_agg_metrics['neural_f_only'] = (df_agg_metrics['keyword_f'] == False) & (df_agg_metrics['neural_f'] == True) & (df_agg_metrics['query_f'] == False)\n",
    "df_agg_metrics['query_f_only'] = (df_agg_metrics['keyword_f'] == False) & (df_agg_metrics['neural_f'] == False) & (df_agg_metrics['query_f'] == True)\n"
   ]
  },
  {
   "cell_type": "code",
   "execution_count": 238,
   "id": "0663ae54-d907-4013-867a-8ccc50e33660",
   "metadata": {},
   "outputs": [
    {
     "data": {
      "text/html": [
       "<div>\n",
       "<style scoped>\n",
       "    .dataframe tbody tr th:only-of-type {\n",
       "        vertical-align: middle;\n",
       "    }\n",
       "\n",
       "    .dataframe tbody tr th {\n",
       "        vertical-align: top;\n",
       "    }\n",
       "\n",
       "    .dataframe thead th {\n",
       "        text-align: right;\n",
       "    }\n",
       "</style>\n",
       "<table border=\"1\" class=\"dataframe\">\n",
       "  <thead>\n",
       "    <tr style=\"text-align: right;\">\n",
       "      <th></th>\n",
       "      <th>features</th>\n",
       "      <th>keyword_f</th>\n",
       "      <th>neural_f</th>\n",
       "      <th>query_f</th>\n",
       "      <th>model</th>\n",
       "      <th>regularization</th>\n",
       "      <th>mean_rmse</th>\n",
       "      <th>var_rmse</th>\n",
       "      <th>std_rmse</th>\n",
       "      <th>keyword_f_only</th>\n",
       "      <th>neural_f_only</th>\n",
       "      <th>query_f_only</th>\n",
       "    </tr>\n",
       "  </thead>\n",
       "  <tbody>\n",
       "    <tr>\n",
       "      <th>0</th>\n",
       "      <td>f_1_num_of_terms,f_2_query_length</td>\n",
       "      <td>False</td>\n",
       "      <td>False</td>\n",
       "      <td>True</td>\n",
       "      <td>lr</td>\n",
       "      <td>False</td>\n",
       "      <td>0.268859</td>\n",
       "      <td>0.000808</td>\n",
       "      <td>0.028434</td>\n",
       "      <td>False</td>\n",
       "      <td>False</td>\n",
       "      <td>True</td>\n",
       "    </tr>\n",
       "    <tr>\n",
       "      <th>1</th>\n",
       "      <td>f_1_num_of_terms,f_2_query_length</td>\n",
       "      <td>False</td>\n",
       "      <td>False</td>\n",
       "      <td>True</td>\n",
       "      <td>lr</td>\n",
       "      <td>True</td>\n",
       "      <td>0.268695</td>\n",
       "      <td>0.000803</td>\n",
       "      <td>0.028340</td>\n",
       "      <td>False</td>\n",
       "      <td>False</td>\n",
       "      <td>True</td>\n",
       "    </tr>\n",
       "    <tr>\n",
       "      <th>2</th>\n",
       "      <td>f_1_num_of_terms,f_2_query_length</td>\n",
       "      <td>False</td>\n",
       "      <td>False</td>\n",
       "      <td>True</td>\n",
       "      <td>rf</td>\n",
       "      <td>False</td>\n",
       "      <td>0.292087</td>\n",
       "      <td>0.000029</td>\n",
       "      <td>0.005383</td>\n",
       "      <td>False</td>\n",
       "      <td>False</td>\n",
       "      <td>True</td>\n",
       "    </tr>\n",
       "  </tbody>\n",
       "</table>\n",
       "</div>"
      ],
      "text/plain": [
       "                            features  keyword_f  neural_f  query_f model  \\\n",
       "0  f_1_num_of_terms,f_2_query_length      False     False     True    lr   \n",
       "1  f_1_num_of_terms,f_2_query_length      False     False     True    lr   \n",
       "2  f_1_num_of_terms,f_2_query_length      False     False     True    rf   \n",
       "\n",
       "   regularization  mean_rmse  var_rmse  std_rmse  keyword_f_only  \\\n",
       "0           False   0.268859  0.000808  0.028434           False   \n",
       "1            True   0.268695  0.000803  0.028340           False   \n",
       "2           False   0.292087  0.000029  0.005383           False   \n",
       "\n",
       "   neural_f_only  query_f_only  \n",
       "0          False          True  \n",
       "1          False          True  \n",
       "2          False          True  "
      ]
     },
     "execution_count": 238,
     "metadata": {},
     "output_type": "execute_result"
    }
   ],
   "source": [
    "df_agg_metrics.head(3)"
   ]
  },
  {
   "cell_type": "code",
   "execution_count": 239,
   "id": "3cdee467-40df-4718-9616-8fc43dcc2fa8",
   "metadata": {},
   "outputs": [],
   "source": [
    "# Create a better readable string to identify the feature combinations\n",
    "# The string contains 'k' if it contains keyword search features, 'n' if contains neural search features and\n",
    "# 'q' if it contains query string features\n",
    "\n",
    "def create_feature_string(row):\n",
    "    keyword_s = \"\"\n",
    "    neural_s = \"\"\n",
    "    query_s = \"\"\n",
    "    if row.keyword_f == True:\n",
    "        keyword_s = \"k\"\n",
    "    if row.neural_f == True:\n",
    "        neural_s = \"n\"\n",
    "    if row.query_f == True:\n",
    "        query_s = \"q\"\n",
    "    return keyword_s + neural_s + query_s"
   ]
  },
  {
   "cell_type": "code",
   "execution_count": 240,
   "id": "24c24ecb-ab92-4461-ab87-b21f245237cb",
   "metadata": {},
   "outputs": [
    {
     "data": {
      "text/html": [
       "<div>\n",
       "<style scoped>\n",
       "    .dataframe tbody tr th:only-of-type {\n",
       "        vertical-align: middle;\n",
       "    }\n",
       "\n",
       "    .dataframe tbody tr th {\n",
       "        vertical-align: top;\n",
       "    }\n",
       "\n",
       "    .dataframe thead th {\n",
       "        text-align: right;\n",
       "    }\n",
       "</style>\n",
       "<table border=\"1\" class=\"dataframe\">\n",
       "  <thead>\n",
       "    <tr style=\"text-align: right;\">\n",
       "      <th></th>\n",
       "      <th>features</th>\n",
       "      <th>rmse_scores</th>\n",
       "      <th>keyword_f</th>\n",
       "      <th>neural_f</th>\n",
       "      <th>query_f</th>\n",
       "      <th>model</th>\n",
       "      <th>regularization</th>\n",
       "      <th>f_str</th>\n",
       "    </tr>\n",
       "  </thead>\n",
       "  <tbody>\n",
       "    <tr>\n",
       "      <th>0</th>\n",
       "      <td>f_1_num_of_terms,f_2_query_length</td>\n",
       "      <td>0.240430</td>\n",
       "      <td>False</td>\n",
       "      <td>False</td>\n",
       "      <td>True</td>\n",
       "      <td>lr</td>\n",
       "      <td>False</td>\n",
       "      <td>q</td>\n",
       "    </tr>\n",
       "    <tr>\n",
       "      <th>1</th>\n",
       "      <td>f_1_num_of_terms,f_2_query_length</td>\n",
       "      <td>0.246327</td>\n",
       "      <td>False</td>\n",
       "      <td>False</td>\n",
       "      <td>True</td>\n",
       "      <td>lr</td>\n",
       "      <td>False</td>\n",
       "      <td>q</td>\n",
       "    </tr>\n",
       "    <tr>\n",
       "      <th>2</th>\n",
       "      <td>f_1_num_of_terms,f_2_query_length</td>\n",
       "      <td>0.290655</td>\n",
       "      <td>False</td>\n",
       "      <td>False</td>\n",
       "      <td>True</td>\n",
       "      <td>lr</td>\n",
       "      <td>False</td>\n",
       "      <td>q</td>\n",
       "    </tr>\n",
       "  </tbody>\n",
       "</table>\n",
       "</div>"
      ],
      "text/plain": [
       "                            features  rmse_scores  keyword_f  neural_f  \\\n",
       "0  f_1_num_of_terms,f_2_query_length     0.240430      False     False   \n",
       "1  f_1_num_of_terms,f_2_query_length     0.246327      False     False   \n",
       "2  f_1_num_of_terms,f_2_query_length     0.290655      False     False   \n",
       "\n",
       "   query_f model  regularization f_str  \n",
       "0     True    lr           False     q  \n",
       "1     True    lr           False     q  \n",
       "2     True    lr           False     q  "
      ]
     },
     "execution_count": 240,
     "metadata": {},
     "output_type": "execute_result"
    }
   ],
   "source": [
    "# create a string as a key of the feature combination\n",
    "df_metrics['f_str'] = df_metrics.apply(create_feature_string, axis=1)\n",
    "df_metrics.head(3)"
   ]
  },
  {
   "cell_type": "markdown",
   "id": "6102f2b6-bac6-4672-93dd-79700a1925aa",
   "metadata": {},
   "source": [
    "### Linear Regression Model: Best Feature Combination Grouped by Feature types "
   ]
  },
  {
   "cell_type": "code",
   "execution_count": 241,
   "id": "2c02680a-0c40-4540-907e-dfaeb60ca0de",
   "metadata": {},
   "outputs": [],
   "source": [
    "# Select the best three models that contain query features, neural features, keyword features and the best overall feature combinations\n",
    "x_query_f = df_agg_metrics[(df_agg_metrics['query_f']==True) & (df_agg_metrics['model'] == 'lr')].sort_values(by='mean_rmse')['features'].head(5).values\n",
    "x_neural_f = df_agg_metrics[(df_agg_metrics['neural_f']==True) & (df_agg_metrics['model'] == 'lr')].sort_values(by='mean_rmse')['features'].head(5).values\n",
    "x_keyword_f = df_agg_metrics[(df_agg_metrics['keyword_f']==True) & (df_agg_metrics['model'] == 'lr')].sort_values(by='mean_rmse')['features'].head(5).values\n",
    "\n",
    "x_all_f = df_agg_metrics[df_agg_metrics['model'] == 'lr'].sort_values(by='mean_rmse')['features'].head(5).values\n",
    "\n",
    "x = np.concatenate([x_query_f, x_neural_f, x_keyword_f, x_all_f])"
   ]
  },
  {
   "cell_type": "code",
   "execution_count": 242,
   "id": "93174a3f-15c4-42b3-abde-4f08760b81f7",
   "metadata": {},
   "outputs": [
    {
     "data": {
      "application/vnd.plotly.v1+json": {
       "config": {
        "plotlyServerURL": "https://plot.ly"
       },
       "data": [
        {
         "alignmentgroup": "True",
         "hovertemplate": "f_str=kq<br>features=%{x}<br>rmse_scores=%{y}<extra></extra>",
         "legendgroup": "kq",
         "marker": {
          "color": "#636efa"
         },
         "name": "kq",
         "notched": false,
         "offsetgroup": "kq",
         "orientation": "v",
         "showlegend": true,
         "type": "box",
         "x": [
          "f_1_num_of_terms,f_5_num_results,f_7_sum_title_scores",
          "f_1_num_of_terms,f_5_num_results,f_7_sum_title_scores",
          "f_1_num_of_terms,f_5_num_results,f_7_sum_title_scores",
          "f_1_num_of_terms,f_5_num_results,f_7_sum_title_scores",
          "f_1_num_of_terms,f_5_num_results,f_7_sum_title_scores",
          "f_1_num_of_terms,f_5_num_results,f_7_sum_title_scores",
          "f_1_num_of_terms,f_5_num_results,f_7_sum_title_scores",
          "f_1_num_of_terms,f_5_num_results,f_7_sum_title_scores",
          "f_1_num_of_terms,f_5_num_results,f_7_sum_title_scores",
          "f_1_num_of_terms,f_5_num_results,f_7_sum_title_scores"
         ],
         "x0": " ",
         "xaxis": "x",
         "y": [
          0.2342909208617683,
          0.25170072130826665,
          0.27822545928445164,
          0.2635176455223521,
          0.29170055443771326,
          0.23429772316572944,
          0.25136003517222383,
          0.27842299924918207,
          0.2632279093611851,
          0.2918493413404916
         ],
         "y0": " ",
         "yaxis": "y"
        },
        {
         "alignmentgroup": "True",
         "hovertemplate": "f_str=knq<br>features=%{x}<br>rmse_scores=%{y}<extra></extra>",
         "legendgroup": "knq",
         "marker": {
          "color": "#EF553B"
         },
         "name": "knq",
         "notched": false,
         "offsetgroup": "knq",
         "orientation": "v",
         "showlegend": true,
         "type": "box",
         "x": [
          "f_1_num_of_terms,f_5_num_results,f_9_avg_semantic_score",
          "f_1_num_of_terms,f_5_num_results,f_9_avg_semantic_score",
          "f_1_num_of_terms,f_5_num_results,f_9_avg_semantic_score",
          "f_1_num_of_terms,f_5_num_results,f_9_avg_semantic_score",
          "f_1_num_of_terms,f_5_num_results,f_9_avg_semantic_score",
          "f_1_num_of_terms,f_5_num_results,f_7_sum_title_scores,f_8_max_semantic_score",
          "f_1_num_of_terms,f_5_num_results,f_7_sum_title_scores,f_8_max_semantic_score",
          "f_1_num_of_terms,f_5_num_results,f_7_sum_title_scores,f_8_max_semantic_score",
          "f_1_num_of_terms,f_5_num_results,f_7_sum_title_scores,f_8_max_semantic_score",
          "f_1_num_of_terms,f_5_num_results,f_7_sum_title_scores,f_8_max_semantic_score",
          "f_1_num_of_terms,f_5_num_results,f_7_sum_title_scores,f_9_avg_semantic_score",
          "f_1_num_of_terms,f_5_num_results,f_7_sum_title_scores,f_9_avg_semantic_score",
          "f_1_num_of_terms,f_5_num_results,f_7_sum_title_scores,f_9_avg_semantic_score",
          "f_1_num_of_terms,f_5_num_results,f_7_sum_title_scores,f_9_avg_semantic_score",
          "f_1_num_of_terms,f_5_num_results,f_7_sum_title_scores,f_9_avg_semantic_score",
          "f_1_num_of_terms,f_5_num_results,f_7_sum_title_scores,f_8_max_semantic_score,f_9_avg_semantic_score",
          "f_1_num_of_terms,f_5_num_results,f_7_sum_title_scores,f_8_max_semantic_score,f_9_avg_semantic_score",
          "f_1_num_of_terms,f_5_num_results,f_7_sum_title_scores,f_8_max_semantic_score,f_9_avg_semantic_score",
          "f_1_num_of_terms,f_5_num_results,f_7_sum_title_scores,f_8_max_semantic_score,f_9_avg_semantic_score",
          "f_1_num_of_terms,f_5_num_results,f_7_sum_title_scores,f_8_max_semantic_score,f_9_avg_semantic_score",
          "f_1_num_of_terms,f_5_num_results,f_9_avg_semantic_score",
          "f_1_num_of_terms,f_5_num_results,f_9_avg_semantic_score",
          "f_1_num_of_terms,f_5_num_results,f_9_avg_semantic_score",
          "f_1_num_of_terms,f_5_num_results,f_9_avg_semantic_score",
          "f_1_num_of_terms,f_5_num_results,f_9_avg_semantic_score",
          "f_1_num_of_terms,f_5_num_results,f_7_sum_title_scores,f_8_max_semantic_score",
          "f_1_num_of_terms,f_5_num_results,f_7_sum_title_scores,f_8_max_semantic_score",
          "f_1_num_of_terms,f_5_num_results,f_7_sum_title_scores,f_8_max_semantic_score",
          "f_1_num_of_terms,f_5_num_results,f_7_sum_title_scores,f_8_max_semantic_score",
          "f_1_num_of_terms,f_5_num_results,f_7_sum_title_scores,f_8_max_semantic_score",
          "f_1_num_of_terms,f_5_num_results,f_7_sum_title_scores,f_9_avg_semantic_score",
          "f_1_num_of_terms,f_5_num_results,f_7_sum_title_scores,f_9_avg_semantic_score",
          "f_1_num_of_terms,f_5_num_results,f_7_sum_title_scores,f_9_avg_semantic_score",
          "f_1_num_of_terms,f_5_num_results,f_7_sum_title_scores,f_9_avg_semantic_score",
          "f_1_num_of_terms,f_5_num_results,f_7_sum_title_scores,f_9_avg_semantic_score",
          "f_1_num_of_terms,f_5_num_results,f_7_sum_title_scores,f_8_max_semantic_score,f_9_avg_semantic_score",
          "f_1_num_of_terms,f_5_num_results,f_7_sum_title_scores,f_8_max_semantic_score,f_9_avg_semantic_score",
          "f_1_num_of_terms,f_5_num_results,f_7_sum_title_scores,f_8_max_semantic_score,f_9_avg_semantic_score",
          "f_1_num_of_terms,f_5_num_results,f_7_sum_title_scores,f_8_max_semantic_score,f_9_avg_semantic_score",
          "f_1_num_of_terms,f_5_num_results,f_7_sum_title_scores,f_8_max_semantic_score,f_9_avg_semantic_score"
         ],
         "x0": " ",
         "xaxis": "x",
         "y": [
          0.2336928737871511,
          0.24172921287269486,
          0.285003208179762,
          0.2574994969786711,
          0.3005528193247857,
          0.234395011978582,
          0.252985557325128,
          0.27815441593521617,
          0.26364816187910567,
          0.29167574983074407,
          0.23242376124151148,
          0.2496926062395958,
          0.27739526871003345,
          0.26349280086261123,
          0.2937827469392923,
          0.23653610989171406,
          0.25143705149007123,
          0.2775128006890953,
          0.2627646904396636,
          0.29610837964273745,
          0.23594780190179768,
          0.24487469615564042,
          0.28667423064884046,
          0.2559162197652336,
          0.29911148320368264,
          0.23430838792552391,
          0.25152374403623556,
          0.27841268560570626,
          0.26324411631293027,
          0.2918420646142935,
          0.2341585305212535,
          0.2512280768462393,
          0.278344306123352,
          0.26319029401514465,
          0.2919164484217275,
          0.2341804339290764,
          0.25139479323015107,
          0.2783390496131967,
          0.26320628406469576,
          0.29191162266877696
         ],
         "y0": " ",
         "yaxis": "y"
        }
       ],
       "layout": {
        "boxmode": "group",
        "height": 800,
        "legend": {
         "title": {
          "text": "f_str"
         },
         "tracegroupgap": 0
        },
        "template": {
         "data": {
          "bar": [
           {
            "error_x": {
             "color": "#2a3f5f"
            },
            "error_y": {
             "color": "#2a3f5f"
            },
            "marker": {
             "line": {
              "color": "#E5ECF6",
              "width": 0.5
             },
             "pattern": {
              "fillmode": "overlay",
              "size": 10,
              "solidity": 0.2
             }
            },
            "type": "bar"
           }
          ],
          "barpolar": [
           {
            "marker": {
             "line": {
              "color": "#E5ECF6",
              "width": 0.5
             },
             "pattern": {
              "fillmode": "overlay",
              "size": 10,
              "solidity": 0.2
             }
            },
            "type": "barpolar"
           }
          ],
          "carpet": [
           {
            "aaxis": {
             "endlinecolor": "#2a3f5f",
             "gridcolor": "white",
             "linecolor": "white",
             "minorgridcolor": "white",
             "startlinecolor": "#2a3f5f"
            },
            "baxis": {
             "endlinecolor": "#2a3f5f",
             "gridcolor": "white",
             "linecolor": "white",
             "minorgridcolor": "white",
             "startlinecolor": "#2a3f5f"
            },
            "type": "carpet"
           }
          ],
          "choropleth": [
           {
            "colorbar": {
             "outlinewidth": 0,
             "ticks": ""
            },
            "type": "choropleth"
           }
          ],
          "contour": [
           {
            "colorbar": {
             "outlinewidth": 0,
             "ticks": ""
            },
            "colorscale": [
             [
              0,
              "#0d0887"
             ],
             [
              0.1111111111111111,
              "#46039f"
             ],
             [
              0.2222222222222222,
              "#7201a8"
             ],
             [
              0.3333333333333333,
              "#9c179e"
             ],
             [
              0.4444444444444444,
              "#bd3786"
             ],
             [
              0.5555555555555556,
              "#d8576b"
             ],
             [
              0.6666666666666666,
              "#ed7953"
             ],
             [
              0.7777777777777778,
              "#fb9f3a"
             ],
             [
              0.8888888888888888,
              "#fdca26"
             ],
             [
              1,
              "#f0f921"
             ]
            ],
            "type": "contour"
           }
          ],
          "contourcarpet": [
           {
            "colorbar": {
             "outlinewidth": 0,
             "ticks": ""
            },
            "type": "contourcarpet"
           }
          ],
          "heatmap": [
           {
            "colorbar": {
             "outlinewidth": 0,
             "ticks": ""
            },
            "colorscale": [
             [
              0,
              "#0d0887"
             ],
             [
              0.1111111111111111,
              "#46039f"
             ],
             [
              0.2222222222222222,
              "#7201a8"
             ],
             [
              0.3333333333333333,
              "#9c179e"
             ],
             [
              0.4444444444444444,
              "#bd3786"
             ],
             [
              0.5555555555555556,
              "#d8576b"
             ],
             [
              0.6666666666666666,
              "#ed7953"
             ],
             [
              0.7777777777777778,
              "#fb9f3a"
             ],
             [
              0.8888888888888888,
              "#fdca26"
             ],
             [
              1,
              "#f0f921"
             ]
            ],
            "type": "heatmap"
           }
          ],
          "heatmapgl": [
           {
            "colorbar": {
             "outlinewidth": 0,
             "ticks": ""
            },
            "colorscale": [
             [
              0,
              "#0d0887"
             ],
             [
              0.1111111111111111,
              "#46039f"
             ],
             [
              0.2222222222222222,
              "#7201a8"
             ],
             [
              0.3333333333333333,
              "#9c179e"
             ],
             [
              0.4444444444444444,
              "#bd3786"
             ],
             [
              0.5555555555555556,
              "#d8576b"
             ],
             [
              0.6666666666666666,
              "#ed7953"
             ],
             [
              0.7777777777777778,
              "#fb9f3a"
             ],
             [
              0.8888888888888888,
              "#fdca26"
             ],
             [
              1,
              "#f0f921"
             ]
            ],
            "type": "heatmapgl"
           }
          ],
          "histogram": [
           {
            "marker": {
             "pattern": {
              "fillmode": "overlay",
              "size": 10,
              "solidity": 0.2
             }
            },
            "type": "histogram"
           }
          ],
          "histogram2d": [
           {
            "colorbar": {
             "outlinewidth": 0,
             "ticks": ""
            },
            "colorscale": [
             [
              0,
              "#0d0887"
             ],
             [
              0.1111111111111111,
              "#46039f"
             ],
             [
              0.2222222222222222,
              "#7201a8"
             ],
             [
              0.3333333333333333,
              "#9c179e"
             ],
             [
              0.4444444444444444,
              "#bd3786"
             ],
             [
              0.5555555555555556,
              "#d8576b"
             ],
             [
              0.6666666666666666,
              "#ed7953"
             ],
             [
              0.7777777777777778,
              "#fb9f3a"
             ],
             [
              0.8888888888888888,
              "#fdca26"
             ],
             [
              1,
              "#f0f921"
             ]
            ],
            "type": "histogram2d"
           }
          ],
          "histogram2dcontour": [
           {
            "colorbar": {
             "outlinewidth": 0,
             "ticks": ""
            },
            "colorscale": [
             [
              0,
              "#0d0887"
             ],
             [
              0.1111111111111111,
              "#46039f"
             ],
             [
              0.2222222222222222,
              "#7201a8"
             ],
             [
              0.3333333333333333,
              "#9c179e"
             ],
             [
              0.4444444444444444,
              "#bd3786"
             ],
             [
              0.5555555555555556,
              "#d8576b"
             ],
             [
              0.6666666666666666,
              "#ed7953"
             ],
             [
              0.7777777777777778,
              "#fb9f3a"
             ],
             [
              0.8888888888888888,
              "#fdca26"
             ],
             [
              1,
              "#f0f921"
             ]
            ],
            "type": "histogram2dcontour"
           }
          ],
          "mesh3d": [
           {
            "colorbar": {
             "outlinewidth": 0,
             "ticks": ""
            },
            "type": "mesh3d"
           }
          ],
          "parcoords": [
           {
            "line": {
             "colorbar": {
              "outlinewidth": 0,
              "ticks": ""
             }
            },
            "type": "parcoords"
           }
          ],
          "pie": [
           {
            "automargin": true,
            "type": "pie"
           }
          ],
          "scatter": [
           {
            "fillpattern": {
             "fillmode": "overlay",
             "size": 10,
             "solidity": 0.2
            },
            "type": "scatter"
           }
          ],
          "scatter3d": [
           {
            "line": {
             "colorbar": {
              "outlinewidth": 0,
              "ticks": ""
             }
            },
            "marker": {
             "colorbar": {
              "outlinewidth": 0,
              "ticks": ""
             }
            },
            "type": "scatter3d"
           }
          ],
          "scattercarpet": [
           {
            "marker": {
             "colorbar": {
              "outlinewidth": 0,
              "ticks": ""
             }
            },
            "type": "scattercarpet"
           }
          ],
          "scattergeo": [
           {
            "marker": {
             "colorbar": {
              "outlinewidth": 0,
              "ticks": ""
             }
            },
            "type": "scattergeo"
           }
          ],
          "scattergl": [
           {
            "marker": {
             "colorbar": {
              "outlinewidth": 0,
              "ticks": ""
             }
            },
            "type": "scattergl"
           }
          ],
          "scattermapbox": [
           {
            "marker": {
             "colorbar": {
              "outlinewidth": 0,
              "ticks": ""
             }
            },
            "type": "scattermapbox"
           }
          ],
          "scatterpolar": [
           {
            "marker": {
             "colorbar": {
              "outlinewidth": 0,
              "ticks": ""
             }
            },
            "type": "scatterpolar"
           }
          ],
          "scatterpolargl": [
           {
            "marker": {
             "colorbar": {
              "outlinewidth": 0,
              "ticks": ""
             }
            },
            "type": "scatterpolargl"
           }
          ],
          "scatterternary": [
           {
            "marker": {
             "colorbar": {
              "outlinewidth": 0,
              "ticks": ""
             }
            },
            "type": "scatterternary"
           }
          ],
          "surface": [
           {
            "colorbar": {
             "outlinewidth": 0,
             "ticks": ""
            },
            "colorscale": [
             [
              0,
              "#0d0887"
             ],
             [
              0.1111111111111111,
              "#46039f"
             ],
             [
              0.2222222222222222,
              "#7201a8"
             ],
             [
              0.3333333333333333,
              "#9c179e"
             ],
             [
              0.4444444444444444,
              "#bd3786"
             ],
             [
              0.5555555555555556,
              "#d8576b"
             ],
             [
              0.6666666666666666,
              "#ed7953"
             ],
             [
              0.7777777777777778,
              "#fb9f3a"
             ],
             [
              0.8888888888888888,
              "#fdca26"
             ],
             [
              1,
              "#f0f921"
             ]
            ],
            "type": "surface"
           }
          ],
          "table": [
           {
            "cells": {
             "fill": {
              "color": "#EBF0F8"
             },
             "line": {
              "color": "white"
             }
            },
            "header": {
             "fill": {
              "color": "#C8D4E3"
             },
             "line": {
              "color": "white"
             }
            },
            "type": "table"
           }
          ]
         },
         "layout": {
          "annotationdefaults": {
           "arrowcolor": "#2a3f5f",
           "arrowhead": 0,
           "arrowwidth": 1
          },
          "autotypenumbers": "strict",
          "coloraxis": {
           "colorbar": {
            "outlinewidth": 0,
            "ticks": ""
           }
          },
          "colorscale": {
           "diverging": [
            [
             0,
             "#8e0152"
            ],
            [
             0.1,
             "#c51b7d"
            ],
            [
             0.2,
             "#de77ae"
            ],
            [
             0.3,
             "#f1b6da"
            ],
            [
             0.4,
             "#fde0ef"
            ],
            [
             0.5,
             "#f7f7f7"
            ],
            [
             0.6,
             "#e6f5d0"
            ],
            [
             0.7,
             "#b8e186"
            ],
            [
             0.8,
             "#7fbc41"
            ],
            [
             0.9,
             "#4d9221"
            ],
            [
             1,
             "#276419"
            ]
           ],
           "sequential": [
            [
             0,
             "#0d0887"
            ],
            [
             0.1111111111111111,
             "#46039f"
            ],
            [
             0.2222222222222222,
             "#7201a8"
            ],
            [
             0.3333333333333333,
             "#9c179e"
            ],
            [
             0.4444444444444444,
             "#bd3786"
            ],
            [
             0.5555555555555556,
             "#d8576b"
            ],
            [
             0.6666666666666666,
             "#ed7953"
            ],
            [
             0.7777777777777778,
             "#fb9f3a"
            ],
            [
             0.8888888888888888,
             "#fdca26"
            ],
            [
             1,
             "#f0f921"
            ]
           ],
           "sequentialminus": [
            [
             0,
             "#0d0887"
            ],
            [
             0.1111111111111111,
             "#46039f"
            ],
            [
             0.2222222222222222,
             "#7201a8"
            ],
            [
             0.3333333333333333,
             "#9c179e"
            ],
            [
             0.4444444444444444,
             "#bd3786"
            ],
            [
             0.5555555555555556,
             "#d8576b"
            ],
            [
             0.6666666666666666,
             "#ed7953"
            ],
            [
             0.7777777777777778,
             "#fb9f3a"
            ],
            [
             0.8888888888888888,
             "#fdca26"
            ],
            [
             1,
             "#f0f921"
            ]
           ]
          },
          "colorway": [
           "#636efa",
           "#EF553B",
           "#00cc96",
           "#ab63fa",
           "#FFA15A",
           "#19d3f3",
           "#FF6692",
           "#B6E880",
           "#FF97FF",
           "#FECB52"
          ],
          "font": {
           "color": "#2a3f5f"
          },
          "geo": {
           "bgcolor": "white",
           "lakecolor": "white",
           "landcolor": "#E5ECF6",
           "showlakes": true,
           "showland": true,
           "subunitcolor": "white"
          },
          "hoverlabel": {
           "align": "left"
          },
          "hovermode": "closest",
          "mapbox": {
           "style": "light"
          },
          "paper_bgcolor": "white",
          "plot_bgcolor": "#E5ECF6",
          "polar": {
           "angularaxis": {
            "gridcolor": "white",
            "linecolor": "white",
            "ticks": ""
           },
           "bgcolor": "#E5ECF6",
           "radialaxis": {
            "gridcolor": "white",
            "linecolor": "white",
            "ticks": ""
           }
          },
          "scene": {
           "xaxis": {
            "backgroundcolor": "#E5ECF6",
            "gridcolor": "white",
            "gridwidth": 2,
            "linecolor": "white",
            "showbackground": true,
            "ticks": "",
            "zerolinecolor": "white"
           },
           "yaxis": {
            "backgroundcolor": "#E5ECF6",
            "gridcolor": "white",
            "gridwidth": 2,
            "linecolor": "white",
            "showbackground": true,
            "ticks": "",
            "zerolinecolor": "white"
           },
           "zaxis": {
            "backgroundcolor": "#E5ECF6",
            "gridcolor": "white",
            "gridwidth": 2,
            "linecolor": "white",
            "showbackground": true,
            "ticks": "",
            "zerolinecolor": "white"
           }
          },
          "shapedefaults": {
           "line": {
            "color": "#2a3f5f"
           }
          },
          "ternary": {
           "aaxis": {
            "gridcolor": "white",
            "linecolor": "white",
            "ticks": ""
           },
           "baxis": {
            "gridcolor": "white",
            "linecolor": "white",
            "ticks": ""
           },
           "bgcolor": "#E5ECF6",
           "caxis": {
            "gridcolor": "white",
            "linecolor": "white",
            "ticks": ""
           }
          },
          "title": {
           "x": 0.05
          },
          "xaxis": {
           "automargin": true,
           "gridcolor": "white",
           "linecolor": "white",
           "ticks": "",
           "title": {
            "standoff": 15
           },
           "zerolinecolor": "white",
           "zerolinewidth": 2
          },
          "yaxis": {
           "automargin": true,
           "gridcolor": "white",
           "linecolor": "white",
           "ticks": "",
           "title": {
            "standoff": 15
           },
           "zerolinecolor": "white",
           "zerolinewidth": 2
          }
         }
        },
        "title": {
         "text": "Linear Model - Best Feature Combinations by Feature Types"
        },
        "width": 1100,
        "xaxis": {
         "anchor": "y",
         "autorange": true,
         "domain": [
          0,
          1
         ],
         "range": [
          -0.5,
          4.5
         ],
         "showticklabels": false,
         "title": {
          "text": "feature combinations"
         },
         "type": "category"
        },
        "yaxis": {
         "anchor": "x",
         "autorange": true,
         "domain": [
          0,
          1
         ],
         "range": [
          0.22863881357021848,
          0.30433776699607873
         ],
         "title": {
          "text": "rmse scores"
         },
         "type": "linear"
        }
       }
      }
     },
     "metadata": {},
     "output_type": "display_data"
    }
   ],
   "source": [
    "fig = px.box(df_metrics[(df_metrics['features'].isin(x)) & (df_metrics['model'] == 'lr')], x='features',\n",
    "             y='rmse_scores', title='RMSE Boxplot of Best Feature Combinations', color='f_str')\n",
    "fig.update_layout(height=800, width=1100,\n",
    "                  title_text=\"Linear Model - Best Feature Combinations by Feature Types\",\n",
    "                  xaxis_title=\"feature combinations\", yaxis_title=\"rmse scores\")\n",
    "fig.update_xaxes(showticklabels=False)\n",
    "fig.show()"
   ]
  },
  {
   "cell_type": "code",
   "execution_count": 243,
   "id": "35326dbd-f387-460a-ba53-dfe233487e90",
   "metadata": {},
   "outputs": [],
   "source": [
    "x_query_f = df_agg_metrics[(df_agg_metrics['query_f_only']==True) & (df_agg_metrics['model'] == 'lr')].sort_values(by='mean_rmse')['features'].head(3).values\n",
    "x_neural_f = df_agg_metrics[(df_agg_metrics['neural_f_only']==True) & (df_agg_metrics['model'] == 'lr')].sort_values(by='mean_rmse')['features'].head(3).values\n",
    "x_keyword_f = df_agg_metrics[(df_agg_metrics['keyword_f_only']==True) & (df_agg_metrics['model'] == 'lr')].sort_values(by='mean_rmse')['features'].head(3).values\n",
    "\n",
    "x_all_f = df_agg_metrics[df_agg_metrics['model'] == 'lr'].sort_values(by='mean_rmse')['features'].head(3).values\n",
    "\n",
    "x = np.concatenate([x_query_f, x_neural_f, x_keyword_f, x_all_f])"
   ]
  },
  {
   "cell_type": "code",
   "execution_count": 244,
   "id": "bff7a10d-6953-46ec-85f7-8e136ed7f4e1",
   "metadata": {},
   "outputs": [
    {
     "data": {
      "application/vnd.plotly.v1+json": {
       "config": {
        "plotlyServerURL": "https://plot.ly"
       },
       "data": [
        {
         "alignmentgroup": "True",
         "hovertemplate": "f_str=q<br>features=%{x}<br>rmse_scores=%{y}<extra></extra>",
         "legendgroup": "q",
         "marker": {
          "color": "#636efa"
         },
         "name": "q",
         "notched": false,
         "offsetgroup": "q",
         "orientation": "v",
         "showlegend": true,
         "type": "box",
         "x": [
          "f_1_num_of_terms,f_4_has_special_char",
          "f_1_num_of_terms,f_4_has_special_char",
          "f_1_num_of_terms,f_4_has_special_char",
          "f_1_num_of_terms,f_4_has_special_char",
          "f_1_num_of_terms,f_4_has_special_char",
          "f_2_query_length,f_4_has_special_char",
          "f_2_query_length,f_4_has_special_char",
          "f_2_query_length,f_4_has_special_char",
          "f_2_query_length,f_4_has_special_char",
          "f_2_query_length,f_4_has_special_char",
          "f_1_num_of_terms,f_4_has_special_char",
          "f_1_num_of_terms,f_4_has_special_char",
          "f_1_num_of_terms,f_4_has_special_char",
          "f_1_num_of_terms,f_4_has_special_char",
          "f_1_num_of_terms,f_4_has_special_char",
          "f_2_query_length,f_4_has_special_char",
          "f_2_query_length,f_4_has_special_char",
          "f_2_query_length,f_4_has_special_char",
          "f_2_query_length,f_4_has_special_char",
          "f_2_query_length,f_4_has_special_char"
         ],
         "x0": " ",
         "xaxis": "x",
         "y": [
          0.2380943195719862,
          0.2467111882070757,
          0.2917186089212167,
          0.26441588192605586,
          0.30049504953517253,
          0.23871679542310673,
          0.24798321913262755,
          0.29162927036716046,
          0.2647904620235727,
          0.3015797276153906,
          0.23686352022292567,
          0.24680889033604894,
          0.29159126639620236,
          0.2625249380847129,
          0.30057701600626,
          0.2376202981599105,
          0.24808485087643026,
          0.291532359101351,
          0.2629451941083541,
          0.3016619600337012
         ],
         "y0": " ",
         "yaxis": "y"
        },
        {
         "alignmentgroup": "True",
         "hovertemplate": "f_str=k<br>features=%{x}<br>rmse_scores=%{y}<extra></extra>",
         "legendgroup": "k",
         "marker": {
          "color": "#EF553B"
         },
         "name": "k",
         "notched": false,
         "offsetgroup": "k",
         "orientation": "v",
         "showlegend": true,
         "type": "box",
         "x": [
          "f_5_num_results,f_7_sum_title_scores",
          "f_5_num_results,f_7_sum_title_scores",
          "f_5_num_results,f_7_sum_title_scores",
          "f_5_num_results,f_7_sum_title_scores",
          "f_5_num_results,f_7_sum_title_scores",
          "f_5_num_results,f_6_max_title_score,f_7_sum_title_scores",
          "f_5_num_results,f_6_max_title_score,f_7_sum_title_scores",
          "f_5_num_results,f_6_max_title_score,f_7_sum_title_scores",
          "f_5_num_results,f_6_max_title_score,f_7_sum_title_scores",
          "f_5_num_results,f_6_max_title_score,f_7_sum_title_scores",
          "f_5_num_results,f_7_sum_title_scores",
          "f_5_num_results,f_7_sum_title_scores",
          "f_5_num_results,f_7_sum_title_scores",
          "f_5_num_results,f_7_sum_title_scores",
          "f_5_num_results,f_7_sum_title_scores",
          "f_5_num_results,f_6_max_title_score,f_7_sum_title_scores",
          "f_5_num_results,f_6_max_title_score,f_7_sum_title_scores",
          "f_5_num_results,f_6_max_title_score,f_7_sum_title_scores",
          "f_5_num_results,f_6_max_title_score,f_7_sum_title_scores",
          "f_5_num_results,f_6_max_title_score,f_7_sum_title_scores"
         ],
         "x0": " ",
         "xaxis": "x",
         "y": [
          0.2370572732423524,
          0.24963544923824685,
          0.2818074277974931,
          0.26650075446516924,
          0.2941861032390608,
          0.2330577126987074,
          0.251122238506035,
          0.29427804446020367,
          0.26435028755171514,
          0.291992897455676,
          0.23700125051989318,
          0.2494615681387609,
          0.2818693773887348,
          0.2661367839697794,
          0.294275373513109,
          0.23423751138623847,
          0.25008265478156294,
          0.28817926166131186,
          0.26447470140986296,
          0.2924279179766669
         ],
         "y0": " ",
         "yaxis": "y"
        },
        {
         "alignmentgroup": "True",
         "hovertemplate": "f_str=n<br>features=%{x}<br>rmse_scores=%{y}<extra></extra>",
         "legendgroup": "n",
         "marker": {
          "color": "#00cc96"
         },
         "name": "n",
         "notched": false,
         "offsetgroup": "n",
         "orientation": "v",
         "showlegend": true,
         "type": "box",
         "x": [
          "f_8_max_semantic_score,f_9_avg_semantic_score",
          "f_8_max_semantic_score,f_9_avg_semantic_score",
          "f_8_max_semantic_score,f_9_avg_semantic_score",
          "f_8_max_semantic_score,f_9_avg_semantic_score",
          "f_8_max_semantic_score,f_9_avg_semantic_score",
          "f_8_max_semantic_score,f_9_avg_semantic_score",
          "f_8_max_semantic_score,f_9_avg_semantic_score",
          "f_8_max_semantic_score,f_9_avg_semantic_score",
          "f_8_max_semantic_score,f_9_avg_semantic_score",
          "f_8_max_semantic_score,f_9_avg_semantic_score"
         ],
         "x0": " ",
         "xaxis": "x",
         "y": [
          0.23725852049389543,
          0.24530943913832692,
          0.2919674433569741,
          0.26137829151630165,
          0.30542203248480343,
          0.23684959282898813,
          0.24625000399618774,
          0.29057801295440117,
          0.2616515875190716,
          0.30136989617726867
         ],
         "y0": " ",
         "yaxis": "y"
        },
        {
         "alignmentgroup": "True",
         "hovertemplate": "f_str=knq<br>features=%{x}<br>rmse_scores=%{y}<extra></extra>",
         "legendgroup": "knq",
         "marker": {
          "color": "#ab63fa"
         },
         "name": "knq",
         "notched": false,
         "offsetgroup": "knq",
         "orientation": "v",
         "showlegend": true,
         "type": "box",
         "x": [
          "f_1_num_of_terms,f_5_num_results,f_9_avg_semantic_score",
          "f_1_num_of_terms,f_5_num_results,f_9_avg_semantic_score",
          "f_1_num_of_terms,f_5_num_results,f_9_avg_semantic_score",
          "f_1_num_of_terms,f_5_num_results,f_9_avg_semantic_score",
          "f_1_num_of_terms,f_5_num_results,f_9_avg_semantic_score",
          "f_1_num_of_terms,f_5_num_results,f_7_sum_title_scores,f_9_avg_semantic_score",
          "f_1_num_of_terms,f_5_num_results,f_7_sum_title_scores,f_9_avg_semantic_score",
          "f_1_num_of_terms,f_5_num_results,f_7_sum_title_scores,f_9_avg_semantic_score",
          "f_1_num_of_terms,f_5_num_results,f_7_sum_title_scores,f_9_avg_semantic_score",
          "f_1_num_of_terms,f_5_num_results,f_7_sum_title_scores,f_9_avg_semantic_score",
          "f_1_num_of_terms,f_5_num_results,f_9_avg_semantic_score",
          "f_1_num_of_terms,f_5_num_results,f_9_avg_semantic_score",
          "f_1_num_of_terms,f_5_num_results,f_9_avg_semantic_score",
          "f_1_num_of_terms,f_5_num_results,f_9_avg_semantic_score",
          "f_1_num_of_terms,f_5_num_results,f_9_avg_semantic_score",
          "f_1_num_of_terms,f_5_num_results,f_7_sum_title_scores,f_9_avg_semantic_score",
          "f_1_num_of_terms,f_5_num_results,f_7_sum_title_scores,f_9_avg_semantic_score",
          "f_1_num_of_terms,f_5_num_results,f_7_sum_title_scores,f_9_avg_semantic_score",
          "f_1_num_of_terms,f_5_num_results,f_7_sum_title_scores,f_9_avg_semantic_score",
          "f_1_num_of_terms,f_5_num_results,f_7_sum_title_scores,f_9_avg_semantic_score"
         ],
         "x0": " ",
         "xaxis": "x",
         "y": [
          0.2336928737871511,
          0.24172921287269486,
          0.285003208179762,
          0.2574994969786711,
          0.3005528193247857,
          0.23242376124151148,
          0.2496926062395958,
          0.27739526871003345,
          0.26349280086261123,
          0.2937827469392923,
          0.23594780190179768,
          0.24487469615564042,
          0.28667423064884046,
          0.2559162197652336,
          0.29911148320368264,
          0.2341585305212535,
          0.2512280768462393,
          0.278344306123352,
          0.26319029401514465,
          0.2919164484217275
         ],
         "y0": " ",
         "yaxis": "y"
        }
       ],
       "layout": {
        "boxmode": "group",
        "height": 800,
        "legend": {
         "title": {
          "text": "f_str"
         },
         "tracegroupgap": 0
        },
        "template": {
         "data": {
          "bar": [
           {
            "error_x": {
             "color": "#2a3f5f"
            },
            "error_y": {
             "color": "#2a3f5f"
            },
            "marker": {
             "line": {
              "color": "#E5ECF6",
              "width": 0.5
             },
             "pattern": {
              "fillmode": "overlay",
              "size": 10,
              "solidity": 0.2
             }
            },
            "type": "bar"
           }
          ],
          "barpolar": [
           {
            "marker": {
             "line": {
              "color": "#E5ECF6",
              "width": 0.5
             },
             "pattern": {
              "fillmode": "overlay",
              "size": 10,
              "solidity": 0.2
             }
            },
            "type": "barpolar"
           }
          ],
          "carpet": [
           {
            "aaxis": {
             "endlinecolor": "#2a3f5f",
             "gridcolor": "white",
             "linecolor": "white",
             "minorgridcolor": "white",
             "startlinecolor": "#2a3f5f"
            },
            "baxis": {
             "endlinecolor": "#2a3f5f",
             "gridcolor": "white",
             "linecolor": "white",
             "minorgridcolor": "white",
             "startlinecolor": "#2a3f5f"
            },
            "type": "carpet"
           }
          ],
          "choropleth": [
           {
            "colorbar": {
             "outlinewidth": 0,
             "ticks": ""
            },
            "type": "choropleth"
           }
          ],
          "contour": [
           {
            "colorbar": {
             "outlinewidth": 0,
             "ticks": ""
            },
            "colorscale": [
             [
              0,
              "#0d0887"
             ],
             [
              0.1111111111111111,
              "#46039f"
             ],
             [
              0.2222222222222222,
              "#7201a8"
             ],
             [
              0.3333333333333333,
              "#9c179e"
             ],
             [
              0.4444444444444444,
              "#bd3786"
             ],
             [
              0.5555555555555556,
              "#d8576b"
             ],
             [
              0.6666666666666666,
              "#ed7953"
             ],
             [
              0.7777777777777778,
              "#fb9f3a"
             ],
             [
              0.8888888888888888,
              "#fdca26"
             ],
             [
              1,
              "#f0f921"
             ]
            ],
            "type": "contour"
           }
          ],
          "contourcarpet": [
           {
            "colorbar": {
             "outlinewidth": 0,
             "ticks": ""
            },
            "type": "contourcarpet"
           }
          ],
          "heatmap": [
           {
            "colorbar": {
             "outlinewidth": 0,
             "ticks": ""
            },
            "colorscale": [
             [
              0,
              "#0d0887"
             ],
             [
              0.1111111111111111,
              "#46039f"
             ],
             [
              0.2222222222222222,
              "#7201a8"
             ],
             [
              0.3333333333333333,
              "#9c179e"
             ],
             [
              0.4444444444444444,
              "#bd3786"
             ],
             [
              0.5555555555555556,
              "#d8576b"
             ],
             [
              0.6666666666666666,
              "#ed7953"
             ],
             [
              0.7777777777777778,
              "#fb9f3a"
             ],
             [
              0.8888888888888888,
              "#fdca26"
             ],
             [
              1,
              "#f0f921"
             ]
            ],
            "type": "heatmap"
           }
          ],
          "heatmapgl": [
           {
            "colorbar": {
             "outlinewidth": 0,
             "ticks": ""
            },
            "colorscale": [
             [
              0,
              "#0d0887"
             ],
             [
              0.1111111111111111,
              "#46039f"
             ],
             [
              0.2222222222222222,
              "#7201a8"
             ],
             [
              0.3333333333333333,
              "#9c179e"
             ],
             [
              0.4444444444444444,
              "#bd3786"
             ],
             [
              0.5555555555555556,
              "#d8576b"
             ],
             [
              0.6666666666666666,
              "#ed7953"
             ],
             [
              0.7777777777777778,
              "#fb9f3a"
             ],
             [
              0.8888888888888888,
              "#fdca26"
             ],
             [
              1,
              "#f0f921"
             ]
            ],
            "type": "heatmapgl"
           }
          ],
          "histogram": [
           {
            "marker": {
             "pattern": {
              "fillmode": "overlay",
              "size": 10,
              "solidity": 0.2
             }
            },
            "type": "histogram"
           }
          ],
          "histogram2d": [
           {
            "colorbar": {
             "outlinewidth": 0,
             "ticks": ""
            },
            "colorscale": [
             [
              0,
              "#0d0887"
             ],
             [
              0.1111111111111111,
              "#46039f"
             ],
             [
              0.2222222222222222,
              "#7201a8"
             ],
             [
              0.3333333333333333,
              "#9c179e"
             ],
             [
              0.4444444444444444,
              "#bd3786"
             ],
             [
              0.5555555555555556,
              "#d8576b"
             ],
             [
              0.6666666666666666,
              "#ed7953"
             ],
             [
              0.7777777777777778,
              "#fb9f3a"
             ],
             [
              0.8888888888888888,
              "#fdca26"
             ],
             [
              1,
              "#f0f921"
             ]
            ],
            "type": "histogram2d"
           }
          ],
          "histogram2dcontour": [
           {
            "colorbar": {
             "outlinewidth": 0,
             "ticks": ""
            },
            "colorscale": [
             [
              0,
              "#0d0887"
             ],
             [
              0.1111111111111111,
              "#46039f"
             ],
             [
              0.2222222222222222,
              "#7201a8"
             ],
             [
              0.3333333333333333,
              "#9c179e"
             ],
             [
              0.4444444444444444,
              "#bd3786"
             ],
             [
              0.5555555555555556,
              "#d8576b"
             ],
             [
              0.6666666666666666,
              "#ed7953"
             ],
             [
              0.7777777777777778,
              "#fb9f3a"
             ],
             [
              0.8888888888888888,
              "#fdca26"
             ],
             [
              1,
              "#f0f921"
             ]
            ],
            "type": "histogram2dcontour"
           }
          ],
          "mesh3d": [
           {
            "colorbar": {
             "outlinewidth": 0,
             "ticks": ""
            },
            "type": "mesh3d"
           }
          ],
          "parcoords": [
           {
            "line": {
             "colorbar": {
              "outlinewidth": 0,
              "ticks": ""
             }
            },
            "type": "parcoords"
           }
          ],
          "pie": [
           {
            "automargin": true,
            "type": "pie"
           }
          ],
          "scatter": [
           {
            "fillpattern": {
             "fillmode": "overlay",
             "size": 10,
             "solidity": 0.2
            },
            "type": "scatter"
           }
          ],
          "scatter3d": [
           {
            "line": {
             "colorbar": {
              "outlinewidth": 0,
              "ticks": ""
             }
            },
            "marker": {
             "colorbar": {
              "outlinewidth": 0,
              "ticks": ""
             }
            },
            "type": "scatter3d"
           }
          ],
          "scattercarpet": [
           {
            "marker": {
             "colorbar": {
              "outlinewidth": 0,
              "ticks": ""
             }
            },
            "type": "scattercarpet"
           }
          ],
          "scattergeo": [
           {
            "marker": {
             "colorbar": {
              "outlinewidth": 0,
              "ticks": ""
             }
            },
            "type": "scattergeo"
           }
          ],
          "scattergl": [
           {
            "marker": {
             "colorbar": {
              "outlinewidth": 0,
              "ticks": ""
             }
            },
            "type": "scattergl"
           }
          ],
          "scattermapbox": [
           {
            "marker": {
             "colorbar": {
              "outlinewidth": 0,
              "ticks": ""
             }
            },
            "type": "scattermapbox"
           }
          ],
          "scatterpolar": [
           {
            "marker": {
             "colorbar": {
              "outlinewidth": 0,
              "ticks": ""
             }
            },
            "type": "scatterpolar"
           }
          ],
          "scatterpolargl": [
           {
            "marker": {
             "colorbar": {
              "outlinewidth": 0,
              "ticks": ""
             }
            },
            "type": "scatterpolargl"
           }
          ],
          "scatterternary": [
           {
            "marker": {
             "colorbar": {
              "outlinewidth": 0,
              "ticks": ""
             }
            },
            "type": "scatterternary"
           }
          ],
          "surface": [
           {
            "colorbar": {
             "outlinewidth": 0,
             "ticks": ""
            },
            "colorscale": [
             [
              0,
              "#0d0887"
             ],
             [
              0.1111111111111111,
              "#46039f"
             ],
             [
              0.2222222222222222,
              "#7201a8"
             ],
             [
              0.3333333333333333,
              "#9c179e"
             ],
             [
              0.4444444444444444,
              "#bd3786"
             ],
             [
              0.5555555555555556,
              "#d8576b"
             ],
             [
              0.6666666666666666,
              "#ed7953"
             ],
             [
              0.7777777777777778,
              "#fb9f3a"
             ],
             [
              0.8888888888888888,
              "#fdca26"
             ],
             [
              1,
              "#f0f921"
             ]
            ],
            "type": "surface"
           }
          ],
          "table": [
           {
            "cells": {
             "fill": {
              "color": "#EBF0F8"
             },
             "line": {
              "color": "white"
             }
            },
            "header": {
             "fill": {
              "color": "#C8D4E3"
             },
             "line": {
              "color": "white"
             }
            },
            "type": "table"
           }
          ]
         },
         "layout": {
          "annotationdefaults": {
           "arrowcolor": "#2a3f5f",
           "arrowhead": 0,
           "arrowwidth": 1
          },
          "autotypenumbers": "strict",
          "coloraxis": {
           "colorbar": {
            "outlinewidth": 0,
            "ticks": ""
           }
          },
          "colorscale": {
           "diverging": [
            [
             0,
             "#8e0152"
            ],
            [
             0.1,
             "#c51b7d"
            ],
            [
             0.2,
             "#de77ae"
            ],
            [
             0.3,
             "#f1b6da"
            ],
            [
             0.4,
             "#fde0ef"
            ],
            [
             0.5,
             "#f7f7f7"
            ],
            [
             0.6,
             "#e6f5d0"
            ],
            [
             0.7,
             "#b8e186"
            ],
            [
             0.8,
             "#7fbc41"
            ],
            [
             0.9,
             "#4d9221"
            ],
            [
             1,
             "#276419"
            ]
           ],
           "sequential": [
            [
             0,
             "#0d0887"
            ],
            [
             0.1111111111111111,
             "#46039f"
            ],
            [
             0.2222222222222222,
             "#7201a8"
            ],
            [
             0.3333333333333333,
             "#9c179e"
            ],
            [
             0.4444444444444444,
             "#bd3786"
            ],
            [
             0.5555555555555556,
             "#d8576b"
            ],
            [
             0.6666666666666666,
             "#ed7953"
            ],
            [
             0.7777777777777778,
             "#fb9f3a"
            ],
            [
             0.8888888888888888,
             "#fdca26"
            ],
            [
             1,
             "#f0f921"
            ]
           ],
           "sequentialminus": [
            [
             0,
             "#0d0887"
            ],
            [
             0.1111111111111111,
             "#46039f"
            ],
            [
             0.2222222222222222,
             "#7201a8"
            ],
            [
             0.3333333333333333,
             "#9c179e"
            ],
            [
             0.4444444444444444,
             "#bd3786"
            ],
            [
             0.5555555555555556,
             "#d8576b"
            ],
            [
             0.6666666666666666,
             "#ed7953"
            ],
            [
             0.7777777777777778,
             "#fb9f3a"
            ],
            [
             0.8888888888888888,
             "#fdca26"
            ],
            [
             1,
             "#f0f921"
            ]
           ]
          },
          "colorway": [
           "#636efa",
           "#EF553B",
           "#00cc96",
           "#ab63fa",
           "#FFA15A",
           "#19d3f3",
           "#FF6692",
           "#B6E880",
           "#FF97FF",
           "#FECB52"
          ],
          "font": {
           "color": "#2a3f5f"
          },
          "geo": {
           "bgcolor": "white",
           "lakecolor": "white",
           "landcolor": "#E5ECF6",
           "showlakes": true,
           "showland": true,
           "subunitcolor": "white"
          },
          "hoverlabel": {
           "align": "left"
          },
          "hovermode": "closest",
          "mapbox": {
           "style": "light"
          },
          "paper_bgcolor": "white",
          "plot_bgcolor": "#E5ECF6",
          "polar": {
           "angularaxis": {
            "gridcolor": "white",
            "linecolor": "white",
            "ticks": ""
           },
           "bgcolor": "#E5ECF6",
           "radialaxis": {
            "gridcolor": "white",
            "linecolor": "white",
            "ticks": ""
           }
          },
          "scene": {
           "xaxis": {
            "backgroundcolor": "#E5ECF6",
            "gridcolor": "white",
            "gridwidth": 2,
            "linecolor": "white",
            "showbackground": true,
            "ticks": "",
            "zerolinecolor": "white"
           },
           "yaxis": {
            "backgroundcolor": "#E5ECF6",
            "gridcolor": "white",
            "gridwidth": 2,
            "linecolor": "white",
            "showbackground": true,
            "ticks": "",
            "zerolinecolor": "white"
           },
           "zaxis": {
            "backgroundcolor": "#E5ECF6",
            "gridcolor": "white",
            "gridwidth": 2,
            "linecolor": "white",
            "showbackground": true,
            "ticks": "",
            "zerolinecolor": "white"
           }
          },
          "shapedefaults": {
           "line": {
            "color": "#2a3f5f"
           }
          },
          "ternary": {
           "aaxis": {
            "gridcolor": "white",
            "linecolor": "white",
            "ticks": ""
           },
           "baxis": {
            "gridcolor": "white",
            "linecolor": "white",
            "ticks": ""
           },
           "bgcolor": "#E5ECF6",
           "caxis": {
            "gridcolor": "white",
            "linecolor": "white",
            "ticks": ""
           }
          },
          "title": {
           "x": 0.05
          },
          "xaxis": {
           "automargin": true,
           "gridcolor": "white",
           "linecolor": "white",
           "ticks": "",
           "title": {
            "standoff": 15
           },
           "zerolinecolor": "white",
           "zerolinewidth": 2
          },
          "yaxis": {
           "automargin": true,
           "gridcolor": "white",
           "linecolor": "white",
           "ticks": "",
           "title": {
            "standoff": 15
           },
           "zerolinecolor": "white",
           "zerolinewidth": 2
          }
         }
        },
        "title": {
         "text": "Linear Model - Best Feature Combinations within Feature Groups"
        },
        "width": 1100,
        "xaxis": {
         "anchor": "y",
         "autorange": true,
         "domain": [
          0,
          1
         ],
         "range": [
          -0.5,
          6.5
         ],
         "showticklabels": false,
         "title": {
          "text": "feature combinations"
         },
         "type": "category"
        },
        "yaxis": {
         "anchor": "x",
         "autorange": true,
         "domain": [
          0,
          1
         ],
         "range": [
          0.22836830172799527,
          0.30947749199831964
         ],
         "title": {
          "text": "rmse scores"
         },
         "type": "linear"
        }
       }
      }
     },
     "metadata": {},
     "output_type": "display_data"
    }
   ],
   "source": [
    "fig = px.box(df_metrics[(df_metrics['features'].isin(x)) & (df_metrics['model'] == 'lr')], x='features',\n",
    "             y='rmse_scores', title='RMSE Boxplot of Best Feature Combinations', color='f_str')\n",
    "fig.update_layout(height=800, width=1100,\n",
    "                  title_text=\"Linear Model - Best Feature Combinations within Feature Groups\",\n",
    "                  xaxis_title=\"feature combinations\", yaxis_title=\"rmse scores\")\n",
    "fig.update_xaxes(showticklabels=False)\n",
    "fig.show()"
   ]
  },
  {
   "cell_type": "markdown",
   "id": "1cc7b8a5-4d4e-4ec5-a115-2d1f5a40ef5a",
   "metadata": {},
   "source": [
    "### Random Forest Model: Best Feature Combination Grouped by Feature types "
   ]
  },
  {
   "cell_type": "code",
   "execution_count": 245,
   "id": "300ee6b8-5444-4bf6-8a99-5c44eb8f4004",
   "metadata": {},
   "outputs": [],
   "source": [
    "# Select the best three models that contain query features, neural features, keyword features and the best overall feature combinations\n",
    "x_query_f = df_agg_metrics[(df_agg_metrics['query_f']==True) & (df_agg_metrics['model'] == 'rf')].sort_values(by='mean_rmse')['features'].head(5).values\n",
    "x_neural_f = df_agg_metrics[(df_agg_metrics['neural_f']==True) & (df_agg_metrics['model'] == 'rf')].sort_values(by='mean_rmse')['features'].head(5).values\n",
    "x_keyword_f = df_agg_metrics[(df_agg_metrics['keyword_f']==True) & (df_agg_metrics['model'] == 'rf')].sort_values(by='mean_rmse')['features'].head(5).values\n",
    "\n",
    "x_all_f = df_agg_metrics[df_agg_metrics['model'] == 'rf'].sort_values(by='mean_rmse')['features'].head(5).values\n",
    "\n",
    "x = np.concatenate([x_query_f, x_neural_f, x_keyword_f, x_all_f])"
   ]
  },
  {
   "cell_type": "code",
   "execution_count": 246,
   "id": "62b6828d-8cc3-412b-83bc-583bbf6c35df",
   "metadata": {},
   "outputs": [
    {
     "data": {
      "application/vnd.plotly.v1+json": {
       "config": {
        "plotlyServerURL": "https://plot.ly"
       },
       "data": [
        {
         "alignmentgroup": "True",
         "hovertemplate": "f_str=kq<br>features=%{x}<br>rmse_scores=%{y}<extra></extra>",
         "legendgroup": "kq",
         "marker": {
          "color": "#636efa"
         },
         "name": "kq",
         "notched": false,
         "offsetgroup": "kq",
         "orientation": "v",
         "showlegend": true,
         "type": "box",
         "x": [
          "f_2_query_length,f_5_num_results",
          "f_2_query_length,f_5_num_results",
          "f_2_query_length,f_5_num_results",
          "f_2_query_length,f_5_num_results",
          "f_2_query_length,f_5_num_results",
          "f_4_has_special_char,f_5_num_results",
          "f_4_has_special_char,f_5_num_results",
          "f_4_has_special_char,f_5_num_results",
          "f_4_has_special_char,f_5_num_results",
          "f_4_has_special_char,f_5_num_results",
          "f_2_query_length,f_4_has_special_char,f_5_num_results",
          "f_2_query_length,f_4_has_special_char,f_5_num_results",
          "f_2_query_length,f_4_has_special_char,f_5_num_results",
          "f_2_query_length,f_4_has_special_char,f_5_num_results",
          "f_2_query_length,f_4_has_special_char,f_5_num_results",
          "f_1_num_of_terms,f_2_query_length,f_3_has_numbers,f_4_has_special_char,f_5_num_results",
          "f_1_num_of_terms,f_2_query_length,f_3_has_numbers,f_4_has_special_char,f_5_num_results",
          "f_1_num_of_terms,f_2_query_length,f_3_has_numbers,f_4_has_special_char,f_5_num_results",
          "f_1_num_of_terms,f_2_query_length,f_3_has_numbers,f_4_has_special_char,f_5_num_results",
          "f_1_num_of_terms,f_2_query_length,f_3_has_numbers,f_4_has_special_char,f_5_num_results",
          "f_2_query_length,f_5_num_results",
          "f_2_query_length,f_5_num_results",
          "f_2_query_length,f_5_num_results",
          "f_2_query_length,f_5_num_results",
          "f_2_query_length,f_5_num_results",
          "f_4_has_special_char,f_5_num_results",
          "f_4_has_special_char,f_5_num_results",
          "f_4_has_special_char,f_5_num_results",
          "f_4_has_special_char,f_5_num_results",
          "f_4_has_special_char,f_5_num_results",
          "f_2_query_length,f_4_has_special_char,f_5_num_results",
          "f_2_query_length,f_4_has_special_char,f_5_num_results",
          "f_2_query_length,f_4_has_special_char,f_5_num_results",
          "f_2_query_length,f_4_has_special_char,f_5_num_results",
          "f_2_query_length,f_4_has_special_char,f_5_num_results",
          "f_1_num_of_terms,f_2_query_length,f_3_has_numbers,f_4_has_special_char,f_5_num_results",
          "f_1_num_of_terms,f_2_query_length,f_3_has_numbers,f_4_has_special_char,f_5_num_results",
          "f_1_num_of_terms,f_2_query_length,f_3_has_numbers,f_4_has_special_char,f_5_num_results",
          "f_1_num_of_terms,f_2_query_length,f_3_has_numbers,f_4_has_special_char,f_5_num_results",
          "f_1_num_of_terms,f_2_query_length,f_3_has_numbers,f_4_has_special_char,f_5_num_results"
         ],
         "x0": " ",
         "xaxis": "x",
         "y": [
          0.25648030984393655,
          0.2964535008694917,
          0.2863136764377651,
          0.2949058212436664,
          0.3140220645587952,
          0.2676122858791722,
          0.3038236712453998,
          0.2787592233953798,
          0.3074499241186333,
          0.288256801853002,
          0.25779070293413286,
          0.2966976090979575,
          0.2866157258965081,
          0.2947678049282556,
          0.31357749479781866,
          0.26506013671825013,
          0.2974779579646698,
          0.26921352341967947,
          0.2809084489058074,
          0.2883867463058467,
          0.23512388344113366,
          0.2538248245492328,
          0.2715767375527165,
          0.2519658262504619,
          0.2771263038779177,
          0.23020893425257027,
          0.25696395243491194,
          0.2666196318130772,
          0.2548169823694712,
          0.2716093694403801,
          0.23456284914445694,
          0.25254943113996753,
          0.2742984478562216,
          0.25390656653221677,
          0.2789220065975264,
          0.2354640539125436,
          0.25661720039216945,
          0.27481569070617134,
          0.2511231908423433,
          0.2772464959406791
         ],
         "y0": " ",
         "yaxis": "y"
        },
        {
         "alignmentgroup": "True",
         "hovertemplate": "f_str=kn<br>features=%{x}<br>rmse_scores=%{y}<extra></extra>",
         "legendgroup": "kn",
         "marker": {
          "color": "#EF553B"
         },
         "name": "kn",
         "notched": false,
         "offsetgroup": "kn",
         "orientation": "v",
         "showlegend": true,
         "type": "box",
         "x": [
          "f_5_num_results,f_9_avg_semantic_score",
          "f_5_num_results,f_9_avg_semantic_score",
          "f_5_num_results,f_9_avg_semantic_score",
          "f_5_num_results,f_9_avg_semantic_score",
          "f_5_num_results,f_9_avg_semantic_score",
          "f_5_num_results,f_9_avg_semantic_score",
          "f_5_num_results,f_9_avg_semantic_score",
          "f_5_num_results,f_9_avg_semantic_score",
          "f_5_num_results,f_9_avg_semantic_score",
          "f_5_num_results,f_9_avg_semantic_score"
         ],
         "x0": " ",
         "xaxis": "x",
         "y": [
          0.24394122242868257,
          0.29155205367138126,
          0.2977978844787182,
          0.27209355008893543,
          0.3248158247376503,
          0.22929777055521142,
          0.2553255371710507,
          0.2722468678109894,
          0.250381373683582,
          0.29125763715305897
         ],
         "y0": " ",
         "yaxis": "y"
        },
        {
         "alignmentgroup": "True",
         "hovertemplate": "f_str=knq<br>features=%{x}<br>rmse_scores=%{y}<extra></extra>",
         "legendgroup": "knq",
         "marker": {
          "color": "#00cc96"
         },
         "name": "knq",
         "notched": false,
         "offsetgroup": "knq",
         "orientation": "v",
         "showlegend": true,
         "type": "box",
         "x": [
          "f_4_has_special_char,f_5_num_results,f_8_max_semantic_score",
          "f_4_has_special_char,f_5_num_results,f_8_max_semantic_score",
          "f_4_has_special_char,f_5_num_results,f_8_max_semantic_score",
          "f_4_has_special_char,f_5_num_results,f_8_max_semantic_score",
          "f_4_has_special_char,f_5_num_results,f_8_max_semantic_score",
          "f_4_has_special_char,f_5_num_results,f_9_avg_semantic_score",
          "f_4_has_special_char,f_5_num_results,f_9_avg_semantic_score",
          "f_4_has_special_char,f_5_num_results,f_9_avg_semantic_score",
          "f_4_has_special_char,f_5_num_results,f_9_avg_semantic_score",
          "f_4_has_special_char,f_5_num_results,f_9_avg_semantic_score",
          "f_2_query_length,f_4_has_special_char,f_5_num_results,f_8_max_semantic_score",
          "f_2_query_length,f_4_has_special_char,f_5_num_results,f_8_max_semantic_score",
          "f_2_query_length,f_4_has_special_char,f_5_num_results,f_8_max_semantic_score",
          "f_2_query_length,f_4_has_special_char,f_5_num_results,f_8_max_semantic_score",
          "f_2_query_length,f_4_has_special_char,f_5_num_results,f_8_max_semantic_score",
          "f_4_has_special_char,f_5_num_results,f_6_max_title_score,f_8_max_semantic_score",
          "f_4_has_special_char,f_5_num_results,f_6_max_title_score,f_8_max_semantic_score",
          "f_4_has_special_char,f_5_num_results,f_6_max_title_score,f_8_max_semantic_score",
          "f_4_has_special_char,f_5_num_results,f_6_max_title_score,f_8_max_semantic_score",
          "f_4_has_special_char,f_5_num_results,f_6_max_title_score,f_8_max_semantic_score",
          "f_4_has_special_char,f_5_num_results,f_8_max_semantic_score",
          "f_4_has_special_char,f_5_num_results,f_8_max_semantic_score",
          "f_4_has_special_char,f_5_num_results,f_8_max_semantic_score",
          "f_4_has_special_char,f_5_num_results,f_8_max_semantic_score",
          "f_4_has_special_char,f_5_num_results,f_8_max_semantic_score",
          "f_4_has_special_char,f_5_num_results,f_9_avg_semantic_score",
          "f_4_has_special_char,f_5_num_results,f_9_avg_semantic_score",
          "f_4_has_special_char,f_5_num_results,f_9_avg_semantic_score",
          "f_4_has_special_char,f_5_num_results,f_9_avg_semantic_score",
          "f_4_has_special_char,f_5_num_results,f_9_avg_semantic_score",
          "f_2_query_length,f_4_has_special_char,f_5_num_results,f_8_max_semantic_score",
          "f_2_query_length,f_4_has_special_char,f_5_num_results,f_8_max_semantic_score",
          "f_2_query_length,f_4_has_special_char,f_5_num_results,f_8_max_semantic_score",
          "f_2_query_length,f_4_has_special_char,f_5_num_results,f_8_max_semantic_score",
          "f_2_query_length,f_4_has_special_char,f_5_num_results,f_8_max_semantic_score",
          "f_4_has_special_char,f_5_num_results,f_6_max_title_score,f_8_max_semantic_score",
          "f_4_has_special_char,f_5_num_results,f_6_max_title_score,f_8_max_semantic_score",
          "f_4_has_special_char,f_5_num_results,f_6_max_title_score,f_8_max_semantic_score",
          "f_4_has_special_char,f_5_num_results,f_6_max_title_score,f_8_max_semantic_score",
          "f_4_has_special_char,f_5_num_results,f_6_max_title_score,f_8_max_semantic_score"
         ],
         "x0": " ",
         "xaxis": "x",
         "y": [
          0.2919708889598414,
          0.29667628823348857,
          0.3004635418815401,
          0.29370631590076496,
          0.31223042772926524,
          0.2423368729681886,
          0.28823917152253953,
          0.29677301090227187,
          0.2676571687812601,
          0.3230149841725612,
          0.2652498444862881,
          0.2805982537365476,
          0.285890923255706,
          0.2862679863344834,
          0.30650435559711053,
          0.2681643525899742,
          0.28688841036193846,
          0.28439753866726764,
          0.2767624613273989,
          0.31666929121719395,
          0.22926658925268578,
          0.2492535823685117,
          0.2729314669494603,
          0.25977742020190797,
          0.28225311808227355,
          0.22747374604265033,
          0.25410602589401865,
          0.27649279918449354,
          0.25431593819911824,
          0.2874683314819787,
          0.23502712415100202,
          0.25531120118276524,
          0.2710485088071398,
          0.25461941293227947,
          0.28057931135738207,
          0.22846533095383545,
          0.25612130837520797,
          0.271361932378207,
          0.2589356819425969,
          0.28473479012438335
         ],
         "y0": " ",
         "yaxis": "y"
        }
       ],
       "layout": {
        "boxmode": "group",
        "height": 800,
        "legend": {
         "title": {
          "text": "f_str"
         },
         "tracegroupgap": 0
        },
        "template": {
         "data": {
          "bar": [
           {
            "error_x": {
             "color": "#2a3f5f"
            },
            "error_y": {
             "color": "#2a3f5f"
            },
            "marker": {
             "line": {
              "color": "#E5ECF6",
              "width": 0.5
             },
             "pattern": {
              "fillmode": "overlay",
              "size": 10,
              "solidity": 0.2
             }
            },
            "type": "bar"
           }
          ],
          "barpolar": [
           {
            "marker": {
             "line": {
              "color": "#E5ECF6",
              "width": 0.5
             },
             "pattern": {
              "fillmode": "overlay",
              "size": 10,
              "solidity": 0.2
             }
            },
            "type": "barpolar"
           }
          ],
          "carpet": [
           {
            "aaxis": {
             "endlinecolor": "#2a3f5f",
             "gridcolor": "white",
             "linecolor": "white",
             "minorgridcolor": "white",
             "startlinecolor": "#2a3f5f"
            },
            "baxis": {
             "endlinecolor": "#2a3f5f",
             "gridcolor": "white",
             "linecolor": "white",
             "minorgridcolor": "white",
             "startlinecolor": "#2a3f5f"
            },
            "type": "carpet"
           }
          ],
          "choropleth": [
           {
            "colorbar": {
             "outlinewidth": 0,
             "ticks": ""
            },
            "type": "choropleth"
           }
          ],
          "contour": [
           {
            "colorbar": {
             "outlinewidth": 0,
             "ticks": ""
            },
            "colorscale": [
             [
              0,
              "#0d0887"
             ],
             [
              0.1111111111111111,
              "#46039f"
             ],
             [
              0.2222222222222222,
              "#7201a8"
             ],
             [
              0.3333333333333333,
              "#9c179e"
             ],
             [
              0.4444444444444444,
              "#bd3786"
             ],
             [
              0.5555555555555556,
              "#d8576b"
             ],
             [
              0.6666666666666666,
              "#ed7953"
             ],
             [
              0.7777777777777778,
              "#fb9f3a"
             ],
             [
              0.8888888888888888,
              "#fdca26"
             ],
             [
              1,
              "#f0f921"
             ]
            ],
            "type": "contour"
           }
          ],
          "contourcarpet": [
           {
            "colorbar": {
             "outlinewidth": 0,
             "ticks": ""
            },
            "type": "contourcarpet"
           }
          ],
          "heatmap": [
           {
            "colorbar": {
             "outlinewidth": 0,
             "ticks": ""
            },
            "colorscale": [
             [
              0,
              "#0d0887"
             ],
             [
              0.1111111111111111,
              "#46039f"
             ],
             [
              0.2222222222222222,
              "#7201a8"
             ],
             [
              0.3333333333333333,
              "#9c179e"
             ],
             [
              0.4444444444444444,
              "#bd3786"
             ],
             [
              0.5555555555555556,
              "#d8576b"
             ],
             [
              0.6666666666666666,
              "#ed7953"
             ],
             [
              0.7777777777777778,
              "#fb9f3a"
             ],
             [
              0.8888888888888888,
              "#fdca26"
             ],
             [
              1,
              "#f0f921"
             ]
            ],
            "type": "heatmap"
           }
          ],
          "heatmapgl": [
           {
            "colorbar": {
             "outlinewidth": 0,
             "ticks": ""
            },
            "colorscale": [
             [
              0,
              "#0d0887"
             ],
             [
              0.1111111111111111,
              "#46039f"
             ],
             [
              0.2222222222222222,
              "#7201a8"
             ],
             [
              0.3333333333333333,
              "#9c179e"
             ],
             [
              0.4444444444444444,
              "#bd3786"
             ],
             [
              0.5555555555555556,
              "#d8576b"
             ],
             [
              0.6666666666666666,
              "#ed7953"
             ],
             [
              0.7777777777777778,
              "#fb9f3a"
             ],
             [
              0.8888888888888888,
              "#fdca26"
             ],
             [
              1,
              "#f0f921"
             ]
            ],
            "type": "heatmapgl"
           }
          ],
          "histogram": [
           {
            "marker": {
             "pattern": {
              "fillmode": "overlay",
              "size": 10,
              "solidity": 0.2
             }
            },
            "type": "histogram"
           }
          ],
          "histogram2d": [
           {
            "colorbar": {
             "outlinewidth": 0,
             "ticks": ""
            },
            "colorscale": [
             [
              0,
              "#0d0887"
             ],
             [
              0.1111111111111111,
              "#46039f"
             ],
             [
              0.2222222222222222,
              "#7201a8"
             ],
             [
              0.3333333333333333,
              "#9c179e"
             ],
             [
              0.4444444444444444,
              "#bd3786"
             ],
             [
              0.5555555555555556,
              "#d8576b"
             ],
             [
              0.6666666666666666,
              "#ed7953"
             ],
             [
              0.7777777777777778,
              "#fb9f3a"
             ],
             [
              0.8888888888888888,
              "#fdca26"
             ],
             [
              1,
              "#f0f921"
             ]
            ],
            "type": "histogram2d"
           }
          ],
          "histogram2dcontour": [
           {
            "colorbar": {
             "outlinewidth": 0,
             "ticks": ""
            },
            "colorscale": [
             [
              0,
              "#0d0887"
             ],
             [
              0.1111111111111111,
              "#46039f"
             ],
             [
              0.2222222222222222,
              "#7201a8"
             ],
             [
              0.3333333333333333,
              "#9c179e"
             ],
             [
              0.4444444444444444,
              "#bd3786"
             ],
             [
              0.5555555555555556,
              "#d8576b"
             ],
             [
              0.6666666666666666,
              "#ed7953"
             ],
             [
              0.7777777777777778,
              "#fb9f3a"
             ],
             [
              0.8888888888888888,
              "#fdca26"
             ],
             [
              1,
              "#f0f921"
             ]
            ],
            "type": "histogram2dcontour"
           }
          ],
          "mesh3d": [
           {
            "colorbar": {
             "outlinewidth": 0,
             "ticks": ""
            },
            "type": "mesh3d"
           }
          ],
          "parcoords": [
           {
            "line": {
             "colorbar": {
              "outlinewidth": 0,
              "ticks": ""
             }
            },
            "type": "parcoords"
           }
          ],
          "pie": [
           {
            "automargin": true,
            "type": "pie"
           }
          ],
          "scatter": [
           {
            "fillpattern": {
             "fillmode": "overlay",
             "size": 10,
             "solidity": 0.2
            },
            "type": "scatter"
           }
          ],
          "scatter3d": [
           {
            "line": {
             "colorbar": {
              "outlinewidth": 0,
              "ticks": ""
             }
            },
            "marker": {
             "colorbar": {
              "outlinewidth": 0,
              "ticks": ""
             }
            },
            "type": "scatter3d"
           }
          ],
          "scattercarpet": [
           {
            "marker": {
             "colorbar": {
              "outlinewidth": 0,
              "ticks": ""
             }
            },
            "type": "scattercarpet"
           }
          ],
          "scattergeo": [
           {
            "marker": {
             "colorbar": {
              "outlinewidth": 0,
              "ticks": ""
             }
            },
            "type": "scattergeo"
           }
          ],
          "scattergl": [
           {
            "marker": {
             "colorbar": {
              "outlinewidth": 0,
              "ticks": ""
             }
            },
            "type": "scattergl"
           }
          ],
          "scattermapbox": [
           {
            "marker": {
             "colorbar": {
              "outlinewidth": 0,
              "ticks": ""
             }
            },
            "type": "scattermapbox"
           }
          ],
          "scatterpolar": [
           {
            "marker": {
             "colorbar": {
              "outlinewidth": 0,
              "ticks": ""
             }
            },
            "type": "scatterpolar"
           }
          ],
          "scatterpolargl": [
           {
            "marker": {
             "colorbar": {
              "outlinewidth": 0,
              "ticks": ""
             }
            },
            "type": "scatterpolargl"
           }
          ],
          "scatterternary": [
           {
            "marker": {
             "colorbar": {
              "outlinewidth": 0,
              "ticks": ""
             }
            },
            "type": "scatterternary"
           }
          ],
          "surface": [
           {
            "colorbar": {
             "outlinewidth": 0,
             "ticks": ""
            },
            "colorscale": [
             [
              0,
              "#0d0887"
             ],
             [
              0.1111111111111111,
              "#46039f"
             ],
             [
              0.2222222222222222,
              "#7201a8"
             ],
             [
              0.3333333333333333,
              "#9c179e"
             ],
             [
              0.4444444444444444,
              "#bd3786"
             ],
             [
              0.5555555555555556,
              "#d8576b"
             ],
             [
              0.6666666666666666,
              "#ed7953"
             ],
             [
              0.7777777777777778,
              "#fb9f3a"
             ],
             [
              0.8888888888888888,
              "#fdca26"
             ],
             [
              1,
              "#f0f921"
             ]
            ],
            "type": "surface"
           }
          ],
          "table": [
           {
            "cells": {
             "fill": {
              "color": "#EBF0F8"
             },
             "line": {
              "color": "white"
             }
            },
            "header": {
             "fill": {
              "color": "#C8D4E3"
             },
             "line": {
              "color": "white"
             }
            },
            "type": "table"
           }
          ]
         },
         "layout": {
          "annotationdefaults": {
           "arrowcolor": "#2a3f5f",
           "arrowhead": 0,
           "arrowwidth": 1
          },
          "autotypenumbers": "strict",
          "coloraxis": {
           "colorbar": {
            "outlinewidth": 0,
            "ticks": ""
           }
          },
          "colorscale": {
           "diverging": [
            [
             0,
             "#8e0152"
            ],
            [
             0.1,
             "#c51b7d"
            ],
            [
             0.2,
             "#de77ae"
            ],
            [
             0.3,
             "#f1b6da"
            ],
            [
             0.4,
             "#fde0ef"
            ],
            [
             0.5,
             "#f7f7f7"
            ],
            [
             0.6,
             "#e6f5d0"
            ],
            [
             0.7,
             "#b8e186"
            ],
            [
             0.8,
             "#7fbc41"
            ],
            [
             0.9,
             "#4d9221"
            ],
            [
             1,
             "#276419"
            ]
           ],
           "sequential": [
            [
             0,
             "#0d0887"
            ],
            [
             0.1111111111111111,
             "#46039f"
            ],
            [
             0.2222222222222222,
             "#7201a8"
            ],
            [
             0.3333333333333333,
             "#9c179e"
            ],
            [
             0.4444444444444444,
             "#bd3786"
            ],
            [
             0.5555555555555556,
             "#d8576b"
            ],
            [
             0.6666666666666666,
             "#ed7953"
            ],
            [
             0.7777777777777778,
             "#fb9f3a"
            ],
            [
             0.8888888888888888,
             "#fdca26"
            ],
            [
             1,
             "#f0f921"
            ]
           ],
           "sequentialminus": [
            [
             0,
             "#0d0887"
            ],
            [
             0.1111111111111111,
             "#46039f"
            ],
            [
             0.2222222222222222,
             "#7201a8"
            ],
            [
             0.3333333333333333,
             "#9c179e"
            ],
            [
             0.4444444444444444,
             "#bd3786"
            ],
            [
             0.5555555555555556,
             "#d8576b"
            ],
            [
             0.6666666666666666,
             "#ed7953"
            ],
            [
             0.7777777777777778,
             "#fb9f3a"
            ],
            [
             0.8888888888888888,
             "#fdca26"
            ],
            [
             1,
             "#f0f921"
            ]
           ]
          },
          "colorway": [
           "#636efa",
           "#EF553B",
           "#00cc96",
           "#ab63fa",
           "#FFA15A",
           "#19d3f3",
           "#FF6692",
           "#B6E880",
           "#FF97FF",
           "#FECB52"
          ],
          "font": {
           "color": "#2a3f5f"
          },
          "geo": {
           "bgcolor": "white",
           "lakecolor": "white",
           "landcolor": "#E5ECF6",
           "showlakes": true,
           "showland": true,
           "subunitcolor": "white"
          },
          "hoverlabel": {
           "align": "left"
          },
          "hovermode": "closest",
          "mapbox": {
           "style": "light"
          },
          "paper_bgcolor": "white",
          "plot_bgcolor": "#E5ECF6",
          "polar": {
           "angularaxis": {
            "gridcolor": "white",
            "linecolor": "white",
            "ticks": ""
           },
           "bgcolor": "#E5ECF6",
           "radialaxis": {
            "gridcolor": "white",
            "linecolor": "white",
            "ticks": ""
           }
          },
          "scene": {
           "xaxis": {
            "backgroundcolor": "#E5ECF6",
            "gridcolor": "white",
            "gridwidth": 2,
            "linecolor": "white",
            "showbackground": true,
            "ticks": "",
            "zerolinecolor": "white"
           },
           "yaxis": {
            "backgroundcolor": "#E5ECF6",
            "gridcolor": "white",
            "gridwidth": 2,
            "linecolor": "white",
            "showbackground": true,
            "ticks": "",
            "zerolinecolor": "white"
           },
           "zaxis": {
            "backgroundcolor": "#E5ECF6",
            "gridcolor": "white",
            "gridwidth": 2,
            "linecolor": "white",
            "showbackground": true,
            "ticks": "",
            "zerolinecolor": "white"
           }
          },
          "shapedefaults": {
           "line": {
            "color": "#2a3f5f"
           }
          },
          "ternary": {
           "aaxis": {
            "gridcolor": "white",
            "linecolor": "white",
            "ticks": ""
           },
           "baxis": {
            "gridcolor": "white",
            "linecolor": "white",
            "ticks": ""
           },
           "bgcolor": "#E5ECF6",
           "caxis": {
            "gridcolor": "white",
            "linecolor": "white",
            "ticks": ""
           }
          },
          "title": {
           "x": 0.05
          },
          "xaxis": {
           "automargin": true,
           "gridcolor": "white",
           "linecolor": "white",
           "ticks": "",
           "title": {
            "standoff": 15
           },
           "zerolinecolor": "white",
           "zerolinewidth": 2
          },
          "yaxis": {
           "automargin": true,
           "gridcolor": "white",
           "linecolor": "white",
           "ticks": "",
           "title": {
            "standoff": 15
           },
           "zerolinecolor": "white",
           "zerolinewidth": 2
          }
         }
        },
        "title": {
         "text": "Random Forest - Best Feature Combinations by Feature Types"
        },
        "width": 1100,
        "xaxis": {
         "anchor": "y",
         "autorange": true,
         "domain": [
          0,
          1
         ],
         "range": [
          -0.5,
          8.5
         ],
         "showticklabels": false,
         "title": {
          "text": "feature combinations"
         },
         "type": "category"
        },
        "yaxis": {
         "anchor": "x",
         "autorange": true,
         "domain": [
          0,
          1
         ],
         "range": [
          0.222065852781817,
          0.33022371799848366
         ],
         "title": {
          "text": "rmse scores"
         },
         "type": "linear"
        }
       }
      }
     },
     "metadata": {},
     "output_type": "display_data"
    }
   ],
   "source": [
    "fig = px.box(df_metrics[(df_metrics['features'].isin(x)) & (df_metrics['model'] == 'rf')], x='features',\n",
    "             y='rmse_scores', title='RMSE Boxplot of Best Feature Combinations', color='f_str')\n",
    "fig.update_layout(height=800, width=1100,\n",
    "                  title_text=\"Random Forest - Best Feature Combinations by Feature Types\",\n",
    "                  xaxis_title=\"feature combinations\", yaxis_title=\"rmse scores\")\n",
    "fig.update_xaxes(showticklabels=False)\n",
    "fig.show()"
   ]
  },
  {
   "cell_type": "code",
   "execution_count": 247,
   "id": "dd17d957-849f-44a5-9750-579bd23c325d",
   "metadata": {},
   "outputs": [],
   "source": [
    "x_query_f = df_agg_metrics[(df_agg_metrics['query_f_only']==True) & (df_agg_metrics['model'] == 'rf')].sort_values(by='mean_rmse')['features'].head(3).values\n",
    "x_neural_f = df_agg_metrics[(df_agg_metrics['neural_f_only']==True) & (df_agg_metrics['model'] == 'rf')].sort_values(by='mean_rmse')['features'].head(3).values\n",
    "x_keyword_f = df_agg_metrics[(df_agg_metrics['keyword_f_only']==True) & (df_agg_metrics['model'] == 'rf')].sort_values(by='mean_rmse')['features'].head(3).values\n",
    "\n",
    "x_all_f = df_agg_metrics[df_agg_metrics['model'] == 'rf'].sort_values(by='mean_rmse')['features'].head(3).values\n",
    "\n",
    "x = np.concatenate([x_query_f, x_neural_f, x_keyword_f, x_all_f])"
   ]
  },
  {
   "cell_type": "code",
   "execution_count": 248,
   "id": "0f61a66a-622a-4ef1-819e-3e937e2afaef",
   "metadata": {},
   "outputs": [
    {
     "data": {
      "application/vnd.plotly.v1+json": {
       "config": {
        "plotlyServerURL": "https://plot.ly"
       },
       "data": [
        {
         "alignmentgroup": "True",
         "hovertemplate": "f_str=kq<br>features=%{x}<br>rmse_scores=%{y}<extra></extra>",
         "legendgroup": "kq",
         "marker": {
          "color": "#636efa"
         },
         "name": "kq",
         "notched": false,
         "offsetgroup": "kq",
         "orientation": "v",
         "showlegend": true,
         "type": "box",
         "x": [
          "f_2_query_length,f_5_num_results",
          "f_2_query_length,f_5_num_results",
          "f_2_query_length,f_5_num_results",
          "f_2_query_length,f_5_num_results",
          "f_2_query_length,f_5_num_results",
          "f_4_has_special_char,f_5_num_results",
          "f_4_has_special_char,f_5_num_results",
          "f_4_has_special_char,f_5_num_results",
          "f_4_has_special_char,f_5_num_results",
          "f_4_has_special_char,f_5_num_results",
          "f_2_query_length,f_5_num_results",
          "f_2_query_length,f_5_num_results",
          "f_2_query_length,f_5_num_results",
          "f_2_query_length,f_5_num_results",
          "f_2_query_length,f_5_num_results",
          "f_4_has_special_char,f_5_num_results",
          "f_4_has_special_char,f_5_num_results",
          "f_4_has_special_char,f_5_num_results",
          "f_4_has_special_char,f_5_num_results",
          "f_4_has_special_char,f_5_num_results"
         ],
         "x0": " ",
         "xaxis": "x",
         "y": [
          0.25648030984393655,
          0.2964535008694917,
          0.2863136764377651,
          0.2949058212436664,
          0.3140220645587952,
          0.2676122858791722,
          0.3038236712453998,
          0.2787592233953798,
          0.3074499241186333,
          0.288256801853002,
          0.23512388344113366,
          0.2538248245492328,
          0.2715767375527165,
          0.2519658262504619,
          0.2771263038779177,
          0.23020893425257027,
          0.25696395243491194,
          0.2666196318130772,
          0.2548169823694712,
          0.2716093694403801
         ],
         "y0": " ",
         "yaxis": "y"
        },
        {
         "alignmentgroup": "True",
         "hovertemplate": "f_str=q<br>features=%{x}<br>rmse_scores=%{y}<extra></extra>",
         "legendgroup": "q",
         "marker": {
          "color": "#EF553B"
         },
         "name": "q",
         "notched": false,
         "offsetgroup": "q",
         "orientation": "v",
         "showlegend": true,
         "type": "box",
         "x": [
          "f_3_has_numbers,f_4_has_special_char",
          "f_3_has_numbers,f_4_has_special_char",
          "f_3_has_numbers,f_4_has_special_char",
          "f_3_has_numbers,f_4_has_special_char",
          "f_3_has_numbers,f_4_has_special_char",
          "f_1_num_of_terms,f_2_query_length,f_3_has_numbers",
          "f_1_num_of_terms,f_2_query_length,f_3_has_numbers",
          "f_1_num_of_terms,f_2_query_length,f_3_has_numbers",
          "f_1_num_of_terms,f_2_query_length,f_3_has_numbers",
          "f_1_num_of_terms,f_2_query_length,f_3_has_numbers",
          "f_1_num_of_terms,f_2_query_length,f_4_has_special_char",
          "f_1_num_of_terms,f_2_query_length,f_4_has_special_char",
          "f_1_num_of_terms,f_2_query_length,f_4_has_special_char",
          "f_1_num_of_terms,f_2_query_length,f_4_has_special_char",
          "f_1_num_of_terms,f_2_query_length,f_4_has_special_char",
          "f_3_has_numbers,f_4_has_special_char",
          "f_3_has_numbers,f_4_has_special_char",
          "f_3_has_numbers,f_4_has_special_char",
          "f_3_has_numbers,f_4_has_special_char",
          "f_3_has_numbers,f_4_has_special_char",
          "f_1_num_of_terms,f_2_query_length,f_3_has_numbers",
          "f_1_num_of_terms,f_2_query_length,f_3_has_numbers",
          "f_1_num_of_terms,f_2_query_length,f_3_has_numbers",
          "f_1_num_of_terms,f_2_query_length,f_3_has_numbers",
          "f_1_num_of_terms,f_2_query_length,f_3_has_numbers",
          "f_1_num_of_terms,f_2_query_length,f_4_has_special_char",
          "f_1_num_of_terms,f_2_query_length,f_4_has_special_char",
          "f_1_num_of_terms,f_2_query_length,f_4_has_special_char",
          "f_1_num_of_terms,f_2_query_length,f_4_has_special_char",
          "f_1_num_of_terms,f_2_query_length,f_4_has_special_char"
         ],
         "x0": " ",
         "xaxis": "x",
         "y": [
          0.2513746241533399,
          0.24807390733100879,
          0.2942070213405684,
          0.26531159497898404,
          0.3039236535931666,
          0.30445343208903314,
          0.27588709091410973,
          0.30757969347727926,
          0.3182585585474742,
          0.30774534420679023,
          0.29668608082759657,
          0.2778393821479595,
          0.29540583811002213,
          0.2933355417130318,
          0.2933201303514434,
          0.2422297430855673,
          0.2466481139866471,
          0.29336563457029197,
          0.2645363302922841,
          0.3039032585716159,
          0.2539562815932239,
          0.25372344967632876,
          0.2898853632850602,
          0.26189070349467974,
          0.29528932198044594,
          0.2476641475869865,
          0.25243757638186715,
          0.29057649960659293,
          0.264050421374016,
          0.29920148416302295
         ],
         "y0": " ",
         "yaxis": "y"
        },
        {
         "alignmentgroup": "True",
         "hovertemplate": "f_str=k<br>features=%{x}<br>rmse_scores=%{y}<extra></extra>",
         "legendgroup": "k",
         "marker": {
          "color": "#00cc96"
         },
         "name": "k",
         "notched": false,
         "offsetgroup": "k",
         "orientation": "v",
         "showlegend": true,
         "type": "box",
         "x": [
          "f_5_num_results,f_6_max_title_score",
          "f_5_num_results,f_6_max_title_score",
          "f_5_num_results,f_6_max_title_score",
          "f_5_num_results,f_6_max_title_score",
          "f_5_num_results,f_6_max_title_score",
          "f_5_num_results,f_7_sum_title_scores",
          "f_5_num_results,f_7_sum_title_scores",
          "f_5_num_results,f_7_sum_title_scores",
          "f_5_num_results,f_7_sum_title_scores",
          "f_5_num_results,f_7_sum_title_scores",
          "f_5_num_results,f_6_max_title_score,f_7_sum_title_scores",
          "f_5_num_results,f_6_max_title_score,f_7_sum_title_scores",
          "f_5_num_results,f_6_max_title_score,f_7_sum_title_scores",
          "f_5_num_results,f_6_max_title_score,f_7_sum_title_scores",
          "f_5_num_results,f_6_max_title_score,f_7_sum_title_scores",
          "f_5_num_results,f_6_max_title_score",
          "f_5_num_results,f_6_max_title_score",
          "f_5_num_results,f_6_max_title_score",
          "f_5_num_results,f_6_max_title_score",
          "f_5_num_results,f_6_max_title_score",
          "f_5_num_results,f_7_sum_title_scores",
          "f_5_num_results,f_7_sum_title_scores",
          "f_5_num_results,f_7_sum_title_scores",
          "f_5_num_results,f_7_sum_title_scores",
          "f_5_num_results,f_7_sum_title_scores",
          "f_5_num_results,f_6_max_title_score,f_7_sum_title_scores",
          "f_5_num_results,f_6_max_title_score,f_7_sum_title_scores",
          "f_5_num_results,f_6_max_title_score,f_7_sum_title_scores",
          "f_5_num_results,f_6_max_title_score,f_7_sum_title_scores",
          "f_5_num_results,f_6_max_title_score,f_7_sum_title_scores"
         ],
         "x0": " ",
         "xaxis": "x",
         "y": [
          0.24654344761105898,
          0.2784257974685875,
          0.28614379149515096,
          0.2728746658747572,
          0.31896190127646695,
          0.24368396643866552,
          0.2780632074302609,
          0.2833286597067448,
          0.2738693842149104,
          0.29704176039051927,
          0.24335789501940577,
          0.2705093715853852,
          0.28977982920006773,
          0.2786014363632349,
          0.3068729357012421,
          0.22878374615003466,
          0.2598847256956596,
          0.2735264790097852,
          0.2563850711164042,
          0.278752230757358,
          0.22705841143888655,
          0.2595556934079492,
          0.2735320278980363,
          0.26062493227925687,
          0.27862317325837205,
          0.22861499352476597,
          0.2580464460688361,
          0.2765598315069569,
          0.26414015118237166,
          0.28283882921981823
         ],
         "y0": " ",
         "yaxis": "y"
        },
        {
         "alignmentgroup": "True",
         "hovertemplate": "f_str=n<br>features=%{x}<br>rmse_scores=%{y}<extra></extra>",
         "legendgroup": "n",
         "marker": {
          "color": "#ab63fa"
         },
         "name": "n",
         "notched": false,
         "offsetgroup": "n",
         "orientation": "v",
         "showlegend": true,
         "type": "box",
         "x": [
          "f_8_max_semantic_score,f_9_avg_semantic_score",
          "f_8_max_semantic_score,f_9_avg_semantic_score",
          "f_8_max_semantic_score,f_9_avg_semantic_score",
          "f_8_max_semantic_score,f_9_avg_semantic_score",
          "f_8_max_semantic_score,f_9_avg_semantic_score",
          "f_8_max_semantic_score,f_9_avg_semantic_score",
          "f_8_max_semantic_score,f_9_avg_semantic_score",
          "f_8_max_semantic_score,f_9_avg_semantic_score",
          "f_8_max_semantic_score,f_9_avg_semantic_score",
          "f_8_max_semantic_score,f_9_avg_semantic_score"
         ],
         "x0": " ",
         "xaxis": "x",
         "y": [
          0.2741285100094479,
          0.26590430609525684,
          0.32892117596773857,
          0.2726059060255298,
          0.3244674405853382,
          0.24226821802131446,
          0.24285618418649146,
          0.2929630476598801,
          0.26530454542610143,
          0.3075851742252182
         ],
         "y0": " ",
         "yaxis": "y"
        },
        {
         "alignmentgroup": "True",
         "hovertemplate": "f_str=knq<br>features=%{x}<br>rmse_scores=%{y}<extra></extra>",
         "legendgroup": "knq",
         "marker": {
          "color": "#FFA15A"
         },
         "name": "knq",
         "notched": false,
         "offsetgroup": "knq",
         "orientation": "v",
         "showlegend": true,
         "type": "box",
         "x": [
          "f_4_has_special_char,f_5_num_results,f_8_max_semantic_score",
          "f_4_has_special_char,f_5_num_results,f_8_max_semantic_score",
          "f_4_has_special_char,f_5_num_results,f_8_max_semantic_score",
          "f_4_has_special_char,f_5_num_results,f_8_max_semantic_score",
          "f_4_has_special_char,f_5_num_results,f_8_max_semantic_score",
          "f_4_has_special_char,f_5_num_results,f_8_max_semantic_score",
          "f_4_has_special_char,f_5_num_results,f_8_max_semantic_score",
          "f_4_has_special_char,f_5_num_results,f_8_max_semantic_score",
          "f_4_has_special_char,f_5_num_results,f_8_max_semantic_score",
          "f_4_has_special_char,f_5_num_results,f_8_max_semantic_score"
         ],
         "x0": " ",
         "xaxis": "x",
         "y": [
          0.2919708889598414,
          0.29667628823348857,
          0.3004635418815401,
          0.29370631590076496,
          0.31223042772926524,
          0.22926658925268578,
          0.2492535823685117,
          0.2729314669494603,
          0.25977742020190797,
          0.28225311808227355
         ],
         "y0": " ",
         "yaxis": "y"
        }
       ],
       "layout": {
        "boxmode": "group",
        "height": 800,
        "legend": {
         "title": {
          "text": "f_str"
         },
         "tracegroupgap": 0
        },
        "template": {
         "data": {
          "bar": [
           {
            "error_x": {
             "color": "#2a3f5f"
            },
            "error_y": {
             "color": "#2a3f5f"
            },
            "marker": {
             "line": {
              "color": "#E5ECF6",
              "width": 0.5
             },
             "pattern": {
              "fillmode": "overlay",
              "size": 10,
              "solidity": 0.2
             }
            },
            "type": "bar"
           }
          ],
          "barpolar": [
           {
            "marker": {
             "line": {
              "color": "#E5ECF6",
              "width": 0.5
             },
             "pattern": {
              "fillmode": "overlay",
              "size": 10,
              "solidity": 0.2
             }
            },
            "type": "barpolar"
           }
          ],
          "carpet": [
           {
            "aaxis": {
             "endlinecolor": "#2a3f5f",
             "gridcolor": "white",
             "linecolor": "white",
             "minorgridcolor": "white",
             "startlinecolor": "#2a3f5f"
            },
            "baxis": {
             "endlinecolor": "#2a3f5f",
             "gridcolor": "white",
             "linecolor": "white",
             "minorgridcolor": "white",
             "startlinecolor": "#2a3f5f"
            },
            "type": "carpet"
           }
          ],
          "choropleth": [
           {
            "colorbar": {
             "outlinewidth": 0,
             "ticks": ""
            },
            "type": "choropleth"
           }
          ],
          "contour": [
           {
            "colorbar": {
             "outlinewidth": 0,
             "ticks": ""
            },
            "colorscale": [
             [
              0,
              "#0d0887"
             ],
             [
              0.1111111111111111,
              "#46039f"
             ],
             [
              0.2222222222222222,
              "#7201a8"
             ],
             [
              0.3333333333333333,
              "#9c179e"
             ],
             [
              0.4444444444444444,
              "#bd3786"
             ],
             [
              0.5555555555555556,
              "#d8576b"
             ],
             [
              0.6666666666666666,
              "#ed7953"
             ],
             [
              0.7777777777777778,
              "#fb9f3a"
             ],
             [
              0.8888888888888888,
              "#fdca26"
             ],
             [
              1,
              "#f0f921"
             ]
            ],
            "type": "contour"
           }
          ],
          "contourcarpet": [
           {
            "colorbar": {
             "outlinewidth": 0,
             "ticks": ""
            },
            "type": "contourcarpet"
           }
          ],
          "heatmap": [
           {
            "colorbar": {
             "outlinewidth": 0,
             "ticks": ""
            },
            "colorscale": [
             [
              0,
              "#0d0887"
             ],
             [
              0.1111111111111111,
              "#46039f"
             ],
             [
              0.2222222222222222,
              "#7201a8"
             ],
             [
              0.3333333333333333,
              "#9c179e"
             ],
             [
              0.4444444444444444,
              "#bd3786"
             ],
             [
              0.5555555555555556,
              "#d8576b"
             ],
             [
              0.6666666666666666,
              "#ed7953"
             ],
             [
              0.7777777777777778,
              "#fb9f3a"
             ],
             [
              0.8888888888888888,
              "#fdca26"
             ],
             [
              1,
              "#f0f921"
             ]
            ],
            "type": "heatmap"
           }
          ],
          "heatmapgl": [
           {
            "colorbar": {
             "outlinewidth": 0,
             "ticks": ""
            },
            "colorscale": [
             [
              0,
              "#0d0887"
             ],
             [
              0.1111111111111111,
              "#46039f"
             ],
             [
              0.2222222222222222,
              "#7201a8"
             ],
             [
              0.3333333333333333,
              "#9c179e"
             ],
             [
              0.4444444444444444,
              "#bd3786"
             ],
             [
              0.5555555555555556,
              "#d8576b"
             ],
             [
              0.6666666666666666,
              "#ed7953"
             ],
             [
              0.7777777777777778,
              "#fb9f3a"
             ],
             [
              0.8888888888888888,
              "#fdca26"
             ],
             [
              1,
              "#f0f921"
             ]
            ],
            "type": "heatmapgl"
           }
          ],
          "histogram": [
           {
            "marker": {
             "pattern": {
              "fillmode": "overlay",
              "size": 10,
              "solidity": 0.2
             }
            },
            "type": "histogram"
           }
          ],
          "histogram2d": [
           {
            "colorbar": {
             "outlinewidth": 0,
             "ticks": ""
            },
            "colorscale": [
             [
              0,
              "#0d0887"
             ],
             [
              0.1111111111111111,
              "#46039f"
             ],
             [
              0.2222222222222222,
              "#7201a8"
             ],
             [
              0.3333333333333333,
              "#9c179e"
             ],
             [
              0.4444444444444444,
              "#bd3786"
             ],
             [
              0.5555555555555556,
              "#d8576b"
             ],
             [
              0.6666666666666666,
              "#ed7953"
             ],
             [
              0.7777777777777778,
              "#fb9f3a"
             ],
             [
              0.8888888888888888,
              "#fdca26"
             ],
             [
              1,
              "#f0f921"
             ]
            ],
            "type": "histogram2d"
           }
          ],
          "histogram2dcontour": [
           {
            "colorbar": {
             "outlinewidth": 0,
             "ticks": ""
            },
            "colorscale": [
             [
              0,
              "#0d0887"
             ],
             [
              0.1111111111111111,
              "#46039f"
             ],
             [
              0.2222222222222222,
              "#7201a8"
             ],
             [
              0.3333333333333333,
              "#9c179e"
             ],
             [
              0.4444444444444444,
              "#bd3786"
             ],
             [
              0.5555555555555556,
              "#d8576b"
             ],
             [
              0.6666666666666666,
              "#ed7953"
             ],
             [
              0.7777777777777778,
              "#fb9f3a"
             ],
             [
              0.8888888888888888,
              "#fdca26"
             ],
             [
              1,
              "#f0f921"
             ]
            ],
            "type": "histogram2dcontour"
           }
          ],
          "mesh3d": [
           {
            "colorbar": {
             "outlinewidth": 0,
             "ticks": ""
            },
            "type": "mesh3d"
           }
          ],
          "parcoords": [
           {
            "line": {
             "colorbar": {
              "outlinewidth": 0,
              "ticks": ""
             }
            },
            "type": "parcoords"
           }
          ],
          "pie": [
           {
            "automargin": true,
            "type": "pie"
           }
          ],
          "scatter": [
           {
            "fillpattern": {
             "fillmode": "overlay",
             "size": 10,
             "solidity": 0.2
            },
            "type": "scatter"
           }
          ],
          "scatter3d": [
           {
            "line": {
             "colorbar": {
              "outlinewidth": 0,
              "ticks": ""
             }
            },
            "marker": {
             "colorbar": {
              "outlinewidth": 0,
              "ticks": ""
             }
            },
            "type": "scatter3d"
           }
          ],
          "scattercarpet": [
           {
            "marker": {
             "colorbar": {
              "outlinewidth": 0,
              "ticks": ""
             }
            },
            "type": "scattercarpet"
           }
          ],
          "scattergeo": [
           {
            "marker": {
             "colorbar": {
              "outlinewidth": 0,
              "ticks": ""
             }
            },
            "type": "scattergeo"
           }
          ],
          "scattergl": [
           {
            "marker": {
             "colorbar": {
              "outlinewidth": 0,
              "ticks": ""
             }
            },
            "type": "scattergl"
           }
          ],
          "scattermapbox": [
           {
            "marker": {
             "colorbar": {
              "outlinewidth": 0,
              "ticks": ""
             }
            },
            "type": "scattermapbox"
           }
          ],
          "scatterpolar": [
           {
            "marker": {
             "colorbar": {
              "outlinewidth": 0,
              "ticks": ""
             }
            },
            "type": "scatterpolar"
           }
          ],
          "scatterpolargl": [
           {
            "marker": {
             "colorbar": {
              "outlinewidth": 0,
              "ticks": ""
             }
            },
            "type": "scatterpolargl"
           }
          ],
          "scatterternary": [
           {
            "marker": {
             "colorbar": {
              "outlinewidth": 0,
              "ticks": ""
             }
            },
            "type": "scatterternary"
           }
          ],
          "surface": [
           {
            "colorbar": {
             "outlinewidth": 0,
             "ticks": ""
            },
            "colorscale": [
             [
              0,
              "#0d0887"
             ],
             [
              0.1111111111111111,
              "#46039f"
             ],
             [
              0.2222222222222222,
              "#7201a8"
             ],
             [
              0.3333333333333333,
              "#9c179e"
             ],
             [
              0.4444444444444444,
              "#bd3786"
             ],
             [
              0.5555555555555556,
              "#d8576b"
             ],
             [
              0.6666666666666666,
              "#ed7953"
             ],
             [
              0.7777777777777778,
              "#fb9f3a"
             ],
             [
              0.8888888888888888,
              "#fdca26"
             ],
             [
              1,
              "#f0f921"
             ]
            ],
            "type": "surface"
           }
          ],
          "table": [
           {
            "cells": {
             "fill": {
              "color": "#EBF0F8"
             },
             "line": {
              "color": "white"
             }
            },
            "header": {
             "fill": {
              "color": "#C8D4E3"
             },
             "line": {
              "color": "white"
             }
            },
            "type": "table"
           }
          ]
         },
         "layout": {
          "annotationdefaults": {
           "arrowcolor": "#2a3f5f",
           "arrowhead": 0,
           "arrowwidth": 1
          },
          "autotypenumbers": "strict",
          "coloraxis": {
           "colorbar": {
            "outlinewidth": 0,
            "ticks": ""
           }
          },
          "colorscale": {
           "diverging": [
            [
             0,
             "#8e0152"
            ],
            [
             0.1,
             "#c51b7d"
            ],
            [
             0.2,
             "#de77ae"
            ],
            [
             0.3,
             "#f1b6da"
            ],
            [
             0.4,
             "#fde0ef"
            ],
            [
             0.5,
             "#f7f7f7"
            ],
            [
             0.6,
             "#e6f5d0"
            ],
            [
             0.7,
             "#b8e186"
            ],
            [
             0.8,
             "#7fbc41"
            ],
            [
             0.9,
             "#4d9221"
            ],
            [
             1,
             "#276419"
            ]
           ],
           "sequential": [
            [
             0,
             "#0d0887"
            ],
            [
             0.1111111111111111,
             "#46039f"
            ],
            [
             0.2222222222222222,
             "#7201a8"
            ],
            [
             0.3333333333333333,
             "#9c179e"
            ],
            [
             0.4444444444444444,
             "#bd3786"
            ],
            [
             0.5555555555555556,
             "#d8576b"
            ],
            [
             0.6666666666666666,
             "#ed7953"
            ],
            [
             0.7777777777777778,
             "#fb9f3a"
            ],
            [
             0.8888888888888888,
             "#fdca26"
            ],
            [
             1,
             "#f0f921"
            ]
           ],
           "sequentialminus": [
            [
             0,
             "#0d0887"
            ],
            [
             0.1111111111111111,
             "#46039f"
            ],
            [
             0.2222222222222222,
             "#7201a8"
            ],
            [
             0.3333333333333333,
             "#9c179e"
            ],
            [
             0.4444444444444444,
             "#bd3786"
            ],
            [
             0.5555555555555556,
             "#d8576b"
            ],
            [
             0.6666666666666666,
             "#ed7953"
            ],
            [
             0.7777777777777778,
             "#fb9f3a"
            ],
            [
             0.8888888888888888,
             "#fdca26"
            ],
            [
             1,
             "#f0f921"
            ]
           ]
          },
          "colorway": [
           "#636efa",
           "#EF553B",
           "#00cc96",
           "#ab63fa",
           "#FFA15A",
           "#19d3f3",
           "#FF6692",
           "#B6E880",
           "#FF97FF",
           "#FECB52"
          ],
          "font": {
           "color": "#2a3f5f"
          },
          "geo": {
           "bgcolor": "white",
           "lakecolor": "white",
           "landcolor": "#E5ECF6",
           "showlakes": true,
           "showland": true,
           "subunitcolor": "white"
          },
          "hoverlabel": {
           "align": "left"
          },
          "hovermode": "closest",
          "mapbox": {
           "style": "light"
          },
          "paper_bgcolor": "white",
          "plot_bgcolor": "#E5ECF6",
          "polar": {
           "angularaxis": {
            "gridcolor": "white",
            "linecolor": "white",
            "ticks": ""
           },
           "bgcolor": "#E5ECF6",
           "radialaxis": {
            "gridcolor": "white",
            "linecolor": "white",
            "ticks": ""
           }
          },
          "scene": {
           "xaxis": {
            "backgroundcolor": "#E5ECF6",
            "gridcolor": "white",
            "gridwidth": 2,
            "linecolor": "white",
            "showbackground": true,
            "ticks": "",
            "zerolinecolor": "white"
           },
           "yaxis": {
            "backgroundcolor": "#E5ECF6",
            "gridcolor": "white",
            "gridwidth": 2,
            "linecolor": "white",
            "showbackground": true,
            "ticks": "",
            "zerolinecolor": "white"
           },
           "zaxis": {
            "backgroundcolor": "#E5ECF6",
            "gridcolor": "white",
            "gridwidth": 2,
            "linecolor": "white",
            "showbackground": true,
            "ticks": "",
            "zerolinecolor": "white"
           }
          },
          "shapedefaults": {
           "line": {
            "color": "#2a3f5f"
           }
          },
          "ternary": {
           "aaxis": {
            "gridcolor": "white",
            "linecolor": "white",
            "ticks": ""
           },
           "baxis": {
            "gridcolor": "white",
            "linecolor": "white",
            "ticks": ""
           },
           "bgcolor": "#E5ECF6",
           "caxis": {
            "gridcolor": "white",
            "linecolor": "white",
            "ticks": ""
           }
          },
          "title": {
           "x": 0.05
          },
          "xaxis": {
           "automargin": true,
           "gridcolor": "white",
           "linecolor": "white",
           "ticks": "",
           "title": {
            "standoff": 15
           },
           "zerolinecolor": "white",
           "zerolinewidth": 2
          },
          "yaxis": {
           "automargin": true,
           "gridcolor": "white",
           "linecolor": "white",
           "ticks": "",
           "title": {
            "standoff": 15
           },
           "zerolinecolor": "white",
           "zerolinewidth": 2
          }
         }
        },
        "title": {
         "text": "Random Forest - Best Feature Combinations within Feature Groups"
        },
        "width": 1100,
        "xaxis": {
         "anchor": "y",
         "autorange": true,
         "domain": [
          0,
          1
         ],
         "range": [
          -0.5327510917030568,
          9.532751091703057
         ],
         "showticklabels": false,
         "title": {
          "text": "feature combinations"
         },
         "type": "category"
        },
        "yaxis": {
         "anchor": "x",
         "autorange": true,
         "domain": [
          0,
          1
         ],
         "range": [
          0.22139936896506143,
          0.33458021844156366
         ],
         "title": {
          "text": "rmse scores"
         },
         "type": "linear"
        }
       }
      }
     },
     "metadata": {},
     "output_type": "display_data"
    }
   ],
   "source": [
    "fig = px.box(df_metrics[(df_metrics['features'].isin(x)) & (df_metrics['model'] == 'rf')], x='features',\n",
    "             y='rmse_scores', title='RMSE Boxplot of Best Feature Combinations', color='f_str')\n",
    "fig.update_layout(height=800, width=1100,\n",
    "                  title_text=\"Random Forest - Best Feature Combinations within Feature Groups\",\n",
    "                  xaxis_title=\"feature combinations\", yaxis_title=\"rmse scores\")\n",
    "fig.update_xaxes(showticklabels=False)\n",
    "fig.show()"
   ]
  },
  {
   "cell_type": "code",
   "execution_count": 249,
   "id": "fcb6f7c1-3a03-42bc-b200-156ac15676ba",
   "metadata": {},
   "outputs": [
    {
     "data": {
      "application/vnd.plotly.v1+json": {
       "config": {
        "plotlyServerURL": "https://plot.ly"
       },
       "data": [
        {
         "name": "all combinations",
         "type": "box",
         "xaxis": "x",
         "y": [
          0.26335743679860885,
          0.2636955222286129,
          0.26388706028291037,
          0.2641717793897552,
          0.2643801957444843,
          0.2644968949764987,
          0.2646369991628698,
          0.2646392522778525,
          0.26478014807750466,
          0.2648636525026896
         ],
         "yaxis": "y"
        },
        {
         "name": "only keyword features",
         "type": "box",
         "xaxis": "x2",
         "y": [
          0.26712779612780746,
          0.28058992074520434,
          0.26696023613446745,
          0.2778242935738671,
          0.2658374015964645,
          0.2751973956362202,
          0.2686709030585782,
          0.2949545375246179
         ],
         "yaxis": "y2"
        },
        {
         "name": "only neural features",
         "type": "box",
         "xaxis": "x3",
         "y": [
          0.2682671453980603,
          0.2932054677366623
         ],
         "yaxis": "y3"
        },
        {
         "name": "only query features",
         "type": "box",
         "xaxis": "x4",
         "y": [
          0.2682870096323014,
          0.26885892846357934,
          0.26893989491237164,
          0.269418061420198,
          0.2697772501477811,
          0.2700453540403992,
          0.27006548444385337,
          0.27008556752979224,
          0.2703988550609867,
          0.2713159368588013
         ],
         "yaxis": "y4"
        }
       ],
       "layout": {
        "height": 800,
        "template": {
         "data": {
          "bar": [
           {
            "error_x": {
             "color": "#2a3f5f"
            },
            "error_y": {
             "color": "#2a3f5f"
            },
            "marker": {
             "line": {
              "color": "#E5ECF6",
              "width": 0.5
             },
             "pattern": {
              "fillmode": "overlay",
              "size": 10,
              "solidity": 0.2
             }
            },
            "type": "bar"
           }
          ],
          "barpolar": [
           {
            "marker": {
             "line": {
              "color": "#E5ECF6",
              "width": 0.5
             },
             "pattern": {
              "fillmode": "overlay",
              "size": 10,
              "solidity": 0.2
             }
            },
            "type": "barpolar"
           }
          ],
          "carpet": [
           {
            "aaxis": {
             "endlinecolor": "#2a3f5f",
             "gridcolor": "white",
             "linecolor": "white",
             "minorgridcolor": "white",
             "startlinecolor": "#2a3f5f"
            },
            "baxis": {
             "endlinecolor": "#2a3f5f",
             "gridcolor": "white",
             "linecolor": "white",
             "minorgridcolor": "white",
             "startlinecolor": "#2a3f5f"
            },
            "type": "carpet"
           }
          ],
          "choropleth": [
           {
            "colorbar": {
             "outlinewidth": 0,
             "ticks": ""
            },
            "type": "choropleth"
           }
          ],
          "contour": [
           {
            "colorbar": {
             "outlinewidth": 0,
             "ticks": ""
            },
            "colorscale": [
             [
              0,
              "#0d0887"
             ],
             [
              0.1111111111111111,
              "#46039f"
             ],
             [
              0.2222222222222222,
              "#7201a8"
             ],
             [
              0.3333333333333333,
              "#9c179e"
             ],
             [
              0.4444444444444444,
              "#bd3786"
             ],
             [
              0.5555555555555556,
              "#d8576b"
             ],
             [
              0.6666666666666666,
              "#ed7953"
             ],
             [
              0.7777777777777778,
              "#fb9f3a"
             ],
             [
              0.8888888888888888,
              "#fdca26"
             ],
             [
              1,
              "#f0f921"
             ]
            ],
            "type": "contour"
           }
          ],
          "contourcarpet": [
           {
            "colorbar": {
             "outlinewidth": 0,
             "ticks": ""
            },
            "type": "contourcarpet"
           }
          ],
          "heatmap": [
           {
            "colorbar": {
             "outlinewidth": 0,
             "ticks": ""
            },
            "colorscale": [
             [
              0,
              "#0d0887"
             ],
             [
              0.1111111111111111,
              "#46039f"
             ],
             [
              0.2222222222222222,
              "#7201a8"
             ],
             [
              0.3333333333333333,
              "#9c179e"
             ],
             [
              0.4444444444444444,
              "#bd3786"
             ],
             [
              0.5555555555555556,
              "#d8576b"
             ],
             [
              0.6666666666666666,
              "#ed7953"
             ],
             [
              0.7777777777777778,
              "#fb9f3a"
             ],
             [
              0.8888888888888888,
              "#fdca26"
             ],
             [
              1,
              "#f0f921"
             ]
            ],
            "type": "heatmap"
           }
          ],
          "heatmapgl": [
           {
            "colorbar": {
             "outlinewidth": 0,
             "ticks": ""
            },
            "colorscale": [
             [
              0,
              "#0d0887"
             ],
             [
              0.1111111111111111,
              "#46039f"
             ],
             [
              0.2222222222222222,
              "#7201a8"
             ],
             [
              0.3333333333333333,
              "#9c179e"
             ],
             [
              0.4444444444444444,
              "#bd3786"
             ],
             [
              0.5555555555555556,
              "#d8576b"
             ],
             [
              0.6666666666666666,
              "#ed7953"
             ],
             [
              0.7777777777777778,
              "#fb9f3a"
             ],
             [
              0.8888888888888888,
              "#fdca26"
             ],
             [
              1,
              "#f0f921"
             ]
            ],
            "type": "heatmapgl"
           }
          ],
          "histogram": [
           {
            "marker": {
             "pattern": {
              "fillmode": "overlay",
              "size": 10,
              "solidity": 0.2
             }
            },
            "type": "histogram"
           }
          ],
          "histogram2d": [
           {
            "colorbar": {
             "outlinewidth": 0,
             "ticks": ""
            },
            "colorscale": [
             [
              0,
              "#0d0887"
             ],
             [
              0.1111111111111111,
              "#46039f"
             ],
             [
              0.2222222222222222,
              "#7201a8"
             ],
             [
              0.3333333333333333,
              "#9c179e"
             ],
             [
              0.4444444444444444,
              "#bd3786"
             ],
             [
              0.5555555555555556,
              "#d8576b"
             ],
             [
              0.6666666666666666,
              "#ed7953"
             ],
             [
              0.7777777777777778,
              "#fb9f3a"
             ],
             [
              0.8888888888888888,
              "#fdca26"
             ],
             [
              1,
              "#f0f921"
             ]
            ],
            "type": "histogram2d"
           }
          ],
          "histogram2dcontour": [
           {
            "colorbar": {
             "outlinewidth": 0,
             "ticks": ""
            },
            "colorscale": [
             [
              0,
              "#0d0887"
             ],
             [
              0.1111111111111111,
              "#46039f"
             ],
             [
              0.2222222222222222,
              "#7201a8"
             ],
             [
              0.3333333333333333,
              "#9c179e"
             ],
             [
              0.4444444444444444,
              "#bd3786"
             ],
             [
              0.5555555555555556,
              "#d8576b"
             ],
             [
              0.6666666666666666,
              "#ed7953"
             ],
             [
              0.7777777777777778,
              "#fb9f3a"
             ],
             [
              0.8888888888888888,
              "#fdca26"
             ],
             [
              1,
              "#f0f921"
             ]
            ],
            "type": "histogram2dcontour"
           }
          ],
          "mesh3d": [
           {
            "colorbar": {
             "outlinewidth": 0,
             "ticks": ""
            },
            "type": "mesh3d"
           }
          ],
          "parcoords": [
           {
            "line": {
             "colorbar": {
              "outlinewidth": 0,
              "ticks": ""
             }
            },
            "type": "parcoords"
           }
          ],
          "pie": [
           {
            "automargin": true,
            "type": "pie"
           }
          ],
          "scatter": [
           {
            "fillpattern": {
             "fillmode": "overlay",
             "size": 10,
             "solidity": 0.2
            },
            "type": "scatter"
           }
          ],
          "scatter3d": [
           {
            "line": {
             "colorbar": {
              "outlinewidth": 0,
              "ticks": ""
             }
            },
            "marker": {
             "colorbar": {
              "outlinewidth": 0,
              "ticks": ""
             }
            },
            "type": "scatter3d"
           }
          ],
          "scattercarpet": [
           {
            "marker": {
             "colorbar": {
              "outlinewidth": 0,
              "ticks": ""
             }
            },
            "type": "scattercarpet"
           }
          ],
          "scattergeo": [
           {
            "marker": {
             "colorbar": {
              "outlinewidth": 0,
              "ticks": ""
             }
            },
            "type": "scattergeo"
           }
          ],
          "scattergl": [
           {
            "marker": {
             "colorbar": {
              "outlinewidth": 0,
              "ticks": ""
             }
            },
            "type": "scattergl"
           }
          ],
          "scattermapbox": [
           {
            "marker": {
             "colorbar": {
              "outlinewidth": 0,
              "ticks": ""
             }
            },
            "type": "scattermapbox"
           }
          ],
          "scatterpolar": [
           {
            "marker": {
             "colorbar": {
              "outlinewidth": 0,
              "ticks": ""
             }
            },
            "type": "scatterpolar"
           }
          ],
          "scatterpolargl": [
           {
            "marker": {
             "colorbar": {
              "outlinewidth": 0,
              "ticks": ""
             }
            },
            "type": "scatterpolargl"
           }
          ],
          "scatterternary": [
           {
            "marker": {
             "colorbar": {
              "outlinewidth": 0,
              "ticks": ""
             }
            },
            "type": "scatterternary"
           }
          ],
          "surface": [
           {
            "colorbar": {
             "outlinewidth": 0,
             "ticks": ""
            },
            "colorscale": [
             [
              0,
              "#0d0887"
             ],
             [
              0.1111111111111111,
              "#46039f"
             ],
             [
              0.2222222222222222,
              "#7201a8"
             ],
             [
              0.3333333333333333,
              "#9c179e"
             ],
             [
              0.4444444444444444,
              "#bd3786"
             ],
             [
              0.5555555555555556,
              "#d8576b"
             ],
             [
              0.6666666666666666,
              "#ed7953"
             ],
             [
              0.7777777777777778,
              "#fb9f3a"
             ],
             [
              0.8888888888888888,
              "#fdca26"
             ],
             [
              1,
              "#f0f921"
             ]
            ],
            "type": "surface"
           }
          ],
          "table": [
           {
            "cells": {
             "fill": {
              "color": "#EBF0F8"
             },
             "line": {
              "color": "white"
             }
            },
            "header": {
             "fill": {
              "color": "#C8D4E3"
             },
             "line": {
              "color": "white"
             }
            },
            "type": "table"
           }
          ]
         },
         "layout": {
          "annotationdefaults": {
           "arrowcolor": "#2a3f5f",
           "arrowhead": 0,
           "arrowwidth": 1
          },
          "autotypenumbers": "strict",
          "coloraxis": {
           "colorbar": {
            "outlinewidth": 0,
            "ticks": ""
           }
          },
          "colorscale": {
           "diverging": [
            [
             0,
             "#8e0152"
            ],
            [
             0.1,
             "#c51b7d"
            ],
            [
             0.2,
             "#de77ae"
            ],
            [
             0.3,
             "#f1b6da"
            ],
            [
             0.4,
             "#fde0ef"
            ],
            [
             0.5,
             "#f7f7f7"
            ],
            [
             0.6,
             "#e6f5d0"
            ],
            [
             0.7,
             "#b8e186"
            ],
            [
             0.8,
             "#7fbc41"
            ],
            [
             0.9,
             "#4d9221"
            ],
            [
             1,
             "#276419"
            ]
           ],
           "sequential": [
            [
             0,
             "#0d0887"
            ],
            [
             0.1111111111111111,
             "#46039f"
            ],
            [
             0.2222222222222222,
             "#7201a8"
            ],
            [
             0.3333333333333333,
             "#9c179e"
            ],
            [
             0.4444444444444444,
             "#bd3786"
            ],
            [
             0.5555555555555556,
             "#d8576b"
            ],
            [
             0.6666666666666666,
             "#ed7953"
            ],
            [
             0.7777777777777778,
             "#fb9f3a"
            ],
            [
             0.8888888888888888,
             "#fdca26"
            ],
            [
             1,
             "#f0f921"
            ]
           ],
           "sequentialminus": [
            [
             0,
             "#0d0887"
            ],
            [
             0.1111111111111111,
             "#46039f"
            ],
            [
             0.2222222222222222,
             "#7201a8"
            ],
            [
             0.3333333333333333,
             "#9c179e"
            ],
            [
             0.4444444444444444,
             "#bd3786"
            ],
            [
             0.5555555555555556,
             "#d8576b"
            ],
            [
             0.6666666666666666,
             "#ed7953"
            ],
            [
             0.7777777777777778,
             "#fb9f3a"
            ],
            [
             0.8888888888888888,
             "#fdca26"
            ],
            [
             1,
             "#f0f921"
            ]
           ]
          },
          "colorway": [
           "#636efa",
           "#EF553B",
           "#00cc96",
           "#ab63fa",
           "#FFA15A",
           "#19d3f3",
           "#FF6692",
           "#B6E880",
           "#FF97FF",
           "#FECB52"
          ],
          "font": {
           "color": "#2a3f5f"
          },
          "geo": {
           "bgcolor": "white",
           "lakecolor": "white",
           "landcolor": "#E5ECF6",
           "showlakes": true,
           "showland": true,
           "subunitcolor": "white"
          },
          "hoverlabel": {
           "align": "left"
          },
          "hovermode": "closest",
          "mapbox": {
           "style": "light"
          },
          "paper_bgcolor": "white",
          "plot_bgcolor": "#E5ECF6",
          "polar": {
           "angularaxis": {
            "gridcolor": "white",
            "linecolor": "white",
            "ticks": ""
           },
           "bgcolor": "#E5ECF6",
           "radialaxis": {
            "gridcolor": "white",
            "linecolor": "white",
            "ticks": ""
           }
          },
          "scene": {
           "xaxis": {
            "backgroundcolor": "#E5ECF6",
            "gridcolor": "white",
            "gridwidth": 2,
            "linecolor": "white",
            "showbackground": true,
            "ticks": "",
            "zerolinecolor": "white"
           },
           "yaxis": {
            "backgroundcolor": "#E5ECF6",
            "gridcolor": "white",
            "gridwidth": 2,
            "linecolor": "white",
            "showbackground": true,
            "ticks": "",
            "zerolinecolor": "white"
           },
           "zaxis": {
            "backgroundcolor": "#E5ECF6",
            "gridcolor": "white",
            "gridwidth": 2,
            "linecolor": "white",
            "showbackground": true,
            "ticks": "",
            "zerolinecolor": "white"
           }
          },
          "shapedefaults": {
           "line": {
            "color": "#2a3f5f"
           }
          },
          "ternary": {
           "aaxis": {
            "gridcolor": "white",
            "linecolor": "white",
            "ticks": ""
           },
           "baxis": {
            "gridcolor": "white",
            "linecolor": "white",
            "ticks": ""
           },
           "bgcolor": "#E5ECF6",
           "caxis": {
            "gridcolor": "white",
            "linecolor": "white",
            "ticks": ""
           }
          },
          "title": {
           "x": 0.05
          },
          "xaxis": {
           "automargin": true,
           "gridcolor": "white",
           "linecolor": "white",
           "ticks": "",
           "title": {
            "standoff": 15
           },
           "zerolinecolor": "white",
           "zerolinewidth": 2
          },
          "yaxis": {
           "automargin": true,
           "gridcolor": "white",
           "linecolor": "white",
           "ticks": "",
           "title": {
            "standoff": 15
           },
           "zerolinecolor": "white",
           "zerolinewidth": 2
          }
         }
        },
        "title": {
         "text": "Top 10 Feature Combinations within Feature Groups"
        },
        "width": 1100,
        "xaxis": {
         "anchor": "y",
         "autorange": true,
         "domain": [
          0,
          0.2125
         ],
         "range": [
          -0.5,
          0.5
         ],
         "type": "category"
        },
        "xaxis2": {
         "anchor": "y2",
         "autorange": true,
         "domain": [
          0.2625,
          0.475
         ],
         "range": [
          -0.5,
          0.5
         ],
         "type": "category"
        },
        "xaxis3": {
         "anchor": "y3",
         "autorange": true,
         "domain": [
          0.525,
          0.7375
         ],
         "range": [
          -0.5,
          0.5
         ],
         "type": "category"
        },
        "xaxis4": {
         "anchor": "y4",
         "autorange": true,
         "domain": [
          0.7875,
          1
         ],
         "range": [
          -0.5,
          0.5
         ],
         "type": "category"
        },
        "yaxis": {
         "anchor": "x",
         "autorange": true,
         "domain": [
          0,
          1
         ],
         "range": [
          0.26160204231383055,
          0.2967099320093962
         ],
         "type": "linear"
        },
        "yaxis2": {
         "anchor": "x2",
         "autorange": true,
         "domain": [
          0,
          1
         ],
         "matches": "y",
         "range": [
          0.26160204231383055,
          0.2967099320093962
         ],
         "showticklabels": false,
         "type": "linear"
        },
        "yaxis3": {
         "anchor": "x3",
         "autorange": true,
         "domain": [
          0,
          1
         ],
         "matches": "y",
         "range": [
          0.26160204231383055,
          0.2967099320093962
         ],
         "showticklabels": false,
         "type": "linear"
        },
        "yaxis4": {
         "anchor": "x4",
         "autorange": true,
         "domain": [
          0,
          1
         ],
         "matches": "y",
         "range": [
          0.26160204231383055,
          0.2967099320093962
         ],
         "showticklabels": false,
         "type": "linear"
        }
       }
      }
     },
     "metadata": {},
     "output_type": "display_data"
    }
   ],
   "source": [
    "fig = make_subplots(rows=1, cols=4, shared_yaxes=True)\n",
    "\n",
    "fig.add_trace(go.Box(y=df_agg_metrics[df_agg_metrics['regularization'] == False].sort_values(by=['mean_rmse']).head(10)['mean_rmse'],\n",
    "                     name=\"all combinations\"),\n",
    "              row=1, col=1)\n",
    "\n",
    "fig.add_trace(go.Box(y=df_agg_metrics[(df_agg_metrics['keyword_f_only'] == True) & (df_agg_metrics['regularization'] == False)].head(10)['mean_rmse'],\n",
    "                    name=\"only keyword features\"),\n",
    "              row=1, col=2)\n",
    "\n",
    "fig.add_trace(go.Box(y=df_agg_metrics[(df_agg_metrics['neural_f_only'] == True) & (df_agg_metrics['regularization'] == False)].sort_values(by=['mean_rmse']).head(10)['mean_rmse'],\n",
    "                    name=\"only neural features\"),\n",
    "              row=1, col=3)\n",
    "\n",
    "fig.add_trace(go.Box(y=df_agg_metrics[(df_agg_metrics['query_f_only'] == True) & (df_agg_metrics['regularization'] == False)].sort_values(by=['mean_rmse']).head(10)['mean_rmse'],\n",
    "                    name=\"only query features\"),\n",
    "              row=1, col=4)\n",
    "\n",
    "fig.update_layout(height=800, width=1100,\n",
    "                  title_text=\"Top 10 Feature Combinations within Feature Groups\")\n",
    "fig.show()"
   ]
  },
  {
   "cell_type": "code",
   "execution_count": 250,
   "id": "987fed89-1ab4-4440-9d27-edd558f8185a",
   "metadata": {},
   "outputs": [
    {
     "data": {
      "application/vnd.plotly.v1+json": {
       "config": {
        "plotlyServerURL": "https://plot.ly"
       },
       "data": [
        {
         "name": "all combinations",
         "type": "box",
         "xaxis": "x",
         "y": [
          0.26335743679860885,
          0.2636955222286129,
          0.26388706028291037,
          0.2641717793897552,
          0.2643801957444843,
          0.2644968949764987,
          0.2646369991628698,
          0.2646392522778525,
          0.26478014807750466,
          0.2648636525026896
         ],
         "yaxis": "y"
        },
        {
         "name": "only keyword features",
         "type": "box",
         "xaxis": "x2",
         "y": [
          0.26712779612780746,
          0.26696023613446745,
          0.2658374015964645,
          0.2686709030585782
         ],
         "yaxis": "y2"
        },
        {
         "name": "only neural features",
         "type": "box",
         "xaxis": "x3",
         "y": [
          0.2682671453980603
         ],
         "yaxis": "y3"
        },
        {
         "name": "only query features",
         "type": "box",
         "xaxis": "x4",
         "y": [
          0.2682870096323014,
          0.26885892846357934,
          0.26893989491237164,
          0.269418061420198,
          0.2697772501477811,
          0.2700453540403992,
          0.27006548444385337,
          0.27008556752979224,
          0.2703988550609867,
          0.2713159368588013
         ],
         "yaxis": "y4"
        }
       ],
       "layout": {
        "height": 800,
        "template": {
         "data": {
          "bar": [
           {
            "error_x": {
             "color": "#2a3f5f"
            },
            "error_y": {
             "color": "#2a3f5f"
            },
            "marker": {
             "line": {
              "color": "#E5ECF6",
              "width": 0.5
             },
             "pattern": {
              "fillmode": "overlay",
              "size": 10,
              "solidity": 0.2
             }
            },
            "type": "bar"
           }
          ],
          "barpolar": [
           {
            "marker": {
             "line": {
              "color": "#E5ECF6",
              "width": 0.5
             },
             "pattern": {
              "fillmode": "overlay",
              "size": 10,
              "solidity": 0.2
             }
            },
            "type": "barpolar"
           }
          ],
          "carpet": [
           {
            "aaxis": {
             "endlinecolor": "#2a3f5f",
             "gridcolor": "white",
             "linecolor": "white",
             "minorgridcolor": "white",
             "startlinecolor": "#2a3f5f"
            },
            "baxis": {
             "endlinecolor": "#2a3f5f",
             "gridcolor": "white",
             "linecolor": "white",
             "minorgridcolor": "white",
             "startlinecolor": "#2a3f5f"
            },
            "type": "carpet"
           }
          ],
          "choropleth": [
           {
            "colorbar": {
             "outlinewidth": 0,
             "ticks": ""
            },
            "type": "choropleth"
           }
          ],
          "contour": [
           {
            "colorbar": {
             "outlinewidth": 0,
             "ticks": ""
            },
            "colorscale": [
             [
              0,
              "#0d0887"
             ],
             [
              0.1111111111111111,
              "#46039f"
             ],
             [
              0.2222222222222222,
              "#7201a8"
             ],
             [
              0.3333333333333333,
              "#9c179e"
             ],
             [
              0.4444444444444444,
              "#bd3786"
             ],
             [
              0.5555555555555556,
              "#d8576b"
             ],
             [
              0.6666666666666666,
              "#ed7953"
             ],
             [
              0.7777777777777778,
              "#fb9f3a"
             ],
             [
              0.8888888888888888,
              "#fdca26"
             ],
             [
              1,
              "#f0f921"
             ]
            ],
            "type": "contour"
           }
          ],
          "contourcarpet": [
           {
            "colorbar": {
             "outlinewidth": 0,
             "ticks": ""
            },
            "type": "contourcarpet"
           }
          ],
          "heatmap": [
           {
            "colorbar": {
             "outlinewidth": 0,
             "ticks": ""
            },
            "colorscale": [
             [
              0,
              "#0d0887"
             ],
             [
              0.1111111111111111,
              "#46039f"
             ],
             [
              0.2222222222222222,
              "#7201a8"
             ],
             [
              0.3333333333333333,
              "#9c179e"
             ],
             [
              0.4444444444444444,
              "#bd3786"
             ],
             [
              0.5555555555555556,
              "#d8576b"
             ],
             [
              0.6666666666666666,
              "#ed7953"
             ],
             [
              0.7777777777777778,
              "#fb9f3a"
             ],
             [
              0.8888888888888888,
              "#fdca26"
             ],
             [
              1,
              "#f0f921"
             ]
            ],
            "type": "heatmap"
           }
          ],
          "heatmapgl": [
           {
            "colorbar": {
             "outlinewidth": 0,
             "ticks": ""
            },
            "colorscale": [
             [
              0,
              "#0d0887"
             ],
             [
              0.1111111111111111,
              "#46039f"
             ],
             [
              0.2222222222222222,
              "#7201a8"
             ],
             [
              0.3333333333333333,
              "#9c179e"
             ],
             [
              0.4444444444444444,
              "#bd3786"
             ],
             [
              0.5555555555555556,
              "#d8576b"
             ],
             [
              0.6666666666666666,
              "#ed7953"
             ],
             [
              0.7777777777777778,
              "#fb9f3a"
             ],
             [
              0.8888888888888888,
              "#fdca26"
             ],
             [
              1,
              "#f0f921"
             ]
            ],
            "type": "heatmapgl"
           }
          ],
          "histogram": [
           {
            "marker": {
             "pattern": {
              "fillmode": "overlay",
              "size": 10,
              "solidity": 0.2
             }
            },
            "type": "histogram"
           }
          ],
          "histogram2d": [
           {
            "colorbar": {
             "outlinewidth": 0,
             "ticks": ""
            },
            "colorscale": [
             [
              0,
              "#0d0887"
             ],
             [
              0.1111111111111111,
              "#46039f"
             ],
             [
              0.2222222222222222,
              "#7201a8"
             ],
             [
              0.3333333333333333,
              "#9c179e"
             ],
             [
              0.4444444444444444,
              "#bd3786"
             ],
             [
              0.5555555555555556,
              "#d8576b"
             ],
             [
              0.6666666666666666,
              "#ed7953"
             ],
             [
              0.7777777777777778,
              "#fb9f3a"
             ],
             [
              0.8888888888888888,
              "#fdca26"
             ],
             [
              1,
              "#f0f921"
             ]
            ],
            "type": "histogram2d"
           }
          ],
          "histogram2dcontour": [
           {
            "colorbar": {
             "outlinewidth": 0,
             "ticks": ""
            },
            "colorscale": [
             [
              0,
              "#0d0887"
             ],
             [
              0.1111111111111111,
              "#46039f"
             ],
             [
              0.2222222222222222,
              "#7201a8"
             ],
             [
              0.3333333333333333,
              "#9c179e"
             ],
             [
              0.4444444444444444,
              "#bd3786"
             ],
             [
              0.5555555555555556,
              "#d8576b"
             ],
             [
              0.6666666666666666,
              "#ed7953"
             ],
             [
              0.7777777777777778,
              "#fb9f3a"
             ],
             [
              0.8888888888888888,
              "#fdca26"
             ],
             [
              1,
              "#f0f921"
             ]
            ],
            "type": "histogram2dcontour"
           }
          ],
          "mesh3d": [
           {
            "colorbar": {
             "outlinewidth": 0,
             "ticks": ""
            },
            "type": "mesh3d"
           }
          ],
          "parcoords": [
           {
            "line": {
             "colorbar": {
              "outlinewidth": 0,
              "ticks": ""
             }
            },
            "type": "parcoords"
           }
          ],
          "pie": [
           {
            "automargin": true,
            "type": "pie"
           }
          ],
          "scatter": [
           {
            "fillpattern": {
             "fillmode": "overlay",
             "size": 10,
             "solidity": 0.2
            },
            "type": "scatter"
           }
          ],
          "scatter3d": [
           {
            "line": {
             "colorbar": {
              "outlinewidth": 0,
              "ticks": ""
             }
            },
            "marker": {
             "colorbar": {
              "outlinewidth": 0,
              "ticks": ""
             }
            },
            "type": "scatter3d"
           }
          ],
          "scattercarpet": [
           {
            "marker": {
             "colorbar": {
              "outlinewidth": 0,
              "ticks": ""
             }
            },
            "type": "scattercarpet"
           }
          ],
          "scattergeo": [
           {
            "marker": {
             "colorbar": {
              "outlinewidth": 0,
              "ticks": ""
             }
            },
            "type": "scattergeo"
           }
          ],
          "scattergl": [
           {
            "marker": {
             "colorbar": {
              "outlinewidth": 0,
              "ticks": ""
             }
            },
            "type": "scattergl"
           }
          ],
          "scattermapbox": [
           {
            "marker": {
             "colorbar": {
              "outlinewidth": 0,
              "ticks": ""
             }
            },
            "type": "scattermapbox"
           }
          ],
          "scatterpolar": [
           {
            "marker": {
             "colorbar": {
              "outlinewidth": 0,
              "ticks": ""
             }
            },
            "type": "scatterpolar"
           }
          ],
          "scatterpolargl": [
           {
            "marker": {
             "colorbar": {
              "outlinewidth": 0,
              "ticks": ""
             }
            },
            "type": "scatterpolargl"
           }
          ],
          "scatterternary": [
           {
            "marker": {
             "colorbar": {
              "outlinewidth": 0,
              "ticks": ""
             }
            },
            "type": "scatterternary"
           }
          ],
          "surface": [
           {
            "colorbar": {
             "outlinewidth": 0,
             "ticks": ""
            },
            "colorscale": [
             [
              0,
              "#0d0887"
             ],
             [
              0.1111111111111111,
              "#46039f"
             ],
             [
              0.2222222222222222,
              "#7201a8"
             ],
             [
              0.3333333333333333,
              "#9c179e"
             ],
             [
              0.4444444444444444,
              "#bd3786"
             ],
             [
              0.5555555555555556,
              "#d8576b"
             ],
             [
              0.6666666666666666,
              "#ed7953"
             ],
             [
              0.7777777777777778,
              "#fb9f3a"
             ],
             [
              0.8888888888888888,
              "#fdca26"
             ],
             [
              1,
              "#f0f921"
             ]
            ],
            "type": "surface"
           }
          ],
          "table": [
           {
            "cells": {
             "fill": {
              "color": "#EBF0F8"
             },
             "line": {
              "color": "white"
             }
            },
            "header": {
             "fill": {
              "color": "#C8D4E3"
             },
             "line": {
              "color": "white"
             }
            },
            "type": "table"
           }
          ]
         },
         "layout": {
          "annotationdefaults": {
           "arrowcolor": "#2a3f5f",
           "arrowhead": 0,
           "arrowwidth": 1
          },
          "autotypenumbers": "strict",
          "coloraxis": {
           "colorbar": {
            "outlinewidth": 0,
            "ticks": ""
           }
          },
          "colorscale": {
           "diverging": [
            [
             0,
             "#8e0152"
            ],
            [
             0.1,
             "#c51b7d"
            ],
            [
             0.2,
             "#de77ae"
            ],
            [
             0.3,
             "#f1b6da"
            ],
            [
             0.4,
             "#fde0ef"
            ],
            [
             0.5,
             "#f7f7f7"
            ],
            [
             0.6,
             "#e6f5d0"
            ],
            [
             0.7,
             "#b8e186"
            ],
            [
             0.8,
             "#7fbc41"
            ],
            [
             0.9,
             "#4d9221"
            ],
            [
             1,
             "#276419"
            ]
           ],
           "sequential": [
            [
             0,
             "#0d0887"
            ],
            [
             0.1111111111111111,
             "#46039f"
            ],
            [
             0.2222222222222222,
             "#7201a8"
            ],
            [
             0.3333333333333333,
             "#9c179e"
            ],
            [
             0.4444444444444444,
             "#bd3786"
            ],
            [
             0.5555555555555556,
             "#d8576b"
            ],
            [
             0.6666666666666666,
             "#ed7953"
            ],
            [
             0.7777777777777778,
             "#fb9f3a"
            ],
            [
             0.8888888888888888,
             "#fdca26"
            ],
            [
             1,
             "#f0f921"
            ]
           ],
           "sequentialminus": [
            [
             0,
             "#0d0887"
            ],
            [
             0.1111111111111111,
             "#46039f"
            ],
            [
             0.2222222222222222,
             "#7201a8"
            ],
            [
             0.3333333333333333,
             "#9c179e"
            ],
            [
             0.4444444444444444,
             "#bd3786"
            ],
            [
             0.5555555555555556,
             "#d8576b"
            ],
            [
             0.6666666666666666,
             "#ed7953"
            ],
            [
             0.7777777777777778,
             "#fb9f3a"
            ],
            [
             0.8888888888888888,
             "#fdca26"
            ],
            [
             1,
             "#f0f921"
            ]
           ]
          },
          "colorway": [
           "#636efa",
           "#EF553B",
           "#00cc96",
           "#ab63fa",
           "#FFA15A",
           "#19d3f3",
           "#FF6692",
           "#B6E880",
           "#FF97FF",
           "#FECB52"
          ],
          "font": {
           "color": "#2a3f5f"
          },
          "geo": {
           "bgcolor": "white",
           "lakecolor": "white",
           "landcolor": "#E5ECF6",
           "showlakes": true,
           "showland": true,
           "subunitcolor": "white"
          },
          "hoverlabel": {
           "align": "left"
          },
          "hovermode": "closest",
          "mapbox": {
           "style": "light"
          },
          "paper_bgcolor": "white",
          "plot_bgcolor": "#E5ECF6",
          "polar": {
           "angularaxis": {
            "gridcolor": "white",
            "linecolor": "white",
            "ticks": ""
           },
           "bgcolor": "#E5ECF6",
           "radialaxis": {
            "gridcolor": "white",
            "linecolor": "white",
            "ticks": ""
           }
          },
          "scene": {
           "xaxis": {
            "backgroundcolor": "#E5ECF6",
            "gridcolor": "white",
            "gridwidth": 2,
            "linecolor": "white",
            "showbackground": true,
            "ticks": "",
            "zerolinecolor": "white"
           },
           "yaxis": {
            "backgroundcolor": "#E5ECF6",
            "gridcolor": "white",
            "gridwidth": 2,
            "linecolor": "white",
            "showbackground": true,
            "ticks": "",
            "zerolinecolor": "white"
           },
           "zaxis": {
            "backgroundcolor": "#E5ECF6",
            "gridcolor": "white",
            "gridwidth": 2,
            "linecolor": "white",
            "showbackground": true,
            "ticks": "",
            "zerolinecolor": "white"
           }
          },
          "shapedefaults": {
           "line": {
            "color": "#2a3f5f"
           }
          },
          "ternary": {
           "aaxis": {
            "gridcolor": "white",
            "linecolor": "white",
            "ticks": ""
           },
           "baxis": {
            "gridcolor": "white",
            "linecolor": "white",
            "ticks": ""
           },
           "bgcolor": "#E5ECF6",
           "caxis": {
            "gridcolor": "white",
            "linecolor": "white",
            "ticks": ""
           }
          },
          "title": {
           "x": 0.05
          },
          "xaxis": {
           "automargin": true,
           "gridcolor": "white",
           "linecolor": "white",
           "ticks": "",
           "title": {
            "standoff": 15
           },
           "zerolinecolor": "white",
           "zerolinewidth": 2
          },
          "yaxis": {
           "automargin": true,
           "gridcolor": "white",
           "linecolor": "white",
           "ticks": "",
           "title": {
            "standoff": 15
           },
           "zerolinecolor": "white",
           "zerolinewidth": 2
          }
         }
        },
        "title": {
         "text": "Linear Model - Top 10 Feature Combinations within Feature Groups"
        },
        "width": 1100,
        "xaxis": {
         "anchor": "y",
         "autorange": true,
         "domain": [
          0,
          0.2125
         ],
         "range": [
          -0.5,
          0.5
         ],
         "type": "category"
        },
        "xaxis2": {
         "anchor": "y2",
         "autorange": true,
         "domain": [
          0.2625,
          0.475
         ],
         "range": [
          -0.5,
          0.5
         ],
         "type": "category"
        },
        "xaxis3": {
         "anchor": "y3",
         "autorange": true,
         "domain": [
          0.525,
          0.7375
         ],
         "range": [
          -0.5,
          0.5
         ],
         "type": "category"
        },
        "xaxis4": {
         "anchor": "y4",
         "autorange": true,
         "domain": [
          0.7875,
          1
         ],
         "range": [
          -0.5,
          0.5
         ],
         "type": "category"
        },
        "yaxis": {
         "anchor": "x",
         "autorange": true,
         "domain": [
          0,
          1
         ],
         "range": [
          0.2629152979063759,
          0.2717580757510342
         ],
         "type": "linear"
        },
        "yaxis2": {
         "anchor": "x2",
         "autorange": true,
         "domain": [
          0,
          1
         ],
         "matches": "y",
         "range": [
          0.2629152979063759,
          0.2717580757510342
         ],
         "showticklabels": false,
         "type": "linear"
        },
        "yaxis3": {
         "anchor": "x3",
         "autorange": true,
         "domain": [
          0,
          1
         ],
         "matches": "y",
         "range": [
          0.2629152979063759,
          0.2717580757510342
         ],
         "showticklabels": false,
         "type": "linear"
        },
        "yaxis4": {
         "anchor": "x4",
         "autorange": true,
         "domain": [
          0,
          1
         ],
         "matches": "y",
         "range": [
          0.2629152979063759,
          0.2717580757510342
         ],
         "showticklabels": false,
         "type": "linear"
        }
       }
      }
     },
     "metadata": {},
     "output_type": "display_data"
    }
   ],
   "source": [
    "fig = make_subplots(rows=1, cols=4, shared_yaxes=True)\n",
    "\n",
    "fig.add_trace(go.Box(y=df_agg_metrics[(df_agg_metrics['model'] == 'lr') & (df_agg_metrics['regularization'] == False)].sort_values(by=['mean_rmse']).head(10)['mean_rmse'],\n",
    "                     name=\"all combinations\"),\n",
    "              row=1, col=1)\n",
    "\n",
    "fig.add_trace(go.Box(y=df_agg_metrics[(df_agg_metrics['keyword_f_only'] == True) & (df_agg_metrics['model'] == 'lr') & (df_agg_metrics['regularization'] == False)].head(10)['mean_rmse'],\n",
    "                    name=\"only keyword features\"),\n",
    "              row=1, col=2)\n",
    "\n",
    "fig.add_trace(go.Box(y=df_agg_metrics[(df_agg_metrics['neural_f_only'] == True) & (df_agg_metrics['model'] == 'lr') & (df_agg_metrics['regularization'] == False)].sort_values(by=['mean_rmse']).head(10)['mean_rmse'],\n",
    "                    name=\"only neural features\"),\n",
    "              row=1, col=3)\n",
    "\n",
    "fig.add_trace(go.Box(y=df_agg_metrics[(df_agg_metrics['query_f_only'] == True) & (df_agg_metrics['model'] == 'lr') & (df_agg_metrics['regularization'] == False)].sort_values(by=['mean_rmse']).head(10)['mean_rmse'],\n",
    "                    name=\"only query features\"),\n",
    "              row=1, col=4)\n",
    "\n",
    "fig.update_layout(height=800, width=1100,\n",
    "                  title_text=\"Linear Model - Top 10 Feature Combinations within Feature Groups\")\n",
    "fig.show()"
   ]
  },
  {
   "cell_type": "code",
   "execution_count": 251,
   "id": "ec09bf70-9b1f-46b7-8739-b6eec18c7191",
   "metadata": {},
   "outputs": [
    {
     "data": {
      "application/vnd.plotly.v1+json": {
       "config": {
        "plotlyServerURL": "https://plot.ly"
       },
       "data": [
        {
         "name": "all combinations",
         "type": "box",
         "xaxis": "x",
         "y": [
          0.27058291759236447,
          0.272500952291304,
          0.27257816027941356,
          0.27264637655576285,
          0.27296073522684533,
          0.2735879470134229,
          0.2742746830681924,
          0.2745412227084886,
          0.2746784639359813,
          0.2751973956362202
         ],
         "yaxis": "y"
        },
        {
         "name": "only keyword features",
         "type": "box",
         "xaxis": "x2",
         "y": [
          0.28058992074520434,
          0.2778242935738671,
          0.2751973956362202,
          0.2949545375246179
         ],
         "yaxis": "y2"
        },
        {
         "name": "only neural features",
         "type": "box",
         "xaxis": "x3",
         "y": [
          0.2932054677366623
         ],
         "yaxis": "y3"
        },
        {
         "name": "only query features",
         "type": "box",
         "xaxis": "x4",
         "y": [
          0.27257816027941356,
          0.27966779783551565,
          0.28280106317656306,
          0.28704726647352063,
          0.2906207189978822,
          0.29131739463001066,
          0.29208682803165376,
          0.29960145004989475,
          0.29978236369685174,
          0.30244523054268524
         ],
         "yaxis": "y4"
        }
       ],
       "layout": {
        "height": 800,
        "template": {
         "data": {
          "bar": [
           {
            "error_x": {
             "color": "#2a3f5f"
            },
            "error_y": {
             "color": "#2a3f5f"
            },
            "marker": {
             "line": {
              "color": "#E5ECF6",
              "width": 0.5
             },
             "pattern": {
              "fillmode": "overlay",
              "size": 10,
              "solidity": 0.2
             }
            },
            "type": "bar"
           }
          ],
          "barpolar": [
           {
            "marker": {
             "line": {
              "color": "#E5ECF6",
              "width": 0.5
             },
             "pattern": {
              "fillmode": "overlay",
              "size": 10,
              "solidity": 0.2
             }
            },
            "type": "barpolar"
           }
          ],
          "carpet": [
           {
            "aaxis": {
             "endlinecolor": "#2a3f5f",
             "gridcolor": "white",
             "linecolor": "white",
             "minorgridcolor": "white",
             "startlinecolor": "#2a3f5f"
            },
            "baxis": {
             "endlinecolor": "#2a3f5f",
             "gridcolor": "white",
             "linecolor": "white",
             "minorgridcolor": "white",
             "startlinecolor": "#2a3f5f"
            },
            "type": "carpet"
           }
          ],
          "choropleth": [
           {
            "colorbar": {
             "outlinewidth": 0,
             "ticks": ""
            },
            "type": "choropleth"
           }
          ],
          "contour": [
           {
            "colorbar": {
             "outlinewidth": 0,
             "ticks": ""
            },
            "colorscale": [
             [
              0,
              "#0d0887"
             ],
             [
              0.1111111111111111,
              "#46039f"
             ],
             [
              0.2222222222222222,
              "#7201a8"
             ],
             [
              0.3333333333333333,
              "#9c179e"
             ],
             [
              0.4444444444444444,
              "#bd3786"
             ],
             [
              0.5555555555555556,
              "#d8576b"
             ],
             [
              0.6666666666666666,
              "#ed7953"
             ],
             [
              0.7777777777777778,
              "#fb9f3a"
             ],
             [
              0.8888888888888888,
              "#fdca26"
             ],
             [
              1,
              "#f0f921"
             ]
            ],
            "type": "contour"
           }
          ],
          "contourcarpet": [
           {
            "colorbar": {
             "outlinewidth": 0,
             "ticks": ""
            },
            "type": "contourcarpet"
           }
          ],
          "heatmap": [
           {
            "colorbar": {
             "outlinewidth": 0,
             "ticks": ""
            },
            "colorscale": [
             [
              0,
              "#0d0887"
             ],
             [
              0.1111111111111111,
              "#46039f"
             ],
             [
              0.2222222222222222,
              "#7201a8"
             ],
             [
              0.3333333333333333,
              "#9c179e"
             ],
             [
              0.4444444444444444,
              "#bd3786"
             ],
             [
              0.5555555555555556,
              "#d8576b"
             ],
             [
              0.6666666666666666,
              "#ed7953"
             ],
             [
              0.7777777777777778,
              "#fb9f3a"
             ],
             [
              0.8888888888888888,
              "#fdca26"
             ],
             [
              1,
              "#f0f921"
             ]
            ],
            "type": "heatmap"
           }
          ],
          "heatmapgl": [
           {
            "colorbar": {
             "outlinewidth": 0,
             "ticks": ""
            },
            "colorscale": [
             [
              0,
              "#0d0887"
             ],
             [
              0.1111111111111111,
              "#46039f"
             ],
             [
              0.2222222222222222,
              "#7201a8"
             ],
             [
              0.3333333333333333,
              "#9c179e"
             ],
             [
              0.4444444444444444,
              "#bd3786"
             ],
             [
              0.5555555555555556,
              "#d8576b"
             ],
             [
              0.6666666666666666,
              "#ed7953"
             ],
             [
              0.7777777777777778,
              "#fb9f3a"
             ],
             [
              0.8888888888888888,
              "#fdca26"
             ],
             [
              1,
              "#f0f921"
             ]
            ],
            "type": "heatmapgl"
           }
          ],
          "histogram": [
           {
            "marker": {
             "pattern": {
              "fillmode": "overlay",
              "size": 10,
              "solidity": 0.2
             }
            },
            "type": "histogram"
           }
          ],
          "histogram2d": [
           {
            "colorbar": {
             "outlinewidth": 0,
             "ticks": ""
            },
            "colorscale": [
             [
              0,
              "#0d0887"
             ],
             [
              0.1111111111111111,
              "#46039f"
             ],
             [
              0.2222222222222222,
              "#7201a8"
             ],
             [
              0.3333333333333333,
              "#9c179e"
             ],
             [
              0.4444444444444444,
              "#bd3786"
             ],
             [
              0.5555555555555556,
              "#d8576b"
             ],
             [
              0.6666666666666666,
              "#ed7953"
             ],
             [
              0.7777777777777778,
              "#fb9f3a"
             ],
             [
              0.8888888888888888,
              "#fdca26"
             ],
             [
              1,
              "#f0f921"
             ]
            ],
            "type": "histogram2d"
           }
          ],
          "histogram2dcontour": [
           {
            "colorbar": {
             "outlinewidth": 0,
             "ticks": ""
            },
            "colorscale": [
             [
              0,
              "#0d0887"
             ],
             [
              0.1111111111111111,
              "#46039f"
             ],
             [
              0.2222222222222222,
              "#7201a8"
             ],
             [
              0.3333333333333333,
              "#9c179e"
             ],
             [
              0.4444444444444444,
              "#bd3786"
             ],
             [
              0.5555555555555556,
              "#d8576b"
             ],
             [
              0.6666666666666666,
              "#ed7953"
             ],
             [
              0.7777777777777778,
              "#fb9f3a"
             ],
             [
              0.8888888888888888,
              "#fdca26"
             ],
             [
              1,
              "#f0f921"
             ]
            ],
            "type": "histogram2dcontour"
           }
          ],
          "mesh3d": [
           {
            "colorbar": {
             "outlinewidth": 0,
             "ticks": ""
            },
            "type": "mesh3d"
           }
          ],
          "parcoords": [
           {
            "line": {
             "colorbar": {
              "outlinewidth": 0,
              "ticks": ""
             }
            },
            "type": "parcoords"
           }
          ],
          "pie": [
           {
            "automargin": true,
            "type": "pie"
           }
          ],
          "scatter": [
           {
            "fillpattern": {
             "fillmode": "overlay",
             "size": 10,
             "solidity": 0.2
            },
            "type": "scatter"
           }
          ],
          "scatter3d": [
           {
            "line": {
             "colorbar": {
              "outlinewidth": 0,
              "ticks": ""
             }
            },
            "marker": {
             "colorbar": {
              "outlinewidth": 0,
              "ticks": ""
             }
            },
            "type": "scatter3d"
           }
          ],
          "scattercarpet": [
           {
            "marker": {
             "colorbar": {
              "outlinewidth": 0,
              "ticks": ""
             }
            },
            "type": "scattercarpet"
           }
          ],
          "scattergeo": [
           {
            "marker": {
             "colorbar": {
              "outlinewidth": 0,
              "ticks": ""
             }
            },
            "type": "scattergeo"
           }
          ],
          "scattergl": [
           {
            "marker": {
             "colorbar": {
              "outlinewidth": 0,
              "ticks": ""
             }
            },
            "type": "scattergl"
           }
          ],
          "scattermapbox": [
           {
            "marker": {
             "colorbar": {
              "outlinewidth": 0,
              "ticks": ""
             }
            },
            "type": "scattermapbox"
           }
          ],
          "scatterpolar": [
           {
            "marker": {
             "colorbar": {
              "outlinewidth": 0,
              "ticks": ""
             }
            },
            "type": "scatterpolar"
           }
          ],
          "scatterpolargl": [
           {
            "marker": {
             "colorbar": {
              "outlinewidth": 0,
              "ticks": ""
             }
            },
            "type": "scatterpolargl"
           }
          ],
          "scatterternary": [
           {
            "marker": {
             "colorbar": {
              "outlinewidth": 0,
              "ticks": ""
             }
            },
            "type": "scatterternary"
           }
          ],
          "surface": [
           {
            "colorbar": {
             "outlinewidth": 0,
             "ticks": ""
            },
            "colorscale": [
             [
              0,
              "#0d0887"
             ],
             [
              0.1111111111111111,
              "#46039f"
             ],
             [
              0.2222222222222222,
              "#7201a8"
             ],
             [
              0.3333333333333333,
              "#9c179e"
             ],
             [
              0.4444444444444444,
              "#bd3786"
             ],
             [
              0.5555555555555556,
              "#d8576b"
             ],
             [
              0.6666666666666666,
              "#ed7953"
             ],
             [
              0.7777777777777778,
              "#fb9f3a"
             ],
             [
              0.8888888888888888,
              "#fdca26"
             ],
             [
              1,
              "#f0f921"
             ]
            ],
            "type": "surface"
           }
          ],
          "table": [
           {
            "cells": {
             "fill": {
              "color": "#EBF0F8"
             },
             "line": {
              "color": "white"
             }
            },
            "header": {
             "fill": {
              "color": "#C8D4E3"
             },
             "line": {
              "color": "white"
             }
            },
            "type": "table"
           }
          ]
         },
         "layout": {
          "annotationdefaults": {
           "arrowcolor": "#2a3f5f",
           "arrowhead": 0,
           "arrowwidth": 1
          },
          "autotypenumbers": "strict",
          "coloraxis": {
           "colorbar": {
            "outlinewidth": 0,
            "ticks": ""
           }
          },
          "colorscale": {
           "diverging": [
            [
             0,
             "#8e0152"
            ],
            [
             0.1,
             "#c51b7d"
            ],
            [
             0.2,
             "#de77ae"
            ],
            [
             0.3,
             "#f1b6da"
            ],
            [
             0.4,
             "#fde0ef"
            ],
            [
             0.5,
             "#f7f7f7"
            ],
            [
             0.6,
             "#e6f5d0"
            ],
            [
             0.7,
             "#b8e186"
            ],
            [
             0.8,
             "#7fbc41"
            ],
            [
             0.9,
             "#4d9221"
            ],
            [
             1,
             "#276419"
            ]
           ],
           "sequential": [
            [
             0,
             "#0d0887"
            ],
            [
             0.1111111111111111,
             "#46039f"
            ],
            [
             0.2222222222222222,
             "#7201a8"
            ],
            [
             0.3333333333333333,
             "#9c179e"
            ],
            [
             0.4444444444444444,
             "#bd3786"
            ],
            [
             0.5555555555555556,
             "#d8576b"
            ],
            [
             0.6666666666666666,
             "#ed7953"
            ],
            [
             0.7777777777777778,
             "#fb9f3a"
            ],
            [
             0.8888888888888888,
             "#fdca26"
            ],
            [
             1,
             "#f0f921"
            ]
           ],
           "sequentialminus": [
            [
             0,
             "#0d0887"
            ],
            [
             0.1111111111111111,
             "#46039f"
            ],
            [
             0.2222222222222222,
             "#7201a8"
            ],
            [
             0.3333333333333333,
             "#9c179e"
            ],
            [
             0.4444444444444444,
             "#bd3786"
            ],
            [
             0.5555555555555556,
             "#d8576b"
            ],
            [
             0.6666666666666666,
             "#ed7953"
            ],
            [
             0.7777777777777778,
             "#fb9f3a"
            ],
            [
             0.8888888888888888,
             "#fdca26"
            ],
            [
             1,
             "#f0f921"
            ]
           ]
          },
          "colorway": [
           "#636efa",
           "#EF553B",
           "#00cc96",
           "#ab63fa",
           "#FFA15A",
           "#19d3f3",
           "#FF6692",
           "#B6E880",
           "#FF97FF",
           "#FECB52"
          ],
          "font": {
           "color": "#2a3f5f"
          },
          "geo": {
           "bgcolor": "white",
           "lakecolor": "white",
           "landcolor": "#E5ECF6",
           "showlakes": true,
           "showland": true,
           "subunitcolor": "white"
          },
          "hoverlabel": {
           "align": "left"
          },
          "hovermode": "closest",
          "mapbox": {
           "style": "light"
          },
          "paper_bgcolor": "white",
          "plot_bgcolor": "#E5ECF6",
          "polar": {
           "angularaxis": {
            "gridcolor": "white",
            "linecolor": "white",
            "ticks": ""
           },
           "bgcolor": "#E5ECF6",
           "radialaxis": {
            "gridcolor": "white",
            "linecolor": "white",
            "ticks": ""
           }
          },
          "scene": {
           "xaxis": {
            "backgroundcolor": "#E5ECF6",
            "gridcolor": "white",
            "gridwidth": 2,
            "linecolor": "white",
            "showbackground": true,
            "ticks": "",
            "zerolinecolor": "white"
           },
           "yaxis": {
            "backgroundcolor": "#E5ECF6",
            "gridcolor": "white",
            "gridwidth": 2,
            "linecolor": "white",
            "showbackground": true,
            "ticks": "",
            "zerolinecolor": "white"
           },
           "zaxis": {
            "backgroundcolor": "#E5ECF6",
            "gridcolor": "white",
            "gridwidth": 2,
            "linecolor": "white",
            "showbackground": true,
            "ticks": "",
            "zerolinecolor": "white"
           }
          },
          "shapedefaults": {
           "line": {
            "color": "#2a3f5f"
           }
          },
          "ternary": {
           "aaxis": {
            "gridcolor": "white",
            "linecolor": "white",
            "ticks": ""
           },
           "baxis": {
            "gridcolor": "white",
            "linecolor": "white",
            "ticks": ""
           },
           "bgcolor": "#E5ECF6",
           "caxis": {
            "gridcolor": "white",
            "linecolor": "white",
            "ticks": ""
           }
          },
          "title": {
           "x": 0.05
          },
          "xaxis": {
           "automargin": true,
           "gridcolor": "white",
           "linecolor": "white",
           "ticks": "",
           "title": {
            "standoff": 15
           },
           "zerolinecolor": "white",
           "zerolinewidth": 2
          },
          "yaxis": {
           "automargin": true,
           "gridcolor": "white",
           "linecolor": "white",
           "ticks": "",
           "title": {
            "standoff": 15
           },
           "zerolinecolor": "white",
           "zerolinewidth": 2
          }
         }
        },
        "title": {
         "text": "Random Forest - Top 10 Feature Combinations within Feature Groups"
        },
        "width": 1100,
        "xaxis": {
         "anchor": "y",
         "autorange": true,
         "domain": [
          0,
          0.2125
         ],
         "range": [
          -0.5,
          0.5
         ],
         "type": "category"
        },
        "xaxis2": {
         "anchor": "y2",
         "autorange": true,
         "domain": [
          0.2625,
          0.475
         ],
         "range": [
          -0.5,
          0.5
         ],
         "type": "category"
        },
        "xaxis3": {
         "anchor": "y3",
         "autorange": true,
         "domain": [
          0.525,
          0.7375
         ],
         "range": [
          -0.5,
          0.5
         ],
         "type": "category"
        },
        "xaxis4": {
         "anchor": "y4",
         "autorange": true,
         "domain": [
          0.7875,
          1
         ],
         "range": [
          -0.5,
          0.5
         ],
         "type": "category"
        },
        "yaxis": {
         "anchor": "x",
         "autorange": true,
         "domain": [
          0,
          1
         ],
         "range": [
          0.2688127890951244,
          0.3042153590399253
         ],
         "type": "linear"
        },
        "yaxis2": {
         "anchor": "x2",
         "autorange": true,
         "domain": [
          0,
          1
         ],
         "matches": "y",
         "range": [
          0.2688127890951244,
          0.3042153590399253
         ],
         "showticklabels": false,
         "type": "linear"
        },
        "yaxis3": {
         "anchor": "x3",
         "autorange": true,
         "domain": [
          0,
          1
         ],
         "matches": "y",
         "range": [
          0.2688127890951244,
          0.3042153590399253
         ],
         "showticklabels": false,
         "type": "linear"
        },
        "yaxis4": {
         "anchor": "x4",
         "autorange": true,
         "domain": [
          0,
          1
         ],
         "matches": "y",
         "range": [
          0.2688127890951244,
          0.3042153590399253
         ],
         "showticklabels": false,
         "type": "linear"
        }
       }
      }
     },
     "metadata": {},
     "output_type": "display_data"
    }
   ],
   "source": [
    "fig = make_subplots(rows=1, cols=4, shared_yaxes=True)\n",
    "\n",
    "fig.add_trace(go.Box(y=df_agg_metrics[(df_agg_metrics['model'] == 'rf') & (df_agg_metrics['regularization'] == False)].sort_values(by=['mean_rmse']).head(10)['mean_rmse'],\n",
    "                     name=\"all combinations\"),\n",
    "              row=1, col=1)\n",
    "\n",
    "fig.add_trace(go.Box(y=df_agg_metrics[(df_agg_metrics['keyword_f_only'] == True) & (df_agg_metrics['model'] == 'rf') & (df_agg_metrics['regularization'] == False)].head(10)['mean_rmse'],\n",
    "                    name=\"only keyword features\"),\n",
    "              row=1, col=2)\n",
    "\n",
    "fig.add_trace(go.Box(y=df_agg_metrics[(df_agg_metrics['neural_f_only'] == True) & (df_agg_metrics['model'] == 'rf') & (df_agg_metrics['regularization'] == False)].sort_values(by=['mean_rmse']).head(10)['mean_rmse'],\n",
    "                    name=\"only neural features\"),\n",
    "              row=1, col=3)\n",
    "\n",
    "fig.add_trace(go.Box(y=df_agg_metrics[(df_agg_metrics['query_f_only'] == True) & (df_agg_metrics['model'] == 'rf') & (df_agg_metrics['regularization'] == False)].sort_values(by=['mean_rmse']).head(10)['mean_rmse'],\n",
    "                    name=\"only query features\"),\n",
    "              row=1, col=4)\n",
    "\n",
    "fig.update_layout(height=800, width=1100,\n",
    "                  title_text=\"Random Forest - Top 10 Feature Combinations within Feature Groups\")\n",
    "fig.show()"
   ]
  },
  {
   "cell_type": "markdown",
   "id": "98afa583-dea4-4cf1-9365-16141fb2f307",
   "metadata": {},
   "source": [
    "# Train Models\n",
    "\n",
    "With the above exploration and analysis done, we can train a linear regression model and a random forest regressor by using some of the insights the analysis produced."
   ]
  },
  {
   "cell_type": "markdown",
   "id": "9a08e042-2293-43a4-b088-5202f232355d",
   "metadata": {},
   "source": [
    "## Train a Linear Regression Model with cross-validation"
   ]
  },
  {
   "cell_type": "code",
   "execution_count": 270,
   "id": "e2059c2e-1ca9-4529-949c-c939225ff637",
   "metadata": {},
   "outputs": [
    {
     "name": "stdout",
     "output_type": "stream",
     "text": [
      "Cross-Validation Root Mean Squared Error: 0.26376753118554336\n",
      "Root Mean Squared Error: 0.18903543246643553\n",
      "R^2 Score: -2.899118523228995e+30\n"
     ]
    }
   ],
   "source": [
    "from sklearn.linear_model import LinearRegression, Ridge\n",
    "from sklearn.model_selection import ShuffleSplit, cross_val_score, train_test_split\n",
    "\n",
    "# Prepare features and target - the best feature combination based on the previous exploration\n",
    "#feature_columns = [ \"f_1_num_of_terms\", \"f_2_query_length\", \"f_3_has_numbers\", \"f_4_has_special_char\", \"f_5_num_results\",\n",
    "#                   \"f_6_max_title_score\", \"f_7_sum_title_scores\", \"f_8_max_semantic_score\",  \"f_9_avg_semantic_score\"]\n",
    "feature_columns = ['f_1_num_of_terms', 'f_5_num_results', 'f_7_sum_title_scores', 'f_9_avg_semantic_score']\n",
    "X = df_filtered[feature_columns]   # Select feature columns\n",
    "y = df_filtered['neuralness']      # Select the target column\n",
    "\n",
    "# Initialize cross-validation strategy\n",
    "cv = ShuffleSplit(n_splits=5, test_size=0.2, random_state=0)\n",
    "\n",
    "# Define the model - choose the best option based on experiments above\n",
    "#regr = LinearRegression()\n",
    "regr = Ridge(alpha=alpha)\n",
    "\n",
    "# Perform cross-validation\n",
    "rmse_scorer = make_scorer(root_mean_squared_error)\n",
    "\n",
    "rmse_scores = cross_val_score(regr, X, y, cv=cv, scoring=rmse_scorer)\n",
    "\n",
    "# Output the results\n",
    "print(\"Cross-Validation Root Mean Squared Error:\", np.mean(rmse_scores))\n",
    "\n",
    "# Split data into training and testing sets\n",
    "# Do that manually to have the identical distribution as with the baseline and hybrid search optimizer runs \n",
    "# Otherwise no fair comparison\n",
    "X_train = df_filtered[df_filtered['query_string'].isin(df_metrics_train['query'])][feature_columns]\n",
    "y_train = df_filtered[df_filtered['query_string'].isin(df_metrics_train['query'])]['neuralness']\n",
    "X_test = df_filtered[df_filtered['query_string'].isin(df_metrics_test['query'])][feature_columns]\n",
    "y_test = df_filtered[df_filtered['query_string'].isin(df_metrics_test['query'])]['neuralness']\n",
    "\n",
    "regr.fit(X_train, y_train)\n",
    "\n",
    "y_regr_pred = regr.predict(X_test)\n",
    "\n",
    "# Evaluate the model\n",
    "rmse = root_mean_squared_error(y_test, y_regr_pred)\n",
    "r2 = r2_score(y_test, y_regr_pred)\n",
    "\n",
    "print(\"Root Mean Squared Error:\", rmse)\n",
    "print(\"R^2 Score:\", r2)"
   ]
  },
  {
   "cell_type": "markdown",
   "id": "f58de3fa-8610-4e0f-b5ad-8dd12ca74c98",
   "metadata": {},
   "source": [
    "## Train a Random Forest Regression Model with cross-validation"
   ]
  },
  {
   "cell_type": "markdown",
   "id": "6f298b50-560e-43de-9d23-6ceff31afea1",
   "metadata": {},
   "source": [
    "The RandomForestRegressor parameters were the best set identified as part of a series of experiments. See https://github.com/o19s/opensearch-hybrid-search-optimization/issues/1 for additional information."
   ]
  },
  {
   "cell_type": "code",
   "execution_count": 271,
   "id": "07aa227b-3d8a-4765-8143-6d434124ec0d",
   "metadata": {},
   "outputs": [
    {
     "name": "stdout",
     "output_type": "stream",
     "text": [
      "Cross-Validation Root Mean Squared Error: 0.2560437740620821\n",
      "Root Mean Squared Error: 0.20623408477564495\n",
      "R^2 Score: -3.450646161157185e+30\n"
     ]
    }
   ],
   "source": [
    "### Manually define the train/test split\n",
    "\n",
    "from sklearn.ensemble import RandomForestRegressor\n",
    "from sklearn.metrics import make_scorer, root_mean_squared_error, r2_score\n",
    "import numpy as np\n",
    "\n",
    "# Prepare features and target\n",
    "#feature_columns = [ \"f_1_num_of_terms\", \"f_2_query_length\", \"f_3_has_numbers\", \"f_4_has_special_char\", \"f_5_num_results\",\n",
    "#                   \"f_6_max_title_score\", \"f_7_sum_title_scores\", \"f_8_max_semantic_score\",  \"f_9_avg_semantic_score\"]\n",
    "feature_columns = ['f_4_has_special_char', 'f_5_num_results']\n",
    "X = df_filtered[feature_columns]   # Select feature columns\n",
    "y = df_filtered['neuralness']      # Select the target column\n",
    "\n",
    "# Initialize cross-validation strategy\n",
    "cv = ShuffleSplit(n_splits=5, test_size=0.2, random_state=0)\n",
    "\n",
    "# Define the model - based on experiment results above\n",
    "model = RandomForestRegressor(n_estimators=50, min_samples_split=2, min_samples_leaf=4, max_features=\"log2\", \n",
    "                                max_depth=3, random_state=42)\n",
    "\n",
    "# Perform cross-validation\n",
    "rmse_scorer = make_scorer(root_mean_squared_error)\n",
    "\n",
    "rmse_scores = cross_val_score(model, X, y, cv=cv, scoring=rmse_scorer)\n",
    "\n",
    "# Output the results\n",
    "print(\"Cross-Validation Root Mean Squared Error:\", np.mean(rmse_scores))\n",
    "\n",
    "# Split data into training and testing sets\n",
    "# Do that manually to have the identical distribution as with the baseline and hybrid search optimizer runs \n",
    "# Otherwise no fair comparison\n",
    "X_train = df_filtered[df_filtered['query_string'].isin(df_metrics_train['query'])][feature_columns]\n",
    "y_train = df_filtered[df_filtered['query_string'].isin(df_metrics_train['query'])]['neuralness']\n",
    "X_test = df_filtered[df_filtered['query_string'].isin(df_metrics_test['query'])][feature_columns]\n",
    "y_test = df_filtered[df_filtered['query_string'].isin(df_metrics_test['query'])]['neuralness']\n",
    "\n",
    "# Train the model on the training data\n",
    "model.fit(X_train, y_train)\n",
    "\n",
    "# Predict on the test data\n",
    "y_pred = model.predict(X_test)\n",
    "\n",
    "# Evaluate the model\n",
    "rmse = root_mean_squared_error(y_test, y_pred)\n",
    "r2 = r2_score(y_test, y_pred)\n",
    "\n",
    "print(\"Root Mean Squared Error:\", rmse)\n",
    "print(\"R^2 Score:\", r2)"
   ]
  },
  {
   "cell_type": "code",
   "execution_count": 272,
   "id": "c4b38456-7c64-4266-8000-1dcbc5d65277",
   "metadata": {},
   "outputs": [],
   "source": [
    "# Store the test data for later usage\n",
    "df_filtered.loc[df_filtered.index.isin(X_test.index)].to_csv('../data/dynamic_optimizer_test_data.csv', index=False)"
   ]
  },
  {
   "cell_type": "markdown",
   "id": "7ceaa570-31b8-46e7-a581-76b7e8eec921",
   "metadata": {},
   "source": [
    "## Save Models"
   ]
  },
  {
   "cell_type": "code",
   "execution_count": 273,
   "id": "7b78d3a4-1b1f-4205-b0b2-82ec37938626",
   "metadata": {},
   "outputs": [],
   "source": [
    "import pickle\n",
    "\n",
    "with open('regression_model.pkl', 'wb') as fid:\n",
    "    pickle.dump(regr, fid) \n",
    "\n",
    "with open('random_forest_model.pkl', 'wb') as fid:\n",
    "    pickle.dump(model, fid) "
   ]
  },
  {
   "cell_type": "code",
   "execution_count": null,
   "id": "ee6200d1-62c9-4bae-a935-3cab51342edf",
   "metadata": {},
   "outputs": [],
   "source": []
  },
  {
   "cell_type": "code",
   "execution_count": null,
   "id": "0e40218b-ba11-4478-bee5-101de12793b7",
   "metadata": {},
   "outputs": [],
   "source": []
  }
 ],
 "metadata": {
  "kernelspec": {
   "display_name": ".venv",
   "language": "python",
   "name": ".venv"
  },
  "language_info": {
   "codemirror_mode": {
    "name": "ipython",
    "version": 3
   },
   "file_extension": ".py",
   "mimetype": "text/x-python",
   "name": "python",
   "nbconvert_exporter": "python",
   "pygments_lexer": "ipython3",
   "version": "3.12.6"
  }
 },
 "nbformat": 4,
 "nbformat_minor": 5
}
