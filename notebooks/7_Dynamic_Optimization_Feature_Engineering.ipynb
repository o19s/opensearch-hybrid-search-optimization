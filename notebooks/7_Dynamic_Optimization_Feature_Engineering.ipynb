{
 "cells": [
  {
   "cell_type": "markdown",
   "id": "29730fbc-4c4d-4141-9b35-521aa23e052d",
   "metadata": {},
   "source": [
    "# Feature Engineering and Model Training for Per-Query Optimization\n",
    "\n",
    "This notebook goes through the process of feature engineering based on the query set used for the global hybrid search optimization notebook.\n",
    "\n",
    "It tries out different feature combinations and model types to identify a useful way forward towards optimizing queries dynamically.\n",
    "\n",
    "Notes:\n",
    "\n",
    "* `searcharray` produced an error with numpy version 2.1.2\n",
    "* Make sure to use `numpy==1.26.4`\n",
    "\n",
    "Error fixed in the meantime (not verified)"
   ]
  },
  {
   "cell_type": "code",
   "execution_count": 1,
   "id": "c5e017f9-90a2-41f6-ab60-41f75ba4d533",
   "metadata": {},
   "outputs": [],
   "source": [
    "import pandas as pd\n",
    "import math\n",
    "import string\n",
    "import requests\n",
    "import json\n",
    "from searcharray import SearchArray\n",
    "import numpy as np\n",
    "import plotly.express as px\n",
    "import plotly.io as pio\n",
    "from plotly.subplots import make_subplots\n",
    "import plotly.graph_objects as go"
   ]
  },
  {
   "cell_type": "code",
   "execution_count": 2,
   "id": "5abdf678-58bf-4082-9bfe-53d69e9935d2",
   "metadata": {},
   "outputs": [],
   "source": [
    "df_metrics = pd.read_csv('metrics.csv')"
   ]
  },
  {
   "cell_type": "code",
   "execution_count": 3,
   "id": "c25417d1-cb51-4622-bfca-2db3a062e438",
   "metadata": {},
   "outputs": [
    {
     "data": {
      "text/html": [
       "<div>\n",
       "<style scoped>\n",
       "    .dataframe tbody tr th:only-of-type {\n",
       "        vertical-align: middle;\n",
       "    }\n",
       "\n",
       "    .dataframe tbody tr th {\n",
       "        vertical-align: top;\n",
       "    }\n",
       "\n",
       "    .dataframe thead th {\n",
       "        text-align: right;\n",
       "    }\n",
       "</style>\n",
       "<table border=\"1\" class=\"dataframe\">\n",
       "  <thead>\n",
       "    <tr style=\"text-align: right;\">\n",
       "      <th></th>\n",
       "      <th>query</th>\n",
       "      <th>pipeline</th>\n",
       "      <th>metric</th>\n",
       "      <th>value</th>\n",
       "    </tr>\n",
       "  </thead>\n",
       "  <tbody>\n",
       "    <tr>\n",
       "      <th>14520</th>\n",
       "      <td>$30 roblox gift card not digital</td>\n",
       "      <td>l2arithmetic_mean0.0</td>\n",
       "      <td>ndcg</td>\n",
       "      <td>0.075767</td>\n",
       "    </tr>\n",
       "    <tr>\n",
       "      <th>14521</th>\n",
       "      <td>$30 roblox gift card not digital</td>\n",
       "      <td>l2arithmetic_mean0.1</td>\n",
       "      <td>ndcg</td>\n",
       "      <td>0.075767</td>\n",
       "    </tr>\n",
       "    <tr>\n",
       "      <th>14522</th>\n",
       "      <td>$30 roblox gift card not digital</td>\n",
       "      <td>l2arithmetic_mean0.2</td>\n",
       "      <td>ndcg</td>\n",
       "      <td>0.075767</td>\n",
       "    </tr>\n",
       "  </tbody>\n",
       "</table>\n",
       "</div>"
      ],
      "text/plain": [
       "                                  query              pipeline metric     value\n",
       "14520  $30 roblox gift card not digital  l2arithmetic_mean0.0   ndcg  0.075767\n",
       "14521  $30 roblox gift card not digital  l2arithmetic_mean0.1   ndcg  0.075767\n",
       "14522  $30 roblox gift card not digital  l2arithmetic_mean0.2   ndcg  0.075767"
      ]
     },
     "execution_count": 3,
     "metadata": {},
     "output_type": "execute_result"
    }
   ],
   "source": [
    "df_metrics[df_metrics['metric'] == 'ndcg'].head(3)"
   ]
  },
  {
   "cell_type": "code",
   "execution_count": 4,
   "id": "9bb1d317-dd82-44da-b164-dccf98fbb6f6",
   "metadata": {},
   "outputs": [],
   "source": [
    "indexes = df_metrics[df_metrics['metric'] == 'ndcg'].groupby(by='query')['value'].idxmax()\n",
    "df_filtered = df_metrics.loc[indexes, ['query','pipeline', 'value']]\n",
    "df_filtered.reset_index(inplace=True, drop=True)"
   ]
  },
  {
   "cell_type": "code",
   "execution_count": 5,
   "id": "a7abc55e-9ef4-4ebc-8e69-3427550e134b",
   "metadata": {},
   "outputs": [
    {
     "data": {
      "text/html": [
       "<div>\n",
       "<style scoped>\n",
       "    .dataframe tbody tr th:only-of-type {\n",
       "        vertical-align: middle;\n",
       "    }\n",
       "\n",
       "    .dataframe tbody tr th {\n",
       "        vertical-align: top;\n",
       "    }\n",
       "\n",
       "    .dataframe thead th {\n",
       "        text-align: right;\n",
       "    }\n",
       "</style>\n",
       "<table border=\"1\" class=\"dataframe\">\n",
       "  <thead>\n",
       "    <tr style=\"text-align: right;\">\n",
       "      <th></th>\n",
       "      <th>query</th>\n",
       "      <th>pipeline</th>\n",
       "      <th>value</th>\n",
       "    </tr>\n",
       "  </thead>\n",
       "  <tbody>\n",
       "    <tr>\n",
       "      <th>0</th>\n",
       "      <td>$30 roblox gift card not digital</td>\n",
       "      <td>l2arithmetic_mean0.0</td>\n",
       "      <td>0.075767</td>\n",
       "    </tr>\n",
       "    <tr>\n",
       "      <th>1</th>\n",
       "      <td>(fiction without frontiers)</td>\n",
       "      <td>l2arithmetic_mean0.1</td>\n",
       "      <td>0.451875</td>\n",
       "    </tr>\n",
       "    <tr>\n",
       "      <th>2</th>\n",
       "      <td>100</td>\n",
       "      <td>l2arithmetic_mean0.2</td>\n",
       "      <td>0.332592</td>\n",
       "    </tr>\n",
       "  </tbody>\n",
       "</table>\n",
       "</div>"
      ],
      "text/plain": [
       "                              query              pipeline     value\n",
       "0  $30 roblox gift card not digital  l2arithmetic_mean0.0  0.075767\n",
       "1       (fiction without frontiers)  l2arithmetic_mean0.1  0.451875\n",
       "2                               100  l2arithmetic_mean0.2  0.332592"
      ]
     },
     "execution_count": 5,
     "metadata": {},
     "output_type": "execute_result"
    }
   ],
   "source": [
    "df_filtered.head(3)"
   ]
  },
  {
   "cell_type": "markdown",
   "id": "481b10b4-02b1-4fad-b705-548931e79500",
   "metadata": {},
   "source": [
    "## Get 'neuralness' of a Query\n",
    "\n",
    "`neuralness` is the weight of the neural query extracted by the pipeline name that was used to generate the NDCG value."
   ]
  },
  {
   "cell_type": "code",
   "execution_count": 6,
   "id": "7cf5ae06-240e-497f-b14e-1db87cbb37f4",
   "metadata": {},
   "outputs": [],
   "source": [
    "def get_neuralness(pipeline):\n",
    "    keywordness = pipeline[-3:]\n",
    "\n",
    "    try:\n",
    "        neuralness = 1 - float(keywordness)\n",
    "        return neuralness\n",
    "    except ValueError:\n",
    "        print(\"ERROR\")\n",
    "        return math.nan"
   ]
  },
  {
   "cell_type": "code",
   "execution_count": 7,
   "id": "4049ce58-057c-40e7-87d9-8798a5733960",
   "metadata": {},
   "outputs": [],
   "source": [
    "df_filtered['neuralness'] = df_filtered.pipeline.apply(get_neuralness)"
   ]
  },
  {
   "cell_type": "code",
   "execution_count": 8,
   "id": "7fd7a044-6951-4bd5-9b53-b2638d94dd8a",
   "metadata": {},
   "outputs": [],
   "source": [
    "df_filtered = df_filtered.drop(columns=['pipeline'])"
   ]
  },
  {
   "cell_type": "code",
   "execution_count": 9,
   "id": "b07b083b-f29b-4dad-9407-0632fa95aa82",
   "metadata": {},
   "outputs": [],
   "source": [
    "df_filtered.columns = ['query_string', 'ndcg', 'neuralness']"
   ]
  },
  {
   "cell_type": "code",
   "execution_count": 10,
   "id": "ce1eb291-01ee-4869-ade8-d15c057e61f1",
   "metadata": {},
   "outputs": [
    {
     "data": {
      "text/html": [
       "<div>\n",
       "<style scoped>\n",
       "    .dataframe tbody tr th:only-of-type {\n",
       "        vertical-align: middle;\n",
       "    }\n",
       "\n",
       "    .dataframe tbody tr th {\n",
       "        vertical-align: top;\n",
       "    }\n",
       "\n",
       "    .dataframe thead th {\n",
       "        text-align: right;\n",
       "    }\n",
       "</style>\n",
       "<table border=\"1\" class=\"dataframe\">\n",
       "  <thead>\n",
       "    <tr style=\"text-align: right;\">\n",
       "      <th></th>\n",
       "      <th>query_string</th>\n",
       "      <th>ndcg</th>\n",
       "      <th>neuralness</th>\n",
       "    </tr>\n",
       "  </thead>\n",
       "  <tbody>\n",
       "    <tr>\n",
       "      <th>0</th>\n",
       "      <td>$30 roblox gift card not digital</td>\n",
       "      <td>0.075767</td>\n",
       "      <td>1.0</td>\n",
       "    </tr>\n",
       "    <tr>\n",
       "      <th>1</th>\n",
       "      <td>(fiction without frontiers)</td>\n",
       "      <td>0.451875</td>\n",
       "      <td>0.9</td>\n",
       "    </tr>\n",
       "    <tr>\n",
       "      <th>2</th>\n",
       "      <td>100</td>\n",
       "      <td>0.332592</td>\n",
       "      <td>0.8</td>\n",
       "    </tr>\n",
       "  </tbody>\n",
       "</table>\n",
       "</div>"
      ],
      "text/plain": [
       "                       query_string      ndcg  neuralness\n",
       "0  $30 roblox gift card not digital  0.075767         1.0\n",
       "1       (fiction without frontiers)  0.451875         0.9\n",
       "2                               100  0.332592         0.8"
      ]
     },
     "execution_count": 10,
     "metadata": {},
     "output_type": "execute_result"
    }
   ],
   "source": [
    "df_filtered.head(3)"
   ]
  },
  {
   "cell_type": "markdown",
   "id": "0febd171-5ce8-4165-a1c6-2f1c36ba1ae4",
   "metadata": {},
   "source": [
    "## Query Feature Functions\n",
    "\n",
    "`num_of_terms`: we expect the number of query terms to be a good feature because the more query terms used the more specific a query is.\n",
    "\n",
    "`query_length`: we expect the query length (number of characters) to be a good feature because the longer a query is the more specific it is.\n",
    "\n",
    "`has_numbers`: we expect the presence of numbers/digits to be a good feature because numbers may point towards specific queries.\n",
    "\n",
    "`has_special_char`: we expect the presence of special characters (non-alphanumeric characters) to be a good feature because that may point towards specific queries. "
   ]
  },
  {
   "cell_type": "code",
   "execution_count": 11,
   "id": "26d30d9f-89f4-40c0-b44d-539d33c948d3",
   "metadata": {},
   "outputs": [],
   "source": [
    "def num_of_terms(query_string):\n",
    "    terms = query_string.split(\" \")\n",
    "    return len(terms)\n",
    "\n",
    "def query_length(query_string):\n",
    "    return len(query_string)\n",
    "\n",
    "def has_numbers(query_string):\n",
    "    return int(any(char.isdigit() for char in query_string))\n",
    "\n",
    "def has_special_char(query_string):\n",
    "    # Define special characters (all non-alphanumeric characters)\n",
    "    special_chars = string.punctuation\n",
    "    # Return True if any character in the string is a special character\n",
    "    return int(any(char in special_chars for char in query_string))"
   ]
  },
  {
   "cell_type": "code",
   "execution_count": 12,
   "id": "467724fd-74e0-491c-b444-e2e0a09296e2",
   "metadata": {},
   "outputs": [],
   "source": [
    "df_filtered['num_of_terms'] = df_filtered.query_string.apply(num_of_terms)\n",
    "df_filtered['query_length'] = df_filtered.query_string.apply(query_length)\n",
    "df_filtered['has_numbers'] = df_filtered.query_string.apply(has_numbers)\n",
    "df_filtered['has_special_char'] = df_filtered.query_string.apply(has_special_char)"
   ]
  },
  {
   "cell_type": "code",
   "execution_count": 13,
   "id": "fad3d50d-6253-44f0-b7e3-87eaeb73592c",
   "metadata": {},
   "outputs": [
    {
     "data": {
      "text/html": [
       "<div>\n",
       "<style scoped>\n",
       "    .dataframe tbody tr th:only-of-type {\n",
       "        vertical-align: middle;\n",
       "    }\n",
       "\n",
       "    .dataframe tbody tr th {\n",
       "        vertical-align: top;\n",
       "    }\n",
       "\n",
       "    .dataframe thead th {\n",
       "        text-align: right;\n",
       "    }\n",
       "</style>\n",
       "<table border=\"1\" class=\"dataframe\">\n",
       "  <thead>\n",
       "    <tr style=\"text-align: right;\">\n",
       "      <th></th>\n",
       "      <th>query_string</th>\n",
       "      <th>ndcg</th>\n",
       "      <th>neuralness</th>\n",
       "      <th>num_of_terms</th>\n",
       "      <th>query_length</th>\n",
       "      <th>has_numbers</th>\n",
       "      <th>has_special_char</th>\n",
       "    </tr>\n",
       "  </thead>\n",
       "  <tbody>\n",
       "    <tr>\n",
       "      <th>0</th>\n",
       "      <td>$30 roblox gift card not digital</td>\n",
       "      <td>0.075767</td>\n",
       "      <td>1.0</td>\n",
       "      <td>6</td>\n",
       "      <td>32</td>\n",
       "      <td>1</td>\n",
       "      <td>1</td>\n",
       "    </tr>\n",
       "    <tr>\n",
       "      <th>1</th>\n",
       "      <td>(fiction without frontiers)</td>\n",
       "      <td>0.451875</td>\n",
       "      <td>0.9</td>\n",
       "      <td>3</td>\n",
       "      <td>27</td>\n",
       "      <td>0</td>\n",
       "      <td>1</td>\n",
       "    </tr>\n",
       "    <tr>\n",
       "      <th>2</th>\n",
       "      <td>100</td>\n",
       "      <td>0.332592</td>\n",
       "      <td>0.8</td>\n",
       "      <td>1</td>\n",
       "      <td>3</td>\n",
       "      <td>1</td>\n",
       "      <td>0</td>\n",
       "    </tr>\n",
       "    <tr>\n",
       "      <th>3</th>\n",
       "      <td>10x10x6 cake box without window</td>\n",
       "      <td>0.099900</td>\n",
       "      <td>1.0</td>\n",
       "      <td>5</td>\n",
       "      <td>31</td>\n",
       "      <td>1</td>\n",
       "      <td>0</td>\n",
       "    </tr>\n",
       "    <tr>\n",
       "      <th>4</th>\n",
       "      <td>15 inch light weight laptop that has lots of m...</td>\n",
       "      <td>0.039399</td>\n",
       "      <td>0.0</td>\n",
       "      <td>28</td>\n",
       "      <td>125</td>\n",
       "      <td>1</td>\n",
       "      <td>1</td>\n",
       "    </tr>\n",
       "  </tbody>\n",
       "</table>\n",
       "</div>"
      ],
      "text/plain": [
       "                                        query_string      ndcg  neuralness  \\\n",
       "0                   $30 roblox gift card not digital  0.075767         1.0   \n",
       "1                        (fiction without frontiers)  0.451875         0.9   \n",
       "2                                                100  0.332592         0.8   \n",
       "3                    10x10x6 cake box without window  0.099900         1.0   \n",
       "4  15 inch light weight laptop that has lots of m...  0.039399         0.0   \n",
       "\n",
       "   num_of_terms  query_length  has_numbers  has_special_char  \n",
       "0             6            32            1                 1  \n",
       "1             3            27            0                 1  \n",
       "2             1             3            1                 0  \n",
       "3             5            31            1                 0  \n",
       "4            28           125            1                 1  "
      ]
     },
     "execution_count": 13,
     "metadata": {},
     "output_type": "execute_result"
    }
   ],
   "source": [
    "df_filtered.head(5)"
   ]
  },
  {
   "cell_type": "markdown",
   "id": "7ee49930-9005-4117-a8ca-646288a8c6e4",
   "metadata": {},
   "source": [
    "## Result Feature Functions\n",
    "\n",
    "`num_results_kw_search`: the number of results for the keyword query.\n",
    "\n",
    "`max_doc_score`: max score of the retrieved top 10 titles. The scores are BM25 scores calculated individually per result set. That means that the document frequencies of terms is not calculated on the whole index but only on the retrieved subset for the query, making the scores more comparable to each other.\n",
    "\n",
    "`sum_of_doc_scores`: we use the sum of the scores (and no average value) as an aggregate to have a measure of how relevant all retrieved top 10 titles are.\n",
    "\n",
    "`get_semantic_scores_for_query`: retrieves the semantic scores for the neural query for the top 10. We store the maximum and the mean as result features.\n",
    "\n",
    "### Helper functions\n",
    "\n",
    "`get_titles_for_query`: retrieves the titles of the keyword matches for later score calculation\n",
    "\n",
    "`whitespace_to_lower`: tokenizes and lowercases text\n",
    "\n",
    "`get_model_id`: to run a neural search to get the semantic scores we need to know the id of the available model in OpenSearch\n"
   ]
  },
  {
   "cell_type": "markdown",
   "id": "319d9c26-046b-4025-85b8-7b2c0a71357e",
   "metadata": {},
   "source": [
    "### Get Number of Results for Keyword Search"
   ]
  },
  {
   "cell_type": "code",
   "execution_count": 14,
   "id": "e4ce76e9-71bd-4f40-a533-b8758c568001",
   "metadata": {},
   "outputs": [],
   "source": [
    "def num_results_kw_search(query_string):\n",
    "    url = \"http://localhost:9200/ecommerce/_search\"\n",
    "\n",
    "    headers = {\n",
    "        'Content-Type': 'application/json'\n",
    "    }\n",
    "    \n",
    "    \n",
    "    \n",
    "    payload = {\n",
    "      \"_source\": {\n",
    "        \"excludes\": [\n",
    "          \"title_embedding\"\n",
    "        ]\n",
    "      },\n",
    "      \"query\": {\n",
    "        \"multi_match\" : {\n",
    "          \"type\":       \"best_fields\",\n",
    "          \"fields\":     [\n",
    "            \"product_id^100\",\n",
    "            \"product_bullet_point^3\",\n",
    "            \"product_color^2\",\n",
    "            \"product_brand^5\",\n",
    "            \"product_description\",\n",
    "            \"product_title^10\"\n",
    "          ],\n",
    "          \"operator\":   \"and\",\n",
    "          \"query\":      query_string\n",
    "        }\n",
    "      },\n",
    "      \"track_total_hits\": \"true\"\n",
    "    }\n",
    "    response = requests.request(\"POST\", url, headers=headers, data=json.dumps(payload)).json()\n",
    "    num_results = response['hits']['total']['value']\n",
    "    return num_results"
   ]
  },
  {
   "cell_type": "code",
   "execution_count": 15,
   "id": "4a4850c1-06a3-4b9c-a1c8-ad308dae3126",
   "metadata": {},
   "outputs": [],
   "source": [
    "def get_titles_for_query(query_string):\n",
    "    url = \"http://localhost:9200/ecommerce/_search\"\n",
    "\n",
    "    headers = {\n",
    "        'Content-Type': 'application/json'\n",
    "    }\n",
    "      \n",
    "    payload = {\n",
    "      \"_source\": {\n",
    "        \"excludes\": [\n",
    "          \"title_embedding\"\n",
    "        ],\n",
    "        \"includes\": \"product_title\"\n",
    "      },\n",
    "      \"query\": {\n",
    "        \"multi_match\" : {\n",
    "          \"type\":       \"best_fields\",\n",
    "          \"fields\":     [\n",
    "            \"product_id^100\",\n",
    "            \"product_bullet_point^3\",\n",
    "            \"product_color^2\",\n",
    "            \"product_brand^5\",\n",
    "            \"product_description\",\n",
    "            \"product_title^10\"\n",
    "          ],\n",
    "          \"operator\":   \"and\",\n",
    "          \"query\":      query_string\n",
    "        }\n",
    "      },\n",
    "      \"track_total_hits\": \"true\"\n",
    "    }\n",
    "    response = requests.request(\"POST\", url, headers=headers, data=json.dumps(payload)).json()\n",
    "    titles = []\n",
    "    num_results = response['hits']['total']['value']\n",
    "    if num_results > 0:\n",
    "        # get all titles\n",
    "        titles = [item['_source']['product_title'] for item in response['hits']['hits']]\n",
    "\n",
    "    df = pd.DataFrame(titles, columns=['title'])\n",
    "\n",
    "    return df"
   ]
  },
  {
   "cell_type": "code",
   "execution_count": 16,
   "id": "5f4c77ad-87d0-474b-bcbf-8aa21993f48e",
   "metadata": {},
   "outputs": [],
   "source": [
    "df_filtered['num_results'] = df_filtered.query_string.apply(num_results_kw_search)"
   ]
  },
  {
   "cell_type": "markdown",
   "id": "3df23aa3-d867-47d2-a9f5-e33f98ffa618",
   "metadata": {},
   "source": [
    "### Tokenizer Definition\n",
    "\n",
    "We define a simple tokenizer that splits on whitespaces and lowercases."
   ]
  },
  {
   "cell_type": "code",
   "execution_count": 17,
   "id": "fd6c3193-4110-4c6f-b8e9-42a425847dfa",
   "metadata": {},
   "outputs": [],
   "source": [
    "def whitespace_to_lower(text):\n",
    "    split = text.lower().split()\n",
    "    return [token\n",
    "        for token in split]"
   ]
  },
  {
   "cell_type": "markdown",
   "id": "e7768455-d2d9-4e5a-ba74-f4f4662a961b",
   "metadata": {},
   "source": [
    "ToDo: make the following functions more efficient.\n",
    "\n",
    "The following functions contain redundant code and only differ in the return value."
   ]
  },
  {
   "cell_type": "code",
   "execution_count": 18,
   "id": "fdfb0434-346b-4d95-ad27-ecf6b6f02b82",
   "metadata": {},
   "outputs": [],
   "source": [
    "# we use searcharray to calculate the highest title score among the retrieved docs\n",
    "def max_doc_score(df, query):\n",
    "    # if we retrieved zero docs we return 0 as the max score\n",
    "    if df.shape[0] == 0:\n",
    "        return 0\n",
    "    else:\n",
    "        # index the titles with the defined tokenizer\n",
    "        df['title_indexed'] = SearchArray.index(df['title'], tokenizer=whitespace_to_lower)\n",
    "        # tokenize the query with the same tokenizer\n",
    "        tokenized_query = df['title_indexed'].array.tokenizer(query)\n",
    "        # calculate the score for each query term\n",
    "        # the result is a matrix with number of titles x number of query term dimensions\n",
    "        scores = np.asarray([df['title_indexed'].array.score(query_term)\n",
    "                                    for query_term in tokenized_query])\n",
    "        # calculate the sum of all query terms per title\n",
    "        sums = [sum(group) for group in zip(*scores)]\n",
    "        # return the maximum\n",
    "        return max(sums)\n",
    "\n",
    "# we use searcharray to calculate the sum of all title scores among the retrieved docs\n",
    "def sum_of_doc_scores(df, query):\n",
    "    # if we retrieved zero docs we return 0 as the max score\n",
    "    if df.shape[0] == 0:\n",
    "        return 0\n",
    "    else:\n",
    "        # index the titles with the defined tokenizer\n",
    "        df['title_indexed'] = SearchArray.index(df['title'], tokenizer=whitespace_to_lower)\n",
    "        # tokenize the query with the same tokenizer\n",
    "        tokenized_query = df['title_indexed'].array.tokenizer(query)\n",
    "        # calculate the score for each query term\n",
    "        # the result is a matrix with number of titles x number of query term dimensions\n",
    "        scores = np.asarray([df['title_indexed'].array.score(query_term)\n",
    "                                    for query_term in tokenized_query])\n",
    "        # calculate the sum of all query terms per title\n",
    "        sums = [sum(group) for group in zip(*scores)]\n",
    "        # return the sum of all title scores\n",
    "        return sum(sums)"
   ]
  },
  {
   "cell_type": "markdown",
   "id": "7b1123d8-16a4-408a-a951-61c620d0df13",
   "metadata": {},
   "source": [
    "### Get Semantic Scores\n",
    "\n",
    "First we get the model id, then we use the model id in the query to retrieve the semantic scores."
   ]
  },
  {
   "cell_type": "code",
   "execution_count": 19,
   "id": "0c89806a-efcc-42c2-ac1b-df7c9b54f17f",
   "metadata": {},
   "outputs": [],
   "source": [
    "# Get model_id\n",
    "# We are assuming that the installation has only one model. Change this if you have more models \n",
    "# and need to pick a specific one\n",
    "\n",
    "def get_model_id():\n",
    "    url = \"http://localhost:9200/_plugins/_ml/models/_search\"\n",
    "    \n",
    "    headers = {\n",
    "        'Content-Type': 'application/json'\n",
    "    }\n",
    "    \n",
    "    payload = {\n",
    "      \"query\": {\n",
    "        \"match_all\": {}\n",
    "      },\n",
    "      \"size\": 1\n",
    "    }\n",
    "    \n",
    "    response = requests.request(\"POST\", url, headers=headers, data=json.dumps(payload))\n",
    "\n",
    "    return response.json()['hits']['hits'][0]['_source']['model_id']\n",
    "\n",
    "model_id = get_model_id()"
   ]
  },
  {
   "cell_type": "code",
   "execution_count": 20,
   "id": "d124583a-46b6-4e56-a04e-f37b6950afa7",
   "metadata": {},
   "outputs": [],
   "source": [
    "def get_semantic_scores_for_query(query_string):\n",
    "    url = \"http://localhost:9200/ecommerce/_search\"\n",
    "\n",
    "    headers = {\n",
    "        'Content-Type': 'application/json'\n",
    "    }\n",
    "    \n",
    "    \n",
    "    \n",
    "    payload = {\n",
    "      \"_source\": {\n",
    "        \"excludes\": [\n",
    "          \"title_embedding\"\n",
    "        ],\n",
    "        \"includes\": \"product_title\"\n",
    "      },\n",
    "      \"query\": {\n",
    "        \"neural\": {\n",
    "          \"title_embedding\": {\n",
    "            \"query_text\": query_string,\n",
    "            \"k\": 100,\n",
    "            \"model_id\": model_id\n",
    "          }\n",
    "        }\n",
    "      },\n",
    "      \"size\": 10\n",
    "    }\n",
    "    response = requests.request(\"POST\", url, headers=headers, data=json.dumps(payload)).json()\n",
    "    titles = []\n",
    "    num_results = response['hits']['total']['value']\n",
    "    if num_results > 0:\n",
    "        # get all titles\n",
    "        scores = [item['_score'] for item in response['hits']['hits']]\n",
    "\n",
    "    return scores"
   ]
  },
  {
   "cell_type": "code",
   "execution_count": 21,
   "id": "30f1df09-5fd7-4a21-8ff1-a823f4d5f8e9",
   "metadata": {
    "scrolled": true
   },
   "outputs": [
    {
     "name": "stdout",
     "output_type": "stream",
     "text": [
      "2024-10-31 11:58:44,065 - searcharray.indexing - INFO - Indexing begins w/ 4 workers\n",
      "2024-10-31 11:58:44,065 - searcharray.indexing - INFO - 0 Batch Start tokenization\n",
      "2024-10-31 11:58:44,066 - searcharray.indexing - INFO - Tokenizing 10 documents\n",
      "2024-10-31 11:58:44,067 - searcharray.indexing - INFO - Tokenization -- vstacking\n",
      "2024-10-31 11:58:44,067 - searcharray.indexing - INFO - Tokenization -- DONE\n",
      "2024-10-31 11:58:44,068 - searcharray.indexing - INFO - Inverting docs->terms\n",
      "2024-10-31 11:58:44,068 - searcharray.indexing - INFO - Encoding positions to bit array\n",
      "2024-10-31 11:58:44,069 - searcharray.indexing - INFO - Batch tokenization complete\n",
      "2024-10-31 11:58:44,069 - searcharray.indexing - INFO - (main thread) Processing 1 batch results\n",
      "2024-10-31 11:58:44,070 - searcharray.indexing - INFO - Indexing from tokenization complete\n",
      "2024-10-31 11:58:44,091 - searcharray.indexing - INFO - Indexing begins w/ 4 workers\n",
      "2024-10-31 11:58:44,092 - searcharray.indexing - INFO - 0 Batch Start tokenization\n",
      "2024-10-31 11:58:44,092 - searcharray.indexing - INFO - Tokenizing 10 documents\n",
      "2024-10-31 11:58:44,093 - searcharray.indexing - INFO - Tokenization -- vstacking\n",
      "2024-10-31 11:58:44,093 - searcharray.indexing - INFO - Tokenization -- DONE\n",
      "2024-10-31 11:58:44,094 - searcharray.indexing - INFO - Inverting docs->terms\n",
      "2024-10-31 11:58:44,094 - searcharray.indexing - INFO - Encoding positions to bit array\n",
      "2024-10-31 11:58:44,095 - searcharray.indexing - INFO - Batch tokenization complete\n",
      "2024-10-31 11:58:44,096 - searcharray.indexing - INFO - (main thread) Processing 1 batch results\n",
      "2024-10-31 11:58:44,096 - searcharray.indexing - INFO - Indexing from tokenization complete\n",
      "2024-10-31 11:58:44,127 - searcharray.indexing - INFO - Indexing begins w/ 4 workers\n",
      "2024-10-31 11:58:44,128 - searcharray.indexing - INFO - 0 Batch Start tokenization\n",
      "2024-10-31 11:58:44,128 - searcharray.indexing - INFO - Tokenizing 10 documents\n",
      "2024-10-31 11:58:44,129 - searcharray.indexing - INFO - Tokenization -- vstacking\n",
      "2024-10-31 11:58:44,129 - searcharray.indexing - INFO - Tokenization -- DONE\n",
      "2024-10-31 11:58:44,129 - searcharray.indexing - INFO - Inverting docs->terms\n",
      "2024-10-31 11:58:44,133 - searcharray.indexing - INFO - Encoding positions to bit array\n",
      "2024-10-31 11:58:44,135 - searcharray.indexing - INFO - Batch tokenization complete\n",
      "2024-10-31 11:58:44,136 - searcharray.indexing - INFO - (main thread) Processing 1 batch results\n",
      "2024-10-31 11:58:44,137 - searcharray.indexing - INFO - Indexing from tokenization complete\n",
      "2024-10-31 11:58:44,146 - searcharray.indexing - INFO - Indexing begins w/ 4 workers\n",
      "2024-10-31 11:58:44,147 - searcharray.indexing - INFO - 0 Batch Start tokenization\n",
      "2024-10-31 11:58:44,148 - searcharray.indexing - INFO - Tokenizing 2 documents\n",
      "2024-10-31 11:58:44,148 - searcharray.indexing - INFO - Tokenization -- vstacking\n",
      "2024-10-31 11:58:44,149 - searcharray.indexing - INFO - Tokenization -- DONE\n",
      "2024-10-31 11:58:44,150 - searcharray.indexing - INFO - Inverting docs->terms\n",
      "2024-10-31 11:58:44,151 - searcharray.indexing - INFO - Encoding positions to bit array\n",
      "2024-10-31 11:58:44,151 - searcharray.indexing - INFO - Batch tokenization complete\n",
      "2024-10-31 11:58:44,152 - searcharray.indexing - INFO - (main thread) Processing 1 batch results\n",
      "2024-10-31 11:58:44,152 - searcharray.indexing - INFO - Indexing from tokenization complete\n",
      "2024-10-31 11:58:44,162 - searcharray.indexing - INFO - Indexing begins w/ 4 workers\n",
      "2024-10-31 11:58:44,163 - searcharray.indexing - INFO - 0 Batch Start tokenization\n",
      "2024-10-31 11:58:44,164 - searcharray.indexing - INFO - Tokenizing 1 documents\n",
      "2024-10-31 11:58:44,164 - searcharray.indexing - INFO - Tokenization -- vstacking\n",
      "2024-10-31 11:58:44,164 - searcharray.indexing - INFO - Tokenization -- DONE\n",
      "2024-10-31 11:58:44,165 - searcharray.indexing - INFO - Inverting docs->terms\n",
      "2024-10-31 11:58:44,165 - searcharray.indexing - INFO - Encoding positions to bit array\n",
      "2024-10-31 11:58:44,166 - searcharray.indexing - INFO - Batch tokenization complete\n",
      "2024-10-31 11:58:44,167 - searcharray.indexing - INFO - (main thread) Processing 1 batch results\n",
      "2024-10-31 11:58:44,168 - searcharray.indexing - INFO - Indexing from tokenization complete\n",
      "2024-10-31 11:58:44,183 - searcharray.indexing - INFO - Indexing begins w/ 4 workers\n",
      "2024-10-31 11:58:44,184 - searcharray.indexing - INFO - 0 Batch Start tokenization\n",
      "2024-10-31 11:58:44,185 - searcharray.indexing - INFO - Tokenizing 10 documents\n",
      "2024-10-31 11:58:44,185 - searcharray.indexing - INFO - Tokenization -- vstacking\n",
      "2024-10-31 11:58:44,186 - searcharray.indexing - INFO - Tokenization -- DONE\n",
      "2024-10-31 11:58:44,186 - searcharray.indexing - INFO - Inverting docs->terms\n",
      "2024-10-31 11:58:44,186 - searcharray.indexing - INFO - Encoding positions to bit array\n",
      "2024-10-31 11:58:44,187 - searcharray.indexing - INFO - Batch tokenization complete\n",
      "2024-10-31 11:58:44,187 - searcharray.indexing - INFO - (main thread) Processing 1 batch results\n",
      "2024-10-31 11:58:44,188 - searcharray.indexing - INFO - Indexing from tokenization complete\n",
      "2024-10-31 11:58:44,195 - searcharray.indexing - INFO - Indexing begins w/ 4 workers\n",
      "2024-10-31 11:58:44,196 - searcharray.indexing - INFO - 0 Batch Start tokenization\n",
      "2024-10-31 11:58:44,197 - searcharray.indexing - INFO - Tokenizing 10 documents\n",
      "2024-10-31 11:58:44,197 - searcharray.indexing - INFO - Tokenization -- vstacking\n",
      "2024-10-31 11:58:44,197 - searcharray.indexing - INFO - Tokenization -- DONE\n",
      "2024-10-31 11:58:44,198 - searcharray.indexing - INFO - Inverting docs->terms\n",
      "2024-10-31 11:58:44,198 - searcharray.indexing - INFO - Encoding positions to bit array\n",
      "2024-10-31 11:58:44,198 - searcharray.indexing - INFO - Batch tokenization complete\n",
      "2024-10-31 11:58:44,199 - searcharray.indexing - INFO - (main thread) Processing 1 batch results\n",
      "2024-10-31 11:58:44,200 - searcharray.indexing - INFO - Indexing from tokenization complete\n",
      "2024-10-31 11:58:44,214 - searcharray.indexing - INFO - Indexing begins w/ 4 workers\n",
      "2024-10-31 11:58:44,215 - searcharray.indexing - INFO - 0 Batch Start tokenization\n",
      "2024-10-31 11:58:44,215 - searcharray.indexing - INFO - Tokenizing 10 documents\n",
      "2024-10-31 11:58:44,216 - searcharray.indexing - INFO - Tokenization -- vstacking\n",
      "2024-10-31 11:58:44,216 - searcharray.indexing - INFO - Tokenization -- DONE\n",
      "2024-10-31 11:58:44,217 - searcharray.indexing - INFO - Inverting docs->terms\n",
      "2024-10-31 11:58:44,217 - searcharray.indexing - INFO - Encoding positions to bit array\n",
      "2024-10-31 11:58:44,218 - searcharray.indexing - INFO - Batch tokenization complete\n",
      "2024-10-31 11:58:44,218 - searcharray.indexing - INFO - (main thread) Processing 1 batch results\n",
      "2024-10-31 11:58:44,219 - searcharray.indexing - INFO - Indexing from tokenization complete\n",
      "2024-10-31 11:58:44,226 - searcharray.indexing - INFO - Indexing begins w/ 4 workers\n",
      "2024-10-31 11:58:44,227 - searcharray.indexing - INFO - 0 Batch Start tokenization\n",
      "2024-10-31 11:58:44,227 - searcharray.indexing - INFO - Tokenizing 2 documents\n",
      "2024-10-31 11:58:44,228 - searcharray.indexing - INFO - Tokenization -- vstacking\n",
      "2024-10-31 11:58:44,228 - searcharray.indexing - INFO - Tokenization -- DONE\n",
      "2024-10-31 11:58:44,229 - searcharray.indexing - INFO - Inverting docs->terms\n",
      "2024-10-31 11:58:44,229 - searcharray.indexing - INFO - Encoding positions to bit array\n",
      "2024-10-31 11:58:44,230 - searcharray.indexing - INFO - Batch tokenization complete\n",
      "2024-10-31 11:58:44,230 - searcharray.indexing - INFO - (main thread) Processing 1 batch results\n",
      "2024-10-31 11:58:44,231 - searcharray.indexing - INFO - Indexing from tokenization complete\n",
      "2024-10-31 11:58:44,239 - searcharray.indexing - INFO - Indexing begins w/ 4 workers\n",
      "2024-10-31 11:58:44,240 - searcharray.indexing - INFO - 0 Batch Start tokenization\n",
      "2024-10-31 11:58:44,241 - searcharray.indexing - INFO - Tokenizing 10 documents\n",
      "2024-10-31 11:58:44,242 - searcharray.indexing - INFO - Tokenization -- vstacking\n",
      "2024-10-31 11:58:44,242 - searcharray.indexing - INFO - Tokenization -- DONE\n",
      "2024-10-31 11:58:44,242 - searcharray.indexing - INFO - Inverting docs->terms\n",
      "2024-10-31 11:58:44,243 - searcharray.indexing - INFO - Encoding positions to bit array\n",
      "2024-10-31 11:58:44,243 - searcharray.indexing - INFO - Batch tokenization complete\n",
      "2024-10-31 11:58:44,243 - searcharray.indexing - INFO - (main thread) Processing 1 batch results\n",
      "2024-10-31 11:58:44,244 - searcharray.indexing - INFO - Indexing from tokenization complete\n",
      "2024-10-31 11:58:44,252 - searcharray.indexing - INFO - Indexing begins w/ 4 workers\n",
      "2024-10-31 11:58:44,253 - searcharray.indexing - INFO - 0 Batch Start tokenization\n",
      "2024-10-31 11:58:44,253 - searcharray.indexing - INFO - Tokenizing 8 documents\n",
      "2024-10-31 11:58:44,254 - searcharray.indexing - INFO - Tokenization -- vstacking\n",
      "2024-10-31 11:58:44,254 - searcharray.indexing - INFO - Tokenization -- DONE\n",
      "2024-10-31 11:58:44,255 - searcharray.indexing - INFO - Inverting docs->terms\n",
      "2024-10-31 11:58:44,255 - searcharray.indexing - INFO - Encoding positions to bit array\n",
      "2024-10-31 11:58:44,255 - searcharray.indexing - INFO - Batch tokenization complete\n",
      "2024-10-31 11:58:44,256 - searcharray.indexing - INFO - (main thread) Processing 1 batch results\n",
      "2024-10-31 11:58:44,256 - searcharray.indexing - INFO - Indexing from tokenization complete\n",
      "2024-10-31 11:58:44,263 - searcharray.indexing - INFO - Indexing begins w/ 4 workers\n",
      "2024-10-31 11:58:44,264 - searcharray.indexing - INFO - 0 Batch Start tokenization\n",
      "2024-10-31 11:58:44,264 - searcharray.indexing - INFO - Tokenizing 2 documents\n",
      "2024-10-31 11:58:44,265 - searcharray.indexing - INFO - Tokenization -- vstacking\n",
      "2024-10-31 11:58:44,265 - searcharray.indexing - INFO - Tokenization -- DONE\n",
      "2024-10-31 11:58:44,266 - searcharray.indexing - INFO - Inverting docs->terms\n",
      "2024-10-31 11:58:44,266 - searcharray.indexing - INFO - Encoding positions to bit array\n",
      "2024-10-31 11:58:44,267 - searcharray.indexing - INFO - Batch tokenization complete\n",
      "2024-10-31 11:58:44,267 - searcharray.indexing - INFO - (main thread) Processing 1 batch results\n",
      "2024-10-31 11:58:44,268 - searcharray.indexing - INFO - Indexing from tokenization complete\n",
      "2024-10-31 11:58:44,280 - searcharray.indexing - INFO - Indexing begins w/ 4 workers\n",
      "2024-10-31 11:58:44,281 - searcharray.indexing - INFO - 0 Batch Start tokenization\n",
      "2024-10-31 11:58:44,281 - searcharray.indexing - INFO - Tokenizing 6 documents\n",
      "2024-10-31 11:58:44,282 - searcharray.indexing - INFO - Tokenization -- vstacking\n",
      "2024-10-31 11:58:44,283 - searcharray.indexing - INFO - Tokenization -- DONE\n",
      "2024-10-31 11:58:44,283 - searcharray.indexing - INFO - Inverting docs->terms\n",
      "2024-10-31 11:58:44,283 - searcharray.indexing - INFO - Encoding positions to bit array\n",
      "2024-10-31 11:58:44,284 - searcharray.indexing - INFO - Batch tokenization complete\n",
      "2024-10-31 11:58:44,284 - searcharray.indexing - INFO - (main thread) Processing 1 batch results\n",
      "2024-10-31 11:58:44,285 - searcharray.indexing - INFO - Indexing from tokenization complete\n",
      "2024-10-31 11:58:44,292 - searcharray.indexing - INFO - Indexing begins w/ 4 workers\n",
      "2024-10-31 11:58:44,293 - searcharray.indexing - INFO - 0 Batch Start tokenization\n",
      "2024-10-31 11:58:44,294 - searcharray.indexing - INFO - Tokenizing 4 documents\n",
      "2024-10-31 11:58:44,294 - searcharray.indexing - INFO - Tokenization -- vstacking\n",
      "2024-10-31 11:58:44,294 - searcharray.indexing - INFO - Tokenization -- DONE\n",
      "2024-10-31 11:58:44,295 - searcharray.indexing - INFO - Inverting docs->terms\n",
      "2024-10-31 11:58:44,295 - searcharray.indexing - INFO - Encoding positions to bit array\n",
      "2024-10-31 11:58:44,296 - searcharray.indexing - INFO - Batch tokenization complete\n",
      "2024-10-31 11:58:44,296 - searcharray.indexing - INFO - (main thread) Processing 1 batch results\n",
      "2024-10-31 11:58:44,297 - searcharray.indexing - INFO - Indexing from tokenization complete\n",
      "2024-10-31 11:58:44,311 - searcharray.indexing - INFO - Indexing begins w/ 4 workers\n",
      "2024-10-31 11:58:44,312 - searcharray.indexing - INFO - 0 Batch Start tokenization\n",
      "2024-10-31 11:58:44,312 - searcharray.indexing - INFO - Tokenizing 1 documents\n",
      "2024-10-31 11:58:44,312 - searcharray.indexing - INFO - Tokenization -- vstacking\n",
      "2024-10-31 11:58:44,313 - searcharray.indexing - INFO - Tokenization -- DONE\n",
      "2024-10-31 11:58:44,313 - searcharray.indexing - INFO - Inverting docs->terms\n",
      "2024-10-31 11:58:44,313 - searcharray.indexing - INFO - Encoding positions to bit array\n",
      "2024-10-31 11:58:44,314 - searcharray.indexing - INFO - Batch tokenization complete\n",
      "2024-10-31 11:58:44,314 - searcharray.indexing - INFO - (main thread) Processing 1 batch results\n",
      "2024-10-31 11:58:44,315 - searcharray.indexing - INFO - Indexing from tokenization complete\n",
      "2024-10-31 11:58:44,324 - searcharray.indexing - INFO - Indexing begins w/ 4 workers\n",
      "2024-10-31 11:58:44,325 - searcharray.indexing - INFO - 0 Batch Start tokenization\n",
      "2024-10-31 11:58:44,326 - searcharray.indexing - INFO - Tokenizing 10 documents\n",
      "2024-10-31 11:58:44,326 - searcharray.indexing - INFO - Tokenization -- vstacking\n",
      "2024-10-31 11:58:44,327 - searcharray.indexing - INFO - Tokenization -- DONE\n",
      "2024-10-31 11:58:44,327 - searcharray.indexing - INFO - Inverting docs->terms\n",
      "2024-10-31 11:58:44,328 - searcharray.indexing - INFO - Encoding positions to bit array\n",
      "2024-10-31 11:58:44,328 - searcharray.indexing - INFO - Batch tokenization complete\n",
      "2024-10-31 11:58:44,329 - searcharray.indexing - INFO - (main thread) Processing 1 batch results\n",
      "2024-10-31 11:58:44,329 - searcharray.indexing - INFO - Indexing from tokenization complete\n",
      "2024-10-31 11:58:44,338 - searcharray.indexing - INFO - Indexing begins w/ 4 workers\n",
      "2024-10-31 11:58:44,338 - searcharray.indexing - INFO - 0 Batch Start tokenization\n",
      "2024-10-31 11:58:44,339 - searcharray.indexing - INFO - Tokenizing 10 documents\n",
      "2024-10-31 11:58:44,339 - searcharray.indexing - INFO - Tokenization -- vstacking\n",
      "2024-10-31 11:58:44,339 - searcharray.indexing - INFO - Tokenization -- DONE\n",
      "2024-10-31 11:58:44,340 - searcharray.indexing - INFO - Inverting docs->terms\n",
      "2024-10-31 11:58:44,341 - searcharray.indexing - INFO - Encoding positions to bit array\n",
      "2024-10-31 11:58:44,342 - searcharray.indexing - INFO - Batch tokenization complete\n",
      "2024-10-31 11:58:44,342 - searcharray.indexing - INFO - (main thread) Processing 1 batch results\n",
      "2024-10-31 11:58:44,343 - searcharray.indexing - INFO - Indexing from tokenization complete\n",
      "2024-10-31 11:58:44,350 - searcharray.indexing - INFO - Indexing begins w/ 4 workers\n",
      "2024-10-31 11:58:44,351 - searcharray.indexing - INFO - 0 Batch Start tokenization\n",
      "2024-10-31 11:58:44,352 - searcharray.indexing - INFO - Tokenizing 4 documents\n",
      "2024-10-31 11:58:44,352 - searcharray.indexing - INFO - Tokenization -- vstacking\n",
      "2024-10-31 11:58:44,353 - searcharray.indexing - INFO - Tokenization -- DONE\n",
      "2024-10-31 11:58:44,353 - searcharray.indexing - INFO - Inverting docs->terms\n",
      "2024-10-31 11:58:44,353 - searcharray.indexing - INFO - Encoding positions to bit array\n",
      "2024-10-31 11:58:44,354 - searcharray.indexing - INFO - Batch tokenization complete\n",
      "2024-10-31 11:58:44,354 - searcharray.indexing - INFO - (main thread) Processing 1 batch results\n",
      "2024-10-31 11:58:44,355 - searcharray.indexing - INFO - Indexing from tokenization complete\n",
      "2024-10-31 11:58:44,366 - searcharray.indexing - INFO - Indexing begins w/ 4 workers\n",
      "2024-10-31 11:58:44,367 - searcharray.indexing - INFO - 0 Batch Start tokenization\n",
      "2024-10-31 11:58:44,367 - searcharray.indexing - INFO - Tokenizing 1 documents\n",
      "2024-10-31 11:58:44,368 - searcharray.indexing - INFO - Tokenization -- vstacking\n",
      "2024-10-31 11:58:44,368 - searcharray.indexing - INFO - Tokenization -- DONE\n",
      "2024-10-31 11:58:44,368 - searcharray.indexing - INFO - Inverting docs->terms\n",
      "2024-10-31 11:58:44,369 - searcharray.indexing - INFO - Encoding positions to bit array\n",
      "2024-10-31 11:58:44,369 - searcharray.indexing - INFO - Batch tokenization complete\n",
      "2024-10-31 11:58:44,369 - searcharray.indexing - INFO - (main thread) Processing 1 batch results\n",
      "2024-10-31 11:58:44,370 - searcharray.indexing - INFO - Indexing from tokenization complete\n",
      "2024-10-31 11:58:44,379 - searcharray.indexing - INFO - Indexing begins w/ 4 workers\n",
      "2024-10-31 11:58:44,380 - searcharray.indexing - INFO - 0 Batch Start tokenization\n",
      "2024-10-31 11:58:44,380 - searcharray.indexing - INFO - Tokenizing 5 documents\n",
      "2024-10-31 11:58:44,381 - searcharray.indexing - INFO - Tokenization -- vstacking\n",
      "2024-10-31 11:58:44,381 - searcharray.indexing - INFO - Tokenization -- DONE\n",
      "2024-10-31 11:58:44,381 - searcharray.indexing - INFO - Inverting docs->terms\n",
      "2024-10-31 11:58:44,382 - searcharray.indexing - INFO - Encoding positions to bit array\n",
      "2024-10-31 11:58:44,383 - searcharray.indexing - INFO - Batch tokenization complete\n",
      "2024-10-31 11:58:44,383 - searcharray.indexing - INFO - (main thread) Processing 1 batch results\n",
      "2024-10-31 11:58:44,384 - searcharray.indexing - INFO - Indexing from tokenization complete\n",
      "2024-10-31 11:58:44,393 - searcharray.indexing - INFO - Indexing begins w/ 4 workers\n",
      "2024-10-31 11:58:44,393 - searcharray.indexing - INFO - 0 Batch Start tokenization\n",
      "2024-10-31 11:58:44,394 - searcharray.indexing - INFO - Tokenizing 3 documents\n",
      "2024-10-31 11:58:44,394 - searcharray.indexing - INFO - Tokenization -- vstacking\n",
      "2024-10-31 11:58:44,395 - searcharray.indexing - INFO - Tokenization -- DONE\n",
      "2024-10-31 11:58:44,395 - searcharray.indexing - INFO - Inverting docs->terms\n",
      "2024-10-31 11:58:44,395 - searcharray.indexing - INFO - Encoding positions to bit array\n",
      "2024-10-31 11:58:44,396 - searcharray.indexing - INFO - Batch tokenization complete\n",
      "2024-10-31 11:58:44,396 - searcharray.indexing - INFO - (main thread) Processing 1 batch results\n",
      "2024-10-31 11:58:44,397 - searcharray.indexing - INFO - Indexing from tokenization complete\n",
      "2024-10-31 11:58:44,405 - searcharray.indexing - INFO - Indexing begins w/ 4 workers\n",
      "2024-10-31 11:58:44,405 - searcharray.indexing - INFO - 0 Batch Start tokenization\n",
      "2024-10-31 11:58:44,406 - searcharray.indexing - INFO - Tokenizing 10 documents\n",
      "2024-10-31 11:58:44,407 - searcharray.indexing - INFO - Tokenization -- vstacking\n",
      "2024-10-31 11:58:44,407 - searcharray.indexing - INFO - Tokenization -- DONE\n",
      "2024-10-31 11:58:44,408 - searcharray.indexing - INFO - Inverting docs->terms\n",
      "2024-10-31 11:58:44,408 - searcharray.indexing - INFO - Encoding positions to bit array\n",
      "2024-10-31 11:58:44,409 - searcharray.indexing - INFO - Batch tokenization complete\n",
      "2024-10-31 11:58:44,409 - searcharray.indexing - INFO - (main thread) Processing 1 batch results\n",
      "2024-10-31 11:58:44,409 - searcharray.indexing - INFO - Indexing from tokenization complete\n",
      "2024-10-31 11:58:44,417 - searcharray.indexing - INFO - Indexing begins w/ 4 workers\n",
      "2024-10-31 11:58:44,417 - searcharray.indexing - INFO - 0 Batch Start tokenization\n",
      "2024-10-31 11:58:44,418 - searcharray.indexing - INFO - Tokenizing 2 documents\n",
      "2024-10-31 11:58:44,418 - searcharray.indexing - INFO - Tokenization -- vstacking\n",
      "2024-10-31 11:58:44,419 - searcharray.indexing - INFO - Tokenization -- DONE\n",
      "2024-10-31 11:58:44,419 - searcharray.indexing - INFO - Inverting docs->terms\n",
      "2024-10-31 11:58:44,420 - searcharray.indexing - INFO - Encoding positions to bit array\n",
      "2024-10-31 11:58:44,420 - searcharray.indexing - INFO - Batch tokenization complete\n",
      "2024-10-31 11:58:44,421 - searcharray.indexing - INFO - (main thread) Processing 1 batch results\n",
      "2024-10-31 11:58:44,421 - searcharray.indexing - INFO - Indexing from tokenization complete\n",
      "2024-10-31 11:58:44,429 - searcharray.indexing - INFO - Indexing begins w/ 4 workers\n",
      "2024-10-31 11:58:44,430 - searcharray.indexing - INFO - 0 Batch Start tokenization\n",
      "2024-10-31 11:58:44,430 - searcharray.indexing - INFO - Tokenizing 10 documents\n",
      "2024-10-31 11:58:44,431 - searcharray.indexing - INFO - Tokenization -- vstacking\n",
      "2024-10-31 11:58:44,431 - searcharray.indexing - INFO - Tokenization -- DONE\n",
      "2024-10-31 11:58:44,431 - searcharray.indexing - INFO - Inverting docs->terms\n",
      "2024-10-31 11:58:44,432 - searcharray.indexing - INFO - Encoding positions to bit array\n",
      "2024-10-31 11:58:44,432 - searcharray.indexing - INFO - Batch tokenization complete\n",
      "2024-10-31 11:58:44,433 - searcharray.indexing - INFO - (main thread) Processing 1 batch results\n",
      "2024-10-31 11:58:44,433 - searcharray.indexing - INFO - Indexing from tokenization complete\n",
      "2024-10-31 11:58:44,442 - searcharray.indexing - INFO - Indexing begins w/ 4 workers\n",
      "2024-10-31 11:58:44,443 - searcharray.indexing - INFO - 0 Batch Start tokenization\n",
      "2024-10-31 11:58:44,443 - searcharray.indexing - INFO - Tokenizing 10 documents\n",
      "2024-10-31 11:58:44,444 - searcharray.indexing - INFO - Tokenization -- vstacking\n",
      "2024-10-31 11:58:44,444 - searcharray.indexing - INFO - Tokenization -- DONE\n",
      "2024-10-31 11:58:44,445 - searcharray.indexing - INFO - Inverting docs->terms\n",
      "2024-10-31 11:58:44,445 - searcharray.indexing - INFO - Encoding positions to bit array\n",
      "2024-10-31 11:58:44,446 - searcharray.indexing - INFO - Batch tokenization complete\n",
      "2024-10-31 11:58:44,446 - searcharray.indexing - INFO - (main thread) Processing 1 batch results\n",
      "2024-10-31 11:58:44,447 - searcharray.indexing - INFO - Indexing from tokenization complete\n",
      "2024-10-31 11:58:44,456 - searcharray.indexing - INFO - Indexing begins w/ 4 workers\n",
      "2024-10-31 11:58:44,456 - searcharray.indexing - INFO - 0 Batch Start tokenization\n",
      "2024-10-31 11:58:44,457 - searcharray.indexing - INFO - Tokenizing 10 documents\n",
      "2024-10-31 11:58:44,458 - searcharray.indexing - INFO - Tokenization -- vstacking\n",
      "2024-10-31 11:58:44,458 - searcharray.indexing - INFO - Tokenization -- DONE\n",
      "2024-10-31 11:58:44,458 - searcharray.indexing - INFO - Inverting docs->terms\n",
      "2024-10-31 11:58:44,459 - searcharray.indexing - INFO - Encoding positions to bit array\n",
      "2024-10-31 11:58:44,459 - searcharray.indexing - INFO - Batch tokenization complete\n",
      "2024-10-31 11:58:44,459 - searcharray.indexing - INFO - (main thread) Processing 1 batch results\n",
      "2024-10-31 11:58:44,460 - searcharray.indexing - INFO - Indexing from tokenization complete\n",
      "2024-10-31 11:58:44,468 - searcharray.indexing - INFO - Indexing begins w/ 4 workers\n",
      "2024-10-31 11:58:44,469 - searcharray.indexing - INFO - 0 Batch Start tokenization\n",
      "2024-10-31 11:58:44,469 - searcharray.indexing - INFO - Tokenizing 10 documents\n",
      "2024-10-31 11:58:44,470 - searcharray.indexing - INFO - Tokenization -- vstacking\n",
      "2024-10-31 11:58:44,470 - searcharray.indexing - INFO - Tokenization -- DONE\n",
      "2024-10-31 11:58:44,470 - searcharray.indexing - INFO - Inverting docs->terms\n",
      "2024-10-31 11:58:44,471 - searcharray.indexing - INFO - Encoding positions to bit array\n",
      "2024-10-31 11:58:44,471 - searcharray.indexing - INFO - Batch tokenization complete\n",
      "2024-10-31 11:58:44,471 - searcharray.indexing - INFO - (main thread) Processing 1 batch results\n",
      "2024-10-31 11:58:44,472 - searcharray.indexing - INFO - Indexing from tokenization complete\n",
      "2024-10-31 11:58:44,486 - searcharray.indexing - INFO - Indexing begins w/ 4 workers\n",
      "2024-10-31 11:58:44,487 - searcharray.indexing - INFO - 0 Batch Start tokenization\n",
      "2024-10-31 11:58:44,488 - searcharray.indexing - INFO - Tokenizing 10 documents\n",
      "2024-10-31 11:58:44,489 - searcharray.indexing - INFO - Tokenization -- vstacking\n",
      "2024-10-31 11:58:44,489 - searcharray.indexing - INFO - Tokenization -- DONE\n",
      "2024-10-31 11:58:44,491 - searcharray.indexing - INFO - Inverting docs->terms\n",
      "2024-10-31 11:58:44,492 - searcharray.indexing - INFO - Encoding positions to bit array\n",
      "2024-10-31 11:58:44,493 - searcharray.indexing - INFO - Batch tokenization complete\n",
      "2024-10-31 11:58:44,494 - searcharray.indexing - INFO - (main thread) Processing 1 batch results\n",
      "2024-10-31 11:58:44,495 - searcharray.indexing - INFO - Indexing from tokenization complete\n",
      "2024-10-31 11:58:44,506 - searcharray.indexing - INFO - Indexing begins w/ 4 workers\n",
      "2024-10-31 11:58:44,508 - searcharray.indexing - INFO - 0 Batch Start tokenization\n",
      "2024-10-31 11:58:44,509 - searcharray.indexing - INFO - Tokenizing 10 documents\n",
      "2024-10-31 11:58:44,509 - searcharray.indexing - INFO - Tokenization -- vstacking\n",
      "2024-10-31 11:58:44,510 - searcharray.indexing - INFO - Tokenization -- DONE\n",
      "2024-10-31 11:58:44,510 - searcharray.indexing - INFO - Inverting docs->terms\n",
      "2024-10-31 11:58:44,510 - searcharray.indexing - INFO - Encoding positions to bit array\n",
      "2024-10-31 11:58:44,511 - searcharray.indexing - INFO - Batch tokenization complete\n",
      "2024-10-31 11:58:44,511 - searcharray.indexing - INFO - (main thread) Processing 1 batch results\n",
      "2024-10-31 11:58:44,512 - searcharray.indexing - INFO - Indexing from tokenization complete\n",
      "2024-10-31 11:58:44,528 - searcharray.indexing - INFO - Indexing begins w/ 4 workers\n",
      "2024-10-31 11:58:44,529 - searcharray.indexing - INFO - 0 Batch Start tokenization\n",
      "2024-10-31 11:58:44,530 - searcharray.indexing - INFO - Tokenizing 10 documents\n",
      "2024-10-31 11:58:44,531 - searcharray.indexing - INFO - Tokenization -- vstacking\n",
      "2024-10-31 11:58:44,531 - searcharray.indexing - INFO - Tokenization -- DONE\n",
      "2024-10-31 11:58:44,532 - searcharray.indexing - INFO - Inverting docs->terms\n",
      "2024-10-31 11:58:44,533 - searcharray.indexing - INFO - Encoding positions to bit array\n",
      "2024-10-31 11:58:44,533 - searcharray.indexing - INFO - Batch tokenization complete\n",
      "2024-10-31 11:58:44,534 - searcharray.indexing - INFO - (main thread) Processing 1 batch results\n",
      "2024-10-31 11:58:44,534 - searcharray.indexing - INFO - Indexing from tokenization complete\n",
      "2024-10-31 11:58:44,545 - searcharray.indexing - INFO - Indexing begins w/ 4 workers\n",
      "2024-10-31 11:58:44,545 - searcharray.indexing - INFO - 0 Batch Start tokenization\n",
      "2024-10-31 11:58:44,546 - searcharray.indexing - INFO - Tokenizing 6 documents\n",
      "2024-10-31 11:58:44,547 - searcharray.indexing - INFO - Tokenization -- vstacking\n",
      "2024-10-31 11:58:44,547 - searcharray.indexing - INFO - Tokenization -- DONE\n",
      "2024-10-31 11:58:44,547 - searcharray.indexing - INFO - Inverting docs->terms\n",
      "2024-10-31 11:58:44,547 - searcharray.indexing - INFO - Encoding positions to bit array\n",
      "2024-10-31 11:58:44,548 - searcharray.indexing - INFO - Batch tokenization complete\n",
      "2024-10-31 11:58:44,548 - searcharray.indexing - INFO - (main thread) Processing 1 batch results\n",
      "2024-10-31 11:58:44,548 - searcharray.indexing - INFO - Indexing from tokenization complete\n",
      "2024-10-31 11:58:44,556 - searcharray.indexing - INFO - Indexing begins w/ 4 workers\n",
      "2024-10-31 11:58:44,556 - searcharray.indexing - INFO - 0 Batch Start tokenization\n",
      "2024-10-31 11:58:44,557 - searcharray.indexing - INFO - Tokenizing 3 documents\n",
      "2024-10-31 11:58:44,557 - searcharray.indexing - INFO - Tokenization -- vstacking\n",
      "2024-10-31 11:58:44,557 - searcharray.indexing - INFO - Tokenization -- DONE\n",
      "2024-10-31 11:58:44,558 - searcharray.indexing - INFO - Inverting docs->terms\n",
      "2024-10-31 11:58:44,558 - searcharray.indexing - INFO - Encoding positions to bit array\n",
      "2024-10-31 11:58:44,558 - searcharray.indexing - INFO - Batch tokenization complete\n",
      "2024-10-31 11:58:44,559 - searcharray.indexing - INFO - (main thread) Processing 1 batch results\n",
      "2024-10-31 11:58:44,560 - searcharray.indexing - INFO - Indexing from tokenization complete\n",
      "2024-10-31 11:58:44,573 - searcharray.indexing - INFO - Indexing begins w/ 4 workers\n",
      "2024-10-31 11:58:44,574 - searcharray.indexing - INFO - 0 Batch Start tokenization\n",
      "2024-10-31 11:58:44,575 - searcharray.indexing - INFO - Tokenizing 10 documents\n",
      "2024-10-31 11:58:44,575 - searcharray.indexing - INFO - Tokenization -- vstacking\n",
      "2024-10-31 11:58:44,576 - searcharray.indexing - INFO - Tokenization -- DONE\n",
      "2024-10-31 11:58:44,576 - searcharray.indexing - INFO - Inverting docs->terms\n",
      "2024-10-31 11:58:44,576 - searcharray.indexing - INFO - Encoding positions to bit array\n",
      "2024-10-31 11:58:44,576 - searcharray.indexing - INFO - Batch tokenization complete\n",
      "2024-10-31 11:58:44,577 - searcharray.indexing - INFO - (main thread) Processing 1 batch results\n",
      "2024-10-31 11:58:44,577 - searcharray.indexing - INFO - Indexing from tokenization complete\n",
      "2024-10-31 11:58:44,592 - searcharray.indexing - INFO - Indexing begins w/ 4 workers\n",
      "2024-10-31 11:58:44,593 - searcharray.indexing - INFO - 0 Batch Start tokenization\n",
      "2024-10-31 11:58:44,593 - searcharray.indexing - INFO - Tokenizing 10 documents\n",
      "2024-10-31 11:58:44,594 - searcharray.indexing - INFO - Tokenization -- vstacking\n",
      "2024-10-31 11:58:44,594 - searcharray.indexing - INFO - Tokenization -- DONE\n",
      "2024-10-31 11:58:44,595 - searcharray.indexing - INFO - Inverting docs->terms\n",
      "2024-10-31 11:58:44,595 - searcharray.indexing - INFO - Encoding positions to bit array\n",
      "2024-10-31 11:58:44,595 - searcharray.indexing - INFO - Batch tokenization complete\n",
      "2024-10-31 11:58:44,596 - searcharray.indexing - INFO - (main thread) Processing 1 batch results\n",
      "2024-10-31 11:58:44,596 - searcharray.indexing - INFO - Indexing from tokenization complete\n",
      "2024-10-31 11:58:44,622 - searcharray.indexing - INFO - Indexing begins w/ 4 workers\n",
      "2024-10-31 11:58:44,624 - searcharray.indexing - INFO - 0 Batch Start tokenization\n",
      "2024-10-31 11:58:44,625 - searcharray.indexing - INFO - Tokenizing 10 documents\n",
      "2024-10-31 11:58:44,626 - searcharray.indexing - INFO - Tokenization -- vstacking\n",
      "2024-10-31 11:58:44,627 - searcharray.indexing - INFO - Tokenization -- DONE\n",
      "2024-10-31 11:58:44,627 - searcharray.indexing - INFO - Inverting docs->terms\n",
      "2024-10-31 11:58:44,628 - searcharray.indexing - INFO - Encoding positions to bit array\n",
      "2024-10-31 11:58:44,628 - searcharray.indexing - INFO - Batch tokenization complete\n",
      "2024-10-31 11:58:44,629 - searcharray.indexing - INFO - (main thread) Processing 1 batch results\n",
      "2024-10-31 11:58:44,629 - searcharray.indexing - INFO - Indexing from tokenization complete\n",
      "2024-10-31 11:58:44,642 - searcharray.indexing - INFO - Indexing begins w/ 4 workers\n",
      "2024-10-31 11:58:44,643 - searcharray.indexing - INFO - 0 Batch Start tokenization\n",
      "2024-10-31 11:58:44,643 - searcharray.indexing - INFO - Tokenizing 10 documents\n",
      "2024-10-31 11:58:44,645 - searcharray.indexing - INFO - Tokenization -- vstacking\n",
      "2024-10-31 11:58:44,646 - searcharray.indexing - INFO - Tokenization -- DONE\n",
      "2024-10-31 11:58:44,647 - searcharray.indexing - INFO - Inverting docs->terms\n",
      "2024-10-31 11:58:44,649 - searcharray.indexing - INFO - Encoding positions to bit array\n",
      "2024-10-31 11:58:44,650 - searcharray.indexing - INFO - Batch tokenization complete\n",
      "2024-10-31 11:58:44,651 - searcharray.indexing - INFO - (main thread) Processing 1 batch results\n",
      "2024-10-31 11:58:44,651 - searcharray.indexing - INFO - Indexing from tokenization complete\n",
      "2024-10-31 11:58:44,671 - searcharray.indexing - INFO - Indexing begins w/ 4 workers\n",
      "2024-10-31 11:58:44,671 - searcharray.indexing - INFO - 0 Batch Start tokenization\n",
      "2024-10-31 11:58:44,672 - searcharray.indexing - INFO - Tokenizing 10 documents\n",
      "2024-10-31 11:58:44,672 - searcharray.indexing - INFO - Tokenization -- vstacking\n",
      "2024-10-31 11:58:44,673 - searcharray.indexing - INFO - Tokenization -- DONE\n",
      "2024-10-31 11:58:44,674 - searcharray.indexing - INFO - Inverting docs->terms\n",
      "2024-10-31 11:58:44,674 - searcharray.indexing - INFO - Encoding positions to bit array\n",
      "2024-10-31 11:58:44,675 - searcharray.indexing - INFO - Batch tokenization complete\n",
      "2024-10-31 11:58:44,675 - searcharray.indexing - INFO - (main thread) Processing 1 batch results\n",
      "2024-10-31 11:58:44,676 - searcharray.indexing - INFO - Indexing from tokenization complete\n",
      "2024-10-31 11:58:44,683 - searcharray.indexing - INFO - Indexing begins w/ 4 workers\n",
      "2024-10-31 11:58:44,683 - searcharray.indexing - INFO - 0 Batch Start tokenization\n",
      "2024-10-31 11:58:44,684 - searcharray.indexing - INFO - Tokenizing 10 documents\n",
      "2024-10-31 11:58:44,684 - searcharray.indexing - INFO - Tokenization -- vstacking\n",
      "2024-10-31 11:58:44,685 - searcharray.indexing - INFO - Tokenization -- DONE\n",
      "2024-10-31 11:58:44,685 - searcharray.indexing - INFO - Inverting docs->terms\n",
      "2024-10-31 11:58:44,685 - searcharray.indexing - INFO - Encoding positions to bit array\n",
      "2024-10-31 11:58:44,686 - searcharray.indexing - INFO - Batch tokenization complete\n",
      "2024-10-31 11:58:44,686 - searcharray.indexing - INFO - (main thread) Processing 1 batch results\n",
      "2024-10-31 11:58:44,686 - searcharray.indexing - INFO - Indexing from tokenization complete\n",
      "2024-10-31 11:58:44,701 - searcharray.indexing - INFO - Indexing begins w/ 4 workers\n",
      "2024-10-31 11:58:44,701 - searcharray.indexing - INFO - 0 Batch Start tokenization\n",
      "2024-10-31 11:58:44,702 - searcharray.indexing - INFO - Tokenizing 6 documents\n",
      "2024-10-31 11:58:44,703 - searcharray.indexing - INFO - Tokenization -- vstacking\n",
      "2024-10-31 11:58:44,703 - searcharray.indexing - INFO - Tokenization -- DONE\n",
      "2024-10-31 11:58:44,703 - searcharray.indexing - INFO - Inverting docs->terms\n",
      "2024-10-31 11:58:44,703 - searcharray.indexing - INFO - Encoding positions to bit array\n",
      "2024-10-31 11:58:44,704 - searcharray.indexing - INFO - Batch tokenization complete\n",
      "2024-10-31 11:58:44,704 - searcharray.indexing - INFO - (main thread) Processing 1 batch results\n",
      "2024-10-31 11:58:44,705 - searcharray.indexing - INFO - Indexing from tokenization complete\n",
      "2024-10-31 11:58:44,713 - searcharray.indexing - INFO - Indexing begins w/ 4 workers\n",
      "2024-10-31 11:58:44,713 - searcharray.indexing - INFO - 0 Batch Start tokenization\n",
      "2024-10-31 11:58:44,714 - searcharray.indexing - INFO - Tokenizing 10 documents\n",
      "2024-10-31 11:58:44,714 - searcharray.indexing - INFO - Tokenization -- vstacking\n",
      "2024-10-31 11:58:44,715 - searcharray.indexing - INFO - Tokenization -- DONE\n",
      "2024-10-31 11:58:44,715 - searcharray.indexing - INFO - Inverting docs->terms\n",
      "2024-10-31 11:58:44,716 - searcharray.indexing - INFO - Encoding positions to bit array\n",
      "2024-10-31 11:58:44,716 - searcharray.indexing - INFO - Batch tokenization complete\n",
      "2024-10-31 11:58:44,716 - searcharray.indexing - INFO - (main thread) Processing 1 batch results\n",
      "2024-10-31 11:58:44,717 - searcharray.indexing - INFO - Indexing from tokenization complete\n",
      "2024-10-31 11:58:44,724 - searcharray.indexing - INFO - Indexing begins w/ 4 workers\n",
      "2024-10-31 11:58:44,725 - searcharray.indexing - INFO - 0 Batch Start tokenization\n",
      "2024-10-31 11:58:44,726 - searcharray.indexing - INFO - Tokenizing 10 documents\n",
      "2024-10-31 11:58:44,726 - searcharray.indexing - INFO - Tokenization -- vstacking\n",
      "2024-10-31 11:58:44,727 - searcharray.indexing - INFO - Tokenization -- DONE\n",
      "2024-10-31 11:58:44,727 - searcharray.indexing - INFO - Inverting docs->terms\n",
      "2024-10-31 11:58:44,727 - searcharray.indexing - INFO - Encoding positions to bit array\n",
      "2024-10-31 11:58:44,728 - searcharray.indexing - INFO - Batch tokenization complete\n",
      "2024-10-31 11:58:44,728 - searcharray.indexing - INFO - (main thread) Processing 1 batch results\n",
      "2024-10-31 11:58:44,729 - searcharray.indexing - INFO - Indexing from tokenization complete\n",
      "2024-10-31 11:58:44,738 - searcharray.indexing - INFO - Indexing begins w/ 4 workers\n",
      "2024-10-31 11:58:44,738 - searcharray.indexing - INFO - 0 Batch Start tokenization\n",
      "2024-10-31 11:58:44,739 - searcharray.indexing - INFO - Tokenizing 10 documents\n",
      "2024-10-31 11:58:44,740 - searcharray.indexing - INFO - Tokenization -- vstacking\n",
      "2024-10-31 11:58:44,741 - searcharray.indexing - INFO - Tokenization -- DONE\n",
      "2024-10-31 11:58:44,741 - searcharray.indexing - INFO - Inverting docs->terms\n",
      "2024-10-31 11:58:44,741 - searcharray.indexing - INFO - Encoding positions to bit array\n",
      "2024-10-31 11:58:44,742 - searcharray.indexing - INFO - Batch tokenization complete\n",
      "2024-10-31 11:58:44,742 - searcharray.indexing - INFO - (main thread) Processing 1 batch results\n",
      "2024-10-31 11:58:44,743 - searcharray.indexing - INFO - Indexing from tokenization complete\n",
      "2024-10-31 11:58:44,751 - searcharray.indexing - INFO - Indexing begins w/ 4 workers\n",
      "2024-10-31 11:58:44,752 - searcharray.indexing - INFO - 0 Batch Start tokenization\n",
      "2024-10-31 11:58:44,752 - searcharray.indexing - INFO - Tokenizing 10 documents\n",
      "2024-10-31 11:58:44,753 - searcharray.indexing - INFO - Tokenization -- vstacking\n",
      "2024-10-31 11:58:44,753 - searcharray.indexing - INFO - Tokenization -- DONE\n",
      "2024-10-31 11:58:44,753 - searcharray.indexing - INFO - Inverting docs->terms\n",
      "2024-10-31 11:58:44,754 - searcharray.indexing - INFO - Encoding positions to bit array\n",
      "2024-10-31 11:58:44,754 - searcharray.indexing - INFO - Batch tokenization complete\n",
      "2024-10-31 11:58:44,755 - searcharray.indexing - INFO - (main thread) Processing 1 batch results\n",
      "2024-10-31 11:58:44,755 - searcharray.indexing - INFO - Indexing from tokenization complete\n",
      "2024-10-31 11:58:44,763 - searcharray.indexing - INFO - Indexing begins w/ 4 workers\n",
      "2024-10-31 11:58:44,763 - searcharray.indexing - INFO - 0 Batch Start tokenization\n",
      "2024-10-31 11:58:44,764 - searcharray.indexing - INFO - Tokenizing 10 documents\n",
      "2024-10-31 11:58:44,765 - searcharray.indexing - INFO - Tokenization -- vstacking\n",
      "2024-10-31 11:58:44,765 - searcharray.indexing - INFO - Tokenization -- DONE\n",
      "2024-10-31 11:58:44,766 - searcharray.indexing - INFO - Inverting docs->terms\n",
      "2024-10-31 11:58:44,766 - searcharray.indexing - INFO - Encoding positions to bit array\n",
      "2024-10-31 11:58:44,767 - searcharray.indexing - INFO - Batch tokenization complete\n",
      "2024-10-31 11:58:44,767 - searcharray.indexing - INFO - (main thread) Processing 1 batch results\n",
      "2024-10-31 11:58:44,768 - searcharray.indexing - INFO - Indexing from tokenization complete\n",
      "2024-10-31 11:58:44,775 - searcharray.indexing - INFO - Indexing begins w/ 4 workers\n",
      "2024-10-31 11:58:44,776 - searcharray.indexing - INFO - 0 Batch Start tokenization\n",
      "2024-10-31 11:58:44,776 - searcharray.indexing - INFO - Tokenizing 10 documents\n",
      "2024-10-31 11:58:44,777 - searcharray.indexing - INFO - Tokenization -- vstacking\n",
      "2024-10-31 11:58:44,777 - searcharray.indexing - INFO - Tokenization -- DONE\n",
      "2024-10-31 11:58:44,777 - searcharray.indexing - INFO - Inverting docs->terms\n",
      "2024-10-31 11:58:44,778 - searcharray.indexing - INFO - Encoding positions to bit array\n",
      "2024-10-31 11:58:44,778 - searcharray.indexing - INFO - Batch tokenization complete\n",
      "2024-10-31 11:58:44,778 - searcharray.indexing - INFO - (main thread) Processing 1 batch results\n",
      "2024-10-31 11:58:44,779 - searcharray.indexing - INFO - Indexing from tokenization complete\n",
      "2024-10-31 11:58:44,790 - searcharray.indexing - INFO - Indexing begins w/ 4 workers\n",
      "2024-10-31 11:58:44,790 - searcharray.indexing - INFO - 0 Batch Start tokenization\n",
      "2024-10-31 11:58:44,791 - searcharray.indexing - INFO - Tokenizing 10 documents\n",
      "2024-10-31 11:58:44,792 - searcharray.indexing - INFO - Tokenization -- vstacking\n",
      "2024-10-31 11:58:44,792 - searcharray.indexing - INFO - Tokenization -- DONE\n",
      "2024-10-31 11:58:44,792 - searcharray.indexing - INFO - Inverting docs->terms\n",
      "2024-10-31 11:58:44,792 - searcharray.indexing - INFO - Encoding positions to bit array\n",
      "2024-10-31 11:58:44,793 - searcharray.indexing - INFO - Batch tokenization complete\n",
      "2024-10-31 11:58:44,793 - searcharray.indexing - INFO - (main thread) Processing 1 batch results\n",
      "2024-10-31 11:58:44,794 - searcharray.indexing - INFO - Indexing from tokenization complete\n",
      "2024-10-31 11:58:44,805 - searcharray.indexing - INFO - Indexing begins w/ 4 workers\n",
      "2024-10-31 11:58:44,805 - searcharray.indexing - INFO - 0 Batch Start tokenization\n",
      "2024-10-31 11:58:44,806 - searcharray.indexing - INFO - Tokenizing 10 documents\n",
      "2024-10-31 11:58:44,806 - searcharray.indexing - INFO - Tokenization -- vstacking\n",
      "2024-10-31 11:58:44,807 - searcharray.indexing - INFO - Tokenization -- DONE\n",
      "2024-10-31 11:58:44,807 - searcharray.indexing - INFO - Inverting docs->terms\n",
      "2024-10-31 11:58:44,807 - searcharray.indexing - INFO - Encoding positions to bit array\n",
      "2024-10-31 11:58:44,808 - searcharray.indexing - INFO - Batch tokenization complete\n",
      "2024-10-31 11:58:44,808 - searcharray.indexing - INFO - (main thread) Processing 1 batch results\n",
      "2024-10-31 11:58:44,809 - searcharray.indexing - INFO - Indexing from tokenization complete\n",
      "2024-10-31 11:58:44,824 - searcharray.indexing - INFO - Indexing begins w/ 4 workers\n",
      "2024-10-31 11:58:44,825 - searcharray.indexing - INFO - 0 Batch Start tokenization\n",
      "2024-10-31 11:58:44,826 - searcharray.indexing - INFO - Tokenizing 3 documents\n",
      "2024-10-31 11:58:44,826 - searcharray.indexing - INFO - Tokenization -- vstacking\n",
      "2024-10-31 11:58:44,827 - searcharray.indexing - INFO - Tokenization -- DONE\n",
      "2024-10-31 11:58:44,827 - searcharray.indexing - INFO - Inverting docs->terms\n",
      "2024-10-31 11:58:44,827 - searcharray.indexing - INFO - Encoding positions to bit array\n",
      "2024-10-31 11:58:44,828 - searcharray.indexing - INFO - Batch tokenization complete\n",
      "2024-10-31 11:58:44,828 - searcharray.indexing - INFO - (main thread) Processing 1 batch results\n",
      "2024-10-31 11:58:44,829 - searcharray.indexing - INFO - Indexing from tokenization complete\n",
      "2024-10-31 11:58:44,842 - searcharray.indexing - INFO - Indexing begins w/ 4 workers\n",
      "2024-10-31 11:58:44,842 - searcharray.indexing - INFO - 0 Batch Start tokenization\n",
      "2024-10-31 11:58:44,843 - searcharray.indexing - INFO - Tokenizing 1 documents\n",
      "2024-10-31 11:58:44,843 - searcharray.indexing - INFO - Tokenization -- vstacking\n",
      "2024-10-31 11:58:44,844 - searcharray.indexing - INFO - Tokenization -- DONE\n",
      "2024-10-31 11:58:44,844 - searcharray.indexing - INFO - Inverting docs->terms\n",
      "2024-10-31 11:58:44,845 - searcharray.indexing - INFO - Encoding positions to bit array\n",
      "2024-10-31 11:58:44,845 - searcharray.indexing - INFO - Batch tokenization complete\n",
      "2024-10-31 11:58:44,845 - searcharray.indexing - INFO - (main thread) Processing 1 batch results\n",
      "2024-10-31 11:58:44,846 - searcharray.indexing - INFO - Indexing from tokenization complete\n",
      "2024-10-31 11:58:44,854 - searcharray.indexing - INFO - Indexing begins w/ 4 workers\n",
      "2024-10-31 11:58:44,855 - searcharray.indexing - INFO - 0 Batch Start tokenization\n",
      "2024-10-31 11:58:44,855 - searcharray.indexing - INFO - Tokenizing 10 documents\n",
      "2024-10-31 11:58:44,857 - searcharray.indexing - INFO - Tokenization -- vstacking\n",
      "2024-10-31 11:58:44,857 - searcharray.indexing - INFO - Tokenization -- DONE\n",
      "2024-10-31 11:58:44,857 - searcharray.indexing - INFO - Inverting docs->terms\n",
      "2024-10-31 11:58:44,858 - searcharray.indexing - INFO - Encoding positions to bit array\n",
      "2024-10-31 11:58:44,858 - searcharray.indexing - INFO - Batch tokenization complete\n",
      "2024-10-31 11:58:44,859 - searcharray.indexing - INFO - (main thread) Processing 1 batch results\n",
      "2024-10-31 11:58:44,859 - searcharray.indexing - INFO - Indexing from tokenization complete\n",
      "2024-10-31 11:58:44,867 - searcharray.indexing - INFO - Indexing begins w/ 4 workers\n",
      "2024-10-31 11:58:44,868 - searcharray.indexing - INFO - 0 Batch Start tokenization\n",
      "2024-10-31 11:58:44,868 - searcharray.indexing - INFO - Tokenizing 10 documents\n",
      "2024-10-31 11:58:44,869 - searcharray.indexing - INFO - Tokenization -- vstacking\n",
      "2024-10-31 11:58:44,869 - searcharray.indexing - INFO - Tokenization -- DONE\n",
      "2024-10-31 11:58:44,869 - searcharray.indexing - INFO - Inverting docs->terms\n",
      "2024-10-31 11:58:44,870 - searcharray.indexing - INFO - Encoding positions to bit array\n",
      "2024-10-31 11:58:44,870 - searcharray.indexing - INFO - Batch tokenization complete\n",
      "2024-10-31 11:58:44,871 - searcharray.indexing - INFO - (main thread) Processing 1 batch results\n",
      "2024-10-31 11:58:44,871 - searcharray.indexing - INFO - Indexing from tokenization complete\n",
      "2024-10-31 11:58:44,879 - searcharray.indexing - INFO - Indexing begins w/ 4 workers\n",
      "2024-10-31 11:58:44,879 - searcharray.indexing - INFO - 0 Batch Start tokenization\n",
      "2024-10-31 11:58:44,880 - searcharray.indexing - INFO - Tokenizing 10 documents\n",
      "2024-10-31 11:58:44,881 - searcharray.indexing - INFO - Tokenization -- vstacking\n",
      "2024-10-31 11:58:44,881 - searcharray.indexing - INFO - Tokenization -- DONE\n",
      "2024-10-31 11:58:44,882 - searcharray.indexing - INFO - Inverting docs->terms\n",
      "2024-10-31 11:58:44,882 - searcharray.indexing - INFO - Encoding positions to bit array\n",
      "2024-10-31 11:58:44,883 - searcharray.indexing - INFO - Batch tokenization complete\n",
      "2024-10-31 11:58:44,884 - searcharray.indexing - INFO - (main thread) Processing 1 batch results\n",
      "2024-10-31 11:58:44,884 - searcharray.indexing - INFO - Indexing from tokenization complete\n",
      "2024-10-31 11:58:44,892 - searcharray.indexing - INFO - Indexing begins w/ 4 workers\n",
      "2024-10-31 11:58:44,892 - searcharray.indexing - INFO - 0 Batch Start tokenization\n",
      "2024-10-31 11:58:44,893 - searcharray.indexing - INFO - Tokenizing 10 documents\n",
      "2024-10-31 11:58:44,894 - searcharray.indexing - INFO - Tokenization -- vstacking\n",
      "2024-10-31 11:58:44,894 - searcharray.indexing - INFO - Tokenization -- DONE\n",
      "2024-10-31 11:58:44,894 - searcharray.indexing - INFO - Inverting docs->terms\n",
      "2024-10-31 11:58:44,894 - searcharray.indexing - INFO - Encoding positions to bit array\n",
      "2024-10-31 11:58:44,895 - searcharray.indexing - INFO - Batch tokenization complete\n",
      "2024-10-31 11:58:44,895 - searcharray.indexing - INFO - (main thread) Processing 1 batch results\n",
      "2024-10-31 11:58:44,896 - searcharray.indexing - INFO - Indexing from tokenization complete\n",
      "2024-10-31 11:58:44,903 - searcharray.indexing - INFO - Indexing begins w/ 4 workers\n",
      "2024-10-31 11:58:44,904 - searcharray.indexing - INFO - 0 Batch Start tokenization\n",
      "2024-10-31 11:58:44,904 - searcharray.indexing - INFO - Tokenizing 10 documents\n",
      "2024-10-31 11:58:44,905 - searcharray.indexing - INFO - Tokenization -- vstacking\n",
      "2024-10-31 11:58:44,905 - searcharray.indexing - INFO - Tokenization -- DONE\n",
      "2024-10-31 11:58:44,905 - searcharray.indexing - INFO - Inverting docs->terms\n",
      "2024-10-31 11:58:44,906 - searcharray.indexing - INFO - Encoding positions to bit array\n",
      "2024-10-31 11:58:44,907 - searcharray.indexing - INFO - Batch tokenization complete\n",
      "2024-10-31 11:58:44,907 - searcharray.indexing - INFO - (main thread) Processing 1 batch results\n",
      "2024-10-31 11:58:44,907 - searcharray.indexing - INFO - Indexing from tokenization complete\n",
      "2024-10-31 11:58:44,924 - searcharray.indexing - INFO - Indexing begins w/ 4 workers\n",
      "2024-10-31 11:58:44,924 - searcharray.indexing - INFO - 0 Batch Start tokenization\n",
      "2024-10-31 11:58:44,925 - searcharray.indexing - INFO - Tokenizing 10 documents\n",
      "2024-10-31 11:58:44,925 - searcharray.indexing - INFO - Tokenization -- vstacking\n",
      "2024-10-31 11:58:44,925 - searcharray.indexing - INFO - Tokenization -- DONE\n",
      "2024-10-31 11:58:44,926 - searcharray.indexing - INFO - Inverting docs->terms\n",
      "2024-10-31 11:58:44,926 - searcharray.indexing - INFO - Encoding positions to bit array\n",
      "2024-10-31 11:58:44,926 - searcharray.indexing - INFO - Batch tokenization complete\n",
      "2024-10-31 11:58:44,927 - searcharray.indexing - INFO - (main thread) Processing 1 batch results\n",
      "2024-10-31 11:58:44,927 - searcharray.indexing - INFO - Indexing from tokenization complete\n",
      "2024-10-31 11:58:44,936 - searcharray.indexing - INFO - Indexing begins w/ 4 workers\n",
      "2024-10-31 11:58:44,936 - searcharray.indexing - INFO - 0 Batch Start tokenization\n",
      "2024-10-31 11:58:44,937 - searcharray.indexing - INFO - Tokenizing 10 documents\n",
      "2024-10-31 11:58:44,938 - searcharray.indexing - INFO - Tokenization -- vstacking\n",
      "2024-10-31 11:58:44,938 - searcharray.indexing - INFO - Tokenization -- DONE\n",
      "2024-10-31 11:58:44,939 - searcharray.indexing - INFO - Inverting docs->terms\n",
      "2024-10-31 11:58:44,939 - searcharray.indexing - INFO - Encoding positions to bit array\n",
      "2024-10-31 11:58:44,940 - searcharray.indexing - INFO - Batch tokenization complete\n",
      "2024-10-31 11:58:44,941 - searcharray.indexing - INFO - (main thread) Processing 1 batch results\n",
      "2024-10-31 11:58:44,941 - searcharray.indexing - INFO - Indexing from tokenization complete\n",
      "2024-10-31 11:58:44,950 - searcharray.indexing - INFO - Indexing begins w/ 4 workers\n",
      "2024-10-31 11:58:44,950 - searcharray.indexing - INFO - 0 Batch Start tokenization\n",
      "2024-10-31 11:58:44,950 - searcharray.indexing - INFO - Tokenizing 8 documents\n",
      "2024-10-31 11:58:44,951 - searcharray.indexing - INFO - Tokenization -- vstacking\n",
      "2024-10-31 11:58:44,951 - searcharray.indexing - INFO - Tokenization -- DONE\n",
      "2024-10-31 11:58:44,951 - searcharray.indexing - INFO - Inverting docs->terms\n",
      "2024-10-31 11:58:44,952 - searcharray.indexing - INFO - Encoding positions to bit array\n",
      "2024-10-31 11:58:44,952 - searcharray.indexing - INFO - Batch tokenization complete\n",
      "2024-10-31 11:58:44,953 - searcharray.indexing - INFO - (main thread) Processing 1 batch results\n",
      "2024-10-31 11:58:44,953 - searcharray.indexing - INFO - Indexing from tokenization complete\n",
      "2024-10-31 11:58:44,960 - searcharray.indexing - INFO - Indexing begins w/ 4 workers\n",
      "2024-10-31 11:58:44,961 - searcharray.indexing - INFO - 0 Batch Start tokenization\n",
      "2024-10-31 11:58:44,962 - searcharray.indexing - INFO - Tokenizing 3 documents\n",
      "2024-10-31 11:58:44,962 - searcharray.indexing - INFO - Tokenization -- vstacking\n",
      "2024-10-31 11:58:44,962 - searcharray.indexing - INFO - Tokenization -- DONE\n",
      "2024-10-31 11:58:44,963 - searcharray.indexing - INFO - Inverting docs->terms\n",
      "2024-10-31 11:58:44,963 - searcharray.indexing - INFO - Encoding positions to bit array\n",
      "2024-10-31 11:58:44,963 - searcharray.indexing - INFO - Batch tokenization complete\n",
      "2024-10-31 11:58:44,964 - searcharray.indexing - INFO - (main thread) Processing 1 batch results\n",
      "2024-10-31 11:58:44,965 - searcharray.indexing - INFO - Indexing from tokenization complete\n",
      "2024-10-31 11:58:44,974 - searcharray.indexing - INFO - Indexing begins w/ 4 workers\n",
      "2024-10-31 11:58:44,975 - searcharray.indexing - INFO - 0 Batch Start tokenization\n",
      "2024-10-31 11:58:44,975 - searcharray.indexing - INFO - Tokenizing 10 documents\n",
      "2024-10-31 11:58:44,976 - searcharray.indexing - INFO - Tokenization -- vstacking\n",
      "2024-10-31 11:58:44,976 - searcharray.indexing - INFO - Tokenization -- DONE\n",
      "2024-10-31 11:58:44,977 - searcharray.indexing - INFO - Inverting docs->terms\n",
      "2024-10-31 11:58:44,977 - searcharray.indexing - INFO - Encoding positions to bit array\n",
      "2024-10-31 11:58:44,977 - searcharray.indexing - INFO - Batch tokenization complete\n",
      "2024-10-31 11:58:44,978 - searcharray.indexing - INFO - (main thread) Processing 1 batch results\n",
      "2024-10-31 11:58:44,978 - searcharray.indexing - INFO - Indexing from tokenization complete\n",
      "2024-10-31 11:58:44,992 - searcharray.indexing - INFO - Indexing begins w/ 4 workers\n",
      "2024-10-31 11:58:44,992 - searcharray.indexing - INFO - 0 Batch Start tokenization\n",
      "2024-10-31 11:58:44,993 - searcharray.indexing - INFO - Tokenizing 10 documents\n",
      "2024-10-31 11:58:44,993 - searcharray.indexing - INFO - Tokenization -- vstacking\n",
      "2024-10-31 11:58:44,993 - searcharray.indexing - INFO - Tokenization -- DONE\n",
      "2024-10-31 11:58:44,994 - searcharray.indexing - INFO - Inverting docs->terms\n",
      "2024-10-31 11:58:44,994 - searcharray.indexing - INFO - Encoding positions to bit array\n",
      "2024-10-31 11:58:44,995 - searcharray.indexing - INFO - Batch tokenization complete\n",
      "2024-10-31 11:58:44,995 - searcharray.indexing - INFO - (main thread) Processing 1 batch results\n",
      "2024-10-31 11:58:44,995 - searcharray.indexing - INFO - Indexing from tokenization complete\n",
      "2024-10-31 11:58:45,004 - searcharray.indexing - INFO - Indexing begins w/ 4 workers\n",
      "2024-10-31 11:58:45,005 - searcharray.indexing - INFO - 0 Batch Start tokenization\n",
      "2024-10-31 11:58:45,006 - searcharray.indexing - INFO - Tokenizing 10 documents\n",
      "2024-10-31 11:58:45,006 - searcharray.indexing - INFO - Tokenization -- vstacking\n",
      "2024-10-31 11:58:45,007 - searcharray.indexing - INFO - Tokenization -- DONE\n",
      "2024-10-31 11:58:45,007 - searcharray.indexing - INFO - Inverting docs->terms\n",
      "2024-10-31 11:58:45,007 - searcharray.indexing - INFO - Encoding positions to bit array\n",
      "2024-10-31 11:58:45,008 - searcharray.indexing - INFO - Batch tokenization complete\n",
      "2024-10-31 11:58:45,008 - searcharray.indexing - INFO - (main thread) Processing 1 batch results\n",
      "2024-10-31 11:58:45,009 - searcharray.indexing - INFO - Indexing from tokenization complete\n",
      "2024-10-31 11:58:45,018 - searcharray.indexing - INFO - Indexing begins w/ 4 workers\n",
      "2024-10-31 11:58:45,019 - searcharray.indexing - INFO - 0 Batch Start tokenization\n",
      "2024-10-31 11:58:45,019 - searcharray.indexing - INFO - Tokenizing 10 documents\n",
      "2024-10-31 11:58:45,020 - searcharray.indexing - INFO - Tokenization -- vstacking\n",
      "2024-10-31 11:58:45,020 - searcharray.indexing - INFO - Tokenization -- DONE\n",
      "2024-10-31 11:58:45,020 - searcharray.indexing - INFO - Inverting docs->terms\n",
      "2024-10-31 11:58:45,020 - searcharray.indexing - INFO - Encoding positions to bit array\n",
      "2024-10-31 11:58:45,021 - searcharray.indexing - INFO - Batch tokenization complete\n",
      "2024-10-31 11:58:45,021 - searcharray.indexing - INFO - (main thread) Processing 1 batch results\n",
      "2024-10-31 11:58:45,022 - searcharray.indexing - INFO - Indexing from tokenization complete\n",
      "2024-10-31 11:58:45,031 - searcharray.indexing - INFO - Indexing begins w/ 4 workers\n",
      "2024-10-31 11:58:45,032 - searcharray.indexing - INFO - 0 Batch Start tokenization\n",
      "2024-10-31 11:58:45,032 - searcharray.indexing - INFO - Tokenizing 10 documents\n",
      "2024-10-31 11:58:45,033 - searcharray.indexing - INFO - Tokenization -- vstacking\n",
      "2024-10-31 11:58:45,033 - searcharray.indexing - INFO - Tokenization -- DONE\n",
      "2024-10-31 11:58:45,033 - searcharray.indexing - INFO - Inverting docs->terms\n",
      "2024-10-31 11:58:45,034 - searcharray.indexing - INFO - Encoding positions to bit array\n",
      "2024-10-31 11:58:45,034 - searcharray.indexing - INFO - Batch tokenization complete\n",
      "2024-10-31 11:58:45,035 - searcharray.indexing - INFO - (main thread) Processing 1 batch results\n",
      "2024-10-31 11:58:45,036 - searcharray.indexing - INFO - Indexing from tokenization complete\n",
      "2024-10-31 11:58:45,044 - searcharray.indexing - INFO - Indexing begins w/ 4 workers\n",
      "2024-10-31 11:58:45,045 - searcharray.indexing - INFO - 0 Batch Start tokenization\n",
      "2024-10-31 11:58:45,045 - searcharray.indexing - INFO - Tokenizing 10 documents\n",
      "2024-10-31 11:58:45,046 - searcharray.indexing - INFO - Tokenization -- vstacking\n",
      "2024-10-31 11:58:45,046 - searcharray.indexing - INFO - Tokenization -- DONE\n",
      "2024-10-31 11:58:45,047 - searcharray.indexing - INFO - Inverting docs->terms\n",
      "2024-10-31 11:58:45,047 - searcharray.indexing - INFO - Encoding positions to bit array\n",
      "2024-10-31 11:58:45,048 - searcharray.indexing - INFO - Batch tokenization complete\n",
      "2024-10-31 11:58:45,049 - searcharray.indexing - INFO - (main thread) Processing 1 batch results\n",
      "2024-10-31 11:58:45,049 - searcharray.indexing - INFO - Indexing from tokenization complete\n",
      "2024-10-31 11:58:45,061 - searcharray.indexing - INFO - Indexing begins w/ 4 workers\n",
      "2024-10-31 11:58:45,062 - searcharray.indexing - INFO - 0 Batch Start tokenization\n",
      "2024-10-31 11:58:45,062 - searcharray.indexing - INFO - Tokenizing 10 documents\n",
      "2024-10-31 11:58:45,063 - searcharray.indexing - INFO - Tokenization -- vstacking\n",
      "2024-10-31 11:58:45,064 - searcharray.indexing - INFO - Tokenization -- DONE\n",
      "2024-10-31 11:58:45,065 - searcharray.indexing - INFO - Inverting docs->terms\n",
      "2024-10-31 11:58:45,065 - searcharray.indexing - INFO - Encoding positions to bit array\n",
      "2024-10-31 11:58:45,066 - searcharray.indexing - INFO - Batch tokenization complete\n",
      "2024-10-31 11:58:45,066 - searcharray.indexing - INFO - (main thread) Processing 1 batch results\n",
      "2024-10-31 11:58:45,067 - searcharray.indexing - INFO - Indexing from tokenization complete\n",
      "2024-10-31 11:58:45,078 - searcharray.indexing - INFO - Indexing begins w/ 4 workers\n",
      "2024-10-31 11:58:45,079 - searcharray.indexing - INFO - 0 Batch Start tokenization\n",
      "2024-10-31 11:58:45,080 - searcharray.indexing - INFO - Tokenizing 10 documents\n",
      "2024-10-31 11:58:45,081 - searcharray.indexing - INFO - Tokenization -- vstacking\n",
      "2024-10-31 11:58:45,082 - searcharray.indexing - INFO - Tokenization -- DONE\n",
      "2024-10-31 11:58:45,082 - searcharray.indexing - INFO - Inverting docs->terms\n",
      "2024-10-31 11:58:45,082 - searcharray.indexing - INFO - Encoding positions to bit array\n",
      "2024-10-31 11:58:45,082 - searcharray.indexing - INFO - Batch tokenization complete\n",
      "2024-10-31 11:58:45,083 - searcharray.indexing - INFO - (main thread) Processing 1 batch results\n",
      "2024-10-31 11:58:45,083 - searcharray.indexing - INFO - Indexing from tokenization complete\n",
      "2024-10-31 11:58:45,098 - searcharray.indexing - INFO - Indexing begins w/ 4 workers\n",
      "2024-10-31 11:58:45,099 - searcharray.indexing - INFO - 0 Batch Start tokenization\n",
      "2024-10-31 11:58:45,099 - searcharray.indexing - INFO - Tokenizing 10 documents\n",
      "2024-10-31 11:58:45,099 - searcharray.indexing - INFO - Tokenization -- vstacking\n",
      "2024-10-31 11:58:45,100 - searcharray.indexing - INFO - Tokenization -- DONE\n",
      "2024-10-31 11:58:45,100 - searcharray.indexing - INFO - Inverting docs->terms\n",
      "2024-10-31 11:58:45,100 - searcharray.indexing - INFO - Encoding positions to bit array\n",
      "2024-10-31 11:58:45,101 - searcharray.indexing - INFO - Batch tokenization complete\n",
      "2024-10-31 11:58:45,101 - searcharray.indexing - INFO - (main thread) Processing 1 batch results\n",
      "2024-10-31 11:58:45,101 - searcharray.indexing - INFO - Indexing from tokenization complete\n",
      "2024-10-31 11:58:45,108 - searcharray.indexing - INFO - Indexing begins w/ 4 workers\n",
      "2024-10-31 11:58:45,109 - searcharray.indexing - INFO - 0 Batch Start tokenization\n",
      "2024-10-31 11:58:45,109 - searcharray.indexing - INFO - Tokenizing 3 documents\n",
      "2024-10-31 11:58:45,110 - searcharray.indexing - INFO - Tokenization -- vstacking\n",
      "2024-10-31 11:58:45,110 - searcharray.indexing - INFO - Tokenization -- DONE\n",
      "2024-10-31 11:58:45,110 - searcharray.indexing - INFO - Inverting docs->terms\n",
      "2024-10-31 11:58:45,110 - searcharray.indexing - INFO - Encoding positions to bit array\n",
      "2024-10-31 11:58:45,111 - searcharray.indexing - INFO - Batch tokenization complete\n",
      "2024-10-31 11:58:45,111 - searcharray.indexing - INFO - (main thread) Processing 1 batch results\n",
      "2024-10-31 11:58:45,112 - searcharray.indexing - INFO - Indexing from tokenization complete\n",
      "2024-10-31 11:58:45,119 - searcharray.indexing - INFO - Indexing begins w/ 4 workers\n",
      "2024-10-31 11:58:45,119 - searcharray.indexing - INFO - 0 Batch Start tokenization\n",
      "2024-10-31 11:58:45,120 - searcharray.indexing - INFO - Tokenizing 10 documents\n",
      "2024-10-31 11:58:45,120 - searcharray.indexing - INFO - Tokenization -- vstacking\n",
      "2024-10-31 11:58:45,121 - searcharray.indexing - INFO - Tokenization -- DONE\n",
      "2024-10-31 11:58:45,121 - searcharray.indexing - INFO - Inverting docs->terms\n",
      "2024-10-31 11:58:45,121 - searcharray.indexing - INFO - Encoding positions to bit array\n",
      "2024-10-31 11:58:45,122 - searcharray.indexing - INFO - Batch tokenization complete\n",
      "2024-10-31 11:58:45,122 - searcharray.indexing - INFO - (main thread) Processing 1 batch results\n",
      "2024-10-31 11:58:45,122 - searcharray.indexing - INFO - Indexing from tokenization complete\n",
      "2024-10-31 11:58:45,133 - searcharray.indexing - INFO - Indexing begins w/ 4 workers\n",
      "2024-10-31 11:58:45,134 - searcharray.indexing - INFO - 0 Batch Start tokenization\n",
      "2024-10-31 11:58:45,134 - searcharray.indexing - INFO - Tokenizing 10 documents\n",
      "2024-10-31 11:58:45,135 - searcharray.indexing - INFO - Tokenization -- vstacking\n",
      "2024-10-31 11:58:45,135 - searcharray.indexing - INFO - Tokenization -- DONE\n",
      "2024-10-31 11:58:45,136 - searcharray.indexing - INFO - Inverting docs->terms\n",
      "2024-10-31 11:58:45,136 - searcharray.indexing - INFO - Encoding positions to bit array\n",
      "2024-10-31 11:58:45,137 - searcharray.indexing - INFO - Batch tokenization complete\n",
      "2024-10-31 11:58:45,137 - searcharray.indexing - INFO - (main thread) Processing 1 batch results\n",
      "2024-10-31 11:58:45,138 - searcharray.indexing - INFO - Indexing from tokenization complete\n",
      "2024-10-31 11:58:45,145 - searcharray.indexing - INFO - Indexing begins w/ 4 workers\n",
      "2024-10-31 11:58:45,145 - searcharray.indexing - INFO - 0 Batch Start tokenization\n",
      "2024-10-31 11:58:45,146 - searcharray.indexing - INFO - Tokenizing 10 documents\n",
      "2024-10-31 11:58:45,146 - searcharray.indexing - INFO - Tokenization -- vstacking\n",
      "2024-10-31 11:58:45,147 - searcharray.indexing - INFO - Tokenization -- DONE\n",
      "2024-10-31 11:58:45,147 - searcharray.indexing - INFO - Inverting docs->terms\n",
      "2024-10-31 11:58:45,147 - searcharray.indexing - INFO - Encoding positions to bit array\n",
      "2024-10-31 11:58:45,148 - searcharray.indexing - INFO - Batch tokenization complete\n",
      "2024-10-31 11:58:45,148 - searcharray.indexing - INFO - (main thread) Processing 1 batch results\n",
      "2024-10-31 11:58:45,149 - searcharray.indexing - INFO - Indexing from tokenization complete\n",
      "2024-10-31 11:58:45,159 - searcharray.indexing - INFO - Indexing begins w/ 4 workers\n",
      "2024-10-31 11:58:45,160 - searcharray.indexing - INFO - 0 Batch Start tokenization\n",
      "2024-10-31 11:58:45,161 - searcharray.indexing - INFO - Tokenizing 10 documents\n",
      "2024-10-31 11:58:45,162 - searcharray.indexing - INFO - Tokenization -- vstacking\n",
      "2024-10-31 11:58:45,162 - searcharray.indexing - INFO - Tokenization -- DONE\n",
      "2024-10-31 11:58:45,162 - searcharray.indexing - INFO - Inverting docs->terms\n",
      "2024-10-31 11:58:45,162 - searcharray.indexing - INFO - Encoding positions to bit array\n",
      "2024-10-31 11:58:45,163 - searcharray.indexing - INFO - Batch tokenization complete\n",
      "2024-10-31 11:58:45,164 - searcharray.indexing - INFO - (main thread) Processing 1 batch results\n",
      "2024-10-31 11:58:45,165 - searcharray.indexing - INFO - Indexing from tokenization complete\n",
      "2024-10-31 11:58:45,172 - searcharray.indexing - INFO - Indexing begins w/ 4 workers\n",
      "2024-10-31 11:58:45,172 - searcharray.indexing - INFO - 0 Batch Start tokenization\n",
      "2024-10-31 11:58:45,173 - searcharray.indexing - INFO - Tokenizing 10 documents\n",
      "2024-10-31 11:58:45,174 - searcharray.indexing - INFO - Tokenization -- vstacking\n",
      "2024-10-31 11:58:45,174 - searcharray.indexing - INFO - Tokenization -- DONE\n",
      "2024-10-31 11:58:45,174 - searcharray.indexing - INFO - Inverting docs->terms\n",
      "2024-10-31 11:58:45,174 - searcharray.indexing - INFO - Encoding positions to bit array\n",
      "2024-10-31 11:58:45,175 - searcharray.indexing - INFO - Batch tokenization complete\n",
      "2024-10-31 11:58:45,175 - searcharray.indexing - INFO - (main thread) Processing 1 batch results\n",
      "2024-10-31 11:58:45,176 - searcharray.indexing - INFO - Indexing from tokenization complete\n",
      "2024-10-31 11:58:45,184 - searcharray.indexing - INFO - Indexing begins w/ 4 workers\n",
      "2024-10-31 11:58:45,185 - searcharray.indexing - INFO - 0 Batch Start tokenization\n",
      "2024-10-31 11:58:45,185 - searcharray.indexing - INFO - Tokenizing 10 documents\n",
      "2024-10-31 11:58:45,186 - searcharray.indexing - INFO - Tokenization -- vstacking\n",
      "2024-10-31 11:58:45,186 - searcharray.indexing - INFO - Tokenization -- DONE\n",
      "2024-10-31 11:58:45,186 - searcharray.indexing - INFO - Inverting docs->terms\n",
      "2024-10-31 11:58:45,186 - searcharray.indexing - INFO - Encoding positions to bit array\n",
      "2024-10-31 11:58:45,187 - searcharray.indexing - INFO - Batch tokenization complete\n",
      "2024-10-31 11:58:45,187 - searcharray.indexing - INFO - (main thread) Processing 1 batch results\n",
      "2024-10-31 11:58:45,187 - searcharray.indexing - INFO - Indexing from tokenization complete\n",
      "2024-10-31 11:58:45,196 - searcharray.indexing - INFO - Indexing begins w/ 4 workers\n",
      "2024-10-31 11:58:45,197 - searcharray.indexing - INFO - 0 Batch Start tokenization\n",
      "2024-10-31 11:58:45,197 - searcharray.indexing - INFO - Tokenizing 10 documents\n",
      "2024-10-31 11:58:45,198 - searcharray.indexing - INFO - Tokenization -- vstacking\n",
      "2024-10-31 11:58:45,198 - searcharray.indexing - INFO - Tokenization -- DONE\n",
      "2024-10-31 11:58:45,198 - searcharray.indexing - INFO - Inverting docs->terms\n",
      "2024-10-31 11:58:45,198 - searcharray.indexing - INFO - Encoding positions to bit array\n",
      "2024-10-31 11:58:45,199 - searcharray.indexing - INFO - Batch tokenization complete\n",
      "2024-10-31 11:58:45,199 - searcharray.indexing - INFO - (main thread) Processing 1 batch results\n",
      "2024-10-31 11:58:45,200 - searcharray.indexing - INFO - Indexing from tokenization complete\n",
      "2024-10-31 11:58:45,216 - searcharray.indexing - INFO - Indexing begins w/ 4 workers\n",
      "2024-10-31 11:58:45,217 - searcharray.indexing - INFO - 0 Batch Start tokenization\n",
      "2024-10-31 11:58:45,217 - searcharray.indexing - INFO - Tokenizing 1 documents\n",
      "2024-10-31 11:58:45,218 - searcharray.indexing - INFO - Tokenization -- vstacking\n",
      "2024-10-31 11:58:45,218 - searcharray.indexing - INFO - Tokenization -- DONE\n",
      "2024-10-31 11:58:45,218 - searcharray.indexing - INFO - Inverting docs->terms\n",
      "2024-10-31 11:58:45,218 - searcharray.indexing - INFO - Encoding positions to bit array\n",
      "2024-10-31 11:58:45,219 - searcharray.indexing - INFO - Batch tokenization complete\n",
      "2024-10-31 11:58:45,219 - searcharray.indexing - INFO - (main thread) Processing 1 batch results\n",
      "2024-10-31 11:58:45,219 - searcharray.indexing - INFO - Indexing from tokenization complete\n",
      "2024-10-31 11:58:45,227 - searcharray.indexing - INFO - Indexing begins w/ 4 workers\n",
      "2024-10-31 11:58:45,228 - searcharray.indexing - INFO - 0 Batch Start tokenization\n",
      "2024-10-31 11:58:45,228 - searcharray.indexing - INFO - Tokenizing 10 documents\n",
      "2024-10-31 11:58:45,229 - searcharray.indexing - INFO - Tokenization -- vstacking\n",
      "2024-10-31 11:58:45,229 - searcharray.indexing - INFO - Tokenization -- DONE\n",
      "2024-10-31 11:58:45,230 - searcharray.indexing - INFO - Inverting docs->terms\n",
      "2024-10-31 11:58:45,230 - searcharray.indexing - INFO - Encoding positions to bit array\n",
      "2024-10-31 11:58:45,231 - searcharray.indexing - INFO - Batch tokenization complete\n",
      "2024-10-31 11:58:45,231 - searcharray.indexing - INFO - (main thread) Processing 1 batch results\n",
      "2024-10-31 11:58:45,232 - searcharray.indexing - INFO - Indexing from tokenization complete\n",
      "2024-10-31 11:58:45,240 - searcharray.indexing - INFO - Indexing begins w/ 4 workers\n",
      "2024-10-31 11:58:45,240 - searcharray.indexing - INFO - 0 Batch Start tokenization\n",
      "2024-10-31 11:58:45,240 - searcharray.indexing - INFO - Tokenizing 10 documents\n",
      "2024-10-31 11:58:45,241 - searcharray.indexing - INFO - Tokenization -- vstacking\n",
      "2024-10-31 11:58:45,241 - searcharray.indexing - INFO - Tokenization -- DONE\n",
      "2024-10-31 11:58:45,241 - searcharray.indexing - INFO - Inverting docs->terms\n",
      "2024-10-31 11:58:45,242 - searcharray.indexing - INFO - Encoding positions to bit array\n",
      "2024-10-31 11:58:45,242 - searcharray.indexing - INFO - Batch tokenization complete\n",
      "2024-10-31 11:58:45,243 - searcharray.indexing - INFO - (main thread) Processing 1 batch results\n",
      "2024-10-31 11:58:45,243 - searcharray.indexing - INFO - Indexing from tokenization complete\n",
      "2024-10-31 11:58:45,253 - searcharray.indexing - INFO - Indexing begins w/ 4 workers\n",
      "2024-10-31 11:58:45,254 - searcharray.indexing - INFO - 0 Batch Start tokenization\n",
      "2024-10-31 11:58:45,254 - searcharray.indexing - INFO - Tokenizing 10 documents\n",
      "2024-10-31 11:58:45,255 - searcharray.indexing - INFO - Tokenization -- vstacking\n",
      "2024-10-31 11:58:45,255 - searcharray.indexing - INFO - Tokenization -- DONE\n",
      "2024-10-31 11:58:45,256 - searcharray.indexing - INFO - Inverting docs->terms\n",
      "2024-10-31 11:58:45,256 - searcharray.indexing - INFO - Encoding positions to bit array\n",
      "2024-10-31 11:58:45,256 - searcharray.indexing - INFO - Batch tokenization complete\n",
      "2024-10-31 11:58:45,257 - searcharray.indexing - INFO - (main thread) Processing 1 batch results\n",
      "2024-10-31 11:58:45,257 - searcharray.indexing - INFO - Indexing from tokenization complete\n",
      "2024-10-31 11:58:45,273 - searcharray.indexing - INFO - Indexing begins w/ 4 workers\n",
      "2024-10-31 11:58:45,273 - searcharray.indexing - INFO - 0 Batch Start tokenization\n",
      "2024-10-31 11:58:45,274 - searcharray.indexing - INFO - Tokenizing 10 documents\n",
      "2024-10-31 11:58:45,274 - searcharray.indexing - INFO - Tokenization -- vstacking\n",
      "2024-10-31 11:58:45,274 - searcharray.indexing - INFO - Tokenization -- DONE\n",
      "2024-10-31 11:58:45,275 - searcharray.indexing - INFO - Inverting docs->terms\n",
      "2024-10-31 11:58:45,275 - searcharray.indexing - INFO - Encoding positions to bit array\n",
      "2024-10-31 11:58:45,275 - searcharray.indexing - INFO - Batch tokenization complete\n",
      "2024-10-31 11:58:45,276 - searcharray.indexing - INFO - (main thread) Processing 1 batch results\n",
      "2024-10-31 11:58:45,276 - searcharray.indexing - INFO - Indexing from tokenization complete\n",
      "2024-10-31 11:58:45,293 - searcharray.indexing - INFO - Indexing begins w/ 4 workers\n",
      "2024-10-31 11:58:45,293 - searcharray.indexing - INFO - 0 Batch Start tokenization\n",
      "2024-10-31 11:58:45,294 - searcharray.indexing - INFO - Tokenizing 10 documents\n",
      "2024-10-31 11:58:45,294 - searcharray.indexing - INFO - Tokenization -- vstacking\n",
      "2024-10-31 11:58:45,295 - searcharray.indexing - INFO - Tokenization -- DONE\n",
      "2024-10-31 11:58:45,295 - searcharray.indexing - INFO - Inverting docs->terms\n",
      "2024-10-31 11:58:45,295 - searcharray.indexing - INFO - Encoding positions to bit array\n",
      "2024-10-31 11:58:45,296 - searcharray.indexing - INFO - Batch tokenization complete\n",
      "2024-10-31 11:58:45,296 - searcharray.indexing - INFO - (main thread) Processing 1 batch results\n",
      "2024-10-31 11:58:45,297 - searcharray.indexing - INFO - Indexing from tokenization complete\n",
      "2024-10-31 11:58:45,308 - searcharray.indexing - INFO - Indexing begins w/ 4 workers\n",
      "2024-10-31 11:58:45,309 - searcharray.indexing - INFO - 0 Batch Start tokenization\n",
      "2024-10-31 11:58:45,309 - searcharray.indexing - INFO - Tokenizing 10 documents\n",
      "2024-10-31 11:58:45,310 - searcharray.indexing - INFO - Tokenization -- vstacking\n",
      "2024-10-31 11:58:45,310 - searcharray.indexing - INFO - Tokenization -- DONE\n",
      "2024-10-31 11:58:45,310 - searcharray.indexing - INFO - Inverting docs->terms\n",
      "2024-10-31 11:58:45,310 - searcharray.indexing - INFO - Encoding positions to bit array\n",
      "2024-10-31 11:58:45,311 - searcharray.indexing - INFO - Batch tokenization complete\n",
      "2024-10-31 11:58:45,311 - searcharray.indexing - INFO - (main thread) Processing 1 batch results\n",
      "2024-10-31 11:58:45,312 - searcharray.indexing - INFO - Indexing from tokenization complete\n",
      "2024-10-31 11:58:45,320 - searcharray.indexing - INFO - Indexing begins w/ 4 workers\n",
      "2024-10-31 11:58:45,321 - searcharray.indexing - INFO - 0 Batch Start tokenization\n",
      "2024-10-31 11:58:45,322 - searcharray.indexing - INFO - Tokenizing 10 documents\n",
      "2024-10-31 11:58:45,322 - searcharray.indexing - INFO - Tokenization -- vstacking\n",
      "2024-10-31 11:58:45,323 - searcharray.indexing - INFO - Tokenization -- DONE\n",
      "2024-10-31 11:58:45,323 - searcharray.indexing - INFO - Inverting docs->terms\n",
      "2024-10-31 11:58:45,324 - searcharray.indexing - INFO - Encoding positions to bit array\n",
      "2024-10-31 11:58:45,324 - searcharray.indexing - INFO - Batch tokenization complete\n",
      "2024-10-31 11:58:45,324 - searcharray.indexing - INFO - (main thread) Processing 1 batch results\n",
      "2024-10-31 11:58:45,325 - searcharray.indexing - INFO - Indexing from tokenization complete\n",
      "2024-10-31 11:58:45,335 - searcharray.indexing - INFO - Indexing begins w/ 4 workers\n",
      "2024-10-31 11:58:45,336 - searcharray.indexing - INFO - 0 Batch Start tokenization\n",
      "2024-10-31 11:58:45,336 - searcharray.indexing - INFO - Tokenizing 10 documents\n",
      "2024-10-31 11:58:45,337 - searcharray.indexing - INFO - Tokenization -- vstacking\n",
      "2024-10-31 11:58:45,337 - searcharray.indexing - INFO - Tokenization -- DONE\n",
      "2024-10-31 11:58:45,337 - searcharray.indexing - INFO - Inverting docs->terms\n",
      "2024-10-31 11:58:45,338 - searcharray.indexing - INFO - Encoding positions to bit array\n",
      "2024-10-31 11:58:45,338 - searcharray.indexing - INFO - Batch tokenization complete\n",
      "2024-10-31 11:58:45,339 - searcharray.indexing - INFO - (main thread) Processing 1 batch results\n",
      "2024-10-31 11:58:45,340 - searcharray.indexing - INFO - Indexing from tokenization complete\n",
      "2024-10-31 11:58:45,347 - searcharray.indexing - INFO - Indexing begins w/ 4 workers\n",
      "2024-10-31 11:58:45,348 - searcharray.indexing - INFO - 0 Batch Start tokenization\n",
      "2024-10-31 11:58:45,348 - searcharray.indexing - INFO - Tokenizing 10 documents\n",
      "2024-10-31 11:58:45,349 - searcharray.indexing - INFO - Tokenization -- vstacking\n",
      "2024-10-31 11:58:45,349 - searcharray.indexing - INFO - Tokenization -- DONE\n",
      "2024-10-31 11:58:45,349 - searcharray.indexing - INFO - Inverting docs->terms\n",
      "2024-10-31 11:58:45,350 - searcharray.indexing - INFO - Encoding positions to bit array\n",
      "2024-10-31 11:58:45,350 - searcharray.indexing - INFO - Batch tokenization complete\n",
      "2024-10-31 11:58:45,351 - searcharray.indexing - INFO - (main thread) Processing 1 batch results\n",
      "2024-10-31 11:58:45,351 - searcharray.indexing - INFO - Indexing from tokenization complete\n",
      "2024-10-31 11:58:45,360 - searcharray.indexing - INFO - Indexing begins w/ 4 workers\n",
      "2024-10-31 11:58:45,361 - searcharray.indexing - INFO - 0 Batch Start tokenization\n",
      "2024-10-31 11:58:45,361 - searcharray.indexing - INFO - Tokenizing 10 documents\n",
      "2024-10-31 11:58:45,362 - searcharray.indexing - INFO - Tokenization -- vstacking\n",
      "2024-10-31 11:58:45,362 - searcharray.indexing - INFO - Tokenization -- DONE\n",
      "2024-10-31 11:58:45,363 - searcharray.indexing - INFO - Inverting docs->terms\n",
      "2024-10-31 11:58:45,363 - searcharray.indexing - INFO - Encoding positions to bit array\n",
      "2024-10-31 11:58:45,364 - searcharray.indexing - INFO - Batch tokenization complete\n",
      "2024-10-31 11:58:45,364 - searcharray.indexing - INFO - (main thread) Processing 1 batch results\n",
      "2024-10-31 11:58:45,365 - searcharray.indexing - INFO - Indexing from tokenization complete\n",
      "2024-10-31 11:58:45,373 - searcharray.indexing - INFO - Indexing begins w/ 4 workers\n",
      "2024-10-31 11:58:45,374 - searcharray.indexing - INFO - 0 Batch Start tokenization\n",
      "2024-10-31 11:58:45,374 - searcharray.indexing - INFO - Tokenizing 10 documents\n",
      "2024-10-31 11:58:45,375 - searcharray.indexing - INFO - Tokenization -- vstacking\n",
      "2024-10-31 11:58:45,375 - searcharray.indexing - INFO - Tokenization -- DONE\n",
      "2024-10-31 11:58:45,375 - searcharray.indexing - INFO - Inverting docs->terms\n",
      "2024-10-31 11:58:45,376 - searcharray.indexing - INFO - Encoding positions to bit array\n",
      "2024-10-31 11:58:45,376 - searcharray.indexing - INFO - Batch tokenization complete\n",
      "2024-10-31 11:58:45,376 - searcharray.indexing - INFO - (main thread) Processing 1 batch results\n",
      "2024-10-31 11:58:45,377 - searcharray.indexing - INFO - Indexing from tokenization complete\n",
      "2024-10-31 11:58:45,385 - searcharray.indexing - INFO - Indexing begins w/ 4 workers\n",
      "2024-10-31 11:58:45,385 - searcharray.indexing - INFO - 0 Batch Start tokenization\n",
      "2024-10-31 11:58:45,386 - searcharray.indexing - INFO - Tokenizing 10 documents\n",
      "2024-10-31 11:58:45,386 - searcharray.indexing - INFO - Tokenization -- vstacking\n",
      "2024-10-31 11:58:45,387 - searcharray.indexing - INFO - Tokenization -- DONE\n",
      "2024-10-31 11:58:45,387 - searcharray.indexing - INFO - Inverting docs->terms\n",
      "2024-10-31 11:58:45,387 - searcharray.indexing - INFO - Encoding positions to bit array\n",
      "2024-10-31 11:58:45,387 - searcharray.indexing - INFO - Batch tokenization complete\n",
      "2024-10-31 11:58:45,388 - searcharray.indexing - INFO - (main thread) Processing 1 batch results\n",
      "2024-10-31 11:58:45,389 - searcharray.indexing - INFO - Indexing from tokenization complete\n",
      "2024-10-31 11:58:45,404 - searcharray.indexing - INFO - Indexing begins w/ 4 workers\n",
      "2024-10-31 11:58:45,404 - searcharray.indexing - INFO - 0 Batch Start tokenization\n",
      "2024-10-31 11:58:45,405 - searcharray.indexing - INFO - Tokenizing 10 documents\n",
      "2024-10-31 11:58:45,406 - searcharray.indexing - INFO - Tokenization -- vstacking\n",
      "2024-10-31 11:58:45,406 - searcharray.indexing - INFO - Tokenization -- DONE\n",
      "2024-10-31 11:58:45,406 - searcharray.indexing - INFO - Inverting docs->terms\n",
      "2024-10-31 11:58:45,407 - searcharray.indexing - INFO - Encoding positions to bit array\n",
      "2024-10-31 11:58:45,407 - searcharray.indexing - INFO - Batch tokenization complete\n",
      "2024-10-31 11:58:45,408 - searcharray.indexing - INFO - (main thread) Processing 1 batch results\n",
      "2024-10-31 11:58:45,408 - searcharray.indexing - INFO - Indexing from tokenization complete\n",
      "2024-10-31 11:58:45,432 - searcharray.indexing - INFO - Indexing begins w/ 4 workers\n",
      "2024-10-31 11:58:45,433 - searcharray.indexing - INFO - 0 Batch Start tokenization\n",
      "2024-10-31 11:58:45,433 - searcharray.indexing - INFO - Tokenizing 10 documents\n",
      "2024-10-31 11:58:45,434 - searcharray.indexing - INFO - Tokenization -- vstacking\n",
      "2024-10-31 11:58:45,434 - searcharray.indexing - INFO - Tokenization -- DONE\n",
      "2024-10-31 11:58:45,435 - searcharray.indexing - INFO - Inverting docs->terms\n",
      "2024-10-31 11:58:45,435 - searcharray.indexing - INFO - Encoding positions to bit array\n",
      "2024-10-31 11:58:45,435 - searcharray.indexing - INFO - Batch tokenization complete\n",
      "2024-10-31 11:58:45,436 - searcharray.indexing - INFO - (main thread) Processing 1 batch results\n",
      "2024-10-31 11:58:45,436 - searcharray.indexing - INFO - Indexing from tokenization complete\n",
      "2024-10-31 11:58:45,444 - searcharray.indexing - INFO - Indexing begins w/ 4 workers\n",
      "2024-10-31 11:58:45,445 - searcharray.indexing - INFO - 0 Batch Start tokenization\n",
      "2024-10-31 11:58:45,445 - searcharray.indexing - INFO - Tokenizing 10 documents\n",
      "2024-10-31 11:58:45,445 - searcharray.indexing - INFO - Tokenization -- vstacking\n",
      "2024-10-31 11:58:45,446 - searcharray.indexing - INFO - Tokenization -- DONE\n",
      "2024-10-31 11:58:45,446 - searcharray.indexing - INFO - Inverting docs->terms\n",
      "2024-10-31 11:58:45,446 - searcharray.indexing - INFO - Encoding positions to bit array\n",
      "2024-10-31 11:58:45,447 - searcharray.indexing - INFO - Batch tokenization complete\n",
      "2024-10-31 11:58:45,447 - searcharray.indexing - INFO - (main thread) Processing 1 batch results\n",
      "2024-10-31 11:58:45,448 - searcharray.indexing - INFO - Indexing from tokenization complete\n",
      "2024-10-31 11:58:45,457 - searcharray.indexing - INFO - Indexing begins w/ 4 workers\n",
      "2024-10-31 11:58:45,457 - searcharray.indexing - INFO - 0 Batch Start tokenization\n",
      "2024-10-31 11:58:45,458 - searcharray.indexing - INFO - Tokenizing 10 documents\n",
      "2024-10-31 11:58:45,458 - searcharray.indexing - INFO - Tokenization -- vstacking\n",
      "2024-10-31 11:58:45,459 - searcharray.indexing - INFO - Tokenization -- DONE\n",
      "2024-10-31 11:58:45,459 - searcharray.indexing - INFO - Inverting docs->terms\n",
      "2024-10-31 11:58:45,459 - searcharray.indexing - INFO - Encoding positions to bit array\n",
      "2024-10-31 11:58:45,459 - searcharray.indexing - INFO - Batch tokenization complete\n",
      "2024-10-31 11:58:45,460 - searcharray.indexing - INFO - (main thread) Processing 1 batch results\n",
      "2024-10-31 11:58:45,460 - searcharray.indexing - INFO - Indexing from tokenization complete\n",
      "2024-10-31 11:58:45,469 - searcharray.indexing - INFO - Indexing begins w/ 4 workers\n",
      "2024-10-31 11:58:45,469 - searcharray.indexing - INFO - 0 Batch Start tokenization\n",
      "2024-10-31 11:58:45,470 - searcharray.indexing - INFO - Tokenizing 10 documents\n",
      "2024-10-31 11:58:45,470 - searcharray.indexing - INFO - Tokenization -- vstacking\n",
      "2024-10-31 11:58:45,470 - searcharray.indexing - INFO - Tokenization -- DONE\n",
      "2024-10-31 11:58:45,470 - searcharray.indexing - INFO - Inverting docs->terms\n",
      "2024-10-31 11:58:45,471 - searcharray.indexing - INFO - Encoding positions to bit array\n",
      "2024-10-31 11:58:45,472 - searcharray.indexing - INFO - Batch tokenization complete\n",
      "2024-10-31 11:58:45,472 - searcharray.indexing - INFO - (main thread) Processing 1 batch results\n",
      "2024-10-31 11:58:45,472 - searcharray.indexing - INFO - Indexing from tokenization complete\n",
      "2024-10-31 11:58:45,480 - searcharray.indexing - INFO - Indexing begins w/ 4 workers\n",
      "2024-10-31 11:58:45,480 - searcharray.indexing - INFO - 0 Batch Start tokenization\n",
      "2024-10-31 11:58:45,481 - searcharray.indexing - INFO - Tokenizing 10 documents\n",
      "2024-10-31 11:58:45,481 - searcharray.indexing - INFO - Tokenization -- vstacking\n",
      "2024-10-31 11:58:45,482 - searcharray.indexing - INFO - Tokenization -- DONE\n",
      "2024-10-31 11:58:45,482 - searcharray.indexing - INFO - Inverting docs->terms\n",
      "2024-10-31 11:58:45,482 - searcharray.indexing - INFO - Encoding positions to bit array\n",
      "2024-10-31 11:58:45,483 - searcharray.indexing - INFO - Batch tokenization complete\n",
      "2024-10-31 11:58:45,483 - searcharray.indexing - INFO - (main thread) Processing 1 batch results\n",
      "2024-10-31 11:58:45,484 - searcharray.indexing - INFO - Indexing from tokenization complete\n",
      "2024-10-31 11:58:45,494 - searcharray.indexing - INFO - Indexing begins w/ 4 workers\n",
      "2024-10-31 11:58:45,495 - searcharray.indexing - INFO - 0 Batch Start tokenization\n",
      "2024-10-31 11:58:45,495 - searcharray.indexing - INFO - Tokenizing 10 documents\n",
      "2024-10-31 11:58:45,496 - searcharray.indexing - INFO - Tokenization -- vstacking\n",
      "2024-10-31 11:58:45,497 - searcharray.indexing - INFO - Tokenization -- DONE\n",
      "2024-10-31 11:58:45,497 - searcharray.indexing - INFO - Inverting docs->terms\n",
      "2024-10-31 11:58:45,498 - searcharray.indexing - INFO - Encoding positions to bit array\n",
      "2024-10-31 11:58:45,498 - searcharray.indexing - INFO - Batch tokenization complete\n",
      "2024-10-31 11:58:45,499 - searcharray.indexing - INFO - (main thread) Processing 1 batch results\n",
      "2024-10-31 11:58:45,499 - searcharray.indexing - INFO - Indexing from tokenization complete\n",
      "2024-10-31 11:58:45,507 - searcharray.indexing - INFO - Indexing begins w/ 4 workers\n",
      "2024-10-31 11:58:45,507 - searcharray.indexing - INFO - 0 Batch Start tokenization\n",
      "2024-10-31 11:58:45,508 - searcharray.indexing - INFO - Tokenizing 10 documents\n",
      "2024-10-31 11:58:45,509 - searcharray.indexing - INFO - Tokenization -- vstacking\n",
      "2024-10-31 11:58:45,509 - searcharray.indexing - INFO - Tokenization -- DONE\n",
      "2024-10-31 11:58:45,509 - searcharray.indexing - INFO - Inverting docs->terms\n",
      "2024-10-31 11:58:45,510 - searcharray.indexing - INFO - Encoding positions to bit array\n",
      "2024-10-31 11:58:45,510 - searcharray.indexing - INFO - Batch tokenization complete\n",
      "2024-10-31 11:58:45,511 - searcharray.indexing - INFO - (main thread) Processing 1 batch results\n",
      "2024-10-31 11:58:45,511 - searcharray.indexing - INFO - Indexing from tokenization complete\n",
      "2024-10-31 11:58:45,518 - searcharray.indexing - INFO - Indexing begins w/ 4 workers\n",
      "2024-10-31 11:58:45,519 - searcharray.indexing - INFO - 0 Batch Start tokenization\n",
      "2024-10-31 11:58:45,519 - searcharray.indexing - INFO - Tokenizing 10 documents\n",
      "2024-10-31 11:58:45,520 - searcharray.indexing - INFO - Tokenization -- vstacking\n",
      "2024-10-31 11:58:45,520 - searcharray.indexing - INFO - Tokenization -- DONE\n",
      "2024-10-31 11:58:45,520 - searcharray.indexing - INFO - Inverting docs->terms\n",
      "2024-10-31 11:58:45,521 - searcharray.indexing - INFO - Encoding positions to bit array\n",
      "2024-10-31 11:58:45,521 - searcharray.indexing - INFO - Batch tokenization complete\n",
      "2024-10-31 11:58:45,521 - searcharray.indexing - INFO - (main thread) Processing 1 batch results\n",
      "2024-10-31 11:58:45,522 - searcharray.indexing - INFO - Indexing from tokenization complete\n",
      "2024-10-31 11:58:45,529 - searcharray.indexing - INFO - Indexing begins w/ 4 workers\n",
      "2024-10-31 11:58:45,530 - searcharray.indexing - INFO - 0 Batch Start tokenization\n",
      "2024-10-31 11:58:45,530 - searcharray.indexing - INFO - Tokenizing 9 documents\n",
      "2024-10-31 11:58:45,531 - searcharray.indexing - INFO - Tokenization -- vstacking\n",
      "2024-10-31 11:58:45,531 - searcharray.indexing - INFO - Tokenization -- DONE\n",
      "2024-10-31 11:58:45,532 - searcharray.indexing - INFO - Inverting docs->terms\n",
      "2024-10-31 11:58:45,532 - searcharray.indexing - INFO - Encoding positions to bit array\n",
      "2024-10-31 11:58:45,533 - searcharray.indexing - INFO - Batch tokenization complete\n",
      "2024-10-31 11:58:45,533 - searcharray.indexing - INFO - (main thread) Processing 1 batch results\n",
      "2024-10-31 11:58:45,534 - searcharray.indexing - INFO - Indexing from tokenization complete\n",
      "2024-10-31 11:58:45,542 - searcharray.indexing - INFO - Indexing begins w/ 4 workers\n",
      "2024-10-31 11:58:45,543 - searcharray.indexing - INFO - 0 Batch Start tokenization\n",
      "2024-10-31 11:58:45,544 - searcharray.indexing - INFO - Tokenizing 10 documents\n",
      "2024-10-31 11:58:45,544 - searcharray.indexing - INFO - Tokenization -- vstacking\n",
      "2024-10-31 11:58:45,544 - searcharray.indexing - INFO - Tokenization -- DONE\n",
      "2024-10-31 11:58:45,544 - searcharray.indexing - INFO - Inverting docs->terms\n",
      "2024-10-31 11:58:45,545 - searcharray.indexing - INFO - Encoding positions to bit array\n",
      "2024-10-31 11:58:45,545 - searcharray.indexing - INFO - Batch tokenization complete\n",
      "2024-10-31 11:58:45,545 - searcharray.indexing - INFO - (main thread) Processing 1 batch results\n",
      "2024-10-31 11:58:45,546 - searcharray.indexing - INFO - Indexing from tokenization complete\n",
      "2024-10-31 11:58:45,556 - searcharray.indexing - INFO - Indexing begins w/ 4 workers\n",
      "2024-10-31 11:58:45,556 - searcharray.indexing - INFO - 0 Batch Start tokenization\n",
      "2024-10-31 11:58:45,557 - searcharray.indexing - INFO - Tokenizing 10 documents\n",
      "2024-10-31 11:58:45,557 - searcharray.indexing - INFO - Tokenization -- vstacking\n",
      "2024-10-31 11:58:45,557 - searcharray.indexing - INFO - Tokenization -- DONE\n",
      "2024-10-31 11:58:45,558 - searcharray.indexing - INFO - Inverting docs->terms\n",
      "2024-10-31 11:58:45,558 - searcharray.indexing - INFO - Encoding positions to bit array\n",
      "2024-10-31 11:58:45,559 - searcharray.indexing - INFO - Batch tokenization complete\n",
      "2024-10-31 11:58:45,559 - searcharray.indexing - INFO - (main thread) Processing 1 batch results\n",
      "2024-10-31 11:58:45,559 - searcharray.indexing - INFO - Indexing from tokenization complete\n",
      "2024-10-31 11:58:45,567 - searcharray.indexing - INFO - Indexing begins w/ 4 workers\n",
      "2024-10-31 11:58:45,567 - searcharray.indexing - INFO - 0 Batch Start tokenization\n",
      "2024-10-31 11:58:45,568 - searcharray.indexing - INFO - Tokenizing 4 documents\n",
      "2024-10-31 11:58:45,568 - searcharray.indexing - INFO - Tokenization -- vstacking\n",
      "2024-10-31 11:58:45,568 - searcharray.indexing - INFO - Tokenization -- DONE\n",
      "2024-10-31 11:58:45,569 - searcharray.indexing - INFO - Inverting docs->terms\n",
      "2024-10-31 11:58:45,569 - searcharray.indexing - INFO - Encoding positions to bit array\n",
      "2024-10-31 11:58:45,569 - searcharray.indexing - INFO - Batch tokenization complete\n",
      "2024-10-31 11:58:45,570 - searcharray.indexing - INFO - (main thread) Processing 1 batch results\n",
      "2024-10-31 11:58:45,571 - searcharray.indexing - INFO - Indexing from tokenization complete\n",
      "2024-10-31 11:58:45,579 - searcharray.indexing - INFO - Indexing begins w/ 4 workers\n",
      "2024-10-31 11:58:45,580 - searcharray.indexing - INFO - 0 Batch Start tokenization\n",
      "2024-10-31 11:58:45,580 - searcharray.indexing - INFO - Tokenizing 8 documents\n",
      "2024-10-31 11:58:45,581 - searcharray.indexing - INFO - Tokenization -- vstacking\n",
      "2024-10-31 11:58:45,581 - searcharray.indexing - INFO - Tokenization -- DONE\n",
      "2024-10-31 11:58:45,581 - searcharray.indexing - INFO - Inverting docs->terms\n",
      "2024-10-31 11:58:45,581 - searcharray.indexing - INFO - Encoding positions to bit array\n",
      "2024-10-31 11:58:45,582 - searcharray.indexing - INFO - Batch tokenization complete\n",
      "2024-10-31 11:58:45,582 - searcharray.indexing - INFO - (main thread) Processing 1 batch results\n",
      "2024-10-31 11:58:45,583 - searcharray.indexing - INFO - Indexing from tokenization complete\n",
      "2024-10-31 11:58:45,595 - searcharray.indexing - INFO - Indexing begins w/ 4 workers\n",
      "2024-10-31 11:58:45,596 - searcharray.indexing - INFO - 0 Batch Start tokenization\n",
      "2024-10-31 11:58:45,597 - searcharray.indexing - INFO - Tokenizing 10 documents\n",
      "2024-10-31 11:58:45,597 - searcharray.indexing - INFO - Tokenization -- vstacking\n",
      "2024-10-31 11:58:45,598 - searcharray.indexing - INFO - Tokenization -- DONE\n",
      "2024-10-31 11:58:45,598 - searcharray.indexing - INFO - Inverting docs->terms\n",
      "2024-10-31 11:58:45,598 - searcharray.indexing - INFO - Encoding positions to bit array\n",
      "2024-10-31 11:58:45,598 - searcharray.indexing - INFO - Batch tokenization complete\n",
      "2024-10-31 11:58:45,599 - searcharray.indexing - INFO - (main thread) Processing 1 batch results\n",
      "2024-10-31 11:58:45,599 - searcharray.indexing - INFO - Indexing from tokenization complete\n",
      "2024-10-31 11:58:45,607 - searcharray.indexing - INFO - Indexing begins w/ 4 workers\n",
      "2024-10-31 11:58:45,608 - searcharray.indexing - INFO - 0 Batch Start tokenization\n",
      "2024-10-31 11:58:45,608 - searcharray.indexing - INFO - Tokenizing 10 documents\n",
      "2024-10-31 11:58:45,609 - searcharray.indexing - INFO - Tokenization -- vstacking\n",
      "2024-10-31 11:58:45,609 - searcharray.indexing - INFO - Tokenization -- DONE\n",
      "2024-10-31 11:58:45,609 - searcharray.indexing - INFO - Inverting docs->terms\n",
      "2024-10-31 11:58:45,610 - searcharray.indexing - INFO - Encoding positions to bit array\n",
      "2024-10-31 11:58:45,610 - searcharray.indexing - INFO - Batch tokenization complete\n",
      "2024-10-31 11:58:45,611 - searcharray.indexing - INFO - (main thread) Processing 1 batch results\n",
      "2024-10-31 11:58:45,611 - searcharray.indexing - INFO - Indexing from tokenization complete\n",
      "2024-10-31 11:58:45,619 - searcharray.indexing - INFO - Indexing begins w/ 4 workers\n",
      "2024-10-31 11:58:45,620 - searcharray.indexing - INFO - 0 Batch Start tokenization\n",
      "2024-10-31 11:58:45,620 - searcharray.indexing - INFO - Tokenizing 10 documents\n",
      "2024-10-31 11:58:45,621 - searcharray.indexing - INFO - Tokenization -- vstacking\n",
      "2024-10-31 11:58:45,622 - searcharray.indexing - INFO - Tokenization -- DONE\n",
      "2024-10-31 11:58:45,622 - searcharray.indexing - INFO - Inverting docs->terms\n",
      "2024-10-31 11:58:45,622 - searcharray.indexing - INFO - Encoding positions to bit array\n",
      "2024-10-31 11:58:45,623 - searcharray.indexing - INFO - Batch tokenization complete\n",
      "2024-10-31 11:58:45,623 - searcharray.indexing - INFO - (main thread) Processing 1 batch results\n",
      "2024-10-31 11:58:45,623 - searcharray.indexing - INFO - Indexing from tokenization complete\n",
      "2024-10-31 11:58:45,633 - searcharray.indexing - INFO - Indexing begins w/ 4 workers\n",
      "2024-10-31 11:58:45,633 - searcharray.indexing - INFO - 0 Batch Start tokenization\n",
      "2024-10-31 11:58:45,633 - searcharray.indexing - INFO - Tokenizing 10 documents\n",
      "2024-10-31 11:58:45,634 - searcharray.indexing - INFO - Tokenization -- vstacking\n",
      "2024-10-31 11:58:45,634 - searcharray.indexing - INFO - Tokenization -- DONE\n",
      "2024-10-31 11:58:45,635 - searcharray.indexing - INFO - Inverting docs->terms\n",
      "2024-10-31 11:58:45,635 - searcharray.indexing - INFO - Encoding positions to bit array\n",
      "2024-10-31 11:58:45,635 - searcharray.indexing - INFO - Batch tokenization complete\n",
      "2024-10-31 11:58:45,635 - searcharray.indexing - INFO - (main thread) Processing 1 batch results\n",
      "2024-10-31 11:58:45,636 - searcharray.indexing - INFO - Indexing from tokenization complete\n",
      "2024-10-31 11:58:45,646 - searcharray.indexing - INFO - Indexing begins w/ 4 workers\n",
      "2024-10-31 11:58:45,646 - searcharray.indexing - INFO - 0 Batch Start tokenization\n",
      "2024-10-31 11:58:45,647 - searcharray.indexing - INFO - Tokenizing 10 documents\n",
      "2024-10-31 11:58:45,648 - searcharray.indexing - INFO - Tokenization -- vstacking\n",
      "2024-10-31 11:58:45,648 - searcharray.indexing - INFO - Tokenization -- DONE\n",
      "2024-10-31 11:58:45,649 - searcharray.indexing - INFO - Inverting docs->terms\n",
      "2024-10-31 11:58:45,649 - searcharray.indexing - INFO - Encoding positions to bit array\n",
      "2024-10-31 11:58:45,650 - searcharray.indexing - INFO - Batch tokenization complete\n",
      "2024-10-31 11:58:45,650 - searcharray.indexing - INFO - (main thread) Processing 1 batch results\n",
      "2024-10-31 11:58:45,651 - searcharray.indexing - INFO - Indexing from tokenization complete\n",
      "2024-10-31 11:58:45,662 - searcharray.indexing - INFO - Indexing begins w/ 4 workers\n",
      "2024-10-31 11:58:45,663 - searcharray.indexing - INFO - 0 Batch Start tokenization\n",
      "2024-10-31 11:58:45,664 - searcharray.indexing - INFO - Tokenizing 10 documents\n",
      "2024-10-31 11:58:45,664 - searcharray.indexing - INFO - Tokenization -- vstacking\n",
      "2024-10-31 11:58:45,665 - searcharray.indexing - INFO - Tokenization -- DONE\n",
      "2024-10-31 11:58:45,665 - searcharray.indexing - INFO - Inverting docs->terms\n",
      "2024-10-31 11:58:45,665 - searcharray.indexing - INFO - Encoding positions to bit array\n",
      "2024-10-31 11:58:45,666 - searcharray.indexing - INFO - Batch tokenization complete\n",
      "2024-10-31 11:58:45,666 - searcharray.indexing - INFO - (main thread) Processing 1 batch results\n",
      "2024-10-31 11:58:45,667 - searcharray.indexing - INFO - Indexing from tokenization complete\n",
      "2024-10-31 11:58:45,687 - searcharray.indexing - INFO - Indexing begins w/ 4 workers\n",
      "2024-10-31 11:58:45,687 - searcharray.indexing - INFO - 0 Batch Start tokenization\n",
      "2024-10-31 11:58:45,688 - searcharray.indexing - INFO - Tokenizing 10 documents\n",
      "2024-10-31 11:58:45,688 - searcharray.indexing - INFO - Tokenization -- vstacking\n",
      "2024-10-31 11:58:45,689 - searcharray.indexing - INFO - Tokenization -- DONE\n",
      "2024-10-31 11:58:45,689 - searcharray.indexing - INFO - Inverting docs->terms\n",
      "2024-10-31 11:58:45,689 - searcharray.indexing - INFO - Encoding positions to bit array\n",
      "2024-10-31 11:58:45,690 - searcharray.indexing - INFO - Batch tokenization complete\n",
      "2024-10-31 11:58:45,690 - searcharray.indexing - INFO - (main thread) Processing 1 batch results\n",
      "2024-10-31 11:58:45,690 - searcharray.indexing - INFO - Indexing from tokenization complete\n",
      "2024-10-31 11:58:45,703 - searcharray.indexing - INFO - Indexing begins w/ 4 workers\n",
      "2024-10-31 11:58:45,704 - searcharray.indexing - INFO - 0 Batch Start tokenization\n",
      "2024-10-31 11:58:45,705 - searcharray.indexing - INFO - Tokenizing 10 documents\n",
      "2024-10-31 11:58:45,705 - searcharray.indexing - INFO - Tokenization -- vstacking\n",
      "2024-10-31 11:58:45,705 - searcharray.indexing - INFO - Tokenization -- DONE\n",
      "2024-10-31 11:58:45,706 - searcharray.indexing - INFO - Inverting docs->terms\n",
      "2024-10-31 11:58:45,706 - searcharray.indexing - INFO - Encoding positions to bit array\n",
      "2024-10-31 11:58:45,707 - searcharray.indexing - INFO - Batch tokenization complete\n",
      "2024-10-31 11:58:45,707 - searcharray.indexing - INFO - (main thread) Processing 1 batch results\n",
      "2024-10-31 11:58:45,707 - searcharray.indexing - INFO - Indexing from tokenization complete\n",
      "2024-10-31 11:58:45,727 - searcharray.indexing - INFO - Indexing begins w/ 4 workers\n",
      "2024-10-31 11:58:45,727 - searcharray.indexing - INFO - 0 Batch Start tokenization\n",
      "2024-10-31 11:58:45,728 - searcharray.indexing - INFO - Tokenizing 10 documents\n",
      "2024-10-31 11:58:45,728 - searcharray.indexing - INFO - Tokenization -- vstacking\n",
      "2024-10-31 11:58:45,729 - searcharray.indexing - INFO - Tokenization -- DONE\n",
      "2024-10-31 11:58:45,729 - searcharray.indexing - INFO - Inverting docs->terms\n",
      "2024-10-31 11:58:45,729 - searcharray.indexing - INFO - Encoding positions to bit array\n",
      "2024-10-31 11:58:45,730 - searcharray.indexing - INFO - Batch tokenization complete\n",
      "2024-10-31 11:58:45,730 - searcharray.indexing - INFO - (main thread) Processing 1 batch results\n",
      "2024-10-31 11:58:45,731 - searcharray.indexing - INFO - Indexing from tokenization complete\n",
      "2024-10-31 11:58:45,744 - searcharray.indexing - INFO - Indexing begins w/ 4 workers\n",
      "2024-10-31 11:58:45,745 - searcharray.indexing - INFO - 0 Batch Start tokenization\n",
      "2024-10-31 11:58:45,746 - searcharray.indexing - INFO - Tokenizing 10 documents\n",
      "2024-10-31 11:58:45,746 - searcharray.indexing - INFO - Tokenization -- vstacking\n",
      "2024-10-31 11:58:45,746 - searcharray.indexing - INFO - Tokenization -- DONE\n",
      "2024-10-31 11:58:45,747 - searcharray.indexing - INFO - Inverting docs->terms\n",
      "2024-10-31 11:58:45,747 - searcharray.indexing - INFO - Encoding positions to bit array\n",
      "2024-10-31 11:58:45,747 - searcharray.indexing - INFO - Batch tokenization complete\n",
      "2024-10-31 11:58:45,748 - searcharray.indexing - INFO - (main thread) Processing 1 batch results\n",
      "2024-10-31 11:58:45,748 - searcharray.indexing - INFO - Indexing from tokenization complete\n",
      "2024-10-31 11:58:45,763 - searcharray.indexing - INFO - Indexing begins w/ 4 workers\n",
      "2024-10-31 11:58:45,764 - searcharray.indexing - INFO - 0 Batch Start tokenization\n",
      "2024-10-31 11:58:45,764 - searcharray.indexing - INFO - Tokenizing 10 documents\n",
      "2024-10-31 11:58:45,765 - searcharray.indexing - INFO - Tokenization -- vstacking\n",
      "2024-10-31 11:58:45,765 - searcharray.indexing - INFO - Tokenization -- DONE\n",
      "2024-10-31 11:58:45,765 - searcharray.indexing - INFO - Inverting docs->terms\n",
      "2024-10-31 11:58:45,765 - searcharray.indexing - INFO - Encoding positions to bit array\n",
      "2024-10-31 11:58:45,766 - searcharray.indexing - INFO - Batch tokenization complete\n",
      "2024-10-31 11:58:45,766 - searcharray.indexing - INFO - (main thread) Processing 1 batch results\n",
      "2024-10-31 11:58:45,767 - searcharray.indexing - INFO - Indexing from tokenization complete\n",
      "2024-10-31 11:58:45,773 - searcharray.indexing - INFO - Indexing begins w/ 4 workers\n",
      "2024-10-31 11:58:45,774 - searcharray.indexing - INFO - 0 Batch Start tokenization\n",
      "2024-10-31 11:58:45,774 - searcharray.indexing - INFO - Tokenizing 10 documents\n",
      "2024-10-31 11:58:45,775 - searcharray.indexing - INFO - Tokenization -- vstacking\n",
      "2024-10-31 11:58:45,775 - searcharray.indexing - INFO - Tokenization -- DONE\n",
      "2024-10-31 11:58:45,775 - searcharray.indexing - INFO - Inverting docs->terms\n",
      "2024-10-31 11:58:45,776 - searcharray.indexing - INFO - Encoding positions to bit array\n",
      "2024-10-31 11:58:45,776 - searcharray.indexing - INFO - Batch tokenization complete\n",
      "2024-10-31 11:58:45,776 - searcharray.indexing - INFO - (main thread) Processing 1 batch results\n",
      "2024-10-31 11:58:45,777 - searcharray.indexing - INFO - Indexing from tokenization complete\n",
      "2024-10-31 11:58:45,784 - searcharray.indexing - INFO - Indexing begins w/ 4 workers\n",
      "2024-10-31 11:58:45,784 - searcharray.indexing - INFO - 0 Batch Start tokenization\n",
      "2024-10-31 11:58:45,785 - searcharray.indexing - INFO - Tokenizing 7 documents\n",
      "2024-10-31 11:58:45,785 - searcharray.indexing - INFO - Tokenization -- vstacking\n",
      "2024-10-31 11:58:45,785 - searcharray.indexing - INFO - Tokenization -- DONE\n",
      "2024-10-31 11:58:45,786 - searcharray.indexing - INFO - Inverting docs->terms\n",
      "2024-10-31 11:58:45,786 - searcharray.indexing - INFO - Encoding positions to bit array\n",
      "2024-10-31 11:58:45,786 - searcharray.indexing - INFO - Batch tokenization complete\n",
      "2024-10-31 11:58:45,787 - searcharray.indexing - INFO - (main thread) Processing 1 batch results\n",
      "2024-10-31 11:58:45,788 - searcharray.indexing - INFO - Indexing from tokenization complete\n",
      "2024-10-31 11:58:45,795 - searcharray.indexing - INFO - Indexing begins w/ 4 workers\n",
      "2024-10-31 11:58:45,795 - searcharray.indexing - INFO - 0 Batch Start tokenization\n",
      "2024-10-31 11:58:45,796 - searcharray.indexing - INFO - Tokenizing 2 documents\n",
      "2024-10-31 11:58:45,796 - searcharray.indexing - INFO - Tokenization -- vstacking\n",
      "2024-10-31 11:58:45,796 - searcharray.indexing - INFO - Tokenization -- DONE\n",
      "2024-10-31 11:58:45,797 - searcharray.indexing - INFO - Inverting docs->terms\n",
      "2024-10-31 11:58:45,797 - searcharray.indexing - INFO - Encoding positions to bit array\n",
      "2024-10-31 11:58:45,797 - searcharray.indexing - INFO - Batch tokenization complete\n",
      "2024-10-31 11:58:45,798 - searcharray.indexing - INFO - (main thread) Processing 1 batch results\n",
      "2024-10-31 11:58:45,799 - searcharray.indexing - INFO - Indexing from tokenization complete\n",
      "2024-10-31 11:58:45,810 - searcharray.indexing - INFO - Indexing begins w/ 4 workers\n",
      "2024-10-31 11:58:45,811 - searcharray.indexing - INFO - 0 Batch Start tokenization\n",
      "2024-10-31 11:58:45,811 - searcharray.indexing - INFO - Tokenizing 10 documents\n",
      "2024-10-31 11:58:45,812 - searcharray.indexing - INFO - Tokenization -- vstacking\n",
      "2024-10-31 11:58:45,812 - searcharray.indexing - INFO - Tokenization -- DONE\n",
      "2024-10-31 11:58:45,812 - searcharray.indexing - INFO - Inverting docs->terms\n",
      "2024-10-31 11:58:45,813 - searcharray.indexing - INFO - Encoding positions to bit array\n",
      "2024-10-31 11:58:45,814 - searcharray.indexing - INFO - Batch tokenization complete\n",
      "2024-10-31 11:58:45,814 - searcharray.indexing - INFO - (main thread) Processing 1 batch results\n",
      "2024-10-31 11:58:45,815 - searcharray.indexing - INFO - Indexing from tokenization complete\n",
      "2024-10-31 11:58:45,826 - searcharray.indexing - INFO - Indexing begins w/ 4 workers\n",
      "2024-10-31 11:58:45,827 - searcharray.indexing - INFO - 0 Batch Start tokenization\n",
      "2024-10-31 11:58:45,827 - searcharray.indexing - INFO - Tokenizing 10 documents\n",
      "2024-10-31 11:58:45,828 - searcharray.indexing - INFO - Tokenization -- vstacking\n",
      "2024-10-31 11:58:45,828 - searcharray.indexing - INFO - Tokenization -- DONE\n",
      "2024-10-31 11:58:45,828 - searcharray.indexing - INFO - Inverting docs->terms\n",
      "2024-10-31 11:58:45,829 - searcharray.indexing - INFO - Encoding positions to bit array\n",
      "2024-10-31 11:58:45,829 - searcharray.indexing - INFO - Batch tokenization complete\n",
      "2024-10-31 11:58:45,829 - searcharray.indexing - INFO - (main thread) Processing 1 batch results\n",
      "2024-10-31 11:58:45,830 - searcharray.indexing - INFO - Indexing from tokenization complete\n",
      "2024-10-31 11:58:45,838 - searcharray.indexing - INFO - Indexing begins w/ 4 workers\n",
      "2024-10-31 11:58:45,838 - searcharray.indexing - INFO - 0 Batch Start tokenization\n",
      "2024-10-31 11:58:45,839 - searcharray.indexing - INFO - Tokenizing 10 documents\n",
      "2024-10-31 11:58:45,839 - searcharray.indexing - INFO - Tokenization -- vstacking\n",
      "2024-10-31 11:58:45,840 - searcharray.indexing - INFO - Tokenization -- DONE\n",
      "2024-10-31 11:58:45,840 - searcharray.indexing - INFO - Inverting docs->terms\n",
      "2024-10-31 11:58:45,840 - searcharray.indexing - INFO - Encoding positions to bit array\n",
      "2024-10-31 11:58:45,840 - searcharray.indexing - INFO - Batch tokenization complete\n",
      "2024-10-31 11:58:45,841 - searcharray.indexing - INFO - (main thread) Processing 1 batch results\n",
      "2024-10-31 11:58:45,841 - searcharray.indexing - INFO - Indexing from tokenization complete\n",
      "2024-10-31 11:58:45,855 - searcharray.indexing - INFO - Indexing begins w/ 4 workers\n",
      "2024-10-31 11:58:45,856 - searcharray.indexing - INFO - 0 Batch Start tokenization\n",
      "2024-10-31 11:58:45,856 - searcharray.indexing - INFO - Tokenizing 10 documents\n",
      "2024-10-31 11:58:45,857 - searcharray.indexing - INFO - Tokenization -- vstacking\n",
      "2024-10-31 11:58:45,857 - searcharray.indexing - INFO - Tokenization -- DONE\n",
      "2024-10-31 11:58:45,857 - searcharray.indexing - INFO - Inverting docs->terms\n",
      "2024-10-31 11:58:45,858 - searcharray.indexing - INFO - Encoding positions to bit array\n",
      "2024-10-31 11:58:45,858 - searcharray.indexing - INFO - Batch tokenization complete\n",
      "2024-10-31 11:58:45,858 - searcharray.indexing - INFO - (main thread) Processing 1 batch results\n",
      "2024-10-31 11:58:45,859 - searcharray.indexing - INFO - Indexing from tokenization complete\n",
      "2024-10-31 11:58:45,872 - searcharray.indexing - INFO - Indexing begins w/ 4 workers\n",
      "2024-10-31 11:58:45,872 - searcharray.indexing - INFO - 0 Batch Start tokenization\n",
      "2024-10-31 11:58:45,873 - searcharray.indexing - INFO - Tokenizing 10 documents\n",
      "2024-10-31 11:58:45,873 - searcharray.indexing - INFO - Tokenization -- vstacking\n",
      "2024-10-31 11:58:45,873 - searcharray.indexing - INFO - Tokenization -- DONE\n",
      "2024-10-31 11:58:45,874 - searcharray.indexing - INFO - Inverting docs->terms\n",
      "2024-10-31 11:58:45,874 - searcharray.indexing - INFO - Encoding positions to bit array\n",
      "2024-10-31 11:58:45,874 - searcharray.indexing - INFO - Batch tokenization complete\n",
      "2024-10-31 11:58:45,875 - searcharray.indexing - INFO - (main thread) Processing 1 batch results\n",
      "2024-10-31 11:58:45,875 - searcharray.indexing - INFO - Indexing from tokenization complete\n",
      "2024-10-31 11:58:45,883 - searcharray.indexing - INFO - Indexing begins w/ 4 workers\n",
      "2024-10-31 11:58:45,883 - searcharray.indexing - INFO - 0 Batch Start tokenization\n",
      "2024-10-31 11:58:45,884 - searcharray.indexing - INFO - Tokenizing 9 documents\n",
      "2024-10-31 11:58:45,884 - searcharray.indexing - INFO - Tokenization -- vstacking\n",
      "2024-10-31 11:58:45,885 - searcharray.indexing - INFO - Tokenization -- DONE\n",
      "2024-10-31 11:58:45,885 - searcharray.indexing - INFO - Inverting docs->terms\n",
      "2024-10-31 11:58:45,885 - searcharray.indexing - INFO - Encoding positions to bit array\n",
      "2024-10-31 11:58:45,886 - searcharray.indexing - INFO - Batch tokenization complete\n",
      "2024-10-31 11:58:45,886 - searcharray.indexing - INFO - (main thread) Processing 1 batch results\n",
      "2024-10-31 11:58:45,887 - searcharray.indexing - INFO - Indexing from tokenization complete\n",
      "2024-10-31 11:58:45,896 - searcharray.indexing - INFO - Indexing begins w/ 4 workers\n",
      "2024-10-31 11:58:45,897 - searcharray.indexing - INFO - 0 Batch Start tokenization\n",
      "2024-10-31 11:58:45,897 - searcharray.indexing - INFO - Tokenizing 10 documents\n",
      "2024-10-31 11:58:45,898 - searcharray.indexing - INFO - Tokenization -- vstacking\n",
      "2024-10-31 11:58:45,898 - searcharray.indexing - INFO - Tokenization -- DONE\n",
      "2024-10-31 11:58:45,898 - searcharray.indexing - INFO - Inverting docs->terms\n",
      "2024-10-31 11:58:45,898 - searcharray.indexing - INFO - Encoding positions to bit array\n",
      "2024-10-31 11:58:45,899 - searcharray.indexing - INFO - Batch tokenization complete\n",
      "2024-10-31 11:58:45,899 - searcharray.indexing - INFO - (main thread) Processing 1 batch results\n",
      "2024-10-31 11:58:45,900 - searcharray.indexing - INFO - Indexing from tokenization complete\n",
      "2024-10-31 11:58:45,908 - searcharray.indexing - INFO - Indexing begins w/ 4 workers\n",
      "2024-10-31 11:58:45,909 - searcharray.indexing - INFO - 0 Batch Start tokenization\n",
      "2024-10-31 11:58:45,909 - searcharray.indexing - INFO - Tokenizing 5 documents\n",
      "2024-10-31 11:58:45,909 - searcharray.indexing - INFO - Tokenization -- vstacking\n",
      "2024-10-31 11:58:45,910 - searcharray.indexing - INFO - Tokenization -- DONE\n",
      "2024-10-31 11:58:45,910 - searcharray.indexing - INFO - Inverting docs->terms\n",
      "2024-10-31 11:58:45,910 - searcharray.indexing - INFO - Encoding positions to bit array\n",
      "2024-10-31 11:58:45,911 - searcharray.indexing - INFO - Batch tokenization complete\n",
      "2024-10-31 11:58:45,911 - searcharray.indexing - INFO - (main thread) Processing 1 batch results\n",
      "2024-10-31 11:58:45,911 - searcharray.indexing - INFO - Indexing from tokenization complete\n",
      "2024-10-31 11:58:45,920 - searcharray.indexing - INFO - Indexing begins w/ 4 workers\n",
      "2024-10-31 11:58:45,920 - searcharray.indexing - INFO - 0 Batch Start tokenization\n",
      "2024-10-31 11:58:45,921 - searcharray.indexing - INFO - Tokenizing 8 documents\n",
      "2024-10-31 11:58:45,921 - searcharray.indexing - INFO - Tokenization -- vstacking\n",
      "2024-10-31 11:58:45,921 - searcharray.indexing - INFO - Tokenization -- DONE\n",
      "2024-10-31 11:58:45,922 - searcharray.indexing - INFO - Inverting docs->terms\n",
      "2024-10-31 11:58:45,922 - searcharray.indexing - INFO - Encoding positions to bit array\n",
      "2024-10-31 11:58:45,923 - searcharray.indexing - INFO - Batch tokenization complete\n",
      "2024-10-31 11:58:45,923 - searcharray.indexing - INFO - (main thread) Processing 1 batch results\n",
      "2024-10-31 11:58:45,923 - searcharray.indexing - INFO - Indexing from tokenization complete\n",
      "2024-10-31 11:58:45,937 - searcharray.indexing - INFO - Indexing begins w/ 4 workers\n",
      "2024-10-31 11:58:45,937 - searcharray.indexing - INFO - 0 Batch Start tokenization\n",
      "2024-10-31 11:58:45,938 - searcharray.indexing - INFO - Tokenizing 10 documents\n",
      "2024-10-31 11:58:45,939 - searcharray.indexing - INFO - Tokenization -- vstacking\n",
      "2024-10-31 11:58:45,939 - searcharray.indexing - INFO - Tokenization -- DONE\n",
      "2024-10-31 11:58:45,939 - searcharray.indexing - INFO - Inverting docs->terms\n",
      "2024-10-31 11:58:45,940 - searcharray.indexing - INFO - Encoding positions to bit array\n",
      "2024-10-31 11:58:45,940 - searcharray.indexing - INFO - Batch tokenization complete\n",
      "2024-10-31 11:58:45,940 - searcharray.indexing - INFO - (main thread) Processing 1 batch results\n",
      "2024-10-31 11:58:45,941 - searcharray.indexing - INFO - Indexing from tokenization complete\n",
      "2024-10-31 11:58:45,951 - searcharray.indexing - INFO - Indexing begins w/ 4 workers\n",
      "2024-10-31 11:58:45,952 - searcharray.indexing - INFO - 0 Batch Start tokenization\n",
      "2024-10-31 11:58:45,953 - searcharray.indexing - INFO - Tokenizing 10 documents\n",
      "2024-10-31 11:58:45,953 - searcharray.indexing - INFO - Tokenization -- vstacking\n",
      "2024-10-31 11:58:45,954 - searcharray.indexing - INFO - Tokenization -- DONE\n",
      "2024-10-31 11:58:45,954 - searcharray.indexing - INFO - Inverting docs->terms\n",
      "2024-10-31 11:58:45,954 - searcharray.indexing - INFO - Encoding positions to bit array\n",
      "2024-10-31 11:58:45,955 - searcharray.indexing - INFO - Batch tokenization complete\n",
      "2024-10-31 11:58:45,955 - searcharray.indexing - INFO - (main thread) Processing 1 batch results\n",
      "2024-10-31 11:58:45,956 - searcharray.indexing - INFO - Indexing from tokenization complete\n",
      "2024-10-31 11:58:45,965 - searcharray.indexing - INFO - Indexing begins w/ 4 workers\n",
      "2024-10-31 11:58:45,965 - searcharray.indexing - INFO - 0 Batch Start tokenization\n",
      "2024-10-31 11:58:45,966 - searcharray.indexing - INFO - Tokenizing 10 documents\n",
      "2024-10-31 11:58:45,966 - searcharray.indexing - INFO - Tokenization -- vstacking\n",
      "2024-10-31 11:58:45,967 - searcharray.indexing - INFO - Tokenization -- DONE\n",
      "2024-10-31 11:58:45,967 - searcharray.indexing - INFO - Inverting docs->terms\n",
      "2024-10-31 11:58:45,967 - searcharray.indexing - INFO - Encoding positions to bit array\n",
      "2024-10-31 11:58:45,968 - searcharray.indexing - INFO - Batch tokenization complete\n",
      "2024-10-31 11:58:45,968 - searcharray.indexing - INFO - (main thread) Processing 1 batch results\n",
      "2024-10-31 11:58:45,969 - searcharray.indexing - INFO - Indexing from tokenization complete\n",
      "2024-10-31 11:58:45,975 - searcharray.indexing - INFO - Indexing begins w/ 4 workers\n",
      "2024-10-31 11:58:45,976 - searcharray.indexing - INFO - 0 Batch Start tokenization\n",
      "2024-10-31 11:58:45,976 - searcharray.indexing - INFO - Tokenizing 10 documents\n",
      "2024-10-31 11:58:45,977 - searcharray.indexing - INFO - Tokenization -- vstacking\n",
      "2024-10-31 11:58:45,977 - searcharray.indexing - INFO - Tokenization -- DONE\n",
      "2024-10-31 11:58:45,977 - searcharray.indexing - INFO - Inverting docs->terms\n",
      "2024-10-31 11:58:45,978 - searcharray.indexing - INFO - Encoding positions to bit array\n",
      "2024-10-31 11:58:45,978 - searcharray.indexing - INFO - Batch tokenization complete\n",
      "2024-10-31 11:58:45,978 - searcharray.indexing - INFO - (main thread) Processing 1 batch results\n",
      "2024-10-31 11:58:45,979 - searcharray.indexing - INFO - Indexing from tokenization complete\n",
      "2024-10-31 11:58:45,986 - searcharray.indexing - INFO - Indexing begins w/ 4 workers\n",
      "2024-10-31 11:58:45,987 - searcharray.indexing - INFO - 0 Batch Start tokenization\n",
      "2024-10-31 11:58:45,987 - searcharray.indexing - INFO - Tokenizing 10 documents\n",
      "2024-10-31 11:58:45,988 - searcharray.indexing - INFO - Tokenization -- vstacking\n",
      "2024-10-31 11:58:45,988 - searcharray.indexing - INFO - Tokenization -- DONE\n",
      "2024-10-31 11:58:45,988 - searcharray.indexing - INFO - Inverting docs->terms\n",
      "2024-10-31 11:58:45,988 - searcharray.indexing - INFO - Encoding positions to bit array\n",
      "2024-10-31 11:58:45,989 - searcharray.indexing - INFO - Batch tokenization complete\n",
      "2024-10-31 11:58:45,989 - searcharray.indexing - INFO - (main thread) Processing 1 batch results\n",
      "2024-10-31 11:58:45,989 - searcharray.indexing - INFO - Indexing from tokenization complete\n",
      "2024-10-31 11:58:46,000 - searcharray.indexing - INFO - Indexing begins w/ 4 workers\n",
      "2024-10-31 11:58:46,001 - searcharray.indexing - INFO - 0 Batch Start tokenization\n",
      "2024-10-31 11:58:46,001 - searcharray.indexing - INFO - Tokenizing 10 documents\n",
      "2024-10-31 11:58:46,002 - searcharray.indexing - INFO - Tokenization -- vstacking\n",
      "2024-10-31 11:58:46,002 - searcharray.indexing - INFO - Tokenization -- DONE\n",
      "2024-10-31 11:58:46,003 - searcharray.indexing - INFO - Inverting docs->terms\n",
      "2024-10-31 11:58:46,003 - searcharray.indexing - INFO - Encoding positions to bit array\n",
      "2024-10-31 11:58:46,003 - searcharray.indexing - INFO - Batch tokenization complete\n",
      "2024-10-31 11:58:46,004 - searcharray.indexing - INFO - (main thread) Processing 1 batch results\n",
      "2024-10-31 11:58:46,005 - searcharray.indexing - INFO - Indexing from tokenization complete\n",
      "2024-10-31 11:58:46,017 - searcharray.indexing - INFO - Indexing begins w/ 4 workers\n",
      "2024-10-31 11:58:46,018 - searcharray.indexing - INFO - 0 Batch Start tokenization\n",
      "2024-10-31 11:58:46,018 - searcharray.indexing - INFO - Tokenizing 10 documents\n",
      "2024-10-31 11:58:46,019 - searcharray.indexing - INFO - Tokenization -- vstacking\n",
      "2024-10-31 11:58:46,019 - searcharray.indexing - INFO - Tokenization -- DONE\n",
      "2024-10-31 11:58:46,019 - searcharray.indexing - INFO - Inverting docs->terms\n",
      "2024-10-31 11:58:46,019 - searcharray.indexing - INFO - Encoding positions to bit array\n",
      "2024-10-31 11:58:46,020 - searcharray.indexing - INFO - Batch tokenization complete\n",
      "2024-10-31 11:58:46,020 - searcharray.indexing - INFO - (main thread) Processing 1 batch results\n",
      "2024-10-31 11:58:46,021 - searcharray.indexing - INFO - Indexing from tokenization complete\n",
      "2024-10-31 11:58:46,028 - searcharray.indexing - INFO - Indexing begins w/ 4 workers\n",
      "2024-10-31 11:58:46,029 - searcharray.indexing - INFO - 0 Batch Start tokenization\n",
      "2024-10-31 11:58:46,030 - searcharray.indexing - INFO - Tokenizing 10 documents\n",
      "2024-10-31 11:58:46,030 - searcharray.indexing - INFO - Tokenization -- vstacking\n",
      "2024-10-31 11:58:46,031 - searcharray.indexing - INFO - Tokenization -- DONE\n",
      "2024-10-31 11:58:46,031 - searcharray.indexing - INFO - Inverting docs->terms\n",
      "2024-10-31 11:58:46,031 - searcharray.indexing - INFO - Encoding positions to bit array\n",
      "2024-10-31 11:58:46,032 - searcharray.indexing - INFO - Batch tokenization complete\n",
      "2024-10-31 11:58:46,032 - searcharray.indexing - INFO - (main thread) Processing 1 batch results\n",
      "2024-10-31 11:58:46,033 - searcharray.indexing - INFO - Indexing from tokenization complete\n",
      "2024-10-31 11:58:46,045 - searcharray.indexing - INFO - Indexing begins w/ 4 workers\n",
      "2024-10-31 11:58:46,046 - searcharray.indexing - INFO - 0 Batch Start tokenization\n",
      "2024-10-31 11:58:46,046 - searcharray.indexing - INFO - Tokenizing 9 documents\n",
      "2024-10-31 11:58:46,047 - searcharray.indexing - INFO - Tokenization -- vstacking\n",
      "2024-10-31 11:58:46,047 - searcharray.indexing - INFO - Tokenization -- DONE\n",
      "2024-10-31 11:58:46,047 - searcharray.indexing - INFO - Inverting docs->terms\n",
      "2024-10-31 11:58:46,048 - searcharray.indexing - INFO - Encoding positions to bit array\n",
      "2024-10-31 11:58:46,048 - searcharray.indexing - INFO - Batch tokenization complete\n",
      "2024-10-31 11:58:46,048 - searcharray.indexing - INFO - (main thread) Processing 1 batch results\n",
      "2024-10-31 11:58:46,049 - searcharray.indexing - INFO - Indexing from tokenization complete\n",
      "2024-10-31 11:58:46,056 - searcharray.indexing - INFO - Indexing begins w/ 4 workers\n",
      "2024-10-31 11:58:46,056 - searcharray.indexing - INFO - 0 Batch Start tokenization\n",
      "2024-10-31 11:58:46,057 - searcharray.indexing - INFO - Tokenizing 8 documents\n",
      "2024-10-31 11:58:46,057 - searcharray.indexing - INFO - Tokenization -- vstacking\n",
      "2024-10-31 11:58:46,057 - searcharray.indexing - INFO - Tokenization -- DONE\n",
      "2024-10-31 11:58:46,058 - searcharray.indexing - INFO - Inverting docs->terms\n",
      "2024-10-31 11:58:46,058 - searcharray.indexing - INFO - Encoding positions to bit array\n",
      "2024-10-31 11:58:46,058 - searcharray.indexing - INFO - Batch tokenization complete\n",
      "2024-10-31 11:58:46,059 - searcharray.indexing - INFO - (main thread) Processing 1 batch results\n",
      "2024-10-31 11:58:46,059 - searcharray.indexing - INFO - Indexing from tokenization complete\n",
      "2024-10-31 11:58:46,067 - searcharray.indexing - INFO - Indexing begins w/ 4 workers\n",
      "2024-10-31 11:58:46,068 - searcharray.indexing - INFO - 0 Batch Start tokenization\n",
      "2024-10-31 11:58:46,068 - searcharray.indexing - INFO - Tokenizing 10 documents\n",
      "2024-10-31 11:58:46,069 - searcharray.indexing - INFO - Tokenization -- vstacking\n",
      "2024-10-31 11:58:46,069 - searcharray.indexing - INFO - Tokenization -- DONE\n",
      "2024-10-31 11:58:46,069 - searcharray.indexing - INFO - Inverting docs->terms\n",
      "2024-10-31 11:58:46,070 - searcharray.indexing - INFO - Encoding positions to bit array\n",
      "2024-10-31 11:58:46,070 - searcharray.indexing - INFO - Batch tokenization complete\n",
      "2024-10-31 11:58:46,070 - searcharray.indexing - INFO - (main thread) Processing 1 batch results\n",
      "2024-10-31 11:58:46,071 - searcharray.indexing - INFO - Indexing from tokenization complete\n",
      "2024-10-31 11:58:46,080 - searcharray.indexing - INFO - Indexing begins w/ 4 workers\n",
      "2024-10-31 11:58:46,081 - searcharray.indexing - INFO - 0 Batch Start tokenization\n",
      "2024-10-31 11:58:46,081 - searcharray.indexing - INFO - Tokenizing 10 documents\n",
      "2024-10-31 11:58:46,082 - searcharray.indexing - INFO - Tokenization -- vstacking\n",
      "2024-10-31 11:58:46,082 - searcharray.indexing - INFO - Tokenization -- DONE\n",
      "2024-10-31 11:58:46,082 - searcharray.indexing - INFO - Inverting docs->terms\n",
      "2024-10-31 11:58:46,083 - searcharray.indexing - INFO - Encoding positions to bit array\n",
      "2024-10-31 11:58:46,083 - searcharray.indexing - INFO - Batch tokenization complete\n",
      "2024-10-31 11:58:46,083 - searcharray.indexing - INFO - (main thread) Processing 1 batch results\n",
      "2024-10-31 11:58:46,084 - searcharray.indexing - INFO - Indexing from tokenization complete\n",
      "2024-10-31 11:58:46,090 - searcharray.indexing - INFO - Indexing begins w/ 4 workers\n",
      "2024-10-31 11:58:46,091 - searcharray.indexing - INFO - 0 Batch Start tokenization\n",
      "2024-10-31 11:58:46,091 - searcharray.indexing - INFO - Tokenizing 9 documents\n",
      "2024-10-31 11:58:46,092 - searcharray.indexing - INFO - Tokenization -- vstacking\n",
      "2024-10-31 11:58:46,092 - searcharray.indexing - INFO - Tokenization -- DONE\n",
      "2024-10-31 11:58:46,092 - searcharray.indexing - INFO - Inverting docs->terms\n",
      "2024-10-31 11:58:46,093 - searcharray.indexing - INFO - Encoding positions to bit array\n",
      "2024-10-31 11:58:46,093 - searcharray.indexing - INFO - Batch tokenization complete\n",
      "2024-10-31 11:58:46,093 - searcharray.indexing - INFO - (main thread) Processing 1 batch results\n",
      "2024-10-31 11:58:46,094 - searcharray.indexing - INFO - Indexing from tokenization complete\n",
      "2024-10-31 11:58:46,101 - searcharray.indexing - INFO - Indexing begins w/ 4 workers\n",
      "2024-10-31 11:58:46,102 - searcharray.indexing - INFO - 0 Batch Start tokenization\n",
      "2024-10-31 11:58:46,103 - searcharray.indexing - INFO - Tokenizing 10 documents\n",
      "2024-10-31 11:58:46,103 - searcharray.indexing - INFO - Tokenization -- vstacking\n",
      "2024-10-31 11:58:46,104 - searcharray.indexing - INFO - Tokenization -- DONE\n",
      "2024-10-31 11:58:46,104 - searcharray.indexing - INFO - Inverting docs->terms\n",
      "2024-10-31 11:58:46,104 - searcharray.indexing - INFO - Encoding positions to bit array\n",
      "2024-10-31 11:58:46,105 - searcharray.indexing - INFO - Batch tokenization complete\n",
      "2024-10-31 11:58:46,105 - searcharray.indexing - INFO - (main thread) Processing 1 batch results\n",
      "2024-10-31 11:58:46,106 - searcharray.indexing - INFO - Indexing from tokenization complete\n",
      "2024-10-31 11:58:46,112 - searcharray.indexing - INFO - Indexing begins w/ 4 workers\n",
      "2024-10-31 11:58:46,113 - searcharray.indexing - INFO - 0 Batch Start tokenization\n",
      "2024-10-31 11:58:46,113 - searcharray.indexing - INFO - Tokenizing 10 documents\n",
      "2024-10-31 11:58:46,113 - searcharray.indexing - INFO - Tokenization -- vstacking\n",
      "2024-10-31 11:58:46,114 - searcharray.indexing - INFO - Tokenization -- DONE\n",
      "2024-10-31 11:58:46,114 - searcharray.indexing - INFO - Inverting docs->terms\n",
      "2024-10-31 11:58:46,114 - searcharray.indexing - INFO - Encoding positions to bit array\n",
      "2024-10-31 11:58:46,115 - searcharray.indexing - INFO - Batch tokenization complete\n",
      "2024-10-31 11:58:46,115 - searcharray.indexing - INFO - (main thread) Processing 1 batch results\n",
      "2024-10-31 11:58:46,116 - searcharray.indexing - INFO - Indexing from tokenization complete\n",
      "2024-10-31 11:58:46,124 - searcharray.indexing - INFO - Indexing begins w/ 4 workers\n",
      "2024-10-31 11:58:46,124 - searcharray.indexing - INFO - 0 Batch Start tokenization\n",
      "2024-10-31 11:58:46,125 - searcharray.indexing - INFO - Tokenizing 10 documents\n",
      "2024-10-31 11:58:46,125 - searcharray.indexing - INFO - Tokenization -- vstacking\n",
      "2024-10-31 11:58:46,126 - searcharray.indexing - INFO - Tokenization -- DONE\n",
      "2024-10-31 11:58:46,126 - searcharray.indexing - INFO - Inverting docs->terms\n",
      "2024-10-31 11:58:46,126 - searcharray.indexing - INFO - Encoding positions to bit array\n",
      "2024-10-31 11:58:46,127 - searcharray.indexing - INFO - Batch tokenization complete\n",
      "2024-10-31 11:58:46,128 - searcharray.indexing - INFO - (main thread) Processing 1 batch results\n",
      "2024-10-31 11:58:46,128 - searcharray.indexing - INFO - Indexing from tokenization complete\n",
      "2024-10-31 11:58:46,136 - searcharray.indexing - INFO - Indexing begins w/ 4 workers\n",
      "2024-10-31 11:58:46,136 - searcharray.indexing - INFO - 0 Batch Start tokenization\n",
      "2024-10-31 11:58:46,137 - searcharray.indexing - INFO - Tokenizing 5 documents\n",
      "2024-10-31 11:58:46,137 - searcharray.indexing - INFO - Tokenization -- vstacking\n",
      "2024-10-31 11:58:46,137 - searcharray.indexing - INFO - Tokenization -- DONE\n",
      "2024-10-31 11:58:46,138 - searcharray.indexing - INFO - Inverting docs->terms\n",
      "2024-10-31 11:58:46,138 - searcharray.indexing - INFO - Encoding positions to bit array\n",
      "2024-10-31 11:58:46,138 - searcharray.indexing - INFO - Batch tokenization complete\n",
      "2024-10-31 11:58:46,138 - searcharray.indexing - INFO - (main thread) Processing 1 batch results\n",
      "2024-10-31 11:58:46,139 - searcharray.indexing - INFO - Indexing from tokenization complete\n",
      "2024-10-31 11:58:46,146 - searcharray.indexing - INFO - Indexing begins w/ 4 workers\n",
      "2024-10-31 11:58:46,147 - searcharray.indexing - INFO - 0 Batch Start tokenization\n",
      "2024-10-31 11:58:46,147 - searcharray.indexing - INFO - Tokenizing 10 documents\n",
      "2024-10-31 11:58:46,148 - searcharray.indexing - INFO - Tokenization -- vstacking\n",
      "2024-10-31 11:58:46,148 - searcharray.indexing - INFO - Tokenization -- DONE\n",
      "2024-10-31 11:58:46,148 - searcharray.indexing - INFO - Inverting docs->terms\n",
      "2024-10-31 11:58:46,149 - searcharray.indexing - INFO - Encoding positions to bit array\n",
      "2024-10-31 11:58:46,149 - searcharray.indexing - INFO - Batch tokenization complete\n",
      "2024-10-31 11:58:46,149 - searcharray.indexing - INFO - (main thread) Processing 1 batch results\n",
      "2024-10-31 11:58:46,149 - searcharray.indexing - INFO - Indexing from tokenization complete\n",
      "2024-10-31 11:58:46,155 - searcharray.indexing - INFO - Indexing begins w/ 4 workers\n",
      "2024-10-31 11:58:46,156 - searcharray.indexing - INFO - 0 Batch Start tokenization\n",
      "2024-10-31 11:58:46,156 - searcharray.indexing - INFO - Tokenizing 10 documents\n",
      "2024-10-31 11:58:46,157 - searcharray.indexing - INFO - Tokenization -- vstacking\n",
      "2024-10-31 11:58:46,157 - searcharray.indexing - INFO - Tokenization -- DONE\n",
      "2024-10-31 11:58:46,157 - searcharray.indexing - INFO - Inverting docs->terms\n",
      "2024-10-31 11:58:46,157 - searcharray.indexing - INFO - Encoding positions to bit array\n",
      "2024-10-31 11:58:46,158 - searcharray.indexing - INFO - Batch tokenization complete\n",
      "2024-10-31 11:58:46,158 - searcharray.indexing - INFO - (main thread) Processing 1 batch results\n",
      "2024-10-31 11:58:46,159 - searcharray.indexing - INFO - Indexing from tokenization complete\n",
      "2024-10-31 11:58:46,167 - searcharray.indexing - INFO - Indexing begins w/ 4 workers\n",
      "2024-10-31 11:58:46,168 - searcharray.indexing - INFO - 0 Batch Start tokenization\n",
      "2024-10-31 11:58:46,168 - searcharray.indexing - INFO - Tokenizing 10 documents\n",
      "2024-10-31 11:58:46,169 - searcharray.indexing - INFO - Tokenization -- vstacking\n",
      "2024-10-31 11:58:46,169 - searcharray.indexing - INFO - Tokenization -- DONE\n",
      "2024-10-31 11:58:46,169 - searcharray.indexing - INFO - Inverting docs->terms\n",
      "2024-10-31 11:58:46,170 - searcharray.indexing - INFO - Encoding positions to bit array\n",
      "2024-10-31 11:58:46,170 - searcharray.indexing - INFO - Batch tokenization complete\n",
      "2024-10-31 11:58:46,171 - searcharray.indexing - INFO - (main thread) Processing 1 batch results\n",
      "2024-10-31 11:58:46,172 - searcharray.indexing - INFO - Indexing from tokenization complete\n",
      "2024-10-31 11:58:46,181 - searcharray.indexing - INFO - Indexing begins w/ 4 workers\n",
      "2024-10-31 11:58:46,182 - searcharray.indexing - INFO - 0 Batch Start tokenization\n",
      "2024-10-31 11:58:46,182 - searcharray.indexing - INFO - Tokenizing 10 documents\n",
      "2024-10-31 11:58:46,183 - searcharray.indexing - INFO - Tokenization -- vstacking\n",
      "2024-10-31 11:58:46,183 - searcharray.indexing - INFO - Tokenization -- DONE\n",
      "2024-10-31 11:58:46,184 - searcharray.indexing - INFO - Inverting docs->terms\n",
      "2024-10-31 11:58:46,184 - searcharray.indexing - INFO - Encoding positions to bit array\n",
      "2024-10-31 11:58:46,184 - searcharray.indexing - INFO - Batch tokenization complete\n",
      "2024-10-31 11:58:46,185 - searcharray.indexing - INFO - (main thread) Processing 1 batch results\n",
      "2024-10-31 11:58:46,185 - searcharray.indexing - INFO - Indexing from tokenization complete\n",
      "2024-10-31 11:58:46,193 - searcharray.indexing - INFO - Indexing begins w/ 4 workers\n",
      "2024-10-31 11:58:46,193 - searcharray.indexing - INFO - 0 Batch Start tokenization\n",
      "2024-10-31 11:58:46,194 - searcharray.indexing - INFO - Tokenizing 10 documents\n",
      "2024-10-31 11:58:46,194 - searcharray.indexing - INFO - Tokenization -- vstacking\n",
      "2024-10-31 11:58:46,195 - searcharray.indexing - INFO - Tokenization -- DONE\n",
      "2024-10-31 11:58:46,195 - searcharray.indexing - INFO - Inverting docs->terms\n",
      "2024-10-31 11:58:46,196 - searcharray.indexing - INFO - Encoding positions to bit array\n",
      "2024-10-31 11:58:46,196 - searcharray.indexing - INFO - Batch tokenization complete\n",
      "2024-10-31 11:58:46,196 - searcharray.indexing - INFO - (main thread) Processing 1 batch results\n",
      "2024-10-31 11:58:46,197 - searcharray.indexing - INFO - Indexing from tokenization complete\n",
      "2024-10-31 11:58:46,204 - searcharray.indexing - INFO - Indexing begins w/ 4 workers\n",
      "2024-10-31 11:58:46,205 - searcharray.indexing - INFO - 0 Batch Start tokenization\n",
      "2024-10-31 11:58:46,205 - searcharray.indexing - INFO - Tokenizing 5 documents\n",
      "2024-10-31 11:58:46,206 - searcharray.indexing - INFO - Tokenization -- vstacking\n",
      "2024-10-31 11:58:46,206 - searcharray.indexing - INFO - Tokenization -- DONE\n",
      "2024-10-31 11:58:46,206 - searcharray.indexing - INFO - Inverting docs->terms\n",
      "2024-10-31 11:58:46,207 - searcharray.indexing - INFO - Encoding positions to bit array\n",
      "2024-10-31 11:58:46,207 - searcharray.indexing - INFO - Batch tokenization complete\n",
      "2024-10-31 11:58:46,208 - searcharray.indexing - INFO - (main thread) Processing 1 batch results\n",
      "2024-10-31 11:58:46,208 - searcharray.indexing - INFO - Indexing from tokenization complete\n",
      "2024-10-31 11:58:46,223 - searcharray.indexing - INFO - Indexing begins w/ 4 workers\n",
      "2024-10-31 11:58:46,224 - searcharray.indexing - INFO - 0 Batch Start tokenization\n",
      "2024-10-31 11:58:46,224 - searcharray.indexing - INFO - Tokenizing 10 documents\n",
      "2024-10-31 11:58:46,225 - searcharray.indexing - INFO - Tokenization -- vstacking\n",
      "2024-10-31 11:58:46,225 - searcharray.indexing - INFO - Tokenization -- DONE\n",
      "2024-10-31 11:58:46,226 - searcharray.indexing - INFO - Inverting docs->terms\n",
      "2024-10-31 11:58:46,226 - searcharray.indexing - INFO - Encoding positions to bit array\n",
      "2024-10-31 11:58:46,227 - searcharray.indexing - INFO - Batch tokenization complete\n",
      "2024-10-31 11:58:46,227 - searcharray.indexing - INFO - (main thread) Processing 1 batch results\n",
      "2024-10-31 11:58:46,228 - searcharray.indexing - INFO - Indexing from tokenization complete\n",
      "2024-10-31 11:58:46,236 - searcharray.indexing - INFO - Indexing begins w/ 4 workers\n",
      "2024-10-31 11:58:46,236 - searcharray.indexing - INFO - 0 Batch Start tokenization\n",
      "2024-10-31 11:58:46,237 - searcharray.indexing - INFO - Tokenizing 10 documents\n",
      "2024-10-31 11:58:46,238 - searcharray.indexing - INFO - Tokenization -- vstacking\n",
      "2024-10-31 11:58:46,238 - searcharray.indexing - INFO - Tokenization -- DONE\n",
      "2024-10-31 11:58:46,238 - searcharray.indexing - INFO - Inverting docs->terms\n",
      "2024-10-31 11:58:46,238 - searcharray.indexing - INFO - Encoding positions to bit array\n",
      "2024-10-31 11:58:46,239 - searcharray.indexing - INFO - Batch tokenization complete\n",
      "2024-10-31 11:58:46,239 - searcharray.indexing - INFO - (main thread) Processing 1 batch results\n",
      "2024-10-31 11:58:46,240 - searcharray.indexing - INFO - Indexing from tokenization complete\n",
      "2024-10-31 11:58:46,253 - searcharray.indexing - INFO - Indexing begins w/ 4 workers\n",
      "2024-10-31 11:58:46,253 - searcharray.indexing - INFO - 0 Batch Start tokenization\n",
      "2024-10-31 11:58:46,254 - searcharray.indexing - INFO - Tokenizing 10 documents\n",
      "2024-10-31 11:58:46,254 - searcharray.indexing - INFO - Tokenization -- vstacking\n",
      "2024-10-31 11:58:46,255 - searcharray.indexing - INFO - Tokenization -- DONE\n",
      "2024-10-31 11:58:46,255 - searcharray.indexing - INFO - Inverting docs->terms\n",
      "2024-10-31 11:58:46,255 - searcharray.indexing - INFO - Encoding positions to bit array\n",
      "2024-10-31 11:58:46,256 - searcharray.indexing - INFO - Batch tokenization complete\n",
      "2024-10-31 11:58:46,256 - searcharray.indexing - INFO - (main thread) Processing 1 batch results\n",
      "2024-10-31 11:58:46,257 - searcharray.indexing - INFO - Indexing from tokenization complete\n",
      "2024-10-31 11:58:46,265 - searcharray.indexing - INFO - Indexing begins w/ 4 workers\n",
      "2024-10-31 11:58:46,266 - searcharray.indexing - INFO - 0 Batch Start tokenization\n",
      "2024-10-31 11:58:46,266 - searcharray.indexing - INFO - Tokenizing 10 documents\n",
      "2024-10-31 11:58:46,267 - searcharray.indexing - INFO - Tokenization -- vstacking\n",
      "2024-10-31 11:58:46,267 - searcharray.indexing - INFO - Tokenization -- DONE\n",
      "2024-10-31 11:58:46,267 - searcharray.indexing - INFO - Inverting docs->terms\n",
      "2024-10-31 11:58:46,267 - searcharray.indexing - INFO - Encoding positions to bit array\n",
      "2024-10-31 11:58:46,268 - searcharray.indexing - INFO - Batch tokenization complete\n",
      "2024-10-31 11:58:46,268 - searcharray.indexing - INFO - (main thread) Processing 1 batch results\n",
      "2024-10-31 11:58:46,269 - searcharray.indexing - INFO - Indexing from tokenization complete\n",
      "2024-10-31 11:58:46,275 - searcharray.indexing - INFO - Indexing begins w/ 4 workers\n",
      "2024-10-31 11:58:46,276 - searcharray.indexing - INFO - 0 Batch Start tokenization\n",
      "2024-10-31 11:58:46,276 - searcharray.indexing - INFO - Tokenizing 9 documents\n",
      "2024-10-31 11:58:46,276 - searcharray.indexing - INFO - Tokenization -- vstacking\n",
      "2024-10-31 11:58:46,277 - searcharray.indexing - INFO - Tokenization -- DONE\n",
      "2024-10-31 11:58:46,277 - searcharray.indexing - INFO - Inverting docs->terms\n",
      "2024-10-31 11:58:46,277 - searcharray.indexing - INFO - Encoding positions to bit array\n",
      "2024-10-31 11:58:46,278 - searcharray.indexing - INFO - Batch tokenization complete\n",
      "2024-10-31 11:58:46,278 - searcharray.indexing - INFO - (main thread) Processing 1 batch results\n",
      "2024-10-31 11:58:46,279 - searcharray.indexing - INFO - Indexing from tokenization complete\n",
      "2024-10-31 11:58:46,288 - searcharray.indexing - INFO - Indexing begins w/ 4 workers\n",
      "2024-10-31 11:58:46,288 - searcharray.indexing - INFO - 0 Batch Start tokenization\n",
      "2024-10-31 11:58:46,288 - searcharray.indexing - INFO - Tokenizing 10 documents\n",
      "2024-10-31 11:58:46,289 - searcharray.indexing - INFO - Tokenization -- vstacking\n",
      "2024-10-31 11:58:46,289 - searcharray.indexing - INFO - Tokenization -- DONE\n",
      "2024-10-31 11:58:46,289 - searcharray.indexing - INFO - Inverting docs->terms\n",
      "2024-10-31 11:58:46,289 - searcharray.indexing - INFO - Encoding positions to bit array\n",
      "2024-10-31 11:58:46,290 - searcharray.indexing - INFO - Batch tokenization complete\n",
      "2024-10-31 11:58:46,290 - searcharray.indexing - INFO - (main thread) Processing 1 batch results\n",
      "2024-10-31 11:58:46,291 - searcharray.indexing - INFO - Indexing from tokenization complete\n",
      "2024-10-31 11:58:46,298 - searcharray.indexing - INFO - Indexing begins w/ 4 workers\n",
      "2024-10-31 11:58:46,298 - searcharray.indexing - INFO - 0 Batch Start tokenization\n",
      "2024-10-31 11:58:46,299 - searcharray.indexing - INFO - Tokenizing 10 documents\n",
      "2024-10-31 11:58:46,300 - searcharray.indexing - INFO - Tokenization -- vstacking\n",
      "2024-10-31 11:58:46,300 - searcharray.indexing - INFO - Tokenization -- DONE\n",
      "2024-10-31 11:58:46,300 - searcharray.indexing - INFO - Inverting docs->terms\n",
      "2024-10-31 11:58:46,301 - searcharray.indexing - INFO - Encoding positions to bit array\n",
      "2024-10-31 11:58:46,301 - searcharray.indexing - INFO - Batch tokenization complete\n",
      "2024-10-31 11:58:46,302 - searcharray.indexing - INFO - (main thread) Processing 1 batch results\n",
      "2024-10-31 11:58:46,302 - searcharray.indexing - INFO - Indexing from tokenization complete\n",
      "2024-10-31 11:58:46,314 - searcharray.indexing - INFO - Indexing begins w/ 4 workers\n",
      "2024-10-31 11:58:46,315 - searcharray.indexing - INFO - 0 Batch Start tokenization\n",
      "2024-10-31 11:58:46,316 - searcharray.indexing - INFO - Tokenizing 10 documents\n",
      "2024-10-31 11:58:46,316 - searcharray.indexing - INFO - Tokenization -- vstacking\n",
      "2024-10-31 11:58:46,316 - searcharray.indexing - INFO - Tokenization -- DONE\n",
      "2024-10-31 11:58:46,317 - searcharray.indexing - INFO - Inverting docs->terms\n",
      "2024-10-31 11:58:46,317 - searcharray.indexing - INFO - Encoding positions to bit array\n",
      "2024-10-31 11:58:46,318 - searcharray.indexing - INFO - Batch tokenization complete\n",
      "2024-10-31 11:58:46,320 - searcharray.indexing - INFO - (main thread) Processing 1 batch results\n",
      "2024-10-31 11:58:46,321 - searcharray.indexing - INFO - Indexing from tokenization complete\n",
      "2024-10-31 11:58:46,329 - searcharray.indexing - INFO - Indexing begins w/ 4 workers\n",
      "2024-10-31 11:58:46,329 - searcharray.indexing - INFO - 0 Batch Start tokenization\n",
      "2024-10-31 11:58:46,330 - searcharray.indexing - INFO - Tokenizing 10 documents\n",
      "2024-10-31 11:58:46,330 - searcharray.indexing - INFO - Tokenization -- vstacking\n",
      "2024-10-31 11:58:46,330 - searcharray.indexing - INFO - Tokenization -- DONE\n",
      "2024-10-31 11:58:46,331 - searcharray.indexing - INFO - Inverting docs->terms\n",
      "2024-10-31 11:58:46,331 - searcharray.indexing - INFO - Encoding positions to bit array\n",
      "2024-10-31 11:58:46,331 - searcharray.indexing - INFO - Batch tokenization complete\n",
      "2024-10-31 11:58:46,332 - searcharray.indexing - INFO - (main thread) Processing 1 batch results\n",
      "2024-10-31 11:58:46,332 - searcharray.indexing - INFO - Indexing from tokenization complete\n",
      "2024-10-31 11:58:46,340 - searcharray.indexing - INFO - Indexing begins w/ 4 workers\n",
      "2024-10-31 11:58:46,341 - searcharray.indexing - INFO - 0 Batch Start tokenization\n",
      "2024-10-31 11:58:46,341 - searcharray.indexing - INFO - Tokenizing 4 documents\n",
      "2024-10-31 11:58:46,342 - searcharray.indexing - INFO - Tokenization -- vstacking\n",
      "2024-10-31 11:58:46,342 - searcharray.indexing - INFO - Tokenization -- DONE\n",
      "2024-10-31 11:58:46,342 - searcharray.indexing - INFO - Inverting docs->terms\n",
      "2024-10-31 11:58:46,343 - searcharray.indexing - INFO - Encoding positions to bit array\n",
      "2024-10-31 11:58:46,343 - searcharray.indexing - INFO - Batch tokenization complete\n",
      "2024-10-31 11:58:46,343 - searcharray.indexing - INFO - (main thread) Processing 1 batch results\n",
      "2024-10-31 11:58:46,344 - searcharray.indexing - INFO - Indexing from tokenization complete\n",
      "2024-10-31 11:58:46,352 - searcharray.indexing - INFO - Indexing begins w/ 4 workers\n",
      "2024-10-31 11:58:46,352 - searcharray.indexing - INFO - 0 Batch Start tokenization\n",
      "2024-10-31 11:58:46,353 - searcharray.indexing - INFO - Tokenizing 10 documents\n",
      "2024-10-31 11:58:46,353 - searcharray.indexing - INFO - Tokenization -- vstacking\n",
      "2024-10-31 11:58:46,354 - searcharray.indexing - INFO - Tokenization -- DONE\n",
      "2024-10-31 11:58:46,354 - searcharray.indexing - INFO - Inverting docs->terms\n",
      "2024-10-31 11:58:46,354 - searcharray.indexing - INFO - Encoding positions to bit array\n",
      "2024-10-31 11:58:46,355 - searcharray.indexing - INFO - Batch tokenization complete\n",
      "2024-10-31 11:58:46,355 - searcharray.indexing - INFO - (main thread) Processing 1 batch results\n",
      "2024-10-31 11:58:46,355 - searcharray.indexing - INFO - Indexing from tokenization complete\n",
      "2024-10-31 11:58:46,364 - searcharray.indexing - INFO - Indexing begins w/ 4 workers\n",
      "2024-10-31 11:58:46,364 - searcharray.indexing - INFO - 0 Batch Start tokenization\n",
      "2024-10-31 11:58:46,365 - searcharray.indexing - INFO - Tokenizing 5 documents\n",
      "2024-10-31 11:58:46,365 - searcharray.indexing - INFO - Tokenization -- vstacking\n",
      "2024-10-31 11:58:46,365 - searcharray.indexing - INFO - Tokenization -- DONE\n",
      "2024-10-31 11:58:46,366 - searcharray.indexing - INFO - Inverting docs->terms\n",
      "2024-10-31 11:58:46,366 - searcharray.indexing - INFO - Encoding positions to bit array\n",
      "2024-10-31 11:58:46,367 - searcharray.indexing - INFO - Batch tokenization complete\n",
      "2024-10-31 11:58:46,367 - searcharray.indexing - INFO - (main thread) Processing 1 batch results\n",
      "2024-10-31 11:58:46,368 - searcharray.indexing - INFO - Indexing from tokenization complete\n",
      "2024-10-31 11:58:46,376 - searcharray.indexing - INFO - Indexing begins w/ 4 workers\n",
      "2024-10-31 11:58:46,376 - searcharray.indexing - INFO - 0 Batch Start tokenization\n",
      "2024-10-31 11:58:46,377 - searcharray.indexing - INFO - Tokenizing 10 documents\n",
      "2024-10-31 11:58:46,378 - searcharray.indexing - INFO - Tokenization -- vstacking\n",
      "2024-10-31 11:58:46,378 - searcharray.indexing - INFO - Tokenization -- DONE\n",
      "2024-10-31 11:58:46,378 - searcharray.indexing - INFO - Inverting docs->terms\n",
      "2024-10-31 11:58:46,379 - searcharray.indexing - INFO - Encoding positions to bit array\n",
      "2024-10-31 11:58:46,379 - searcharray.indexing - INFO - Batch tokenization complete\n",
      "2024-10-31 11:58:46,379 - searcharray.indexing - INFO - (main thread) Processing 1 batch results\n",
      "2024-10-31 11:58:46,380 - searcharray.indexing - INFO - Indexing from tokenization complete\n",
      "2024-10-31 11:58:46,389 - searcharray.indexing - INFO - Indexing begins w/ 4 workers\n",
      "2024-10-31 11:58:46,390 - searcharray.indexing - INFO - 0 Batch Start tokenization\n",
      "2024-10-31 11:58:46,391 - searcharray.indexing - INFO - Tokenizing 10 documents\n",
      "2024-10-31 11:58:46,391 - searcharray.indexing - INFO - Tokenization -- vstacking\n",
      "2024-10-31 11:58:46,391 - searcharray.indexing - INFO - Tokenization -- DONE\n",
      "2024-10-31 11:58:46,392 - searcharray.indexing - INFO - Inverting docs->terms\n",
      "2024-10-31 11:58:46,392 - searcharray.indexing - INFO - Encoding positions to bit array\n",
      "2024-10-31 11:58:46,392 - searcharray.indexing - INFO - Batch tokenization complete\n",
      "2024-10-31 11:58:46,393 - searcharray.indexing - INFO - (main thread) Processing 1 batch results\n",
      "2024-10-31 11:58:46,393 - searcharray.indexing - INFO - Indexing from tokenization complete\n",
      "2024-10-31 11:58:46,400 - searcharray.indexing - INFO - Indexing begins w/ 4 workers\n",
      "2024-10-31 11:58:46,401 - searcharray.indexing - INFO - 0 Batch Start tokenization\n",
      "2024-10-31 11:58:46,401 - searcharray.indexing - INFO - Tokenizing 10 documents\n",
      "2024-10-31 11:58:46,402 - searcharray.indexing - INFO - Tokenization -- vstacking\n",
      "2024-10-31 11:58:46,402 - searcharray.indexing - INFO - Tokenization -- DONE\n",
      "2024-10-31 11:58:46,402 - searcharray.indexing - INFO - Inverting docs->terms\n",
      "2024-10-31 11:58:46,402 - searcharray.indexing - INFO - Encoding positions to bit array\n",
      "2024-10-31 11:58:46,403 - searcharray.indexing - INFO - Batch tokenization complete\n",
      "2024-10-31 11:58:46,403 - searcharray.indexing - INFO - (main thread) Processing 1 batch results\n",
      "2024-10-31 11:58:46,404 - searcharray.indexing - INFO - Indexing from tokenization complete\n",
      "2024-10-31 11:58:46,412 - searcharray.indexing - INFO - Indexing begins w/ 4 workers\n",
      "2024-10-31 11:58:46,412 - searcharray.indexing - INFO - 0 Batch Start tokenization\n",
      "2024-10-31 11:58:46,413 - searcharray.indexing - INFO - Tokenizing 2 documents\n",
      "2024-10-31 11:58:46,413 - searcharray.indexing - INFO - Tokenization -- vstacking\n",
      "2024-10-31 11:58:46,413 - searcharray.indexing - INFO - Tokenization -- DONE\n",
      "2024-10-31 11:58:46,413 - searcharray.indexing - INFO - Inverting docs->terms\n",
      "2024-10-31 11:58:46,414 - searcharray.indexing - INFO - Encoding positions to bit array\n",
      "2024-10-31 11:58:46,414 - searcharray.indexing - INFO - Batch tokenization complete\n",
      "2024-10-31 11:58:46,414 - searcharray.indexing - INFO - (main thread) Processing 1 batch results\n",
      "2024-10-31 11:58:46,415 - searcharray.indexing - INFO - Indexing from tokenization complete\n",
      "2024-10-31 11:58:46,422 - searcharray.indexing - INFO - Indexing begins w/ 4 workers\n",
      "2024-10-31 11:58:46,423 - searcharray.indexing - INFO - 0 Batch Start tokenization\n",
      "2024-10-31 11:58:46,423 - searcharray.indexing - INFO - Tokenizing 10 documents\n",
      "2024-10-31 11:58:46,423 - searcharray.indexing - INFO - Tokenization -- vstacking\n",
      "2024-10-31 11:58:46,424 - searcharray.indexing - INFO - Tokenization -- DONE\n",
      "2024-10-31 11:58:46,424 - searcharray.indexing - INFO - Inverting docs->terms\n",
      "2024-10-31 11:58:46,424 - searcharray.indexing - INFO - Encoding positions to bit array\n",
      "2024-10-31 11:58:46,425 - searcharray.indexing - INFO - Batch tokenization complete\n",
      "2024-10-31 11:58:46,425 - searcharray.indexing - INFO - (main thread) Processing 1 batch results\n",
      "2024-10-31 11:58:46,425 - searcharray.indexing - INFO - Indexing from tokenization complete\n",
      "2024-10-31 11:58:46,433 - searcharray.indexing - INFO - Indexing begins w/ 4 workers\n",
      "2024-10-31 11:58:46,434 - searcharray.indexing - INFO - 0 Batch Start tokenization\n",
      "2024-10-31 11:58:46,434 - searcharray.indexing - INFO - Tokenizing 10 documents\n",
      "2024-10-31 11:58:46,435 - searcharray.indexing - INFO - Tokenization -- vstacking\n",
      "2024-10-31 11:58:46,435 - searcharray.indexing - INFO - Tokenization -- DONE\n",
      "2024-10-31 11:58:46,436 - searcharray.indexing - INFO - Inverting docs->terms\n",
      "2024-10-31 11:58:46,436 - searcharray.indexing - INFO - Encoding positions to bit array\n",
      "2024-10-31 11:58:46,437 - searcharray.indexing - INFO - Batch tokenization complete\n",
      "2024-10-31 11:58:46,437 - searcharray.indexing - INFO - (main thread) Processing 1 batch results\n",
      "2024-10-31 11:58:46,438 - searcharray.indexing - INFO - Indexing from tokenization complete\n",
      "2024-10-31 11:58:46,445 - searcharray.indexing - INFO - Indexing begins w/ 4 workers\n",
      "2024-10-31 11:58:46,446 - searcharray.indexing - INFO - 0 Batch Start tokenization\n",
      "2024-10-31 11:58:46,446 - searcharray.indexing - INFO - Tokenizing 3 documents\n",
      "2024-10-31 11:58:46,446 - searcharray.indexing - INFO - Tokenization -- vstacking\n",
      "2024-10-31 11:58:46,447 - searcharray.indexing - INFO - Tokenization -- DONE\n",
      "2024-10-31 11:58:46,447 - searcharray.indexing - INFO - Inverting docs->terms\n",
      "2024-10-31 11:58:46,447 - searcharray.indexing - INFO - Encoding positions to bit array\n",
      "2024-10-31 11:58:46,448 - searcharray.indexing - INFO - Batch tokenization complete\n",
      "2024-10-31 11:58:46,448 - searcharray.indexing - INFO - (main thread) Processing 1 batch results\n",
      "2024-10-31 11:58:46,449 - searcharray.indexing - INFO - Indexing from tokenization complete\n",
      "2024-10-31 11:58:46,456 - searcharray.indexing - INFO - Indexing begins w/ 4 workers\n",
      "2024-10-31 11:58:46,457 - searcharray.indexing - INFO - 0 Batch Start tokenization\n",
      "2024-10-31 11:58:46,457 - searcharray.indexing - INFO - Tokenizing 10 documents\n",
      "2024-10-31 11:58:46,458 - searcharray.indexing - INFO - Tokenization -- vstacking\n",
      "2024-10-31 11:58:46,458 - searcharray.indexing - INFO - Tokenization -- DONE\n",
      "2024-10-31 11:58:46,458 - searcharray.indexing - INFO - Inverting docs->terms\n",
      "2024-10-31 11:58:46,459 - searcharray.indexing - INFO - Encoding positions to bit array\n",
      "2024-10-31 11:58:46,459 - searcharray.indexing - INFO - Batch tokenization complete\n",
      "2024-10-31 11:58:46,459 - searcharray.indexing - INFO - (main thread) Processing 1 batch results\n",
      "2024-10-31 11:58:46,460 - searcharray.indexing - INFO - Indexing from tokenization complete\n",
      "2024-10-31 11:58:46,467 - searcharray.indexing - INFO - Indexing begins w/ 4 workers\n",
      "2024-10-31 11:58:46,468 - searcharray.indexing - INFO - 0 Batch Start tokenization\n",
      "2024-10-31 11:58:46,468 - searcharray.indexing - INFO - Tokenizing 3 documents\n",
      "2024-10-31 11:58:46,469 - searcharray.indexing - INFO - Tokenization -- vstacking\n",
      "2024-10-31 11:58:46,469 - searcharray.indexing - INFO - Tokenization -- DONE\n",
      "2024-10-31 11:58:46,470 - searcharray.indexing - INFO - Inverting docs->terms\n",
      "2024-10-31 11:58:46,470 - searcharray.indexing - INFO - Encoding positions to bit array\n",
      "2024-10-31 11:58:46,471 - searcharray.indexing - INFO - Batch tokenization complete\n",
      "2024-10-31 11:58:46,471 - searcharray.indexing - INFO - (main thread) Processing 1 batch results\n",
      "2024-10-31 11:58:46,471 - searcharray.indexing - INFO - Indexing from tokenization complete\n",
      "2024-10-31 11:58:46,481 - searcharray.indexing - INFO - Indexing begins w/ 4 workers\n",
      "2024-10-31 11:58:46,481 - searcharray.indexing - INFO - 0 Batch Start tokenization\n",
      "2024-10-31 11:58:46,482 - searcharray.indexing - INFO - Tokenizing 10 documents\n",
      "2024-10-31 11:58:46,482 - searcharray.indexing - INFO - Tokenization -- vstacking\n",
      "2024-10-31 11:58:46,483 - searcharray.indexing - INFO - Tokenization -- DONE\n",
      "2024-10-31 11:58:46,483 - searcharray.indexing - INFO - Inverting docs->terms\n",
      "2024-10-31 11:58:46,483 - searcharray.indexing - INFO - Encoding positions to bit array\n",
      "2024-10-31 11:58:46,484 - searcharray.indexing - INFO - Batch tokenization complete\n",
      "2024-10-31 11:58:46,484 - searcharray.indexing - INFO - (main thread) Processing 1 batch results\n",
      "2024-10-31 11:58:46,485 - searcharray.indexing - INFO - Indexing from tokenization complete\n",
      "2024-10-31 11:58:46,494 - searcharray.indexing - INFO - Indexing begins w/ 4 workers\n",
      "2024-10-31 11:58:46,494 - searcharray.indexing - INFO - 0 Batch Start tokenization\n",
      "2024-10-31 11:58:46,495 - searcharray.indexing - INFO - Tokenizing 10 documents\n",
      "2024-10-31 11:58:46,495 - searcharray.indexing - INFO - Tokenization -- vstacking\n",
      "2024-10-31 11:58:46,496 - searcharray.indexing - INFO - Tokenization -- DONE\n",
      "2024-10-31 11:58:46,496 - searcharray.indexing - INFO - Inverting docs->terms\n",
      "2024-10-31 11:58:46,496 - searcharray.indexing - INFO - Encoding positions to bit array\n",
      "2024-10-31 11:58:46,497 - searcharray.indexing - INFO - Batch tokenization complete\n",
      "2024-10-31 11:58:46,497 - searcharray.indexing - INFO - (main thread) Processing 1 batch results\n",
      "2024-10-31 11:58:46,498 - searcharray.indexing - INFO - Indexing from tokenization complete\n",
      "2024-10-31 11:58:46,508 - searcharray.indexing - INFO - Indexing begins w/ 4 workers\n",
      "2024-10-31 11:58:46,508 - searcharray.indexing - INFO - 0 Batch Start tokenization\n",
      "2024-10-31 11:58:46,509 - searcharray.indexing - INFO - Tokenizing 10 documents\n",
      "2024-10-31 11:58:46,509 - searcharray.indexing - INFO - Tokenization -- vstacking\n",
      "2024-10-31 11:58:46,510 - searcharray.indexing - INFO - Tokenization -- DONE\n",
      "2024-10-31 11:58:46,511 - searcharray.indexing - INFO - Inverting docs->terms\n",
      "2024-10-31 11:58:46,511 - searcharray.indexing - INFO - Encoding positions to bit array\n",
      "2024-10-31 11:58:46,512 - searcharray.indexing - INFO - Batch tokenization complete\n",
      "2024-10-31 11:58:46,512 - searcharray.indexing - INFO - (main thread) Processing 1 batch results\n",
      "2024-10-31 11:58:46,512 - searcharray.indexing - INFO - Indexing from tokenization complete\n",
      "2024-10-31 11:58:46,519 - searcharray.indexing - INFO - Indexing begins w/ 4 workers\n",
      "2024-10-31 11:58:46,520 - searcharray.indexing - INFO - 0 Batch Start tokenization\n",
      "2024-10-31 11:58:46,520 - searcharray.indexing - INFO - Tokenizing 10 documents\n",
      "2024-10-31 11:58:46,521 - searcharray.indexing - INFO - Tokenization -- vstacking\n",
      "2024-10-31 11:58:46,521 - searcharray.indexing - INFO - Tokenization -- DONE\n",
      "2024-10-31 11:58:46,521 - searcharray.indexing - INFO - Inverting docs->terms\n",
      "2024-10-31 11:58:46,522 - searcharray.indexing - INFO - Encoding positions to bit array\n",
      "2024-10-31 11:58:46,522 - searcharray.indexing - INFO - Batch tokenization complete\n",
      "2024-10-31 11:58:46,522 - searcharray.indexing - INFO - (main thread) Processing 1 batch results\n",
      "2024-10-31 11:58:46,523 - searcharray.indexing - INFO - Indexing from tokenization complete\n",
      "2024-10-31 11:58:46,529 - searcharray.indexing - INFO - Indexing begins w/ 4 workers\n",
      "2024-10-31 11:58:46,530 - searcharray.indexing - INFO - 0 Batch Start tokenization\n",
      "2024-10-31 11:58:46,530 - searcharray.indexing - INFO - Tokenizing 1 documents\n",
      "2024-10-31 11:58:46,531 - searcharray.indexing - INFO - Tokenization -- vstacking\n",
      "2024-10-31 11:58:46,531 - searcharray.indexing - INFO - Tokenization -- DONE\n",
      "2024-10-31 11:58:46,531 - searcharray.indexing - INFO - Inverting docs->terms\n",
      "2024-10-31 11:58:46,532 - searcharray.indexing - INFO - Encoding positions to bit array\n",
      "2024-10-31 11:58:46,532 - searcharray.indexing - INFO - Batch tokenization complete\n",
      "2024-10-31 11:58:46,532 - searcharray.indexing - INFO - (main thread) Processing 1 batch results\n",
      "2024-10-31 11:58:46,533 - searcharray.indexing - INFO - Indexing from tokenization complete\n",
      "2024-10-31 11:58:46,541 - searcharray.indexing - INFO - Indexing begins w/ 4 workers\n",
      "2024-10-31 11:58:46,542 - searcharray.indexing - INFO - 0 Batch Start tokenization\n",
      "2024-10-31 11:58:46,542 - searcharray.indexing - INFO - Tokenizing 10 documents\n",
      "2024-10-31 11:58:46,543 - searcharray.indexing - INFO - Tokenization -- vstacking\n",
      "2024-10-31 11:58:46,543 - searcharray.indexing - INFO - Tokenization -- DONE\n",
      "2024-10-31 11:58:46,544 - searcharray.indexing - INFO - Inverting docs->terms\n",
      "2024-10-31 11:58:46,544 - searcharray.indexing - INFO - Encoding positions to bit array\n",
      "2024-10-31 11:58:46,544 - searcharray.indexing - INFO - Batch tokenization complete\n",
      "2024-10-31 11:58:46,545 - searcharray.indexing - INFO - (main thread) Processing 1 batch results\n",
      "2024-10-31 11:58:46,545 - searcharray.indexing - INFO - Indexing from tokenization complete\n",
      "2024-10-31 11:58:46,552 - searcharray.indexing - INFO - Indexing begins w/ 4 workers\n",
      "2024-10-31 11:58:46,553 - searcharray.indexing - INFO - 0 Batch Start tokenization\n",
      "2024-10-31 11:58:46,554 - searcharray.indexing - INFO - Tokenizing 10 documents\n",
      "2024-10-31 11:58:46,554 - searcharray.indexing - INFO - Tokenization -- vstacking\n",
      "2024-10-31 11:58:46,555 - searcharray.indexing - INFO - Tokenization -- DONE\n",
      "2024-10-31 11:58:46,555 - searcharray.indexing - INFO - Inverting docs->terms\n",
      "2024-10-31 11:58:46,555 - searcharray.indexing - INFO - Encoding positions to bit array\n",
      "2024-10-31 11:58:46,556 - searcharray.indexing - INFO - Batch tokenization complete\n",
      "2024-10-31 11:58:46,556 - searcharray.indexing - INFO - (main thread) Processing 1 batch results\n",
      "2024-10-31 11:58:46,557 - searcharray.indexing - INFO - Indexing from tokenization complete\n",
      "2024-10-31 11:58:46,566 - searcharray.indexing - INFO - Indexing begins w/ 4 workers\n",
      "2024-10-31 11:58:46,566 - searcharray.indexing - INFO - 0 Batch Start tokenization\n",
      "2024-10-31 11:58:46,567 - searcharray.indexing - INFO - Tokenizing 10 documents\n",
      "2024-10-31 11:58:46,567 - searcharray.indexing - INFO - Tokenization -- vstacking\n",
      "2024-10-31 11:58:46,568 - searcharray.indexing - INFO - Tokenization -- DONE\n",
      "2024-10-31 11:58:46,568 - searcharray.indexing - INFO - Inverting docs->terms\n",
      "2024-10-31 11:58:46,568 - searcharray.indexing - INFO - Encoding positions to bit array\n",
      "2024-10-31 11:58:46,569 - searcharray.indexing - INFO - Batch tokenization complete\n",
      "2024-10-31 11:58:46,569 - searcharray.indexing - INFO - (main thread) Processing 1 batch results\n",
      "2024-10-31 11:58:46,570 - searcharray.indexing - INFO - Indexing from tokenization complete\n",
      "2024-10-31 11:58:46,578 - searcharray.indexing - INFO - Indexing begins w/ 4 workers\n",
      "2024-10-31 11:58:46,578 - searcharray.indexing - INFO - 0 Batch Start tokenization\n",
      "2024-10-31 11:58:46,579 - searcharray.indexing - INFO - Tokenizing 10 documents\n",
      "2024-10-31 11:58:46,579 - searcharray.indexing - INFO - Tokenization -- vstacking\n",
      "2024-10-31 11:58:46,579 - searcharray.indexing - INFO - Tokenization -- DONE\n",
      "2024-10-31 11:58:46,580 - searcharray.indexing - INFO - Inverting docs->terms\n",
      "2024-10-31 11:58:46,580 - searcharray.indexing - INFO - Encoding positions to bit array\n",
      "2024-10-31 11:58:46,580 - searcharray.indexing - INFO - Batch tokenization complete\n",
      "2024-10-31 11:58:46,581 - searcharray.indexing - INFO - (main thread) Processing 1 batch results\n",
      "2024-10-31 11:58:46,581 - searcharray.indexing - INFO - Indexing from tokenization complete\n",
      "2024-10-31 11:58:46,589 - searcharray.indexing - INFO - Indexing begins w/ 4 workers\n",
      "2024-10-31 11:58:46,590 - searcharray.indexing - INFO - 0 Batch Start tokenization\n",
      "2024-10-31 11:58:46,591 - searcharray.indexing - INFO - Tokenizing 10 documents\n",
      "2024-10-31 11:58:46,591 - searcharray.indexing - INFO - Tokenization -- vstacking\n",
      "2024-10-31 11:58:46,592 - searcharray.indexing - INFO - Tokenization -- DONE\n",
      "2024-10-31 11:58:46,592 - searcharray.indexing - INFO - Inverting docs->terms\n",
      "2024-10-31 11:58:46,592 - searcharray.indexing - INFO - Encoding positions to bit array\n",
      "2024-10-31 11:58:46,593 - searcharray.indexing - INFO - Batch tokenization complete\n",
      "2024-10-31 11:58:46,593 - searcharray.indexing - INFO - (main thread) Processing 1 batch results\n",
      "2024-10-31 11:58:46,594 - searcharray.indexing - INFO - Indexing from tokenization complete\n",
      "2024-10-31 11:58:46,604 - searcharray.indexing - INFO - Indexing begins w/ 4 workers\n",
      "2024-10-31 11:58:46,604 - searcharray.indexing - INFO - 0 Batch Start tokenization\n",
      "2024-10-31 11:58:46,604 - searcharray.indexing - INFO - Tokenizing 10 documents\n",
      "2024-10-31 11:58:46,605 - searcharray.indexing - INFO - Tokenization -- vstacking\n",
      "2024-10-31 11:58:46,605 - searcharray.indexing - INFO - Tokenization -- DONE\n",
      "2024-10-31 11:58:46,606 - searcharray.indexing - INFO - Inverting docs->terms\n",
      "2024-10-31 11:58:46,606 - searcharray.indexing - INFO - Encoding positions to bit array\n",
      "2024-10-31 11:58:46,606 - searcharray.indexing - INFO - Batch tokenization complete\n",
      "2024-10-31 11:58:46,607 - searcharray.indexing - INFO - (main thread) Processing 1 batch results\n",
      "2024-10-31 11:58:46,607 - searcharray.indexing - INFO - Indexing from tokenization complete\n",
      "2024-10-31 11:58:46,616 - searcharray.indexing - INFO - Indexing begins w/ 4 workers\n",
      "2024-10-31 11:58:46,616 - searcharray.indexing - INFO - 0 Batch Start tokenization\n",
      "2024-10-31 11:58:46,617 - searcharray.indexing - INFO - Tokenizing 10 documents\n",
      "2024-10-31 11:58:46,618 - searcharray.indexing - INFO - Tokenization -- vstacking\n",
      "2024-10-31 11:58:46,618 - searcharray.indexing - INFO - Tokenization -- DONE\n",
      "2024-10-31 11:58:46,619 - searcharray.indexing - INFO - Inverting docs->terms\n",
      "2024-10-31 11:58:46,619 - searcharray.indexing - INFO - Encoding positions to bit array\n",
      "2024-10-31 11:58:46,620 - searcharray.indexing - INFO - Batch tokenization complete\n",
      "2024-10-31 11:58:46,620 - searcharray.indexing - INFO - (main thread) Processing 1 batch results\n",
      "2024-10-31 11:58:46,621 - searcharray.indexing - INFO - Indexing from tokenization complete\n",
      "2024-10-31 11:58:46,628 - searcharray.indexing - INFO - Indexing begins w/ 4 workers\n",
      "2024-10-31 11:58:46,629 - searcharray.indexing - INFO - 0 Batch Start tokenization\n",
      "2024-10-31 11:58:46,630 - searcharray.indexing - INFO - Tokenizing 10 documents\n",
      "2024-10-31 11:58:46,630 - searcharray.indexing - INFO - Tokenization -- vstacking\n",
      "2024-10-31 11:58:46,630 - searcharray.indexing - INFO - Tokenization -- DONE\n",
      "2024-10-31 11:58:46,631 - searcharray.indexing - INFO - Inverting docs->terms\n",
      "2024-10-31 11:58:46,631 - searcharray.indexing - INFO - Encoding positions to bit array\n",
      "2024-10-31 11:58:46,632 - searcharray.indexing - INFO - Batch tokenization complete\n",
      "2024-10-31 11:58:46,632 - searcharray.indexing - INFO - (main thread) Processing 1 batch results\n",
      "2024-10-31 11:58:46,633 - searcharray.indexing - INFO - Indexing from tokenization complete\n",
      "2024-10-31 11:58:46,639 - searcharray.indexing - INFO - Indexing begins w/ 4 workers\n",
      "2024-10-31 11:58:46,640 - searcharray.indexing - INFO - 0 Batch Start tokenization\n",
      "2024-10-31 11:58:46,641 - searcharray.indexing - INFO - Tokenizing 10 documents\n",
      "2024-10-31 11:58:46,641 - searcharray.indexing - INFO - Tokenization -- vstacking\n",
      "2024-10-31 11:58:46,641 - searcharray.indexing - INFO - Tokenization -- DONE\n",
      "2024-10-31 11:58:46,642 - searcharray.indexing - INFO - Inverting docs->terms\n",
      "2024-10-31 11:58:46,642 - searcharray.indexing - INFO - Encoding positions to bit array\n",
      "2024-10-31 11:58:46,642 - searcharray.indexing - INFO - Batch tokenization complete\n",
      "2024-10-31 11:58:46,643 - searcharray.indexing - INFO - (main thread) Processing 1 batch results\n",
      "2024-10-31 11:58:46,643 - searcharray.indexing - INFO - Indexing from tokenization complete\n",
      "2024-10-31 11:58:46,653 - searcharray.indexing - INFO - Indexing begins w/ 4 workers\n",
      "2024-10-31 11:58:46,654 - searcharray.indexing - INFO - 0 Batch Start tokenization\n",
      "2024-10-31 11:58:46,654 - searcharray.indexing - INFO - Tokenizing 1 documents\n",
      "2024-10-31 11:58:46,655 - searcharray.indexing - INFO - Tokenization -- vstacking\n",
      "2024-10-31 11:58:46,655 - searcharray.indexing - INFO - Tokenization -- DONE\n",
      "2024-10-31 11:58:46,655 - searcharray.indexing - INFO - Inverting docs->terms\n",
      "2024-10-31 11:58:46,656 - searcharray.indexing - INFO - Encoding positions to bit array\n",
      "2024-10-31 11:58:46,656 - searcharray.indexing - INFO - Batch tokenization complete\n",
      "2024-10-31 11:58:46,656 - searcharray.indexing - INFO - (main thread) Processing 1 batch results\n",
      "2024-10-31 11:58:46,657 - searcharray.indexing - INFO - Indexing from tokenization complete\n",
      "2024-10-31 11:58:46,663 - searcharray.indexing - INFO - Indexing begins w/ 4 workers\n",
      "2024-10-31 11:58:46,664 - searcharray.indexing - INFO - 0 Batch Start tokenization\n",
      "2024-10-31 11:58:46,664 - searcharray.indexing - INFO - Tokenizing 8 documents\n",
      "2024-10-31 11:58:46,665 - searcharray.indexing - INFO - Tokenization -- vstacking\n",
      "2024-10-31 11:58:46,665 - searcharray.indexing - INFO - Tokenization -- DONE\n",
      "2024-10-31 11:58:46,665 - searcharray.indexing - INFO - Inverting docs->terms\n",
      "2024-10-31 11:58:46,666 - searcharray.indexing - INFO - Encoding positions to bit array\n",
      "2024-10-31 11:58:46,666 - searcharray.indexing - INFO - Batch tokenization complete\n",
      "2024-10-31 11:58:46,666 - searcharray.indexing - INFO - (main thread) Processing 1 batch results\n",
      "2024-10-31 11:58:46,667 - searcharray.indexing - INFO - Indexing from tokenization complete\n",
      "2024-10-31 11:58:46,680 - searcharray.indexing - INFO - Indexing begins w/ 4 workers\n",
      "2024-10-31 11:58:46,681 - searcharray.indexing - INFO - 0 Batch Start tokenization\n",
      "2024-10-31 11:58:46,681 - searcharray.indexing - INFO - Tokenizing 10 documents\n",
      "2024-10-31 11:58:46,682 - searcharray.indexing - INFO - Tokenization -- vstacking\n",
      "2024-10-31 11:58:46,682 - searcharray.indexing - INFO - Tokenization -- DONE\n",
      "2024-10-31 11:58:46,683 - searcharray.indexing - INFO - Inverting docs->terms\n",
      "2024-10-31 11:58:46,683 - searcharray.indexing - INFO - Encoding positions to bit array\n",
      "2024-10-31 11:58:46,684 - searcharray.indexing - INFO - Batch tokenization complete\n",
      "2024-10-31 11:58:46,684 - searcharray.indexing - INFO - (main thread) Processing 1 batch results\n",
      "2024-10-31 11:58:46,684 - searcharray.indexing - INFO - Indexing from tokenization complete\n",
      "2024-10-31 11:58:46,714 - searcharray.indexing - INFO - Indexing begins w/ 4 workers\n",
      "2024-10-31 11:58:46,715 - searcharray.indexing - INFO - 0 Batch Start tokenization\n",
      "2024-10-31 11:58:46,716 - searcharray.indexing - INFO - Tokenizing 10 documents\n",
      "2024-10-31 11:58:46,716 - searcharray.indexing - INFO - Tokenization -- vstacking\n",
      "2024-10-31 11:58:46,716 - searcharray.indexing - INFO - Tokenization -- DONE\n",
      "2024-10-31 11:58:46,717 - searcharray.indexing - INFO - Inverting docs->terms\n",
      "2024-10-31 11:58:46,717 - searcharray.indexing - INFO - Encoding positions to bit array\n",
      "2024-10-31 11:58:46,717 - searcharray.indexing - INFO - Batch tokenization complete\n",
      "2024-10-31 11:58:46,717 - searcharray.indexing - INFO - (main thread) Processing 1 batch results\n",
      "2024-10-31 11:58:46,718 - searcharray.indexing - INFO - Indexing from tokenization complete\n",
      "2024-10-31 11:58:46,740 - searcharray.indexing - INFO - Indexing begins w/ 4 workers\n",
      "2024-10-31 11:58:46,741 - searcharray.indexing - INFO - 0 Batch Start tokenization\n",
      "2024-10-31 11:58:46,741 - searcharray.indexing - INFO - Tokenizing 10 documents\n",
      "2024-10-31 11:58:46,742 - searcharray.indexing - INFO - Tokenization -- vstacking\n",
      "2024-10-31 11:58:46,742 - searcharray.indexing - INFO - Tokenization -- DONE\n",
      "2024-10-31 11:58:46,743 - searcharray.indexing - INFO - Inverting docs->terms\n",
      "2024-10-31 11:58:46,744 - searcharray.indexing - INFO - Encoding positions to bit array\n",
      "2024-10-31 11:58:46,744 - searcharray.indexing - INFO - Batch tokenization complete\n",
      "2024-10-31 11:58:46,745 - searcharray.indexing - INFO - (main thread) Processing 1 batch results\n",
      "2024-10-31 11:58:46,745 - searcharray.indexing - INFO - Indexing from tokenization complete\n",
      "2024-10-31 11:58:46,772 - searcharray.indexing - INFO - Indexing begins w/ 4 workers\n",
      "2024-10-31 11:58:46,773 - searcharray.indexing - INFO - 0 Batch Start tokenization\n",
      "2024-10-31 11:58:46,773 - searcharray.indexing - INFO - Tokenizing 10 documents\n",
      "2024-10-31 11:58:46,774 - searcharray.indexing - INFO - Tokenization -- vstacking\n",
      "2024-10-31 11:58:46,774 - searcharray.indexing - INFO - Tokenization -- DONE\n",
      "2024-10-31 11:58:46,775 - searcharray.indexing - INFO - Inverting docs->terms\n",
      "2024-10-31 11:58:46,775 - searcharray.indexing - INFO - Encoding positions to bit array\n",
      "2024-10-31 11:58:46,776 - searcharray.indexing - INFO - Batch tokenization complete\n",
      "2024-10-31 11:58:46,776 - searcharray.indexing - INFO - (main thread) Processing 1 batch results\n",
      "2024-10-31 11:58:46,777 - searcharray.indexing - INFO - Indexing from tokenization complete\n",
      "2024-10-31 11:58:46,784 - searcharray.indexing - INFO - Indexing begins w/ 4 workers\n",
      "2024-10-31 11:58:46,785 - searcharray.indexing - INFO - 0 Batch Start tokenization\n",
      "2024-10-31 11:58:46,785 - searcharray.indexing - INFO - Tokenizing 2 documents\n",
      "2024-10-31 11:58:46,785 - searcharray.indexing - INFO - Tokenization -- vstacking\n",
      "2024-10-31 11:58:46,785 - searcharray.indexing - INFO - Tokenization -- DONE\n",
      "2024-10-31 11:58:46,786 - searcharray.indexing - INFO - Inverting docs->terms\n",
      "2024-10-31 11:58:46,786 - searcharray.indexing - INFO - Encoding positions to bit array\n",
      "2024-10-31 11:58:46,787 - searcharray.indexing - INFO - Batch tokenization complete\n",
      "2024-10-31 11:58:46,787 - searcharray.indexing - INFO - (main thread) Processing 1 batch results\n",
      "2024-10-31 11:58:46,787 - searcharray.indexing - INFO - Indexing from tokenization complete\n",
      "2024-10-31 11:58:46,797 - searcharray.indexing - INFO - Indexing begins w/ 4 workers\n",
      "2024-10-31 11:58:46,797 - searcharray.indexing - INFO - 0 Batch Start tokenization\n",
      "2024-10-31 11:58:46,798 - searcharray.indexing - INFO - Tokenizing 1 documents\n",
      "2024-10-31 11:58:46,798 - searcharray.indexing - INFO - Tokenization -- vstacking\n",
      "2024-10-31 11:58:46,798 - searcharray.indexing - INFO - Tokenization -- DONE\n",
      "2024-10-31 11:58:46,799 - searcharray.indexing - INFO - Inverting docs->terms\n",
      "2024-10-31 11:58:46,799 - searcharray.indexing - INFO - Encoding positions to bit array\n",
      "2024-10-31 11:58:46,799 - searcharray.indexing - INFO - Batch tokenization complete\n",
      "2024-10-31 11:58:46,800 - searcharray.indexing - INFO - (main thread) Processing 1 batch results\n",
      "2024-10-31 11:58:46,801 - searcharray.indexing - INFO - Indexing from tokenization complete\n",
      "2024-10-31 11:58:46,815 - searcharray.indexing - INFO - Indexing begins w/ 4 workers\n",
      "2024-10-31 11:58:46,816 - searcharray.indexing - INFO - 0 Batch Start tokenization\n",
      "2024-10-31 11:58:46,816 - searcharray.indexing - INFO - Tokenizing 10 documents\n",
      "2024-10-31 11:58:46,817 - searcharray.indexing - INFO - Tokenization -- vstacking\n",
      "2024-10-31 11:58:46,817 - searcharray.indexing - INFO - Tokenization -- DONE\n",
      "2024-10-31 11:58:46,817 - searcharray.indexing - INFO - Inverting docs->terms\n",
      "2024-10-31 11:58:46,818 - searcharray.indexing - INFO - Encoding positions to bit array\n",
      "2024-10-31 11:58:46,818 - searcharray.indexing - INFO - Batch tokenization complete\n",
      "2024-10-31 11:58:46,819 - searcharray.indexing - INFO - (main thread) Processing 1 batch results\n",
      "2024-10-31 11:58:46,819 - searcharray.indexing - INFO - Indexing from tokenization complete\n",
      "2024-10-31 11:58:46,828 - searcharray.indexing - INFO - Indexing begins w/ 4 workers\n",
      "2024-10-31 11:58:46,828 - searcharray.indexing - INFO - 0 Batch Start tokenization\n",
      "2024-10-31 11:58:46,829 - searcharray.indexing - INFO - Tokenizing 10 documents\n",
      "2024-10-31 11:58:46,829 - searcharray.indexing - INFO - Tokenization -- vstacking\n",
      "2024-10-31 11:58:46,829 - searcharray.indexing - INFO - Tokenization -- DONE\n",
      "2024-10-31 11:58:46,830 - searcharray.indexing - INFO - Inverting docs->terms\n",
      "2024-10-31 11:58:46,830 - searcharray.indexing - INFO - Encoding positions to bit array\n",
      "2024-10-31 11:58:46,830 - searcharray.indexing - INFO - Batch tokenization complete\n",
      "2024-10-31 11:58:46,831 - searcharray.indexing - INFO - (main thread) Processing 1 batch results\n",
      "2024-10-31 11:58:46,831 - searcharray.indexing - INFO - Indexing from tokenization complete\n",
      "2024-10-31 11:58:46,845 - searcharray.indexing - INFO - Indexing begins w/ 4 workers\n",
      "2024-10-31 11:58:46,846 - searcharray.indexing - INFO - 0 Batch Start tokenization\n",
      "2024-10-31 11:58:46,846 - searcharray.indexing - INFO - Tokenizing 10 documents\n",
      "2024-10-31 11:58:46,847 - searcharray.indexing - INFO - Tokenization -- vstacking\n",
      "2024-10-31 11:58:46,847 - searcharray.indexing - INFO - Tokenization -- DONE\n",
      "2024-10-31 11:58:46,847 - searcharray.indexing - INFO - Inverting docs->terms\n",
      "2024-10-31 11:58:46,848 - searcharray.indexing - INFO - Encoding positions to bit array\n",
      "2024-10-31 11:58:46,848 - searcharray.indexing - INFO - Batch tokenization complete\n",
      "2024-10-31 11:58:46,848 - searcharray.indexing - INFO - (main thread) Processing 1 batch results\n",
      "2024-10-31 11:58:46,849 - searcharray.indexing - INFO - Indexing from tokenization complete\n",
      "2024-10-31 11:58:46,857 - searcharray.indexing - INFO - Indexing begins w/ 4 workers\n",
      "2024-10-31 11:58:46,858 - searcharray.indexing - INFO - 0 Batch Start tokenization\n",
      "2024-10-31 11:58:46,858 - searcharray.indexing - INFO - Tokenizing 2 documents\n",
      "2024-10-31 11:58:46,859 - searcharray.indexing - INFO - Tokenization -- vstacking\n",
      "2024-10-31 11:58:46,859 - searcharray.indexing - INFO - Tokenization -- DONE\n",
      "2024-10-31 11:58:46,860 - searcharray.indexing - INFO - Inverting docs->terms\n",
      "2024-10-31 11:58:46,860 - searcharray.indexing - INFO - Encoding positions to bit array\n",
      "2024-10-31 11:58:46,860 - searcharray.indexing - INFO - Batch tokenization complete\n",
      "2024-10-31 11:58:46,861 - searcharray.indexing - INFO - (main thread) Processing 1 batch results\n",
      "2024-10-31 11:58:46,861 - searcharray.indexing - INFO - Indexing from tokenization complete\n",
      "2024-10-31 11:58:46,869 - searcharray.indexing - INFO - Indexing begins w/ 4 workers\n",
      "2024-10-31 11:58:46,869 - searcharray.indexing - INFO - 0 Batch Start tokenization\n",
      "2024-10-31 11:58:46,870 - searcharray.indexing - INFO - Tokenizing 10 documents\n",
      "2024-10-31 11:58:46,870 - searcharray.indexing - INFO - Tokenization -- vstacking\n",
      "2024-10-31 11:58:46,870 - searcharray.indexing - INFO - Tokenization -- DONE\n",
      "2024-10-31 11:58:46,871 - searcharray.indexing - INFO - Inverting docs->terms\n",
      "2024-10-31 11:58:46,871 - searcharray.indexing - INFO - Encoding positions to bit array\n",
      "2024-10-31 11:58:46,871 - searcharray.indexing - INFO - Batch tokenization complete\n",
      "2024-10-31 11:58:46,872 - searcharray.indexing - INFO - (main thread) Processing 1 batch results\n",
      "2024-10-31 11:58:46,872 - searcharray.indexing - INFO - Indexing from tokenization complete\n",
      "2024-10-31 11:58:46,880 - searcharray.indexing - INFO - Indexing begins w/ 4 workers\n",
      "2024-10-31 11:58:46,881 - searcharray.indexing - INFO - 0 Batch Start tokenization\n",
      "2024-10-31 11:58:46,881 - searcharray.indexing - INFO - Tokenizing 8 documents\n",
      "2024-10-31 11:58:46,882 - searcharray.indexing - INFO - Tokenization -- vstacking\n",
      "2024-10-31 11:58:46,882 - searcharray.indexing - INFO - Tokenization -- DONE\n",
      "2024-10-31 11:58:46,882 - searcharray.indexing - INFO - Inverting docs->terms\n",
      "2024-10-31 11:58:46,883 - searcharray.indexing - INFO - Encoding positions to bit array\n",
      "2024-10-31 11:58:46,883 - searcharray.indexing - INFO - Batch tokenization complete\n",
      "2024-10-31 11:58:46,883 - searcharray.indexing - INFO - (main thread) Processing 1 batch results\n",
      "2024-10-31 11:58:46,884 - searcharray.indexing - INFO - Indexing from tokenization complete\n",
      "2024-10-31 11:58:46,891 - searcharray.indexing - INFO - Indexing begins w/ 4 workers\n",
      "2024-10-31 11:58:46,892 - searcharray.indexing - INFO - 0 Batch Start tokenization\n",
      "2024-10-31 11:58:46,892 - searcharray.indexing - INFO - Tokenizing 2 documents\n",
      "2024-10-31 11:58:46,893 - searcharray.indexing - INFO - Tokenization -- vstacking\n",
      "2024-10-31 11:58:46,893 - searcharray.indexing - INFO - Tokenization -- DONE\n",
      "2024-10-31 11:58:46,893 - searcharray.indexing - INFO - Inverting docs->terms\n",
      "2024-10-31 11:58:46,893 - searcharray.indexing - INFO - Encoding positions to bit array\n",
      "2024-10-31 11:58:46,894 - searcharray.indexing - INFO - Batch tokenization complete\n",
      "2024-10-31 11:58:46,894 - searcharray.indexing - INFO - (main thread) Processing 1 batch results\n",
      "2024-10-31 11:58:46,895 - searcharray.indexing - INFO - Indexing from tokenization complete\n",
      "2024-10-31 11:58:46,909 - searcharray.indexing - INFO - Indexing begins w/ 4 workers\n",
      "2024-10-31 11:58:46,910 - searcharray.indexing - INFO - 0 Batch Start tokenization\n",
      "2024-10-31 11:58:46,910 - searcharray.indexing - INFO - Tokenizing 6 documents\n",
      "2024-10-31 11:58:46,911 - searcharray.indexing - INFO - Tokenization -- vstacking\n",
      "2024-10-31 11:58:46,911 - searcharray.indexing - INFO - Tokenization -- DONE\n",
      "2024-10-31 11:58:46,911 - searcharray.indexing - INFO - Inverting docs->terms\n",
      "2024-10-31 11:58:46,912 - searcharray.indexing - INFO - Encoding positions to bit array\n",
      "2024-10-31 11:58:46,912 - searcharray.indexing - INFO - Batch tokenization complete\n",
      "2024-10-31 11:58:46,912 - searcharray.indexing - INFO - (main thread) Processing 1 batch results\n",
      "2024-10-31 11:58:46,913 - searcharray.indexing - INFO - Indexing from tokenization complete\n",
      "2024-10-31 11:58:46,921 - searcharray.indexing - INFO - Indexing begins w/ 4 workers\n",
      "2024-10-31 11:58:46,922 - searcharray.indexing - INFO - 0 Batch Start tokenization\n",
      "2024-10-31 11:58:46,922 - searcharray.indexing - INFO - Tokenizing 4 documents\n",
      "2024-10-31 11:58:46,923 - searcharray.indexing - INFO - Tokenization -- vstacking\n",
      "2024-10-31 11:58:46,923 - searcharray.indexing - INFO - Tokenization -- DONE\n",
      "2024-10-31 11:58:46,923 - searcharray.indexing - INFO - Inverting docs->terms\n",
      "2024-10-31 11:58:46,924 - searcharray.indexing - INFO - Encoding positions to bit array\n",
      "2024-10-31 11:58:46,924 - searcharray.indexing - INFO - Batch tokenization complete\n",
      "2024-10-31 11:58:46,924 - searcharray.indexing - INFO - (main thread) Processing 1 batch results\n",
      "2024-10-31 11:58:46,925 - searcharray.indexing - INFO - Indexing from tokenization complete\n",
      "2024-10-31 11:58:46,941 - searcharray.indexing - INFO - Indexing begins w/ 4 workers\n",
      "2024-10-31 11:58:46,942 - searcharray.indexing - INFO - 0 Batch Start tokenization\n",
      "2024-10-31 11:58:46,942 - searcharray.indexing - INFO - Tokenizing 1 documents\n",
      "2024-10-31 11:58:46,943 - searcharray.indexing - INFO - Tokenization -- vstacking\n",
      "2024-10-31 11:58:46,943 - searcharray.indexing - INFO - Tokenization -- DONE\n",
      "2024-10-31 11:58:46,943 - searcharray.indexing - INFO - Inverting docs->terms\n",
      "2024-10-31 11:58:46,944 - searcharray.indexing - INFO - Encoding positions to bit array\n",
      "2024-10-31 11:58:46,945 - searcharray.indexing - INFO - Batch tokenization complete\n",
      "2024-10-31 11:58:46,945 - searcharray.indexing - INFO - (main thread) Processing 1 batch results\n",
      "2024-10-31 11:58:46,946 - searcharray.indexing - INFO - Indexing from tokenization complete\n",
      "2024-10-31 11:58:46,957 - searcharray.indexing - INFO - Indexing begins w/ 4 workers\n",
      "2024-10-31 11:58:46,957 - searcharray.indexing - INFO - 0 Batch Start tokenization\n",
      "2024-10-31 11:58:46,958 - searcharray.indexing - INFO - Tokenizing 10 documents\n",
      "2024-10-31 11:58:46,958 - searcharray.indexing - INFO - Tokenization -- vstacking\n",
      "2024-10-31 11:58:46,959 - searcharray.indexing - INFO - Tokenization -- DONE\n",
      "2024-10-31 11:58:46,959 - searcharray.indexing - INFO - Inverting docs->terms\n",
      "2024-10-31 11:58:46,960 - searcharray.indexing - INFO - Encoding positions to bit array\n",
      "2024-10-31 11:58:46,960 - searcharray.indexing - INFO - Batch tokenization complete\n",
      "2024-10-31 11:58:46,961 - searcharray.indexing - INFO - (main thread) Processing 1 batch results\n",
      "2024-10-31 11:58:46,962 - searcharray.indexing - INFO - Indexing from tokenization complete\n",
      "2024-10-31 11:58:46,970 - searcharray.indexing - INFO - Indexing begins w/ 4 workers\n",
      "2024-10-31 11:58:46,971 - searcharray.indexing - INFO - 0 Batch Start tokenization\n",
      "2024-10-31 11:58:46,972 - searcharray.indexing - INFO - Tokenizing 10 documents\n",
      "2024-10-31 11:58:46,972 - searcharray.indexing - INFO - Tokenization -- vstacking\n",
      "2024-10-31 11:58:46,973 - searcharray.indexing - INFO - Tokenization -- DONE\n",
      "2024-10-31 11:58:46,973 - searcharray.indexing - INFO - Inverting docs->terms\n",
      "2024-10-31 11:58:46,974 - searcharray.indexing - INFO - Encoding positions to bit array\n",
      "2024-10-31 11:58:46,974 - searcharray.indexing - INFO - Batch tokenization complete\n",
      "2024-10-31 11:58:46,975 - searcharray.indexing - INFO - (main thread) Processing 1 batch results\n",
      "2024-10-31 11:58:46,975 - searcharray.indexing - INFO - Indexing from tokenization complete\n",
      "2024-10-31 11:58:46,986 - searcharray.indexing - INFO - Indexing begins w/ 4 workers\n",
      "2024-10-31 11:58:46,986 - searcharray.indexing - INFO - 0 Batch Start tokenization\n",
      "2024-10-31 11:58:46,987 - searcharray.indexing - INFO - Tokenizing 4 documents\n",
      "2024-10-31 11:58:46,987 - searcharray.indexing - INFO - Tokenization -- vstacking\n",
      "2024-10-31 11:58:46,987 - searcharray.indexing - INFO - Tokenization -- DONE\n",
      "2024-10-31 11:58:46,987 - searcharray.indexing - INFO - Inverting docs->terms\n",
      "2024-10-31 11:58:46,988 - searcharray.indexing - INFO - Encoding positions to bit array\n",
      "2024-10-31 11:58:46,988 - searcharray.indexing - INFO - Batch tokenization complete\n",
      "2024-10-31 11:58:46,988 - searcharray.indexing - INFO - (main thread) Processing 1 batch results\n",
      "2024-10-31 11:58:46,989 - searcharray.indexing - INFO - Indexing from tokenization complete\n",
      "2024-10-31 11:58:46,999 - searcharray.indexing - INFO - Indexing begins w/ 4 workers\n",
      "2024-10-31 11:58:47,000 - searcharray.indexing - INFO - 0 Batch Start tokenization\n",
      "2024-10-31 11:58:47,000 - searcharray.indexing - INFO - Tokenizing 1 documents\n",
      "2024-10-31 11:58:47,001 - searcharray.indexing - INFO - Tokenization -- vstacking\n",
      "2024-10-31 11:58:47,001 - searcharray.indexing - INFO - Tokenization -- DONE\n",
      "2024-10-31 11:58:47,002 - searcharray.indexing - INFO - Inverting docs->terms\n",
      "2024-10-31 11:58:47,002 - searcharray.indexing - INFO - Encoding positions to bit array\n",
      "2024-10-31 11:58:47,002 - searcharray.indexing - INFO - Batch tokenization complete\n",
      "2024-10-31 11:58:47,003 - searcharray.indexing - INFO - (main thread) Processing 1 batch results\n",
      "2024-10-31 11:58:47,003 - searcharray.indexing - INFO - Indexing from tokenization complete\n",
      "2024-10-31 11:58:47,019 - searcharray.indexing - INFO - Indexing begins w/ 4 workers\n",
      "2024-10-31 11:58:47,020 - searcharray.indexing - INFO - 0 Batch Start tokenization\n",
      "2024-10-31 11:58:47,021 - searcharray.indexing - INFO - Tokenizing 5 documents\n",
      "2024-10-31 11:58:47,021 - searcharray.indexing - INFO - Tokenization -- vstacking\n",
      "2024-10-31 11:58:47,021 - searcharray.indexing - INFO - Tokenization -- DONE\n",
      "2024-10-31 11:58:47,022 - searcharray.indexing - INFO - Inverting docs->terms\n",
      "2024-10-31 11:58:47,022 - searcharray.indexing - INFO - Encoding positions to bit array\n",
      "2024-10-31 11:58:47,022 - searcharray.indexing - INFO - Batch tokenization complete\n",
      "2024-10-31 11:58:47,023 - searcharray.indexing - INFO - (main thread) Processing 1 batch results\n",
      "2024-10-31 11:58:47,023 - searcharray.indexing - INFO - Indexing from tokenization complete\n",
      "2024-10-31 11:58:47,034 - searcharray.indexing - INFO - Indexing begins w/ 4 workers\n",
      "2024-10-31 11:58:47,035 - searcharray.indexing - INFO - 0 Batch Start tokenization\n",
      "2024-10-31 11:58:47,036 - searcharray.indexing - INFO - Tokenizing 3 documents\n",
      "2024-10-31 11:58:47,036 - searcharray.indexing - INFO - Tokenization -- vstacking\n",
      "2024-10-31 11:58:47,036 - searcharray.indexing - INFO - Tokenization -- DONE\n",
      "2024-10-31 11:58:47,036 - searcharray.indexing - INFO - Inverting docs->terms\n",
      "2024-10-31 11:58:47,037 - searcharray.indexing - INFO - Encoding positions to bit array\n",
      "2024-10-31 11:58:47,037 - searcharray.indexing - INFO - Batch tokenization complete\n",
      "2024-10-31 11:58:47,037 - searcharray.indexing - INFO - (main thread) Processing 1 batch results\n",
      "2024-10-31 11:58:47,038 - searcharray.indexing - INFO - Indexing from tokenization complete\n",
      "2024-10-31 11:58:47,046 - searcharray.indexing - INFO - Indexing begins w/ 4 workers\n",
      "2024-10-31 11:58:47,047 - searcharray.indexing - INFO - 0 Batch Start tokenization\n",
      "2024-10-31 11:58:47,047 - searcharray.indexing - INFO - Tokenizing 10 documents\n",
      "2024-10-31 11:58:47,048 - searcharray.indexing - INFO - Tokenization -- vstacking\n",
      "2024-10-31 11:58:47,048 - searcharray.indexing - INFO - Tokenization -- DONE\n",
      "2024-10-31 11:58:47,049 - searcharray.indexing - INFO - Inverting docs->terms\n",
      "2024-10-31 11:58:47,049 - searcharray.indexing - INFO - Encoding positions to bit array\n",
      "2024-10-31 11:58:47,049 - searcharray.indexing - INFO - Batch tokenization complete\n",
      "2024-10-31 11:58:47,050 - searcharray.indexing - INFO - (main thread) Processing 1 batch results\n",
      "2024-10-31 11:58:47,050 - searcharray.indexing - INFO - Indexing from tokenization complete\n",
      "2024-10-31 11:58:47,057 - searcharray.indexing - INFO - Indexing begins w/ 4 workers\n",
      "2024-10-31 11:58:47,058 - searcharray.indexing - INFO - 0 Batch Start tokenization\n",
      "2024-10-31 11:58:47,059 - searcharray.indexing - INFO - Tokenizing 2 documents\n",
      "2024-10-31 11:58:47,060 - searcharray.indexing - INFO - Tokenization -- vstacking\n",
      "2024-10-31 11:58:47,060 - searcharray.indexing - INFO - Tokenization -- DONE\n",
      "2024-10-31 11:58:47,061 - searcharray.indexing - INFO - Inverting docs->terms\n",
      "2024-10-31 11:58:47,061 - searcharray.indexing - INFO - Encoding positions to bit array\n",
      "2024-10-31 11:58:47,062 - searcharray.indexing - INFO - Batch tokenization complete\n",
      "2024-10-31 11:58:47,062 - searcharray.indexing - INFO - (main thread) Processing 1 batch results\n",
      "2024-10-31 11:58:47,063 - searcharray.indexing - INFO - Indexing from tokenization complete\n",
      "2024-10-31 11:58:47,074 - searcharray.indexing - INFO - Indexing begins w/ 4 workers\n",
      "2024-10-31 11:58:47,074 - searcharray.indexing - INFO - 0 Batch Start tokenization\n",
      "2024-10-31 11:58:47,075 - searcharray.indexing - INFO - Tokenizing 10 documents\n",
      "2024-10-31 11:58:47,075 - searcharray.indexing - INFO - Tokenization -- vstacking\n",
      "2024-10-31 11:58:47,076 - searcharray.indexing - INFO - Tokenization -- DONE\n",
      "2024-10-31 11:58:47,076 - searcharray.indexing - INFO - Inverting docs->terms\n",
      "2024-10-31 11:58:47,077 - searcharray.indexing - INFO - Encoding positions to bit array\n",
      "2024-10-31 11:58:47,077 - searcharray.indexing - INFO - Batch tokenization complete\n",
      "2024-10-31 11:58:47,077 - searcharray.indexing - INFO - (main thread) Processing 1 batch results\n",
      "2024-10-31 11:58:47,078 - searcharray.indexing - INFO - Indexing from tokenization complete\n",
      "2024-10-31 11:58:47,087 - searcharray.indexing - INFO - Indexing begins w/ 4 workers\n",
      "2024-10-31 11:58:47,088 - searcharray.indexing - INFO - 0 Batch Start tokenization\n",
      "2024-10-31 11:58:47,088 - searcharray.indexing - INFO - Tokenizing 10 documents\n",
      "2024-10-31 11:58:47,089 - searcharray.indexing - INFO - Tokenization -- vstacking\n",
      "2024-10-31 11:58:47,089 - searcharray.indexing - INFO - Tokenization -- DONE\n",
      "2024-10-31 11:58:47,090 - searcharray.indexing - INFO - Inverting docs->terms\n",
      "2024-10-31 11:58:47,090 - searcharray.indexing - INFO - Encoding positions to bit array\n",
      "2024-10-31 11:58:47,091 - searcharray.indexing - INFO - Batch tokenization complete\n",
      "2024-10-31 11:58:47,091 - searcharray.indexing - INFO - (main thread) Processing 1 batch results\n",
      "2024-10-31 11:58:47,091 - searcharray.indexing - INFO - Indexing from tokenization complete\n",
      "2024-10-31 11:58:47,100 - searcharray.indexing - INFO - Indexing begins w/ 4 workers\n",
      "2024-10-31 11:58:47,101 - searcharray.indexing - INFO - 0 Batch Start tokenization\n",
      "2024-10-31 11:58:47,102 - searcharray.indexing - INFO - Tokenizing 10 documents\n",
      "2024-10-31 11:58:47,102 - searcharray.indexing - INFO - Tokenization -- vstacking\n",
      "2024-10-31 11:58:47,102 - searcharray.indexing - INFO - Tokenization -- DONE\n",
      "2024-10-31 11:58:47,103 - searcharray.indexing - INFO - Inverting docs->terms\n",
      "2024-10-31 11:58:47,103 - searcharray.indexing - INFO - Encoding positions to bit array\n",
      "2024-10-31 11:58:47,103 - searcharray.indexing - INFO - Batch tokenization complete\n",
      "2024-10-31 11:58:47,103 - searcharray.indexing - INFO - (main thread) Processing 1 batch results\n",
      "2024-10-31 11:58:47,104 - searcharray.indexing - INFO - Indexing from tokenization complete\n",
      "2024-10-31 11:58:47,111 - searcharray.indexing - INFO - Indexing begins w/ 4 workers\n",
      "2024-10-31 11:58:47,111 - searcharray.indexing - INFO - 0 Batch Start tokenization\n",
      "2024-10-31 11:58:47,112 - searcharray.indexing - INFO - Tokenizing 10 documents\n",
      "2024-10-31 11:58:47,112 - searcharray.indexing - INFO - Tokenization -- vstacking\n",
      "2024-10-31 11:58:47,112 - searcharray.indexing - INFO - Tokenization -- DONE\n",
      "2024-10-31 11:58:47,112 - searcharray.indexing - INFO - Inverting docs->terms\n",
      "2024-10-31 11:58:47,113 - searcharray.indexing - INFO - Encoding positions to bit array\n",
      "2024-10-31 11:58:47,113 - searcharray.indexing - INFO - Batch tokenization complete\n",
      "2024-10-31 11:58:47,113 - searcharray.indexing - INFO - (main thread) Processing 1 batch results\n",
      "2024-10-31 11:58:47,114 - searcharray.indexing - INFO - Indexing from tokenization complete\n",
      "2024-10-31 11:58:47,122 - searcharray.indexing - INFO - Indexing begins w/ 4 workers\n",
      "2024-10-31 11:58:47,123 - searcharray.indexing - INFO - 0 Batch Start tokenization\n",
      "2024-10-31 11:58:47,124 - searcharray.indexing - INFO - Tokenizing 10 documents\n",
      "2024-10-31 11:58:47,124 - searcharray.indexing - INFO - Tokenization -- vstacking\n",
      "2024-10-31 11:58:47,125 - searcharray.indexing - INFO - Tokenization -- DONE\n",
      "2024-10-31 11:58:47,125 - searcharray.indexing - INFO - Inverting docs->terms\n",
      "2024-10-31 11:58:47,126 - searcharray.indexing - INFO - Encoding positions to bit array\n",
      "2024-10-31 11:58:47,126 - searcharray.indexing - INFO - Batch tokenization complete\n",
      "2024-10-31 11:58:47,126 - searcharray.indexing - INFO - (main thread) Processing 1 batch results\n",
      "2024-10-31 11:58:47,127 - searcharray.indexing - INFO - Indexing from tokenization complete\n",
      "2024-10-31 11:58:47,135 - searcharray.indexing - INFO - Indexing begins w/ 4 workers\n",
      "2024-10-31 11:58:47,135 - searcharray.indexing - INFO - 0 Batch Start tokenization\n",
      "2024-10-31 11:58:47,136 - searcharray.indexing - INFO - Tokenizing 10 documents\n",
      "2024-10-31 11:58:47,136 - searcharray.indexing - INFO - Tokenization -- vstacking\n",
      "2024-10-31 11:58:47,136 - searcharray.indexing - INFO - Tokenization -- DONE\n",
      "2024-10-31 11:58:47,137 - searcharray.indexing - INFO - Inverting docs->terms\n",
      "2024-10-31 11:58:47,137 - searcharray.indexing - INFO - Encoding positions to bit array\n",
      "2024-10-31 11:58:47,138 - searcharray.indexing - INFO - Batch tokenization complete\n",
      "2024-10-31 11:58:47,138 - searcharray.indexing - INFO - (main thread) Processing 1 batch results\n",
      "2024-10-31 11:58:47,138 - searcharray.indexing - INFO - Indexing from tokenization complete\n",
      "2024-10-31 11:58:47,154 - searcharray.indexing - INFO - Indexing begins w/ 4 workers\n",
      "2024-10-31 11:58:47,155 - searcharray.indexing - INFO - 0 Batch Start tokenization\n",
      "2024-10-31 11:58:47,155 - searcharray.indexing - INFO - Tokenizing 10 documents\n",
      "2024-10-31 11:58:47,156 - searcharray.indexing - INFO - Tokenization -- vstacking\n",
      "2024-10-31 11:58:47,156 - searcharray.indexing - INFO - Tokenization -- DONE\n",
      "2024-10-31 11:58:47,157 - searcharray.indexing - INFO - Inverting docs->terms\n",
      "2024-10-31 11:58:47,157 - searcharray.indexing - INFO - Encoding positions to bit array\n",
      "2024-10-31 11:58:47,157 - searcharray.indexing - INFO - Batch tokenization complete\n",
      "2024-10-31 11:58:47,158 - searcharray.indexing - INFO - (main thread) Processing 1 batch results\n",
      "2024-10-31 11:58:47,158 - searcharray.indexing - INFO - Indexing from tokenization complete\n",
      "2024-10-31 11:58:47,166 - searcharray.indexing - INFO - Indexing begins w/ 4 workers\n",
      "2024-10-31 11:58:47,167 - searcharray.indexing - INFO - 0 Batch Start tokenization\n",
      "2024-10-31 11:58:47,167 - searcharray.indexing - INFO - Tokenizing 6 documents\n",
      "2024-10-31 11:58:47,168 - searcharray.indexing - INFO - Tokenization -- vstacking\n",
      "2024-10-31 11:58:47,168 - searcharray.indexing - INFO - Tokenization -- DONE\n",
      "2024-10-31 11:58:47,168 - searcharray.indexing - INFO - Inverting docs->terms\n",
      "2024-10-31 11:58:47,168 - searcharray.indexing - INFO - Encoding positions to bit array\n",
      "2024-10-31 11:58:47,169 - searcharray.indexing - INFO - Batch tokenization complete\n",
      "2024-10-31 11:58:47,169 - searcharray.indexing - INFO - (main thread) Processing 1 batch results\n",
      "2024-10-31 11:58:47,169 - searcharray.indexing - INFO - Indexing from tokenization complete\n",
      "2024-10-31 11:58:47,175 - searcharray.indexing - INFO - Indexing begins w/ 4 workers\n",
      "2024-10-31 11:58:47,176 - searcharray.indexing - INFO - 0 Batch Start tokenization\n",
      "2024-10-31 11:58:47,177 - searcharray.indexing - INFO - Tokenizing 3 documents\n",
      "2024-10-31 11:58:47,177 - searcharray.indexing - INFO - Tokenization -- vstacking\n",
      "2024-10-31 11:58:47,177 - searcharray.indexing - INFO - Tokenization -- DONE\n",
      "2024-10-31 11:58:47,178 - searcharray.indexing - INFO - Inverting docs->terms\n",
      "2024-10-31 11:58:47,178 - searcharray.indexing - INFO - Encoding positions to bit array\n",
      "2024-10-31 11:58:47,178 - searcharray.indexing - INFO - Batch tokenization complete\n",
      "2024-10-31 11:58:47,179 - searcharray.indexing - INFO - (main thread) Processing 1 batch results\n",
      "2024-10-31 11:58:47,179 - searcharray.indexing - INFO - Indexing from tokenization complete\n",
      "2024-10-31 11:58:47,193 - searcharray.indexing - INFO - Indexing begins w/ 4 workers\n",
      "2024-10-31 11:58:47,193 - searcharray.indexing - INFO - 0 Batch Start tokenization\n",
      "2024-10-31 11:58:47,194 - searcharray.indexing - INFO - Tokenizing 10 documents\n",
      "2024-10-31 11:58:47,194 - searcharray.indexing - INFO - Tokenization -- vstacking\n",
      "2024-10-31 11:58:47,195 - searcharray.indexing - INFO - Tokenization -- DONE\n",
      "2024-10-31 11:58:47,195 - searcharray.indexing - INFO - Inverting docs->terms\n",
      "2024-10-31 11:58:47,195 - searcharray.indexing - INFO - Encoding positions to bit array\n",
      "2024-10-31 11:58:47,196 - searcharray.indexing - INFO - Batch tokenization complete\n",
      "2024-10-31 11:58:47,196 - searcharray.indexing - INFO - (main thread) Processing 1 batch results\n",
      "2024-10-31 11:58:47,197 - searcharray.indexing - INFO - Indexing from tokenization complete\n",
      "2024-10-31 11:58:47,211 - searcharray.indexing - INFO - Indexing begins w/ 4 workers\n",
      "2024-10-31 11:58:47,212 - searcharray.indexing - INFO - 0 Batch Start tokenization\n",
      "2024-10-31 11:58:47,212 - searcharray.indexing - INFO - Tokenizing 10 documents\n",
      "2024-10-31 11:58:47,212 - searcharray.indexing - INFO - Tokenization -- vstacking\n",
      "2024-10-31 11:58:47,212 - searcharray.indexing - INFO - Tokenization -- DONE\n",
      "2024-10-31 11:58:47,213 - searcharray.indexing - INFO - Inverting docs->terms\n",
      "2024-10-31 11:58:47,213 - searcharray.indexing - INFO - Encoding positions to bit array\n",
      "2024-10-31 11:58:47,213 - searcharray.indexing - INFO - Batch tokenization complete\n",
      "2024-10-31 11:58:47,214 - searcharray.indexing - INFO - (main thread) Processing 1 batch results\n",
      "2024-10-31 11:58:47,214 - searcharray.indexing - INFO - Indexing from tokenization complete\n",
      "2024-10-31 11:58:47,223 - searcharray.indexing - INFO - Indexing begins w/ 4 workers\n",
      "2024-10-31 11:58:47,223 - searcharray.indexing - INFO - 0 Batch Start tokenization\n",
      "2024-10-31 11:58:47,224 - searcharray.indexing - INFO - Tokenizing 10 documents\n",
      "2024-10-31 11:58:47,224 - searcharray.indexing - INFO - Tokenization -- vstacking\n",
      "2024-10-31 11:58:47,224 - searcharray.indexing - INFO - Tokenization -- DONE\n",
      "2024-10-31 11:58:47,225 - searcharray.indexing - INFO - Inverting docs->terms\n",
      "2024-10-31 11:58:47,225 - searcharray.indexing - INFO - Encoding positions to bit array\n",
      "2024-10-31 11:58:47,225 - searcharray.indexing - INFO - Batch tokenization complete\n",
      "2024-10-31 11:58:47,226 - searcharray.indexing - INFO - (main thread) Processing 1 batch results\n",
      "2024-10-31 11:58:47,226 - searcharray.indexing - INFO - Indexing from tokenization complete\n",
      "2024-10-31 11:58:47,233 - searcharray.indexing - INFO - Indexing begins w/ 4 workers\n",
      "2024-10-31 11:58:47,234 - searcharray.indexing - INFO - 0 Batch Start tokenization\n",
      "2024-10-31 11:58:47,234 - searcharray.indexing - INFO - Tokenizing 10 documents\n",
      "2024-10-31 11:58:47,235 - searcharray.indexing - INFO - Tokenization -- vstacking\n",
      "2024-10-31 11:58:47,235 - searcharray.indexing - INFO - Tokenization -- DONE\n",
      "2024-10-31 11:58:47,235 - searcharray.indexing - INFO - Inverting docs->terms\n",
      "2024-10-31 11:58:47,235 - searcharray.indexing - INFO - Encoding positions to bit array\n",
      "2024-10-31 11:58:47,236 - searcharray.indexing - INFO - Batch tokenization complete\n",
      "2024-10-31 11:58:47,236 - searcharray.indexing - INFO - (main thread) Processing 1 batch results\n",
      "2024-10-31 11:58:47,237 - searcharray.indexing - INFO - Indexing from tokenization complete\n",
      "2024-10-31 11:58:47,249 - searcharray.indexing - INFO - Indexing begins w/ 4 workers\n",
      "2024-10-31 11:58:47,250 - searcharray.indexing - INFO - 0 Batch Start tokenization\n",
      "2024-10-31 11:58:47,250 - searcharray.indexing - INFO - Tokenizing 10 documents\n",
      "2024-10-31 11:58:47,251 - searcharray.indexing - INFO - Tokenization -- vstacking\n",
      "2024-10-31 11:58:47,252 - searcharray.indexing - INFO - Tokenization -- DONE\n",
      "2024-10-31 11:58:47,252 - searcharray.indexing - INFO - Inverting docs->terms\n",
      "2024-10-31 11:58:47,252 - searcharray.indexing - INFO - Encoding positions to bit array\n",
      "2024-10-31 11:58:47,253 - searcharray.indexing - INFO - Batch tokenization complete\n",
      "2024-10-31 11:58:47,253 - searcharray.indexing - INFO - (main thread) Processing 1 batch results\n",
      "2024-10-31 11:58:47,254 - searcharray.indexing - INFO - Indexing from tokenization complete\n",
      "2024-10-31 11:58:47,263 - searcharray.indexing - INFO - Indexing begins w/ 4 workers\n",
      "2024-10-31 11:58:47,263 - searcharray.indexing - INFO - 0 Batch Start tokenization\n",
      "2024-10-31 11:58:47,264 - searcharray.indexing - INFO - Tokenizing 10 documents\n",
      "2024-10-31 11:58:47,265 - searcharray.indexing - INFO - Tokenization -- vstacking\n",
      "2024-10-31 11:58:47,265 - searcharray.indexing - INFO - Tokenization -- DONE\n",
      "2024-10-31 11:58:47,266 - searcharray.indexing - INFO - Inverting docs->terms\n",
      "2024-10-31 11:58:47,266 - searcharray.indexing - INFO - Encoding positions to bit array\n",
      "2024-10-31 11:58:47,266 - searcharray.indexing - INFO - Batch tokenization complete\n",
      "2024-10-31 11:58:47,267 - searcharray.indexing - INFO - (main thread) Processing 1 batch results\n",
      "2024-10-31 11:58:47,268 - searcharray.indexing - INFO - Indexing from tokenization complete\n",
      "2024-10-31 11:58:47,283 - searcharray.indexing - INFO - Indexing begins w/ 4 workers\n",
      "2024-10-31 11:58:47,284 - searcharray.indexing - INFO - 0 Batch Start tokenization\n",
      "2024-10-31 11:58:47,285 - searcharray.indexing - INFO - Tokenizing 6 documents\n",
      "2024-10-31 11:58:47,285 - searcharray.indexing - INFO - Tokenization -- vstacking\n",
      "2024-10-31 11:58:47,285 - searcharray.indexing - INFO - Tokenization -- DONE\n",
      "2024-10-31 11:58:47,286 - searcharray.indexing - INFO - Inverting docs->terms\n",
      "2024-10-31 11:58:47,286 - searcharray.indexing - INFO - Encoding positions to bit array\n",
      "2024-10-31 11:58:47,286 - searcharray.indexing - INFO - Batch tokenization complete\n",
      "2024-10-31 11:58:47,287 - searcharray.indexing - INFO - (main thread) Processing 1 batch results\n",
      "2024-10-31 11:58:47,287 - searcharray.indexing - INFO - Indexing from tokenization complete\n",
      "2024-10-31 11:58:47,295 - searcharray.indexing - INFO - Indexing begins w/ 4 workers\n",
      "2024-10-31 11:58:47,296 - searcharray.indexing - INFO - 0 Batch Start tokenization\n",
      "2024-10-31 11:58:47,297 - searcharray.indexing - INFO - Tokenizing 10 documents\n",
      "2024-10-31 11:58:47,297 - searcharray.indexing - INFO - Tokenization -- vstacking\n",
      "2024-10-31 11:58:47,297 - searcharray.indexing - INFO - Tokenization -- DONE\n",
      "2024-10-31 11:58:47,297 - searcharray.indexing - INFO - Inverting docs->terms\n",
      "2024-10-31 11:58:47,298 - searcharray.indexing - INFO - Encoding positions to bit array\n",
      "2024-10-31 11:58:47,298 - searcharray.indexing - INFO - Batch tokenization complete\n",
      "2024-10-31 11:58:47,298 - searcharray.indexing - INFO - (main thread) Processing 1 batch results\n",
      "2024-10-31 11:58:47,299 - searcharray.indexing - INFO - Indexing from tokenization complete\n",
      "2024-10-31 11:58:47,307 - searcharray.indexing - INFO - Indexing begins w/ 4 workers\n",
      "2024-10-31 11:58:47,307 - searcharray.indexing - INFO - 0 Batch Start tokenization\n",
      "2024-10-31 11:58:47,308 - searcharray.indexing - INFO - Tokenizing 10 documents\n",
      "2024-10-31 11:58:47,308 - searcharray.indexing - INFO - Tokenization -- vstacking\n",
      "2024-10-31 11:58:47,309 - searcharray.indexing - INFO - Tokenization -- DONE\n",
      "2024-10-31 11:58:47,309 - searcharray.indexing - INFO - Inverting docs->terms\n",
      "2024-10-31 11:58:47,309 - searcharray.indexing - INFO - Encoding positions to bit array\n",
      "2024-10-31 11:58:47,310 - searcharray.indexing - INFO - Batch tokenization complete\n",
      "2024-10-31 11:58:47,311 - searcharray.indexing - INFO - (main thread) Processing 1 batch results\n",
      "2024-10-31 11:58:47,311 - searcharray.indexing - INFO - Indexing from tokenization complete\n",
      "2024-10-31 11:58:47,320 - searcharray.indexing - INFO - Indexing begins w/ 4 workers\n",
      "2024-10-31 11:58:47,320 - searcharray.indexing - INFO - 0 Batch Start tokenization\n",
      "2024-10-31 11:58:47,321 - searcharray.indexing - INFO - Tokenizing 10 documents\n",
      "2024-10-31 11:58:47,321 - searcharray.indexing - INFO - Tokenization -- vstacking\n",
      "2024-10-31 11:58:47,322 - searcharray.indexing - INFO - Tokenization -- DONE\n",
      "2024-10-31 11:58:47,322 - searcharray.indexing - INFO - Inverting docs->terms\n",
      "2024-10-31 11:58:47,322 - searcharray.indexing - INFO - Encoding positions to bit array\n",
      "2024-10-31 11:58:47,323 - searcharray.indexing - INFO - Batch tokenization complete\n",
      "2024-10-31 11:58:47,323 - searcharray.indexing - INFO - (main thread) Processing 1 batch results\n",
      "2024-10-31 11:58:47,324 - searcharray.indexing - INFO - Indexing from tokenization complete\n",
      "2024-10-31 11:58:47,331 - searcharray.indexing - INFO - Indexing begins w/ 4 workers\n",
      "2024-10-31 11:58:47,332 - searcharray.indexing - INFO - 0 Batch Start tokenization\n",
      "2024-10-31 11:58:47,332 - searcharray.indexing - INFO - Tokenizing 10 documents\n",
      "2024-10-31 11:58:47,333 - searcharray.indexing - INFO - Tokenization -- vstacking\n",
      "2024-10-31 11:58:47,333 - searcharray.indexing - INFO - Tokenization -- DONE\n",
      "2024-10-31 11:58:47,333 - searcharray.indexing - INFO - Inverting docs->terms\n",
      "2024-10-31 11:58:47,334 - searcharray.indexing - INFO - Encoding positions to bit array\n",
      "2024-10-31 11:58:47,334 - searcharray.indexing - INFO - Batch tokenization complete\n",
      "2024-10-31 11:58:47,334 - searcharray.indexing - INFO - (main thread) Processing 1 batch results\n",
      "2024-10-31 11:58:47,335 - searcharray.indexing - INFO - Indexing from tokenization complete\n",
      "2024-10-31 11:58:47,345 - searcharray.indexing - INFO - Indexing begins w/ 4 workers\n",
      "2024-10-31 11:58:47,346 - searcharray.indexing - INFO - 0 Batch Start tokenization\n",
      "2024-10-31 11:58:47,346 - searcharray.indexing - INFO - Tokenizing 10 documents\n",
      "2024-10-31 11:58:47,347 - searcharray.indexing - INFO - Tokenization -- vstacking\n",
      "2024-10-31 11:58:47,347 - searcharray.indexing - INFO - Tokenization -- DONE\n",
      "2024-10-31 11:58:47,347 - searcharray.indexing - INFO - Inverting docs->terms\n",
      "2024-10-31 11:58:47,348 - searcharray.indexing - INFO - Encoding positions to bit array\n",
      "2024-10-31 11:58:47,348 - searcharray.indexing - INFO - Batch tokenization complete\n",
      "2024-10-31 11:58:47,348 - searcharray.indexing - INFO - (main thread) Processing 1 batch results\n",
      "2024-10-31 11:58:47,349 - searcharray.indexing - INFO - Indexing from tokenization complete\n",
      "2024-10-31 11:58:47,356 - searcharray.indexing - INFO - Indexing begins w/ 4 workers\n",
      "2024-10-31 11:58:47,356 - searcharray.indexing - INFO - 0 Batch Start tokenization\n",
      "2024-10-31 11:58:47,357 - searcharray.indexing - INFO - Tokenizing 10 documents\n",
      "2024-10-31 11:58:47,357 - searcharray.indexing - INFO - Tokenization -- vstacking\n",
      "2024-10-31 11:58:47,358 - searcharray.indexing - INFO - Tokenization -- DONE\n",
      "2024-10-31 11:58:47,358 - searcharray.indexing - INFO - Inverting docs->terms\n",
      "2024-10-31 11:58:47,358 - searcharray.indexing - INFO - Encoding positions to bit array\n",
      "2024-10-31 11:58:47,359 - searcharray.indexing - INFO - Batch tokenization complete\n",
      "2024-10-31 11:58:47,359 - searcharray.indexing - INFO - (main thread) Processing 1 batch results\n",
      "2024-10-31 11:58:47,360 - searcharray.indexing - INFO - Indexing from tokenization complete\n",
      "2024-10-31 11:58:47,367 - searcharray.indexing - INFO - Indexing begins w/ 4 workers\n",
      "2024-10-31 11:58:47,368 - searcharray.indexing - INFO - 0 Batch Start tokenization\n",
      "2024-10-31 11:58:47,369 - searcharray.indexing - INFO - Tokenizing 10 documents\n",
      "2024-10-31 11:58:47,369 - searcharray.indexing - INFO - Tokenization -- vstacking\n",
      "2024-10-31 11:58:47,369 - searcharray.indexing - INFO - Tokenization -- DONE\n",
      "2024-10-31 11:58:47,370 - searcharray.indexing - INFO - Inverting docs->terms\n",
      "2024-10-31 11:58:47,370 - searcharray.indexing - INFO - Encoding positions to bit array\n",
      "2024-10-31 11:58:47,371 - searcharray.indexing - INFO - Batch tokenization complete\n",
      "2024-10-31 11:58:47,371 - searcharray.indexing - INFO - (main thread) Processing 1 batch results\n",
      "2024-10-31 11:58:47,372 - searcharray.indexing - INFO - Indexing from tokenization complete\n",
      "2024-10-31 11:58:47,382 - searcharray.indexing - INFO - Indexing begins w/ 4 workers\n",
      "2024-10-31 11:58:47,383 - searcharray.indexing - INFO - 0 Batch Start tokenization\n",
      "2024-10-31 11:58:47,384 - searcharray.indexing - INFO - Tokenizing 10 documents\n",
      "2024-10-31 11:58:47,384 - searcharray.indexing - INFO - Tokenization -- vstacking\n",
      "2024-10-31 11:58:47,384 - searcharray.indexing - INFO - Tokenization -- DONE\n",
      "2024-10-31 11:58:47,385 - searcharray.indexing - INFO - Inverting docs->terms\n",
      "2024-10-31 11:58:47,385 - searcharray.indexing - INFO - Encoding positions to bit array\n",
      "2024-10-31 11:58:47,385 - searcharray.indexing - INFO - Batch tokenization complete\n",
      "2024-10-31 11:58:47,386 - searcharray.indexing - INFO - (main thread) Processing 1 batch results\n",
      "2024-10-31 11:58:47,386 - searcharray.indexing - INFO - Indexing from tokenization complete\n",
      "2024-10-31 11:58:47,397 - searcharray.indexing - INFO - Indexing begins w/ 4 workers\n",
      "2024-10-31 11:58:47,397 - searcharray.indexing - INFO - 0 Batch Start tokenization\n",
      "2024-10-31 11:58:47,398 - searcharray.indexing - INFO - Tokenizing 3 documents\n",
      "2024-10-31 11:58:47,398 - searcharray.indexing - INFO - Tokenization -- vstacking\n",
      "2024-10-31 11:58:47,398 - searcharray.indexing - INFO - Tokenization -- DONE\n",
      "2024-10-31 11:58:47,399 - searcharray.indexing - INFO - Inverting docs->terms\n",
      "2024-10-31 11:58:47,399 - searcharray.indexing - INFO - Encoding positions to bit array\n",
      "2024-10-31 11:58:47,399 - searcharray.indexing - INFO - Batch tokenization complete\n",
      "2024-10-31 11:58:47,399 - searcharray.indexing - INFO - (main thread) Processing 1 batch results\n",
      "2024-10-31 11:58:47,400 - searcharray.indexing - INFO - Indexing from tokenization complete\n",
      "2024-10-31 11:58:47,410 - searcharray.indexing - INFO - Indexing begins w/ 4 workers\n",
      "2024-10-31 11:58:47,411 - searcharray.indexing - INFO - 0 Batch Start tokenization\n",
      "2024-10-31 11:58:47,411 - searcharray.indexing - INFO - Tokenizing 1 documents\n",
      "2024-10-31 11:58:47,412 - searcharray.indexing - INFO - Tokenization -- vstacking\n",
      "2024-10-31 11:58:47,412 - searcharray.indexing - INFO - Tokenization -- DONE\n",
      "2024-10-31 11:58:47,412 - searcharray.indexing - INFO - Inverting docs->terms\n",
      "2024-10-31 11:58:47,412 - searcharray.indexing - INFO - Encoding positions to bit array\n",
      "2024-10-31 11:58:47,413 - searcharray.indexing - INFO - Batch tokenization complete\n",
      "2024-10-31 11:58:47,413 - searcharray.indexing - INFO - (main thread) Processing 1 batch results\n",
      "2024-10-31 11:58:47,413 - searcharray.indexing - INFO - Indexing from tokenization complete\n",
      "2024-10-31 11:58:47,419 - searcharray.indexing - INFO - Indexing begins w/ 4 workers\n",
      "2024-10-31 11:58:47,420 - searcharray.indexing - INFO - 0 Batch Start tokenization\n",
      "2024-10-31 11:58:47,420 - searcharray.indexing - INFO - Tokenizing 10 documents\n",
      "2024-10-31 11:58:47,421 - searcharray.indexing - INFO - Tokenization -- vstacking\n",
      "2024-10-31 11:58:47,421 - searcharray.indexing - INFO - Tokenization -- DONE\n",
      "2024-10-31 11:58:47,421 - searcharray.indexing - INFO - Inverting docs->terms\n",
      "2024-10-31 11:58:47,421 - searcharray.indexing - INFO - Encoding positions to bit array\n",
      "2024-10-31 11:58:47,422 - searcharray.indexing - INFO - Batch tokenization complete\n",
      "2024-10-31 11:58:47,422 - searcharray.indexing - INFO - (main thread) Processing 1 batch results\n",
      "2024-10-31 11:58:47,423 - searcharray.indexing - INFO - Indexing from tokenization complete\n",
      "2024-10-31 11:58:47,430 - searcharray.indexing - INFO - Indexing begins w/ 4 workers\n",
      "2024-10-31 11:58:47,430 - searcharray.indexing - INFO - 0 Batch Start tokenization\n",
      "2024-10-31 11:58:47,430 - searcharray.indexing - INFO - Tokenizing 10 documents\n",
      "2024-10-31 11:58:47,431 - searcharray.indexing - INFO - Tokenization -- vstacking\n",
      "2024-10-31 11:58:47,431 - searcharray.indexing - INFO - Tokenization -- DONE\n",
      "2024-10-31 11:58:47,432 - searcharray.indexing - INFO - Inverting docs->terms\n",
      "2024-10-31 11:58:47,432 - searcharray.indexing - INFO - Encoding positions to bit array\n",
      "2024-10-31 11:58:47,432 - searcharray.indexing - INFO - Batch tokenization complete\n",
      "2024-10-31 11:58:47,432 - searcharray.indexing - INFO - (main thread) Processing 1 batch results\n",
      "2024-10-31 11:58:47,433 - searcharray.indexing - INFO - Indexing from tokenization complete\n",
      "2024-10-31 11:58:47,440 - searcharray.indexing - INFO - Indexing begins w/ 4 workers\n",
      "2024-10-31 11:58:47,440 - searcharray.indexing - INFO - 0 Batch Start tokenization\n",
      "2024-10-31 11:58:47,441 - searcharray.indexing - INFO - Tokenizing 10 documents\n",
      "2024-10-31 11:58:47,441 - searcharray.indexing - INFO - Tokenization -- vstacking\n",
      "2024-10-31 11:58:47,442 - searcharray.indexing - INFO - Tokenization -- DONE\n",
      "2024-10-31 11:58:47,442 - searcharray.indexing - INFO - Inverting docs->terms\n",
      "2024-10-31 11:58:47,442 - searcharray.indexing - INFO - Encoding positions to bit array\n",
      "2024-10-31 11:58:47,443 - searcharray.indexing - INFO - Batch tokenization complete\n",
      "2024-10-31 11:58:47,443 - searcharray.indexing - INFO - (main thread) Processing 1 batch results\n",
      "2024-10-31 11:58:47,444 - searcharray.indexing - INFO - Indexing from tokenization complete\n",
      "2024-10-31 11:58:47,450 - searcharray.indexing - INFO - Indexing begins w/ 4 workers\n",
      "2024-10-31 11:58:47,451 - searcharray.indexing - INFO - 0 Batch Start tokenization\n",
      "2024-10-31 11:58:47,451 - searcharray.indexing - INFO - Tokenizing 10 documents\n",
      "2024-10-31 11:58:47,452 - searcharray.indexing - INFO - Tokenization -- vstacking\n",
      "2024-10-31 11:58:47,452 - searcharray.indexing - INFO - Tokenization -- DONE\n",
      "2024-10-31 11:58:47,452 - searcharray.indexing - INFO - Inverting docs->terms\n",
      "2024-10-31 11:58:47,453 - searcharray.indexing - INFO - Encoding positions to bit array\n",
      "2024-10-31 11:58:47,453 - searcharray.indexing - INFO - Batch tokenization complete\n",
      "2024-10-31 11:58:47,453 - searcharray.indexing - INFO - (main thread) Processing 1 batch results\n",
      "2024-10-31 11:58:47,454 - searcharray.indexing - INFO - Indexing from tokenization complete\n",
      "2024-10-31 11:58:47,461 - searcharray.indexing - INFO - Indexing begins w/ 4 workers\n",
      "2024-10-31 11:58:47,461 - searcharray.indexing - INFO - 0 Batch Start tokenization\n",
      "2024-10-31 11:58:47,462 - searcharray.indexing - INFO - Tokenizing 10 documents\n",
      "2024-10-31 11:58:47,462 - searcharray.indexing - INFO - Tokenization -- vstacking\n",
      "2024-10-31 11:58:47,463 - searcharray.indexing - INFO - Tokenization -- DONE\n",
      "2024-10-31 11:58:47,463 - searcharray.indexing - INFO - Inverting docs->terms\n",
      "2024-10-31 11:58:47,463 - searcharray.indexing - INFO - Encoding positions to bit array\n",
      "2024-10-31 11:58:47,464 - searcharray.indexing - INFO - Batch tokenization complete\n",
      "2024-10-31 11:58:47,464 - searcharray.indexing - INFO - (main thread) Processing 1 batch results\n",
      "2024-10-31 11:58:47,465 - searcharray.indexing - INFO - Indexing from tokenization complete\n",
      "2024-10-31 11:58:47,482 - searcharray.indexing - INFO - Indexing begins w/ 4 workers\n",
      "2024-10-31 11:58:47,483 - searcharray.indexing - INFO - 0 Batch Start tokenization\n",
      "2024-10-31 11:58:47,484 - searcharray.indexing - INFO - Tokenizing 10 documents\n",
      "2024-10-31 11:58:47,484 - searcharray.indexing - INFO - Tokenization -- vstacking\n",
      "2024-10-31 11:58:47,485 - searcharray.indexing - INFO - Tokenization -- DONE\n",
      "2024-10-31 11:58:47,485 - searcharray.indexing - INFO - Inverting docs->terms\n",
      "2024-10-31 11:58:47,486 - searcharray.indexing - INFO - Encoding positions to bit array\n",
      "2024-10-31 11:58:47,486 - searcharray.indexing - INFO - Batch tokenization complete\n",
      "2024-10-31 11:58:47,487 - searcharray.indexing - INFO - (main thread) Processing 1 batch results\n",
      "2024-10-31 11:58:47,487 - searcharray.indexing - INFO - Indexing from tokenization complete\n",
      "2024-10-31 11:58:47,497 - searcharray.indexing - INFO - Indexing begins w/ 4 workers\n",
      "2024-10-31 11:58:47,498 - searcharray.indexing - INFO - 0 Batch Start tokenization\n",
      "2024-10-31 11:58:47,498 - searcharray.indexing - INFO - Tokenizing 10 documents\n",
      "2024-10-31 11:58:47,499 - searcharray.indexing - INFO - Tokenization -- vstacking\n",
      "2024-10-31 11:58:47,499 - searcharray.indexing - INFO - Tokenization -- DONE\n",
      "2024-10-31 11:58:47,499 - searcharray.indexing - INFO - Inverting docs->terms\n",
      "2024-10-31 11:58:47,499 - searcharray.indexing - INFO - Encoding positions to bit array\n",
      "2024-10-31 11:58:47,501 - searcharray.indexing - INFO - Batch tokenization complete\n",
      "2024-10-31 11:58:47,503 - searcharray.indexing - INFO - (main thread) Processing 1 batch results\n",
      "2024-10-31 11:58:47,509 - searcharray.indexing - INFO - Indexing from tokenization complete\n",
      "2024-10-31 11:58:47,523 - searcharray.indexing - INFO - Indexing begins w/ 4 workers\n",
      "2024-10-31 11:58:47,524 - searcharray.indexing - INFO - 0 Batch Start tokenization\n",
      "2024-10-31 11:58:47,525 - searcharray.indexing - INFO - Tokenizing 8 documents\n",
      "2024-10-31 11:58:47,525 - searcharray.indexing - INFO - Tokenization -- vstacking\n",
      "2024-10-31 11:58:47,526 - searcharray.indexing - INFO - Tokenization -- DONE\n",
      "2024-10-31 11:58:47,526 - searcharray.indexing - INFO - Inverting docs->terms\n",
      "2024-10-31 11:58:47,527 - searcharray.indexing - INFO - Encoding positions to bit array\n",
      "2024-10-31 11:58:47,527 - searcharray.indexing - INFO - Batch tokenization complete\n",
      "2024-10-31 11:58:47,528 - searcharray.indexing - INFO - (main thread) Processing 1 batch results\n",
      "2024-10-31 11:58:47,529 - searcharray.indexing - INFO - Indexing from tokenization complete\n",
      "2024-10-31 11:58:47,537 - searcharray.indexing - INFO - Indexing begins w/ 4 workers\n",
      "2024-10-31 11:58:47,538 - searcharray.indexing - INFO - 0 Batch Start tokenization\n",
      "2024-10-31 11:58:47,538 - searcharray.indexing - INFO - Tokenizing 3 documents\n",
      "2024-10-31 11:58:47,539 - searcharray.indexing - INFO - Tokenization -- vstacking\n",
      "2024-10-31 11:58:47,539 - searcharray.indexing - INFO - Tokenization -- DONE\n",
      "2024-10-31 11:58:47,539 - searcharray.indexing - INFO - Inverting docs->terms\n",
      "2024-10-31 11:58:47,539 - searcharray.indexing - INFO - Encoding positions to bit array\n",
      "2024-10-31 11:58:47,540 - searcharray.indexing - INFO - Batch tokenization complete\n",
      "2024-10-31 11:58:47,540 - searcharray.indexing - INFO - (main thread) Processing 1 batch results\n",
      "2024-10-31 11:58:47,541 - searcharray.indexing - INFO - Indexing from tokenization complete\n",
      "2024-10-31 11:58:47,550 - searcharray.indexing - INFO - Indexing begins w/ 4 workers\n",
      "2024-10-31 11:58:47,551 - searcharray.indexing - INFO - 0 Batch Start tokenization\n",
      "2024-10-31 11:58:47,552 - searcharray.indexing - INFO - Tokenizing 10 documents\n",
      "2024-10-31 11:58:47,552 - searcharray.indexing - INFO - Tokenization -- vstacking\n",
      "2024-10-31 11:58:47,553 - searcharray.indexing - INFO - Tokenization -- DONE\n",
      "2024-10-31 11:58:47,553 - searcharray.indexing - INFO - Inverting docs->terms\n",
      "2024-10-31 11:58:47,554 - searcharray.indexing - INFO - Encoding positions to bit array\n",
      "2024-10-31 11:58:47,554 - searcharray.indexing - INFO - Batch tokenization complete\n",
      "2024-10-31 11:58:47,555 - searcharray.indexing - INFO - (main thread) Processing 1 batch results\n",
      "2024-10-31 11:58:47,556 - searcharray.indexing - INFO - Indexing from tokenization complete\n",
      "2024-10-31 11:58:47,570 - searcharray.indexing - INFO - Indexing begins w/ 4 workers\n",
      "2024-10-31 11:58:47,570 - searcharray.indexing - INFO - 0 Batch Start tokenization\n",
      "2024-10-31 11:58:47,571 - searcharray.indexing - INFO - Tokenizing 10 documents\n",
      "2024-10-31 11:58:47,572 - searcharray.indexing - INFO - Tokenization -- vstacking\n",
      "2024-10-31 11:58:47,572 - searcharray.indexing - INFO - Tokenization -- DONE\n",
      "2024-10-31 11:58:47,573 - searcharray.indexing - INFO - Inverting docs->terms\n",
      "2024-10-31 11:58:47,574 - searcharray.indexing - INFO - Encoding positions to bit array\n",
      "2024-10-31 11:58:47,575 - searcharray.indexing - INFO - Batch tokenization complete\n",
      "2024-10-31 11:58:47,576 - searcharray.indexing - INFO - (main thread) Processing 1 batch results\n",
      "2024-10-31 11:58:47,577 - searcharray.indexing - INFO - Indexing from tokenization complete\n",
      "2024-10-31 11:58:47,589 - searcharray.indexing - INFO - Indexing begins w/ 4 workers\n",
      "2024-10-31 11:58:47,590 - searcharray.indexing - INFO - 0 Batch Start tokenization\n",
      "2024-10-31 11:58:47,590 - searcharray.indexing - INFO - Tokenizing 10 documents\n",
      "2024-10-31 11:58:47,591 - searcharray.indexing - INFO - Tokenization -- vstacking\n",
      "2024-10-31 11:58:47,592 - searcharray.indexing - INFO - Tokenization -- DONE\n",
      "2024-10-31 11:58:47,592 - searcharray.indexing - INFO - Inverting docs->terms\n",
      "2024-10-31 11:58:47,592 - searcharray.indexing - INFO - Encoding positions to bit array\n",
      "2024-10-31 11:58:47,593 - searcharray.indexing - INFO - Batch tokenization complete\n",
      "2024-10-31 11:58:47,593 - searcharray.indexing - INFO - (main thread) Processing 1 batch results\n",
      "2024-10-31 11:58:47,593 - searcharray.indexing - INFO - Indexing from tokenization complete\n",
      "2024-10-31 11:58:47,603 - searcharray.indexing - INFO - Indexing begins w/ 4 workers\n",
      "2024-10-31 11:58:47,603 - searcharray.indexing - INFO - 0 Batch Start tokenization\n",
      "2024-10-31 11:58:47,604 - searcharray.indexing - INFO - Tokenizing 10 documents\n",
      "2024-10-31 11:58:47,605 - searcharray.indexing - INFO - Tokenization -- vstacking\n",
      "2024-10-31 11:58:47,605 - searcharray.indexing - INFO - Tokenization -- DONE\n",
      "2024-10-31 11:58:47,606 - searcharray.indexing - INFO - Inverting docs->terms\n",
      "2024-10-31 11:58:47,606 - searcharray.indexing - INFO - Encoding positions to bit array\n",
      "2024-10-31 11:58:47,606 - searcharray.indexing - INFO - Batch tokenization complete\n",
      "2024-10-31 11:58:47,607 - searcharray.indexing - INFO - (main thread) Processing 1 batch results\n",
      "2024-10-31 11:58:47,609 - searcharray.indexing - INFO - Indexing from tokenization complete\n",
      "2024-10-31 11:58:47,624 - searcharray.indexing - INFO - Indexing begins w/ 4 workers\n",
      "2024-10-31 11:58:47,625 - searcharray.indexing - INFO - 0 Batch Start tokenization\n",
      "2024-10-31 11:58:47,626 - searcharray.indexing - INFO - Tokenizing 10 documents\n",
      "2024-10-31 11:58:47,636 - searcharray.indexing - INFO - Tokenization -- vstacking\n",
      "2024-10-31 11:58:47,640 - searcharray.indexing - INFO - Tokenization -- DONE\n",
      "2024-10-31 11:58:47,641 - searcharray.indexing - INFO - Inverting docs->terms\n",
      "2024-10-31 11:58:47,643 - searcharray.indexing - INFO - Encoding positions to bit array\n",
      "2024-10-31 11:58:47,646 - searcharray.indexing - INFO - Batch tokenization complete\n",
      "2024-10-31 11:58:47,647 - searcharray.indexing - INFO - (main thread) Processing 1 batch results\n",
      "2024-10-31 11:58:47,651 - searcharray.indexing - INFO - Indexing from tokenization complete\n",
      "2024-10-31 11:58:47,664 - searcharray.indexing - INFO - Indexing begins w/ 4 workers\n",
      "2024-10-31 11:58:47,664 - searcharray.indexing - INFO - 0 Batch Start tokenization\n",
      "2024-10-31 11:58:47,665 - searcharray.indexing - INFO - Tokenizing 10 documents\n",
      "2024-10-31 11:58:47,666 - searcharray.indexing - INFO - Tokenization -- vstacking\n",
      "2024-10-31 11:58:47,667 - searcharray.indexing - INFO - Tokenization -- DONE\n",
      "2024-10-31 11:58:47,668 - searcharray.indexing - INFO - Inverting docs->terms\n",
      "2024-10-31 11:58:47,669 - searcharray.indexing - INFO - Encoding positions to bit array\n",
      "2024-10-31 11:58:47,669 - searcharray.indexing - INFO - Batch tokenization complete\n",
      "2024-10-31 11:58:47,670 - searcharray.indexing - INFO - (main thread) Processing 1 batch results\n",
      "2024-10-31 11:58:47,671 - searcharray.indexing - INFO - Indexing from tokenization complete\n",
      "2024-10-31 11:58:47,680 - searcharray.indexing - INFO - Indexing begins w/ 4 workers\n",
      "2024-10-31 11:58:47,681 - searcharray.indexing - INFO - 0 Batch Start tokenization\n",
      "2024-10-31 11:58:47,682 - searcharray.indexing - INFO - Tokenizing 10 documents\n",
      "2024-10-31 11:58:47,683 - searcharray.indexing - INFO - Tokenization -- vstacking\n",
      "2024-10-31 11:58:47,684 - searcharray.indexing - INFO - Tokenization -- DONE\n",
      "2024-10-31 11:58:47,685 - searcharray.indexing - INFO - Inverting docs->terms\n",
      "2024-10-31 11:58:47,685 - searcharray.indexing - INFO - Encoding positions to bit array\n",
      "2024-10-31 11:58:47,686 - searcharray.indexing - INFO - Batch tokenization complete\n",
      "2024-10-31 11:58:47,687 - searcharray.indexing - INFO - (main thread) Processing 1 batch results\n",
      "2024-10-31 11:58:47,687 - searcharray.indexing - INFO - Indexing from tokenization complete\n",
      "2024-10-31 11:58:47,696 - searcharray.indexing - INFO - Indexing begins w/ 4 workers\n",
      "2024-10-31 11:58:47,697 - searcharray.indexing - INFO - 0 Batch Start tokenization\n",
      "2024-10-31 11:58:47,697 - searcharray.indexing - INFO - Tokenizing 10 documents\n",
      "2024-10-31 11:58:47,698 - searcharray.indexing - INFO - Tokenization -- vstacking\n",
      "2024-10-31 11:58:47,698 - searcharray.indexing - INFO - Tokenization -- DONE\n",
      "2024-10-31 11:58:47,699 - searcharray.indexing - INFO - Inverting docs->terms\n",
      "2024-10-31 11:58:47,699 - searcharray.indexing - INFO - Encoding positions to bit array\n",
      "2024-10-31 11:58:47,700 - searcharray.indexing - INFO - Batch tokenization complete\n",
      "2024-10-31 11:58:47,700 - searcharray.indexing - INFO - (main thread) Processing 1 batch results\n",
      "2024-10-31 11:58:47,701 - searcharray.indexing - INFO - Indexing from tokenization complete\n",
      "2024-10-31 11:58:47,715 - searcharray.indexing - INFO - Indexing begins w/ 4 workers\n",
      "2024-10-31 11:58:47,716 - searcharray.indexing - INFO - 0 Batch Start tokenization\n",
      "2024-10-31 11:58:47,717 - searcharray.indexing - INFO - Tokenizing 10 documents\n",
      "2024-10-31 11:58:47,717 - searcharray.indexing - INFO - Tokenization -- vstacking\n",
      "2024-10-31 11:58:47,718 - searcharray.indexing - INFO - Tokenization -- DONE\n",
      "2024-10-31 11:58:47,718 - searcharray.indexing - INFO - Inverting docs->terms\n",
      "2024-10-31 11:58:47,718 - searcharray.indexing - INFO - Encoding positions to bit array\n",
      "2024-10-31 11:58:47,719 - searcharray.indexing - INFO - Batch tokenization complete\n",
      "2024-10-31 11:58:47,719 - searcharray.indexing - INFO - (main thread) Processing 1 batch results\n",
      "2024-10-31 11:58:47,720 - searcharray.indexing - INFO - Indexing from tokenization complete\n",
      "2024-10-31 11:58:47,727 - searcharray.indexing - INFO - Indexing begins w/ 4 workers\n",
      "2024-10-31 11:58:47,728 - searcharray.indexing - INFO - 0 Batch Start tokenization\n",
      "2024-10-31 11:58:47,728 - searcharray.indexing - INFO - Tokenizing 3 documents\n",
      "2024-10-31 11:58:47,729 - searcharray.indexing - INFO - Tokenization -- vstacking\n",
      "2024-10-31 11:58:47,729 - searcharray.indexing - INFO - Tokenization -- DONE\n",
      "2024-10-31 11:58:47,730 - searcharray.indexing - INFO - Inverting docs->terms\n",
      "2024-10-31 11:58:47,730 - searcharray.indexing - INFO - Encoding positions to bit array\n",
      "2024-10-31 11:58:47,731 - searcharray.indexing - INFO - Batch tokenization complete\n",
      "2024-10-31 11:58:47,731 - searcharray.indexing - INFO - (main thread) Processing 1 batch results\n",
      "2024-10-31 11:58:47,732 - searcharray.indexing - INFO - Indexing from tokenization complete\n",
      "2024-10-31 11:58:47,741 - searcharray.indexing - INFO - Indexing begins w/ 4 workers\n",
      "2024-10-31 11:58:47,741 - searcharray.indexing - INFO - 0 Batch Start tokenization\n",
      "2024-10-31 11:58:47,742 - searcharray.indexing - INFO - Tokenizing 10 documents\n",
      "2024-10-31 11:58:47,743 - searcharray.indexing - INFO - Tokenization -- vstacking\n",
      "2024-10-31 11:58:47,743 - searcharray.indexing - INFO - Tokenization -- DONE\n",
      "2024-10-31 11:58:47,744 - searcharray.indexing - INFO - Inverting docs->terms\n",
      "2024-10-31 11:58:47,744 - searcharray.indexing - INFO - Encoding positions to bit array\n",
      "2024-10-31 11:58:47,745 - searcharray.indexing - INFO - Batch tokenization complete\n",
      "2024-10-31 11:58:47,746 - searcharray.indexing - INFO - (main thread) Processing 1 batch results\n",
      "2024-10-31 11:58:47,746 - searcharray.indexing - INFO - Indexing from tokenization complete\n",
      "2024-10-31 11:58:47,759 - searcharray.indexing - INFO - Indexing begins w/ 4 workers\n",
      "2024-10-31 11:58:47,759 - searcharray.indexing - INFO - 0 Batch Start tokenization\n",
      "2024-10-31 11:58:47,760 - searcharray.indexing - INFO - Tokenizing 10 documents\n",
      "2024-10-31 11:58:47,760 - searcharray.indexing - INFO - Tokenization -- vstacking\n",
      "2024-10-31 11:58:47,761 - searcharray.indexing - INFO - Tokenization -- DONE\n",
      "2024-10-31 11:58:47,761 - searcharray.indexing - INFO - Inverting docs->terms\n",
      "2024-10-31 11:58:47,761 - searcharray.indexing - INFO - Encoding positions to bit array\n",
      "2024-10-31 11:58:47,762 - searcharray.indexing - INFO - Batch tokenization complete\n",
      "2024-10-31 11:58:47,762 - searcharray.indexing - INFO - (main thread) Processing 1 batch results\n",
      "2024-10-31 11:58:47,763 - searcharray.indexing - INFO - Indexing from tokenization complete\n",
      "2024-10-31 11:58:47,770 - searcharray.indexing - INFO - Indexing begins w/ 4 workers\n",
      "2024-10-31 11:58:47,771 - searcharray.indexing - INFO - 0 Batch Start tokenization\n",
      "2024-10-31 11:58:47,771 - searcharray.indexing - INFO - Tokenizing 10 documents\n",
      "2024-10-31 11:58:47,772 - searcharray.indexing - INFO - Tokenization -- vstacking\n",
      "2024-10-31 11:58:47,772 - searcharray.indexing - INFO - Tokenization -- DONE\n",
      "2024-10-31 11:58:47,773 - searcharray.indexing - INFO - Inverting docs->terms\n",
      "2024-10-31 11:58:47,773 - searcharray.indexing - INFO - Encoding positions to bit array\n",
      "2024-10-31 11:58:47,773 - searcharray.indexing - INFO - Batch tokenization complete\n",
      "2024-10-31 11:58:47,774 - searcharray.indexing - INFO - (main thread) Processing 1 batch results\n",
      "2024-10-31 11:58:47,774 - searcharray.indexing - INFO - Indexing from tokenization complete\n",
      "2024-10-31 11:58:47,785 - searcharray.indexing - INFO - Indexing begins w/ 4 workers\n",
      "2024-10-31 11:58:47,786 - searcharray.indexing - INFO - 0 Batch Start tokenization\n",
      "2024-10-31 11:58:47,786 - searcharray.indexing - INFO - Tokenizing 10 documents\n",
      "2024-10-31 11:58:47,787 - searcharray.indexing - INFO - Tokenization -- vstacking\n",
      "2024-10-31 11:58:47,787 - searcharray.indexing - INFO - Tokenization -- DONE\n",
      "2024-10-31 11:58:47,787 - searcharray.indexing - INFO - Inverting docs->terms\n",
      "2024-10-31 11:58:47,788 - searcharray.indexing - INFO - Encoding positions to bit array\n",
      "2024-10-31 11:58:47,788 - searcharray.indexing - INFO - Batch tokenization complete\n",
      "2024-10-31 11:58:47,789 - searcharray.indexing - INFO - (main thread) Processing 1 batch results\n",
      "2024-10-31 11:58:47,789 - searcharray.indexing - INFO - Indexing from tokenization complete\n",
      "2024-10-31 11:58:47,797 - searcharray.indexing - INFO - Indexing begins w/ 4 workers\n",
      "2024-10-31 11:58:47,798 - searcharray.indexing - INFO - 0 Batch Start tokenization\n",
      "2024-10-31 11:58:47,798 - searcharray.indexing - INFO - Tokenizing 10 documents\n",
      "2024-10-31 11:58:47,799 - searcharray.indexing - INFO - Tokenization -- vstacking\n",
      "2024-10-31 11:58:47,799 - searcharray.indexing - INFO - Tokenization -- DONE\n",
      "2024-10-31 11:58:47,799 - searcharray.indexing - INFO - Inverting docs->terms\n",
      "2024-10-31 11:58:47,800 - searcharray.indexing - INFO - Encoding positions to bit array\n",
      "2024-10-31 11:58:47,800 - searcharray.indexing - INFO - Batch tokenization complete\n",
      "2024-10-31 11:58:47,801 - searcharray.indexing - INFO - (main thread) Processing 1 batch results\n",
      "2024-10-31 11:58:47,801 - searcharray.indexing - INFO - Indexing from tokenization complete\n",
      "2024-10-31 11:58:47,810 - searcharray.indexing - INFO - Indexing begins w/ 4 workers\n",
      "2024-10-31 11:58:47,810 - searcharray.indexing - INFO - 0 Batch Start tokenization\n",
      "2024-10-31 11:58:47,811 - searcharray.indexing - INFO - Tokenizing 10 documents\n",
      "2024-10-31 11:58:47,812 - searcharray.indexing - INFO - Tokenization -- vstacking\n",
      "2024-10-31 11:58:47,812 - searcharray.indexing - INFO - Tokenization -- DONE\n",
      "2024-10-31 11:58:47,812 - searcharray.indexing - INFO - Inverting docs->terms\n",
      "2024-10-31 11:58:47,812 - searcharray.indexing - INFO - Encoding positions to bit array\n",
      "2024-10-31 11:58:47,813 - searcharray.indexing - INFO - Batch tokenization complete\n",
      "2024-10-31 11:58:47,813 - searcharray.indexing - INFO - (main thread) Processing 1 batch results\n",
      "2024-10-31 11:58:47,814 - searcharray.indexing - INFO - Indexing from tokenization complete\n",
      "2024-10-31 11:58:47,822 - searcharray.indexing - INFO - Indexing begins w/ 4 workers\n",
      "2024-10-31 11:58:47,823 - searcharray.indexing - INFO - 0 Batch Start tokenization\n",
      "2024-10-31 11:58:47,823 - searcharray.indexing - INFO - Tokenizing 10 documents\n",
      "2024-10-31 11:58:47,824 - searcharray.indexing - INFO - Tokenization -- vstacking\n",
      "2024-10-31 11:58:47,824 - searcharray.indexing - INFO - Tokenization -- DONE\n",
      "2024-10-31 11:58:47,824 - searcharray.indexing - INFO - Inverting docs->terms\n",
      "2024-10-31 11:58:47,825 - searcharray.indexing - INFO - Encoding positions to bit array\n",
      "2024-10-31 11:58:47,826 - searcharray.indexing - INFO - Batch tokenization complete\n",
      "2024-10-31 11:58:47,826 - searcharray.indexing - INFO - (main thread) Processing 1 batch results\n",
      "2024-10-31 11:58:47,826 - searcharray.indexing - INFO - Indexing from tokenization complete\n",
      "2024-10-31 11:58:47,841 - searcharray.indexing - INFO - Indexing begins w/ 4 workers\n",
      "2024-10-31 11:58:47,841 - searcharray.indexing - INFO - 0 Batch Start tokenization\n",
      "2024-10-31 11:58:47,842 - searcharray.indexing - INFO - Tokenizing 1 documents\n",
      "2024-10-31 11:58:47,842 - searcharray.indexing - INFO - Tokenization -- vstacking\n",
      "2024-10-31 11:58:47,842 - searcharray.indexing - INFO - Tokenization -- DONE\n",
      "2024-10-31 11:58:47,843 - searcharray.indexing - INFO - Inverting docs->terms\n",
      "2024-10-31 11:58:47,843 - searcharray.indexing - INFO - Encoding positions to bit array\n",
      "2024-10-31 11:58:47,843 - searcharray.indexing - INFO - Batch tokenization complete\n",
      "2024-10-31 11:58:47,844 - searcharray.indexing - INFO - (main thread) Processing 1 batch results\n",
      "2024-10-31 11:58:47,844 - searcharray.indexing - INFO - Indexing from tokenization complete\n",
      "2024-10-31 11:58:47,852 - searcharray.indexing - INFO - Indexing begins w/ 4 workers\n",
      "2024-10-31 11:58:47,853 - searcharray.indexing - INFO - 0 Batch Start tokenization\n",
      "2024-10-31 11:58:47,853 - searcharray.indexing - INFO - Tokenizing 10 documents\n",
      "2024-10-31 11:58:47,854 - searcharray.indexing - INFO - Tokenization -- vstacking\n",
      "2024-10-31 11:58:47,854 - searcharray.indexing - INFO - Tokenization -- DONE\n",
      "2024-10-31 11:58:47,854 - searcharray.indexing - INFO - Inverting docs->terms\n",
      "2024-10-31 11:58:47,855 - searcharray.indexing - INFO - Encoding positions to bit array\n",
      "2024-10-31 11:58:47,855 - searcharray.indexing - INFO - Batch tokenization complete\n",
      "2024-10-31 11:58:47,855 - searcharray.indexing - INFO - (main thread) Processing 1 batch results\n",
      "2024-10-31 11:58:47,856 - searcharray.indexing - INFO - Indexing from tokenization complete\n",
      "2024-10-31 11:58:47,865 - searcharray.indexing - INFO - Indexing begins w/ 4 workers\n",
      "2024-10-31 11:58:47,865 - searcharray.indexing - INFO - 0 Batch Start tokenization\n",
      "2024-10-31 11:58:47,866 - searcharray.indexing - INFO - Tokenizing 10 documents\n",
      "2024-10-31 11:58:47,867 - searcharray.indexing - INFO - Tokenization -- vstacking\n",
      "2024-10-31 11:58:47,868 - searcharray.indexing - INFO - Tokenization -- DONE\n",
      "2024-10-31 11:58:47,868 - searcharray.indexing - INFO - Inverting docs->terms\n",
      "2024-10-31 11:58:47,868 - searcharray.indexing - INFO - Encoding positions to bit array\n",
      "2024-10-31 11:58:47,869 - searcharray.indexing - INFO - Batch tokenization complete\n",
      "2024-10-31 11:58:47,870 - searcharray.indexing - INFO - (main thread) Processing 1 batch results\n",
      "2024-10-31 11:58:47,870 - searcharray.indexing - INFO - Indexing from tokenization complete\n",
      "2024-10-31 11:58:47,880 - searcharray.indexing - INFO - Indexing begins w/ 4 workers\n",
      "2024-10-31 11:58:47,880 - searcharray.indexing - INFO - 0 Batch Start tokenization\n",
      "2024-10-31 11:58:47,881 - searcharray.indexing - INFO - Tokenizing 10 documents\n",
      "2024-10-31 11:58:47,881 - searcharray.indexing - INFO - Tokenization -- vstacking\n",
      "2024-10-31 11:58:47,881 - searcharray.indexing - INFO - Tokenization -- DONE\n",
      "2024-10-31 11:58:47,882 - searcharray.indexing - INFO - Inverting docs->terms\n",
      "2024-10-31 11:58:47,882 - searcharray.indexing - INFO - Encoding positions to bit array\n",
      "2024-10-31 11:58:47,882 - searcharray.indexing - INFO - Batch tokenization complete\n",
      "2024-10-31 11:58:47,883 - searcharray.indexing - INFO - (main thread) Processing 1 batch results\n",
      "2024-10-31 11:58:47,883 - searcharray.indexing - INFO - Indexing from tokenization complete\n",
      "2024-10-31 11:58:47,898 - searcharray.indexing - INFO - Indexing begins w/ 4 workers\n",
      "2024-10-31 11:58:47,898 - searcharray.indexing - INFO - 0 Batch Start tokenization\n",
      "2024-10-31 11:58:47,899 - searcharray.indexing - INFO - Tokenizing 10 documents\n",
      "2024-10-31 11:58:47,899 - searcharray.indexing - INFO - Tokenization -- vstacking\n",
      "2024-10-31 11:58:47,900 - searcharray.indexing - INFO - Tokenization -- DONE\n",
      "2024-10-31 11:58:47,900 - searcharray.indexing - INFO - Inverting docs->terms\n",
      "2024-10-31 11:58:47,900 - searcharray.indexing - INFO - Encoding positions to bit array\n",
      "2024-10-31 11:58:47,901 - searcharray.indexing - INFO - Batch tokenization complete\n",
      "2024-10-31 11:58:47,901 - searcharray.indexing - INFO - (main thread) Processing 1 batch results\n",
      "2024-10-31 11:58:47,902 - searcharray.indexing - INFO - Indexing from tokenization complete\n",
      "2024-10-31 11:58:47,915 - searcharray.indexing - INFO - Indexing begins w/ 4 workers\n",
      "2024-10-31 11:58:47,915 - searcharray.indexing - INFO - 0 Batch Start tokenization\n",
      "2024-10-31 11:58:47,916 - searcharray.indexing - INFO - Tokenizing 10 documents\n",
      "2024-10-31 11:58:47,917 - searcharray.indexing - INFO - Tokenization -- vstacking\n",
      "2024-10-31 11:58:47,917 - searcharray.indexing - INFO - Tokenization -- DONE\n",
      "2024-10-31 11:58:47,918 - searcharray.indexing - INFO - Inverting docs->terms\n",
      "2024-10-31 11:58:47,918 - searcharray.indexing - INFO - Encoding positions to bit array\n",
      "2024-10-31 11:58:47,918 - searcharray.indexing - INFO - Batch tokenization complete\n",
      "2024-10-31 11:58:47,919 - searcharray.indexing - INFO - (main thread) Processing 1 batch results\n",
      "2024-10-31 11:58:47,919 - searcharray.indexing - INFO - Indexing from tokenization complete\n",
      "2024-10-31 11:58:47,928 - searcharray.indexing - INFO - Indexing begins w/ 4 workers\n",
      "2024-10-31 11:58:47,928 - searcharray.indexing - INFO - 0 Batch Start tokenization\n",
      "2024-10-31 11:58:47,929 - searcharray.indexing - INFO - Tokenizing 10 documents\n",
      "2024-10-31 11:58:47,929 - searcharray.indexing - INFO - Tokenization -- vstacking\n",
      "2024-10-31 11:58:47,929 - searcharray.indexing - INFO - Tokenization -- DONE\n",
      "2024-10-31 11:58:47,930 - searcharray.indexing - INFO - Inverting docs->terms\n",
      "2024-10-31 11:58:47,930 - searcharray.indexing - INFO - Encoding positions to bit array\n",
      "2024-10-31 11:58:47,930 - searcharray.indexing - INFO - Batch tokenization complete\n",
      "2024-10-31 11:58:47,931 - searcharray.indexing - INFO - (main thread) Processing 1 batch results\n",
      "2024-10-31 11:58:47,931 - searcharray.indexing - INFO - Indexing from tokenization complete\n",
      "2024-10-31 11:58:47,939 - searcharray.indexing - INFO - Indexing begins w/ 4 workers\n",
      "2024-10-31 11:58:47,940 - searcharray.indexing - INFO - 0 Batch Start tokenization\n",
      "2024-10-31 11:58:47,940 - searcharray.indexing - INFO - Tokenizing 10 documents\n",
      "2024-10-31 11:58:47,941 - searcharray.indexing - INFO - Tokenization -- vstacking\n",
      "2024-10-31 11:58:47,941 - searcharray.indexing - INFO - Tokenization -- DONE\n",
      "2024-10-31 11:58:47,941 - searcharray.indexing - INFO - Inverting docs->terms\n",
      "2024-10-31 11:58:47,942 - searcharray.indexing - INFO - Encoding positions to bit array\n",
      "2024-10-31 11:58:47,942 - searcharray.indexing - INFO - Batch tokenization complete\n",
      "2024-10-31 11:58:47,943 - searcharray.indexing - INFO - (main thread) Processing 1 batch results\n",
      "2024-10-31 11:58:47,943 - searcharray.indexing - INFO - Indexing from tokenization complete\n",
      "2024-10-31 11:58:47,951 - searcharray.indexing - INFO - Indexing begins w/ 4 workers\n",
      "2024-10-31 11:58:47,952 - searcharray.indexing - INFO - 0 Batch Start tokenization\n",
      "2024-10-31 11:58:47,952 - searcharray.indexing - INFO - Tokenizing 10 documents\n",
      "2024-10-31 11:58:47,953 - searcharray.indexing - INFO - Tokenization -- vstacking\n",
      "2024-10-31 11:58:47,953 - searcharray.indexing - INFO - Tokenization -- DONE\n",
      "2024-10-31 11:58:47,954 - searcharray.indexing - INFO - Inverting docs->terms\n",
      "2024-10-31 11:58:47,954 - searcharray.indexing - INFO - Encoding positions to bit array\n",
      "2024-10-31 11:58:47,955 - searcharray.indexing - INFO - Batch tokenization complete\n",
      "2024-10-31 11:58:47,955 - searcharray.indexing - INFO - (main thread) Processing 1 batch results\n",
      "2024-10-31 11:58:47,956 - searcharray.indexing - INFO - Indexing from tokenization complete\n",
      "2024-10-31 11:58:47,967 - searcharray.indexing - INFO - Indexing begins w/ 4 workers\n",
      "2024-10-31 11:58:47,967 - searcharray.indexing - INFO - 0 Batch Start tokenization\n",
      "2024-10-31 11:58:47,968 - searcharray.indexing - INFO - Tokenizing 10 documents\n",
      "2024-10-31 11:58:47,969 - searcharray.indexing - INFO - Tokenization -- vstacking\n",
      "2024-10-31 11:58:47,969 - searcharray.indexing - INFO - Tokenization -- DONE\n",
      "2024-10-31 11:58:47,969 - searcharray.indexing - INFO - Inverting docs->terms\n",
      "2024-10-31 11:58:47,969 - searcharray.indexing - INFO - Encoding positions to bit array\n",
      "2024-10-31 11:58:47,970 - searcharray.indexing - INFO - Batch tokenization complete\n",
      "2024-10-31 11:58:47,970 - searcharray.indexing - INFO - (main thread) Processing 1 batch results\n",
      "2024-10-31 11:58:47,971 - searcharray.indexing - INFO - Indexing from tokenization complete\n",
      "2024-10-31 11:58:47,981 - searcharray.indexing - INFO - Indexing begins w/ 4 workers\n",
      "2024-10-31 11:58:47,981 - searcharray.indexing - INFO - 0 Batch Start tokenization\n",
      "2024-10-31 11:58:47,981 - searcharray.indexing - INFO - Tokenizing 10 documents\n",
      "2024-10-31 11:58:47,982 - searcharray.indexing - INFO - Tokenization -- vstacking\n",
      "2024-10-31 11:58:47,983 - searcharray.indexing - INFO - Tokenization -- DONE\n",
      "2024-10-31 11:58:47,983 - searcharray.indexing - INFO - Inverting docs->terms\n",
      "2024-10-31 11:58:47,983 - searcharray.indexing - INFO - Encoding positions to bit array\n",
      "2024-10-31 11:58:47,983 - searcharray.indexing - INFO - Batch tokenization complete\n",
      "2024-10-31 11:58:47,984 - searcharray.indexing - INFO - (main thread) Processing 1 batch results\n",
      "2024-10-31 11:58:47,984 - searcharray.indexing - INFO - Indexing from tokenization complete\n",
      "2024-10-31 11:58:47,993 - searcharray.indexing - INFO - Indexing begins w/ 4 workers\n",
      "2024-10-31 11:58:47,994 - searcharray.indexing - INFO - 0 Batch Start tokenization\n",
      "2024-10-31 11:58:47,994 - searcharray.indexing - INFO - Tokenizing 10 documents\n",
      "2024-10-31 11:58:47,995 - searcharray.indexing - INFO - Tokenization -- vstacking\n",
      "2024-10-31 11:58:47,995 - searcharray.indexing - INFO - Tokenization -- DONE\n",
      "2024-10-31 11:58:47,995 - searcharray.indexing - INFO - Inverting docs->terms\n",
      "2024-10-31 11:58:47,996 - searcharray.indexing - INFO - Encoding positions to bit array\n",
      "2024-10-31 11:58:47,996 - searcharray.indexing - INFO - Batch tokenization complete\n",
      "2024-10-31 11:58:47,996 - searcharray.indexing - INFO - (main thread) Processing 1 batch results\n",
      "2024-10-31 11:58:47,997 - searcharray.indexing - INFO - Indexing from tokenization complete\n",
      "2024-10-31 11:58:48,004 - searcharray.indexing - INFO - Indexing begins w/ 4 workers\n",
      "2024-10-31 11:58:48,005 - searcharray.indexing - INFO - 0 Batch Start tokenization\n",
      "2024-10-31 11:58:48,006 - searcharray.indexing - INFO - Tokenizing 10 documents\n",
      "2024-10-31 11:58:48,006 - searcharray.indexing - INFO - Tokenization -- vstacking\n",
      "2024-10-31 11:58:48,006 - searcharray.indexing - INFO - Tokenization -- DONE\n",
      "2024-10-31 11:58:48,007 - searcharray.indexing - INFO - Inverting docs->terms\n",
      "2024-10-31 11:58:48,007 - searcharray.indexing - INFO - Encoding positions to bit array\n",
      "2024-10-31 11:58:48,008 - searcharray.indexing - INFO - Batch tokenization complete\n",
      "2024-10-31 11:58:48,008 - searcharray.indexing - INFO - (main thread) Processing 1 batch results\n",
      "2024-10-31 11:58:48,008 - searcharray.indexing - INFO - Indexing from tokenization complete\n",
      "2024-10-31 11:58:48,027 - searcharray.indexing - INFO - Indexing begins w/ 4 workers\n",
      "2024-10-31 11:58:48,027 - searcharray.indexing - INFO - 0 Batch Start tokenization\n",
      "2024-10-31 11:58:48,028 - searcharray.indexing - INFO - Tokenizing 10 documents\n",
      "2024-10-31 11:58:48,028 - searcharray.indexing - INFO - Tokenization -- vstacking\n",
      "2024-10-31 11:58:48,029 - searcharray.indexing - INFO - Tokenization -- DONE\n",
      "2024-10-31 11:58:48,029 - searcharray.indexing - INFO - Inverting docs->terms\n",
      "2024-10-31 11:58:48,029 - searcharray.indexing - INFO - Encoding positions to bit array\n",
      "2024-10-31 11:58:48,030 - searcharray.indexing - INFO - Batch tokenization complete\n",
      "2024-10-31 11:58:48,030 - searcharray.indexing - INFO - (main thread) Processing 1 batch results\n",
      "2024-10-31 11:58:48,030 - searcharray.indexing - INFO - Indexing from tokenization complete\n",
      "2024-10-31 11:58:48,051 - searcharray.indexing - INFO - Indexing begins w/ 4 workers\n",
      "2024-10-31 11:58:48,052 - searcharray.indexing - INFO - 0 Batch Start tokenization\n",
      "2024-10-31 11:58:48,053 - searcharray.indexing - INFO - Tokenizing 10 documents\n",
      "2024-10-31 11:58:48,053 - searcharray.indexing - INFO - Tokenization -- vstacking\n",
      "2024-10-31 11:58:48,054 - searcharray.indexing - INFO - Tokenization -- DONE\n",
      "2024-10-31 11:58:48,054 - searcharray.indexing - INFO - Inverting docs->terms\n",
      "2024-10-31 11:58:48,054 - searcharray.indexing - INFO - Encoding positions to bit array\n",
      "2024-10-31 11:58:48,055 - searcharray.indexing - INFO - Batch tokenization complete\n",
      "2024-10-31 11:58:48,055 - searcharray.indexing - INFO - (main thread) Processing 1 batch results\n",
      "2024-10-31 11:58:48,056 - searcharray.indexing - INFO - Indexing from tokenization complete\n",
      "2024-10-31 11:58:48,065 - searcharray.indexing - INFO - Indexing begins w/ 4 workers\n",
      "2024-10-31 11:58:48,066 - searcharray.indexing - INFO - 0 Batch Start tokenization\n",
      "2024-10-31 11:58:48,066 - searcharray.indexing - INFO - Tokenizing 10 documents\n",
      "2024-10-31 11:58:48,067 - searcharray.indexing - INFO - Tokenization -- vstacking\n",
      "2024-10-31 11:58:48,067 - searcharray.indexing - INFO - Tokenization -- DONE\n",
      "2024-10-31 11:58:48,067 - searcharray.indexing - INFO - Inverting docs->terms\n",
      "2024-10-31 11:58:48,068 - searcharray.indexing - INFO - Encoding positions to bit array\n",
      "2024-10-31 11:58:48,068 - searcharray.indexing - INFO - Batch tokenization complete\n",
      "2024-10-31 11:58:48,068 - searcharray.indexing - INFO - (main thread) Processing 1 batch results\n",
      "2024-10-31 11:58:48,069 - searcharray.indexing - INFO - Indexing from tokenization complete\n",
      "2024-10-31 11:58:48,079 - searcharray.indexing - INFO - Indexing begins w/ 4 workers\n",
      "2024-10-31 11:58:48,080 - searcharray.indexing - INFO - 0 Batch Start tokenization\n",
      "2024-10-31 11:58:48,080 - searcharray.indexing - INFO - Tokenizing 10 documents\n",
      "2024-10-31 11:58:48,081 - searcharray.indexing - INFO - Tokenization -- vstacking\n",
      "2024-10-31 11:58:48,081 - searcharray.indexing - INFO - Tokenization -- DONE\n",
      "2024-10-31 11:58:48,082 - searcharray.indexing - INFO - Inverting docs->terms\n",
      "2024-10-31 11:58:48,082 - searcharray.indexing - INFO - Encoding positions to bit array\n",
      "2024-10-31 11:58:48,083 - searcharray.indexing - INFO - Batch tokenization complete\n",
      "2024-10-31 11:58:48,083 - searcharray.indexing - INFO - (main thread) Processing 1 batch results\n",
      "2024-10-31 11:58:48,084 - searcharray.indexing - INFO - Indexing from tokenization complete\n",
      "2024-10-31 11:58:48,096 - searcharray.indexing - INFO - Indexing begins w/ 4 workers\n",
      "2024-10-31 11:58:48,097 - searcharray.indexing - INFO - 0 Batch Start tokenization\n",
      "2024-10-31 11:58:48,098 - searcharray.indexing - INFO - Tokenizing 10 documents\n",
      "2024-10-31 11:58:48,098 - searcharray.indexing - INFO - Tokenization -- vstacking\n",
      "2024-10-31 11:58:48,099 - searcharray.indexing - INFO - Tokenization -- DONE\n",
      "2024-10-31 11:58:48,099 - searcharray.indexing - INFO - Inverting docs->terms\n",
      "2024-10-31 11:58:48,099 - searcharray.indexing - INFO - Encoding positions to bit array\n",
      "2024-10-31 11:58:48,100 - searcharray.indexing - INFO - Batch tokenization complete\n",
      "2024-10-31 11:58:48,100 - searcharray.indexing - INFO - (main thread) Processing 1 batch results\n",
      "2024-10-31 11:58:48,101 - searcharray.indexing - INFO - Indexing from tokenization complete\n",
      "2024-10-31 11:58:48,111 - searcharray.indexing - INFO - Indexing begins w/ 4 workers\n",
      "2024-10-31 11:58:48,112 - searcharray.indexing - INFO - 0 Batch Start tokenization\n",
      "2024-10-31 11:58:48,112 - searcharray.indexing - INFO - Tokenizing 10 documents\n",
      "2024-10-31 11:58:48,113 - searcharray.indexing - INFO - Tokenization -- vstacking\n",
      "2024-10-31 11:58:48,113 - searcharray.indexing - INFO - Tokenization -- DONE\n",
      "2024-10-31 11:58:48,113 - searcharray.indexing - INFO - Inverting docs->terms\n",
      "2024-10-31 11:58:48,113 - searcharray.indexing - INFO - Encoding positions to bit array\n",
      "2024-10-31 11:58:48,114 - searcharray.indexing - INFO - Batch tokenization complete\n",
      "2024-10-31 11:58:48,114 - searcharray.indexing - INFO - (main thread) Processing 1 batch results\n",
      "2024-10-31 11:58:48,115 - searcharray.indexing - INFO - Indexing from tokenization complete\n",
      "2024-10-31 11:58:48,129 - searcharray.indexing - INFO - Indexing begins w/ 4 workers\n",
      "2024-10-31 11:58:48,130 - searcharray.indexing - INFO - 0 Batch Start tokenization\n",
      "2024-10-31 11:58:48,130 - searcharray.indexing - INFO - Tokenizing 10 documents\n",
      "2024-10-31 11:58:48,131 - searcharray.indexing - INFO - Tokenization -- vstacking\n",
      "2024-10-31 11:58:48,131 - searcharray.indexing - INFO - Tokenization -- DONE\n",
      "2024-10-31 11:58:48,132 - searcharray.indexing - INFO - Inverting docs->terms\n",
      "2024-10-31 11:58:48,132 - searcharray.indexing - INFO - Encoding positions to bit array\n",
      "2024-10-31 11:58:48,133 - searcharray.indexing - INFO - Batch tokenization complete\n",
      "2024-10-31 11:58:48,133 - searcharray.indexing - INFO - (main thread) Processing 1 batch results\n",
      "2024-10-31 11:58:48,134 - searcharray.indexing - INFO - Indexing from tokenization complete\n",
      "2024-10-31 11:58:48,141 - searcharray.indexing - INFO - Indexing begins w/ 4 workers\n",
      "2024-10-31 11:58:48,142 - searcharray.indexing - INFO - 0 Batch Start tokenization\n",
      "2024-10-31 11:58:48,142 - searcharray.indexing - INFO - Tokenizing 10 documents\n",
      "2024-10-31 11:58:48,143 - searcharray.indexing - INFO - Tokenization -- vstacking\n",
      "2024-10-31 11:58:48,143 - searcharray.indexing - INFO - Tokenization -- DONE\n",
      "2024-10-31 11:58:48,143 - searcharray.indexing - INFO - Inverting docs->terms\n",
      "2024-10-31 11:58:48,144 - searcharray.indexing - INFO - Encoding positions to bit array\n",
      "2024-10-31 11:58:48,144 - searcharray.indexing - INFO - Batch tokenization complete\n",
      "2024-10-31 11:58:48,145 - searcharray.indexing - INFO - (main thread) Processing 1 batch results\n",
      "2024-10-31 11:58:48,145 - searcharray.indexing - INFO - Indexing from tokenization complete\n",
      "2024-10-31 11:58:48,153 - searcharray.indexing - INFO - Indexing begins w/ 4 workers\n",
      "2024-10-31 11:58:48,154 - searcharray.indexing - INFO - 0 Batch Start tokenization\n",
      "2024-10-31 11:58:48,155 - searcharray.indexing - INFO - Tokenizing 10 documents\n",
      "2024-10-31 11:58:48,155 - searcharray.indexing - INFO - Tokenization -- vstacking\n",
      "2024-10-31 11:58:48,156 - searcharray.indexing - INFO - Tokenization -- DONE\n",
      "2024-10-31 11:58:48,156 - searcharray.indexing - INFO - Inverting docs->terms\n",
      "2024-10-31 11:58:48,157 - searcharray.indexing - INFO - Encoding positions to bit array\n",
      "2024-10-31 11:58:48,158 - searcharray.indexing - INFO - Batch tokenization complete\n",
      "2024-10-31 11:58:48,158 - searcharray.indexing - INFO - (main thread) Processing 1 batch results\n",
      "2024-10-31 11:58:48,159 - searcharray.indexing - INFO - Indexing from tokenization complete\n",
      "2024-10-31 11:58:48,166 - searcharray.indexing - INFO - Indexing begins w/ 4 workers\n",
      "2024-10-31 11:58:48,167 - searcharray.indexing - INFO - 0 Batch Start tokenization\n",
      "2024-10-31 11:58:48,167 - searcharray.indexing - INFO - Tokenizing 9 documents\n",
      "2024-10-31 11:58:48,168 - searcharray.indexing - INFO - Tokenization -- vstacking\n",
      "2024-10-31 11:58:48,168 - searcharray.indexing - INFO - Tokenization -- DONE\n",
      "2024-10-31 11:58:48,168 - searcharray.indexing - INFO - Inverting docs->terms\n",
      "2024-10-31 11:58:48,169 - searcharray.indexing - INFO - Encoding positions to bit array\n",
      "2024-10-31 11:58:48,169 - searcharray.indexing - INFO - Batch tokenization complete\n",
      "2024-10-31 11:58:48,170 - searcharray.indexing - INFO - (main thread) Processing 1 batch results\n",
      "2024-10-31 11:58:48,170 - searcharray.indexing - INFO - Indexing from tokenization complete\n",
      "2024-10-31 11:58:48,182 - searcharray.indexing - INFO - Indexing begins w/ 4 workers\n",
      "2024-10-31 11:58:48,182 - searcharray.indexing - INFO - 0 Batch Start tokenization\n",
      "2024-10-31 11:58:48,183 - searcharray.indexing - INFO - Tokenizing 10 documents\n",
      "2024-10-31 11:58:48,183 - searcharray.indexing - INFO - Tokenization -- vstacking\n",
      "2024-10-31 11:58:48,183 - searcharray.indexing - INFO - Tokenization -- DONE\n",
      "2024-10-31 11:58:48,184 - searcharray.indexing - INFO - Inverting docs->terms\n",
      "2024-10-31 11:58:48,184 - searcharray.indexing - INFO - Encoding positions to bit array\n",
      "2024-10-31 11:58:48,184 - searcharray.indexing - INFO - Batch tokenization complete\n",
      "2024-10-31 11:58:48,184 - searcharray.indexing - INFO - (main thread) Processing 1 batch results\n",
      "2024-10-31 11:58:48,185 - searcharray.indexing - INFO - Indexing from tokenization complete\n",
      "2024-10-31 11:58:48,194 - searcharray.indexing - INFO - Indexing begins w/ 4 workers\n",
      "2024-10-31 11:58:48,195 - searcharray.indexing - INFO - 0 Batch Start tokenization\n",
      "2024-10-31 11:58:48,195 - searcharray.indexing - INFO - Tokenizing 10 documents\n",
      "2024-10-31 11:58:48,196 - searcharray.indexing - INFO - Tokenization -- vstacking\n",
      "2024-10-31 11:58:48,196 - searcharray.indexing - INFO - Tokenization -- DONE\n",
      "2024-10-31 11:58:48,197 - searcharray.indexing - INFO - Inverting docs->terms\n",
      "2024-10-31 11:58:48,197 - searcharray.indexing - INFO - Encoding positions to bit array\n",
      "2024-10-31 11:58:48,197 - searcharray.indexing - INFO - Batch tokenization complete\n",
      "2024-10-31 11:58:48,198 - searcharray.indexing - INFO - (main thread) Processing 1 batch results\n",
      "2024-10-31 11:58:48,199 - searcharray.indexing - INFO - Indexing from tokenization complete\n",
      "2024-10-31 11:58:48,209 - searcharray.indexing - INFO - Indexing begins w/ 4 workers\n",
      "2024-10-31 11:58:48,209 - searcharray.indexing - INFO - 0 Batch Start tokenization\n",
      "2024-10-31 11:58:48,210 - searcharray.indexing - INFO - Tokenizing 4 documents\n",
      "2024-10-31 11:58:48,210 - searcharray.indexing - INFO - Tokenization -- vstacking\n",
      "2024-10-31 11:58:48,210 - searcharray.indexing - INFO - Tokenization -- DONE\n",
      "2024-10-31 11:58:48,210 - searcharray.indexing - INFO - Inverting docs->terms\n",
      "2024-10-31 11:58:48,211 - searcharray.indexing - INFO - Encoding positions to bit array\n",
      "2024-10-31 11:58:48,211 - searcharray.indexing - INFO - Batch tokenization complete\n",
      "2024-10-31 11:58:48,211 - searcharray.indexing - INFO - (main thread) Processing 1 batch results\n",
      "2024-10-31 11:58:48,212 - searcharray.indexing - INFO - Indexing from tokenization complete\n",
      "2024-10-31 11:58:48,225 - searcharray.indexing - INFO - Indexing begins w/ 4 workers\n",
      "2024-10-31 11:58:48,225 - searcharray.indexing - INFO - 0 Batch Start tokenization\n",
      "2024-10-31 11:58:48,226 - searcharray.indexing - INFO - Tokenizing 8 documents\n",
      "2024-10-31 11:58:48,226 - searcharray.indexing - INFO - Tokenization -- vstacking\n",
      "2024-10-31 11:58:48,226 - searcharray.indexing - INFO - Tokenization -- DONE\n",
      "2024-10-31 11:58:48,227 - searcharray.indexing - INFO - Inverting docs->terms\n",
      "2024-10-31 11:58:48,227 - searcharray.indexing - INFO - Encoding positions to bit array\n",
      "2024-10-31 11:58:48,228 - searcharray.indexing - INFO - Batch tokenization complete\n",
      "2024-10-31 11:58:48,228 - searcharray.indexing - INFO - (main thread) Processing 1 batch results\n",
      "2024-10-31 11:58:48,229 - searcharray.indexing - INFO - Indexing from tokenization complete\n",
      "2024-10-31 11:58:48,244 - searcharray.indexing - INFO - Indexing begins w/ 4 workers\n",
      "2024-10-31 11:58:48,245 - searcharray.indexing - INFO - 0 Batch Start tokenization\n",
      "2024-10-31 11:58:48,246 - searcharray.indexing - INFO - Tokenizing 10 documents\n",
      "2024-10-31 11:58:48,246 - searcharray.indexing - INFO - Tokenization -- vstacking\n",
      "2024-10-31 11:58:48,246 - searcharray.indexing - INFO - Tokenization -- DONE\n",
      "2024-10-31 11:58:48,247 - searcharray.indexing - INFO - Inverting docs->terms\n",
      "2024-10-31 11:58:48,247 - searcharray.indexing - INFO - Encoding positions to bit array\n",
      "2024-10-31 11:58:48,248 - searcharray.indexing - INFO - Batch tokenization complete\n",
      "2024-10-31 11:58:48,248 - searcharray.indexing - INFO - (main thread) Processing 1 batch results\n",
      "2024-10-31 11:58:48,249 - searcharray.indexing - INFO - Indexing from tokenization complete\n",
      "2024-10-31 11:58:48,259 - searcharray.indexing - INFO - Indexing begins w/ 4 workers\n",
      "2024-10-31 11:58:48,260 - searcharray.indexing - INFO - 0 Batch Start tokenization\n",
      "2024-10-31 11:58:48,260 - searcharray.indexing - INFO - Tokenizing 10 documents\n",
      "2024-10-31 11:58:48,261 - searcharray.indexing - INFO - Tokenization -- vstacking\n",
      "2024-10-31 11:58:48,261 - searcharray.indexing - INFO - Tokenization -- DONE\n",
      "2024-10-31 11:58:48,261 - searcharray.indexing - INFO - Inverting docs->terms\n",
      "2024-10-31 11:58:48,262 - searcharray.indexing - INFO - Encoding positions to bit array\n",
      "2024-10-31 11:58:48,262 - searcharray.indexing - INFO - Batch tokenization complete\n",
      "2024-10-31 11:58:48,263 - searcharray.indexing - INFO - (main thread) Processing 1 batch results\n",
      "2024-10-31 11:58:48,263 - searcharray.indexing - INFO - Indexing from tokenization complete\n",
      "2024-10-31 11:58:48,271 - searcharray.indexing - INFO - Indexing begins w/ 4 workers\n",
      "2024-10-31 11:58:48,271 - searcharray.indexing - INFO - 0 Batch Start tokenization\n",
      "2024-10-31 11:58:48,272 - searcharray.indexing - INFO - Tokenizing 10 documents\n",
      "2024-10-31 11:58:48,272 - searcharray.indexing - INFO - Tokenization -- vstacking\n",
      "2024-10-31 11:58:48,273 - searcharray.indexing - INFO - Tokenization -- DONE\n",
      "2024-10-31 11:58:48,273 - searcharray.indexing - INFO - Inverting docs->terms\n",
      "2024-10-31 11:58:48,274 - searcharray.indexing - INFO - Encoding positions to bit array\n",
      "2024-10-31 11:58:48,274 - searcharray.indexing - INFO - Batch tokenization complete\n",
      "2024-10-31 11:58:48,274 - searcharray.indexing - INFO - (main thread) Processing 1 batch results\n",
      "2024-10-31 11:58:48,275 - searcharray.indexing - INFO - Indexing from tokenization complete\n",
      "2024-10-31 11:58:48,285 - searcharray.indexing - INFO - Indexing begins w/ 4 workers\n",
      "2024-10-31 11:58:48,285 - searcharray.indexing - INFO - 0 Batch Start tokenization\n",
      "2024-10-31 11:58:48,286 - searcharray.indexing - INFO - Tokenizing 10 documents\n",
      "2024-10-31 11:58:48,286 - searcharray.indexing - INFO - Tokenization -- vstacking\n",
      "2024-10-31 11:58:48,286 - searcharray.indexing - INFO - Tokenization -- DONE\n",
      "2024-10-31 11:58:48,287 - searcharray.indexing - INFO - Inverting docs->terms\n",
      "2024-10-31 11:58:48,287 - searcharray.indexing - INFO - Encoding positions to bit array\n",
      "2024-10-31 11:58:48,288 - searcharray.indexing - INFO - Batch tokenization complete\n",
      "2024-10-31 11:58:48,288 - searcharray.indexing - INFO - (main thread) Processing 1 batch results\n",
      "2024-10-31 11:58:48,289 - searcharray.indexing - INFO - Indexing from tokenization complete\n",
      "2024-10-31 11:58:48,300 - searcharray.indexing - INFO - Indexing begins w/ 4 workers\n",
      "2024-10-31 11:58:48,301 - searcharray.indexing - INFO - 0 Batch Start tokenization\n",
      "2024-10-31 11:58:48,301 - searcharray.indexing - INFO - Tokenizing 10 documents\n",
      "2024-10-31 11:58:48,302 - searcharray.indexing - INFO - Tokenization -- vstacking\n",
      "2024-10-31 11:58:48,302 - searcharray.indexing - INFO - Tokenization -- DONE\n",
      "2024-10-31 11:58:48,302 - searcharray.indexing - INFO - Inverting docs->terms\n",
      "2024-10-31 11:58:48,303 - searcharray.indexing - INFO - Encoding positions to bit array\n",
      "2024-10-31 11:58:48,303 - searcharray.indexing - INFO - Batch tokenization complete\n",
      "2024-10-31 11:58:48,303 - searcharray.indexing - INFO - (main thread) Processing 1 batch results\n",
      "2024-10-31 11:58:48,304 - searcharray.indexing - INFO - Indexing from tokenization complete\n",
      "2024-10-31 11:58:48,311 - searcharray.indexing - INFO - Indexing begins w/ 4 workers\n",
      "2024-10-31 11:58:48,312 - searcharray.indexing - INFO - 0 Batch Start tokenization\n",
      "2024-10-31 11:58:48,312 - searcharray.indexing - INFO - Tokenizing 10 documents\n",
      "2024-10-31 11:58:48,313 - searcharray.indexing - INFO - Tokenization -- vstacking\n",
      "2024-10-31 11:58:48,313 - searcharray.indexing - INFO - Tokenization -- DONE\n",
      "2024-10-31 11:58:48,313 - searcharray.indexing - INFO - Inverting docs->terms\n",
      "2024-10-31 11:58:48,314 - searcharray.indexing - INFO - Encoding positions to bit array\n",
      "2024-10-31 11:58:48,314 - searcharray.indexing - INFO - Batch tokenization complete\n",
      "2024-10-31 11:58:48,314 - searcharray.indexing - INFO - (main thread) Processing 1 batch results\n",
      "2024-10-31 11:58:48,315 - searcharray.indexing - INFO - Indexing from tokenization complete\n",
      "2024-10-31 11:58:48,327 - searcharray.indexing - INFO - Indexing begins w/ 4 workers\n",
      "2024-10-31 11:58:48,328 - searcharray.indexing - INFO - 0 Batch Start tokenization\n",
      "2024-10-31 11:58:48,328 - searcharray.indexing - INFO - Tokenizing 10 documents\n",
      "2024-10-31 11:58:48,329 - searcharray.indexing - INFO - Tokenization -- vstacking\n",
      "2024-10-31 11:58:48,329 - searcharray.indexing - INFO - Tokenization -- DONE\n",
      "2024-10-31 11:58:48,329 - searcharray.indexing - INFO - Inverting docs->terms\n",
      "2024-10-31 11:58:48,330 - searcharray.indexing - INFO - Encoding positions to bit array\n",
      "2024-10-31 11:58:48,330 - searcharray.indexing - INFO - Batch tokenization complete\n",
      "2024-10-31 11:58:48,330 - searcharray.indexing - INFO - (main thread) Processing 1 batch results\n",
      "2024-10-31 11:58:48,331 - searcharray.indexing - INFO - Indexing from tokenization complete\n",
      "2024-10-31 11:58:48,350 - searcharray.indexing - INFO - Indexing begins w/ 4 workers\n",
      "2024-10-31 11:58:48,351 - searcharray.indexing - INFO - 0 Batch Start tokenization\n",
      "2024-10-31 11:58:48,351 - searcharray.indexing - INFO - Tokenizing 10 documents\n",
      "2024-10-31 11:58:48,352 - searcharray.indexing - INFO - Tokenization -- vstacking\n",
      "2024-10-31 11:58:48,352 - searcharray.indexing - INFO - Tokenization -- DONE\n",
      "2024-10-31 11:58:48,352 - searcharray.indexing - INFO - Inverting docs->terms\n",
      "2024-10-31 11:58:48,352 - searcharray.indexing - INFO - Encoding positions to bit array\n",
      "2024-10-31 11:58:48,353 - searcharray.indexing - INFO - Batch tokenization complete\n",
      "2024-10-31 11:58:48,353 - searcharray.indexing - INFO - (main thread) Processing 1 batch results\n",
      "2024-10-31 11:58:48,354 - searcharray.indexing - INFO - Indexing from tokenization complete\n",
      "2024-10-31 11:58:48,368 - searcharray.indexing - INFO - Indexing begins w/ 4 workers\n",
      "2024-10-31 11:58:48,369 - searcharray.indexing - INFO - 0 Batch Start tokenization\n",
      "2024-10-31 11:58:48,369 - searcharray.indexing - INFO - Tokenizing 10 documents\n",
      "2024-10-31 11:58:48,370 - searcharray.indexing - INFO - Tokenization -- vstacking\n",
      "2024-10-31 11:58:48,370 - searcharray.indexing - INFO - Tokenization -- DONE\n",
      "2024-10-31 11:58:48,370 - searcharray.indexing - INFO - Inverting docs->terms\n",
      "2024-10-31 11:58:48,370 - searcharray.indexing - INFO - Encoding positions to bit array\n",
      "2024-10-31 11:58:48,371 - searcharray.indexing - INFO - Batch tokenization complete\n",
      "2024-10-31 11:58:48,371 - searcharray.indexing - INFO - (main thread) Processing 1 batch results\n",
      "2024-10-31 11:58:48,372 - searcharray.indexing - INFO - Indexing from tokenization complete\n",
      "2024-10-31 11:58:48,387 - searcharray.indexing - INFO - Indexing begins w/ 4 workers\n",
      "2024-10-31 11:58:48,388 - searcharray.indexing - INFO - 0 Batch Start tokenization\n",
      "2024-10-31 11:58:48,388 - searcharray.indexing - INFO - Tokenizing 10 documents\n",
      "2024-10-31 11:58:48,389 - searcharray.indexing - INFO - Tokenization -- vstacking\n",
      "2024-10-31 11:58:48,389 - searcharray.indexing - INFO - Tokenization -- DONE\n",
      "2024-10-31 11:58:48,389 - searcharray.indexing - INFO - Inverting docs->terms\n",
      "2024-10-31 11:58:48,390 - searcharray.indexing - INFO - Encoding positions to bit array\n",
      "2024-10-31 11:58:48,391 - searcharray.indexing - INFO - Batch tokenization complete\n",
      "2024-10-31 11:58:48,391 - searcharray.indexing - INFO - (main thread) Processing 1 batch results\n",
      "2024-10-31 11:58:48,392 - searcharray.indexing - INFO - Indexing from tokenization complete\n",
      "2024-10-31 11:58:48,411 - searcharray.indexing - INFO - Indexing begins w/ 4 workers\n",
      "2024-10-31 11:58:48,412 - searcharray.indexing - INFO - 0 Batch Start tokenization\n",
      "2024-10-31 11:58:48,413 - searcharray.indexing - INFO - Tokenizing 10 documents\n",
      "2024-10-31 11:58:48,413 - searcharray.indexing - INFO - Tokenization -- vstacking\n",
      "2024-10-31 11:58:48,413 - searcharray.indexing - INFO - Tokenization -- DONE\n",
      "2024-10-31 11:58:48,414 - searcharray.indexing - INFO - Inverting docs->terms\n",
      "2024-10-31 11:58:48,414 - searcharray.indexing - INFO - Encoding positions to bit array\n",
      "2024-10-31 11:58:48,416 - searcharray.indexing - INFO - Batch tokenization complete\n",
      "2024-10-31 11:58:48,416 - searcharray.indexing - INFO - (main thread) Processing 1 batch results\n",
      "2024-10-31 11:58:48,417 - searcharray.indexing - INFO - Indexing from tokenization complete\n",
      "2024-10-31 11:58:48,424 - searcharray.indexing - INFO - Indexing begins w/ 4 workers\n",
      "2024-10-31 11:58:48,425 - searcharray.indexing - INFO - 0 Batch Start tokenization\n",
      "2024-10-31 11:58:48,426 - searcharray.indexing - INFO - Tokenizing 10 documents\n",
      "2024-10-31 11:58:48,426 - searcharray.indexing - INFO - Tokenization -- vstacking\n",
      "2024-10-31 11:58:48,427 - searcharray.indexing - INFO - Tokenization -- DONE\n",
      "2024-10-31 11:58:48,427 - searcharray.indexing - INFO - Inverting docs->terms\n",
      "2024-10-31 11:58:48,428 - searcharray.indexing - INFO - Encoding positions to bit array\n",
      "2024-10-31 11:58:48,428 - searcharray.indexing - INFO - Batch tokenization complete\n",
      "2024-10-31 11:58:48,429 - searcharray.indexing - INFO - (main thread) Processing 1 batch results\n",
      "2024-10-31 11:58:48,429 - searcharray.indexing - INFO - Indexing from tokenization complete\n",
      "2024-10-31 11:58:48,439 - searcharray.indexing - INFO - Indexing begins w/ 4 workers\n",
      "2024-10-31 11:58:48,440 - searcharray.indexing - INFO - 0 Batch Start tokenization\n",
      "2024-10-31 11:58:48,441 - searcharray.indexing - INFO - Tokenizing 7 documents\n",
      "2024-10-31 11:58:48,441 - searcharray.indexing - INFO - Tokenization -- vstacking\n",
      "2024-10-31 11:58:48,442 - searcharray.indexing - INFO - Tokenization -- DONE\n",
      "2024-10-31 11:58:48,442 - searcharray.indexing - INFO - Inverting docs->terms\n",
      "2024-10-31 11:58:48,442 - searcharray.indexing - INFO - Encoding positions to bit array\n",
      "2024-10-31 11:58:48,443 - searcharray.indexing - INFO - Batch tokenization complete\n",
      "2024-10-31 11:58:48,443 - searcharray.indexing - INFO - (main thread) Processing 1 batch results\n",
      "2024-10-31 11:58:48,443 - searcharray.indexing - INFO - Indexing from tokenization complete\n",
      "2024-10-31 11:58:48,455 - searcharray.indexing - INFO - Indexing begins w/ 4 workers\n",
      "2024-10-31 11:58:48,456 - searcharray.indexing - INFO - 0 Batch Start tokenization\n",
      "2024-10-31 11:58:48,456 - searcharray.indexing - INFO - Tokenizing 2 documents\n",
      "2024-10-31 11:58:48,457 - searcharray.indexing - INFO - Tokenization -- vstacking\n",
      "2024-10-31 11:58:48,457 - searcharray.indexing - INFO - Tokenization -- DONE\n",
      "2024-10-31 11:58:48,458 - searcharray.indexing - INFO - Inverting docs->terms\n",
      "2024-10-31 11:58:48,458 - searcharray.indexing - INFO - Encoding positions to bit array\n",
      "2024-10-31 11:58:48,459 - searcharray.indexing - INFO - Batch tokenization complete\n",
      "2024-10-31 11:58:48,459 - searcharray.indexing - INFO - (main thread) Processing 1 batch results\n",
      "2024-10-31 11:58:48,460 - searcharray.indexing - INFO - Indexing from tokenization complete\n",
      "2024-10-31 11:58:48,472 - searcharray.indexing - INFO - Indexing begins w/ 4 workers\n",
      "2024-10-31 11:58:48,473 - searcharray.indexing - INFO - 0 Batch Start tokenization\n",
      "2024-10-31 11:58:48,474 - searcharray.indexing - INFO - Tokenizing 10 documents\n",
      "2024-10-31 11:58:48,475 - searcharray.indexing - INFO - Tokenization -- vstacking\n",
      "2024-10-31 11:58:48,475 - searcharray.indexing - INFO - Tokenization -- DONE\n",
      "2024-10-31 11:58:48,475 - searcharray.indexing - INFO - Inverting docs->terms\n",
      "2024-10-31 11:58:48,476 - searcharray.indexing - INFO - Encoding positions to bit array\n",
      "2024-10-31 11:58:48,476 - searcharray.indexing - INFO - Batch tokenization complete\n",
      "2024-10-31 11:58:48,476 - searcharray.indexing - INFO - (main thread) Processing 1 batch results\n",
      "2024-10-31 11:58:48,477 - searcharray.indexing - INFO - Indexing from tokenization complete\n",
      "2024-10-31 11:58:48,487 - searcharray.indexing - INFO - Indexing begins w/ 4 workers\n",
      "2024-10-31 11:58:48,488 - searcharray.indexing - INFO - 0 Batch Start tokenization\n",
      "2024-10-31 11:58:48,489 - searcharray.indexing - INFO - Tokenizing 10 documents\n",
      "2024-10-31 11:58:48,489 - searcharray.indexing - INFO - Tokenization -- vstacking\n",
      "2024-10-31 11:58:48,490 - searcharray.indexing - INFO - Tokenization -- DONE\n",
      "2024-10-31 11:58:48,490 - searcharray.indexing - INFO - Inverting docs->terms\n",
      "2024-10-31 11:58:48,491 - searcharray.indexing - INFO - Encoding positions to bit array\n",
      "2024-10-31 11:58:48,492 - searcharray.indexing - INFO - Batch tokenization complete\n",
      "2024-10-31 11:58:48,492 - searcharray.indexing - INFO - (main thread) Processing 1 batch results\n",
      "2024-10-31 11:58:48,493 - searcharray.indexing - INFO - Indexing from tokenization complete\n",
      "2024-10-31 11:58:48,506 - searcharray.indexing - INFO - Indexing begins w/ 4 workers\n",
      "2024-10-31 11:58:48,508 - searcharray.indexing - INFO - 0 Batch Start tokenization\n",
      "2024-10-31 11:58:48,509 - searcharray.indexing - INFO - Tokenizing 10 documents\n",
      "2024-10-31 11:58:48,511 - searcharray.indexing - INFO - Tokenization -- vstacking\n",
      "2024-10-31 11:58:48,511 - searcharray.indexing - INFO - Tokenization -- DONE\n",
      "2024-10-31 11:58:48,511 - searcharray.indexing - INFO - Inverting docs->terms\n",
      "2024-10-31 11:58:48,512 - searcharray.indexing - INFO - Encoding positions to bit array\n",
      "2024-10-31 11:58:48,513 - searcharray.indexing - INFO - Batch tokenization complete\n",
      "2024-10-31 11:58:48,513 - searcharray.indexing - INFO - (main thread) Processing 1 batch results\n",
      "2024-10-31 11:58:48,514 - searcharray.indexing - INFO - Indexing from tokenization complete\n",
      "2024-10-31 11:58:48,529 - searcharray.indexing - INFO - Indexing begins w/ 4 workers\n",
      "2024-10-31 11:58:48,530 - searcharray.indexing - INFO - 0 Batch Start tokenization\n",
      "2024-10-31 11:58:48,530 - searcharray.indexing - INFO - Tokenizing 10 documents\n",
      "2024-10-31 11:58:48,531 - searcharray.indexing - INFO - Tokenization -- vstacking\n",
      "2024-10-31 11:58:48,532 - searcharray.indexing - INFO - Tokenization -- DONE\n",
      "2024-10-31 11:58:48,532 - searcharray.indexing - INFO - Inverting docs->terms\n",
      "2024-10-31 11:58:48,533 - searcharray.indexing - INFO - Encoding positions to bit array\n",
      "2024-10-31 11:58:48,533 - searcharray.indexing - INFO - Batch tokenization complete\n",
      "2024-10-31 11:58:48,533 - searcharray.indexing - INFO - (main thread) Processing 1 batch results\n",
      "2024-10-31 11:58:48,534 - searcharray.indexing - INFO - Indexing from tokenization complete\n",
      "2024-10-31 11:58:48,545 - searcharray.indexing - INFO - Indexing begins w/ 4 workers\n",
      "2024-10-31 11:58:48,546 - searcharray.indexing - INFO - 0 Batch Start tokenization\n",
      "2024-10-31 11:58:48,546 - searcharray.indexing - INFO - Tokenizing 10 documents\n",
      "2024-10-31 11:58:48,547 - searcharray.indexing - INFO - Tokenization -- vstacking\n",
      "2024-10-31 11:58:48,547 - searcharray.indexing - INFO - Tokenization -- DONE\n",
      "2024-10-31 11:58:48,547 - searcharray.indexing - INFO - Inverting docs->terms\n",
      "2024-10-31 11:58:48,547 - searcharray.indexing - INFO - Encoding positions to bit array\n",
      "2024-10-31 11:58:48,548 - searcharray.indexing - INFO - Batch tokenization complete\n",
      "2024-10-31 11:58:48,548 - searcharray.indexing - INFO - (main thread) Processing 1 batch results\n",
      "2024-10-31 11:58:48,549 - searcharray.indexing - INFO - Indexing from tokenization complete\n",
      "2024-10-31 11:58:48,558 - searcharray.indexing - INFO - Indexing begins w/ 4 workers\n",
      "2024-10-31 11:58:48,559 - searcharray.indexing - INFO - 0 Batch Start tokenization\n",
      "2024-10-31 11:58:48,559 - searcharray.indexing - INFO - Tokenizing 9 documents\n",
      "2024-10-31 11:58:48,560 - searcharray.indexing - INFO - Tokenization -- vstacking\n",
      "2024-10-31 11:58:48,560 - searcharray.indexing - INFO - Tokenization -- DONE\n",
      "2024-10-31 11:58:48,560 - searcharray.indexing - INFO - Inverting docs->terms\n",
      "2024-10-31 11:58:48,561 - searcharray.indexing - INFO - Encoding positions to bit array\n",
      "2024-10-31 11:58:48,561 - searcharray.indexing - INFO - Batch tokenization complete\n",
      "2024-10-31 11:58:48,562 - searcharray.indexing - INFO - (main thread) Processing 1 batch results\n",
      "2024-10-31 11:58:48,562 - searcharray.indexing - INFO - Indexing from tokenization complete\n",
      "2024-10-31 11:58:48,572 - searcharray.indexing - INFO - Indexing begins w/ 4 workers\n",
      "2024-10-31 11:58:48,572 - searcharray.indexing - INFO - 0 Batch Start tokenization\n",
      "2024-10-31 11:58:48,573 - searcharray.indexing - INFO - Tokenizing 10 documents\n",
      "2024-10-31 11:58:48,574 - searcharray.indexing - INFO - Tokenization -- vstacking\n",
      "2024-10-31 11:58:48,574 - searcharray.indexing - INFO - Tokenization -- DONE\n",
      "2024-10-31 11:58:48,574 - searcharray.indexing - INFO - Inverting docs->terms\n",
      "2024-10-31 11:58:48,574 - searcharray.indexing - INFO - Encoding positions to bit array\n",
      "2024-10-31 11:58:48,575 - searcharray.indexing - INFO - Batch tokenization complete\n",
      "2024-10-31 11:58:48,575 - searcharray.indexing - INFO - (main thread) Processing 1 batch results\n",
      "2024-10-31 11:58:48,575 - searcharray.indexing - INFO - Indexing from tokenization complete\n",
      "2024-10-31 11:58:48,583 - searcharray.indexing - INFO - Indexing begins w/ 4 workers\n",
      "2024-10-31 11:58:48,583 - searcharray.indexing - INFO - 0 Batch Start tokenization\n",
      "2024-10-31 11:58:48,584 - searcharray.indexing - INFO - Tokenizing 5 documents\n",
      "2024-10-31 11:58:48,584 - searcharray.indexing - INFO - Tokenization -- vstacking\n",
      "2024-10-31 11:58:48,584 - searcharray.indexing - INFO - Tokenization -- DONE\n",
      "2024-10-31 11:58:48,584 - searcharray.indexing - INFO - Inverting docs->terms\n",
      "2024-10-31 11:58:48,584 - searcharray.indexing - INFO - Encoding positions to bit array\n",
      "2024-10-31 11:58:48,585 - searcharray.indexing - INFO - Batch tokenization complete\n",
      "2024-10-31 11:58:48,585 - searcharray.indexing - INFO - (main thread) Processing 1 batch results\n",
      "2024-10-31 11:58:48,586 - searcharray.indexing - INFO - Indexing from tokenization complete\n",
      "2024-10-31 11:58:48,594 - searcharray.indexing - INFO - Indexing begins w/ 4 workers\n",
      "2024-10-31 11:58:48,595 - searcharray.indexing - INFO - 0 Batch Start tokenization\n",
      "2024-10-31 11:58:48,595 - searcharray.indexing - INFO - Tokenizing 8 documents\n",
      "2024-10-31 11:58:48,596 - searcharray.indexing - INFO - Tokenization -- vstacking\n",
      "2024-10-31 11:58:48,596 - searcharray.indexing - INFO - Tokenization -- DONE\n",
      "2024-10-31 11:58:48,596 - searcharray.indexing - INFO - Inverting docs->terms\n",
      "2024-10-31 11:58:48,597 - searcharray.indexing - INFO - Encoding positions to bit array\n",
      "2024-10-31 11:58:48,597 - searcharray.indexing - INFO - Batch tokenization complete\n",
      "2024-10-31 11:58:48,597 - searcharray.indexing - INFO - (main thread) Processing 1 batch results\n",
      "2024-10-31 11:58:48,598 - searcharray.indexing - INFO - Indexing from tokenization complete\n",
      "2024-10-31 11:58:48,612 - searcharray.indexing - INFO - Indexing begins w/ 4 workers\n",
      "2024-10-31 11:58:48,613 - searcharray.indexing - INFO - 0 Batch Start tokenization\n",
      "2024-10-31 11:58:48,613 - searcharray.indexing - INFO - Tokenizing 10 documents\n",
      "2024-10-31 11:58:48,614 - searcharray.indexing - INFO - Tokenization -- vstacking\n",
      "2024-10-31 11:58:48,614 - searcharray.indexing - INFO - Tokenization -- DONE\n",
      "2024-10-31 11:58:48,615 - searcharray.indexing - INFO - Inverting docs->terms\n",
      "2024-10-31 11:58:48,615 - searcharray.indexing - INFO - Encoding positions to bit array\n",
      "2024-10-31 11:58:48,616 - searcharray.indexing - INFO - Batch tokenization complete\n",
      "2024-10-31 11:58:48,616 - searcharray.indexing - INFO - (main thread) Processing 1 batch results\n",
      "2024-10-31 11:58:48,617 - searcharray.indexing - INFO - Indexing from tokenization complete\n",
      "2024-10-31 11:58:48,624 - searcharray.indexing - INFO - Indexing begins w/ 4 workers\n",
      "2024-10-31 11:58:48,625 - searcharray.indexing - INFO - 0 Batch Start tokenization\n",
      "2024-10-31 11:58:48,625 - searcharray.indexing - INFO - Tokenizing 10 documents\n",
      "2024-10-31 11:58:48,626 - searcharray.indexing - INFO - Tokenization -- vstacking\n",
      "2024-10-31 11:58:48,626 - searcharray.indexing - INFO - Tokenization -- DONE\n",
      "2024-10-31 11:58:48,627 - searcharray.indexing - INFO - Inverting docs->terms\n",
      "2024-10-31 11:58:48,627 - searcharray.indexing - INFO - Encoding positions to bit array\n",
      "2024-10-31 11:58:48,627 - searcharray.indexing - INFO - Batch tokenization complete\n",
      "2024-10-31 11:58:48,627 - searcharray.indexing - INFO - (main thread) Processing 1 batch results\n",
      "2024-10-31 11:58:48,628 - searcharray.indexing - INFO - Indexing from tokenization complete\n",
      "2024-10-31 11:58:48,636 - searcharray.indexing - INFO - Indexing begins w/ 4 workers\n",
      "2024-10-31 11:58:48,637 - searcharray.indexing - INFO - 0 Batch Start tokenization\n",
      "2024-10-31 11:58:48,637 - searcharray.indexing - INFO - Tokenizing 10 documents\n",
      "2024-10-31 11:58:48,638 - searcharray.indexing - INFO - Tokenization -- vstacking\n",
      "2024-10-31 11:58:48,638 - searcharray.indexing - INFO - Tokenization -- DONE\n",
      "2024-10-31 11:58:48,638 - searcharray.indexing - INFO - Inverting docs->terms\n",
      "2024-10-31 11:58:48,639 - searcharray.indexing - INFO - Encoding positions to bit array\n",
      "2024-10-31 11:58:48,639 - searcharray.indexing - INFO - Batch tokenization complete\n",
      "2024-10-31 11:58:48,640 - searcharray.indexing - INFO - (main thread) Processing 1 batch results\n",
      "2024-10-31 11:58:48,641 - searcharray.indexing - INFO - Indexing from tokenization complete\n",
      "2024-10-31 11:58:48,650 - searcharray.indexing - INFO - Indexing begins w/ 4 workers\n",
      "2024-10-31 11:58:48,651 - searcharray.indexing - INFO - 0 Batch Start tokenization\n",
      "2024-10-31 11:58:48,651 - searcharray.indexing - INFO - Tokenizing 10 documents\n",
      "2024-10-31 11:58:48,652 - searcharray.indexing - INFO - Tokenization -- vstacking\n",
      "2024-10-31 11:58:48,652 - searcharray.indexing - INFO - Tokenization -- DONE\n",
      "2024-10-31 11:58:48,652 - searcharray.indexing - INFO - Inverting docs->terms\n",
      "2024-10-31 11:58:48,653 - searcharray.indexing - INFO - Encoding positions to bit array\n",
      "2024-10-31 11:58:48,653 - searcharray.indexing - INFO - Batch tokenization complete\n",
      "2024-10-31 11:58:48,653 - searcharray.indexing - INFO - (main thread) Processing 1 batch results\n",
      "2024-10-31 11:58:48,654 - searcharray.indexing - INFO - Indexing from tokenization complete\n",
      "2024-10-31 11:58:48,660 - searcharray.indexing - INFO - Indexing begins w/ 4 workers\n",
      "2024-10-31 11:58:48,661 - searcharray.indexing - INFO - 0 Batch Start tokenization\n",
      "2024-10-31 11:58:48,661 - searcharray.indexing - INFO - Tokenizing 10 documents\n",
      "2024-10-31 11:58:48,662 - searcharray.indexing - INFO - Tokenization -- vstacking\n",
      "2024-10-31 11:58:48,662 - searcharray.indexing - INFO - Tokenization -- DONE\n",
      "2024-10-31 11:58:48,663 - searcharray.indexing - INFO - Inverting docs->terms\n",
      "2024-10-31 11:58:48,663 - searcharray.indexing - INFO - Encoding positions to bit array\n",
      "2024-10-31 11:58:48,663 - searcharray.indexing - INFO - Batch tokenization complete\n",
      "2024-10-31 11:58:48,664 - searcharray.indexing - INFO - (main thread) Processing 1 batch results\n",
      "2024-10-31 11:58:48,665 - searcharray.indexing - INFO - Indexing from tokenization complete\n",
      "2024-10-31 11:58:48,675 - searcharray.indexing - INFO - Indexing begins w/ 4 workers\n",
      "2024-10-31 11:58:48,676 - searcharray.indexing - INFO - 0 Batch Start tokenization\n",
      "2024-10-31 11:58:48,676 - searcharray.indexing - INFO - Tokenizing 10 documents\n",
      "2024-10-31 11:58:48,677 - searcharray.indexing - INFO - Tokenization -- vstacking\n",
      "2024-10-31 11:58:48,677 - searcharray.indexing - INFO - Tokenization -- DONE\n",
      "2024-10-31 11:58:48,678 - searcharray.indexing - INFO - Inverting docs->terms\n",
      "2024-10-31 11:58:48,678 - searcharray.indexing - INFO - Encoding positions to bit array\n",
      "2024-10-31 11:58:48,678 - searcharray.indexing - INFO - Batch tokenization complete\n",
      "2024-10-31 11:58:48,679 - searcharray.indexing - INFO - (main thread) Processing 1 batch results\n",
      "2024-10-31 11:58:48,679 - searcharray.indexing - INFO - Indexing from tokenization complete\n",
      "2024-10-31 11:58:48,694 - searcharray.indexing - INFO - Indexing begins w/ 4 workers\n",
      "2024-10-31 11:58:48,695 - searcharray.indexing - INFO - 0 Batch Start tokenization\n",
      "2024-10-31 11:58:48,696 - searcharray.indexing - INFO - Tokenizing 10 documents\n",
      "2024-10-31 11:58:48,696 - searcharray.indexing - INFO - Tokenization -- vstacking\n",
      "2024-10-31 11:58:48,697 - searcharray.indexing - INFO - Tokenization -- DONE\n",
      "2024-10-31 11:58:48,697 - searcharray.indexing - INFO - Inverting docs->terms\n",
      "2024-10-31 11:58:48,697 - searcharray.indexing - INFO - Encoding positions to bit array\n",
      "2024-10-31 11:58:48,698 - searcharray.indexing - INFO - Batch tokenization complete\n",
      "2024-10-31 11:58:48,698 - searcharray.indexing - INFO - (main thread) Processing 1 batch results\n",
      "2024-10-31 11:58:48,699 - searcharray.indexing - INFO - Indexing from tokenization complete\n",
      "2024-10-31 11:58:48,708 - searcharray.indexing - INFO - Indexing begins w/ 4 workers\n",
      "2024-10-31 11:58:48,708 - searcharray.indexing - INFO - 0 Batch Start tokenization\n",
      "2024-10-31 11:58:48,709 - searcharray.indexing - INFO - Tokenizing 10 documents\n",
      "2024-10-31 11:58:48,709 - searcharray.indexing - INFO - Tokenization -- vstacking\n",
      "2024-10-31 11:58:48,710 - searcharray.indexing - INFO - Tokenization -- DONE\n",
      "2024-10-31 11:58:48,710 - searcharray.indexing - INFO - Inverting docs->terms\n",
      "2024-10-31 11:58:48,710 - searcharray.indexing - INFO - Encoding positions to bit array\n",
      "2024-10-31 11:58:48,711 - searcharray.indexing - INFO - Batch tokenization complete\n",
      "2024-10-31 11:58:48,711 - searcharray.indexing - INFO - (main thread) Processing 1 batch results\n",
      "2024-10-31 11:58:48,712 - searcharray.indexing - INFO - Indexing from tokenization complete\n",
      "2024-10-31 11:58:48,724 - searcharray.indexing - INFO - Indexing begins w/ 4 workers\n",
      "2024-10-31 11:58:48,724 - searcharray.indexing - INFO - 0 Batch Start tokenization\n",
      "2024-10-31 11:58:48,724 - searcharray.indexing - INFO - Tokenizing 9 documents\n",
      "2024-10-31 11:58:48,725 - searcharray.indexing - INFO - Tokenization -- vstacking\n",
      "2024-10-31 11:58:48,725 - searcharray.indexing - INFO - Tokenization -- DONE\n",
      "2024-10-31 11:58:48,725 - searcharray.indexing - INFO - Inverting docs->terms\n",
      "2024-10-31 11:58:48,725 - searcharray.indexing - INFO - Encoding positions to bit array\n",
      "2024-10-31 11:58:48,726 - searcharray.indexing - INFO - Batch tokenization complete\n",
      "2024-10-31 11:58:48,726 - searcharray.indexing - INFO - (main thread) Processing 1 batch results\n",
      "2024-10-31 11:58:48,726 - searcharray.indexing - INFO - Indexing from tokenization complete\n",
      "2024-10-31 11:58:48,732 - searcharray.indexing - INFO - Indexing begins w/ 4 workers\n",
      "2024-10-31 11:58:48,733 - searcharray.indexing - INFO - 0 Batch Start tokenization\n",
      "2024-10-31 11:58:48,733 - searcharray.indexing - INFO - Tokenizing 8 documents\n",
      "2024-10-31 11:58:48,734 - searcharray.indexing - INFO - Tokenization -- vstacking\n",
      "2024-10-31 11:58:48,734 - searcharray.indexing - INFO - Tokenization -- DONE\n",
      "2024-10-31 11:58:48,734 - searcharray.indexing - INFO - Inverting docs->terms\n",
      "2024-10-31 11:58:48,734 - searcharray.indexing - INFO - Encoding positions to bit array\n",
      "2024-10-31 11:58:48,735 - searcharray.indexing - INFO - Batch tokenization complete\n",
      "2024-10-31 11:58:48,735 - searcharray.indexing - INFO - (main thread) Processing 1 batch results\n",
      "2024-10-31 11:58:48,735 - searcharray.indexing - INFO - Indexing from tokenization complete\n",
      "2024-10-31 11:58:48,743 - searcharray.indexing - INFO - Indexing begins w/ 4 workers\n",
      "2024-10-31 11:58:48,743 - searcharray.indexing - INFO - 0 Batch Start tokenization\n",
      "2024-10-31 11:58:48,744 - searcharray.indexing - INFO - Tokenizing 10 documents\n",
      "2024-10-31 11:58:48,744 - searcharray.indexing - INFO - Tokenization -- vstacking\n",
      "2024-10-31 11:58:48,745 - searcharray.indexing - INFO - Tokenization -- DONE\n",
      "2024-10-31 11:58:48,745 - searcharray.indexing - INFO - Inverting docs->terms\n",
      "2024-10-31 11:58:48,745 - searcharray.indexing - INFO - Encoding positions to bit array\n",
      "2024-10-31 11:58:48,746 - searcharray.indexing - INFO - Batch tokenization complete\n",
      "2024-10-31 11:58:48,746 - searcharray.indexing - INFO - (main thread) Processing 1 batch results\n",
      "2024-10-31 11:58:48,747 - searcharray.indexing - INFO - Indexing from tokenization complete\n",
      "2024-10-31 11:58:48,757 - searcharray.indexing - INFO - Indexing begins w/ 4 workers\n",
      "2024-10-31 11:58:48,757 - searcharray.indexing - INFO - 0 Batch Start tokenization\n",
      "2024-10-31 11:58:48,758 - searcharray.indexing - INFO - Tokenizing 10 documents\n",
      "2024-10-31 11:58:48,758 - searcharray.indexing - INFO - Tokenization -- vstacking\n",
      "2024-10-31 11:58:48,758 - searcharray.indexing - INFO - Tokenization -- DONE\n",
      "2024-10-31 11:58:48,758 - searcharray.indexing - INFO - Inverting docs->terms\n",
      "2024-10-31 11:58:48,759 - searcharray.indexing - INFO - Encoding positions to bit array\n",
      "2024-10-31 11:58:48,759 - searcharray.indexing - INFO - Batch tokenization complete\n",
      "2024-10-31 11:58:48,759 - searcharray.indexing - INFO - (main thread) Processing 1 batch results\n",
      "2024-10-31 11:58:48,760 - searcharray.indexing - INFO - Indexing from tokenization complete\n",
      "2024-10-31 11:58:48,783 - searcharray.indexing - INFO - Indexing begins w/ 4 workers\n",
      "2024-10-31 11:58:48,784 - searcharray.indexing - INFO - 0 Batch Start tokenization\n",
      "2024-10-31 11:58:48,786 - searcharray.indexing - INFO - Tokenizing 9 documents\n",
      "2024-10-31 11:58:48,787 - searcharray.indexing - INFO - Tokenization -- vstacking\n",
      "2024-10-31 11:58:48,788 - searcharray.indexing - INFO - Tokenization -- DONE\n",
      "2024-10-31 11:58:48,788 - searcharray.indexing - INFO - Inverting docs->terms\n",
      "2024-10-31 11:58:48,790 - searcharray.indexing - INFO - Encoding positions to bit array\n",
      "2024-10-31 11:58:48,791 - searcharray.indexing - INFO - Batch tokenization complete\n",
      "2024-10-31 11:58:48,792 - searcharray.indexing - INFO - (main thread) Processing 1 batch results\n",
      "2024-10-31 11:58:48,793 - searcharray.indexing - INFO - Indexing from tokenization complete\n",
      "2024-10-31 11:58:48,803 - searcharray.indexing - INFO - Indexing begins w/ 4 workers\n",
      "2024-10-31 11:58:48,804 - searcharray.indexing - INFO - 0 Batch Start tokenization\n",
      "2024-10-31 11:58:48,805 - searcharray.indexing - INFO - Tokenizing 10 documents\n",
      "2024-10-31 11:58:48,807 - searcharray.indexing - INFO - Tokenization -- vstacking\n",
      "2024-10-31 11:58:48,808 - searcharray.indexing - INFO - Tokenization -- DONE\n",
      "2024-10-31 11:58:48,808 - searcharray.indexing - INFO - Inverting docs->terms\n",
      "2024-10-31 11:58:48,809 - searcharray.indexing - INFO - Encoding positions to bit array\n",
      "2024-10-31 11:58:48,809 - searcharray.indexing - INFO - Batch tokenization complete\n",
      "2024-10-31 11:58:48,810 - searcharray.indexing - INFO - (main thread) Processing 1 batch results\n",
      "2024-10-31 11:58:48,811 - searcharray.indexing - INFO - Indexing from tokenization complete\n",
      "2024-10-31 11:58:48,821 - searcharray.indexing - INFO - Indexing begins w/ 4 workers\n",
      "2024-10-31 11:58:48,821 - searcharray.indexing - INFO - 0 Batch Start tokenization\n",
      "2024-10-31 11:58:48,822 - searcharray.indexing - INFO - Tokenizing 10 documents\n",
      "2024-10-31 11:58:48,822 - searcharray.indexing - INFO - Tokenization -- vstacking\n",
      "2024-10-31 11:58:48,822 - searcharray.indexing - INFO - Tokenization -- DONE\n",
      "2024-10-31 11:58:48,823 - searcharray.indexing - INFO - Inverting docs->terms\n",
      "2024-10-31 11:58:48,823 - searcharray.indexing - INFO - Encoding positions to bit array\n",
      "2024-10-31 11:58:48,823 - searcharray.indexing - INFO - Batch tokenization complete\n",
      "2024-10-31 11:58:48,824 - searcharray.indexing - INFO - (main thread) Processing 1 batch results\n",
      "2024-10-31 11:58:48,824 - searcharray.indexing - INFO - Indexing from tokenization complete\n",
      "2024-10-31 11:58:48,833 - searcharray.indexing - INFO - Indexing begins w/ 4 workers\n",
      "2024-10-31 11:58:48,833 - searcharray.indexing - INFO - 0 Batch Start tokenization\n",
      "2024-10-31 11:58:48,834 - searcharray.indexing - INFO - Tokenizing 10 documents\n",
      "2024-10-31 11:58:48,835 - searcharray.indexing - INFO - Tokenization -- vstacking\n",
      "2024-10-31 11:58:48,835 - searcharray.indexing - INFO - Tokenization -- DONE\n",
      "2024-10-31 11:58:48,835 - searcharray.indexing - INFO - Inverting docs->terms\n",
      "2024-10-31 11:58:48,835 - searcharray.indexing - INFO - Encoding positions to bit array\n",
      "2024-10-31 11:58:48,836 - searcharray.indexing - INFO - Batch tokenization complete\n",
      "2024-10-31 11:58:48,836 - searcharray.indexing - INFO - (main thread) Processing 1 batch results\n",
      "2024-10-31 11:58:48,837 - searcharray.indexing - INFO - Indexing from tokenization complete\n",
      "2024-10-31 11:58:48,844 - searcharray.indexing - INFO - Indexing begins w/ 4 workers\n",
      "2024-10-31 11:58:48,845 - searcharray.indexing - INFO - 0 Batch Start tokenization\n",
      "2024-10-31 11:58:48,845 - searcharray.indexing - INFO - Tokenizing 5 documents\n",
      "2024-10-31 11:58:48,846 - searcharray.indexing - INFO - Tokenization -- vstacking\n",
      "2024-10-31 11:58:48,846 - searcharray.indexing - INFO - Tokenization -- DONE\n",
      "2024-10-31 11:58:48,846 - searcharray.indexing - INFO - Inverting docs->terms\n",
      "2024-10-31 11:58:48,846 - searcharray.indexing - INFO - Encoding positions to bit array\n",
      "2024-10-31 11:58:48,847 - searcharray.indexing - INFO - Batch tokenization complete\n",
      "2024-10-31 11:58:48,847 - searcharray.indexing - INFO - (main thread) Processing 1 batch results\n",
      "2024-10-31 11:58:48,848 - searcharray.indexing - INFO - Indexing from tokenization complete\n",
      "2024-10-31 11:58:48,855 - searcharray.indexing - INFO - Indexing begins w/ 4 workers\n",
      "2024-10-31 11:58:48,856 - searcharray.indexing - INFO - 0 Batch Start tokenization\n",
      "2024-10-31 11:58:48,856 - searcharray.indexing - INFO - Tokenizing 10 documents\n",
      "2024-10-31 11:58:48,857 - searcharray.indexing - INFO - Tokenization -- vstacking\n",
      "2024-10-31 11:58:48,858 - searcharray.indexing - INFO - Tokenization -- DONE\n",
      "2024-10-31 11:58:48,858 - searcharray.indexing - INFO - Inverting docs->terms\n",
      "2024-10-31 11:58:48,858 - searcharray.indexing - INFO - Encoding positions to bit array\n",
      "2024-10-31 11:58:48,858 - searcharray.indexing - INFO - Batch tokenization complete\n",
      "2024-10-31 11:58:48,859 - searcharray.indexing - INFO - (main thread) Processing 1 batch results\n",
      "2024-10-31 11:58:48,860 - searcharray.indexing - INFO - Indexing from tokenization complete\n",
      "2024-10-31 11:58:48,867 - searcharray.indexing - INFO - Indexing begins w/ 4 workers\n",
      "2024-10-31 11:58:48,867 - searcharray.indexing - INFO - 0 Batch Start tokenization\n",
      "2024-10-31 11:58:48,868 - searcharray.indexing - INFO - Tokenizing 10 documents\n",
      "2024-10-31 11:58:48,869 - searcharray.indexing - INFO - Tokenization -- vstacking\n",
      "2024-10-31 11:58:48,869 - searcharray.indexing - INFO - Tokenization -- DONE\n",
      "2024-10-31 11:58:48,869 - searcharray.indexing - INFO - Inverting docs->terms\n",
      "2024-10-31 11:58:48,869 - searcharray.indexing - INFO - Encoding positions to bit array\n",
      "2024-10-31 11:58:48,870 - searcharray.indexing - INFO - Batch tokenization complete\n",
      "2024-10-31 11:58:48,870 - searcharray.indexing - INFO - (main thread) Processing 1 batch results\n",
      "2024-10-31 11:58:48,871 - searcharray.indexing - INFO - Indexing from tokenization complete\n",
      "2024-10-31 11:58:48,878 - searcharray.indexing - INFO - Indexing begins w/ 4 workers\n",
      "2024-10-31 11:58:48,878 - searcharray.indexing - INFO - 0 Batch Start tokenization\n",
      "2024-10-31 11:58:48,879 - searcharray.indexing - INFO - Tokenizing 10 documents\n",
      "2024-10-31 11:58:48,880 - searcharray.indexing - INFO - Tokenization -- vstacking\n",
      "2024-10-31 11:58:48,880 - searcharray.indexing - INFO - Tokenization -- DONE\n",
      "2024-10-31 11:58:48,880 - searcharray.indexing - INFO - Inverting docs->terms\n",
      "2024-10-31 11:58:48,881 - searcharray.indexing - INFO - Encoding positions to bit array\n",
      "2024-10-31 11:58:48,881 - searcharray.indexing - INFO - Batch tokenization complete\n",
      "2024-10-31 11:58:48,882 - searcharray.indexing - INFO - (main thread) Processing 1 batch results\n",
      "2024-10-31 11:58:48,882 - searcharray.indexing - INFO - Indexing from tokenization complete\n",
      "2024-10-31 11:58:48,891 - searcharray.indexing - INFO - Indexing begins w/ 4 workers\n",
      "2024-10-31 11:58:48,891 - searcharray.indexing - INFO - 0 Batch Start tokenization\n",
      "2024-10-31 11:58:48,892 - searcharray.indexing - INFO - Tokenizing 10 documents\n",
      "2024-10-31 11:58:48,893 - searcharray.indexing - INFO - Tokenization -- vstacking\n",
      "2024-10-31 11:58:48,893 - searcharray.indexing - INFO - Tokenization -- DONE\n",
      "2024-10-31 11:58:48,893 - searcharray.indexing - INFO - Inverting docs->terms\n",
      "2024-10-31 11:58:48,893 - searcharray.indexing - INFO - Encoding positions to bit array\n",
      "2024-10-31 11:58:48,894 - searcharray.indexing - INFO - Batch tokenization complete\n",
      "2024-10-31 11:58:48,894 - searcharray.indexing - INFO - (main thread) Processing 1 batch results\n",
      "2024-10-31 11:58:48,895 - searcharray.indexing - INFO - Indexing from tokenization complete\n",
      "2024-10-31 11:58:48,902 - searcharray.indexing - INFO - Indexing begins w/ 4 workers\n",
      "2024-10-31 11:58:48,903 - searcharray.indexing - INFO - 0 Batch Start tokenization\n",
      "2024-10-31 11:58:48,904 - searcharray.indexing - INFO - Tokenizing 10 documents\n",
      "2024-10-31 11:58:48,904 - searcharray.indexing - INFO - Tokenization -- vstacking\n",
      "2024-10-31 11:58:48,905 - searcharray.indexing - INFO - Tokenization -- DONE\n",
      "2024-10-31 11:58:48,905 - searcharray.indexing - INFO - Inverting docs->terms\n",
      "2024-10-31 11:58:48,906 - searcharray.indexing - INFO - Encoding positions to bit array\n",
      "2024-10-31 11:58:48,907 - searcharray.indexing - INFO - Batch tokenization complete\n",
      "2024-10-31 11:58:48,907 - searcharray.indexing - INFO - (main thread) Processing 1 batch results\n",
      "2024-10-31 11:58:48,907 - searcharray.indexing - INFO - Indexing from tokenization complete\n",
      "2024-10-31 11:58:48,919 - searcharray.indexing - INFO - Indexing begins w/ 4 workers\n",
      "2024-10-31 11:58:48,920 - searcharray.indexing - INFO - 0 Batch Start tokenization\n",
      "2024-10-31 11:58:48,920 - searcharray.indexing - INFO - Tokenizing 5 documents\n",
      "2024-10-31 11:58:48,920 - searcharray.indexing - INFO - Tokenization -- vstacking\n",
      "2024-10-31 11:58:48,921 - searcharray.indexing - INFO - Tokenization -- DONE\n",
      "2024-10-31 11:58:48,921 - searcharray.indexing - INFO - Inverting docs->terms\n",
      "2024-10-31 11:58:48,921 - searcharray.indexing - INFO - Encoding positions to bit array\n",
      "2024-10-31 11:58:48,922 - searcharray.indexing - INFO - Batch tokenization complete\n",
      "2024-10-31 11:58:48,922 - searcharray.indexing - INFO - (main thread) Processing 1 batch results\n",
      "2024-10-31 11:58:48,923 - searcharray.indexing - INFO - Indexing from tokenization complete\n",
      "2024-10-31 11:58:48,939 - searcharray.indexing - INFO - Indexing begins w/ 4 workers\n",
      "2024-10-31 11:58:48,940 - searcharray.indexing - INFO - 0 Batch Start tokenization\n",
      "2024-10-31 11:58:48,941 - searcharray.indexing - INFO - Tokenizing 10 documents\n",
      "2024-10-31 11:58:48,941 - searcharray.indexing - INFO - Tokenization -- vstacking\n",
      "2024-10-31 11:58:48,941 - searcharray.indexing - INFO - Tokenization -- DONE\n",
      "2024-10-31 11:58:48,942 - searcharray.indexing - INFO - Inverting docs->terms\n",
      "2024-10-31 11:58:48,942 - searcharray.indexing - INFO - Encoding positions to bit array\n",
      "2024-10-31 11:58:48,943 - searcharray.indexing - INFO - Batch tokenization complete\n",
      "2024-10-31 11:58:48,943 - searcharray.indexing - INFO - (main thread) Processing 1 batch results\n",
      "2024-10-31 11:58:48,944 - searcharray.indexing - INFO - Indexing from tokenization complete\n",
      "2024-10-31 11:58:48,952 - searcharray.indexing - INFO - Indexing begins w/ 4 workers\n",
      "2024-10-31 11:58:48,953 - searcharray.indexing - INFO - 0 Batch Start tokenization\n",
      "2024-10-31 11:58:48,953 - searcharray.indexing - INFO - Tokenizing 10 documents\n",
      "2024-10-31 11:58:48,954 - searcharray.indexing - INFO - Tokenization -- vstacking\n",
      "2024-10-31 11:58:48,955 - searcharray.indexing - INFO - Tokenization -- DONE\n",
      "2024-10-31 11:58:48,955 - searcharray.indexing - INFO - Inverting docs->terms\n",
      "2024-10-31 11:58:48,955 - searcharray.indexing - INFO - Encoding positions to bit array\n",
      "2024-10-31 11:58:48,956 - searcharray.indexing - INFO - Batch tokenization complete\n",
      "2024-10-31 11:58:48,957 - searcharray.indexing - INFO - (main thread) Processing 1 batch results\n",
      "2024-10-31 11:58:48,957 - searcharray.indexing - INFO - Indexing from tokenization complete\n",
      "2024-10-31 11:58:48,969 - searcharray.indexing - INFO - Indexing begins w/ 4 workers\n",
      "2024-10-31 11:58:48,969 - searcharray.indexing - INFO - 0 Batch Start tokenization\n",
      "2024-10-31 11:58:48,970 - searcharray.indexing - INFO - Tokenizing 10 documents\n",
      "2024-10-31 11:58:48,970 - searcharray.indexing - INFO - Tokenization -- vstacking\n",
      "2024-10-31 11:58:48,971 - searcharray.indexing - INFO - Tokenization -- DONE\n",
      "2024-10-31 11:58:48,971 - searcharray.indexing - INFO - Inverting docs->terms\n",
      "2024-10-31 11:58:48,971 - searcharray.indexing - INFO - Encoding positions to bit array\n",
      "2024-10-31 11:58:48,971 - searcharray.indexing - INFO - Batch tokenization complete\n",
      "2024-10-31 11:58:48,972 - searcharray.indexing - INFO - (main thread) Processing 1 batch results\n",
      "2024-10-31 11:58:48,973 - searcharray.indexing - INFO - Indexing from tokenization complete\n",
      "2024-10-31 11:58:48,981 - searcharray.indexing - INFO - Indexing begins w/ 4 workers\n",
      "2024-10-31 11:58:48,982 - searcharray.indexing - INFO - 0 Batch Start tokenization\n",
      "2024-10-31 11:58:48,983 - searcharray.indexing - INFO - Tokenizing 10 documents\n",
      "2024-10-31 11:58:48,983 - searcharray.indexing - INFO - Tokenization -- vstacking\n",
      "2024-10-31 11:58:48,983 - searcharray.indexing - INFO - Tokenization -- DONE\n",
      "2024-10-31 11:58:48,984 - searcharray.indexing - INFO - Inverting docs->terms\n",
      "2024-10-31 11:58:48,984 - searcharray.indexing - INFO - Encoding positions to bit array\n",
      "2024-10-31 11:58:48,984 - searcharray.indexing - INFO - Batch tokenization complete\n",
      "2024-10-31 11:58:48,985 - searcharray.indexing - INFO - (main thread) Processing 1 batch results\n",
      "2024-10-31 11:58:48,985 - searcharray.indexing - INFO - Indexing from tokenization complete\n",
      "2024-10-31 11:58:48,992 - searcharray.indexing - INFO - Indexing begins w/ 4 workers\n",
      "2024-10-31 11:58:48,993 - searcharray.indexing - INFO - 0 Batch Start tokenization\n",
      "2024-10-31 11:58:48,993 - searcharray.indexing - INFO - Tokenizing 9 documents\n",
      "2024-10-31 11:58:48,994 - searcharray.indexing - INFO - Tokenization -- vstacking\n",
      "2024-10-31 11:58:48,994 - searcharray.indexing - INFO - Tokenization -- DONE\n",
      "2024-10-31 11:58:48,995 - searcharray.indexing - INFO - Inverting docs->terms\n",
      "2024-10-31 11:58:48,995 - searcharray.indexing - INFO - Encoding positions to bit array\n",
      "2024-10-31 11:58:48,995 - searcharray.indexing - INFO - Batch tokenization complete\n",
      "2024-10-31 11:58:48,996 - searcharray.indexing - INFO - (main thread) Processing 1 batch results\n",
      "2024-10-31 11:58:48,996 - searcharray.indexing - INFO - Indexing from tokenization complete\n",
      "2024-10-31 11:58:49,004 - searcharray.indexing - INFO - Indexing begins w/ 4 workers\n",
      "2024-10-31 11:58:49,004 - searcharray.indexing - INFO - 0 Batch Start tokenization\n",
      "2024-10-31 11:58:49,005 - searcharray.indexing - INFO - Tokenizing 10 documents\n",
      "2024-10-31 11:58:49,005 - searcharray.indexing - INFO - Tokenization -- vstacking\n",
      "2024-10-31 11:58:49,006 - searcharray.indexing - INFO - Tokenization -- DONE\n",
      "2024-10-31 11:58:49,006 - searcharray.indexing - INFO - Inverting docs->terms\n",
      "2024-10-31 11:58:49,007 - searcharray.indexing - INFO - Encoding positions to bit array\n",
      "2024-10-31 11:58:49,007 - searcharray.indexing - INFO - Batch tokenization complete\n",
      "2024-10-31 11:58:49,007 - searcharray.indexing - INFO - (main thread) Processing 1 batch results\n",
      "2024-10-31 11:58:49,008 - searcharray.indexing - INFO - Indexing from tokenization complete\n",
      "2024-10-31 11:58:49,015 - searcharray.indexing - INFO - Indexing begins w/ 4 workers\n",
      "2024-10-31 11:58:49,015 - searcharray.indexing - INFO - 0 Batch Start tokenization\n",
      "2024-10-31 11:58:49,016 - searcharray.indexing - INFO - Tokenizing 10 documents\n",
      "2024-10-31 11:58:49,016 - searcharray.indexing - INFO - Tokenization -- vstacking\n",
      "2024-10-31 11:58:49,016 - searcharray.indexing - INFO - Tokenization -- DONE\n",
      "2024-10-31 11:58:49,017 - searcharray.indexing - INFO - Inverting docs->terms\n",
      "2024-10-31 11:58:49,017 - searcharray.indexing - INFO - Encoding positions to bit array\n",
      "2024-10-31 11:58:49,017 - searcharray.indexing - INFO - Batch tokenization complete\n",
      "2024-10-31 11:58:49,018 - searcharray.indexing - INFO - (main thread) Processing 1 batch results\n",
      "2024-10-31 11:58:49,018 - searcharray.indexing - INFO - Indexing from tokenization complete\n",
      "2024-10-31 11:58:49,026 - searcharray.indexing - INFO - Indexing begins w/ 4 workers\n",
      "2024-10-31 11:58:49,027 - searcharray.indexing - INFO - 0 Batch Start tokenization\n",
      "2024-10-31 11:58:49,027 - searcharray.indexing - INFO - Tokenizing 10 documents\n",
      "2024-10-31 11:58:49,028 - searcharray.indexing - INFO - Tokenization -- vstacking\n",
      "2024-10-31 11:58:49,029 - searcharray.indexing - INFO - Tokenization -- DONE\n",
      "2024-10-31 11:58:49,029 - searcharray.indexing - INFO - Inverting docs->terms\n",
      "2024-10-31 11:58:49,030 - searcharray.indexing - INFO - Encoding positions to bit array\n",
      "2024-10-31 11:58:49,030 - searcharray.indexing - INFO - Batch tokenization complete\n",
      "2024-10-31 11:58:49,031 - searcharray.indexing - INFO - (main thread) Processing 1 batch results\n",
      "2024-10-31 11:58:49,032 - searcharray.indexing - INFO - Indexing from tokenization complete\n",
      "2024-10-31 11:58:49,038 - searcharray.indexing - INFO - Indexing begins w/ 4 workers\n",
      "2024-10-31 11:58:49,039 - searcharray.indexing - INFO - 0 Batch Start tokenization\n",
      "2024-10-31 11:58:49,039 - searcharray.indexing - INFO - Tokenizing 10 documents\n",
      "2024-10-31 11:58:49,040 - searcharray.indexing - INFO - Tokenization -- vstacking\n",
      "2024-10-31 11:58:49,040 - searcharray.indexing - INFO - Tokenization -- DONE\n",
      "2024-10-31 11:58:49,040 - searcharray.indexing - INFO - Inverting docs->terms\n",
      "2024-10-31 11:58:49,041 - searcharray.indexing - INFO - Encoding positions to bit array\n",
      "2024-10-31 11:58:49,041 - searcharray.indexing - INFO - Batch tokenization complete\n",
      "2024-10-31 11:58:49,041 - searcharray.indexing - INFO - (main thread) Processing 1 batch results\n",
      "2024-10-31 11:58:49,042 - searcharray.indexing - INFO - Indexing from tokenization complete\n",
      "2024-10-31 11:58:49,049 - searcharray.indexing - INFO - Indexing begins w/ 4 workers\n",
      "2024-10-31 11:58:49,050 - searcharray.indexing - INFO - 0 Batch Start tokenization\n",
      "2024-10-31 11:58:49,050 - searcharray.indexing - INFO - Tokenizing 4 documents\n",
      "2024-10-31 11:58:49,050 - searcharray.indexing - INFO - Tokenization -- vstacking\n",
      "2024-10-31 11:58:49,051 - searcharray.indexing - INFO - Tokenization -- DONE\n",
      "2024-10-31 11:58:49,051 - searcharray.indexing - INFO - Inverting docs->terms\n",
      "2024-10-31 11:58:49,051 - searcharray.indexing - INFO - Encoding positions to bit array\n",
      "2024-10-31 11:58:49,052 - searcharray.indexing - INFO - Batch tokenization complete\n",
      "2024-10-31 11:58:49,052 - searcharray.indexing - INFO - (main thread) Processing 1 batch results\n",
      "2024-10-31 11:58:49,052 - searcharray.indexing - INFO - Indexing from tokenization complete\n",
      "2024-10-31 11:58:49,059 - searcharray.indexing - INFO - Indexing begins w/ 4 workers\n",
      "2024-10-31 11:58:49,059 - searcharray.indexing - INFO - 0 Batch Start tokenization\n",
      "2024-10-31 11:58:49,060 - searcharray.indexing - INFO - Tokenizing 10 documents\n",
      "2024-10-31 11:58:49,061 - searcharray.indexing - INFO - Tokenization -- vstacking\n",
      "2024-10-31 11:58:49,061 - searcharray.indexing - INFO - Tokenization -- DONE\n",
      "2024-10-31 11:58:49,062 - searcharray.indexing - INFO - Inverting docs->terms\n",
      "2024-10-31 11:58:49,062 - searcharray.indexing - INFO - Encoding positions to bit array\n",
      "2024-10-31 11:58:49,062 - searcharray.indexing - INFO - Batch tokenization complete\n",
      "2024-10-31 11:58:49,063 - searcharray.indexing - INFO - (main thread) Processing 1 batch results\n",
      "2024-10-31 11:58:49,063 - searcharray.indexing - INFO - Indexing from tokenization complete\n",
      "2024-10-31 11:58:49,071 - searcharray.indexing - INFO - Indexing begins w/ 4 workers\n",
      "2024-10-31 11:58:49,071 - searcharray.indexing - INFO - 0 Batch Start tokenization\n",
      "2024-10-31 11:58:49,072 - searcharray.indexing - INFO - Tokenizing 5 documents\n",
      "2024-10-31 11:58:49,072 - searcharray.indexing - INFO - Tokenization -- vstacking\n",
      "2024-10-31 11:58:49,073 - searcharray.indexing - INFO - Tokenization -- DONE\n",
      "2024-10-31 11:58:49,073 - searcharray.indexing - INFO - Inverting docs->terms\n",
      "2024-10-31 11:58:49,073 - searcharray.indexing - INFO - Encoding positions to bit array\n",
      "2024-10-31 11:58:49,074 - searcharray.indexing - INFO - Batch tokenization complete\n",
      "2024-10-31 11:58:49,074 - searcharray.indexing - INFO - (main thread) Processing 1 batch results\n",
      "2024-10-31 11:58:49,074 - searcharray.indexing - INFO - Indexing from tokenization complete\n",
      "2024-10-31 11:58:49,082 - searcharray.indexing - INFO - Indexing begins w/ 4 workers\n",
      "2024-10-31 11:58:49,082 - searcharray.indexing - INFO - 0 Batch Start tokenization\n",
      "2024-10-31 11:58:49,083 - searcharray.indexing - INFO - Tokenizing 10 documents\n",
      "2024-10-31 11:58:49,083 - searcharray.indexing - INFO - Tokenization -- vstacking\n",
      "2024-10-31 11:58:49,083 - searcharray.indexing - INFO - Tokenization -- DONE\n",
      "2024-10-31 11:58:49,084 - searcharray.indexing - INFO - Inverting docs->terms\n",
      "2024-10-31 11:58:49,084 - searcharray.indexing - INFO - Encoding positions to bit array\n",
      "2024-10-31 11:58:49,084 - searcharray.indexing - INFO - Batch tokenization complete\n",
      "2024-10-31 11:58:49,085 - searcharray.indexing - INFO - (main thread) Processing 1 batch results\n",
      "2024-10-31 11:58:49,085 - searcharray.indexing - INFO - Indexing from tokenization complete\n",
      "2024-10-31 11:58:49,093 - searcharray.indexing - INFO - Indexing begins w/ 4 workers\n",
      "2024-10-31 11:58:49,093 - searcharray.indexing - INFO - 0 Batch Start tokenization\n",
      "2024-10-31 11:58:49,094 - searcharray.indexing - INFO - Tokenizing 10 documents\n",
      "2024-10-31 11:58:49,094 - searcharray.indexing - INFO - Tokenization -- vstacking\n",
      "2024-10-31 11:58:49,095 - searcharray.indexing - INFO - Tokenization -- DONE\n",
      "2024-10-31 11:58:49,095 - searcharray.indexing - INFO - Inverting docs->terms\n",
      "2024-10-31 11:58:49,095 - searcharray.indexing - INFO - Encoding positions to bit array\n",
      "2024-10-31 11:58:49,096 - searcharray.indexing - INFO - Batch tokenization complete\n",
      "2024-10-31 11:58:49,096 - searcharray.indexing - INFO - (main thread) Processing 1 batch results\n",
      "2024-10-31 11:58:49,097 - searcharray.indexing - INFO - Indexing from tokenization complete\n",
      "2024-10-31 11:58:49,103 - searcharray.indexing - INFO - Indexing begins w/ 4 workers\n",
      "2024-10-31 11:58:49,104 - searcharray.indexing - INFO - 0 Batch Start tokenization\n",
      "2024-10-31 11:58:49,104 - searcharray.indexing - INFO - Tokenizing 10 documents\n",
      "2024-10-31 11:58:49,104 - searcharray.indexing - INFO - Tokenization -- vstacking\n",
      "2024-10-31 11:58:49,105 - searcharray.indexing - INFO - Tokenization -- DONE\n",
      "2024-10-31 11:58:49,105 - searcharray.indexing - INFO - Inverting docs->terms\n",
      "2024-10-31 11:58:49,105 - searcharray.indexing - INFO - Encoding positions to bit array\n",
      "2024-10-31 11:58:49,106 - searcharray.indexing - INFO - Batch tokenization complete\n",
      "2024-10-31 11:58:49,106 - searcharray.indexing - INFO - (main thread) Processing 1 batch results\n",
      "2024-10-31 11:58:49,107 - searcharray.indexing - INFO - Indexing from tokenization complete\n",
      "2024-10-31 11:58:49,115 - searcharray.indexing - INFO - Indexing begins w/ 4 workers\n",
      "2024-10-31 11:58:49,116 - searcharray.indexing - INFO - 0 Batch Start tokenization\n",
      "2024-10-31 11:58:49,116 - searcharray.indexing - INFO - Tokenizing 2 documents\n",
      "2024-10-31 11:58:49,117 - searcharray.indexing - INFO - Tokenization -- vstacking\n",
      "2024-10-31 11:58:49,117 - searcharray.indexing - INFO - Tokenization -- DONE\n",
      "2024-10-31 11:58:49,117 - searcharray.indexing - INFO - Inverting docs->terms\n",
      "2024-10-31 11:58:49,117 - searcharray.indexing - INFO - Encoding positions to bit array\n",
      "2024-10-31 11:58:49,118 - searcharray.indexing - INFO - Batch tokenization complete\n",
      "2024-10-31 11:58:49,118 - searcharray.indexing - INFO - (main thread) Processing 1 batch results\n",
      "2024-10-31 11:58:49,119 - searcharray.indexing - INFO - Indexing from tokenization complete\n",
      "2024-10-31 11:58:49,126 - searcharray.indexing - INFO - Indexing begins w/ 4 workers\n",
      "2024-10-31 11:58:49,127 - searcharray.indexing - INFO - 0 Batch Start tokenization\n",
      "2024-10-31 11:58:49,127 - searcharray.indexing - INFO - Tokenizing 10 documents\n",
      "2024-10-31 11:58:49,128 - searcharray.indexing - INFO - Tokenization -- vstacking\n",
      "2024-10-31 11:58:49,128 - searcharray.indexing - INFO - Tokenization -- DONE\n",
      "2024-10-31 11:58:49,129 - searcharray.indexing - INFO - Inverting docs->terms\n",
      "2024-10-31 11:58:49,129 - searcharray.indexing - INFO - Encoding positions to bit array\n",
      "2024-10-31 11:58:49,129 - searcharray.indexing - INFO - Batch tokenization complete\n",
      "2024-10-31 11:58:49,130 - searcharray.indexing - INFO - (main thread) Processing 1 batch results\n",
      "2024-10-31 11:58:49,130 - searcharray.indexing - INFO - Indexing from tokenization complete\n",
      "2024-10-31 11:58:49,137 - searcharray.indexing - INFO - Indexing begins w/ 4 workers\n",
      "2024-10-31 11:58:49,138 - searcharray.indexing - INFO - 0 Batch Start tokenization\n",
      "2024-10-31 11:58:49,138 - searcharray.indexing - INFO - Tokenizing 10 documents\n",
      "2024-10-31 11:58:49,139 - searcharray.indexing - INFO - Tokenization -- vstacking\n",
      "2024-10-31 11:58:49,139 - searcharray.indexing - INFO - Tokenization -- DONE\n",
      "2024-10-31 11:58:49,140 - searcharray.indexing - INFO - Inverting docs->terms\n",
      "2024-10-31 11:58:49,140 - searcharray.indexing - INFO - Encoding positions to bit array\n",
      "2024-10-31 11:58:49,140 - searcharray.indexing - INFO - Batch tokenization complete\n",
      "2024-10-31 11:58:49,141 - searcharray.indexing - INFO - (main thread) Processing 1 batch results\n",
      "2024-10-31 11:58:49,141 - searcharray.indexing - INFO - Indexing from tokenization complete\n",
      "2024-10-31 11:58:49,148 - searcharray.indexing - INFO - Indexing begins w/ 4 workers\n",
      "2024-10-31 11:58:49,149 - searcharray.indexing - INFO - 0 Batch Start tokenization\n",
      "2024-10-31 11:58:49,149 - searcharray.indexing - INFO - Tokenizing 3 documents\n",
      "2024-10-31 11:58:49,150 - searcharray.indexing - INFO - Tokenization -- vstacking\n",
      "2024-10-31 11:58:49,150 - searcharray.indexing - INFO - Tokenization -- DONE\n",
      "2024-10-31 11:58:49,151 - searcharray.indexing - INFO - Inverting docs->terms\n",
      "2024-10-31 11:58:49,151 - searcharray.indexing - INFO - Encoding positions to bit array\n",
      "2024-10-31 11:58:49,151 - searcharray.indexing - INFO - Batch tokenization complete\n",
      "2024-10-31 11:58:49,152 - searcharray.indexing - INFO - (main thread) Processing 1 batch results\n",
      "2024-10-31 11:58:49,152 - searcharray.indexing - INFO - Indexing from tokenization complete\n",
      "2024-10-31 11:58:49,160 - searcharray.indexing - INFO - Indexing begins w/ 4 workers\n",
      "2024-10-31 11:58:49,160 - searcharray.indexing - INFO - 0 Batch Start tokenization\n",
      "2024-10-31 11:58:49,161 - searcharray.indexing - INFO - Tokenizing 10 documents\n",
      "2024-10-31 11:58:49,161 - searcharray.indexing - INFO - Tokenization -- vstacking\n",
      "2024-10-31 11:58:49,161 - searcharray.indexing - INFO - Tokenization -- DONE\n",
      "2024-10-31 11:58:49,162 - searcharray.indexing - INFO - Inverting docs->terms\n",
      "2024-10-31 11:58:49,162 - searcharray.indexing - INFO - Encoding positions to bit array\n",
      "2024-10-31 11:58:49,163 - searcharray.indexing - INFO - Batch tokenization complete\n",
      "2024-10-31 11:58:49,163 - searcharray.indexing - INFO - (main thread) Processing 1 batch results\n",
      "2024-10-31 11:58:49,164 - searcharray.indexing - INFO - Indexing from tokenization complete\n",
      "2024-10-31 11:58:49,171 - searcharray.indexing - INFO - Indexing begins w/ 4 workers\n",
      "2024-10-31 11:58:49,172 - searcharray.indexing - INFO - 0 Batch Start tokenization\n",
      "2024-10-31 11:58:49,172 - searcharray.indexing - INFO - Tokenizing 3 documents\n",
      "2024-10-31 11:58:49,173 - searcharray.indexing - INFO - Tokenization -- vstacking\n",
      "2024-10-31 11:58:49,173 - searcharray.indexing - INFO - Tokenization -- DONE\n",
      "2024-10-31 11:58:49,173 - searcharray.indexing - INFO - Inverting docs->terms\n",
      "2024-10-31 11:58:49,174 - searcharray.indexing - INFO - Encoding positions to bit array\n",
      "2024-10-31 11:58:49,174 - searcharray.indexing - INFO - Batch tokenization complete\n",
      "2024-10-31 11:58:49,175 - searcharray.indexing - INFO - (main thread) Processing 1 batch results\n",
      "2024-10-31 11:58:49,175 - searcharray.indexing - INFO - Indexing from tokenization complete\n",
      "2024-10-31 11:58:49,184 - searcharray.indexing - INFO - Indexing begins w/ 4 workers\n",
      "2024-10-31 11:58:49,185 - searcharray.indexing - INFO - 0 Batch Start tokenization\n",
      "2024-10-31 11:58:49,186 - searcharray.indexing - INFO - Tokenizing 10 documents\n",
      "2024-10-31 11:58:49,186 - searcharray.indexing - INFO - Tokenization -- vstacking\n",
      "2024-10-31 11:58:49,187 - searcharray.indexing - INFO - Tokenization -- DONE\n",
      "2024-10-31 11:58:49,187 - searcharray.indexing - INFO - Inverting docs->terms\n",
      "2024-10-31 11:58:49,187 - searcharray.indexing - INFO - Encoding positions to bit array\n",
      "2024-10-31 11:58:49,187 - searcharray.indexing - INFO - Batch tokenization complete\n",
      "2024-10-31 11:58:49,188 - searcharray.indexing - INFO - (main thread) Processing 1 batch results\n",
      "2024-10-31 11:58:49,188 - searcharray.indexing - INFO - Indexing from tokenization complete\n",
      "2024-10-31 11:58:49,196 - searcharray.indexing - INFO - Indexing begins w/ 4 workers\n",
      "2024-10-31 11:58:49,197 - searcharray.indexing - INFO - 0 Batch Start tokenization\n",
      "2024-10-31 11:58:49,198 - searcharray.indexing - INFO - Tokenizing 10 documents\n",
      "2024-10-31 11:58:49,198 - searcharray.indexing - INFO - Tokenization -- vstacking\n",
      "2024-10-31 11:58:49,198 - searcharray.indexing - INFO - Tokenization -- DONE\n",
      "2024-10-31 11:58:49,199 - searcharray.indexing - INFO - Inverting docs->terms\n",
      "2024-10-31 11:58:49,199 - searcharray.indexing - INFO - Encoding positions to bit array\n",
      "2024-10-31 11:58:49,199 - searcharray.indexing - INFO - Batch tokenization complete\n",
      "2024-10-31 11:58:49,200 - searcharray.indexing - INFO - (main thread) Processing 1 batch results\n",
      "2024-10-31 11:58:49,200 - searcharray.indexing - INFO - Indexing from tokenization complete\n",
      "2024-10-31 11:58:49,209 - searcharray.indexing - INFO - Indexing begins w/ 4 workers\n",
      "2024-10-31 11:58:49,210 - searcharray.indexing - INFO - 0 Batch Start tokenization\n",
      "2024-10-31 11:58:49,211 - searcharray.indexing - INFO - Tokenizing 10 documents\n",
      "2024-10-31 11:58:49,211 - searcharray.indexing - INFO - Tokenization -- vstacking\n",
      "2024-10-31 11:58:49,212 - searcharray.indexing - INFO - Tokenization -- DONE\n",
      "2024-10-31 11:58:49,212 - searcharray.indexing - INFO - Inverting docs->terms\n",
      "2024-10-31 11:58:49,212 - searcharray.indexing - INFO - Encoding positions to bit array\n",
      "2024-10-31 11:58:49,213 - searcharray.indexing - INFO - Batch tokenization complete\n",
      "2024-10-31 11:58:49,213 - searcharray.indexing - INFO - (main thread) Processing 1 batch results\n",
      "2024-10-31 11:58:49,214 - searcharray.indexing - INFO - Indexing from tokenization complete\n",
      "2024-10-31 11:58:49,222 - searcharray.indexing - INFO - Indexing begins w/ 4 workers\n",
      "2024-10-31 11:58:49,222 - searcharray.indexing - INFO - 0 Batch Start tokenization\n",
      "2024-10-31 11:58:49,223 - searcharray.indexing - INFO - Tokenizing 10 documents\n",
      "2024-10-31 11:58:49,223 - searcharray.indexing - INFO - Tokenization -- vstacking\n",
      "2024-10-31 11:58:49,223 - searcharray.indexing - INFO - Tokenization -- DONE\n",
      "2024-10-31 11:58:49,224 - searcharray.indexing - INFO - Inverting docs->terms\n",
      "2024-10-31 11:58:49,224 - searcharray.indexing - INFO - Encoding positions to bit array\n",
      "2024-10-31 11:58:49,224 - searcharray.indexing - INFO - Batch tokenization complete\n",
      "2024-10-31 11:58:49,225 - searcharray.indexing - INFO - (main thread) Processing 1 batch results\n",
      "2024-10-31 11:58:49,225 - searcharray.indexing - INFO - Indexing from tokenization complete\n",
      "2024-10-31 11:58:49,231 - searcharray.indexing - INFO - Indexing begins w/ 4 workers\n",
      "2024-10-31 11:58:49,232 - searcharray.indexing - INFO - 0 Batch Start tokenization\n",
      "2024-10-31 11:58:49,232 - searcharray.indexing - INFO - Tokenizing 1 documents\n",
      "2024-10-31 11:58:49,233 - searcharray.indexing - INFO - Tokenization -- vstacking\n",
      "2024-10-31 11:58:49,233 - searcharray.indexing - INFO - Tokenization -- DONE\n",
      "2024-10-31 11:58:49,233 - searcharray.indexing - INFO - Inverting docs->terms\n",
      "2024-10-31 11:58:49,233 - searcharray.indexing - INFO - Encoding positions to bit array\n",
      "2024-10-31 11:58:49,234 - searcharray.indexing - INFO - Batch tokenization complete\n",
      "2024-10-31 11:58:49,234 - searcharray.indexing - INFO - (main thread) Processing 1 batch results\n",
      "2024-10-31 11:58:49,234 - searcharray.indexing - INFO - Indexing from tokenization complete\n",
      "2024-10-31 11:58:49,243 - searcharray.indexing - INFO - Indexing begins w/ 4 workers\n",
      "2024-10-31 11:58:49,243 - searcharray.indexing - INFO - 0 Batch Start tokenization\n",
      "2024-10-31 11:58:49,244 - searcharray.indexing - INFO - Tokenizing 10 documents\n",
      "2024-10-31 11:58:49,244 - searcharray.indexing - INFO - Tokenization -- vstacking\n",
      "2024-10-31 11:58:49,244 - searcharray.indexing - INFO - Tokenization -- DONE\n",
      "2024-10-31 11:58:49,244 - searcharray.indexing - INFO - Inverting docs->terms\n",
      "2024-10-31 11:58:49,245 - searcharray.indexing - INFO - Encoding positions to bit array\n",
      "2024-10-31 11:58:49,245 - searcharray.indexing - INFO - Batch tokenization complete\n",
      "2024-10-31 11:58:49,246 - searcharray.indexing - INFO - (main thread) Processing 1 batch results\n",
      "2024-10-31 11:58:49,246 - searcharray.indexing - INFO - Indexing from tokenization complete\n",
      "2024-10-31 11:58:49,255 - searcharray.indexing - INFO - Indexing begins w/ 4 workers\n",
      "2024-10-31 11:58:49,255 - searcharray.indexing - INFO - 0 Batch Start tokenization\n",
      "2024-10-31 11:58:49,256 - searcharray.indexing - INFO - Tokenizing 10 documents\n",
      "2024-10-31 11:58:49,256 - searcharray.indexing - INFO - Tokenization -- vstacking\n",
      "2024-10-31 11:58:49,257 - searcharray.indexing - INFO - Tokenization -- DONE\n",
      "2024-10-31 11:58:49,257 - searcharray.indexing - INFO - Inverting docs->terms\n",
      "2024-10-31 11:58:49,257 - searcharray.indexing - INFO - Encoding positions to bit array\n",
      "2024-10-31 11:58:49,258 - searcharray.indexing - INFO - Batch tokenization complete\n",
      "2024-10-31 11:58:49,258 - searcharray.indexing - INFO - (main thread) Processing 1 batch results\n",
      "2024-10-31 11:58:49,259 - searcharray.indexing - INFO - Indexing from tokenization complete\n",
      "2024-10-31 11:58:49,267 - searcharray.indexing - INFO - Indexing begins w/ 4 workers\n",
      "2024-10-31 11:58:49,268 - searcharray.indexing - INFO - 0 Batch Start tokenization\n",
      "2024-10-31 11:58:49,269 - searcharray.indexing - INFO - Tokenizing 10 documents\n",
      "2024-10-31 11:58:49,269 - searcharray.indexing - INFO - Tokenization -- vstacking\n",
      "2024-10-31 11:58:49,270 - searcharray.indexing - INFO - Tokenization -- DONE\n",
      "2024-10-31 11:58:49,270 - searcharray.indexing - INFO - Inverting docs->terms\n",
      "2024-10-31 11:58:49,270 - searcharray.indexing - INFO - Encoding positions to bit array\n",
      "2024-10-31 11:58:49,271 - searcharray.indexing - INFO - Batch tokenization complete\n",
      "2024-10-31 11:58:49,271 - searcharray.indexing - INFO - (main thread) Processing 1 batch results\n",
      "2024-10-31 11:58:49,272 - searcharray.indexing - INFO - Indexing from tokenization complete\n",
      "2024-10-31 11:58:49,280 - searcharray.indexing - INFO - Indexing begins w/ 4 workers\n",
      "2024-10-31 11:58:49,281 - searcharray.indexing - INFO - 0 Batch Start tokenization\n",
      "2024-10-31 11:58:49,282 - searcharray.indexing - INFO - Tokenizing 10 documents\n",
      "2024-10-31 11:58:49,282 - searcharray.indexing - INFO - Tokenization -- vstacking\n",
      "2024-10-31 11:58:49,282 - searcharray.indexing - INFO - Tokenization -- DONE\n",
      "2024-10-31 11:58:49,282 - searcharray.indexing - INFO - Inverting docs->terms\n",
      "2024-10-31 11:58:49,283 - searcharray.indexing - INFO - Encoding positions to bit array\n",
      "2024-10-31 11:58:49,283 - searcharray.indexing - INFO - Batch tokenization complete\n",
      "2024-10-31 11:58:49,283 - searcharray.indexing - INFO - (main thread) Processing 1 batch results\n",
      "2024-10-31 11:58:49,284 - searcharray.indexing - INFO - Indexing from tokenization complete\n",
      "2024-10-31 11:58:49,292 - searcharray.indexing - INFO - Indexing begins w/ 4 workers\n",
      "2024-10-31 11:58:49,293 - searcharray.indexing - INFO - 0 Batch Start tokenization\n",
      "2024-10-31 11:58:49,293 - searcharray.indexing - INFO - Tokenizing 10 documents\n",
      "2024-10-31 11:58:49,294 - searcharray.indexing - INFO - Tokenization -- vstacking\n",
      "2024-10-31 11:58:49,295 - searcharray.indexing - INFO - Tokenization -- DONE\n",
      "2024-10-31 11:58:49,295 - searcharray.indexing - INFO - Inverting docs->terms\n",
      "2024-10-31 11:58:49,295 - searcharray.indexing - INFO - Encoding positions to bit array\n",
      "2024-10-31 11:58:49,296 - searcharray.indexing - INFO - Batch tokenization complete\n",
      "2024-10-31 11:58:49,297 - searcharray.indexing - INFO - (main thread) Processing 1 batch results\n",
      "2024-10-31 11:58:49,297 - searcharray.indexing - INFO - Indexing from tokenization complete\n",
      "2024-10-31 11:58:49,307 - searcharray.indexing - INFO - Indexing begins w/ 4 workers\n",
      "2024-10-31 11:58:49,308 - searcharray.indexing - INFO - 0 Batch Start tokenization\n",
      "2024-10-31 11:58:49,308 - searcharray.indexing - INFO - Tokenizing 10 documents\n",
      "2024-10-31 11:58:49,308 - searcharray.indexing - INFO - Tokenization -- vstacking\n",
      "2024-10-31 11:58:49,309 - searcharray.indexing - INFO - Tokenization -- DONE\n",
      "2024-10-31 11:58:49,309 - searcharray.indexing - INFO - Inverting docs->terms\n",
      "2024-10-31 11:58:49,309 - searcharray.indexing - INFO - Encoding positions to bit array\n",
      "2024-10-31 11:58:49,310 - searcharray.indexing - INFO - Batch tokenization complete\n",
      "2024-10-31 11:58:49,310 - searcharray.indexing - INFO - (main thread) Processing 1 batch results\n",
      "2024-10-31 11:58:49,311 - searcharray.indexing - INFO - Indexing from tokenization complete\n",
      "2024-10-31 11:58:49,318 - searcharray.indexing - INFO - Indexing begins w/ 4 workers\n",
      "2024-10-31 11:58:49,319 - searcharray.indexing - INFO - 0 Batch Start tokenization\n",
      "2024-10-31 11:58:49,319 - searcharray.indexing - INFO - Tokenizing 10 documents\n",
      "2024-10-31 11:58:49,320 - searcharray.indexing - INFO - Tokenization -- vstacking\n",
      "2024-10-31 11:58:49,320 - searcharray.indexing - INFO - Tokenization -- DONE\n",
      "2024-10-31 11:58:49,321 - searcharray.indexing - INFO - Inverting docs->terms\n",
      "2024-10-31 11:58:49,321 - searcharray.indexing - INFO - Encoding positions to bit array\n",
      "2024-10-31 11:58:49,322 - searcharray.indexing - INFO - Batch tokenization complete\n",
      "2024-10-31 11:58:49,322 - searcharray.indexing - INFO - (main thread) Processing 1 batch results\n",
      "2024-10-31 11:58:49,323 - searcharray.indexing - INFO - Indexing from tokenization complete\n",
      "2024-10-31 11:58:49,330 - searcharray.indexing - INFO - Indexing begins w/ 4 workers\n",
      "2024-10-31 11:58:49,331 - searcharray.indexing - INFO - 0 Batch Start tokenization\n",
      "2024-10-31 11:58:49,331 - searcharray.indexing - INFO - Tokenizing 10 documents\n",
      "2024-10-31 11:58:49,332 - searcharray.indexing - INFO - Tokenization -- vstacking\n",
      "2024-10-31 11:58:49,332 - searcharray.indexing - INFO - Tokenization -- DONE\n",
      "2024-10-31 11:58:49,332 - searcharray.indexing - INFO - Inverting docs->terms\n",
      "2024-10-31 11:58:49,332 - searcharray.indexing - INFO - Encoding positions to bit array\n",
      "2024-10-31 11:58:49,333 - searcharray.indexing - INFO - Batch tokenization complete\n",
      "2024-10-31 11:58:49,333 - searcharray.indexing - INFO - (main thread) Processing 1 batch results\n",
      "2024-10-31 11:58:49,333 - searcharray.indexing - INFO - Indexing from tokenization complete\n",
      "2024-10-31 11:58:49,340 - searcharray.indexing - INFO - Indexing begins w/ 4 workers\n",
      "2024-10-31 11:58:49,341 - searcharray.indexing - INFO - 0 Batch Start tokenization\n",
      "2024-10-31 11:58:49,341 - searcharray.indexing - INFO - Tokenizing 10 documents\n",
      "2024-10-31 11:58:49,342 - searcharray.indexing - INFO - Tokenization -- vstacking\n",
      "2024-10-31 11:58:49,342 - searcharray.indexing - INFO - Tokenization -- DONE\n",
      "2024-10-31 11:58:49,342 - searcharray.indexing - INFO - Inverting docs->terms\n",
      "2024-10-31 11:58:49,343 - searcharray.indexing - INFO - Encoding positions to bit array\n",
      "2024-10-31 11:58:49,343 - searcharray.indexing - INFO - Batch tokenization complete\n",
      "2024-10-31 11:58:49,344 - searcharray.indexing - INFO - (main thread) Processing 1 batch results\n",
      "2024-10-31 11:58:49,344 - searcharray.indexing - INFO - Indexing from tokenization complete\n",
      "2024-10-31 11:58:49,352 - searcharray.indexing - INFO - Indexing begins w/ 4 workers\n",
      "2024-10-31 11:58:49,353 - searcharray.indexing - INFO - 0 Batch Start tokenization\n",
      "2024-10-31 11:58:49,353 - searcharray.indexing - INFO - Tokenizing 1 documents\n",
      "2024-10-31 11:58:49,354 - searcharray.indexing - INFO - Tokenization -- vstacking\n",
      "2024-10-31 11:58:49,354 - searcharray.indexing - INFO - Tokenization -- DONE\n",
      "2024-10-31 11:58:49,354 - searcharray.indexing - INFO - Inverting docs->terms\n",
      "2024-10-31 11:58:49,355 - searcharray.indexing - INFO - Encoding positions to bit array\n",
      "2024-10-31 11:58:49,355 - searcharray.indexing - INFO - Batch tokenization complete\n",
      "2024-10-31 11:58:49,356 - searcharray.indexing - INFO - (main thread) Processing 1 batch results\n",
      "2024-10-31 11:58:49,356 - searcharray.indexing - INFO - Indexing from tokenization complete\n",
      "2024-10-31 11:58:49,367 - searcharray.indexing - INFO - Indexing begins w/ 4 workers\n",
      "2024-10-31 11:58:49,368 - searcharray.indexing - INFO - 0 Batch Start tokenization\n",
      "2024-10-31 11:58:49,368 - searcharray.indexing - INFO - Tokenizing 8 documents\n",
      "2024-10-31 11:58:49,369 - searcharray.indexing - INFO - Tokenization -- vstacking\n",
      "2024-10-31 11:58:49,369 - searcharray.indexing - INFO - Tokenization -- DONE\n",
      "2024-10-31 11:58:49,369 - searcharray.indexing - INFO - Inverting docs->terms\n",
      "2024-10-31 11:58:49,369 - searcharray.indexing - INFO - Encoding positions to bit array\n",
      "2024-10-31 11:58:49,370 - searcharray.indexing - INFO - Batch tokenization complete\n",
      "2024-10-31 11:58:49,370 - searcharray.indexing - INFO - (main thread) Processing 1 batch results\n",
      "2024-10-31 11:58:49,371 - searcharray.indexing - INFO - Indexing from tokenization complete\n",
      "2024-10-31 11:58:49,381 - searcharray.indexing - INFO - Indexing begins w/ 4 workers\n",
      "2024-10-31 11:58:49,382 - searcharray.indexing - INFO - 0 Batch Start tokenization\n",
      "2024-10-31 11:58:49,382 - searcharray.indexing - INFO - Tokenizing 10 documents\n",
      "2024-10-31 11:58:49,383 - searcharray.indexing - INFO - Tokenization -- vstacking\n",
      "2024-10-31 11:58:49,383 - searcharray.indexing - INFO - Tokenization -- DONE\n",
      "2024-10-31 11:58:49,384 - searcharray.indexing - INFO - Inverting docs->terms\n",
      "2024-10-31 11:58:49,384 - searcharray.indexing - INFO - Encoding positions to bit array\n",
      "2024-10-31 11:58:49,385 - searcharray.indexing - INFO - Batch tokenization complete\n",
      "2024-10-31 11:58:49,385 - searcharray.indexing - INFO - (main thread) Processing 1 batch results\n",
      "2024-10-31 11:58:49,386 - searcharray.indexing - INFO - Indexing from tokenization complete\n"
     ]
    }
   ],
   "source": [
    "df_filtered['max_title_score'] = df_filtered['query_string'].apply(lambda q: max_doc_score(get_titles_for_query(q), q))\n",
    "df_filtered['sum_title_scores'] = df_filtered['query_string'].apply(lambda q: sum_of_doc_scores(get_titles_for_query(q), q))"
   ]
  },
  {
   "cell_type": "code",
   "execution_count": 22,
   "id": "6b8b00b7-0b13-43ec-902e-f0a0d63caff1",
   "metadata": {},
   "outputs": [],
   "source": [
    "df_filtered['max_semantic_score'] = df_filtered['query_string'].apply(lambda q: max(get_semantic_scores_for_query(q)))\n",
    "df_filtered['avg_semantic_score'] = df_filtered['query_string'].apply(lambda q: np.mean(get_semantic_scores_for_query(q)))"
   ]
  },
  {
   "cell_type": "code",
   "execution_count": 23,
   "id": "ef69057d-4f35-4e1d-a083-1b676dc8f12d",
   "metadata": {},
   "outputs": [
    {
     "data": {
      "text/html": [
       "<div>\n",
       "<style scoped>\n",
       "    .dataframe tbody tr th:only-of-type {\n",
       "        vertical-align: middle;\n",
       "    }\n",
       "\n",
       "    .dataframe tbody tr th {\n",
       "        vertical-align: top;\n",
       "    }\n",
       "\n",
       "    .dataframe thead th {\n",
       "        text-align: right;\n",
       "    }\n",
       "</style>\n",
       "<table border=\"1\" class=\"dataframe\">\n",
       "  <thead>\n",
       "    <tr style=\"text-align: right;\">\n",
       "      <th></th>\n",
       "      <th>query_string</th>\n",
       "      <th>ndcg</th>\n",
       "      <th>neuralness</th>\n",
       "      <th>num_of_terms</th>\n",
       "      <th>query_length</th>\n",
       "      <th>has_numbers</th>\n",
       "      <th>has_special_char</th>\n",
       "      <th>num_results</th>\n",
       "      <th>max_title_score</th>\n",
       "      <th>sum_title_scores</th>\n",
       "      <th>max_semantic_score</th>\n",
       "      <th>avg_semantic_score</th>\n",
       "    </tr>\n",
       "  </thead>\n",
       "  <tbody>\n",
       "    <tr>\n",
       "      <th>0</th>\n",
       "      <td>$30 roblox gift card not digital</td>\n",
       "      <td>0.075767</td>\n",
       "      <td>1.0</td>\n",
       "      <td>6</td>\n",
       "      <td>32</td>\n",
       "      <td>1</td>\n",
       "      <td>1</td>\n",
       "      <td>0</td>\n",
       "      <td>0.000000</td>\n",
       "      <td>0.000000</td>\n",
       "      <td>0.723621</td>\n",
       "      <td>0.690628</td>\n",
       "    </tr>\n",
       "    <tr>\n",
       "      <th>1</th>\n",
       "      <td>(fiction without frontiers)</td>\n",
       "      <td>0.451875</td>\n",
       "      <td>0.9</td>\n",
       "      <td>3</td>\n",
       "      <td>27</td>\n",
       "      <td>0</td>\n",
       "      <td>1</td>\n",
       "      <td>42</td>\n",
       "      <td>0.163126</td>\n",
       "      <td>1.418506</td>\n",
       "      <td>0.730339</td>\n",
       "      <td>0.693966</td>\n",
       "    </tr>\n",
       "    <tr>\n",
       "      <th>2</th>\n",
       "      <td>100</td>\n",
       "      <td>0.332592</td>\n",
       "      <td>0.8</td>\n",
       "      <td>1</td>\n",
       "      <td>3</td>\n",
       "      <td>1</td>\n",
       "      <td>0</td>\n",
       "      <td>220506</td>\n",
       "      <td>0.187512</td>\n",
       "      <td>1.249529</td>\n",
       "      <td>1.000000</td>\n",
       "      <td>0.637586</td>\n",
       "    </tr>\n",
       "    <tr>\n",
       "      <th>3</th>\n",
       "      <td>10x10x6 cake box without window</td>\n",
       "      <td>0.099900</td>\n",
       "      <td>1.0</td>\n",
       "      <td>5</td>\n",
       "      <td>31</td>\n",
       "      <td>1</td>\n",
       "      <td>0</td>\n",
       "      <td>0</td>\n",
       "      <td>0.000000</td>\n",
       "      <td>0.000000</td>\n",
       "      <td>0.637134</td>\n",
       "      <td>0.614345</td>\n",
       "    </tr>\n",
       "    <tr>\n",
       "      <th>4</th>\n",
       "      <td>15 inch light weight laptop that has lots of m...</td>\n",
       "      <td>0.039399</td>\n",
       "      <td>0.0</td>\n",
       "      <td>28</td>\n",
       "      <td>125</td>\n",
       "      <td>1</td>\n",
       "      <td>1</td>\n",
       "      <td>0</td>\n",
       "      <td>0.000000</td>\n",
       "      <td>0.000000</td>\n",
       "      <td>0.656478</td>\n",
       "      <td>0.611948</td>\n",
       "    </tr>\n",
       "  </tbody>\n",
       "</table>\n",
       "</div>"
      ],
      "text/plain": [
       "                                        query_string      ndcg  neuralness  \\\n",
       "0                   $30 roblox gift card not digital  0.075767         1.0   \n",
       "1                        (fiction without frontiers)  0.451875         0.9   \n",
       "2                                                100  0.332592         0.8   \n",
       "3                    10x10x6 cake box without window  0.099900         1.0   \n",
       "4  15 inch light weight laptop that has lots of m...  0.039399         0.0   \n",
       "\n",
       "   num_of_terms  query_length  has_numbers  has_special_char  num_results  \\\n",
       "0             6            32            1                 1            0   \n",
       "1             3            27            0                 1           42   \n",
       "2             1             3            1                 0       220506   \n",
       "3             5            31            1                 0            0   \n",
       "4            28           125            1                 1            0   \n",
       "\n",
       "   max_title_score  sum_title_scores  max_semantic_score  avg_semantic_score  \n",
       "0         0.000000          0.000000            0.723621            0.690628  \n",
       "1         0.163126          1.418506            0.730339            0.693966  \n",
       "2         0.187512          1.249529            1.000000            0.637586  \n",
       "3         0.000000          0.000000            0.637134            0.614345  \n",
       "4         0.000000          0.000000            0.656478            0.611948  "
      ]
     },
     "execution_count": 23,
     "metadata": {},
     "output_type": "execute_result"
    }
   ],
   "source": [
    "df_filtered.head(5)"
   ]
  },
  {
   "cell_type": "code",
   "execution_count": 24,
   "id": "bc018b6d-df2b-40dc-a56a-7c3bcc7be6a6",
   "metadata": {},
   "outputs": [
    {
     "data": {
      "text/plain": [
       "Index(['query_string', 'ndcg', 'neuralness', 'num_of_terms', 'query_length',\n",
       "       'has_numbers', 'has_special_char', 'num_results', 'max_title_score',\n",
       "       'sum_title_scores', 'max_semantic_score', 'avg_semantic_score'],\n",
       "      dtype='object')"
      ]
     },
     "execution_count": 24,
     "metadata": {},
     "output_type": "execute_result"
    }
   ],
   "source": [
    "df_filtered.columns"
   ]
  },
  {
   "cell_type": "code",
   "execution_count": 25,
   "id": "621c7c17-37da-4ba9-94e7-2934b608e832",
   "metadata": {},
   "outputs": [],
   "source": [
    "# rename the columns\n",
    "df_filtered = df_filtered.rename(columns={\"num_of_terms\": \"f_1_num_of_terms\",\n",
    "                            \"query_length\": \"f_2_query_length\",\n",
    "                            \"has_numbers\": \"f_3_has_numbers\",\n",
    "                            \"has_special_char\": \"f_4_has_special_char\",\n",
    "                            \"num_results\": \"f_5_num_results\",\n",
    "                            \"max_title_score\": \"f_6_max_title_score\",\n",
    "                            \"sum_title_scores\": \"f_7_sum_title_scores\",\n",
    "                            \"max_semantic_score\": \"f_8_max_semantic_score\",\n",
    "                            \"avg_semantic_score\": \"f_9_avg_semantic_score\"\n",
    "                           })"
   ]
  },
  {
   "cell_type": "markdown",
   "id": "d00bf3f4-39b6-4c1b-97c1-d8e7a39d1ad3",
   "metadata": {},
   "source": [
    "## Explore Random Forest Regression Models with Different Feature Combinations"
   ]
  },
  {
   "cell_type": "code",
   "execution_count": 26,
   "id": "70c5d22e-9051-4431-86cd-da6efc6a3c7f",
   "metadata": {
    "scrolled": true
   },
   "outputs": [
    {
     "name": "stdout",
     "output_type": "stream",
     "text": [
      "Best Feature Combination: ('f_3_has_numbers', 'f_5_num_results')\n",
      "Best Metrics:\n",
      "Accuracy (mean): -0.5832870346644605\n",
      "Accuracy (std dev): 0.1380072413446842\n",
      "Cross-Validation RMSE (mean): 0.4026574910282884\n"
     ]
    }
   ],
   "source": [
    "from sklearn.model_selection import ShuffleSplit, cross_val_score\n",
    "from sklearn.ensemble import RandomForestRegressor\n",
    "from sklearn.metrics import make_scorer, root_mean_squared_error, r2_score\n",
    "from itertools import combinations\n",
    "import numpy as np\n",
    "import pandas as pd\n",
    "\n",
    "# Prepare features and target\n",
    "feature_columns = [ \"f_1_num_of_terms\", \"f_2_query_length\", \"f_3_has_numbers\", \"f_4_has_special_char\", \"f_5_num_results\",\n",
    "                   \"f_6_max_title_score\", \"f_7_sum_title_scores\", \"f_8_max_semantic_score\",  \"f_9_avg_semantic_score\"]\n",
    "kws_features = [\"f_5_num_results\", \"f_6_max_title_score\", \"f_7_sum_title_scores\"]\n",
    "neural_search_features = [\"f_8_max_semantic_score\",  \"f_9_avg_semantic_score\"]\n",
    "query_features = [\"f_1_num_of_terms\",  \"f_2_query_length\", \"f_3_has_numbers\", \"f_4_has_special_char\"]\n",
    "\n",
    "y = df_filtered['neuralness']  # Target column\n",
    "\n",
    "# Initialize cross-validation strategy\n",
    "cv = ShuffleSplit(n_splits=5, test_size=0.2, random_state=0)\n",
    "\n",
    "# Define the model\n",
    "model = RandomForestRegressor(random_state=42)\n",
    "\n",
    "rmse_scorer = make_scorer(root_mean_squared_error, greater_is_better=False)\n",
    "\n",
    "# Initialize variables to track the best combination\n",
    "best_score = float('-inf')\n",
    "best_combination = None\n",
    "best_metrics = {}\n",
    "df_metrics = []\n",
    "\n",
    "# Try all feature combinations of length 2 to 9\n",
    "for r in range(2, len(feature_columns) + 1):\n",
    "    for combo in combinations(feature_columns, r):\n",
    "        X = df_filtered[list(combo)]  # Select current feature subset\n",
    "        \n",
    "        # Perform cross-validation\n",
    "        scores = cross_val_score(model, X, y, cv=cv)\n",
    "        rmse_scores = cross_val_score(model, X, y, cv=cv, scoring=rmse_scorer)\n",
    "        \n",
    "        # Calculate the mean metrics for the current combination\n",
    "        mean_score = scores.mean()\n",
    "        std_score = scores.std()\n",
    "        mean_rmse = -np.mean(rmse_scores)  # Since RMSE scorer is negative for minimization\n",
    "\n",
    "        # does the current combination contain keyword search features\n",
    "        keyword_b = any(feature in combo for feature in kws_features)\n",
    "        # does the current combination contain neural search features\n",
    "        neural_b = any(feature in combo for feature in neural_search_features)\n",
    "        # does the current combination contain query features\n",
    "        query_b = any(feature in combo for feature in query_features)\n",
    "        \n",
    "        df_metrics.append(pd.DataFrame({\n",
    "            \"features\": [combo]*5,\n",
    "            \"scores\": scores,\n",
    "            \"rmse_scores\": rmse_scores,\n",
    "            \"keyword_f\": [keyword_b]*5,\n",
    "            \"neural_f\": [neural_b]*5,\n",
    "            \"query_f\": [query_b]*5,\n",
    "            }))\n",
    "        # Update if the current combination is better\n",
    "        if mean_rmse > best_score:\n",
    "            best_score = mean_rmse\n",
    "            best_combination = combo\n",
    "            best_metrics = {\n",
    "                'Accuracy (mean)': mean_score,\n",
    "                'Accuracy (std dev)': std_score,\n",
    "                'RMSE (mean)': mean_rmse\n",
    "            }\n",
    "df_metrics = pd.concat(df_metrics)\n",
    "# Output the best feature combination and its metrics\n",
    "print(\"Best Feature Combination:\", best_combination)\n",
    "print(\"Best Metrics:\")\n",
    "print(f\"Accuracy (mean): {best_metrics['Accuracy (mean)']}\")\n",
    "print(f\"Accuracy (std dev): {best_metrics['Accuracy (std dev)']}\")\n",
    "print(f\"Cross-Validation RMSE (mean): {best_metrics['RMSE (mean)']}\")"
   ]
  },
  {
   "cell_type": "code",
   "execution_count": 27,
   "id": "1c13cdcd-ae26-463d-af88-b8ff366f10de",
   "metadata": {},
   "outputs": [
    {
     "data": {
      "text/html": [
       "<div>\n",
       "<style scoped>\n",
       "    .dataframe tbody tr th:only-of-type {\n",
       "        vertical-align: middle;\n",
       "    }\n",
       "\n",
       "    .dataframe tbody tr th {\n",
       "        vertical-align: top;\n",
       "    }\n",
       "\n",
       "    .dataframe thead th {\n",
       "        text-align: right;\n",
       "    }\n",
       "</style>\n",
       "<table border=\"1\" class=\"dataframe\">\n",
       "  <thead>\n",
       "    <tr style=\"text-align: right;\">\n",
       "      <th></th>\n",
       "      <th>features</th>\n",
       "      <th>scores</th>\n",
       "      <th>rmse_scores</th>\n",
       "      <th>keyword_f</th>\n",
       "      <th>neural_f</th>\n",
       "      <th>query_f</th>\n",
       "    </tr>\n",
       "  </thead>\n",
       "  <tbody>\n",
       "    <tr>\n",
       "      <th>0</th>\n",
       "      <td>(f_1_num_of_terms, f_2_query_length)</td>\n",
       "      <td>-0.355622</td>\n",
       "      <td>-0.392739</td>\n",
       "      <td>False</td>\n",
       "      <td>False</td>\n",
       "      <td>True</td>\n",
       "    </tr>\n",
       "    <tr>\n",
       "      <th>1</th>\n",
       "      <td>(f_1_num_of_terms, f_2_query_length)</td>\n",
       "      <td>-0.501152</td>\n",
       "      <td>-0.422110</td>\n",
       "      <td>False</td>\n",
       "      <td>False</td>\n",
       "      <td>True</td>\n",
       "    </tr>\n",
       "    <tr>\n",
       "      <th>2</th>\n",
       "      <td>(f_1_num_of_terms, f_2_query_length)</td>\n",
       "      <td>-0.294621</td>\n",
       "      <td>-0.318900</td>\n",
       "      <td>False</td>\n",
       "      <td>False</td>\n",
       "      <td>True</td>\n",
       "    </tr>\n",
       "  </tbody>\n",
       "</table>\n",
       "</div>"
      ],
      "text/plain": [
       "                               features    scores  rmse_scores  keyword_f  \\\n",
       "0  (f_1_num_of_terms, f_2_query_length) -0.355622    -0.392739      False   \n",
       "1  (f_1_num_of_terms, f_2_query_length) -0.501152    -0.422110      False   \n",
       "2  (f_1_num_of_terms, f_2_query_length) -0.294621    -0.318900      False   \n",
       "\n",
       "   neural_f  query_f  \n",
       "0     False     True  \n",
       "1     False     True  \n",
       "2     False     True  "
      ]
     },
     "execution_count": 27,
     "metadata": {},
     "output_type": "execute_result"
    }
   ],
   "source": [
    "df_metrics.head(3)"
   ]
  },
  {
   "cell_type": "code",
   "execution_count": 28,
   "id": "f02f980d-78f1-4672-a082-a028c6aecf12",
   "metadata": {},
   "outputs": [],
   "source": [
    "df_metrics['rmse_scores'] = df_metrics.rmse_scores.apply(lambda x: (-1)*x)\n",
    "df_metrics['features'] =  df_metrics.features.apply(lambda x: ','.join(x))"
   ]
  },
  {
   "cell_type": "markdown",
   "id": "23707f4c-f088-4d33-9255-c80820172d4d",
   "metadata": {},
   "source": [
    "We have five rows per feature combination for the 5-fold cross-validation we ran"
   ]
  },
  {
   "cell_type": "code",
   "execution_count": 29,
   "id": "c6274e7f-f981-4b0c-be3b-8743dd5543a3",
   "metadata": {},
   "outputs": [
    {
     "data": {
      "text/html": [
       "<div>\n",
       "<style scoped>\n",
       "    .dataframe tbody tr th:only-of-type {\n",
       "        vertical-align: middle;\n",
       "    }\n",
       "\n",
       "    .dataframe tbody tr th {\n",
       "        vertical-align: top;\n",
       "    }\n",
       "\n",
       "    .dataframe thead th {\n",
       "        text-align: right;\n",
       "    }\n",
       "</style>\n",
       "<table border=\"1\" class=\"dataframe\">\n",
       "  <thead>\n",
       "    <tr style=\"text-align: right;\">\n",
       "      <th></th>\n",
       "      <th>features</th>\n",
       "      <th>scores</th>\n",
       "      <th>rmse_scores</th>\n",
       "      <th>keyword_f</th>\n",
       "      <th>neural_f</th>\n",
       "      <th>query_f</th>\n",
       "    </tr>\n",
       "  </thead>\n",
       "  <tbody>\n",
       "    <tr>\n",
       "      <th>0</th>\n",
       "      <td>f_1_num_of_terms,f_2_query_length</td>\n",
       "      <td>-0.355622</td>\n",
       "      <td>0.392739</td>\n",
       "      <td>False</td>\n",
       "      <td>False</td>\n",
       "      <td>True</td>\n",
       "    </tr>\n",
       "    <tr>\n",
       "      <th>1</th>\n",
       "      <td>f_1_num_of_terms,f_2_query_length</td>\n",
       "      <td>-0.501152</td>\n",
       "      <td>0.422110</td>\n",
       "      <td>False</td>\n",
       "      <td>False</td>\n",
       "      <td>True</td>\n",
       "    </tr>\n",
       "    <tr>\n",
       "      <th>2</th>\n",
       "      <td>f_1_num_of_terms,f_2_query_length</td>\n",
       "      <td>-0.294621</td>\n",
       "      <td>0.318900</td>\n",
       "      <td>False</td>\n",
       "      <td>False</td>\n",
       "      <td>True</td>\n",
       "    </tr>\n",
       "    <tr>\n",
       "      <th>3</th>\n",
       "      <td>f_1_num_of_terms,f_2_query_length</td>\n",
       "      <td>-0.438284</td>\n",
       "      <td>0.365887</td>\n",
       "      <td>False</td>\n",
       "      <td>False</td>\n",
       "      <td>True</td>\n",
       "    </tr>\n",
       "    <tr>\n",
       "      <th>4</th>\n",
       "      <td>f_1_num_of_terms,f_2_query_length</td>\n",
       "      <td>-0.448687</td>\n",
       "      <td>0.400391</td>\n",
       "      <td>False</td>\n",
       "      <td>False</td>\n",
       "      <td>True</td>\n",
       "    </tr>\n",
       "    <tr>\n",
       "      <th>0</th>\n",
       "      <td>f_1_num_of_terms,f_3_has_numbers</td>\n",
       "      <td>0.079681</td>\n",
       "      <td>0.323597</td>\n",
       "      <td>False</td>\n",
       "      <td>False</td>\n",
       "      <td>True</td>\n",
       "    </tr>\n",
       "  </tbody>\n",
       "</table>\n",
       "</div>"
      ],
      "text/plain": [
       "                            features    scores  rmse_scores  keyword_f  \\\n",
       "0  f_1_num_of_terms,f_2_query_length -0.355622     0.392739      False   \n",
       "1  f_1_num_of_terms,f_2_query_length -0.501152     0.422110      False   \n",
       "2  f_1_num_of_terms,f_2_query_length -0.294621     0.318900      False   \n",
       "3  f_1_num_of_terms,f_2_query_length -0.438284     0.365887      False   \n",
       "4  f_1_num_of_terms,f_2_query_length -0.448687     0.400391      False   \n",
       "0   f_1_num_of_terms,f_3_has_numbers  0.079681     0.323597      False   \n",
       "\n",
       "   neural_f  query_f  \n",
       "0     False     True  \n",
       "1     False     True  \n",
       "2     False     True  \n",
       "3     False     True  \n",
       "4     False     True  \n",
       "0     False     True  "
      ]
     },
     "execution_count": 29,
     "metadata": {},
     "output_type": "execute_result"
    }
   ],
   "source": [
    "df_metrics.head(6)"
   ]
  },
  {
   "cell_type": "markdown",
   "id": "f98e45ed-6a5b-42a1-853d-ea7c17dd0604",
   "metadata": {},
   "source": [
    "## Metric Aggregation\n",
    "\n",
    "We want to look at different visualizations to analyze differences in feature combinations and also model types."
   ]
  },
  {
   "cell_type": "code",
   "execution_count": 30,
   "id": "3576e67e-5824-44d2-b48d-6232463f3289",
   "metadata": {},
   "outputs": [],
   "source": [
    "df_agg_metrics = df_metrics.groupby(by=['features', 'keyword_f', 'neural_f', 'query_f']).agg({\n",
    "    'rmse_scores': ['mean', 'var']\n",
    "}).reset_index()"
   ]
  },
  {
   "cell_type": "code",
   "execution_count": 31,
   "id": "f78e5008-4008-430e-b679-2a41040c847a",
   "metadata": {},
   "outputs": [],
   "source": [
    "df_agg_metrics.columns = ['features', 'keyword_f', 'neural_f', 'query_f', 'mean_rmse', 'var_rmse']"
   ]
  },
  {
   "cell_type": "code",
   "execution_count": 32,
   "id": "75e8aa52-080e-4097-a1c1-f3bf5ebee9a9",
   "metadata": {},
   "outputs": [],
   "source": [
    "pd.set_option(\"display.max_colwidth\", 250)"
   ]
  },
  {
   "cell_type": "code",
   "execution_count": 33,
   "id": "367c5c92-7bdd-4a8e-af02-5f037e52e977",
   "metadata": {},
   "outputs": [
    {
     "data": {
      "text/html": [
       "<div>\n",
       "<style scoped>\n",
       "    .dataframe tbody tr th:only-of-type {\n",
       "        vertical-align: middle;\n",
       "    }\n",
       "\n",
       "    .dataframe tbody tr th {\n",
       "        vertical-align: top;\n",
       "    }\n",
       "\n",
       "    .dataframe thead th {\n",
       "        text-align: right;\n",
       "    }\n",
       "</style>\n",
       "<table border=\"1\" class=\"dataframe\">\n",
       "  <thead>\n",
       "    <tr style=\"text-align: right;\">\n",
       "      <th></th>\n",
       "      <th>features</th>\n",
       "      <th>keyword_f</th>\n",
       "      <th>neural_f</th>\n",
       "      <th>query_f</th>\n",
       "      <th>mean_rmse</th>\n",
       "      <th>var_rmse</th>\n",
       "    </tr>\n",
       "  </thead>\n",
       "  <tbody>\n",
       "    <tr>\n",
       "      <th>109</th>\n",
       "      <td>f_1_num_of_terms,f_2_query_length,f_5_num_results,f_7_sum_title_scores,f_9_avg_semantic_score</td>\n",
       "      <td>True</td>\n",
       "      <td>True</td>\n",
       "      <td>True</td>\n",
       "      <td>0.322681</td>\n",
       "      <td>0.000902</td>\n",
       "    </tr>\n",
       "    <tr>\n",
       "      <th>363</th>\n",
       "      <td>f_2_query_length,f_5_num_results,f_7_sum_title_scores,f_9_avg_semantic_score</td>\n",
       "      <td>True</td>\n",
       "      <td>True</td>\n",
       "      <td>True</td>\n",
       "      <td>0.322931</td>\n",
       "      <td>0.000864</td>\n",
       "    </tr>\n",
       "    <tr>\n",
       "      <th>78</th>\n",
       "      <td>f_1_num_of_terms,f_2_query_length,f_4_has_special_char,f_5_num_results,f_7_sum_title_scores,f_9_avg_semantic_score</td>\n",
       "      <td>True</td>\n",
       "      <td>True</td>\n",
       "      <td>True</td>\n",
       "      <td>0.324241</td>\n",
       "      <td>0.001113</td>\n",
       "    </tr>\n",
       "    <tr>\n",
       "      <th>15</th>\n",
       "      <td>f_1_num_of_terms,f_2_query_length,f_3_has_numbers,f_4_has_special_char,f_5_num_results,f_7_sum_title_scores,f_9_avg_semantic_score</td>\n",
       "      <td>True</td>\n",
       "      <td>True</td>\n",
       "      <td>True</td>\n",
       "      <td>0.324400</td>\n",
       "      <td>0.000893</td>\n",
       "    </tr>\n",
       "    <tr>\n",
       "      <th>332</th>\n",
       "      <td>f_2_query_length,f_4_has_special_char,f_5_num_results,f_7_sum_title_scores,f_9_avg_semantic_score</td>\n",
       "      <td>True</td>\n",
       "      <td>True</td>\n",
       "      <td>True</td>\n",
       "      <td>0.324495</td>\n",
       "      <td>0.001120</td>\n",
       "    </tr>\n",
       "  </tbody>\n",
       "</table>\n",
       "</div>"
      ],
      "text/plain": [
       "                                                                                                                               features  \\\n",
       "109                                       f_1_num_of_terms,f_2_query_length,f_5_num_results,f_7_sum_title_scores,f_9_avg_semantic_score   \n",
       "363                                                        f_2_query_length,f_5_num_results,f_7_sum_title_scores,f_9_avg_semantic_score   \n",
       "78                   f_1_num_of_terms,f_2_query_length,f_4_has_special_char,f_5_num_results,f_7_sum_title_scores,f_9_avg_semantic_score   \n",
       "15   f_1_num_of_terms,f_2_query_length,f_3_has_numbers,f_4_has_special_char,f_5_num_results,f_7_sum_title_scores,f_9_avg_semantic_score   \n",
       "332                                   f_2_query_length,f_4_has_special_char,f_5_num_results,f_7_sum_title_scores,f_9_avg_semantic_score   \n",
       "\n",
       "     keyword_f  neural_f  query_f  mean_rmse  var_rmse  \n",
       "109       True      True     True   0.322681  0.000902  \n",
       "363       True      True     True   0.322931  0.000864  \n",
       "78        True      True     True   0.324241  0.001113  \n",
       "15        True      True     True   0.324400  0.000893  \n",
       "332       True      True     True   0.324495  0.001120  "
      ]
     },
     "execution_count": 33,
     "metadata": {},
     "output_type": "execute_result"
    }
   ],
   "source": [
    "df_agg_metrics.sort_values(by='mean_rmse').head(5)"
   ]
  },
  {
   "cell_type": "markdown",
   "id": "1911bc7b-a777-4e21-8777-1f708456e193",
   "metadata": {},
   "source": [
    "### Show the best ten feature combinations based on the mean root squared error\n",
    "\n",
    "Visualize the different rmse scores in a boxplot to see how different the single cross validation runs scored."
   ]
  },
  {
   "cell_type": "code",
   "execution_count": 34,
   "id": "23ae382f-b112-4f8c-ba64-8f996c6ef6bd",
   "metadata": {},
   "outputs": [
    {
     "data": {
      "application/vnd.plotly.v1+json": {
       "config": {
        "plotlyServerURL": "https://plot.ly"
       },
       "data": [
        {
         "alignmentgroup": "True",
         "hovertemplate": "x=%{x}<br>y=%{y}<extra></extra>",
         "legendgroup": "",
         "marker": {
          "color": "#636efa"
         },
         "name": "",
         "notched": false,
         "offsetgroup": "",
         "orientation": "v",
         "showlegend": false,
         "type": "box",
         "x": [
          "f_1_num_of_terms,f_4_has_special_char",
          "f_1_num_of_terms,f_4_has_special_char",
          "f_1_num_of_terms,f_4_has_special_char",
          "f_1_num_of_terms,f_4_has_special_char",
          "f_1_num_of_terms,f_4_has_special_char",
          "f_2_query_length,f_5_num_results,f_7_sum_title_scores,f_9_avg_semantic_score",
          "f_2_query_length,f_5_num_results,f_7_sum_title_scores,f_9_avg_semantic_score",
          "f_2_query_length,f_5_num_results,f_7_sum_title_scores,f_9_avg_semantic_score",
          "f_2_query_length,f_5_num_results,f_7_sum_title_scores,f_9_avg_semantic_score",
          "f_2_query_length,f_5_num_results,f_7_sum_title_scores,f_9_avg_semantic_score",
          "f_1_num_of_terms,f_2_query_length,f_5_num_results,f_7_sum_title_scores,f_9_avg_semantic_score",
          "f_1_num_of_terms,f_2_query_length,f_5_num_results,f_7_sum_title_scores,f_9_avg_semantic_score",
          "f_1_num_of_terms,f_2_query_length,f_5_num_results,f_7_sum_title_scores,f_9_avg_semantic_score",
          "f_1_num_of_terms,f_2_query_length,f_5_num_results,f_7_sum_title_scores,f_9_avg_semantic_score",
          "f_1_num_of_terms,f_2_query_length,f_5_num_results,f_7_sum_title_scores,f_9_avg_semantic_score",
          "f_2_query_length,f_3_has_numbers,f_5_num_results,f_7_sum_title_scores,f_9_avg_semantic_score",
          "f_2_query_length,f_3_has_numbers,f_5_num_results,f_7_sum_title_scores,f_9_avg_semantic_score",
          "f_2_query_length,f_3_has_numbers,f_5_num_results,f_7_sum_title_scores,f_9_avg_semantic_score",
          "f_2_query_length,f_3_has_numbers,f_5_num_results,f_7_sum_title_scores,f_9_avg_semantic_score",
          "f_2_query_length,f_3_has_numbers,f_5_num_results,f_7_sum_title_scores,f_9_avg_semantic_score",
          "f_2_query_length,f_4_has_special_char,f_5_num_results,f_7_sum_title_scores,f_9_avg_semantic_score",
          "f_2_query_length,f_4_has_special_char,f_5_num_results,f_7_sum_title_scores,f_9_avg_semantic_score",
          "f_2_query_length,f_4_has_special_char,f_5_num_results,f_7_sum_title_scores,f_9_avg_semantic_score",
          "f_2_query_length,f_4_has_special_char,f_5_num_results,f_7_sum_title_scores,f_9_avg_semantic_score",
          "f_2_query_length,f_4_has_special_char,f_5_num_results,f_7_sum_title_scores,f_9_avg_semantic_score",
          "f_1_num_of_terms,f_2_query_length,f_3_has_numbers,f_5_num_results,f_7_sum_title_scores,f_9_avg_semantic_score",
          "f_1_num_of_terms,f_2_query_length,f_3_has_numbers,f_5_num_results,f_7_sum_title_scores,f_9_avg_semantic_score",
          "f_1_num_of_terms,f_2_query_length,f_3_has_numbers,f_5_num_results,f_7_sum_title_scores,f_9_avg_semantic_score",
          "f_1_num_of_terms,f_2_query_length,f_3_has_numbers,f_5_num_results,f_7_sum_title_scores,f_9_avg_semantic_score",
          "f_1_num_of_terms,f_2_query_length,f_3_has_numbers,f_5_num_results,f_7_sum_title_scores,f_9_avg_semantic_score",
          "f_1_num_of_terms,f_2_query_length,f_4_has_special_char,f_5_num_results,f_7_sum_title_scores,f_9_avg_semantic_score",
          "f_1_num_of_terms,f_2_query_length,f_4_has_special_char,f_5_num_results,f_7_sum_title_scores,f_9_avg_semantic_score",
          "f_1_num_of_terms,f_2_query_length,f_4_has_special_char,f_5_num_results,f_7_sum_title_scores,f_9_avg_semantic_score",
          "f_1_num_of_terms,f_2_query_length,f_4_has_special_char,f_5_num_results,f_7_sum_title_scores,f_9_avg_semantic_score",
          "f_1_num_of_terms,f_2_query_length,f_4_has_special_char,f_5_num_results,f_7_sum_title_scores,f_9_avg_semantic_score",
          "f_2_query_length,f_3_has_numbers,f_4_has_special_char,f_5_num_results,f_6_max_title_score,f_9_avg_semantic_score",
          "f_2_query_length,f_3_has_numbers,f_4_has_special_char,f_5_num_results,f_6_max_title_score,f_9_avg_semantic_score",
          "f_2_query_length,f_3_has_numbers,f_4_has_special_char,f_5_num_results,f_6_max_title_score,f_9_avg_semantic_score",
          "f_2_query_length,f_3_has_numbers,f_4_has_special_char,f_5_num_results,f_6_max_title_score,f_9_avg_semantic_score",
          "f_2_query_length,f_3_has_numbers,f_4_has_special_char,f_5_num_results,f_6_max_title_score,f_9_avg_semantic_score",
          "f_2_query_length,f_3_has_numbers,f_4_has_special_char,f_5_num_results,f_7_sum_title_scores,f_9_avg_semantic_score",
          "f_2_query_length,f_3_has_numbers,f_4_has_special_char,f_5_num_results,f_7_sum_title_scores,f_9_avg_semantic_score",
          "f_2_query_length,f_3_has_numbers,f_4_has_special_char,f_5_num_results,f_7_sum_title_scores,f_9_avg_semantic_score",
          "f_2_query_length,f_3_has_numbers,f_4_has_special_char,f_5_num_results,f_7_sum_title_scores,f_9_avg_semantic_score",
          "f_2_query_length,f_3_has_numbers,f_4_has_special_char,f_5_num_results,f_7_sum_title_scores,f_9_avg_semantic_score",
          "f_1_num_of_terms,f_2_query_length,f_3_has_numbers,f_4_has_special_char,f_5_num_results,f_7_sum_title_scores,f_9_avg_semantic_score",
          "f_1_num_of_terms,f_2_query_length,f_3_has_numbers,f_4_has_special_char,f_5_num_results,f_7_sum_title_scores,f_9_avg_semantic_score",
          "f_1_num_of_terms,f_2_query_length,f_3_has_numbers,f_4_has_special_char,f_5_num_results,f_7_sum_title_scores,f_9_avg_semantic_score",
          "f_1_num_of_terms,f_2_query_length,f_3_has_numbers,f_4_has_special_char,f_5_num_results,f_7_sum_title_scores,f_9_avg_semantic_score",
          "f_1_num_of_terms,f_2_query_length,f_3_has_numbers,f_4_has_special_char,f_5_num_results,f_7_sum_title_scores,f_9_avg_semantic_score"
         ],
         "x0": " ",
         "xaxis": "x",
         "y": [
          0.3338853050536399,
          0.36460439294320357,
          0.2918626798005897,
          0.3032828841035904,
          0.3357343029335377,
          0.35728273754192846,
          0.32497667748484804,
          0.277009107168962,
          0.3353898003544804,
          0.31999850851925155,
          0.35696224653952613,
          0.3270733515172511,
          0.27473226636457937,
          0.33328952742459395,
          0.32134995791900384,
          0.35445104803702504,
          0.32423784760293145,
          0.2826851766380917,
          0.33637837191310194,
          0.3261217354970938,
          0.3580440234486155,
          0.32840485684593645,
          0.27064170376751223,
          0.34503306824392677,
          0.3203516533720122,
          0.35339592784606594,
          0.3293929333568869,
          0.2812447171221016,
          0.3378469597048614,
          0.3245488827168064,
          0.3561056725187062,
          0.33203617683510445,
          0.2693310737228946,
          0.3429067922655051,
          0.32082769377176457,
          0.3522000335553131,
          0.33334513236693175,
          0.2892159070817007,
          0.3335225561405788,
          0.3243637128006433,
          0.35388079014883483,
          0.325865456062077,
          0.2776438202249258,
          0.34895529148380244,
          0.3204870583119614,
          0.35362030227606867,
          0.32598570799681054,
          0.27653443809866696,
          0.34473632875523347,
          0.32112423254446676
         ],
         "y0": " ",
         "yaxis": "y"
        }
       ],
       "layout": {
        "boxmode": "group",
        "height": 800,
        "legend": {
         "tracegroupgap": 0
        },
        "template": {
         "data": {
          "bar": [
           {
            "error_x": {
             "color": "#2a3f5f"
            },
            "error_y": {
             "color": "#2a3f5f"
            },
            "marker": {
             "line": {
              "color": "#E5ECF6",
              "width": 0.5
             },
             "pattern": {
              "fillmode": "overlay",
              "size": 10,
              "solidity": 0.2
             }
            },
            "type": "bar"
           }
          ],
          "barpolar": [
           {
            "marker": {
             "line": {
              "color": "#E5ECF6",
              "width": 0.5
             },
             "pattern": {
              "fillmode": "overlay",
              "size": 10,
              "solidity": 0.2
             }
            },
            "type": "barpolar"
           }
          ],
          "carpet": [
           {
            "aaxis": {
             "endlinecolor": "#2a3f5f",
             "gridcolor": "white",
             "linecolor": "white",
             "minorgridcolor": "white",
             "startlinecolor": "#2a3f5f"
            },
            "baxis": {
             "endlinecolor": "#2a3f5f",
             "gridcolor": "white",
             "linecolor": "white",
             "minorgridcolor": "white",
             "startlinecolor": "#2a3f5f"
            },
            "type": "carpet"
           }
          ],
          "choropleth": [
           {
            "colorbar": {
             "outlinewidth": 0,
             "ticks": ""
            },
            "type": "choropleth"
           }
          ],
          "contour": [
           {
            "colorbar": {
             "outlinewidth": 0,
             "ticks": ""
            },
            "colorscale": [
             [
              0,
              "#0d0887"
             ],
             [
              0.1111111111111111,
              "#46039f"
             ],
             [
              0.2222222222222222,
              "#7201a8"
             ],
             [
              0.3333333333333333,
              "#9c179e"
             ],
             [
              0.4444444444444444,
              "#bd3786"
             ],
             [
              0.5555555555555556,
              "#d8576b"
             ],
             [
              0.6666666666666666,
              "#ed7953"
             ],
             [
              0.7777777777777778,
              "#fb9f3a"
             ],
             [
              0.8888888888888888,
              "#fdca26"
             ],
             [
              1,
              "#f0f921"
             ]
            ],
            "type": "contour"
           }
          ],
          "contourcarpet": [
           {
            "colorbar": {
             "outlinewidth": 0,
             "ticks": ""
            },
            "type": "contourcarpet"
           }
          ],
          "heatmap": [
           {
            "colorbar": {
             "outlinewidth": 0,
             "ticks": ""
            },
            "colorscale": [
             [
              0,
              "#0d0887"
             ],
             [
              0.1111111111111111,
              "#46039f"
             ],
             [
              0.2222222222222222,
              "#7201a8"
             ],
             [
              0.3333333333333333,
              "#9c179e"
             ],
             [
              0.4444444444444444,
              "#bd3786"
             ],
             [
              0.5555555555555556,
              "#d8576b"
             ],
             [
              0.6666666666666666,
              "#ed7953"
             ],
             [
              0.7777777777777778,
              "#fb9f3a"
             ],
             [
              0.8888888888888888,
              "#fdca26"
             ],
             [
              1,
              "#f0f921"
             ]
            ],
            "type": "heatmap"
           }
          ],
          "heatmapgl": [
           {
            "colorbar": {
             "outlinewidth": 0,
             "ticks": ""
            },
            "colorscale": [
             [
              0,
              "#0d0887"
             ],
             [
              0.1111111111111111,
              "#46039f"
             ],
             [
              0.2222222222222222,
              "#7201a8"
             ],
             [
              0.3333333333333333,
              "#9c179e"
             ],
             [
              0.4444444444444444,
              "#bd3786"
             ],
             [
              0.5555555555555556,
              "#d8576b"
             ],
             [
              0.6666666666666666,
              "#ed7953"
             ],
             [
              0.7777777777777778,
              "#fb9f3a"
             ],
             [
              0.8888888888888888,
              "#fdca26"
             ],
             [
              1,
              "#f0f921"
             ]
            ],
            "type": "heatmapgl"
           }
          ],
          "histogram": [
           {
            "marker": {
             "pattern": {
              "fillmode": "overlay",
              "size": 10,
              "solidity": 0.2
             }
            },
            "type": "histogram"
           }
          ],
          "histogram2d": [
           {
            "colorbar": {
             "outlinewidth": 0,
             "ticks": ""
            },
            "colorscale": [
             [
              0,
              "#0d0887"
             ],
             [
              0.1111111111111111,
              "#46039f"
             ],
             [
              0.2222222222222222,
              "#7201a8"
             ],
             [
              0.3333333333333333,
              "#9c179e"
             ],
             [
              0.4444444444444444,
              "#bd3786"
             ],
             [
              0.5555555555555556,
              "#d8576b"
             ],
             [
              0.6666666666666666,
              "#ed7953"
             ],
             [
              0.7777777777777778,
              "#fb9f3a"
             ],
             [
              0.8888888888888888,
              "#fdca26"
             ],
             [
              1,
              "#f0f921"
             ]
            ],
            "type": "histogram2d"
           }
          ],
          "histogram2dcontour": [
           {
            "colorbar": {
             "outlinewidth": 0,
             "ticks": ""
            },
            "colorscale": [
             [
              0,
              "#0d0887"
             ],
             [
              0.1111111111111111,
              "#46039f"
             ],
             [
              0.2222222222222222,
              "#7201a8"
             ],
             [
              0.3333333333333333,
              "#9c179e"
             ],
             [
              0.4444444444444444,
              "#bd3786"
             ],
             [
              0.5555555555555556,
              "#d8576b"
             ],
             [
              0.6666666666666666,
              "#ed7953"
             ],
             [
              0.7777777777777778,
              "#fb9f3a"
             ],
             [
              0.8888888888888888,
              "#fdca26"
             ],
             [
              1,
              "#f0f921"
             ]
            ],
            "type": "histogram2dcontour"
           }
          ],
          "mesh3d": [
           {
            "colorbar": {
             "outlinewidth": 0,
             "ticks": ""
            },
            "type": "mesh3d"
           }
          ],
          "parcoords": [
           {
            "line": {
             "colorbar": {
              "outlinewidth": 0,
              "ticks": ""
             }
            },
            "type": "parcoords"
           }
          ],
          "pie": [
           {
            "automargin": true,
            "type": "pie"
           }
          ],
          "scatter": [
           {
            "fillpattern": {
             "fillmode": "overlay",
             "size": 10,
             "solidity": 0.2
            },
            "type": "scatter"
           }
          ],
          "scatter3d": [
           {
            "line": {
             "colorbar": {
              "outlinewidth": 0,
              "ticks": ""
             }
            },
            "marker": {
             "colorbar": {
              "outlinewidth": 0,
              "ticks": ""
             }
            },
            "type": "scatter3d"
           }
          ],
          "scattercarpet": [
           {
            "marker": {
             "colorbar": {
              "outlinewidth": 0,
              "ticks": ""
             }
            },
            "type": "scattercarpet"
           }
          ],
          "scattergeo": [
           {
            "marker": {
             "colorbar": {
              "outlinewidth": 0,
              "ticks": ""
             }
            },
            "type": "scattergeo"
           }
          ],
          "scattergl": [
           {
            "marker": {
             "colorbar": {
              "outlinewidth": 0,
              "ticks": ""
             }
            },
            "type": "scattergl"
           }
          ],
          "scattermapbox": [
           {
            "marker": {
             "colorbar": {
              "outlinewidth": 0,
              "ticks": ""
             }
            },
            "type": "scattermapbox"
           }
          ],
          "scatterpolar": [
           {
            "marker": {
             "colorbar": {
              "outlinewidth": 0,
              "ticks": ""
             }
            },
            "type": "scatterpolar"
           }
          ],
          "scatterpolargl": [
           {
            "marker": {
             "colorbar": {
              "outlinewidth": 0,
              "ticks": ""
             }
            },
            "type": "scatterpolargl"
           }
          ],
          "scatterternary": [
           {
            "marker": {
             "colorbar": {
              "outlinewidth": 0,
              "ticks": ""
             }
            },
            "type": "scatterternary"
           }
          ],
          "surface": [
           {
            "colorbar": {
             "outlinewidth": 0,
             "ticks": ""
            },
            "colorscale": [
             [
              0,
              "#0d0887"
             ],
             [
              0.1111111111111111,
              "#46039f"
             ],
             [
              0.2222222222222222,
              "#7201a8"
             ],
             [
              0.3333333333333333,
              "#9c179e"
             ],
             [
              0.4444444444444444,
              "#bd3786"
             ],
             [
              0.5555555555555556,
              "#d8576b"
             ],
             [
              0.6666666666666666,
              "#ed7953"
             ],
             [
              0.7777777777777778,
              "#fb9f3a"
             ],
             [
              0.8888888888888888,
              "#fdca26"
             ],
             [
              1,
              "#f0f921"
             ]
            ],
            "type": "surface"
           }
          ],
          "table": [
           {
            "cells": {
             "fill": {
              "color": "#EBF0F8"
             },
             "line": {
              "color": "white"
             }
            },
            "header": {
             "fill": {
              "color": "#C8D4E3"
             },
             "line": {
              "color": "white"
             }
            },
            "type": "table"
           }
          ]
         },
         "layout": {
          "annotationdefaults": {
           "arrowcolor": "#2a3f5f",
           "arrowhead": 0,
           "arrowwidth": 1
          },
          "autotypenumbers": "strict",
          "coloraxis": {
           "colorbar": {
            "outlinewidth": 0,
            "ticks": ""
           }
          },
          "colorscale": {
           "diverging": [
            [
             0,
             "#8e0152"
            ],
            [
             0.1,
             "#c51b7d"
            ],
            [
             0.2,
             "#de77ae"
            ],
            [
             0.3,
             "#f1b6da"
            ],
            [
             0.4,
             "#fde0ef"
            ],
            [
             0.5,
             "#f7f7f7"
            ],
            [
             0.6,
             "#e6f5d0"
            ],
            [
             0.7,
             "#b8e186"
            ],
            [
             0.8,
             "#7fbc41"
            ],
            [
             0.9,
             "#4d9221"
            ],
            [
             1,
             "#276419"
            ]
           ],
           "sequential": [
            [
             0,
             "#0d0887"
            ],
            [
             0.1111111111111111,
             "#46039f"
            ],
            [
             0.2222222222222222,
             "#7201a8"
            ],
            [
             0.3333333333333333,
             "#9c179e"
            ],
            [
             0.4444444444444444,
             "#bd3786"
            ],
            [
             0.5555555555555556,
             "#d8576b"
            ],
            [
             0.6666666666666666,
             "#ed7953"
            ],
            [
             0.7777777777777778,
             "#fb9f3a"
            ],
            [
             0.8888888888888888,
             "#fdca26"
            ],
            [
             1,
             "#f0f921"
            ]
           ],
           "sequentialminus": [
            [
             0,
             "#0d0887"
            ],
            [
             0.1111111111111111,
             "#46039f"
            ],
            [
             0.2222222222222222,
             "#7201a8"
            ],
            [
             0.3333333333333333,
             "#9c179e"
            ],
            [
             0.4444444444444444,
             "#bd3786"
            ],
            [
             0.5555555555555556,
             "#d8576b"
            ],
            [
             0.6666666666666666,
             "#ed7953"
            ],
            [
             0.7777777777777778,
             "#fb9f3a"
            ],
            [
             0.8888888888888888,
             "#fdca26"
            ],
            [
             1,
             "#f0f921"
            ]
           ]
          },
          "colorway": [
           "#636efa",
           "#EF553B",
           "#00cc96",
           "#ab63fa",
           "#FFA15A",
           "#19d3f3",
           "#FF6692",
           "#B6E880",
           "#FF97FF",
           "#FECB52"
          ],
          "font": {
           "color": "#2a3f5f"
          },
          "geo": {
           "bgcolor": "white",
           "lakecolor": "white",
           "landcolor": "#E5ECF6",
           "showlakes": true,
           "showland": true,
           "subunitcolor": "white"
          },
          "hoverlabel": {
           "align": "left"
          },
          "hovermode": "closest",
          "mapbox": {
           "style": "light"
          },
          "paper_bgcolor": "white",
          "plot_bgcolor": "#E5ECF6",
          "polar": {
           "angularaxis": {
            "gridcolor": "white",
            "linecolor": "white",
            "ticks": ""
           },
           "bgcolor": "#E5ECF6",
           "radialaxis": {
            "gridcolor": "white",
            "linecolor": "white",
            "ticks": ""
           }
          },
          "scene": {
           "xaxis": {
            "backgroundcolor": "#E5ECF6",
            "gridcolor": "white",
            "gridwidth": 2,
            "linecolor": "white",
            "showbackground": true,
            "ticks": "",
            "zerolinecolor": "white"
           },
           "yaxis": {
            "backgroundcolor": "#E5ECF6",
            "gridcolor": "white",
            "gridwidth": 2,
            "linecolor": "white",
            "showbackground": true,
            "ticks": "",
            "zerolinecolor": "white"
           },
           "zaxis": {
            "backgroundcolor": "#E5ECF6",
            "gridcolor": "white",
            "gridwidth": 2,
            "linecolor": "white",
            "showbackground": true,
            "ticks": "",
            "zerolinecolor": "white"
           }
          },
          "shapedefaults": {
           "line": {
            "color": "#2a3f5f"
           }
          },
          "ternary": {
           "aaxis": {
            "gridcolor": "white",
            "linecolor": "white",
            "ticks": ""
           },
           "baxis": {
            "gridcolor": "white",
            "linecolor": "white",
            "ticks": ""
           },
           "bgcolor": "#E5ECF6",
           "caxis": {
            "gridcolor": "white",
            "linecolor": "white",
            "ticks": ""
           }
          },
          "title": {
           "x": 0.05
          },
          "xaxis": {
           "automargin": true,
           "gridcolor": "white",
           "linecolor": "white",
           "ticks": "",
           "title": {
            "standoff": 15
           },
           "zerolinecolor": "white",
           "zerolinewidth": 2
          },
          "yaxis": {
           "automargin": true,
           "gridcolor": "white",
           "linecolor": "white",
           "ticks": "",
           "title": {
            "standoff": 15
           },
           "zerolinecolor": "white",
           "zerolinewidth": 2
          }
         }
        },
        "title": {
         "text": "Top 10 Feature Combinations"
        },
        "width": 1100,
        "xaxis": {
         "anchor": "y",
         "autorange": true,
         "domain": [
          0,
          1
         ],
         "range": [
          -0.5,
          9.5
         ],
         "showticklabels": false,
         "title": {
          "text": "feature combinations"
         },
         "type": "category"
        },
        "yaxis": {
         "anchor": "x",
         "autorange": true,
         "domain": [
          0,
          1
         ],
         "range": [
          0.26403811154398854,
          0.36989735512210964
         ],
         "title": {
          "text": "rmse scores"
         },
         "type": "linear"
        }
       }
      }
     },
     "metadata": {},
     "output_type": "display_data"
    }
   ],
   "source": [
    "pio.renderers.default = 'plotly_mimetype'\n",
    "x = df_agg_metrics.sort_values(by='mean_rmse')['features'].head(10)\n",
    "\n",
    "fig = px.box(df_metrics, x=df_metrics[df_metrics['features'].isin(x)]['features'],\n",
    "             y=df_metrics[df_metrics['features'].isin(x)]['rmse_scores'], title='RMSE Boxplot of Top 10 Feature Combinations')\n",
    "fig.update_layout(height=800, width=1100,\n",
    "                  title_text=\"Top 10 Feature Combinations\",\n",
    "                  xaxis_title=\"feature combinations\", yaxis_title=\"rmse scores\")\n",
    "fig.update_xaxes(showticklabels=False)\n",
    "fig.show()"
   ]
  },
  {
   "cell_type": "markdown",
   "id": "a2ff7ae6-1c6a-4da8-9fc9-585f09371c05",
   "metadata": {},
   "source": [
    "### Show the best ten feature combinations based on the mean root squared error grouped by the features they include\n",
    "\n",
    "Groups: contains query features, contains keyword search features, and contains neural search features and best of all"
   ]
  },
  {
   "cell_type": "code",
   "execution_count": 35,
   "id": "bb6f62fa-3fea-48f0-8839-e8ea98955742",
   "metadata": {},
   "outputs": [
    {
     "data": {
      "text/plain": [
       "array(['f_1_num_of_terms,f_2_query_length,f_5_num_results,f_7_sum_title_scores,f_9_avg_semantic_score',\n",
       "       'f_2_query_length,f_5_num_results,f_7_sum_title_scores,f_9_avg_semantic_score',\n",
       "       'f_1_num_of_terms,f_2_query_length,f_4_has_special_char,f_5_num_results,f_7_sum_title_scores,f_9_avg_semantic_score',\n",
       "       'f_1_num_of_terms,f_2_query_length,f_3_has_numbers,f_4_has_special_char,f_8_max_semantic_score,f_9_avg_semantic_score',\n",
       "       'f_1_num_of_terms,f_2_query_length,f_4_has_special_char,f_8_max_semantic_score,f_9_avg_semantic_score',\n",
       "       'f_1_num_of_terms,f_2_query_length,f_3_has_numbers,f_8_max_semantic_score,f_9_avg_semantic_score',\n",
       "       'f_1_num_of_terms,f_2_query_length,f_4_has_special_char,f_5_num_results,f_7_sum_title_scores',\n",
       "       'f_1_num_of_terms,f_2_query_length,f_5_num_results,f_7_sum_title_scores',\n",
       "       'f_1_num_of_terms,f_5_num_results,f_7_sum_title_scores',\n",
       "       'f_1_num_of_terms,f_2_query_length,f_5_num_results,f_7_sum_title_scores,f_9_avg_semantic_score',\n",
       "       'f_2_query_length,f_5_num_results,f_7_sum_title_scores,f_9_avg_semantic_score',\n",
       "       'f_1_num_of_terms,f_2_query_length,f_4_has_special_char,f_5_num_results,f_7_sum_title_scores,f_9_avg_semantic_score'],\n",
       "      dtype=object)"
      ]
     },
     "execution_count": 35,
     "metadata": {},
     "output_type": "execute_result"
    }
   ],
   "source": [
    "x_query_f = df_agg_metrics[df_agg_metrics['query_f']==True].sort_values(by='mean_rmse')['features'].head(3).values\n",
    "x_neural_f = df_agg_metrics[(df_agg_metrics['neural_f']==True) & (df_agg_metrics['keyword_f']==False)].sort_values(by='mean_rmse')['features'].head(3).values\n",
    "x_keyword_f = df_agg_metrics[(df_agg_metrics['keyword_f']==True) & (df_agg_metrics['neural_f']==False)].sort_values(by='mean_rmse')['features'].head(3).values\n",
    "\n",
    "x_all_f = df_agg_metrics.sort_values(by='mean_rmse')['features'].head(3).values\n",
    "\n",
    "x = np.concatenate([x_query_f, x_neural_f, x_keyword_f, x_all_f])\n",
    "x"
   ]
  },
  {
   "cell_type": "code",
   "execution_count": 36,
   "id": "6d4d4c19-682f-4578-b63b-b10cdeba4db2",
   "metadata": {},
   "outputs": [],
   "source": [
    "# create a string as a key of the feature combination\n",
    "df_metrics['f_str'] = df_metrics.keyword_f.astype('str') + df_metrics.neural_f.astype('str') + df_metrics.query_f.astype('str')"
   ]
  },
  {
   "cell_type": "code",
   "execution_count": 37,
   "id": "519843a9-845a-4853-82ee-0d50072be839",
   "metadata": {},
   "outputs": [
    {
     "data": {
      "text/html": [
       "<div>\n",
       "<style scoped>\n",
       "    .dataframe tbody tr th:only-of-type {\n",
       "        vertical-align: middle;\n",
       "    }\n",
       "\n",
       "    .dataframe tbody tr th {\n",
       "        vertical-align: top;\n",
       "    }\n",
       "\n",
       "    .dataframe thead th {\n",
       "        text-align: right;\n",
       "    }\n",
       "</style>\n",
       "<table border=\"1\" class=\"dataframe\">\n",
       "  <thead>\n",
       "    <tr style=\"text-align: right;\">\n",
       "      <th></th>\n",
       "      <th>features</th>\n",
       "      <th>scores</th>\n",
       "      <th>rmse_scores</th>\n",
       "      <th>keyword_f</th>\n",
       "      <th>neural_f</th>\n",
       "      <th>query_f</th>\n",
       "      <th>f_str</th>\n",
       "    </tr>\n",
       "  </thead>\n",
       "  <tbody>\n",
       "    <tr>\n",
       "      <th>0</th>\n",
       "      <td>f_1_num_of_terms,f_2_query_length</td>\n",
       "      <td>-0.355622</td>\n",
       "      <td>0.392739</td>\n",
       "      <td>False</td>\n",
       "      <td>False</td>\n",
       "      <td>True</td>\n",
       "      <td>FalseFalseTrue</td>\n",
       "    </tr>\n",
       "    <tr>\n",
       "      <th>1</th>\n",
       "      <td>f_1_num_of_terms,f_2_query_length</td>\n",
       "      <td>-0.501152</td>\n",
       "      <td>0.422110</td>\n",
       "      <td>False</td>\n",
       "      <td>False</td>\n",
       "      <td>True</td>\n",
       "      <td>FalseFalseTrue</td>\n",
       "    </tr>\n",
       "    <tr>\n",
       "      <th>2</th>\n",
       "      <td>f_1_num_of_terms,f_2_query_length</td>\n",
       "      <td>-0.294621</td>\n",
       "      <td>0.318900</td>\n",
       "      <td>False</td>\n",
       "      <td>False</td>\n",
       "      <td>True</td>\n",
       "      <td>FalseFalseTrue</td>\n",
       "    </tr>\n",
       "  </tbody>\n",
       "</table>\n",
       "</div>"
      ],
      "text/plain": [
       "                            features    scores  rmse_scores  keyword_f  \\\n",
       "0  f_1_num_of_terms,f_2_query_length -0.355622     0.392739      False   \n",
       "1  f_1_num_of_terms,f_2_query_length -0.501152     0.422110      False   \n",
       "2  f_1_num_of_terms,f_2_query_length -0.294621     0.318900      False   \n",
       "\n",
       "   neural_f  query_f           f_str  \n",
       "0     False     True  FalseFalseTrue  \n",
       "1     False     True  FalseFalseTrue  \n",
       "2     False     True  FalseFalseTrue  "
      ]
     },
     "execution_count": 37,
     "metadata": {},
     "output_type": "execute_result"
    }
   ],
   "source": [
    "df_metrics.head(3)"
   ]
  },
  {
   "cell_type": "code",
   "execution_count": 38,
   "id": "f8fe2a60-6da0-4d0d-85db-4a9cfa55ccd8",
   "metadata": {},
   "outputs": [
    {
     "data": {
      "application/vnd.plotly.v1+json": {
       "config": {
        "plotlyServerURL": "https://plot.ly"
       },
       "data": [
        {
         "alignmentgroup": "True",
         "hovertemplate": "f_str=TrueFalseTrue<br>features=%{x}<br>rmse_scores=%{y}<extra></extra>",
         "legendgroup": "TrueFalseTrue",
         "marker": {
          "color": "#636efa"
         },
         "name": "TrueFalseTrue",
         "notched": false,
         "offsetgroup": "TrueFalseTrue",
         "orientation": "v",
         "showlegend": true,
         "type": "box",
         "x": [
          "f_1_num_of_terms,f_5_num_results,f_7_sum_title_scores",
          "f_1_num_of_terms,f_5_num_results,f_7_sum_title_scores",
          "f_1_num_of_terms,f_5_num_results,f_7_sum_title_scores",
          "f_1_num_of_terms,f_5_num_results,f_7_sum_title_scores",
          "f_1_num_of_terms,f_5_num_results,f_7_sum_title_scores",
          "f_1_num_of_terms,f_2_query_length,f_5_num_results,f_7_sum_title_scores",
          "f_1_num_of_terms,f_2_query_length,f_5_num_results,f_7_sum_title_scores",
          "f_1_num_of_terms,f_2_query_length,f_5_num_results,f_7_sum_title_scores",
          "f_1_num_of_terms,f_2_query_length,f_5_num_results,f_7_sum_title_scores",
          "f_1_num_of_terms,f_2_query_length,f_5_num_results,f_7_sum_title_scores",
          "f_1_num_of_terms,f_2_query_length,f_4_has_special_char,f_5_num_results,f_7_sum_title_scores",
          "f_1_num_of_terms,f_2_query_length,f_4_has_special_char,f_5_num_results,f_7_sum_title_scores",
          "f_1_num_of_terms,f_2_query_length,f_4_has_special_char,f_5_num_results,f_7_sum_title_scores",
          "f_1_num_of_terms,f_2_query_length,f_4_has_special_char,f_5_num_results,f_7_sum_title_scores",
          "f_1_num_of_terms,f_2_query_length,f_4_has_special_char,f_5_num_results,f_7_sum_title_scores"
         ],
         "x0": " ",
         "xaxis": "x",
         "y": [
          0.39651154167448144,
          0.37847986810507295,
          0.3075654997157572,
          0.329447793224235,
          0.34715513731679426,
          0.38774952182355693,
          0.3688398704638714,
          0.29213993205138855,
          0.35156643336744636,
          0.3574853313587466,
          0.3896320401857785,
          0.3699304923896509,
          0.28203928972077047,
          0.3593162066531878,
          0.35610766549434203
         ],
         "y0": " ",
         "yaxis": "y"
        },
        {
         "alignmentgroup": "True",
         "hovertemplate": "f_str=TrueTrueTrue<br>features=%{x}<br>rmse_scores=%{y}<extra></extra>",
         "legendgroup": "TrueTrueTrue",
         "marker": {
          "color": "#EF553B"
         },
         "name": "TrueTrueTrue",
         "notched": false,
         "offsetgroup": "TrueTrueTrue",
         "orientation": "v",
         "showlegend": true,
         "type": "box",
         "x": [
          "f_2_query_length,f_5_num_results,f_7_sum_title_scores,f_9_avg_semantic_score",
          "f_2_query_length,f_5_num_results,f_7_sum_title_scores,f_9_avg_semantic_score",
          "f_2_query_length,f_5_num_results,f_7_sum_title_scores,f_9_avg_semantic_score",
          "f_2_query_length,f_5_num_results,f_7_sum_title_scores,f_9_avg_semantic_score",
          "f_2_query_length,f_5_num_results,f_7_sum_title_scores,f_9_avg_semantic_score",
          "f_1_num_of_terms,f_2_query_length,f_5_num_results,f_7_sum_title_scores,f_9_avg_semantic_score",
          "f_1_num_of_terms,f_2_query_length,f_5_num_results,f_7_sum_title_scores,f_9_avg_semantic_score",
          "f_1_num_of_terms,f_2_query_length,f_5_num_results,f_7_sum_title_scores,f_9_avg_semantic_score",
          "f_1_num_of_terms,f_2_query_length,f_5_num_results,f_7_sum_title_scores,f_9_avg_semantic_score",
          "f_1_num_of_terms,f_2_query_length,f_5_num_results,f_7_sum_title_scores,f_9_avg_semantic_score",
          "f_1_num_of_terms,f_2_query_length,f_4_has_special_char,f_5_num_results,f_7_sum_title_scores,f_9_avg_semantic_score",
          "f_1_num_of_terms,f_2_query_length,f_4_has_special_char,f_5_num_results,f_7_sum_title_scores,f_9_avg_semantic_score",
          "f_1_num_of_terms,f_2_query_length,f_4_has_special_char,f_5_num_results,f_7_sum_title_scores,f_9_avg_semantic_score",
          "f_1_num_of_terms,f_2_query_length,f_4_has_special_char,f_5_num_results,f_7_sum_title_scores,f_9_avg_semantic_score",
          "f_1_num_of_terms,f_2_query_length,f_4_has_special_char,f_5_num_results,f_7_sum_title_scores,f_9_avg_semantic_score"
         ],
         "x0": " ",
         "xaxis": "x",
         "y": [
          0.35728273754192846,
          0.32497667748484804,
          0.277009107168962,
          0.3353898003544804,
          0.31999850851925155,
          0.35696224653952613,
          0.3270733515172511,
          0.27473226636457937,
          0.33328952742459395,
          0.32134995791900384,
          0.3561056725187062,
          0.33203617683510445,
          0.2693310737228946,
          0.3429067922655051,
          0.32082769377176457
         ],
         "y0": " ",
         "yaxis": "y"
        },
        {
         "alignmentgroup": "True",
         "hovertemplate": "f_str=FalseTrueTrue<br>features=%{x}<br>rmse_scores=%{y}<extra></extra>",
         "legendgroup": "FalseTrueTrue",
         "marker": {
          "color": "#00cc96"
         },
         "name": "FalseTrueTrue",
         "notched": false,
         "offsetgroup": "FalseTrueTrue",
         "orientation": "v",
         "showlegend": true,
         "type": "box",
         "x": [
          "f_1_num_of_terms,f_2_query_length,f_3_has_numbers,f_8_max_semantic_score,f_9_avg_semantic_score",
          "f_1_num_of_terms,f_2_query_length,f_3_has_numbers,f_8_max_semantic_score,f_9_avg_semantic_score",
          "f_1_num_of_terms,f_2_query_length,f_3_has_numbers,f_8_max_semantic_score,f_9_avg_semantic_score",
          "f_1_num_of_terms,f_2_query_length,f_3_has_numbers,f_8_max_semantic_score,f_9_avg_semantic_score",
          "f_1_num_of_terms,f_2_query_length,f_3_has_numbers,f_8_max_semantic_score,f_9_avg_semantic_score",
          "f_1_num_of_terms,f_2_query_length,f_4_has_special_char,f_8_max_semantic_score,f_9_avg_semantic_score",
          "f_1_num_of_terms,f_2_query_length,f_4_has_special_char,f_8_max_semantic_score,f_9_avg_semantic_score",
          "f_1_num_of_terms,f_2_query_length,f_4_has_special_char,f_8_max_semantic_score,f_9_avg_semantic_score",
          "f_1_num_of_terms,f_2_query_length,f_4_has_special_char,f_8_max_semantic_score,f_9_avg_semantic_score",
          "f_1_num_of_terms,f_2_query_length,f_4_has_special_char,f_8_max_semantic_score,f_9_avg_semantic_score",
          "f_1_num_of_terms,f_2_query_length,f_3_has_numbers,f_4_has_special_char,f_8_max_semantic_score,f_9_avg_semantic_score",
          "f_1_num_of_terms,f_2_query_length,f_3_has_numbers,f_4_has_special_char,f_8_max_semantic_score,f_9_avg_semantic_score",
          "f_1_num_of_terms,f_2_query_length,f_3_has_numbers,f_4_has_special_char,f_8_max_semantic_score,f_9_avg_semantic_score",
          "f_1_num_of_terms,f_2_query_length,f_3_has_numbers,f_4_has_special_char,f_8_max_semantic_score,f_9_avg_semantic_score",
          "f_1_num_of_terms,f_2_query_length,f_3_has_numbers,f_4_has_special_char,f_8_max_semantic_score,f_9_avg_semantic_score"
         ],
         "x0": " ",
         "xaxis": "x",
         "y": [
          0.34010723576275453,
          0.37094541377404844,
          0.3063073693946239,
          0.35502675955482577,
          0.36133493024918284,
          0.3433737693163901,
          0.3736700051211935,
          0.30196135363802623,
          0.3564895446637188,
          0.35585374293891636,
          0.3398454862808311,
          0.3749643316370239,
          0.297513521465068,
          0.3581605785119296,
          0.35273164535715196
         ],
         "y0": " ",
         "yaxis": "y"
        }
       ],
       "layout": {
        "boxmode": "group",
        "height": 800,
        "legend": {
         "title": {
          "text": "f_str"
         },
         "tracegroupgap": 0
        },
        "template": {
         "data": {
          "bar": [
           {
            "error_x": {
             "color": "#2a3f5f"
            },
            "error_y": {
             "color": "#2a3f5f"
            },
            "marker": {
             "line": {
              "color": "#E5ECF6",
              "width": 0.5
             },
             "pattern": {
              "fillmode": "overlay",
              "size": 10,
              "solidity": 0.2
             }
            },
            "type": "bar"
           }
          ],
          "barpolar": [
           {
            "marker": {
             "line": {
              "color": "#E5ECF6",
              "width": 0.5
             },
             "pattern": {
              "fillmode": "overlay",
              "size": 10,
              "solidity": 0.2
             }
            },
            "type": "barpolar"
           }
          ],
          "carpet": [
           {
            "aaxis": {
             "endlinecolor": "#2a3f5f",
             "gridcolor": "white",
             "linecolor": "white",
             "minorgridcolor": "white",
             "startlinecolor": "#2a3f5f"
            },
            "baxis": {
             "endlinecolor": "#2a3f5f",
             "gridcolor": "white",
             "linecolor": "white",
             "minorgridcolor": "white",
             "startlinecolor": "#2a3f5f"
            },
            "type": "carpet"
           }
          ],
          "choropleth": [
           {
            "colorbar": {
             "outlinewidth": 0,
             "ticks": ""
            },
            "type": "choropleth"
           }
          ],
          "contour": [
           {
            "colorbar": {
             "outlinewidth": 0,
             "ticks": ""
            },
            "colorscale": [
             [
              0,
              "#0d0887"
             ],
             [
              0.1111111111111111,
              "#46039f"
             ],
             [
              0.2222222222222222,
              "#7201a8"
             ],
             [
              0.3333333333333333,
              "#9c179e"
             ],
             [
              0.4444444444444444,
              "#bd3786"
             ],
             [
              0.5555555555555556,
              "#d8576b"
             ],
             [
              0.6666666666666666,
              "#ed7953"
             ],
             [
              0.7777777777777778,
              "#fb9f3a"
             ],
             [
              0.8888888888888888,
              "#fdca26"
             ],
             [
              1,
              "#f0f921"
             ]
            ],
            "type": "contour"
           }
          ],
          "contourcarpet": [
           {
            "colorbar": {
             "outlinewidth": 0,
             "ticks": ""
            },
            "type": "contourcarpet"
           }
          ],
          "heatmap": [
           {
            "colorbar": {
             "outlinewidth": 0,
             "ticks": ""
            },
            "colorscale": [
             [
              0,
              "#0d0887"
             ],
             [
              0.1111111111111111,
              "#46039f"
             ],
             [
              0.2222222222222222,
              "#7201a8"
             ],
             [
              0.3333333333333333,
              "#9c179e"
             ],
             [
              0.4444444444444444,
              "#bd3786"
             ],
             [
              0.5555555555555556,
              "#d8576b"
             ],
             [
              0.6666666666666666,
              "#ed7953"
             ],
             [
              0.7777777777777778,
              "#fb9f3a"
             ],
             [
              0.8888888888888888,
              "#fdca26"
             ],
             [
              1,
              "#f0f921"
             ]
            ],
            "type": "heatmap"
           }
          ],
          "heatmapgl": [
           {
            "colorbar": {
             "outlinewidth": 0,
             "ticks": ""
            },
            "colorscale": [
             [
              0,
              "#0d0887"
             ],
             [
              0.1111111111111111,
              "#46039f"
             ],
             [
              0.2222222222222222,
              "#7201a8"
             ],
             [
              0.3333333333333333,
              "#9c179e"
             ],
             [
              0.4444444444444444,
              "#bd3786"
             ],
             [
              0.5555555555555556,
              "#d8576b"
             ],
             [
              0.6666666666666666,
              "#ed7953"
             ],
             [
              0.7777777777777778,
              "#fb9f3a"
             ],
             [
              0.8888888888888888,
              "#fdca26"
             ],
             [
              1,
              "#f0f921"
             ]
            ],
            "type": "heatmapgl"
           }
          ],
          "histogram": [
           {
            "marker": {
             "pattern": {
              "fillmode": "overlay",
              "size": 10,
              "solidity": 0.2
             }
            },
            "type": "histogram"
           }
          ],
          "histogram2d": [
           {
            "colorbar": {
             "outlinewidth": 0,
             "ticks": ""
            },
            "colorscale": [
             [
              0,
              "#0d0887"
             ],
             [
              0.1111111111111111,
              "#46039f"
             ],
             [
              0.2222222222222222,
              "#7201a8"
             ],
             [
              0.3333333333333333,
              "#9c179e"
             ],
             [
              0.4444444444444444,
              "#bd3786"
             ],
             [
              0.5555555555555556,
              "#d8576b"
             ],
             [
              0.6666666666666666,
              "#ed7953"
             ],
             [
              0.7777777777777778,
              "#fb9f3a"
             ],
             [
              0.8888888888888888,
              "#fdca26"
             ],
             [
              1,
              "#f0f921"
             ]
            ],
            "type": "histogram2d"
           }
          ],
          "histogram2dcontour": [
           {
            "colorbar": {
             "outlinewidth": 0,
             "ticks": ""
            },
            "colorscale": [
             [
              0,
              "#0d0887"
             ],
             [
              0.1111111111111111,
              "#46039f"
             ],
             [
              0.2222222222222222,
              "#7201a8"
             ],
             [
              0.3333333333333333,
              "#9c179e"
             ],
             [
              0.4444444444444444,
              "#bd3786"
             ],
             [
              0.5555555555555556,
              "#d8576b"
             ],
             [
              0.6666666666666666,
              "#ed7953"
             ],
             [
              0.7777777777777778,
              "#fb9f3a"
             ],
             [
              0.8888888888888888,
              "#fdca26"
             ],
             [
              1,
              "#f0f921"
             ]
            ],
            "type": "histogram2dcontour"
           }
          ],
          "mesh3d": [
           {
            "colorbar": {
             "outlinewidth": 0,
             "ticks": ""
            },
            "type": "mesh3d"
           }
          ],
          "parcoords": [
           {
            "line": {
             "colorbar": {
              "outlinewidth": 0,
              "ticks": ""
             }
            },
            "type": "parcoords"
           }
          ],
          "pie": [
           {
            "automargin": true,
            "type": "pie"
           }
          ],
          "scatter": [
           {
            "fillpattern": {
             "fillmode": "overlay",
             "size": 10,
             "solidity": 0.2
            },
            "type": "scatter"
           }
          ],
          "scatter3d": [
           {
            "line": {
             "colorbar": {
              "outlinewidth": 0,
              "ticks": ""
             }
            },
            "marker": {
             "colorbar": {
              "outlinewidth": 0,
              "ticks": ""
             }
            },
            "type": "scatter3d"
           }
          ],
          "scattercarpet": [
           {
            "marker": {
             "colorbar": {
              "outlinewidth": 0,
              "ticks": ""
             }
            },
            "type": "scattercarpet"
           }
          ],
          "scattergeo": [
           {
            "marker": {
             "colorbar": {
              "outlinewidth": 0,
              "ticks": ""
             }
            },
            "type": "scattergeo"
           }
          ],
          "scattergl": [
           {
            "marker": {
             "colorbar": {
              "outlinewidth": 0,
              "ticks": ""
             }
            },
            "type": "scattergl"
           }
          ],
          "scattermapbox": [
           {
            "marker": {
             "colorbar": {
              "outlinewidth": 0,
              "ticks": ""
             }
            },
            "type": "scattermapbox"
           }
          ],
          "scatterpolar": [
           {
            "marker": {
             "colorbar": {
              "outlinewidth": 0,
              "ticks": ""
             }
            },
            "type": "scatterpolar"
           }
          ],
          "scatterpolargl": [
           {
            "marker": {
             "colorbar": {
              "outlinewidth": 0,
              "ticks": ""
             }
            },
            "type": "scatterpolargl"
           }
          ],
          "scatterternary": [
           {
            "marker": {
             "colorbar": {
              "outlinewidth": 0,
              "ticks": ""
             }
            },
            "type": "scatterternary"
           }
          ],
          "surface": [
           {
            "colorbar": {
             "outlinewidth": 0,
             "ticks": ""
            },
            "colorscale": [
             [
              0,
              "#0d0887"
             ],
             [
              0.1111111111111111,
              "#46039f"
             ],
             [
              0.2222222222222222,
              "#7201a8"
             ],
             [
              0.3333333333333333,
              "#9c179e"
             ],
             [
              0.4444444444444444,
              "#bd3786"
             ],
             [
              0.5555555555555556,
              "#d8576b"
             ],
             [
              0.6666666666666666,
              "#ed7953"
             ],
             [
              0.7777777777777778,
              "#fb9f3a"
             ],
             [
              0.8888888888888888,
              "#fdca26"
             ],
             [
              1,
              "#f0f921"
             ]
            ],
            "type": "surface"
           }
          ],
          "table": [
           {
            "cells": {
             "fill": {
              "color": "#EBF0F8"
             },
             "line": {
              "color": "white"
             }
            },
            "header": {
             "fill": {
              "color": "#C8D4E3"
             },
             "line": {
              "color": "white"
             }
            },
            "type": "table"
           }
          ]
         },
         "layout": {
          "annotationdefaults": {
           "arrowcolor": "#2a3f5f",
           "arrowhead": 0,
           "arrowwidth": 1
          },
          "autotypenumbers": "strict",
          "coloraxis": {
           "colorbar": {
            "outlinewidth": 0,
            "ticks": ""
           }
          },
          "colorscale": {
           "diverging": [
            [
             0,
             "#8e0152"
            ],
            [
             0.1,
             "#c51b7d"
            ],
            [
             0.2,
             "#de77ae"
            ],
            [
             0.3,
             "#f1b6da"
            ],
            [
             0.4,
             "#fde0ef"
            ],
            [
             0.5,
             "#f7f7f7"
            ],
            [
             0.6,
             "#e6f5d0"
            ],
            [
             0.7,
             "#b8e186"
            ],
            [
             0.8,
             "#7fbc41"
            ],
            [
             0.9,
             "#4d9221"
            ],
            [
             1,
             "#276419"
            ]
           ],
           "sequential": [
            [
             0,
             "#0d0887"
            ],
            [
             0.1111111111111111,
             "#46039f"
            ],
            [
             0.2222222222222222,
             "#7201a8"
            ],
            [
             0.3333333333333333,
             "#9c179e"
            ],
            [
             0.4444444444444444,
             "#bd3786"
            ],
            [
             0.5555555555555556,
             "#d8576b"
            ],
            [
             0.6666666666666666,
             "#ed7953"
            ],
            [
             0.7777777777777778,
             "#fb9f3a"
            ],
            [
             0.8888888888888888,
             "#fdca26"
            ],
            [
             1,
             "#f0f921"
            ]
           ],
           "sequentialminus": [
            [
             0,
             "#0d0887"
            ],
            [
             0.1111111111111111,
             "#46039f"
            ],
            [
             0.2222222222222222,
             "#7201a8"
            ],
            [
             0.3333333333333333,
             "#9c179e"
            ],
            [
             0.4444444444444444,
             "#bd3786"
            ],
            [
             0.5555555555555556,
             "#d8576b"
            ],
            [
             0.6666666666666666,
             "#ed7953"
            ],
            [
             0.7777777777777778,
             "#fb9f3a"
            ],
            [
             0.8888888888888888,
             "#fdca26"
            ],
            [
             1,
             "#f0f921"
            ]
           ]
          },
          "colorway": [
           "#636efa",
           "#EF553B",
           "#00cc96",
           "#ab63fa",
           "#FFA15A",
           "#19d3f3",
           "#FF6692",
           "#B6E880",
           "#FF97FF",
           "#FECB52"
          ],
          "font": {
           "color": "#2a3f5f"
          },
          "geo": {
           "bgcolor": "white",
           "lakecolor": "white",
           "landcolor": "#E5ECF6",
           "showlakes": true,
           "showland": true,
           "subunitcolor": "white"
          },
          "hoverlabel": {
           "align": "left"
          },
          "hovermode": "closest",
          "mapbox": {
           "style": "light"
          },
          "paper_bgcolor": "white",
          "plot_bgcolor": "#E5ECF6",
          "polar": {
           "angularaxis": {
            "gridcolor": "white",
            "linecolor": "white",
            "ticks": ""
           },
           "bgcolor": "#E5ECF6",
           "radialaxis": {
            "gridcolor": "white",
            "linecolor": "white",
            "ticks": ""
           }
          },
          "scene": {
           "xaxis": {
            "backgroundcolor": "#E5ECF6",
            "gridcolor": "white",
            "gridwidth": 2,
            "linecolor": "white",
            "showbackground": true,
            "ticks": "",
            "zerolinecolor": "white"
           },
           "yaxis": {
            "backgroundcolor": "#E5ECF6",
            "gridcolor": "white",
            "gridwidth": 2,
            "linecolor": "white",
            "showbackground": true,
            "ticks": "",
            "zerolinecolor": "white"
           },
           "zaxis": {
            "backgroundcolor": "#E5ECF6",
            "gridcolor": "white",
            "gridwidth": 2,
            "linecolor": "white",
            "showbackground": true,
            "ticks": "",
            "zerolinecolor": "white"
           }
          },
          "shapedefaults": {
           "line": {
            "color": "#2a3f5f"
           }
          },
          "ternary": {
           "aaxis": {
            "gridcolor": "white",
            "linecolor": "white",
            "ticks": ""
           },
           "baxis": {
            "gridcolor": "white",
            "linecolor": "white",
            "ticks": ""
           },
           "bgcolor": "#E5ECF6",
           "caxis": {
            "gridcolor": "white",
            "linecolor": "white",
            "ticks": ""
           }
          },
          "title": {
           "x": 0.05
          },
          "xaxis": {
           "automargin": true,
           "gridcolor": "white",
           "linecolor": "white",
           "ticks": "",
           "title": {
            "standoff": 15
           },
           "zerolinecolor": "white",
           "zerolinewidth": 2
          },
          "yaxis": {
           "automargin": true,
           "gridcolor": "white",
           "linecolor": "white",
           "ticks": "",
           "title": {
            "standoff": 15
           },
           "zerolinecolor": "white",
           "zerolinewidth": 2
          }
         }
        },
        "title": {
         "text": "Top 10 Feature Combinations"
        },
        "width": 1100,
        "xaxis": {
         "anchor": "y",
         "autorange": true,
         "domain": [
          0,
          1
         ],
         "range": [
          -0.5,
          8.5
         ],
         "showticklabels": false,
         "title": {
          "text": "feature combinations"
         },
         "type": "category"
        },
        "yaxis": {
         "anchor": "x",
         "autorange": true,
         "domain": [
          0,
          1
         ],
         "range": [
          0.2622654921700287,
          0.4035771232273474
         ],
         "title": {
          "text": "rmse scores"
         },
         "type": "linear"
        }
       }
      }
     },
     "metadata": {},
     "output_type": "display_data"
    }
   ],
   "source": [
    "pio.renderers.default = 'plotly_mimetype'\n",
    "\n",
    "fig = px.box(df_metrics[df_metrics['features'].isin(x)], x='features',\n",
    "             y='rmse_scores', title='RMSE Boxplot of Top 10 Feature Combinations', color='f_str')\n",
    "fig.update_layout(height=800, width=1100,\n",
    "                  title_text=\"Top 10 Feature Combinations\",\n",
    "                  xaxis_title=\"feature combinations\", yaxis_title=\"rmse scores\")\n",
    "fig.update_xaxes(showticklabels=False)\n",
    "fig.show()"
   ]
  },
  {
   "cell_type": "code",
   "execution_count": 39,
   "id": "81fcb177-f852-4ea5-98cb-e79b53a9f65c",
   "metadata": {},
   "outputs": [
    {
     "data": {
      "text/html": [
       "<div>\n",
       "<style scoped>\n",
       "    .dataframe tbody tr th:only-of-type {\n",
       "        vertical-align: middle;\n",
       "    }\n",
       "\n",
       "    .dataframe tbody tr th {\n",
       "        vertical-align: top;\n",
       "    }\n",
       "\n",
       "    .dataframe thead th {\n",
       "        text-align: right;\n",
       "    }\n",
       "</style>\n",
       "<table border=\"1\" class=\"dataframe\">\n",
       "  <thead>\n",
       "    <tr style=\"text-align: right;\">\n",
       "      <th></th>\n",
       "      <th>features</th>\n",
       "      <th>keyword_f</th>\n",
       "      <th>neural_f</th>\n",
       "      <th>query_f</th>\n",
       "      <th>mean_rmse</th>\n",
       "      <th>var_rmse</th>\n",
       "    </tr>\n",
       "  </thead>\n",
       "  <tbody>\n",
       "    <tr>\n",
       "      <th>109</th>\n",
       "      <td>f_1_num_of_terms,f_2_query_length,f_5_num_results,f_7_sum_title_scores,f_9_avg_semantic_score</td>\n",
       "      <td>True</td>\n",
       "      <td>True</td>\n",
       "      <td>True</td>\n",
       "      <td>0.322681</td>\n",
       "      <td>0.000902</td>\n",
       "    </tr>\n",
       "    <tr>\n",
       "      <th>363</th>\n",
       "      <td>f_2_query_length,f_5_num_results,f_7_sum_title_scores,f_9_avg_semantic_score</td>\n",
       "      <td>True</td>\n",
       "      <td>True</td>\n",
       "      <td>True</td>\n",
       "      <td>0.322931</td>\n",
       "      <td>0.000864</td>\n",
       "    </tr>\n",
       "    <tr>\n",
       "      <th>78</th>\n",
       "      <td>f_1_num_of_terms,f_2_query_length,f_4_has_special_char,f_5_num_results,f_7_sum_title_scores,f_9_avg_semantic_score</td>\n",
       "      <td>True</td>\n",
       "      <td>True</td>\n",
       "      <td>True</td>\n",
       "      <td>0.324241</td>\n",
       "      <td>0.001113</td>\n",
       "    </tr>\n",
       "    <tr>\n",
       "      <th>15</th>\n",
       "      <td>f_1_num_of_terms,f_2_query_length,f_3_has_numbers,f_4_has_special_char,f_5_num_results,f_7_sum_title_scores,f_9_avg_semantic_score</td>\n",
       "      <td>True</td>\n",
       "      <td>True</td>\n",
       "      <td>True</td>\n",
       "      <td>0.324400</td>\n",
       "      <td>0.000893</td>\n",
       "    </tr>\n",
       "    <tr>\n",
       "      <th>332</th>\n",
       "      <td>f_2_query_length,f_4_has_special_char,f_5_num_results,f_7_sum_title_scores,f_9_avg_semantic_score</td>\n",
       "      <td>True</td>\n",
       "      <td>True</td>\n",
       "      <td>True</td>\n",
       "      <td>0.324495</td>\n",
       "      <td>0.001120</td>\n",
       "    </tr>\n",
       "  </tbody>\n",
       "</table>\n",
       "</div>"
      ],
      "text/plain": [
       "                                                                                                                               features  \\\n",
       "109                                       f_1_num_of_terms,f_2_query_length,f_5_num_results,f_7_sum_title_scores,f_9_avg_semantic_score   \n",
       "363                                                        f_2_query_length,f_5_num_results,f_7_sum_title_scores,f_9_avg_semantic_score   \n",
       "78                   f_1_num_of_terms,f_2_query_length,f_4_has_special_char,f_5_num_results,f_7_sum_title_scores,f_9_avg_semantic_score   \n",
       "15   f_1_num_of_terms,f_2_query_length,f_3_has_numbers,f_4_has_special_char,f_5_num_results,f_7_sum_title_scores,f_9_avg_semantic_score   \n",
       "332                                   f_2_query_length,f_4_has_special_char,f_5_num_results,f_7_sum_title_scores,f_9_avg_semantic_score   \n",
       "\n",
       "     keyword_f  neural_f  query_f  mean_rmse  var_rmse  \n",
       "109       True      True     True   0.322681  0.000902  \n",
       "363       True      True     True   0.322931  0.000864  \n",
       "78        True      True     True   0.324241  0.001113  \n",
       "15        True      True     True   0.324400  0.000893  \n",
       "332       True      True     True   0.324495  0.001120  "
      ]
     },
     "execution_count": 39,
     "metadata": {},
     "output_type": "execute_result"
    }
   ],
   "source": [
    "df_agg_metrics.sort_values(by=['mean_rmse']).head(5)"
   ]
  },
  {
   "cell_type": "code",
   "execution_count": 40,
   "id": "d203741a-50a8-4ceb-bd3b-ede9ddd4f1b6",
   "metadata": {},
   "outputs": [
    {
     "data": {
      "application/vnd.plotly.v1+json": {
       "config": {
        "plotlyServerURL": "https://plot.ly"
       },
       "data": [
        {
         "alignmentgroup": "True",
         "hovertemplate": "mean_rmse=%{y}<extra></extra>",
         "legendgroup": "",
         "marker": {
          "color": "#636efa"
         },
         "name": "",
         "notched": false,
         "offsetgroup": "",
         "orientation": "v",
         "showlegend": false,
         "type": "box",
         "x0": " ",
         "xaxis": "x",
         "y": [
          0.32268146995299085,
          0.32293136621389407,
          0.32424148182279494,
          0.3244002019342493,
          0.32449506113560067,
          0.3247748359376488,
          0.32528588414934445,
          0.3253664832463203,
          0.32587391296691226,
          0.3265294683890335
         ],
         "y0": " ",
         "yaxis": "y"
        }
       ],
       "layout": {
        "autosize": true,
        "boxmode": "group",
        "legend": {
         "tracegroupgap": 0
        },
        "template": {
         "data": {
          "bar": [
           {
            "error_x": {
             "color": "#2a3f5f"
            },
            "error_y": {
             "color": "#2a3f5f"
            },
            "marker": {
             "line": {
              "color": "#E5ECF6",
              "width": 0.5
             },
             "pattern": {
              "fillmode": "overlay",
              "size": 10,
              "solidity": 0.2
             }
            },
            "type": "bar"
           }
          ],
          "barpolar": [
           {
            "marker": {
             "line": {
              "color": "#E5ECF6",
              "width": 0.5
             },
             "pattern": {
              "fillmode": "overlay",
              "size": 10,
              "solidity": 0.2
             }
            },
            "type": "barpolar"
           }
          ],
          "carpet": [
           {
            "aaxis": {
             "endlinecolor": "#2a3f5f",
             "gridcolor": "white",
             "linecolor": "white",
             "minorgridcolor": "white",
             "startlinecolor": "#2a3f5f"
            },
            "baxis": {
             "endlinecolor": "#2a3f5f",
             "gridcolor": "white",
             "linecolor": "white",
             "minorgridcolor": "white",
             "startlinecolor": "#2a3f5f"
            },
            "type": "carpet"
           }
          ],
          "choropleth": [
           {
            "colorbar": {
             "outlinewidth": 0,
             "ticks": ""
            },
            "type": "choropleth"
           }
          ],
          "contour": [
           {
            "colorbar": {
             "outlinewidth": 0,
             "ticks": ""
            },
            "colorscale": [
             [
              0,
              "#0d0887"
             ],
             [
              0.1111111111111111,
              "#46039f"
             ],
             [
              0.2222222222222222,
              "#7201a8"
             ],
             [
              0.3333333333333333,
              "#9c179e"
             ],
             [
              0.4444444444444444,
              "#bd3786"
             ],
             [
              0.5555555555555556,
              "#d8576b"
             ],
             [
              0.6666666666666666,
              "#ed7953"
             ],
             [
              0.7777777777777778,
              "#fb9f3a"
             ],
             [
              0.8888888888888888,
              "#fdca26"
             ],
             [
              1,
              "#f0f921"
             ]
            ],
            "type": "contour"
           }
          ],
          "contourcarpet": [
           {
            "colorbar": {
             "outlinewidth": 0,
             "ticks": ""
            },
            "type": "contourcarpet"
           }
          ],
          "heatmap": [
           {
            "colorbar": {
             "outlinewidth": 0,
             "ticks": ""
            },
            "colorscale": [
             [
              0,
              "#0d0887"
             ],
             [
              0.1111111111111111,
              "#46039f"
             ],
             [
              0.2222222222222222,
              "#7201a8"
             ],
             [
              0.3333333333333333,
              "#9c179e"
             ],
             [
              0.4444444444444444,
              "#bd3786"
             ],
             [
              0.5555555555555556,
              "#d8576b"
             ],
             [
              0.6666666666666666,
              "#ed7953"
             ],
             [
              0.7777777777777778,
              "#fb9f3a"
             ],
             [
              0.8888888888888888,
              "#fdca26"
             ],
             [
              1,
              "#f0f921"
             ]
            ],
            "type": "heatmap"
           }
          ],
          "heatmapgl": [
           {
            "colorbar": {
             "outlinewidth": 0,
             "ticks": ""
            },
            "colorscale": [
             [
              0,
              "#0d0887"
             ],
             [
              0.1111111111111111,
              "#46039f"
             ],
             [
              0.2222222222222222,
              "#7201a8"
             ],
             [
              0.3333333333333333,
              "#9c179e"
             ],
             [
              0.4444444444444444,
              "#bd3786"
             ],
             [
              0.5555555555555556,
              "#d8576b"
             ],
             [
              0.6666666666666666,
              "#ed7953"
             ],
             [
              0.7777777777777778,
              "#fb9f3a"
             ],
             [
              0.8888888888888888,
              "#fdca26"
             ],
             [
              1,
              "#f0f921"
             ]
            ],
            "type": "heatmapgl"
           }
          ],
          "histogram": [
           {
            "marker": {
             "pattern": {
              "fillmode": "overlay",
              "size": 10,
              "solidity": 0.2
             }
            },
            "type": "histogram"
           }
          ],
          "histogram2d": [
           {
            "colorbar": {
             "outlinewidth": 0,
             "ticks": ""
            },
            "colorscale": [
             [
              0,
              "#0d0887"
             ],
             [
              0.1111111111111111,
              "#46039f"
             ],
             [
              0.2222222222222222,
              "#7201a8"
             ],
             [
              0.3333333333333333,
              "#9c179e"
             ],
             [
              0.4444444444444444,
              "#bd3786"
             ],
             [
              0.5555555555555556,
              "#d8576b"
             ],
             [
              0.6666666666666666,
              "#ed7953"
             ],
             [
              0.7777777777777778,
              "#fb9f3a"
             ],
             [
              0.8888888888888888,
              "#fdca26"
             ],
             [
              1,
              "#f0f921"
             ]
            ],
            "type": "histogram2d"
           }
          ],
          "histogram2dcontour": [
           {
            "colorbar": {
             "outlinewidth": 0,
             "ticks": ""
            },
            "colorscale": [
             [
              0,
              "#0d0887"
             ],
             [
              0.1111111111111111,
              "#46039f"
             ],
             [
              0.2222222222222222,
              "#7201a8"
             ],
             [
              0.3333333333333333,
              "#9c179e"
             ],
             [
              0.4444444444444444,
              "#bd3786"
             ],
             [
              0.5555555555555556,
              "#d8576b"
             ],
             [
              0.6666666666666666,
              "#ed7953"
             ],
             [
              0.7777777777777778,
              "#fb9f3a"
             ],
             [
              0.8888888888888888,
              "#fdca26"
             ],
             [
              1,
              "#f0f921"
             ]
            ],
            "type": "histogram2dcontour"
           }
          ],
          "mesh3d": [
           {
            "colorbar": {
             "outlinewidth": 0,
             "ticks": ""
            },
            "type": "mesh3d"
           }
          ],
          "parcoords": [
           {
            "line": {
             "colorbar": {
              "outlinewidth": 0,
              "ticks": ""
             }
            },
            "type": "parcoords"
           }
          ],
          "pie": [
           {
            "automargin": true,
            "type": "pie"
           }
          ],
          "scatter": [
           {
            "fillpattern": {
             "fillmode": "overlay",
             "size": 10,
             "solidity": 0.2
            },
            "type": "scatter"
           }
          ],
          "scatter3d": [
           {
            "line": {
             "colorbar": {
              "outlinewidth": 0,
              "ticks": ""
             }
            },
            "marker": {
             "colorbar": {
              "outlinewidth": 0,
              "ticks": ""
             }
            },
            "type": "scatter3d"
           }
          ],
          "scattercarpet": [
           {
            "marker": {
             "colorbar": {
              "outlinewidth": 0,
              "ticks": ""
             }
            },
            "type": "scattercarpet"
           }
          ],
          "scattergeo": [
           {
            "marker": {
             "colorbar": {
              "outlinewidth": 0,
              "ticks": ""
             }
            },
            "type": "scattergeo"
           }
          ],
          "scattergl": [
           {
            "marker": {
             "colorbar": {
              "outlinewidth": 0,
              "ticks": ""
             }
            },
            "type": "scattergl"
           }
          ],
          "scattermapbox": [
           {
            "marker": {
             "colorbar": {
              "outlinewidth": 0,
              "ticks": ""
             }
            },
            "type": "scattermapbox"
           }
          ],
          "scatterpolar": [
           {
            "marker": {
             "colorbar": {
              "outlinewidth": 0,
              "ticks": ""
             }
            },
            "type": "scatterpolar"
           }
          ],
          "scatterpolargl": [
           {
            "marker": {
             "colorbar": {
              "outlinewidth": 0,
              "ticks": ""
             }
            },
            "type": "scatterpolargl"
           }
          ],
          "scatterternary": [
           {
            "marker": {
             "colorbar": {
              "outlinewidth": 0,
              "ticks": ""
             }
            },
            "type": "scatterternary"
           }
          ],
          "surface": [
           {
            "colorbar": {
             "outlinewidth": 0,
             "ticks": ""
            },
            "colorscale": [
             [
              0,
              "#0d0887"
             ],
             [
              0.1111111111111111,
              "#46039f"
             ],
             [
              0.2222222222222222,
              "#7201a8"
             ],
             [
              0.3333333333333333,
              "#9c179e"
             ],
             [
              0.4444444444444444,
              "#bd3786"
             ],
             [
              0.5555555555555556,
              "#d8576b"
             ],
             [
              0.6666666666666666,
              "#ed7953"
             ],
             [
              0.7777777777777778,
              "#fb9f3a"
             ],
             [
              0.8888888888888888,
              "#fdca26"
             ],
             [
              1,
              "#f0f921"
             ]
            ],
            "type": "surface"
           }
          ],
          "table": [
           {
            "cells": {
             "fill": {
              "color": "#EBF0F8"
             },
             "line": {
              "color": "white"
             }
            },
            "header": {
             "fill": {
              "color": "#C8D4E3"
             },
             "line": {
              "color": "white"
             }
            },
            "type": "table"
           }
          ]
         },
         "layout": {
          "annotationdefaults": {
           "arrowcolor": "#2a3f5f",
           "arrowhead": 0,
           "arrowwidth": 1
          },
          "autotypenumbers": "strict",
          "coloraxis": {
           "colorbar": {
            "outlinewidth": 0,
            "ticks": ""
           }
          },
          "colorscale": {
           "diverging": [
            [
             0,
             "#8e0152"
            ],
            [
             0.1,
             "#c51b7d"
            ],
            [
             0.2,
             "#de77ae"
            ],
            [
             0.3,
             "#f1b6da"
            ],
            [
             0.4,
             "#fde0ef"
            ],
            [
             0.5,
             "#f7f7f7"
            ],
            [
             0.6,
             "#e6f5d0"
            ],
            [
             0.7,
             "#b8e186"
            ],
            [
             0.8,
             "#7fbc41"
            ],
            [
             0.9,
             "#4d9221"
            ],
            [
             1,
             "#276419"
            ]
           ],
           "sequential": [
            [
             0,
             "#0d0887"
            ],
            [
             0.1111111111111111,
             "#46039f"
            ],
            [
             0.2222222222222222,
             "#7201a8"
            ],
            [
             0.3333333333333333,
             "#9c179e"
            ],
            [
             0.4444444444444444,
             "#bd3786"
            ],
            [
             0.5555555555555556,
             "#d8576b"
            ],
            [
             0.6666666666666666,
             "#ed7953"
            ],
            [
             0.7777777777777778,
             "#fb9f3a"
            ],
            [
             0.8888888888888888,
             "#fdca26"
            ],
            [
             1,
             "#f0f921"
            ]
           ],
           "sequentialminus": [
            [
             0,
             "#0d0887"
            ],
            [
             0.1111111111111111,
             "#46039f"
            ],
            [
             0.2222222222222222,
             "#7201a8"
            ],
            [
             0.3333333333333333,
             "#9c179e"
            ],
            [
             0.4444444444444444,
             "#bd3786"
            ],
            [
             0.5555555555555556,
             "#d8576b"
            ],
            [
             0.6666666666666666,
             "#ed7953"
            ],
            [
             0.7777777777777778,
             "#fb9f3a"
            ],
            [
             0.8888888888888888,
             "#fdca26"
            ],
            [
             1,
             "#f0f921"
            ]
           ]
          },
          "colorway": [
           "#636efa",
           "#EF553B",
           "#00cc96",
           "#ab63fa",
           "#FFA15A",
           "#19d3f3",
           "#FF6692",
           "#B6E880",
           "#FF97FF",
           "#FECB52"
          ],
          "font": {
           "color": "#2a3f5f"
          },
          "geo": {
           "bgcolor": "white",
           "lakecolor": "white",
           "landcolor": "#E5ECF6",
           "showlakes": true,
           "showland": true,
           "subunitcolor": "white"
          },
          "hoverlabel": {
           "align": "left"
          },
          "hovermode": "closest",
          "mapbox": {
           "style": "light"
          },
          "paper_bgcolor": "white",
          "plot_bgcolor": "#E5ECF6",
          "polar": {
           "angularaxis": {
            "gridcolor": "white",
            "linecolor": "white",
            "ticks": ""
           },
           "bgcolor": "#E5ECF6",
           "radialaxis": {
            "gridcolor": "white",
            "linecolor": "white",
            "ticks": ""
           }
          },
          "scene": {
           "xaxis": {
            "backgroundcolor": "#E5ECF6",
            "gridcolor": "white",
            "gridwidth": 2,
            "linecolor": "white",
            "showbackground": true,
            "ticks": "",
            "zerolinecolor": "white"
           },
           "yaxis": {
            "backgroundcolor": "#E5ECF6",
            "gridcolor": "white",
            "gridwidth": 2,
            "linecolor": "white",
            "showbackground": true,
            "ticks": "",
            "zerolinecolor": "white"
           },
           "zaxis": {
            "backgroundcolor": "#E5ECF6",
            "gridcolor": "white",
            "gridwidth": 2,
            "linecolor": "white",
            "showbackground": true,
            "ticks": "",
            "zerolinecolor": "white"
           }
          },
          "shapedefaults": {
           "line": {
            "color": "#2a3f5f"
           }
          },
          "ternary": {
           "aaxis": {
            "gridcolor": "white",
            "linecolor": "white",
            "ticks": ""
           },
           "baxis": {
            "gridcolor": "white",
            "linecolor": "white",
            "ticks": ""
           },
           "bgcolor": "#E5ECF6",
           "caxis": {
            "gridcolor": "white",
            "linecolor": "white",
            "ticks": ""
           }
          },
          "title": {
           "x": 0.05
          },
          "xaxis": {
           "automargin": true,
           "gridcolor": "white",
           "linecolor": "white",
           "ticks": "",
           "title": {
            "standoff": 15
           },
           "zerolinecolor": "white",
           "zerolinewidth": 2
          },
          "yaxis": {
           "automargin": true,
           "gridcolor": "white",
           "linecolor": "white",
           "ticks": "",
           "title": {
            "standoff": 15
           },
           "zerolinecolor": "white",
           "zerolinewidth": 2
          }
         }
        },
        "title": {
         "text": "RMSE Boxplot of Top 10 Feature Combinations"
        },
        "xaxis": {
         "anchor": "y",
         "autorange": true,
         "domain": [
          0,
          1
         ],
         "range": [
          -0.5,
          0.5
         ],
         "type": "category"
        },
        "yaxis": {
         "anchor": "x",
         "autorange": true,
         "domain": [
          0,
          1
         ],
         "range": [
          0.3224676922620996,
          0.3267432460799248
         ],
         "title": {
          "text": "mean_rmse"
         },
         "type": "linear"
        }
       }
      }
     },
     "metadata": {},
     "output_type": "display_data"
    }
   ],
   "source": [
    "pio.renderers.default = 'plotly_mimetype'\n",
    "fig = px.box(df_agg_metrics.sort_values(by=['mean_rmse']).head(10), y='mean_rmse', title='RMSE Boxplot of Top 10 Feature Combinations')\n",
    "fig.show()"
   ]
  },
  {
   "cell_type": "code",
   "execution_count": 41,
   "id": "d7a9009f-cf68-40a1-bdcf-704c1cc4acee",
   "metadata": {},
   "outputs": [
    {
     "data": {
      "application/vnd.plotly.v1+json": {
       "config": {
        "plotlyServerURL": "https://plot.ly"
       },
       "data": [
        {
         "name": "all combinations",
         "type": "box",
         "xaxis": "x",
         "y": [
          0.32268146995299085,
          0.32293136621389407,
          0.32424148182279494,
          0.3244002019342493,
          0.32449506113560067,
          0.3247748359376488,
          0.32528588414934445,
          0.3253664832463203,
          0.32587391296691226,
          0.3265294683890335
         ],
         "yaxis": "y"
        },
        {
         "name": "keyword & no neural feature",
         "type": "box",
         "xaxis": "x2",
         "y": [
          0.3514051388887459,
          0.35155621781300195,
          0.3518319680072682,
          0.35278863021946216,
          0.35299985052853006,
          0.3531820091471628,
          0.353671355615616,
          0.35375336047571265,
          0.35409216252041065,
          0.3543853021060337
         ],
         "yaxis": "y2"
        },
        {
         "name": "neural & no keyword feature",
         "type": "box",
         "xaxis": "x3",
         "y": [
          0.34464311265040093,
          0.346269683135649,
          0.3467443417470871,
          0.3469193030340668,
          0.3483996017335232,
          0.3486016686022671,
          0.34890650887451474,
          0.34898819512847956,
          0.34915212124503203,
          0.3491712650769796
         ],
         "yaxis": "y3"
        },
        {
         "name": "only query features",
         "type": "box",
         "xaxis": "x4",
         "y": [
          0.32587391296691226,
          0.32927153161063794,
          0.3317760701463717,
          0.3321695419595441,
          0.34830900121280456,
          0.36238253538944576,
          0.36304035340964524,
          0.3800054728713641,
          0.38046007708067675,
          0.3820233556418745
         ],
         "yaxis": "y4"
        }
       ],
       "layout": {
        "height": 800,
        "template": {
         "data": {
          "bar": [
           {
            "error_x": {
             "color": "#2a3f5f"
            },
            "error_y": {
             "color": "#2a3f5f"
            },
            "marker": {
             "line": {
              "color": "#E5ECF6",
              "width": 0.5
             },
             "pattern": {
              "fillmode": "overlay",
              "size": 10,
              "solidity": 0.2
             }
            },
            "type": "bar"
           }
          ],
          "barpolar": [
           {
            "marker": {
             "line": {
              "color": "#E5ECF6",
              "width": 0.5
             },
             "pattern": {
              "fillmode": "overlay",
              "size": 10,
              "solidity": 0.2
             }
            },
            "type": "barpolar"
           }
          ],
          "carpet": [
           {
            "aaxis": {
             "endlinecolor": "#2a3f5f",
             "gridcolor": "white",
             "linecolor": "white",
             "minorgridcolor": "white",
             "startlinecolor": "#2a3f5f"
            },
            "baxis": {
             "endlinecolor": "#2a3f5f",
             "gridcolor": "white",
             "linecolor": "white",
             "minorgridcolor": "white",
             "startlinecolor": "#2a3f5f"
            },
            "type": "carpet"
           }
          ],
          "choropleth": [
           {
            "colorbar": {
             "outlinewidth": 0,
             "ticks": ""
            },
            "type": "choropleth"
           }
          ],
          "contour": [
           {
            "colorbar": {
             "outlinewidth": 0,
             "ticks": ""
            },
            "colorscale": [
             [
              0,
              "#0d0887"
             ],
             [
              0.1111111111111111,
              "#46039f"
             ],
             [
              0.2222222222222222,
              "#7201a8"
             ],
             [
              0.3333333333333333,
              "#9c179e"
             ],
             [
              0.4444444444444444,
              "#bd3786"
             ],
             [
              0.5555555555555556,
              "#d8576b"
             ],
             [
              0.6666666666666666,
              "#ed7953"
             ],
             [
              0.7777777777777778,
              "#fb9f3a"
             ],
             [
              0.8888888888888888,
              "#fdca26"
             ],
             [
              1,
              "#f0f921"
             ]
            ],
            "type": "contour"
           }
          ],
          "contourcarpet": [
           {
            "colorbar": {
             "outlinewidth": 0,
             "ticks": ""
            },
            "type": "contourcarpet"
           }
          ],
          "heatmap": [
           {
            "colorbar": {
             "outlinewidth": 0,
             "ticks": ""
            },
            "colorscale": [
             [
              0,
              "#0d0887"
             ],
             [
              0.1111111111111111,
              "#46039f"
             ],
             [
              0.2222222222222222,
              "#7201a8"
             ],
             [
              0.3333333333333333,
              "#9c179e"
             ],
             [
              0.4444444444444444,
              "#bd3786"
             ],
             [
              0.5555555555555556,
              "#d8576b"
             ],
             [
              0.6666666666666666,
              "#ed7953"
             ],
             [
              0.7777777777777778,
              "#fb9f3a"
             ],
             [
              0.8888888888888888,
              "#fdca26"
             ],
             [
              1,
              "#f0f921"
             ]
            ],
            "type": "heatmap"
           }
          ],
          "heatmapgl": [
           {
            "colorbar": {
             "outlinewidth": 0,
             "ticks": ""
            },
            "colorscale": [
             [
              0,
              "#0d0887"
             ],
             [
              0.1111111111111111,
              "#46039f"
             ],
             [
              0.2222222222222222,
              "#7201a8"
             ],
             [
              0.3333333333333333,
              "#9c179e"
             ],
             [
              0.4444444444444444,
              "#bd3786"
             ],
             [
              0.5555555555555556,
              "#d8576b"
             ],
             [
              0.6666666666666666,
              "#ed7953"
             ],
             [
              0.7777777777777778,
              "#fb9f3a"
             ],
             [
              0.8888888888888888,
              "#fdca26"
             ],
             [
              1,
              "#f0f921"
             ]
            ],
            "type": "heatmapgl"
           }
          ],
          "histogram": [
           {
            "marker": {
             "pattern": {
              "fillmode": "overlay",
              "size": 10,
              "solidity": 0.2
             }
            },
            "type": "histogram"
           }
          ],
          "histogram2d": [
           {
            "colorbar": {
             "outlinewidth": 0,
             "ticks": ""
            },
            "colorscale": [
             [
              0,
              "#0d0887"
             ],
             [
              0.1111111111111111,
              "#46039f"
             ],
             [
              0.2222222222222222,
              "#7201a8"
             ],
             [
              0.3333333333333333,
              "#9c179e"
             ],
             [
              0.4444444444444444,
              "#bd3786"
             ],
             [
              0.5555555555555556,
              "#d8576b"
             ],
             [
              0.6666666666666666,
              "#ed7953"
             ],
             [
              0.7777777777777778,
              "#fb9f3a"
             ],
             [
              0.8888888888888888,
              "#fdca26"
             ],
             [
              1,
              "#f0f921"
             ]
            ],
            "type": "histogram2d"
           }
          ],
          "histogram2dcontour": [
           {
            "colorbar": {
             "outlinewidth": 0,
             "ticks": ""
            },
            "colorscale": [
             [
              0,
              "#0d0887"
             ],
             [
              0.1111111111111111,
              "#46039f"
             ],
             [
              0.2222222222222222,
              "#7201a8"
             ],
             [
              0.3333333333333333,
              "#9c179e"
             ],
             [
              0.4444444444444444,
              "#bd3786"
             ],
             [
              0.5555555555555556,
              "#d8576b"
             ],
             [
              0.6666666666666666,
              "#ed7953"
             ],
             [
              0.7777777777777778,
              "#fb9f3a"
             ],
             [
              0.8888888888888888,
              "#fdca26"
             ],
             [
              1,
              "#f0f921"
             ]
            ],
            "type": "histogram2dcontour"
           }
          ],
          "mesh3d": [
           {
            "colorbar": {
             "outlinewidth": 0,
             "ticks": ""
            },
            "type": "mesh3d"
           }
          ],
          "parcoords": [
           {
            "line": {
             "colorbar": {
              "outlinewidth": 0,
              "ticks": ""
             }
            },
            "type": "parcoords"
           }
          ],
          "pie": [
           {
            "automargin": true,
            "type": "pie"
           }
          ],
          "scatter": [
           {
            "fillpattern": {
             "fillmode": "overlay",
             "size": 10,
             "solidity": 0.2
            },
            "type": "scatter"
           }
          ],
          "scatter3d": [
           {
            "line": {
             "colorbar": {
              "outlinewidth": 0,
              "ticks": ""
             }
            },
            "marker": {
             "colorbar": {
              "outlinewidth": 0,
              "ticks": ""
             }
            },
            "type": "scatter3d"
           }
          ],
          "scattercarpet": [
           {
            "marker": {
             "colorbar": {
              "outlinewidth": 0,
              "ticks": ""
             }
            },
            "type": "scattercarpet"
           }
          ],
          "scattergeo": [
           {
            "marker": {
             "colorbar": {
              "outlinewidth": 0,
              "ticks": ""
             }
            },
            "type": "scattergeo"
           }
          ],
          "scattergl": [
           {
            "marker": {
             "colorbar": {
              "outlinewidth": 0,
              "ticks": ""
             }
            },
            "type": "scattergl"
           }
          ],
          "scattermapbox": [
           {
            "marker": {
             "colorbar": {
              "outlinewidth": 0,
              "ticks": ""
             }
            },
            "type": "scattermapbox"
           }
          ],
          "scatterpolar": [
           {
            "marker": {
             "colorbar": {
              "outlinewidth": 0,
              "ticks": ""
             }
            },
            "type": "scatterpolar"
           }
          ],
          "scatterpolargl": [
           {
            "marker": {
             "colorbar": {
              "outlinewidth": 0,
              "ticks": ""
             }
            },
            "type": "scatterpolargl"
           }
          ],
          "scatterternary": [
           {
            "marker": {
             "colorbar": {
              "outlinewidth": 0,
              "ticks": ""
             }
            },
            "type": "scatterternary"
           }
          ],
          "surface": [
           {
            "colorbar": {
             "outlinewidth": 0,
             "ticks": ""
            },
            "colorscale": [
             [
              0,
              "#0d0887"
             ],
             [
              0.1111111111111111,
              "#46039f"
             ],
             [
              0.2222222222222222,
              "#7201a8"
             ],
             [
              0.3333333333333333,
              "#9c179e"
             ],
             [
              0.4444444444444444,
              "#bd3786"
             ],
             [
              0.5555555555555556,
              "#d8576b"
             ],
             [
              0.6666666666666666,
              "#ed7953"
             ],
             [
              0.7777777777777778,
              "#fb9f3a"
             ],
             [
              0.8888888888888888,
              "#fdca26"
             ],
             [
              1,
              "#f0f921"
             ]
            ],
            "type": "surface"
           }
          ],
          "table": [
           {
            "cells": {
             "fill": {
              "color": "#EBF0F8"
             },
             "line": {
              "color": "white"
             }
            },
            "header": {
             "fill": {
              "color": "#C8D4E3"
             },
             "line": {
              "color": "white"
             }
            },
            "type": "table"
           }
          ]
         },
         "layout": {
          "annotationdefaults": {
           "arrowcolor": "#2a3f5f",
           "arrowhead": 0,
           "arrowwidth": 1
          },
          "autotypenumbers": "strict",
          "coloraxis": {
           "colorbar": {
            "outlinewidth": 0,
            "ticks": ""
           }
          },
          "colorscale": {
           "diverging": [
            [
             0,
             "#8e0152"
            ],
            [
             0.1,
             "#c51b7d"
            ],
            [
             0.2,
             "#de77ae"
            ],
            [
             0.3,
             "#f1b6da"
            ],
            [
             0.4,
             "#fde0ef"
            ],
            [
             0.5,
             "#f7f7f7"
            ],
            [
             0.6,
             "#e6f5d0"
            ],
            [
             0.7,
             "#b8e186"
            ],
            [
             0.8,
             "#7fbc41"
            ],
            [
             0.9,
             "#4d9221"
            ],
            [
             1,
             "#276419"
            ]
           ],
           "sequential": [
            [
             0,
             "#0d0887"
            ],
            [
             0.1111111111111111,
             "#46039f"
            ],
            [
             0.2222222222222222,
             "#7201a8"
            ],
            [
             0.3333333333333333,
             "#9c179e"
            ],
            [
             0.4444444444444444,
             "#bd3786"
            ],
            [
             0.5555555555555556,
             "#d8576b"
            ],
            [
             0.6666666666666666,
             "#ed7953"
            ],
            [
             0.7777777777777778,
             "#fb9f3a"
            ],
            [
             0.8888888888888888,
             "#fdca26"
            ],
            [
             1,
             "#f0f921"
            ]
           ],
           "sequentialminus": [
            [
             0,
             "#0d0887"
            ],
            [
             0.1111111111111111,
             "#46039f"
            ],
            [
             0.2222222222222222,
             "#7201a8"
            ],
            [
             0.3333333333333333,
             "#9c179e"
            ],
            [
             0.4444444444444444,
             "#bd3786"
            ],
            [
             0.5555555555555556,
             "#d8576b"
            ],
            [
             0.6666666666666666,
             "#ed7953"
            ],
            [
             0.7777777777777778,
             "#fb9f3a"
            ],
            [
             0.8888888888888888,
             "#fdca26"
            ],
            [
             1,
             "#f0f921"
            ]
           ]
          },
          "colorway": [
           "#636efa",
           "#EF553B",
           "#00cc96",
           "#ab63fa",
           "#FFA15A",
           "#19d3f3",
           "#FF6692",
           "#B6E880",
           "#FF97FF",
           "#FECB52"
          ],
          "font": {
           "color": "#2a3f5f"
          },
          "geo": {
           "bgcolor": "white",
           "lakecolor": "white",
           "landcolor": "#E5ECF6",
           "showlakes": true,
           "showland": true,
           "subunitcolor": "white"
          },
          "hoverlabel": {
           "align": "left"
          },
          "hovermode": "closest",
          "mapbox": {
           "style": "light"
          },
          "paper_bgcolor": "white",
          "plot_bgcolor": "#E5ECF6",
          "polar": {
           "angularaxis": {
            "gridcolor": "white",
            "linecolor": "white",
            "ticks": ""
           },
           "bgcolor": "#E5ECF6",
           "radialaxis": {
            "gridcolor": "white",
            "linecolor": "white",
            "ticks": ""
           }
          },
          "scene": {
           "xaxis": {
            "backgroundcolor": "#E5ECF6",
            "gridcolor": "white",
            "gridwidth": 2,
            "linecolor": "white",
            "showbackground": true,
            "ticks": "",
            "zerolinecolor": "white"
           },
           "yaxis": {
            "backgroundcolor": "#E5ECF6",
            "gridcolor": "white",
            "gridwidth": 2,
            "linecolor": "white",
            "showbackground": true,
            "ticks": "",
            "zerolinecolor": "white"
           },
           "zaxis": {
            "backgroundcolor": "#E5ECF6",
            "gridcolor": "white",
            "gridwidth": 2,
            "linecolor": "white",
            "showbackground": true,
            "ticks": "",
            "zerolinecolor": "white"
           }
          },
          "shapedefaults": {
           "line": {
            "color": "#2a3f5f"
           }
          },
          "ternary": {
           "aaxis": {
            "gridcolor": "white",
            "linecolor": "white",
            "ticks": ""
           },
           "baxis": {
            "gridcolor": "white",
            "linecolor": "white",
            "ticks": ""
           },
           "bgcolor": "#E5ECF6",
           "caxis": {
            "gridcolor": "white",
            "linecolor": "white",
            "ticks": ""
           }
          },
          "title": {
           "x": 0.05
          },
          "xaxis": {
           "automargin": true,
           "gridcolor": "white",
           "linecolor": "white",
           "ticks": "",
           "title": {
            "standoff": 15
           },
           "zerolinecolor": "white",
           "zerolinewidth": 2
          },
          "yaxis": {
           "automargin": true,
           "gridcolor": "white",
           "linecolor": "white",
           "ticks": "",
           "title": {
            "standoff": 15
           },
           "zerolinecolor": "white",
           "zerolinewidth": 2
          }
         }
        },
        "title": {
         "text": "Top 10 Feature Combinations"
        },
        "width": 1100,
        "xaxis": {
         "anchor": "y",
         "autorange": true,
         "domain": [
          0,
          0.2125
         ],
         "range": [
          -0.5,
          0.5
         ],
         "type": "category"
        },
        "xaxis2": {
         "anchor": "y2",
         "autorange": true,
         "domain": [
          0.2625,
          0.475
         ],
         "range": [
          -0.5,
          0.5
         ],
         "type": "category"
        },
        "xaxis3": {
         "anchor": "y3",
         "autorange": true,
         "domain": [
          0.525,
          0.7375
         ],
         "range": [
          -0.5,
          0.5
         ],
         "type": "category"
        },
        "xaxis4": {
         "anchor": "y4",
         "autorange": true,
         "domain": [
          0.7875,
          1
         ],
         "range": [
          -0.5,
          0.5
         ],
         "type": "category"
        },
        "yaxis": {
         "anchor": "x",
         "autorange": true,
         "domain": [
          0,
          1
         ],
         "range": [
          0.3193846985258306,
          0.38532012706903473
         ],
         "type": "linear"
        },
        "yaxis2": {
         "anchor": "x2",
         "autorange": true,
         "domain": [
          0,
          1
         ],
         "matches": "y",
         "range": [
          0.3193846985258306,
          0.38532012706903473
         ],
         "showticklabels": false,
         "type": "linear"
        },
        "yaxis3": {
         "anchor": "x3",
         "autorange": true,
         "domain": [
          0,
          1
         ],
         "matches": "y",
         "range": [
          0.3193846985258306,
          0.38532012706903473
         ],
         "showticklabels": false,
         "type": "linear"
        },
        "yaxis4": {
         "anchor": "x4",
         "autorange": true,
         "domain": [
          0,
          1
         ],
         "matches": "y",
         "range": [
          0.3193846985258306,
          0.38532012706903473
         ],
         "showticklabels": false,
         "type": "linear"
        }
       }
      }
     },
     "metadata": {},
     "output_type": "display_data"
    }
   ],
   "source": [
    "fig = make_subplots(rows=1, cols=4, shared_yaxes=True)\n",
    "\n",
    "fig.add_trace(go.Box(y=df_agg_metrics.sort_values(by=['mean_rmse']).head(10)['mean_rmse'],\n",
    "                     name=\"all combinations\"),\n",
    "              row=1, col=1)\n",
    "\n",
    "fig.add_trace(go.Box(y=df_agg_metrics[(df_agg_metrics['keyword_f'] == True) & (df_agg_metrics['neural_f'] == False)].sort_values(by=['mean_rmse']).head(10)['mean_rmse'],\n",
    "                    name=\"keyword & no neural feature\"),\n",
    "              row=1, col=2)\n",
    "\n",
    "fig.add_trace(go.Box(y=df_agg_metrics[(df_agg_metrics['neural_f'] == True) & (df_agg_metrics['keyword_f'] == False)].sort_values(by=['mean_rmse']).head(10)['mean_rmse'],\n",
    "                    name=\"neural & no keyword feature\"),\n",
    "              row=1, col=3)\n",
    "\n",
    "fig.add_trace(go.Box(y=df_agg_metrics[(df_agg_metrics['query_f'] == True) &(df_agg_metrics['keyword_f'] == False) & (df_agg_metrics['neural_f'] == False)].sort_values(by=['mean_rmse']).head(10)['mean_rmse'],\n",
    "                    name=\"only query features\"),\n",
    "              row=1, col=4)\n",
    "\n",
    "fig.update_layout(height=800, width=1100,\n",
    "                  title_text=\"Top 10 Feature Combinations\")\n",
    "fig.show()"
   ]
  },
  {
   "cell_type": "markdown",
   "id": "f58de3fa-8610-4e0f-b5ad-8dd12ca74c98",
   "metadata": {},
   "source": [
    "## Train a Random Forest Regression Model with cross-validation"
   ]
  },
  {
   "cell_type": "code",
   "execution_count": 42,
   "id": "cd9b5f31-4809-44e6-ac60-3106fccad5f1",
   "metadata": {},
   "outputs": [
    {
     "name": "stdout",
     "output_type": "stream",
     "text": [
      "Accuray: -0.12377425503111397\n",
      "Standard deviation: 0.08182795705905409\n",
      "Cross-Validation Root Mean Squared Error: 0.3392405950378962\n",
      "Root Mean Squared Error: 0.31486909256792006\n",
      "R^2 Score: -0.40522708836664445\n"
     ]
    }
   ],
   "source": [
    "from sklearn.model_selection import ShuffleSplit, cross_val_score, train_test_split\n",
    "from sklearn.ensemble import RandomForestRegressor\n",
    "from sklearn.metrics import make_scorer, root_mean_squared_error, r2_score\n",
    "import numpy as np\n",
    "\n",
    "# Prepare features and target\n",
    "feature_columns = [ \"f_1_num_of_terms\", \"f_2_query_length\", \"f_3_has_numbers\", \"f_4_has_special_char\", \"f_5_num_results\",\n",
    "                   \"f_6_max_title_score\", \"f_7_sum_title_scores\", \"f_8_max_semantic_score\",  \"f_9_avg_semantic_score\"]\n",
    "X = df_filtered[feature_columns]   # Select feature columns\n",
    "y = df_filtered['neuralness']      # Select the target column\n",
    "\n",
    "# Initialize cross-validation strategy\n",
    "cv = ShuffleSplit(n_splits=5, test_size=0.2, random_state=0)\n",
    "\n",
    "# Define the model\n",
    "model = RandomForestRegressor(random_state=42)\n",
    "\n",
    "# Perform cross-validation\n",
    "scores = cross_val_score(model, X, y, cv=cv)\n",
    "rmse_scorer = make_scorer(root_mean_squared_error)\n",
    "\n",
    "rmse_scores = cross_val_score(model, X, y, cv=cv, scoring=rmse_scorer)\n",
    "\n",
    "# Output the results\n",
    "print(\"Accuray:\", scores.mean())\n",
    "print(\"Standard deviation:\", scores.std())\n",
    "print(\"Cross-Validation Root Mean Squared Error:\", np.mean(rmse_scores))\n",
    "\n",
    "# Split data into training and testing sets\n",
    "X_train, X_test, y_train, y_test = train_test_split(X, y, test_size=0.2, random_state=42)\n",
    "\n",
    "# Train the model on the training data\n",
    "model.fit(X_train, y_train)\n",
    "\n",
    "# Predict on the test data\n",
    "y_pred = model.predict(X_test)\n",
    "\n",
    "# Evaluate the model\n",
    "rmse = root_mean_squared_error(y_test, y_pred)\n",
    "r2 = r2_score(y_test, y_pred)\n",
    "\n",
    "print(\"Root Mean Squared Error:\", rmse)\n",
    "print(\"R^2 Score:\", r2)"
   ]
  },
  {
   "cell_type": "markdown",
   "id": "48f90d39-97aa-4c43-a020-89dce9dbdcea",
   "metadata": {},
   "source": [
    "## Explore Linear Regression Models with Different Feature Combinations"
   ]
  },
  {
   "cell_type": "code",
   "execution_count": 43,
   "id": "f65a1d21-07a1-4d11-bf6d-7aa0de7c4e83",
   "metadata": {
    "scrolled": true
   },
   "outputs": [
    {
     "name": "stdout",
     "output_type": "stream",
     "text": [
      "Best Feature Combination: ('f_1_num_of_terms', 'f_2_query_length', 'f_3_has_numbers', 'f_4_has_special_char', 'f_5_num_results', 'f_6_max_title_score', 'f_7_sum_title_scores', 'f_8_max_semantic_score', 'f_9_avg_semantic_score')\n",
      "Best Metrics:\n",
      "Accuracy (mean): -3.104349443117165\n",
      "Accuracy (std dev): 5.985149030520057\n",
      "Cross-Validation RMSE (mean): 0.5029819666786967\n"
     ]
    }
   ],
   "source": [
    "from sklearn.model_selection import ShuffleSplit, cross_val_score\n",
    "from sklearn.linear_model import LinearRegression\n",
    "from sklearn.metrics import make_scorer, mean_squared_error, r2_score\n",
    "from itertools import combinations\n",
    "import numpy as np\n",
    "import pandas as pd\n",
    "\n",
    "# Prepare features and target\n",
    "feature_columns = [ \"f_1_num_of_terms\", \"f_2_query_length\", \"f_3_has_numbers\", \"f_4_has_special_char\", \"f_5_num_results\",\n",
    "                   \"f_6_max_title_score\", \"f_7_sum_title_scores\", \"f_8_max_semantic_score\",  \"f_9_avg_semantic_score\"]\n",
    "kws_features = [\"f_5_num_results\", \"f_6_max_title_score\", \"f_7_sum_title_scores\"]\n",
    "neural_search_features = [\"f_8_max_semantic_score\",  \"f_9_avg_semantic_score\"]\n",
    "query_features = [\"f_1_num_of_terms\",  \"f_2_query_length\", \"f_3_has_numbers\", \"f_4_has_special_char\"]\n",
    "y = df_filtered['neuralness']  # Target column\n",
    "\n",
    "# Initialize cross-validation strategy\n",
    "cv = ShuffleSplit(n_splits=5, test_size=0.2, random_state=0)\n",
    "\n",
    "# Define the model\n",
    "regr = LinearRegression()\n",
    "\n",
    "rmse_scorer = make_scorer(root_mean_squared_error, greater_is_better=False)\n",
    "\n",
    "# Initialize variables to track the best combination\n",
    "best_score = float('-inf')\n",
    "best_combination = None\n",
    "best_metrics = {}\n",
    "df_metrics = []\n",
    "\n",
    "# Try all feature combinations of length 2 to 9\n",
    "for r in range(2, len(feature_columns) + 1):\n",
    "    for combo in combinations(feature_columns, r):\n",
    "        X = df_filtered[list(combo)]  # Select current feature subset\n",
    "        \n",
    "        # Perform cross-validation\n",
    "        scores = cross_val_score(regr, X, y, cv=cv)\n",
    "        rmse_scores = cross_val_score(regr, X, y, cv=cv, scoring=rmse_scorer)\n",
    "        \n",
    "        # Calculate the mean metrics for the current combination\n",
    "        mean_score = scores.mean()\n",
    "        std_score = scores.std()\n",
    "        mean_rmse = -np.mean(rmse_scores)  # Since RMSE scorer is negative for minimization\n",
    "\n",
    "        # does the current combination contain keyword search features\n",
    "        keyword_b = any(feature in combo for feature in kws_features)\n",
    "        # does the current combination contain neural search features\n",
    "        neural_b = any(feature in combo for feature in neural_search_features)\n",
    "        # does the current combination contain only query features (no keyword or neural search features)\n",
    "        query_b = any(feature in combo for feature in query_features)\n",
    "        \n",
    "        #print(f\"feature combo: {combo}, score: {mean_rmse}\")\n",
    "        df_metrics.append(pd.DataFrame({\n",
    "            \"features\": [combo]*5,\n",
    "            \"scores\": scores,\n",
    "            \"rmse_scores\": rmse_scores,\n",
    "            \"keyword_f\": [keyword_b]*5,\n",
    "            \"neural_f\": [neural_b]*5,\n",
    "            \"query_f\": [query_b]*5,\n",
    "            }))\n",
    "        \n",
    "        # Update if the current combination is better\n",
    "        if mean_rmse > best_score:\n",
    "            best_score = mean_rmse\n",
    "            best_combination = combo\n",
    "            best_metrics = {\n",
    "                'Accuracy (mean)': mean_score,\n",
    "                'Accuracy (std dev)': std_score,\n",
    "                'RMSE (mean)': mean_rmse\n",
    "            }\n",
    "\n",
    "df_metrics = pd.concat(df_metrics)\n",
    "\n",
    "# Output the best feature combination and its metrics\n",
    "print(\"Best Feature Combination:\", best_combination)\n",
    "print(\"Best Metrics:\")\n",
    "print(f\"Accuracy (mean): {best_metrics['Accuracy (mean)']}\")\n",
    "print(f\"Accuracy (std dev): {best_metrics['Accuracy (std dev)']}\")\n",
    "print(f\"Cross-Validation RMSE (mean): {best_metrics['RMSE (mean)']}\")"
   ]
  },
  {
   "cell_type": "code",
   "execution_count": 44,
   "id": "07f13665-6a52-4973-a2e8-d5eb443e2383",
   "metadata": {},
   "outputs": [
    {
     "data": {
      "text/html": [
       "<div>\n",
       "<style scoped>\n",
       "    .dataframe tbody tr th:only-of-type {\n",
       "        vertical-align: middle;\n",
       "    }\n",
       "\n",
       "    .dataframe tbody tr th {\n",
       "        vertical-align: top;\n",
       "    }\n",
       "\n",
       "    .dataframe thead th {\n",
       "        text-align: right;\n",
       "    }\n",
       "</style>\n",
       "<table border=\"1\" class=\"dataframe\">\n",
       "  <thead>\n",
       "    <tr style=\"text-align: right;\">\n",
       "      <th></th>\n",
       "      <th>features</th>\n",
       "      <th>scores</th>\n",
       "      <th>rmse_scores</th>\n",
       "      <th>keyword_f</th>\n",
       "      <th>neural_f</th>\n",
       "      <th>query_f</th>\n",
       "    </tr>\n",
       "  </thead>\n",
       "  <tbody>\n",
       "    <tr>\n",
       "      <th>0</th>\n",
       "      <td>(f_1_num_of_terms, f_2_query_length)</td>\n",
       "      <td>-0.006863</td>\n",
       "      <td>-0.338470</td>\n",
       "      <td>False</td>\n",
       "      <td>False</td>\n",
       "      <td>True</td>\n",
       "    </tr>\n",
       "    <tr>\n",
       "      <th>1</th>\n",
       "      <td>(f_1_num_of_terms, f_2_query_length)</td>\n",
       "      <td>-0.019518</td>\n",
       "      <td>-0.347865</td>\n",
       "      <td>False</td>\n",
       "      <td>False</td>\n",
       "      <td>True</td>\n",
       "    </tr>\n",
       "    <tr>\n",
       "      <th>2</th>\n",
       "      <td>(f_1_num_of_terms, f_2_query_length)</td>\n",
       "      <td>-0.031380</td>\n",
       "      <td>-0.284638</td>\n",
       "      <td>False</td>\n",
       "      <td>False</td>\n",
       "      <td>True</td>\n",
       "    </tr>\n",
       "  </tbody>\n",
       "</table>\n",
       "</div>"
      ],
      "text/plain": [
       "                               features    scores  rmse_scores  keyword_f  \\\n",
       "0  (f_1_num_of_terms, f_2_query_length) -0.006863    -0.338470      False   \n",
       "1  (f_1_num_of_terms, f_2_query_length) -0.019518    -0.347865      False   \n",
       "2  (f_1_num_of_terms, f_2_query_length) -0.031380    -0.284638      False   \n",
       "\n",
       "   neural_f  query_f  \n",
       "0     False     True  \n",
       "1     False     True  \n",
       "2     False     True  "
      ]
     },
     "execution_count": 44,
     "metadata": {},
     "output_type": "execute_result"
    }
   ],
   "source": [
    "df_metrics.head(3)"
   ]
  },
  {
   "cell_type": "code",
   "execution_count": 45,
   "id": "5ff127d8-ccce-4e6e-bb47-0e8cb65ff60e",
   "metadata": {},
   "outputs": [],
   "source": [
    "df_metrics['rmse_scores'] = df_metrics.rmse_scores.apply(lambda x: (-1)*x)\n",
    "df_metrics['features'] =  df_metrics.features.apply(lambda x: ','.join(x))"
   ]
  },
  {
   "cell_type": "code",
   "execution_count": 46,
   "id": "085958ba-1d12-4e38-8477-8b73c759f0a8",
   "metadata": {},
   "outputs": [
    {
     "data": {
      "text/html": [
       "<div>\n",
       "<style scoped>\n",
       "    .dataframe tbody tr th:only-of-type {\n",
       "        vertical-align: middle;\n",
       "    }\n",
       "\n",
       "    .dataframe tbody tr th {\n",
       "        vertical-align: top;\n",
       "    }\n",
       "\n",
       "    .dataframe thead th {\n",
       "        text-align: right;\n",
       "    }\n",
       "</style>\n",
       "<table border=\"1\" class=\"dataframe\">\n",
       "  <thead>\n",
       "    <tr style=\"text-align: right;\">\n",
       "      <th></th>\n",
       "      <th>features</th>\n",
       "      <th>scores</th>\n",
       "      <th>rmse_scores</th>\n",
       "      <th>keyword_f</th>\n",
       "      <th>neural_f</th>\n",
       "      <th>query_f</th>\n",
       "    </tr>\n",
       "  </thead>\n",
       "  <tbody>\n",
       "    <tr>\n",
       "      <th>0</th>\n",
       "      <td>f_1_num_of_terms,f_2_query_length</td>\n",
       "      <td>-0.006863</td>\n",
       "      <td>0.338470</td>\n",
       "      <td>False</td>\n",
       "      <td>False</td>\n",
       "      <td>True</td>\n",
       "    </tr>\n",
       "    <tr>\n",
       "      <th>1</th>\n",
       "      <td>f_1_num_of_terms,f_2_query_length</td>\n",
       "      <td>-0.019518</td>\n",
       "      <td>0.347865</td>\n",
       "      <td>False</td>\n",
       "      <td>False</td>\n",
       "      <td>True</td>\n",
       "    </tr>\n",
       "    <tr>\n",
       "      <th>2</th>\n",
       "      <td>f_1_num_of_terms,f_2_query_length</td>\n",
       "      <td>-0.031380</td>\n",
       "      <td>0.284638</td>\n",
       "      <td>False</td>\n",
       "      <td>False</td>\n",
       "      <td>True</td>\n",
       "    </tr>\n",
       "    <tr>\n",
       "      <th>3</th>\n",
       "      <td>f_1_num_of_terms,f_2_query_length</td>\n",
       "      <td>-0.030340</td>\n",
       "      <td>0.309681</td>\n",
       "      <td>False</td>\n",
       "      <td>False</td>\n",
       "      <td>True</td>\n",
       "    </tr>\n",
       "    <tr>\n",
       "      <th>4</th>\n",
       "      <td>f_1_num_of_terms,f_2_query_length</td>\n",
       "      <td>-0.260015</td>\n",
       "      <td>0.373410</td>\n",
       "      <td>False</td>\n",
       "      <td>False</td>\n",
       "      <td>True</td>\n",
       "    </tr>\n",
       "    <tr>\n",
       "      <th>0</th>\n",
       "      <td>f_1_num_of_terms,f_3_has_numbers</td>\n",
       "      <td>-0.007532</td>\n",
       "      <td>0.338582</td>\n",
       "      <td>False</td>\n",
       "      <td>False</td>\n",
       "      <td>True</td>\n",
       "    </tr>\n",
       "  </tbody>\n",
       "</table>\n",
       "</div>"
      ],
      "text/plain": [
       "                            features    scores  rmse_scores  keyword_f  \\\n",
       "0  f_1_num_of_terms,f_2_query_length -0.006863     0.338470      False   \n",
       "1  f_1_num_of_terms,f_2_query_length -0.019518     0.347865      False   \n",
       "2  f_1_num_of_terms,f_2_query_length -0.031380     0.284638      False   \n",
       "3  f_1_num_of_terms,f_2_query_length -0.030340     0.309681      False   \n",
       "4  f_1_num_of_terms,f_2_query_length -0.260015     0.373410      False   \n",
       "0   f_1_num_of_terms,f_3_has_numbers -0.007532     0.338582      False   \n",
       "\n",
       "   neural_f  query_f  \n",
       "0     False     True  \n",
       "1     False     True  \n",
       "2     False     True  \n",
       "3     False     True  \n",
       "4     False     True  \n",
       "0     False     True  "
      ]
     },
     "execution_count": 46,
     "metadata": {},
     "output_type": "execute_result"
    }
   ],
   "source": [
    "df_metrics.head(6)"
   ]
  },
  {
   "cell_type": "code",
   "execution_count": 47,
   "id": "85294ea5-100f-4433-be2d-a9141beba34f",
   "metadata": {},
   "outputs": [],
   "source": [
    "df_agg_metrics = df_metrics.groupby(by=['features', 'keyword_f', 'neural_f', 'query_f']).agg({\n",
    "    'rmse_scores': ['mean', 'var']\n",
    "}).reset_index()"
   ]
  },
  {
   "cell_type": "code",
   "execution_count": 48,
   "id": "5ffc20f5-7bda-443e-ae49-7154ff80548a",
   "metadata": {},
   "outputs": [],
   "source": [
    "df_agg_metrics.columns = ['features', 'keyword_f', 'neural_f', 'query_f', 'mean_rmse', 'var_rmse']"
   ]
  },
  {
   "cell_type": "code",
   "execution_count": 49,
   "id": "1e184a85-9964-42d4-a669-70785063351d",
   "metadata": {},
   "outputs": [
    {
     "data": {
      "text/html": [
       "<div>\n",
       "<style scoped>\n",
       "    .dataframe tbody tr th:only-of-type {\n",
       "        vertical-align: middle;\n",
       "    }\n",
       "\n",
       "    .dataframe tbody tr th {\n",
       "        vertical-align: top;\n",
       "    }\n",
       "\n",
       "    .dataframe thead th {\n",
       "        text-align: right;\n",
       "    }\n",
       "</style>\n",
       "<table border=\"1\" class=\"dataframe\">\n",
       "  <thead>\n",
       "    <tr style=\"text-align: right;\">\n",
       "      <th></th>\n",
       "      <th>features</th>\n",
       "      <th>keyword_f</th>\n",
       "      <th>neural_f</th>\n",
       "      <th>query_f</th>\n",
       "      <th>mean_rmse</th>\n",
       "      <th>var_rmse</th>\n",
       "    </tr>\n",
       "  </thead>\n",
       "  <tbody>\n",
       "    <tr>\n",
       "      <th>0</th>\n",
       "      <td>f_1_num_of_terms,f_2_query_length</td>\n",
       "      <td>False</td>\n",
       "      <td>False</td>\n",
       "      <td>True</td>\n",
       "      <td>0.330813</td>\n",
       "      <td>0.001186</td>\n",
       "    </tr>\n",
       "    <tr>\n",
       "      <th>1</th>\n",
       "      <td>f_1_num_of_terms,f_2_query_length,f_3_has_numbers</td>\n",
       "      <td>False</td>\n",
       "      <td>False</td>\n",
       "      <td>True</td>\n",
       "      <td>0.332031</td>\n",
       "      <td>0.001303</td>\n",
       "    </tr>\n",
       "    <tr>\n",
       "      <th>2</th>\n",
       "      <td>f_1_num_of_terms,f_2_query_length,f_3_has_numbers,f_4_has_special_char</td>\n",
       "      <td>False</td>\n",
       "      <td>False</td>\n",
       "      <td>True</td>\n",
       "      <td>0.333961</td>\n",
       "      <td>0.001512</td>\n",
       "    </tr>\n",
       "    <tr>\n",
       "      <th>3</th>\n",
       "      <td>f_1_num_of_terms,f_2_query_length,f_3_has_numbers,f_4_has_special_char,f_5_num_results</td>\n",
       "      <td>True</td>\n",
       "      <td>False</td>\n",
       "      <td>True</td>\n",
       "      <td>0.442141</td>\n",
       "      <td>0.045927</td>\n",
       "    </tr>\n",
       "    <tr>\n",
       "      <th>4</th>\n",
       "      <td>f_1_num_of_terms,f_2_query_length,f_3_has_numbers,f_4_has_special_char,f_5_num_results,f_6_max_title_score</td>\n",
       "      <td>True</td>\n",
       "      <td>False</td>\n",
       "      <td>True</td>\n",
       "      <td>0.446210</td>\n",
       "      <td>0.046370</td>\n",
       "    </tr>\n",
       "  </tbody>\n",
       "</table>\n",
       "</div>"
      ],
      "text/plain": [
       "                                                                                                     features  \\\n",
       "0                                                                           f_1_num_of_terms,f_2_query_length   \n",
       "1                                                           f_1_num_of_terms,f_2_query_length,f_3_has_numbers   \n",
       "2                                      f_1_num_of_terms,f_2_query_length,f_3_has_numbers,f_4_has_special_char   \n",
       "3                      f_1_num_of_terms,f_2_query_length,f_3_has_numbers,f_4_has_special_char,f_5_num_results   \n",
       "4  f_1_num_of_terms,f_2_query_length,f_3_has_numbers,f_4_has_special_char,f_5_num_results,f_6_max_title_score   \n",
       "\n",
       "   keyword_f  neural_f  query_f  mean_rmse  var_rmse  \n",
       "0      False     False     True   0.330813  0.001186  \n",
       "1      False     False     True   0.332031  0.001303  \n",
       "2      False     False     True   0.333961  0.001512  \n",
       "3       True     False     True   0.442141  0.045927  \n",
       "4       True     False     True   0.446210  0.046370  "
      ]
     },
     "execution_count": 49,
     "metadata": {},
     "output_type": "execute_result"
    }
   ],
   "source": [
    "df_agg_metrics.head(5)"
   ]
  },
  {
   "cell_type": "code",
   "execution_count": 50,
   "id": "1a52a3f7-ffd6-41a6-a55c-47d24f1785fb",
   "metadata": {},
   "outputs": [
    {
     "data": {
      "application/vnd.plotly.v1+json": {
       "config": {
        "plotlyServerURL": "https://plot.ly"
       },
       "data": [
        {
         "alignmentgroup": "True",
         "hovertemplate": "x=%{x}<br>y=%{y}<extra></extra>",
         "legendgroup": "",
         "marker": {
          "color": "#636efa"
         },
         "name": "",
         "notched": false,
         "offsetgroup": "",
         "orientation": "v",
         "showlegend": false,
         "type": "box",
         "x": [
          "f_1_num_of_terms,f_2_query_length",
          "f_1_num_of_terms,f_2_query_length",
          "f_1_num_of_terms,f_2_query_length",
          "f_1_num_of_terms,f_2_query_length",
          "f_1_num_of_terms,f_2_query_length",
          "f_1_num_of_terms,f_2_query_length,f_3_has_numbers",
          "f_1_num_of_terms,f_2_query_length,f_3_has_numbers",
          "f_1_num_of_terms,f_2_query_length,f_3_has_numbers",
          "f_1_num_of_terms,f_2_query_length,f_3_has_numbers",
          "f_1_num_of_terms,f_2_query_length,f_3_has_numbers",
          "f_1_num_of_terms,f_2_query_length,f_3_has_numbers,f_4_has_special_char",
          "f_1_num_of_terms,f_2_query_length,f_3_has_numbers,f_4_has_special_char",
          "f_1_num_of_terms,f_2_query_length,f_3_has_numbers,f_4_has_special_char",
          "f_1_num_of_terms,f_2_query_length,f_3_has_numbers,f_4_has_special_char",
          "f_1_num_of_terms,f_2_query_length,f_3_has_numbers,f_4_has_special_char",
          "f_1_num_of_terms,f_2_query_length,f_3_has_numbers,f_4_has_special_char,f_5_num_results",
          "f_1_num_of_terms,f_2_query_length,f_3_has_numbers,f_4_has_special_char,f_5_num_results",
          "f_1_num_of_terms,f_2_query_length,f_3_has_numbers,f_4_has_special_char,f_5_num_results",
          "f_1_num_of_terms,f_2_query_length,f_3_has_numbers,f_4_has_special_char,f_5_num_results",
          "f_1_num_of_terms,f_2_query_length,f_3_has_numbers,f_4_has_special_char,f_5_num_results",
          "f_1_num_of_terms,f_2_query_length,f_3_has_numbers,f_4_has_special_char,f_5_num_results,f_6_max_title_score",
          "f_1_num_of_terms,f_2_query_length,f_3_has_numbers,f_4_has_special_char,f_5_num_results,f_6_max_title_score",
          "f_1_num_of_terms,f_2_query_length,f_3_has_numbers,f_4_has_special_char,f_5_num_results,f_6_max_title_score",
          "f_1_num_of_terms,f_2_query_length,f_3_has_numbers,f_4_has_special_char,f_5_num_results,f_6_max_title_score",
          "f_1_num_of_terms,f_2_query_length,f_3_has_numbers,f_4_has_special_char,f_5_num_results,f_6_max_title_score",
          "f_1_num_of_terms,f_2_query_length,f_3_has_numbers,f_4_has_special_char,f_5_num_results,f_6_max_title_score,f_7_sum_title_scores",
          "f_1_num_of_terms,f_2_query_length,f_3_has_numbers,f_4_has_special_char,f_5_num_results,f_6_max_title_score,f_7_sum_title_scores",
          "f_1_num_of_terms,f_2_query_length,f_3_has_numbers,f_4_has_special_char,f_5_num_results,f_6_max_title_score,f_7_sum_title_scores",
          "f_1_num_of_terms,f_2_query_length,f_3_has_numbers,f_4_has_special_char,f_5_num_results,f_6_max_title_score,f_7_sum_title_scores",
          "f_1_num_of_terms,f_2_query_length,f_3_has_numbers,f_4_has_special_char,f_5_num_results,f_6_max_title_score,f_7_sum_title_scores",
          "f_1_num_of_terms,f_2_query_length,f_3_has_numbers,f_4_has_special_char,f_5_num_results,f_6_max_title_score,f_8_max_semantic_score",
          "f_1_num_of_terms,f_2_query_length,f_3_has_numbers,f_4_has_special_char,f_5_num_results,f_6_max_title_score,f_8_max_semantic_score",
          "f_1_num_of_terms,f_2_query_length,f_3_has_numbers,f_4_has_special_char,f_5_num_results,f_6_max_title_score,f_8_max_semantic_score",
          "f_1_num_of_terms,f_2_query_length,f_3_has_numbers,f_4_has_special_char,f_5_num_results,f_6_max_title_score,f_8_max_semantic_score",
          "f_1_num_of_terms,f_2_query_length,f_3_has_numbers,f_4_has_special_char,f_5_num_results,f_6_max_title_score,f_8_max_semantic_score",
          "f_1_num_of_terms,f_2_query_length,f_3_has_numbers,f_4_has_special_char,f_5_num_results,f_6_max_title_score,f_7_sum_title_scores,f_8_max_semantic_score",
          "f_1_num_of_terms,f_2_query_length,f_3_has_numbers,f_4_has_special_char,f_5_num_results,f_6_max_title_score,f_7_sum_title_scores,f_8_max_semantic_score",
          "f_1_num_of_terms,f_2_query_length,f_3_has_numbers,f_4_has_special_char,f_5_num_results,f_6_max_title_score,f_7_sum_title_scores,f_8_max_semantic_score",
          "f_1_num_of_terms,f_2_query_length,f_3_has_numbers,f_4_has_special_char,f_5_num_results,f_6_max_title_score,f_7_sum_title_scores,f_8_max_semantic_score",
          "f_1_num_of_terms,f_2_query_length,f_3_has_numbers,f_4_has_special_char,f_5_num_results,f_6_max_title_score,f_7_sum_title_scores,f_8_max_semantic_score",
          "f_1_num_of_terms,f_2_query_length,f_3_has_numbers,f_4_has_special_char,f_5_num_results,f_6_max_title_score,f_7_sum_title_scores,f_9_avg_semantic_score",
          "f_1_num_of_terms,f_2_query_length,f_3_has_numbers,f_4_has_special_char,f_5_num_results,f_6_max_title_score,f_7_sum_title_scores,f_9_avg_semantic_score",
          "f_1_num_of_terms,f_2_query_length,f_3_has_numbers,f_4_has_special_char,f_5_num_results,f_6_max_title_score,f_7_sum_title_scores,f_9_avg_semantic_score",
          "f_1_num_of_terms,f_2_query_length,f_3_has_numbers,f_4_has_special_char,f_5_num_results,f_6_max_title_score,f_7_sum_title_scores,f_9_avg_semantic_score",
          "f_1_num_of_terms,f_2_query_length,f_3_has_numbers,f_4_has_special_char,f_5_num_results,f_6_max_title_score,f_7_sum_title_scores,f_9_avg_semantic_score",
          "f_1_num_of_terms,f_2_query_length,f_3_has_numbers,f_4_has_special_char,f_5_num_results,f_6_max_title_score,f_7_sum_title_scores,f_8_max_semantic_score,f_9_avg_semantic_score",
          "f_1_num_of_terms,f_2_query_length,f_3_has_numbers,f_4_has_special_char,f_5_num_results,f_6_max_title_score,f_7_sum_title_scores,f_8_max_semantic_score,f_9_avg_semantic_score",
          "f_1_num_of_terms,f_2_query_length,f_3_has_numbers,f_4_has_special_char,f_5_num_results,f_6_max_title_score,f_7_sum_title_scores,f_8_max_semantic_score,f_9_avg_semantic_score",
          "f_1_num_of_terms,f_2_query_length,f_3_has_numbers,f_4_has_special_char,f_5_num_results,f_6_max_title_score,f_7_sum_title_scores,f_8_max_semantic_score,f_9_avg_semantic_score",
          "f_1_num_of_terms,f_2_query_length,f_3_has_numbers,f_4_has_special_char,f_5_num_results,f_6_max_title_score,f_7_sum_title_scores,f_8_max_semantic_score,f_9_avg_semantic_score"
         ],
         "x0": " ",
         "xaxis": "x",
         "y": [
          0.338469828488464,
          0.34786468558478395,
          0.2846378728632044,
          0.30968136017578607,
          0.37340959718711736,
          0.33860379971459004,
          0.34871412885476333,
          0.2847156593123462,
          0.30969336261427266,
          0.3784267167531397,
          0.34548474588130595,
          0.3514126216756799,
          0.283873034057447,
          0.3065711877789312,
          0.3824654098067124,
          0.3453138813822471,
          0.35135073629415453,
          0.8222246334154085,
          0.30652059448177243,
          0.38529484406568243,
          0.3584690612950403,
          0.35240112360943915,
          0.8280581242261608,
          0.30659213028781696,
          0.38553189140109756,
          0.35188023715065775,
          0.3485402972233377,
          1.013603745730244,
          0.31036667739960105,
          0.38335125030081707,
          0.35552361227776796,
          0.36189871228455145,
          0.7806204165426002,
          0.3015805160840689,
          0.3776304388976848,
          0.3466408506865544,
          0.3570523751057107,
          0.9756745433030194,
          0.30469994652150706,
          0.3727321216334634,
          0.3505363641498616,
          0.3498263479114868,
          0.9653979686967239,
          0.3085739410146569,
          0.3878039108319097,
          0.34577118069178253,
          0.3621606354140827,
          1.12364940924899,
          0.3044580590634382,
          0.3788705489751901
         ],
         "y0": " ",
         "yaxis": "y"
        }
       ],
       "layout": {
        "boxmode": "group",
        "height": 800,
        "legend": {
         "tracegroupgap": 0
        },
        "template": {
         "data": {
          "bar": [
           {
            "error_x": {
             "color": "#2a3f5f"
            },
            "error_y": {
             "color": "#2a3f5f"
            },
            "marker": {
             "line": {
              "color": "#E5ECF6",
              "width": 0.5
             },
             "pattern": {
              "fillmode": "overlay",
              "size": 10,
              "solidity": 0.2
             }
            },
            "type": "bar"
           }
          ],
          "barpolar": [
           {
            "marker": {
             "line": {
              "color": "#E5ECF6",
              "width": 0.5
             },
             "pattern": {
              "fillmode": "overlay",
              "size": 10,
              "solidity": 0.2
             }
            },
            "type": "barpolar"
           }
          ],
          "carpet": [
           {
            "aaxis": {
             "endlinecolor": "#2a3f5f",
             "gridcolor": "white",
             "linecolor": "white",
             "minorgridcolor": "white",
             "startlinecolor": "#2a3f5f"
            },
            "baxis": {
             "endlinecolor": "#2a3f5f",
             "gridcolor": "white",
             "linecolor": "white",
             "minorgridcolor": "white",
             "startlinecolor": "#2a3f5f"
            },
            "type": "carpet"
           }
          ],
          "choropleth": [
           {
            "colorbar": {
             "outlinewidth": 0,
             "ticks": ""
            },
            "type": "choropleth"
           }
          ],
          "contour": [
           {
            "colorbar": {
             "outlinewidth": 0,
             "ticks": ""
            },
            "colorscale": [
             [
              0,
              "#0d0887"
             ],
             [
              0.1111111111111111,
              "#46039f"
             ],
             [
              0.2222222222222222,
              "#7201a8"
             ],
             [
              0.3333333333333333,
              "#9c179e"
             ],
             [
              0.4444444444444444,
              "#bd3786"
             ],
             [
              0.5555555555555556,
              "#d8576b"
             ],
             [
              0.6666666666666666,
              "#ed7953"
             ],
             [
              0.7777777777777778,
              "#fb9f3a"
             ],
             [
              0.8888888888888888,
              "#fdca26"
             ],
             [
              1,
              "#f0f921"
             ]
            ],
            "type": "contour"
           }
          ],
          "contourcarpet": [
           {
            "colorbar": {
             "outlinewidth": 0,
             "ticks": ""
            },
            "type": "contourcarpet"
           }
          ],
          "heatmap": [
           {
            "colorbar": {
             "outlinewidth": 0,
             "ticks": ""
            },
            "colorscale": [
             [
              0,
              "#0d0887"
             ],
             [
              0.1111111111111111,
              "#46039f"
             ],
             [
              0.2222222222222222,
              "#7201a8"
             ],
             [
              0.3333333333333333,
              "#9c179e"
             ],
             [
              0.4444444444444444,
              "#bd3786"
             ],
             [
              0.5555555555555556,
              "#d8576b"
             ],
             [
              0.6666666666666666,
              "#ed7953"
             ],
             [
              0.7777777777777778,
              "#fb9f3a"
             ],
             [
              0.8888888888888888,
              "#fdca26"
             ],
             [
              1,
              "#f0f921"
             ]
            ],
            "type": "heatmap"
           }
          ],
          "heatmapgl": [
           {
            "colorbar": {
             "outlinewidth": 0,
             "ticks": ""
            },
            "colorscale": [
             [
              0,
              "#0d0887"
             ],
             [
              0.1111111111111111,
              "#46039f"
             ],
             [
              0.2222222222222222,
              "#7201a8"
             ],
             [
              0.3333333333333333,
              "#9c179e"
             ],
             [
              0.4444444444444444,
              "#bd3786"
             ],
             [
              0.5555555555555556,
              "#d8576b"
             ],
             [
              0.6666666666666666,
              "#ed7953"
             ],
             [
              0.7777777777777778,
              "#fb9f3a"
             ],
             [
              0.8888888888888888,
              "#fdca26"
             ],
             [
              1,
              "#f0f921"
             ]
            ],
            "type": "heatmapgl"
           }
          ],
          "histogram": [
           {
            "marker": {
             "pattern": {
              "fillmode": "overlay",
              "size": 10,
              "solidity": 0.2
             }
            },
            "type": "histogram"
           }
          ],
          "histogram2d": [
           {
            "colorbar": {
             "outlinewidth": 0,
             "ticks": ""
            },
            "colorscale": [
             [
              0,
              "#0d0887"
             ],
             [
              0.1111111111111111,
              "#46039f"
             ],
             [
              0.2222222222222222,
              "#7201a8"
             ],
             [
              0.3333333333333333,
              "#9c179e"
             ],
             [
              0.4444444444444444,
              "#bd3786"
             ],
             [
              0.5555555555555556,
              "#d8576b"
             ],
             [
              0.6666666666666666,
              "#ed7953"
             ],
             [
              0.7777777777777778,
              "#fb9f3a"
             ],
             [
              0.8888888888888888,
              "#fdca26"
             ],
             [
              1,
              "#f0f921"
             ]
            ],
            "type": "histogram2d"
           }
          ],
          "histogram2dcontour": [
           {
            "colorbar": {
             "outlinewidth": 0,
             "ticks": ""
            },
            "colorscale": [
             [
              0,
              "#0d0887"
             ],
             [
              0.1111111111111111,
              "#46039f"
             ],
             [
              0.2222222222222222,
              "#7201a8"
             ],
             [
              0.3333333333333333,
              "#9c179e"
             ],
             [
              0.4444444444444444,
              "#bd3786"
             ],
             [
              0.5555555555555556,
              "#d8576b"
             ],
             [
              0.6666666666666666,
              "#ed7953"
             ],
             [
              0.7777777777777778,
              "#fb9f3a"
             ],
             [
              0.8888888888888888,
              "#fdca26"
             ],
             [
              1,
              "#f0f921"
             ]
            ],
            "type": "histogram2dcontour"
           }
          ],
          "mesh3d": [
           {
            "colorbar": {
             "outlinewidth": 0,
             "ticks": ""
            },
            "type": "mesh3d"
           }
          ],
          "parcoords": [
           {
            "line": {
             "colorbar": {
              "outlinewidth": 0,
              "ticks": ""
             }
            },
            "type": "parcoords"
           }
          ],
          "pie": [
           {
            "automargin": true,
            "type": "pie"
           }
          ],
          "scatter": [
           {
            "fillpattern": {
             "fillmode": "overlay",
             "size": 10,
             "solidity": 0.2
            },
            "type": "scatter"
           }
          ],
          "scatter3d": [
           {
            "line": {
             "colorbar": {
              "outlinewidth": 0,
              "ticks": ""
             }
            },
            "marker": {
             "colorbar": {
              "outlinewidth": 0,
              "ticks": ""
             }
            },
            "type": "scatter3d"
           }
          ],
          "scattercarpet": [
           {
            "marker": {
             "colorbar": {
              "outlinewidth": 0,
              "ticks": ""
             }
            },
            "type": "scattercarpet"
           }
          ],
          "scattergeo": [
           {
            "marker": {
             "colorbar": {
              "outlinewidth": 0,
              "ticks": ""
             }
            },
            "type": "scattergeo"
           }
          ],
          "scattergl": [
           {
            "marker": {
             "colorbar": {
              "outlinewidth": 0,
              "ticks": ""
             }
            },
            "type": "scattergl"
           }
          ],
          "scattermapbox": [
           {
            "marker": {
             "colorbar": {
              "outlinewidth": 0,
              "ticks": ""
             }
            },
            "type": "scattermapbox"
           }
          ],
          "scatterpolar": [
           {
            "marker": {
             "colorbar": {
              "outlinewidth": 0,
              "ticks": ""
             }
            },
            "type": "scatterpolar"
           }
          ],
          "scatterpolargl": [
           {
            "marker": {
             "colorbar": {
              "outlinewidth": 0,
              "ticks": ""
             }
            },
            "type": "scatterpolargl"
           }
          ],
          "scatterternary": [
           {
            "marker": {
             "colorbar": {
              "outlinewidth": 0,
              "ticks": ""
             }
            },
            "type": "scatterternary"
           }
          ],
          "surface": [
           {
            "colorbar": {
             "outlinewidth": 0,
             "ticks": ""
            },
            "colorscale": [
             [
              0,
              "#0d0887"
             ],
             [
              0.1111111111111111,
              "#46039f"
             ],
             [
              0.2222222222222222,
              "#7201a8"
             ],
             [
              0.3333333333333333,
              "#9c179e"
             ],
             [
              0.4444444444444444,
              "#bd3786"
             ],
             [
              0.5555555555555556,
              "#d8576b"
             ],
             [
              0.6666666666666666,
              "#ed7953"
             ],
             [
              0.7777777777777778,
              "#fb9f3a"
             ],
             [
              0.8888888888888888,
              "#fdca26"
             ],
             [
              1,
              "#f0f921"
             ]
            ],
            "type": "surface"
           }
          ],
          "table": [
           {
            "cells": {
             "fill": {
              "color": "#EBF0F8"
             },
             "line": {
              "color": "white"
             }
            },
            "header": {
             "fill": {
              "color": "#C8D4E3"
             },
             "line": {
              "color": "white"
             }
            },
            "type": "table"
           }
          ]
         },
         "layout": {
          "annotationdefaults": {
           "arrowcolor": "#2a3f5f",
           "arrowhead": 0,
           "arrowwidth": 1
          },
          "autotypenumbers": "strict",
          "coloraxis": {
           "colorbar": {
            "outlinewidth": 0,
            "ticks": ""
           }
          },
          "colorscale": {
           "diverging": [
            [
             0,
             "#8e0152"
            ],
            [
             0.1,
             "#c51b7d"
            ],
            [
             0.2,
             "#de77ae"
            ],
            [
             0.3,
             "#f1b6da"
            ],
            [
             0.4,
             "#fde0ef"
            ],
            [
             0.5,
             "#f7f7f7"
            ],
            [
             0.6,
             "#e6f5d0"
            ],
            [
             0.7,
             "#b8e186"
            ],
            [
             0.8,
             "#7fbc41"
            ],
            [
             0.9,
             "#4d9221"
            ],
            [
             1,
             "#276419"
            ]
           ],
           "sequential": [
            [
             0,
             "#0d0887"
            ],
            [
             0.1111111111111111,
             "#46039f"
            ],
            [
             0.2222222222222222,
             "#7201a8"
            ],
            [
             0.3333333333333333,
             "#9c179e"
            ],
            [
             0.4444444444444444,
             "#bd3786"
            ],
            [
             0.5555555555555556,
             "#d8576b"
            ],
            [
             0.6666666666666666,
             "#ed7953"
            ],
            [
             0.7777777777777778,
             "#fb9f3a"
            ],
            [
             0.8888888888888888,
             "#fdca26"
            ],
            [
             1,
             "#f0f921"
            ]
           ],
           "sequentialminus": [
            [
             0,
             "#0d0887"
            ],
            [
             0.1111111111111111,
             "#46039f"
            ],
            [
             0.2222222222222222,
             "#7201a8"
            ],
            [
             0.3333333333333333,
             "#9c179e"
            ],
            [
             0.4444444444444444,
             "#bd3786"
            ],
            [
             0.5555555555555556,
             "#d8576b"
            ],
            [
             0.6666666666666666,
             "#ed7953"
            ],
            [
             0.7777777777777778,
             "#fb9f3a"
            ],
            [
             0.8888888888888888,
             "#fdca26"
            ],
            [
             1,
             "#f0f921"
            ]
           ]
          },
          "colorway": [
           "#636efa",
           "#EF553B",
           "#00cc96",
           "#ab63fa",
           "#FFA15A",
           "#19d3f3",
           "#FF6692",
           "#B6E880",
           "#FF97FF",
           "#FECB52"
          ],
          "font": {
           "color": "#2a3f5f"
          },
          "geo": {
           "bgcolor": "white",
           "lakecolor": "white",
           "landcolor": "#E5ECF6",
           "showlakes": true,
           "showland": true,
           "subunitcolor": "white"
          },
          "hoverlabel": {
           "align": "left"
          },
          "hovermode": "closest",
          "mapbox": {
           "style": "light"
          },
          "paper_bgcolor": "white",
          "plot_bgcolor": "#E5ECF6",
          "polar": {
           "angularaxis": {
            "gridcolor": "white",
            "linecolor": "white",
            "ticks": ""
           },
           "bgcolor": "#E5ECF6",
           "radialaxis": {
            "gridcolor": "white",
            "linecolor": "white",
            "ticks": ""
           }
          },
          "scene": {
           "xaxis": {
            "backgroundcolor": "#E5ECF6",
            "gridcolor": "white",
            "gridwidth": 2,
            "linecolor": "white",
            "showbackground": true,
            "ticks": "",
            "zerolinecolor": "white"
           },
           "yaxis": {
            "backgroundcolor": "#E5ECF6",
            "gridcolor": "white",
            "gridwidth": 2,
            "linecolor": "white",
            "showbackground": true,
            "ticks": "",
            "zerolinecolor": "white"
           },
           "zaxis": {
            "backgroundcolor": "#E5ECF6",
            "gridcolor": "white",
            "gridwidth": 2,
            "linecolor": "white",
            "showbackground": true,
            "ticks": "",
            "zerolinecolor": "white"
           }
          },
          "shapedefaults": {
           "line": {
            "color": "#2a3f5f"
           }
          },
          "ternary": {
           "aaxis": {
            "gridcolor": "white",
            "linecolor": "white",
            "ticks": ""
           },
           "baxis": {
            "gridcolor": "white",
            "linecolor": "white",
            "ticks": ""
           },
           "bgcolor": "#E5ECF6",
           "caxis": {
            "gridcolor": "white",
            "linecolor": "white",
            "ticks": ""
           }
          },
          "title": {
           "x": 0.05
          },
          "xaxis": {
           "automargin": true,
           "gridcolor": "white",
           "linecolor": "white",
           "ticks": "",
           "title": {
            "standoff": 15
           },
           "zerolinecolor": "white",
           "zerolinewidth": 2
          },
          "yaxis": {
           "automargin": true,
           "gridcolor": "white",
           "linecolor": "white",
           "ticks": "",
           "title": {
            "standoff": 15
           },
           "zerolinecolor": "white",
           "zerolinewidth": 2
          }
         }
        },
        "title": {
         "text": "Top 10 Feature Combinations"
        },
        "width": 1100,
        "xaxis": {
         "anchor": "y",
         "autorange": true,
         "domain": [
          0,
          1
         ],
         "range": [
          -0.5,
          9.5
         ],
         "showticklabels": false,
         "title": {
          "text": "feature combinations"
         },
         "type": "category"
        },
        "yaxis": {
         "anchor": "x",
         "autorange": true,
         "domain": [
          0,
          1
         ],
         "range": [
          0.2372187909912502,
          1.1703036523151868
         ],
         "title": {
          "text": "rmse scores"
         },
         "type": "linear"
        }
       }
      }
     },
     "metadata": {},
     "output_type": "display_data"
    }
   ],
   "source": [
    "pio.renderers.default = 'plotly_mimetype'\n",
    "x = df_agg_metrics['features'].head(10)\n",
    "\n",
    "fig = px.box(df_metrics, x=df_metrics[df_metrics['features'].isin(x)]['features'],\n",
    "             y=df_metrics[df_metrics['features'].isin(x)]['rmse_scores'], title='RMSE Boxplot of Top 10 Feature Combinations')\n",
    "fig.update_layout(height=800, width=1100,\n",
    "                  title_text=\"Top 10 Feature Combinations\",\n",
    "                  xaxis_title=\"feature combinations\", yaxis_title=\"rmse scores\")\n",
    "fig.update_xaxes(showticklabels=False)\n",
    "fig.show()"
   ]
  },
  {
   "cell_type": "code",
   "execution_count": 51,
   "id": "ebc7e26b-4a5c-4119-bdcf-6207947aa65a",
   "metadata": {},
   "outputs": [
    {
     "data": {
      "text/html": [
       "<div>\n",
       "<style scoped>\n",
       "    .dataframe tbody tr th:only-of-type {\n",
       "        vertical-align: middle;\n",
       "    }\n",
       "\n",
       "    .dataframe tbody tr th {\n",
       "        vertical-align: top;\n",
       "    }\n",
       "\n",
       "    .dataframe thead th {\n",
       "        text-align: right;\n",
       "    }\n",
       "</style>\n",
       "<table border=\"1\" class=\"dataframe\">\n",
       "  <thead>\n",
       "    <tr style=\"text-align: right;\">\n",
       "      <th></th>\n",
       "      <th>features</th>\n",
       "      <th>keyword_f</th>\n",
       "      <th>neural_f</th>\n",
       "      <th>query_f</th>\n",
       "      <th>mean_rmse</th>\n",
       "      <th>var_rmse</th>\n",
       "    </tr>\n",
       "  </thead>\n",
       "  <tbody>\n",
       "    <tr>\n",
       "      <th>473</th>\n",
       "      <td>f_4_has_special_char,f_8_max_semantic_score</td>\n",
       "      <td>False</td>\n",
       "      <td>True</td>\n",
       "      <td>True</td>\n",
       "      <td>0.318835</td>\n",
       "      <td>0.000895</td>\n",
       "    </tr>\n",
       "    <tr>\n",
       "      <th>474</th>\n",
       "      <td>f_4_has_special_char,f_8_max_semantic_score,f_9_avg_semantic_score</td>\n",
       "      <td>False</td>\n",
       "      <td>True</td>\n",
       "      <td>True</td>\n",
       "      <td>0.318906</td>\n",
       "      <td>0.000859</td>\n",
       "    </tr>\n",
       "    <tr>\n",
       "      <th>501</th>\n",
       "      <td>f_8_max_semantic_score,f_9_avg_semantic_score</td>\n",
       "      <td>False</td>\n",
       "      <td>True</td>\n",
       "      <td>False</td>\n",
       "      <td>0.319009</td>\n",
       "      <td>0.000734</td>\n",
       "    </tr>\n",
       "    <tr>\n",
       "      <th>411</th>\n",
       "      <td>f_3_has_numbers,f_4_has_special_char,f_8_max_semantic_score</td>\n",
       "      <td>False</td>\n",
       "      <td>True</td>\n",
       "      <td>True</td>\n",
       "      <td>0.319089</td>\n",
       "      <td>0.000895</td>\n",
       "    </tr>\n",
       "    <tr>\n",
       "      <th>412</th>\n",
       "      <td>f_3_has_numbers,f_4_has_special_char,f_8_max_semantic_score,f_9_avg_semantic_score</td>\n",
       "      <td>False</td>\n",
       "      <td>True</td>\n",
       "      <td>True</td>\n",
       "      <td>0.319164</td>\n",
       "      <td>0.000855</td>\n",
       "    </tr>\n",
       "  </tbody>\n",
       "</table>\n",
       "</div>"
      ],
      "text/plain": [
       "                                                                               features  \\\n",
       "473                                         f_4_has_special_char,f_8_max_semantic_score   \n",
       "474                  f_4_has_special_char,f_8_max_semantic_score,f_9_avg_semantic_score   \n",
       "501                                       f_8_max_semantic_score,f_9_avg_semantic_score   \n",
       "411                         f_3_has_numbers,f_4_has_special_char,f_8_max_semantic_score   \n",
       "412  f_3_has_numbers,f_4_has_special_char,f_8_max_semantic_score,f_9_avg_semantic_score   \n",
       "\n",
       "     keyword_f  neural_f  query_f  mean_rmse  var_rmse  \n",
       "473      False      True     True   0.318835  0.000895  \n",
       "474      False      True     True   0.318906  0.000859  \n",
       "501      False      True    False   0.319009  0.000734  \n",
       "411      False      True     True   0.319089  0.000895  \n",
       "412      False      True     True   0.319164  0.000855  "
      ]
     },
     "execution_count": 51,
     "metadata": {},
     "output_type": "execute_result"
    }
   ],
   "source": [
    "df_agg_metrics.sort_values(by=['mean_rmse']).head(5)"
   ]
  },
  {
   "cell_type": "code",
   "execution_count": 52,
   "id": "cfe692ef-ef9d-47bb-bc2c-5178378a15c7",
   "metadata": {},
   "outputs": [
    {
     "data": {
      "text/html": [
       "<div>\n",
       "<style scoped>\n",
       "    .dataframe tbody tr th:only-of-type {\n",
       "        vertical-align: middle;\n",
       "    }\n",
       "\n",
       "    .dataframe tbody tr th {\n",
       "        vertical-align: top;\n",
       "    }\n",
       "\n",
       "    .dataframe thead th {\n",
       "        text-align: right;\n",
       "    }\n",
       "</style>\n",
       "<table border=\"1\" class=\"dataframe\">\n",
       "  <thead>\n",
       "    <tr style=\"text-align: right;\">\n",
       "      <th></th>\n",
       "      <th>features</th>\n",
       "      <th>keyword_f</th>\n",
       "      <th>neural_f</th>\n",
       "      <th>query_f</th>\n",
       "      <th>mean_rmse</th>\n",
       "      <th>var_rmse</th>\n",
       "    </tr>\n",
       "  </thead>\n",
       "  <tbody>\n",
       "    <tr>\n",
       "      <th>473</th>\n",
       "      <td>f_4_has_special_char,f_8_max_semantic_score</td>\n",
       "      <td>False</td>\n",
       "      <td>True</td>\n",
       "      <td>True</td>\n",
       "      <td>0.318835</td>\n",
       "      <td>0.000895</td>\n",
       "    </tr>\n",
       "    <tr>\n",
       "      <th>474</th>\n",
       "      <td>f_4_has_special_char,f_8_max_semantic_score,f_9_avg_semantic_score</td>\n",
       "      <td>False</td>\n",
       "      <td>True</td>\n",
       "      <td>True</td>\n",
       "      <td>0.318906</td>\n",
       "      <td>0.000859</td>\n",
       "    </tr>\n",
       "    <tr>\n",
       "      <th>411</th>\n",
       "      <td>f_3_has_numbers,f_4_has_special_char,f_8_max_semantic_score</td>\n",
       "      <td>False</td>\n",
       "      <td>True</td>\n",
       "      <td>True</td>\n",
       "      <td>0.319089</td>\n",
       "      <td>0.000895</td>\n",
       "    </tr>\n",
       "    <tr>\n",
       "      <th>412</th>\n",
       "      <td>f_3_has_numbers,f_4_has_special_char,f_8_max_semantic_score,f_9_avg_semantic_score</td>\n",
       "      <td>False</td>\n",
       "      <td>True</td>\n",
       "      <td>True</td>\n",
       "      <td>0.319164</td>\n",
       "      <td>0.000855</td>\n",
       "    </tr>\n",
       "    <tr>\n",
       "      <th>443</th>\n",
       "      <td>f_3_has_numbers,f_8_max_semantic_score,f_9_avg_semantic_score</td>\n",
       "      <td>False</td>\n",
       "      <td>True</td>\n",
       "      <td>True</td>\n",
       "      <td>0.319345</td>\n",
       "      <td>0.000754</td>\n",
       "    </tr>\n",
       "  </tbody>\n",
       "</table>\n",
       "</div>"
      ],
      "text/plain": [
       "                                                                               features  \\\n",
       "473                                         f_4_has_special_char,f_8_max_semantic_score   \n",
       "474                  f_4_has_special_char,f_8_max_semantic_score,f_9_avg_semantic_score   \n",
       "411                         f_3_has_numbers,f_4_has_special_char,f_8_max_semantic_score   \n",
       "412  f_3_has_numbers,f_4_has_special_char,f_8_max_semantic_score,f_9_avg_semantic_score   \n",
       "443                       f_3_has_numbers,f_8_max_semantic_score,f_9_avg_semantic_score   \n",
       "\n",
       "     keyword_f  neural_f  query_f  mean_rmse  var_rmse  \n",
       "473      False      True     True   0.318835  0.000895  \n",
       "474      False      True     True   0.318906  0.000859  \n",
       "411      False      True     True   0.319089  0.000895  \n",
       "412      False      True     True   0.319164  0.000855  \n",
       "443      False      True     True   0.319345  0.000754  "
      ]
     },
     "execution_count": 52,
     "metadata": {},
     "output_type": "execute_result"
    }
   ],
   "source": [
    "df_agg_metrics[df_agg_metrics['query_f'] == True].sort_values(by=['mean_rmse']).head(5)"
   ]
  },
  {
   "cell_type": "code",
   "execution_count": 53,
   "id": "937870ae-3ca0-4e68-8570-f3d29cfdbdd4",
   "metadata": {},
   "outputs": [
    {
     "data": {
      "application/vnd.plotly.v1+json": {
       "config": {
        "plotlyServerURL": "https://plot.ly"
       },
       "data": [
        {
         "alignmentgroup": "True",
         "hovertemplate": "mean_rmse=%{y}<extra></extra>",
         "legendgroup": "",
         "marker": {
          "color": "#636efa"
         },
         "name": "",
         "notched": false,
         "offsetgroup": "",
         "orientation": "v",
         "showlegend": false,
         "type": "box",
         "x0": " ",
         "xaxis": "x",
         "y": [
          0.3188353751609646,
          0.31890576236429535,
          0.3190093030147664,
          0.31908854648887286,
          0.31916444396522914,
          0.3193451876956759,
          0.3193646852598204,
          0.3197173936087022,
          0.31981914277349927,
          0.3198901350836817
         ],
         "y0": " ",
         "yaxis": "y"
        }
       ],
       "layout": {
        "autosize": true,
        "boxmode": "group",
        "legend": {
         "tracegroupgap": 0
        },
        "template": {
         "data": {
          "bar": [
           {
            "error_x": {
             "color": "#2a3f5f"
            },
            "error_y": {
             "color": "#2a3f5f"
            },
            "marker": {
             "line": {
              "color": "#E5ECF6",
              "width": 0.5
             },
             "pattern": {
              "fillmode": "overlay",
              "size": 10,
              "solidity": 0.2
             }
            },
            "type": "bar"
           }
          ],
          "barpolar": [
           {
            "marker": {
             "line": {
              "color": "#E5ECF6",
              "width": 0.5
             },
             "pattern": {
              "fillmode": "overlay",
              "size": 10,
              "solidity": 0.2
             }
            },
            "type": "barpolar"
           }
          ],
          "carpet": [
           {
            "aaxis": {
             "endlinecolor": "#2a3f5f",
             "gridcolor": "white",
             "linecolor": "white",
             "minorgridcolor": "white",
             "startlinecolor": "#2a3f5f"
            },
            "baxis": {
             "endlinecolor": "#2a3f5f",
             "gridcolor": "white",
             "linecolor": "white",
             "minorgridcolor": "white",
             "startlinecolor": "#2a3f5f"
            },
            "type": "carpet"
           }
          ],
          "choropleth": [
           {
            "colorbar": {
             "outlinewidth": 0,
             "ticks": ""
            },
            "type": "choropleth"
           }
          ],
          "contour": [
           {
            "colorbar": {
             "outlinewidth": 0,
             "ticks": ""
            },
            "colorscale": [
             [
              0,
              "#0d0887"
             ],
             [
              0.1111111111111111,
              "#46039f"
             ],
             [
              0.2222222222222222,
              "#7201a8"
             ],
             [
              0.3333333333333333,
              "#9c179e"
             ],
             [
              0.4444444444444444,
              "#bd3786"
             ],
             [
              0.5555555555555556,
              "#d8576b"
             ],
             [
              0.6666666666666666,
              "#ed7953"
             ],
             [
              0.7777777777777778,
              "#fb9f3a"
             ],
             [
              0.8888888888888888,
              "#fdca26"
             ],
             [
              1,
              "#f0f921"
             ]
            ],
            "type": "contour"
           }
          ],
          "contourcarpet": [
           {
            "colorbar": {
             "outlinewidth": 0,
             "ticks": ""
            },
            "type": "contourcarpet"
           }
          ],
          "heatmap": [
           {
            "colorbar": {
             "outlinewidth": 0,
             "ticks": ""
            },
            "colorscale": [
             [
              0,
              "#0d0887"
             ],
             [
              0.1111111111111111,
              "#46039f"
             ],
             [
              0.2222222222222222,
              "#7201a8"
             ],
             [
              0.3333333333333333,
              "#9c179e"
             ],
             [
              0.4444444444444444,
              "#bd3786"
             ],
             [
              0.5555555555555556,
              "#d8576b"
             ],
             [
              0.6666666666666666,
              "#ed7953"
             ],
             [
              0.7777777777777778,
              "#fb9f3a"
             ],
             [
              0.8888888888888888,
              "#fdca26"
             ],
             [
              1,
              "#f0f921"
             ]
            ],
            "type": "heatmap"
           }
          ],
          "heatmapgl": [
           {
            "colorbar": {
             "outlinewidth": 0,
             "ticks": ""
            },
            "colorscale": [
             [
              0,
              "#0d0887"
             ],
             [
              0.1111111111111111,
              "#46039f"
             ],
             [
              0.2222222222222222,
              "#7201a8"
             ],
             [
              0.3333333333333333,
              "#9c179e"
             ],
             [
              0.4444444444444444,
              "#bd3786"
             ],
             [
              0.5555555555555556,
              "#d8576b"
             ],
             [
              0.6666666666666666,
              "#ed7953"
             ],
             [
              0.7777777777777778,
              "#fb9f3a"
             ],
             [
              0.8888888888888888,
              "#fdca26"
             ],
             [
              1,
              "#f0f921"
             ]
            ],
            "type": "heatmapgl"
           }
          ],
          "histogram": [
           {
            "marker": {
             "pattern": {
              "fillmode": "overlay",
              "size": 10,
              "solidity": 0.2
             }
            },
            "type": "histogram"
           }
          ],
          "histogram2d": [
           {
            "colorbar": {
             "outlinewidth": 0,
             "ticks": ""
            },
            "colorscale": [
             [
              0,
              "#0d0887"
             ],
             [
              0.1111111111111111,
              "#46039f"
             ],
             [
              0.2222222222222222,
              "#7201a8"
             ],
             [
              0.3333333333333333,
              "#9c179e"
             ],
             [
              0.4444444444444444,
              "#bd3786"
             ],
             [
              0.5555555555555556,
              "#d8576b"
             ],
             [
              0.6666666666666666,
              "#ed7953"
             ],
             [
              0.7777777777777778,
              "#fb9f3a"
             ],
             [
              0.8888888888888888,
              "#fdca26"
             ],
             [
              1,
              "#f0f921"
             ]
            ],
            "type": "histogram2d"
           }
          ],
          "histogram2dcontour": [
           {
            "colorbar": {
             "outlinewidth": 0,
             "ticks": ""
            },
            "colorscale": [
             [
              0,
              "#0d0887"
             ],
             [
              0.1111111111111111,
              "#46039f"
             ],
             [
              0.2222222222222222,
              "#7201a8"
             ],
             [
              0.3333333333333333,
              "#9c179e"
             ],
             [
              0.4444444444444444,
              "#bd3786"
             ],
             [
              0.5555555555555556,
              "#d8576b"
             ],
             [
              0.6666666666666666,
              "#ed7953"
             ],
             [
              0.7777777777777778,
              "#fb9f3a"
             ],
             [
              0.8888888888888888,
              "#fdca26"
             ],
             [
              1,
              "#f0f921"
             ]
            ],
            "type": "histogram2dcontour"
           }
          ],
          "mesh3d": [
           {
            "colorbar": {
             "outlinewidth": 0,
             "ticks": ""
            },
            "type": "mesh3d"
           }
          ],
          "parcoords": [
           {
            "line": {
             "colorbar": {
              "outlinewidth": 0,
              "ticks": ""
             }
            },
            "type": "parcoords"
           }
          ],
          "pie": [
           {
            "automargin": true,
            "type": "pie"
           }
          ],
          "scatter": [
           {
            "fillpattern": {
             "fillmode": "overlay",
             "size": 10,
             "solidity": 0.2
            },
            "type": "scatter"
           }
          ],
          "scatter3d": [
           {
            "line": {
             "colorbar": {
              "outlinewidth": 0,
              "ticks": ""
             }
            },
            "marker": {
             "colorbar": {
              "outlinewidth": 0,
              "ticks": ""
             }
            },
            "type": "scatter3d"
           }
          ],
          "scattercarpet": [
           {
            "marker": {
             "colorbar": {
              "outlinewidth": 0,
              "ticks": ""
             }
            },
            "type": "scattercarpet"
           }
          ],
          "scattergeo": [
           {
            "marker": {
             "colorbar": {
              "outlinewidth": 0,
              "ticks": ""
             }
            },
            "type": "scattergeo"
           }
          ],
          "scattergl": [
           {
            "marker": {
             "colorbar": {
              "outlinewidth": 0,
              "ticks": ""
             }
            },
            "type": "scattergl"
           }
          ],
          "scattermapbox": [
           {
            "marker": {
             "colorbar": {
              "outlinewidth": 0,
              "ticks": ""
             }
            },
            "type": "scattermapbox"
           }
          ],
          "scatterpolar": [
           {
            "marker": {
             "colorbar": {
              "outlinewidth": 0,
              "ticks": ""
             }
            },
            "type": "scatterpolar"
           }
          ],
          "scatterpolargl": [
           {
            "marker": {
             "colorbar": {
              "outlinewidth": 0,
              "ticks": ""
             }
            },
            "type": "scatterpolargl"
           }
          ],
          "scatterternary": [
           {
            "marker": {
             "colorbar": {
              "outlinewidth": 0,
              "ticks": ""
             }
            },
            "type": "scatterternary"
           }
          ],
          "surface": [
           {
            "colorbar": {
             "outlinewidth": 0,
             "ticks": ""
            },
            "colorscale": [
             [
              0,
              "#0d0887"
             ],
             [
              0.1111111111111111,
              "#46039f"
             ],
             [
              0.2222222222222222,
              "#7201a8"
             ],
             [
              0.3333333333333333,
              "#9c179e"
             ],
             [
              0.4444444444444444,
              "#bd3786"
             ],
             [
              0.5555555555555556,
              "#d8576b"
             ],
             [
              0.6666666666666666,
              "#ed7953"
             ],
             [
              0.7777777777777778,
              "#fb9f3a"
             ],
             [
              0.8888888888888888,
              "#fdca26"
             ],
             [
              1,
              "#f0f921"
             ]
            ],
            "type": "surface"
           }
          ],
          "table": [
           {
            "cells": {
             "fill": {
              "color": "#EBF0F8"
             },
             "line": {
              "color": "white"
             }
            },
            "header": {
             "fill": {
              "color": "#C8D4E3"
             },
             "line": {
              "color": "white"
             }
            },
            "type": "table"
           }
          ]
         },
         "layout": {
          "annotationdefaults": {
           "arrowcolor": "#2a3f5f",
           "arrowhead": 0,
           "arrowwidth": 1
          },
          "autotypenumbers": "strict",
          "coloraxis": {
           "colorbar": {
            "outlinewidth": 0,
            "ticks": ""
           }
          },
          "colorscale": {
           "diverging": [
            [
             0,
             "#8e0152"
            ],
            [
             0.1,
             "#c51b7d"
            ],
            [
             0.2,
             "#de77ae"
            ],
            [
             0.3,
             "#f1b6da"
            ],
            [
             0.4,
             "#fde0ef"
            ],
            [
             0.5,
             "#f7f7f7"
            ],
            [
             0.6,
             "#e6f5d0"
            ],
            [
             0.7,
             "#b8e186"
            ],
            [
             0.8,
             "#7fbc41"
            ],
            [
             0.9,
             "#4d9221"
            ],
            [
             1,
             "#276419"
            ]
           ],
           "sequential": [
            [
             0,
             "#0d0887"
            ],
            [
             0.1111111111111111,
             "#46039f"
            ],
            [
             0.2222222222222222,
             "#7201a8"
            ],
            [
             0.3333333333333333,
             "#9c179e"
            ],
            [
             0.4444444444444444,
             "#bd3786"
            ],
            [
             0.5555555555555556,
             "#d8576b"
            ],
            [
             0.6666666666666666,
             "#ed7953"
            ],
            [
             0.7777777777777778,
             "#fb9f3a"
            ],
            [
             0.8888888888888888,
             "#fdca26"
            ],
            [
             1,
             "#f0f921"
            ]
           ],
           "sequentialminus": [
            [
             0,
             "#0d0887"
            ],
            [
             0.1111111111111111,
             "#46039f"
            ],
            [
             0.2222222222222222,
             "#7201a8"
            ],
            [
             0.3333333333333333,
             "#9c179e"
            ],
            [
             0.4444444444444444,
             "#bd3786"
            ],
            [
             0.5555555555555556,
             "#d8576b"
            ],
            [
             0.6666666666666666,
             "#ed7953"
            ],
            [
             0.7777777777777778,
             "#fb9f3a"
            ],
            [
             0.8888888888888888,
             "#fdca26"
            ],
            [
             1,
             "#f0f921"
            ]
           ]
          },
          "colorway": [
           "#636efa",
           "#EF553B",
           "#00cc96",
           "#ab63fa",
           "#FFA15A",
           "#19d3f3",
           "#FF6692",
           "#B6E880",
           "#FF97FF",
           "#FECB52"
          ],
          "font": {
           "color": "#2a3f5f"
          },
          "geo": {
           "bgcolor": "white",
           "lakecolor": "white",
           "landcolor": "#E5ECF6",
           "showlakes": true,
           "showland": true,
           "subunitcolor": "white"
          },
          "hoverlabel": {
           "align": "left"
          },
          "hovermode": "closest",
          "mapbox": {
           "style": "light"
          },
          "paper_bgcolor": "white",
          "plot_bgcolor": "#E5ECF6",
          "polar": {
           "angularaxis": {
            "gridcolor": "white",
            "linecolor": "white",
            "ticks": ""
           },
           "bgcolor": "#E5ECF6",
           "radialaxis": {
            "gridcolor": "white",
            "linecolor": "white",
            "ticks": ""
           }
          },
          "scene": {
           "xaxis": {
            "backgroundcolor": "#E5ECF6",
            "gridcolor": "white",
            "gridwidth": 2,
            "linecolor": "white",
            "showbackground": true,
            "ticks": "",
            "zerolinecolor": "white"
           },
           "yaxis": {
            "backgroundcolor": "#E5ECF6",
            "gridcolor": "white",
            "gridwidth": 2,
            "linecolor": "white",
            "showbackground": true,
            "ticks": "",
            "zerolinecolor": "white"
           },
           "zaxis": {
            "backgroundcolor": "#E5ECF6",
            "gridcolor": "white",
            "gridwidth": 2,
            "linecolor": "white",
            "showbackground": true,
            "ticks": "",
            "zerolinecolor": "white"
           }
          },
          "shapedefaults": {
           "line": {
            "color": "#2a3f5f"
           }
          },
          "ternary": {
           "aaxis": {
            "gridcolor": "white",
            "linecolor": "white",
            "ticks": ""
           },
           "baxis": {
            "gridcolor": "white",
            "linecolor": "white",
            "ticks": ""
           },
           "bgcolor": "#E5ECF6",
           "caxis": {
            "gridcolor": "white",
            "linecolor": "white",
            "ticks": ""
           }
          },
          "title": {
           "x": 0.05
          },
          "xaxis": {
           "automargin": true,
           "gridcolor": "white",
           "linecolor": "white",
           "ticks": "",
           "title": {
            "standoff": 15
           },
           "zerolinecolor": "white",
           "zerolinewidth": 2
          },
          "yaxis": {
           "automargin": true,
           "gridcolor": "white",
           "linecolor": "white",
           "ticks": "",
           "title": {
            "standoff": 15
           },
           "zerolinecolor": "white",
           "zerolinewidth": 2
          }
         }
        },
        "title": {
         "text": "RMSE Boxplot of Top 10 Feature Combinations"
        },
        "xaxis": {
         "anchor": "y",
         "autorange": true,
         "domain": [
          0,
          1
         ],
         "range": [
          -0.5,
          0.5
         ],
         "type": "category"
        },
        "yaxis": {
         "anchor": "x",
         "autorange": true,
         "domain": [
          0,
          1
         ],
         "range": [
          0.31877677738748034,
          0.31994873285716596
         ],
         "title": {
          "text": "mean_rmse"
         },
         "type": "linear"
        }
       }
      }
     },
     "metadata": {},
     "output_type": "display_data"
    }
   ],
   "source": [
    "pio.renderers.default = 'plotly_mimetype'\n",
    "fig = px.box(df_agg_metrics.sort_values(by=['mean_rmse']).head(10), y='mean_rmse', title='RMSE Boxplot of Top 10 Feature Combinations')\n",
    "fig.show()"
   ]
  },
  {
   "cell_type": "code",
   "execution_count": 54,
   "id": "9b4d013f-d2e0-4fa8-a163-efc6ae5cb64c",
   "metadata": {},
   "outputs": [
    {
     "data": {
      "application/vnd.plotly.v1+json": {
       "config": {
        "plotlyServerURL": "https://plot.ly"
       },
       "data": [
        {
         "name": "all combinations",
         "type": "box",
         "xaxis": "x",
         "y": [
          0.3188353751609646,
          0.31890576236429535,
          0.3190093030147664,
          0.31908854648887286,
          0.31916444396522914,
          0.3193451876956759,
          0.3193646852598204,
          0.3197173936087022,
          0.31981914277349927,
          0.3198901350836817
         ],
         "yaxis": "y"
        },
        {
         "name": "keyword & no neural feature",
         "type": "box",
         "xaxis": "x2",
         "y": [
          0.3232502771295305,
          0.3234014122017466,
          0.32348118438193374,
          0.3236142318311678,
          0.3237484970748528,
          0.3239124965068598,
          0.3243441003421141,
          0.32496794418091113,
          0.3253635180136804,
          0.32555181306839154
         ],
         "yaxis": "y2"
        },
        {
         "name": "neural & no keyword feature",
         "type": "box",
         "xaxis": "x3",
         "y": [
          0.3188353751609646,
          0.31890576236429535,
          0.3190093030147664,
          0.31908854648887286,
          0.31916444396522914,
          0.3193451876956759,
          0.3193646852598204,
          0.3217369198635686,
          0.321745575913848,
          0.32199203662138975
         ],
         "yaxis": "y3"
        },
        {
         "name": "only query features",
         "type": "box",
         "xaxis": "x4",
         "y": [
          0.3188353751609646,
          0.31890576236429535,
          0.31908854648887286,
          0.31916444396522914,
          0.3193451876956759,
          0.3193646852598204,
          0.3197173936087022,
          0.31981914277349927,
          0.3198901350836817,
          0.3199981870091261
         ],
         "yaxis": "y4"
        }
       ],
       "layout": {
        "height": 800,
        "template": {
         "data": {
          "bar": [
           {
            "error_x": {
             "color": "#2a3f5f"
            },
            "error_y": {
             "color": "#2a3f5f"
            },
            "marker": {
             "line": {
              "color": "#E5ECF6",
              "width": 0.5
             },
             "pattern": {
              "fillmode": "overlay",
              "size": 10,
              "solidity": 0.2
             }
            },
            "type": "bar"
           }
          ],
          "barpolar": [
           {
            "marker": {
             "line": {
              "color": "#E5ECF6",
              "width": 0.5
             },
             "pattern": {
              "fillmode": "overlay",
              "size": 10,
              "solidity": 0.2
             }
            },
            "type": "barpolar"
           }
          ],
          "carpet": [
           {
            "aaxis": {
             "endlinecolor": "#2a3f5f",
             "gridcolor": "white",
             "linecolor": "white",
             "minorgridcolor": "white",
             "startlinecolor": "#2a3f5f"
            },
            "baxis": {
             "endlinecolor": "#2a3f5f",
             "gridcolor": "white",
             "linecolor": "white",
             "minorgridcolor": "white",
             "startlinecolor": "#2a3f5f"
            },
            "type": "carpet"
           }
          ],
          "choropleth": [
           {
            "colorbar": {
             "outlinewidth": 0,
             "ticks": ""
            },
            "type": "choropleth"
           }
          ],
          "contour": [
           {
            "colorbar": {
             "outlinewidth": 0,
             "ticks": ""
            },
            "colorscale": [
             [
              0,
              "#0d0887"
             ],
             [
              0.1111111111111111,
              "#46039f"
             ],
             [
              0.2222222222222222,
              "#7201a8"
             ],
             [
              0.3333333333333333,
              "#9c179e"
             ],
             [
              0.4444444444444444,
              "#bd3786"
             ],
             [
              0.5555555555555556,
              "#d8576b"
             ],
             [
              0.6666666666666666,
              "#ed7953"
             ],
             [
              0.7777777777777778,
              "#fb9f3a"
             ],
             [
              0.8888888888888888,
              "#fdca26"
             ],
             [
              1,
              "#f0f921"
             ]
            ],
            "type": "contour"
           }
          ],
          "contourcarpet": [
           {
            "colorbar": {
             "outlinewidth": 0,
             "ticks": ""
            },
            "type": "contourcarpet"
           }
          ],
          "heatmap": [
           {
            "colorbar": {
             "outlinewidth": 0,
             "ticks": ""
            },
            "colorscale": [
             [
              0,
              "#0d0887"
             ],
             [
              0.1111111111111111,
              "#46039f"
             ],
             [
              0.2222222222222222,
              "#7201a8"
             ],
             [
              0.3333333333333333,
              "#9c179e"
             ],
             [
              0.4444444444444444,
              "#bd3786"
             ],
             [
              0.5555555555555556,
              "#d8576b"
             ],
             [
              0.6666666666666666,
              "#ed7953"
             ],
             [
              0.7777777777777778,
              "#fb9f3a"
             ],
             [
              0.8888888888888888,
              "#fdca26"
             ],
             [
              1,
              "#f0f921"
             ]
            ],
            "type": "heatmap"
           }
          ],
          "heatmapgl": [
           {
            "colorbar": {
             "outlinewidth": 0,
             "ticks": ""
            },
            "colorscale": [
             [
              0,
              "#0d0887"
             ],
             [
              0.1111111111111111,
              "#46039f"
             ],
             [
              0.2222222222222222,
              "#7201a8"
             ],
             [
              0.3333333333333333,
              "#9c179e"
             ],
             [
              0.4444444444444444,
              "#bd3786"
             ],
             [
              0.5555555555555556,
              "#d8576b"
             ],
             [
              0.6666666666666666,
              "#ed7953"
             ],
             [
              0.7777777777777778,
              "#fb9f3a"
             ],
             [
              0.8888888888888888,
              "#fdca26"
             ],
             [
              1,
              "#f0f921"
             ]
            ],
            "type": "heatmapgl"
           }
          ],
          "histogram": [
           {
            "marker": {
             "pattern": {
              "fillmode": "overlay",
              "size": 10,
              "solidity": 0.2
             }
            },
            "type": "histogram"
           }
          ],
          "histogram2d": [
           {
            "colorbar": {
             "outlinewidth": 0,
             "ticks": ""
            },
            "colorscale": [
             [
              0,
              "#0d0887"
             ],
             [
              0.1111111111111111,
              "#46039f"
             ],
             [
              0.2222222222222222,
              "#7201a8"
             ],
             [
              0.3333333333333333,
              "#9c179e"
             ],
             [
              0.4444444444444444,
              "#bd3786"
             ],
             [
              0.5555555555555556,
              "#d8576b"
             ],
             [
              0.6666666666666666,
              "#ed7953"
             ],
             [
              0.7777777777777778,
              "#fb9f3a"
             ],
             [
              0.8888888888888888,
              "#fdca26"
             ],
             [
              1,
              "#f0f921"
             ]
            ],
            "type": "histogram2d"
           }
          ],
          "histogram2dcontour": [
           {
            "colorbar": {
             "outlinewidth": 0,
             "ticks": ""
            },
            "colorscale": [
             [
              0,
              "#0d0887"
             ],
             [
              0.1111111111111111,
              "#46039f"
             ],
             [
              0.2222222222222222,
              "#7201a8"
             ],
             [
              0.3333333333333333,
              "#9c179e"
             ],
             [
              0.4444444444444444,
              "#bd3786"
             ],
             [
              0.5555555555555556,
              "#d8576b"
             ],
             [
              0.6666666666666666,
              "#ed7953"
             ],
             [
              0.7777777777777778,
              "#fb9f3a"
             ],
             [
              0.8888888888888888,
              "#fdca26"
             ],
             [
              1,
              "#f0f921"
             ]
            ],
            "type": "histogram2dcontour"
           }
          ],
          "mesh3d": [
           {
            "colorbar": {
             "outlinewidth": 0,
             "ticks": ""
            },
            "type": "mesh3d"
           }
          ],
          "parcoords": [
           {
            "line": {
             "colorbar": {
              "outlinewidth": 0,
              "ticks": ""
             }
            },
            "type": "parcoords"
           }
          ],
          "pie": [
           {
            "automargin": true,
            "type": "pie"
           }
          ],
          "scatter": [
           {
            "fillpattern": {
             "fillmode": "overlay",
             "size": 10,
             "solidity": 0.2
            },
            "type": "scatter"
           }
          ],
          "scatter3d": [
           {
            "line": {
             "colorbar": {
              "outlinewidth": 0,
              "ticks": ""
             }
            },
            "marker": {
             "colorbar": {
              "outlinewidth": 0,
              "ticks": ""
             }
            },
            "type": "scatter3d"
           }
          ],
          "scattercarpet": [
           {
            "marker": {
             "colorbar": {
              "outlinewidth": 0,
              "ticks": ""
             }
            },
            "type": "scattercarpet"
           }
          ],
          "scattergeo": [
           {
            "marker": {
             "colorbar": {
              "outlinewidth": 0,
              "ticks": ""
             }
            },
            "type": "scattergeo"
           }
          ],
          "scattergl": [
           {
            "marker": {
             "colorbar": {
              "outlinewidth": 0,
              "ticks": ""
             }
            },
            "type": "scattergl"
           }
          ],
          "scattermapbox": [
           {
            "marker": {
             "colorbar": {
              "outlinewidth": 0,
              "ticks": ""
             }
            },
            "type": "scattermapbox"
           }
          ],
          "scatterpolar": [
           {
            "marker": {
             "colorbar": {
              "outlinewidth": 0,
              "ticks": ""
             }
            },
            "type": "scatterpolar"
           }
          ],
          "scatterpolargl": [
           {
            "marker": {
             "colorbar": {
              "outlinewidth": 0,
              "ticks": ""
             }
            },
            "type": "scatterpolargl"
           }
          ],
          "scatterternary": [
           {
            "marker": {
             "colorbar": {
              "outlinewidth": 0,
              "ticks": ""
             }
            },
            "type": "scatterternary"
           }
          ],
          "surface": [
           {
            "colorbar": {
             "outlinewidth": 0,
             "ticks": ""
            },
            "colorscale": [
             [
              0,
              "#0d0887"
             ],
             [
              0.1111111111111111,
              "#46039f"
             ],
             [
              0.2222222222222222,
              "#7201a8"
             ],
             [
              0.3333333333333333,
              "#9c179e"
             ],
             [
              0.4444444444444444,
              "#bd3786"
             ],
             [
              0.5555555555555556,
              "#d8576b"
             ],
             [
              0.6666666666666666,
              "#ed7953"
             ],
             [
              0.7777777777777778,
              "#fb9f3a"
             ],
             [
              0.8888888888888888,
              "#fdca26"
             ],
             [
              1,
              "#f0f921"
             ]
            ],
            "type": "surface"
           }
          ],
          "table": [
           {
            "cells": {
             "fill": {
              "color": "#EBF0F8"
             },
             "line": {
              "color": "white"
             }
            },
            "header": {
             "fill": {
              "color": "#C8D4E3"
             },
             "line": {
              "color": "white"
             }
            },
            "type": "table"
           }
          ]
         },
         "layout": {
          "annotationdefaults": {
           "arrowcolor": "#2a3f5f",
           "arrowhead": 0,
           "arrowwidth": 1
          },
          "autotypenumbers": "strict",
          "coloraxis": {
           "colorbar": {
            "outlinewidth": 0,
            "ticks": ""
           }
          },
          "colorscale": {
           "diverging": [
            [
             0,
             "#8e0152"
            ],
            [
             0.1,
             "#c51b7d"
            ],
            [
             0.2,
             "#de77ae"
            ],
            [
             0.3,
             "#f1b6da"
            ],
            [
             0.4,
             "#fde0ef"
            ],
            [
             0.5,
             "#f7f7f7"
            ],
            [
             0.6,
             "#e6f5d0"
            ],
            [
             0.7,
             "#b8e186"
            ],
            [
             0.8,
             "#7fbc41"
            ],
            [
             0.9,
             "#4d9221"
            ],
            [
             1,
             "#276419"
            ]
           ],
           "sequential": [
            [
             0,
             "#0d0887"
            ],
            [
             0.1111111111111111,
             "#46039f"
            ],
            [
             0.2222222222222222,
             "#7201a8"
            ],
            [
             0.3333333333333333,
             "#9c179e"
            ],
            [
             0.4444444444444444,
             "#bd3786"
            ],
            [
             0.5555555555555556,
             "#d8576b"
            ],
            [
             0.6666666666666666,
             "#ed7953"
            ],
            [
             0.7777777777777778,
             "#fb9f3a"
            ],
            [
             0.8888888888888888,
             "#fdca26"
            ],
            [
             1,
             "#f0f921"
            ]
           ],
           "sequentialminus": [
            [
             0,
             "#0d0887"
            ],
            [
             0.1111111111111111,
             "#46039f"
            ],
            [
             0.2222222222222222,
             "#7201a8"
            ],
            [
             0.3333333333333333,
             "#9c179e"
            ],
            [
             0.4444444444444444,
             "#bd3786"
            ],
            [
             0.5555555555555556,
             "#d8576b"
            ],
            [
             0.6666666666666666,
             "#ed7953"
            ],
            [
             0.7777777777777778,
             "#fb9f3a"
            ],
            [
             0.8888888888888888,
             "#fdca26"
            ],
            [
             1,
             "#f0f921"
            ]
           ]
          },
          "colorway": [
           "#636efa",
           "#EF553B",
           "#00cc96",
           "#ab63fa",
           "#FFA15A",
           "#19d3f3",
           "#FF6692",
           "#B6E880",
           "#FF97FF",
           "#FECB52"
          ],
          "font": {
           "color": "#2a3f5f"
          },
          "geo": {
           "bgcolor": "white",
           "lakecolor": "white",
           "landcolor": "#E5ECF6",
           "showlakes": true,
           "showland": true,
           "subunitcolor": "white"
          },
          "hoverlabel": {
           "align": "left"
          },
          "hovermode": "closest",
          "mapbox": {
           "style": "light"
          },
          "paper_bgcolor": "white",
          "plot_bgcolor": "#E5ECF6",
          "polar": {
           "angularaxis": {
            "gridcolor": "white",
            "linecolor": "white",
            "ticks": ""
           },
           "bgcolor": "#E5ECF6",
           "radialaxis": {
            "gridcolor": "white",
            "linecolor": "white",
            "ticks": ""
           }
          },
          "scene": {
           "xaxis": {
            "backgroundcolor": "#E5ECF6",
            "gridcolor": "white",
            "gridwidth": 2,
            "linecolor": "white",
            "showbackground": true,
            "ticks": "",
            "zerolinecolor": "white"
           },
           "yaxis": {
            "backgroundcolor": "#E5ECF6",
            "gridcolor": "white",
            "gridwidth": 2,
            "linecolor": "white",
            "showbackground": true,
            "ticks": "",
            "zerolinecolor": "white"
           },
           "zaxis": {
            "backgroundcolor": "#E5ECF6",
            "gridcolor": "white",
            "gridwidth": 2,
            "linecolor": "white",
            "showbackground": true,
            "ticks": "",
            "zerolinecolor": "white"
           }
          },
          "shapedefaults": {
           "line": {
            "color": "#2a3f5f"
           }
          },
          "ternary": {
           "aaxis": {
            "gridcolor": "white",
            "linecolor": "white",
            "ticks": ""
           },
           "baxis": {
            "gridcolor": "white",
            "linecolor": "white",
            "ticks": ""
           },
           "bgcolor": "#E5ECF6",
           "caxis": {
            "gridcolor": "white",
            "linecolor": "white",
            "ticks": ""
           }
          },
          "title": {
           "x": 0.05
          },
          "xaxis": {
           "automargin": true,
           "gridcolor": "white",
           "linecolor": "white",
           "ticks": "",
           "title": {
            "standoff": 15
           },
           "zerolinecolor": "white",
           "zerolinewidth": 2
          },
          "yaxis": {
           "automargin": true,
           "gridcolor": "white",
           "linecolor": "white",
           "ticks": "",
           "title": {
            "standoff": 15
           },
           "zerolinecolor": "white",
           "zerolinewidth": 2
          }
         }
        },
        "title": {
         "text": "Top 10 Feature Combinations"
        },
        "width": 1100,
        "xaxis": {
         "anchor": "y",
         "autorange": true,
         "domain": [
          0,
          0.2125
         ],
         "range": [
          -0.5,
          0.5
         ],
         "type": "category"
        },
        "xaxis2": {
         "anchor": "y2",
         "autorange": true,
         "domain": [
          0.2625,
          0.475
         ],
         "range": [
          -0.5,
          0.5
         ],
         "type": "category"
        },
        "xaxis3": {
         "anchor": "y3",
         "autorange": true,
         "domain": [
          0.525,
          0.7375
         ],
         "range": [
          -0.5,
          0.5
         ],
         "type": "category"
        },
        "xaxis4": {
         "anchor": "y4",
         "autorange": true,
         "domain": [
          0.7875,
          1
         ],
         "range": [
          -0.5,
          0.5
         ],
         "type": "category"
        },
        "yaxis": {
         "anchor": "x",
         "autorange": true,
         "domain": [
          0,
          1
         ],
         "range": [
          0.3184622397216631,
          0.32592494850769305
         ],
         "type": "linear"
        },
        "yaxis2": {
         "anchor": "x2",
         "autorange": true,
         "domain": [
          0,
          1
         ],
         "matches": "y",
         "range": [
          0.3184622397216631,
          0.32592494850769305
         ],
         "showticklabels": false,
         "type": "linear"
        },
        "yaxis3": {
         "anchor": "x3",
         "autorange": true,
         "domain": [
          0,
          1
         ],
         "matches": "y",
         "range": [
          0.3184622397216631,
          0.32592494850769305
         ],
         "showticklabels": false,
         "type": "linear"
        },
        "yaxis4": {
         "anchor": "x4",
         "autorange": true,
         "domain": [
          0,
          1
         ],
         "matches": "y",
         "range": [
          0.3184622397216631,
          0.32592494850769305
         ],
         "showticklabels": false,
         "type": "linear"
        }
       }
      }
     },
     "metadata": {},
     "output_type": "display_data"
    }
   ],
   "source": [
    "fig = make_subplots(rows=1, cols=4, shared_yaxes=True)\n",
    "\n",
    "fig.add_trace(go.Box(y=df_agg_metrics.sort_values(by=['mean_rmse']).head(10)['mean_rmse'],\n",
    "                     name=\"all combinations\"),\n",
    "              row=1, col=1)\n",
    "\n",
    "fig.add_trace(go.Box(y=df_agg_metrics[(df_agg_metrics['keyword_f'] == True) & (df_agg_metrics['neural_f'] == False)].sort_values(by=['mean_rmse']).head(10)['mean_rmse'],\n",
    "                    name=\"keyword & no neural feature\"),\n",
    "              row=1, col=2)\n",
    "\n",
    "fig.add_trace(go.Box(y=df_agg_metrics[(df_agg_metrics['neural_f'] == True) & (df_agg_metrics['keyword_f'] == False)].sort_values(by=['mean_rmse']).head(10)['mean_rmse'],\n",
    "                    name=\"neural & no keyword feature\"),\n",
    "              row=1, col=3)\n",
    "\n",
    "fig.add_trace(go.Box(y=df_agg_metrics[df_agg_metrics['query_f'] == True].sort_values(by=['mean_rmse']).head(10)['mean_rmse'],\n",
    "                    name=\"only query features\"),\n",
    "              row=1, col=4)\n",
    "\n",
    "fig.update_layout(height=800, width=1100,\n",
    "                  title_text=\"Top 10 Feature Combinations\")\n",
    "fig.show()"
   ]
  },
  {
   "cell_type": "markdown",
   "id": "9a08e042-2293-43a4-b088-5202f232355d",
   "metadata": {},
   "source": [
    "## Train a Linear Regression Model with cross-validation"
   ]
  },
  {
   "cell_type": "code",
   "execution_count": 55,
   "id": "e2059c2e-1ca9-4529-949c-c939225ff637",
   "metadata": {},
   "outputs": [
    {
     "name": "stdout",
     "output_type": "stream",
     "text": [
      "Accuray: -3.104349443117165\n",
      "Standard deviation: 5.985149030520057\n",
      "Cross-Validation Root Mean Squared Error: 0.5029819666786967\n",
      "Root Mean Squared Error: 0.265534111435833\n",
      "R^2 Score: 0.0006282059116358152\n"
     ]
    }
   ],
   "source": [
    "from sklearn.linear_model import LinearRegression\n",
    "\n",
    "# Prepare features and target\n",
    "feature_columns = [ \"f_1_num_of_terms\", \"f_2_query_length\", \"f_3_has_numbers\", \"f_4_has_special_char\", \"f_5_num_results\",\n",
    "                   \"f_6_max_title_score\", \"f_7_sum_title_scores\", \"f_8_max_semantic_score\",  \"f_9_avg_semantic_score\"]\n",
    "X = df_filtered[feature_columns]   # Select feature columns\n",
    "y = df_filtered['neuralness']      # Select the target column\n",
    "\n",
    "# Initialize cross-validation strategy\n",
    "cv = ShuffleSplit(n_splits=5, test_size=0.2, random_state=0)\n",
    "\n",
    "# Define the model\n",
    "regr = LinearRegression()\n",
    "\n",
    "# Perform cross-validation\n",
    "scores = cross_val_score(regr, X, y, cv=cv)\n",
    "rmse_scorer = make_scorer(root_mean_squared_error)\n",
    "\n",
    "rmse_scores = cross_val_score(regr, X, y, cv=cv, scoring=rmse_scorer)\n",
    "\n",
    "# Output the results\n",
    "print(\"Accuray:\", scores.mean())\n",
    "print(\"Standard deviation:\", scores.std())\n",
    "print(\"Cross-Validation Root Mean Squared Error:\", np.mean(rmse_scores))\n",
    "\n",
    "regr.fit(X_train, y_train)\n",
    "\n",
    "y_regr_pred = regr.predict(X_test)\n",
    "\n",
    "# Evaluate the model\n",
    "rmse = root_mean_squared_error(y_test, y_regr_pred)\n",
    "r2 = r2_score(y_test, y_regr_pred)\n",
    "\n",
    "print(\"Root Mean Squared Error:\", rmse)\n",
    "print(\"R^2 Score:\", r2)"
   ]
  },
  {
   "cell_type": "code",
   "execution_count": 56,
   "id": "e76b7f49-b11f-401c-82ac-537d04048105",
   "metadata": {},
   "outputs": [
    {
     "data": {
      "text/html": [
       "<div>\n",
       "<style scoped>\n",
       "    .dataframe tbody tr th:only-of-type {\n",
       "        vertical-align: middle;\n",
       "    }\n",
       "\n",
       "    .dataframe tbody tr th {\n",
       "        vertical-align: top;\n",
       "    }\n",
       "\n",
       "    .dataframe thead th {\n",
       "        text-align: right;\n",
       "    }\n",
       "</style>\n",
       "<table border=\"1\" class=\"dataframe\">\n",
       "  <thead>\n",
       "    <tr style=\"text-align: right;\">\n",
       "      <th></th>\n",
       "      <th>f_1_num_of_terms</th>\n",
       "      <th>f_2_query_length</th>\n",
       "      <th>f_3_has_numbers</th>\n",
       "      <th>f_4_has_special_char</th>\n",
       "      <th>f_5_num_results</th>\n",
       "      <th>f_6_max_title_score</th>\n",
       "      <th>f_7_sum_title_scores</th>\n",
       "      <th>f_8_max_semantic_score</th>\n",
       "      <th>f_9_avg_semantic_score</th>\n",
       "    </tr>\n",
       "  </thead>\n",
       "  <tbody>\n",
       "    <tr>\n",
       "      <th>0</th>\n",
       "      <td>3</td>\n",
       "      <td>21</td>\n",
       "      <td>0</td>\n",
       "      <td>0</td>\n",
       "      <td>22</td>\n",
       "      <td>1.239339</td>\n",
       "      <td>3.411745</td>\n",
       "      <td>0.600457</td>\n",
       "      <td>0.55043</td>\n",
       "    </tr>\n",
       "  </tbody>\n",
       "</table>\n",
       "</div>"
      ],
      "text/plain": [
       "   f_1_num_of_terms  f_2_query_length  f_3_has_numbers  f_4_has_special_char  \\\n",
       "0                 3                21                0                     0   \n",
       "\n",
       "   f_5_num_results  f_6_max_title_score  f_7_sum_title_scores  \\\n",
       "0               22             1.239339              3.411745   \n",
       "\n",
       "   f_8_max_semantic_score  f_9_avg_semantic_score  \n",
       "0                0.600457                 0.55043  "
      ]
     },
     "execution_count": 56,
     "metadata": {},
     "output_type": "execute_result"
    }
   ],
   "source": [
    "vector = [[3, 21, 0, 0, 22, 1.239339, 3.411745, 0.600457, 0.550430]]\n",
    "df_test = pd.DataFrame(vector, columns=feature_columns)\n",
    "df_test"
   ]
  },
  {
   "cell_type": "code",
   "execution_count": 57,
   "id": "b18d758e-2fe7-4c31-b11e-cca859415604",
   "metadata": {},
   "outputs": [
    {
     "data": {
      "text/plain": [
       "array([0.457])"
      ]
     },
     "execution_count": 57,
     "metadata": {},
     "output_type": "execute_result"
    }
   ],
   "source": [
    "model.predict(df_test)"
   ]
  },
  {
   "cell_type": "code",
   "execution_count": 58,
   "id": "5d22bda4-0b30-4d3f-bbf6-a2be85782a27",
   "metadata": {},
   "outputs": [
    {
     "data": {
      "text/plain": [
       "array([0.72486381])"
      ]
     },
     "execution_count": 58,
     "metadata": {},
     "output_type": "execute_result"
    }
   ],
   "source": [
    "regr.predict(df_test)"
   ]
  },
  {
   "cell_type": "code",
   "execution_count": 59,
   "id": "7aea421c-8b5f-4834-99ce-4aa96e09cbaa",
   "metadata": {},
   "outputs": [
    {
     "data": {
      "text/plain": [
       "44"
      ]
     },
     "execution_count": 59,
     "metadata": {},
     "output_type": "execute_result"
    }
   ],
   "source": [
    "X_test.shape[0]"
   ]
  },
  {
   "cell_type": "code",
   "execution_count": 60,
   "id": "0d5a110d-f344-46e5-a238-29484e3e735e",
   "metadata": {},
   "outputs": [
    {
     "data": {
      "text/plain": [
       "Index([132, 148,  93, 180,  15, 115, 172, 209,  75, 142, 100,  30, 190,   9,\n",
       "        67, 218, 175,  18, 197,  66, 189,  96, 210,  25, 127, 201,  97,  16,\n",
       "        45, 154, 111,  55, 108, 196,  73, 109,  82, 138, 141, 101,  86, 193,\n",
       "       120,  95],\n",
       "      dtype='int64')"
      ]
     },
     "execution_count": 60,
     "metadata": {},
     "output_type": "execute_result"
    }
   ],
   "source": [
    "X_test.index"
   ]
  },
  {
   "cell_type": "code",
   "execution_count": 61,
   "id": "681b2a04-c41f-432f-8434-94bfa95f2cfa",
   "metadata": {},
   "outputs": [],
   "source": [
    "# Store the test data\n",
    "df_filtered.loc[df_filtered.index.isin(X_test.index)].to_csv('dynamic_optimizer_test_data.csv', index=False)"
   ]
  },
  {
   "cell_type": "markdown",
   "id": "7ceaa570-31b8-46e7-a581-76b7e8eec921",
   "metadata": {},
   "source": [
    "## Save Models"
   ]
  },
  {
   "cell_type": "code",
   "execution_count": 62,
   "id": "7b78d3a4-1b1f-4205-b0b2-82ec37938626",
   "metadata": {},
   "outputs": [],
   "source": [
    "import pickle\n",
    "\n",
    "with open('regression_model.pkl', 'wb') as fid:\n",
    "    pickle.dump(regr, fid) \n",
    "\n",
    "with open('random_forest_model.pkl', 'wb') as fid:\n",
    "    pickle.dump(model, fid) "
   ]
  },
  {
   "cell_type": "code",
   "execution_count": null,
   "id": "20392fb9-1a46-4172-9727-1ffe562abb35",
   "metadata": {},
   "outputs": [],
   "source": []
  },
  {
   "cell_type": "code",
   "execution_count": null,
   "id": "00cc1e88-5ace-4d9b-bb7b-d6951c05f4e7",
   "metadata": {},
   "outputs": [],
   "source": []
  }
 ],
 "metadata": {
  "kernelspec": {
   "display_name": ".venv",
   "language": "python",
   "name": ".venv"
  },
  "language_info": {
   "codemirror_mode": {
    "name": "ipython",
    "version": 3
   },
   "file_extension": ".py",
   "mimetype": "text/x-python",
   "name": "python",
   "nbconvert_exporter": "python",
   "pygments_lexer": "ipython3",
   "version": "3.12.6"
  }
 },
 "nbformat": 4,
 "nbformat_minor": 5
}
