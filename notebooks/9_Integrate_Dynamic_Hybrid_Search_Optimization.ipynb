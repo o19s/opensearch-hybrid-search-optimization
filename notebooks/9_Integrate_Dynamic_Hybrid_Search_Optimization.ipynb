{
 "cells": [
  {
   "cell_type": "code",
   "execution_count": 183,
   "id": "bdf5d6cc-d5ee-416c-806f-2085db69f648",
   "metadata": {},
   "outputs": [],
   "source": [
    "import json\n",
    "import pandas as pd\n",
    "import requests\n",
    "from IPython.display import display, HTML\n",
    "import pickle\n",
    "import string"
   ]
  },
  {
   "cell_type": "code",
   "execution_count": 184,
   "id": "7689a6d3-81e4-4fc1-b49b-1bd34f48abb8",
   "metadata": {},
   "outputs": [],
   "source": [
    "def warn(*args, **kwargs):\n",
    "    pass\n",
    "import warnings\n",
    "warnings.warn = warn"
   ]
  },
  {
   "cell_type": "code",
   "execution_count": 185,
   "id": "f171f48b-9a82-4f8f-b11f-9784b0de5cf9",
   "metadata": {},
   "outputs": [],
   "source": [
    "# Function to create HTML display\n",
    "def create_hit_list(data):\n",
    "    html_content = \"<div style='font-family: Arial, sans-serif;'>\"\n",
    "    \n",
    "    for product in data['hits']:\n",
    "        source = product['_source']\n",
    "        title = source['title']\n",
    "        category = \" > \".join(source['category'])\n",
    "        image_url = source['image']\n",
    "        \n",
    "        # Create an HTML card for each product\n",
    "        html_content += f\"\"\"\n",
    "        <div style='border: 1px solid #ddd; margin: 10px; padding: 10px; width: 300px; display: inline-block; vertical-align: top;'>\n",
    "            <img src=\"{image_url}\" alt=\"Product Image\" style='width: 100%; height: auto; margin-bottom: 10px; background-color: black;' onerror=\"this.style.backgroundColor='black'; this.src='';\">\n",
    "            <h4 style='margin: 0; font-size: 16px; color: #333;'>{title}</h4>\n",
    "            <p style='margin: 5px 0; font-size: 12px; color: #777;'>{category}</p>\n",
    "        </div>\n",
    "        \"\"\"\n",
    "    \n",
    "    html_content += \"</div>\"\n",
    "    return html_content"
   ]
  },
  {
   "cell_type": "code",
   "execution_count": 186,
   "id": "29013e4f-36cd-4ae0-84b8-8b4af480dccd",
   "metadata": {},
   "outputs": [],
   "source": [
    "# Returns the number of query terms\n",
    "def get_num_of_terms(query_string):\n",
    "    terms = query_string.split(\" \")\n",
    "    return len(terms)\n",
    "\n",
    "# Returns the query length (number of characters)\n",
    "def get_query_length(query_string):\n",
    "    return len(query_string)\n",
    "\n",
    "# Returns 1 in case the query contains one or more numbers, 0 otherwise\n",
    "def get_has_numbers(query_string):\n",
    "    return int(any(char.isdigit() for char in query_string))\n",
    "\n",
    "# Returns 1 in case the query contains one or more special characters, 0 otherwise\n",
    "def get_has_special_char(query_string):\n",
    "    # Define special characters (all non-alphanumeric characters)\n",
    "    special_chars = string.punctuation\n",
    "    # Return True if any character in the string is a special character\n",
    "    return int(any(char in special_chars for char in query_string))"
   ]
  },
  {
   "cell_type": "code",
   "execution_count": 187,
   "id": "29910818-fd09-482d-acb2-250cb0dca7bc",
   "metadata": {},
   "outputs": [],
   "source": [
    "# Calculates the features and returns them as an array\n",
    "def get_features(query):\n",
    "    num_of_terms = get_num_of_terms(query)\n",
    "    query_length = get_query_length(query)\n",
    "    has_numbers = get_has_numbers(query)\n",
    "    has_special_char = get_has_special_char(query)\n",
    "    features = [num_of_terms, query_length, has_numbers, has_special_char]\n",
    "    return features"
   ]
  },
  {
   "cell_type": "code",
   "execution_count": 188,
   "id": "107b401e-e3b6-4895-bf72-517d3f121de8",
   "metadata": {},
   "outputs": [],
   "source": [
    "# Load model\n",
    "with open('../models/random_forest_model_query_features.pkl', 'rb') as fid:\n",
    "    random_forest = pickle.load(fid)"
   ]
  },
  {
   "cell_type": "code",
   "execution_count": 196,
   "id": "fa30b094-1a0d-43b2-8079-e16621761ba9",
   "metadata": {},
   "outputs": [],
   "source": [
    "# Predict the NDCG for each neuralness value between 0 and 1.0 in steps of 0.1\n",
    "# Return the neuralness for which the highest \n",
    "def get_prediction(features):\n",
    "    max_prediction = float('-inf')\n",
    "    best_neuralness = None\n",
    "    for i in range(11):  # 11 because we need 0 to 10 inclusive\n",
    "        neuralness = i * 0.1\n",
    "        # Calculate features\n",
    "        features.insert(0, neuralness)\n",
    "        # Predict the value using the model\n",
    "        prediction = random_forest.predict([features])[0]\n",
    "        #print(f\"NDCG {prediction} for neuralness of {neuralness}\")\n",
    "        if prediction > max_prediction:\n",
    "            max_prediction = prediction\n",
    "            best_neuralness = neuralness\n",
    "        features.pop(0)\n",
    "    return round(best_neuralness,2)"
   ]
  },
  {
   "cell_type": "code",
   "execution_count": 197,
   "id": "c9796147-650e-4ca7-829d-1b05dd735121",
   "metadata": {},
   "outputs": [
    {
     "data": {
      "text/plain": [
       "[4, 16, 1, 1]"
      ]
     },
     "execution_count": 197,
     "metadata": {},
     "output_type": "execute_result"
    }
   ],
   "source": [
    "get_features(\"iphone 15 - case\")"
   ]
  },
  {
   "cell_type": "code",
   "execution_count": 198,
   "id": "84b60b39-8e87-4b67-9e67-dc9eb40be19e",
   "metadata": {},
   "outputs": [
    {
     "data": {
      "text/plain": [
       "0.6"
      ]
     },
     "execution_count": 198,
     "metadata": {},
     "output_type": "execute_result"
    }
   ],
   "source": [
    "get_prediction(get_features(\"iphone 15 case\"))"
   ]
  },
  {
   "cell_type": "code",
   "execution_count": 199,
   "id": "ea31d0c6-6bb0-448a-971b-3727f243c583",
   "metadata": {},
   "outputs": [],
   "source": [
    "# Get model_id\n",
    "# We are assuming that the installation has only one model. Change this if you have more models \n",
    "# and need to pick a specific one\n",
    "headers = {\n",
    "    'Content-Type': 'application/json'\n",
    "}\n",
    "\n",
    "def get_model_id():\n",
    "    url = \"http://localhost:9200/_plugins/_ml/models/_search\"\n",
    "   \n",
    "    payload = {\n",
    "      \"query\": {\n",
    "        \"match_all\": {}\n",
    "      },\n",
    "      \"size\": 1\n",
    "    }\n",
    "    \n",
    "    response = requests.request(\"POST\", url, headers=headers, data=json.dumps(payload))\n",
    "\n",
    "    return response.json()['hits']['hits'][0]['_source']['model_id']\n",
    "\n",
    "model_id = get_model_id()"
   ]
  },
  {
   "cell_type": "code",
   "execution_count": 200,
   "id": "415d3454-fd11-4bb5-81e2-4fbac7ae5392",
   "metadata": {},
   "outputs": [
    {
     "data": {
      "text/plain": [
       "'_Qf5upMBYH7IJQxM0UzC'"
      ]
     },
     "execution_count": 200,
     "metadata": {},
     "output_type": "execute_result"
    }
   ],
   "source": [
    "model_id"
   ]
  },
  {
   "cell_type": "code",
   "execution_count": 201,
   "id": "632a7bc3-97bd-49ed-93c1-4c035922811e",
   "metadata": {},
   "outputs": [],
   "source": [
    "# Get the best neuralness score for a query and send the query to OpenSearch with the corresponding\n",
    "# neuralness and keywordness values\n",
    "def query_os(query_string):\n",
    "    url = \"http://localhost:9200/ecommerce/_search\"\n",
    "    neuralness = get_prediction(get_features(query_string))\n",
    "    keywordness = 1 - neuralness\n",
    "    payload = {\n",
    "      \"_source\": {\n",
    "        \"excludes\": [\n",
    "          \"title_embedding\"\n",
    "        ],\n",
    "          \"includes\": [\n",
    "              \"_id\", \"image\", \"title\", \"category\"\n",
    "          ]\n",
    "      },\n",
    "      \"query\": {\n",
    "        \"hybrid\": {\n",
    "          \"queries\": [\n",
    "            {\n",
    "              \"multi_match\" : {\n",
    "                  \"type\":       \"best_fields\",\n",
    "                  \"fields\":     [\n",
    "                    \"asin^100\",\n",
    "                    \"bullets^3\",\n",
    "                    \"attrs.Color^2\",\n",
    "                    \"attrs.Brand^5\",\n",
    "                    \"description\",\n",
    "                    \"title^10\"\n",
    "                  ],\n",
    "                  \"operator\":   \"and\",\n",
    "                  \"query\":      query_string\n",
    "                }\n",
    "            },\n",
    "            {\n",
    "              \"neural\": {\n",
    "                \"title_embedding\": {\n",
    "                  \"query_text\": query_string,\n",
    "                  \"k\": 100\n",
    "                }\n",
    "              }\n",
    "            }\n",
    "          ]\n",
    "        }\n",
    "      },\n",
    "        \"search_pipeline\": {\n",
    "          \"request_processors\": [\n",
    "            {\n",
    "              \"neural_query_enricher\" : {\n",
    "                \"description\": \"one of many search pipelines for experimentation\",\n",
    "                \"default_model_id\": model_id,\n",
    "                \"neural_field_default_id\": {\n",
    "                   \"title_embeddings\": model_id\n",
    "                }\n",
    "              }\n",
    "            }\n",
    "          ],\n",
    "          \"phase_results_processors\": [\n",
    "            {\n",
    "              \"normalization-processor\": {\n",
    "                \"normalization\": {\n",
    "                  \"technique\": \"l2\"\n",
    "                },\n",
    "                \"combination\": {\n",
    "                  \"technique\": \"arithmetic_mean\",\n",
    "                  \"parameters\": {\n",
    "                    \"weights\": [\n",
    "                      keywordness,\n",
    "                      neuralness\n",
    "                    ]\n",
    "                  }\n",
    "                }\n",
    "              }\n",
    "            }\n",
    "          ]    \n",
    "        },\n",
    "      \"size\": 20\n",
    "    }\n",
    "    \n",
    "    response = requests.request(\"POST\", url, headers=headers, data=json.dumps(payload)).json()\n",
    "    print(f\"Searching with neural weight of {neuralness} and keyword search weight of {round(keywordness,2)}\")\n",
    "    return response"
   ]
  },
  {
   "attachments": {
    "01e755d8-06dc-44bb-92fb-27ee83d12516.png": {
     "image/png": "[encoded data removed]"
    }
   },
   "cell_type": "markdown",
   "id": "34b26343-4118-4a0c-911f-9547c8c08c0a",
   "metadata": {},
   "source": [
    "![image.png](attachment:01e755d8-06dc-44bb-92fb-27ee83d12516.png)"
   ]
  },
  {
   "cell_type": "code",
   "execution_count": 204,
   "id": "98203047-04cc-4134-bb42-db48456bc864",
   "metadata": {},
   "outputs": [
    {
     "name": "stdout",
     "output_type": "stream",
     "text": [
      "Searching with neural weight of 0.7 and keyword search weight of 0.3\n"
     ]
    },
    {
     "data": {
      "text/html": [
       "<div style='font-family: Arial, sans-serif;'>\n",
       "        <div style='border: 1px solid #ddd; margin: 10px; padding: 10px; width: 300px; display: inline-block; vertical-align: top;'>\n",
       "            <img src=\"https://m.media-amazon.com/images/I/61zUO1yslTL.__AC_SX300_SY300_QL70_FMwebp_.jpg\" alt=\"Product Image\" style='width: 100%; height: auto; margin-bottom: 10px; background-color: black;' onerror=\"this.style.backgroundColor='black'; this.src='';\">\n",
       "            <h4 style='margin: 0; font-size: 16px; color: #333;'>OTTERBOX DEFENDER SERIES Case for iPad Pro 10.5\" & iPad Air (3rd Generation) - Retail Packaging - BLACK</h4>\n",
       "            <p style='margin: 5px 0; font-size: 12px; color: #777;'>Electronics > Computers & Accessories > Tablet Accessories > Bags, Cases & Sleeves > Cases</p>\n",
       "        </div>\n",
       "        \n",
       "        <div style='border: 1px solid #ddd; margin: 10px; padding: 10px; width: 300px; display: inline-block; vertical-align: top;'>\n",
       "            <img src=\"https://m.media-amazon.com/images/W/WEBP_402378-T2/images/I/71Z0Xfmpm4L.__AC_SX300_SY300_QL70_FMwebp_.jpg\" alt=\"Product Image\" style='width: 100%; height: auto; margin-bottom: 10px; background-color: black;' onerror=\"this.style.backgroundColor='black'; this.src='';\">\n",
       "            <h4 style='margin: 0; font-size: 16px; color: #333;'>ZenRich iPad 9th Generation Case, iPad 8th/7th Generation 10.2 Case with Pencil Holder Kickstand Hand Strap and Shoulder Strap zenrich Rugged Shockproof Case for iPad 10.2 inch 2021/2020/2019,Black</h4>\n",
       "            <p style='margin: 5px 0; font-size: 12px; color: #777;'>Electronics > Computers & Accessories > Tablet Accessories > Bags, Cases & Sleeves > Cases</p>\n",
       "        </div>\n",
       "        \n",
       "        <div style='border: 1px solid #ddd; margin: 10px; padding: 10px; width: 300px; display: inline-block; vertical-align: top;'>\n",
       "            <img src=\"https://m.media-amazon.com/images/W/WEBP_402378-T1/images/I/71YPJk8MBoL.__AC_SX300_SY300_QL70_FMwebp_.jpg\" alt=\"Product Image\" style='width: 100%; height: auto; margin-bottom: 10px; background-color: black;' onerror=\"this.style.backgroundColor='black'; this.src='';\">\n",
       "            <h4 style='margin: 0; font-size: 16px; color: #333;'>TSQ iPad 6th/5th Generation Case 9.7 Inch for Kids with Screen Protector Pencil Holder | Heavy Duty Silicone Protective Case Cover with Stand&Hand Strap for iPad Air 2/ Pro 9.7 | Black</h4>\n",
       "            <p style='margin: 5px 0; font-size: 12px; color: #777;'>Electronics > Computers & Accessories > Tablet Accessories > Bags, Cases & Sleeves > Cases</p>\n",
       "        </div>\n",
       "        \n",
       "        <div style='border: 1px solid #ddd; margin: 10px; padding: 10px; width: 300px; display: inline-block; vertical-align: top;'>\n",
       "            <img src=\"https://m.media-amazon.com/images/I/61x7KhCJohL.__AC_SX300_SY300_QL70_FMwebp_.jpg\" alt=\"Product Image\" style='width: 100%; height: auto; margin-bottom: 10px; background-color: black;' onerror=\"this.style.backgroundColor='black'; this.src='';\">\n",
       "            <h4 style='margin: 0; font-size: 16px; color: #333;'>Spigen Tough Armor TECH Designed for iPad Mini 5 Case (2019) - Black</h4>\n",
       "            <p style='margin: 5px 0; font-size: 12px; color: #777;'>Electronics > Computers & Accessories > Tablet Accessories > Bags, Cases & Sleeves > Cases</p>\n",
       "        </div>\n",
       "        \n",
       "        <div style='border: 1px solid #ddd; margin: 10px; padding: 10px; width: 300px; display: inline-block; vertical-align: top;'>\n",
       "            <img src=\"https://m.media-amazon.com/images/I/71exCEt91DL.__AC_SX300_SY300_QL70_FMwebp_.jpg\" alt=\"Product Image\" style='width: 100%; height: auto; margin-bottom: 10px; background-color: black;' onerror=\"this.style.backgroundColor='black'; this.src='';\">\n",
       "            <h4 style='margin: 0; font-size: 16px; color: #333;'>CYRILL Basic Leather Designed for Apple iPhone 11 Pro Case (2019) - Black</h4>\n",
       "            <p style='margin: 5px 0; font-size: 12px; color: #777;'>Cell Phones & Accessories > Cases, Holsters & Sleeves > Basic Cases</p>\n",
       "        </div>\n",
       "        \n",
       "        <div style='border: 1px solid #ddd; margin: 10px; padding: 10px; width: 300px; display: inline-block; vertical-align: top;'>\n",
       "            <img src=\"https://m.media-amazon.com/images/I/71MJlRhtoML.__AC_SX300_SY300_QL70_FMwebp_.jpg\" alt=\"Product Image\" style='width: 100%; height: auto; margin-bottom: 10px; background-color: black;' onerror=\"this.style.backgroundColor='black'; this.src='';\">\n",
       "            <h4 style='margin: 0; font-size: 16px; color: #333;'>CHESONA Keyboard Case for iPad 9th Generation (2021)/8th Gen/7th Gen 10.2 Inch, Detachable Wireless with Pencil Holder Stand Folio Keyboard Cover for New iPad 9th Gen/8th Gen/7th Gen 10.2”, Black</h4>\n",
       "            <p style='margin: 5px 0; font-size: 12px; color: #777;'>Electronics > Computers & Accessories > Tablet Accessories > Bags, Cases & Sleeves > Keyboard Cases</p>\n",
       "        </div>\n",
       "        \n",
       "        <div style='border: 1px solid #ddd; margin: 10px; padding: 10px; width: 300px; display: inline-block; vertical-align: top;'>\n",
       "            <img src=\"https://m.media-amazon.com/images/I/717VFY2qzTL.__AC_SX300_SY300_QL70_FMwebp_.jpg\" alt=\"Product Image\" style='width: 100%; height: auto; margin-bottom: 10px; background-color: black;' onerror=\"this.style.backgroundColor='black'; this.src='';\">\n",
       "            <h4 style='margin: 0; font-size: 16px; color: #333;'>iPad Keyboard Case for iPad 10.2 9th/8th/7th Gen,Touch Keyboard for iPad 9th Generation - 8th Gen - 7th Gen, 10 Color Backlight - 360° Rotatable Protective Cover with Pencil Holder- iPad 9 Keyboard</h4>\n",
       "            <p style='margin: 5px 0; font-size: 12px; color: #777;'>Electronics > Computers & Accessories > Tablet Accessories > Bags, Cases & Sleeves > Keyboard Cases</p>\n",
       "        </div>\n",
       "        \n",
       "        <div style='border: 1px solid #ddd; margin: 10px; padding: 10px; width: 300px; display: inline-block; vertical-align: top;'>\n",
       "            <img src=\"https://m.media-amazon.com/images/W/WEBP_402378-T1/images/I/81po5cKtlVL.__AC_SX300_SY300_QL70_FMwebp_.jpg\" alt=\"Product Image\" style='width: 100%; height: auto; margin-bottom: 10px; background-color: black;' onerror=\"this.style.backgroundColor='black'; this.src='';\">\n",
       "            <h4 style='margin: 0; font-size: 16px; color: #333;'>Alpatronix iPad Case with Keyboard, 9.7 inch KX130 Leather iPad Cover w/Detachable Wireless Bluetooth Keyboard Compatible w/Apple iPad 6 (2018), iPad 5 (2017), iPad Pro 9.7 & iPad Air 2/1 – Pink</h4>\n",
       "            <p style='margin: 5px 0; font-size: 12px; color: #777;'>Electronics > Computers & Accessories > Tablet Accessories > Bags, Cases & Sleeves > Keyboard Cases</p>\n",
       "        </div>\n",
       "        \n",
       "        <div style='border: 1px solid #ddd; margin: 10px; padding: 10px; width: 300px; display: inline-block; vertical-align: top;'>\n",
       "            <img src=\"https://m.media-amazon.com/images/W/WEBP_402378-T2/images/I/71ZxnJbL9BL.__AC_SX300_SY300_QL70_FMwebp_.jpg\" alt=\"Product Image\" style='width: 100%; height: auto; margin-bottom: 10px; background-color: black;' onerror=\"this.style.backgroundColor='black'; this.src='';\">\n",
       "            <h4 style='margin: 0; font-size: 16px; color: #333;'>Rantice iPad 6th Generation Cases, iPad 5th Generation Case, iPad Air 2 Case, iPad 9.7 Case, Shockproof Rugged Drop Protection Cover Built with Kickstand for iPad 9.7'' A1893/A1954/A1822/A1823</h4>\n",
       "            <p style='margin: 5px 0; font-size: 12px; color: #777;'>Electronics > Computers & Accessories > Tablet Accessories > Bags, Cases & Sleeves > Cases</p>\n",
       "        </div>\n",
       "        \n",
       "        <div style='border: 1px solid #ddd; margin: 10px; padding: 10px; width: 300px; display: inline-block; vertical-align: top;'>\n",
       "            <img src=\"https://m.media-amazon.com/images/I/71UNP9pjL2L.__AC_SX300_SY300_QL70_FMwebp_.jpg\" alt=\"Product Image\" style='width: 100%; height: auto; margin-bottom: 10px; background-color: black;' onerror=\"this.style.backgroundColor='black'; this.src='';\">\n",
       "            <h4 style='margin: 0; font-size: 16px; color: #333;'>SEYMAC stock iPad 6th/5th Generation Case/ Air 2/ Pro 9.7’’ with Screen Protector Pencil Holder [360 Rotating Hand Strap] &Stand, Drop-Proof Case for iPad 6th/5th/ Air 2/ Pro 9.7 (SkyBlue+Black)</h4>\n",
       "            <p style='margin: 5px 0; font-size: 12px; color: #777;'>Electronics > Computers & Accessories > Tablet Accessories > Bags, Cases & Sleeves > Cases</p>\n",
       "        </div>\n",
       "        \n",
       "        <div style='border: 1px solid #ddd; margin: 10px; padding: 10px; width: 300px; display: inline-block; vertical-align: top;'>\n",
       "            <img src=\"https://m.media-amazon.com/images/I/71ycWbyEl5L.__AC_SX300_SY300_QL70_FMwebp_.jpg\" alt=\"Product Image\" style='width: 100%; height: auto; margin-bottom: 10px; background-color: black;' onerror=\"this.style.backgroundColor='black'; this.src='';\">\n",
       "            <h4 style='margin: 0; font-size: 16px; color: #333;'>SUPFIVES iPad Pro 11 inch Case (2022/2021/2020), Upgraded Military Grade Shockproof Protector Silicone iPad Pro 11 4th Gen Cover Pencil Holder+ Handle+ Shoulder Strap+ Rotating Kickstand, Black</h4>\n",
       "            <p style='margin: 5px 0; font-size: 12px; color: #777;'>Electronics > Computers & Accessories > Tablet Accessories > Bags, Cases & Sleeves > Cases</p>\n",
       "        </div>\n",
       "        \n",
       "        <div style='border: 1px solid #ddd; margin: 10px; padding: 10px; width: 300px; display: inline-block; vertical-align: top;'>\n",
       "            <img src=\"https://m.media-amazon.com/images/I/71jDUtDJuES.__AC_SX300_SY300_QL70_ML2_.jpg\" alt=\"Product Image\" style='width: 100%; height: auto; margin-bottom: 10px; background-color: black;' onerror=\"this.style.backgroundColor='black'; this.src='';\">\n",
       "            <h4 style='margin: 0; font-size: 16px; color: #333;'>MoKo Case Fit iPad Pro 11 2021, [Support Apple Pencil 2 Charging] Flexible TPU Air-Pillow Edge Bumper Cushion, Slim Lightweight Transparent Hard PC Back Cover with Foldable Stand, Black</h4>\n",
       "            <p style='margin: 5px 0; font-size: 12px; color: #777;'>Electronics > Computers & Accessories > Tablet Accessories > Bags, Cases & Sleeves > Cases</p>\n",
       "        </div>\n",
       "        \n",
       "        <div style='border: 1px solid #ddd; margin: 10px; padding: 10px; width: 300px; display: inline-block; vertical-align: top;'>\n",
       "            <img src=\"https://m.media-amazon.com/images/I/71pEHxlYQmL.__AC_SX300_SY300_QL70_FMwebp_.jpg\" alt=\"Product Image\" style='width: 100%; height: auto; margin-bottom: 10px; background-color: black;' onerror=\"this.style.backgroundColor='black'; this.src='';\">\n",
       "            <h4 style='margin: 0; font-size: 16px; color: #333;'>AVAWO Kids Case for iPad 9.7 2017/2018 & iPad Air 2 - Light Weight Shock Proof Convertible Handle Stand Friendly Kids Case for 9.7-inch iPad 5th & 6th Gen, iPad Air 1 & iPad Air 2 - Turquoise</h4>\n",
       "            <p style='margin: 5px 0; font-size: 12px; color: #777;'>Electronics > Computers & Accessories > Tablet Accessories > Bags, Cases & Sleeves > Cases</p>\n",
       "        </div>\n",
       "        \n",
       "        <div style='border: 1px solid #ddd; margin: 10px; padding: 10px; width: 300px; display: inline-block; vertical-align: top;'>\n",
       "            <img src=\"https://m.media-amazon.com/images/W/WEBP_402378-T2/images/I/81qaZ04g1yL.__AC_SX300_SY300_QL70_FMwebp_.jpg\" alt=\"Product Image\" style='width: 100%; height: auto; margin-bottom: 10px; background-color: black;' onerror=\"this.style.backgroundColor='black'; this.src='';\">\n",
       "            <h4 style='margin: 0; font-size: 16px; color: #333;'>MoKo Case for iPad Pro 9.7 with Apple Pencil Holder - Slim Lightweight Smart Shell Stand Cover Case with Auto Wake/Sleep for Apple iPad Pro 9.7 Inch 2016 Tablet, Black</h4>\n",
       "            <p style='margin: 5px 0; font-size: 12px; color: #777;'>Electronics > Computers & Accessories > Tablet Accessories > Bags, Cases & Sleeves > Cases</p>\n",
       "        </div>\n",
       "        \n",
       "        <div style='border: 1px solid #ddd; margin: 10px; padding: 10px; width: 300px; display: inline-block; vertical-align: top;'>\n",
       "            <img src=\"https://m.media-amazon.com/images/W/WEBP_402378-T1/images/I/61PW6LDZwkL.__AC_SX300_SY300_QL70_FMwebp_.jpg\" alt=\"Product Image\" style='width: 100%; height: auto; margin-bottom: 10px; background-color: black;' onerror=\"this.style.backgroundColor='black'; this.src='';\">\n",
       "            <h4 style='margin: 0; font-size: 16px; color: #333;'>iOgrapher Filmmaking Case for iPad 9.7 - iPad Case with Handles, fits iPad Air 1 & 2, 9.7 Pro, 5th & 6th Gen - iPad Cover for Videos & Photography with 3 Cold Shoes, Add 37mm Lens, Mount on a Tripod</h4>\n",
       "            <p style='margin: 5px 0; font-size: 12px; color: #777;'>Electronics > Computers & Accessories > Tablet Accessories > Bags, Cases & Sleeves > Cases</p>\n",
       "        </div>\n",
       "        \n",
       "        <div style='border: 1px solid #ddd; margin: 10px; padding: 10px; width: 300px; display: inline-block; vertical-align: top;'>\n",
       "            <img src=\"https://m.media-amazon.com/images/W/WEBP_402378-T2/images/I/81lCmhHQA3L.__AC_SX300_SY300_QL70_FMwebp_.jpg\" alt=\"Product Image\" style='width: 100%; height: auto; margin-bottom: 10px; background-color: black;' onerror=\"this.style.backgroundColor='black'; this.src='';\">\n",
       "            <h4 style='margin: 0; font-size: 16px; color: #333;'>BENTOBEN iPad 9th / 8th / 7th Generation Case, New iPad 10.2 Case 2021/2020/2019, Glitter Folio Stand Smart Auto Wake/Sleep with Pencil Holder PU Leather Protective Case for iPad 10.2 inch, Rose Gold</h4>\n",
       "            <p style='margin: 5px 0; font-size: 12px; color: #777;'>Electronics > Computers & Accessories > Tablet Accessories > Bags, Cases & Sleeves > Cases</p>\n",
       "        </div>\n",
       "        \n",
       "        <div style='border: 1px solid #ddd; margin: 10px; padding: 10px; width: 300px; display: inline-block; vertical-align: top;'>\n",
       "            <img src=\"https://m.media-amazon.com/images/I/81KUz5oakKL.__AC_SX300_SY300_QL70_FMwebp_.jpg\" alt=\"Product Image\" style='width: 100%; height: auto; margin-bottom: 10px; background-color: black;' onerror=\"this.style.backgroundColor='black'; this.src='';\">\n",
       "            <h4 style='margin: 0; font-size: 16px; color: #333;'>iPad Mini 2 Case, ACEGUARDER Full Body Protective Cover with Adjustable Kickstand for iPad Mini 1 2 3 (Army/Black)</h4>\n",
       "            <p style='margin: 5px 0; font-size: 12px; color: #777;'>Electronics > Computers & Accessories > Tablet Accessories > Bags, Cases & Sleeves > Cases</p>\n",
       "        </div>\n",
       "        \n",
       "        <div style='border: 1px solid #ddd; margin: 10px; padding: 10px; width: 300px; display: inline-block; vertical-align: top;'>\n",
       "            <img src=\"https://m.media-amazon.com/images/I/71DCK+9Q-eL._AC_SY300_SX300_.jpg\" alt=\"Product Image\" style='width: 100%; height: auto; margin-bottom: 10px; background-color: black;' onerror=\"this.style.backgroundColor='black'; this.src='';\">\n",
       "            <h4 style='margin: 0; font-size: 16px; color: #333;'>SEYMAC stock iPad 9th/8th/7th Generation Case, [Full-Body] [Drop-Proof] Case with [Screen Protector] [360 Rotate Stand] Hand Strap [Pen Holder] for iPad 9th/8th/7th Gen 2021/2020/2019 (SkyBlue+Black)</h4>\n",
       "            <p style='margin: 5px 0; font-size: 12px; color: #777;'>Electronics > Computers & Accessories > Tablet Accessories > Bags, Cases & Sleeves > Cases</p>\n",
       "        </div>\n",
       "        \n",
       "        <div style='border: 1px solid #ddd; margin: 10px; padding: 10px; width: 300px; display: inline-block; vertical-align: top;'>\n",
       "            <img src=\"https://m.media-amazon.com/images/I/71TKjh+6AnS._AC_SY300_SX300_.jpg\" alt=\"Product Image\" style='width: 100%; height: auto; margin-bottom: 10px; background-color: black;' onerror=\"this.style.backgroundColor='black'; this.src='';\">\n",
       "            <h4 style='margin: 0; font-size: 16px; color: #333;'>Keyboard Case for iPad Pro 11 inch 3rd Generation 2021–360° Rotatable Touchpad Keyboard Case with Backlight, Compatible with iPad 10.9”Air 4th Gen/iPad 11”1st /2nd / 3rd Gen (Black)</h4>\n",
       "            <p style='margin: 5px 0; font-size: 12px; color: #777;'>Electronics > Computers & Accessories > Tablet Accessories > Bags, Cases & Sleeves > Keyboard Cases</p>\n",
       "        </div>\n",
       "        \n",
       "        <div style='border: 1px solid #ddd; margin: 10px; padding: 10px; width: 300px; display: inline-block; vertical-align: top;'>\n",
       "            <img src=\"https://m.media-amazon.com/images/I/91+uPjAL97L._AC_SY300_SX300_.jpg\" alt=\"Product Image\" style='width: 100%; height: auto; margin-bottom: 10px; background-color: black;' onerror=\"this.style.backgroundColor='black'; this.src='';\">\n",
       "            <h4 style='margin: 0; font-size: 16px; color: #333;'>ProCase Keyboard Case for iPad 10.2 9th Gen 2021/ 8th Gen 2020/ 7th Gen 2019/ iPad Air 10.5\" 2019 / iPad Pro 10.5 2017, Wireless Magnetically Detachable Keyboard Case, Auto Sleep/Wake -Black</h4>\n",
       "            <p style='margin: 5px 0; font-size: 12px; color: #777;'>Electronics > Computers & Accessories > Tablet Accessories > Bags, Cases & Sleeves > Keyboard Cases</p>\n",
       "        </div>\n",
       "        </div>"
      ],
      "text/plain": [
       "<IPython.core.display.HTML object>"
      ]
     },
     "metadata": {},
     "output_type": "display_data"
    }
   ],
   "source": [
    "# Display the hit list\n",
    "response = query_os(\"ipad case black 10 inchess\")\n",
    "html = create_hit_list(response['hits'])\n",
    "display(HTML(html))"
   ]
  },
  {
   "cell_type": "code",
   "execution_count": null,
   "id": "fad29a14-65fd-4992-a4cc-483a10d2f713",
   "metadata": {},
   "outputs": [],
   "source": []
  },
  {
   "cell_type": "code",
   "execution_count": null,
   "id": "2aa6f836-4099-4209-a05d-8aa68ae3f878",
   "metadata": {},
   "outputs": [],
   "source": []
  },
  {
   "cell_type": "code",
   "execution_count": null,
   "id": "3057796f-5bce-41b0-a2a6-f67fa7a7f665",
   "metadata": {},
   "outputs": [],
   "source": []
  }
 ],
 "metadata": {
  "kernelspec": {
   "display_name": "Python 3 (ipykernel)",
   "language": "python",
   "name": "python3"
  },
  "language_info": {
   "codemirror_mode": {
    "name": "ipython",
    "version": 3
   },
   "file_extension": ".py",
   "mimetype": "text/x-python",
   "name": "python",
   "nbconvert_exporter": "python",
   "pygments_lexer": "ipython3",
   "version": "3.12.6"
  }
 },
 "nbformat": 4,
 "nbformat_minor": 5
}
