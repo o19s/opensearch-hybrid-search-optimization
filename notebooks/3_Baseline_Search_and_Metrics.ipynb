{
 "cells": [
  {
   "cell_type": "markdown",
   "id": "f6d5920f-1abe-4e3e-aa3b-ff8794577491",
   "metadata": {
    "editable": true,
    "slideshow": {
     "slide_type": ""
    },
    "tags": []
   },
   "source": [
    "# 3) Baseline Search & Metrics\n",
    "\n",
    "In this notebook we create a query set and run a `best_match` query with a reasonable set of search fields and weights.\n",
    "\n",
    "In addition to the ESCI product data we are making use of the judgements that we map to numeric values.\n",
    "\n",
    "For each query we calculate search metrics and an average over all queries.\n",
    "\n",
    "This gives us a baseline that we can use as our foundation when exploring different hybrid search configurations in the next notebook."
   ]
  },
  {
   "cell_type": "code",
   "execution_count": 64,
   "id": "6c958f91-0bba-4273-a895-71fca705f326",
   "metadata": {
    "editable": true,
    "slideshow": {
     "slide_type": ""
    },
    "tags": []
   },
   "outputs": [],
   "source": [
    "import pandas as pd\n",
    "import numpy as np\n",
    "import mercury as mr\n",
    "import requests\n",
    "import json\n",
    "import plotly.express as px\n",
    "import plotly.io as pio\n",
    "from opensearchpy import OpenSearch\n",
    "from tqdm.notebook import tqdm_notebook"
   ]
  },
  {
   "cell_type": "code",
   "execution_count": 65,
   "id": "84f51ccf-6038-46fe-89f1-ab58fb576761",
   "metadata": {},
   "outputs": [],
   "source": [
    "DATA_DIR = '/Users/danielwrigley/work/Testing/git_repos/esci-data/shopping_queries_dataset/'"
   ]
  },
  {
   "cell_type": "code",
   "execution_count": 66,
   "id": "8337794a-3b44-4edb-90c7-c5331e953735",
   "metadata": {
    "editable": true,
    "slideshow": {
     "slide_type": ""
    },
    "tags": []
   },
   "outputs": [],
   "source": [
    "df_examples = pd.read_parquet(DATA_DIR + '/shopping_queries_dataset_examples.parquet')"
   ]
  },
  {
   "cell_type": "code",
   "execution_count": 67,
   "id": "a8aebb70-0bd0-49c7-9268-b89975d65e9c",
   "metadata": {
    "editable": true,
    "slideshow": {
     "slide_type": ""
    },
    "tags": []
   },
   "outputs": [],
   "source": [
    "# We only use English queries for now\n",
    "df_queries_us = df_examples[df_examples['product_locale'] == 'us']"
   ]
  },
  {
   "cell_type": "markdown",
   "id": "2f6c9455-8eaf-4efd-9e60-5f8fb91e4a34",
   "metadata": {
    "editable": true,
    "slideshow": {
     "slide_type": ""
    },
    "tags": []
   },
   "source": [
    "## Query set\n",
    "We randomly sampled two query sets based on the ESCI dataset:\n",
    "\n",
    "* one large query set with 5000 queries\n",
    "* one small query set with 250 queries\n",
    "\n",
    "Both are split into training (80 %) and test (20 %) set."
   ]
  },
  {
   "cell_type": "code",
   "execution_count": 68,
   "id": "a7cbcd2c-d107-4909-a535-f120b744e4b6",
   "metadata": {},
   "outputs": [],
   "source": [
    "# Set the boolean value accordingly to use either the small (small_b = True) or the large dataset (small_b = False).\n",
    "small_b = True\n",
    "\n",
    "if small_b:\n",
    "    df_train = pd.read_csv('../data/query_train_small.csv')\n",
    "    df_test = pd.read_csv('../data/query_test_small.csv')\n",
    "if not small_b:\n",
    "    df_train = pd.read_csv('../data/query_train.csv')\n",
    "    df_test = pd.read_csv('../data/query_test.csv')"
   ]
  },
  {
   "cell_type": "code",
   "execution_count": 69,
   "id": "d1a88e55-b88c-4089-bbe0-bb02a1534d72",
   "metadata": {},
   "outputs": [],
   "source": [
    "df_query_set = pd.concat([df_train, df_test])"
   ]
  },
  {
   "cell_type": "markdown",
   "id": "8c163328-fbe5-4caa-88e8-4d840f3001ef",
   "metadata": {},
   "source": [
    "## Judgments\n",
    "The judgments dataset has a row per query instance and document and has the following columns:\n",
    "\n",
    "* datetime: date of query/document instance\n",
    "* query_id: identifier of query instance\n",
    "* query: the query\n",
    "* document: identifier of a document result\n",
    "* judgment: Here we use the proposed ESCI mapping for DCG: `{\"E\": 0, \"S\": 1, \"C\": 2, \"I\": 3}` "
   ]
  },
  {
   "cell_type": "code",
   "execution_count": 70,
   "id": "7262afa1-c418-487f-bc62-f78e985ff9fb",
   "metadata": {
    "editable": true,
    "slideshow": {
     "slide_type": ""
    },
    "tags": []
   },
   "outputs": [
    {
     "data": {
      "text/html": [
       "<div>\n",
       "<style scoped>\n",
       "    .dataframe tbody tr th:only-of-type {\n",
       "        vertical-align: middle;\n",
       "    }\n",
       "\n",
       "    .dataframe tbody tr th {\n",
       "        vertical-align: top;\n",
       "    }\n",
       "\n",
       "    .dataframe thead th {\n",
       "        text-align: right;\n",
       "    }\n",
       "</style>\n",
       "<table border=\"1\" class=\"dataframe\">\n",
       "  <thead>\n",
       "    <tr style=\"text-align: right;\">\n",
       "      <th></th>\n",
       "      <th>query</th>\n",
       "      <th>document</th>\n",
       "      <th>judgment</th>\n",
       "    </tr>\n",
       "  </thead>\n",
       "  <tbody>\n",
       "    <tr>\n",
       "      <th>0</th>\n",
       "      <td>09 g6 wheel not cover grey</td>\n",
       "      <td>B07WSBV4PK</td>\n",
       "      <td>0</td>\n",
       "    </tr>\n",
       "    <tr>\n",
       "      <th>1</th>\n",
       "      <td>09 g6 wheel not cover grey</td>\n",
       "      <td>B07WS62XTM</td>\n",
       "      <td>0</td>\n",
       "    </tr>\n",
       "    <tr>\n",
       "      <th>2</th>\n",
       "      <td>09 g6 wheel not cover grey</td>\n",
       "      <td>B07VLX8QWK</td>\n",
       "      <td>0</td>\n",
       "    </tr>\n",
       "  </tbody>\n",
       "</table>\n",
       "</div>"
      ],
      "text/plain": [
       "                        query    document  judgment\n",
       "0  09 g6 wheel not cover grey  B07WSBV4PK         0\n",
       "1  09 g6 wheel not cover grey  B07WS62XTM         0\n",
       "2  09 g6 wheel not cover grey  B07VLX8QWK         0"
      ]
     },
     "execution_count": 70,
     "metadata": {},
     "output_type": "execute_result"
    }
   ],
   "source": [
    "# Select judgments\n",
    "# Map esci_label to score\n",
    "# create judgments per day in range\n",
    "# create noise in score\n",
    "\n",
    "label_num = {\"E\": 0, \"S\": 1, \"C\": 2, \"I\": 3}\n",
    "label_score = [3, 2, 1, 0]\n",
    "#label_score = [1, 0.1, 0.01, 0]\n",
    "\n",
    "def label_to_score(label):\n",
    "    return label_score[label_num[label]]\n",
    "\n",
    "df_judge = df_examples[df_examples[\"query\"].isin(set(df_query_set[\"query_string\"].values))].copy()\n",
    "df_judge[\"judgment\"] = df_judge.esci_label.apply(lambda x: label_to_score(x))\n",
    "df_judge[\"document\"] = df_judge.product_id\n",
    "df_judge = df_judge[[\"query\", \"document\", \"judgment\"]].reset_index(drop=True)\n",
    "df_judge.head(3)"
   ]
  },
  {
   "cell_type": "markdown",
   "id": "c9656fab-dc59-423e-921e-733211ce790b",
   "metadata": {},
   "source": [
    "# Transform the queries and judgments"
   ]
  },
  {
   "cell_type": "markdown",
   "id": "c149e699-8fbb-4495-a8b6-772cdec80b5d",
   "metadata": {},
   "source": [
    "### Group by queries and export to a file with the index to have queries and query ids"
   ]
  },
  {
   "cell_type": "code",
   "execution_count": 71,
   "id": "26405d50-513d-4f8e-a1cf-38cdc0e965f7",
   "metadata": {
    "editable": true,
    "slideshow": {
     "slide_type": ""
    },
    "tags": []
   },
   "outputs": [],
   "source": [
    "df_queries = df_judge.groupby(by='query', as_index=False).agg({\n",
    "    'judgment': ['count']\n",
    "})\n",
    "df_query_idx = df_queries['query']"
   ]
  },
  {
   "cell_type": "code",
   "execution_count": 72,
   "id": "72bd39f8-e2df-4864-89ae-b4f51362e14d",
   "metadata": {},
   "outputs": [
    {
     "data": {
      "text/html": [
       "<div>\n",
       "<style scoped>\n",
       "    .dataframe tbody tr th:only-of-type {\n",
       "        vertical-align: middle;\n",
       "    }\n",
       "\n",
       "    .dataframe tbody tr th {\n",
       "        vertical-align: top;\n",
       "    }\n",
       "\n",
       "    .dataframe thead tr th {\n",
       "        text-align: left;\n",
       "    }\n",
       "</style>\n",
       "<table border=\"1\" class=\"dataframe\">\n",
       "  <thead>\n",
       "    <tr>\n",
       "      <th></th>\n",
       "      <th>query</th>\n",
       "      <th>judgment</th>\n",
       "    </tr>\n",
       "    <tr>\n",
       "      <th></th>\n",
       "      <th></th>\n",
       "      <th>count</th>\n",
       "    </tr>\n",
       "  </thead>\n",
       "  <tbody>\n",
       "    <tr>\n",
       "      <th>0</th>\n",
       "      <td>09 g6 wheel not cover grey</td>\n",
       "      <td>39</td>\n",
       "    </tr>\n",
       "    <tr>\n",
       "      <th>1</th>\n",
       "      <td>1 1/4 pop up bathroom sink drain without overflow</td>\n",
       "      <td>40</td>\n",
       "    </tr>\n",
       "    <tr>\n",
       "      <th>2</th>\n",
       "      <td>1 ‘ velcro without adhesive for sewing</td>\n",
       "      <td>40</td>\n",
       "    </tr>\n",
       "    <tr>\n",
       "      <th>3</th>\n",
       "      <td>1.5 inch heel</td>\n",
       "      <td>16</td>\n",
       "    </tr>\n",
       "    <tr>\n",
       "      <th>4</th>\n",
       "      <td>1/2 inch binder</td>\n",
       "      <td>53</td>\n",
       "    </tr>\n",
       "    <tr>\n",
       "      <th>...</th>\n",
       "      <td>...</td>\n",
       "      <td>...</td>\n",
       "    </tr>\n",
       "    <tr>\n",
       "      <th>245</th>\n",
       "      <td>wood arm chair</td>\n",
       "      <td>16</td>\n",
       "    </tr>\n",
       "    <tr>\n",
       "      <th>246</th>\n",
       "      <td>work clothes for women</td>\n",
       "      <td>16</td>\n",
       "    </tr>\n",
       "    <tr>\n",
       "      <th>247</th>\n",
       "      <td>work vest for men</td>\n",
       "      <td>16</td>\n",
       "    </tr>\n",
       "    <tr>\n",
       "      <th>248</th>\n",
       "      <td>youth compound bow left hand</td>\n",
       "      <td>16</td>\n",
       "    </tr>\n",
       "    <tr>\n",
       "      <th>249</th>\n",
       "      <td>youth size dirt bike helmet</td>\n",
       "      <td>16</td>\n",
       "    </tr>\n",
       "  </tbody>\n",
       "</table>\n",
       "<p>250 rows × 2 columns</p>\n",
       "</div>"
      ],
      "text/plain": [
       "                                                 query judgment\n",
       "                                                          count\n",
       "0                           09 g6 wheel not cover grey       39\n",
       "1    1 1/4 pop up bathroom sink drain without overflow       40\n",
       "2               1 ‘ velcro without adhesive for sewing       40\n",
       "3                                        1.5 inch heel       16\n",
       "4                                      1/2 inch binder       53\n",
       "..                                                 ...      ...\n",
       "245                                     wood arm chair       16\n",
       "246                             work clothes for women       16\n",
       "247                                  work vest for men       16\n",
       "248                       youth compound bow left hand       16\n",
       "249                        youth size dirt bike helmet       16\n",
       "\n",
       "[250 rows x 2 columns]"
      ]
     },
     "execution_count": 72,
     "metadata": {},
     "output_type": "execute_result"
    }
   ],
   "source": [
    "df_queries"
   ]
  },
  {
   "cell_type": "markdown",
   "id": "da04f6cf-d3a2-4756-a265-46b50a5bdda5",
   "metadata": {
    "editable": true,
    "slideshow": {
     "slide_type": ""
    },
    "tags": []
   },
   "source": [
    "### Go through the queries and update the original ratings with the query ids"
   ]
  },
  {
   "cell_type": "code",
   "execution_count": 73,
   "id": "cdb0ea4c-6a81-4e9c-afb2-00cbed5f0109",
   "metadata": {},
   "outputs": [],
   "source": [
    "df_query_idx = pd.DataFrame(df_query_idx)"
   ]
  },
  {
   "cell_type": "code",
   "execution_count": 74,
   "id": "23e2793d-f459-48a7-9196-99e2908fd825",
   "metadata": {
    "editable": true,
    "slideshow": {
     "slide_type": ""
    },
    "tags": []
   },
   "outputs": [],
   "source": [
    "df_query_idx = df_query_idx.reset_index().rename(columns={'index': 'idx'})\n",
    "\n",
    "df_merged = pd.merge(df_judge, df_query_idx, on='query', how='left')\n",
    "df_merged.columns = ['query', 'docid', 'rating', 'idx']"
   ]
  },
  {
   "cell_type": "code",
   "execution_count": 75,
   "id": "cebd00bd-7916-4f35-a309-c763cca4fb52",
   "metadata": {},
   "outputs": [
    {
     "data": {
      "text/html": [
       "<div>\n",
       "<style scoped>\n",
       "    .dataframe tbody tr th:only-of-type {\n",
       "        vertical-align: middle;\n",
       "    }\n",
       "\n",
       "    .dataframe tbody tr th {\n",
       "        vertical-align: top;\n",
       "    }\n",
       "\n",
       "    .dataframe thead th {\n",
       "        text-align: right;\n",
       "    }\n",
       "</style>\n",
       "<table border=\"1\" class=\"dataframe\">\n",
       "  <thead>\n",
       "    <tr style=\"text-align: right;\">\n",
       "      <th></th>\n",
       "      <th>query</th>\n",
       "      <th>docid</th>\n",
       "      <th>rating</th>\n",
       "      <th>idx</th>\n",
       "    </tr>\n",
       "  </thead>\n",
       "  <tbody>\n",
       "    <tr>\n",
       "      <th>0</th>\n",
       "      <td>09 g6 wheel not cover grey</td>\n",
       "      <td>B07WSBV4PK</td>\n",
       "      <td>0</td>\n",
       "      <td>0</td>\n",
       "    </tr>\n",
       "    <tr>\n",
       "      <th>1</th>\n",
       "      <td>09 g6 wheel not cover grey</td>\n",
       "      <td>B07WS62XTM</td>\n",
       "      <td>0</td>\n",
       "      <td>0</td>\n",
       "    </tr>\n",
       "    <tr>\n",
       "      <th>2</th>\n",
       "      <td>09 g6 wheel not cover grey</td>\n",
       "      <td>B07VLX8QWK</td>\n",
       "      <td>0</td>\n",
       "      <td>0</td>\n",
       "    </tr>\n",
       "    <tr>\n",
       "      <th>3</th>\n",
       "      <td>09 g6 wheel not cover grey</td>\n",
       "      <td>B07WNHR1JT</td>\n",
       "      <td>0</td>\n",
       "      <td>0</td>\n",
       "    </tr>\n",
       "    <tr>\n",
       "      <th>4</th>\n",
       "      <td>09 g6 wheel not cover grey</td>\n",
       "      <td>B07WJ3B8ZZ</td>\n",
       "      <td>0</td>\n",
       "      <td>0</td>\n",
       "    </tr>\n",
       "    <tr>\n",
       "      <th>...</th>\n",
       "      <td>...</td>\n",
       "      <td>...</td>\n",
       "      <td>...</td>\n",
       "      <td>...</td>\n",
       "    </tr>\n",
       "    <tr>\n",
       "      <th>4710</th>\n",
       "      <td>youth size dirt bike helmet</td>\n",
       "      <td>B074W42CDK</td>\n",
       "      <td>3</td>\n",
       "      <td>249</td>\n",
       "    </tr>\n",
       "    <tr>\n",
       "      <th>4711</th>\n",
       "      <td>youth size dirt bike helmet</td>\n",
       "      <td>B00Y4G7U7C</td>\n",
       "      <td>3</td>\n",
       "      <td>249</td>\n",
       "    </tr>\n",
       "    <tr>\n",
       "      <th>4712</th>\n",
       "      <td>youth size dirt bike helmet</td>\n",
       "      <td>B00RTD45HU</td>\n",
       "      <td>3</td>\n",
       "      <td>249</td>\n",
       "    </tr>\n",
       "    <tr>\n",
       "      <th>4713</th>\n",
       "      <td>youth size dirt bike helmet</td>\n",
       "      <td>B07CVKRSRL</td>\n",
       "      <td>3</td>\n",
       "      <td>249</td>\n",
       "    </tr>\n",
       "    <tr>\n",
       "      <th>4714</th>\n",
       "      <td>youth size dirt bike helmet</td>\n",
       "      <td>B00GLZPA30</td>\n",
       "      <td>3</td>\n",
       "      <td>249</td>\n",
       "    </tr>\n",
       "  </tbody>\n",
       "</table>\n",
       "<p>4715 rows × 4 columns</p>\n",
       "</div>"
      ],
      "text/plain": [
       "                            query       docid  rating  idx\n",
       "0      09 g6 wheel not cover grey  B07WSBV4PK       0    0\n",
       "1      09 g6 wheel not cover grey  B07WS62XTM       0    0\n",
       "2      09 g6 wheel not cover grey  B07VLX8QWK       0    0\n",
       "3      09 g6 wheel not cover grey  B07WNHR1JT       0    0\n",
       "4      09 g6 wheel not cover grey  B07WJ3B8ZZ       0    0\n",
       "...                           ...         ...     ...  ...\n",
       "4710  youth size dirt bike helmet  B074W42CDK       3  249\n",
       "4711  youth size dirt bike helmet  B00Y4G7U7C       3  249\n",
       "4712  youth size dirt bike helmet  B00RTD45HU       3  249\n",
       "4713  youth size dirt bike helmet  B07CVKRSRL       3  249\n",
       "4714  youth size dirt bike helmet  B00GLZPA30       3  249\n",
       "\n",
       "[4715 rows x 4 columns]"
      ]
     },
     "execution_count": 75,
     "metadata": {},
     "output_type": "execute_result"
    }
   ],
   "source": [
    "df_merged"
   ]
  },
  {
   "cell_type": "code",
   "execution_count": 76,
   "id": "37921f8d-5c95-4cba-8d43-af1c1331ceb9",
   "metadata": {
    "editable": true,
    "scrolled": true,
    "slideshow": {
     "slide_type": ""
    },
    "tags": []
   },
   "outputs": [
    {
     "data": {
      "text/html": [
       "<div>\n",
       "<style scoped>\n",
       "    .dataframe tbody tr th:only-of-type {\n",
       "        vertical-align: middle;\n",
       "    }\n",
       "\n",
       "    .dataframe tbody tr th {\n",
       "        vertical-align: top;\n",
       "    }\n",
       "\n",
       "    .dataframe thead th {\n",
       "        text-align: right;\n",
       "    }\n",
       "</style>\n",
       "<table border=\"1\" class=\"dataframe\">\n",
       "  <thead>\n",
       "    <tr style=\"text-align: right;\">\n",
       "      <th></th>\n",
       "      <th>query</th>\n",
       "      <th>docid</th>\n",
       "      <th>rating</th>\n",
       "      <th>idx</th>\n",
       "    </tr>\n",
       "  </thead>\n",
       "  <tbody>\n",
       "    <tr>\n",
       "      <th>0</th>\n",
       "      <td>09 g6 wheel not cover grey</td>\n",
       "      <td>B07WSBV4PK</td>\n",
       "      <td>0</td>\n",
       "      <td>0</td>\n",
       "    </tr>\n",
       "    <tr>\n",
       "      <th>1</th>\n",
       "      <td>09 g6 wheel not cover grey</td>\n",
       "      <td>B07WS62XTM</td>\n",
       "      <td>0</td>\n",
       "      <td>0</td>\n",
       "    </tr>\n",
       "    <tr>\n",
       "      <th>2</th>\n",
       "      <td>09 g6 wheel not cover grey</td>\n",
       "      <td>B07VLX8QWK</td>\n",
       "      <td>0</td>\n",
       "      <td>0</td>\n",
       "    </tr>\n",
       "  </tbody>\n",
       "</table>\n",
       "</div>"
      ],
      "text/plain": [
       "                        query       docid  rating  idx\n",
       "0  09 g6 wheel not cover grey  B07WSBV4PK       0    0\n",
       "1  09 g6 wheel not cover grey  B07WS62XTM       0    0\n",
       "2  09 g6 wheel not cover grey  B07VLX8QWK       0    0"
      ]
     },
     "execution_count": 76,
     "metadata": {},
     "output_type": "execute_result"
    }
   ],
   "source": [
    "# save the ratings, we need them later\n",
    "name = '../data/ratings.csv'\n",
    "\n",
    "df_merged.to_csv(name, sep=\"\\t\", header=False, index=False)\n",
    "df_merged.head(3)"
   ]
  },
  {
   "cell_type": "markdown",
   "id": "dfb85fc7-9f76-4002-b5de-6cd469055fe7",
   "metadata": {
    "editable": true,
    "slideshow": {
     "slide_type": ""
    },
    "tags": []
   },
   "source": [
    "## Query OpenSearch with the Baseline Configuration\n",
    "\n",
    "We use a simple `multi_match` query with a couple of fields and field weights.\n",
    "\n",
    "This will serve as our baseline. We get the first 10 results for each query we have in `df_judge` and store the results in a DataFrame.\n",
    "We execute the test set only. This ensures that we have a fair comparison and always compare the metrics of the test set queries against each other.\n",
    "\n",
    "This gives us a quantification of the quality of the baseline configuration.\n",
    "\n",
    "We will use this to compare our hybrid search configurations against."
   ]
  },
  {
   "cell_type": "code",
   "execution_count": 77,
   "id": "60d7e15b-542f-4236-ab78-969ac1bf09d3",
   "metadata": {
    "editable": true,
    "scrolled": true,
    "slideshow": {
     "slide_type": ""
    },
    "tags": []
   },
   "outputs": [
    {
     "data": {
      "application/vnd.jupyter.widget-view+json": {
       "model_id": "3116d81c98ff433997cefff3314f072c",
       "version_major": 2,
       "version_minor": 0
      },
      "text/plain": [
       "0it [00:00, ?it/s]"
      ]
     },
     "metadata": {},
     "output_type": "display_data"
    }
   ],
   "source": [
    "url = \"http://localhost:9200/ecommerce/_search\"\n",
    "\n",
    "headers = {\n",
    "    'Content-Type': 'application/json'\n",
    "}\n",
    "\n",
    "df_relevance = pd.DataFrame()\n",
    "\n",
    "for query in tqdm_notebook(df_query_idx[df_query_idx['query'].isin(df_test['query_string'])].itertuples()):\n",
    "\n",
    "    payload = {\n",
    "      \"_source\": {\n",
    "        \"excludes\": [\n",
    "          \"title_embedding\"\n",
    "        ]\n",
    "      },\n",
    "      \"query\": {\n",
    "        \"multi_match\" : {\n",
    "          \"type\": \"best_fields\",\n",
    "          \"fields\": [\n",
    "            \"product_id^100\",\n",
    "            \"product_bullet_point^3\",\n",
    "            \"product_color^2\",\n",
    "            \"product_brand^5\",\n",
    "            \"product_description\",\n",
    "            \"product_title^10\"\n",
    "          ],\n",
    "          \"operator\":   \"and\",\n",
    "          \"query\":      query[2]\n",
    "        }\n",
    "      }\n",
    "    }\n",
    "\n",
    "    response = requests.request(\"POST\", url, headers=headers, data=json.dumps(payload)).json()\n",
    "    \n",
    "    position = 0\n",
    "    num_results = response['hits']['total']['value']\n",
    "    for hit in response['hits']['hits']:\n",
    "        # create a new row for the DataFrame and append it\n",
    "        row = { 'query_id' : str(query[1]), 'query_string': query[2], 'product_id' : hit[\"_id\"], 'position' : position, 'num_results' : num_results, 'relevance' : hit[\"_score\"], 'run': 'default' }\n",
    "    \n",
    "        new_row_df = pd.DataFrame([row])\n",
    "        df_relevance = pd.concat([df_relevance, new_row_df], ignore_index=True)\n",
    "        position += 1\n",
    "    \n",
    "# work with two for loops:\n",
    "# 1) one to iterate over the list of queries and have a query id instead of a query\n",
    "# 2) another one to iterate over the result sets to have the position of the result in the result set \n",
    "\n",
    "# DataFrame with columns:\n",
    "# query_id: the id of the query\n",
    "# query string: the query itself\n",
    "# product_id: the id of the product in the hit list\n",
    "# position: the position of the product in the result set\n",
    "# num_results: the number of results - unused for now\n",
    "# relevance: relevance as given by the search engine\n",
    "# run: the name of the query run"
   ]
  },
  {
   "cell_type": "code",
   "execution_count": 78,
   "id": "e2280edf-148d-4660-b378-09d7c4d9e7d6",
   "metadata": {},
   "outputs": [
    {
     "data": {
      "text/html": [
       "<div>\n",
       "<style scoped>\n",
       "    .dataframe tbody tr th:only-of-type {\n",
       "        vertical-align: middle;\n",
       "    }\n",
       "\n",
       "    .dataframe tbody tr th {\n",
       "        vertical-align: top;\n",
       "    }\n",
       "\n",
       "    .dataframe thead th {\n",
       "        text-align: right;\n",
       "    }\n",
       "</style>\n",
       "<table border=\"1\" class=\"dataframe\">\n",
       "  <thead>\n",
       "    <tr style=\"text-align: right;\">\n",
       "      <th></th>\n",
       "      <th>query_id</th>\n",
       "      <th>query_string</th>\n",
       "      <th>product_id</th>\n",
       "      <th>position</th>\n",
       "      <th>num_results</th>\n",
       "      <th>relevance</th>\n",
       "      <th>run</th>\n",
       "    </tr>\n",
       "  </thead>\n",
       "  <tbody>\n",
       "    <tr>\n",
       "      <th>0</th>\n",
       "      <td>1</td>\n",
       "      <td>1 1/4 pop up bathroom sink drain without overflow</td>\n",
       "      <td>B07HQFT7GG</td>\n",
       "      <td>0</td>\n",
       "      <td>91</td>\n",
       "      <td>482.79446</td>\n",
       "      <td>default</td>\n",
       "    </tr>\n",
       "    <tr>\n",
       "      <th>1</th>\n",
       "      <td>1</td>\n",
       "      <td>1 1/4 pop up bathroom sink drain without overflow</td>\n",
       "      <td>B08MT7ZDN2</td>\n",
       "      <td>1</td>\n",
       "      <td>91</td>\n",
       "      <td>476.07257</td>\n",
       "      <td>default</td>\n",
       "    </tr>\n",
       "    <tr>\n",
       "      <th>2</th>\n",
       "      <td>1</td>\n",
       "      <td>1 1/4 pop up bathroom sink drain without overflow</td>\n",
       "      <td>B08YDL7WPW</td>\n",
       "      <td>2</td>\n",
       "      <td>91</td>\n",
       "      <td>475.76108</td>\n",
       "      <td>default</td>\n",
       "    </tr>\n",
       "  </tbody>\n",
       "</table>\n",
       "</div>"
      ],
      "text/plain": [
       "  query_id                                       query_string  product_id  \\\n",
       "0        1  1 1/4 pop up bathroom sink drain without overflow  B07HQFT7GG   \n",
       "1        1  1 1/4 pop up bathroom sink drain without overflow  B08MT7ZDN2   \n",
       "2        1  1 1/4 pop up bathroom sink drain without overflow  B08YDL7WPW   \n",
       "\n",
       "   position  num_results  relevance      run  \n",
       "0         0           91  482.79446  default  \n",
       "1         1           91  476.07257  default  \n",
       "2         2           91  475.76108  default  "
      ]
     },
     "execution_count": 78,
     "metadata": {},
     "output_type": "execute_result"
    }
   ],
   "source": [
    "df_relevance.head(3)"
   ]
  },
  {
   "cell_type": "code",
   "execution_count": 80,
   "id": "4aa72a3f-0cd4-42a9-a122-4c05bd1ab50b",
   "metadata": {},
   "outputs": [],
   "source": [
    "# Make sure ids are strings - otherwise the merge operation might cause an error\n",
    "df_relevance['query_id'] = df_relevance['query_id'].astype(str)\n",
    "df_merged['idx'] = df_merged['idx'].astype(str)\n",
    "# Remove duplicates from the ratings DataFrame\n",
    "df_unique_ratings = df_merged.drop_duplicates(subset=['docid', 'idx'])"
   ]
  },
  {
   "cell_type": "code",
   "execution_count": 81,
   "id": "0c0024bd-7199-4e1a-9587-b71d66913dcc",
   "metadata": {},
   "outputs": [
    {
     "data": {
      "text/html": [
       "<div>\n",
       "<style scoped>\n",
       "    .dataframe tbody tr th:only-of-type {\n",
       "        vertical-align: middle;\n",
       "    }\n",
       "\n",
       "    .dataframe tbody tr th {\n",
       "        vertical-align: top;\n",
       "    }\n",
       "\n",
       "    .dataframe thead th {\n",
       "        text-align: right;\n",
       "    }\n",
       "</style>\n",
       "<table border=\"1\" class=\"dataframe\">\n",
       "  <thead>\n",
       "    <tr style=\"text-align: right;\">\n",
       "      <th></th>\n",
       "      <th>query_id</th>\n",
       "      <th>query_string</th>\n",
       "      <th>product_id</th>\n",
       "      <th>position</th>\n",
       "      <th>num_results</th>\n",
       "      <th>relevance</th>\n",
       "      <th>run</th>\n",
       "      <th>rating</th>\n",
       "    </tr>\n",
       "  </thead>\n",
       "  <tbody>\n",
       "    <tr>\n",
       "      <th>0</th>\n",
       "      <td>1</td>\n",
       "      <td>1 1/4 pop up bathroom sink drain without overflow</td>\n",
       "      <td>B07HQFT7GG</td>\n",
       "      <td>0</td>\n",
       "      <td>91</td>\n",
       "      <td>482.79446</td>\n",
       "      <td>default</td>\n",
       "      <td>NaN</td>\n",
       "    </tr>\n",
       "    <tr>\n",
       "      <th>1</th>\n",
       "      <td>1</td>\n",
       "      <td>1 1/4 pop up bathroom sink drain without overflow</td>\n",
       "      <td>B08MT7ZDN2</td>\n",
       "      <td>1</td>\n",
       "      <td>91</td>\n",
       "      <td>476.07257</td>\n",
       "      <td>default</td>\n",
       "      <td>NaN</td>\n",
       "    </tr>\n",
       "    <tr>\n",
       "      <th>2</th>\n",
       "      <td>1</td>\n",
       "      <td>1 1/4 pop up bathroom sink drain without overflow</td>\n",
       "      <td>B08YDL7WPW</td>\n",
       "      <td>2</td>\n",
       "      <td>91</td>\n",
       "      <td>475.76108</td>\n",
       "      <td>default</td>\n",
       "      <td>NaN</td>\n",
       "    </tr>\n",
       "    <tr>\n",
       "      <th>3</th>\n",
       "      <td>1</td>\n",
       "      <td>1 1/4 pop up bathroom sink drain without overflow</td>\n",
       "      <td>B08PF62P21</td>\n",
       "      <td>3</td>\n",
       "      <td>91</td>\n",
       "      <td>471.89224</td>\n",
       "      <td>default</td>\n",
       "      <td>NaN</td>\n",
       "    </tr>\n",
       "    <tr>\n",
       "      <th>4</th>\n",
       "      <td>1</td>\n",
       "      <td>1 1/4 pop up bathroom sink drain without overflow</td>\n",
       "      <td>B07MMSXYJ9</td>\n",
       "      <td>4</td>\n",
       "      <td>91</td>\n",
       "      <td>471.87646</td>\n",
       "      <td>default</td>\n",
       "      <td>NaN</td>\n",
       "    </tr>\n",
       "    <tr>\n",
       "      <th>5</th>\n",
       "      <td>1</td>\n",
       "      <td>1 1/4 pop up bathroom sink drain without overflow</td>\n",
       "      <td>B08DHVWYC4</td>\n",
       "      <td>5</td>\n",
       "      <td>91</td>\n",
       "      <td>469.12020</td>\n",
       "      <td>default</td>\n",
       "      <td>NaN</td>\n",
       "    </tr>\n",
       "    <tr>\n",
       "      <th>6</th>\n",
       "      <td>1</td>\n",
       "      <td>1 1/4 pop up bathroom sink drain without overflow</td>\n",
       "      <td>B089R85GPH</td>\n",
       "      <td>6</td>\n",
       "      <td>91</td>\n",
       "      <td>468.99564</td>\n",
       "      <td>default</td>\n",
       "      <td>NaN</td>\n",
       "    </tr>\n",
       "    <tr>\n",
       "      <th>7</th>\n",
       "      <td>1</td>\n",
       "      <td>1 1/4 pop up bathroom sink drain without overflow</td>\n",
       "      <td>B08MT97MQH</td>\n",
       "      <td>7</td>\n",
       "      <td>91</td>\n",
       "      <td>468.99564</td>\n",
       "      <td>default</td>\n",
       "      <td>NaN</td>\n",
       "    </tr>\n",
       "    <tr>\n",
       "      <th>8</th>\n",
       "      <td>1</td>\n",
       "      <td>1 1/4 pop up bathroom sink drain without overflow</td>\n",
       "      <td>B07DN8NKMV</td>\n",
       "      <td>8</td>\n",
       "      <td>91</td>\n",
       "      <td>467.73465</td>\n",
       "      <td>default</td>\n",
       "      <td>NaN</td>\n",
       "    </tr>\n",
       "    <tr>\n",
       "      <th>9</th>\n",
       "      <td>1</td>\n",
       "      <td>1 1/4 pop up bathroom sink drain without overflow</td>\n",
       "      <td>B07M7Y58RY</td>\n",
       "      <td>9</td>\n",
       "      <td>91</td>\n",
       "      <td>465.61758</td>\n",
       "      <td>default</td>\n",
       "      <td>3.0</td>\n",
       "    </tr>\n",
       "  </tbody>\n",
       "</table>\n",
       "</div>"
      ],
      "text/plain": [
       "  query_id                                       query_string  product_id  \\\n",
       "0        1  1 1/4 pop up bathroom sink drain without overflow  B07HQFT7GG   \n",
       "1        1  1 1/4 pop up bathroom sink drain without overflow  B08MT7ZDN2   \n",
       "2        1  1 1/4 pop up bathroom sink drain without overflow  B08YDL7WPW   \n",
       "3        1  1 1/4 pop up bathroom sink drain without overflow  B08PF62P21   \n",
       "4        1  1 1/4 pop up bathroom sink drain without overflow  B07MMSXYJ9   \n",
       "5        1  1 1/4 pop up bathroom sink drain without overflow  B08DHVWYC4   \n",
       "6        1  1 1/4 pop up bathroom sink drain without overflow  B089R85GPH   \n",
       "7        1  1 1/4 pop up bathroom sink drain without overflow  B08MT97MQH   \n",
       "8        1  1 1/4 pop up bathroom sink drain without overflow  B07DN8NKMV   \n",
       "9        1  1 1/4 pop up bathroom sink drain without overflow  B07M7Y58RY   \n",
       "\n",
       "   position  num_results  relevance      run  rating  \n",
       "0         0           91  482.79446  default     NaN  \n",
       "1         1           91  476.07257  default     NaN  \n",
       "2         2           91  475.76108  default     NaN  \n",
       "3         3           91  471.89224  default     NaN  \n",
       "4         4           91  471.87646  default     NaN  \n",
       "5         5           91  469.12020  default     NaN  \n",
       "6         6           91  468.99564  default     NaN  \n",
       "7         7           91  468.99564  default     NaN  \n",
       "8         8           91  467.73465  default     NaN  \n",
       "9         9           91  465.61758  default     3.0  "
      ]
     },
     "execution_count": 81,
     "metadata": {},
     "output_type": "execute_result"
    }
   ],
   "source": [
    "# Merge results on query_id and product_id so that the resulting DataFrame has the ratings together with the search results\n",
    "df_merged = df_relevance.merge(df_unique_ratings, left_on=['query_id', 'product_id'], right_on=['idx', 'docid'], how='left', validate='one_to_one')\n",
    "df_merged = df_merged.drop(columns=['query', 'docid', 'idx'])\n",
    "\n",
    "df_merged.head(10)"
   ]
  },
  {
   "cell_type": "code",
   "execution_count": 82,
   "id": "d2530be8-1c7a-4a75-a5a4-290613115bdd",
   "metadata": {},
   "outputs": [
    {
     "name": "stdout",
     "output_type": "stream",
     "text": [
      "There are 324 rows and 198 do not contain a rating\n"
     ]
    }
   ],
   "source": [
    "# Count the rows without ratings - the higher the count is the less reliable the results will be\n",
    "nan_count_rating = df_merged['rating'].isna().sum()\n",
    "print(f\"There are {df_merged.shape[0]} rows and {nan_count_rating} do not contain a rating\")"
   ]
  },
  {
   "cell_type": "markdown",
   "id": "94dbfce1-fe96-44c1-aee2-655d169ac30f",
   "metadata": {},
   "source": [
    "## Calculate Metrics\n",
    "\n",
    "Iterate over the queries in the query set, calculate the three metrics dcg@10, ndcg@10 and precision@10 and store the results for every query in a DataFrame.\n",
    "Additionally, we calculate the ratio of available ratings as a measure of certainty. The more ratings we have to calculate our metrics on the more reliable this result is."
   ]
  },
  {
   "cell_type": "code",
   "execution_count": 83,
   "id": "93775c82-8ca4-4fcd-b9c0-8427b95a786e",
   "metadata": {},
   "outputs": [],
   "source": [
    "df_ratings = pd.read_csv('../data/ratings.csv', sep=\"\\t\", names=['query', 'docid', 'rating', 'idx'])"
   ]
  },
  {
   "cell_type": "code",
   "execution_count": 84,
   "id": "5568ff11-0ccd-483a-9c28-73a5741c55f3",
   "metadata": {},
   "outputs": [],
   "source": [
    "# import from shared utils file metrics.py\n",
    "from utils import metrics\n",
    "\n",
    "metrics = [\n",
    "    (\"dcg\", metrics.dcg_at_10, None),\n",
    "    (\"ndcg\", metrics.ndcg_at_10, None),\n",
    "    (\"prec@10\", metrics.precision_at_k, None),\n",
    "    (\"ratio_of_ratings\", metrics.ratio_of_ratings, None)\n",
    "]"
   ]
  },
  {
   "cell_type": "code",
   "execution_count": 85,
   "id": "2672986f-5fb5-4498-8516-43b47d9ce8f0",
   "metadata": {},
   "outputs": [],
   "source": [
    "reference = {query: df for query, df in df_ratings.groupby(\"query\")}\n",
    "\n",
    "df_metrics = []\n",
    "for m_name, m_function, ref_search in metrics:\n",
    "    for (query_string, run), df_gr in df_merged.groupby([\"query_string\", \"run\"]):\n",
    "        metric = m_function(df_gr, reference=reference[query_string])\n",
    "        df_metrics.append(pd.DataFrame({\n",
    "            \"query\": [query_string],\n",
    "            \"pipeline\": [run],\n",
    "            \"metric\": [m_name],\n",
    "            \"value\": [metric],\n",
    "        }))\n",
    "df_metrics = pd.concat(df_metrics)"
   ]
  },
  {
   "cell_type": "code",
   "execution_count": 86,
   "id": "da78bcfa-c814-46ef-8cd1-addfc4d05a82",
   "metadata": {},
   "outputs": [
    {
     "data": {
      "text/html": [
       "<div>\n",
       "<style scoped>\n",
       "    .dataframe tbody tr th:only-of-type {\n",
       "        vertical-align: middle;\n",
       "    }\n",
       "\n",
       "    .dataframe tbody tr th {\n",
       "        vertical-align: top;\n",
       "    }\n",
       "\n",
       "    .dataframe thead th {\n",
       "        text-align: right;\n",
       "    }\n",
       "</style>\n",
       "<table border=\"1\" class=\"dataframe\">\n",
       "  <thead>\n",
       "    <tr style=\"text-align: right;\">\n",
       "      <th></th>\n",
       "      <th>query</th>\n",
       "      <th>pipeline</th>\n",
       "      <th>metric</th>\n",
       "      <th>value</th>\n",
       "    </tr>\n",
       "  </thead>\n",
       "  <tbody>\n",
       "    <tr>\n",
       "      <th>0</th>\n",
       "      <td>1 1/4 pop up bathroom sink drain without overflow</td>\n",
       "      <td>default</td>\n",
       "      <td>dcg</td>\n",
       "      <td>1.156259</td>\n",
       "    </tr>\n",
       "    <tr>\n",
       "      <th>0</th>\n",
       "      <td>barn pictures for walls</td>\n",
       "      <td>default</td>\n",
       "      <td>dcg</td>\n",
       "      <td>4.246425</td>\n",
       "    </tr>\n",
       "    <tr>\n",
       "      <th>0</th>\n",
       "      <td>black bear onesie</td>\n",
       "      <td>default</td>\n",
       "      <td>dcg</td>\n",
       "      <td>6.523719</td>\n",
       "    </tr>\n",
       "  </tbody>\n",
       "</table>\n",
       "</div>"
      ],
      "text/plain": [
       "                                               query pipeline metric     value\n",
       "0  1 1/4 pop up bathroom sink drain without overflow  default    dcg  1.156259\n",
       "0                            barn pictures for walls  default    dcg  4.246425\n",
       "0                                  black bear onesie  default    dcg  6.523719"
      ]
     },
     "execution_count": 86,
     "metadata": {},
     "output_type": "execute_result"
    }
   ],
   "source": [
    "df_metrics.head(3)"
   ]
  },
  {
   "cell_type": "code",
   "execution_count": 94,
   "id": "abc92d36-f615-4e24-b966-2c2a1a5f437d",
   "metadata": {},
   "outputs": [
    {
     "data": {
      "text/html": [
       "<div>\n",
       "<style scoped>\n",
       "    .dataframe tbody tr th:only-of-type {\n",
       "        vertical-align: middle;\n",
       "    }\n",
       "\n",
       "    .dataframe tbody tr th {\n",
       "        vertical-align: top;\n",
       "    }\n",
       "\n",
       "    .dataframe thead th {\n",
       "        text-align: right;\n",
       "    }\n",
       "</style>\n",
       "<table border=\"1\" class=\"dataframe\">\n",
       "  <thead>\n",
       "    <tr style=\"text-align: right;\">\n",
       "      <th></th>\n",
       "      <th>query</th>\n",
       "      <th>pipeline</th>\n",
       "      <th>metric</th>\n",
       "      <th>value</th>\n",
       "    </tr>\n",
       "  </thead>\n",
       "  <tbody>\n",
       "    <tr>\n",
       "      <th>2</th>\n",
       "      <td>black bear onesie</td>\n",
       "      <td>default</td>\n",
       "      <td>dcg</td>\n",
       "      <td>6.523719</td>\n",
       "    </tr>\n",
       "    <tr>\n",
       "      <th>43</th>\n",
       "      <td>black bear onesie</td>\n",
       "      <td>default</td>\n",
       "      <td>ndcg</td>\n",
       "      <td>0.475581</td>\n",
       "    </tr>\n",
       "    <tr>\n",
       "      <th>84</th>\n",
       "      <td>black bear onesie</td>\n",
       "      <td>default</td>\n",
       "      <td>prec@10</td>\n",
       "      <td>0.200000</td>\n",
       "    </tr>\n",
       "    <tr>\n",
       "      <th>125</th>\n",
       "      <td>black bear onesie</td>\n",
       "      <td>default</td>\n",
       "      <td>ratio_of_ratings</td>\n",
       "      <td>0.400000</td>\n",
       "    </tr>\n",
       "  </tbody>\n",
       "</table>\n",
       "</div>"
      ],
      "text/plain": [
       "                 query pipeline            metric     value\n",
       "2    black bear onesie  default               dcg  6.523719\n",
       "43   black bear onesie  default              ndcg  0.475581\n",
       "84   black bear onesie  default           prec@10  0.200000\n",
       "125  black bear onesie  default  ratio_of_ratings  0.400000"
      ]
     },
     "execution_count": 94,
     "metadata": {},
     "output_type": "execute_result"
    }
   ],
   "source": [
    "# Use a query from the test set to see the different metrics for the query\n",
    "df_metrics[df_metrics['query'] == 'black bear onesie']"
   ]
  },
  {
   "cell_type": "code",
   "execution_count": 88,
   "id": "22aeb550-b3cf-42b1-8ead-269908b7d0f4",
   "metadata": {},
   "outputs": [
    {
     "name": "stdout",
     "output_type": "stream",
     "text": [
      "Average DCG: 6.03\n",
      "Average NDCG: 0.26\n",
      "Average Precision: 0.3\n"
     ]
    }
   ],
   "source": [
    "print(f\"Average DCG: {df_metrics[df_metrics['metric'] == 'dcg']['value'].mean().round(2)}\")\n",
    "print(f\"Average NDCG: {df_metrics[df_metrics['metric'] == 'ndcg']['value'].mean().round(2)}\")\n",
    "print(f\"Average Precision: {df_metrics[df_metrics['metric'] == 'prec@10']['value'].mean().round(2)}\")"
   ]
  },
  {
   "cell_type": "code",
   "execution_count": 89,
   "id": "00000364-ae65-4cd9-ad04-7916154ec99d",
   "metadata": {},
   "outputs": [],
   "source": [
    "df_metrics.reset_index(drop=True, inplace=True)"
   ]
  },
  {
   "cell_type": "code",
   "execution_count": 90,
   "id": "435d47d2-4eb9-408b-bf56-6faa8d90036a",
   "metadata": {},
   "outputs": [
    {
     "data": {
      "text/html": [
       "<div>\n",
       "<style scoped>\n",
       "    .dataframe tbody tr th:only-of-type {\n",
       "        vertical-align: middle;\n",
       "    }\n",
       "\n",
       "    .dataframe tbody tr th {\n",
       "        vertical-align: top;\n",
       "    }\n",
       "\n",
       "    .dataframe thead th {\n",
       "        text-align: right;\n",
       "    }\n",
       "</style>\n",
       "<table border=\"1\" class=\"dataframe\">\n",
       "  <thead>\n",
       "    <tr style=\"text-align: right;\">\n",
       "      <th></th>\n",
       "      <th>query</th>\n",
       "      <th>pipeline</th>\n",
       "      <th>metric</th>\n",
       "      <th>value</th>\n",
       "    </tr>\n",
       "  </thead>\n",
       "  <tbody>\n",
       "    <tr>\n",
       "      <th>0</th>\n",
       "      <td>1 1/4 pop up bathroom sink drain without overflow</td>\n",
       "      <td>default</td>\n",
       "      <td>dcg</td>\n",
       "      <td>1.156259</td>\n",
       "    </tr>\n",
       "    <tr>\n",
       "      <th>1</th>\n",
       "      <td>barn pictures for walls</td>\n",
       "      <td>default</td>\n",
       "      <td>dcg</td>\n",
       "      <td>4.246425</td>\n",
       "    </tr>\n",
       "    <tr>\n",
       "      <th>2</th>\n",
       "      <td>black bear onesie</td>\n",
       "      <td>default</td>\n",
       "      <td>dcg</td>\n",
       "      <td>6.523719</td>\n",
       "    </tr>\n",
       "    <tr>\n",
       "      <th>3</th>\n",
       "      <td>bloch ballet shoes women</td>\n",
       "      <td>default</td>\n",
       "      <td>dcg</td>\n",
       "      <td>2.523719</td>\n",
       "    </tr>\n",
       "    <tr>\n",
       "      <th>4</th>\n",
       "      <td>canon toner</td>\n",
       "      <td>default</td>\n",
       "      <td>dcg</td>\n",
       "      <td>18.174237</td>\n",
       "    </tr>\n",
       "    <tr>\n",
       "      <th>...</th>\n",
       "      <td>...</td>\n",
       "      <td>...</td>\n",
       "      <td>...</td>\n",
       "      <td>...</td>\n",
       "    </tr>\n",
       "    <tr>\n",
       "      <th>159</th>\n",
       "      <td>thigh knife holster women</td>\n",
       "      <td>default</td>\n",
       "      <td>ratio_of_ratings</td>\n",
       "      <td>0.000000</td>\n",
       "    </tr>\n",
       "    <tr>\n",
       "      <th>160</th>\n",
       "      <td>vegan instant pot cookbook</td>\n",
       "      <td>default</td>\n",
       "      <td>ratio_of_ratings</td>\n",
       "      <td>0.700000</td>\n",
       "    </tr>\n",
       "    <tr>\n",
       "      <th>161</th>\n",
       "      <td>waverly shower curtain</td>\n",
       "      <td>default</td>\n",
       "      <td>ratio_of_ratings</td>\n",
       "      <td>1.000000</td>\n",
       "    </tr>\n",
       "    <tr>\n",
       "      <th>162</th>\n",
       "      <td>women thermal coats</td>\n",
       "      <td>default</td>\n",
       "      <td>ratio_of_ratings</td>\n",
       "      <td>0.000000</td>\n",
       "    </tr>\n",
       "    <tr>\n",
       "      <th>163</th>\n",
       "      <td>work clothes for women</td>\n",
       "      <td>default</td>\n",
       "      <td>ratio_of_ratings</td>\n",
       "      <td>0.000000</td>\n",
       "    </tr>\n",
       "  </tbody>\n",
       "</table>\n",
       "<p>164 rows × 4 columns</p>\n",
       "</div>"
      ],
      "text/plain": [
       "                                                 query pipeline  \\\n",
       "0    1 1/4 pop up bathroom sink drain without overflow  default   \n",
       "1                              barn pictures for walls  default   \n",
       "2                                    black bear onesie  default   \n",
       "3                             bloch ballet shoes women  default   \n",
       "4                                          canon toner  default   \n",
       "..                                                 ...      ...   \n",
       "159                          thigh knife holster women  default   \n",
       "160                         vegan instant pot cookbook  default   \n",
       "161                             waverly shower curtain  default   \n",
       "162                                women thermal coats  default   \n",
       "163                             work clothes for women  default   \n",
       "\n",
       "               metric      value  \n",
       "0                 dcg   1.156259  \n",
       "1                 dcg   4.246425  \n",
       "2                 dcg   6.523719  \n",
       "3                 dcg   2.523719  \n",
       "4                 dcg  18.174237  \n",
       "..                ...        ...  \n",
       "159  ratio_of_ratings   0.000000  \n",
       "160  ratio_of_ratings   0.700000  \n",
       "161  ratio_of_ratings   1.000000  \n",
       "162  ratio_of_ratings   0.000000  \n",
       "163  ratio_of_ratings   0.000000  \n",
       "\n",
       "[164 rows x 4 columns]"
      ]
     },
     "execution_count": 90,
     "metadata": {},
     "output_type": "execute_result"
    }
   ],
   "source": [
    "df_metrics"
   ]
  },
  {
   "cell_type": "code",
   "execution_count": 91,
   "id": "1adb9d68-3ab3-4a0e-8efe-b5fbaf09a1e1",
   "metadata": {},
   "outputs": [],
   "source": [
    "df_pivot = df_metrics.pivot(index='query', columns='metric', values='value').reset_index()"
   ]
  },
  {
   "cell_type": "code",
   "execution_count": 92,
   "id": "c0d70f32-16ff-47b4-8bd8-fd6a51e8d95d",
   "metadata": {},
   "outputs": [
    {
     "data": {
      "text/html": [
       "<div>\n",
       "<style scoped>\n",
       "    .dataframe tbody tr th:only-of-type {\n",
       "        vertical-align: middle;\n",
       "    }\n",
       "\n",
       "    .dataframe tbody tr th {\n",
       "        vertical-align: top;\n",
       "    }\n",
       "\n",
       "    .dataframe thead th {\n",
       "        text-align: right;\n",
       "    }\n",
       "</style>\n",
       "<table border=\"1\" class=\"dataframe\">\n",
       "  <thead>\n",
       "    <tr style=\"text-align: right;\">\n",
       "      <th>metric</th>\n",
       "      <th>query</th>\n",
       "      <th>dcg</th>\n",
       "      <th>ndcg</th>\n",
       "      <th>prec@10</th>\n",
       "      <th>ratio_of_ratings</th>\n",
       "    </tr>\n",
       "  </thead>\n",
       "  <tbody>\n",
       "    <tr>\n",
       "      <th>0</th>\n",
       "      <td>1 1/4 pop up bathroom sink drain without overflow</td>\n",
       "      <td>1.156259</td>\n",
       "      <td>0.029548</td>\n",
       "      <td>0.1</td>\n",
       "      <td>0.10</td>\n",
       "    </tr>\n",
       "    <tr>\n",
       "      <th>1</th>\n",
       "      <td>barn pictures for walls</td>\n",
       "      <td>4.246425</td>\n",
       "      <td>0.173863</td>\n",
       "      <td>0.2</td>\n",
       "      <td>0.20</td>\n",
       "    </tr>\n",
       "    <tr>\n",
       "      <th>2</th>\n",
       "      <td>black bear onesie</td>\n",
       "      <td>6.523719</td>\n",
       "      <td>0.475581</td>\n",
       "      <td>0.2</td>\n",
       "      <td>0.40</td>\n",
       "    </tr>\n",
       "    <tr>\n",
       "      <th>3</th>\n",
       "      <td>bloch ballet shoes women</td>\n",
       "      <td>2.523719</td>\n",
       "      <td>0.062061</td>\n",
       "      <td>0.1</td>\n",
       "      <td>0.50</td>\n",
       "    </tr>\n",
       "    <tr>\n",
       "      <th>4</th>\n",
       "      <td>canon toner</td>\n",
       "      <td>18.174237</td>\n",
       "      <td>0.744114</td>\n",
       "      <td>1.0</td>\n",
       "      <td>1.00</td>\n",
       "    </tr>\n",
       "    <tr>\n",
       "      <th>5</th>\n",
       "      <td>colemen tents</td>\n",
       "      <td>0.000000</td>\n",
       "      <td>0.000000</td>\n",
       "      <td>0.0</td>\n",
       "      <td>0.00</td>\n",
       "    </tr>\n",
       "    <tr>\n",
       "      <th>6</th>\n",
       "      <td>colorful decorations for party</td>\n",
       "      <td>1.722706</td>\n",
       "      <td>0.084567</td>\n",
       "      <td>0.1</td>\n",
       "      <td>0.10</td>\n",
       "    </tr>\n",
       "    <tr>\n",
       "      <th>7</th>\n",
       "      <td>cutting board stove cover</td>\n",
       "      <td>9.671254</td>\n",
       "      <td>0.438994</td>\n",
       "      <td>0.4</td>\n",
       "      <td>0.40</td>\n",
       "    </tr>\n",
       "    <tr>\n",
       "      <th>8</th>\n",
       "      <td>death in the tall grass</td>\n",
       "      <td>0.000000</td>\n",
       "      <td>0.000000</td>\n",
       "      <td>0.0</td>\n",
       "      <td>0.00</td>\n",
       "    </tr>\n",
       "    <tr>\n",
       "      <th>9</th>\n",
       "      <td>flower lip stick</td>\n",
       "      <td>4.000000</td>\n",
       "      <td>0.167121</td>\n",
       "      <td>0.1</td>\n",
       "      <td>0.10</td>\n",
       "    </tr>\n",
       "    <tr>\n",
       "      <th>10</th>\n",
       "      <td>fork spoon knife combo</td>\n",
       "      <td>4.480868</td>\n",
       "      <td>0.252884</td>\n",
       "      <td>0.3</td>\n",
       "      <td>0.30</td>\n",
       "    </tr>\n",
       "    <tr>\n",
       "      <th>11</th>\n",
       "      <td>hidizs</td>\n",
       "      <td>12.103107</td>\n",
       "      <td>0.527995</td>\n",
       "      <td>0.7</td>\n",
       "      <td>0.70</td>\n",
       "    </tr>\n",
       "    <tr>\n",
       "      <th>12</th>\n",
       "      <td>karaoke machine for adults</td>\n",
       "      <td>4.926826</td>\n",
       "      <td>0.162181</td>\n",
       "      <td>0.3</td>\n",
       "      <td>0.30</td>\n",
       "    </tr>\n",
       "    <tr>\n",
       "      <th>13</th>\n",
       "      <td>kingston 120gb</td>\n",
       "      <td>12.757818</td>\n",
       "      <td>0.677838</td>\n",
       "      <td>0.6</td>\n",
       "      <td>0.75</td>\n",
       "    </tr>\n",
       "    <tr>\n",
       "      <th>14</th>\n",
       "      <td>lenox lamps</td>\n",
       "      <td>18.174237</td>\n",
       "      <td>0.792065</td>\n",
       "      <td>1.0</td>\n",
       "      <td>1.00</td>\n",
       "    </tr>\n",
       "    <tr>\n",
       "      <th>15</th>\n",
       "      <td>mary jane shoes women</td>\n",
       "      <td>5.227390</td>\n",
       "      <td>0.233392</td>\n",
       "      <td>0.3</td>\n",
       "      <td>0.30</td>\n",
       "    </tr>\n",
       "    <tr>\n",
       "      <th>16</th>\n",
       "      <td>mens white graphic t-shirts</td>\n",
       "      <td>6.071130</td>\n",
       "      <td>0.166647</td>\n",
       "      <td>0.3</td>\n",
       "      <td>0.30</td>\n",
       "    </tr>\n",
       "    <tr>\n",
       "      <th>17</th>\n",
       "      <td>mens wide width basketball shoes</td>\n",
       "      <td>0.000000</td>\n",
       "      <td>0.000000</td>\n",
       "      <td>0.0</td>\n",
       "      <td>0.00</td>\n",
       "    </tr>\n",
       "    <tr>\n",
       "      <th>18</th>\n",
       "      <td>motor mount</td>\n",
       "      <td>0.000000</td>\n",
       "      <td>0.000000</td>\n",
       "      <td>0.0</td>\n",
       "      <td>0.00</td>\n",
       "    </tr>\n",
       "    <tr>\n",
       "      <th>19</th>\n",
       "      <td>motorrad rallye glove</td>\n",
       "      <td>10.246425</td>\n",
       "      <td>0.419523</td>\n",
       "      <td>0.4</td>\n",
       "      <td>1.00</td>\n",
       "    </tr>\n",
       "    <tr>\n",
       "      <th>20</th>\n",
       "      <td>neon hoops</td>\n",
       "      <td>12.970117</td>\n",
       "      <td>0.593408</td>\n",
       "      <td>0.8</td>\n",
       "      <td>0.80</td>\n",
       "    </tr>\n",
       "    <tr>\n",
       "      <th>21</th>\n",
       "      <td>new oxo good grips 12 piece pop container set</td>\n",
       "      <td>0.000000</td>\n",
       "      <td>0.000000</td>\n",
       "      <td>0.0</td>\n",
       "      <td>0.00</td>\n",
       "    </tr>\n",
       "    <tr>\n",
       "      <th>22</th>\n",
       "      <td>ninja turtle hoodie sweatshirt size 5</td>\n",
       "      <td>2.000000</td>\n",
       "      <td>0.146022</td>\n",
       "      <td>0.1</td>\n",
       "      <td>1.00</td>\n",
       "    </tr>\n",
       "    <tr>\n",
       "      <th>23</th>\n",
       "      <td>party hats</td>\n",
       "      <td>4.603451</td>\n",
       "      <td>0.195329</td>\n",
       "      <td>0.3</td>\n",
       "      <td>0.30</td>\n",
       "    </tr>\n",
       "    <tr>\n",
       "      <th>24</th>\n",
       "      <td>pearl hair band</td>\n",
       "      <td>4.474237</td>\n",
       "      <td>0.190837</td>\n",
       "      <td>0.3</td>\n",
       "      <td>0.30</td>\n",
       "    </tr>\n",
       "    <tr>\n",
       "      <th>25</th>\n",
       "      <td>pens paper mate</td>\n",
       "      <td>4.000000</td>\n",
       "      <td>0.163773</td>\n",
       "      <td>0.1</td>\n",
       "      <td>0.10</td>\n",
       "    </tr>\n",
       "    <tr>\n",
       "      <th>26</th>\n",
       "      <td>pet rainproof clothes</td>\n",
       "      <td>4.000000</td>\n",
       "      <td>0.173403</td>\n",
       "      <td>0.1</td>\n",
       "      <td>1.00</td>\n",
       "    </tr>\n",
       "    <tr>\n",
       "      <th>27</th>\n",
       "      <td>plastic bottle cutter</td>\n",
       "      <td>15.364967</td>\n",
       "      <td>0.702977</td>\n",
       "      <td>0.8</td>\n",
       "      <td>0.80</td>\n",
       "    </tr>\n",
       "    <tr>\n",
       "      <th>28</th>\n",
       "      <td>plastic, satire</td>\n",
       "      <td>4.315465</td>\n",
       "      <td>0.207921</td>\n",
       "      <td>0.1</td>\n",
       "      <td>1.00</td>\n",
       "    </tr>\n",
       "    <tr>\n",
       "      <th>29</th>\n",
       "      <td>please do not annoy the writer mug</td>\n",
       "      <td>18.174237</td>\n",
       "      <td>0.492884</td>\n",
       "      <td>1.0</td>\n",
       "      <td>1.00</td>\n",
       "    </tr>\n",
       "    <tr>\n",
       "      <th>30</th>\n",
       "      <td>reflex gun sight</td>\n",
       "      <td>10.128499</td>\n",
       "      <td>0.414695</td>\n",
       "      <td>0.5</td>\n",
       "      <td>0.50</td>\n",
       "    </tr>\n",
       "    <tr>\n",
       "      <th>31</th>\n",
       "      <td>sambucus elderberry syrup</td>\n",
       "      <td>1.204120</td>\n",
       "      <td>0.051092</td>\n",
       "      <td>0.1</td>\n",
       "      <td>0.10</td>\n",
       "    </tr>\n",
       "    <tr>\n",
       "      <th>32</th>\n",
       "      <td>smart watch for men women,fitness tracker with...</td>\n",
       "      <td>5.030313</td>\n",
       "      <td>0.250029</td>\n",
       "      <td>0.4</td>\n",
       "      <td>0.40</td>\n",
       "    </tr>\n",
       "    <tr>\n",
       "      <th>33</th>\n",
       "      <td>some will not sleep</td>\n",
       "      <td>1.722706</td>\n",
       "      <td>0.160438</td>\n",
       "      <td>0.1</td>\n",
       "      <td>0.10</td>\n",
       "    </tr>\n",
       "    <tr>\n",
       "      <th>34</th>\n",
       "      <td>sticky notes holder for desk</td>\n",
       "      <td>1.424829</td>\n",
       "      <td>0.059530</td>\n",
       "      <td>0.1</td>\n",
       "      <td>0.10</td>\n",
       "    </tr>\n",
       "    <tr>\n",
       "      <th>35</th>\n",
       "      <td>tactical gloves</td>\n",
       "      <td>8.246425</td>\n",
       "      <td>0.405150</td>\n",
       "      <td>0.3</td>\n",
       "      <td>0.30</td>\n",
       "    </tr>\n",
       "    <tr>\n",
       "      <th>36</th>\n",
       "      <td>thigh knife holster women</td>\n",
       "      <td>0.000000</td>\n",
       "      <td>0.000000</td>\n",
       "      <td>0.0</td>\n",
       "      <td>0.00</td>\n",
       "    </tr>\n",
       "    <tr>\n",
       "      <th>37</th>\n",
       "      <td>vegan instant pot cookbook</td>\n",
       "      <td>14.331290</td>\n",
       "      <td>0.691632</td>\n",
       "      <td>0.7</td>\n",
       "      <td>0.70</td>\n",
       "    </tr>\n",
       "    <tr>\n",
       "      <th>38</th>\n",
       "      <td>waverly shower curtain</td>\n",
       "      <td>13.218665</td>\n",
       "      <td>0.541216</td>\n",
       "      <td>0.6</td>\n",
       "      <td>1.00</td>\n",
       "    </tr>\n",
       "    <tr>\n",
       "      <th>39</th>\n",
       "      <td>women thermal coats</td>\n",
       "      <td>0.000000</td>\n",
       "      <td>0.000000</td>\n",
       "      <td>0.0</td>\n",
       "      <td>0.00</td>\n",
       "    </tr>\n",
       "    <tr>\n",
       "      <th>40</th>\n",
       "      <td>work clothes for women</td>\n",
       "      <td>0.000000</td>\n",
       "      <td>0.000000</td>\n",
       "      <td>0.0</td>\n",
       "      <td>0.00</td>\n",
       "    </tr>\n",
       "  </tbody>\n",
       "</table>\n",
       "</div>"
      ],
      "text/plain": [
       "metric                                              query        dcg  \\\n",
       "0       1 1/4 pop up bathroom sink drain without overflow   1.156259   \n",
       "1                                 barn pictures for walls   4.246425   \n",
       "2                                       black bear onesie   6.523719   \n",
       "3                                bloch ballet shoes women   2.523719   \n",
       "4                                             canon toner  18.174237   \n",
       "5                                           colemen tents   0.000000   \n",
       "6                          colorful decorations for party   1.722706   \n",
       "7                               cutting board stove cover   9.671254   \n",
       "8                                 death in the tall grass   0.000000   \n",
       "9                                        flower lip stick   4.000000   \n",
       "10                                 fork spoon knife combo   4.480868   \n",
       "11                                                 hidizs  12.103107   \n",
       "12                             karaoke machine for adults   4.926826   \n",
       "13                                         kingston 120gb  12.757818   \n",
       "14                                            lenox lamps  18.174237   \n",
       "15                                  mary jane shoes women   5.227390   \n",
       "16                            mens white graphic t-shirts   6.071130   \n",
       "17                       mens wide width basketball shoes   0.000000   \n",
       "18                                            motor mount   0.000000   \n",
       "19                                  motorrad rallye glove  10.246425   \n",
       "20                                             neon hoops  12.970117   \n",
       "21          new oxo good grips 12 piece pop container set   0.000000   \n",
       "22                  ninja turtle hoodie sweatshirt size 5   2.000000   \n",
       "23                                             party hats   4.603451   \n",
       "24                                        pearl hair band   4.474237   \n",
       "25                                        pens paper mate   4.000000   \n",
       "26                                  pet rainproof clothes   4.000000   \n",
       "27                                  plastic bottle cutter  15.364967   \n",
       "28                                        plastic, satire   4.315465   \n",
       "29                     please do not annoy the writer mug  18.174237   \n",
       "30                                       reflex gun sight  10.128499   \n",
       "31                              sambucus elderberry syrup   1.204120   \n",
       "32      smart watch for men women,fitness tracker with...   5.030313   \n",
       "33                                    some will not sleep   1.722706   \n",
       "34                           sticky notes holder for desk   1.424829   \n",
       "35                                        tactical gloves   8.246425   \n",
       "36                              thigh knife holster women   0.000000   \n",
       "37                             vegan instant pot cookbook  14.331290   \n",
       "38                                 waverly shower curtain  13.218665   \n",
       "39                                    women thermal coats   0.000000   \n",
       "40                                 work clothes for women   0.000000   \n",
       "\n",
       "metric      ndcg  prec@10  ratio_of_ratings  \n",
       "0       0.029548      0.1              0.10  \n",
       "1       0.173863      0.2              0.20  \n",
       "2       0.475581      0.2              0.40  \n",
       "3       0.062061      0.1              0.50  \n",
       "4       0.744114      1.0              1.00  \n",
       "5       0.000000      0.0              0.00  \n",
       "6       0.084567      0.1              0.10  \n",
       "7       0.438994      0.4              0.40  \n",
       "8       0.000000      0.0              0.00  \n",
       "9       0.167121      0.1              0.10  \n",
       "10      0.252884      0.3              0.30  \n",
       "11      0.527995      0.7              0.70  \n",
       "12      0.162181      0.3              0.30  \n",
       "13      0.677838      0.6              0.75  \n",
       "14      0.792065      1.0              1.00  \n",
       "15      0.233392      0.3              0.30  \n",
       "16      0.166647      0.3              0.30  \n",
       "17      0.000000      0.0              0.00  \n",
       "18      0.000000      0.0              0.00  \n",
       "19      0.419523      0.4              1.00  \n",
       "20      0.593408      0.8              0.80  \n",
       "21      0.000000      0.0              0.00  \n",
       "22      0.146022      0.1              1.00  \n",
       "23      0.195329      0.3              0.30  \n",
       "24      0.190837      0.3              0.30  \n",
       "25      0.163773      0.1              0.10  \n",
       "26      0.173403      0.1              1.00  \n",
       "27      0.702977      0.8              0.80  \n",
       "28      0.207921      0.1              1.00  \n",
       "29      0.492884      1.0              1.00  \n",
       "30      0.414695      0.5              0.50  \n",
       "31      0.051092      0.1              0.10  \n",
       "32      0.250029      0.4              0.40  \n",
       "33      0.160438      0.1              0.10  \n",
       "34      0.059530      0.1              0.10  \n",
       "35      0.405150      0.3              0.30  \n",
       "36      0.000000      0.0              0.00  \n",
       "37      0.691632      0.7              0.70  \n",
       "38      0.541216      0.6              1.00  \n",
       "39      0.000000      0.0              0.00  \n",
       "40      0.000000      0.0              0.00  "
      ]
     },
     "execution_count": 92,
     "metadata": {},
     "output_type": "execute_result"
    }
   ],
   "source": [
    "df_pivot"
   ]
  },
  {
   "cell_type": "code",
   "execution_count": 93,
   "id": "0a1eb8fc-2972-4143-97ba-a31caf6607a1",
   "metadata": {},
   "outputs": [
    {
     "data": {
      "application/vnd.plotly.v1+json": {
       "config": {
        "plotlyServerURL": "https://plot.ly"
       },
       "data": [
        {
         "customdata": [
          [
           "1 1/4 pop up bathroom sink drain without overflow"
          ],
          [
           "barn pictures for walls"
          ],
          [
           "black bear onesie"
          ],
          [
           "bloch ballet shoes women"
          ],
          [
           "canon toner"
          ],
          [
           "colemen tents"
          ],
          [
           "colorful decorations for party"
          ],
          [
           "cutting board stove cover"
          ],
          [
           "death in the tall grass"
          ],
          [
           "flower lip stick"
          ],
          [
           "fork spoon knife combo"
          ],
          [
           "hidizs"
          ],
          [
           "karaoke machine for adults"
          ],
          [
           "kingston 120gb"
          ],
          [
           "lenox lamps"
          ],
          [
           "mary jane shoes women"
          ],
          [
           "mens white graphic t-shirts"
          ],
          [
           "mens wide width basketball shoes"
          ],
          [
           "motor mount"
          ],
          [
           "motorrad rallye glove"
          ],
          [
           "neon hoops"
          ],
          [
           "new oxo good grips 12 piece pop container set"
          ],
          [
           "ninja turtle hoodie sweatshirt size 5"
          ],
          [
           "party hats"
          ],
          [
           "pearl hair band"
          ],
          [
           "pens paper mate"
          ],
          [
           "pet rainproof clothes"
          ],
          [
           "plastic bottle cutter"
          ],
          [
           "plastic, satire"
          ],
          [
           "please do not annoy the writer mug"
          ],
          [
           "reflex gun sight"
          ],
          [
           "sambucus elderberry syrup"
          ],
          [
           "smart watch for men women,fitness tracker with 1.54"
          ],
          [
           "some will not sleep"
          ],
          [
           "sticky notes holder for desk"
          ],
          [
           "tactical gloves"
          ],
          [
           "thigh knife holster women"
          ],
          [
           "vegan instant pot cookbook"
          ],
          [
           "waverly shower curtain"
          ],
          [
           "women thermal coats"
          ],
          [
           "work clothes for women"
          ]
         ],
         "hovertemplate": "DCG=%{x}<br>Ratio of Judgements=%{y}<br>query=%{customdata[0]}<extra></extra>",
         "legendgroup": "",
         "marker": {
          "color": "#636efa",
          "symbol": "circle"
         },
         "mode": "markers",
         "name": "",
         "orientation": "v",
         "showlegend": false,
         "type": "scatter",
         "x": [
          1.1562593052715515,
          4.246425246579403,
          6.52371901428583,
          2.52371901428583,
          18.17423735235338,
          0,
          1.7227062322935722,
          9.671253995011492,
          0,
          4,
          4.480868314058994,
          12.103107109129386,
          4.9268262149494975,
          12.757818498799,
          18.17423735235338,
          5.227389548495548,
          6.071130243223997,
          0,
          0,
          10.246425246579403,
          12.970117369697459,
          0,
          2,
          4.603450794565072,
          4.474237443887664,
          4,
          4,
          15.364966616272302,
          4.315464876785729,
          18.17423735235338,
          10.128499282641805,
          1.2041199826559248,
          5.030313446985865,
          1.7227062322935722,
          1.4248287484320887,
          8.246425246579403,
          0,
          14.331289791506826,
          13.218665223949658,
          0,
          0
         ],
         "xaxis": "x",
         "y": [
          0.1,
          0.2,
          0.4,
          0.5,
          1,
          0,
          0.1,
          0.4,
          0,
          0.1,
          0.3,
          0.7,
          0.3,
          0.75,
          1,
          0.3,
          0.3,
          0,
          0,
          1,
          0.8,
          0,
          1,
          0.3,
          0.3,
          0.1,
          1,
          0.8,
          1,
          1,
          0.5,
          0.1,
          0.4,
          0.1,
          0.1,
          0.3,
          0,
          0.7,
          1,
          0,
          0
         ],
         "yaxis": "y"
        }
       ],
       "layout": {
        "autosize": true,
        "hovermode": "closest",
        "legend": {
         "tracegroupgap": 0
        },
        "margin": {
         "t": 60
        },
        "template": {
         "data": {
          "bar": [
           {
            "error_x": {
             "color": "#2a3f5f"
            },
            "error_y": {
             "color": "#2a3f5f"
            },
            "marker": {
             "line": {
              "color": "#E5ECF6",
              "width": 0.5
             },
             "pattern": {
              "fillmode": "overlay",
              "size": 10,
              "solidity": 0.2
             }
            },
            "type": "bar"
           }
          ],
          "barpolar": [
           {
            "marker": {
             "line": {
              "color": "#E5ECF6",
              "width": 0.5
             },
             "pattern": {
              "fillmode": "overlay",
              "size": 10,
              "solidity": 0.2
             }
            },
            "type": "barpolar"
           }
          ],
          "carpet": [
           {
            "aaxis": {
             "endlinecolor": "#2a3f5f",
             "gridcolor": "white",
             "linecolor": "white",
             "minorgridcolor": "white",
             "startlinecolor": "#2a3f5f"
            },
            "baxis": {
             "endlinecolor": "#2a3f5f",
             "gridcolor": "white",
             "linecolor": "white",
             "minorgridcolor": "white",
             "startlinecolor": "#2a3f5f"
            },
            "type": "carpet"
           }
          ],
          "choropleth": [
           {
            "colorbar": {
             "outlinewidth": 0,
             "ticks": ""
            },
            "type": "choropleth"
           }
          ],
          "contour": [
           {
            "colorbar": {
             "outlinewidth": 0,
             "ticks": ""
            },
            "colorscale": [
             [
              0,
              "#0d0887"
             ],
             [
              0.1111111111111111,
              "#46039f"
             ],
             [
              0.2222222222222222,
              "#7201a8"
             ],
             [
              0.3333333333333333,
              "#9c179e"
             ],
             [
              0.4444444444444444,
              "#bd3786"
             ],
             [
              0.5555555555555556,
              "#d8576b"
             ],
             [
              0.6666666666666666,
              "#ed7953"
             ],
             [
              0.7777777777777778,
              "#fb9f3a"
             ],
             [
              0.8888888888888888,
              "#fdca26"
             ],
             [
              1,
              "#f0f921"
             ]
            ],
            "type": "contour"
           }
          ],
          "contourcarpet": [
           {
            "colorbar": {
             "outlinewidth": 0,
             "ticks": ""
            },
            "type": "contourcarpet"
           }
          ],
          "heatmap": [
           {
            "colorbar": {
             "outlinewidth": 0,
             "ticks": ""
            },
            "colorscale": [
             [
              0,
              "#0d0887"
             ],
             [
              0.1111111111111111,
              "#46039f"
             ],
             [
              0.2222222222222222,
              "#7201a8"
             ],
             [
              0.3333333333333333,
              "#9c179e"
             ],
             [
              0.4444444444444444,
              "#bd3786"
             ],
             [
              0.5555555555555556,
              "#d8576b"
             ],
             [
              0.6666666666666666,
              "#ed7953"
             ],
             [
              0.7777777777777778,
              "#fb9f3a"
             ],
             [
              0.8888888888888888,
              "#fdca26"
             ],
             [
              1,
              "#f0f921"
             ]
            ],
            "type": "heatmap"
           }
          ],
          "heatmapgl": [
           {
            "colorbar": {
             "outlinewidth": 0,
             "ticks": ""
            },
            "colorscale": [
             [
              0,
              "#0d0887"
             ],
             [
              0.1111111111111111,
              "#46039f"
             ],
             [
              0.2222222222222222,
              "#7201a8"
             ],
             [
              0.3333333333333333,
              "#9c179e"
             ],
             [
              0.4444444444444444,
              "#bd3786"
             ],
             [
              0.5555555555555556,
              "#d8576b"
             ],
             [
              0.6666666666666666,
              "#ed7953"
             ],
             [
              0.7777777777777778,
              "#fb9f3a"
             ],
             [
              0.8888888888888888,
              "#fdca26"
             ],
             [
              1,
              "#f0f921"
             ]
            ],
            "type": "heatmapgl"
           }
          ],
          "histogram": [
           {
            "marker": {
             "pattern": {
              "fillmode": "overlay",
              "size": 10,
              "solidity": 0.2
             }
            },
            "type": "histogram"
           }
          ],
          "histogram2d": [
           {
            "colorbar": {
             "outlinewidth": 0,
             "ticks": ""
            },
            "colorscale": [
             [
              0,
              "#0d0887"
             ],
             [
              0.1111111111111111,
              "#46039f"
             ],
             [
              0.2222222222222222,
              "#7201a8"
             ],
             [
              0.3333333333333333,
              "#9c179e"
             ],
             [
              0.4444444444444444,
              "#bd3786"
             ],
             [
              0.5555555555555556,
              "#d8576b"
             ],
             [
              0.6666666666666666,
              "#ed7953"
             ],
             [
              0.7777777777777778,
              "#fb9f3a"
             ],
             [
              0.8888888888888888,
              "#fdca26"
             ],
             [
              1,
              "#f0f921"
             ]
            ],
            "type": "histogram2d"
           }
          ],
          "histogram2dcontour": [
           {
            "colorbar": {
             "outlinewidth": 0,
             "ticks": ""
            },
            "colorscale": [
             [
              0,
              "#0d0887"
             ],
             [
              0.1111111111111111,
              "#46039f"
             ],
             [
              0.2222222222222222,
              "#7201a8"
             ],
             [
              0.3333333333333333,
              "#9c179e"
             ],
             [
              0.4444444444444444,
              "#bd3786"
             ],
             [
              0.5555555555555556,
              "#d8576b"
             ],
             [
              0.6666666666666666,
              "#ed7953"
             ],
             [
              0.7777777777777778,
              "#fb9f3a"
             ],
             [
              0.8888888888888888,
              "#fdca26"
             ],
             [
              1,
              "#f0f921"
             ]
            ],
            "type": "histogram2dcontour"
           }
          ],
          "mesh3d": [
           {
            "colorbar": {
             "outlinewidth": 0,
             "ticks": ""
            },
            "type": "mesh3d"
           }
          ],
          "parcoords": [
           {
            "line": {
             "colorbar": {
              "outlinewidth": 0,
              "ticks": ""
             }
            },
            "type": "parcoords"
           }
          ],
          "pie": [
           {
            "automargin": true,
            "type": "pie"
           }
          ],
          "scatter": [
           {
            "fillpattern": {
             "fillmode": "overlay",
             "size": 10,
             "solidity": 0.2
            },
            "type": "scatter"
           }
          ],
          "scatter3d": [
           {
            "line": {
             "colorbar": {
              "outlinewidth": 0,
              "ticks": ""
             }
            },
            "marker": {
             "colorbar": {
              "outlinewidth": 0,
              "ticks": ""
             }
            },
            "type": "scatter3d"
           }
          ],
          "scattercarpet": [
           {
            "marker": {
             "colorbar": {
              "outlinewidth": 0,
              "ticks": ""
             }
            },
            "type": "scattercarpet"
           }
          ],
          "scattergeo": [
           {
            "marker": {
             "colorbar": {
              "outlinewidth": 0,
              "ticks": ""
             }
            },
            "type": "scattergeo"
           }
          ],
          "scattergl": [
           {
            "marker": {
             "colorbar": {
              "outlinewidth": 0,
              "ticks": ""
             }
            },
            "type": "scattergl"
           }
          ],
          "scattermapbox": [
           {
            "marker": {
             "colorbar": {
              "outlinewidth": 0,
              "ticks": ""
             }
            },
            "type": "scattermapbox"
           }
          ],
          "scatterpolar": [
           {
            "marker": {
             "colorbar": {
              "outlinewidth": 0,
              "ticks": ""
             }
            },
            "type": "scatterpolar"
           }
          ],
          "scatterpolargl": [
           {
            "marker": {
             "colorbar": {
              "outlinewidth": 0,
              "ticks": ""
             }
            },
            "type": "scatterpolargl"
           }
          ],
          "scatterternary": [
           {
            "marker": {
             "colorbar": {
              "outlinewidth": 0,
              "ticks": ""
             }
            },
            "type": "scatterternary"
           }
          ],
          "surface": [
           {
            "colorbar": {
             "outlinewidth": 0,
             "ticks": ""
            },
            "colorscale": [
             [
              0,
              "#0d0887"
             ],
             [
              0.1111111111111111,
              "#46039f"
             ],
             [
              0.2222222222222222,
              "#7201a8"
             ],
             [
              0.3333333333333333,
              "#9c179e"
             ],
             [
              0.4444444444444444,
              "#bd3786"
             ],
             [
              0.5555555555555556,
              "#d8576b"
             ],
             [
              0.6666666666666666,
              "#ed7953"
             ],
             [
              0.7777777777777778,
              "#fb9f3a"
             ],
             [
              0.8888888888888888,
              "#fdca26"
             ],
             [
              1,
              "#f0f921"
             ]
            ],
            "type": "surface"
           }
          ],
          "table": [
           {
            "cells": {
             "fill": {
              "color": "#EBF0F8"
             },
             "line": {
              "color": "white"
             }
            },
            "header": {
             "fill": {
              "color": "#C8D4E3"
             },
             "line": {
              "color": "white"
             }
            },
            "type": "table"
           }
          ]
         },
         "layout": {
          "annotationdefaults": {
           "arrowcolor": "#2a3f5f",
           "arrowhead": 0,
           "arrowwidth": 1
          },
          "autotypenumbers": "strict",
          "coloraxis": {
           "colorbar": {
            "outlinewidth": 0,
            "ticks": ""
           }
          },
          "colorscale": {
           "diverging": [
            [
             0,
             "#8e0152"
            ],
            [
             0.1,
             "#c51b7d"
            ],
            [
             0.2,
             "#de77ae"
            ],
            [
             0.3,
             "#f1b6da"
            ],
            [
             0.4,
             "#fde0ef"
            ],
            [
             0.5,
             "#f7f7f7"
            ],
            [
             0.6,
             "#e6f5d0"
            ],
            [
             0.7,
             "#b8e186"
            ],
            [
             0.8,
             "#7fbc41"
            ],
            [
             0.9,
             "#4d9221"
            ],
            [
             1,
             "#276419"
            ]
           ],
           "sequential": [
            [
             0,
             "#0d0887"
            ],
            [
             0.1111111111111111,
             "#46039f"
            ],
            [
             0.2222222222222222,
             "#7201a8"
            ],
            [
             0.3333333333333333,
             "#9c179e"
            ],
            [
             0.4444444444444444,
             "#bd3786"
            ],
            [
             0.5555555555555556,
             "#d8576b"
            ],
            [
             0.6666666666666666,
             "#ed7953"
            ],
            [
             0.7777777777777778,
             "#fb9f3a"
            ],
            [
             0.8888888888888888,
             "#fdca26"
            ],
            [
             1,
             "#f0f921"
            ]
           ],
           "sequentialminus": [
            [
             0,
             "#0d0887"
            ],
            [
             0.1111111111111111,
             "#46039f"
            ],
            [
             0.2222222222222222,
             "#7201a8"
            ],
            [
             0.3333333333333333,
             "#9c179e"
            ],
            [
             0.4444444444444444,
             "#bd3786"
            ],
            [
             0.5555555555555556,
             "#d8576b"
            ],
            [
             0.6666666666666666,
             "#ed7953"
            ],
            [
             0.7777777777777778,
             "#fb9f3a"
            ],
            [
             0.8888888888888888,
             "#fdca26"
            ],
            [
             1,
             "#f0f921"
            ]
           ]
          },
          "colorway": [
           "#636efa",
           "#EF553B",
           "#00cc96",
           "#ab63fa",
           "#FFA15A",
           "#19d3f3",
           "#FF6692",
           "#B6E880",
           "#FF97FF",
           "#FECB52"
          ],
          "font": {
           "color": "#2a3f5f"
          },
          "geo": {
           "bgcolor": "white",
           "lakecolor": "white",
           "landcolor": "#E5ECF6",
           "showlakes": true,
           "showland": true,
           "subunitcolor": "white"
          },
          "hoverlabel": {
           "align": "left"
          },
          "hovermode": "closest",
          "mapbox": {
           "style": "light"
          },
          "paper_bgcolor": "white",
          "plot_bgcolor": "#E5ECF6",
          "polar": {
           "angularaxis": {
            "gridcolor": "white",
            "linecolor": "white",
            "ticks": ""
           },
           "bgcolor": "#E5ECF6",
           "radialaxis": {
            "gridcolor": "white",
            "linecolor": "white",
            "ticks": ""
           }
          },
          "scene": {
           "xaxis": {
            "backgroundcolor": "#E5ECF6",
            "gridcolor": "white",
            "gridwidth": 2,
            "linecolor": "white",
            "showbackground": true,
            "ticks": "",
            "zerolinecolor": "white"
           },
           "yaxis": {
            "backgroundcolor": "#E5ECF6",
            "gridcolor": "white",
            "gridwidth": 2,
            "linecolor": "white",
            "showbackground": true,
            "ticks": "",
            "zerolinecolor": "white"
           },
           "zaxis": {
            "backgroundcolor": "#E5ECF6",
            "gridcolor": "white",
            "gridwidth": 2,
            "linecolor": "white",
            "showbackground": true,
            "ticks": "",
            "zerolinecolor": "white"
           }
          },
          "shapedefaults": {
           "line": {
            "color": "#2a3f5f"
           }
          },
          "ternary": {
           "aaxis": {
            "gridcolor": "white",
            "linecolor": "white",
            "ticks": ""
           },
           "baxis": {
            "gridcolor": "white",
            "linecolor": "white",
            "ticks": ""
           },
           "bgcolor": "#E5ECF6",
           "caxis": {
            "gridcolor": "white",
            "linecolor": "white",
            "ticks": ""
           }
          },
          "title": {
           "x": 0.05
          },
          "xaxis": {
           "automargin": true,
           "gridcolor": "white",
           "linecolor": "white",
           "ticks": "",
           "title": {
            "standoff": 15
           },
           "zerolinecolor": "white",
           "zerolinewidth": 2
          },
          "yaxis": {
           "automargin": true,
           "gridcolor": "white",
           "linecolor": "white",
           "ticks": "",
           "title": {
            "standoff": 15
           },
           "zerolinecolor": "white",
           "zerolinewidth": 2
          }
         }
        },
        "title": {
         "text": "Scatterplot of DCG vs Ratio of Judgements"
        },
        "xaxis": {
         "anchor": "y",
         "autorange": true,
         "domain": [
          0,
          1
         ],
         "range": [
          -1.0997012377969413,
          19.273938590150323
         ],
         "title": {
          "text": "DCG"
         },
         "type": "linear"
        },
        "yaxis": {
         "anchor": "x",
         "autorange": true,
         "domain": [
          0,
          1
         ],
         "range": [
          -0.0774278215223097,
          1.0774278215223096
         ],
         "title": {
          "text": "Ratio of Judgements"
         },
         "type": "linear"
        }
       }
      },
      "image/png": "[encoded data removed]"
     },
     "metadata": {},
     "output_type": "display_data"
    }
   ],
   "source": [
    "pio.renderers.default = 'plotly_mimetype'\n",
    "fig = px.scatter(df_pivot, \n",
    "                 x='dcg', y='ratio_of_ratings', \n",
    "                 hover_data={'query': True},  # Show query on hover\n",
    "                 labels={'dcg': 'DCG', 'ratio_of_ratings': 'Ratio of Judgements'})\n",
    "\n",
    "# Customize the layout\n",
    "fig.update_layout(title=\"Scatterplot of DCG vs Ratio of Judgements\",\n",
    "                  xaxis_title=\"DCG\",\n",
    "                  yaxis_title=\"Ratio of Judgements\",\n",
    "                  hovermode=\"closest\")\n",
    "\n",
    "# Show the plot\n",
    "fig.show()"
   ]
  },
  {
   "cell_type": "code",
   "execution_count": null,
   "id": "0e00e0c2-2833-4a4f-a1ea-c61c1ab344b7",
   "metadata": {},
   "outputs": [],
   "source": []
  },
  {
   "cell_type": "code",
   "execution_count": null,
   "id": "08723b3b-52fb-48c8-98bb-53df33561d6e",
   "metadata": {},
   "outputs": [],
   "source": []
  }
 ],
 "metadata": {
  "kernelspec": {
   "display_name": "Python 3 (ipykernel)",
   "language": "python",
   "name": "python3"
  },
  "language_info": {
   "codemirror_mode": {
    "name": "ipython",
    "version": 3
   },
   "file_extension": ".py",
   "mimetype": "text/x-python",
   "name": "python",
   "nbconvert_exporter": "python",
   "pygments_lexer": "ipython3",
   "version": "3.12.6"
  }
 },
 "nbformat": 4,
 "nbformat_minor": 5
}
