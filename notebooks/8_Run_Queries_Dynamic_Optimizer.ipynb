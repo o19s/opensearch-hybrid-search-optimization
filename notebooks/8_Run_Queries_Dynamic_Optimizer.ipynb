{
 "cells": [
  {
   "cell_type": "markdown",
   "id": "08acbf26-14ed-4d40-a8d2-4854f1b3a6ef",
   "metadata": {},
   "source": [
    "# Calculate Search Metrics with Dynamic Optimizer\n",
    "\n",
    "This notebook loads the models that were built in the previous notebook and test how much the queries improve when using a pipeline with the predicted \"neuralness\" value.\n",
    "\n",
    "1. Get the models\n",
    "2. Get the queries\n",
    "3. Get the ratings file\n",
    "4. Get the predicted \"neuralness\" scores for each query from each model\n",
    "5. Run the queries (two runs per query; one per model)\n",
    "    1. Create the pipeline with the according \"neuralness\" and \"keywordness\" values\n",
    "    2. Run the query once per model type\n",
    "    3. Store the results\n",
    "7. Calculate search metrics\n",
    "8. Compare search metrics with the best metrics of the notebook that explored all hybrid search configurations "
   ]
  },
  {
   "cell_type": "code",
   "execution_count": 332,
   "id": "b8d7a9ff-f56f-45e4-af19-7b2b7fb8caee",
   "metadata": {},
   "outputs": [],
   "source": [
    "import pickle\n",
    "import pandas as pd\n",
    "import requests\n",
    "import json\n",
    "import uuid\n",
    "import numpy as np\n",
    "import plotly.express as px\n",
    "from tqdm.notebook import tqdm_notebook"
   ]
  },
  {
   "cell_type": "markdown",
   "id": "06cfc2a5-b95d-42c5-9087-b4199f093ecc",
   "metadata": {},
   "source": [
    "## Load models from the previous notebook"
   ]
  },
  {
   "cell_type": "code",
   "execution_count": 333,
   "id": "e3f05026-a160-4328-8f13-fd61d2edf7d3",
   "metadata": {},
   "outputs": [],
   "source": [
    "# load the two models\n",
    "with open('regression_model.pkl', 'rb') as fid:\n",
    "    regr = pickle.load(fid)\n",
    "\n",
    "with open('random_forest_model.pkl', 'rb') as fid:\n",
    "    random_forest = pickle.load(fid)"
   ]
  },
  {
   "cell_type": "code",
   "execution_count": 334,
   "id": "7dc3b741-1380-41e0-8caa-5db65dfdc029",
   "metadata": {},
   "outputs": [
    {
     "data": {
      "text/html": [
       "<style>#sk-container-id-16 {\n",
       "  /* Definition of color scheme common for light and dark mode */\n",
       "  --sklearn-color-text: black;\n",
       "  --sklearn-color-line: gray;\n",
       "  /* Definition of color scheme for unfitted estimators */\n",
       "  --sklearn-color-unfitted-level-0: #fff5e6;\n",
       "  --sklearn-color-unfitted-level-1: #f6e4d2;\n",
       "  --sklearn-color-unfitted-level-2: #ffe0b3;\n",
       "  --sklearn-color-unfitted-level-3: chocolate;\n",
       "  /* Definition of color scheme for fitted estimators */\n",
       "  --sklearn-color-fitted-level-0: #f0f8ff;\n",
       "  --sklearn-color-fitted-level-1: #d4ebff;\n",
       "  --sklearn-color-fitted-level-2: #b3dbfd;\n",
       "  --sklearn-color-fitted-level-3: cornflowerblue;\n",
       "\n",
       "  /* Specific color for light theme */\n",
       "  --sklearn-color-text-on-default-background: var(--sg-text-color, var(--theme-code-foreground, var(--jp-content-font-color1, black)));\n",
       "  --sklearn-color-background: var(--sg-background-color, var(--theme-background, var(--jp-layout-color0, white)));\n",
       "  --sklearn-color-border-box: var(--sg-text-color, var(--theme-code-foreground, var(--jp-content-font-color1, black)));\n",
       "  --sklearn-color-icon: #696969;\n",
       "\n",
       "  @media (prefers-color-scheme: dark) {\n",
       "    /* Redefinition of color scheme for dark theme */\n",
       "    --sklearn-color-text-on-default-background: var(--sg-text-color, var(--theme-code-foreground, var(--jp-content-font-color1, white)));\n",
       "    --sklearn-color-background: var(--sg-background-color, var(--theme-background, var(--jp-layout-color0, #111)));\n",
       "    --sklearn-color-border-box: var(--sg-text-color, var(--theme-code-foreground, var(--jp-content-font-color1, white)));\n",
       "    --sklearn-color-icon: #878787;\n",
       "  }\n",
       "}\n",
       "\n",
       "#sk-container-id-16 {\n",
       "  color: var(--sklearn-color-text);\n",
       "}\n",
       "\n",
       "#sk-container-id-16 pre {\n",
       "  padding: 0;\n",
       "}\n",
       "\n",
       "#sk-container-id-16 input.sk-hidden--visually {\n",
       "  border: 0;\n",
       "  clip: rect(1px 1px 1px 1px);\n",
       "  clip: rect(1px, 1px, 1px, 1px);\n",
       "  height: 1px;\n",
       "  margin: -1px;\n",
       "  overflow: hidden;\n",
       "  padding: 0;\n",
       "  position: absolute;\n",
       "  width: 1px;\n",
       "}\n",
       "\n",
       "#sk-container-id-16 div.sk-dashed-wrapped {\n",
       "  border: 1px dashed var(--sklearn-color-line);\n",
       "  margin: 0 0.4em 0.5em 0.4em;\n",
       "  box-sizing: border-box;\n",
       "  padding-bottom: 0.4em;\n",
       "  background-color: var(--sklearn-color-background);\n",
       "}\n",
       "\n",
       "#sk-container-id-16 div.sk-container {\n",
       "  /* jupyter's `normalize.less` sets `[hidden] { display: none; }`\n",
       "     but bootstrap.min.css set `[hidden] { display: none !important; }`\n",
       "     so we also need the `!important` here to be able to override the\n",
       "     default hidden behavior on the sphinx rendered scikit-learn.org.\n",
       "     See: https://github.com/scikit-learn/scikit-learn/issues/21755 */\n",
       "  display: inline-block !important;\n",
       "  position: relative;\n",
       "}\n",
       "\n",
       "#sk-container-id-16 div.sk-text-repr-fallback {\n",
       "  display: none;\n",
       "}\n",
       "\n",
       "div.sk-parallel-item,\n",
       "div.sk-serial,\n",
       "div.sk-item {\n",
       "  /* draw centered vertical line to link estimators */\n",
       "  background-image: linear-gradient(var(--sklearn-color-text-on-default-background), var(--sklearn-color-text-on-default-background));\n",
       "  background-size: 2px 100%;\n",
       "  background-repeat: no-repeat;\n",
       "  background-position: center center;\n",
       "}\n",
       "\n",
       "/* Parallel-specific style estimator block */\n",
       "\n",
       "#sk-container-id-16 div.sk-parallel-item::after {\n",
       "  content: \"\";\n",
       "  width: 100%;\n",
       "  border-bottom: 2px solid var(--sklearn-color-text-on-default-background);\n",
       "  flex-grow: 1;\n",
       "}\n",
       "\n",
       "#sk-container-id-16 div.sk-parallel {\n",
       "  display: flex;\n",
       "  align-items: stretch;\n",
       "  justify-content: center;\n",
       "  background-color: var(--sklearn-color-background);\n",
       "  position: relative;\n",
       "}\n",
       "\n",
       "#sk-container-id-16 div.sk-parallel-item {\n",
       "  display: flex;\n",
       "  flex-direction: column;\n",
       "}\n",
       "\n",
       "#sk-container-id-16 div.sk-parallel-item:first-child::after {\n",
       "  align-self: flex-end;\n",
       "  width: 50%;\n",
       "}\n",
       "\n",
       "#sk-container-id-16 div.sk-parallel-item:last-child::after {\n",
       "  align-self: flex-start;\n",
       "  width: 50%;\n",
       "}\n",
       "\n",
       "#sk-container-id-16 div.sk-parallel-item:only-child::after {\n",
       "  width: 0;\n",
       "}\n",
       "\n",
       "/* Serial-specific style estimator block */\n",
       "\n",
       "#sk-container-id-16 div.sk-serial {\n",
       "  display: flex;\n",
       "  flex-direction: column;\n",
       "  align-items: center;\n",
       "  background-color: var(--sklearn-color-background);\n",
       "  padding-right: 1em;\n",
       "  padding-left: 1em;\n",
       "}\n",
       "\n",
       "\n",
       "/* Toggleable style: style used for estimator/Pipeline/ColumnTransformer box that is\n",
       "clickable and can be expanded/collapsed.\n",
       "- Pipeline and ColumnTransformer use this feature and define the default style\n",
       "- Estimators will overwrite some part of the style using the `sk-estimator` class\n",
       "*/\n",
       "\n",
       "/* Pipeline and ColumnTransformer style (default) */\n",
       "\n",
       "#sk-container-id-16 div.sk-toggleable {\n",
       "  /* Default theme specific background. It is overwritten whether we have a\n",
       "  specific estimator or a Pipeline/ColumnTransformer */\n",
       "  background-color: var(--sklearn-color-background);\n",
       "}\n",
       "\n",
       "/* Toggleable label */\n",
       "#sk-container-id-16 label.sk-toggleable__label {\n",
       "  cursor: pointer;\n",
       "  display: block;\n",
       "  width: 100%;\n",
       "  margin-bottom: 0;\n",
       "  padding: 0.5em;\n",
       "  box-sizing: border-box;\n",
       "  text-align: center;\n",
       "}\n",
       "\n",
       "#sk-container-id-16 label.sk-toggleable__label-arrow:before {\n",
       "  /* Arrow on the left of the label */\n",
       "  content: \"▸\";\n",
       "  float: left;\n",
       "  margin-right: 0.25em;\n",
       "  color: var(--sklearn-color-icon);\n",
       "}\n",
       "\n",
       "#sk-container-id-16 label.sk-toggleable__label-arrow:hover:before {\n",
       "  color: var(--sklearn-color-text);\n",
       "}\n",
       "\n",
       "/* Toggleable content - dropdown */\n",
       "\n",
       "#sk-container-id-16 div.sk-toggleable__content {\n",
       "  max-height: 0;\n",
       "  max-width: 0;\n",
       "  overflow: hidden;\n",
       "  text-align: left;\n",
       "  /* unfitted */\n",
       "  background-color: var(--sklearn-color-unfitted-level-0);\n",
       "}\n",
       "\n",
       "#sk-container-id-16 div.sk-toggleable__content.fitted {\n",
       "  /* fitted */\n",
       "  background-color: var(--sklearn-color-fitted-level-0);\n",
       "}\n",
       "\n",
       "#sk-container-id-16 div.sk-toggleable__content pre {\n",
       "  margin: 0.2em;\n",
       "  border-radius: 0.25em;\n",
       "  color: var(--sklearn-color-text);\n",
       "  /* unfitted */\n",
       "  background-color: var(--sklearn-color-unfitted-level-0);\n",
       "}\n",
       "\n",
       "#sk-container-id-16 div.sk-toggleable__content.fitted pre {\n",
       "  /* unfitted */\n",
       "  background-color: var(--sklearn-color-fitted-level-0);\n",
       "}\n",
       "\n",
       "#sk-container-id-16 input.sk-toggleable__control:checked~div.sk-toggleable__content {\n",
       "  /* Expand drop-down */\n",
       "  max-height: 200px;\n",
       "  max-width: 100%;\n",
       "  overflow: auto;\n",
       "}\n",
       "\n",
       "#sk-container-id-16 input.sk-toggleable__control:checked~label.sk-toggleable__label-arrow:before {\n",
       "  content: \"▾\";\n",
       "}\n",
       "\n",
       "/* Pipeline/ColumnTransformer-specific style */\n",
       "\n",
       "#sk-container-id-16 div.sk-label input.sk-toggleable__control:checked~label.sk-toggleable__label {\n",
       "  color: var(--sklearn-color-text);\n",
       "  background-color: var(--sklearn-color-unfitted-level-2);\n",
       "}\n",
       "\n",
       "#sk-container-id-16 div.sk-label.fitted input.sk-toggleable__control:checked~label.sk-toggleable__label {\n",
       "  background-color: var(--sklearn-color-fitted-level-2);\n",
       "}\n",
       "\n",
       "/* Estimator-specific style */\n",
       "\n",
       "/* Colorize estimator box */\n",
       "#sk-container-id-16 div.sk-estimator input.sk-toggleable__control:checked~label.sk-toggleable__label {\n",
       "  /* unfitted */\n",
       "  background-color: var(--sklearn-color-unfitted-level-2);\n",
       "}\n",
       "\n",
       "#sk-container-id-16 div.sk-estimator.fitted input.sk-toggleable__control:checked~label.sk-toggleable__label {\n",
       "  /* fitted */\n",
       "  background-color: var(--sklearn-color-fitted-level-2);\n",
       "}\n",
       "\n",
       "#sk-container-id-16 div.sk-label label.sk-toggleable__label,\n",
       "#sk-container-id-16 div.sk-label label {\n",
       "  /* The background is the default theme color */\n",
       "  color: var(--sklearn-color-text-on-default-background);\n",
       "}\n",
       "\n",
       "/* On hover, darken the color of the background */\n",
       "#sk-container-id-16 div.sk-label:hover label.sk-toggleable__label {\n",
       "  color: var(--sklearn-color-text);\n",
       "  background-color: var(--sklearn-color-unfitted-level-2);\n",
       "}\n",
       "\n",
       "/* Label box, darken color on hover, fitted */\n",
       "#sk-container-id-16 div.sk-label.fitted:hover label.sk-toggleable__label.fitted {\n",
       "  color: var(--sklearn-color-text);\n",
       "  background-color: var(--sklearn-color-fitted-level-2);\n",
       "}\n",
       "\n",
       "/* Estimator label */\n",
       "\n",
       "#sk-container-id-16 div.sk-label label {\n",
       "  font-family: monospace;\n",
       "  font-weight: bold;\n",
       "  display: inline-block;\n",
       "  line-height: 1.2em;\n",
       "}\n",
       "\n",
       "#sk-container-id-16 div.sk-label-container {\n",
       "  text-align: center;\n",
       "}\n",
       "\n",
       "/* Estimator-specific */\n",
       "#sk-container-id-16 div.sk-estimator {\n",
       "  font-family: monospace;\n",
       "  border: 1px dotted var(--sklearn-color-border-box);\n",
       "  border-radius: 0.25em;\n",
       "  box-sizing: border-box;\n",
       "  margin-bottom: 0.5em;\n",
       "  /* unfitted */\n",
       "  background-color: var(--sklearn-color-unfitted-level-0);\n",
       "}\n",
       "\n",
       "#sk-container-id-16 div.sk-estimator.fitted {\n",
       "  /* fitted */\n",
       "  background-color: var(--sklearn-color-fitted-level-0);\n",
       "}\n",
       "\n",
       "/* on hover */\n",
       "#sk-container-id-16 div.sk-estimator:hover {\n",
       "  /* unfitted */\n",
       "  background-color: var(--sklearn-color-unfitted-level-2);\n",
       "}\n",
       "\n",
       "#sk-container-id-16 div.sk-estimator.fitted:hover {\n",
       "  /* fitted */\n",
       "  background-color: var(--sklearn-color-fitted-level-2);\n",
       "}\n",
       "\n",
       "/* Specification for estimator info (e.g. \"i\" and \"?\") */\n",
       "\n",
       "/* Common style for \"i\" and \"?\" */\n",
       "\n",
       ".sk-estimator-doc-link,\n",
       "a:link.sk-estimator-doc-link,\n",
       "a:visited.sk-estimator-doc-link {\n",
       "  float: right;\n",
       "  font-size: smaller;\n",
       "  line-height: 1em;\n",
       "  font-family: monospace;\n",
       "  background-color: var(--sklearn-color-background);\n",
       "  border-radius: 1em;\n",
       "  height: 1em;\n",
       "  width: 1em;\n",
       "  text-decoration: none !important;\n",
       "  margin-left: 1ex;\n",
       "  /* unfitted */\n",
       "  border: var(--sklearn-color-unfitted-level-1) 1pt solid;\n",
       "  color: var(--sklearn-color-unfitted-level-1);\n",
       "}\n",
       "\n",
       ".sk-estimator-doc-link.fitted,\n",
       "a:link.sk-estimator-doc-link.fitted,\n",
       "a:visited.sk-estimator-doc-link.fitted {\n",
       "  /* fitted */\n",
       "  border: var(--sklearn-color-fitted-level-1) 1pt solid;\n",
       "  color: var(--sklearn-color-fitted-level-1);\n",
       "}\n",
       "\n",
       "/* On hover */\n",
       "div.sk-estimator:hover .sk-estimator-doc-link:hover,\n",
       ".sk-estimator-doc-link:hover,\n",
       "div.sk-label-container:hover .sk-estimator-doc-link:hover,\n",
       ".sk-estimator-doc-link:hover {\n",
       "  /* unfitted */\n",
       "  background-color: var(--sklearn-color-unfitted-level-3);\n",
       "  color: var(--sklearn-color-background);\n",
       "  text-decoration: none;\n",
       "}\n",
       "\n",
       "div.sk-estimator.fitted:hover .sk-estimator-doc-link.fitted:hover,\n",
       ".sk-estimator-doc-link.fitted:hover,\n",
       "div.sk-label-container:hover .sk-estimator-doc-link.fitted:hover,\n",
       ".sk-estimator-doc-link.fitted:hover {\n",
       "  /* fitted */\n",
       "  background-color: var(--sklearn-color-fitted-level-3);\n",
       "  color: var(--sklearn-color-background);\n",
       "  text-decoration: none;\n",
       "}\n",
       "\n",
       "/* Span, style for the box shown on hovering the info icon */\n",
       ".sk-estimator-doc-link span {\n",
       "  display: none;\n",
       "  z-index: 9999;\n",
       "  position: relative;\n",
       "  font-weight: normal;\n",
       "  right: .2ex;\n",
       "  padding: .5ex;\n",
       "  margin: .5ex;\n",
       "  width: min-content;\n",
       "  min-width: 20ex;\n",
       "  max-width: 50ex;\n",
       "  color: var(--sklearn-color-text);\n",
       "  box-shadow: 2pt 2pt 4pt #999;\n",
       "  /* unfitted */\n",
       "  background: var(--sklearn-color-unfitted-level-0);\n",
       "  border: .5pt solid var(--sklearn-color-unfitted-level-3);\n",
       "}\n",
       "\n",
       ".sk-estimator-doc-link.fitted span {\n",
       "  /* fitted */\n",
       "  background: var(--sklearn-color-fitted-level-0);\n",
       "  border: var(--sklearn-color-fitted-level-3);\n",
       "}\n",
       "\n",
       ".sk-estimator-doc-link:hover span {\n",
       "  display: block;\n",
       "}\n",
       "\n",
       "/* \"?\"-specific style due to the `<a>` HTML tag */\n",
       "\n",
       "#sk-container-id-16 a.estimator_doc_link {\n",
       "  float: right;\n",
       "  font-size: 1rem;\n",
       "  line-height: 1em;\n",
       "  font-family: monospace;\n",
       "  background-color: var(--sklearn-color-background);\n",
       "  border-radius: 1rem;\n",
       "  height: 1rem;\n",
       "  width: 1rem;\n",
       "  text-decoration: none;\n",
       "  /* unfitted */\n",
       "  color: var(--sklearn-color-unfitted-level-1);\n",
       "  border: var(--sklearn-color-unfitted-level-1) 1pt solid;\n",
       "}\n",
       "\n",
       "#sk-container-id-16 a.estimator_doc_link.fitted {\n",
       "  /* fitted */\n",
       "  border: var(--sklearn-color-fitted-level-1) 1pt solid;\n",
       "  color: var(--sklearn-color-fitted-level-1);\n",
       "}\n",
       "\n",
       "/* On hover */\n",
       "#sk-container-id-16 a.estimator_doc_link:hover {\n",
       "  /* unfitted */\n",
       "  background-color: var(--sklearn-color-unfitted-level-3);\n",
       "  color: var(--sklearn-color-background);\n",
       "  text-decoration: none;\n",
       "}\n",
       "\n",
       "#sk-container-id-16 a.estimator_doc_link.fitted:hover {\n",
       "  /* fitted */\n",
       "  background-color: var(--sklearn-color-fitted-level-3);\n",
       "}\n",
       "</style><div id=\"sk-container-id-16\" class=\"sk-top-container\"><div class=\"sk-text-repr-fallback\"><pre>Ridge(alpha=10.0)</pre><b>In a Jupyter environment, please rerun this cell to show the HTML representation or trust the notebook. <br />On GitHub, the HTML representation is unable to render, please try loading this page with nbviewer.org.</b></div><div class=\"sk-container\" hidden><div class=\"sk-item\"><div class=\"sk-estimator fitted sk-toggleable\"><input class=\"sk-toggleable__control sk-hidden--visually\" id=\"sk-estimator-id-16\" type=\"checkbox\" checked><label for=\"sk-estimator-id-16\" class=\"sk-toggleable__label fitted sk-toggleable__label-arrow fitted\">&nbsp;&nbsp;Ridge<a class=\"sk-estimator-doc-link fitted\" rel=\"noreferrer\" target=\"_blank\" href=\"https://scikit-learn.org/1.5/modules/generated/sklearn.linear_model.Ridge.html\">?<span>Documentation for Ridge</span></a><span class=\"sk-estimator-doc-link fitted\">i<span>Fitted</span></span></label><div class=\"sk-toggleable__content fitted\"><pre>Ridge(alpha=10.0)</pre></div> </div></div></div></div>"
      ],
      "text/plain": [
       "Ridge(alpha=10.0)"
      ]
     },
     "execution_count": 334,
     "metadata": {},
     "output_type": "execute_result"
    }
   ],
   "source": [
    "regr"
   ]
  },
  {
   "cell_type": "code",
   "execution_count": 335,
   "id": "e60926d6-323e-485c-aa2f-219e8e842b73",
   "metadata": {},
   "outputs": [
    {
     "data": {
      "text/html": [
       "<style>#sk-container-id-17 {\n",
       "  /* Definition of color scheme common for light and dark mode */\n",
       "  --sklearn-color-text: black;\n",
       "  --sklearn-color-line: gray;\n",
       "  /* Definition of color scheme for unfitted estimators */\n",
       "  --sklearn-color-unfitted-level-0: #fff5e6;\n",
       "  --sklearn-color-unfitted-level-1: #f6e4d2;\n",
       "  --sklearn-color-unfitted-level-2: #ffe0b3;\n",
       "  --sklearn-color-unfitted-level-3: chocolate;\n",
       "  /* Definition of color scheme for fitted estimators */\n",
       "  --sklearn-color-fitted-level-0: #f0f8ff;\n",
       "  --sklearn-color-fitted-level-1: #d4ebff;\n",
       "  --sklearn-color-fitted-level-2: #b3dbfd;\n",
       "  --sklearn-color-fitted-level-3: cornflowerblue;\n",
       "\n",
       "  /* Specific color for light theme */\n",
       "  --sklearn-color-text-on-default-background: var(--sg-text-color, var(--theme-code-foreground, var(--jp-content-font-color1, black)));\n",
       "  --sklearn-color-background: var(--sg-background-color, var(--theme-background, var(--jp-layout-color0, white)));\n",
       "  --sklearn-color-border-box: var(--sg-text-color, var(--theme-code-foreground, var(--jp-content-font-color1, black)));\n",
       "  --sklearn-color-icon: #696969;\n",
       "\n",
       "  @media (prefers-color-scheme: dark) {\n",
       "    /* Redefinition of color scheme for dark theme */\n",
       "    --sklearn-color-text-on-default-background: var(--sg-text-color, var(--theme-code-foreground, var(--jp-content-font-color1, white)));\n",
       "    --sklearn-color-background: var(--sg-background-color, var(--theme-background, var(--jp-layout-color0, #111)));\n",
       "    --sklearn-color-border-box: var(--sg-text-color, var(--theme-code-foreground, var(--jp-content-font-color1, white)));\n",
       "    --sklearn-color-icon: #878787;\n",
       "  }\n",
       "}\n",
       "\n",
       "#sk-container-id-17 {\n",
       "  color: var(--sklearn-color-text);\n",
       "}\n",
       "\n",
       "#sk-container-id-17 pre {\n",
       "  padding: 0;\n",
       "}\n",
       "\n",
       "#sk-container-id-17 input.sk-hidden--visually {\n",
       "  border: 0;\n",
       "  clip: rect(1px 1px 1px 1px);\n",
       "  clip: rect(1px, 1px, 1px, 1px);\n",
       "  height: 1px;\n",
       "  margin: -1px;\n",
       "  overflow: hidden;\n",
       "  padding: 0;\n",
       "  position: absolute;\n",
       "  width: 1px;\n",
       "}\n",
       "\n",
       "#sk-container-id-17 div.sk-dashed-wrapped {\n",
       "  border: 1px dashed var(--sklearn-color-line);\n",
       "  margin: 0 0.4em 0.5em 0.4em;\n",
       "  box-sizing: border-box;\n",
       "  padding-bottom: 0.4em;\n",
       "  background-color: var(--sklearn-color-background);\n",
       "}\n",
       "\n",
       "#sk-container-id-17 div.sk-container {\n",
       "  /* jupyter's `normalize.less` sets `[hidden] { display: none; }`\n",
       "     but bootstrap.min.css set `[hidden] { display: none !important; }`\n",
       "     so we also need the `!important` here to be able to override the\n",
       "     default hidden behavior on the sphinx rendered scikit-learn.org.\n",
       "     See: https://github.com/scikit-learn/scikit-learn/issues/21755 */\n",
       "  display: inline-block !important;\n",
       "  position: relative;\n",
       "}\n",
       "\n",
       "#sk-container-id-17 div.sk-text-repr-fallback {\n",
       "  display: none;\n",
       "}\n",
       "\n",
       "div.sk-parallel-item,\n",
       "div.sk-serial,\n",
       "div.sk-item {\n",
       "  /* draw centered vertical line to link estimators */\n",
       "  background-image: linear-gradient(var(--sklearn-color-text-on-default-background), var(--sklearn-color-text-on-default-background));\n",
       "  background-size: 2px 100%;\n",
       "  background-repeat: no-repeat;\n",
       "  background-position: center center;\n",
       "}\n",
       "\n",
       "/* Parallel-specific style estimator block */\n",
       "\n",
       "#sk-container-id-17 div.sk-parallel-item::after {\n",
       "  content: \"\";\n",
       "  width: 100%;\n",
       "  border-bottom: 2px solid var(--sklearn-color-text-on-default-background);\n",
       "  flex-grow: 1;\n",
       "}\n",
       "\n",
       "#sk-container-id-17 div.sk-parallel {\n",
       "  display: flex;\n",
       "  align-items: stretch;\n",
       "  justify-content: center;\n",
       "  background-color: var(--sklearn-color-background);\n",
       "  position: relative;\n",
       "}\n",
       "\n",
       "#sk-container-id-17 div.sk-parallel-item {\n",
       "  display: flex;\n",
       "  flex-direction: column;\n",
       "}\n",
       "\n",
       "#sk-container-id-17 div.sk-parallel-item:first-child::after {\n",
       "  align-self: flex-end;\n",
       "  width: 50%;\n",
       "}\n",
       "\n",
       "#sk-container-id-17 div.sk-parallel-item:last-child::after {\n",
       "  align-self: flex-start;\n",
       "  width: 50%;\n",
       "}\n",
       "\n",
       "#sk-container-id-17 div.sk-parallel-item:only-child::after {\n",
       "  width: 0;\n",
       "}\n",
       "\n",
       "/* Serial-specific style estimator block */\n",
       "\n",
       "#sk-container-id-17 div.sk-serial {\n",
       "  display: flex;\n",
       "  flex-direction: column;\n",
       "  align-items: center;\n",
       "  background-color: var(--sklearn-color-background);\n",
       "  padding-right: 1em;\n",
       "  padding-left: 1em;\n",
       "}\n",
       "\n",
       "\n",
       "/* Toggleable style: style used for estimator/Pipeline/ColumnTransformer box that is\n",
       "clickable and can be expanded/collapsed.\n",
       "- Pipeline and ColumnTransformer use this feature and define the default style\n",
       "- Estimators will overwrite some part of the style using the `sk-estimator` class\n",
       "*/\n",
       "\n",
       "/* Pipeline and ColumnTransformer style (default) */\n",
       "\n",
       "#sk-container-id-17 div.sk-toggleable {\n",
       "  /* Default theme specific background. It is overwritten whether we have a\n",
       "  specific estimator or a Pipeline/ColumnTransformer */\n",
       "  background-color: var(--sklearn-color-background);\n",
       "}\n",
       "\n",
       "/* Toggleable label */\n",
       "#sk-container-id-17 label.sk-toggleable__label {\n",
       "  cursor: pointer;\n",
       "  display: block;\n",
       "  width: 100%;\n",
       "  margin-bottom: 0;\n",
       "  padding: 0.5em;\n",
       "  box-sizing: border-box;\n",
       "  text-align: center;\n",
       "}\n",
       "\n",
       "#sk-container-id-17 label.sk-toggleable__label-arrow:before {\n",
       "  /* Arrow on the left of the label */\n",
       "  content: \"▸\";\n",
       "  float: left;\n",
       "  margin-right: 0.25em;\n",
       "  color: var(--sklearn-color-icon);\n",
       "}\n",
       "\n",
       "#sk-container-id-17 label.sk-toggleable__label-arrow:hover:before {\n",
       "  color: var(--sklearn-color-text);\n",
       "}\n",
       "\n",
       "/* Toggleable content - dropdown */\n",
       "\n",
       "#sk-container-id-17 div.sk-toggleable__content {\n",
       "  max-height: 0;\n",
       "  max-width: 0;\n",
       "  overflow: hidden;\n",
       "  text-align: left;\n",
       "  /* unfitted */\n",
       "  background-color: var(--sklearn-color-unfitted-level-0);\n",
       "}\n",
       "\n",
       "#sk-container-id-17 div.sk-toggleable__content.fitted {\n",
       "  /* fitted */\n",
       "  background-color: var(--sklearn-color-fitted-level-0);\n",
       "}\n",
       "\n",
       "#sk-container-id-17 div.sk-toggleable__content pre {\n",
       "  margin: 0.2em;\n",
       "  border-radius: 0.25em;\n",
       "  color: var(--sklearn-color-text);\n",
       "  /* unfitted */\n",
       "  background-color: var(--sklearn-color-unfitted-level-0);\n",
       "}\n",
       "\n",
       "#sk-container-id-17 div.sk-toggleable__content.fitted pre {\n",
       "  /* unfitted */\n",
       "  background-color: var(--sklearn-color-fitted-level-0);\n",
       "}\n",
       "\n",
       "#sk-container-id-17 input.sk-toggleable__control:checked~div.sk-toggleable__content {\n",
       "  /* Expand drop-down */\n",
       "  max-height: 200px;\n",
       "  max-width: 100%;\n",
       "  overflow: auto;\n",
       "}\n",
       "\n",
       "#sk-container-id-17 input.sk-toggleable__control:checked~label.sk-toggleable__label-arrow:before {\n",
       "  content: \"▾\";\n",
       "}\n",
       "\n",
       "/* Pipeline/ColumnTransformer-specific style */\n",
       "\n",
       "#sk-container-id-17 div.sk-label input.sk-toggleable__control:checked~label.sk-toggleable__label {\n",
       "  color: var(--sklearn-color-text);\n",
       "  background-color: var(--sklearn-color-unfitted-level-2);\n",
       "}\n",
       "\n",
       "#sk-container-id-17 div.sk-label.fitted input.sk-toggleable__control:checked~label.sk-toggleable__label {\n",
       "  background-color: var(--sklearn-color-fitted-level-2);\n",
       "}\n",
       "\n",
       "/* Estimator-specific style */\n",
       "\n",
       "/* Colorize estimator box */\n",
       "#sk-container-id-17 div.sk-estimator input.sk-toggleable__control:checked~label.sk-toggleable__label {\n",
       "  /* unfitted */\n",
       "  background-color: var(--sklearn-color-unfitted-level-2);\n",
       "}\n",
       "\n",
       "#sk-container-id-17 div.sk-estimator.fitted input.sk-toggleable__control:checked~label.sk-toggleable__label {\n",
       "  /* fitted */\n",
       "  background-color: var(--sklearn-color-fitted-level-2);\n",
       "}\n",
       "\n",
       "#sk-container-id-17 div.sk-label label.sk-toggleable__label,\n",
       "#sk-container-id-17 div.sk-label label {\n",
       "  /* The background is the default theme color */\n",
       "  color: var(--sklearn-color-text-on-default-background);\n",
       "}\n",
       "\n",
       "/* On hover, darken the color of the background */\n",
       "#sk-container-id-17 div.sk-label:hover label.sk-toggleable__label {\n",
       "  color: var(--sklearn-color-text);\n",
       "  background-color: var(--sklearn-color-unfitted-level-2);\n",
       "}\n",
       "\n",
       "/* Label box, darken color on hover, fitted */\n",
       "#sk-container-id-17 div.sk-label.fitted:hover label.sk-toggleable__label.fitted {\n",
       "  color: var(--sklearn-color-text);\n",
       "  background-color: var(--sklearn-color-fitted-level-2);\n",
       "}\n",
       "\n",
       "/* Estimator label */\n",
       "\n",
       "#sk-container-id-17 div.sk-label label {\n",
       "  font-family: monospace;\n",
       "  font-weight: bold;\n",
       "  display: inline-block;\n",
       "  line-height: 1.2em;\n",
       "}\n",
       "\n",
       "#sk-container-id-17 div.sk-label-container {\n",
       "  text-align: center;\n",
       "}\n",
       "\n",
       "/* Estimator-specific */\n",
       "#sk-container-id-17 div.sk-estimator {\n",
       "  font-family: monospace;\n",
       "  border: 1px dotted var(--sklearn-color-border-box);\n",
       "  border-radius: 0.25em;\n",
       "  box-sizing: border-box;\n",
       "  margin-bottom: 0.5em;\n",
       "  /* unfitted */\n",
       "  background-color: var(--sklearn-color-unfitted-level-0);\n",
       "}\n",
       "\n",
       "#sk-container-id-17 div.sk-estimator.fitted {\n",
       "  /* fitted */\n",
       "  background-color: var(--sklearn-color-fitted-level-0);\n",
       "}\n",
       "\n",
       "/* on hover */\n",
       "#sk-container-id-17 div.sk-estimator:hover {\n",
       "  /* unfitted */\n",
       "  background-color: var(--sklearn-color-unfitted-level-2);\n",
       "}\n",
       "\n",
       "#sk-container-id-17 div.sk-estimator.fitted:hover {\n",
       "  /* fitted */\n",
       "  background-color: var(--sklearn-color-fitted-level-2);\n",
       "}\n",
       "\n",
       "/* Specification for estimator info (e.g. \"i\" and \"?\") */\n",
       "\n",
       "/* Common style for \"i\" and \"?\" */\n",
       "\n",
       ".sk-estimator-doc-link,\n",
       "a:link.sk-estimator-doc-link,\n",
       "a:visited.sk-estimator-doc-link {\n",
       "  float: right;\n",
       "  font-size: smaller;\n",
       "  line-height: 1em;\n",
       "  font-family: monospace;\n",
       "  background-color: var(--sklearn-color-background);\n",
       "  border-radius: 1em;\n",
       "  height: 1em;\n",
       "  width: 1em;\n",
       "  text-decoration: none !important;\n",
       "  margin-left: 1ex;\n",
       "  /* unfitted */\n",
       "  border: var(--sklearn-color-unfitted-level-1) 1pt solid;\n",
       "  color: var(--sklearn-color-unfitted-level-1);\n",
       "}\n",
       "\n",
       ".sk-estimator-doc-link.fitted,\n",
       "a:link.sk-estimator-doc-link.fitted,\n",
       "a:visited.sk-estimator-doc-link.fitted {\n",
       "  /* fitted */\n",
       "  border: var(--sklearn-color-fitted-level-1) 1pt solid;\n",
       "  color: var(--sklearn-color-fitted-level-1);\n",
       "}\n",
       "\n",
       "/* On hover */\n",
       "div.sk-estimator:hover .sk-estimator-doc-link:hover,\n",
       ".sk-estimator-doc-link:hover,\n",
       "div.sk-label-container:hover .sk-estimator-doc-link:hover,\n",
       ".sk-estimator-doc-link:hover {\n",
       "  /* unfitted */\n",
       "  background-color: var(--sklearn-color-unfitted-level-3);\n",
       "  color: var(--sklearn-color-background);\n",
       "  text-decoration: none;\n",
       "}\n",
       "\n",
       "div.sk-estimator.fitted:hover .sk-estimator-doc-link.fitted:hover,\n",
       ".sk-estimator-doc-link.fitted:hover,\n",
       "div.sk-label-container:hover .sk-estimator-doc-link.fitted:hover,\n",
       ".sk-estimator-doc-link.fitted:hover {\n",
       "  /* fitted */\n",
       "  background-color: var(--sklearn-color-fitted-level-3);\n",
       "  color: var(--sklearn-color-background);\n",
       "  text-decoration: none;\n",
       "}\n",
       "\n",
       "/* Span, style for the box shown on hovering the info icon */\n",
       ".sk-estimator-doc-link span {\n",
       "  display: none;\n",
       "  z-index: 9999;\n",
       "  position: relative;\n",
       "  font-weight: normal;\n",
       "  right: .2ex;\n",
       "  padding: .5ex;\n",
       "  margin: .5ex;\n",
       "  width: min-content;\n",
       "  min-width: 20ex;\n",
       "  max-width: 50ex;\n",
       "  color: var(--sklearn-color-text);\n",
       "  box-shadow: 2pt 2pt 4pt #999;\n",
       "  /* unfitted */\n",
       "  background: var(--sklearn-color-unfitted-level-0);\n",
       "  border: .5pt solid var(--sklearn-color-unfitted-level-3);\n",
       "}\n",
       "\n",
       ".sk-estimator-doc-link.fitted span {\n",
       "  /* fitted */\n",
       "  background: var(--sklearn-color-fitted-level-0);\n",
       "  border: var(--sklearn-color-fitted-level-3);\n",
       "}\n",
       "\n",
       ".sk-estimator-doc-link:hover span {\n",
       "  display: block;\n",
       "}\n",
       "\n",
       "/* \"?\"-specific style due to the `<a>` HTML tag */\n",
       "\n",
       "#sk-container-id-17 a.estimator_doc_link {\n",
       "  float: right;\n",
       "  font-size: 1rem;\n",
       "  line-height: 1em;\n",
       "  font-family: monospace;\n",
       "  background-color: var(--sklearn-color-background);\n",
       "  border-radius: 1rem;\n",
       "  height: 1rem;\n",
       "  width: 1rem;\n",
       "  text-decoration: none;\n",
       "  /* unfitted */\n",
       "  color: var(--sklearn-color-unfitted-level-1);\n",
       "  border: var(--sklearn-color-unfitted-level-1) 1pt solid;\n",
       "}\n",
       "\n",
       "#sk-container-id-17 a.estimator_doc_link.fitted {\n",
       "  /* fitted */\n",
       "  border: var(--sklearn-color-fitted-level-1) 1pt solid;\n",
       "  color: var(--sklearn-color-fitted-level-1);\n",
       "}\n",
       "\n",
       "/* On hover */\n",
       "#sk-container-id-17 a.estimator_doc_link:hover {\n",
       "  /* unfitted */\n",
       "  background-color: var(--sklearn-color-unfitted-level-3);\n",
       "  color: var(--sklearn-color-background);\n",
       "  text-decoration: none;\n",
       "}\n",
       "\n",
       "#sk-container-id-17 a.estimator_doc_link.fitted:hover {\n",
       "  /* fitted */\n",
       "  background-color: var(--sklearn-color-fitted-level-3);\n",
       "}\n",
       "</style><div id=\"sk-container-id-17\" class=\"sk-top-container\"><div class=\"sk-text-repr-fallback\"><pre>RandomForestRegressor(max_depth=3, max_features=&#x27;log2&#x27;, min_samples_leaf=4,\n",
       "                      n_estimators=50, random_state=42)</pre><b>In a Jupyter environment, please rerun this cell to show the HTML representation or trust the notebook. <br />On GitHub, the HTML representation is unable to render, please try loading this page with nbviewer.org.</b></div><div class=\"sk-container\" hidden><div class=\"sk-item\"><div class=\"sk-estimator fitted sk-toggleable\"><input class=\"sk-toggleable__control sk-hidden--visually\" id=\"sk-estimator-id-17\" type=\"checkbox\" checked><label for=\"sk-estimator-id-17\" class=\"sk-toggleable__label fitted sk-toggleable__label-arrow fitted\">&nbsp;&nbsp;RandomForestRegressor<a class=\"sk-estimator-doc-link fitted\" rel=\"noreferrer\" target=\"_blank\" href=\"https://scikit-learn.org/1.5/modules/generated/sklearn.ensemble.RandomForestRegressor.html\">?<span>Documentation for RandomForestRegressor</span></a><span class=\"sk-estimator-doc-link fitted\">i<span>Fitted</span></span></label><div class=\"sk-toggleable__content fitted\"><pre>RandomForestRegressor(max_depth=3, max_features=&#x27;log2&#x27;, min_samples_leaf=4,\n",
       "                      n_estimators=50, random_state=42)</pre></div> </div></div></div></div>"
      ],
      "text/plain": [
       "RandomForestRegressor(max_depth=3, max_features='log2', min_samples_leaf=4,\n",
       "                      n_estimators=50, random_state=42)"
      ]
     },
     "execution_count": 335,
     "metadata": {},
     "output_type": "execute_result"
    }
   ],
   "source": [
    "random_forest"
   ]
  },
  {
   "cell_type": "code",
   "execution_count": 336,
   "id": "6684c562-4fb9-4af2-887d-6504cea733ee",
   "metadata": {},
   "outputs": [],
   "source": [
    "df_test_data = pd.read_csv('../data/dynamic_optimizer_test_data.csv')"
   ]
  },
  {
   "cell_type": "code",
   "execution_count": 337,
   "id": "bd7441da-49a8-4f29-b767-7f6b63e5d47a",
   "metadata": {},
   "outputs": [
    {
     "data": {
      "text/html": [
       "<div>\n",
       "<style scoped>\n",
       "    .dataframe tbody tr th:only-of-type {\n",
       "        vertical-align: middle;\n",
       "    }\n",
       "\n",
       "    .dataframe tbody tr th {\n",
       "        vertical-align: top;\n",
       "    }\n",
       "\n",
       "    .dataframe thead th {\n",
       "        text-align: right;\n",
       "    }\n",
       "</style>\n",
       "<table border=\"1\" class=\"dataframe\">\n",
       "  <thead>\n",
       "    <tr style=\"text-align: right;\">\n",
       "      <th></th>\n",
       "      <th>query_string</th>\n",
       "      <th>ndcg</th>\n",
       "      <th>neuralness</th>\n",
       "      <th>f_1_num_of_terms</th>\n",
       "      <th>f_2_query_length</th>\n",
       "      <th>f_3_has_numbers</th>\n",
       "      <th>f_4_has_special_char</th>\n",
       "      <th>f_5_num_results</th>\n",
       "      <th>f_6_max_title_score</th>\n",
       "      <th>f_7_sum_title_scores</th>\n",
       "      <th>f_8_max_semantic_score</th>\n",
       "      <th>f_9_avg_semantic_score</th>\n",
       "    </tr>\n",
       "  </thead>\n",
       "  <tbody>\n",
       "    <tr>\n",
       "      <th>0</th>\n",
       "      <td>1 1/4 pop up bathroom sink drain without overflow</td>\n",
       "      <td>0.044023</td>\n",
       "      <td>0.6</td>\n",
       "      <td>9</td>\n",
       "      <td>49</td>\n",
       "      <td>1</td>\n",
       "      <td>1</td>\n",
       "      <td>91</td>\n",
       "      <td>0.329475</td>\n",
       "      <td>2.666837</td>\n",
       "      <td>0.746640</td>\n",
       "      <td>0.681141</td>\n",
       "    </tr>\n",
       "    <tr>\n",
       "      <th>1</th>\n",
       "      <td>1 ‘ velcro without adhesive for sewing</td>\n",
       "      <td>0.086189</td>\n",
       "      <td>0.6</td>\n",
       "      <td>7</td>\n",
       "      <td>38</td>\n",
       "      <td>1</td>\n",
       "      <td>0</td>\n",
       "      <td>0</td>\n",
       "      <td>0.000000</td>\n",
       "      <td>0.000000</td>\n",
       "      <td>0.643718</td>\n",
       "      <td>0.586100</td>\n",
       "    </tr>\n",
       "    <tr>\n",
       "      <th>2</th>\n",
       "      <td>10x6 plastic register cover without vent</td>\n",
       "      <td>0.080321</td>\n",
       "      <td>0.6</td>\n",
       "      <td>6</td>\n",
       "      <td>40</td>\n",
       "      <td>1</td>\n",
       "      <td>0</td>\n",
       "      <td>0</td>\n",
       "      <td>0.000000</td>\n",
       "      <td>0.000000</td>\n",
       "      <td>0.581616</td>\n",
       "      <td>0.571584</td>\n",
       "    </tr>\n",
       "    <tr>\n",
       "      <th>3</th>\n",
       "      <td>barn pictures for walls</td>\n",
       "      <td>0.245660</td>\n",
       "      <td>0.6</td>\n",
       "      <td>4</td>\n",
       "      <td>23</td>\n",
       "      <td>0</td>\n",
       "      <td>0</td>\n",
       "      <td>80</td>\n",
       "      <td>1.429011</td>\n",
       "      <td>4.140529</td>\n",
       "      <td>0.648646</td>\n",
       "      <td>0.633677</td>\n",
       "    </tr>\n",
       "    <tr>\n",
       "      <th>4</th>\n",
       "      <td>black bear onesie</td>\n",
       "      <td>0.488564</td>\n",
       "      <td>0.6</td>\n",
       "      <td>3</td>\n",
       "      <td>17</td>\n",
       "      <td>0</td>\n",
       "      <td>0</td>\n",
       "      <td>5</td>\n",
       "      <td>0.974655</td>\n",
       "      <td>2.471067</td>\n",
       "      <td>0.613293</td>\n",
       "      <td>0.581674</td>\n",
       "    </tr>\n",
       "  </tbody>\n",
       "</table>\n",
       "</div>"
      ],
      "text/plain": [
       "                                        query_string      ndcg  neuralness  \\\n",
       "0  1 1/4 pop up bathroom sink drain without overflow  0.044023         0.6   \n",
       "1             1 ‘ velcro without adhesive for sewing  0.086189         0.6   \n",
       "2           10x6 plastic register cover without vent  0.080321         0.6   \n",
       "3                            barn pictures for walls  0.245660         0.6   \n",
       "4                                  black bear onesie  0.488564         0.6   \n",
       "\n",
       "   f_1_num_of_terms  f_2_query_length  f_3_has_numbers  f_4_has_special_char  \\\n",
       "0                 9                49                1                     1   \n",
       "1                 7                38                1                     0   \n",
       "2                 6                40                1                     0   \n",
       "3                 4                23                0                     0   \n",
       "4                 3                17                0                     0   \n",
       "\n",
       "   f_5_num_results  f_6_max_title_score  f_7_sum_title_scores  \\\n",
       "0               91             0.329475              2.666837   \n",
       "1                0             0.000000              0.000000   \n",
       "2                0             0.000000              0.000000   \n",
       "3               80             1.429011              4.140529   \n",
       "4                5             0.974655              2.471067   \n",
       "\n",
       "   f_8_max_semantic_score  f_9_avg_semantic_score  \n",
       "0                0.746640                0.681141  \n",
       "1                0.643718                0.586100  \n",
       "2                0.581616                0.571584  \n",
       "3                0.648646                0.633677  \n",
       "4                0.613293                0.581674  "
      ]
     },
     "execution_count": 337,
     "metadata": {},
     "output_type": "execute_result"
    }
   ],
   "source": [
    "df_test_data.head(5)"
   ]
  },
  {
   "cell_type": "code",
   "execution_count": 338,
   "id": "315d60bb-1feb-4667-a923-b45b784b9a01",
   "metadata": {},
   "outputs": [],
   "source": [
    "# Get all ratings\n",
    "DATA_DIR = '/Users/danielwrigley/work/Testing/git_repos/esci-data/shopping_queries_dataset/'"
   ]
  },
  {
   "cell_type": "code",
   "execution_count": 339,
   "id": "4753982e-b74f-49e2-afde-10c210f53b11",
   "metadata": {},
   "outputs": [],
   "source": [
    "df_examples = pd.read_parquet(DATA_DIR + '/shopping_queries_dataset_examples.parquet')"
   ]
  },
  {
   "cell_type": "code",
   "execution_count": 340,
   "id": "ccb89dcd-7604-4c7a-9a68-c1df831b5212",
   "metadata": {},
   "outputs": [
    {
     "data": {
      "text/html": [
       "<div>\n",
       "<style scoped>\n",
       "    .dataframe tbody tr th:only-of-type {\n",
       "        vertical-align: middle;\n",
       "    }\n",
       "\n",
       "    .dataframe tbody tr th {\n",
       "        vertical-align: top;\n",
       "    }\n",
       "\n",
       "    .dataframe thead th {\n",
       "        text-align: right;\n",
       "    }\n",
       "</style>\n",
       "<table border=\"1\" class=\"dataframe\">\n",
       "  <thead>\n",
       "    <tr style=\"text-align: right;\">\n",
       "      <th></th>\n",
       "      <th>query</th>\n",
       "      <th>document</th>\n",
       "      <th>judgment</th>\n",
       "    </tr>\n",
       "  </thead>\n",
       "  <tbody>\n",
       "    <tr>\n",
       "      <th>0</th>\n",
       "      <td>1 1/4 pop up bathroom sink drain without overflow</td>\n",
       "      <td>B07TP9FB7W</td>\n",
       "      <td>3</td>\n",
       "    </tr>\n",
       "    <tr>\n",
       "      <th>1</th>\n",
       "      <td>1 1/4 pop up bathroom sink drain without overflow</td>\n",
       "      <td>B07S5ZVKW5</td>\n",
       "      <td>3</td>\n",
       "    </tr>\n",
       "    <tr>\n",
       "      <th>2</th>\n",
       "      <td>1 1/4 pop up bathroom sink drain without overflow</td>\n",
       "      <td>B07RLLCV3P</td>\n",
       "      <td>3</td>\n",
       "    </tr>\n",
       "  </tbody>\n",
       "</table>\n",
       "</div>"
      ],
      "text/plain": [
       "                                               query    document  judgment\n",
       "0  1 1/4 pop up bathroom sink drain without overflow  B07TP9FB7W         3\n",
       "1  1 1/4 pop up bathroom sink drain without overflow  B07S5ZVKW5         3\n",
       "2  1 1/4 pop up bathroom sink drain without overflow  B07RLLCV3P         3"
      ]
     },
     "execution_count": 340,
     "metadata": {},
     "output_type": "execute_result"
    }
   ],
   "source": [
    "# Select judgments\n",
    "# Map esci_label to score\n",
    "# create judgments per day in range\n",
    "# create noise in score\n",
    "\n",
    "label_num = {\"E\": 0, \"S\": 1, \"C\": 2, \"I\": 3}\n",
    "label_score = [3, 2, 1, 0]\n",
    "#label_score = [1, 0.1, 0.01, 0]\n",
    "\n",
    "def label_to_score(label):\n",
    "    return label_score[label_num[label]]\n",
    "\n",
    "df_ratings = df_examples[df_examples[\"query\"].isin(set(df_test_data[\"query_string\"].values))].copy()\n",
    "df_ratings[\"judgment\"] = df_ratings.esci_label.apply(lambda x: label_to_score(x))\n",
    "df_ratings[\"document\"] = df_ratings.product_id\n",
    "df_ratings = df_ratings[[\"query\", \"document\", \"judgment\"]].reset_index(drop=True)\n",
    "df_ratings.head(3)"
   ]
  },
  {
   "cell_type": "code",
   "execution_count": 341,
   "id": "01970b1a-5407-4ad1-8d61-682b4f091c30",
   "metadata": {},
   "outputs": [
    {
     "data": {
      "text/plain": [
       "50"
      ]
     },
     "execution_count": 341,
     "metadata": {},
     "output_type": "execute_result"
    }
   ],
   "source": [
    "df_test_data.shape[0]"
   ]
  },
  {
   "cell_type": "markdown",
   "id": "68a8ffd9-8b2c-47e3-9484-c3a4e6f3b34e",
   "metadata": {},
   "source": [
    "## Predict the \"neuralness\" with both models"
   ]
  },
  {
   "cell_type": "code",
   "execution_count": 342,
   "id": "1b05ae79-ea1e-4a7f-a8ff-0418537e14d6",
   "metadata": {},
   "outputs": [
    {
     "data": {
      "text/plain": [
       "array(['f_1_num_of_terms', 'f_5_num_results', 'f_7_sum_title_scores',\n",
       "       'f_9_avg_semantic_score'], dtype=object)"
      ]
     },
     "execution_count": 342,
     "metadata": {},
     "output_type": "execute_result"
    }
   ],
   "source": [
    "regr.feature_names_in_"
   ]
  },
  {
   "cell_type": "code",
   "execution_count": 343,
   "id": "a08db750-2ca2-4e5e-a96d-48b352a30af9",
   "metadata": {},
   "outputs": [
    {
     "data": {
      "text/plain": [
       "array(['f_4_has_special_char', 'f_5_num_results'], dtype=object)"
      ]
     },
     "execution_count": 343,
     "metadata": {},
     "output_type": "execute_result"
    }
   ],
   "source": [
    "random_forest.feature_names_in_"
   ]
  },
  {
   "cell_type": "code",
   "execution_count": 344,
   "id": "81fbc5dd-64a9-4ed3-ba3a-49d930b45e90",
   "metadata": {},
   "outputs": [],
   "source": [
    "#feature_columns = [ \"f_1_num_of_terms\", \"f_2_query_length\", \"f_3_has_numbers\", \"f_4_has_special_char\", \"f_5_num_results\",\n",
    "#                   \"f_6_max_title_score\", \"f_7_sum_title_scores\", \"f_8_max_semantic_score\",  \"f_9_avg_semantic_score\"]\n",
    "feature_columns_lr = regr.feature_names_in_\n",
    "feature_columns_rf = random_forest.feature_names_in_\n",
    "def get_linear_model_prediction(row):\n",
    "    df_row = pd.DataFrame([row[feature_columns_lr]], columns=feature_columns_lr)\n",
    "    return regr.predict(df_row)[0]\n",
    "\n",
    "def get_random_forest_prediction(row):\n",
    "    df_row = pd.DataFrame([row[feature_columns_lr]], columns=feature_columns_rf)\n",
    "    return random_forest.predict(df_row)[0]"
   ]
  },
  {
   "cell_type": "code",
   "execution_count": 345,
   "id": "308eb0a1-1ef9-4a5d-b5cc-515ccc5f466f",
   "metadata": {},
   "outputs": [],
   "source": [
    "# make predictions with the two models ensuring that the minimum is not below 0 and the maximum not above 1\n",
    "\n",
    "df_test_data['linear_model'] = df_test_data.apply(\n",
    "    lambda row: min(np.max(get_linear_model_prediction(row), 0), 1), axis=1\n",
    ")\n",
    "\n",
    "df_test_data['random_forest'] = df_test_data.apply(\n",
    "    lambda row: min(np.max(get_random_forest_prediction(row), 0), 1), axis=1\n",
    ")"
   ]
  },
  {
   "cell_type": "code",
   "execution_count": 346,
   "id": "aa59d753-c961-4ffc-98c3-d4d65afcc717",
   "metadata": {},
   "outputs": [
    {
     "data": {
      "text/html": [
       "<div>\n",
       "<style scoped>\n",
       "    .dataframe tbody tr th:only-of-type {\n",
       "        vertical-align: middle;\n",
       "    }\n",
       "\n",
       "    .dataframe tbody tr th {\n",
       "        vertical-align: top;\n",
       "    }\n",
       "\n",
       "    .dataframe thead th {\n",
       "        text-align: right;\n",
       "    }\n",
       "</style>\n",
       "<table border=\"1\" class=\"dataframe\">\n",
       "  <thead>\n",
       "    <tr style=\"text-align: right;\">\n",
       "      <th></th>\n",
       "      <th>query_string</th>\n",
       "      <th>ndcg</th>\n",
       "      <th>neuralness</th>\n",
       "      <th>f_1_num_of_terms</th>\n",
       "      <th>f_2_query_length</th>\n",
       "      <th>f_3_has_numbers</th>\n",
       "      <th>f_4_has_special_char</th>\n",
       "      <th>f_5_num_results</th>\n",
       "      <th>f_6_max_title_score</th>\n",
       "      <th>f_7_sum_title_scores</th>\n",
       "      <th>f_8_max_semantic_score</th>\n",
       "      <th>f_9_avg_semantic_score</th>\n",
       "      <th>linear_model</th>\n",
       "      <th>random_forest</th>\n",
       "    </tr>\n",
       "  </thead>\n",
       "  <tbody>\n",
       "    <tr>\n",
       "      <th>0</th>\n",
       "      <td>1 1/4 pop up bathroom sink drain without overflow</td>\n",
       "      <td>0.044023</td>\n",
       "      <td>0.6</td>\n",
       "      <td>9</td>\n",
       "      <td>49</td>\n",
       "      <td>1</td>\n",
       "      <td>1</td>\n",
       "      <td>91</td>\n",
       "      <td>0.329475</td>\n",
       "      <td>2.666837</td>\n",
       "      <td>0.746640</td>\n",
       "      <td>0.681141</td>\n",
       "      <td>0.898171</td>\n",
       "      <td>0.644802</td>\n",
       "    </tr>\n",
       "    <tr>\n",
       "      <th>1</th>\n",
       "      <td>1 ‘ velcro without adhesive for sewing</td>\n",
       "      <td>0.086189</td>\n",
       "      <td>0.6</td>\n",
       "      <td>7</td>\n",
       "      <td>38</td>\n",
       "      <td>1</td>\n",
       "      <td>0</td>\n",
       "      <td>0</td>\n",
       "      <td>0.000000</td>\n",
       "      <td>0.000000</td>\n",
       "      <td>0.643718</td>\n",
       "      <td>0.586100</td>\n",
       "      <td>0.941134</td>\n",
       "      <td>0.936821</td>\n",
       "    </tr>\n",
       "    <tr>\n",
       "      <th>2</th>\n",
       "      <td>10x6 plastic register cover without vent</td>\n",
       "      <td>0.080321</td>\n",
       "      <td>0.6</td>\n",
       "      <td>6</td>\n",
       "      <td>40</td>\n",
       "      <td>1</td>\n",
       "      <td>0</td>\n",
       "      <td>0</td>\n",
       "      <td>0.000000</td>\n",
       "      <td>0.000000</td>\n",
       "      <td>0.581616</td>\n",
       "      <td>0.571584</td>\n",
       "      <td>0.904877</td>\n",
       "      <td>0.936821</td>\n",
       "    </tr>\n",
       "    <tr>\n",
       "      <th>3</th>\n",
       "      <td>barn pictures for walls</td>\n",
       "      <td>0.245660</td>\n",
       "      <td>0.6</td>\n",
       "      <td>4</td>\n",
       "      <td>23</td>\n",
       "      <td>0</td>\n",
       "      <td>0</td>\n",
       "      <td>80</td>\n",
       "      <td>1.429011</td>\n",
       "      <td>4.140529</td>\n",
       "      <td>0.648646</td>\n",
       "      <td>0.633677</td>\n",
       "      <td>0.652181</td>\n",
       "      <td>0.644802</td>\n",
       "    </tr>\n",
       "    <tr>\n",
       "      <th>4</th>\n",
       "      <td>black bear onesie</td>\n",
       "      <td>0.488564</td>\n",
       "      <td>0.6</td>\n",
       "      <td>3</td>\n",
       "      <td>17</td>\n",
       "      <td>0</td>\n",
       "      <td>0</td>\n",
       "      <td>5</td>\n",
       "      <td>0.974655</td>\n",
       "      <td>2.471067</td>\n",
       "      <td>0.613293</td>\n",
       "      <td>0.581674</td>\n",
       "      <td>0.687811</td>\n",
       "      <td>0.647706</td>\n",
       "    </tr>\n",
       "  </tbody>\n",
       "</table>\n",
       "</div>"
      ],
      "text/plain": [
       "                                        query_string      ndcg  neuralness  \\\n",
       "0  1 1/4 pop up bathroom sink drain without overflow  0.044023         0.6   \n",
       "1             1 ‘ velcro without adhesive for sewing  0.086189         0.6   \n",
       "2           10x6 plastic register cover without vent  0.080321         0.6   \n",
       "3                            barn pictures for walls  0.245660         0.6   \n",
       "4                                  black bear onesie  0.488564         0.6   \n",
       "\n",
       "   f_1_num_of_terms  f_2_query_length  f_3_has_numbers  f_4_has_special_char  \\\n",
       "0                 9                49                1                     1   \n",
       "1                 7                38                1                     0   \n",
       "2                 6                40                1                     0   \n",
       "3                 4                23                0                     0   \n",
       "4                 3                17                0                     0   \n",
       "\n",
       "   f_5_num_results  f_6_max_title_score  f_7_sum_title_scores  \\\n",
       "0               91             0.329475              2.666837   \n",
       "1                0             0.000000              0.000000   \n",
       "2                0             0.000000              0.000000   \n",
       "3               80             1.429011              4.140529   \n",
       "4                5             0.974655              2.471067   \n",
       "\n",
       "   f_8_max_semantic_score  f_9_avg_semantic_score  linear_model  random_forest  \n",
       "0                0.746640                0.681141      0.898171       0.644802  \n",
       "1                0.643718                0.586100      0.941134       0.936821  \n",
       "2                0.581616                0.571584      0.904877       0.936821  \n",
       "3                0.648646                0.633677      0.652181       0.644802  \n",
       "4                0.613293                0.581674      0.687811       0.647706  "
      ]
     },
     "execution_count": 346,
     "metadata": {},
     "output_type": "execute_result"
    }
   ],
   "source": [
    "df_test_data.head(5)"
   ]
  },
  {
   "cell_type": "markdown",
   "id": "1a89b7f6-74ed-42c2-bf8d-81debe0be902",
   "metadata": {},
   "source": [
    "## Run the queries of the test set\n",
    "\n",
    "* Retrieve the model id\n",
    "* For each query term of the test set:\n",
    "  * Create the pipeline with the predicted \"neuralness\" value and the calculated \"keywordness\" value (`1-\"neuralness\"`)\n",
    "  * Run the query once per model type"
   ]
  },
  {
   "cell_type": "code",
   "execution_count": 347,
   "id": "bde8d1f1-2ebc-4a25-9f41-f6990792a00f",
   "metadata": {},
   "outputs": [],
   "source": [
    "# Get model_id\n",
    "# We are assuming that the installation has only one model. Change this if you have more models \n",
    "# and need to pick a specific one\n",
    "\n",
    "headers = {\n",
    "    'Content-Type': 'application/json'\n",
    "}\n",
    "\n",
    "def get_model_id():\n",
    "    url = \"http://localhost:9200/_plugins/_ml/models/_search\"\n",
    "   \n",
    "    payload = {\n",
    "      \"query\": {\n",
    "        \"match_all\": {}\n",
    "      },\n",
    "      \"size\": 1\n",
    "    }\n",
    "    \n",
    "    response = requests.request(\"POST\", url, headers=headers, data=json.dumps(payload))\n",
    "\n",
    "    return response.json()['hits']['hits'][0]['_source']['model_id']\n",
    "\n",
    "model_id = get_model_id()"
   ]
  },
  {
   "cell_type": "code",
   "execution_count": 348,
   "id": "1ae98b35-3fd7-4037-94fe-f4fcecb76237",
   "metadata": {},
   "outputs": [
    {
     "data": {
      "application/vnd.jupyter.widget-view+json": {
       "model_id": "b51cd3ed1e404ea99c6c38e3fc7dbb26",
       "version_major": 2,
       "version_minor": 0
      },
      "text/plain": [
       "0it [00:00, ?it/s]"
      ]
     },
     "metadata": {},
     "output_type": "display_data"
    }
   ],
   "source": [
    "models = ['linear_model', 'random_forest']\n",
    "df_relevance = pd.DataFrame()\n",
    "\n",
    "# iterate over all query strings, create a pipeline with the predicted \"neuralness\"\n",
    "# and send a hybrid search query to OpenSearch with the set pipeline\n",
    "\n",
    "for query in tqdm_notebook(df_test_data.itertuples()):\n",
    "    for model in models:\n",
    "        neuralness = df_test_data.loc[df_test_data['query_string'] == query[1], model].iloc[0]\n",
    "        neuralness = round(neuralness, 2)\n",
    "        keywordness = 1 - neuralness   \n",
    "        # Set pipeline \n",
    "        url = \"http://localhost:9200/ecommerce/_search\"\n",
    "        payload = {\n",
    "          \"_source\": {\n",
    "            \"excludes\": [\n",
    "              \"title_embedding\"\n",
    "            ]\n",
    "          },\n",
    "          \"query\": {\n",
    "            \"hybrid\": {\n",
    "              \"queries\": [\n",
    "                {\n",
    "                  \"multi_match\" : {\n",
    "                      \"type\":       \"best_fields\",\n",
    "                      \"fields\":     [\n",
    "                        \"product_id^100\",\n",
    "                        \"product_bullet_point^3\",\n",
    "                        \"product_color^2\",\n",
    "                        \"product_brand^5\",\n",
    "                        \"product_description\",\n",
    "                        \"product_title^10\"\n",
    "                      ],\n",
    "                      \"operator\":   \"and\",\n",
    "                      \"query\":      query[1]\n",
    "                    }\n",
    "                },\n",
    "                {\n",
    "                  \"neural\": {\n",
    "                    \"title_embedding\": {\n",
    "                      \"query_text\": query[1],\n",
    "                      \"k\": 100\n",
    "                    }\n",
    "                  }\n",
    "                }\n",
    "              ]\n",
    "            }\n",
    "          },\n",
    "            \"search_pipeline\": {\n",
    "              \"request_processors\": [\n",
    "                {\n",
    "                  \"neural_query_enricher\" : {\n",
    "                    \"description\": \"one of many search pipelines for experimentation\",\n",
    "                    \"default_model_id\": model_id,\n",
    "                    \"neural_field_default_id\": {\n",
    "                       \"title_embeddings\": model_id\n",
    "                    }\n",
    "                  }\n",
    "                }\n",
    "              ],\n",
    "              \"phase_results_processors\": [\n",
    "                {\n",
    "                  \"normalization-processor\": {\n",
    "                    \"normalization\": {\n",
    "                      \"technique\": \"l2\"\n",
    "                    },\n",
    "                    \"combination\": {\n",
    "                      \"technique\": \"arithmetic_mean\",\n",
    "                      \"parameters\": {\n",
    "                        \"weights\": [\n",
    "                          keywordness,\n",
    "                          neuralness\n",
    "                        ]\n",
    "                      }\n",
    "                    }\n",
    "                  }\n",
    "                }\n",
    "              ]    \n",
    "            },\n",
    "          \"size\": 100\n",
    "        }\n",
    "    \n",
    "        response = requests.request(\"POST\", url, headers=headers, data=json.dumps(payload)).json()\n",
    "        #print(response)\n",
    "        # store results per model and pipeline\n",
    "        position = 0\n",
    "        for hit in response['hits']['hits']:\n",
    "            # create a new row for the DataFrame and append it\n",
    "            row = { 'query_id' : str(query[0]), 'query_string': query[1], 'product_id' : hit[\"_id\"], 'position' : str(position), 'relevance' : hit[\"_score\"], 'run': model, 'neuralness': neuralness }\n",
    "    \n",
    "            new_row_df = pd.DataFrame([row])\n",
    "            df_relevance = pd.concat([df_relevance, new_row_df], ignore_index=True)\n",
    "            position += 1\n",
    "    \n",
    "    # work with two for loops:\n",
    "    # 1) one to iterate over the list of queries and have a query id instead of a query\n",
    "    # 2) another one to iterate over the result sets to have the position of the result in the result set \n",
    "    \n",
    "    # DataFrame is created using some of TREC's namings for the evaluation tools:\n",
    "    # query_id: the id of the query as the trec_eval tool needs a numeric id rather than a query string as an identifier\n",
    "    # query_string: the user query\n",
    "    # product_id: the id of the product in the hit list\n",
    "    # position: the position of the product in the result set\n",
    "    # relevance: relevance as given by the search engine\n",
    "    # run: the name of the model used to predict the neuralness of the model\n",
    "    # neuralness: the predicted neuralness of the query"
   ]
  },
  {
   "cell_type": "code",
   "execution_count": 349,
   "id": "bf3d9839-1dbc-4af6-9f30-c6df4e58b6c6",
   "metadata": {},
   "outputs": [
    {
     "data": {
      "text/html": [
       "<div>\n",
       "<style scoped>\n",
       "    .dataframe tbody tr th:only-of-type {\n",
       "        vertical-align: middle;\n",
       "    }\n",
       "\n",
       "    .dataframe tbody tr th {\n",
       "        vertical-align: top;\n",
       "    }\n",
       "\n",
       "    .dataframe thead th {\n",
       "        text-align: right;\n",
       "    }\n",
       "</style>\n",
       "<table border=\"1\" class=\"dataframe\">\n",
       "  <thead>\n",
       "    <tr style=\"text-align: right;\">\n",
       "      <th></th>\n",
       "      <th>query_id</th>\n",
       "      <th>query_string</th>\n",
       "      <th>product_id</th>\n",
       "      <th>position</th>\n",
       "      <th>relevance</th>\n",
       "      <th>run</th>\n",
       "      <th>neuralness</th>\n",
       "    </tr>\n",
       "  </thead>\n",
       "  <tbody>\n",
       "    <tr>\n",
       "      <th>0</th>\n",
       "      <td>0</td>\n",
       "      <td>1 1/4 pop up bathroom sink drain without overflow</td>\n",
       "      <td>B07DN8NKMV</td>\n",
       "      <td>0</td>\n",
       "      <td>0.125472</td>\n",
       "      <td>linear_model</td>\n",
       "      <td>0.9</td>\n",
       "    </tr>\n",
       "    <tr>\n",
       "      <th>1</th>\n",
       "      <td>0</td>\n",
       "      <td>1 1/4 pop up bathroom sink drain without overflow</td>\n",
       "      <td>B07DN8CZ21</td>\n",
       "      <td>1</td>\n",
       "      <td>0.122919</td>\n",
       "      <td>linear_model</td>\n",
       "      <td>0.9</td>\n",
       "    </tr>\n",
       "    <tr>\n",
       "      <th>2</th>\n",
       "      <td>0</td>\n",
       "      <td>1 1/4 pop up bathroom sink drain without overflow</td>\n",
       "      <td>B08MT7ZDN2</td>\n",
       "      <td>2</td>\n",
       "      <td>0.111455</td>\n",
       "      <td>linear_model</td>\n",
       "      <td>0.9</td>\n",
       "    </tr>\n",
       "  </tbody>\n",
       "</table>\n",
       "</div>"
      ],
      "text/plain": [
       "  query_id                                       query_string  product_id  \\\n",
       "0        0  1 1/4 pop up bathroom sink drain without overflow  B07DN8NKMV   \n",
       "1        0  1 1/4 pop up bathroom sink drain without overflow  B07DN8CZ21   \n",
       "2        0  1 1/4 pop up bathroom sink drain without overflow  B08MT7ZDN2   \n",
       "\n",
       "  position  relevance           run  neuralness  \n",
       "0        0   0.125472  linear_model         0.9  \n",
       "1        1   0.122919  linear_model         0.9  \n",
       "2        2   0.111455  linear_model         0.9  "
      ]
     },
     "execution_count": 349,
     "metadata": {},
     "output_type": "execute_result"
    }
   ],
   "source": [
    "df_relevance.head(3)"
   ]
  },
  {
   "cell_type": "code",
   "execution_count": 350,
   "id": "995ada8f-785b-4a7d-a44e-772d5b58d847",
   "metadata": {},
   "outputs": [
    {
     "data": {
      "text/html": [
       "<div>\n",
       "<style scoped>\n",
       "    .dataframe tbody tr th:only-of-type {\n",
       "        vertical-align: middle;\n",
       "    }\n",
       "\n",
       "    .dataframe tbody tr th {\n",
       "        vertical-align: top;\n",
       "    }\n",
       "\n",
       "    .dataframe thead th {\n",
       "        text-align: right;\n",
       "    }\n",
       "</style>\n",
       "<table border=\"1\" class=\"dataframe\">\n",
       "  <thead>\n",
       "    <tr style=\"text-align: right;\">\n",
       "      <th></th>\n",
       "      <th>query</th>\n",
       "      <th>document</th>\n",
       "      <th>judgment</th>\n",
       "    </tr>\n",
       "  </thead>\n",
       "  <tbody>\n",
       "    <tr>\n",
       "      <th>0</th>\n",
       "      <td>1 1/4 pop up bathroom sink drain without overflow</td>\n",
       "      <td>B07TP9FB7W</td>\n",
       "      <td>3</td>\n",
       "    </tr>\n",
       "    <tr>\n",
       "      <th>1</th>\n",
       "      <td>1 1/4 pop up bathroom sink drain without overflow</td>\n",
       "      <td>B07S5ZVKW5</td>\n",
       "      <td>3</td>\n",
       "    </tr>\n",
       "    <tr>\n",
       "      <th>2</th>\n",
       "      <td>1 1/4 pop up bathroom sink drain without overflow</td>\n",
       "      <td>B07RLLCV3P</td>\n",
       "      <td>3</td>\n",
       "    </tr>\n",
       "  </tbody>\n",
       "</table>\n",
       "</div>"
      ],
      "text/plain": [
       "                                               query    document  judgment\n",
       "0  1 1/4 pop up bathroom sink drain without overflow  B07TP9FB7W         3\n",
       "1  1 1/4 pop up bathroom sink drain without overflow  B07S5ZVKW5         3\n",
       "2  1 1/4 pop up bathroom sink drain without overflow  B07RLLCV3P         3"
      ]
     },
     "execution_count": 350,
     "metadata": {},
     "output_type": "execute_result"
    }
   ],
   "source": [
    "df_ratings.head(3)"
   ]
  },
  {
   "cell_type": "code",
   "execution_count": 351,
   "id": "b2ce5ae2-111c-4b10-b0ad-b830759d7fe8",
   "metadata": {},
   "outputs": [
    {
     "data": {
      "text/html": [
       "<div>\n",
       "<style scoped>\n",
       "    .dataframe tbody tr th:only-of-type {\n",
       "        vertical-align: middle;\n",
       "    }\n",
       "\n",
       "    .dataframe tbody tr th {\n",
       "        vertical-align: top;\n",
       "    }\n",
       "\n",
       "    .dataframe thead th {\n",
       "        text-align: right;\n",
       "    }\n",
       "</style>\n",
       "<table border=\"1\" class=\"dataframe\">\n",
       "  <thead>\n",
       "    <tr style=\"text-align: right;\">\n",
       "      <th></th>\n",
       "      <th>query_string</th>\n",
       "      <th>product_id</th>\n",
       "      <th>rating</th>\n",
       "    </tr>\n",
       "  </thead>\n",
       "  <tbody>\n",
       "    <tr>\n",
       "      <th>0</th>\n",
       "      <td>1 1/4 pop up bathroom sink drain without overflow</td>\n",
       "      <td>B07TP9FB7W</td>\n",
       "      <td>3</td>\n",
       "    </tr>\n",
       "    <tr>\n",
       "      <th>1</th>\n",
       "      <td>1 1/4 pop up bathroom sink drain without overflow</td>\n",
       "      <td>B07S5ZVKW5</td>\n",
       "      <td>3</td>\n",
       "    </tr>\n",
       "    <tr>\n",
       "      <th>2</th>\n",
       "      <td>1 1/4 pop up bathroom sink drain without overflow</td>\n",
       "      <td>B07RLLCV3P</td>\n",
       "      <td>3</td>\n",
       "    </tr>\n",
       "  </tbody>\n",
       "</table>\n",
       "</div>"
      ],
      "text/plain": [
       "                                        query_string  product_id  rating\n",
       "0  1 1/4 pop up bathroom sink drain without overflow  B07TP9FB7W       3\n",
       "1  1 1/4 pop up bathroom sink drain without overflow  B07S5ZVKW5       3\n",
       "2  1 1/4 pop up bathroom sink drain without overflow  B07RLLCV3P       3"
      ]
     },
     "execution_count": 351,
     "metadata": {},
     "output_type": "execute_result"
    }
   ],
   "source": [
    "df_ratings.columns = ['query_string', 'product_id', 'rating']\n",
    "df_ratings.head(3)"
   ]
  },
  {
   "cell_type": "code",
   "execution_count": 352,
   "id": "7f8009df-4957-446d-8880-a3275d8c6404",
   "metadata": {},
   "outputs": [
    {
     "data": {
      "text/html": [
       "<div>\n",
       "<style scoped>\n",
       "    .dataframe tbody tr th:only-of-type {\n",
       "        vertical-align: middle;\n",
       "    }\n",
       "\n",
       "    .dataframe tbody tr th {\n",
       "        vertical-align: top;\n",
       "    }\n",
       "\n",
       "    .dataframe thead th {\n",
       "        text-align: right;\n",
       "    }\n",
       "</style>\n",
       "<table border=\"1\" class=\"dataframe\">\n",
       "  <thead>\n",
       "    <tr style=\"text-align: right;\">\n",
       "      <th></th>\n",
       "      <th>query_id</th>\n",
       "      <th>query_string</th>\n",
       "      <th>product_id</th>\n",
       "      <th>position</th>\n",
       "      <th>relevance</th>\n",
       "      <th>run</th>\n",
       "      <th>neuralness</th>\n",
       "    </tr>\n",
       "  </thead>\n",
       "  <tbody>\n",
       "    <tr>\n",
       "      <th>0</th>\n",
       "      <td>0</td>\n",
       "      <td>1 1/4 pop up bathroom sink drain without overflow</td>\n",
       "      <td>B07DN8NKMV</td>\n",
       "      <td>0</td>\n",
       "      <td>0.125472</td>\n",
       "      <td>linear_model</td>\n",
       "      <td>0.9</td>\n",
       "    </tr>\n",
       "    <tr>\n",
       "      <th>1</th>\n",
       "      <td>0</td>\n",
       "      <td>1 1/4 pop up bathroom sink drain without overflow</td>\n",
       "      <td>B07DN8CZ21</td>\n",
       "      <td>1</td>\n",
       "      <td>0.122919</td>\n",
       "      <td>linear_model</td>\n",
       "      <td>0.9</td>\n",
       "    </tr>\n",
       "    <tr>\n",
       "      <th>2</th>\n",
       "      <td>0</td>\n",
       "      <td>1 1/4 pop up bathroom sink drain without overflow</td>\n",
       "      <td>B08MT7ZDN2</td>\n",
       "      <td>2</td>\n",
       "      <td>0.111455</td>\n",
       "      <td>linear_model</td>\n",
       "      <td>0.9</td>\n",
       "    </tr>\n",
       "  </tbody>\n",
       "</table>\n",
       "</div>"
      ],
      "text/plain": [
       "  query_id                                       query_string  product_id  \\\n",
       "0        0  1 1/4 pop up bathroom sink drain without overflow  B07DN8NKMV   \n",
       "1        0  1 1/4 pop up bathroom sink drain without overflow  B07DN8CZ21   \n",
       "2        0  1 1/4 pop up bathroom sink drain without overflow  B08MT7ZDN2   \n",
       "\n",
       "  position  relevance           run  neuralness  \n",
       "0        0   0.125472  linear_model         0.9  \n",
       "1        1   0.122919  linear_model         0.9  \n",
       "2        2   0.111455  linear_model         0.9  "
      ]
     },
     "execution_count": 352,
     "metadata": {},
     "output_type": "execute_result"
    }
   ],
   "source": [
    "df_relevance.head(3)"
   ]
  },
  {
   "cell_type": "code",
   "execution_count": 353,
   "id": "429111ec-6ea2-4e62-b5d1-e8d738eb04ea",
   "metadata": {},
   "outputs": [],
   "source": [
    "# Make sure ids are strings, positions are integers - otherwise the merge operation or the metrics calculation might cause an error\n",
    "df_relevance['query_id'] = df_relevance['query_id'].astype(str)\n",
    "df_relevance['position'] = df_relevance['position'].astype(int)\n",
    "# Remove duplicates from the ratings DataFrame\n",
    "df_unique_ratings = df_ratings.drop_duplicates(subset=['product_id', 'query_string'])"
   ]
  },
  {
   "cell_type": "code",
   "execution_count": 354,
   "id": "a25c28f3-080d-4072-bf39-6550e5b5acba",
   "metadata": {},
   "outputs": [
    {
     "data": {
      "text/html": [
       "<div>\n",
       "<style scoped>\n",
       "    .dataframe tbody tr th:only-of-type {\n",
       "        vertical-align: middle;\n",
       "    }\n",
       "\n",
       "    .dataframe tbody tr th {\n",
       "        vertical-align: top;\n",
       "    }\n",
       "\n",
       "    .dataframe thead th {\n",
       "        text-align: right;\n",
       "    }\n",
       "</style>\n",
       "<table border=\"1\" class=\"dataframe\">\n",
       "  <thead>\n",
       "    <tr style=\"text-align: right;\">\n",
       "      <th></th>\n",
       "      <th>query_id</th>\n",
       "      <th>query_string</th>\n",
       "      <th>product_id</th>\n",
       "      <th>position</th>\n",
       "      <th>relevance</th>\n",
       "      <th>run</th>\n",
       "      <th>neuralness</th>\n",
       "      <th>rating</th>\n",
       "    </tr>\n",
       "  </thead>\n",
       "  <tbody>\n",
       "    <tr>\n",
       "      <th>0</th>\n",
       "      <td>0</td>\n",
       "      <td>1 1/4 pop up bathroom sink drain without overflow</td>\n",
       "      <td>B07DN8NKMV</td>\n",
       "      <td>0</td>\n",
       "      <td>0.125472</td>\n",
       "      <td>linear_model</td>\n",
       "      <td>0.9</td>\n",
       "      <td>NaN</td>\n",
       "    </tr>\n",
       "    <tr>\n",
       "      <th>1</th>\n",
       "      <td>0</td>\n",
       "      <td>1 1/4 pop up bathroom sink drain without overflow</td>\n",
       "      <td>B07DN8CZ21</td>\n",
       "      <td>1</td>\n",
       "      <td>0.122919</td>\n",
       "      <td>linear_model</td>\n",
       "      <td>0.9</td>\n",
       "      <td>NaN</td>\n",
       "    </tr>\n",
       "    <tr>\n",
       "      <th>2</th>\n",
       "      <td>0</td>\n",
       "      <td>1 1/4 pop up bathroom sink drain without overflow</td>\n",
       "      <td>B08MT7ZDN2</td>\n",
       "      <td>2</td>\n",
       "      <td>0.111455</td>\n",
       "      <td>linear_model</td>\n",
       "      <td>0.9</td>\n",
       "      <td>NaN</td>\n",
       "    </tr>\n",
       "  </tbody>\n",
       "</table>\n",
       "</div>"
      ],
      "text/plain": [
       "  query_id                                       query_string  product_id  \\\n",
       "0        0  1 1/4 pop up bathroom sink drain without overflow  B07DN8NKMV   \n",
       "1        0  1 1/4 pop up bathroom sink drain without overflow  B07DN8CZ21   \n",
       "2        0  1 1/4 pop up bathroom sink drain without overflow  B08MT7ZDN2   \n",
       "\n",
       "   position  relevance           run  neuralness  rating  \n",
       "0         0   0.125472  linear_model         0.9     NaN  \n",
       "1         1   0.122919  linear_model         0.9     NaN  \n",
       "2         2   0.111455  linear_model         0.9     NaN  "
      ]
     },
     "execution_count": 354,
     "metadata": {},
     "output_type": "execute_result"
    }
   ],
   "source": [
    "# Merge results on query_string and product_id so that the resulting DataFrame has the ratings together with the search results\n",
    "# Merge on query_string instead of query_id because the df_relevance query_ids are not the ones originating from the ratings.\n",
    "# Validations helps us make sure that we have only one rating for each query-doc pair. We have identical query-doc pairs per\n",
    "# search pipeline but we can only have one rating for these.\n",
    "\n",
    "df_merged = df_relevance.merge(df_unique_ratings, on=['query_string', 'product_id'], how='left', validate='many_to_one')\n",
    "# remove unnecessary information and rename columns\n",
    "\n",
    "df_merged.head(3)"
   ]
  },
  {
   "cell_type": "code",
   "execution_count": 355,
   "id": "ef79c405-295a-430a-8fc0-ed94f9d035b3",
   "metadata": {},
   "outputs": [
    {
     "name": "stdout",
     "output_type": "stream",
     "text": [
      "There are 10000 rows and 9158 do not contain a rating among the 100 returned results per query\n",
      "675 do not contain a rating among the top 10 returned results per query\n"
     ]
    }
   ],
   "source": [
    "# Count the rows without ratings - the higher the count is the less reliable the results will be\n",
    "nan_count_rating = df_merged['rating'].isna().sum()\n",
    "print(f\"There are {df_merged.shape[0]} rows and {nan_count_rating} do not contain a rating among the 100 returned results per query\")\n",
    "nan_count_rating_top_10 = df_merged[df_merged['position'] < 10]['rating'].isna().sum()\n",
    "print(f\"{nan_count_rating_top_10} do not contain a rating among the top 10 returned results per query\")"
   ]
  },
  {
   "cell_type": "code",
   "execution_count": 356,
   "id": "473b1fca-6088-4da3-84d3-ec8a52120975",
   "metadata": {},
   "outputs": [
    {
     "data": {
      "text/html": [
       "<div>\n",
       "<style scoped>\n",
       "    .dataframe tbody tr th:only-of-type {\n",
       "        vertical-align: middle;\n",
       "    }\n",
       "\n",
       "    .dataframe tbody tr th {\n",
       "        vertical-align: top;\n",
       "    }\n",
       "\n",
       "    .dataframe thead th {\n",
       "        text-align: right;\n",
       "    }\n",
       "</style>\n",
       "<table border=\"1\" class=\"dataframe\">\n",
       "  <thead>\n",
       "    <tr style=\"text-align: right;\">\n",
       "      <th></th>\n",
       "      <th>query_id</th>\n",
       "      <th>query_string</th>\n",
       "      <th>product_id</th>\n",
       "      <th>position</th>\n",
       "      <th>relevance</th>\n",
       "      <th>run</th>\n",
       "      <th>neuralness</th>\n",
       "      <th>rating</th>\n",
       "    </tr>\n",
       "  </thead>\n",
       "  <tbody>\n",
       "    <tr>\n",
       "      <th>0</th>\n",
       "      <td>0</td>\n",
       "      <td>1 1/4 pop up bathroom sink drain without overflow</td>\n",
       "      <td>B07DN8NKMV</td>\n",
       "      <td>0</td>\n",
       "      <td>0.125472</td>\n",
       "      <td>linear_model</td>\n",
       "      <td>0.9</td>\n",
       "      <td>NaN</td>\n",
       "    </tr>\n",
       "    <tr>\n",
       "      <th>1</th>\n",
       "      <td>0</td>\n",
       "      <td>1 1/4 pop up bathroom sink drain without overflow</td>\n",
       "      <td>B07DN8CZ21</td>\n",
       "      <td>1</td>\n",
       "      <td>0.122919</td>\n",
       "      <td>linear_model</td>\n",
       "      <td>0.9</td>\n",
       "      <td>NaN</td>\n",
       "    </tr>\n",
       "    <tr>\n",
       "      <th>2</th>\n",
       "      <td>0</td>\n",
       "      <td>1 1/4 pop up bathroom sink drain without overflow</td>\n",
       "      <td>B08MT7ZDN2</td>\n",
       "      <td>2</td>\n",
       "      <td>0.111455</td>\n",
       "      <td>linear_model</td>\n",
       "      <td>0.9</td>\n",
       "      <td>NaN</td>\n",
       "    </tr>\n",
       "    <tr>\n",
       "      <th>3</th>\n",
       "      <td>0</td>\n",
       "      <td>1 1/4 pop up bathroom sink drain without overflow</td>\n",
       "      <td>B07M7Y58RY</td>\n",
       "      <td>3</td>\n",
       "      <td>0.109454</td>\n",
       "      <td>linear_model</td>\n",
       "      <td>0.9</td>\n",
       "      <td>3.0</td>\n",
       "    </tr>\n",
       "    <tr>\n",
       "      <th>4</th>\n",
       "      <td>0</td>\n",
       "      <td>1 1/4 pop up bathroom sink drain without overflow</td>\n",
       "      <td>B08BRLL5C9</td>\n",
       "      <td>4</td>\n",
       "      <td>0.108657</td>\n",
       "      <td>linear_model</td>\n",
       "      <td>0.9</td>\n",
       "      <td>NaN</td>\n",
       "    </tr>\n",
       "    <tr>\n",
       "      <th>5</th>\n",
       "      <td>0</td>\n",
       "      <td>1 1/4 pop up bathroom sink drain without overflow</td>\n",
       "      <td>B08JHV5RBB</td>\n",
       "      <td>5</td>\n",
       "      <td>0.107321</td>\n",
       "      <td>linear_model</td>\n",
       "      <td>0.9</td>\n",
       "      <td>NaN</td>\n",
       "    </tr>\n",
       "    <tr>\n",
       "      <th>6</th>\n",
       "      <td>0</td>\n",
       "      <td>1 1/4 pop up bathroom sink drain without overflow</td>\n",
       "      <td>B08TBDBHMX</td>\n",
       "      <td>6</td>\n",
       "      <td>0.106515</td>\n",
       "      <td>linear_model</td>\n",
       "      <td>0.9</td>\n",
       "      <td>NaN</td>\n",
       "    </tr>\n",
       "    <tr>\n",
       "      <th>7</th>\n",
       "      <td>0</td>\n",
       "      <td>1 1/4 pop up bathroom sink drain without overflow</td>\n",
       "      <td>B08YDL7WPW</td>\n",
       "      <td>7</td>\n",
       "      <td>0.106258</td>\n",
       "      <td>linear_model</td>\n",
       "      <td>0.9</td>\n",
       "      <td>NaN</td>\n",
       "    </tr>\n",
       "    <tr>\n",
       "      <th>8</th>\n",
       "      <td>0</td>\n",
       "      <td>1 1/4 pop up bathroom sink drain without overflow</td>\n",
       "      <td>B08PFFSSF2</td>\n",
       "      <td>8</td>\n",
       "      <td>0.105631</td>\n",
       "      <td>linear_model</td>\n",
       "      <td>0.9</td>\n",
       "      <td>NaN</td>\n",
       "    </tr>\n",
       "    <tr>\n",
       "      <th>9</th>\n",
       "      <td>0</td>\n",
       "      <td>1 1/4 pop up bathroom sink drain without overflow</td>\n",
       "      <td>B08MT97MQH</td>\n",
       "      <td>9</td>\n",
       "      <td>0.105390</td>\n",
       "      <td>linear_model</td>\n",
       "      <td>0.9</td>\n",
       "      <td>NaN</td>\n",
       "    </tr>\n",
       "  </tbody>\n",
       "</table>\n",
       "</div>"
      ],
      "text/plain": [
       "  query_id                                       query_string  product_id  \\\n",
       "0        0  1 1/4 pop up bathroom sink drain without overflow  B07DN8NKMV   \n",
       "1        0  1 1/4 pop up bathroom sink drain without overflow  B07DN8CZ21   \n",
       "2        0  1 1/4 pop up bathroom sink drain without overflow  B08MT7ZDN2   \n",
       "3        0  1 1/4 pop up bathroom sink drain without overflow  B07M7Y58RY   \n",
       "4        0  1 1/4 pop up bathroom sink drain without overflow  B08BRLL5C9   \n",
       "5        0  1 1/4 pop up bathroom sink drain without overflow  B08JHV5RBB   \n",
       "6        0  1 1/4 pop up bathroom sink drain without overflow  B08TBDBHMX   \n",
       "7        0  1 1/4 pop up bathroom sink drain without overflow  B08YDL7WPW   \n",
       "8        0  1 1/4 pop up bathroom sink drain without overflow  B08PFFSSF2   \n",
       "9        0  1 1/4 pop up bathroom sink drain without overflow  B08MT97MQH   \n",
       "\n",
       "   position  relevance           run  neuralness  rating  \n",
       "0         0   0.125472  linear_model         0.9     NaN  \n",
       "1         1   0.122919  linear_model         0.9     NaN  \n",
       "2         2   0.111455  linear_model         0.9     NaN  \n",
       "3         3   0.109454  linear_model         0.9     3.0  \n",
       "4         4   0.108657  linear_model         0.9     NaN  \n",
       "5         5   0.107321  linear_model         0.9     NaN  \n",
       "6         6   0.106515  linear_model         0.9     NaN  \n",
       "7         7   0.106258  linear_model         0.9     NaN  \n",
       "8         8   0.105631  linear_model         0.9     NaN  \n",
       "9         9   0.105390  linear_model         0.9     NaN  "
      ]
     },
     "execution_count": 356,
     "metadata": {},
     "output_type": "execute_result"
    }
   ],
   "source": [
    "df_merged[df_merged['position'] < 10].head(10)"
   ]
  },
  {
   "cell_type": "code",
   "execution_count": 357,
   "id": "5c112294-2bd9-49f3-a24a-d00491eabc17",
   "metadata": {},
   "outputs": [],
   "source": [
    "# import from shared utils file metrics.py\n",
    "from utils import metrics\n",
    "\n",
    "metrics = [\n",
    "    (\"dcg\", metrics.dcg_at_10, None),\n",
    "    (\"ndcg\", metrics.ndcg_at_10, None),\n",
    "    (\"prec@10\", metrics.precision_at_k, None),\n",
    "    (\"ratio_of_ratings\", metrics.ratio_of_ratings, None)\n",
    "]"
   ]
  },
  {
   "cell_type": "markdown",
   "id": "56cd3765-a3d2-41d0-b946-d0ee6d81e06b",
   "metadata": {},
   "source": [
    "## Calculate Metrics per Query and Model"
   ]
  },
  {
   "cell_type": "code",
   "execution_count": 358,
   "id": "0c2c2b65-9ea1-4def-981b-e864d38ff593",
   "metadata": {},
   "outputs": [],
   "source": [
    "reference = {query: df for query, df in df_ratings.groupby(\"query_string\")}\n",
    "\n",
    "df_metrics = []\n",
    "for m_name, m_function, ref_search in metrics:\n",
    "    for (query_string, run), df_gr in df_merged.groupby([\"query_string\", \"run\"]):\n",
    "        metric = m_function(df_gr, reference=reference[query_string])\n",
    "        df_metrics.append(pd.DataFrame({\n",
    "            \"query\": [query_string],\n",
    "            \"model\": [run],\n",
    "            \"metric\": [m_name],\n",
    "            \"value\": [metric],\n",
    "        }))\n",
    "df_metrics = pd.concat(df_metrics)"
   ]
  },
  {
   "cell_type": "code",
   "execution_count": 359,
   "id": "344c2f18-593f-4e0d-a83e-453d7b19438f",
   "metadata": {},
   "outputs": [
    {
     "data": {
      "text/html": [
       "<div>\n",
       "<style scoped>\n",
       "    .dataframe tbody tr th:only-of-type {\n",
       "        vertical-align: middle;\n",
       "    }\n",
       "\n",
       "    .dataframe tbody tr th {\n",
       "        vertical-align: top;\n",
       "    }\n",
       "\n",
       "    .dataframe thead th {\n",
       "        text-align: right;\n",
       "    }\n",
       "</style>\n",
       "<table border=\"1\" class=\"dataframe\">\n",
       "  <thead>\n",
       "    <tr style=\"text-align: right;\">\n",
       "      <th></th>\n",
       "      <th>query</th>\n",
       "      <th>model</th>\n",
       "      <th>metric</th>\n",
       "      <th>value</th>\n",
       "    </tr>\n",
       "  </thead>\n",
       "  <tbody>\n",
       "    <tr>\n",
       "      <th>0</th>\n",
       "      <td>1 1/4 pop up bathroom sink drain without overflow</td>\n",
       "      <td>linear_model</td>\n",
       "      <td>dcg</td>\n",
       "      <td>1.722706</td>\n",
       "    </tr>\n",
       "    <tr>\n",
       "      <th>0</th>\n",
       "      <td>1 1/4 pop up bathroom sink drain without overflow</td>\n",
       "      <td>random_forest</td>\n",
       "      <td>dcg</td>\n",
       "      <td>1.722706</td>\n",
       "    </tr>\n",
       "    <tr>\n",
       "      <th>0</th>\n",
       "      <td>1 ‘ velcro without adhesive for sewing</td>\n",
       "      <td>linear_model</td>\n",
       "      <td>dcg</td>\n",
       "      <td>2.150515</td>\n",
       "    </tr>\n",
       "  </tbody>\n",
       "</table>\n",
       "</div>"
      ],
      "text/plain": [
       "                                               query          model metric  \\\n",
       "0  1 1/4 pop up bathroom sink drain without overflow   linear_model    dcg   \n",
       "0  1 1/4 pop up bathroom sink drain without overflow  random_forest    dcg   \n",
       "0             1 ‘ velcro without adhesive for sewing   linear_model    dcg   \n",
       "\n",
       "      value  \n",
       "0  1.722706  \n",
       "0  1.722706  \n",
       "0  2.150515  "
      ]
     },
     "execution_count": 359,
     "metadata": {},
     "output_type": "execute_result"
    }
   ],
   "source": [
    "df_metrics.head(3)"
   ]
  },
  {
   "cell_type": "code",
   "execution_count": 360,
   "id": "596ee1b8-b3e4-48ec-a746-40b3af83bf38",
   "metadata": {},
   "outputs": [
    {
     "data": {
      "text/html": [
       "<div>\n",
       "<style scoped>\n",
       "    .dataframe tbody tr th:only-of-type {\n",
       "        vertical-align: middle;\n",
       "    }\n",
       "\n",
       "    .dataframe tbody tr th {\n",
       "        vertical-align: top;\n",
       "    }\n",
       "\n",
       "    .dataframe thead th {\n",
       "        text-align: right;\n",
       "    }\n",
       "</style>\n",
       "<table border=\"1\" class=\"dataframe\">\n",
       "  <thead>\n",
       "    <tr style=\"text-align: right;\">\n",
       "      <th></th>\n",
       "      <th>query_id</th>\n",
       "      <th>query_string</th>\n",
       "      <th>product_id</th>\n",
       "      <th>position</th>\n",
       "      <th>relevance</th>\n",
       "      <th>run</th>\n",
       "      <th>neuralness</th>\n",
       "      <th>rating</th>\n",
       "    </tr>\n",
       "  </thead>\n",
       "  <tbody>\n",
       "    <tr>\n",
       "      <th>200</th>\n",
       "      <td>1</td>\n",
       "      <td>1 ‘ velcro without adhesive for sewing</td>\n",
       "      <td>B00N0W89Z8</td>\n",
       "      <td>0</td>\n",
       "      <td>0.115505</td>\n",
       "      <td>linear_model</td>\n",
       "      <td>0.94</td>\n",
       "      <td>2.0</td>\n",
       "    </tr>\n",
       "    <tr>\n",
       "      <th>201</th>\n",
       "      <td>1</td>\n",
       "      <td>1 ‘ velcro without adhesive for sewing</td>\n",
       "      <td>B00MTZDPC4</td>\n",
       "      <td>1</td>\n",
       "      <td>0.106309</td>\n",
       "      <td>linear_model</td>\n",
       "      <td>0.94</td>\n",
       "      <td>NaN</td>\n",
       "    </tr>\n",
       "    <tr>\n",
       "      <th>202</th>\n",
       "      <td>1</td>\n",
       "      <td>1 ‘ velcro without adhesive for sewing</td>\n",
       "      <td>B09GY9S9QV</td>\n",
       "      <td>2</td>\n",
       "      <td>0.106251</td>\n",
       "      <td>linear_model</td>\n",
       "      <td>0.94</td>\n",
       "      <td>NaN</td>\n",
       "    </tr>\n",
       "    <tr>\n",
       "      <th>203</th>\n",
       "      <td>1</td>\n",
       "      <td>1 ‘ velcro without adhesive for sewing</td>\n",
       "      <td>B003WMM8ZS</td>\n",
       "      <td>3</td>\n",
       "      <td>0.105747</td>\n",
       "      <td>linear_model</td>\n",
       "      <td>0.94</td>\n",
       "      <td>NaN</td>\n",
       "    </tr>\n",
       "    <tr>\n",
       "      <th>204</th>\n",
       "      <td>1</td>\n",
       "      <td>1 ‘ velcro without adhesive for sewing</td>\n",
       "      <td>B0888MZ1JG</td>\n",
       "      <td>4</td>\n",
       "      <td>0.105315</td>\n",
       "      <td>linear_model</td>\n",
       "      <td>0.94</td>\n",
       "      <td>NaN</td>\n",
       "    </tr>\n",
       "    <tr>\n",
       "      <th>205</th>\n",
       "      <td>1</td>\n",
       "      <td>1 ‘ velcro without adhesive for sewing</td>\n",
       "      <td>B08YDJFFL1</td>\n",
       "      <td>5</td>\n",
       "      <td>0.104815</td>\n",
       "      <td>linear_model</td>\n",
       "      <td>0.94</td>\n",
       "      <td>NaN</td>\n",
       "    </tr>\n",
       "    <tr>\n",
       "      <th>206</th>\n",
       "      <td>1</td>\n",
       "      <td>1 ‘ velcro without adhesive for sewing</td>\n",
       "      <td>B001685U78</td>\n",
       "      <td>6</td>\n",
       "      <td>0.103267</td>\n",
       "      <td>linear_model</td>\n",
       "      <td>0.94</td>\n",
       "      <td>NaN</td>\n",
       "    </tr>\n",
       "    <tr>\n",
       "      <th>207</th>\n",
       "      <td>1</td>\n",
       "      <td>1 ‘ velcro without adhesive for sewing</td>\n",
       "      <td>B089Y6HQ3B</td>\n",
       "      <td>7</td>\n",
       "      <td>0.102214</td>\n",
       "      <td>linear_model</td>\n",
       "      <td>0.94</td>\n",
       "      <td>NaN</td>\n",
       "    </tr>\n",
       "    <tr>\n",
       "      <th>208</th>\n",
       "      <td>1</td>\n",
       "      <td>1 ‘ velcro without adhesive for sewing</td>\n",
       "      <td>B07PP496G5</td>\n",
       "      <td>8</td>\n",
       "      <td>0.101420</td>\n",
       "      <td>linear_model</td>\n",
       "      <td>0.94</td>\n",
       "      <td>0.0</td>\n",
       "    </tr>\n",
       "    <tr>\n",
       "      <th>209</th>\n",
       "      <td>1</td>\n",
       "      <td>1 ‘ velcro without adhesive for sewing</td>\n",
       "      <td>B08JPSPDMC</td>\n",
       "      <td>9</td>\n",
       "      <td>0.100818</td>\n",
       "      <td>linear_model</td>\n",
       "      <td>0.94</td>\n",
       "      <td>NaN</td>\n",
       "    </tr>\n",
       "  </tbody>\n",
       "</table>\n",
       "</div>"
      ],
      "text/plain": [
       "    query_id                            query_string  product_id  position  \\\n",
       "200        1  1 ‘ velcro without adhesive for sewing  B00N0W89Z8         0   \n",
       "201        1  1 ‘ velcro without adhesive for sewing  B00MTZDPC4         1   \n",
       "202        1  1 ‘ velcro without adhesive for sewing  B09GY9S9QV         2   \n",
       "203        1  1 ‘ velcro without adhesive for sewing  B003WMM8ZS         3   \n",
       "204        1  1 ‘ velcro without adhesive for sewing  B0888MZ1JG         4   \n",
       "205        1  1 ‘ velcro without adhesive for sewing  B08YDJFFL1         5   \n",
       "206        1  1 ‘ velcro without adhesive for sewing  B001685U78         6   \n",
       "207        1  1 ‘ velcro without adhesive for sewing  B089Y6HQ3B         7   \n",
       "208        1  1 ‘ velcro without adhesive for sewing  B07PP496G5         8   \n",
       "209        1  1 ‘ velcro without adhesive for sewing  B08JPSPDMC         9   \n",
       "\n",
       "     relevance           run  neuralness  rating  \n",
       "200   0.115505  linear_model        0.94     2.0  \n",
       "201   0.106309  linear_model        0.94     NaN  \n",
       "202   0.106251  linear_model        0.94     NaN  \n",
       "203   0.105747  linear_model        0.94     NaN  \n",
       "204   0.105315  linear_model        0.94     NaN  \n",
       "205   0.104815  linear_model        0.94     NaN  \n",
       "206   0.103267  linear_model        0.94     NaN  \n",
       "207   0.102214  linear_model        0.94     NaN  \n",
       "208   0.101420  linear_model        0.94     0.0  \n",
       "209   0.100818  linear_model        0.94     NaN  "
      ]
     },
     "execution_count": 360,
     "metadata": {},
     "output_type": "execute_result"
    }
   ],
   "source": [
    "df_merged[(df_merged['query_string'] == '1 ‘ velcro without adhesive for sewing') & (df_merged['run'] == 'linear_model')].head(10)"
   ]
  },
  {
   "cell_type": "markdown",
   "id": "64abdbac-0899-465e-a50e-3de231ac9399",
   "metadata": {},
   "source": [
    "## Calculate Metrics per Model by Averaging the Query Metrics"
   ]
  },
  {
   "cell_type": "code",
   "execution_count": 315,
   "id": "da4fa3d8-8e86-4596-809b-4b698f202b85",
   "metadata": {},
   "outputs": [
    {
     "data": {
      "text/html": [
       "<div>\n",
       "<style scoped>\n",
       "    .dataframe tbody tr th:only-of-type {\n",
       "        vertical-align: middle;\n",
       "    }\n",
       "\n",
       "    .dataframe tbody tr th {\n",
       "        vertical-align: top;\n",
       "    }\n",
       "\n",
       "    .dataframe thead th {\n",
       "        text-align: right;\n",
       "    }\n",
       "</style>\n",
       "<table border=\"1\" class=\"dataframe\">\n",
       "  <thead>\n",
       "    <tr style=\"text-align: right;\">\n",
       "      <th>metric</th>\n",
       "      <th>model</th>\n",
       "      <th>dcg</th>\n",
       "      <th>ndcg</th>\n",
       "      <th>prec@10</th>\n",
       "      <th>ratio_of_ratings</th>\n",
       "    </tr>\n",
       "  </thead>\n",
       "  <tbody>\n",
       "    <tr>\n",
       "      <th>0</th>\n",
       "      <td>linear_model</td>\n",
       "      <td>6.11</td>\n",
       "      <td>0.27</td>\n",
       "      <td>0.31</td>\n",
       "      <td>0.32</td>\n",
       "    </tr>\n",
       "    <tr>\n",
       "      <th>1</th>\n",
       "      <td>random_forest</td>\n",
       "      <td>6.30</td>\n",
       "      <td>0.28</td>\n",
       "      <td>0.32</td>\n",
       "      <td>0.33</td>\n",
       "    </tr>\n",
       "  </tbody>\n",
       "</table>\n",
       "</div>"
      ],
      "text/plain": [
       "metric          model   dcg  ndcg  prec@10  ratio_of_ratings\n",
       "0        linear_model  6.11  0.27     0.31              0.32\n",
       "1       random_forest  6.30  0.28     0.32              0.33"
      ]
     },
     "execution_count": 315,
     "metadata": {},
     "output_type": "execute_result"
    }
   ],
   "source": [
    "df_metrics_per_pipeline = df_metrics.pivot_table(index=\"model\", columns=\"metric\", values=\"value\", aggfunc=lambda x: x.mean().round(2))\n",
    "df_metrics_per_pipeline = df_metrics_per_pipeline.reset_index()\n",
    "df_metrics_per_pipeline"
   ]
  },
  {
   "cell_type": "markdown",
   "id": "8544206e-d695-41d5-86fe-bf2aa5de3dbf",
   "metadata": {},
   "source": [
    "# Compare to baseline and global hybrid search optimizer\n",
    "\n",
    "| Metric    | Baseline BM25 | Global Hybrid Search Optimizer | Linear Model | Random Forest Model\n",
    "| -------- | ------- | ------- | ------- | ------- |\n",
    "| DCG  | 6.03    | 6.27    | 6.11 | 6.30\n",
    "| NDCG | 0.26    | 0.28    | 0.27 | 0.30\n",
    "| Precision    | 0.30     | 0.32    | 0.31 | 0.32"
   ]
  },
  {
   "cell_type": "code",
   "execution_count": 316,
   "id": "11640b1c-bc7c-4919-aea5-5238f254e99e",
   "metadata": {},
   "outputs": [
    {
     "data": {
      "text/html": [
       "<div>\n",
       "<style scoped>\n",
       "    .dataframe tbody tr th:only-of-type {\n",
       "        vertical-align: middle;\n",
       "    }\n",
       "\n",
       "    .dataframe tbody tr th {\n",
       "        vertical-align: top;\n",
       "    }\n",
       "\n",
       "    .dataframe thead th {\n",
       "        text-align: right;\n",
       "    }\n",
       "</style>\n",
       "<table border=\"1\" class=\"dataframe\">\n",
       "  <thead>\n",
       "    <tr style=\"text-align: right;\">\n",
       "      <th></th>\n",
       "      <th>query</th>\n",
       "      <th>pipeline</th>\n",
       "      <th>metric</th>\n",
       "      <th>value</th>\n",
       "    </tr>\n",
       "  </thead>\n",
       "  <tbody>\n",
       "    <tr>\n",
       "      <th>0</th>\n",
       "      <td>1 1/4 pop up bathroom sink drain without overflow</td>\n",
       "      <td>l2arithmetic_mean0.4</td>\n",
       "      <td>dcg</td>\n",
       "      <td>1.722706</td>\n",
       "    </tr>\n",
       "    <tr>\n",
       "      <th>1</th>\n",
       "      <td>1 ‘ velcro without adhesive for sewing</td>\n",
       "      <td>l2arithmetic_mean0.4</td>\n",
       "      <td>dcg</td>\n",
       "      <td>2.150515</td>\n",
       "    </tr>\n",
       "    <tr>\n",
       "      <th>2</th>\n",
       "      <td>10x6 plastic register cover without vent</td>\n",
       "      <td>l2arithmetic_mean0.4</td>\n",
       "      <td>dcg</td>\n",
       "      <td>1.835050</td>\n",
       "    </tr>\n",
       "  </tbody>\n",
       "</table>\n",
       "</div>"
      ],
      "text/plain": [
       "                                               query              pipeline  \\\n",
       "0  1 1/4 pop up bathroom sink drain without overflow  l2arithmetic_mean0.4   \n",
       "1             1 ‘ velcro without adhesive for sewing  l2arithmetic_mean0.4   \n",
       "2           10x6 plastic register cover without vent  l2arithmetic_mean0.4   \n",
       "\n",
       "  metric     value  \n",
       "0    dcg  1.722706  \n",
       "1    dcg  2.150515  \n",
       "2    dcg  1.835050  "
      ]
     },
     "execution_count": 316,
     "metadata": {},
     "output_type": "execute_result"
    }
   ],
   "source": [
    "df_global_optimization_metrics = pd.read_csv('../data/metrics_query_test_small.csv')\n",
    "df_global_optimization_metrics.head(3)"
   ]
  },
  {
   "cell_type": "code",
   "execution_count": 317,
   "id": "6d55a138-a7df-4002-91a5-1213e7a49941",
   "metadata": {},
   "outputs": [
    {
     "data": {
      "text/html": [
       "<div>\n",
       "<style scoped>\n",
       "    .dataframe tbody tr th:only-of-type {\n",
       "        vertical-align: middle;\n",
       "    }\n",
       "\n",
       "    .dataframe tbody tr th {\n",
       "        vertical-align: top;\n",
       "    }\n",
       "\n",
       "    .dataframe thead th {\n",
       "        text-align: right;\n",
       "    }\n",
       "</style>\n",
       "<table border=\"1\" class=\"dataframe\">\n",
       "  <thead>\n",
       "    <tr style=\"text-align: right;\">\n",
       "      <th></th>\n",
       "      <th>query</th>\n",
       "      <th>linear_model dcg</th>\n",
       "      <th>linear_model ndcg</th>\n",
       "      <th>linear_model prec@10</th>\n",
       "      <th>linear_model ratio_of_ratings</th>\n",
       "      <th>random_forest dcg</th>\n",
       "      <th>random_forest ndcg</th>\n",
       "      <th>random_forest prec@10</th>\n",
       "      <th>random_forest ratio_of_ratings</th>\n",
       "    </tr>\n",
       "  </thead>\n",
       "  <tbody>\n",
       "    <tr>\n",
       "      <th>0</th>\n",
       "      <td>1 1/4 pop up bathroom sink drain without overflow</td>\n",
       "      <td>1.722706</td>\n",
       "      <td>0.044023</td>\n",
       "      <td>0.1</td>\n",
       "      <td>0.1</td>\n",
       "      <td>1.722706</td>\n",
       "      <td>0.044023</td>\n",
       "      <td>0.1</td>\n",
       "      <td>0.1</td>\n",
       "    </tr>\n",
       "    <tr>\n",
       "      <th>1</th>\n",
       "      <td>1 ‘ velcro without adhesive for sewing</td>\n",
       "      <td>2.150515</td>\n",
       "      <td>0.086189</td>\n",
       "      <td>0.1</td>\n",
       "      <td>0.2</td>\n",
       "      <td>2.150515</td>\n",
       "      <td>0.086189</td>\n",
       "      <td>0.1</td>\n",
       "      <td>0.2</td>\n",
       "    </tr>\n",
       "    <tr>\n",
       "      <th>2</th>\n",
       "      <td>10x6 plastic register cover without vent</td>\n",
       "      <td>1.835050</td>\n",
       "      <td>0.080321</td>\n",
       "      <td>0.2</td>\n",
       "      <td>0.2</td>\n",
       "      <td>1.835050</td>\n",
       "      <td>0.080321</td>\n",
       "      <td>0.2</td>\n",
       "      <td>0.2</td>\n",
       "    </tr>\n",
       "  </tbody>\n",
       "</table>\n",
       "</div>"
      ],
      "text/plain": [
       "                                               query  linear_model dcg  \\\n",
       "0  1 1/4 pop up bathroom sink drain without overflow          1.722706   \n",
       "1             1 ‘ velcro without adhesive for sewing          2.150515   \n",
       "2           10x6 plastic register cover without vent          1.835050   \n",
       "\n",
       "   linear_model ndcg  linear_model prec@10  linear_model ratio_of_ratings  \\\n",
       "0           0.044023                   0.1                            0.1   \n",
       "1           0.086189                   0.1                            0.2   \n",
       "2           0.080321                   0.2                            0.2   \n",
       "\n",
       "   random_forest dcg  random_forest ndcg  random_forest prec@10  \\\n",
       "0           1.722706            0.044023                    0.1   \n",
       "1           2.150515            0.086189                    0.1   \n",
       "2           1.835050            0.080321                    0.2   \n",
       "\n",
       "   random_forest ratio_of_ratings  \n",
       "0                             0.1  \n",
       "1                             0.2  \n",
       "2                             0.2  "
      ]
     },
     "execution_count": 317,
     "metadata": {},
     "output_type": "execute_result"
    }
   ],
   "source": [
    "df_metrics_pivot = df_metrics.pivot_table(index=\"query\", columns=[\"model\", \"metric\"], values=\"value\").reset_index()\n",
    "df_metrics_pivot.columns = [\" \".join(c).strip() for c in df_metrics_pivot.columns.values]\n",
    "df_metrics_pivot.head(3)"
   ]
  },
  {
   "cell_type": "markdown",
   "id": "eff27c8c-4e72-47dc-8a2e-284570040eef",
   "metadata": {},
   "source": [
    "## Get the max metric values to compare the per-query optimization approach to"
   ]
  },
  {
   "cell_type": "code",
   "execution_count": 318,
   "id": "629034fd-2c70-4595-a6ec-17502dfcfb65",
   "metadata": {
    "scrolled": true
   },
   "outputs": [
    {
     "name": "stdout",
     "output_type": "stream",
     "text": [
      "Max metrics for the query '1 ‘ velcro without adhesive for sewing'\n",
      "max for dcg: 2.15051499783199\n",
      "max for ndcg: 0.0861885860248209\n",
      "max for prec@10: 0.1\n"
     ]
    }
   ],
   "source": [
    "metrics = ['dcg', 'ndcg', 'prec@10']\n",
    "query = '1 ‘ velcro without adhesive for sewing'\n",
    "print(f\"Max metrics for the query '{query}'\")\n",
    "for metric in metrics:\n",
    "    max_value = df_global_optimization_metrics[(df_global_optimization_metrics['query'] == query) & (df_global_optimization_metrics['metric'] == metric)]['value'].max()\n",
    "    print(f\"max for {metric}: {max_value}\")"
   ]
  },
  {
   "cell_type": "code",
   "execution_count": 319,
   "id": "72396c00-7fe1-4a8c-ae6f-28dc376b0dec",
   "metadata": {},
   "outputs": [
    {
     "data": {
      "text/html": [
       "<div>\n",
       "<style scoped>\n",
       "    .dataframe tbody tr th:only-of-type {\n",
       "        vertical-align: middle;\n",
       "    }\n",
       "\n",
       "    .dataframe tbody tr th {\n",
       "        vertical-align: top;\n",
       "    }\n",
       "\n",
       "    .dataframe thead th {\n",
       "        text-align: right;\n",
       "    }\n",
       "</style>\n",
       "<table border=\"1\" class=\"dataframe\">\n",
       "  <thead>\n",
       "    <tr style=\"text-align: right;\">\n",
       "      <th></th>\n",
       "      <th>query</th>\n",
       "      <th>metric</th>\n",
       "      <th>value</th>\n",
       "    </tr>\n",
       "  </thead>\n",
       "  <tbody>\n",
       "    <tr>\n",
       "      <th>4</th>\n",
       "      <td>1 ‘ velcro without adhesive for sewing</td>\n",
       "      <td>dcg</td>\n",
       "      <td>2.150515</td>\n",
       "    </tr>\n",
       "    <tr>\n",
       "      <th>5</th>\n",
       "      <td>1 ‘ velcro without adhesive for sewing</td>\n",
       "      <td>ndcg</td>\n",
       "      <td>0.086189</td>\n",
       "    </tr>\n",
       "    <tr>\n",
       "      <th>6</th>\n",
       "      <td>1 ‘ velcro without adhesive for sewing</td>\n",
       "      <td>prec@10</td>\n",
       "      <td>0.100000</td>\n",
       "    </tr>\n",
       "    <tr>\n",
       "      <th>7</th>\n",
       "      <td>1 ‘ velcro without adhesive for sewing</td>\n",
       "      <td>ratio_of_ratings</td>\n",
       "      <td>0.200000</td>\n",
       "    </tr>\n",
       "  </tbody>\n",
       "</table>\n",
       "</div>"
      ],
      "text/plain": [
       "                                    query            metric     value\n",
       "4  1 ‘ velcro without adhesive for sewing               dcg  2.150515\n",
       "5  1 ‘ velcro without adhesive for sewing              ndcg  0.086189\n",
       "6  1 ‘ velcro without adhesive for sewing           prec@10  0.100000\n",
       "7  1 ‘ velcro without adhesive for sewing  ratio_of_ratings  0.200000"
      ]
     },
     "execution_count": 319,
     "metadata": {},
     "output_type": "execute_result"
    }
   ],
   "source": [
    "df_global_optimization_metrics_gr = df_global_optimization_metrics.groupby(by=['query', 'metric']).agg({\n",
    "    'value': 'max'\n",
    "}).reset_index()\n",
    "df_global_optimization_metrics_gr[df_global_optimization_metrics_gr['query'] == query]"
   ]
  },
  {
   "cell_type": "code",
   "execution_count": 320,
   "id": "7bda1268-2e4b-4fd8-92e3-3c604d6aa60d",
   "metadata": {},
   "outputs": [
    {
     "data": {
      "text/html": [
       "<div>\n",
       "<style scoped>\n",
       "    .dataframe tbody tr th:only-of-type {\n",
       "        vertical-align: middle;\n",
       "    }\n",
       "\n",
       "    .dataframe tbody tr th {\n",
       "        vertical-align: top;\n",
       "    }\n",
       "\n",
       "    .dataframe thead th {\n",
       "        text-align: right;\n",
       "    }\n",
       "</style>\n",
       "<table border=\"1\" class=\"dataframe\">\n",
       "  <thead>\n",
       "    <tr style=\"text-align: right;\">\n",
       "      <th></th>\n",
       "      <th>query</th>\n",
       "      <th>dcg</th>\n",
       "      <th>ndcg</th>\n",
       "      <th>prec@10</th>\n",
       "      <th>ratio_of_ratings</th>\n",
       "    </tr>\n",
       "  </thead>\n",
       "  <tbody>\n",
       "    <tr>\n",
       "      <th>0</th>\n",
       "      <td>1 1/4 pop up bathroom sink drain without overflow</td>\n",
       "      <td>1.722706</td>\n",
       "      <td>0.044023</td>\n",
       "      <td>0.1</td>\n",
       "      <td>0.1</td>\n",
       "    </tr>\n",
       "    <tr>\n",
       "      <th>1</th>\n",
       "      <td>1 ‘ velcro without adhesive for sewing</td>\n",
       "      <td>2.150515</td>\n",
       "      <td>0.086189</td>\n",
       "      <td>0.1</td>\n",
       "      <td>0.2</td>\n",
       "    </tr>\n",
       "    <tr>\n",
       "      <th>2</th>\n",
       "      <td>10x6 plastic register cover without vent</td>\n",
       "      <td>1.835050</td>\n",
       "      <td>0.080321</td>\n",
       "      <td>0.2</td>\n",
       "      <td>0.2</td>\n",
       "    </tr>\n",
       "    <tr>\n",
       "      <th>3</th>\n",
       "      <td>barn pictures for walls</td>\n",
       "      <td>6.000000</td>\n",
       "      <td>0.245660</td>\n",
       "      <td>0.2</td>\n",
       "      <td>0.2</td>\n",
       "    </tr>\n",
       "    <tr>\n",
       "      <th>4</th>\n",
       "      <td>black bear onesie</td>\n",
       "      <td>6.701823</td>\n",
       "      <td>0.488564</td>\n",
       "      <td>0.2</td>\n",
       "      <td>0.3</td>\n",
       "    </tr>\n",
       "  </tbody>\n",
       "</table>\n",
       "</div>"
      ],
      "text/plain": [
       "                                               query       dcg      ndcg  \\\n",
       "0  1 1/4 pop up bathroom sink drain without overflow  1.722706  0.044023   \n",
       "1             1 ‘ velcro without adhesive for sewing  2.150515  0.086189   \n",
       "2           10x6 plastic register cover without vent  1.835050  0.080321   \n",
       "3                            barn pictures for walls  6.000000  0.245660   \n",
       "4                                  black bear onesie  6.701823  0.488564   \n",
       "\n",
       "   prec@10  ratio_of_ratings  \n",
       "0      0.1               0.1  \n",
       "1      0.1               0.2  \n",
       "2      0.2               0.2  \n",
       "3      0.2               0.2  \n",
       "4      0.2               0.3  "
      ]
     },
     "execution_count": 320,
     "metadata": {},
     "output_type": "execute_result"
    }
   ],
   "source": [
    "df_global_optimization_metrics_pivot = df_global_optimization_metrics_gr.pivot_table(index=\"query\", columns=[\"metric\"], values=\"value\").reset_index()\n",
    "df_global_optimization_metrics_pivot.columns = ['query', 'dcg', 'ndcg', 'prec@10', 'ratio_of_ratings']\n",
    "df_global_optimization_metrics_pivot.head(5)"
   ]
  },
  {
   "cell_type": "code",
   "execution_count": 321,
   "id": "988cc2bb-51c6-401d-bfec-c61ae9665702",
   "metadata": {},
   "outputs": [],
   "source": [
    "df_metrics_merged = df_metrics_pivot.merge(df_global_optimization_metrics_pivot, on='query', how='left')"
   ]
  },
  {
   "cell_type": "code",
   "execution_count": 322,
   "id": "1605e60a-67fd-416e-bc27-37287d221ac7",
   "metadata": {},
   "outputs": [
    {
     "data": {
      "text/html": [
       "<div>\n",
       "<style scoped>\n",
       "    .dataframe tbody tr th:only-of-type {\n",
       "        vertical-align: middle;\n",
       "    }\n",
       "\n",
       "    .dataframe tbody tr th {\n",
       "        vertical-align: top;\n",
       "    }\n",
       "\n",
       "    .dataframe thead th {\n",
       "        text-align: right;\n",
       "    }\n",
       "</style>\n",
       "<table border=\"1\" class=\"dataframe\">\n",
       "  <thead>\n",
       "    <tr style=\"text-align: right;\">\n",
       "      <th></th>\n",
       "      <th>query</th>\n",
       "      <th>linear_model dcg</th>\n",
       "      <th>linear_model ndcg</th>\n",
       "      <th>linear_model prec@10</th>\n",
       "      <th>linear_model ratio_of_ratings</th>\n",
       "      <th>random_forest dcg</th>\n",
       "      <th>random_forest ndcg</th>\n",
       "      <th>random_forest prec@10</th>\n",
       "      <th>random_forest ratio_of_ratings</th>\n",
       "      <th>dcg</th>\n",
       "      <th>ndcg</th>\n",
       "      <th>prec@10</th>\n",
       "      <th>ratio_of_ratings</th>\n",
       "    </tr>\n",
       "  </thead>\n",
       "  <tbody>\n",
       "    <tr>\n",
       "      <th>0</th>\n",
       "      <td>1 1/4 pop up bathroom sink drain without overflow</td>\n",
       "      <td>1.722706</td>\n",
       "      <td>0.044023</td>\n",
       "      <td>0.1</td>\n",
       "      <td>0.1</td>\n",
       "      <td>1.722706</td>\n",
       "      <td>0.044023</td>\n",
       "      <td>0.1</td>\n",
       "      <td>0.1</td>\n",
       "      <td>1.722706</td>\n",
       "      <td>0.044023</td>\n",
       "      <td>0.1</td>\n",
       "      <td>0.1</td>\n",
       "    </tr>\n",
       "    <tr>\n",
       "      <th>1</th>\n",
       "      <td>1 ‘ velcro without adhesive for sewing</td>\n",
       "      <td>2.150515</td>\n",
       "      <td>0.086189</td>\n",
       "      <td>0.1</td>\n",
       "      <td>0.2</td>\n",
       "      <td>2.150515</td>\n",
       "      <td>0.086189</td>\n",
       "      <td>0.1</td>\n",
       "      <td>0.2</td>\n",
       "      <td>2.150515</td>\n",
       "      <td>0.086189</td>\n",
       "      <td>0.1</td>\n",
       "      <td>0.2</td>\n",
       "    </tr>\n",
       "    <tr>\n",
       "      <th>2</th>\n",
       "      <td>10x6 plastic register cover without vent</td>\n",
       "      <td>1.835050</td>\n",
       "      <td>0.080321</td>\n",
       "      <td>0.2</td>\n",
       "      <td>0.2</td>\n",
       "      <td>1.835050</td>\n",
       "      <td>0.080321</td>\n",
       "      <td>0.2</td>\n",
       "      <td>0.2</td>\n",
       "      <td>1.835050</td>\n",
       "      <td>0.080321</td>\n",
       "      <td>0.2</td>\n",
       "      <td>0.2</td>\n",
       "    </tr>\n",
       "  </tbody>\n",
       "</table>\n",
       "</div>"
      ],
      "text/plain": [
       "                                               query  linear_model dcg  \\\n",
       "0  1 1/4 pop up bathroom sink drain without overflow          1.722706   \n",
       "1             1 ‘ velcro without adhesive for sewing          2.150515   \n",
       "2           10x6 plastic register cover without vent          1.835050   \n",
       "\n",
       "   linear_model ndcg  linear_model prec@10  linear_model ratio_of_ratings  \\\n",
       "0           0.044023                   0.1                            0.1   \n",
       "1           0.086189                   0.1                            0.2   \n",
       "2           0.080321                   0.2                            0.2   \n",
       "\n",
       "   random_forest dcg  random_forest ndcg  random_forest prec@10  \\\n",
       "0           1.722706            0.044023                    0.1   \n",
       "1           2.150515            0.086189                    0.1   \n",
       "2           1.835050            0.080321                    0.2   \n",
       "\n",
       "   random_forest ratio_of_ratings       dcg      ndcg  prec@10  \\\n",
       "0                             0.1  1.722706  0.044023      0.1   \n",
       "1                             0.2  2.150515  0.086189      0.1   \n",
       "2                             0.2  1.835050  0.080321      0.2   \n",
       "\n",
       "   ratio_of_ratings  \n",
       "0               0.1  \n",
       "1               0.2  \n",
       "2               0.2  "
      ]
     },
     "execution_count": 322,
     "metadata": {},
     "output_type": "execute_result"
    }
   ],
   "source": [
    "df_metrics_merged.head(3)"
   ]
  },
  {
   "cell_type": "markdown",
   "id": "804f25e0-48b3-4544-9172-efeca8485823",
   "metadata": {},
   "source": [
    "## Visiualization"
   ]
  },
  {
   "cell_type": "code",
   "execution_count": 323,
   "id": "fee5019e-1f37-4fff-85df-0afb4c879efd",
   "metadata": {},
   "outputs": [
    {
     "data": {
      "application/vnd.plotly.v1+json": {
       "config": {
        "plotlyServerURL": "https://plot.ly"
       },
       "data": [
        {
         "customdata": [
          [
           "1 1/4 pop up bathroom sink drain without overflow",
           0.04402283258477638,
           0.1,
           0.1,
           0.04402283258477638,
           0.1,
           0.1,
           1.7227062322935722,
           0.0440228325847763,
           0.1,
           0.1
          ],
          [
           "1 ‘ velcro without adhesive for sewing",
           0.0861885860248209,
           0.1,
           0.2,
           0.0861885860248209,
           0.1,
           0.2,
           2.15051499783199,
           0.0861885860248209,
           0.1,
           0.2
          ],
          [
           "10x6 plastic register cover without vent",
           0.08032072913484654,
           0.2,
           0.2,
           0.08032072913484654,
           0.2,
           0.2,
           1.8350497362273823,
           0.0803207291348465,
           0.2,
           0.2
          ],
          [
           "barn pictures for walls",
           0.23430673110551667,
           0.2,
           0.2,
           0.23430673110551667,
           0.2,
           0.2,
           6,
           0.245660065285172,
           0.2,
           0.2
          ],
          [
           "black bear onesie",
           0.4885644593952938,
           0.2,
           0.3,
           0.4885644593952938,
           0.2,
           0.3,
           6.7018226078398415,
           0.4885644593952938,
           0.2,
           0.3
          ],
          [
           "bloch ballet shoes women",
           0.21967383024888934,
           0.5,
           0.5,
           0.21967383024888934,
           0.5,
           0.5,
           8.933113502154406,
           0.2196738302488893,
           0.5,
           0.5
          ],
          [
           "canon toner",
           0.7441140557478906,
           1,
           1,
           0.7441140557478906,
           1,
           1,
           18.17423735235338,
           0.7441140557478906,
           1,
           1
          ],
          [
           "colemen tents",
           0,
           0,
           0,
           0,
           0,
           0,
           0,
           0,
           0,
           0
          ],
          [
           "colorful decorations for party",
           0,
           0,
           0,
           0,
           0,
           0,
           0,
           0,
           0,
           0
          ],
          [
           "cutting board stove cover",
           0.49147827996815846,
           0.5,
           0.5,
           0.49147827996815846,
           0.5,
           0.5,
           10.827513300283044,
           0.4914782799681584,
           0.5,
           0.5
          ],
          [
           "death in the tall grass",
           0.07178666816243652,
           0.1,
           0.1,
           0.07475811111624223,
           0.1,
           0.1,
           1.1562593052715515,
           0.0717866681624365,
           0.1,
           0.1
          ],
          [
           "flower lip stick",
           0.1671214244214466,
           0.1,
           0.1,
           0.1671214244214466,
           0.1,
           0.1,
           4,
           0.1671214244214466,
           0.1,
           0.1
          ],
          [
           "fork spoon knife combo",
           0.26853344652975714,
           0.3,
           0.3,
           0.26853344652975714,
           0.3,
           0.3,
           4.7581620817654215,
           0.2685334465297571,
           0.3,
           0.3
          ],
          [
           "franmar soy gel paint remover",
           0.11567557155327671,
           0.2,
           0.3,
           0.11567557155327671,
           0.2,
           0.3,
           3.4285261738095816,
           0.1156755715532767,
           0.2,
           0.3
          ],
          [
           "hidizs",
           0.1744989272174902,
           0.1,
           0.1,
           0.520347604127338,
           0.7,
           0.7,
           11.92781210577398,
           0.520347604127338,
           0.7,
           0.7
          ],
          [
           "honeywell glass break sensor",
           0.5582888434590495,
           0.7,
           0.7,
           0.5582888434590495,
           0.7,
           0.7,
           11.154058548610951,
           0.5582888434590495,
           0.7,
           0.7
          ],
          [
           "karaoke machine for adults",
           0.32239350896203994,
           0.4,
           0.4,
           0.3582827477577313,
           0.5,
           0.5,
           10.884098302213308,
           0.3582827477577313,
           0.5,
           0.5
          ],
          [
           "kingston 120gb",
           0.6871519554480504,
           0.6,
           0.6,
           0.6871519554480504,
           0.6,
           0.6,
           12.933113502154406,
           0.6871519554480504,
           0.6,
           0.6
          ],
          [
           "laptop dell core i7 touch screen with terabytes",
           0.036395853546675884,
           0.1,
           0.1,
           0.036395853546675884,
           0.1,
           0.1,
           0.6309297535714575,
           0.0363958535466758,
           0.1,
           0.1
          ],
          [
           "lenox lamps",
           0.7920648014488558,
           1,
           1,
           0.7920648014488558,
           1,
           1,
           18.17423735235338,
           0.7920648014488558,
           1,
           1
          ],
          [
           "mary jane shoes women",
           0.2944614055768496,
           0.3,
           0.3,
           0.2985464822661115,
           0.3,
           0.3,
           6.686688255575004,
           0.2985464822661115,
           0.3,
           0.3
          ],
          [
           "mens white graphic t-shirts",
           0.18833773921584998,
           0.3,
           0.3,
           0.18833773921584998,
           0.3,
           0.3,
           7.375765605797046,
           0.2024578819464626,
           0.4,
           0.4
          ],
          [
           "mens wide width basketball shoes",
           0.069731285008802,
           0.1,
           0.1,
           0,
           0,
           0,
           0,
           0,
           0,
           0
          ],
          [
           "metal keaf tray",
           0.38054453117082643,
           0.1,
           0.1,
           0.38054453117082643,
           0.1,
           0.1,
           4,
           0.3805445311708264,
           0.1,
           0.1
          ],
          [
           "motor mount",
           0,
           0,
           0,
           0,
           0,
           0,
           0,
           0,
           0,
           0
          ],
          [
           "motorrad rallye glove",
           0.48287910642304827,
           0.5,
           0.5,
           0.48287910642304827,
           0.5,
           0.5,
           11.793836475517567,
           0.4828791064230482,
           0.5,
           0.5
          ],
          [
           "neon hoops",
           0.4187522100644103,
           0.4,
           0.4,
           0.5903883844220756,
           0.7,
           0.7,
           12.904119891121642,
           0.5903883844220756,
           0.7,
           0.7
          ],
          [
           "new oxo good grips 12 piece pop container set",
           0.27057751143314046,
           0.4,
           0.4,
           0.27057751143314046,
           0.4,
           0.4,
           6.608583559213255,
           0.2705775114331404,
           0.4,
           0.4
          ],
          [
           "ninja turtle hoodie sweatshirt size 5",
           0.19803559031536722,
           0.2,
           0.2,
           0.19803559031536722,
           0.2,
           0.2,
           2.7124143742160443,
           0.1980355903153672,
           0.2,
           0.2
          ],
          [
           "palladia book shelf",
           0,
           0,
           0,
           0,
           0,
           0,
           0,
           0,
           0,
           0
          ],
          [
           "party hats",
           0.29188085807238295,
           0.3,
           0.3,
           0.29188085807238295,
           0.3,
           0.3,
           6,
           0.2545855388969112,
           0.2,
           0.2
          ],
          [
           "pearl hair band",
           0.08530460913930238,
           0.1,
           0.1,
           0.08530460913930238,
           0.1,
           0.1,
           2,
           0.0853046091393023,
           0.1,
           0.1
          ],
          [
           "pens paper mate",
           0.04930069892507245,
           0.1,
           0.1,
           0.051664748150907255,
           0.1,
           0.1,
           2,
           0.0818866884283906,
           0.1,
           0.1
          ],
          [
           "pet rainproof clothes",
           0.3869835109009092,
           0.4,
           0.4,
           0.3869835109009092,
           0.4,
           0.4,
           8.926826214949497,
           0.3869835109009092,
           0.4,
           0.4
          ],
          [
           "plastic bottle cutter",
           0.691686720364392,
           0.8,
           0.8,
           0.7029768704738563,
           0.8,
           0.8,
           15.364966616272302,
           0.7029768704738563,
           0.8,
           0.8
          ],
          [
           "plastic, satire",
           0.4928814930244742,
           0.5,
           0.6,
           0.5155356339580601,
           0.5,
           0.5,
           10.229886263822705,
           0.4928814930244742,
           0.5,
           0.6
          ],
          [
           "please do not annoy the writer mug",
           0.4928841902434815,
           1,
           1,
           0.4928841902434815,
           1,
           1,
           18.17423735235338,
           0.4928841902434815,
           1,
           1
          ],
          [
           "rasberry pi4",
           0.04565921470224593,
           0.1,
           0.1,
           0.04565921470224593,
           0.1,
           0.1,
           0.6666666666666666,
           0.0456592147022459,
           0.1,
           0.1
          ],
          [
           "reflex gun sight",
           0.48886917468793034,
           0.6,
           0.6,
           0.4639953314275065,
           0.6,
           0.6,
           10.17635996002618,
           0.416654208690907,
           0.5,
           0.5
          ],
          [
           "sambucus elderberry syrup",
           0.18984602513414658,
           0.3,
           0.3,
           0.1335528148774869,
           0.2,
           0.2,
           3.0560395656269055,
           0.1296705799509013,
           0.2,
           0.2
          ],
          [
           "smart watch for men women,fitness tracker with 1.54",
           0.3393577401752507,
           0.4,
           0.4,
           0.2770674705764361,
           0.4,
           0.4,
           5.5742999686982175,
           0.2770674705764361,
           0.4,
           0.4
          ],
          [
           "some will not sleep",
           0.18626227341797114,
           0.1,
           0.1,
           0.18626227341797114,
           0.1,
           0.1,
           2,
           0.1862622734179711,
           0.1,
           0.1
          ],
          [
           "sticky notes holder for desk",
           0.0646513921864719,
           0.1,
           0.1,
           0.0646513921864719,
           0.1,
           0.1,
           1.5474112289381663,
           0.0646513921864719,
           0.1,
           0.1
          ],
          [
           "tactical gloves",
           0.4187734452610907,
           0.3,
           0.3,
           0.4187734452610907,
           0.3,
           0.3,
           8.523719014285831,
           0.4187734452610907,
           0.3,
           0.3
          ],
          [
           "thigh knife holster women",
           0.13067043024019243,
           0.2,
           0.2,
           0.13963323491400842,
           0.2,
           0.2,
           2.6289487310880135,
           0.1306704302401924,
           0.2,
           0.2
          ],
          [
           "vegan instant pot cookbook",
           0.6822664430151961,
           0.7,
           0.7,
           0.6857157878404067,
           0.7,
           0.7,
           14.20870731100075,
           0.6857157878404067,
           0.7,
           0.7
          ],
          [
           "waterproof iphone 6 case for underwatee pictures",
           0.1525410675894521,
           0.1,
           0.2,
           0.1525410675894521,
           0.1,
           0.2,
           1.8333333333333333,
           0.1525410675894521,
           0.1,
           0.2
          ],
          [
           "waverly shower curtain",
           0.5412163603163843,
           0.6,
           0.6,
           0.5412163603163843,
           0.6,
           0.6,
           13.218665223949657,
           0.5412163603163843,
           0.6,
           0.6
          ],
          [
           "women thermal coats",
           0,
           0,
           0,
           0,
           0,
           0,
           0,
           0,
           0,
           0
          ],
          [
           "work clothes for women",
           0,
           0,
           0,
           0,
           0,
           0,
           0,
           0,
           0,
           0
          ]
         ],
         "hovertemplate": "linear_model dcg=%{x}<br>random_forest dcg=%{y}<br>query=%{customdata[0]}<br>linear_model ndcg=%{customdata[1]}<br>linear_model prec@10=%{customdata[2]}<br>linear_model ratio_of_ratings=%{customdata[3]}<br>random_forest ndcg=%{customdata[4]}<br>random_forest prec@10=%{customdata[5]}<br>random_forest ratio_of_ratings=%{customdata[6]}<br>dcg=%{customdata[7]}<br>ndcg=%{customdata[8]}<br>prec@10=%{customdata[9]}<br>ratio_of_ratings=%{customdata[10]}<extra></extra>",
         "legendgroup": "",
         "marker": {
          "color": "#636efa",
          "symbol": "circle"
         },
         "mode": "markers",
         "name": "",
         "orientation": "v",
         "showlegend": false,
         "type": "scatter",
         "x": [
          1.7227062322935722,
          2.1505149978319906,
          1.8350497362273823,
          5.7227062322935724,
          6.7018226078398415,
          8.933113502154406,
          18.17423735235338,
          0,
          0,
          10.827513300283044,
          1.1562593052715515,
          4,
          4.7581620817654215,
          3.4285261738095816,
          4,
          11.154058548610953,
          9.793836475517569,
          12.933113502154406,
          0.6309297535714575,
          18.17423735235338,
          6.5951928404762485,
          6.861353116146786,
          1.3333333333333333,
          4,
          0,
          11.793836475517569,
          9.152667745373844,
          6.608583559213255,
          2.7124143742160443,
          0,
          6.878965537565124,
          2,
          1.2041199826559248,
          8.926826214949497,
          15.118197786726476,
          10.229886263822703,
          18.17423735235338,
          0.6666666666666666,
          11.940137867840214,
          4.474237443887664,
          6.827513300283043,
          2,
          1.5474112289381665,
          8.523719014285831,
          2.6289487310880135,
          14.13723348481033,
          1.8333333333333333,
          13.218665223949657,
          0,
          0
         ],
         "xaxis": "x",
         "y": [
          1.7227062322935722,
          2.1505149978319906,
          1.8350497362273823,
          5.7227062322935724,
          6.7018226078398415,
          8.933113502154406,
          18.17423735235338,
          0,
          0,
          10.827513300283044,
          1.2041199826559248,
          4,
          4.7581620817654215,
          3.4285261738095816,
          11.927812105773981,
          11.154058548610953,
          10.884098302213307,
          12.933113502154406,
          0.6309297535714575,
          18.17423735235338,
          6.686688255575004,
          6.861353116146786,
          0,
          4,
          0,
          11.793836475517569,
          12.904119891121642,
          6.608583559213255,
          2.7124143742160443,
          0,
          6.878965537565124,
          2,
          1.261859507142915,
          8.926826214949497,
          15.364966616272302,
          10.70007897431201,
          18.17423735235338,
          0.6666666666666666,
          11.33261926529773,
          3.147534980725661,
          5.5742999686982175,
          2,
          1.5474112289381665,
          8.523719014285831,
          2.8092707360810816,
          14.20870731100075,
          1.8333333333333333,
          13.218665223949657,
          0,
          0
         ],
         "yaxis": "y"
        }
       ],
       "layout": {
        "autosize": true,
        "legend": {
         "tracegroupgap": 0
        },
        "margin": {
         "t": 60
        },
        "template": {
         "data": {
          "bar": [
           {
            "error_x": {
             "color": "#2a3f5f"
            },
            "error_y": {
             "color": "#2a3f5f"
            },
            "marker": {
             "line": {
              "color": "#E5ECF6",
              "width": 0.5
             },
             "pattern": {
              "fillmode": "overlay",
              "size": 10,
              "solidity": 0.2
             }
            },
            "type": "bar"
           }
          ],
          "barpolar": [
           {
            "marker": {
             "line": {
              "color": "#E5ECF6",
              "width": 0.5
             },
             "pattern": {
              "fillmode": "overlay",
              "size": 10,
              "solidity": 0.2
             }
            },
            "type": "barpolar"
           }
          ],
          "carpet": [
           {
            "aaxis": {
             "endlinecolor": "#2a3f5f",
             "gridcolor": "white",
             "linecolor": "white",
             "minorgridcolor": "white",
             "startlinecolor": "#2a3f5f"
            },
            "baxis": {
             "endlinecolor": "#2a3f5f",
             "gridcolor": "white",
             "linecolor": "white",
             "minorgridcolor": "white",
             "startlinecolor": "#2a3f5f"
            },
            "type": "carpet"
           }
          ],
          "choropleth": [
           {
            "colorbar": {
             "outlinewidth": 0,
             "ticks": ""
            },
            "type": "choropleth"
           }
          ],
          "contour": [
           {
            "colorbar": {
             "outlinewidth": 0,
             "ticks": ""
            },
            "colorscale": [
             [
              0,
              "#0d0887"
             ],
             [
              0.1111111111111111,
              "#46039f"
             ],
             [
              0.2222222222222222,
              "#7201a8"
             ],
             [
              0.3333333333333333,
              "#9c179e"
             ],
             [
              0.4444444444444444,
              "#bd3786"
             ],
             [
              0.5555555555555556,
              "#d8576b"
             ],
             [
              0.6666666666666666,
              "#ed7953"
             ],
             [
              0.7777777777777778,
              "#fb9f3a"
             ],
             [
              0.8888888888888888,
              "#fdca26"
             ],
             [
              1,
              "#f0f921"
             ]
            ],
            "type": "contour"
           }
          ],
          "contourcarpet": [
           {
            "colorbar": {
             "outlinewidth": 0,
             "ticks": ""
            },
            "type": "contourcarpet"
           }
          ],
          "heatmap": [
           {
            "colorbar": {
             "outlinewidth": 0,
             "ticks": ""
            },
            "colorscale": [
             [
              0,
              "#0d0887"
             ],
             [
              0.1111111111111111,
              "#46039f"
             ],
             [
              0.2222222222222222,
              "#7201a8"
             ],
             [
              0.3333333333333333,
              "#9c179e"
             ],
             [
              0.4444444444444444,
              "#bd3786"
             ],
             [
              0.5555555555555556,
              "#d8576b"
             ],
             [
              0.6666666666666666,
              "#ed7953"
             ],
             [
              0.7777777777777778,
              "#fb9f3a"
             ],
             [
              0.8888888888888888,
              "#fdca26"
             ],
             [
              1,
              "#f0f921"
             ]
            ],
            "type": "heatmap"
           }
          ],
          "heatmapgl": [
           {
            "colorbar": {
             "outlinewidth": 0,
             "ticks": ""
            },
            "colorscale": [
             [
              0,
              "#0d0887"
             ],
             [
              0.1111111111111111,
              "#46039f"
             ],
             [
              0.2222222222222222,
              "#7201a8"
             ],
             [
              0.3333333333333333,
              "#9c179e"
             ],
             [
              0.4444444444444444,
              "#bd3786"
             ],
             [
              0.5555555555555556,
              "#d8576b"
             ],
             [
              0.6666666666666666,
              "#ed7953"
             ],
             [
              0.7777777777777778,
              "#fb9f3a"
             ],
             [
              0.8888888888888888,
              "#fdca26"
             ],
             [
              1,
              "#f0f921"
             ]
            ],
            "type": "heatmapgl"
           }
          ],
          "histogram": [
           {
            "marker": {
             "pattern": {
              "fillmode": "overlay",
              "size": 10,
              "solidity": 0.2
             }
            },
            "type": "histogram"
           }
          ],
          "histogram2d": [
           {
            "colorbar": {
             "outlinewidth": 0,
             "ticks": ""
            },
            "colorscale": [
             [
              0,
              "#0d0887"
             ],
             [
              0.1111111111111111,
              "#46039f"
             ],
             [
              0.2222222222222222,
              "#7201a8"
             ],
             [
              0.3333333333333333,
              "#9c179e"
             ],
             [
              0.4444444444444444,
              "#bd3786"
             ],
             [
              0.5555555555555556,
              "#d8576b"
             ],
             [
              0.6666666666666666,
              "#ed7953"
             ],
             [
              0.7777777777777778,
              "#fb9f3a"
             ],
             [
              0.8888888888888888,
              "#fdca26"
             ],
             [
              1,
              "#f0f921"
             ]
            ],
            "type": "histogram2d"
           }
          ],
          "histogram2dcontour": [
           {
            "colorbar": {
             "outlinewidth": 0,
             "ticks": ""
            },
            "colorscale": [
             [
              0,
              "#0d0887"
             ],
             [
              0.1111111111111111,
              "#46039f"
             ],
             [
              0.2222222222222222,
              "#7201a8"
             ],
             [
              0.3333333333333333,
              "#9c179e"
             ],
             [
              0.4444444444444444,
              "#bd3786"
             ],
             [
              0.5555555555555556,
              "#d8576b"
             ],
             [
              0.6666666666666666,
              "#ed7953"
             ],
             [
              0.7777777777777778,
              "#fb9f3a"
             ],
             [
              0.8888888888888888,
              "#fdca26"
             ],
             [
              1,
              "#f0f921"
             ]
            ],
            "type": "histogram2dcontour"
           }
          ],
          "mesh3d": [
           {
            "colorbar": {
             "outlinewidth": 0,
             "ticks": ""
            },
            "type": "mesh3d"
           }
          ],
          "parcoords": [
           {
            "line": {
             "colorbar": {
              "outlinewidth": 0,
              "ticks": ""
             }
            },
            "type": "parcoords"
           }
          ],
          "pie": [
           {
            "automargin": true,
            "type": "pie"
           }
          ],
          "scatter": [
           {
            "fillpattern": {
             "fillmode": "overlay",
             "size": 10,
             "solidity": 0.2
            },
            "type": "scatter"
           }
          ],
          "scatter3d": [
           {
            "line": {
             "colorbar": {
              "outlinewidth": 0,
              "ticks": ""
             }
            },
            "marker": {
             "colorbar": {
              "outlinewidth": 0,
              "ticks": ""
             }
            },
            "type": "scatter3d"
           }
          ],
          "scattercarpet": [
           {
            "marker": {
             "colorbar": {
              "outlinewidth": 0,
              "ticks": ""
             }
            },
            "type": "scattercarpet"
           }
          ],
          "scattergeo": [
           {
            "marker": {
             "colorbar": {
              "outlinewidth": 0,
              "ticks": ""
             }
            },
            "type": "scattergeo"
           }
          ],
          "scattergl": [
           {
            "marker": {
             "colorbar": {
              "outlinewidth": 0,
              "ticks": ""
             }
            },
            "type": "scattergl"
           }
          ],
          "scattermapbox": [
           {
            "marker": {
             "colorbar": {
              "outlinewidth": 0,
              "ticks": ""
             }
            },
            "type": "scattermapbox"
           }
          ],
          "scatterpolar": [
           {
            "marker": {
             "colorbar": {
              "outlinewidth": 0,
              "ticks": ""
             }
            },
            "type": "scatterpolar"
           }
          ],
          "scatterpolargl": [
           {
            "marker": {
             "colorbar": {
              "outlinewidth": 0,
              "ticks": ""
             }
            },
            "type": "scatterpolargl"
           }
          ],
          "scatterternary": [
           {
            "marker": {
             "colorbar": {
              "outlinewidth": 0,
              "ticks": ""
             }
            },
            "type": "scatterternary"
           }
          ],
          "surface": [
           {
            "colorbar": {
             "outlinewidth": 0,
             "ticks": ""
            },
            "colorscale": [
             [
              0,
              "#0d0887"
             ],
             [
              0.1111111111111111,
              "#46039f"
             ],
             [
              0.2222222222222222,
              "#7201a8"
             ],
             [
              0.3333333333333333,
              "#9c179e"
             ],
             [
              0.4444444444444444,
              "#bd3786"
             ],
             [
              0.5555555555555556,
              "#d8576b"
             ],
             [
              0.6666666666666666,
              "#ed7953"
             ],
             [
              0.7777777777777778,
              "#fb9f3a"
             ],
             [
              0.8888888888888888,
              "#fdca26"
             ],
             [
              1,
              "#f0f921"
             ]
            ],
            "type": "surface"
           }
          ],
          "table": [
           {
            "cells": {
             "fill": {
              "color": "#EBF0F8"
             },
             "line": {
              "color": "white"
             }
            },
            "header": {
             "fill": {
              "color": "#C8D4E3"
             },
             "line": {
              "color": "white"
             }
            },
            "type": "table"
           }
          ]
         },
         "layout": {
          "annotationdefaults": {
           "arrowcolor": "#2a3f5f",
           "arrowhead": 0,
           "arrowwidth": 1
          },
          "autotypenumbers": "strict",
          "coloraxis": {
           "colorbar": {
            "outlinewidth": 0,
            "ticks": ""
           }
          },
          "colorscale": {
           "diverging": [
            [
             0,
             "#8e0152"
            ],
            [
             0.1,
             "#c51b7d"
            ],
            [
             0.2,
             "#de77ae"
            ],
            [
             0.3,
             "#f1b6da"
            ],
            [
             0.4,
             "#fde0ef"
            ],
            [
             0.5,
             "#f7f7f7"
            ],
            [
             0.6,
             "#e6f5d0"
            ],
            [
             0.7,
             "#b8e186"
            ],
            [
             0.8,
             "#7fbc41"
            ],
            [
             0.9,
             "#4d9221"
            ],
            [
             1,
             "#276419"
            ]
           ],
           "sequential": [
            [
             0,
             "#0d0887"
            ],
            [
             0.1111111111111111,
             "#46039f"
            ],
            [
             0.2222222222222222,
             "#7201a8"
            ],
            [
             0.3333333333333333,
             "#9c179e"
            ],
            [
             0.4444444444444444,
             "#bd3786"
            ],
            [
             0.5555555555555556,
             "#d8576b"
            ],
            [
             0.6666666666666666,
             "#ed7953"
            ],
            [
             0.7777777777777778,
             "#fb9f3a"
            ],
            [
             0.8888888888888888,
             "#fdca26"
            ],
            [
             1,
             "#f0f921"
            ]
           ],
           "sequentialminus": [
            [
             0,
             "#0d0887"
            ],
            [
             0.1111111111111111,
             "#46039f"
            ],
            [
             0.2222222222222222,
             "#7201a8"
            ],
            [
             0.3333333333333333,
             "#9c179e"
            ],
            [
             0.4444444444444444,
             "#bd3786"
            ],
            [
             0.5555555555555556,
             "#d8576b"
            ],
            [
             0.6666666666666666,
             "#ed7953"
            ],
            [
             0.7777777777777778,
             "#fb9f3a"
            ],
            [
             0.8888888888888888,
             "#fdca26"
            ],
            [
             1,
             "#f0f921"
            ]
           ]
          },
          "colorway": [
           "#636efa",
           "#EF553B",
           "#00cc96",
           "#ab63fa",
           "#FFA15A",
           "#19d3f3",
           "#FF6692",
           "#B6E880",
           "#FF97FF",
           "#FECB52"
          ],
          "font": {
           "color": "#2a3f5f"
          },
          "geo": {
           "bgcolor": "white",
           "lakecolor": "white",
           "landcolor": "#E5ECF6",
           "showlakes": true,
           "showland": true,
           "subunitcolor": "white"
          },
          "hoverlabel": {
           "align": "left"
          },
          "hovermode": "closest",
          "mapbox": {
           "style": "light"
          },
          "paper_bgcolor": "white",
          "plot_bgcolor": "#E5ECF6",
          "polar": {
           "angularaxis": {
            "gridcolor": "white",
            "linecolor": "white",
            "ticks": ""
           },
           "bgcolor": "#E5ECF6",
           "radialaxis": {
            "gridcolor": "white",
            "linecolor": "white",
            "ticks": ""
           }
          },
          "scene": {
           "xaxis": {
            "backgroundcolor": "#E5ECF6",
            "gridcolor": "white",
            "gridwidth": 2,
            "linecolor": "white",
            "showbackground": true,
            "ticks": "",
            "zerolinecolor": "white"
           },
           "yaxis": {
            "backgroundcolor": "#E5ECF6",
            "gridcolor": "white",
            "gridwidth": 2,
            "linecolor": "white",
            "showbackground": true,
            "ticks": "",
            "zerolinecolor": "white"
           },
           "zaxis": {
            "backgroundcolor": "#E5ECF6",
            "gridcolor": "white",
            "gridwidth": 2,
            "linecolor": "white",
            "showbackground": true,
            "ticks": "",
            "zerolinecolor": "white"
           }
          },
          "shapedefaults": {
           "line": {
            "color": "#2a3f5f"
           }
          },
          "ternary": {
           "aaxis": {
            "gridcolor": "white",
            "linecolor": "white",
            "ticks": ""
           },
           "baxis": {
            "gridcolor": "white",
            "linecolor": "white",
            "ticks": ""
           },
           "bgcolor": "#E5ECF6",
           "caxis": {
            "gridcolor": "white",
            "linecolor": "white",
            "ticks": ""
           }
          },
          "title": {
           "x": 0.05
          },
          "xaxis": {
           "automargin": true,
           "gridcolor": "white",
           "linecolor": "white",
           "ticks": "",
           "title": {
            "standoff": 15
           },
           "zerolinecolor": "white",
           "zerolinewidth": 2
          },
          "yaxis": {
           "automargin": true,
           "gridcolor": "white",
           "linecolor": "white",
           "ticks": "",
           "title": {
            "standoff": 15
           },
           "zerolinecolor": "white",
           "zerolinewidth": 2
          }
         }
        },
        "xaxis": {
         "anchor": "y",
         "autorange": true,
         "domain": [
          0,
          1
         ],
         "range": [
          -1.1679368831449664,
          19.342174235498348
         ],
         "title": {
          "text": "linear_model dcg"
         },
         "type": "linear"
        },
        "yaxis": {
         "anchor": "x",
         "autorange": true,
         "domain": [
          0,
          1
         ],
         "range": [
          -1.4071916060221121,
          19.581428958375493
         ],
         "title": {
          "text": "random_forest dcg"
         },
         "type": "linear"
        }
       }
      },
      "text/html": [
       "<div>                            <div id=\"181418de-afe6-4eb5-a5d3-b747e69efb3e\" class=\"plotly-graph-div\" style=\"height:525px; width:100%;\"></div>            <script type=\"text/javascript\">                require([\"plotly\"], function(Plotly) {                    window.PLOTLYENV=window.PLOTLYENV || {};                                    if (document.getElementById(\"181418de-afe6-4eb5-a5d3-b747e69efb3e\")) {                    Plotly.newPlot(                        \"181418de-afe6-4eb5-a5d3-b747e69efb3e\",                        [{\"customdata\":[[\"1 1\\u002f4 pop up bathroom sink drain without overflow\",0.04402283258477638,0.1,0.1,0.04402283258477638,0.1,0.1,1.7227062322935722,0.0440228325847763,0.1,0.1],[\"1 \\u2018 velcro without adhesive for sewing\",0.0861885860248209,0.1,0.2,0.0861885860248209,0.1,0.2,2.15051499783199,0.0861885860248209,0.1,0.2],[\"10x6 plastic register cover without vent\",0.08032072913484654,0.2,0.2,0.08032072913484654,0.2,0.2,1.8350497362273823,0.0803207291348465,0.2,0.2],[\"barn pictures for walls\",0.23430673110551667,0.2,0.2,0.23430673110551667,0.2,0.2,6.0,0.245660065285172,0.2,0.2],[\"black bear onesie\",0.4885644593952938,0.2,0.3,0.4885644593952938,0.2,0.3,6.7018226078398415,0.4885644593952938,0.2,0.3],[\"bloch ballet shoes women\",0.21967383024888934,0.5,0.5,0.21967383024888934,0.5,0.5,8.933113502154406,0.2196738302488893,0.5,0.5],[\"canon toner\",0.7441140557478906,1.0,1.0,0.7441140557478906,1.0,1.0,18.17423735235338,0.7441140557478906,1.0,1.0],[\"colemen tents\",0.0,0.0,0.0,0.0,0.0,0.0,0.0,0.0,0.0,0.0],[\"colorful decorations for party\",0.0,0.0,0.0,0.0,0.0,0.0,0.0,0.0,0.0,0.0],[\"cutting board stove cover\",0.49147827996815846,0.5,0.5,0.49147827996815846,0.5,0.5,10.827513300283044,0.4914782799681584,0.5,0.5],[\"death in the tall grass\",0.07178666816243652,0.1,0.1,0.07475811111624223,0.1,0.1,1.1562593052715515,0.0717866681624365,0.1,0.1],[\"flower lip stick\",0.1671214244214466,0.1,0.1,0.1671214244214466,0.1,0.1,4.0,0.1671214244214466,0.1,0.1],[\"fork spoon knife combo\",0.26853344652975714,0.3,0.3,0.26853344652975714,0.3,0.3,4.7581620817654215,0.2685334465297571,0.3,0.3],[\"franmar soy gel paint remover\",0.11567557155327671,0.2,0.3,0.11567557155327671,0.2,0.3,3.4285261738095816,0.1156755715532767,0.2,0.3],[\"hidizs\",0.1744989272174902,0.1,0.1,0.520347604127338,0.7,0.7,11.92781210577398,0.520347604127338,0.7,0.7],[\"honeywell glass break sensor\",0.5582888434590495,0.7,0.7,0.5582888434590495,0.7,0.7,11.154058548610951,0.5582888434590495,0.7,0.7],[\"karaoke machine for adults\",0.32239350896203994,0.4,0.4,0.3582827477577313,0.5,0.5,10.884098302213308,0.3582827477577313,0.5,0.5],[\"kingston 120gb\",0.6871519554480504,0.6,0.6,0.6871519554480504,0.6,0.6,12.933113502154406,0.6871519554480504,0.6,0.6],[\"laptop dell core i7 touch screen with terabytes\",0.036395853546675884,0.1,0.1,0.036395853546675884,0.1,0.1,0.6309297535714575,0.0363958535466758,0.1,0.1],[\"lenox lamps\",0.7920648014488558,1.0,1.0,0.7920648014488558,1.0,1.0,18.17423735235338,0.7920648014488558,1.0,1.0],[\"mary jane shoes women\",0.2944614055768496,0.3,0.3,0.2985464822661115,0.3,0.3,6.686688255575004,0.2985464822661115,0.3,0.3],[\"mens white graphic t-shirts\",0.18833773921584998,0.3,0.3,0.18833773921584998,0.3,0.3,7.375765605797046,0.2024578819464626,0.4,0.4],[\"mens wide width basketball shoes\",0.069731285008802,0.1,0.1,0.0,0.0,0.0,0.0,0.0,0.0,0.0],[\"metal keaf tray\",0.38054453117082643,0.1,0.1,0.38054453117082643,0.1,0.1,4.0,0.3805445311708264,0.1,0.1],[\"motor mount\",0.0,0.0,0.0,0.0,0.0,0.0,0.0,0.0,0.0,0.0],[\"motorrad rallye glove\",0.48287910642304827,0.5,0.5,0.48287910642304827,0.5,0.5,11.793836475517567,0.4828791064230482,0.5,0.5],[\"neon hoops\",0.4187522100644103,0.4,0.4,0.5903883844220756,0.7,0.7,12.904119891121642,0.5903883844220756,0.7,0.7],[\"new oxo good grips 12 piece pop container set\",0.27057751143314046,0.4,0.4,0.27057751143314046,0.4,0.4,6.608583559213255,0.2705775114331404,0.4,0.4],[\"ninja turtle hoodie sweatshirt size 5\",0.19803559031536722,0.2,0.2,0.19803559031536722,0.2,0.2,2.7124143742160443,0.1980355903153672,0.2,0.2],[\"palladia book shelf\",0.0,0.0,0.0,0.0,0.0,0.0,0.0,0.0,0.0,0.0],[\"party hats\",0.29188085807238295,0.3,0.3,0.29188085807238295,0.3,0.3,6.0,0.2545855388969112,0.2,0.2],[\"pearl hair band\",0.08530460913930238,0.1,0.1,0.08530460913930238,0.1,0.1,2.0,0.0853046091393023,0.1,0.1],[\"pens paper mate\",0.04930069892507245,0.1,0.1,0.051664748150907255,0.1,0.1,2.0,0.0818866884283906,0.1,0.1],[\"pet rainproof clothes\",0.3869835109009092,0.4,0.4,0.3869835109009092,0.4,0.4,8.926826214949497,0.3869835109009092,0.4,0.4],[\"plastic bottle cutter\",0.691686720364392,0.8,0.8,0.7029768704738563,0.8,0.8,15.364966616272302,0.7029768704738563,0.8,0.8],[\"plastic, satire\",0.4928814930244742,0.5,0.6,0.5155356339580601,0.5,0.5,10.229886263822705,0.4928814930244742,0.5,0.6],[\"please do not annoy the writer mug\",0.4928841902434815,1.0,1.0,0.4928841902434815,1.0,1.0,18.17423735235338,0.4928841902434815,1.0,1.0],[\"rasberry pi4\",0.04565921470224593,0.1,0.1,0.04565921470224593,0.1,0.1,0.6666666666666666,0.0456592147022459,0.1,0.1],[\"reflex gun sight\",0.48886917468793034,0.6,0.6,0.4639953314275065,0.6,0.6,10.17635996002618,0.416654208690907,0.5,0.5],[\"sambucus elderberry syrup\",0.18984602513414658,0.3,0.3,0.1335528148774869,0.2,0.2,3.0560395656269055,0.1296705799509013,0.2,0.2],[\"smart watch for men women,fitness tracker with 1.54\",0.3393577401752507,0.4,0.4,0.2770674705764361,0.4,0.4,5.5742999686982175,0.2770674705764361,0.4,0.4],[\"some will not sleep\",0.18626227341797114,0.1,0.1,0.18626227341797114,0.1,0.1,2.0,0.1862622734179711,0.1,0.1],[\"sticky notes holder for desk\",0.0646513921864719,0.1,0.1,0.0646513921864719,0.1,0.1,1.5474112289381663,0.0646513921864719,0.1,0.1],[\"tactical gloves\",0.4187734452610907,0.3,0.3,0.4187734452610907,0.3,0.3,8.523719014285831,0.4187734452610907,0.3,0.3],[\"thigh knife holster women\",0.13067043024019243,0.2,0.2,0.13963323491400842,0.2,0.2,2.6289487310880135,0.1306704302401924,0.2,0.2],[\"vegan instant pot cookbook\",0.6822664430151961,0.7,0.7,0.6857157878404067,0.7,0.7,14.20870731100075,0.6857157878404067,0.7,0.7],[\"waterproof iphone 6 case for underwatee pictures\",0.1525410675894521,0.1,0.2,0.1525410675894521,0.1,0.2,1.8333333333333333,0.1525410675894521,0.1,0.2],[\"waverly shower curtain\",0.5412163603163843,0.6,0.6,0.5412163603163843,0.6,0.6,13.218665223949657,0.5412163603163843,0.6,0.6],[\"women thermal coats\",0.0,0.0,0.0,0.0,0.0,0.0,0.0,0.0,0.0,0.0],[\"work clothes for women\",0.0,0.0,0.0,0.0,0.0,0.0,0.0,0.0,0.0,0.0]],\"hovertemplate\":\"linear_model dcg=%{x}\\u003cbr\\u003erandom_forest dcg=%{y}\\u003cbr\\u003equery=%{customdata[0]}\\u003cbr\\u003elinear_model ndcg=%{customdata[1]}\\u003cbr\\u003elinear_model prec@10=%{customdata[2]}\\u003cbr\\u003elinear_model ratio_of_ratings=%{customdata[3]}\\u003cbr\\u003erandom_forest ndcg=%{customdata[4]}\\u003cbr\\u003erandom_forest prec@10=%{customdata[5]}\\u003cbr\\u003erandom_forest ratio_of_ratings=%{customdata[6]}\\u003cbr\\u003edcg=%{customdata[7]}\\u003cbr\\u003endcg=%{customdata[8]}\\u003cbr\\u003eprec@10=%{customdata[9]}\\u003cbr\\u003eratio_of_ratings=%{customdata[10]}\\u003cextra\\u003e\\u003c\\u002fextra\\u003e\",\"legendgroup\":\"\",\"marker\":{\"color\":\"#636efa\",\"symbol\":\"circle\"},\"mode\":\"markers\",\"name\":\"\",\"orientation\":\"v\",\"showlegend\":false,\"x\":[1.7227062322935722,2.1505149978319906,1.8350497362273823,5.7227062322935724,6.7018226078398415,8.933113502154406,18.17423735235338,0.0,0.0,10.827513300283044,1.1562593052715515,4.0,4.7581620817654215,3.4285261738095816,4.0,11.154058548610953,9.793836475517569,12.933113502154406,0.6309297535714575,18.17423735235338,6.5951928404762485,6.861353116146786,1.3333333333333333,4.0,0.0,11.793836475517569,9.152667745373844,6.608583559213255,2.7124143742160443,0.0,6.878965537565124,2.0,1.2041199826559248,8.926826214949497,15.118197786726476,10.229886263822703,18.17423735235338,0.6666666666666666,11.940137867840214,4.474237443887664,6.827513300283043,2.0,1.5474112289381665,8.523719014285831,2.6289487310880135,14.13723348481033,1.8333333333333333,13.218665223949657,0.0,0.0],\"xaxis\":\"x\",\"y\":[1.7227062322935722,2.1505149978319906,1.8350497362273823,5.7227062322935724,6.7018226078398415,8.933113502154406,18.17423735235338,0.0,0.0,10.827513300283044,1.2041199826559248,4.0,4.7581620817654215,3.4285261738095816,11.927812105773981,11.154058548610953,10.884098302213307,12.933113502154406,0.6309297535714575,18.17423735235338,6.686688255575004,6.861353116146786,0.0,4.0,0.0,11.793836475517569,12.904119891121642,6.608583559213255,2.7124143742160443,0.0,6.878965537565124,2.0,1.261859507142915,8.926826214949497,15.364966616272302,10.70007897431201,18.17423735235338,0.6666666666666666,11.33261926529773,3.147534980725661,5.5742999686982175,2.0,1.5474112289381665,8.523719014285831,2.8092707360810816,14.20870731100075,1.8333333333333333,13.218665223949657,0.0,0.0],\"yaxis\":\"y\",\"type\":\"scatter\"}],                        {\"template\":{\"data\":{\"histogram2dcontour\":[{\"type\":\"histogram2dcontour\",\"colorbar\":{\"outlinewidth\":0,\"ticks\":\"\"},\"colorscale\":[[0.0,\"#0d0887\"],[0.1111111111111111,\"#46039f\"],[0.2222222222222222,\"#7201a8\"],[0.3333333333333333,\"#9c179e\"],[0.4444444444444444,\"#bd3786\"],[0.5555555555555556,\"#d8576b\"],[0.6666666666666666,\"#ed7953\"],[0.7777777777777778,\"#fb9f3a\"],[0.8888888888888888,\"#fdca26\"],[1.0,\"#f0f921\"]]}],\"choropleth\":[{\"type\":\"choropleth\",\"colorbar\":{\"outlinewidth\":0,\"ticks\":\"\"}}],\"histogram2d\":[{\"type\":\"histogram2d\",\"colorbar\":{\"outlinewidth\":0,\"ticks\":\"\"},\"colorscale\":[[0.0,\"#0d0887\"],[0.1111111111111111,\"#46039f\"],[0.2222222222222222,\"#7201a8\"],[0.3333333333333333,\"#9c179e\"],[0.4444444444444444,\"#bd3786\"],[0.5555555555555556,\"#d8576b\"],[0.6666666666666666,\"#ed7953\"],[0.7777777777777778,\"#fb9f3a\"],[0.8888888888888888,\"#fdca26\"],[1.0,\"#f0f921\"]]}],\"heatmap\":[{\"type\":\"heatmap\",\"colorbar\":{\"outlinewidth\":0,\"ticks\":\"\"},\"colorscale\":[[0.0,\"#0d0887\"],[0.1111111111111111,\"#46039f\"],[0.2222222222222222,\"#7201a8\"],[0.3333333333333333,\"#9c179e\"],[0.4444444444444444,\"#bd3786\"],[0.5555555555555556,\"#d8576b\"],[0.6666666666666666,\"#ed7953\"],[0.7777777777777778,\"#fb9f3a\"],[0.8888888888888888,\"#fdca26\"],[1.0,\"#f0f921\"]]}],\"heatmapgl\":[{\"type\":\"heatmapgl\",\"colorbar\":{\"outlinewidth\":0,\"ticks\":\"\"},\"colorscale\":[[0.0,\"#0d0887\"],[0.1111111111111111,\"#46039f\"],[0.2222222222222222,\"#7201a8\"],[0.3333333333333333,\"#9c179e\"],[0.4444444444444444,\"#bd3786\"],[0.5555555555555556,\"#d8576b\"],[0.6666666666666666,\"#ed7953\"],[0.7777777777777778,\"#fb9f3a\"],[0.8888888888888888,\"#fdca26\"],[1.0,\"#f0f921\"]]}],\"contourcarpet\":[{\"type\":\"contourcarpet\",\"colorbar\":{\"outlinewidth\":0,\"ticks\":\"\"}}],\"contour\":[{\"type\":\"contour\",\"colorbar\":{\"outlinewidth\":0,\"ticks\":\"\"},\"colorscale\":[[0.0,\"#0d0887\"],[0.1111111111111111,\"#46039f\"],[0.2222222222222222,\"#7201a8\"],[0.3333333333333333,\"#9c179e\"],[0.4444444444444444,\"#bd3786\"],[0.5555555555555556,\"#d8576b\"],[0.6666666666666666,\"#ed7953\"],[0.7777777777777778,\"#fb9f3a\"],[0.8888888888888888,\"#fdca26\"],[1.0,\"#f0f921\"]]}],\"surface\":[{\"type\":\"surface\",\"colorbar\":{\"outlinewidth\":0,\"ticks\":\"\"},\"colorscale\":[[0.0,\"#0d0887\"],[0.1111111111111111,\"#46039f\"],[0.2222222222222222,\"#7201a8\"],[0.3333333333333333,\"#9c179e\"],[0.4444444444444444,\"#bd3786\"],[0.5555555555555556,\"#d8576b\"],[0.6666666666666666,\"#ed7953\"],[0.7777777777777778,\"#fb9f3a\"],[0.8888888888888888,\"#fdca26\"],[1.0,\"#f0f921\"]]}],\"mesh3d\":[{\"type\":\"mesh3d\",\"colorbar\":{\"outlinewidth\":0,\"ticks\":\"\"}}],\"scatter\":[{\"fillpattern\":{\"fillmode\":\"overlay\",\"size\":10,\"solidity\":0.2},\"type\":\"scatter\"}],\"parcoords\":[{\"type\":\"parcoords\",\"line\":{\"colorbar\":{\"outlinewidth\":0,\"ticks\":\"\"}}}],\"scatterpolargl\":[{\"type\":\"scatterpolargl\",\"marker\":{\"colorbar\":{\"outlinewidth\":0,\"ticks\":\"\"}}}],\"bar\":[{\"error_x\":{\"color\":\"#2a3f5f\"},\"error_y\":{\"color\":\"#2a3f5f\"},\"marker\":{\"line\":{\"color\":\"#E5ECF6\",\"width\":0.5},\"pattern\":{\"fillmode\":\"overlay\",\"size\":10,\"solidity\":0.2}},\"type\":\"bar\"}],\"scattergeo\":[{\"type\":\"scattergeo\",\"marker\":{\"colorbar\":{\"outlinewidth\":0,\"ticks\":\"\"}}}],\"scatterpolar\":[{\"type\":\"scatterpolar\",\"marker\":{\"colorbar\":{\"outlinewidth\":0,\"ticks\":\"\"}}}],\"histogram\":[{\"marker\":{\"pattern\":{\"fillmode\":\"overlay\",\"size\":10,\"solidity\":0.2}},\"type\":\"histogram\"}],\"scattergl\":[{\"type\":\"scattergl\",\"marker\":{\"colorbar\":{\"outlinewidth\":0,\"ticks\":\"\"}}}],\"scatter3d\":[{\"type\":\"scatter3d\",\"line\":{\"colorbar\":{\"outlinewidth\":0,\"ticks\":\"\"}},\"marker\":{\"colorbar\":{\"outlinewidth\":0,\"ticks\":\"\"}}}],\"scattermapbox\":[{\"type\":\"scattermapbox\",\"marker\":{\"colorbar\":{\"outlinewidth\":0,\"ticks\":\"\"}}}],\"scatterternary\":[{\"type\":\"scatterternary\",\"marker\":{\"colorbar\":{\"outlinewidth\":0,\"ticks\":\"\"}}}],\"scattercarpet\":[{\"type\":\"scattercarpet\",\"marker\":{\"colorbar\":{\"outlinewidth\":0,\"ticks\":\"\"}}}],\"carpet\":[{\"aaxis\":{\"endlinecolor\":\"#2a3f5f\",\"gridcolor\":\"white\",\"linecolor\":\"white\",\"minorgridcolor\":\"white\",\"startlinecolor\":\"#2a3f5f\"},\"baxis\":{\"endlinecolor\":\"#2a3f5f\",\"gridcolor\":\"white\",\"linecolor\":\"white\",\"minorgridcolor\":\"white\",\"startlinecolor\":\"#2a3f5f\"},\"type\":\"carpet\"}],\"table\":[{\"cells\":{\"fill\":{\"color\":\"#EBF0F8\"},\"line\":{\"color\":\"white\"}},\"header\":{\"fill\":{\"color\":\"#C8D4E3\"},\"line\":{\"color\":\"white\"}},\"type\":\"table\"}],\"barpolar\":[{\"marker\":{\"line\":{\"color\":\"#E5ECF6\",\"width\":0.5},\"pattern\":{\"fillmode\":\"overlay\",\"size\":10,\"solidity\":0.2}},\"type\":\"barpolar\"}],\"pie\":[{\"automargin\":true,\"type\":\"pie\"}]},\"layout\":{\"autotypenumbers\":\"strict\",\"colorway\":[\"#636efa\",\"#EF553B\",\"#00cc96\",\"#ab63fa\",\"#FFA15A\",\"#19d3f3\",\"#FF6692\",\"#B6E880\",\"#FF97FF\",\"#FECB52\"],\"font\":{\"color\":\"#2a3f5f\"},\"hovermode\":\"closest\",\"hoverlabel\":{\"align\":\"left\"},\"paper_bgcolor\":\"white\",\"plot_bgcolor\":\"#E5ECF6\",\"polar\":{\"bgcolor\":\"#E5ECF6\",\"angularaxis\":{\"gridcolor\":\"white\",\"linecolor\":\"white\",\"ticks\":\"\"},\"radialaxis\":{\"gridcolor\":\"white\",\"linecolor\":\"white\",\"ticks\":\"\"}},\"ternary\":{\"bgcolor\":\"#E5ECF6\",\"aaxis\":{\"gridcolor\":\"white\",\"linecolor\":\"white\",\"ticks\":\"\"},\"baxis\":{\"gridcolor\":\"white\",\"linecolor\":\"white\",\"ticks\":\"\"},\"caxis\":{\"gridcolor\":\"white\",\"linecolor\":\"white\",\"ticks\":\"\"}},\"coloraxis\":{\"colorbar\":{\"outlinewidth\":0,\"ticks\":\"\"}},\"colorscale\":{\"sequential\":[[0.0,\"#0d0887\"],[0.1111111111111111,\"#46039f\"],[0.2222222222222222,\"#7201a8\"],[0.3333333333333333,\"#9c179e\"],[0.4444444444444444,\"#bd3786\"],[0.5555555555555556,\"#d8576b\"],[0.6666666666666666,\"#ed7953\"],[0.7777777777777778,\"#fb9f3a\"],[0.8888888888888888,\"#fdca26\"],[1.0,\"#f0f921\"]],\"sequentialminus\":[[0.0,\"#0d0887\"],[0.1111111111111111,\"#46039f\"],[0.2222222222222222,\"#7201a8\"],[0.3333333333333333,\"#9c179e\"],[0.4444444444444444,\"#bd3786\"],[0.5555555555555556,\"#d8576b\"],[0.6666666666666666,\"#ed7953\"],[0.7777777777777778,\"#fb9f3a\"],[0.8888888888888888,\"#fdca26\"],[1.0,\"#f0f921\"]],\"diverging\":[[0,\"#8e0152\"],[0.1,\"#c51b7d\"],[0.2,\"#de77ae\"],[0.3,\"#f1b6da\"],[0.4,\"#fde0ef\"],[0.5,\"#f7f7f7\"],[0.6,\"#e6f5d0\"],[0.7,\"#b8e186\"],[0.8,\"#7fbc41\"],[0.9,\"#4d9221\"],[1,\"#276419\"]]},\"xaxis\":{\"gridcolor\":\"white\",\"linecolor\":\"white\",\"ticks\":\"\",\"title\":{\"standoff\":15},\"zerolinecolor\":\"white\",\"automargin\":true,\"zerolinewidth\":2},\"yaxis\":{\"gridcolor\":\"white\",\"linecolor\":\"white\",\"ticks\":\"\",\"title\":{\"standoff\":15},\"zerolinecolor\":\"white\",\"automargin\":true,\"zerolinewidth\":2},\"scene\":{\"xaxis\":{\"backgroundcolor\":\"#E5ECF6\",\"gridcolor\":\"white\",\"linecolor\":\"white\",\"showbackground\":true,\"ticks\":\"\",\"zerolinecolor\":\"white\",\"gridwidth\":2},\"yaxis\":{\"backgroundcolor\":\"#E5ECF6\",\"gridcolor\":\"white\",\"linecolor\":\"white\",\"showbackground\":true,\"ticks\":\"\",\"zerolinecolor\":\"white\",\"gridwidth\":2},\"zaxis\":{\"backgroundcolor\":\"#E5ECF6\",\"gridcolor\":\"white\",\"linecolor\":\"white\",\"showbackground\":true,\"ticks\":\"\",\"zerolinecolor\":\"white\",\"gridwidth\":2}},\"shapedefaults\":{\"line\":{\"color\":\"#2a3f5f\"}},\"annotationdefaults\":{\"arrowcolor\":\"#2a3f5f\",\"arrowhead\":0,\"arrowwidth\":1},\"geo\":{\"bgcolor\":\"white\",\"landcolor\":\"#E5ECF6\",\"subunitcolor\":\"white\",\"showland\":true,\"showlakes\":true,\"lakecolor\":\"white\"},\"title\":{\"x\":0.05},\"mapbox\":{\"style\":\"light\"}}},\"xaxis\":{\"anchor\":\"y\",\"domain\":[0.0,1.0],\"title\":{\"text\":\"linear_model dcg\"}},\"yaxis\":{\"anchor\":\"x\",\"domain\":[0.0,1.0],\"title\":{\"text\":\"random_forest dcg\"}},\"legend\":{\"tracegroupgap\":0},\"margin\":{\"t\":60}},                        {\"responsive\": true}                    ).then(function(){\n",
       "                            \n",
       "var gd = document.getElementById('181418de-afe6-4eb5-a5d3-b747e69efb3e');\n",
       "var x = new MutationObserver(function (mutations, observer) {{\n",
       "        var display = window.getComputedStyle(gd).display;\n",
       "        if (!display || display === 'none') {{\n",
       "            console.log([gd, 'removed!']);\n",
       "            Plotly.purge(gd);\n",
       "            observer.disconnect();\n",
       "        }}\n",
       "}});\n",
       "\n",
       "// Listen for the removal of the full notebook cells\n",
       "var notebookContainer = gd.closest('#notebook-container');\n",
       "if (notebookContainer) {{\n",
       "    x.observe(notebookContainer, {childList: true});\n",
       "}}\n",
       "\n",
       "// Listen for the clearing of the current output cell\n",
       "var outputEl = gd.closest('.output');\n",
       "if (outputEl) {{\n",
       "    x.observe(outputEl, {childList: true});\n",
       "}}\n",
       "\n",
       "                        })                };                });            </script>        </div>"
      ]
     },
     "metadata": {},
     "output_type": "display_data"
    }
   ],
   "source": [
    "px.scatter(\n",
    "    df_metrics_merged,\n",
    "    x=\"linear_model dcg\",\n",
    "    y=\"random_forest dcg\",\n",
    "    hover_data=df_metrics_merged.columns,\n",
    ")"
   ]
  },
  {
   "cell_type": "code",
   "execution_count": 324,
   "id": "ff2d1068-34b3-4ab9-8b6d-0df17f4bf7ce",
   "metadata": {},
   "outputs": [
    {
     "data": {
      "application/vnd.plotly.v1+json": {
       "config": {
        "plotlyServerURL": "https://plot.ly"
       },
       "data": [
        {
         "customdata": [
          [
           "1 1/4 pop up bathroom sink drain without overflow",
           1.7227062322935722,
           0.1,
           0.1,
           1.7227062322935722,
           0.1,
           0.1,
           1.7227062322935722,
           0.0440228325847763,
           0.1,
           0.1
          ],
          [
           "1 ‘ velcro without adhesive for sewing",
           2.1505149978319906,
           0.1,
           0.2,
           2.1505149978319906,
           0.1,
           0.2,
           2.15051499783199,
           0.0861885860248209,
           0.1,
           0.2
          ],
          [
           "10x6 plastic register cover without vent",
           1.8350497362273823,
           0.2,
           0.2,
           1.8350497362273823,
           0.2,
           0.2,
           1.8350497362273823,
           0.0803207291348465,
           0.2,
           0.2
          ],
          [
           "barn pictures for walls",
           5.7227062322935724,
           0.2,
           0.2,
           5.7227062322935724,
           0.2,
           0.2,
           6,
           0.245660065285172,
           0.2,
           0.2
          ],
          [
           "black bear onesie",
           6.7018226078398415,
           0.2,
           0.3,
           6.7018226078398415,
           0.2,
           0.3,
           6.7018226078398415,
           0.4885644593952938,
           0.2,
           0.3
          ],
          [
           "bloch ballet shoes women",
           8.933113502154406,
           0.5,
           0.5,
           8.933113502154406,
           0.5,
           0.5,
           8.933113502154406,
           0.2196738302488893,
           0.5,
           0.5
          ],
          [
           "canon toner",
           18.17423735235338,
           1,
           1,
           18.17423735235338,
           1,
           1,
           18.17423735235338,
           0.7441140557478906,
           1,
           1
          ],
          [
           "colemen tents",
           0,
           0,
           0,
           0,
           0,
           0,
           0,
           0,
           0,
           0
          ],
          [
           "colorful decorations for party",
           0,
           0,
           0,
           0,
           0,
           0,
           0,
           0,
           0,
           0
          ],
          [
           "cutting board stove cover",
           10.827513300283044,
           0.5,
           0.5,
           10.827513300283044,
           0.5,
           0.5,
           10.827513300283044,
           0.4914782799681584,
           0.5,
           0.5
          ],
          [
           "death in the tall grass",
           1.1562593052715515,
           0.1,
           0.1,
           1.2041199826559248,
           0.1,
           0.1,
           1.1562593052715515,
           0.0717866681624365,
           0.1,
           0.1
          ],
          [
           "flower lip stick",
           4,
           0.1,
           0.1,
           4,
           0.1,
           0.1,
           4,
           0.1671214244214466,
           0.1,
           0.1
          ],
          [
           "fork spoon knife combo",
           4.7581620817654215,
           0.3,
           0.3,
           4.7581620817654215,
           0.3,
           0.3,
           4.7581620817654215,
           0.2685334465297571,
           0.3,
           0.3
          ],
          [
           "franmar soy gel paint remover",
           3.4285261738095816,
           0.2,
           0.3,
           3.4285261738095816,
           0.2,
           0.3,
           3.4285261738095816,
           0.1156755715532767,
           0.2,
           0.3
          ],
          [
           "hidizs",
           4,
           0.1,
           0.1,
           11.927812105773981,
           0.7,
           0.7,
           11.92781210577398,
           0.520347604127338,
           0.7,
           0.7
          ],
          [
           "honeywell glass break sensor",
           11.154058548610953,
           0.7,
           0.7,
           11.154058548610953,
           0.7,
           0.7,
           11.154058548610951,
           0.5582888434590495,
           0.7,
           0.7
          ],
          [
           "karaoke machine for adults",
           9.793836475517569,
           0.4,
           0.4,
           10.884098302213307,
           0.5,
           0.5,
           10.884098302213308,
           0.3582827477577313,
           0.5,
           0.5
          ],
          [
           "kingston 120gb",
           12.933113502154406,
           0.6,
           0.6,
           12.933113502154406,
           0.6,
           0.6,
           12.933113502154406,
           0.6871519554480504,
           0.6,
           0.6
          ],
          [
           "laptop dell core i7 touch screen with terabytes",
           0.6309297535714575,
           0.1,
           0.1,
           0.6309297535714575,
           0.1,
           0.1,
           0.6309297535714575,
           0.0363958535466758,
           0.1,
           0.1
          ],
          [
           "lenox lamps",
           18.17423735235338,
           1,
           1,
           18.17423735235338,
           1,
           1,
           18.17423735235338,
           0.7920648014488558,
           1,
           1
          ],
          [
           "mary jane shoes women",
           6.5951928404762485,
           0.3,
           0.3,
           6.686688255575004,
           0.3,
           0.3,
           6.686688255575004,
           0.2985464822661115,
           0.3,
           0.3
          ],
          [
           "mens white graphic t-shirts",
           6.861353116146786,
           0.3,
           0.3,
           6.861353116146786,
           0.3,
           0.3,
           7.375765605797046,
           0.2024578819464626,
           0.4,
           0.4
          ],
          [
           "mens wide width basketball shoes",
           1.3333333333333333,
           0.1,
           0.1,
           0,
           0,
           0,
           0,
           0,
           0,
           0
          ],
          [
           "metal keaf tray",
           4,
           0.1,
           0.1,
           4,
           0.1,
           0.1,
           4,
           0.3805445311708264,
           0.1,
           0.1
          ],
          [
           "motor mount",
           0,
           0,
           0,
           0,
           0,
           0,
           0,
           0,
           0,
           0
          ],
          [
           "motorrad rallye glove",
           11.793836475517569,
           0.5,
           0.5,
           11.793836475517569,
           0.5,
           0.5,
           11.793836475517567,
           0.4828791064230482,
           0.5,
           0.5
          ],
          [
           "neon hoops",
           9.152667745373844,
           0.4,
           0.4,
           12.904119891121642,
           0.7,
           0.7,
           12.904119891121642,
           0.5903883844220756,
           0.7,
           0.7
          ],
          [
           "new oxo good grips 12 piece pop container set",
           6.608583559213255,
           0.4,
           0.4,
           6.608583559213255,
           0.4,
           0.4,
           6.608583559213255,
           0.2705775114331404,
           0.4,
           0.4
          ],
          [
           "ninja turtle hoodie sweatshirt size 5",
           2.7124143742160443,
           0.2,
           0.2,
           2.7124143742160443,
           0.2,
           0.2,
           2.7124143742160443,
           0.1980355903153672,
           0.2,
           0.2
          ],
          [
           "palladia book shelf",
           0,
           0,
           0,
           0,
           0,
           0,
           0,
           0,
           0,
           0
          ],
          [
           "party hats",
           6.878965537565124,
           0.3,
           0.3,
           6.878965537565124,
           0.3,
           0.3,
           6,
           0.2545855388969112,
           0.2,
           0.2
          ],
          [
           "pearl hair band",
           2,
           0.1,
           0.1,
           2,
           0.1,
           0.1,
           2,
           0.0853046091393023,
           0.1,
           0.1
          ],
          [
           "pens paper mate",
           1.2041199826559248,
           0.1,
           0.1,
           1.261859507142915,
           0.1,
           0.1,
           2,
           0.0818866884283906,
           0.1,
           0.1
          ],
          [
           "pet rainproof clothes",
           8.926826214949497,
           0.4,
           0.4,
           8.926826214949497,
           0.4,
           0.4,
           8.926826214949497,
           0.3869835109009092,
           0.4,
           0.4
          ],
          [
           "plastic bottle cutter",
           15.118197786726476,
           0.8,
           0.8,
           15.364966616272302,
           0.8,
           0.8,
           15.364966616272302,
           0.7029768704738563,
           0.8,
           0.8
          ],
          [
           "plastic, satire",
           10.229886263822703,
           0.5,
           0.6,
           10.70007897431201,
           0.5,
           0.5,
           10.229886263822705,
           0.4928814930244742,
           0.5,
           0.6
          ],
          [
           "please do not annoy the writer mug",
           18.17423735235338,
           1,
           1,
           18.17423735235338,
           1,
           1,
           18.17423735235338,
           0.4928841902434815,
           1,
           1
          ],
          [
           "rasberry pi4",
           0.6666666666666666,
           0.1,
           0.1,
           0.6666666666666666,
           0.1,
           0.1,
           0.6666666666666666,
           0.0456592147022459,
           0.1,
           0.1
          ],
          [
           "reflex gun sight",
           11.940137867840214,
           0.6,
           0.6,
           11.33261926529773,
           0.6,
           0.6,
           10.17635996002618,
           0.416654208690907,
           0.5,
           0.5
          ],
          [
           "sambucus elderberry syrup",
           4.474237443887664,
           0.3,
           0.3,
           3.147534980725661,
           0.2,
           0.2,
           3.0560395656269055,
           0.1296705799509013,
           0.2,
           0.2
          ],
          [
           "smart watch for men women,fitness tracker with 1.54",
           6.827513300283043,
           0.4,
           0.4,
           5.5742999686982175,
           0.4,
           0.4,
           5.5742999686982175,
           0.2770674705764361,
           0.4,
           0.4
          ],
          [
           "some will not sleep",
           2,
           0.1,
           0.1,
           2,
           0.1,
           0.1,
           2,
           0.1862622734179711,
           0.1,
           0.1
          ],
          [
           "sticky notes holder for desk",
           1.5474112289381665,
           0.1,
           0.1,
           1.5474112289381665,
           0.1,
           0.1,
           1.5474112289381663,
           0.0646513921864719,
           0.1,
           0.1
          ],
          [
           "tactical gloves",
           8.523719014285831,
           0.3,
           0.3,
           8.523719014285831,
           0.3,
           0.3,
           8.523719014285831,
           0.4187734452610907,
           0.3,
           0.3
          ],
          [
           "thigh knife holster women",
           2.6289487310880135,
           0.2,
           0.2,
           2.8092707360810816,
           0.2,
           0.2,
           2.6289487310880135,
           0.1306704302401924,
           0.2,
           0.2
          ],
          [
           "vegan instant pot cookbook",
           14.13723348481033,
           0.7,
           0.7,
           14.20870731100075,
           0.7,
           0.7,
           14.20870731100075,
           0.6857157878404067,
           0.7,
           0.7
          ],
          [
           "waterproof iphone 6 case for underwatee pictures",
           1.8333333333333333,
           0.1,
           0.2,
           1.8333333333333333,
           0.1,
           0.2,
           1.8333333333333333,
           0.1525410675894521,
           0.1,
           0.2
          ],
          [
           "waverly shower curtain",
           13.218665223949657,
           0.6,
           0.6,
           13.218665223949657,
           0.6,
           0.6,
           13.218665223949657,
           0.5412163603163843,
           0.6,
           0.6
          ],
          [
           "women thermal coats",
           0,
           0,
           0,
           0,
           0,
           0,
           0,
           0,
           0,
           0
          ],
          [
           "work clothes for women",
           0,
           0,
           0,
           0,
           0,
           0,
           0,
           0,
           0,
           0
          ]
         ],
         "hovertemplate": "linear_model ndcg=%{x}<br>random_forest ndcg=%{y}<br>query=%{customdata[0]}<br>linear_model dcg=%{customdata[1]}<br>linear_model prec@10=%{customdata[2]}<br>linear_model ratio_of_ratings=%{customdata[3]}<br>random_forest dcg=%{customdata[4]}<br>random_forest prec@10=%{customdata[5]}<br>random_forest ratio_of_ratings=%{customdata[6]}<br>dcg=%{customdata[7]}<br>ndcg=%{customdata[8]}<br>prec@10=%{customdata[9]}<br>ratio_of_ratings=%{customdata[10]}<extra></extra>",
         "legendgroup": "",
         "marker": {
          "color": "#636efa",
          "symbol": "circle"
         },
         "mode": "markers",
         "name": "",
         "orientation": "v",
         "showlegend": false,
         "type": "scatter",
         "x": [
          0.04402283258477638,
          0.0861885860248209,
          0.08032072913484654,
          0.23430673110551667,
          0.4885644593952938,
          0.21967383024888934,
          0.7441140557478906,
          0,
          0,
          0.49147827996815846,
          0.07178666816243652,
          0.1671214244214466,
          0.26853344652975714,
          0.11567557155327671,
          0.1744989272174902,
          0.5582888434590495,
          0.32239350896203994,
          0.6871519554480504,
          0.036395853546675884,
          0.7920648014488558,
          0.2944614055768496,
          0.18833773921584998,
          0.069731285008802,
          0.38054453117082643,
          0,
          0.48287910642304827,
          0.4187522100644103,
          0.27057751143314046,
          0.19803559031536722,
          0,
          0.29188085807238295,
          0.08530460913930238,
          0.04930069892507245,
          0.3869835109009092,
          0.691686720364392,
          0.4928814930244742,
          0.4928841902434815,
          0.04565921470224593,
          0.48886917468793034,
          0.18984602513414658,
          0.3393577401752507,
          0.18626227341797114,
          0.0646513921864719,
          0.4187734452610907,
          0.13067043024019243,
          0.6822664430151961,
          0.1525410675894521,
          0.5412163603163843,
          0,
          0
         ],
         "xaxis": "x",
         "y": [
          0.04402283258477638,
          0.0861885860248209,
          0.08032072913484654,
          0.23430673110551667,
          0.4885644593952938,
          0.21967383024888934,
          0.7441140557478906,
          0,
          0,
          0.49147827996815846,
          0.07475811111624223,
          0.1671214244214466,
          0.26853344652975714,
          0.11567557155327671,
          0.520347604127338,
          0.5582888434590495,
          0.3582827477577313,
          0.6871519554480504,
          0.036395853546675884,
          0.7920648014488558,
          0.2985464822661115,
          0.18833773921584998,
          0,
          0.38054453117082643,
          0,
          0.48287910642304827,
          0.5903883844220756,
          0.27057751143314046,
          0.19803559031536722,
          0,
          0.29188085807238295,
          0.08530460913930238,
          0.051664748150907255,
          0.3869835109009092,
          0.7029768704738563,
          0.5155356339580601,
          0.4928841902434815,
          0.04565921470224593,
          0.4639953314275065,
          0.1335528148774869,
          0.2770674705764361,
          0.18626227341797114,
          0.0646513921864719,
          0.4187734452610907,
          0.13963323491400842,
          0.6857157878404067,
          0.1525410675894521,
          0.5412163603163843,
          0,
          0
         ],
         "yaxis": "y"
        }
       ],
       "layout": {
        "autosize": true,
        "legend": {
         "tracegroupgap": 0
        },
        "margin": {
         "t": 60
        },
        "template": {
         "data": {
          "bar": [
           {
            "error_x": {
             "color": "#2a3f5f"
            },
            "error_y": {
             "color": "#2a3f5f"
            },
            "marker": {
             "line": {
              "color": "#E5ECF6",
              "width": 0.5
             },
             "pattern": {
              "fillmode": "overlay",
              "size": 10,
              "solidity": 0.2
             }
            },
            "type": "bar"
           }
          ],
          "barpolar": [
           {
            "marker": {
             "line": {
              "color": "#E5ECF6",
              "width": 0.5
             },
             "pattern": {
              "fillmode": "overlay",
              "size": 10,
              "solidity": 0.2
             }
            },
            "type": "barpolar"
           }
          ],
          "carpet": [
           {
            "aaxis": {
             "endlinecolor": "#2a3f5f",
             "gridcolor": "white",
             "linecolor": "white",
             "minorgridcolor": "white",
             "startlinecolor": "#2a3f5f"
            },
            "baxis": {
             "endlinecolor": "#2a3f5f",
             "gridcolor": "white",
             "linecolor": "white",
             "minorgridcolor": "white",
             "startlinecolor": "#2a3f5f"
            },
            "type": "carpet"
           }
          ],
          "choropleth": [
           {
            "colorbar": {
             "outlinewidth": 0,
             "ticks": ""
            },
            "type": "choropleth"
           }
          ],
          "contour": [
           {
            "colorbar": {
             "outlinewidth": 0,
             "ticks": ""
            },
            "colorscale": [
             [
              0,
              "#0d0887"
             ],
             [
              0.1111111111111111,
              "#46039f"
             ],
             [
              0.2222222222222222,
              "#7201a8"
             ],
             [
              0.3333333333333333,
              "#9c179e"
             ],
             [
              0.4444444444444444,
              "#bd3786"
             ],
             [
              0.5555555555555556,
              "#d8576b"
             ],
             [
              0.6666666666666666,
              "#ed7953"
             ],
             [
              0.7777777777777778,
              "#fb9f3a"
             ],
             [
              0.8888888888888888,
              "#fdca26"
             ],
             [
              1,
              "#f0f921"
             ]
            ],
            "type": "contour"
           }
          ],
          "contourcarpet": [
           {
            "colorbar": {
             "outlinewidth": 0,
             "ticks": ""
            },
            "type": "contourcarpet"
           }
          ],
          "heatmap": [
           {
            "colorbar": {
             "outlinewidth": 0,
             "ticks": ""
            },
            "colorscale": [
             [
              0,
              "#0d0887"
             ],
             [
              0.1111111111111111,
              "#46039f"
             ],
             [
              0.2222222222222222,
              "#7201a8"
             ],
             [
              0.3333333333333333,
              "#9c179e"
             ],
             [
              0.4444444444444444,
              "#bd3786"
             ],
             [
              0.5555555555555556,
              "#d8576b"
             ],
             [
              0.6666666666666666,
              "#ed7953"
             ],
             [
              0.7777777777777778,
              "#fb9f3a"
             ],
             [
              0.8888888888888888,
              "#fdca26"
             ],
             [
              1,
              "#f0f921"
             ]
            ],
            "type": "heatmap"
           }
          ],
          "heatmapgl": [
           {
            "colorbar": {
             "outlinewidth": 0,
             "ticks": ""
            },
            "colorscale": [
             [
              0,
              "#0d0887"
             ],
             [
              0.1111111111111111,
              "#46039f"
             ],
             [
              0.2222222222222222,
              "#7201a8"
             ],
             [
              0.3333333333333333,
              "#9c179e"
             ],
             [
              0.4444444444444444,
              "#bd3786"
             ],
             [
              0.5555555555555556,
              "#d8576b"
             ],
             [
              0.6666666666666666,
              "#ed7953"
             ],
             [
              0.7777777777777778,
              "#fb9f3a"
             ],
             [
              0.8888888888888888,
              "#fdca26"
             ],
             [
              1,
              "#f0f921"
             ]
            ],
            "type": "heatmapgl"
           }
          ],
          "histogram": [
           {
            "marker": {
             "pattern": {
              "fillmode": "overlay",
              "size": 10,
              "solidity": 0.2
             }
            },
            "type": "histogram"
           }
          ],
          "histogram2d": [
           {
            "colorbar": {
             "outlinewidth": 0,
             "ticks": ""
            },
            "colorscale": [
             [
              0,
              "#0d0887"
             ],
             [
              0.1111111111111111,
              "#46039f"
             ],
             [
              0.2222222222222222,
              "#7201a8"
             ],
             [
              0.3333333333333333,
              "#9c179e"
             ],
             [
              0.4444444444444444,
              "#bd3786"
             ],
             [
              0.5555555555555556,
              "#d8576b"
             ],
             [
              0.6666666666666666,
              "#ed7953"
             ],
             [
              0.7777777777777778,
              "#fb9f3a"
             ],
             [
              0.8888888888888888,
              "#fdca26"
             ],
             [
              1,
              "#f0f921"
             ]
            ],
            "type": "histogram2d"
           }
          ],
          "histogram2dcontour": [
           {
            "colorbar": {
             "outlinewidth": 0,
             "ticks": ""
            },
            "colorscale": [
             [
              0,
              "#0d0887"
             ],
             [
              0.1111111111111111,
              "#46039f"
             ],
             [
              0.2222222222222222,
              "#7201a8"
             ],
             [
              0.3333333333333333,
              "#9c179e"
             ],
             [
              0.4444444444444444,
              "#bd3786"
             ],
             [
              0.5555555555555556,
              "#d8576b"
             ],
             [
              0.6666666666666666,
              "#ed7953"
             ],
             [
              0.7777777777777778,
              "#fb9f3a"
             ],
             [
              0.8888888888888888,
              "#fdca26"
             ],
             [
              1,
              "#f0f921"
             ]
            ],
            "type": "histogram2dcontour"
           }
          ],
          "mesh3d": [
           {
            "colorbar": {
             "outlinewidth": 0,
             "ticks": ""
            },
            "type": "mesh3d"
           }
          ],
          "parcoords": [
           {
            "line": {
             "colorbar": {
              "outlinewidth": 0,
              "ticks": ""
             }
            },
            "type": "parcoords"
           }
          ],
          "pie": [
           {
            "automargin": true,
            "type": "pie"
           }
          ],
          "scatter": [
           {
            "fillpattern": {
             "fillmode": "overlay",
             "size": 10,
             "solidity": 0.2
            },
            "type": "scatter"
           }
          ],
          "scatter3d": [
           {
            "line": {
             "colorbar": {
              "outlinewidth": 0,
              "ticks": ""
             }
            },
            "marker": {
             "colorbar": {
              "outlinewidth": 0,
              "ticks": ""
             }
            },
            "type": "scatter3d"
           }
          ],
          "scattercarpet": [
           {
            "marker": {
             "colorbar": {
              "outlinewidth": 0,
              "ticks": ""
             }
            },
            "type": "scattercarpet"
           }
          ],
          "scattergeo": [
           {
            "marker": {
             "colorbar": {
              "outlinewidth": 0,
              "ticks": ""
             }
            },
            "type": "scattergeo"
           }
          ],
          "scattergl": [
           {
            "marker": {
             "colorbar": {
              "outlinewidth": 0,
              "ticks": ""
             }
            },
            "type": "scattergl"
           }
          ],
          "scattermapbox": [
           {
            "marker": {
             "colorbar": {
              "outlinewidth": 0,
              "ticks": ""
             }
            },
            "type": "scattermapbox"
           }
          ],
          "scatterpolar": [
           {
            "marker": {
             "colorbar": {
              "outlinewidth": 0,
              "ticks": ""
             }
            },
            "type": "scatterpolar"
           }
          ],
          "scatterpolargl": [
           {
            "marker": {
             "colorbar": {
              "outlinewidth": 0,
              "ticks": ""
             }
            },
            "type": "scatterpolargl"
           }
          ],
          "scatterternary": [
           {
            "marker": {
             "colorbar": {
              "outlinewidth": 0,
              "ticks": ""
             }
            },
            "type": "scatterternary"
           }
          ],
          "surface": [
           {
            "colorbar": {
             "outlinewidth": 0,
             "ticks": ""
            },
            "colorscale": [
             [
              0,
              "#0d0887"
             ],
             [
              0.1111111111111111,
              "#46039f"
             ],
             [
              0.2222222222222222,
              "#7201a8"
             ],
             [
              0.3333333333333333,
              "#9c179e"
             ],
             [
              0.4444444444444444,
              "#bd3786"
             ],
             [
              0.5555555555555556,
              "#d8576b"
             ],
             [
              0.6666666666666666,
              "#ed7953"
             ],
             [
              0.7777777777777778,
              "#fb9f3a"
             ],
             [
              0.8888888888888888,
              "#fdca26"
             ],
             [
              1,
              "#f0f921"
             ]
            ],
            "type": "surface"
           }
          ],
          "table": [
           {
            "cells": {
             "fill": {
              "color": "#EBF0F8"
             },
             "line": {
              "color": "white"
             }
            },
            "header": {
             "fill": {
              "color": "#C8D4E3"
             },
             "line": {
              "color": "white"
             }
            },
            "type": "table"
           }
          ]
         },
         "layout": {
          "annotationdefaults": {
           "arrowcolor": "#2a3f5f",
           "arrowhead": 0,
           "arrowwidth": 1
          },
          "autotypenumbers": "strict",
          "coloraxis": {
           "colorbar": {
            "outlinewidth": 0,
            "ticks": ""
           }
          },
          "colorscale": {
           "diverging": [
            [
             0,
             "#8e0152"
            ],
            [
             0.1,
             "#c51b7d"
            ],
            [
             0.2,
             "#de77ae"
            ],
            [
             0.3,
             "#f1b6da"
            ],
            [
             0.4,
             "#fde0ef"
            ],
            [
             0.5,
             "#f7f7f7"
            ],
            [
             0.6,
             "#e6f5d0"
            ],
            [
             0.7,
             "#b8e186"
            ],
            [
             0.8,
             "#7fbc41"
            ],
            [
             0.9,
             "#4d9221"
            ],
            [
             1,
             "#276419"
            ]
           ],
           "sequential": [
            [
             0,
             "#0d0887"
            ],
            [
             0.1111111111111111,
             "#46039f"
            ],
            [
             0.2222222222222222,
             "#7201a8"
            ],
            [
             0.3333333333333333,
             "#9c179e"
            ],
            [
             0.4444444444444444,
             "#bd3786"
            ],
            [
             0.5555555555555556,
             "#d8576b"
            ],
            [
             0.6666666666666666,
             "#ed7953"
            ],
            [
             0.7777777777777778,
             "#fb9f3a"
            ],
            [
             0.8888888888888888,
             "#fdca26"
            ],
            [
             1,
             "#f0f921"
            ]
           ],
           "sequentialminus": [
            [
             0,
             "#0d0887"
            ],
            [
             0.1111111111111111,
             "#46039f"
            ],
            [
             0.2222222222222222,
             "#7201a8"
            ],
            [
             0.3333333333333333,
             "#9c179e"
            ],
            [
             0.4444444444444444,
             "#bd3786"
            ],
            [
             0.5555555555555556,
             "#d8576b"
            ],
            [
             0.6666666666666666,
             "#ed7953"
            ],
            [
             0.7777777777777778,
             "#fb9f3a"
            ],
            [
             0.8888888888888888,
             "#fdca26"
            ],
            [
             1,
             "#f0f921"
            ]
           ]
          },
          "colorway": [
           "#636efa",
           "#EF553B",
           "#00cc96",
           "#ab63fa",
           "#FFA15A",
           "#19d3f3",
           "#FF6692",
           "#B6E880",
           "#FF97FF",
           "#FECB52"
          ],
          "font": {
           "color": "#2a3f5f"
          },
          "geo": {
           "bgcolor": "white",
           "lakecolor": "white",
           "landcolor": "#E5ECF6",
           "showlakes": true,
           "showland": true,
           "subunitcolor": "white"
          },
          "hoverlabel": {
           "align": "left"
          },
          "hovermode": "closest",
          "mapbox": {
           "style": "light"
          },
          "paper_bgcolor": "white",
          "plot_bgcolor": "#E5ECF6",
          "polar": {
           "angularaxis": {
            "gridcolor": "white",
            "linecolor": "white",
            "ticks": ""
           },
           "bgcolor": "#E5ECF6",
           "radialaxis": {
            "gridcolor": "white",
            "linecolor": "white",
            "ticks": ""
           }
          },
          "scene": {
           "xaxis": {
            "backgroundcolor": "#E5ECF6",
            "gridcolor": "white",
            "gridwidth": 2,
            "linecolor": "white",
            "showbackground": true,
            "ticks": "",
            "zerolinecolor": "white"
           },
           "yaxis": {
            "backgroundcolor": "#E5ECF6",
            "gridcolor": "white",
            "gridwidth": 2,
            "linecolor": "white",
            "showbackground": true,
            "ticks": "",
            "zerolinecolor": "white"
           },
           "zaxis": {
            "backgroundcolor": "#E5ECF6",
            "gridcolor": "white",
            "gridwidth": 2,
            "linecolor": "white",
            "showbackground": true,
            "ticks": "",
            "zerolinecolor": "white"
           }
          },
          "shapedefaults": {
           "line": {
            "color": "#2a3f5f"
           }
          },
          "ternary": {
           "aaxis": {
            "gridcolor": "white",
            "linecolor": "white",
            "ticks": ""
           },
           "baxis": {
            "gridcolor": "white",
            "linecolor": "white",
            "ticks": ""
           },
           "bgcolor": "#E5ECF6",
           "caxis": {
            "gridcolor": "white",
            "linecolor": "white",
            "ticks": ""
           }
          },
          "title": {
           "x": 0.05
          },
          "xaxis": {
           "automargin": true,
           "gridcolor": "white",
           "linecolor": "white",
           "ticks": "",
           "title": {
            "standoff": 15
           },
           "zerolinecolor": "white",
           "zerolinewidth": 2
          },
          "yaxis": {
           "automargin": true,
           "gridcolor": "white",
           "linecolor": "white",
           "ticks": "",
           "title": {
            "standoff": 15
           },
           "zerolinecolor": "white",
           "zerolinewidth": 2
          }
         }
        },
        "xaxis": {
         "anchor": "y",
         "autorange": true,
         "domain": [
          0,
          1
         ],
         "range": [
          -0.050900716080569106,
          0.842965517529425
         ],
         "title": {
          "text": "linear_model ndcg"
         },
         "type": "linear"
        },
        "yaxis": {
         "anchor": "x",
         "autorange": true,
         "domain": [
          0,
          1
         ],
         "range": [
          -0.06132785208068569,
          0.8533926535295415
         ],
         "title": {
          "text": "random_forest ndcg"
         },
         "type": "linear"
        }
       }
      },
      "text/html": [
       "<div>                            <div id=\"2f84e214-3339-4f7e-91a0-706790989297\" class=\"plotly-graph-div\" style=\"height:525px; width:100%;\"></div>            <script type=\"text/javascript\">                require([\"plotly\"], function(Plotly) {                    window.PLOTLYENV=window.PLOTLYENV || {};                                    if (document.getElementById(\"2f84e214-3339-4f7e-91a0-706790989297\")) {                    Plotly.newPlot(                        \"2f84e214-3339-4f7e-91a0-706790989297\",                        [{\"customdata\":[[\"1 1\\u002f4 pop up bathroom sink drain without overflow\",1.7227062322935722,0.1,0.1,1.7227062322935722,0.1,0.1,1.7227062322935722,0.0440228325847763,0.1,0.1],[\"1 \\u2018 velcro without adhesive for sewing\",2.1505149978319906,0.1,0.2,2.1505149978319906,0.1,0.2,2.15051499783199,0.0861885860248209,0.1,0.2],[\"10x6 plastic register cover without vent\",1.8350497362273823,0.2,0.2,1.8350497362273823,0.2,0.2,1.8350497362273823,0.0803207291348465,0.2,0.2],[\"barn pictures for walls\",5.7227062322935724,0.2,0.2,5.7227062322935724,0.2,0.2,6.0,0.245660065285172,0.2,0.2],[\"black bear onesie\",6.7018226078398415,0.2,0.3,6.7018226078398415,0.2,0.3,6.7018226078398415,0.4885644593952938,0.2,0.3],[\"bloch ballet shoes women\",8.933113502154406,0.5,0.5,8.933113502154406,0.5,0.5,8.933113502154406,0.2196738302488893,0.5,0.5],[\"canon toner\",18.17423735235338,1.0,1.0,18.17423735235338,1.0,1.0,18.17423735235338,0.7441140557478906,1.0,1.0],[\"colemen tents\",0.0,0.0,0.0,0.0,0.0,0.0,0.0,0.0,0.0,0.0],[\"colorful decorations for party\",0.0,0.0,0.0,0.0,0.0,0.0,0.0,0.0,0.0,0.0],[\"cutting board stove cover\",10.827513300283044,0.5,0.5,10.827513300283044,0.5,0.5,10.827513300283044,0.4914782799681584,0.5,0.5],[\"death in the tall grass\",1.1562593052715515,0.1,0.1,1.2041199826559248,0.1,0.1,1.1562593052715515,0.0717866681624365,0.1,0.1],[\"flower lip stick\",4.0,0.1,0.1,4.0,0.1,0.1,4.0,0.1671214244214466,0.1,0.1],[\"fork spoon knife combo\",4.7581620817654215,0.3,0.3,4.7581620817654215,0.3,0.3,4.7581620817654215,0.2685334465297571,0.3,0.3],[\"franmar soy gel paint remover\",3.4285261738095816,0.2,0.3,3.4285261738095816,0.2,0.3,3.4285261738095816,0.1156755715532767,0.2,0.3],[\"hidizs\",4.0,0.1,0.1,11.927812105773981,0.7,0.7,11.92781210577398,0.520347604127338,0.7,0.7],[\"honeywell glass break sensor\",11.154058548610953,0.7,0.7,11.154058548610953,0.7,0.7,11.154058548610951,0.5582888434590495,0.7,0.7],[\"karaoke machine for adults\",9.793836475517569,0.4,0.4,10.884098302213307,0.5,0.5,10.884098302213308,0.3582827477577313,0.5,0.5],[\"kingston 120gb\",12.933113502154406,0.6,0.6,12.933113502154406,0.6,0.6,12.933113502154406,0.6871519554480504,0.6,0.6],[\"laptop dell core i7 touch screen with terabytes\",0.6309297535714575,0.1,0.1,0.6309297535714575,0.1,0.1,0.6309297535714575,0.0363958535466758,0.1,0.1],[\"lenox lamps\",18.17423735235338,1.0,1.0,18.17423735235338,1.0,1.0,18.17423735235338,0.7920648014488558,1.0,1.0],[\"mary jane shoes women\",6.5951928404762485,0.3,0.3,6.686688255575004,0.3,0.3,6.686688255575004,0.2985464822661115,0.3,0.3],[\"mens white graphic t-shirts\",6.861353116146786,0.3,0.3,6.861353116146786,0.3,0.3,7.375765605797046,0.2024578819464626,0.4,0.4],[\"mens wide width basketball shoes\",1.3333333333333333,0.1,0.1,0.0,0.0,0.0,0.0,0.0,0.0,0.0],[\"metal keaf tray\",4.0,0.1,0.1,4.0,0.1,0.1,4.0,0.3805445311708264,0.1,0.1],[\"motor mount\",0.0,0.0,0.0,0.0,0.0,0.0,0.0,0.0,0.0,0.0],[\"motorrad rallye glove\",11.793836475517569,0.5,0.5,11.793836475517569,0.5,0.5,11.793836475517567,0.4828791064230482,0.5,0.5],[\"neon hoops\",9.152667745373844,0.4,0.4,12.904119891121642,0.7,0.7,12.904119891121642,0.5903883844220756,0.7,0.7],[\"new oxo good grips 12 piece pop container set\",6.608583559213255,0.4,0.4,6.608583559213255,0.4,0.4,6.608583559213255,0.2705775114331404,0.4,0.4],[\"ninja turtle hoodie sweatshirt size 5\",2.7124143742160443,0.2,0.2,2.7124143742160443,0.2,0.2,2.7124143742160443,0.1980355903153672,0.2,0.2],[\"palladia book shelf\",0.0,0.0,0.0,0.0,0.0,0.0,0.0,0.0,0.0,0.0],[\"party hats\",6.878965537565124,0.3,0.3,6.878965537565124,0.3,0.3,6.0,0.2545855388969112,0.2,0.2],[\"pearl hair band\",2.0,0.1,0.1,2.0,0.1,0.1,2.0,0.0853046091393023,0.1,0.1],[\"pens paper mate\",1.2041199826559248,0.1,0.1,1.261859507142915,0.1,0.1,2.0,0.0818866884283906,0.1,0.1],[\"pet rainproof clothes\",8.926826214949497,0.4,0.4,8.926826214949497,0.4,0.4,8.926826214949497,0.3869835109009092,0.4,0.4],[\"plastic bottle cutter\",15.118197786726476,0.8,0.8,15.364966616272302,0.8,0.8,15.364966616272302,0.7029768704738563,0.8,0.8],[\"plastic, satire\",10.229886263822703,0.5,0.6,10.70007897431201,0.5,0.5,10.229886263822705,0.4928814930244742,0.5,0.6],[\"please do not annoy the writer mug\",18.17423735235338,1.0,1.0,18.17423735235338,1.0,1.0,18.17423735235338,0.4928841902434815,1.0,1.0],[\"rasberry pi4\",0.6666666666666666,0.1,0.1,0.6666666666666666,0.1,0.1,0.6666666666666666,0.0456592147022459,0.1,0.1],[\"reflex gun sight\",11.940137867840214,0.6,0.6,11.33261926529773,0.6,0.6,10.17635996002618,0.416654208690907,0.5,0.5],[\"sambucus elderberry syrup\",4.474237443887664,0.3,0.3,3.147534980725661,0.2,0.2,3.0560395656269055,0.1296705799509013,0.2,0.2],[\"smart watch for men women,fitness tracker with 1.54\",6.827513300283043,0.4,0.4,5.5742999686982175,0.4,0.4,5.5742999686982175,0.2770674705764361,0.4,0.4],[\"some will not sleep\",2.0,0.1,0.1,2.0,0.1,0.1,2.0,0.1862622734179711,0.1,0.1],[\"sticky notes holder for desk\",1.5474112289381665,0.1,0.1,1.5474112289381665,0.1,0.1,1.5474112289381663,0.0646513921864719,0.1,0.1],[\"tactical gloves\",8.523719014285831,0.3,0.3,8.523719014285831,0.3,0.3,8.523719014285831,0.4187734452610907,0.3,0.3],[\"thigh knife holster women\",2.6289487310880135,0.2,0.2,2.8092707360810816,0.2,0.2,2.6289487310880135,0.1306704302401924,0.2,0.2],[\"vegan instant pot cookbook\",14.13723348481033,0.7,0.7,14.20870731100075,0.7,0.7,14.20870731100075,0.6857157878404067,0.7,0.7],[\"waterproof iphone 6 case for underwatee pictures\",1.8333333333333333,0.1,0.2,1.8333333333333333,0.1,0.2,1.8333333333333333,0.1525410675894521,0.1,0.2],[\"waverly shower curtain\",13.218665223949657,0.6,0.6,13.218665223949657,0.6,0.6,13.218665223949657,0.5412163603163843,0.6,0.6],[\"women thermal coats\",0.0,0.0,0.0,0.0,0.0,0.0,0.0,0.0,0.0,0.0],[\"work clothes for women\",0.0,0.0,0.0,0.0,0.0,0.0,0.0,0.0,0.0,0.0]],\"hovertemplate\":\"linear_model ndcg=%{x}\\u003cbr\\u003erandom_forest ndcg=%{y}\\u003cbr\\u003equery=%{customdata[0]}\\u003cbr\\u003elinear_model dcg=%{customdata[1]}\\u003cbr\\u003elinear_model prec@10=%{customdata[2]}\\u003cbr\\u003elinear_model ratio_of_ratings=%{customdata[3]}\\u003cbr\\u003erandom_forest dcg=%{customdata[4]}\\u003cbr\\u003erandom_forest prec@10=%{customdata[5]}\\u003cbr\\u003erandom_forest ratio_of_ratings=%{customdata[6]}\\u003cbr\\u003edcg=%{customdata[7]}\\u003cbr\\u003endcg=%{customdata[8]}\\u003cbr\\u003eprec@10=%{customdata[9]}\\u003cbr\\u003eratio_of_ratings=%{customdata[10]}\\u003cextra\\u003e\\u003c\\u002fextra\\u003e\",\"legendgroup\":\"\",\"marker\":{\"color\":\"#636efa\",\"symbol\":\"circle\"},\"mode\":\"markers\",\"name\":\"\",\"orientation\":\"v\",\"showlegend\":false,\"x\":[0.04402283258477638,0.0861885860248209,0.08032072913484654,0.23430673110551667,0.4885644593952938,0.21967383024888934,0.7441140557478906,0.0,0.0,0.49147827996815846,0.07178666816243652,0.1671214244214466,0.26853344652975714,0.11567557155327671,0.1744989272174902,0.5582888434590495,0.32239350896203994,0.6871519554480504,0.036395853546675884,0.7920648014488558,0.2944614055768496,0.18833773921584998,0.069731285008802,0.38054453117082643,0.0,0.48287910642304827,0.4187522100644103,0.27057751143314046,0.19803559031536722,0.0,0.29188085807238295,0.08530460913930238,0.04930069892507245,0.3869835109009092,0.691686720364392,0.4928814930244742,0.4928841902434815,0.04565921470224593,0.48886917468793034,0.18984602513414658,0.3393577401752507,0.18626227341797114,0.0646513921864719,0.4187734452610907,0.13067043024019243,0.6822664430151961,0.1525410675894521,0.5412163603163843,0.0,0.0],\"xaxis\":\"x\",\"y\":[0.04402283258477638,0.0861885860248209,0.08032072913484654,0.23430673110551667,0.4885644593952938,0.21967383024888934,0.7441140557478906,0.0,0.0,0.49147827996815846,0.07475811111624223,0.1671214244214466,0.26853344652975714,0.11567557155327671,0.520347604127338,0.5582888434590495,0.3582827477577313,0.6871519554480504,0.036395853546675884,0.7920648014488558,0.2985464822661115,0.18833773921584998,0.0,0.38054453117082643,0.0,0.48287910642304827,0.5903883844220756,0.27057751143314046,0.19803559031536722,0.0,0.29188085807238295,0.08530460913930238,0.051664748150907255,0.3869835109009092,0.7029768704738563,0.5155356339580601,0.4928841902434815,0.04565921470224593,0.4639953314275065,0.1335528148774869,0.2770674705764361,0.18626227341797114,0.0646513921864719,0.4187734452610907,0.13963323491400842,0.6857157878404067,0.1525410675894521,0.5412163603163843,0.0,0.0],\"yaxis\":\"y\",\"type\":\"scatter\"}],                        {\"template\":{\"data\":{\"histogram2dcontour\":[{\"type\":\"histogram2dcontour\",\"colorbar\":{\"outlinewidth\":0,\"ticks\":\"\"},\"colorscale\":[[0.0,\"#0d0887\"],[0.1111111111111111,\"#46039f\"],[0.2222222222222222,\"#7201a8\"],[0.3333333333333333,\"#9c179e\"],[0.4444444444444444,\"#bd3786\"],[0.5555555555555556,\"#d8576b\"],[0.6666666666666666,\"#ed7953\"],[0.7777777777777778,\"#fb9f3a\"],[0.8888888888888888,\"#fdca26\"],[1.0,\"#f0f921\"]]}],\"choropleth\":[{\"type\":\"choropleth\",\"colorbar\":{\"outlinewidth\":0,\"ticks\":\"\"}}],\"histogram2d\":[{\"type\":\"histogram2d\",\"colorbar\":{\"outlinewidth\":0,\"ticks\":\"\"},\"colorscale\":[[0.0,\"#0d0887\"],[0.1111111111111111,\"#46039f\"],[0.2222222222222222,\"#7201a8\"],[0.3333333333333333,\"#9c179e\"],[0.4444444444444444,\"#bd3786\"],[0.5555555555555556,\"#d8576b\"],[0.6666666666666666,\"#ed7953\"],[0.7777777777777778,\"#fb9f3a\"],[0.8888888888888888,\"#fdca26\"],[1.0,\"#f0f921\"]]}],\"heatmap\":[{\"type\":\"heatmap\",\"colorbar\":{\"outlinewidth\":0,\"ticks\":\"\"},\"colorscale\":[[0.0,\"#0d0887\"],[0.1111111111111111,\"#46039f\"],[0.2222222222222222,\"#7201a8\"],[0.3333333333333333,\"#9c179e\"],[0.4444444444444444,\"#bd3786\"],[0.5555555555555556,\"#d8576b\"],[0.6666666666666666,\"#ed7953\"],[0.7777777777777778,\"#fb9f3a\"],[0.8888888888888888,\"#fdca26\"],[1.0,\"#f0f921\"]]}],\"heatmapgl\":[{\"type\":\"heatmapgl\",\"colorbar\":{\"outlinewidth\":0,\"ticks\":\"\"},\"colorscale\":[[0.0,\"#0d0887\"],[0.1111111111111111,\"#46039f\"],[0.2222222222222222,\"#7201a8\"],[0.3333333333333333,\"#9c179e\"],[0.4444444444444444,\"#bd3786\"],[0.5555555555555556,\"#d8576b\"],[0.6666666666666666,\"#ed7953\"],[0.7777777777777778,\"#fb9f3a\"],[0.8888888888888888,\"#fdca26\"],[1.0,\"#f0f921\"]]}],\"contourcarpet\":[{\"type\":\"contourcarpet\",\"colorbar\":{\"outlinewidth\":0,\"ticks\":\"\"}}],\"contour\":[{\"type\":\"contour\",\"colorbar\":{\"outlinewidth\":0,\"ticks\":\"\"},\"colorscale\":[[0.0,\"#0d0887\"],[0.1111111111111111,\"#46039f\"],[0.2222222222222222,\"#7201a8\"],[0.3333333333333333,\"#9c179e\"],[0.4444444444444444,\"#bd3786\"],[0.5555555555555556,\"#d8576b\"],[0.6666666666666666,\"#ed7953\"],[0.7777777777777778,\"#fb9f3a\"],[0.8888888888888888,\"#fdca26\"],[1.0,\"#f0f921\"]]}],\"surface\":[{\"type\":\"surface\",\"colorbar\":{\"outlinewidth\":0,\"ticks\":\"\"},\"colorscale\":[[0.0,\"#0d0887\"],[0.1111111111111111,\"#46039f\"],[0.2222222222222222,\"#7201a8\"],[0.3333333333333333,\"#9c179e\"],[0.4444444444444444,\"#bd3786\"],[0.5555555555555556,\"#d8576b\"],[0.6666666666666666,\"#ed7953\"],[0.7777777777777778,\"#fb9f3a\"],[0.8888888888888888,\"#fdca26\"],[1.0,\"#f0f921\"]]}],\"mesh3d\":[{\"type\":\"mesh3d\",\"colorbar\":{\"outlinewidth\":0,\"ticks\":\"\"}}],\"scatter\":[{\"fillpattern\":{\"fillmode\":\"overlay\",\"size\":10,\"solidity\":0.2},\"type\":\"scatter\"}],\"parcoords\":[{\"type\":\"parcoords\",\"line\":{\"colorbar\":{\"outlinewidth\":0,\"ticks\":\"\"}}}],\"scatterpolargl\":[{\"type\":\"scatterpolargl\",\"marker\":{\"colorbar\":{\"outlinewidth\":0,\"ticks\":\"\"}}}],\"bar\":[{\"error_x\":{\"color\":\"#2a3f5f\"},\"error_y\":{\"color\":\"#2a3f5f\"},\"marker\":{\"line\":{\"color\":\"#E5ECF6\",\"width\":0.5},\"pattern\":{\"fillmode\":\"overlay\",\"size\":10,\"solidity\":0.2}},\"type\":\"bar\"}],\"scattergeo\":[{\"type\":\"scattergeo\",\"marker\":{\"colorbar\":{\"outlinewidth\":0,\"ticks\":\"\"}}}],\"scatterpolar\":[{\"type\":\"scatterpolar\",\"marker\":{\"colorbar\":{\"outlinewidth\":0,\"ticks\":\"\"}}}],\"histogram\":[{\"marker\":{\"pattern\":{\"fillmode\":\"overlay\",\"size\":10,\"solidity\":0.2}},\"type\":\"histogram\"}],\"scattergl\":[{\"type\":\"scattergl\",\"marker\":{\"colorbar\":{\"outlinewidth\":0,\"ticks\":\"\"}}}],\"scatter3d\":[{\"type\":\"scatter3d\",\"line\":{\"colorbar\":{\"outlinewidth\":0,\"ticks\":\"\"}},\"marker\":{\"colorbar\":{\"outlinewidth\":0,\"ticks\":\"\"}}}],\"scattermapbox\":[{\"type\":\"scattermapbox\",\"marker\":{\"colorbar\":{\"outlinewidth\":0,\"ticks\":\"\"}}}],\"scatterternary\":[{\"type\":\"scatterternary\",\"marker\":{\"colorbar\":{\"outlinewidth\":0,\"ticks\":\"\"}}}],\"scattercarpet\":[{\"type\":\"scattercarpet\",\"marker\":{\"colorbar\":{\"outlinewidth\":0,\"ticks\":\"\"}}}],\"carpet\":[{\"aaxis\":{\"endlinecolor\":\"#2a3f5f\",\"gridcolor\":\"white\",\"linecolor\":\"white\",\"minorgridcolor\":\"white\",\"startlinecolor\":\"#2a3f5f\"},\"baxis\":{\"endlinecolor\":\"#2a3f5f\",\"gridcolor\":\"white\",\"linecolor\":\"white\",\"minorgridcolor\":\"white\",\"startlinecolor\":\"#2a3f5f\"},\"type\":\"carpet\"}],\"table\":[{\"cells\":{\"fill\":{\"color\":\"#EBF0F8\"},\"line\":{\"color\":\"white\"}},\"header\":{\"fill\":{\"color\":\"#C8D4E3\"},\"line\":{\"color\":\"white\"}},\"type\":\"table\"}],\"barpolar\":[{\"marker\":{\"line\":{\"color\":\"#E5ECF6\",\"width\":0.5},\"pattern\":{\"fillmode\":\"overlay\",\"size\":10,\"solidity\":0.2}},\"type\":\"barpolar\"}],\"pie\":[{\"automargin\":true,\"type\":\"pie\"}]},\"layout\":{\"autotypenumbers\":\"strict\",\"colorway\":[\"#636efa\",\"#EF553B\",\"#00cc96\",\"#ab63fa\",\"#FFA15A\",\"#19d3f3\",\"#FF6692\",\"#B6E880\",\"#FF97FF\",\"#FECB52\"],\"font\":{\"color\":\"#2a3f5f\"},\"hovermode\":\"closest\",\"hoverlabel\":{\"align\":\"left\"},\"paper_bgcolor\":\"white\",\"plot_bgcolor\":\"#E5ECF6\",\"polar\":{\"bgcolor\":\"#E5ECF6\",\"angularaxis\":{\"gridcolor\":\"white\",\"linecolor\":\"white\",\"ticks\":\"\"},\"radialaxis\":{\"gridcolor\":\"white\",\"linecolor\":\"white\",\"ticks\":\"\"}},\"ternary\":{\"bgcolor\":\"#E5ECF6\",\"aaxis\":{\"gridcolor\":\"white\",\"linecolor\":\"white\",\"ticks\":\"\"},\"baxis\":{\"gridcolor\":\"white\",\"linecolor\":\"white\",\"ticks\":\"\"},\"caxis\":{\"gridcolor\":\"white\",\"linecolor\":\"white\",\"ticks\":\"\"}},\"coloraxis\":{\"colorbar\":{\"outlinewidth\":0,\"ticks\":\"\"}},\"colorscale\":{\"sequential\":[[0.0,\"#0d0887\"],[0.1111111111111111,\"#46039f\"],[0.2222222222222222,\"#7201a8\"],[0.3333333333333333,\"#9c179e\"],[0.4444444444444444,\"#bd3786\"],[0.5555555555555556,\"#d8576b\"],[0.6666666666666666,\"#ed7953\"],[0.7777777777777778,\"#fb9f3a\"],[0.8888888888888888,\"#fdca26\"],[1.0,\"#f0f921\"]],\"sequentialminus\":[[0.0,\"#0d0887\"],[0.1111111111111111,\"#46039f\"],[0.2222222222222222,\"#7201a8\"],[0.3333333333333333,\"#9c179e\"],[0.4444444444444444,\"#bd3786\"],[0.5555555555555556,\"#d8576b\"],[0.6666666666666666,\"#ed7953\"],[0.7777777777777778,\"#fb9f3a\"],[0.8888888888888888,\"#fdca26\"],[1.0,\"#f0f921\"]],\"diverging\":[[0,\"#8e0152\"],[0.1,\"#c51b7d\"],[0.2,\"#de77ae\"],[0.3,\"#f1b6da\"],[0.4,\"#fde0ef\"],[0.5,\"#f7f7f7\"],[0.6,\"#e6f5d0\"],[0.7,\"#b8e186\"],[0.8,\"#7fbc41\"],[0.9,\"#4d9221\"],[1,\"#276419\"]]},\"xaxis\":{\"gridcolor\":\"white\",\"linecolor\":\"white\",\"ticks\":\"\",\"title\":{\"standoff\":15},\"zerolinecolor\":\"white\",\"automargin\":true,\"zerolinewidth\":2},\"yaxis\":{\"gridcolor\":\"white\",\"linecolor\":\"white\",\"ticks\":\"\",\"title\":{\"standoff\":15},\"zerolinecolor\":\"white\",\"automargin\":true,\"zerolinewidth\":2},\"scene\":{\"xaxis\":{\"backgroundcolor\":\"#E5ECF6\",\"gridcolor\":\"white\",\"linecolor\":\"white\",\"showbackground\":true,\"ticks\":\"\",\"zerolinecolor\":\"white\",\"gridwidth\":2},\"yaxis\":{\"backgroundcolor\":\"#E5ECF6\",\"gridcolor\":\"white\",\"linecolor\":\"white\",\"showbackground\":true,\"ticks\":\"\",\"zerolinecolor\":\"white\",\"gridwidth\":2},\"zaxis\":{\"backgroundcolor\":\"#E5ECF6\",\"gridcolor\":\"white\",\"linecolor\":\"white\",\"showbackground\":true,\"ticks\":\"\",\"zerolinecolor\":\"white\",\"gridwidth\":2}},\"shapedefaults\":{\"line\":{\"color\":\"#2a3f5f\"}},\"annotationdefaults\":{\"arrowcolor\":\"#2a3f5f\",\"arrowhead\":0,\"arrowwidth\":1},\"geo\":{\"bgcolor\":\"white\",\"landcolor\":\"#E5ECF6\",\"subunitcolor\":\"white\",\"showland\":true,\"showlakes\":true,\"lakecolor\":\"white\"},\"title\":{\"x\":0.05},\"mapbox\":{\"style\":\"light\"}}},\"xaxis\":{\"anchor\":\"y\",\"domain\":[0.0,1.0],\"title\":{\"text\":\"linear_model ndcg\"}},\"yaxis\":{\"anchor\":\"x\",\"domain\":[0.0,1.0],\"title\":{\"text\":\"random_forest ndcg\"}},\"legend\":{\"tracegroupgap\":0},\"margin\":{\"t\":60}},                        {\"responsive\": true}                    ).then(function(){\n",
       "                            \n",
       "var gd = document.getElementById('2f84e214-3339-4f7e-91a0-706790989297');\n",
       "var x = new MutationObserver(function (mutations, observer) {{\n",
       "        var display = window.getComputedStyle(gd).display;\n",
       "        if (!display || display === 'none') {{\n",
       "            console.log([gd, 'removed!']);\n",
       "            Plotly.purge(gd);\n",
       "            observer.disconnect();\n",
       "        }}\n",
       "}});\n",
       "\n",
       "// Listen for the removal of the full notebook cells\n",
       "var notebookContainer = gd.closest('#notebook-container');\n",
       "if (notebookContainer) {{\n",
       "    x.observe(notebookContainer, {childList: true});\n",
       "}}\n",
       "\n",
       "// Listen for the clearing of the current output cell\n",
       "var outputEl = gd.closest('.output');\n",
       "if (outputEl) {{\n",
       "    x.observe(outputEl, {childList: true});\n",
       "}}\n",
       "\n",
       "                        })                };                });            </script>        </div>"
      ]
     },
     "metadata": {},
     "output_type": "display_data"
    }
   ],
   "source": [
    "px.scatter(\n",
    "    df_metrics_merged,\n",
    "    x=\"linear_model ndcg\",\n",
    "    y=\"random_forest ndcg\",\n",
    "    hover_data=df_metrics_merged.columns,\n",
    ")"
   ]
  },
  {
   "cell_type": "code",
   "execution_count": 325,
   "id": "9aeff1a7-7d1f-4cf2-97ad-e34a38735d6c",
   "metadata": {
    "scrolled": true
   },
   "outputs": [
    {
     "data": {
      "application/vnd.plotly.v1+json": {
       "config": {
        "plotlyServerURL": "https://plot.ly"
       },
       "data": [
        {
         "customdata": [
          [
           "1 1/4 pop up bathroom sink drain without overflow",
           0.04402283258477638,
           0.1,
           0.1,
           1.7227062322935722,
           0.04402283258477638,
           0.1,
           0.1,
           0.0440228325847763,
           0.1,
           0.1
          ],
          [
           "1 ‘ velcro without adhesive for sewing",
           0.0861885860248209,
           0.1,
           0.2,
           2.1505149978319906,
           0.0861885860248209,
           0.1,
           0.2,
           0.0861885860248209,
           0.1,
           0.2
          ],
          [
           "10x6 plastic register cover without vent",
           0.08032072913484654,
           0.2,
           0.2,
           1.8350497362273823,
           0.08032072913484654,
           0.2,
           0.2,
           0.0803207291348465,
           0.2,
           0.2
          ],
          [
           "barn pictures for walls",
           0.23430673110551667,
           0.2,
           0.2,
           5.7227062322935724,
           0.23430673110551667,
           0.2,
           0.2,
           0.245660065285172,
           0.2,
           0.2
          ],
          [
           "black bear onesie",
           0.4885644593952938,
           0.2,
           0.3,
           6.7018226078398415,
           0.4885644593952938,
           0.2,
           0.3,
           0.4885644593952938,
           0.2,
           0.3
          ],
          [
           "bloch ballet shoes women",
           0.21967383024888934,
           0.5,
           0.5,
           8.933113502154406,
           0.21967383024888934,
           0.5,
           0.5,
           0.2196738302488893,
           0.5,
           0.5
          ],
          [
           "canon toner",
           0.7441140557478906,
           1,
           1,
           18.17423735235338,
           0.7441140557478906,
           1,
           1,
           0.7441140557478906,
           1,
           1
          ],
          [
           "colemen tents",
           0,
           0,
           0,
           0,
           0,
           0,
           0,
           0,
           0,
           0
          ],
          [
           "colorful decorations for party",
           0,
           0,
           0,
           0,
           0,
           0,
           0,
           0,
           0,
           0
          ],
          [
           "cutting board stove cover",
           0.49147827996815846,
           0.5,
           0.5,
           10.827513300283044,
           0.49147827996815846,
           0.5,
           0.5,
           0.4914782799681584,
           0.5,
           0.5
          ],
          [
           "death in the tall grass",
           0.07178666816243652,
           0.1,
           0.1,
           1.2041199826559248,
           0.07475811111624223,
           0.1,
           0.1,
           0.0717866681624365,
           0.1,
           0.1
          ],
          [
           "flower lip stick",
           0.1671214244214466,
           0.1,
           0.1,
           4,
           0.1671214244214466,
           0.1,
           0.1,
           0.1671214244214466,
           0.1,
           0.1
          ],
          [
           "fork spoon knife combo",
           0.26853344652975714,
           0.3,
           0.3,
           4.7581620817654215,
           0.26853344652975714,
           0.3,
           0.3,
           0.2685334465297571,
           0.3,
           0.3
          ],
          [
           "franmar soy gel paint remover",
           0.11567557155327671,
           0.2,
           0.3,
           3.4285261738095816,
           0.11567557155327671,
           0.2,
           0.3,
           0.1156755715532767,
           0.2,
           0.3
          ],
          [
           "hidizs",
           0.1744989272174902,
           0.1,
           0.1,
           11.927812105773981,
           0.520347604127338,
           0.7,
           0.7,
           0.520347604127338,
           0.7,
           0.7
          ],
          [
           "honeywell glass break sensor",
           0.5582888434590495,
           0.7,
           0.7,
           11.154058548610953,
           0.5582888434590495,
           0.7,
           0.7,
           0.5582888434590495,
           0.7,
           0.7
          ],
          [
           "karaoke machine for adults",
           0.32239350896203994,
           0.4,
           0.4,
           10.884098302213307,
           0.3582827477577313,
           0.5,
           0.5,
           0.3582827477577313,
           0.5,
           0.5
          ],
          [
           "kingston 120gb",
           0.6871519554480504,
           0.6,
           0.6,
           12.933113502154406,
           0.6871519554480504,
           0.6,
           0.6,
           0.6871519554480504,
           0.6,
           0.6
          ],
          [
           "laptop dell core i7 touch screen with terabytes",
           0.036395853546675884,
           0.1,
           0.1,
           0.6309297535714575,
           0.036395853546675884,
           0.1,
           0.1,
           0.0363958535466758,
           0.1,
           0.1
          ],
          [
           "lenox lamps",
           0.7920648014488558,
           1,
           1,
           18.17423735235338,
           0.7920648014488558,
           1,
           1,
           0.7920648014488558,
           1,
           1
          ],
          [
           "mary jane shoes women",
           0.2944614055768496,
           0.3,
           0.3,
           6.686688255575004,
           0.2985464822661115,
           0.3,
           0.3,
           0.2985464822661115,
           0.3,
           0.3
          ],
          [
           "mens white graphic t-shirts",
           0.18833773921584998,
           0.3,
           0.3,
           6.861353116146786,
           0.18833773921584998,
           0.3,
           0.3,
           0.2024578819464626,
           0.4,
           0.4
          ],
          [
           "mens wide width basketball shoes",
           0.069731285008802,
           0.1,
           0.1,
           0,
           0,
           0,
           0,
           0,
           0,
           0
          ],
          [
           "metal keaf tray",
           0.38054453117082643,
           0.1,
           0.1,
           4,
           0.38054453117082643,
           0.1,
           0.1,
           0.3805445311708264,
           0.1,
           0.1
          ],
          [
           "motor mount",
           0,
           0,
           0,
           0,
           0,
           0,
           0,
           0,
           0,
           0
          ],
          [
           "motorrad rallye glove",
           0.48287910642304827,
           0.5,
           0.5,
           11.793836475517569,
           0.48287910642304827,
           0.5,
           0.5,
           0.4828791064230482,
           0.5,
           0.5
          ],
          [
           "neon hoops",
           0.4187522100644103,
           0.4,
           0.4,
           12.904119891121642,
           0.5903883844220756,
           0.7,
           0.7,
           0.5903883844220756,
           0.7,
           0.7
          ],
          [
           "new oxo good grips 12 piece pop container set",
           0.27057751143314046,
           0.4,
           0.4,
           6.608583559213255,
           0.27057751143314046,
           0.4,
           0.4,
           0.2705775114331404,
           0.4,
           0.4
          ],
          [
           "ninja turtle hoodie sweatshirt size 5",
           0.19803559031536722,
           0.2,
           0.2,
           2.7124143742160443,
           0.19803559031536722,
           0.2,
           0.2,
           0.1980355903153672,
           0.2,
           0.2
          ],
          [
           "palladia book shelf",
           0,
           0,
           0,
           0,
           0,
           0,
           0,
           0,
           0,
           0
          ],
          [
           "party hats",
           0.29188085807238295,
           0.3,
           0.3,
           6.878965537565124,
           0.29188085807238295,
           0.3,
           0.3,
           0.2545855388969112,
           0.2,
           0.2
          ],
          [
           "pearl hair band",
           0.08530460913930238,
           0.1,
           0.1,
           2,
           0.08530460913930238,
           0.1,
           0.1,
           0.0853046091393023,
           0.1,
           0.1
          ],
          [
           "pens paper mate",
           0.04930069892507245,
           0.1,
           0.1,
           1.261859507142915,
           0.051664748150907255,
           0.1,
           0.1,
           0.0818866884283906,
           0.1,
           0.1
          ],
          [
           "pet rainproof clothes",
           0.3869835109009092,
           0.4,
           0.4,
           8.926826214949497,
           0.3869835109009092,
           0.4,
           0.4,
           0.3869835109009092,
           0.4,
           0.4
          ],
          [
           "plastic bottle cutter",
           0.691686720364392,
           0.8,
           0.8,
           15.364966616272302,
           0.7029768704738563,
           0.8,
           0.8,
           0.7029768704738563,
           0.8,
           0.8
          ],
          [
           "plastic, satire",
           0.4928814930244742,
           0.5,
           0.6,
           10.70007897431201,
           0.5155356339580601,
           0.5,
           0.5,
           0.4928814930244742,
           0.5,
           0.6
          ],
          [
           "please do not annoy the writer mug",
           0.4928841902434815,
           1,
           1,
           18.17423735235338,
           0.4928841902434815,
           1,
           1,
           0.4928841902434815,
           1,
           1
          ],
          [
           "rasberry pi4",
           0.04565921470224593,
           0.1,
           0.1,
           0.6666666666666666,
           0.04565921470224593,
           0.1,
           0.1,
           0.0456592147022459,
           0.1,
           0.1
          ],
          [
           "reflex gun sight",
           0.48886917468793034,
           0.6,
           0.6,
           11.33261926529773,
           0.4639953314275065,
           0.6,
           0.6,
           0.416654208690907,
           0.5,
           0.5
          ],
          [
           "sambucus elderberry syrup",
           0.18984602513414658,
           0.3,
           0.3,
           3.147534980725661,
           0.1335528148774869,
           0.2,
           0.2,
           0.1296705799509013,
           0.2,
           0.2
          ],
          [
           "smart watch for men women,fitness tracker with 1.54",
           0.3393577401752507,
           0.4,
           0.4,
           5.5742999686982175,
           0.2770674705764361,
           0.4,
           0.4,
           0.2770674705764361,
           0.4,
           0.4
          ],
          [
           "some will not sleep",
           0.18626227341797114,
           0.1,
           0.1,
           2,
           0.18626227341797114,
           0.1,
           0.1,
           0.1862622734179711,
           0.1,
           0.1
          ],
          [
           "sticky notes holder for desk",
           0.0646513921864719,
           0.1,
           0.1,
           1.5474112289381665,
           0.0646513921864719,
           0.1,
           0.1,
           0.0646513921864719,
           0.1,
           0.1
          ],
          [
           "tactical gloves",
           0.4187734452610907,
           0.3,
           0.3,
           8.523719014285831,
           0.4187734452610907,
           0.3,
           0.3,
           0.4187734452610907,
           0.3,
           0.3
          ],
          [
           "thigh knife holster women",
           0.13067043024019243,
           0.2,
           0.2,
           2.8092707360810816,
           0.13963323491400842,
           0.2,
           0.2,
           0.1306704302401924,
           0.2,
           0.2
          ],
          [
           "vegan instant pot cookbook",
           0.6822664430151961,
           0.7,
           0.7,
           14.20870731100075,
           0.6857157878404067,
           0.7,
           0.7,
           0.6857157878404067,
           0.7,
           0.7
          ],
          [
           "waterproof iphone 6 case for underwatee pictures",
           0.1525410675894521,
           0.1,
           0.2,
           1.8333333333333333,
           0.1525410675894521,
           0.1,
           0.2,
           0.1525410675894521,
           0.1,
           0.2
          ],
          [
           "waverly shower curtain",
           0.5412163603163843,
           0.6,
           0.6,
           13.218665223949657,
           0.5412163603163843,
           0.6,
           0.6,
           0.5412163603163843,
           0.6,
           0.6
          ],
          [
           "women thermal coats",
           0,
           0,
           0,
           0,
           0,
           0,
           0,
           0,
           0,
           0
          ],
          [
           "work clothes for women",
           0,
           0,
           0,
           0,
           0,
           0,
           0,
           0,
           0,
           0
          ]
         ],
         "hovertemplate": "linear_model dcg=%{x}<br>dcg=%{y}<br>query=%{customdata[0]}<br>linear_model ndcg=%{customdata[1]}<br>linear_model prec@10=%{customdata[2]}<br>linear_model ratio_of_ratings=%{customdata[3]}<br>random_forest dcg=%{customdata[4]}<br>random_forest ndcg=%{customdata[5]}<br>random_forest prec@10=%{customdata[6]}<br>random_forest ratio_of_ratings=%{customdata[7]}<br>ndcg=%{customdata[8]}<br>prec@10=%{customdata[9]}<br>ratio_of_ratings=%{customdata[10]}<extra></extra>",
         "legendgroup": "",
         "marker": {
          "color": "#636efa",
          "symbol": "circle"
         },
         "mode": "markers",
         "name": "",
         "orientation": "v",
         "showlegend": false,
         "type": "scatter",
         "x": [
          1.7227062322935722,
          2.1505149978319906,
          1.8350497362273823,
          5.7227062322935724,
          6.7018226078398415,
          8.933113502154406,
          18.17423735235338,
          0,
          0,
          10.827513300283044,
          1.1562593052715515,
          4,
          4.7581620817654215,
          3.4285261738095816,
          4,
          11.154058548610953,
          9.793836475517569,
          12.933113502154406,
          0.6309297535714575,
          18.17423735235338,
          6.5951928404762485,
          6.861353116146786,
          1.3333333333333333,
          4,
          0,
          11.793836475517569,
          9.152667745373844,
          6.608583559213255,
          2.7124143742160443,
          0,
          6.878965537565124,
          2,
          1.2041199826559248,
          8.926826214949497,
          15.118197786726476,
          10.229886263822703,
          18.17423735235338,
          0.6666666666666666,
          11.940137867840214,
          4.474237443887664,
          6.827513300283043,
          2,
          1.5474112289381665,
          8.523719014285831,
          2.6289487310880135,
          14.13723348481033,
          1.8333333333333333,
          13.218665223949657,
          0,
          0
         ],
         "xaxis": "x",
         "y": [
          1.7227062322935722,
          2.15051499783199,
          1.8350497362273823,
          6,
          6.7018226078398415,
          8.933113502154406,
          18.17423735235338,
          0,
          0,
          10.827513300283044,
          1.1562593052715515,
          4,
          4.7581620817654215,
          3.4285261738095816,
          11.92781210577398,
          11.154058548610951,
          10.884098302213308,
          12.933113502154406,
          0.6309297535714575,
          18.17423735235338,
          6.686688255575004,
          7.375765605797046,
          0,
          4,
          0,
          11.793836475517567,
          12.904119891121642,
          6.608583559213255,
          2.7124143742160443,
          0,
          6,
          2,
          2,
          8.926826214949497,
          15.364966616272302,
          10.229886263822705,
          18.17423735235338,
          0.6666666666666666,
          10.17635996002618,
          3.0560395656269055,
          5.5742999686982175,
          2,
          1.5474112289381663,
          8.523719014285831,
          2.6289487310880135,
          14.20870731100075,
          1.8333333333333333,
          13.218665223949657,
          0,
          0
         ],
         "yaxis": "y"
        }
       ],
       "layout": {
        "autosize": true,
        "legend": {
         "tracegroupgap": 0
        },
        "margin": {
         "t": 60
        },
        "template": {
         "data": {
          "bar": [
           {
            "error_x": {
             "color": "#2a3f5f"
            },
            "error_y": {
             "color": "#2a3f5f"
            },
            "marker": {
             "line": {
              "color": "#E5ECF6",
              "width": 0.5
             },
             "pattern": {
              "fillmode": "overlay",
              "size": 10,
              "solidity": 0.2
             }
            },
            "type": "bar"
           }
          ],
          "barpolar": [
           {
            "marker": {
             "line": {
              "color": "#E5ECF6",
              "width": 0.5
             },
             "pattern": {
              "fillmode": "overlay",
              "size": 10,
              "solidity": 0.2
             }
            },
            "type": "barpolar"
           }
          ],
          "carpet": [
           {
            "aaxis": {
             "endlinecolor": "#2a3f5f",
             "gridcolor": "white",
             "linecolor": "white",
             "minorgridcolor": "white",
             "startlinecolor": "#2a3f5f"
            },
            "baxis": {
             "endlinecolor": "#2a3f5f",
             "gridcolor": "white",
             "linecolor": "white",
             "minorgridcolor": "white",
             "startlinecolor": "#2a3f5f"
            },
            "type": "carpet"
           }
          ],
          "choropleth": [
           {
            "colorbar": {
             "outlinewidth": 0,
             "ticks": ""
            },
            "type": "choropleth"
           }
          ],
          "contour": [
           {
            "colorbar": {
             "outlinewidth": 0,
             "ticks": ""
            },
            "colorscale": [
             [
              0,
              "#0d0887"
             ],
             [
              0.1111111111111111,
              "#46039f"
             ],
             [
              0.2222222222222222,
              "#7201a8"
             ],
             [
              0.3333333333333333,
              "#9c179e"
             ],
             [
              0.4444444444444444,
              "#bd3786"
             ],
             [
              0.5555555555555556,
              "#d8576b"
             ],
             [
              0.6666666666666666,
              "#ed7953"
             ],
             [
              0.7777777777777778,
              "#fb9f3a"
             ],
             [
              0.8888888888888888,
              "#fdca26"
             ],
             [
              1,
              "#f0f921"
             ]
            ],
            "type": "contour"
           }
          ],
          "contourcarpet": [
           {
            "colorbar": {
             "outlinewidth": 0,
             "ticks": ""
            },
            "type": "contourcarpet"
           }
          ],
          "heatmap": [
           {
            "colorbar": {
             "outlinewidth": 0,
             "ticks": ""
            },
            "colorscale": [
             [
              0,
              "#0d0887"
             ],
             [
              0.1111111111111111,
              "#46039f"
             ],
             [
              0.2222222222222222,
              "#7201a8"
             ],
             [
              0.3333333333333333,
              "#9c179e"
             ],
             [
              0.4444444444444444,
              "#bd3786"
             ],
             [
              0.5555555555555556,
              "#d8576b"
             ],
             [
              0.6666666666666666,
              "#ed7953"
             ],
             [
              0.7777777777777778,
              "#fb9f3a"
             ],
             [
              0.8888888888888888,
              "#fdca26"
             ],
             [
              1,
              "#f0f921"
             ]
            ],
            "type": "heatmap"
           }
          ],
          "heatmapgl": [
           {
            "colorbar": {
             "outlinewidth": 0,
             "ticks": ""
            },
            "colorscale": [
             [
              0,
              "#0d0887"
             ],
             [
              0.1111111111111111,
              "#46039f"
             ],
             [
              0.2222222222222222,
              "#7201a8"
             ],
             [
              0.3333333333333333,
              "#9c179e"
             ],
             [
              0.4444444444444444,
              "#bd3786"
             ],
             [
              0.5555555555555556,
              "#d8576b"
             ],
             [
              0.6666666666666666,
              "#ed7953"
             ],
             [
              0.7777777777777778,
              "#fb9f3a"
             ],
             [
              0.8888888888888888,
              "#fdca26"
             ],
             [
              1,
              "#f0f921"
             ]
            ],
            "type": "heatmapgl"
           }
          ],
          "histogram": [
           {
            "marker": {
             "pattern": {
              "fillmode": "overlay",
              "size": 10,
              "solidity": 0.2
             }
            },
            "type": "histogram"
           }
          ],
          "histogram2d": [
           {
            "colorbar": {
             "outlinewidth": 0,
             "ticks": ""
            },
            "colorscale": [
             [
              0,
              "#0d0887"
             ],
             [
              0.1111111111111111,
              "#46039f"
             ],
             [
              0.2222222222222222,
              "#7201a8"
             ],
             [
              0.3333333333333333,
              "#9c179e"
             ],
             [
              0.4444444444444444,
              "#bd3786"
             ],
             [
              0.5555555555555556,
              "#d8576b"
             ],
             [
              0.6666666666666666,
              "#ed7953"
             ],
             [
              0.7777777777777778,
              "#fb9f3a"
             ],
             [
              0.8888888888888888,
              "#fdca26"
             ],
             [
              1,
              "#f0f921"
             ]
            ],
            "type": "histogram2d"
           }
          ],
          "histogram2dcontour": [
           {
            "colorbar": {
             "outlinewidth": 0,
             "ticks": ""
            },
            "colorscale": [
             [
              0,
              "#0d0887"
             ],
             [
              0.1111111111111111,
              "#46039f"
             ],
             [
              0.2222222222222222,
              "#7201a8"
             ],
             [
              0.3333333333333333,
              "#9c179e"
             ],
             [
              0.4444444444444444,
              "#bd3786"
             ],
             [
              0.5555555555555556,
              "#d8576b"
             ],
             [
              0.6666666666666666,
              "#ed7953"
             ],
             [
              0.7777777777777778,
              "#fb9f3a"
             ],
             [
              0.8888888888888888,
              "#fdca26"
             ],
             [
              1,
              "#f0f921"
             ]
            ],
            "type": "histogram2dcontour"
           }
          ],
          "mesh3d": [
           {
            "colorbar": {
             "outlinewidth": 0,
             "ticks": ""
            },
            "type": "mesh3d"
           }
          ],
          "parcoords": [
           {
            "line": {
             "colorbar": {
              "outlinewidth": 0,
              "ticks": ""
             }
            },
            "type": "parcoords"
           }
          ],
          "pie": [
           {
            "automargin": true,
            "type": "pie"
           }
          ],
          "scatter": [
           {
            "fillpattern": {
             "fillmode": "overlay",
             "size": 10,
             "solidity": 0.2
            },
            "type": "scatter"
           }
          ],
          "scatter3d": [
           {
            "line": {
             "colorbar": {
              "outlinewidth": 0,
              "ticks": ""
             }
            },
            "marker": {
             "colorbar": {
              "outlinewidth": 0,
              "ticks": ""
             }
            },
            "type": "scatter3d"
           }
          ],
          "scattercarpet": [
           {
            "marker": {
             "colorbar": {
              "outlinewidth": 0,
              "ticks": ""
             }
            },
            "type": "scattercarpet"
           }
          ],
          "scattergeo": [
           {
            "marker": {
             "colorbar": {
              "outlinewidth": 0,
              "ticks": ""
             }
            },
            "type": "scattergeo"
           }
          ],
          "scattergl": [
           {
            "marker": {
             "colorbar": {
              "outlinewidth": 0,
              "ticks": ""
             }
            },
            "type": "scattergl"
           }
          ],
          "scattermapbox": [
           {
            "marker": {
             "colorbar": {
              "outlinewidth": 0,
              "ticks": ""
             }
            },
            "type": "scattermapbox"
           }
          ],
          "scatterpolar": [
           {
            "marker": {
             "colorbar": {
              "outlinewidth": 0,
              "ticks": ""
             }
            },
            "type": "scatterpolar"
           }
          ],
          "scatterpolargl": [
           {
            "marker": {
             "colorbar": {
              "outlinewidth": 0,
              "ticks": ""
             }
            },
            "type": "scatterpolargl"
           }
          ],
          "scatterternary": [
           {
            "marker": {
             "colorbar": {
              "outlinewidth": 0,
              "ticks": ""
             }
            },
            "type": "scatterternary"
           }
          ],
          "surface": [
           {
            "colorbar": {
             "outlinewidth": 0,
             "ticks": ""
            },
            "colorscale": [
             [
              0,
              "#0d0887"
             ],
             [
              0.1111111111111111,
              "#46039f"
             ],
             [
              0.2222222222222222,
              "#7201a8"
             ],
             [
              0.3333333333333333,
              "#9c179e"
             ],
             [
              0.4444444444444444,
              "#bd3786"
             ],
             [
              0.5555555555555556,
              "#d8576b"
             ],
             [
              0.6666666666666666,
              "#ed7953"
             ],
             [
              0.7777777777777778,
              "#fb9f3a"
             ],
             [
              0.8888888888888888,
              "#fdca26"
             ],
             [
              1,
              "#f0f921"
             ]
            ],
            "type": "surface"
           }
          ],
          "table": [
           {
            "cells": {
             "fill": {
              "color": "#EBF0F8"
             },
             "line": {
              "color": "white"
             }
            },
            "header": {
             "fill": {
              "color": "#C8D4E3"
             },
             "line": {
              "color": "white"
             }
            },
            "type": "table"
           }
          ]
         },
         "layout": {
          "annotationdefaults": {
           "arrowcolor": "#2a3f5f",
           "arrowhead": 0,
           "arrowwidth": 1
          },
          "autotypenumbers": "strict",
          "coloraxis": {
           "colorbar": {
            "outlinewidth": 0,
            "ticks": ""
           }
          },
          "colorscale": {
           "diverging": [
            [
             0,
             "#8e0152"
            ],
            [
             0.1,
             "#c51b7d"
            ],
            [
             0.2,
             "#de77ae"
            ],
            [
             0.3,
             "#f1b6da"
            ],
            [
             0.4,
             "#fde0ef"
            ],
            [
             0.5,
             "#f7f7f7"
            ],
            [
             0.6,
             "#e6f5d0"
            ],
            [
             0.7,
             "#b8e186"
            ],
            [
             0.8,
             "#7fbc41"
            ],
            [
             0.9,
             "#4d9221"
            ],
            [
             1,
             "#276419"
            ]
           ],
           "sequential": [
            [
             0,
             "#0d0887"
            ],
            [
             0.1111111111111111,
             "#46039f"
            ],
            [
             0.2222222222222222,
             "#7201a8"
            ],
            [
             0.3333333333333333,
             "#9c179e"
            ],
            [
             0.4444444444444444,
             "#bd3786"
            ],
            [
             0.5555555555555556,
             "#d8576b"
            ],
            [
             0.6666666666666666,
             "#ed7953"
            ],
            [
             0.7777777777777778,
             "#fb9f3a"
            ],
            [
             0.8888888888888888,
             "#fdca26"
            ],
            [
             1,
             "#f0f921"
            ]
           ],
           "sequentialminus": [
            [
             0,
             "#0d0887"
            ],
            [
             0.1111111111111111,
             "#46039f"
            ],
            [
             0.2222222222222222,
             "#7201a8"
            ],
            [
             0.3333333333333333,
             "#9c179e"
            ],
            [
             0.4444444444444444,
             "#bd3786"
            ],
            [
             0.5555555555555556,
             "#d8576b"
            ],
            [
             0.6666666666666666,
             "#ed7953"
            ],
            [
             0.7777777777777778,
             "#fb9f3a"
            ],
            [
             0.8888888888888888,
             "#fdca26"
            ],
            [
             1,
             "#f0f921"
            ]
           ]
          },
          "colorway": [
           "#636efa",
           "#EF553B",
           "#00cc96",
           "#ab63fa",
           "#FFA15A",
           "#19d3f3",
           "#FF6692",
           "#B6E880",
           "#FF97FF",
           "#FECB52"
          ],
          "font": {
           "color": "#2a3f5f"
          },
          "geo": {
           "bgcolor": "white",
           "lakecolor": "white",
           "landcolor": "#E5ECF6",
           "showlakes": true,
           "showland": true,
           "subunitcolor": "white"
          },
          "hoverlabel": {
           "align": "left"
          },
          "hovermode": "closest",
          "mapbox": {
           "style": "light"
          },
          "paper_bgcolor": "white",
          "plot_bgcolor": "#E5ECF6",
          "polar": {
           "angularaxis": {
            "gridcolor": "white",
            "linecolor": "white",
            "ticks": ""
           },
           "bgcolor": "#E5ECF6",
           "radialaxis": {
            "gridcolor": "white",
            "linecolor": "white",
            "ticks": ""
           }
          },
          "scene": {
           "xaxis": {
            "backgroundcolor": "#E5ECF6",
            "gridcolor": "white",
            "gridwidth": 2,
            "linecolor": "white",
            "showbackground": true,
            "ticks": "",
            "zerolinecolor": "white"
           },
           "yaxis": {
            "backgroundcolor": "#E5ECF6",
            "gridcolor": "white",
            "gridwidth": 2,
            "linecolor": "white",
            "showbackground": true,
            "ticks": "",
            "zerolinecolor": "white"
           },
           "zaxis": {
            "backgroundcolor": "#E5ECF6",
            "gridcolor": "white",
            "gridwidth": 2,
            "linecolor": "white",
            "showbackground": true,
            "ticks": "",
            "zerolinecolor": "white"
           }
          },
          "shapedefaults": {
           "line": {
            "color": "#2a3f5f"
           }
          },
          "ternary": {
           "aaxis": {
            "gridcolor": "white",
            "linecolor": "white",
            "ticks": ""
           },
           "baxis": {
            "gridcolor": "white",
            "linecolor": "white",
            "ticks": ""
           },
           "bgcolor": "#E5ECF6",
           "caxis": {
            "gridcolor": "white",
            "linecolor": "white",
            "ticks": ""
           }
          },
          "title": {
           "x": 0.05
          },
          "xaxis": {
           "automargin": true,
           "gridcolor": "white",
           "linecolor": "white",
           "ticks": "",
           "title": {
            "standoff": 15
           },
           "zerolinecolor": "white",
           "zerolinewidth": 2
          },
          "yaxis": {
           "automargin": true,
           "gridcolor": "white",
           "linecolor": "white",
           "ticks": "",
           "title": {
            "standoff": 15
           },
           "zerolinecolor": "white",
           "zerolinewidth": 2
          }
         }
        },
        "xaxis": {
         "anchor": "y",
         "autorange": true,
         "domain": [
          0,
          1
         ],
         "range": [
          -1.1679368831449664,
          19.342174235498348
         ],
         "title": {
          "text": "linear_model dcg"
         },
         "type": "linear"
        },
        "yaxis": {
         "anchor": "x",
         "autorange": true,
         "domain": [
          0,
          1
         ],
         "range": [
          -1.4071916060221121,
          19.581428958375493
         ],
         "title": {
          "text": "dcg"
         },
         "type": "linear"
        }
       }
      },
      "text/html": [
       "<div>                            <div id=\"502c1796-6ea4-46f0-a413-606eabe37f5b\" class=\"plotly-graph-div\" style=\"height:525px; width:100%;\"></div>            <script type=\"text/javascript\">                require([\"plotly\"], function(Plotly) {                    window.PLOTLYENV=window.PLOTLYENV || {};                                    if (document.getElementById(\"502c1796-6ea4-46f0-a413-606eabe37f5b\")) {                    Plotly.newPlot(                        \"502c1796-6ea4-46f0-a413-606eabe37f5b\",                        [{\"customdata\":[[\"1 1\\u002f4 pop up bathroom sink drain without overflow\",0.04402283258477638,0.1,0.1,1.7227062322935722,0.04402283258477638,0.1,0.1,0.0440228325847763,0.1,0.1],[\"1 \\u2018 velcro without adhesive for sewing\",0.0861885860248209,0.1,0.2,2.1505149978319906,0.0861885860248209,0.1,0.2,0.0861885860248209,0.1,0.2],[\"10x6 plastic register cover without vent\",0.08032072913484654,0.2,0.2,1.8350497362273823,0.08032072913484654,0.2,0.2,0.0803207291348465,0.2,0.2],[\"barn pictures for walls\",0.23430673110551667,0.2,0.2,5.7227062322935724,0.23430673110551667,0.2,0.2,0.245660065285172,0.2,0.2],[\"black bear onesie\",0.4885644593952938,0.2,0.3,6.7018226078398415,0.4885644593952938,0.2,0.3,0.4885644593952938,0.2,0.3],[\"bloch ballet shoes women\",0.21967383024888934,0.5,0.5,8.933113502154406,0.21967383024888934,0.5,0.5,0.2196738302488893,0.5,0.5],[\"canon toner\",0.7441140557478906,1.0,1.0,18.17423735235338,0.7441140557478906,1.0,1.0,0.7441140557478906,1.0,1.0],[\"colemen tents\",0.0,0.0,0.0,0.0,0.0,0.0,0.0,0.0,0.0,0.0],[\"colorful decorations for party\",0.0,0.0,0.0,0.0,0.0,0.0,0.0,0.0,0.0,0.0],[\"cutting board stove cover\",0.49147827996815846,0.5,0.5,10.827513300283044,0.49147827996815846,0.5,0.5,0.4914782799681584,0.5,0.5],[\"death in the tall grass\",0.07178666816243652,0.1,0.1,1.2041199826559248,0.07475811111624223,0.1,0.1,0.0717866681624365,0.1,0.1],[\"flower lip stick\",0.1671214244214466,0.1,0.1,4.0,0.1671214244214466,0.1,0.1,0.1671214244214466,0.1,0.1],[\"fork spoon knife combo\",0.26853344652975714,0.3,0.3,4.7581620817654215,0.26853344652975714,0.3,0.3,0.2685334465297571,0.3,0.3],[\"franmar soy gel paint remover\",0.11567557155327671,0.2,0.3,3.4285261738095816,0.11567557155327671,0.2,0.3,0.1156755715532767,0.2,0.3],[\"hidizs\",0.1744989272174902,0.1,0.1,11.927812105773981,0.520347604127338,0.7,0.7,0.520347604127338,0.7,0.7],[\"honeywell glass break sensor\",0.5582888434590495,0.7,0.7,11.154058548610953,0.5582888434590495,0.7,0.7,0.5582888434590495,0.7,0.7],[\"karaoke machine for adults\",0.32239350896203994,0.4,0.4,10.884098302213307,0.3582827477577313,0.5,0.5,0.3582827477577313,0.5,0.5],[\"kingston 120gb\",0.6871519554480504,0.6,0.6,12.933113502154406,0.6871519554480504,0.6,0.6,0.6871519554480504,0.6,0.6],[\"laptop dell core i7 touch screen with terabytes\",0.036395853546675884,0.1,0.1,0.6309297535714575,0.036395853546675884,0.1,0.1,0.0363958535466758,0.1,0.1],[\"lenox lamps\",0.7920648014488558,1.0,1.0,18.17423735235338,0.7920648014488558,1.0,1.0,0.7920648014488558,1.0,1.0],[\"mary jane shoes women\",0.2944614055768496,0.3,0.3,6.686688255575004,0.2985464822661115,0.3,0.3,0.2985464822661115,0.3,0.3],[\"mens white graphic t-shirts\",0.18833773921584998,0.3,0.3,6.861353116146786,0.18833773921584998,0.3,0.3,0.2024578819464626,0.4,0.4],[\"mens wide width basketball shoes\",0.069731285008802,0.1,0.1,0.0,0.0,0.0,0.0,0.0,0.0,0.0],[\"metal keaf tray\",0.38054453117082643,0.1,0.1,4.0,0.38054453117082643,0.1,0.1,0.3805445311708264,0.1,0.1],[\"motor mount\",0.0,0.0,0.0,0.0,0.0,0.0,0.0,0.0,0.0,0.0],[\"motorrad rallye glove\",0.48287910642304827,0.5,0.5,11.793836475517569,0.48287910642304827,0.5,0.5,0.4828791064230482,0.5,0.5],[\"neon hoops\",0.4187522100644103,0.4,0.4,12.904119891121642,0.5903883844220756,0.7,0.7,0.5903883844220756,0.7,0.7],[\"new oxo good grips 12 piece pop container set\",0.27057751143314046,0.4,0.4,6.608583559213255,0.27057751143314046,0.4,0.4,0.2705775114331404,0.4,0.4],[\"ninja turtle hoodie sweatshirt size 5\",0.19803559031536722,0.2,0.2,2.7124143742160443,0.19803559031536722,0.2,0.2,0.1980355903153672,0.2,0.2],[\"palladia book shelf\",0.0,0.0,0.0,0.0,0.0,0.0,0.0,0.0,0.0,0.0],[\"party hats\",0.29188085807238295,0.3,0.3,6.878965537565124,0.29188085807238295,0.3,0.3,0.2545855388969112,0.2,0.2],[\"pearl hair band\",0.08530460913930238,0.1,0.1,2.0,0.08530460913930238,0.1,0.1,0.0853046091393023,0.1,0.1],[\"pens paper mate\",0.04930069892507245,0.1,0.1,1.261859507142915,0.051664748150907255,0.1,0.1,0.0818866884283906,0.1,0.1],[\"pet rainproof clothes\",0.3869835109009092,0.4,0.4,8.926826214949497,0.3869835109009092,0.4,0.4,0.3869835109009092,0.4,0.4],[\"plastic bottle cutter\",0.691686720364392,0.8,0.8,15.364966616272302,0.7029768704738563,0.8,0.8,0.7029768704738563,0.8,0.8],[\"plastic, satire\",0.4928814930244742,0.5,0.6,10.70007897431201,0.5155356339580601,0.5,0.5,0.4928814930244742,0.5,0.6],[\"please do not annoy the writer mug\",0.4928841902434815,1.0,1.0,18.17423735235338,0.4928841902434815,1.0,1.0,0.4928841902434815,1.0,1.0],[\"rasberry pi4\",0.04565921470224593,0.1,0.1,0.6666666666666666,0.04565921470224593,0.1,0.1,0.0456592147022459,0.1,0.1],[\"reflex gun sight\",0.48886917468793034,0.6,0.6,11.33261926529773,0.4639953314275065,0.6,0.6,0.416654208690907,0.5,0.5],[\"sambucus elderberry syrup\",0.18984602513414658,0.3,0.3,3.147534980725661,0.1335528148774869,0.2,0.2,0.1296705799509013,0.2,0.2],[\"smart watch for men women,fitness tracker with 1.54\",0.3393577401752507,0.4,0.4,5.5742999686982175,0.2770674705764361,0.4,0.4,0.2770674705764361,0.4,0.4],[\"some will not sleep\",0.18626227341797114,0.1,0.1,2.0,0.18626227341797114,0.1,0.1,0.1862622734179711,0.1,0.1],[\"sticky notes holder for desk\",0.0646513921864719,0.1,0.1,1.5474112289381665,0.0646513921864719,0.1,0.1,0.0646513921864719,0.1,0.1],[\"tactical gloves\",0.4187734452610907,0.3,0.3,8.523719014285831,0.4187734452610907,0.3,0.3,0.4187734452610907,0.3,0.3],[\"thigh knife holster women\",0.13067043024019243,0.2,0.2,2.8092707360810816,0.13963323491400842,0.2,0.2,0.1306704302401924,0.2,0.2],[\"vegan instant pot cookbook\",0.6822664430151961,0.7,0.7,14.20870731100075,0.6857157878404067,0.7,0.7,0.6857157878404067,0.7,0.7],[\"waterproof iphone 6 case for underwatee pictures\",0.1525410675894521,0.1,0.2,1.8333333333333333,0.1525410675894521,0.1,0.2,0.1525410675894521,0.1,0.2],[\"waverly shower curtain\",0.5412163603163843,0.6,0.6,13.218665223949657,0.5412163603163843,0.6,0.6,0.5412163603163843,0.6,0.6],[\"women thermal coats\",0.0,0.0,0.0,0.0,0.0,0.0,0.0,0.0,0.0,0.0],[\"work clothes for women\",0.0,0.0,0.0,0.0,0.0,0.0,0.0,0.0,0.0,0.0]],\"hovertemplate\":\"linear_model dcg=%{x}\\u003cbr\\u003edcg=%{y}\\u003cbr\\u003equery=%{customdata[0]}\\u003cbr\\u003elinear_model ndcg=%{customdata[1]}\\u003cbr\\u003elinear_model prec@10=%{customdata[2]}\\u003cbr\\u003elinear_model ratio_of_ratings=%{customdata[3]}\\u003cbr\\u003erandom_forest dcg=%{customdata[4]}\\u003cbr\\u003erandom_forest ndcg=%{customdata[5]}\\u003cbr\\u003erandom_forest prec@10=%{customdata[6]}\\u003cbr\\u003erandom_forest ratio_of_ratings=%{customdata[7]}\\u003cbr\\u003endcg=%{customdata[8]}\\u003cbr\\u003eprec@10=%{customdata[9]}\\u003cbr\\u003eratio_of_ratings=%{customdata[10]}\\u003cextra\\u003e\\u003c\\u002fextra\\u003e\",\"legendgroup\":\"\",\"marker\":{\"color\":\"#636efa\",\"symbol\":\"circle\"},\"mode\":\"markers\",\"name\":\"\",\"orientation\":\"v\",\"showlegend\":false,\"x\":[1.7227062322935722,2.1505149978319906,1.8350497362273823,5.7227062322935724,6.7018226078398415,8.933113502154406,18.17423735235338,0.0,0.0,10.827513300283044,1.1562593052715515,4.0,4.7581620817654215,3.4285261738095816,4.0,11.154058548610953,9.793836475517569,12.933113502154406,0.6309297535714575,18.17423735235338,6.5951928404762485,6.861353116146786,1.3333333333333333,4.0,0.0,11.793836475517569,9.152667745373844,6.608583559213255,2.7124143742160443,0.0,6.878965537565124,2.0,1.2041199826559248,8.926826214949497,15.118197786726476,10.229886263822703,18.17423735235338,0.6666666666666666,11.940137867840214,4.474237443887664,6.827513300283043,2.0,1.5474112289381665,8.523719014285831,2.6289487310880135,14.13723348481033,1.8333333333333333,13.218665223949657,0.0,0.0],\"xaxis\":\"x\",\"y\":[1.7227062322935722,2.15051499783199,1.8350497362273823,6.0,6.7018226078398415,8.933113502154406,18.17423735235338,0.0,0.0,10.827513300283044,1.1562593052715515,4.0,4.7581620817654215,3.4285261738095816,11.92781210577398,11.154058548610951,10.884098302213308,12.933113502154406,0.6309297535714575,18.17423735235338,6.686688255575004,7.375765605797046,0.0,4.0,0.0,11.793836475517567,12.904119891121642,6.608583559213255,2.7124143742160443,0.0,6.0,2.0,2.0,8.926826214949497,15.364966616272302,10.229886263822705,18.17423735235338,0.6666666666666666,10.17635996002618,3.0560395656269055,5.5742999686982175,2.0,1.5474112289381663,8.523719014285831,2.6289487310880135,14.20870731100075,1.8333333333333333,13.218665223949657,0.0,0.0],\"yaxis\":\"y\",\"type\":\"scatter\"}],                        {\"template\":{\"data\":{\"histogram2dcontour\":[{\"type\":\"histogram2dcontour\",\"colorbar\":{\"outlinewidth\":0,\"ticks\":\"\"},\"colorscale\":[[0.0,\"#0d0887\"],[0.1111111111111111,\"#46039f\"],[0.2222222222222222,\"#7201a8\"],[0.3333333333333333,\"#9c179e\"],[0.4444444444444444,\"#bd3786\"],[0.5555555555555556,\"#d8576b\"],[0.6666666666666666,\"#ed7953\"],[0.7777777777777778,\"#fb9f3a\"],[0.8888888888888888,\"#fdca26\"],[1.0,\"#f0f921\"]]}],\"choropleth\":[{\"type\":\"choropleth\",\"colorbar\":{\"outlinewidth\":0,\"ticks\":\"\"}}],\"histogram2d\":[{\"type\":\"histogram2d\",\"colorbar\":{\"outlinewidth\":0,\"ticks\":\"\"},\"colorscale\":[[0.0,\"#0d0887\"],[0.1111111111111111,\"#46039f\"],[0.2222222222222222,\"#7201a8\"],[0.3333333333333333,\"#9c179e\"],[0.4444444444444444,\"#bd3786\"],[0.5555555555555556,\"#d8576b\"],[0.6666666666666666,\"#ed7953\"],[0.7777777777777778,\"#fb9f3a\"],[0.8888888888888888,\"#fdca26\"],[1.0,\"#f0f921\"]]}],\"heatmap\":[{\"type\":\"heatmap\",\"colorbar\":{\"outlinewidth\":0,\"ticks\":\"\"},\"colorscale\":[[0.0,\"#0d0887\"],[0.1111111111111111,\"#46039f\"],[0.2222222222222222,\"#7201a8\"],[0.3333333333333333,\"#9c179e\"],[0.4444444444444444,\"#bd3786\"],[0.5555555555555556,\"#d8576b\"],[0.6666666666666666,\"#ed7953\"],[0.7777777777777778,\"#fb9f3a\"],[0.8888888888888888,\"#fdca26\"],[1.0,\"#f0f921\"]]}],\"heatmapgl\":[{\"type\":\"heatmapgl\",\"colorbar\":{\"outlinewidth\":0,\"ticks\":\"\"},\"colorscale\":[[0.0,\"#0d0887\"],[0.1111111111111111,\"#46039f\"],[0.2222222222222222,\"#7201a8\"],[0.3333333333333333,\"#9c179e\"],[0.4444444444444444,\"#bd3786\"],[0.5555555555555556,\"#d8576b\"],[0.6666666666666666,\"#ed7953\"],[0.7777777777777778,\"#fb9f3a\"],[0.8888888888888888,\"#fdca26\"],[1.0,\"#f0f921\"]]}],\"contourcarpet\":[{\"type\":\"contourcarpet\",\"colorbar\":{\"outlinewidth\":0,\"ticks\":\"\"}}],\"contour\":[{\"type\":\"contour\",\"colorbar\":{\"outlinewidth\":0,\"ticks\":\"\"},\"colorscale\":[[0.0,\"#0d0887\"],[0.1111111111111111,\"#46039f\"],[0.2222222222222222,\"#7201a8\"],[0.3333333333333333,\"#9c179e\"],[0.4444444444444444,\"#bd3786\"],[0.5555555555555556,\"#d8576b\"],[0.6666666666666666,\"#ed7953\"],[0.7777777777777778,\"#fb9f3a\"],[0.8888888888888888,\"#fdca26\"],[1.0,\"#f0f921\"]]}],\"surface\":[{\"type\":\"surface\",\"colorbar\":{\"outlinewidth\":0,\"ticks\":\"\"},\"colorscale\":[[0.0,\"#0d0887\"],[0.1111111111111111,\"#46039f\"],[0.2222222222222222,\"#7201a8\"],[0.3333333333333333,\"#9c179e\"],[0.4444444444444444,\"#bd3786\"],[0.5555555555555556,\"#d8576b\"],[0.6666666666666666,\"#ed7953\"],[0.7777777777777778,\"#fb9f3a\"],[0.8888888888888888,\"#fdca26\"],[1.0,\"#f0f921\"]]}],\"mesh3d\":[{\"type\":\"mesh3d\",\"colorbar\":{\"outlinewidth\":0,\"ticks\":\"\"}}],\"scatter\":[{\"fillpattern\":{\"fillmode\":\"overlay\",\"size\":10,\"solidity\":0.2},\"type\":\"scatter\"}],\"parcoords\":[{\"type\":\"parcoords\",\"line\":{\"colorbar\":{\"outlinewidth\":0,\"ticks\":\"\"}}}],\"scatterpolargl\":[{\"type\":\"scatterpolargl\",\"marker\":{\"colorbar\":{\"outlinewidth\":0,\"ticks\":\"\"}}}],\"bar\":[{\"error_x\":{\"color\":\"#2a3f5f\"},\"error_y\":{\"color\":\"#2a3f5f\"},\"marker\":{\"line\":{\"color\":\"#E5ECF6\",\"width\":0.5},\"pattern\":{\"fillmode\":\"overlay\",\"size\":10,\"solidity\":0.2}},\"type\":\"bar\"}],\"scattergeo\":[{\"type\":\"scattergeo\",\"marker\":{\"colorbar\":{\"outlinewidth\":0,\"ticks\":\"\"}}}],\"scatterpolar\":[{\"type\":\"scatterpolar\",\"marker\":{\"colorbar\":{\"outlinewidth\":0,\"ticks\":\"\"}}}],\"histogram\":[{\"marker\":{\"pattern\":{\"fillmode\":\"overlay\",\"size\":10,\"solidity\":0.2}},\"type\":\"histogram\"}],\"scattergl\":[{\"type\":\"scattergl\",\"marker\":{\"colorbar\":{\"outlinewidth\":0,\"ticks\":\"\"}}}],\"scatter3d\":[{\"type\":\"scatter3d\",\"line\":{\"colorbar\":{\"outlinewidth\":0,\"ticks\":\"\"}},\"marker\":{\"colorbar\":{\"outlinewidth\":0,\"ticks\":\"\"}}}],\"scattermapbox\":[{\"type\":\"scattermapbox\",\"marker\":{\"colorbar\":{\"outlinewidth\":0,\"ticks\":\"\"}}}],\"scatterternary\":[{\"type\":\"scatterternary\",\"marker\":{\"colorbar\":{\"outlinewidth\":0,\"ticks\":\"\"}}}],\"scattercarpet\":[{\"type\":\"scattercarpet\",\"marker\":{\"colorbar\":{\"outlinewidth\":0,\"ticks\":\"\"}}}],\"carpet\":[{\"aaxis\":{\"endlinecolor\":\"#2a3f5f\",\"gridcolor\":\"white\",\"linecolor\":\"white\",\"minorgridcolor\":\"white\",\"startlinecolor\":\"#2a3f5f\"},\"baxis\":{\"endlinecolor\":\"#2a3f5f\",\"gridcolor\":\"white\",\"linecolor\":\"white\",\"minorgridcolor\":\"white\",\"startlinecolor\":\"#2a3f5f\"},\"type\":\"carpet\"}],\"table\":[{\"cells\":{\"fill\":{\"color\":\"#EBF0F8\"},\"line\":{\"color\":\"white\"}},\"header\":{\"fill\":{\"color\":\"#C8D4E3\"},\"line\":{\"color\":\"white\"}},\"type\":\"table\"}],\"barpolar\":[{\"marker\":{\"line\":{\"color\":\"#E5ECF6\",\"width\":0.5},\"pattern\":{\"fillmode\":\"overlay\",\"size\":10,\"solidity\":0.2}},\"type\":\"barpolar\"}],\"pie\":[{\"automargin\":true,\"type\":\"pie\"}]},\"layout\":{\"autotypenumbers\":\"strict\",\"colorway\":[\"#636efa\",\"#EF553B\",\"#00cc96\",\"#ab63fa\",\"#FFA15A\",\"#19d3f3\",\"#FF6692\",\"#B6E880\",\"#FF97FF\",\"#FECB52\"],\"font\":{\"color\":\"#2a3f5f\"},\"hovermode\":\"closest\",\"hoverlabel\":{\"align\":\"left\"},\"paper_bgcolor\":\"white\",\"plot_bgcolor\":\"#E5ECF6\",\"polar\":{\"bgcolor\":\"#E5ECF6\",\"angularaxis\":{\"gridcolor\":\"white\",\"linecolor\":\"white\",\"ticks\":\"\"},\"radialaxis\":{\"gridcolor\":\"white\",\"linecolor\":\"white\",\"ticks\":\"\"}},\"ternary\":{\"bgcolor\":\"#E5ECF6\",\"aaxis\":{\"gridcolor\":\"white\",\"linecolor\":\"white\",\"ticks\":\"\"},\"baxis\":{\"gridcolor\":\"white\",\"linecolor\":\"white\",\"ticks\":\"\"},\"caxis\":{\"gridcolor\":\"white\",\"linecolor\":\"white\",\"ticks\":\"\"}},\"coloraxis\":{\"colorbar\":{\"outlinewidth\":0,\"ticks\":\"\"}},\"colorscale\":{\"sequential\":[[0.0,\"#0d0887\"],[0.1111111111111111,\"#46039f\"],[0.2222222222222222,\"#7201a8\"],[0.3333333333333333,\"#9c179e\"],[0.4444444444444444,\"#bd3786\"],[0.5555555555555556,\"#d8576b\"],[0.6666666666666666,\"#ed7953\"],[0.7777777777777778,\"#fb9f3a\"],[0.8888888888888888,\"#fdca26\"],[1.0,\"#f0f921\"]],\"sequentialminus\":[[0.0,\"#0d0887\"],[0.1111111111111111,\"#46039f\"],[0.2222222222222222,\"#7201a8\"],[0.3333333333333333,\"#9c179e\"],[0.4444444444444444,\"#bd3786\"],[0.5555555555555556,\"#d8576b\"],[0.6666666666666666,\"#ed7953\"],[0.7777777777777778,\"#fb9f3a\"],[0.8888888888888888,\"#fdca26\"],[1.0,\"#f0f921\"]],\"diverging\":[[0,\"#8e0152\"],[0.1,\"#c51b7d\"],[0.2,\"#de77ae\"],[0.3,\"#f1b6da\"],[0.4,\"#fde0ef\"],[0.5,\"#f7f7f7\"],[0.6,\"#e6f5d0\"],[0.7,\"#b8e186\"],[0.8,\"#7fbc41\"],[0.9,\"#4d9221\"],[1,\"#276419\"]]},\"xaxis\":{\"gridcolor\":\"white\",\"linecolor\":\"white\",\"ticks\":\"\",\"title\":{\"standoff\":15},\"zerolinecolor\":\"white\",\"automargin\":true,\"zerolinewidth\":2},\"yaxis\":{\"gridcolor\":\"white\",\"linecolor\":\"white\",\"ticks\":\"\",\"title\":{\"standoff\":15},\"zerolinecolor\":\"white\",\"automargin\":true,\"zerolinewidth\":2},\"scene\":{\"xaxis\":{\"backgroundcolor\":\"#E5ECF6\",\"gridcolor\":\"white\",\"linecolor\":\"white\",\"showbackground\":true,\"ticks\":\"\",\"zerolinecolor\":\"white\",\"gridwidth\":2},\"yaxis\":{\"backgroundcolor\":\"#E5ECF6\",\"gridcolor\":\"white\",\"linecolor\":\"white\",\"showbackground\":true,\"ticks\":\"\",\"zerolinecolor\":\"white\",\"gridwidth\":2},\"zaxis\":{\"backgroundcolor\":\"#E5ECF6\",\"gridcolor\":\"white\",\"linecolor\":\"white\",\"showbackground\":true,\"ticks\":\"\",\"zerolinecolor\":\"white\",\"gridwidth\":2}},\"shapedefaults\":{\"line\":{\"color\":\"#2a3f5f\"}},\"annotationdefaults\":{\"arrowcolor\":\"#2a3f5f\",\"arrowhead\":0,\"arrowwidth\":1},\"geo\":{\"bgcolor\":\"white\",\"landcolor\":\"#E5ECF6\",\"subunitcolor\":\"white\",\"showland\":true,\"showlakes\":true,\"lakecolor\":\"white\"},\"title\":{\"x\":0.05},\"mapbox\":{\"style\":\"light\"}}},\"xaxis\":{\"anchor\":\"y\",\"domain\":[0.0,1.0],\"title\":{\"text\":\"linear_model dcg\"}},\"yaxis\":{\"anchor\":\"x\",\"domain\":[0.0,1.0],\"title\":{\"text\":\"dcg\"}},\"legend\":{\"tracegroupgap\":0},\"margin\":{\"t\":60}},                        {\"responsive\": true}                    ).then(function(){\n",
       "                            \n",
       "var gd = document.getElementById('502c1796-6ea4-46f0-a413-606eabe37f5b');\n",
       "var x = new MutationObserver(function (mutations, observer) {{\n",
       "        var display = window.getComputedStyle(gd).display;\n",
       "        if (!display || display === 'none') {{\n",
       "            console.log([gd, 'removed!']);\n",
       "            Plotly.purge(gd);\n",
       "            observer.disconnect();\n",
       "        }}\n",
       "}});\n",
       "\n",
       "// Listen for the removal of the full notebook cells\n",
       "var notebookContainer = gd.closest('#notebook-container');\n",
       "if (notebookContainer) {{\n",
       "    x.observe(notebookContainer, {childList: true});\n",
       "}}\n",
       "\n",
       "// Listen for the clearing of the current output cell\n",
       "var outputEl = gd.closest('.output');\n",
       "if (outputEl) {{\n",
       "    x.observe(outputEl, {childList: true});\n",
       "}}\n",
       "\n",
       "                        })                };                });            </script>        </div>"
      ]
     },
     "metadata": {},
     "output_type": "display_data"
    }
   ],
   "source": [
    "px.scatter(\n",
    "    df_metrics_merged,\n",
    "    x=\"linear_model dcg\",\n",
    "    y=\"dcg\",\n",
    "    hover_data=df_metrics_merged.columns,\n",
    ")"
   ]
  },
  {
   "cell_type": "code",
   "execution_count": 326,
   "id": "19b72951-f2cb-4276-8a5f-71fdff7fb504",
   "metadata": {},
   "outputs": [
    {
     "data": {
      "application/vnd.plotly.v1+json": {
       "config": {
        "plotlyServerURL": "https://plot.ly"
       },
       "data": [
        {
         "customdata": [
          [
           "1 1/4 pop up bathroom sink drain without overflow",
           1.7227062322935722,
           0.1,
           0.1,
           1.7227062322935722,
           0.04402283258477638,
           0.1,
           0.1,
           1.7227062322935722,
           0.1,
           0.1
          ],
          [
           "1 ‘ velcro without adhesive for sewing",
           2.1505149978319906,
           0.1,
           0.2,
           2.1505149978319906,
           0.0861885860248209,
           0.1,
           0.2,
           2.15051499783199,
           0.1,
           0.2
          ],
          [
           "10x6 plastic register cover without vent",
           1.8350497362273823,
           0.2,
           0.2,
           1.8350497362273823,
           0.08032072913484654,
           0.2,
           0.2,
           1.8350497362273823,
           0.2,
           0.2
          ],
          [
           "barn pictures for walls",
           5.7227062322935724,
           0.2,
           0.2,
           5.7227062322935724,
           0.23430673110551667,
           0.2,
           0.2,
           6,
           0.2,
           0.2
          ],
          [
           "black bear onesie",
           6.7018226078398415,
           0.2,
           0.3,
           6.7018226078398415,
           0.4885644593952938,
           0.2,
           0.3,
           6.7018226078398415,
           0.2,
           0.3
          ],
          [
           "bloch ballet shoes women",
           8.933113502154406,
           0.5,
           0.5,
           8.933113502154406,
           0.21967383024888934,
           0.5,
           0.5,
           8.933113502154406,
           0.5,
           0.5
          ],
          [
           "canon toner",
           18.17423735235338,
           1,
           1,
           18.17423735235338,
           0.7441140557478906,
           1,
           1,
           18.17423735235338,
           1,
           1
          ],
          [
           "colemen tents",
           0,
           0,
           0,
           0,
           0,
           0,
           0,
           0,
           0,
           0
          ],
          [
           "colorful decorations for party",
           0,
           0,
           0,
           0,
           0,
           0,
           0,
           0,
           0,
           0
          ],
          [
           "cutting board stove cover",
           10.827513300283044,
           0.5,
           0.5,
           10.827513300283044,
           0.49147827996815846,
           0.5,
           0.5,
           10.827513300283044,
           0.5,
           0.5
          ],
          [
           "death in the tall grass",
           1.1562593052715515,
           0.1,
           0.1,
           1.2041199826559248,
           0.07475811111624223,
           0.1,
           0.1,
           1.1562593052715515,
           0.1,
           0.1
          ],
          [
           "flower lip stick",
           4,
           0.1,
           0.1,
           4,
           0.1671214244214466,
           0.1,
           0.1,
           4,
           0.1,
           0.1
          ],
          [
           "fork spoon knife combo",
           4.7581620817654215,
           0.3,
           0.3,
           4.7581620817654215,
           0.26853344652975714,
           0.3,
           0.3,
           4.7581620817654215,
           0.3,
           0.3
          ],
          [
           "franmar soy gel paint remover",
           3.4285261738095816,
           0.2,
           0.3,
           3.4285261738095816,
           0.11567557155327671,
           0.2,
           0.3,
           3.4285261738095816,
           0.2,
           0.3
          ],
          [
           "hidizs",
           4,
           0.1,
           0.1,
           11.927812105773981,
           0.520347604127338,
           0.7,
           0.7,
           11.92781210577398,
           0.7,
           0.7
          ],
          [
           "honeywell glass break sensor",
           11.154058548610953,
           0.7,
           0.7,
           11.154058548610953,
           0.5582888434590495,
           0.7,
           0.7,
           11.154058548610951,
           0.7,
           0.7
          ],
          [
           "karaoke machine for adults",
           9.793836475517569,
           0.4,
           0.4,
           10.884098302213307,
           0.3582827477577313,
           0.5,
           0.5,
           10.884098302213308,
           0.5,
           0.5
          ],
          [
           "kingston 120gb",
           12.933113502154406,
           0.6,
           0.6,
           12.933113502154406,
           0.6871519554480504,
           0.6,
           0.6,
           12.933113502154406,
           0.6,
           0.6
          ],
          [
           "laptop dell core i7 touch screen with terabytes",
           0.6309297535714575,
           0.1,
           0.1,
           0.6309297535714575,
           0.036395853546675884,
           0.1,
           0.1,
           0.6309297535714575,
           0.1,
           0.1
          ],
          [
           "lenox lamps",
           18.17423735235338,
           1,
           1,
           18.17423735235338,
           0.7920648014488558,
           1,
           1,
           18.17423735235338,
           1,
           1
          ],
          [
           "mary jane shoes women",
           6.5951928404762485,
           0.3,
           0.3,
           6.686688255575004,
           0.2985464822661115,
           0.3,
           0.3,
           6.686688255575004,
           0.3,
           0.3
          ],
          [
           "mens white graphic t-shirts",
           6.861353116146786,
           0.3,
           0.3,
           6.861353116146786,
           0.18833773921584998,
           0.3,
           0.3,
           7.375765605797046,
           0.4,
           0.4
          ],
          [
           "mens wide width basketball shoes",
           1.3333333333333333,
           0.1,
           0.1,
           0,
           0,
           0,
           0,
           0,
           0,
           0
          ],
          [
           "metal keaf tray",
           4,
           0.1,
           0.1,
           4,
           0.38054453117082643,
           0.1,
           0.1,
           4,
           0.1,
           0.1
          ],
          [
           "motor mount",
           0,
           0,
           0,
           0,
           0,
           0,
           0,
           0,
           0,
           0
          ],
          [
           "motorrad rallye glove",
           11.793836475517569,
           0.5,
           0.5,
           11.793836475517569,
           0.48287910642304827,
           0.5,
           0.5,
           11.793836475517567,
           0.5,
           0.5
          ],
          [
           "neon hoops",
           9.152667745373844,
           0.4,
           0.4,
           12.904119891121642,
           0.5903883844220756,
           0.7,
           0.7,
           12.904119891121642,
           0.7,
           0.7
          ],
          [
           "new oxo good grips 12 piece pop container set",
           6.608583559213255,
           0.4,
           0.4,
           6.608583559213255,
           0.27057751143314046,
           0.4,
           0.4,
           6.608583559213255,
           0.4,
           0.4
          ],
          [
           "ninja turtle hoodie sweatshirt size 5",
           2.7124143742160443,
           0.2,
           0.2,
           2.7124143742160443,
           0.19803559031536722,
           0.2,
           0.2,
           2.7124143742160443,
           0.2,
           0.2
          ],
          [
           "palladia book shelf",
           0,
           0,
           0,
           0,
           0,
           0,
           0,
           0,
           0,
           0
          ],
          [
           "party hats",
           6.878965537565124,
           0.3,
           0.3,
           6.878965537565124,
           0.29188085807238295,
           0.3,
           0.3,
           6,
           0.2,
           0.2
          ],
          [
           "pearl hair band",
           2,
           0.1,
           0.1,
           2,
           0.08530460913930238,
           0.1,
           0.1,
           2,
           0.1,
           0.1
          ],
          [
           "pens paper mate",
           1.2041199826559248,
           0.1,
           0.1,
           1.261859507142915,
           0.051664748150907255,
           0.1,
           0.1,
           2,
           0.1,
           0.1
          ],
          [
           "pet rainproof clothes",
           8.926826214949497,
           0.4,
           0.4,
           8.926826214949497,
           0.3869835109009092,
           0.4,
           0.4,
           8.926826214949497,
           0.4,
           0.4
          ],
          [
           "plastic bottle cutter",
           15.118197786726476,
           0.8,
           0.8,
           15.364966616272302,
           0.7029768704738563,
           0.8,
           0.8,
           15.364966616272302,
           0.8,
           0.8
          ],
          [
           "plastic, satire",
           10.229886263822703,
           0.5,
           0.6,
           10.70007897431201,
           0.5155356339580601,
           0.5,
           0.5,
           10.229886263822705,
           0.5,
           0.6
          ],
          [
           "please do not annoy the writer mug",
           18.17423735235338,
           1,
           1,
           18.17423735235338,
           0.4928841902434815,
           1,
           1,
           18.17423735235338,
           1,
           1
          ],
          [
           "rasberry pi4",
           0.6666666666666666,
           0.1,
           0.1,
           0.6666666666666666,
           0.04565921470224593,
           0.1,
           0.1,
           0.6666666666666666,
           0.1,
           0.1
          ],
          [
           "reflex gun sight",
           11.940137867840214,
           0.6,
           0.6,
           11.33261926529773,
           0.4639953314275065,
           0.6,
           0.6,
           10.17635996002618,
           0.5,
           0.5
          ],
          [
           "sambucus elderberry syrup",
           4.474237443887664,
           0.3,
           0.3,
           3.147534980725661,
           0.1335528148774869,
           0.2,
           0.2,
           3.0560395656269055,
           0.2,
           0.2
          ],
          [
           "smart watch for men women,fitness tracker with 1.54",
           6.827513300283043,
           0.4,
           0.4,
           5.5742999686982175,
           0.2770674705764361,
           0.4,
           0.4,
           5.5742999686982175,
           0.4,
           0.4
          ],
          [
           "some will not sleep",
           2,
           0.1,
           0.1,
           2,
           0.18626227341797114,
           0.1,
           0.1,
           2,
           0.1,
           0.1
          ],
          [
           "sticky notes holder for desk",
           1.5474112289381665,
           0.1,
           0.1,
           1.5474112289381665,
           0.0646513921864719,
           0.1,
           0.1,
           1.5474112289381663,
           0.1,
           0.1
          ],
          [
           "tactical gloves",
           8.523719014285831,
           0.3,
           0.3,
           8.523719014285831,
           0.4187734452610907,
           0.3,
           0.3,
           8.523719014285831,
           0.3,
           0.3
          ],
          [
           "thigh knife holster women",
           2.6289487310880135,
           0.2,
           0.2,
           2.8092707360810816,
           0.13963323491400842,
           0.2,
           0.2,
           2.6289487310880135,
           0.2,
           0.2
          ],
          [
           "vegan instant pot cookbook",
           14.13723348481033,
           0.7,
           0.7,
           14.20870731100075,
           0.6857157878404067,
           0.7,
           0.7,
           14.20870731100075,
           0.7,
           0.7
          ],
          [
           "waterproof iphone 6 case for underwatee pictures",
           1.8333333333333333,
           0.1,
           0.2,
           1.8333333333333333,
           0.1525410675894521,
           0.1,
           0.2,
           1.8333333333333333,
           0.1,
           0.2
          ],
          [
           "waverly shower curtain",
           13.218665223949657,
           0.6,
           0.6,
           13.218665223949657,
           0.5412163603163843,
           0.6,
           0.6,
           13.218665223949657,
           0.6,
           0.6
          ],
          [
           "women thermal coats",
           0,
           0,
           0,
           0,
           0,
           0,
           0,
           0,
           0,
           0
          ],
          [
           "work clothes for women",
           0,
           0,
           0,
           0,
           0,
           0,
           0,
           0,
           0,
           0
          ]
         ],
         "hovertemplate": "linear_model ndcg=%{x}<br>ndcg=%{y}<br>query=%{customdata[0]}<br>linear_model dcg=%{customdata[1]}<br>linear_model prec@10=%{customdata[2]}<br>linear_model ratio_of_ratings=%{customdata[3]}<br>random_forest dcg=%{customdata[4]}<br>random_forest ndcg=%{customdata[5]}<br>random_forest prec@10=%{customdata[6]}<br>random_forest ratio_of_ratings=%{customdata[7]}<br>dcg=%{customdata[8]}<br>prec@10=%{customdata[9]}<br>ratio_of_ratings=%{customdata[10]}<extra></extra>",
         "legendgroup": "",
         "marker": {
          "color": "#636efa",
          "symbol": "circle"
         },
         "mode": "markers",
         "name": "",
         "orientation": "v",
         "showlegend": false,
         "type": "scatter",
         "x": [
          0.04402283258477638,
          0.0861885860248209,
          0.08032072913484654,
          0.23430673110551667,
          0.4885644593952938,
          0.21967383024888934,
          0.7441140557478906,
          0,
          0,
          0.49147827996815846,
          0.07178666816243652,
          0.1671214244214466,
          0.26853344652975714,
          0.11567557155327671,
          0.1744989272174902,
          0.5582888434590495,
          0.32239350896203994,
          0.6871519554480504,
          0.036395853546675884,
          0.7920648014488558,
          0.2944614055768496,
          0.18833773921584998,
          0.069731285008802,
          0.38054453117082643,
          0,
          0.48287910642304827,
          0.4187522100644103,
          0.27057751143314046,
          0.19803559031536722,
          0,
          0.29188085807238295,
          0.08530460913930238,
          0.04930069892507245,
          0.3869835109009092,
          0.691686720364392,
          0.4928814930244742,
          0.4928841902434815,
          0.04565921470224593,
          0.48886917468793034,
          0.18984602513414658,
          0.3393577401752507,
          0.18626227341797114,
          0.0646513921864719,
          0.4187734452610907,
          0.13067043024019243,
          0.6822664430151961,
          0.1525410675894521,
          0.5412163603163843,
          0,
          0
         ],
         "xaxis": "x",
         "y": [
          0.0440228325847763,
          0.0861885860248209,
          0.0803207291348465,
          0.245660065285172,
          0.4885644593952938,
          0.2196738302488893,
          0.7441140557478906,
          0,
          0,
          0.4914782799681584,
          0.0717866681624365,
          0.1671214244214466,
          0.2685334465297571,
          0.1156755715532767,
          0.520347604127338,
          0.5582888434590495,
          0.3582827477577313,
          0.6871519554480504,
          0.0363958535466758,
          0.7920648014488558,
          0.2985464822661115,
          0.2024578819464626,
          0,
          0.3805445311708264,
          0,
          0.4828791064230482,
          0.5903883844220756,
          0.2705775114331404,
          0.1980355903153672,
          0,
          0.2545855388969112,
          0.0853046091393023,
          0.0818866884283906,
          0.3869835109009092,
          0.7029768704738563,
          0.4928814930244742,
          0.4928841902434815,
          0.0456592147022459,
          0.416654208690907,
          0.1296705799509013,
          0.2770674705764361,
          0.1862622734179711,
          0.0646513921864719,
          0.4187734452610907,
          0.1306704302401924,
          0.6857157878404067,
          0.1525410675894521,
          0.5412163603163843,
          0,
          0
         ],
         "yaxis": "y"
        }
       ],
       "layout": {
        "autosize": true,
        "legend": {
         "tracegroupgap": 0
        },
        "margin": {
         "t": 60
        },
        "template": {
         "data": {
          "bar": [
           {
            "error_x": {
             "color": "#2a3f5f"
            },
            "error_y": {
             "color": "#2a3f5f"
            },
            "marker": {
             "line": {
              "color": "#E5ECF6",
              "width": 0.5
             },
             "pattern": {
              "fillmode": "overlay",
              "size": 10,
              "solidity": 0.2
             }
            },
            "type": "bar"
           }
          ],
          "barpolar": [
           {
            "marker": {
             "line": {
              "color": "#E5ECF6",
              "width": 0.5
             },
             "pattern": {
              "fillmode": "overlay",
              "size": 10,
              "solidity": 0.2
             }
            },
            "type": "barpolar"
           }
          ],
          "carpet": [
           {
            "aaxis": {
             "endlinecolor": "#2a3f5f",
             "gridcolor": "white",
             "linecolor": "white",
             "minorgridcolor": "white",
             "startlinecolor": "#2a3f5f"
            },
            "baxis": {
             "endlinecolor": "#2a3f5f",
             "gridcolor": "white",
             "linecolor": "white",
             "minorgridcolor": "white",
             "startlinecolor": "#2a3f5f"
            },
            "type": "carpet"
           }
          ],
          "choropleth": [
           {
            "colorbar": {
             "outlinewidth": 0,
             "ticks": ""
            },
            "type": "choropleth"
           }
          ],
          "contour": [
           {
            "colorbar": {
             "outlinewidth": 0,
             "ticks": ""
            },
            "colorscale": [
             [
              0,
              "#0d0887"
             ],
             [
              0.1111111111111111,
              "#46039f"
             ],
             [
              0.2222222222222222,
              "#7201a8"
             ],
             [
              0.3333333333333333,
              "#9c179e"
             ],
             [
              0.4444444444444444,
              "#bd3786"
             ],
             [
              0.5555555555555556,
              "#d8576b"
             ],
             [
              0.6666666666666666,
              "#ed7953"
             ],
             [
              0.7777777777777778,
              "#fb9f3a"
             ],
             [
              0.8888888888888888,
              "#fdca26"
             ],
             [
              1,
              "#f0f921"
             ]
            ],
            "type": "contour"
           }
          ],
          "contourcarpet": [
           {
            "colorbar": {
             "outlinewidth": 0,
             "ticks": ""
            },
            "type": "contourcarpet"
           }
          ],
          "heatmap": [
           {
            "colorbar": {
             "outlinewidth": 0,
             "ticks": ""
            },
            "colorscale": [
             [
              0,
              "#0d0887"
             ],
             [
              0.1111111111111111,
              "#46039f"
             ],
             [
              0.2222222222222222,
              "#7201a8"
             ],
             [
              0.3333333333333333,
              "#9c179e"
             ],
             [
              0.4444444444444444,
              "#bd3786"
             ],
             [
              0.5555555555555556,
              "#d8576b"
             ],
             [
              0.6666666666666666,
              "#ed7953"
             ],
             [
              0.7777777777777778,
              "#fb9f3a"
             ],
             [
              0.8888888888888888,
              "#fdca26"
             ],
             [
              1,
              "#f0f921"
             ]
            ],
            "type": "heatmap"
           }
          ],
          "heatmapgl": [
           {
            "colorbar": {
             "outlinewidth": 0,
             "ticks": ""
            },
            "colorscale": [
             [
              0,
              "#0d0887"
             ],
             [
              0.1111111111111111,
              "#46039f"
             ],
             [
              0.2222222222222222,
              "#7201a8"
             ],
             [
              0.3333333333333333,
              "#9c179e"
             ],
             [
              0.4444444444444444,
              "#bd3786"
             ],
             [
              0.5555555555555556,
              "#d8576b"
             ],
             [
              0.6666666666666666,
              "#ed7953"
             ],
             [
              0.7777777777777778,
              "#fb9f3a"
             ],
             [
              0.8888888888888888,
              "#fdca26"
             ],
             [
              1,
              "#f0f921"
             ]
            ],
            "type": "heatmapgl"
           }
          ],
          "histogram": [
           {
            "marker": {
             "pattern": {
              "fillmode": "overlay",
              "size": 10,
              "solidity": 0.2
             }
            },
            "type": "histogram"
           }
          ],
          "histogram2d": [
           {
            "colorbar": {
             "outlinewidth": 0,
             "ticks": ""
            },
            "colorscale": [
             [
              0,
              "#0d0887"
             ],
             [
              0.1111111111111111,
              "#46039f"
             ],
             [
              0.2222222222222222,
              "#7201a8"
             ],
             [
              0.3333333333333333,
              "#9c179e"
             ],
             [
              0.4444444444444444,
              "#bd3786"
             ],
             [
              0.5555555555555556,
              "#d8576b"
             ],
             [
              0.6666666666666666,
              "#ed7953"
             ],
             [
              0.7777777777777778,
              "#fb9f3a"
             ],
             [
              0.8888888888888888,
              "#fdca26"
             ],
             [
              1,
              "#f0f921"
             ]
            ],
            "type": "histogram2d"
           }
          ],
          "histogram2dcontour": [
           {
            "colorbar": {
             "outlinewidth": 0,
             "ticks": ""
            },
            "colorscale": [
             [
              0,
              "#0d0887"
             ],
             [
              0.1111111111111111,
              "#46039f"
             ],
             [
              0.2222222222222222,
              "#7201a8"
             ],
             [
              0.3333333333333333,
              "#9c179e"
             ],
             [
              0.4444444444444444,
              "#bd3786"
             ],
             [
              0.5555555555555556,
              "#d8576b"
             ],
             [
              0.6666666666666666,
              "#ed7953"
             ],
             [
              0.7777777777777778,
              "#fb9f3a"
             ],
             [
              0.8888888888888888,
              "#fdca26"
             ],
             [
              1,
              "#f0f921"
             ]
            ],
            "type": "histogram2dcontour"
           }
          ],
          "mesh3d": [
           {
            "colorbar": {
             "outlinewidth": 0,
             "ticks": ""
            },
            "type": "mesh3d"
           }
          ],
          "parcoords": [
           {
            "line": {
             "colorbar": {
              "outlinewidth": 0,
              "ticks": ""
             }
            },
            "type": "parcoords"
           }
          ],
          "pie": [
           {
            "automargin": true,
            "type": "pie"
           }
          ],
          "scatter": [
           {
            "fillpattern": {
             "fillmode": "overlay",
             "size": 10,
             "solidity": 0.2
            },
            "type": "scatter"
           }
          ],
          "scatter3d": [
           {
            "line": {
             "colorbar": {
              "outlinewidth": 0,
              "ticks": ""
             }
            },
            "marker": {
             "colorbar": {
              "outlinewidth": 0,
              "ticks": ""
             }
            },
            "type": "scatter3d"
           }
          ],
          "scattercarpet": [
           {
            "marker": {
             "colorbar": {
              "outlinewidth": 0,
              "ticks": ""
             }
            },
            "type": "scattercarpet"
           }
          ],
          "scattergeo": [
           {
            "marker": {
             "colorbar": {
              "outlinewidth": 0,
              "ticks": ""
             }
            },
            "type": "scattergeo"
           }
          ],
          "scattergl": [
           {
            "marker": {
             "colorbar": {
              "outlinewidth": 0,
              "ticks": ""
             }
            },
            "type": "scattergl"
           }
          ],
          "scattermapbox": [
           {
            "marker": {
             "colorbar": {
              "outlinewidth": 0,
              "ticks": ""
             }
            },
            "type": "scattermapbox"
           }
          ],
          "scatterpolar": [
           {
            "marker": {
             "colorbar": {
              "outlinewidth": 0,
              "ticks": ""
             }
            },
            "type": "scatterpolar"
           }
          ],
          "scatterpolargl": [
           {
            "marker": {
             "colorbar": {
              "outlinewidth": 0,
              "ticks": ""
             }
            },
            "type": "scatterpolargl"
           }
          ],
          "scatterternary": [
           {
            "marker": {
             "colorbar": {
              "outlinewidth": 0,
              "ticks": ""
             }
            },
            "type": "scatterternary"
           }
          ],
          "surface": [
           {
            "colorbar": {
             "outlinewidth": 0,
             "ticks": ""
            },
            "colorscale": [
             [
              0,
              "#0d0887"
             ],
             [
              0.1111111111111111,
              "#46039f"
             ],
             [
              0.2222222222222222,
              "#7201a8"
             ],
             [
              0.3333333333333333,
              "#9c179e"
             ],
             [
              0.4444444444444444,
              "#bd3786"
             ],
             [
              0.5555555555555556,
              "#d8576b"
             ],
             [
              0.6666666666666666,
              "#ed7953"
             ],
             [
              0.7777777777777778,
              "#fb9f3a"
             ],
             [
              0.8888888888888888,
              "#fdca26"
             ],
             [
              1,
              "#f0f921"
             ]
            ],
            "type": "surface"
           }
          ],
          "table": [
           {
            "cells": {
             "fill": {
              "color": "#EBF0F8"
             },
             "line": {
              "color": "white"
             }
            },
            "header": {
             "fill": {
              "color": "#C8D4E3"
             },
             "line": {
              "color": "white"
             }
            },
            "type": "table"
           }
          ]
         },
         "layout": {
          "annotationdefaults": {
           "arrowcolor": "#2a3f5f",
           "arrowhead": 0,
           "arrowwidth": 1
          },
          "autotypenumbers": "strict",
          "coloraxis": {
           "colorbar": {
            "outlinewidth": 0,
            "ticks": ""
           }
          },
          "colorscale": {
           "diverging": [
            [
             0,
             "#8e0152"
            ],
            [
             0.1,
             "#c51b7d"
            ],
            [
             0.2,
             "#de77ae"
            ],
            [
             0.3,
             "#f1b6da"
            ],
            [
             0.4,
             "#fde0ef"
            ],
            [
             0.5,
             "#f7f7f7"
            ],
            [
             0.6,
             "#e6f5d0"
            ],
            [
             0.7,
             "#b8e186"
            ],
            [
             0.8,
             "#7fbc41"
            ],
            [
             0.9,
             "#4d9221"
            ],
            [
             1,
             "#276419"
            ]
           ],
           "sequential": [
            [
             0,
             "#0d0887"
            ],
            [
             0.1111111111111111,
             "#46039f"
            ],
            [
             0.2222222222222222,
             "#7201a8"
            ],
            [
             0.3333333333333333,
             "#9c179e"
            ],
            [
             0.4444444444444444,
             "#bd3786"
            ],
            [
             0.5555555555555556,
             "#d8576b"
            ],
            [
             0.6666666666666666,
             "#ed7953"
            ],
            [
             0.7777777777777778,
             "#fb9f3a"
            ],
            [
             0.8888888888888888,
             "#fdca26"
            ],
            [
             1,
             "#f0f921"
            ]
           ],
           "sequentialminus": [
            [
             0,
             "#0d0887"
            ],
            [
             0.1111111111111111,
             "#46039f"
            ],
            [
             0.2222222222222222,
             "#7201a8"
            ],
            [
             0.3333333333333333,
             "#9c179e"
            ],
            [
             0.4444444444444444,
             "#bd3786"
            ],
            [
             0.5555555555555556,
             "#d8576b"
            ],
            [
             0.6666666666666666,
             "#ed7953"
            ],
            [
             0.7777777777777778,
             "#fb9f3a"
            ],
            [
             0.8888888888888888,
             "#fdca26"
            ],
            [
             1,
             "#f0f921"
            ]
           ]
          },
          "colorway": [
           "#636efa",
           "#EF553B",
           "#00cc96",
           "#ab63fa",
           "#FFA15A",
           "#19d3f3",
           "#FF6692",
           "#B6E880",
           "#FF97FF",
           "#FECB52"
          ],
          "font": {
           "color": "#2a3f5f"
          },
          "geo": {
           "bgcolor": "white",
           "lakecolor": "white",
           "landcolor": "#E5ECF6",
           "showlakes": true,
           "showland": true,
           "subunitcolor": "white"
          },
          "hoverlabel": {
           "align": "left"
          },
          "hovermode": "closest",
          "mapbox": {
           "style": "light"
          },
          "paper_bgcolor": "white",
          "plot_bgcolor": "#E5ECF6",
          "polar": {
           "angularaxis": {
            "gridcolor": "white",
            "linecolor": "white",
            "ticks": ""
           },
           "bgcolor": "#E5ECF6",
           "radialaxis": {
            "gridcolor": "white",
            "linecolor": "white",
            "ticks": ""
           }
          },
          "scene": {
           "xaxis": {
            "backgroundcolor": "#E5ECF6",
            "gridcolor": "white",
            "gridwidth": 2,
            "linecolor": "white",
            "showbackground": true,
            "ticks": "",
            "zerolinecolor": "white"
           },
           "yaxis": {
            "backgroundcolor": "#E5ECF6",
            "gridcolor": "white",
            "gridwidth": 2,
            "linecolor": "white",
            "showbackground": true,
            "ticks": "",
            "zerolinecolor": "white"
           },
           "zaxis": {
            "backgroundcolor": "#E5ECF6",
            "gridcolor": "white",
            "gridwidth": 2,
            "linecolor": "white",
            "showbackground": true,
            "ticks": "",
            "zerolinecolor": "white"
           }
          },
          "shapedefaults": {
           "line": {
            "color": "#2a3f5f"
           }
          },
          "ternary": {
           "aaxis": {
            "gridcolor": "white",
            "linecolor": "white",
            "ticks": ""
           },
           "baxis": {
            "gridcolor": "white",
            "linecolor": "white",
            "ticks": ""
           },
           "bgcolor": "#E5ECF6",
           "caxis": {
            "gridcolor": "white",
            "linecolor": "white",
            "ticks": ""
           }
          },
          "title": {
           "x": 0.05
          },
          "xaxis": {
           "automargin": true,
           "gridcolor": "white",
           "linecolor": "white",
           "ticks": "",
           "title": {
            "standoff": 15
           },
           "zerolinecolor": "white",
           "zerolinewidth": 2
          },
          "yaxis": {
           "automargin": true,
           "gridcolor": "white",
           "linecolor": "white",
           "ticks": "",
           "title": {
            "standoff": 15
           },
           "zerolinecolor": "white",
           "zerolinewidth": 2
          }
         }
        },
        "xaxis": {
         "anchor": "y",
         "autorange": true,
         "domain": [
          0,
          1
         ],
         "range": [
          -0.050900716080569106,
          0.842965517529425
         ],
         "title": {
          "text": "linear_model ndcg"
         },
         "type": "linear"
        },
        "yaxis": {
         "anchor": "x",
         "autorange": true,
         "domain": [
          0,
          1
         ],
         "range": [
          -0.06132785208068569,
          0.8533926535295415
         ],
         "title": {
          "text": "ndcg"
         },
         "type": "linear"
        }
       }
      },
      "text/html": [
       "<div>                            <div id=\"944b0b3b-e78c-4da0-b6c1-cad86f6a3cef\" class=\"plotly-graph-div\" style=\"height:525px; width:100%;\"></div>            <script type=\"text/javascript\">                require([\"plotly\"], function(Plotly) {                    window.PLOTLYENV=window.PLOTLYENV || {};                                    if (document.getElementById(\"944b0b3b-e78c-4da0-b6c1-cad86f6a3cef\")) {                    Plotly.newPlot(                        \"944b0b3b-e78c-4da0-b6c1-cad86f6a3cef\",                        [{\"customdata\":[[\"1 1\\u002f4 pop up bathroom sink drain without overflow\",1.7227062322935722,0.1,0.1,1.7227062322935722,0.04402283258477638,0.1,0.1,1.7227062322935722,0.1,0.1],[\"1 \\u2018 velcro without adhesive for sewing\",2.1505149978319906,0.1,0.2,2.1505149978319906,0.0861885860248209,0.1,0.2,2.15051499783199,0.1,0.2],[\"10x6 plastic register cover without vent\",1.8350497362273823,0.2,0.2,1.8350497362273823,0.08032072913484654,0.2,0.2,1.8350497362273823,0.2,0.2],[\"barn pictures for walls\",5.7227062322935724,0.2,0.2,5.7227062322935724,0.23430673110551667,0.2,0.2,6.0,0.2,0.2],[\"black bear onesie\",6.7018226078398415,0.2,0.3,6.7018226078398415,0.4885644593952938,0.2,0.3,6.7018226078398415,0.2,0.3],[\"bloch ballet shoes women\",8.933113502154406,0.5,0.5,8.933113502154406,0.21967383024888934,0.5,0.5,8.933113502154406,0.5,0.5],[\"canon toner\",18.17423735235338,1.0,1.0,18.17423735235338,0.7441140557478906,1.0,1.0,18.17423735235338,1.0,1.0],[\"colemen tents\",0.0,0.0,0.0,0.0,0.0,0.0,0.0,0.0,0.0,0.0],[\"colorful decorations for party\",0.0,0.0,0.0,0.0,0.0,0.0,0.0,0.0,0.0,0.0],[\"cutting board stove cover\",10.827513300283044,0.5,0.5,10.827513300283044,0.49147827996815846,0.5,0.5,10.827513300283044,0.5,0.5],[\"death in the tall grass\",1.1562593052715515,0.1,0.1,1.2041199826559248,0.07475811111624223,0.1,0.1,1.1562593052715515,0.1,0.1],[\"flower lip stick\",4.0,0.1,0.1,4.0,0.1671214244214466,0.1,0.1,4.0,0.1,0.1],[\"fork spoon knife combo\",4.7581620817654215,0.3,0.3,4.7581620817654215,0.26853344652975714,0.3,0.3,4.7581620817654215,0.3,0.3],[\"franmar soy gel paint remover\",3.4285261738095816,0.2,0.3,3.4285261738095816,0.11567557155327671,0.2,0.3,3.4285261738095816,0.2,0.3],[\"hidizs\",4.0,0.1,0.1,11.927812105773981,0.520347604127338,0.7,0.7,11.92781210577398,0.7,0.7],[\"honeywell glass break sensor\",11.154058548610953,0.7,0.7,11.154058548610953,0.5582888434590495,0.7,0.7,11.154058548610951,0.7,0.7],[\"karaoke machine for adults\",9.793836475517569,0.4,0.4,10.884098302213307,0.3582827477577313,0.5,0.5,10.884098302213308,0.5,0.5],[\"kingston 120gb\",12.933113502154406,0.6,0.6,12.933113502154406,0.6871519554480504,0.6,0.6,12.933113502154406,0.6,0.6],[\"laptop dell core i7 touch screen with terabytes\",0.6309297535714575,0.1,0.1,0.6309297535714575,0.036395853546675884,0.1,0.1,0.6309297535714575,0.1,0.1],[\"lenox lamps\",18.17423735235338,1.0,1.0,18.17423735235338,0.7920648014488558,1.0,1.0,18.17423735235338,1.0,1.0],[\"mary jane shoes women\",6.5951928404762485,0.3,0.3,6.686688255575004,0.2985464822661115,0.3,0.3,6.686688255575004,0.3,0.3],[\"mens white graphic t-shirts\",6.861353116146786,0.3,0.3,6.861353116146786,0.18833773921584998,0.3,0.3,7.375765605797046,0.4,0.4],[\"mens wide width basketball shoes\",1.3333333333333333,0.1,0.1,0.0,0.0,0.0,0.0,0.0,0.0,0.0],[\"metal keaf tray\",4.0,0.1,0.1,4.0,0.38054453117082643,0.1,0.1,4.0,0.1,0.1],[\"motor mount\",0.0,0.0,0.0,0.0,0.0,0.0,0.0,0.0,0.0,0.0],[\"motorrad rallye glove\",11.793836475517569,0.5,0.5,11.793836475517569,0.48287910642304827,0.5,0.5,11.793836475517567,0.5,0.5],[\"neon hoops\",9.152667745373844,0.4,0.4,12.904119891121642,0.5903883844220756,0.7,0.7,12.904119891121642,0.7,0.7],[\"new oxo good grips 12 piece pop container set\",6.608583559213255,0.4,0.4,6.608583559213255,0.27057751143314046,0.4,0.4,6.608583559213255,0.4,0.4],[\"ninja turtle hoodie sweatshirt size 5\",2.7124143742160443,0.2,0.2,2.7124143742160443,0.19803559031536722,0.2,0.2,2.7124143742160443,0.2,0.2],[\"palladia book shelf\",0.0,0.0,0.0,0.0,0.0,0.0,0.0,0.0,0.0,0.0],[\"party hats\",6.878965537565124,0.3,0.3,6.878965537565124,0.29188085807238295,0.3,0.3,6.0,0.2,0.2],[\"pearl hair band\",2.0,0.1,0.1,2.0,0.08530460913930238,0.1,0.1,2.0,0.1,0.1],[\"pens paper mate\",1.2041199826559248,0.1,0.1,1.261859507142915,0.051664748150907255,0.1,0.1,2.0,0.1,0.1],[\"pet rainproof clothes\",8.926826214949497,0.4,0.4,8.926826214949497,0.3869835109009092,0.4,0.4,8.926826214949497,0.4,0.4],[\"plastic bottle cutter\",15.118197786726476,0.8,0.8,15.364966616272302,0.7029768704738563,0.8,0.8,15.364966616272302,0.8,0.8],[\"plastic, satire\",10.229886263822703,0.5,0.6,10.70007897431201,0.5155356339580601,0.5,0.5,10.229886263822705,0.5,0.6],[\"please do not annoy the writer mug\",18.17423735235338,1.0,1.0,18.17423735235338,0.4928841902434815,1.0,1.0,18.17423735235338,1.0,1.0],[\"rasberry pi4\",0.6666666666666666,0.1,0.1,0.6666666666666666,0.04565921470224593,0.1,0.1,0.6666666666666666,0.1,0.1],[\"reflex gun sight\",11.940137867840214,0.6,0.6,11.33261926529773,0.4639953314275065,0.6,0.6,10.17635996002618,0.5,0.5],[\"sambucus elderberry syrup\",4.474237443887664,0.3,0.3,3.147534980725661,0.1335528148774869,0.2,0.2,3.0560395656269055,0.2,0.2],[\"smart watch for men women,fitness tracker with 1.54\",6.827513300283043,0.4,0.4,5.5742999686982175,0.2770674705764361,0.4,0.4,5.5742999686982175,0.4,0.4],[\"some will not sleep\",2.0,0.1,0.1,2.0,0.18626227341797114,0.1,0.1,2.0,0.1,0.1],[\"sticky notes holder for desk\",1.5474112289381665,0.1,0.1,1.5474112289381665,0.0646513921864719,0.1,0.1,1.5474112289381663,0.1,0.1],[\"tactical gloves\",8.523719014285831,0.3,0.3,8.523719014285831,0.4187734452610907,0.3,0.3,8.523719014285831,0.3,0.3],[\"thigh knife holster women\",2.6289487310880135,0.2,0.2,2.8092707360810816,0.13963323491400842,0.2,0.2,2.6289487310880135,0.2,0.2],[\"vegan instant pot cookbook\",14.13723348481033,0.7,0.7,14.20870731100075,0.6857157878404067,0.7,0.7,14.20870731100075,0.7,0.7],[\"waterproof iphone 6 case for underwatee pictures\",1.8333333333333333,0.1,0.2,1.8333333333333333,0.1525410675894521,0.1,0.2,1.8333333333333333,0.1,0.2],[\"waverly shower curtain\",13.218665223949657,0.6,0.6,13.218665223949657,0.5412163603163843,0.6,0.6,13.218665223949657,0.6,0.6],[\"women thermal coats\",0.0,0.0,0.0,0.0,0.0,0.0,0.0,0.0,0.0,0.0],[\"work clothes for women\",0.0,0.0,0.0,0.0,0.0,0.0,0.0,0.0,0.0,0.0]],\"hovertemplate\":\"linear_model ndcg=%{x}\\u003cbr\\u003endcg=%{y}\\u003cbr\\u003equery=%{customdata[0]}\\u003cbr\\u003elinear_model dcg=%{customdata[1]}\\u003cbr\\u003elinear_model prec@10=%{customdata[2]}\\u003cbr\\u003elinear_model ratio_of_ratings=%{customdata[3]}\\u003cbr\\u003erandom_forest dcg=%{customdata[4]}\\u003cbr\\u003erandom_forest ndcg=%{customdata[5]}\\u003cbr\\u003erandom_forest prec@10=%{customdata[6]}\\u003cbr\\u003erandom_forest ratio_of_ratings=%{customdata[7]}\\u003cbr\\u003edcg=%{customdata[8]}\\u003cbr\\u003eprec@10=%{customdata[9]}\\u003cbr\\u003eratio_of_ratings=%{customdata[10]}\\u003cextra\\u003e\\u003c\\u002fextra\\u003e\",\"legendgroup\":\"\",\"marker\":{\"color\":\"#636efa\",\"symbol\":\"circle\"},\"mode\":\"markers\",\"name\":\"\",\"orientation\":\"v\",\"showlegend\":false,\"x\":[0.04402283258477638,0.0861885860248209,0.08032072913484654,0.23430673110551667,0.4885644593952938,0.21967383024888934,0.7441140557478906,0.0,0.0,0.49147827996815846,0.07178666816243652,0.1671214244214466,0.26853344652975714,0.11567557155327671,0.1744989272174902,0.5582888434590495,0.32239350896203994,0.6871519554480504,0.036395853546675884,0.7920648014488558,0.2944614055768496,0.18833773921584998,0.069731285008802,0.38054453117082643,0.0,0.48287910642304827,0.4187522100644103,0.27057751143314046,0.19803559031536722,0.0,0.29188085807238295,0.08530460913930238,0.04930069892507245,0.3869835109009092,0.691686720364392,0.4928814930244742,0.4928841902434815,0.04565921470224593,0.48886917468793034,0.18984602513414658,0.3393577401752507,0.18626227341797114,0.0646513921864719,0.4187734452610907,0.13067043024019243,0.6822664430151961,0.1525410675894521,0.5412163603163843,0.0,0.0],\"xaxis\":\"x\",\"y\":[0.0440228325847763,0.0861885860248209,0.0803207291348465,0.245660065285172,0.4885644593952938,0.2196738302488893,0.7441140557478906,0.0,0.0,0.4914782799681584,0.0717866681624365,0.1671214244214466,0.2685334465297571,0.1156755715532767,0.520347604127338,0.5582888434590495,0.3582827477577313,0.6871519554480504,0.0363958535466758,0.7920648014488558,0.2985464822661115,0.2024578819464626,0.0,0.3805445311708264,0.0,0.4828791064230482,0.5903883844220756,0.2705775114331404,0.1980355903153672,0.0,0.2545855388969112,0.0853046091393023,0.0818866884283906,0.3869835109009092,0.7029768704738563,0.4928814930244742,0.4928841902434815,0.0456592147022459,0.416654208690907,0.1296705799509013,0.2770674705764361,0.1862622734179711,0.0646513921864719,0.4187734452610907,0.1306704302401924,0.6857157878404067,0.1525410675894521,0.5412163603163843,0.0,0.0],\"yaxis\":\"y\",\"type\":\"scatter\"}],                        {\"template\":{\"data\":{\"histogram2dcontour\":[{\"type\":\"histogram2dcontour\",\"colorbar\":{\"outlinewidth\":0,\"ticks\":\"\"},\"colorscale\":[[0.0,\"#0d0887\"],[0.1111111111111111,\"#46039f\"],[0.2222222222222222,\"#7201a8\"],[0.3333333333333333,\"#9c179e\"],[0.4444444444444444,\"#bd3786\"],[0.5555555555555556,\"#d8576b\"],[0.6666666666666666,\"#ed7953\"],[0.7777777777777778,\"#fb9f3a\"],[0.8888888888888888,\"#fdca26\"],[1.0,\"#f0f921\"]]}],\"choropleth\":[{\"type\":\"choropleth\",\"colorbar\":{\"outlinewidth\":0,\"ticks\":\"\"}}],\"histogram2d\":[{\"type\":\"histogram2d\",\"colorbar\":{\"outlinewidth\":0,\"ticks\":\"\"},\"colorscale\":[[0.0,\"#0d0887\"],[0.1111111111111111,\"#46039f\"],[0.2222222222222222,\"#7201a8\"],[0.3333333333333333,\"#9c179e\"],[0.4444444444444444,\"#bd3786\"],[0.5555555555555556,\"#d8576b\"],[0.6666666666666666,\"#ed7953\"],[0.7777777777777778,\"#fb9f3a\"],[0.8888888888888888,\"#fdca26\"],[1.0,\"#f0f921\"]]}],\"heatmap\":[{\"type\":\"heatmap\",\"colorbar\":{\"outlinewidth\":0,\"ticks\":\"\"},\"colorscale\":[[0.0,\"#0d0887\"],[0.1111111111111111,\"#46039f\"],[0.2222222222222222,\"#7201a8\"],[0.3333333333333333,\"#9c179e\"],[0.4444444444444444,\"#bd3786\"],[0.5555555555555556,\"#d8576b\"],[0.6666666666666666,\"#ed7953\"],[0.7777777777777778,\"#fb9f3a\"],[0.8888888888888888,\"#fdca26\"],[1.0,\"#f0f921\"]]}],\"heatmapgl\":[{\"type\":\"heatmapgl\",\"colorbar\":{\"outlinewidth\":0,\"ticks\":\"\"},\"colorscale\":[[0.0,\"#0d0887\"],[0.1111111111111111,\"#46039f\"],[0.2222222222222222,\"#7201a8\"],[0.3333333333333333,\"#9c179e\"],[0.4444444444444444,\"#bd3786\"],[0.5555555555555556,\"#d8576b\"],[0.6666666666666666,\"#ed7953\"],[0.7777777777777778,\"#fb9f3a\"],[0.8888888888888888,\"#fdca26\"],[1.0,\"#f0f921\"]]}],\"contourcarpet\":[{\"type\":\"contourcarpet\",\"colorbar\":{\"outlinewidth\":0,\"ticks\":\"\"}}],\"contour\":[{\"type\":\"contour\",\"colorbar\":{\"outlinewidth\":0,\"ticks\":\"\"},\"colorscale\":[[0.0,\"#0d0887\"],[0.1111111111111111,\"#46039f\"],[0.2222222222222222,\"#7201a8\"],[0.3333333333333333,\"#9c179e\"],[0.4444444444444444,\"#bd3786\"],[0.5555555555555556,\"#d8576b\"],[0.6666666666666666,\"#ed7953\"],[0.7777777777777778,\"#fb9f3a\"],[0.8888888888888888,\"#fdca26\"],[1.0,\"#f0f921\"]]}],\"surface\":[{\"type\":\"surface\",\"colorbar\":{\"outlinewidth\":0,\"ticks\":\"\"},\"colorscale\":[[0.0,\"#0d0887\"],[0.1111111111111111,\"#46039f\"],[0.2222222222222222,\"#7201a8\"],[0.3333333333333333,\"#9c179e\"],[0.4444444444444444,\"#bd3786\"],[0.5555555555555556,\"#d8576b\"],[0.6666666666666666,\"#ed7953\"],[0.7777777777777778,\"#fb9f3a\"],[0.8888888888888888,\"#fdca26\"],[1.0,\"#f0f921\"]]}],\"mesh3d\":[{\"type\":\"mesh3d\",\"colorbar\":{\"outlinewidth\":0,\"ticks\":\"\"}}],\"scatter\":[{\"fillpattern\":{\"fillmode\":\"overlay\",\"size\":10,\"solidity\":0.2},\"type\":\"scatter\"}],\"parcoords\":[{\"type\":\"parcoords\",\"line\":{\"colorbar\":{\"outlinewidth\":0,\"ticks\":\"\"}}}],\"scatterpolargl\":[{\"type\":\"scatterpolargl\",\"marker\":{\"colorbar\":{\"outlinewidth\":0,\"ticks\":\"\"}}}],\"bar\":[{\"error_x\":{\"color\":\"#2a3f5f\"},\"error_y\":{\"color\":\"#2a3f5f\"},\"marker\":{\"line\":{\"color\":\"#E5ECF6\",\"width\":0.5},\"pattern\":{\"fillmode\":\"overlay\",\"size\":10,\"solidity\":0.2}},\"type\":\"bar\"}],\"scattergeo\":[{\"type\":\"scattergeo\",\"marker\":{\"colorbar\":{\"outlinewidth\":0,\"ticks\":\"\"}}}],\"scatterpolar\":[{\"type\":\"scatterpolar\",\"marker\":{\"colorbar\":{\"outlinewidth\":0,\"ticks\":\"\"}}}],\"histogram\":[{\"marker\":{\"pattern\":{\"fillmode\":\"overlay\",\"size\":10,\"solidity\":0.2}},\"type\":\"histogram\"}],\"scattergl\":[{\"type\":\"scattergl\",\"marker\":{\"colorbar\":{\"outlinewidth\":0,\"ticks\":\"\"}}}],\"scatter3d\":[{\"type\":\"scatter3d\",\"line\":{\"colorbar\":{\"outlinewidth\":0,\"ticks\":\"\"}},\"marker\":{\"colorbar\":{\"outlinewidth\":0,\"ticks\":\"\"}}}],\"scattermapbox\":[{\"type\":\"scattermapbox\",\"marker\":{\"colorbar\":{\"outlinewidth\":0,\"ticks\":\"\"}}}],\"scatterternary\":[{\"type\":\"scatterternary\",\"marker\":{\"colorbar\":{\"outlinewidth\":0,\"ticks\":\"\"}}}],\"scattercarpet\":[{\"type\":\"scattercarpet\",\"marker\":{\"colorbar\":{\"outlinewidth\":0,\"ticks\":\"\"}}}],\"carpet\":[{\"aaxis\":{\"endlinecolor\":\"#2a3f5f\",\"gridcolor\":\"white\",\"linecolor\":\"white\",\"minorgridcolor\":\"white\",\"startlinecolor\":\"#2a3f5f\"},\"baxis\":{\"endlinecolor\":\"#2a3f5f\",\"gridcolor\":\"white\",\"linecolor\":\"white\",\"minorgridcolor\":\"white\",\"startlinecolor\":\"#2a3f5f\"},\"type\":\"carpet\"}],\"table\":[{\"cells\":{\"fill\":{\"color\":\"#EBF0F8\"},\"line\":{\"color\":\"white\"}},\"header\":{\"fill\":{\"color\":\"#C8D4E3\"},\"line\":{\"color\":\"white\"}},\"type\":\"table\"}],\"barpolar\":[{\"marker\":{\"line\":{\"color\":\"#E5ECF6\",\"width\":0.5},\"pattern\":{\"fillmode\":\"overlay\",\"size\":10,\"solidity\":0.2}},\"type\":\"barpolar\"}],\"pie\":[{\"automargin\":true,\"type\":\"pie\"}]},\"layout\":{\"autotypenumbers\":\"strict\",\"colorway\":[\"#636efa\",\"#EF553B\",\"#00cc96\",\"#ab63fa\",\"#FFA15A\",\"#19d3f3\",\"#FF6692\",\"#B6E880\",\"#FF97FF\",\"#FECB52\"],\"font\":{\"color\":\"#2a3f5f\"},\"hovermode\":\"closest\",\"hoverlabel\":{\"align\":\"left\"},\"paper_bgcolor\":\"white\",\"plot_bgcolor\":\"#E5ECF6\",\"polar\":{\"bgcolor\":\"#E5ECF6\",\"angularaxis\":{\"gridcolor\":\"white\",\"linecolor\":\"white\",\"ticks\":\"\"},\"radialaxis\":{\"gridcolor\":\"white\",\"linecolor\":\"white\",\"ticks\":\"\"}},\"ternary\":{\"bgcolor\":\"#E5ECF6\",\"aaxis\":{\"gridcolor\":\"white\",\"linecolor\":\"white\",\"ticks\":\"\"},\"baxis\":{\"gridcolor\":\"white\",\"linecolor\":\"white\",\"ticks\":\"\"},\"caxis\":{\"gridcolor\":\"white\",\"linecolor\":\"white\",\"ticks\":\"\"}},\"coloraxis\":{\"colorbar\":{\"outlinewidth\":0,\"ticks\":\"\"}},\"colorscale\":{\"sequential\":[[0.0,\"#0d0887\"],[0.1111111111111111,\"#46039f\"],[0.2222222222222222,\"#7201a8\"],[0.3333333333333333,\"#9c179e\"],[0.4444444444444444,\"#bd3786\"],[0.5555555555555556,\"#d8576b\"],[0.6666666666666666,\"#ed7953\"],[0.7777777777777778,\"#fb9f3a\"],[0.8888888888888888,\"#fdca26\"],[1.0,\"#f0f921\"]],\"sequentialminus\":[[0.0,\"#0d0887\"],[0.1111111111111111,\"#46039f\"],[0.2222222222222222,\"#7201a8\"],[0.3333333333333333,\"#9c179e\"],[0.4444444444444444,\"#bd3786\"],[0.5555555555555556,\"#d8576b\"],[0.6666666666666666,\"#ed7953\"],[0.7777777777777778,\"#fb9f3a\"],[0.8888888888888888,\"#fdca26\"],[1.0,\"#f0f921\"]],\"diverging\":[[0,\"#8e0152\"],[0.1,\"#c51b7d\"],[0.2,\"#de77ae\"],[0.3,\"#f1b6da\"],[0.4,\"#fde0ef\"],[0.5,\"#f7f7f7\"],[0.6,\"#e6f5d0\"],[0.7,\"#b8e186\"],[0.8,\"#7fbc41\"],[0.9,\"#4d9221\"],[1,\"#276419\"]]},\"xaxis\":{\"gridcolor\":\"white\",\"linecolor\":\"white\",\"ticks\":\"\",\"title\":{\"standoff\":15},\"zerolinecolor\":\"white\",\"automargin\":true,\"zerolinewidth\":2},\"yaxis\":{\"gridcolor\":\"white\",\"linecolor\":\"white\",\"ticks\":\"\",\"title\":{\"standoff\":15},\"zerolinecolor\":\"white\",\"automargin\":true,\"zerolinewidth\":2},\"scene\":{\"xaxis\":{\"backgroundcolor\":\"#E5ECF6\",\"gridcolor\":\"white\",\"linecolor\":\"white\",\"showbackground\":true,\"ticks\":\"\",\"zerolinecolor\":\"white\",\"gridwidth\":2},\"yaxis\":{\"backgroundcolor\":\"#E5ECF6\",\"gridcolor\":\"white\",\"linecolor\":\"white\",\"showbackground\":true,\"ticks\":\"\",\"zerolinecolor\":\"white\",\"gridwidth\":2},\"zaxis\":{\"backgroundcolor\":\"#E5ECF6\",\"gridcolor\":\"white\",\"linecolor\":\"white\",\"showbackground\":true,\"ticks\":\"\",\"zerolinecolor\":\"white\",\"gridwidth\":2}},\"shapedefaults\":{\"line\":{\"color\":\"#2a3f5f\"}},\"annotationdefaults\":{\"arrowcolor\":\"#2a3f5f\",\"arrowhead\":0,\"arrowwidth\":1},\"geo\":{\"bgcolor\":\"white\",\"landcolor\":\"#E5ECF6\",\"subunitcolor\":\"white\",\"showland\":true,\"showlakes\":true,\"lakecolor\":\"white\"},\"title\":{\"x\":0.05},\"mapbox\":{\"style\":\"light\"}}},\"xaxis\":{\"anchor\":\"y\",\"domain\":[0.0,1.0],\"title\":{\"text\":\"linear_model ndcg\"}},\"yaxis\":{\"anchor\":\"x\",\"domain\":[0.0,1.0],\"title\":{\"text\":\"ndcg\"}},\"legend\":{\"tracegroupgap\":0},\"margin\":{\"t\":60}},                        {\"responsive\": true}                    ).then(function(){\n",
       "                            \n",
       "var gd = document.getElementById('944b0b3b-e78c-4da0-b6c1-cad86f6a3cef');\n",
       "var x = new MutationObserver(function (mutations, observer) {{\n",
       "        var display = window.getComputedStyle(gd).display;\n",
       "        if (!display || display === 'none') {{\n",
       "            console.log([gd, 'removed!']);\n",
       "            Plotly.purge(gd);\n",
       "            observer.disconnect();\n",
       "        }}\n",
       "}});\n",
       "\n",
       "// Listen for the removal of the full notebook cells\n",
       "var notebookContainer = gd.closest('#notebook-container');\n",
       "if (notebookContainer) {{\n",
       "    x.observe(notebookContainer, {childList: true});\n",
       "}}\n",
       "\n",
       "// Listen for the clearing of the current output cell\n",
       "var outputEl = gd.closest('.output');\n",
       "if (outputEl) {{\n",
       "    x.observe(outputEl, {childList: true});\n",
       "}}\n",
       "\n",
       "                        })                };                });            </script>        </div>"
      ]
     },
     "metadata": {},
     "output_type": "display_data"
    }
   ],
   "source": [
    "px.scatter(\n",
    "    df_metrics_merged,\n",
    "    x=\"linear_model ndcg\",\n",
    "    y=\"ndcg\",\n",
    "    hover_data=df_metrics_merged.columns,\n",
    ")"
   ]
  },
  {
   "cell_type": "code",
   "execution_count": 327,
   "id": "a339ec74-6527-4f51-a5f8-a9e096d13f20",
   "metadata": {},
   "outputs": [],
   "source": [
    "df_metrics_merged['dcg_difference'] = df_metrics_merged['random_forest dcg'] - df_metrics_merged['linear_model dcg']"
   ]
  },
  {
   "cell_type": "markdown",
   "id": "f1a60834-7d2e-4403-83f8-2069d6d8afd3",
   "metadata": {},
   "source": [
    "### Queries where the Linear model scores better:"
   ]
  },
  {
   "cell_type": "code",
   "execution_count": 328,
   "id": "89ec2d11-a6e1-4ec7-98bb-81ede508e321",
   "metadata": {},
   "outputs": [
    {
     "data": {
      "text/html": [
       "<div>\n",
       "<style scoped>\n",
       "    .dataframe tbody tr th:only-of-type {\n",
       "        vertical-align: middle;\n",
       "    }\n",
       "\n",
       "    .dataframe tbody tr th {\n",
       "        vertical-align: top;\n",
       "    }\n",
       "\n",
       "    .dataframe thead th {\n",
       "        text-align: right;\n",
       "    }\n",
       "</style>\n",
       "<table border=\"1\" class=\"dataframe\">\n",
       "  <thead>\n",
       "    <tr style=\"text-align: right;\">\n",
       "      <th></th>\n",
       "      <th>query</th>\n",
       "      <th>dcg_difference</th>\n",
       "      <th>random_forest dcg</th>\n",
       "      <th>linear_model dcg</th>\n",
       "    </tr>\n",
       "  </thead>\n",
       "  <tbody>\n",
       "    <tr>\n",
       "      <th>22</th>\n",
       "      <td>mens wide width basketball shoes</td>\n",
       "      <td>-1.333333</td>\n",
       "      <td>0.000000</td>\n",
       "      <td>1.333333</td>\n",
       "    </tr>\n",
       "    <tr>\n",
       "      <th>39</th>\n",
       "      <td>sambucus elderberry syrup</td>\n",
       "      <td>-1.326702</td>\n",
       "      <td>3.147535</td>\n",
       "      <td>4.474237</td>\n",
       "    </tr>\n",
       "    <tr>\n",
       "      <th>40</th>\n",
       "      <td>smart watch for men women,fitness tracker with...</td>\n",
       "      <td>-1.253213</td>\n",
       "      <td>5.574300</td>\n",
       "      <td>6.827513</td>\n",
       "    </tr>\n",
       "    <tr>\n",
       "      <th>38</th>\n",
       "      <td>reflex gun sight</td>\n",
       "      <td>-0.607519</td>\n",
       "      <td>11.332619</td>\n",
       "      <td>11.940138</td>\n",
       "    </tr>\n",
       "    <tr>\n",
       "      <th>48</th>\n",
       "      <td>women thermal coats</td>\n",
       "      <td>0.000000</td>\n",
       "      <td>0.000000</td>\n",
       "      <td>0.000000</td>\n",
       "    </tr>\n",
       "    <tr>\n",
       "      <th>25</th>\n",
       "      <td>motorrad rallye glove</td>\n",
       "      <td>0.000000</td>\n",
       "      <td>11.793836</td>\n",
       "      <td>11.793836</td>\n",
       "    </tr>\n",
       "    <tr>\n",
       "      <th>27</th>\n",
       "      <td>new oxo good grips 12 piece pop container set</td>\n",
       "      <td>0.000000</td>\n",
       "      <td>6.608584</td>\n",
       "      <td>6.608584</td>\n",
       "    </tr>\n",
       "    <tr>\n",
       "      <th>28</th>\n",
       "      <td>ninja turtle hoodie sweatshirt size 5</td>\n",
       "      <td>0.000000</td>\n",
       "      <td>2.712414</td>\n",
       "      <td>2.712414</td>\n",
       "    </tr>\n",
       "    <tr>\n",
       "      <th>29</th>\n",
       "      <td>palladia book shelf</td>\n",
       "      <td>0.000000</td>\n",
       "      <td>0.000000</td>\n",
       "      <td>0.000000</td>\n",
       "    </tr>\n",
       "    <tr>\n",
       "      <th>30</th>\n",
       "      <td>party hats</td>\n",
       "      <td>0.000000</td>\n",
       "      <td>6.878966</td>\n",
       "      <td>6.878966</td>\n",
       "    </tr>\n",
       "    <tr>\n",
       "      <th>31</th>\n",
       "      <td>pearl hair band</td>\n",
       "      <td>0.000000</td>\n",
       "      <td>2.000000</td>\n",
       "      <td>2.000000</td>\n",
       "    </tr>\n",
       "    <tr>\n",
       "      <th>0</th>\n",
       "      <td>1 1/4 pop up bathroom sink drain without overflow</td>\n",
       "      <td>0.000000</td>\n",
       "      <td>1.722706</td>\n",
       "      <td>1.722706</td>\n",
       "    </tr>\n",
       "    <tr>\n",
       "      <th>23</th>\n",
       "      <td>metal keaf tray</td>\n",
       "      <td>0.000000</td>\n",
       "      <td>4.000000</td>\n",
       "      <td>4.000000</td>\n",
       "    </tr>\n",
       "    <tr>\n",
       "      <th>37</th>\n",
       "      <td>rasberry pi4</td>\n",
       "      <td>0.000000</td>\n",
       "      <td>0.666667</td>\n",
       "      <td>0.666667</td>\n",
       "    </tr>\n",
       "    <tr>\n",
       "      <th>41</th>\n",
       "      <td>some will not sleep</td>\n",
       "      <td>0.000000</td>\n",
       "      <td>2.000000</td>\n",
       "      <td>2.000000</td>\n",
       "    </tr>\n",
       "    <tr>\n",
       "      <th>42</th>\n",
       "      <td>sticky notes holder for desk</td>\n",
       "      <td>0.000000</td>\n",
       "      <td>1.547411</td>\n",
       "      <td>1.547411</td>\n",
       "    </tr>\n",
       "    <tr>\n",
       "      <th>43</th>\n",
       "      <td>tactical gloves</td>\n",
       "      <td>0.000000</td>\n",
       "      <td>8.523719</td>\n",
       "      <td>8.523719</td>\n",
       "    </tr>\n",
       "    <tr>\n",
       "      <th>46</th>\n",
       "      <td>waterproof iphone 6 case for underwatee pictures</td>\n",
       "      <td>0.000000</td>\n",
       "      <td>1.833333</td>\n",
       "      <td>1.833333</td>\n",
       "    </tr>\n",
       "    <tr>\n",
       "      <th>47</th>\n",
       "      <td>waverly shower curtain</td>\n",
       "      <td>0.000000</td>\n",
       "      <td>13.218665</td>\n",
       "      <td>13.218665</td>\n",
       "    </tr>\n",
       "    <tr>\n",
       "      <th>33</th>\n",
       "      <td>pet rainproof clothes</td>\n",
       "      <td>0.000000</td>\n",
       "      <td>8.926826</td>\n",
       "      <td>8.926826</td>\n",
       "    </tr>\n",
       "    <tr>\n",
       "      <th>36</th>\n",
       "      <td>please do not annoy the writer mug</td>\n",
       "      <td>0.000000</td>\n",
       "      <td>18.174237</td>\n",
       "      <td>18.174237</td>\n",
       "    </tr>\n",
       "    <tr>\n",
       "      <th>24</th>\n",
       "      <td>motor mount</td>\n",
       "      <td>0.000000</td>\n",
       "      <td>0.000000</td>\n",
       "      <td>0.000000</td>\n",
       "    </tr>\n",
       "    <tr>\n",
       "      <th>49</th>\n",
       "      <td>work clothes for women</td>\n",
       "      <td>0.000000</td>\n",
       "      <td>0.000000</td>\n",
       "      <td>0.000000</td>\n",
       "    </tr>\n",
       "    <tr>\n",
       "      <th>6</th>\n",
       "      <td>canon toner</td>\n",
       "      <td>0.000000</td>\n",
       "      <td>18.174237</td>\n",
       "      <td>18.174237</td>\n",
       "    </tr>\n",
       "    <tr>\n",
       "      <th>7</th>\n",
       "      <td>colemen tents</td>\n",
       "      <td>0.000000</td>\n",
       "      <td>0.000000</td>\n",
       "      <td>0.000000</td>\n",
       "    </tr>\n",
       "  </tbody>\n",
       "</table>\n",
       "</div>"
      ],
      "text/plain": [
       "                                                query  dcg_difference  \\\n",
       "22                   mens wide width basketball shoes       -1.333333   \n",
       "39                          sambucus elderberry syrup       -1.326702   \n",
       "40  smart watch for men women,fitness tracker with...       -1.253213   \n",
       "38                                   reflex gun sight       -0.607519   \n",
       "48                                women thermal coats        0.000000   \n",
       "25                              motorrad rallye glove        0.000000   \n",
       "27      new oxo good grips 12 piece pop container set        0.000000   \n",
       "28              ninja turtle hoodie sweatshirt size 5        0.000000   \n",
       "29                                palladia book shelf        0.000000   \n",
       "30                                         party hats        0.000000   \n",
       "31                                    pearl hair band        0.000000   \n",
       "0   1 1/4 pop up bathroom sink drain without overflow        0.000000   \n",
       "23                                    metal keaf tray        0.000000   \n",
       "37                                       rasberry pi4        0.000000   \n",
       "41                                some will not sleep        0.000000   \n",
       "42                       sticky notes holder for desk        0.000000   \n",
       "43                                    tactical gloves        0.000000   \n",
       "46   waterproof iphone 6 case for underwatee pictures        0.000000   \n",
       "47                             waverly shower curtain        0.000000   \n",
       "33                              pet rainproof clothes        0.000000   \n",
       "36                 please do not annoy the writer mug        0.000000   \n",
       "24                                        motor mount        0.000000   \n",
       "49                             work clothes for women        0.000000   \n",
       "6                                         canon toner        0.000000   \n",
       "7                                       colemen tents        0.000000   \n",
       "\n",
       "    random_forest dcg  linear_model dcg  \n",
       "22           0.000000          1.333333  \n",
       "39           3.147535          4.474237  \n",
       "40           5.574300          6.827513  \n",
       "38          11.332619         11.940138  \n",
       "48           0.000000          0.000000  \n",
       "25          11.793836         11.793836  \n",
       "27           6.608584          6.608584  \n",
       "28           2.712414          2.712414  \n",
       "29           0.000000          0.000000  \n",
       "30           6.878966          6.878966  \n",
       "31           2.000000          2.000000  \n",
       "0            1.722706          1.722706  \n",
       "23           4.000000          4.000000  \n",
       "37           0.666667          0.666667  \n",
       "41           2.000000          2.000000  \n",
       "42           1.547411          1.547411  \n",
       "43           8.523719          8.523719  \n",
       "46           1.833333          1.833333  \n",
       "47          13.218665         13.218665  \n",
       "33           8.926826          8.926826  \n",
       "36          18.174237         18.174237  \n",
       "24           0.000000          0.000000  \n",
       "49           0.000000          0.000000  \n",
       "6           18.174237         18.174237  \n",
       "7            0.000000          0.000000  "
      ]
     },
     "execution_count": 328,
     "metadata": {},
     "output_type": "execute_result"
    }
   ],
   "source": [
    "df_metrics_merged[['query', 'dcg_difference','random_forest dcg','linear_model dcg']].sort_values(by='dcg_difference').head(25)"
   ]
  },
  {
   "cell_type": "markdown",
   "id": "d28731c5-9dfe-4986-9d8d-8ebfcc1d00e5",
   "metadata": {},
   "source": [
    "### Queries where the Random Forest model scores better"
   ]
  },
  {
   "cell_type": "code",
   "execution_count": 329,
   "id": "37d45c2f-93d9-472e-8951-857f81687f2f",
   "metadata": {},
   "outputs": [
    {
     "data": {
      "text/html": [
       "<div>\n",
       "<style scoped>\n",
       "    .dataframe tbody tr th:only-of-type {\n",
       "        vertical-align: middle;\n",
       "    }\n",
       "\n",
       "    .dataframe tbody tr th {\n",
       "        vertical-align: top;\n",
       "    }\n",
       "\n",
       "    .dataframe thead th {\n",
       "        text-align: right;\n",
       "    }\n",
       "</style>\n",
       "<table border=\"1\" class=\"dataframe\">\n",
       "  <thead>\n",
       "    <tr style=\"text-align: right;\">\n",
       "      <th></th>\n",
       "      <th>query</th>\n",
       "      <th>dcg_difference</th>\n",
       "      <th>random_forest dcg</th>\n",
       "      <th>linear_model dcg</th>\n",
       "    </tr>\n",
       "  </thead>\n",
       "  <tbody>\n",
       "    <tr>\n",
       "      <th>14</th>\n",
       "      <td>hidizs</td>\n",
       "      <td>7.927812</td>\n",
       "      <td>11.927812</td>\n",
       "      <td>4.000000</td>\n",
       "    </tr>\n",
       "    <tr>\n",
       "      <th>26</th>\n",
       "      <td>neon hoops</td>\n",
       "      <td>3.751452</td>\n",
       "      <td>12.904120</td>\n",
       "      <td>9.152668</td>\n",
       "    </tr>\n",
       "    <tr>\n",
       "      <th>16</th>\n",
       "      <td>karaoke machine for adults</td>\n",
       "      <td>1.090262</td>\n",
       "      <td>10.884098</td>\n",
       "      <td>9.793836</td>\n",
       "    </tr>\n",
       "    <tr>\n",
       "      <th>35</th>\n",
       "      <td>plastic, satire</td>\n",
       "      <td>0.470193</td>\n",
       "      <td>10.700079</td>\n",
       "      <td>10.229886</td>\n",
       "    </tr>\n",
       "    <tr>\n",
       "      <th>34</th>\n",
       "      <td>plastic bottle cutter</td>\n",
       "      <td>0.246769</td>\n",
       "      <td>15.364967</td>\n",
       "      <td>15.118198</td>\n",
       "    </tr>\n",
       "    <tr>\n",
       "      <th>44</th>\n",
       "      <td>thigh knife holster women</td>\n",
       "      <td>0.180322</td>\n",
       "      <td>2.809271</td>\n",
       "      <td>2.628949</td>\n",
       "    </tr>\n",
       "    <tr>\n",
       "      <th>20</th>\n",
       "      <td>mary jane shoes women</td>\n",
       "      <td>0.091495</td>\n",
       "      <td>6.686688</td>\n",
       "      <td>6.595193</td>\n",
       "    </tr>\n",
       "    <tr>\n",
       "      <th>45</th>\n",
       "      <td>vegan instant pot cookbook</td>\n",
       "      <td>0.071474</td>\n",
       "      <td>14.208707</td>\n",
       "      <td>14.137233</td>\n",
       "    </tr>\n",
       "    <tr>\n",
       "      <th>32</th>\n",
       "      <td>pens paper mate</td>\n",
       "      <td>0.057740</td>\n",
       "      <td>1.261860</td>\n",
       "      <td>1.204120</td>\n",
       "    </tr>\n",
       "    <tr>\n",
       "      <th>10</th>\n",
       "      <td>death in the tall grass</td>\n",
       "      <td>0.047861</td>\n",
       "      <td>1.204120</td>\n",
       "      <td>1.156259</td>\n",
       "    </tr>\n",
       "    <tr>\n",
       "      <th>0</th>\n",
       "      <td>1 1/4 pop up bathroom sink drain without overflow</td>\n",
       "      <td>0.000000</td>\n",
       "      <td>1.722706</td>\n",
       "      <td>1.722706</td>\n",
       "    </tr>\n",
       "    <tr>\n",
       "      <th>28</th>\n",
       "      <td>ninja turtle hoodie sweatshirt size 5</td>\n",
       "      <td>0.000000</td>\n",
       "      <td>2.712414</td>\n",
       "      <td>2.712414</td>\n",
       "    </tr>\n",
       "    <tr>\n",
       "      <th>29</th>\n",
       "      <td>palladia book shelf</td>\n",
       "      <td>0.000000</td>\n",
       "      <td>0.000000</td>\n",
       "      <td>0.000000</td>\n",
       "    </tr>\n",
       "    <tr>\n",
       "      <th>30</th>\n",
       "      <td>party hats</td>\n",
       "      <td>0.000000</td>\n",
       "      <td>6.878966</td>\n",
       "      <td>6.878966</td>\n",
       "    </tr>\n",
       "    <tr>\n",
       "      <th>31</th>\n",
       "      <td>pearl hair band</td>\n",
       "      <td>0.000000</td>\n",
       "      <td>2.000000</td>\n",
       "      <td>2.000000</td>\n",
       "    </tr>\n",
       "    <tr>\n",
       "      <th>33</th>\n",
       "      <td>pet rainproof clothes</td>\n",
       "      <td>0.000000</td>\n",
       "      <td>8.926826</td>\n",
       "      <td>8.926826</td>\n",
       "    </tr>\n",
       "    <tr>\n",
       "      <th>36</th>\n",
       "      <td>please do not annoy the writer mug</td>\n",
       "      <td>0.000000</td>\n",
       "      <td>18.174237</td>\n",
       "      <td>18.174237</td>\n",
       "    </tr>\n",
       "    <tr>\n",
       "      <th>37</th>\n",
       "      <td>rasberry pi4</td>\n",
       "      <td>0.000000</td>\n",
       "      <td>0.666667</td>\n",
       "      <td>0.666667</td>\n",
       "    </tr>\n",
       "    <tr>\n",
       "      <th>41</th>\n",
       "      <td>some will not sleep</td>\n",
       "      <td>0.000000</td>\n",
       "      <td>2.000000</td>\n",
       "      <td>2.000000</td>\n",
       "    </tr>\n",
       "    <tr>\n",
       "      <th>42</th>\n",
       "      <td>sticky notes holder for desk</td>\n",
       "      <td>0.000000</td>\n",
       "      <td>1.547411</td>\n",
       "      <td>1.547411</td>\n",
       "    </tr>\n",
       "    <tr>\n",
       "      <th>43</th>\n",
       "      <td>tactical gloves</td>\n",
       "      <td>0.000000</td>\n",
       "      <td>8.523719</td>\n",
       "      <td>8.523719</td>\n",
       "    </tr>\n",
       "    <tr>\n",
       "      <th>46</th>\n",
       "      <td>waterproof iphone 6 case for underwatee pictures</td>\n",
       "      <td>0.000000</td>\n",
       "      <td>1.833333</td>\n",
       "      <td>1.833333</td>\n",
       "    </tr>\n",
       "    <tr>\n",
       "      <th>47</th>\n",
       "      <td>waverly shower curtain</td>\n",
       "      <td>0.000000</td>\n",
       "      <td>13.218665</td>\n",
       "      <td>13.218665</td>\n",
       "    </tr>\n",
       "    <tr>\n",
       "      <th>48</th>\n",
       "      <td>women thermal coats</td>\n",
       "      <td>0.000000</td>\n",
       "      <td>0.000000</td>\n",
       "      <td>0.000000</td>\n",
       "    </tr>\n",
       "    <tr>\n",
       "      <th>27</th>\n",
       "      <td>new oxo good grips 12 piece pop container set</td>\n",
       "      <td>0.000000</td>\n",
       "      <td>6.608584</td>\n",
       "      <td>6.608584</td>\n",
       "    </tr>\n",
       "  </tbody>\n",
       "</table>\n",
       "</div>"
      ],
      "text/plain": [
       "                                                query  dcg_difference  \\\n",
       "14                                             hidizs        7.927812   \n",
       "26                                         neon hoops        3.751452   \n",
       "16                         karaoke machine for adults        1.090262   \n",
       "35                                    plastic, satire        0.470193   \n",
       "34                              plastic bottle cutter        0.246769   \n",
       "44                          thigh knife holster women        0.180322   \n",
       "20                              mary jane shoes women        0.091495   \n",
       "45                         vegan instant pot cookbook        0.071474   \n",
       "32                                    pens paper mate        0.057740   \n",
       "10                            death in the tall grass        0.047861   \n",
       "0   1 1/4 pop up bathroom sink drain without overflow        0.000000   \n",
       "28              ninja turtle hoodie sweatshirt size 5        0.000000   \n",
       "29                                palladia book shelf        0.000000   \n",
       "30                                         party hats        0.000000   \n",
       "31                                    pearl hair band        0.000000   \n",
       "33                              pet rainproof clothes        0.000000   \n",
       "36                 please do not annoy the writer mug        0.000000   \n",
       "37                                       rasberry pi4        0.000000   \n",
       "41                                some will not sleep        0.000000   \n",
       "42                       sticky notes holder for desk        0.000000   \n",
       "43                                    tactical gloves        0.000000   \n",
       "46   waterproof iphone 6 case for underwatee pictures        0.000000   \n",
       "47                             waverly shower curtain        0.000000   \n",
       "48                                women thermal coats        0.000000   \n",
       "27      new oxo good grips 12 piece pop container set        0.000000   \n",
       "\n",
       "    random_forest dcg  linear_model dcg  \n",
       "14          11.927812          4.000000  \n",
       "26          12.904120          9.152668  \n",
       "16          10.884098          9.793836  \n",
       "35          10.700079         10.229886  \n",
       "34          15.364967         15.118198  \n",
       "44           2.809271          2.628949  \n",
       "20           6.686688          6.595193  \n",
       "45          14.208707         14.137233  \n",
       "32           1.261860          1.204120  \n",
       "10           1.204120          1.156259  \n",
       "0            1.722706          1.722706  \n",
       "28           2.712414          2.712414  \n",
       "29           0.000000          0.000000  \n",
       "30           6.878966          6.878966  \n",
       "31           2.000000          2.000000  \n",
       "33           8.926826          8.926826  \n",
       "36          18.174237         18.174237  \n",
       "37           0.666667          0.666667  \n",
       "41           2.000000          2.000000  \n",
       "42           1.547411          1.547411  \n",
       "43           8.523719          8.523719  \n",
       "46           1.833333          1.833333  \n",
       "47          13.218665         13.218665  \n",
       "48           0.000000          0.000000  \n",
       "27           6.608584          6.608584  "
      ]
     },
     "execution_count": 329,
     "metadata": {},
     "output_type": "execute_result"
    }
   ],
   "source": [
    "df_metrics_merged[['query', 'dcg_difference','random_forest dcg','linear_model dcg']].sort_values(by='dcg_difference', ascending=False).head(25)"
   ]
  },
  {
   "cell_type": "code",
   "execution_count": 330,
   "id": "e9fbf0f7-2807-49c8-b5a4-917e23fc95f4",
   "metadata": {},
   "outputs": [
    {
     "data": {
      "application/vnd.plotly.v1+json": {
       "config": {
        "plotlyServerURL": "https://plot.ly"
       },
       "data": [
        {
         "alignmentgroup": "True",
         "customdata": [
          [
           1.7227062322935722,
           0.04402283258477638,
           0.1,
           0.1,
           1.7227062322935722,
           0.04402283258477638,
           0.1,
           0.1,
           1.7227062322935722,
           0.0440228325847763,
           0.1,
           0.1
          ],
          [
           2.1505149978319906,
           0.0861885860248209,
           0.1,
           0.2,
           2.1505149978319906,
           0.0861885860248209,
           0.1,
           0.2,
           2.15051499783199,
           0.0861885860248209,
           0.1,
           0.2
          ],
          [
           1.8350497362273823,
           0.08032072913484654,
           0.2,
           0.2,
           1.8350497362273823,
           0.08032072913484654,
           0.2,
           0.2,
           1.8350497362273823,
           0.0803207291348465,
           0.2,
           0.2
          ],
          [
           5.7227062322935724,
           0.23430673110551667,
           0.2,
           0.2,
           5.7227062322935724,
           0.23430673110551667,
           0.2,
           0.2,
           6,
           0.245660065285172,
           0.2,
           0.2
          ],
          [
           6.7018226078398415,
           0.4885644593952938,
           0.2,
           0.3,
           6.7018226078398415,
           0.4885644593952938,
           0.2,
           0.3,
           6.7018226078398415,
           0.4885644593952938,
           0.2,
           0.3
          ],
          [
           8.933113502154406,
           0.21967383024888934,
           0.5,
           0.5,
           8.933113502154406,
           0.21967383024888934,
           0.5,
           0.5,
           8.933113502154406,
           0.2196738302488893,
           0.5,
           0.5
          ],
          [
           18.17423735235338,
           0.7441140557478906,
           1,
           1,
           18.17423735235338,
           0.7441140557478906,
           1,
           1,
           18.17423735235338,
           0.7441140557478906,
           1,
           1
          ],
          [
           0,
           0,
           0,
           0,
           0,
           0,
           0,
           0,
           0,
           0,
           0,
           0
          ],
          [
           0,
           0,
           0,
           0,
           0,
           0,
           0,
           0,
           0,
           0,
           0,
           0
          ],
          [
           10.827513300283044,
           0.49147827996815846,
           0.5,
           0.5,
           10.827513300283044,
           0.49147827996815846,
           0.5,
           0.5,
           10.827513300283044,
           0.4914782799681584,
           0.5,
           0.5
          ],
          [
           1.1562593052715515,
           0.07178666816243652,
           0.1,
           0.1,
           1.2041199826559248,
           0.07475811111624223,
           0.1,
           0.1,
           1.1562593052715515,
           0.0717866681624365,
           0.1,
           0.1
          ],
          [
           4,
           0.1671214244214466,
           0.1,
           0.1,
           4,
           0.1671214244214466,
           0.1,
           0.1,
           4,
           0.1671214244214466,
           0.1,
           0.1
          ],
          [
           4.7581620817654215,
           0.26853344652975714,
           0.3,
           0.3,
           4.7581620817654215,
           0.26853344652975714,
           0.3,
           0.3,
           4.7581620817654215,
           0.2685334465297571,
           0.3,
           0.3
          ],
          [
           3.4285261738095816,
           0.11567557155327671,
           0.2,
           0.3,
           3.4285261738095816,
           0.11567557155327671,
           0.2,
           0.3,
           3.4285261738095816,
           0.1156755715532767,
           0.2,
           0.3
          ],
          [
           4,
           0.1744989272174902,
           0.1,
           0.1,
           11.927812105773981,
           0.520347604127338,
           0.7,
           0.7,
           11.92781210577398,
           0.520347604127338,
           0.7,
           0.7
          ],
          [
           11.154058548610953,
           0.5582888434590495,
           0.7,
           0.7,
           11.154058548610953,
           0.5582888434590495,
           0.7,
           0.7,
           11.154058548610951,
           0.5582888434590495,
           0.7,
           0.7
          ],
          [
           9.793836475517569,
           0.32239350896203994,
           0.4,
           0.4,
           10.884098302213307,
           0.3582827477577313,
           0.5,
           0.5,
           10.884098302213308,
           0.3582827477577313,
           0.5,
           0.5
          ],
          [
           12.933113502154406,
           0.6871519554480504,
           0.6,
           0.6,
           12.933113502154406,
           0.6871519554480504,
           0.6,
           0.6,
           12.933113502154406,
           0.6871519554480504,
           0.6,
           0.6
          ],
          [
           0.6309297535714575,
           0.036395853546675884,
           0.1,
           0.1,
           0.6309297535714575,
           0.036395853546675884,
           0.1,
           0.1,
           0.6309297535714575,
           0.0363958535466758,
           0.1,
           0.1
          ],
          [
           18.17423735235338,
           0.7920648014488558,
           1,
           1,
           18.17423735235338,
           0.7920648014488558,
           1,
           1,
           18.17423735235338,
           0.7920648014488558,
           1,
           1
          ],
          [
           6.5951928404762485,
           0.2944614055768496,
           0.3,
           0.3,
           6.686688255575004,
           0.2985464822661115,
           0.3,
           0.3,
           6.686688255575004,
           0.2985464822661115,
           0.3,
           0.3
          ],
          [
           6.861353116146786,
           0.18833773921584998,
           0.3,
           0.3,
           6.861353116146786,
           0.18833773921584998,
           0.3,
           0.3,
           7.375765605797046,
           0.2024578819464626,
           0.4,
           0.4
          ],
          [
           1.3333333333333333,
           0.069731285008802,
           0.1,
           0.1,
           0,
           0,
           0,
           0,
           0,
           0,
           0,
           0
          ],
          [
           4,
           0.38054453117082643,
           0.1,
           0.1,
           4,
           0.38054453117082643,
           0.1,
           0.1,
           4,
           0.3805445311708264,
           0.1,
           0.1
          ],
          [
           0,
           0,
           0,
           0,
           0,
           0,
           0,
           0,
           0,
           0,
           0,
           0
          ],
          [
           11.793836475517569,
           0.48287910642304827,
           0.5,
           0.5,
           11.793836475517569,
           0.48287910642304827,
           0.5,
           0.5,
           11.793836475517567,
           0.4828791064230482,
           0.5,
           0.5
          ],
          [
           9.152667745373844,
           0.4187522100644103,
           0.4,
           0.4,
           12.904119891121642,
           0.5903883844220756,
           0.7,
           0.7,
           12.904119891121642,
           0.5903883844220756,
           0.7,
           0.7
          ],
          [
           6.608583559213255,
           0.27057751143314046,
           0.4,
           0.4,
           6.608583559213255,
           0.27057751143314046,
           0.4,
           0.4,
           6.608583559213255,
           0.2705775114331404,
           0.4,
           0.4
          ],
          [
           2.7124143742160443,
           0.19803559031536722,
           0.2,
           0.2,
           2.7124143742160443,
           0.19803559031536722,
           0.2,
           0.2,
           2.7124143742160443,
           0.1980355903153672,
           0.2,
           0.2
          ],
          [
           0,
           0,
           0,
           0,
           0,
           0,
           0,
           0,
           0,
           0,
           0,
           0
          ],
          [
           6.878965537565124,
           0.29188085807238295,
           0.3,
           0.3,
           6.878965537565124,
           0.29188085807238295,
           0.3,
           0.3,
           6,
           0.2545855388969112,
           0.2,
           0.2
          ],
          [
           2,
           0.08530460913930238,
           0.1,
           0.1,
           2,
           0.08530460913930238,
           0.1,
           0.1,
           2,
           0.0853046091393023,
           0.1,
           0.1
          ],
          [
           1.2041199826559248,
           0.04930069892507245,
           0.1,
           0.1,
           1.261859507142915,
           0.051664748150907255,
           0.1,
           0.1,
           2,
           0.0818866884283906,
           0.1,
           0.1
          ],
          [
           8.926826214949497,
           0.3869835109009092,
           0.4,
           0.4,
           8.926826214949497,
           0.3869835109009092,
           0.4,
           0.4,
           8.926826214949497,
           0.3869835109009092,
           0.4,
           0.4
          ],
          [
           15.118197786726476,
           0.691686720364392,
           0.8,
           0.8,
           15.364966616272302,
           0.7029768704738563,
           0.8,
           0.8,
           15.364966616272302,
           0.7029768704738563,
           0.8,
           0.8
          ],
          [
           10.229886263822703,
           0.4928814930244742,
           0.5,
           0.6,
           10.70007897431201,
           0.5155356339580601,
           0.5,
           0.5,
           10.229886263822705,
           0.4928814930244742,
           0.5,
           0.6
          ],
          [
           18.17423735235338,
           0.4928841902434815,
           1,
           1,
           18.17423735235338,
           0.4928841902434815,
           1,
           1,
           18.17423735235338,
           0.4928841902434815,
           1,
           1
          ],
          [
           0.6666666666666666,
           0.04565921470224593,
           0.1,
           0.1,
           0.6666666666666666,
           0.04565921470224593,
           0.1,
           0.1,
           0.6666666666666666,
           0.0456592147022459,
           0.1,
           0.1
          ],
          [
           11.940137867840214,
           0.48886917468793034,
           0.6,
           0.6,
           11.33261926529773,
           0.4639953314275065,
           0.6,
           0.6,
           10.17635996002618,
           0.416654208690907,
           0.5,
           0.5
          ],
          [
           4.474237443887664,
           0.18984602513414658,
           0.3,
           0.3,
           3.147534980725661,
           0.1335528148774869,
           0.2,
           0.2,
           3.0560395656269055,
           0.1296705799509013,
           0.2,
           0.2
          ],
          [
           6.827513300283043,
           0.3393577401752507,
           0.4,
           0.4,
           5.5742999686982175,
           0.2770674705764361,
           0.4,
           0.4,
           5.5742999686982175,
           0.2770674705764361,
           0.4,
           0.4
          ],
          [
           2,
           0.18626227341797114,
           0.1,
           0.1,
           2,
           0.18626227341797114,
           0.1,
           0.1,
           2,
           0.1862622734179711,
           0.1,
           0.1
          ],
          [
           1.5474112289381665,
           0.0646513921864719,
           0.1,
           0.1,
           1.5474112289381665,
           0.0646513921864719,
           0.1,
           0.1,
           1.5474112289381663,
           0.0646513921864719,
           0.1,
           0.1
          ],
          [
           8.523719014285831,
           0.4187734452610907,
           0.3,
           0.3,
           8.523719014285831,
           0.4187734452610907,
           0.3,
           0.3,
           8.523719014285831,
           0.4187734452610907,
           0.3,
           0.3
          ],
          [
           2.6289487310880135,
           0.13067043024019243,
           0.2,
           0.2,
           2.8092707360810816,
           0.13963323491400842,
           0.2,
           0.2,
           2.6289487310880135,
           0.1306704302401924,
           0.2,
           0.2
          ],
          [
           14.13723348481033,
           0.6822664430151961,
           0.7,
           0.7,
           14.20870731100075,
           0.6857157878404067,
           0.7,
           0.7,
           14.20870731100075,
           0.6857157878404067,
           0.7,
           0.7
          ],
          [
           1.8333333333333333,
           0.1525410675894521,
           0.1,
           0.2,
           1.8333333333333333,
           0.1525410675894521,
           0.1,
           0.2,
           1.8333333333333333,
           0.1525410675894521,
           0.1,
           0.2
          ],
          [
           13.218665223949657,
           0.5412163603163843,
           0.6,
           0.6,
           13.218665223949657,
           0.5412163603163843,
           0.6,
           0.6,
           13.218665223949657,
           0.5412163603163843,
           0.6,
           0.6
          ],
          [
           0,
           0,
           0,
           0,
           0,
           0,
           0,
           0,
           0,
           0,
           0,
           0
          ],
          [
           0,
           0,
           0,
           0,
           0,
           0,
           0,
           0,
           0,
           0,
           0,
           0
          ]
         ],
         "hovertemplate": "dcg_difference=%{x}<br>query=%{y}<br>linear_model dcg=%{customdata[0]}<br>linear_model ndcg=%{customdata[1]}<br>linear_model prec@10=%{customdata[2]}<br>linear_model ratio_of_ratings=%{customdata[3]}<br>random_forest dcg=%{customdata[4]}<br>random_forest ndcg=%{customdata[5]}<br>random_forest prec@10=%{customdata[6]}<br>random_forest ratio_of_ratings=%{customdata[7]}<br>dcg=%{customdata[8]}<br>ndcg=%{customdata[9]}<br>prec@10=%{customdata[10]}<br>ratio_of_ratings=%{customdata[11]}<extra></extra>",
         "legendgroup": "",
         "marker": {
          "color": "#636efa",
          "pattern": {
           "shape": ""
          }
         },
         "name": "",
         "offsetgroup": "",
         "orientation": "h",
         "showlegend": false,
         "textposition": "auto",
         "type": "bar",
         "x": [
          0,
          0,
          0,
          0,
          0,
          0,
          0,
          0,
          0,
          0,
          0.047860677384373274,
          0,
          0,
          0,
          7.927812105773981,
          0,
          1.0902618266957376,
          0,
          0,
          0,
          0.09149541509875547,
          0,
          -1.3333333333333333,
          0,
          0,
          0,
          3.7514521457477983,
          0,
          0,
          0,
          0,
          0,
          0.05773952448699027,
          0,
          0.24676882954582524,
          0.47019271048930733,
          0,
          0,
          -0.6075186025424841,
          -1.326702463162003,
          -1.253213331584825,
          0,
          0,
          0,
          0.18032200499306805,
          0.07147382619041842,
          0,
          0,
          0,
          0
         ],
         "xaxis": "x",
         "y": [
          "1 1/4 pop up bathroom sink drain without overflow",
          "1 ‘ velcro without adhesive for sewing",
          "10x6 plastic register cover without vent",
          "barn pictures for walls",
          "black bear onesie",
          "bloch ballet shoes women",
          "canon toner",
          "colemen tents",
          "colorful decorations for party",
          "cutting board stove cover",
          "death in the tall grass",
          "flower lip stick",
          "fork spoon knife combo",
          "franmar soy gel paint remover",
          "hidizs",
          "honeywell glass break sensor",
          "karaoke machine for adults",
          "kingston 120gb",
          "laptop dell core i7 touch screen with terabytes",
          "lenox lamps",
          "mary jane shoes women",
          "mens white graphic t-shirts",
          "mens wide width basketball shoes",
          "metal keaf tray",
          "motor mount",
          "motorrad rallye glove",
          "neon hoops",
          "new oxo good grips 12 piece pop container set",
          "ninja turtle hoodie sweatshirt size 5",
          "palladia book shelf",
          "party hats",
          "pearl hair band",
          "pens paper mate",
          "pet rainproof clothes",
          "plastic bottle cutter",
          "plastic, satire",
          "please do not annoy the writer mug",
          "rasberry pi4",
          "reflex gun sight",
          "sambucus elderberry syrup",
          "smart watch for men women,fitness tracker with 1.54",
          "some will not sleep",
          "sticky notes holder for desk",
          "tactical gloves",
          "thigh knife holster women",
          "vegan instant pot cookbook",
          "waterproof iphone 6 case for underwatee pictures",
          "waverly shower curtain",
          "women thermal coats",
          "work clothes for women"
         ],
         "yaxis": "y"
        }
       ],
       "layout": {
        "autosize": true,
        "barmode": "relative",
        "legend": {
         "tracegroupgap": 0
        },
        "template": {
         "data": {
          "bar": [
           {
            "error_x": {
             "color": "#2a3f5f"
            },
            "error_y": {
             "color": "#2a3f5f"
            },
            "marker": {
             "line": {
              "color": "#E5ECF6",
              "width": 0.5
             },
             "pattern": {
              "fillmode": "overlay",
              "size": 10,
              "solidity": 0.2
             }
            },
            "type": "bar"
           }
          ],
          "barpolar": [
           {
            "marker": {
             "line": {
              "color": "#E5ECF6",
              "width": 0.5
             },
             "pattern": {
              "fillmode": "overlay",
              "size": 10,
              "solidity": 0.2
             }
            },
            "type": "barpolar"
           }
          ],
          "carpet": [
           {
            "aaxis": {
             "endlinecolor": "#2a3f5f",
             "gridcolor": "white",
             "linecolor": "white",
             "minorgridcolor": "white",
             "startlinecolor": "#2a3f5f"
            },
            "baxis": {
             "endlinecolor": "#2a3f5f",
             "gridcolor": "white",
             "linecolor": "white",
             "minorgridcolor": "white",
             "startlinecolor": "#2a3f5f"
            },
            "type": "carpet"
           }
          ],
          "choropleth": [
           {
            "colorbar": {
             "outlinewidth": 0,
             "ticks": ""
            },
            "type": "choropleth"
           }
          ],
          "contour": [
           {
            "colorbar": {
             "outlinewidth": 0,
             "ticks": ""
            },
            "colorscale": [
             [
              0,
              "#0d0887"
             ],
             [
              0.1111111111111111,
              "#46039f"
             ],
             [
              0.2222222222222222,
              "#7201a8"
             ],
             [
              0.3333333333333333,
              "#9c179e"
             ],
             [
              0.4444444444444444,
              "#bd3786"
             ],
             [
              0.5555555555555556,
              "#d8576b"
             ],
             [
              0.6666666666666666,
              "#ed7953"
             ],
             [
              0.7777777777777778,
              "#fb9f3a"
             ],
             [
              0.8888888888888888,
              "#fdca26"
             ],
             [
              1,
              "#f0f921"
             ]
            ],
            "type": "contour"
           }
          ],
          "contourcarpet": [
           {
            "colorbar": {
             "outlinewidth": 0,
             "ticks": ""
            },
            "type": "contourcarpet"
           }
          ],
          "heatmap": [
           {
            "colorbar": {
             "outlinewidth": 0,
             "ticks": ""
            },
            "colorscale": [
             [
              0,
              "#0d0887"
             ],
             [
              0.1111111111111111,
              "#46039f"
             ],
             [
              0.2222222222222222,
              "#7201a8"
             ],
             [
              0.3333333333333333,
              "#9c179e"
             ],
             [
              0.4444444444444444,
              "#bd3786"
             ],
             [
              0.5555555555555556,
              "#d8576b"
             ],
             [
              0.6666666666666666,
              "#ed7953"
             ],
             [
              0.7777777777777778,
              "#fb9f3a"
             ],
             [
              0.8888888888888888,
              "#fdca26"
             ],
             [
              1,
              "#f0f921"
             ]
            ],
            "type": "heatmap"
           }
          ],
          "heatmapgl": [
           {
            "colorbar": {
             "outlinewidth": 0,
             "ticks": ""
            },
            "colorscale": [
             [
              0,
              "#0d0887"
             ],
             [
              0.1111111111111111,
              "#46039f"
             ],
             [
              0.2222222222222222,
              "#7201a8"
             ],
             [
              0.3333333333333333,
              "#9c179e"
             ],
             [
              0.4444444444444444,
              "#bd3786"
             ],
             [
              0.5555555555555556,
              "#d8576b"
             ],
             [
              0.6666666666666666,
              "#ed7953"
             ],
             [
              0.7777777777777778,
              "#fb9f3a"
             ],
             [
              0.8888888888888888,
              "#fdca26"
             ],
             [
              1,
              "#f0f921"
             ]
            ],
            "type": "heatmapgl"
           }
          ],
          "histogram": [
           {
            "marker": {
             "pattern": {
              "fillmode": "overlay",
              "size": 10,
              "solidity": 0.2
             }
            },
            "type": "histogram"
           }
          ],
          "histogram2d": [
           {
            "colorbar": {
             "outlinewidth": 0,
             "ticks": ""
            },
            "colorscale": [
             [
              0,
              "#0d0887"
             ],
             [
              0.1111111111111111,
              "#46039f"
             ],
             [
              0.2222222222222222,
              "#7201a8"
             ],
             [
              0.3333333333333333,
              "#9c179e"
             ],
             [
              0.4444444444444444,
              "#bd3786"
             ],
             [
              0.5555555555555556,
              "#d8576b"
             ],
             [
              0.6666666666666666,
              "#ed7953"
             ],
             [
              0.7777777777777778,
              "#fb9f3a"
             ],
             [
              0.8888888888888888,
              "#fdca26"
             ],
             [
              1,
              "#f0f921"
             ]
            ],
            "type": "histogram2d"
           }
          ],
          "histogram2dcontour": [
           {
            "colorbar": {
             "outlinewidth": 0,
             "ticks": ""
            },
            "colorscale": [
             [
              0,
              "#0d0887"
             ],
             [
              0.1111111111111111,
              "#46039f"
             ],
             [
              0.2222222222222222,
              "#7201a8"
             ],
             [
              0.3333333333333333,
              "#9c179e"
             ],
             [
              0.4444444444444444,
              "#bd3786"
             ],
             [
              0.5555555555555556,
              "#d8576b"
             ],
             [
              0.6666666666666666,
              "#ed7953"
             ],
             [
              0.7777777777777778,
              "#fb9f3a"
             ],
             [
              0.8888888888888888,
              "#fdca26"
             ],
             [
              1,
              "#f0f921"
             ]
            ],
            "type": "histogram2dcontour"
           }
          ],
          "mesh3d": [
           {
            "colorbar": {
             "outlinewidth": 0,
             "ticks": ""
            },
            "type": "mesh3d"
           }
          ],
          "parcoords": [
           {
            "line": {
             "colorbar": {
              "outlinewidth": 0,
              "ticks": ""
             }
            },
            "type": "parcoords"
           }
          ],
          "pie": [
           {
            "automargin": true,
            "type": "pie"
           }
          ],
          "scatter": [
           {
            "fillpattern": {
             "fillmode": "overlay",
             "size": 10,
             "solidity": 0.2
            },
            "type": "scatter"
           }
          ],
          "scatter3d": [
           {
            "line": {
             "colorbar": {
              "outlinewidth": 0,
              "ticks": ""
             }
            },
            "marker": {
             "colorbar": {
              "outlinewidth": 0,
              "ticks": ""
             }
            },
            "type": "scatter3d"
           }
          ],
          "scattercarpet": [
           {
            "marker": {
             "colorbar": {
              "outlinewidth": 0,
              "ticks": ""
             }
            },
            "type": "scattercarpet"
           }
          ],
          "scattergeo": [
           {
            "marker": {
             "colorbar": {
              "outlinewidth": 0,
              "ticks": ""
             }
            },
            "type": "scattergeo"
           }
          ],
          "scattergl": [
           {
            "marker": {
             "colorbar": {
              "outlinewidth": 0,
              "ticks": ""
             }
            },
            "type": "scattergl"
           }
          ],
          "scattermapbox": [
           {
            "marker": {
             "colorbar": {
              "outlinewidth": 0,
              "ticks": ""
             }
            },
            "type": "scattermapbox"
           }
          ],
          "scatterpolar": [
           {
            "marker": {
             "colorbar": {
              "outlinewidth": 0,
              "ticks": ""
             }
            },
            "type": "scatterpolar"
           }
          ],
          "scatterpolargl": [
           {
            "marker": {
             "colorbar": {
              "outlinewidth": 0,
              "ticks": ""
             }
            },
            "type": "scatterpolargl"
           }
          ],
          "scatterternary": [
           {
            "marker": {
             "colorbar": {
              "outlinewidth": 0,
              "ticks": ""
             }
            },
            "type": "scatterternary"
           }
          ],
          "surface": [
           {
            "colorbar": {
             "outlinewidth": 0,
             "ticks": ""
            },
            "colorscale": [
             [
              0,
              "#0d0887"
             ],
             [
              0.1111111111111111,
              "#46039f"
             ],
             [
              0.2222222222222222,
              "#7201a8"
             ],
             [
              0.3333333333333333,
              "#9c179e"
             ],
             [
              0.4444444444444444,
              "#bd3786"
             ],
             [
              0.5555555555555556,
              "#d8576b"
             ],
             [
              0.6666666666666666,
              "#ed7953"
             ],
             [
              0.7777777777777778,
              "#fb9f3a"
             ],
             [
              0.8888888888888888,
              "#fdca26"
             ],
             [
              1,
              "#f0f921"
             ]
            ],
            "type": "surface"
           }
          ],
          "table": [
           {
            "cells": {
             "fill": {
              "color": "#EBF0F8"
             },
             "line": {
              "color": "white"
             }
            },
            "header": {
             "fill": {
              "color": "#C8D4E3"
             },
             "line": {
              "color": "white"
             }
            },
            "type": "table"
           }
          ]
         },
         "layout": {
          "annotationdefaults": {
           "arrowcolor": "#2a3f5f",
           "arrowhead": 0,
           "arrowwidth": 1
          },
          "autotypenumbers": "strict",
          "coloraxis": {
           "colorbar": {
            "outlinewidth": 0,
            "ticks": ""
           }
          },
          "colorscale": {
           "diverging": [
            [
             0,
             "#8e0152"
            ],
            [
             0.1,
             "#c51b7d"
            ],
            [
             0.2,
             "#de77ae"
            ],
            [
             0.3,
             "#f1b6da"
            ],
            [
             0.4,
             "#fde0ef"
            ],
            [
             0.5,
             "#f7f7f7"
            ],
            [
             0.6,
             "#e6f5d0"
            ],
            [
             0.7,
             "#b8e186"
            ],
            [
             0.8,
             "#7fbc41"
            ],
            [
             0.9,
             "#4d9221"
            ],
            [
             1,
             "#276419"
            ]
           ],
           "sequential": [
            [
             0,
             "#0d0887"
            ],
            [
             0.1111111111111111,
             "#46039f"
            ],
            [
             0.2222222222222222,
             "#7201a8"
            ],
            [
             0.3333333333333333,
             "#9c179e"
            ],
            [
             0.4444444444444444,
             "#bd3786"
            ],
            [
             0.5555555555555556,
             "#d8576b"
            ],
            [
             0.6666666666666666,
             "#ed7953"
            ],
            [
             0.7777777777777778,
             "#fb9f3a"
            ],
            [
             0.8888888888888888,
             "#fdca26"
            ],
            [
             1,
             "#f0f921"
            ]
           ],
           "sequentialminus": [
            [
             0,
             "#0d0887"
            ],
            [
             0.1111111111111111,
             "#46039f"
            ],
            [
             0.2222222222222222,
             "#7201a8"
            ],
            [
             0.3333333333333333,
             "#9c179e"
            ],
            [
             0.4444444444444444,
             "#bd3786"
            ],
            [
             0.5555555555555556,
             "#d8576b"
            ],
            [
             0.6666666666666666,
             "#ed7953"
            ],
            [
             0.7777777777777778,
             "#fb9f3a"
            ],
            [
             0.8888888888888888,
             "#fdca26"
            ],
            [
             1,
             "#f0f921"
            ]
           ]
          },
          "colorway": [
           "#636efa",
           "#EF553B",
           "#00cc96",
           "#ab63fa",
           "#FFA15A",
           "#19d3f3",
           "#FF6692",
           "#B6E880",
           "#FF97FF",
           "#FECB52"
          ],
          "font": {
           "color": "#2a3f5f"
          },
          "geo": {
           "bgcolor": "white",
           "lakecolor": "white",
           "landcolor": "#E5ECF6",
           "showlakes": true,
           "showland": true,
           "subunitcolor": "white"
          },
          "hoverlabel": {
           "align": "left"
          },
          "hovermode": "closest",
          "mapbox": {
           "style": "light"
          },
          "paper_bgcolor": "white",
          "plot_bgcolor": "#E5ECF6",
          "polar": {
           "angularaxis": {
            "gridcolor": "white",
            "linecolor": "white",
            "ticks": ""
           },
           "bgcolor": "#E5ECF6",
           "radialaxis": {
            "gridcolor": "white",
            "linecolor": "white",
            "ticks": ""
           }
          },
          "scene": {
           "xaxis": {
            "backgroundcolor": "#E5ECF6",
            "gridcolor": "white",
            "gridwidth": 2,
            "linecolor": "white",
            "showbackground": true,
            "ticks": "",
            "zerolinecolor": "white"
           },
           "yaxis": {
            "backgroundcolor": "#E5ECF6",
            "gridcolor": "white",
            "gridwidth": 2,
            "linecolor": "white",
            "showbackground": true,
            "ticks": "",
            "zerolinecolor": "white"
           },
           "zaxis": {
            "backgroundcolor": "#E5ECF6",
            "gridcolor": "white",
            "gridwidth": 2,
            "linecolor": "white",
            "showbackground": true,
            "ticks": "",
            "zerolinecolor": "white"
           }
          },
          "shapedefaults": {
           "line": {
            "color": "#2a3f5f"
           }
          },
          "ternary": {
           "aaxis": {
            "gridcolor": "white",
            "linecolor": "white",
            "ticks": ""
           },
           "baxis": {
            "gridcolor": "white",
            "linecolor": "white",
            "ticks": ""
           },
           "bgcolor": "#E5ECF6",
           "caxis": {
            "gridcolor": "white",
            "linecolor": "white",
            "ticks": ""
           }
          },
          "title": {
           "x": 0.05
          },
          "xaxis": {
           "automargin": true,
           "gridcolor": "white",
           "linecolor": "white",
           "ticks": "",
           "title": {
            "standoff": 15
           },
           "zerolinecolor": "white",
           "zerolinewidth": 2
          },
          "yaxis": {
           "automargin": true,
           "gridcolor": "white",
           "linecolor": "white",
           "ticks": "",
           "title": {
            "standoff": 15
           },
           "zerolinecolor": "white",
           "zerolinewidth": 2
          }
         }
        },
        "title": {
         "text": "DCG Difference Linear Model and Random Forest Model"
        },
        "xaxis": {
         "anchor": "y",
         "autorange": true,
         "domain": [
          0,
          1
         ],
         "range": [
          -1.8478414132837395,
          8.442320185724387
         ],
         "title": {
          "text": "dcg_difference"
         },
         "type": "linear"
        },
        "yaxis": {
         "anchor": "x",
         "autorange": true,
         "domain": [
          0,
          1
         ],
         "range": [
          -0.5,
          49.5
         ],
         "title": {
          "text": "query"
         },
         "type": "category"
        }
       }
      },
      "image/png": "[encoded data removed]",
      "text/html": [
       "<div>                            <div id=\"e8baf650-47d7-438f-9986-d18f798fa97f\" class=\"plotly-graph-div\" style=\"height:1000px; width:100%;\"></div>            <script type=\"text/javascript\">                require([\"plotly\"], function(Plotly) {                    window.PLOTLYENV=window.PLOTLYENV || {};                                    if (document.getElementById(\"e8baf650-47d7-438f-9986-d18f798fa97f\")) {                    Plotly.newPlot(                        \"e8baf650-47d7-438f-9986-d18f798fa97f\",                        [{\"alignmentgroup\":\"True\",\"customdata\":[[1.7227062322935722,0.04402283258477638,0.1,0.1,1.7227062322935722,0.04402283258477638,0.1,0.1,1.7227062322935722,0.0440228325847763,0.1,0.1],[2.1505149978319906,0.0861885860248209,0.1,0.2,2.1505149978319906,0.0861885860248209,0.1,0.2,2.15051499783199,0.0861885860248209,0.1,0.2],[1.8350497362273823,0.08032072913484654,0.2,0.2,1.8350497362273823,0.08032072913484654,0.2,0.2,1.8350497362273823,0.0803207291348465,0.2,0.2],[5.7227062322935724,0.23430673110551667,0.2,0.2,5.7227062322935724,0.23430673110551667,0.2,0.2,6.0,0.245660065285172,0.2,0.2],[6.7018226078398415,0.4885644593952938,0.2,0.3,6.7018226078398415,0.4885644593952938,0.2,0.3,6.7018226078398415,0.4885644593952938,0.2,0.3],[8.933113502154406,0.21967383024888934,0.5,0.5,8.933113502154406,0.21967383024888934,0.5,0.5,8.933113502154406,0.2196738302488893,0.5,0.5],[18.17423735235338,0.7441140557478906,1.0,1.0,18.17423735235338,0.7441140557478906,1.0,1.0,18.17423735235338,0.7441140557478906,1.0,1.0],[0.0,0.0,0.0,0.0,0.0,0.0,0.0,0.0,0.0,0.0,0.0,0.0],[0.0,0.0,0.0,0.0,0.0,0.0,0.0,0.0,0.0,0.0,0.0,0.0],[10.827513300283044,0.49147827996815846,0.5,0.5,10.827513300283044,0.49147827996815846,0.5,0.5,10.827513300283044,0.4914782799681584,0.5,0.5],[1.1562593052715515,0.07178666816243652,0.1,0.1,1.2041199826559248,0.07475811111624223,0.1,0.1,1.1562593052715515,0.0717866681624365,0.1,0.1],[4.0,0.1671214244214466,0.1,0.1,4.0,0.1671214244214466,0.1,0.1,4.0,0.1671214244214466,0.1,0.1],[4.7581620817654215,0.26853344652975714,0.3,0.3,4.7581620817654215,0.26853344652975714,0.3,0.3,4.7581620817654215,0.2685334465297571,0.3,0.3],[3.4285261738095816,0.11567557155327671,0.2,0.3,3.4285261738095816,0.11567557155327671,0.2,0.3,3.4285261738095816,0.1156755715532767,0.2,0.3],[4.0,0.1744989272174902,0.1,0.1,11.927812105773981,0.520347604127338,0.7,0.7,11.92781210577398,0.520347604127338,0.7,0.7],[11.154058548610953,0.5582888434590495,0.7,0.7,11.154058548610953,0.5582888434590495,0.7,0.7,11.154058548610951,0.5582888434590495,0.7,0.7],[9.793836475517569,0.32239350896203994,0.4,0.4,10.884098302213307,0.3582827477577313,0.5,0.5,10.884098302213308,0.3582827477577313,0.5,0.5],[12.933113502154406,0.6871519554480504,0.6,0.6,12.933113502154406,0.6871519554480504,0.6,0.6,12.933113502154406,0.6871519554480504,0.6,0.6],[0.6309297535714575,0.036395853546675884,0.1,0.1,0.6309297535714575,0.036395853546675884,0.1,0.1,0.6309297535714575,0.0363958535466758,0.1,0.1],[18.17423735235338,0.7920648014488558,1.0,1.0,18.17423735235338,0.7920648014488558,1.0,1.0,18.17423735235338,0.7920648014488558,1.0,1.0],[6.5951928404762485,0.2944614055768496,0.3,0.3,6.686688255575004,0.2985464822661115,0.3,0.3,6.686688255575004,0.2985464822661115,0.3,0.3],[6.861353116146786,0.18833773921584998,0.3,0.3,6.861353116146786,0.18833773921584998,0.3,0.3,7.375765605797046,0.2024578819464626,0.4,0.4],[1.3333333333333333,0.069731285008802,0.1,0.1,0.0,0.0,0.0,0.0,0.0,0.0,0.0,0.0],[4.0,0.38054453117082643,0.1,0.1,4.0,0.38054453117082643,0.1,0.1,4.0,0.3805445311708264,0.1,0.1],[0.0,0.0,0.0,0.0,0.0,0.0,0.0,0.0,0.0,0.0,0.0,0.0],[11.793836475517569,0.48287910642304827,0.5,0.5,11.793836475517569,0.48287910642304827,0.5,0.5,11.793836475517567,0.4828791064230482,0.5,0.5],[9.152667745373844,0.4187522100644103,0.4,0.4,12.904119891121642,0.5903883844220756,0.7,0.7,12.904119891121642,0.5903883844220756,0.7,0.7],[6.608583559213255,0.27057751143314046,0.4,0.4,6.608583559213255,0.27057751143314046,0.4,0.4,6.608583559213255,0.2705775114331404,0.4,0.4],[2.7124143742160443,0.19803559031536722,0.2,0.2,2.7124143742160443,0.19803559031536722,0.2,0.2,2.7124143742160443,0.1980355903153672,0.2,0.2],[0.0,0.0,0.0,0.0,0.0,0.0,0.0,0.0,0.0,0.0,0.0,0.0],[6.878965537565124,0.29188085807238295,0.3,0.3,6.878965537565124,0.29188085807238295,0.3,0.3,6.0,0.2545855388969112,0.2,0.2],[2.0,0.08530460913930238,0.1,0.1,2.0,0.08530460913930238,0.1,0.1,2.0,0.0853046091393023,0.1,0.1],[1.2041199826559248,0.04930069892507245,0.1,0.1,1.261859507142915,0.051664748150907255,0.1,0.1,2.0,0.0818866884283906,0.1,0.1],[8.926826214949497,0.3869835109009092,0.4,0.4,8.926826214949497,0.3869835109009092,0.4,0.4,8.926826214949497,0.3869835109009092,0.4,0.4],[15.118197786726476,0.691686720364392,0.8,0.8,15.364966616272302,0.7029768704738563,0.8,0.8,15.364966616272302,0.7029768704738563,0.8,0.8],[10.229886263822703,0.4928814930244742,0.5,0.6,10.70007897431201,0.5155356339580601,0.5,0.5,10.229886263822705,0.4928814930244742,0.5,0.6],[18.17423735235338,0.4928841902434815,1.0,1.0,18.17423735235338,0.4928841902434815,1.0,1.0,18.17423735235338,0.4928841902434815,1.0,1.0],[0.6666666666666666,0.04565921470224593,0.1,0.1,0.6666666666666666,0.04565921470224593,0.1,0.1,0.6666666666666666,0.0456592147022459,0.1,0.1],[11.940137867840214,0.48886917468793034,0.6,0.6,11.33261926529773,0.4639953314275065,0.6,0.6,10.17635996002618,0.416654208690907,0.5,0.5],[4.474237443887664,0.18984602513414658,0.3,0.3,3.147534980725661,0.1335528148774869,0.2,0.2,3.0560395656269055,0.1296705799509013,0.2,0.2],[6.827513300283043,0.3393577401752507,0.4,0.4,5.5742999686982175,0.2770674705764361,0.4,0.4,5.5742999686982175,0.2770674705764361,0.4,0.4],[2.0,0.18626227341797114,0.1,0.1,2.0,0.18626227341797114,0.1,0.1,2.0,0.1862622734179711,0.1,0.1],[1.5474112289381665,0.0646513921864719,0.1,0.1,1.5474112289381665,0.0646513921864719,0.1,0.1,1.5474112289381663,0.0646513921864719,0.1,0.1],[8.523719014285831,0.4187734452610907,0.3,0.3,8.523719014285831,0.4187734452610907,0.3,0.3,8.523719014285831,0.4187734452610907,0.3,0.3],[2.6289487310880135,0.13067043024019243,0.2,0.2,2.8092707360810816,0.13963323491400842,0.2,0.2,2.6289487310880135,0.1306704302401924,0.2,0.2],[14.13723348481033,0.6822664430151961,0.7,0.7,14.20870731100075,0.6857157878404067,0.7,0.7,14.20870731100075,0.6857157878404067,0.7,0.7],[1.8333333333333333,0.1525410675894521,0.1,0.2,1.8333333333333333,0.1525410675894521,0.1,0.2,1.8333333333333333,0.1525410675894521,0.1,0.2],[13.218665223949657,0.5412163603163843,0.6,0.6,13.218665223949657,0.5412163603163843,0.6,0.6,13.218665223949657,0.5412163603163843,0.6,0.6],[0.0,0.0,0.0,0.0,0.0,0.0,0.0,0.0,0.0,0.0,0.0,0.0],[0.0,0.0,0.0,0.0,0.0,0.0,0.0,0.0,0.0,0.0,0.0,0.0]],\"hovertemplate\":\"dcg_difference=%{x}\\u003cbr\\u003equery=%{y}\\u003cbr\\u003elinear_model dcg=%{customdata[0]}\\u003cbr\\u003elinear_model ndcg=%{customdata[1]}\\u003cbr\\u003elinear_model prec@10=%{customdata[2]}\\u003cbr\\u003elinear_model ratio_of_ratings=%{customdata[3]}\\u003cbr\\u003erandom_forest dcg=%{customdata[4]}\\u003cbr\\u003erandom_forest ndcg=%{customdata[5]}\\u003cbr\\u003erandom_forest prec@10=%{customdata[6]}\\u003cbr\\u003erandom_forest ratio_of_ratings=%{customdata[7]}\\u003cbr\\u003edcg=%{customdata[8]}\\u003cbr\\u003endcg=%{customdata[9]}\\u003cbr\\u003eprec@10=%{customdata[10]}\\u003cbr\\u003eratio_of_ratings=%{customdata[11]}\\u003cextra\\u003e\\u003c\\u002fextra\\u003e\",\"legendgroup\":\"\",\"marker\":{\"color\":\"#636efa\",\"pattern\":{\"shape\":\"\"}},\"name\":\"\",\"offsetgroup\":\"\",\"orientation\":\"h\",\"showlegend\":false,\"textposition\":\"auto\",\"x\":[0.0,0.0,0.0,0.0,0.0,0.0,0.0,0.0,0.0,0.0,0.047860677384373274,0.0,0.0,0.0,7.927812105773981,0.0,1.0902618266957376,0.0,0.0,0.0,0.09149541509875547,0.0,-1.3333333333333333,0.0,0.0,0.0,3.7514521457477983,0.0,0.0,0.0,0.0,0.0,0.05773952448699027,0.0,0.24676882954582524,0.47019271048930733,0.0,0.0,-0.6075186025424841,-1.326702463162003,-1.253213331584825,0.0,0.0,0.0,0.18032200499306805,0.07147382619041842,0.0,0.0,0.0,0.0],\"xaxis\":\"x\",\"y\":[\"1 1\\u002f4 pop up bathroom sink drain without overflow\",\"1 \\u2018 velcro without adhesive for sewing\",\"10x6 plastic register cover without vent\",\"barn pictures for walls\",\"black bear onesie\",\"bloch ballet shoes women\",\"canon toner\",\"colemen tents\",\"colorful decorations for party\",\"cutting board stove cover\",\"death in the tall grass\",\"flower lip stick\",\"fork spoon knife combo\",\"franmar soy gel paint remover\",\"hidizs\",\"honeywell glass break sensor\",\"karaoke machine for adults\",\"kingston 120gb\",\"laptop dell core i7 touch screen with terabytes\",\"lenox lamps\",\"mary jane shoes women\",\"mens white graphic t-shirts\",\"mens wide width basketball shoes\",\"metal keaf tray\",\"motor mount\",\"motorrad rallye glove\",\"neon hoops\",\"new oxo good grips 12 piece pop container set\",\"ninja turtle hoodie sweatshirt size 5\",\"palladia book shelf\",\"party hats\",\"pearl hair band\",\"pens paper mate\",\"pet rainproof clothes\",\"plastic bottle cutter\",\"plastic, satire\",\"please do not annoy the writer mug\",\"rasberry pi4\",\"reflex gun sight\",\"sambucus elderberry syrup\",\"smart watch for men women,fitness tracker with 1.54\",\"some will not sleep\",\"sticky notes holder for desk\",\"tactical gloves\",\"thigh knife holster women\",\"vegan instant pot cookbook\",\"waterproof iphone 6 case for underwatee pictures\",\"waverly shower curtain\",\"women thermal coats\",\"work clothes for women\"],\"yaxis\":\"y\",\"type\":\"bar\"}],                        {\"template\":{\"data\":{\"histogram2dcontour\":[{\"type\":\"histogram2dcontour\",\"colorbar\":{\"outlinewidth\":0,\"ticks\":\"\"},\"colorscale\":[[0.0,\"#0d0887\"],[0.1111111111111111,\"#46039f\"],[0.2222222222222222,\"#7201a8\"],[0.3333333333333333,\"#9c179e\"],[0.4444444444444444,\"#bd3786\"],[0.5555555555555556,\"#d8576b\"],[0.6666666666666666,\"#ed7953\"],[0.7777777777777778,\"#fb9f3a\"],[0.8888888888888888,\"#fdca26\"],[1.0,\"#f0f921\"]]}],\"choropleth\":[{\"type\":\"choropleth\",\"colorbar\":{\"outlinewidth\":0,\"ticks\":\"\"}}],\"histogram2d\":[{\"type\":\"histogram2d\",\"colorbar\":{\"outlinewidth\":0,\"ticks\":\"\"},\"colorscale\":[[0.0,\"#0d0887\"],[0.1111111111111111,\"#46039f\"],[0.2222222222222222,\"#7201a8\"],[0.3333333333333333,\"#9c179e\"],[0.4444444444444444,\"#bd3786\"],[0.5555555555555556,\"#d8576b\"],[0.6666666666666666,\"#ed7953\"],[0.7777777777777778,\"#fb9f3a\"],[0.8888888888888888,\"#fdca26\"],[1.0,\"#f0f921\"]]}],\"heatmap\":[{\"type\":\"heatmap\",\"colorbar\":{\"outlinewidth\":0,\"ticks\":\"\"},\"colorscale\":[[0.0,\"#0d0887\"],[0.1111111111111111,\"#46039f\"],[0.2222222222222222,\"#7201a8\"],[0.3333333333333333,\"#9c179e\"],[0.4444444444444444,\"#bd3786\"],[0.5555555555555556,\"#d8576b\"],[0.6666666666666666,\"#ed7953\"],[0.7777777777777778,\"#fb9f3a\"],[0.8888888888888888,\"#fdca26\"],[1.0,\"#f0f921\"]]}],\"heatmapgl\":[{\"type\":\"heatmapgl\",\"colorbar\":{\"outlinewidth\":0,\"ticks\":\"\"},\"colorscale\":[[0.0,\"#0d0887\"],[0.1111111111111111,\"#46039f\"],[0.2222222222222222,\"#7201a8\"],[0.3333333333333333,\"#9c179e\"],[0.4444444444444444,\"#bd3786\"],[0.5555555555555556,\"#d8576b\"],[0.6666666666666666,\"#ed7953\"],[0.7777777777777778,\"#fb9f3a\"],[0.8888888888888888,\"#fdca26\"],[1.0,\"#f0f921\"]]}],\"contourcarpet\":[{\"type\":\"contourcarpet\",\"colorbar\":{\"outlinewidth\":0,\"ticks\":\"\"}}],\"contour\":[{\"type\":\"contour\",\"colorbar\":{\"outlinewidth\":0,\"ticks\":\"\"},\"colorscale\":[[0.0,\"#0d0887\"],[0.1111111111111111,\"#46039f\"],[0.2222222222222222,\"#7201a8\"],[0.3333333333333333,\"#9c179e\"],[0.4444444444444444,\"#bd3786\"],[0.5555555555555556,\"#d8576b\"],[0.6666666666666666,\"#ed7953\"],[0.7777777777777778,\"#fb9f3a\"],[0.8888888888888888,\"#fdca26\"],[1.0,\"#f0f921\"]]}],\"surface\":[{\"type\":\"surface\",\"colorbar\":{\"outlinewidth\":0,\"ticks\":\"\"},\"colorscale\":[[0.0,\"#0d0887\"],[0.1111111111111111,\"#46039f\"],[0.2222222222222222,\"#7201a8\"],[0.3333333333333333,\"#9c179e\"],[0.4444444444444444,\"#bd3786\"],[0.5555555555555556,\"#d8576b\"],[0.6666666666666666,\"#ed7953\"],[0.7777777777777778,\"#fb9f3a\"],[0.8888888888888888,\"#fdca26\"],[1.0,\"#f0f921\"]]}],\"mesh3d\":[{\"type\":\"mesh3d\",\"colorbar\":{\"outlinewidth\":0,\"ticks\":\"\"}}],\"scatter\":[{\"fillpattern\":{\"fillmode\":\"overlay\",\"size\":10,\"solidity\":0.2},\"type\":\"scatter\"}],\"parcoords\":[{\"type\":\"parcoords\",\"line\":{\"colorbar\":{\"outlinewidth\":0,\"ticks\":\"\"}}}],\"scatterpolargl\":[{\"type\":\"scatterpolargl\",\"marker\":{\"colorbar\":{\"outlinewidth\":0,\"ticks\":\"\"}}}],\"bar\":[{\"error_x\":{\"color\":\"#2a3f5f\"},\"error_y\":{\"color\":\"#2a3f5f\"},\"marker\":{\"line\":{\"color\":\"#E5ECF6\",\"width\":0.5},\"pattern\":{\"fillmode\":\"overlay\",\"size\":10,\"solidity\":0.2}},\"type\":\"bar\"}],\"scattergeo\":[{\"type\":\"scattergeo\",\"marker\":{\"colorbar\":{\"outlinewidth\":0,\"ticks\":\"\"}}}],\"scatterpolar\":[{\"type\":\"scatterpolar\",\"marker\":{\"colorbar\":{\"outlinewidth\":0,\"ticks\":\"\"}}}],\"histogram\":[{\"marker\":{\"pattern\":{\"fillmode\":\"overlay\",\"size\":10,\"solidity\":0.2}},\"type\":\"histogram\"}],\"scattergl\":[{\"type\":\"scattergl\",\"marker\":{\"colorbar\":{\"outlinewidth\":0,\"ticks\":\"\"}}}],\"scatter3d\":[{\"type\":\"scatter3d\",\"line\":{\"colorbar\":{\"outlinewidth\":0,\"ticks\":\"\"}},\"marker\":{\"colorbar\":{\"outlinewidth\":0,\"ticks\":\"\"}}}],\"scattermapbox\":[{\"type\":\"scattermapbox\",\"marker\":{\"colorbar\":{\"outlinewidth\":0,\"ticks\":\"\"}}}],\"scatterternary\":[{\"type\":\"scatterternary\",\"marker\":{\"colorbar\":{\"outlinewidth\":0,\"ticks\":\"\"}}}],\"scattercarpet\":[{\"type\":\"scattercarpet\",\"marker\":{\"colorbar\":{\"outlinewidth\":0,\"ticks\":\"\"}}}],\"carpet\":[{\"aaxis\":{\"endlinecolor\":\"#2a3f5f\",\"gridcolor\":\"white\",\"linecolor\":\"white\",\"minorgridcolor\":\"white\",\"startlinecolor\":\"#2a3f5f\"},\"baxis\":{\"endlinecolor\":\"#2a3f5f\",\"gridcolor\":\"white\",\"linecolor\":\"white\",\"minorgridcolor\":\"white\",\"startlinecolor\":\"#2a3f5f\"},\"type\":\"carpet\"}],\"table\":[{\"cells\":{\"fill\":{\"color\":\"#EBF0F8\"},\"line\":{\"color\":\"white\"}},\"header\":{\"fill\":{\"color\":\"#C8D4E3\"},\"line\":{\"color\":\"white\"}},\"type\":\"table\"}],\"barpolar\":[{\"marker\":{\"line\":{\"color\":\"#E5ECF6\",\"width\":0.5},\"pattern\":{\"fillmode\":\"overlay\",\"size\":10,\"solidity\":0.2}},\"type\":\"barpolar\"}],\"pie\":[{\"automargin\":true,\"type\":\"pie\"}]},\"layout\":{\"autotypenumbers\":\"strict\",\"colorway\":[\"#636efa\",\"#EF553B\",\"#00cc96\",\"#ab63fa\",\"#FFA15A\",\"#19d3f3\",\"#FF6692\",\"#B6E880\",\"#FF97FF\",\"#FECB52\"],\"font\":{\"color\":\"#2a3f5f\"},\"hovermode\":\"closest\",\"hoverlabel\":{\"align\":\"left\"},\"paper_bgcolor\":\"white\",\"plot_bgcolor\":\"#E5ECF6\",\"polar\":{\"bgcolor\":\"#E5ECF6\",\"angularaxis\":{\"gridcolor\":\"white\",\"linecolor\":\"white\",\"ticks\":\"\"},\"radialaxis\":{\"gridcolor\":\"white\",\"linecolor\":\"white\",\"ticks\":\"\"}},\"ternary\":{\"bgcolor\":\"#E5ECF6\",\"aaxis\":{\"gridcolor\":\"white\",\"linecolor\":\"white\",\"ticks\":\"\"},\"baxis\":{\"gridcolor\":\"white\",\"linecolor\":\"white\",\"ticks\":\"\"},\"caxis\":{\"gridcolor\":\"white\",\"linecolor\":\"white\",\"ticks\":\"\"}},\"coloraxis\":{\"colorbar\":{\"outlinewidth\":0,\"ticks\":\"\"}},\"colorscale\":{\"sequential\":[[0.0,\"#0d0887\"],[0.1111111111111111,\"#46039f\"],[0.2222222222222222,\"#7201a8\"],[0.3333333333333333,\"#9c179e\"],[0.4444444444444444,\"#bd3786\"],[0.5555555555555556,\"#d8576b\"],[0.6666666666666666,\"#ed7953\"],[0.7777777777777778,\"#fb9f3a\"],[0.8888888888888888,\"#fdca26\"],[1.0,\"#f0f921\"]],\"sequentialminus\":[[0.0,\"#0d0887\"],[0.1111111111111111,\"#46039f\"],[0.2222222222222222,\"#7201a8\"],[0.3333333333333333,\"#9c179e\"],[0.4444444444444444,\"#bd3786\"],[0.5555555555555556,\"#d8576b\"],[0.6666666666666666,\"#ed7953\"],[0.7777777777777778,\"#fb9f3a\"],[0.8888888888888888,\"#fdca26\"],[1.0,\"#f0f921\"]],\"diverging\":[[0,\"#8e0152\"],[0.1,\"#c51b7d\"],[0.2,\"#de77ae\"],[0.3,\"#f1b6da\"],[0.4,\"#fde0ef\"],[0.5,\"#f7f7f7\"],[0.6,\"#e6f5d0\"],[0.7,\"#b8e186\"],[0.8,\"#7fbc41\"],[0.9,\"#4d9221\"],[1,\"#276419\"]]},\"xaxis\":{\"gridcolor\":\"white\",\"linecolor\":\"white\",\"ticks\":\"\",\"title\":{\"standoff\":15},\"zerolinecolor\":\"white\",\"automargin\":true,\"zerolinewidth\":2},\"yaxis\":{\"gridcolor\":\"white\",\"linecolor\":\"white\",\"ticks\":\"\",\"title\":{\"standoff\":15},\"zerolinecolor\":\"white\",\"automargin\":true,\"zerolinewidth\":2},\"scene\":{\"xaxis\":{\"backgroundcolor\":\"#E5ECF6\",\"gridcolor\":\"white\",\"linecolor\":\"white\",\"showbackground\":true,\"ticks\":\"\",\"zerolinecolor\":\"white\",\"gridwidth\":2},\"yaxis\":{\"backgroundcolor\":\"#E5ECF6\",\"gridcolor\":\"white\",\"linecolor\":\"white\",\"showbackground\":true,\"ticks\":\"\",\"zerolinecolor\":\"white\",\"gridwidth\":2},\"zaxis\":{\"backgroundcolor\":\"#E5ECF6\",\"gridcolor\":\"white\",\"linecolor\":\"white\",\"showbackground\":true,\"ticks\":\"\",\"zerolinecolor\":\"white\",\"gridwidth\":2}},\"shapedefaults\":{\"line\":{\"color\":\"#2a3f5f\"}},\"annotationdefaults\":{\"arrowcolor\":\"#2a3f5f\",\"arrowhead\":0,\"arrowwidth\":1},\"geo\":{\"bgcolor\":\"white\",\"landcolor\":\"#E5ECF6\",\"subunitcolor\":\"white\",\"showland\":true,\"showlakes\":true,\"lakecolor\":\"white\"},\"title\":{\"x\":0.05},\"mapbox\":{\"style\":\"light\"}}},\"xaxis\":{\"anchor\":\"y\",\"domain\":[0.0,1.0],\"title\":{\"text\":\"dcg_difference\"}},\"yaxis\":{\"anchor\":\"x\",\"domain\":[0.0,1.0],\"title\":{\"text\":\"query\"}},\"legend\":{\"tracegroupgap\":0},\"title\":{\"text\":\"DCG Difference Linear Model and Random Forest Model\"},\"barmode\":\"relative\",\"height\":1000},                        {\"responsive\": true}                    ).then(function(){\n",
       "                            \n",
       "var gd = document.getElementById('e8baf650-47d7-438f-9986-d18f798fa97f');\n",
       "var x = new MutationObserver(function (mutations, observer) {{\n",
       "        var display = window.getComputedStyle(gd).display;\n",
       "        if (!display || display === 'none') {{\n",
       "            console.log([gd, 'removed!']);\n",
       "            Plotly.purge(gd);\n",
       "            observer.disconnect();\n",
       "        }}\n",
       "}});\n",
       "\n",
       "// Listen for the removal of the full notebook cells\n",
       "var notebookContainer = gd.closest('#notebook-container');\n",
       "if (notebookContainer) {{\n",
       "    x.observe(notebookContainer, {childList: true});\n",
       "}}\n",
       "\n",
       "// Listen for the clearing of the current output cell\n",
       "var outputEl = gd.closest('.output');\n",
       "if (outputEl) {{\n",
       "    x.observe(outputEl, {childList: true});\n",
       "}}\n",
       "\n",
       "                        })                };                });            </script>        </div>"
      ]
     },
     "metadata": {},
     "output_type": "display_data"
    }
   ],
   "source": [
    "px.bar(df_metrics_merged, x=\"dcg_difference\", y=\"query\", orientation='h',\n",
    "             hover_data=df_metrics_merged.columns,\n",
    "             height=1000,\n",
    "             title='DCG Difference Linear Model and Random Forest Model')"
   ]
  },
  {
   "cell_type": "code",
   "execution_count": null,
   "id": "25b4c335-dc1d-4dc7-9878-1b4feafac797",
   "metadata": {},
   "outputs": [],
   "source": []
  }
 ],
 "metadata": {
  "kernelspec": {
   "display_name": ".venv",
   "language": "python",
   "name": ".venv"
  },
  "language_info": {
   "codemirror_mode": {
    "name": "ipython",
    "version": 3
   },
   "file_extension": ".py",
   "mimetype": "text/x-python",
   "name": "python",
   "nbconvert_exporter": "python",
   "pygments_lexer": "ipython3",
   "version": "3.12.6"
  }
 },
 "nbformat": 4,
 "nbformat_minor": 5
}
