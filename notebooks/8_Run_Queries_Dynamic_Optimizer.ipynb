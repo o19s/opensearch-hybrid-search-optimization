{
 "cells": [
  {
   "cell_type": "markdown",
   "id": "08acbf26-14ed-4d40-a8d2-4854f1b3a6ef",
   "metadata": {},
   "source": [
    "# Calculate Search Metrics with Dynamic Optimizer\n",
    "\n",
    "This notebook loads the models that were built in the previous notebook and test how much the queries improve when using a pipeline with the predicted \"neuralness\" value.\n",
    "\n",
    "1. Get the models\n",
    "2. Get the queries\n",
    "3. Get the ratings file\n",
    "4. Get the predicted \"neuralness\" scores for each query from each model\n",
    "5. Run the queries (two runs per query; one per model)\n",
    "    1. Create the pipeline with the according \"neuralness\" and \"keywordness\" values\n",
    "    2. Run the query once per model type\n",
    "    3. Store the results\n",
    "7. Calculate search metrics\n",
    "8. Compare search metrics with the best metrics of the notebook that explored all hybrid search configurations "
   ]
  },
  {
   "cell_type": "code",
   "execution_count": 339,
   "id": "b8d7a9ff-f56f-45e4-af19-7b2b7fb8caee",
   "metadata": {},
   "outputs": [],
   "source": [
    "import pickle\n",
    "import pandas as pd\n",
    "import requests\n",
    "import json\n",
    "import uuid\n",
    "import numpy as np\n",
    "import plotly.express as px"
   ]
  },
  {
   "cell_type": "markdown",
   "id": "06cfc2a5-b95d-42c5-9087-b4199f093ecc",
   "metadata": {},
   "source": [
    "## Load models from the previous notebook"
   ]
  },
  {
   "cell_type": "code",
   "execution_count": 340,
   "id": "e3f05026-a160-4328-8f13-fd61d2edf7d3",
   "metadata": {},
   "outputs": [],
   "source": [
    "# load the two models\n",
    "with open('regression_model.pkl', 'rb') as fid:\n",
    "    regr = pickle.load(fid)\n",
    "\n",
    "with open('random_forest_model.pkl', 'rb') as fid:\n",
    "    random_forest = pickle.load(fid)"
   ]
  },
  {
   "cell_type": "code",
   "execution_count": 341,
   "id": "1fdf2d2c-e96e-4dc7-a8bb-01f8673a8513",
   "metadata": {},
   "outputs": [
    {
     "data": {
      "text/html": [
       "<div>\n",
       "<style scoped>\n",
       "    .dataframe tbody tr th:only-of-type {\n",
       "        vertical-align: middle;\n",
       "    }\n",
       "\n",
       "    .dataframe tbody tr th {\n",
       "        vertical-align: top;\n",
       "    }\n",
       "\n",
       "    .dataframe thead th {\n",
       "        text-align: right;\n",
       "    }\n",
       "</style>\n",
       "<table border=\"1\" class=\"dataframe\">\n",
       "  <thead>\n",
       "    <tr style=\"text-align: right;\">\n",
       "      <th></th>\n",
       "      <th>query</th>\n",
       "      <th>docid</th>\n",
       "      <th>rating</th>\n",
       "      <th>idx</th>\n",
       "    </tr>\n",
       "  </thead>\n",
       "  <tbody>\n",
       "    <tr>\n",
       "      <th>0</th>\n",
       "      <td>$30 roblox gift card not digital</td>\n",
       "      <td>B07RX6FBFR</td>\n",
       "      <td>3</td>\n",
       "      <td>0</td>\n",
       "    </tr>\n",
       "    <tr>\n",
       "      <th>1</th>\n",
       "      <td>$30 roblox gift card not digital</td>\n",
       "      <td>B09194H44R</td>\n",
       "      <td>0</td>\n",
       "      <td>0</td>\n",
       "    </tr>\n",
       "    <tr>\n",
       "      <th>2</th>\n",
       "      <td>$30 roblox gift card not digital</td>\n",
       "      <td>B08R5N6W6B</td>\n",
       "      <td>2</td>\n",
       "      <td>0</td>\n",
       "    </tr>\n",
       "    <tr>\n",
       "      <th>3</th>\n",
       "      <td>$30 roblox gift card not digital</td>\n",
       "      <td>B07Y693ND1</td>\n",
       "      <td>0</td>\n",
       "      <td>0</td>\n",
       "    </tr>\n",
       "    <tr>\n",
       "      <th>4</th>\n",
       "      <td>$30 roblox gift card not digital</td>\n",
       "      <td>B07RZ75JW3</td>\n",
       "      <td>2</td>\n",
       "      <td>0</td>\n",
       "    </tr>\n",
       "  </tbody>\n",
       "</table>\n",
       "</div>"
      ],
      "text/plain": [
       "                              query       docid  rating  idx\n",
       "0  $30 roblox gift card not digital  B07RX6FBFR       3    0\n",
       "1  $30 roblox gift card not digital  B09194H44R       0    0\n",
       "2  $30 roblox gift card not digital  B08R5N6W6B       2    0\n",
       "3  $30 roblox gift card not digital  B07Y693ND1       0    0\n",
       "4  $30 roblox gift card not digital  B07RZ75JW3       2    0"
      ]
     },
     "execution_count": 341,
     "metadata": {},
     "output_type": "execute_result"
    }
   ],
   "source": [
    "# Import the ratings generated in the previous notebook\n",
    "df_ratings = pd.read_csv('ratings.csv', sep=\"\\t\", names=['query', 'docid', 'rating', 'idx'])#, index=False)\n",
    "df_ratings.head(5)"
   ]
  },
  {
   "cell_type": "code",
   "execution_count": 342,
   "id": "6684c562-4fb9-4af2-887d-6504cea733ee",
   "metadata": {},
   "outputs": [],
   "source": [
    "df_test_data = pd.read_csv('dynamic_optimizer_test_data.csv')"
   ]
  },
  {
   "cell_type": "code",
   "execution_count": 343,
   "id": "bd7441da-49a8-4f29-b767-7f6b63e5d47a",
   "metadata": {},
   "outputs": [
    {
     "data": {
      "text/html": [
       "<div>\n",
       "<style scoped>\n",
       "    .dataframe tbody tr th:only-of-type {\n",
       "        vertical-align: middle;\n",
       "    }\n",
       "\n",
       "    .dataframe tbody tr th {\n",
       "        vertical-align: top;\n",
       "    }\n",
       "\n",
       "    .dataframe thead th {\n",
       "        text-align: right;\n",
       "    }\n",
       "</style>\n",
       "<table border=\"1\" class=\"dataframe\">\n",
       "  <thead>\n",
       "    <tr style=\"text-align: right;\">\n",
       "      <th></th>\n",
       "      <th>query_string</th>\n",
       "      <th>ndcg</th>\n",
       "      <th>neuralness</th>\n",
       "      <th>f_1_num_of_terms</th>\n",
       "      <th>f_2_query_length</th>\n",
       "      <th>f_3_has_numbers</th>\n",
       "      <th>f_4_has_special_char</th>\n",
       "      <th>f_5_num_results</th>\n",
       "      <th>f_6_max_title_score</th>\n",
       "      <th>f_7_sum_title_scores</th>\n",
       "      <th>f_8_max_semantic_score</th>\n",
       "      <th>f_9_avg_semantic_score</th>\n",
       "    </tr>\n",
       "  </thead>\n",
       "  <tbody>\n",
       "    <tr>\n",
       "      <th>0</th>\n",
       "      <td>7 days without a pun makes one weak</td>\n",
       "      <td>0.664066</td>\n",
       "      <td>1.0</td>\n",
       "      <td>8</td>\n",
       "      <td>35</td>\n",
       "      <td>1</td>\n",
       "      <td>0</td>\n",
       "      <td>13</td>\n",
       "      <td>0.261906</td>\n",
       "      <td>2.187382</td>\n",
       "      <td>0.816212</td>\n",
       "      <td>0.714292</td>\n",
       "    </tr>\n",
       "    <tr>\n",
       "      <th>1</th>\n",
       "      <td>american flag 5x8 outdoor made in usa</td>\n",
       "      <td>0.595807</td>\n",
       "      <td>0.3</td>\n",
       "      <td>7</td>\n",
       "      <td>37</td>\n",
       "      <td>1</td>\n",
       "      <td>0</td>\n",
       "      <td>8</td>\n",
       "      <td>0.913549</td>\n",
       "      <td>4.974668</td>\n",
       "      <td>0.755891</td>\n",
       "      <td>0.723251</td>\n",
       "    </tr>\n",
       "    <tr>\n",
       "      <th>2</th>\n",
       "      <td>andis t edger</td>\n",
       "      <td>0.308602</td>\n",
       "      <td>1.0</td>\n",
       "      <td>3</td>\n",
       "      <td>13</td>\n",
       "      <td>0</td>\n",
       "      <td>0</td>\n",
       "      <td>2</td>\n",
       "      <td>0.086820</td>\n",
       "      <td>0.166090</td>\n",
       "      <td>0.578003</td>\n",
       "      <td>0.519416</td>\n",
       "    </tr>\n",
       "    <tr>\n",
       "      <th>3</th>\n",
       "      <td>backpacks lunchbox combo</td>\n",
       "      <td>0.084726</td>\n",
       "      <td>1.0</td>\n",
       "      <td>3</td>\n",
       "      <td>24</td>\n",
       "      <td>0</td>\n",
       "      <td>0</td>\n",
       "      <td>6</td>\n",
       "      <td>0.721674</td>\n",
       "      <td>1.747816</td>\n",
       "      <td>0.731043</td>\n",
       "      <td>0.656633</td>\n",
       "    </tr>\n",
       "    <tr>\n",
       "      <th>4</th>\n",
       "      <td>best ride on cars mercedes 3-in-1 push car in ...</td>\n",
       "      <td>0.426893</td>\n",
       "      <td>0.9</td>\n",
       "      <td>10</td>\n",
       "      <td>51</td>\n",
       "      <td>1</td>\n",
       "      <td>1</td>\n",
       "      <td>1</td>\n",
       "      <td>0.784587</td>\n",
       "      <td>0.784587</td>\n",
       "      <td>0.868892</td>\n",
       "      <td>0.631813</td>\n",
       "    </tr>\n",
       "  </tbody>\n",
       "</table>\n",
       "</div>"
      ],
      "text/plain": [
       "                                        query_string      ndcg  neuralness  \\\n",
       "0                7 days without a pun makes one weak  0.664066         1.0   \n",
       "1              american flag 5x8 outdoor made in usa  0.595807         0.3   \n",
       "2                                      andis t edger  0.308602         1.0   \n",
       "3                           backpacks lunchbox combo  0.084726         1.0   \n",
       "4  best ride on cars mercedes 3-in-1 push car in ...  0.426893         0.9   \n",
       "\n",
       "   f_1_num_of_terms  f_2_query_length  f_3_has_numbers  f_4_has_special_char  \\\n",
       "0                 8                35                1                     0   \n",
       "1                 7                37                1                     0   \n",
       "2                 3                13                0                     0   \n",
       "3                 3                24                0                     0   \n",
       "4                10                51                1                     1   \n",
       "\n",
       "   f_5_num_results  f_6_max_title_score  f_7_sum_title_scores  \\\n",
       "0               13             0.261906              2.187382   \n",
       "1                8             0.913549              4.974668   \n",
       "2                2             0.086820              0.166090   \n",
       "3                6             0.721674              1.747816   \n",
       "4                1             0.784587              0.784587   \n",
       "\n",
       "   f_8_max_semantic_score  f_9_avg_semantic_score  \n",
       "0                0.816212                0.714292  \n",
       "1                0.755891                0.723251  \n",
       "2                0.578003                0.519416  \n",
       "3                0.731043                0.656633  \n",
       "4                0.868892                0.631813  "
      ]
     },
     "execution_count": 343,
     "metadata": {},
     "output_type": "execute_result"
    }
   ],
   "source": [
    "df_test_data.head(5)"
   ]
  },
  {
   "cell_type": "code",
   "execution_count": 344,
   "id": "01970b1a-5407-4ad1-8d61-682b4f091c30",
   "metadata": {},
   "outputs": [
    {
     "data": {
      "text/plain": [
       "44"
      ]
     },
     "execution_count": 344,
     "metadata": {},
     "output_type": "execute_result"
    }
   ],
   "source": [
    "df_test_data.shape[0]"
   ]
  },
  {
   "cell_type": "markdown",
   "id": "68a8ffd9-8b2c-47e3-9484-c3a4e6f3b34e",
   "metadata": {},
   "source": [
    "## Predict the \"neuralness\" with both models"
   ]
  },
  {
   "cell_type": "code",
   "execution_count": 345,
   "id": "81fbc5dd-64a9-4ed3-ba3a-49d930b45e90",
   "metadata": {},
   "outputs": [],
   "source": [
    "feature_columns = [ \"f_1_num_of_terms\", \"f_2_query_length\", \"f_3_has_numbers\", \"f_4_has_special_char\", \"f_5_num_results\",\n",
    "                   \"f_6_max_title_score\", \"f_7_sum_title_scores\", \"f_8_max_semantic_score\",  \"f_9_avg_semantic_score\"]\n",
    "def get_linear_model_prediction(row):\n",
    "    df_row = pd.DataFrame([row[feature_columns]], columns=feature_columns)\n",
    "    return regr.predict(df_row)[0]\n",
    "\n",
    "def get_random_forest_prediction(row):\n",
    "    df_row = pd.DataFrame([row[feature_columns]], columns=feature_columns)\n",
    "    return random_forest.predict(df_row)[0]"
   ]
  },
  {
   "cell_type": "code",
   "execution_count": 346,
   "id": "308eb0a1-1ef9-4a5d-b5cc-515ccc5f466f",
   "metadata": {},
   "outputs": [],
   "source": [
    "# make predictions with the two models ensuring that the minimum is not below 0 and the maximum not above 1\n",
    "\n",
    "df_test_data['linear_model'] = df_test_data.apply(\n",
    "    lambda row: min(np.max(get_linear_model_prediction(row), 0), 1), axis=1\n",
    ")\n",
    "\n",
    "df_test_data['random_forest'] = df_test_data.apply(\n",
    "    lambda row: min(np.max(get_random_forest_prediction(row), 0), 1), axis=1\n",
    ")"
   ]
  },
  {
   "cell_type": "code",
   "execution_count": 347,
   "id": "aa59d753-c961-4ffc-98c3-d4d65afcc717",
   "metadata": {},
   "outputs": [
    {
     "data": {
      "text/html": [
       "<div>\n",
       "<style scoped>\n",
       "    .dataframe tbody tr th:only-of-type {\n",
       "        vertical-align: middle;\n",
       "    }\n",
       "\n",
       "    .dataframe tbody tr th {\n",
       "        vertical-align: top;\n",
       "    }\n",
       "\n",
       "    .dataframe thead th {\n",
       "        text-align: right;\n",
       "    }\n",
       "</style>\n",
       "<table border=\"1\" class=\"dataframe\">\n",
       "  <thead>\n",
       "    <tr style=\"text-align: right;\">\n",
       "      <th></th>\n",
       "      <th>query_string</th>\n",
       "      <th>ndcg</th>\n",
       "      <th>neuralness</th>\n",
       "      <th>f_1_num_of_terms</th>\n",
       "      <th>f_2_query_length</th>\n",
       "      <th>f_3_has_numbers</th>\n",
       "      <th>f_4_has_special_char</th>\n",
       "      <th>f_5_num_results</th>\n",
       "      <th>f_6_max_title_score</th>\n",
       "      <th>f_7_sum_title_scores</th>\n",
       "      <th>f_8_max_semantic_score</th>\n",
       "      <th>f_9_avg_semantic_score</th>\n",
       "      <th>linear_model</th>\n",
       "      <th>random_forest</th>\n",
       "    </tr>\n",
       "  </thead>\n",
       "  <tbody>\n",
       "    <tr>\n",
       "      <th>0</th>\n",
       "      <td>7 days without a pun makes one weak</td>\n",
       "      <td>0.664066</td>\n",
       "      <td>1.0</td>\n",
       "      <td>8</td>\n",
       "      <td>35</td>\n",
       "      <td>1</td>\n",
       "      <td>0</td>\n",
       "      <td>13</td>\n",
       "      <td>0.261906</td>\n",
       "      <td>2.187382</td>\n",
       "      <td>0.816212</td>\n",
       "      <td>0.714292</td>\n",
       "      <td>0.801477</td>\n",
       "      <td>0.435</td>\n",
       "    </tr>\n",
       "    <tr>\n",
       "      <th>1</th>\n",
       "      <td>american flag 5x8 outdoor made in usa</td>\n",
       "      <td>0.595807</td>\n",
       "      <td>0.3</td>\n",
       "      <td>7</td>\n",
       "      <td>37</td>\n",
       "      <td>1</td>\n",
       "      <td>0</td>\n",
       "      <td>8</td>\n",
       "      <td>0.913549</td>\n",
       "      <td>4.974668</td>\n",
       "      <td>0.755891</td>\n",
       "      <td>0.723251</td>\n",
       "      <td>0.741743</td>\n",
       "      <td>0.516</td>\n",
       "    </tr>\n",
       "    <tr>\n",
       "      <th>2</th>\n",
       "      <td>andis t edger</td>\n",
       "      <td>0.308602</td>\n",
       "      <td>1.0</td>\n",
       "      <td>3</td>\n",
       "      <td>13</td>\n",
       "      <td>0</td>\n",
       "      <td>0</td>\n",
       "      <td>2</td>\n",
       "      <td>0.086820</td>\n",
       "      <td>0.166090</td>\n",
       "      <td>0.578003</td>\n",
       "      <td>0.519416</td>\n",
       "      <td>0.735459</td>\n",
       "      <td>0.669</td>\n",
       "    </tr>\n",
       "    <tr>\n",
       "      <th>3</th>\n",
       "      <td>backpacks lunchbox combo</td>\n",
       "      <td>0.084726</td>\n",
       "      <td>1.0</td>\n",
       "      <td>3</td>\n",
       "      <td>24</td>\n",
       "      <td>0</td>\n",
       "      <td>0</td>\n",
       "      <td>6</td>\n",
       "      <td>0.721674</td>\n",
       "      <td>1.747816</td>\n",
       "      <td>0.731043</td>\n",
       "      <td>0.656633</td>\n",
       "      <td>0.780726</td>\n",
       "      <td>0.774</td>\n",
       "    </tr>\n",
       "    <tr>\n",
       "      <th>4</th>\n",
       "      <td>best ride on cars mercedes 3-in-1 push car in ...</td>\n",
       "      <td>0.426893</td>\n",
       "      <td>0.9</td>\n",
       "      <td>10</td>\n",
       "      <td>51</td>\n",
       "      <td>1</td>\n",
       "      <td>1</td>\n",
       "      <td>1</td>\n",
       "      <td>0.784587</td>\n",
       "      <td>0.784587</td>\n",
       "      <td>0.868892</td>\n",
       "      <td>0.631813</td>\n",
       "      <td>0.685039</td>\n",
       "      <td>0.609</td>\n",
       "    </tr>\n",
       "  </tbody>\n",
       "</table>\n",
       "</div>"
      ],
      "text/plain": [
       "                                        query_string      ndcg  neuralness  \\\n",
       "0                7 days without a pun makes one weak  0.664066         1.0   \n",
       "1              american flag 5x8 outdoor made in usa  0.595807         0.3   \n",
       "2                                      andis t edger  0.308602         1.0   \n",
       "3                           backpacks lunchbox combo  0.084726         1.0   \n",
       "4  best ride on cars mercedes 3-in-1 push car in ...  0.426893         0.9   \n",
       "\n",
       "   f_1_num_of_terms  f_2_query_length  f_3_has_numbers  f_4_has_special_char  \\\n",
       "0                 8                35                1                     0   \n",
       "1                 7                37                1                     0   \n",
       "2                 3                13                0                     0   \n",
       "3                 3                24                0                     0   \n",
       "4                10                51                1                     1   \n",
       "\n",
       "   f_5_num_results  f_6_max_title_score  f_7_sum_title_scores  \\\n",
       "0               13             0.261906              2.187382   \n",
       "1                8             0.913549              4.974668   \n",
       "2                2             0.086820              0.166090   \n",
       "3                6             0.721674              1.747816   \n",
       "4                1             0.784587              0.784587   \n",
       "\n",
       "   f_8_max_semantic_score  f_9_avg_semantic_score  linear_model  random_forest  \n",
       "0                0.816212                0.714292      0.801477          0.435  \n",
       "1                0.755891                0.723251      0.741743          0.516  \n",
       "2                0.578003                0.519416      0.735459          0.669  \n",
       "3                0.731043                0.656633      0.780726          0.774  \n",
       "4                0.868892                0.631813      0.685039          0.609  "
      ]
     },
     "execution_count": 347,
     "metadata": {},
     "output_type": "execute_result"
    }
   ],
   "source": [
    "df_test_data.head(5)"
   ]
  },
  {
   "cell_type": "markdown",
   "id": "1a89b7f6-74ed-42c2-bf8d-81debe0be902",
   "metadata": {},
   "source": [
    "## Run the queries of the test set\n",
    "\n",
    "* Retrieve the model id\n",
    "* For each query term of the test set:\n",
    "  * Create the pipeline with the predicted \"neuralness\" value and the calculated \"keywordness\" value (`1-\"neuralness\"`)\n",
    "  * Run the query once per model type"
   ]
  },
  {
   "cell_type": "code",
   "execution_count": 348,
   "id": "bde8d1f1-2ebc-4a25-9f41-f6990792a00f",
   "metadata": {},
   "outputs": [],
   "source": [
    "# Get model_id\n",
    "# We are assuming that the installation has only one model. Change this if you have more models \n",
    "# and need to pick a specific one\n",
    "\n",
    "headers = {\n",
    "    'Content-Type': 'application/json'\n",
    "}\n",
    "\n",
    "def get_model_id():\n",
    "    url = \"http://localhost:9200/_plugins/_ml/models/_search\"\n",
    "   \n",
    "    payload = {\n",
    "      \"query\": {\n",
    "        \"match_all\": {}\n",
    "      },\n",
    "      \"size\": 1\n",
    "    }\n",
    "    \n",
    "    response = requests.request(\"POST\", url, headers=headers, data=json.dumps(payload))\n",
    "\n",
    "    return response.json()['hits']['hits'][0]['_source']['model_id']\n",
    "\n",
    "model_id = get_model_id()"
   ]
  },
  {
   "cell_type": "code",
   "execution_count": 296,
   "id": "14bafa39-1940-4e13-a18e-2d40a95fd41c",
   "metadata": {},
   "outputs": [],
   "source": [
    "# The function receives a float for the \"neuralness\" of a query\n",
    "# The pipeline is created with a generated UUID\n",
    "# The generated UUID is returned so that it can be used for the query.\n",
    "\n",
    "def create_search_pipeline(neuralness):\n",
    "    neuralness = round(neuralness, 2)\n",
    "    keywordness = 1 - neuralness\n",
    "\n",
    "    # create a pipeline id on the fly. We return it to the function that calls this function\n",
    "    pipeline_name = uuid.uuid4().hex[:8]\n",
    "\n",
    "\n",
    "    payload = {\n",
    "      \"request_processors\": [\n",
    "        {\n",
    "          \"neural_query_enricher\" : {\n",
    "            \"description\": \"one of many search pipelines for experimentation\",\n",
    "            \"default_model_id\": model_id,\n",
    "            \"neural_field_default_id\": {\n",
    "               \"title_embeddings\": model_id\n",
    "            }\n",
    "          }\n",
    "        }\n",
    "      ],\n",
    "      \"phase_results_processors\": [\n",
    "        {\n",
    "          \"normalization-processor\": {\n",
    "            \"normalization\": {\n",
    "              \"technique\": \"l2\"\n",
    "            },\n",
    "            \"combination\": {\n",
    "              \"technique\": \"arithmetic_mean\",\n",
    "              \"parameters\": {\n",
    "                \"weights\": [\n",
    "                  keywordness,\n",
    "                  neuralness\n",
    "                ]\n",
    "              }\n",
    "            }\n",
    "          }\n",
    "        }\n",
    "      ]    \n",
    "    }\n",
    "\n",
    "    url = \"http://localhost:9200/_search/pipeline/\" + pipeline_name\n",
    "    \n",
    "    response = requests.request(\"PUT\", url, headers=headers, data=json.dumps(payload))\n",
    "    #print(payload)\n",
    "    \n",
    "    return pipeline_name"
   ]
  },
  {
   "cell_type": "code",
   "execution_count": 402,
   "id": "1ae98b35-3fd7-4037-94fe-f4fcecb76237",
   "metadata": {},
   "outputs": [],
   "source": [
    "models = ['linear_model', 'random_forest']\n",
    "df_relevance = pd.DataFrame()\n",
    "\n",
    "# iterate over all query strings, create a pipeline with the predicted \"neuralness\"\n",
    "# and send a hybrid search query to OpenSearch with the set pipeline\n",
    "for query in df_test_data.itertuples():\n",
    "    for model in models:\n",
    "        neuralness = df_test_data.loc[df_test_data['query_string'] == query[1], model].iloc[0]\n",
    "        neuralness = round(neuralness, 2)\n",
    "        keywordness = 1 - neuralness   \n",
    "        #pipeline_name = create_search_pipeline(neuralness)\n",
    "       # print(pipeline_name)\n",
    "        # Set pipeline \n",
    "        url = \"http://localhost:9200/ecommerce/_search\"\n",
    "\n",
    "    \n",
    "        payload = {\n",
    "          \"_source\": {\n",
    "            \"excludes\": [\n",
    "              \"title_embedding\"\n",
    "            ]\n",
    "          },\n",
    "          \"query\": {\n",
    "            \"hybrid\": {\n",
    "              \"queries\": [\n",
    "                {\n",
    "                  \"multi_match\" : {\n",
    "                      \"type\":       \"best_fields\",\n",
    "                      \"fields\":     [\n",
    "                        \"product_id^100\",\n",
    "                        \"product_bullet_point^3\",\n",
    "                        \"product_color^2\",\n",
    "                        \"product_brand^5\",\n",
    "                        \"product_description\",\n",
    "                        \"product_title^10\"\n",
    "                      ],\n",
    "                      \"operator\":   \"and\",\n",
    "                      \"query\":      query[1]\n",
    "                    }\n",
    "                },\n",
    "                {\n",
    "                  \"neural\": {\n",
    "                    \"title_embedding\": {\n",
    "                      \"query_text\": query[1],\n",
    "                      \"k\": 100\n",
    "                    }\n",
    "                  }\n",
    "                }\n",
    "              ]\n",
    "            }\n",
    "          },\n",
    "            \"search_pipeline\": {\n",
    "              \"request_processors\": [\n",
    "                {\n",
    "                  \"neural_query_enricher\" : {\n",
    "                    \"description\": \"one of many search pipelines for experimentation\",\n",
    "                    \"default_model_id\": model_id,\n",
    "                    \"neural_field_default_id\": {\n",
    "                       \"title_embeddings\": model_id\n",
    "                    }\n",
    "                  }\n",
    "                }\n",
    "              ],\n",
    "              \"phase_results_processors\": [\n",
    "                {\n",
    "                  \"normalization-processor\": {\n",
    "                    \"normalization\": {\n",
    "                      \"technique\": \"l2\"\n",
    "                    },\n",
    "                    \"combination\": {\n",
    "                      \"technique\": \"arithmetic_mean\",\n",
    "                      \"parameters\": {\n",
    "                        \"weights\": [\n",
    "                          keywordness,\n",
    "                          neuralness\n",
    "                        ]\n",
    "                      }\n",
    "                    }\n",
    "                  }\n",
    "                }\n",
    "              ]    \n",
    "            },\n",
    "          \"size\": 100\n",
    "        }\n",
    "    \n",
    "        response = requests.request(\"POST\", url, headers=headers, data=json.dumps(payload)).json()\n",
    "        #print(response)\n",
    "        # store results per model and pipeline\n",
    "        position = 0\n",
    "        for hit in response['hits']['hits']:\n",
    "            # create a new row for the DataFrame and append it\n",
    "            row = { 'query_id' : str(query[0]), 'query_string': query[1], 'product_id' : hit[\"_id\"], 'position' : str(position), 'relevance' : hit[\"_score\"], 'run': model, 'neuralness': neuralness }\n",
    "    \n",
    "            new_row_df = pd.DataFrame([row])\n",
    "            df_relevance = pd.concat([df_relevance, new_row_df], ignore_index=True)\n",
    "            position += 1\n",
    "    \n",
    "    # work with two for loops:\n",
    "    # 1) one to iterate over the list of queries and have a query id instead of a query\n",
    "    # 2) another one to iterate over the result sets to have the position of the result in the result set \n",
    "    \n",
    "    # DataFrame is created using some of TREC's namings for the evaluation tools:\n",
    "    # query_id: the id of the query as the trec_eval tool needs a numeric id rather than a query string as an identifier\n",
    "    # query_string: the user query\n",
    "    # product_id: the id of the product in the hit list\n",
    "    # position: the position of the product in the result set\n",
    "    # relevance: relevance as given by the search engine\n",
    "    # run: the name of the model used to predict the neuralness of the model\n",
    "    # pipeline: the pipeline used for the query"
   ]
  },
  {
   "cell_type": "code",
   "execution_count": 403,
   "id": "bf3d9839-1dbc-4af6-9f30-c6df4e58b6c6",
   "metadata": {},
   "outputs": [
    {
     "data": {
      "text/html": [
       "<div>\n",
       "<style scoped>\n",
       "    .dataframe tbody tr th:only-of-type {\n",
       "        vertical-align: middle;\n",
       "    }\n",
       "\n",
       "    .dataframe tbody tr th {\n",
       "        vertical-align: top;\n",
       "    }\n",
       "\n",
       "    .dataframe thead th {\n",
       "        text-align: right;\n",
       "    }\n",
       "</style>\n",
       "<table border=\"1\" class=\"dataframe\">\n",
       "  <thead>\n",
       "    <tr style=\"text-align: right;\">\n",
       "      <th></th>\n",
       "      <th>query_id</th>\n",
       "      <th>query_string</th>\n",
       "      <th>product_id</th>\n",
       "      <th>position</th>\n",
       "      <th>relevance</th>\n",
       "      <th>run</th>\n",
       "      <th>neuralness</th>\n",
       "    </tr>\n",
       "  </thead>\n",
       "  <tbody>\n",
       "    <tr>\n",
       "      <th>0</th>\n",
       "      <td>0</td>\n",
       "      <td>7 days without a pun makes one weak</td>\n",
       "      <td>B07PCLLG2H</td>\n",
       "      <td>0</td>\n",
       "      <td>0.358882</td>\n",
       "      <td>linear_model</td>\n",
       "      <td>0.8</td>\n",
       "    </tr>\n",
       "    <tr>\n",
       "      <th>1</th>\n",
       "      <td>0</td>\n",
       "      <td>7 days without a pun makes one weak</td>\n",
       "      <td>B07PY9SL52</td>\n",
       "      <td>1</td>\n",
       "      <td>0.352712</td>\n",
       "      <td>linear_model</td>\n",
       "      <td>0.8</td>\n",
       "    </tr>\n",
       "    <tr>\n",
       "      <th>2</th>\n",
       "      <td>0</td>\n",
       "      <td>7 days without a pun makes one weak</td>\n",
       "      <td>B083Z9M4TR</td>\n",
       "      <td>2</td>\n",
       "      <td>0.347025</td>\n",
       "      <td>linear_model</td>\n",
       "      <td>0.8</td>\n",
       "    </tr>\n",
       "  </tbody>\n",
       "</table>\n",
       "</div>"
      ],
      "text/plain": [
       "  query_id                         query_string  product_id position  \\\n",
       "0        0  7 days without a pun makes one weak  B07PCLLG2H        0   \n",
       "1        0  7 days without a pun makes one weak  B07PY9SL52        1   \n",
       "2        0  7 days without a pun makes one weak  B083Z9M4TR        2   \n",
       "\n",
       "   relevance           run  neuralness  \n",
       "0   0.358882  linear_model         0.8  \n",
       "1   0.352712  linear_model         0.8  \n",
       "2   0.347025  linear_model         0.8  "
      ]
     },
     "execution_count": 403,
     "metadata": {},
     "output_type": "execute_result"
    }
   ],
   "source": [
    "# we have number of queries * number of models * 100 retrieved results in the resulting DataFrame\n",
    "df_relevance.head(3)"
   ]
  },
  {
   "cell_type": "code",
   "execution_count": 405,
   "id": "995ada8f-785b-4a7d-a44e-772d5b58d847",
   "metadata": {},
   "outputs": [
    {
     "data": {
      "text/html": [
       "<div>\n",
       "<style scoped>\n",
       "    .dataframe tbody tr th:only-of-type {\n",
       "        vertical-align: middle;\n",
       "    }\n",
       "\n",
       "    .dataframe tbody tr th {\n",
       "        vertical-align: top;\n",
       "    }\n",
       "\n",
       "    .dataframe thead th {\n",
       "        text-align: right;\n",
       "    }\n",
       "</style>\n",
       "<table border=\"1\" class=\"dataframe\">\n",
       "  <thead>\n",
       "    <tr style=\"text-align: right;\">\n",
       "      <th></th>\n",
       "      <th>query_string</th>\n",
       "      <th>product_id</th>\n",
       "      <th>rating</th>\n",
       "      <th>query_id</th>\n",
       "    </tr>\n",
       "  </thead>\n",
       "  <tbody>\n",
       "    <tr>\n",
       "      <th>0</th>\n",
       "      <td>$30 roblox gift card not digital</td>\n",
       "      <td>B07RX6FBFR</td>\n",
       "      <td>3</td>\n",
       "      <td>0</td>\n",
       "    </tr>\n",
       "    <tr>\n",
       "      <th>1</th>\n",
       "      <td>$30 roblox gift card not digital</td>\n",
       "      <td>B09194H44R</td>\n",
       "      <td>0</td>\n",
       "      <td>0</td>\n",
       "    </tr>\n",
       "    <tr>\n",
       "      <th>2</th>\n",
       "      <td>$30 roblox gift card not digital</td>\n",
       "      <td>B08R5N6W6B</td>\n",
       "      <td>2</td>\n",
       "      <td>0</td>\n",
       "    </tr>\n",
       "  </tbody>\n",
       "</table>\n",
       "</div>"
      ],
      "text/plain": [
       "                       query_string  product_id  rating query_id\n",
       "0  $30 roblox gift card not digital  B07RX6FBFR       3        0\n",
       "1  $30 roblox gift card not digital  B09194H44R       0        0\n",
       "2  $30 roblox gift card not digital  B08R5N6W6B       2        0"
      ]
     },
     "execution_count": 405,
     "metadata": {},
     "output_type": "execute_result"
    }
   ],
   "source": [
    "df_ratings.head(3)"
   ]
  },
  {
   "cell_type": "code",
   "execution_count": 406,
   "id": "b2ce5ae2-111c-4b10-b0ad-b830759d7fe8",
   "metadata": {},
   "outputs": [
    {
     "data": {
      "text/html": [
       "<div>\n",
       "<style scoped>\n",
       "    .dataframe tbody tr th:only-of-type {\n",
       "        vertical-align: middle;\n",
       "    }\n",
       "\n",
       "    .dataframe tbody tr th {\n",
       "        vertical-align: top;\n",
       "    }\n",
       "\n",
       "    .dataframe thead th {\n",
       "        text-align: right;\n",
       "    }\n",
       "</style>\n",
       "<table border=\"1\" class=\"dataframe\">\n",
       "  <thead>\n",
       "    <tr style=\"text-align: right;\">\n",
       "      <th></th>\n",
       "      <th>query_string</th>\n",
       "      <th>product_id</th>\n",
       "      <th>rating</th>\n",
       "      <th>query_id</th>\n",
       "    </tr>\n",
       "  </thead>\n",
       "  <tbody>\n",
       "    <tr>\n",
       "      <th>0</th>\n",
       "      <td>$30 roblox gift card not digital</td>\n",
       "      <td>B07RX6FBFR</td>\n",
       "      <td>3</td>\n",
       "      <td>0</td>\n",
       "    </tr>\n",
       "    <tr>\n",
       "      <th>1</th>\n",
       "      <td>$30 roblox gift card not digital</td>\n",
       "      <td>B09194H44R</td>\n",
       "      <td>0</td>\n",
       "      <td>0</td>\n",
       "    </tr>\n",
       "    <tr>\n",
       "      <th>2</th>\n",
       "      <td>$30 roblox gift card not digital</td>\n",
       "      <td>B08R5N6W6B</td>\n",
       "      <td>2</td>\n",
       "      <td>0</td>\n",
       "    </tr>\n",
       "  </tbody>\n",
       "</table>\n",
       "</div>"
      ],
      "text/plain": [
       "                       query_string  product_id  rating query_id\n",
       "0  $30 roblox gift card not digital  B07RX6FBFR       3        0\n",
       "1  $30 roblox gift card not digital  B09194H44R       0        0\n",
       "2  $30 roblox gift card not digital  B08R5N6W6B       2        0"
      ]
     },
     "execution_count": 406,
     "metadata": {},
     "output_type": "execute_result"
    }
   ],
   "source": [
    "df_ratings.columns = ['query_string', 'product_id', 'rating', 'query_id']\n",
    "df_ratings.head(3)"
   ]
  },
  {
   "cell_type": "code",
   "execution_count": 407,
   "id": "7f8009df-4957-446d-8880-a3275d8c6404",
   "metadata": {},
   "outputs": [
    {
     "data": {
      "text/html": [
       "<div>\n",
       "<style scoped>\n",
       "    .dataframe tbody tr th:only-of-type {\n",
       "        vertical-align: middle;\n",
       "    }\n",
       "\n",
       "    .dataframe tbody tr th {\n",
       "        vertical-align: top;\n",
       "    }\n",
       "\n",
       "    .dataframe thead th {\n",
       "        text-align: right;\n",
       "    }\n",
       "</style>\n",
       "<table border=\"1\" class=\"dataframe\">\n",
       "  <thead>\n",
       "    <tr style=\"text-align: right;\">\n",
       "      <th></th>\n",
       "      <th>query_id</th>\n",
       "      <th>query_string</th>\n",
       "      <th>product_id</th>\n",
       "      <th>position</th>\n",
       "      <th>relevance</th>\n",
       "      <th>run</th>\n",
       "      <th>neuralness</th>\n",
       "    </tr>\n",
       "  </thead>\n",
       "  <tbody>\n",
       "    <tr>\n",
       "      <th>0</th>\n",
       "      <td>0</td>\n",
       "      <td>7 days without a pun makes one weak</td>\n",
       "      <td>B07PCLLG2H</td>\n",
       "      <td>0</td>\n",
       "      <td>0.358882</td>\n",
       "      <td>linear_model</td>\n",
       "      <td>0.8</td>\n",
       "    </tr>\n",
       "    <tr>\n",
       "      <th>1</th>\n",
       "      <td>0</td>\n",
       "      <td>7 days without a pun makes one weak</td>\n",
       "      <td>B07PY9SL52</td>\n",
       "      <td>1</td>\n",
       "      <td>0.352712</td>\n",
       "      <td>linear_model</td>\n",
       "      <td>0.8</td>\n",
       "    </tr>\n",
       "    <tr>\n",
       "      <th>2</th>\n",
       "      <td>0</td>\n",
       "      <td>7 days without a pun makes one weak</td>\n",
       "      <td>B083Z9M4TR</td>\n",
       "      <td>2</td>\n",
       "      <td>0.347025</td>\n",
       "      <td>linear_model</td>\n",
       "      <td>0.8</td>\n",
       "    </tr>\n",
       "  </tbody>\n",
       "</table>\n",
       "</div>"
      ],
      "text/plain": [
       "  query_id                         query_string  product_id position  \\\n",
       "0        0  7 days without a pun makes one weak  B07PCLLG2H        0   \n",
       "1        0  7 days without a pun makes one weak  B07PY9SL52        1   \n",
       "2        0  7 days without a pun makes one weak  B083Z9M4TR        2   \n",
       "\n",
       "   relevance           run  neuralness  \n",
       "0   0.358882  linear_model         0.8  \n",
       "1   0.352712  linear_model         0.8  \n",
       "2   0.347025  linear_model         0.8  "
      ]
     },
     "execution_count": 407,
     "metadata": {},
     "output_type": "execute_result"
    }
   ],
   "source": [
    "df_relevance.head(3)"
   ]
  },
  {
   "cell_type": "code",
   "execution_count": 408,
   "id": "429111ec-6ea2-4e62-b5d1-e8d738eb04ea",
   "metadata": {},
   "outputs": [],
   "source": [
    "# Make sure ids are strings - otherwise the merge operation might cause an error\n",
    "df_relevance['query_id'] = df_relevance['query_id'].astype(str)\n",
    "df_relevance['position'] = df_relevance['position'].astype(int)\n",
    "df_ratings['query_id'] = df_ratings['query_id'].astype(str)\n",
    "# Remove duplicates from the ratings DataFrame\n",
    "df_unique_ratings = df_ratings.drop_duplicates(subset=['product_id', 'query_id'])"
   ]
  },
  {
   "cell_type": "code",
   "execution_count": 409,
   "id": "a25c28f3-080d-4072-bf39-6550e5b5acba",
   "metadata": {},
   "outputs": [
    {
     "data": {
      "text/html": [
       "<div>\n",
       "<style scoped>\n",
       "    .dataframe tbody tr th:only-of-type {\n",
       "        vertical-align: middle;\n",
       "    }\n",
       "\n",
       "    .dataframe tbody tr th {\n",
       "        vertical-align: top;\n",
       "    }\n",
       "\n",
       "    .dataframe thead th {\n",
       "        text-align: right;\n",
       "    }\n",
       "</style>\n",
       "<table border=\"1\" class=\"dataframe\">\n",
       "  <thead>\n",
       "    <tr style=\"text-align: right;\">\n",
       "      <th></th>\n",
       "      <th>query_id</th>\n",
       "      <th>query_string</th>\n",
       "      <th>product_id</th>\n",
       "      <th>position</th>\n",
       "      <th>relevance</th>\n",
       "      <th>run</th>\n",
       "      <th>neuralness</th>\n",
       "      <th>rating</th>\n",
       "    </tr>\n",
       "  </thead>\n",
       "  <tbody>\n",
       "    <tr>\n",
       "      <th>0</th>\n",
       "      <td>0</td>\n",
       "      <td>7 days without a pun makes one weak</td>\n",
       "      <td>B07PCLLG2H</td>\n",
       "      <td>0</td>\n",
       "      <td>0.358882</td>\n",
       "      <td>linear_model</td>\n",
       "      <td>0.8</td>\n",
       "      <td>3.0</td>\n",
       "    </tr>\n",
       "    <tr>\n",
       "      <th>1</th>\n",
       "      <td>0</td>\n",
       "      <td>7 days without a pun makes one weak</td>\n",
       "      <td>B07PY9SL52</td>\n",
       "      <td>1</td>\n",
       "      <td>0.352712</td>\n",
       "      <td>linear_model</td>\n",
       "      <td>0.8</td>\n",
       "      <td>NaN</td>\n",
       "    </tr>\n",
       "    <tr>\n",
       "      <th>2</th>\n",
       "      <td>0</td>\n",
       "      <td>7 days without a pun makes one weak</td>\n",
       "      <td>B083Z9M4TR</td>\n",
       "      <td>2</td>\n",
       "      <td>0.347025</td>\n",
       "      <td>linear_model</td>\n",
       "      <td>0.8</td>\n",
       "      <td>3.0</td>\n",
       "    </tr>\n",
       "  </tbody>\n",
       "</table>\n",
       "</div>"
      ],
      "text/plain": [
       "  query_id                         query_string  product_id  position  \\\n",
       "0        0  7 days without a pun makes one weak  B07PCLLG2H         0   \n",
       "1        0  7 days without a pun makes one weak  B07PY9SL52         1   \n",
       "2        0  7 days without a pun makes one weak  B083Z9M4TR         2   \n",
       "\n",
       "   relevance           run  neuralness  rating  \n",
       "0   0.358882  linear_model         0.8     3.0  \n",
       "1   0.352712  linear_model         0.8     NaN  \n",
       "2   0.347025  linear_model         0.8     3.0  "
      ]
     },
     "execution_count": 409,
     "metadata": {},
     "output_type": "execute_result"
    }
   ],
   "source": [
    "# Merge results on query_string and product_id so that the resulting DataFrame has the ratings together with the search results\n",
    "# Merge on query_string instead of query_id because the df_relevance query_ids are not the ones originating from the ratings.\n",
    "# Validations helps us make sure that we have only one rating for each query-doc pair. We have identical query-doc pairs per\n",
    "# search pipeline but we can only have one rating for these.\n",
    "\n",
    "df_merged = df_relevance.merge(df_unique_ratings, on=['query_string', 'product_id'], how='left', validate='many_to_one')\n",
    "# remove unnecessary information and rename columns\n",
    "df_merged = df_merged.drop(columns=['query_id_y'])\n",
    "\n",
    "df_merged = df_merged.rename(columns={\"query_id_x\": \"query_id\"})\n",
    "df_merged.head(3)"
   ]
  },
  {
   "cell_type": "code",
   "execution_count": 410,
   "id": "ef79c405-295a-430a-8fc0-ed94f9d035b3",
   "metadata": {},
   "outputs": [
    {
     "name": "stdout",
     "output_type": "stream",
     "text": [
      "There are 880 rows and 586 do not contain a rating among the 100 returned results per query\n",
      "586 do not contain a rating among the top 10 returned results per query\n"
     ]
    }
   ],
   "source": [
    "# Count the rows without ratings - the higher the count is the less reliable the results will be\n",
    "nan_count_rating = df_merged['rating'].isna().sum()\n",
    "print(f\"There are {df_merged.shape[0]} rows and {nan_count_rating} do not contain a rating among the 100 returned results per query\")\n",
    "nan_count_rating_top_10 = df_merged[df_merged['position'] < 10]['rating'].isna().sum()\n",
    "print(f\"{nan_count_rating_top_10} do not contain a rating among the top 10 returned results per query\")"
   ]
  },
  {
   "cell_type": "code",
   "execution_count": 397,
   "id": "473b1fca-6088-4da3-84d3-ec8a52120975",
   "metadata": {},
   "outputs": [
    {
     "data": {
      "text/html": [
       "<div>\n",
       "<style scoped>\n",
       "    .dataframe tbody tr th:only-of-type {\n",
       "        vertical-align: middle;\n",
       "    }\n",
       "\n",
       "    .dataframe tbody tr th {\n",
       "        vertical-align: top;\n",
       "    }\n",
       "\n",
       "    .dataframe thead th {\n",
       "        text-align: right;\n",
       "    }\n",
       "</style>\n",
       "<table border=\"1\" class=\"dataframe\">\n",
       "  <thead>\n",
       "    <tr style=\"text-align: right;\">\n",
       "      <th></th>\n",
       "      <th>query_id</th>\n",
       "      <th>query_string</th>\n",
       "      <th>product_id</th>\n",
       "      <th>position</th>\n",
       "      <th>relevance</th>\n",
       "      <th>run</th>\n",
       "      <th>neuralness</th>\n",
       "      <th>rating</th>\n",
       "    </tr>\n",
       "  </thead>\n",
       "  <tbody>\n",
       "    <tr>\n",
       "      <th>0</th>\n",
       "      <td>0</td>\n",
       "      <td>7 days without a pun makes one weak</td>\n",
       "      <td>B07PCLLG2H</td>\n",
       "      <td>0</td>\n",
       "      <td>0.193235</td>\n",
       "      <td>linear_model</td>\n",
       "      <td>0.8</td>\n",
       "      <td>3.0</td>\n",
       "    </tr>\n",
       "    <tr>\n",
       "      <th>1</th>\n",
       "      <td>0</td>\n",
       "      <td>7 days without a pun makes one weak</td>\n",
       "      <td>B07PY9SL52</td>\n",
       "      <td>1</td>\n",
       "      <td>0.190547</td>\n",
       "      <td>linear_model</td>\n",
       "      <td>0.8</td>\n",
       "      <td>NaN</td>\n",
       "    </tr>\n",
       "    <tr>\n",
       "      <th>2</th>\n",
       "      <td>0</td>\n",
       "      <td>7 days without a pun makes one weak</td>\n",
       "      <td>B083Z9M4TR</td>\n",
       "      <td>2</td>\n",
       "      <td>0.186959</td>\n",
       "      <td>linear_model</td>\n",
       "      <td>0.8</td>\n",
       "      <td>3.0</td>\n",
       "    </tr>\n",
       "    <tr>\n",
       "      <th>3</th>\n",
       "      <td>0</td>\n",
       "      <td>7 days without a pun makes one weak</td>\n",
       "      <td>B07PGBYSYD</td>\n",
       "      <td>3</td>\n",
       "      <td>0.184747</td>\n",
       "      <td>linear_model</td>\n",
       "      <td>0.8</td>\n",
       "      <td>3.0</td>\n",
       "    </tr>\n",
       "    <tr>\n",
       "      <th>4</th>\n",
       "      <td>0</td>\n",
       "      <td>7 days without a pun makes one weak</td>\n",
       "      <td>B07RHGP8T8</td>\n",
       "      <td>4</td>\n",
       "      <td>0.181853</td>\n",
       "      <td>linear_model</td>\n",
       "      <td>0.8</td>\n",
       "      <td>3.0</td>\n",
       "    </tr>\n",
       "    <tr>\n",
       "      <th>5</th>\n",
       "      <td>0</td>\n",
       "      <td>7 days without a pun makes one weak</td>\n",
       "      <td>B07SQQX2MM</td>\n",
       "      <td>5</td>\n",
       "      <td>0.168095</td>\n",
       "      <td>linear_model</td>\n",
       "      <td>0.8</td>\n",
       "      <td>3.0</td>\n",
       "    </tr>\n",
       "    <tr>\n",
       "      <th>6</th>\n",
       "      <td>0</td>\n",
       "      <td>7 days without a pun makes one weak</td>\n",
       "      <td>B098DQCZRN</td>\n",
       "      <td>6</td>\n",
       "      <td>0.157232</td>\n",
       "      <td>linear_model</td>\n",
       "      <td>0.8</td>\n",
       "      <td>3.0</td>\n",
       "    </tr>\n",
       "    <tr>\n",
       "      <th>7</th>\n",
       "      <td>0</td>\n",
       "      <td>7 days without a pun makes one weak</td>\n",
       "      <td>B07BGXLBVF</td>\n",
       "      <td>7</td>\n",
       "      <td>0.140699</td>\n",
       "      <td>linear_model</td>\n",
       "      <td>0.8</td>\n",
       "      <td>3.0</td>\n",
       "    </tr>\n",
       "    <tr>\n",
       "      <th>8</th>\n",
       "      <td>0</td>\n",
       "      <td>7 days without a pun makes one weak</td>\n",
       "      <td>B086JPN89N</td>\n",
       "      <td>8</td>\n",
       "      <td>0.138292</td>\n",
       "      <td>linear_model</td>\n",
       "      <td>0.8</td>\n",
       "      <td>3.0</td>\n",
       "    </tr>\n",
       "    <tr>\n",
       "      <th>9</th>\n",
       "      <td>0</td>\n",
       "      <td>7 days without a pun makes one weak</td>\n",
       "      <td>1687430438</td>\n",
       "      <td>9</td>\n",
       "      <td>0.136704</td>\n",
       "      <td>linear_model</td>\n",
       "      <td>0.8</td>\n",
       "      <td>3.0</td>\n",
       "    </tr>\n",
       "  </tbody>\n",
       "</table>\n",
       "</div>"
      ],
      "text/plain": [
       "  query_id                         query_string  product_id  position  \\\n",
       "0        0  7 days without a pun makes one weak  B07PCLLG2H         0   \n",
       "1        0  7 days without a pun makes one weak  B07PY9SL52         1   \n",
       "2        0  7 days without a pun makes one weak  B083Z9M4TR         2   \n",
       "3        0  7 days without a pun makes one weak  B07PGBYSYD         3   \n",
       "4        0  7 days without a pun makes one weak  B07RHGP8T8         4   \n",
       "5        0  7 days without a pun makes one weak  B07SQQX2MM         5   \n",
       "6        0  7 days without a pun makes one weak  B098DQCZRN         6   \n",
       "7        0  7 days without a pun makes one weak  B07BGXLBVF         7   \n",
       "8        0  7 days without a pun makes one weak  B086JPN89N         8   \n",
       "9        0  7 days without a pun makes one weak  1687430438         9   \n",
       "\n",
       "   relevance           run  neuralness  rating  \n",
       "0   0.193235  linear_model         0.8     3.0  \n",
       "1   0.190547  linear_model         0.8     NaN  \n",
       "2   0.186959  linear_model         0.8     3.0  \n",
       "3   0.184747  linear_model         0.8     3.0  \n",
       "4   0.181853  linear_model         0.8     3.0  \n",
       "5   0.168095  linear_model         0.8     3.0  \n",
       "6   0.157232  linear_model         0.8     3.0  \n",
       "7   0.140699  linear_model         0.8     3.0  \n",
       "8   0.138292  linear_model         0.8     3.0  \n",
       "9   0.136704  linear_model         0.8     3.0  "
      ]
     },
     "execution_count": 397,
     "metadata": {},
     "output_type": "execute_result"
    }
   ],
   "source": [
    "df_merged[df_merged['position'] < 10].head(10)"
   ]
  },
  {
   "cell_type": "code",
   "execution_count": null,
   "id": "5c112294-2bd9-49f3-a24a-d00491eabc17",
   "metadata": {},
   "outputs": [],
   "source": [
    "# import from shared utils file metrics.py\n",
    "from utils import metrics\n",
    "\n",
    "metrics = [\n",
    "    (\"dcg\", metrics.dcg_at_10, None),\n",
    "    (\"ndcg\", metrics.ndcg_at_10, None),\n",
    "    (\"prec@10\", metrics.precision_at_k, None),\n",
    "    (\"ratio_of_ratings\", metrics.ratio_of_ratings, None)\n",
    "]"
   ]
  },
  {
   "cell_type": "code",
   "execution_count": 398,
   "id": "0c2c2b65-9ea1-4def-981b-e864d38ff593",
   "metadata": {},
   "outputs": [],
   "source": [
    "reference = {query: df for query, df in df_ratings.groupby(\"query_string\")}\n",
    "\n",
    "df_metrics = []\n",
    "for m_name, m_function, ref_search in metrics:\n",
    "    for (query_string, run), df_gr in df_merged.groupby([\"query_string\", \"run\"]):\n",
    "        metric = m_function(df_gr, reference=reference[query_string])\n",
    "        df_metrics.append(pd.DataFrame({\n",
    "            \"query\": [query_string],\n",
    "            \"model\": [run],\n",
    "            \"metric\": [m_name],\n",
    "            \"value\": [metric],\n",
    "        }))\n",
    "df_metrics = pd.concat(df_metrics)"
   ]
  },
  {
   "cell_type": "code",
   "execution_count": 399,
   "id": "344c2f18-593f-4e0d-a83e-453d7b19438f",
   "metadata": {},
   "outputs": [
    {
     "data": {
      "text/html": [
       "<div>\n",
       "<style scoped>\n",
       "    .dataframe tbody tr th:only-of-type {\n",
       "        vertical-align: middle;\n",
       "    }\n",
       "\n",
       "    .dataframe tbody tr th {\n",
       "        vertical-align: top;\n",
       "    }\n",
       "\n",
       "    .dataframe thead th {\n",
       "        text-align: right;\n",
       "    }\n",
       "</style>\n",
       "<table border=\"1\" class=\"dataframe\">\n",
       "  <thead>\n",
       "    <tr style=\"text-align: right;\">\n",
       "      <th></th>\n",
       "      <th>query</th>\n",
       "      <th>model</th>\n",
       "      <th>metric</th>\n",
       "      <th>value</th>\n",
       "    </tr>\n",
       "  </thead>\n",
       "  <tbody>\n",
       "    <tr>\n",
       "      <th>0</th>\n",
       "      <td>7 days without a pun makes one weak</td>\n",
       "      <td>linear_model</td>\n",
       "      <td>dcg</td>\n",
       "      <td>15.650518</td>\n",
       "    </tr>\n",
       "    <tr>\n",
       "      <th>0</th>\n",
       "      <td>7 days without a pun makes one weak</td>\n",
       "      <td>random_forest</td>\n",
       "      <td>dcg</td>\n",
       "      <td>15.650518</td>\n",
       "    </tr>\n",
       "    <tr>\n",
       "      <th>0</th>\n",
       "      <td>american flag 5x8 outdoor made in usa</td>\n",
       "      <td>linear_model</td>\n",
       "      <td>dcg</td>\n",
       "      <td>13.218665</td>\n",
       "    </tr>\n",
       "  </tbody>\n",
       "</table>\n",
       "</div>"
      ],
      "text/plain": [
       "                                   query          model metric      value\n",
       "0    7 days without a pun makes one weak   linear_model    dcg  15.650518\n",
       "0    7 days without a pun makes one weak  random_forest    dcg  15.650518\n",
       "0  american flag 5x8 outdoor made in usa   linear_model    dcg  13.218665"
      ]
     },
     "execution_count": 399,
     "metadata": {},
     "output_type": "execute_result"
    }
   ],
   "source": [
    "df_metrics.head(3)"
   ]
  },
  {
   "cell_type": "code",
   "execution_count": 400,
   "id": "596ee1b8-b3e4-48ec-a746-40b3af83bf38",
   "metadata": {},
   "outputs": [
    {
     "data": {
      "text/html": [
       "<div>\n",
       "<style scoped>\n",
       "    .dataframe tbody tr th:only-of-type {\n",
       "        vertical-align: middle;\n",
       "    }\n",
       "\n",
       "    .dataframe tbody tr th {\n",
       "        vertical-align: top;\n",
       "    }\n",
       "\n",
       "    .dataframe thead th {\n",
       "        text-align: right;\n",
       "    }\n",
       "</style>\n",
       "<table border=\"1\" class=\"dataframe\">\n",
       "  <thead>\n",
       "    <tr style=\"text-align: right;\">\n",
       "      <th></th>\n",
       "      <th>query_id</th>\n",
       "      <th>query_string</th>\n",
       "      <th>product_id</th>\n",
       "      <th>position</th>\n",
       "      <th>relevance</th>\n",
       "      <th>run</th>\n",
       "      <th>neuralness</th>\n",
       "      <th>rating</th>\n",
       "    </tr>\n",
       "  </thead>\n",
       "  <tbody>\n",
       "    <tr>\n",
       "      <th>0</th>\n",
       "      <td>0</td>\n",
       "      <td>7 days without a pun makes one weak</td>\n",
       "      <td>B07PCLLG2H</td>\n",
       "      <td>0</td>\n",
       "      <td>0.193235</td>\n",
       "      <td>linear_model</td>\n",
       "      <td>0.8</td>\n",
       "      <td>3.0</td>\n",
       "    </tr>\n",
       "    <tr>\n",
       "      <th>1</th>\n",
       "      <td>0</td>\n",
       "      <td>7 days without a pun makes one weak</td>\n",
       "      <td>B07PY9SL52</td>\n",
       "      <td>1</td>\n",
       "      <td>0.190547</td>\n",
       "      <td>linear_model</td>\n",
       "      <td>0.8</td>\n",
       "      <td>NaN</td>\n",
       "    </tr>\n",
       "    <tr>\n",
       "      <th>2</th>\n",
       "      <td>0</td>\n",
       "      <td>7 days without a pun makes one weak</td>\n",
       "      <td>B083Z9M4TR</td>\n",
       "      <td>2</td>\n",
       "      <td>0.186959</td>\n",
       "      <td>linear_model</td>\n",
       "      <td>0.8</td>\n",
       "      <td>3.0</td>\n",
       "    </tr>\n",
       "    <tr>\n",
       "      <th>3</th>\n",
       "      <td>0</td>\n",
       "      <td>7 days without a pun makes one weak</td>\n",
       "      <td>B07PGBYSYD</td>\n",
       "      <td>3</td>\n",
       "      <td>0.184747</td>\n",
       "      <td>linear_model</td>\n",
       "      <td>0.8</td>\n",
       "      <td>3.0</td>\n",
       "    </tr>\n",
       "    <tr>\n",
       "      <th>4</th>\n",
       "      <td>0</td>\n",
       "      <td>7 days without a pun makes one weak</td>\n",
       "      <td>B07RHGP8T8</td>\n",
       "      <td>4</td>\n",
       "      <td>0.181853</td>\n",
       "      <td>linear_model</td>\n",
       "      <td>0.8</td>\n",
       "      <td>3.0</td>\n",
       "    </tr>\n",
       "    <tr>\n",
       "      <th>5</th>\n",
       "      <td>0</td>\n",
       "      <td>7 days without a pun makes one weak</td>\n",
       "      <td>B07SQQX2MM</td>\n",
       "      <td>5</td>\n",
       "      <td>0.168095</td>\n",
       "      <td>linear_model</td>\n",
       "      <td>0.8</td>\n",
       "      <td>3.0</td>\n",
       "    </tr>\n",
       "    <tr>\n",
       "      <th>6</th>\n",
       "      <td>0</td>\n",
       "      <td>7 days without a pun makes one weak</td>\n",
       "      <td>B098DQCZRN</td>\n",
       "      <td>6</td>\n",
       "      <td>0.157232</td>\n",
       "      <td>linear_model</td>\n",
       "      <td>0.8</td>\n",
       "      <td>3.0</td>\n",
       "    </tr>\n",
       "    <tr>\n",
       "      <th>7</th>\n",
       "      <td>0</td>\n",
       "      <td>7 days without a pun makes one weak</td>\n",
       "      <td>B07BGXLBVF</td>\n",
       "      <td>7</td>\n",
       "      <td>0.140699</td>\n",
       "      <td>linear_model</td>\n",
       "      <td>0.8</td>\n",
       "      <td>3.0</td>\n",
       "    </tr>\n",
       "    <tr>\n",
       "      <th>8</th>\n",
       "      <td>0</td>\n",
       "      <td>7 days without a pun makes one weak</td>\n",
       "      <td>B086JPN89N</td>\n",
       "      <td>8</td>\n",
       "      <td>0.138292</td>\n",
       "      <td>linear_model</td>\n",
       "      <td>0.8</td>\n",
       "      <td>3.0</td>\n",
       "    </tr>\n",
       "    <tr>\n",
       "      <th>9</th>\n",
       "      <td>0</td>\n",
       "      <td>7 days without a pun makes one weak</td>\n",
       "      <td>1687430438</td>\n",
       "      <td>9</td>\n",
       "      <td>0.136704</td>\n",
       "      <td>linear_model</td>\n",
       "      <td>0.8</td>\n",
       "      <td>3.0</td>\n",
       "    </tr>\n",
       "  </tbody>\n",
       "</table>\n",
       "</div>"
      ],
      "text/plain": [
       "  query_id                         query_string  product_id  position  \\\n",
       "0        0  7 days without a pun makes one weak  B07PCLLG2H         0   \n",
       "1        0  7 days without a pun makes one weak  B07PY9SL52         1   \n",
       "2        0  7 days without a pun makes one weak  B083Z9M4TR         2   \n",
       "3        0  7 days without a pun makes one weak  B07PGBYSYD         3   \n",
       "4        0  7 days without a pun makes one weak  B07RHGP8T8         4   \n",
       "5        0  7 days without a pun makes one weak  B07SQQX2MM         5   \n",
       "6        0  7 days without a pun makes one weak  B098DQCZRN         6   \n",
       "7        0  7 days without a pun makes one weak  B07BGXLBVF         7   \n",
       "8        0  7 days without a pun makes one weak  B086JPN89N         8   \n",
       "9        0  7 days without a pun makes one weak  1687430438         9   \n",
       "\n",
       "   relevance           run  neuralness  rating  \n",
       "0   0.193235  linear_model         0.8     3.0  \n",
       "1   0.190547  linear_model         0.8     NaN  \n",
       "2   0.186959  linear_model         0.8     3.0  \n",
       "3   0.184747  linear_model         0.8     3.0  \n",
       "4   0.181853  linear_model         0.8     3.0  \n",
       "5   0.168095  linear_model         0.8     3.0  \n",
       "6   0.157232  linear_model         0.8     3.0  \n",
       "7   0.140699  linear_model         0.8     3.0  \n",
       "8   0.138292  linear_model         0.8     3.0  \n",
       "9   0.136704  linear_model         0.8     3.0  "
      ]
     },
     "execution_count": 400,
     "metadata": {},
     "output_type": "execute_result"
    }
   ],
   "source": [
    "df_merged[(df_merged['query_string'] == '7 days without a pun makes one weak') & (df_merged['run'] == 'linear_model')].head(10)"
   ]
  },
  {
   "cell_type": "markdown",
   "id": "64abdbac-0899-465e-a50e-3de231ac9399",
   "metadata": {},
   "source": [
    "## Calculate Metrics per Model by Averaging the Query Metrics"
   ]
  },
  {
   "cell_type": "code",
   "execution_count": 424,
   "id": "da4fa3d8-8e86-4596-809b-4b698f202b85",
   "metadata": {},
   "outputs": [
    {
     "data": {
      "text/html": [
       "<div>\n",
       "<style scoped>\n",
       "    .dataframe tbody tr th:only-of-type {\n",
       "        vertical-align: middle;\n",
       "    }\n",
       "\n",
       "    .dataframe tbody tr th {\n",
       "        vertical-align: top;\n",
       "    }\n",
       "\n",
       "    .dataframe thead th {\n",
       "        text-align: right;\n",
       "    }\n",
       "</style>\n",
       "<table border=\"1\" class=\"dataframe\">\n",
       "  <thead>\n",
       "    <tr style=\"text-align: right;\">\n",
       "      <th>metric</th>\n",
       "      <th>model</th>\n",
       "      <th>dcg</th>\n",
       "      <th>ndcg</th>\n",
       "      <th>prec@10</th>\n",
       "      <th>ratio_of_ratings</th>\n",
       "    </tr>\n",
       "  </thead>\n",
       "  <tbody>\n",
       "    <tr>\n",
       "      <th>0</th>\n",
       "      <td>linear_model</td>\n",
       "      <td>7.57</td>\n",
       "      <td>0.35</td>\n",
       "      <td>0.39</td>\n",
       "      <td>0.41</td>\n",
       "    </tr>\n",
       "    <tr>\n",
       "      <th>1</th>\n",
       "      <td>random_forest</td>\n",
       "      <td>7.82</td>\n",
       "      <td>0.36</td>\n",
       "      <td>0.41</td>\n",
       "      <td>0.43</td>\n",
       "    </tr>\n",
       "  </tbody>\n",
       "</table>\n",
       "</div>"
      ],
      "text/plain": [
       "metric          model   dcg  ndcg  prec@10  ratio_of_ratings\n",
       "0        linear_model  7.57  0.35     0.39              0.41\n",
       "1       random_forest  7.82  0.36     0.41              0.43"
      ]
     },
     "execution_count": 424,
     "metadata": {},
     "output_type": "execute_result"
    }
   ],
   "source": [
    "df_metrics_per_pipeline = df_metrics.pivot_table(index=\"model\", columns=\"metric\", values=\"value\", aggfunc=lambda x: x.mean().round(2))\n",
    "df_metrics_per_pipeline = df_metrics_per_pipeline.reset_index()\n",
    "df_metrics_per_pipeline"
   ]
  },
  {
   "cell_type": "code",
   "execution_count": 374,
   "id": "11640b1c-bc7c-4919-aea5-5238f254e99e",
   "metadata": {},
   "outputs": [
    {
     "data": {
      "text/html": [
       "<div>\n",
       "<style scoped>\n",
       "    .dataframe tbody tr th:only-of-type {\n",
       "        vertical-align: middle;\n",
       "    }\n",
       "\n",
       "    .dataframe tbody tr th {\n",
       "        vertical-align: top;\n",
       "    }\n",
       "\n",
       "    .dataframe thead th {\n",
       "        text-align: right;\n",
       "    }\n",
       "</style>\n",
       "<table border=\"1\" class=\"dataframe\">\n",
       "  <thead>\n",
       "    <tr style=\"text-align: right;\">\n",
       "      <th></th>\n",
       "      <th>query</th>\n",
       "      <th>pipeline</th>\n",
       "      <th>metric</th>\n",
       "      <th>value</th>\n",
       "    </tr>\n",
       "  </thead>\n",
       "  <tbody>\n",
       "    <tr>\n",
       "      <th>0</th>\n",
       "      <td>$30 roblox gift card not digital</td>\n",
       "      <td>l2arithmetic_mean0.0</td>\n",
       "      <td>dcg</td>\n",
       "      <td>0.84477</td>\n",
       "    </tr>\n",
       "    <tr>\n",
       "      <th>1</th>\n",
       "      <td>$30 roblox gift card not digital</td>\n",
       "      <td>l2arithmetic_mean0.1</td>\n",
       "      <td>dcg</td>\n",
       "      <td>0.84477</td>\n",
       "    </tr>\n",
       "    <tr>\n",
       "      <th>2</th>\n",
       "      <td>$30 roblox gift card not digital</td>\n",
       "      <td>l2arithmetic_mean0.2</td>\n",
       "      <td>dcg</td>\n",
       "      <td>0.84477</td>\n",
       "    </tr>\n",
       "  </tbody>\n",
       "</table>\n",
       "</div>"
      ],
      "text/plain": [
       "                              query              pipeline metric    value\n",
       "0  $30 roblox gift card not digital  l2arithmetic_mean0.0    dcg  0.84477\n",
       "1  $30 roblox gift card not digital  l2arithmetic_mean0.1    dcg  0.84477\n",
       "2  $30 roblox gift card not digital  l2arithmetic_mean0.2    dcg  0.84477"
      ]
     },
     "execution_count": 374,
     "metadata": {},
     "output_type": "execute_result"
    }
   ],
   "source": [
    "df_global_optimization_metrics = pd.read_csv('metrics.csv')\n",
    "df_global_optimization_metrics.head(3)"
   ]
  },
  {
   "cell_type": "code",
   "execution_count": 375,
   "id": "6d55a138-a7df-4002-91a5-1213e7a49941",
   "metadata": {},
   "outputs": [
    {
     "data": {
      "text/html": [
       "<div>\n",
       "<style scoped>\n",
       "    .dataframe tbody tr th:only-of-type {\n",
       "        vertical-align: middle;\n",
       "    }\n",
       "\n",
       "    .dataframe tbody tr th {\n",
       "        vertical-align: top;\n",
       "    }\n",
       "\n",
       "    .dataframe thead th {\n",
       "        text-align: right;\n",
       "    }\n",
       "</style>\n",
       "<table border=\"1\" class=\"dataframe\">\n",
       "  <thead>\n",
       "    <tr style=\"text-align: right;\">\n",
       "      <th></th>\n",
       "      <th>query</th>\n",
       "      <th>linear_model dcg</th>\n",
       "      <th>linear_model ndcg</th>\n",
       "      <th>linear_model prec@10</th>\n",
       "      <th>linear_model ratio_of_ratings</th>\n",
       "      <th>random_forest dcg</th>\n",
       "      <th>random_forest ndcg</th>\n",
       "      <th>random_forest prec@10</th>\n",
       "      <th>random_forest ratio_of_ratings</th>\n",
       "    </tr>\n",
       "  </thead>\n",
       "  <tbody>\n",
       "    <tr>\n",
       "      <th>0</th>\n",
       "      <td>7 days without a pun makes one weak</td>\n",
       "      <td>15.650518</td>\n",
       "      <td>0.664066</td>\n",
       "      <td>0.9</td>\n",
       "      <td>0.9</td>\n",
       "      <td>15.650518</td>\n",
       "      <td>0.664066</td>\n",
       "      <td>0.9</td>\n",
       "      <td>0.9</td>\n",
       "    </tr>\n",
       "    <tr>\n",
       "      <th>1</th>\n",
       "      <td>american flag 5x8 outdoor made in usa</td>\n",
       "      <td>8.523719</td>\n",
       "      <td>0.348990</td>\n",
       "      <td>0.3</td>\n",
       "      <td>0.3</td>\n",
       "      <td>11.793836</td>\n",
       "      <td>0.482879</td>\n",
       "      <td>0.5</td>\n",
       "      <td>0.5</td>\n",
       "    </tr>\n",
       "    <tr>\n",
       "      <th>2</th>\n",
       "      <td>andis t edger</td>\n",
       "      <td>6.000000</td>\n",
       "      <td>0.283828</td>\n",
       "      <td>0.2</td>\n",
       "      <td>0.2</td>\n",
       "      <td>6.000000</td>\n",
       "      <td>0.283828</td>\n",
       "      <td>0.2</td>\n",
       "      <td>0.2</td>\n",
       "    </tr>\n",
       "  </tbody>\n",
       "</table>\n",
       "</div>"
      ],
      "text/plain": [
       "                                   query  linear_model dcg  linear_model ndcg  \\\n",
       "0    7 days without a pun makes one weak         15.650518           0.664066   \n",
       "1  american flag 5x8 outdoor made in usa          8.523719           0.348990   \n",
       "2                          andis t edger          6.000000           0.283828   \n",
       "\n",
       "   linear_model prec@10  linear_model ratio_of_ratings  random_forest dcg  \\\n",
       "0                   0.9                            0.9          15.650518   \n",
       "1                   0.3                            0.3          11.793836   \n",
       "2                   0.2                            0.2           6.000000   \n",
       "\n",
       "   random_forest ndcg  random_forest prec@10  random_forest ratio_of_ratings  \n",
       "0            0.664066                    0.9                             0.9  \n",
       "1            0.482879                    0.5                             0.5  \n",
       "2            0.283828                    0.2                             0.2  "
      ]
     },
     "execution_count": 375,
     "metadata": {},
     "output_type": "execute_result"
    }
   ],
   "source": [
    "df_metrics_pivot = df_metrics.pivot_table(index=\"query\", columns=[\"model\", \"metric\"], values=\"value\").reset_index()\n",
    "df_metrics_pivot.columns = [\" \".join(c).strip() for c in df_metrics_pivot.columns.values]\n",
    "df_metrics_pivot.head(3)"
   ]
  },
  {
   "cell_type": "markdown",
   "id": "eff27c8c-4e72-47dc-8a2e-284570040eef",
   "metadata": {},
   "source": [
    "## Get the max metric values to compare the per-query optimization approach to"
   ]
  },
  {
   "cell_type": "code",
   "execution_count": 376,
   "id": "629034fd-2c70-4595-a6ec-17502dfcfb65",
   "metadata": {
    "scrolled": true
   },
   "outputs": [
    {
     "name": "stdout",
     "output_type": "stream",
     "text": [
      "Max metrics for the query '$30 roblox gift card not digital'\n",
      "max for dcg: 0.8447702602206777\n",
      "max for ndcg: 0.0757673225293483\n",
      "max for prec@10: 0.1\n"
     ]
    }
   ],
   "source": [
    "metrics = ['dcg', 'ndcg', 'prec@10']\n",
    "print(\"Max metrics for the query \\'$30 roblox gift card not digital\\'\")\n",
    "for metric in metrics:\n",
    "    max_value = df_global_optimization_metrics[(df_global_optimization_metrics['query'] == '$30 roblox gift card not digital') & (df_global_optimization_metrics['metric'] == metric)]['value'].max()\n",
    "    print(f\"max for {metric}: {max_value}\")"
   ]
  },
  {
   "cell_type": "code",
   "execution_count": 377,
   "id": "72396c00-7fe1-4a8c-ae6f-28dc376b0dec",
   "metadata": {},
   "outputs": [
    {
     "data": {
      "text/html": [
       "<div>\n",
       "<style scoped>\n",
       "    .dataframe tbody tr th:only-of-type {\n",
       "        vertical-align: middle;\n",
       "    }\n",
       "\n",
       "    .dataframe tbody tr th {\n",
       "        vertical-align: top;\n",
       "    }\n",
       "\n",
       "    .dataframe thead th {\n",
       "        text-align: right;\n",
       "    }\n",
       "</style>\n",
       "<table border=\"1\" class=\"dataframe\">\n",
       "  <thead>\n",
       "    <tr style=\"text-align: right;\">\n",
       "      <th></th>\n",
       "      <th>query</th>\n",
       "      <th>metric</th>\n",
       "      <th>value</th>\n",
       "    </tr>\n",
       "  </thead>\n",
       "  <tbody>\n",
       "    <tr>\n",
       "      <th>0</th>\n",
       "      <td>$30 roblox gift card not digital</td>\n",
       "      <td>dcg</td>\n",
       "      <td>0.844770</td>\n",
       "    </tr>\n",
       "    <tr>\n",
       "      <th>1</th>\n",
       "      <td>$30 roblox gift card not digital</td>\n",
       "      <td>dcg_dense</td>\n",
       "      <td>5.908355</td>\n",
       "    </tr>\n",
       "    <tr>\n",
       "      <th>2</th>\n",
       "      <td>$30 roblox gift card not digital</td>\n",
       "      <td>ndcg</td>\n",
       "      <td>0.075767</td>\n",
       "    </tr>\n",
       "    <tr>\n",
       "      <th>3</th>\n",
       "      <td>$30 roblox gift card not digital</td>\n",
       "      <td>prec@10</td>\n",
       "      <td>0.100000</td>\n",
       "    </tr>\n",
       "    <tr>\n",
       "      <th>4</th>\n",
       "      <td>$30 roblox gift card not digital</td>\n",
       "      <td>ratio_of_ratings</td>\n",
       "      <td>0.200000</td>\n",
       "    </tr>\n",
       "  </tbody>\n",
       "</table>\n",
       "</div>"
      ],
      "text/plain": [
       "                              query            metric     value\n",
       "0  $30 roblox gift card not digital               dcg  0.844770\n",
       "1  $30 roblox gift card not digital         dcg_dense  5.908355\n",
       "2  $30 roblox gift card not digital              ndcg  0.075767\n",
       "3  $30 roblox gift card not digital           prec@10  0.100000\n",
       "4  $30 roblox gift card not digital  ratio_of_ratings  0.200000"
      ]
     },
     "execution_count": 377,
     "metadata": {},
     "output_type": "execute_result"
    }
   ],
   "source": [
    "df_global_optimization_metrics_gr = df_global_optimization_metrics.groupby(by=['query', 'metric']).agg({\n",
    "    'value': 'max'\n",
    "}).reset_index()\n",
    "df_global_optimization_metrics_gr[df_global_optimization_metrics_gr['query'] == '$30 roblox gift card not digital']"
   ]
  },
  {
   "cell_type": "code",
   "execution_count": 378,
   "id": "7bda1268-2e4b-4fd8-92e3-3c604d6aa60d",
   "metadata": {},
   "outputs": [
    {
     "data": {
      "text/html": [
       "<div>\n",
       "<style scoped>\n",
       "    .dataframe tbody tr th:only-of-type {\n",
       "        vertical-align: middle;\n",
       "    }\n",
       "\n",
       "    .dataframe tbody tr th {\n",
       "        vertical-align: top;\n",
       "    }\n",
       "\n",
       "    .dataframe thead th {\n",
       "        text-align: right;\n",
       "    }\n",
       "</style>\n",
       "<table border=\"1\" class=\"dataframe\">\n",
       "  <thead>\n",
       "    <tr style=\"text-align: right;\">\n",
       "      <th></th>\n",
       "      <th>query</th>\n",
       "      <th>dcg</th>\n",
       "      <th>dcg_dense</th>\n",
       "      <th>ndcg</th>\n",
       "      <th>prec@10</th>\n",
       "      <th>ratio_of_ratings</th>\n",
       "    </tr>\n",
       "  </thead>\n",
       "  <tbody>\n",
       "    <tr>\n",
       "      <th>0</th>\n",
       "      <td>$30 roblox gift card not digital</td>\n",
       "      <td>0.844770</td>\n",
       "      <td>5.908355</td>\n",
       "      <td>0.075767</td>\n",
       "      <td>0.1</td>\n",
       "      <td>0.2</td>\n",
       "    </tr>\n",
       "    <tr>\n",
       "      <th>1</th>\n",
       "      <td>(fiction without frontiers)</td>\n",
       "      <td>9.785579</td>\n",
       "      <td>18.174237</td>\n",
       "      <td>0.451875</td>\n",
       "      <td>0.4</td>\n",
       "      <td>0.4</td>\n",
       "    </tr>\n",
       "    <tr>\n",
       "      <th>2</th>\n",
       "      <td>100</td>\n",
       "      <td>7.547411</td>\n",
       "      <td>8.523719</td>\n",
       "      <td>0.332592</td>\n",
       "      <td>0.3</td>\n",
       "      <td>0.3</td>\n",
       "    </tr>\n",
       "    <tr>\n",
       "      <th>3</th>\n",
       "      <td>10x10x6 cake box without window</td>\n",
       "      <td>1.000000</td>\n",
       "      <td>4.659071</td>\n",
       "      <td>0.099900</td>\n",
       "      <td>0.1</td>\n",
       "      <td>0.1</td>\n",
       "    </tr>\n",
       "    <tr>\n",
       "      <th>4</th>\n",
       "      <td>15 inch light weight laptop that has lots of m...</td>\n",
       "      <td>0.712414</td>\n",
       "      <td>4.261860</td>\n",
       "      <td>0.039399</td>\n",
       "      <td>0.1</td>\n",
       "      <td>0.1</td>\n",
       "    </tr>\n",
       "    <tr>\n",
       "      <th>...</th>\n",
       "      <td>...</td>\n",
       "      <td>...</td>\n",
       "      <td>...</td>\n",
       "      <td>...</td>\n",
       "      <td>...</td>\n",
       "      <td>...</td>\n",
       "    </tr>\n",
       "    <tr>\n",
       "      <th>215</th>\n",
       "      <td>wooden stool</td>\n",
       "      <td>0.000000</td>\n",
       "      <td>14.551999</td>\n",
       "      <td>0.000000</td>\n",
       "      <td>0.0</td>\n",
       "      <td>0.0</td>\n",
       "    </tr>\n",
       "    <tr>\n",
       "      <th>216</th>\n",
       "      <td>woodwick wax melt</td>\n",
       "      <td>18.174237</td>\n",
       "      <td>18.174237</td>\n",
       "      <td>0.744114</td>\n",
       "      <td>1.0</td>\n",
       "      <td>1.0</td>\n",
       "    </tr>\n",
       "    <tr>\n",
       "      <th>217</th>\n",
       "      <td>world of warcraft anniversary collector's edition</td>\n",
       "      <td>14.045738</td>\n",
       "      <td>18.174237</td>\n",
       "      <td>0.575079</td>\n",
       "      <td>0.7</td>\n",
       "      <td>0.7</td>\n",
       "    </tr>\n",
       "    <tr>\n",
       "      <th>218</th>\n",
       "      <td>wowled</td>\n",
       "      <td>15.813858</td>\n",
       "      <td>15.813858</td>\n",
       "      <td>0.786019</td>\n",
       "      <td>0.8</td>\n",
       "      <td>0.8</td>\n",
       "    </tr>\n",
       "    <tr>\n",
       "      <th>219</th>\n",
       "      <td>yarn purple and pink</td>\n",
       "      <td>6.356594</td>\n",
       "      <td>13.927108</td>\n",
       "      <td>0.195478</td>\n",
       "      <td>0.5</td>\n",
       "      <td>0.5</td>\n",
       "    </tr>\n",
       "  </tbody>\n",
       "</table>\n",
       "<p>220 rows × 6 columns</p>\n",
       "</div>"
      ],
      "text/plain": [
       "                                                 query        dcg  dcg_dense  \\\n",
       "0                     $30 roblox gift card not digital   0.844770   5.908355   \n",
       "1                          (fiction without frontiers)   9.785579  18.174237   \n",
       "2                                                  100   7.547411   8.523719   \n",
       "3                      10x10x6 cake box without window   1.000000   4.659071   \n",
       "4    15 inch light weight laptop that has lots of m...   0.712414   4.261860   \n",
       "..                                                 ...        ...        ...   \n",
       "215                                       wooden stool   0.000000  14.551999   \n",
       "216                                  woodwick wax melt  18.174237  18.174237   \n",
       "217  world of warcraft anniversary collector's edition  14.045738  18.174237   \n",
       "218                                             wowled  15.813858  15.813858   \n",
       "219                               yarn purple and pink   6.356594  13.927108   \n",
       "\n",
       "         ndcg  prec@10  ratio_of_ratings  \n",
       "0    0.075767      0.1               0.2  \n",
       "1    0.451875      0.4               0.4  \n",
       "2    0.332592      0.3               0.3  \n",
       "3    0.099900      0.1               0.1  \n",
       "4    0.039399      0.1               0.1  \n",
       "..        ...      ...               ...  \n",
       "215  0.000000      0.0               0.0  \n",
       "216  0.744114      1.0               1.0  \n",
       "217  0.575079      0.7               0.7  \n",
       "218  0.786019      0.8               0.8  \n",
       "219  0.195478      0.5               0.5  \n",
       "\n",
       "[220 rows x 6 columns]"
      ]
     },
     "execution_count": 378,
     "metadata": {},
     "output_type": "execute_result"
    }
   ],
   "source": [
    "df_global_optimization_metrics_pivot = df_global_optimization_metrics_gr.pivot_table(index=\"query\", columns=[\"metric\"], values=\"value\").reset_index()\n",
    "df_global_optimization_metrics_pivot.columns = ['query', 'dcg', 'dcg_dense', 'ndcg', 'prec@10', 'ratio_of_ratings']\n",
    "df_global_optimization_metrics_pivot"
   ]
  },
  {
   "cell_type": "code",
   "execution_count": 379,
   "id": "988cc2bb-51c6-401d-bfec-c61ae9665702",
   "metadata": {},
   "outputs": [],
   "source": [
    "df_metrics_merged = df_metrics_pivot.merge(df_global_optimization_metrics_pivot, on='query', how='left')"
   ]
  },
  {
   "cell_type": "code",
   "execution_count": 380,
   "id": "1605e60a-67fd-416e-bc27-37287d221ac7",
   "metadata": {},
   "outputs": [
    {
     "data": {
      "text/html": [
       "<div>\n",
       "<style scoped>\n",
       "    .dataframe tbody tr th:only-of-type {\n",
       "        vertical-align: middle;\n",
       "    }\n",
       "\n",
       "    .dataframe tbody tr th {\n",
       "        vertical-align: top;\n",
       "    }\n",
       "\n",
       "    .dataframe thead th {\n",
       "        text-align: right;\n",
       "    }\n",
       "</style>\n",
       "<table border=\"1\" class=\"dataframe\">\n",
       "  <thead>\n",
       "    <tr style=\"text-align: right;\">\n",
       "      <th></th>\n",
       "      <th>query</th>\n",
       "      <th>linear_model dcg</th>\n",
       "      <th>linear_model ndcg</th>\n",
       "      <th>linear_model prec@10</th>\n",
       "      <th>linear_model ratio_of_ratings</th>\n",
       "      <th>random_forest dcg</th>\n",
       "      <th>random_forest ndcg</th>\n",
       "      <th>random_forest prec@10</th>\n",
       "      <th>random_forest ratio_of_ratings</th>\n",
       "      <th>dcg</th>\n",
       "      <th>dcg_dense</th>\n",
       "      <th>ndcg</th>\n",
       "      <th>prec@10</th>\n",
       "      <th>ratio_of_ratings</th>\n",
       "    </tr>\n",
       "  </thead>\n",
       "  <tbody>\n",
       "    <tr>\n",
       "      <th>0</th>\n",
       "      <td>7 days without a pun makes one weak</td>\n",
       "      <td>15.650518</td>\n",
       "      <td>0.664066</td>\n",
       "      <td>0.9</td>\n",
       "      <td>0.9</td>\n",
       "      <td>15.650518</td>\n",
       "      <td>0.664066</td>\n",
       "      <td>0.9</td>\n",
       "      <td>0.9</td>\n",
       "      <td>15.650518</td>\n",
       "      <td>18.174237</td>\n",
       "      <td>0.664066</td>\n",
       "      <td>0.9</td>\n",
       "      <td>0.9</td>\n",
       "    </tr>\n",
       "    <tr>\n",
       "      <th>1</th>\n",
       "      <td>american flag 5x8 outdoor made in usa</td>\n",
       "      <td>8.523719</td>\n",
       "      <td>0.348990</td>\n",
       "      <td>0.3</td>\n",
       "      <td>0.3</td>\n",
       "      <td>11.793836</td>\n",
       "      <td>0.482879</td>\n",
       "      <td>0.5</td>\n",
       "      <td>0.5</td>\n",
       "      <td>14.551999</td>\n",
       "      <td>18.174237</td>\n",
       "      <td>0.595807</td>\n",
       "      <td>0.7</td>\n",
       "      <td>0.7</td>\n",
       "    </tr>\n",
       "    <tr>\n",
       "      <th>2</th>\n",
       "      <td>andis t edger</td>\n",
       "      <td>6.000000</td>\n",
       "      <td>0.283828</td>\n",
       "      <td>0.2</td>\n",
       "      <td>0.2</td>\n",
       "      <td>6.000000</td>\n",
       "      <td>0.283828</td>\n",
       "      <td>0.2</td>\n",
       "      <td>0.2</td>\n",
       "      <td>6.523719</td>\n",
       "      <td>14.653300</td>\n",
       "      <td>0.308602</td>\n",
       "      <td>0.2</td>\n",
       "      <td>0.2</td>\n",
       "    </tr>\n",
       "  </tbody>\n",
       "</table>\n",
       "</div>"
      ],
      "text/plain": [
       "                                   query  linear_model dcg  linear_model ndcg  \\\n",
       "0    7 days without a pun makes one weak         15.650518           0.664066   \n",
       "1  american flag 5x8 outdoor made in usa          8.523719           0.348990   \n",
       "2                          andis t edger          6.000000           0.283828   \n",
       "\n",
       "   linear_model prec@10  linear_model ratio_of_ratings  random_forest dcg  \\\n",
       "0                   0.9                            0.9          15.650518   \n",
       "1                   0.3                            0.3          11.793836   \n",
       "2                   0.2                            0.2           6.000000   \n",
       "\n",
       "   random_forest ndcg  random_forest prec@10  random_forest ratio_of_ratings  \\\n",
       "0            0.664066                    0.9                             0.9   \n",
       "1            0.482879                    0.5                             0.5   \n",
       "2            0.283828                    0.2                             0.2   \n",
       "\n",
       "         dcg  dcg_dense      ndcg  prec@10  ratio_of_ratings  \n",
       "0  15.650518  18.174237  0.664066      0.9               0.9  \n",
       "1  14.551999  18.174237  0.595807      0.7               0.7  \n",
       "2   6.523719  14.653300  0.308602      0.2               0.2  "
      ]
     },
     "execution_count": 380,
     "metadata": {},
     "output_type": "execute_result"
    }
   ],
   "source": [
    "df_metrics_merged.head(3)"
   ]
  },
  {
   "cell_type": "markdown",
   "id": "804f25e0-48b3-4544-9172-efeca8485823",
   "metadata": {},
   "source": [
    "## Visiualization"
   ]
  },
  {
   "cell_type": "code",
   "execution_count": 381,
   "id": "fee5019e-1f37-4fff-85df-0afb4c879efd",
   "metadata": {},
   "outputs": [
    {
     "data": {
      "application/vnd.plotly.v1+json": {
       "config": {
        "plotlyServerURL": "https://plot.ly"
       },
       "data": [
        {
         "customdata": [
          [
           "7 days without a pun makes one weak",
           0.6640659408521532,
           0.9,
           0.9,
           0.6640659408521532,
           0.9,
           0.9,
           15.650518338067553,
           18.17423735235338,
           0.6640659408521532,
           0.9,
           0.9
          ],
          [
           "american flag 5x8 outdoor made in usa",
           0.3489895615869866,
           0.3,
           0.3,
           0.48287910642304827,
           0.5,
           0.5,
           14.55199855728299,
           18.17423735235338,
           0.5958074859353115,
           0.7,
           0.7
          ],
          [
           "andis t edger",
           0.283827920583421,
           0.2,
           0.2,
           0.283827920583421,
           0.2,
           0.2,
           6.52371901428583,
           14.65329964272228,
           0.308602267049212,
           0.2,
           0.2
          ],
          [
           "backpacks lunchbox combo",
           0.04439416571845614,
           0.1,
           0.1,
           0.04439416571845614,
           0.1,
           0.1,
           1.2041199826559248,
           7.123212623289701,
           0.0847256001992896,
           0.1,
           0.1
          ],
          [
           "best ride on cars mercedes 3-in-1 push car in white",
           0.4268932385479575,
           0.4,
           0.4,
           0.4268932385479575,
           0.4,
           0.4,
           9.785578521428748,
           17.572177361025417,
           0.4268932385479575,
           0.4,
           0.4
          ],
          [
           "bookshelf 4 tier",
           0.056895702836502485,
           0.1,
           0.1,
           0.056895702836502485,
           0.1,
           0.1,
           7.333333333333333,
           18.17423735235338,
           0.3129263656007636,
           0.3,
           0.3
          ],
          [
           "coil incense",
           0.7441140557478906,
           1,
           1,
           0.7441140557478906,
           1,
           1,
           18.17423735235338,
           18.17423735235338,
           0.7441140557478906,
           1,
           1
          ],
          [
           "cousin it costume",
           0.43116905701454383,
           0.2,
           0.2,
           0.43116905701454383,
           0.2,
           0.2,
           7.948547762717919,
           10.246425246579404,
           0.6177958874958227,
           0.3,
           0.3
          ],
          [
           "dji goggles",
           0.5425438628684552,
           0.7,
           0.9,
           0.5425438628684552,
           0.7,
           0.9,
           13.622765437410264,
           15.400988038505483,
           0.5532772433580658,
           0.7,
           0.9
          ],
          [
           "do not enter tape",
           0.2749602024444795,
           0.3,
           0.3,
           0.2749602024444795,
           0.3,
           0.3,
           11.567432817846504,
           18.17423735235338,
           0.4832914623544739,
           0.7,
           0.7
          ],
          [
           "eye mask without strap",
           0,
           0,
           0,
           0,
           0,
           0,
           13.85633827958356,
           16.912377845210468,
           0.3751620967651038,
           0.8,
           0.8
          ],
          [
           "fabric aprons",
           0,
           0,
           0,
           0,
           0,
           0,
           5.914421387036973,
           14.551998557282992,
           0.2421561906772534,
           0.4,
           0.4
          ],
          [
           "four paws magic coat instant dog mat remover",
           0.5021885990757317,
           0.9,
           1,
           0.5021885990757317,
           0.9,
           1,
           16.043307598781926,
           16.043307598781926,
           0.5021885990757317,
           0.9,
           1
          ],
          [
           "galaxy 8 note case",
           0.0473411227365995,
           0.1,
           0.1,
           0.0473411227365995,
           0.1,
           0.1,
           1.3333333333333333,
           18.17423735235338,
           0.0545911256189271,
           0.1,
           0.1
          ],
          [
           "golf sets for men left handed",
           0.21307407578185383,
           0.2,
           0.2,
           0.09900587088750676,
           0.2,
           0.2,
           5.204119982655925,
           18.17423735235338,
           0.2130740757818538,
           0.2,
           0.2
          ],
          [
           "halloween glow bracelets kids",
           0.05459112561892712,
           0.1,
           0.1,
           0.05459112561892712,
           0.1,
           0.1,
           1.7227062322935722,
           15.813858064425906,
           0.0705333542487352,
           0.1,
           0.1
          ],
          [
           "heavy duty plastic folders with pockets",
           0.17599134684835033,
           0.3,
           0.3,
           0.12469621941351844,
           0.2,
           0.2,
           8.083085520221049,
           18.17423735235338,
           0.3377141914649278,
           0.4,
           0.4
          ],
          [
           "helen kaminski hats",
           0,
           0,
           0,
           0,
           0,
           0,
           1.1562593052715515,
           4,
           0.0483089255243834,
           0.1,
           0.1
          ],
          [
           "hug machine",
           0.5544928869275813,
           0.1,
           0.4,
           0.5544928869275813,
           0.1,
           0.4,
           5.0396944362254255,
           5.096268032608155,
           0.5544928869275813,
           0.1,
           0.4
          ],
          [
           "if lost or drunk please return to bestie",
           0.7441140557478906,
           1,
           1,
           0.7441140557478906,
           1,
           1,
           18.17423735235338,
           18.17423735235338,
           0.7441140557478906,
           1,
           1
          ],
          [
           "jobs evergreen tree spikes",
           0.8201370158377279,
           1,
           1,
           0.8201370158377279,
           1,
           1,
           16.994047708389644,
           16.994047708389644,
           0.8201370158377279,
           1,
           1
          ],
          [
           "kid animal plates",
           0.3050128638003318,
           0.3,
           0.3,
           0.3050128638003318,
           0.3,
           0.3,
           6.666666666666667,
           12.218665223949658,
           0.3050128638003318,
           0.3,
           0.3
          ],
          [
           "kobe baby jersey",
           0.3489895615869866,
           0.3,
           0.3,
           0.3489895615869866,
           0.3,
           0.3,
           8.523719014285831,
           18.17423735235338,
           0.3489895615869866,
           0.3,
           0.3
          ],
          [
           "lights bulbs color changing",
           0,
           0,
           0,
           0,
           0,
           0,
           5.2618595071429155,
           18.17423735235338,
           0.2154381250076886,
           0.3,
           0.3
          ],
          [
           "mary meyer baby mat",
           0.7860189940564837,
           0.8,
           0.8,
           0.7860189940564837,
           0.8,
           0.8,
           16.415918055753867,
           16.994047708389644,
           0.8159440500938725,
           0.9,
           0.9
          ],
          [
           "moto play screen protector",
           0.37561473645734933,
           0.3,
           0.3,
           0.37561473645734933,
           0.3,
           0.3,
           15.708257862554545,
           18.17423735235338,
           0.6922158188648209,
           0.8,
           0.8
          ],
          [
           "neuroquell for neuropathy",
           0.10022579111902698,
           0.2,
           0.2,
           0.10022579111902698,
           0.2,
           0.2,
           2.4087643450849527,
           12.061392557535653,
           0.1002257911190269,
           0.2,
           0.2
          ],
          [
           "organicbone broth",
           0.34430224321006225,
           0.3,
           0.3,
           0.34430224321006225,
           0.3,
           0.3,
           7.333333333333333,
           16.96517794614615,
           0.3443022432100622,
           0.3,
           0.3
          ],
          [
           "panties",
           0,
           0,
           0,
           0,
           0,
           0,
           0,
           0,
           0,
           0,
           0
          ],
          [
           "patio chair swing",
           0.05833725389333615,
           0.1,
           0.1,
           0.05833725389333615,
           0.1,
           0.1,
           5.061172330275088,
           18.17423735235338,
           0.2072213208458141,
           0.3,
           0.3
          ],
          [
           "play kitchen for toddlers accessories",
           0.04930069892507245,
           0.1,
           0.1,
           0.04930069892507245,
           0.1,
           0.1,
           4.52371901428583,
           17.01797804708183,
           0.1852161847302052,
           0.2,
           0.2
          ],
          [
           "posh moomy",
           0,
           0,
           0,
           0,
           0,
           0,
           0,
           0,
           0,
           0,
           0
          ],
          [
           "rose petals for romantic night",
           0.19615652453527263,
           0.3,
           0.3,
           0.19615652453527263,
           0.3,
           0.3,
           4.6949462096638275,
           17.572177361025417,
           0.1961565245352726,
           0.3,
           0.3
          ],
          [
           "runtz",
           0,
           0,
           0,
           0.19221699294337333,
           0.1,
           0.1,
           10.922917465165648,
           15.63889700619912,
           0.5248925873306987,
           0.7,
           0.7
          ],
          [
           "slarm window sensor",
           0.13628165177409043,
           0.2,
           0.2,
           0.13628165177409043,
           0.2,
           0.2,
           3.261859507142915,
           7.2618595071429155,
           0.1362816517740904,
           0.2,
           0.2
          ],
          [
           "stuffed animal washer bag",
           0.19159298779343467,
           0.1,
           0.1,
           0.19159298779343467,
           0.1,
           0.1,
           4,
           8.523719014285831,
           0.1915929877934346,
           0.1,
           0.1
          ],
          [
           "sundiata",
           0.35295301492382125,
           0.2,
           0.3,
           0.35295301492382125,
           0.2,
           0.3,
           18.17423735235338,
           18.17423735235338,
           0.9587865593035604,
           1,
           1
          ],
          [
           "sushi go card game",
           0.5696949029899167,
           0.4,
           0.4,
           0.5696949029899167,
           0.4,
           0.4,
           9.385072130432617,
           9.385072130432617,
           0.5696949029899167,
           0.4,
           0.4
          ],
          [
           "tetley",
           0,
           0,
           0,
           0.6334167424239648,
           0.8,
           0.8,
           16.626826123415217,
           18.17423735235338,
           0.6807578651605644,
           0.9,
           0.9
          ],
          [
           "the first years gate parts",
           0.015110214571816376,
           0,
           0.1,
           0.015110214571816376,
           0,
           0.1,
           0.5,
           3.02371901428583,
           0.0239491234741793,
           0,
           0.1
          ],
          [
           "ultra fast keto boost 800mg",
           0.546164971470979,
           0.6,
           0.6,
           0.546164971470979,
           0.6,
           0.6,
           10.344157669746249,
           14.728059224202315,
           0.5495976022359215,
           0.6,
           0.6
          ],
          [
           "wiggle scooters for kids",
           0.358574377361775,
           0.5,
           0.5,
           0.4404610657901657,
           0.5,
           0.5,
           11.637127619330546,
           18.17423735235338,
           0.4764629217827701,
           0.6,
           0.6
          ],
          [
           "winter cycling shoe covers",
           0.5443019058264909,
           0.7,
           0.7,
           0.5443019058264909,
           0.7,
           0.7,
           14.344492172257391,
           17.543307598781922,
           0.673478295356918,
           0.8,
           0.8
          ],
          [
           "wowled",
           0,
           0,
           0,
           0.265090358377816,
           0.2,
           0.2,
           15.813858064425906,
           15.813858064425906,
           0.7860189940564837,
           0.8,
           0.8
          ]
         ],
         "hovertemplate": "linear_model dcg=%{x}<br>random_forest dcg=%{y}<br>query=%{customdata[0]}<br>linear_model ndcg=%{customdata[1]}<br>linear_model prec@10=%{customdata[2]}<br>linear_model ratio_of_ratings=%{customdata[3]}<br>random_forest ndcg=%{customdata[4]}<br>random_forest prec@10=%{customdata[5]}<br>random_forest ratio_of_ratings=%{customdata[6]}<br>dcg=%{customdata[7]}<br>dcg_dense=%{customdata[8]}<br>ndcg=%{customdata[9]}<br>prec@10=%{customdata[10]}<br>ratio_of_ratings=%{customdata[11]}<extra></extra>",
         "legendgroup": "",
         "marker": {
          "color": "#636efa",
          "symbol": "circle"
         },
         "mode": "markers",
         "name": "",
         "orientation": "v",
         "showlegend": false,
         "type": "scatter",
         "x": [
          15.650518338067553,
          8.523719014285831,
          6,
          0.6309297535714575,
          9.785578521428747,
          1.3333333333333333,
          18.17423735235338,
          5.5474112289381665,
          13.358488663847371,
          6.58108805370364,
          0,
          0,
          16.043307598781926,
          1.1562593052715515,
          5.204119982655925,
          1.3333333333333333,
          4.212298870898457,
          0,
          5.0396944362254255,
          18.17423735235338,
          16.994047708389644,
          6.666666666666667,
          8.523719014285831,
          0,
          15.813858064425906,
          8.523719014285831,
          2.4087643450849527,
          7.333333333333333,
          0,
          1.4248287484320887,
          1.2041199826559248,
          0,
          4.6949462096638275,
          0,
          3.261859507142915,
          4,
          6.690385680952497,
          9.385072130432617,
          0,
          0.31546487678572877,
          10.279550994407543,
          8.757818498799,
          11.593149298649742,
          0
         ],
         "xaxis": "x",
         "y": [
          15.650518338067553,
          11.793836475517569,
          6,
          0.6309297535714575,
          9.785578521428747,
          1.3333333333333333,
          18.17423735235338,
          5.5474112289381665,
          13.358488663847371,
          6.58108805370364,
          0,
          0,
          16.043307598781926,
          1.1562593052715515,
          2.4181188124144666,
          1.3333333333333333,
          2.984565739436487,
          0,
          5.0396944362254255,
          18.17423735235338,
          16.994047708389644,
          6.666666666666667,
          8.523719014285831,
          0,
          15.813858064425906,
          8.523719014285831,
          2.4087643450849527,
          7.333333333333333,
          0,
          1.4248287484320887,
          1.2041199826559248,
          0,
          4.6949462096638275,
          4,
          3.261859507142915,
          4,
          6.690385680952497,
          9.385072130432617,
          15.470566818143665,
          0.31546487678572877,
          10.279550994407543,
          10.757818498799,
          11.593149298649742,
          5.333333333333333
         ],
         "yaxis": "y"
        }
       ],
       "layout": {
        "autosize": true,
        "legend": {
         "tracegroupgap": 0
        },
        "margin": {
         "t": 60
        },
        "template": {
         "data": {
          "bar": [
           {
            "error_x": {
             "color": "#2a3f5f"
            },
            "error_y": {
             "color": "#2a3f5f"
            },
            "marker": {
             "line": {
              "color": "#E5ECF6",
              "width": 0.5
             },
             "pattern": {
              "fillmode": "overlay",
              "size": 10,
              "solidity": 0.2
             }
            },
            "type": "bar"
           }
          ],
          "barpolar": [
           {
            "marker": {
             "line": {
              "color": "#E5ECF6",
              "width": 0.5
             },
             "pattern": {
              "fillmode": "overlay",
              "size": 10,
              "solidity": 0.2
             }
            },
            "type": "barpolar"
           }
          ],
          "carpet": [
           {
            "aaxis": {
             "endlinecolor": "#2a3f5f",
             "gridcolor": "white",
             "linecolor": "white",
             "minorgridcolor": "white",
             "startlinecolor": "#2a3f5f"
            },
            "baxis": {
             "endlinecolor": "#2a3f5f",
             "gridcolor": "white",
             "linecolor": "white",
             "minorgridcolor": "white",
             "startlinecolor": "#2a3f5f"
            },
            "type": "carpet"
           }
          ],
          "choropleth": [
           {
            "colorbar": {
             "outlinewidth": 0,
             "ticks": ""
            },
            "type": "choropleth"
           }
          ],
          "contour": [
           {
            "colorbar": {
             "outlinewidth": 0,
             "ticks": ""
            },
            "colorscale": [
             [
              0,
              "#0d0887"
             ],
             [
              0.1111111111111111,
              "#46039f"
             ],
             [
              0.2222222222222222,
              "#7201a8"
             ],
             [
              0.3333333333333333,
              "#9c179e"
             ],
             [
              0.4444444444444444,
              "#bd3786"
             ],
             [
              0.5555555555555556,
              "#d8576b"
             ],
             [
              0.6666666666666666,
              "#ed7953"
             ],
             [
              0.7777777777777778,
              "#fb9f3a"
             ],
             [
              0.8888888888888888,
              "#fdca26"
             ],
             [
              1,
              "#f0f921"
             ]
            ],
            "type": "contour"
           }
          ],
          "contourcarpet": [
           {
            "colorbar": {
             "outlinewidth": 0,
             "ticks": ""
            },
            "type": "contourcarpet"
           }
          ],
          "heatmap": [
           {
            "colorbar": {
             "outlinewidth": 0,
             "ticks": ""
            },
            "colorscale": [
             [
              0,
              "#0d0887"
             ],
             [
              0.1111111111111111,
              "#46039f"
             ],
             [
              0.2222222222222222,
              "#7201a8"
             ],
             [
              0.3333333333333333,
              "#9c179e"
             ],
             [
              0.4444444444444444,
              "#bd3786"
             ],
             [
              0.5555555555555556,
              "#d8576b"
             ],
             [
              0.6666666666666666,
              "#ed7953"
             ],
             [
              0.7777777777777778,
              "#fb9f3a"
             ],
             [
              0.8888888888888888,
              "#fdca26"
             ],
             [
              1,
              "#f0f921"
             ]
            ],
            "type": "heatmap"
           }
          ],
          "heatmapgl": [
           {
            "colorbar": {
             "outlinewidth": 0,
             "ticks": ""
            },
            "colorscale": [
             [
              0,
              "#0d0887"
             ],
             [
              0.1111111111111111,
              "#46039f"
             ],
             [
              0.2222222222222222,
              "#7201a8"
             ],
             [
              0.3333333333333333,
              "#9c179e"
             ],
             [
              0.4444444444444444,
              "#bd3786"
             ],
             [
              0.5555555555555556,
              "#d8576b"
             ],
             [
              0.6666666666666666,
              "#ed7953"
             ],
             [
              0.7777777777777778,
              "#fb9f3a"
             ],
             [
              0.8888888888888888,
              "#fdca26"
             ],
             [
              1,
              "#f0f921"
             ]
            ],
            "type": "heatmapgl"
           }
          ],
          "histogram": [
           {
            "marker": {
             "pattern": {
              "fillmode": "overlay",
              "size": 10,
              "solidity": 0.2
             }
            },
            "type": "histogram"
           }
          ],
          "histogram2d": [
           {
            "colorbar": {
             "outlinewidth": 0,
             "ticks": ""
            },
            "colorscale": [
             [
              0,
              "#0d0887"
             ],
             [
              0.1111111111111111,
              "#46039f"
             ],
             [
              0.2222222222222222,
              "#7201a8"
             ],
             [
              0.3333333333333333,
              "#9c179e"
             ],
             [
              0.4444444444444444,
              "#bd3786"
             ],
             [
              0.5555555555555556,
              "#d8576b"
             ],
             [
              0.6666666666666666,
              "#ed7953"
             ],
             [
              0.7777777777777778,
              "#fb9f3a"
             ],
             [
              0.8888888888888888,
              "#fdca26"
             ],
             [
              1,
              "#f0f921"
             ]
            ],
            "type": "histogram2d"
           }
          ],
          "histogram2dcontour": [
           {
            "colorbar": {
             "outlinewidth": 0,
             "ticks": ""
            },
            "colorscale": [
             [
              0,
              "#0d0887"
             ],
             [
              0.1111111111111111,
              "#46039f"
             ],
             [
              0.2222222222222222,
              "#7201a8"
             ],
             [
              0.3333333333333333,
              "#9c179e"
             ],
             [
              0.4444444444444444,
              "#bd3786"
             ],
             [
              0.5555555555555556,
              "#d8576b"
             ],
             [
              0.6666666666666666,
              "#ed7953"
             ],
             [
              0.7777777777777778,
              "#fb9f3a"
             ],
             [
              0.8888888888888888,
              "#fdca26"
             ],
             [
              1,
              "#f0f921"
             ]
            ],
            "type": "histogram2dcontour"
           }
          ],
          "mesh3d": [
           {
            "colorbar": {
             "outlinewidth": 0,
             "ticks": ""
            },
            "type": "mesh3d"
           }
          ],
          "parcoords": [
           {
            "line": {
             "colorbar": {
              "outlinewidth": 0,
              "ticks": ""
             }
            },
            "type": "parcoords"
           }
          ],
          "pie": [
           {
            "automargin": true,
            "type": "pie"
           }
          ],
          "scatter": [
           {
            "fillpattern": {
             "fillmode": "overlay",
             "size": 10,
             "solidity": 0.2
            },
            "type": "scatter"
           }
          ],
          "scatter3d": [
           {
            "line": {
             "colorbar": {
              "outlinewidth": 0,
              "ticks": ""
             }
            },
            "marker": {
             "colorbar": {
              "outlinewidth": 0,
              "ticks": ""
             }
            },
            "type": "scatter3d"
           }
          ],
          "scattercarpet": [
           {
            "marker": {
             "colorbar": {
              "outlinewidth": 0,
              "ticks": ""
             }
            },
            "type": "scattercarpet"
           }
          ],
          "scattergeo": [
           {
            "marker": {
             "colorbar": {
              "outlinewidth": 0,
              "ticks": ""
             }
            },
            "type": "scattergeo"
           }
          ],
          "scattergl": [
           {
            "marker": {
             "colorbar": {
              "outlinewidth": 0,
              "ticks": ""
             }
            },
            "type": "scattergl"
           }
          ],
          "scattermapbox": [
           {
            "marker": {
             "colorbar": {
              "outlinewidth": 0,
              "ticks": ""
             }
            },
            "type": "scattermapbox"
           }
          ],
          "scatterpolar": [
           {
            "marker": {
             "colorbar": {
              "outlinewidth": 0,
              "ticks": ""
             }
            },
            "type": "scatterpolar"
           }
          ],
          "scatterpolargl": [
           {
            "marker": {
             "colorbar": {
              "outlinewidth": 0,
              "ticks": ""
             }
            },
            "type": "scatterpolargl"
           }
          ],
          "scatterternary": [
           {
            "marker": {
             "colorbar": {
              "outlinewidth": 0,
              "ticks": ""
             }
            },
            "type": "scatterternary"
           }
          ],
          "surface": [
           {
            "colorbar": {
             "outlinewidth": 0,
             "ticks": ""
            },
            "colorscale": [
             [
              0,
              "#0d0887"
             ],
             [
              0.1111111111111111,
              "#46039f"
             ],
             [
              0.2222222222222222,
              "#7201a8"
             ],
             [
              0.3333333333333333,
              "#9c179e"
             ],
             [
              0.4444444444444444,
              "#bd3786"
             ],
             [
              0.5555555555555556,
              "#d8576b"
             ],
             [
              0.6666666666666666,
              "#ed7953"
             ],
             [
              0.7777777777777778,
              "#fb9f3a"
             ],
             [
              0.8888888888888888,
              "#fdca26"
             ],
             [
              1,
              "#f0f921"
             ]
            ],
            "type": "surface"
           }
          ],
          "table": [
           {
            "cells": {
             "fill": {
              "color": "#EBF0F8"
             },
             "line": {
              "color": "white"
             }
            },
            "header": {
             "fill": {
              "color": "#C8D4E3"
             },
             "line": {
              "color": "white"
             }
            },
            "type": "table"
           }
          ]
         },
         "layout": {
          "annotationdefaults": {
           "arrowcolor": "#2a3f5f",
           "arrowhead": 0,
           "arrowwidth": 1
          },
          "autotypenumbers": "strict",
          "coloraxis": {
           "colorbar": {
            "outlinewidth": 0,
            "ticks": ""
           }
          },
          "colorscale": {
           "diverging": [
            [
             0,
             "#8e0152"
            ],
            [
             0.1,
             "#c51b7d"
            ],
            [
             0.2,
             "#de77ae"
            ],
            [
             0.3,
             "#f1b6da"
            ],
            [
             0.4,
             "#fde0ef"
            ],
            [
             0.5,
             "#f7f7f7"
            ],
            [
             0.6,
             "#e6f5d0"
            ],
            [
             0.7,
             "#b8e186"
            ],
            [
             0.8,
             "#7fbc41"
            ],
            [
             0.9,
             "#4d9221"
            ],
            [
             1,
             "#276419"
            ]
           ],
           "sequential": [
            [
             0,
             "#0d0887"
            ],
            [
             0.1111111111111111,
             "#46039f"
            ],
            [
             0.2222222222222222,
             "#7201a8"
            ],
            [
             0.3333333333333333,
             "#9c179e"
            ],
            [
             0.4444444444444444,
             "#bd3786"
            ],
            [
             0.5555555555555556,
             "#d8576b"
            ],
            [
             0.6666666666666666,
             "#ed7953"
            ],
            [
             0.7777777777777778,
             "#fb9f3a"
            ],
            [
             0.8888888888888888,
             "#fdca26"
            ],
            [
             1,
             "#f0f921"
            ]
           ],
           "sequentialminus": [
            [
             0,
             "#0d0887"
            ],
            [
             0.1111111111111111,
             "#46039f"
            ],
            [
             0.2222222222222222,
             "#7201a8"
            ],
            [
             0.3333333333333333,
             "#9c179e"
            ],
            [
             0.4444444444444444,
             "#bd3786"
            ],
            [
             0.5555555555555556,
             "#d8576b"
            ],
            [
             0.6666666666666666,
             "#ed7953"
            ],
            [
             0.7777777777777778,
             "#fb9f3a"
            ],
            [
             0.8888888888888888,
             "#fdca26"
            ],
            [
             1,
             "#f0f921"
            ]
           ]
          },
          "colorway": [
           "#636efa",
           "#EF553B",
           "#00cc96",
           "#ab63fa",
           "#FFA15A",
           "#19d3f3",
           "#FF6692",
           "#B6E880",
           "#FF97FF",
           "#FECB52"
          ],
          "font": {
           "color": "#2a3f5f"
          },
          "geo": {
           "bgcolor": "white",
           "lakecolor": "white",
           "landcolor": "#E5ECF6",
           "showlakes": true,
           "showland": true,
           "subunitcolor": "white"
          },
          "hoverlabel": {
           "align": "left"
          },
          "hovermode": "closest",
          "mapbox": {
           "style": "light"
          },
          "paper_bgcolor": "white",
          "plot_bgcolor": "#E5ECF6",
          "polar": {
           "angularaxis": {
            "gridcolor": "white",
            "linecolor": "white",
            "ticks": ""
           },
           "bgcolor": "#E5ECF6",
           "radialaxis": {
            "gridcolor": "white",
            "linecolor": "white",
            "ticks": ""
           }
          },
          "scene": {
           "xaxis": {
            "backgroundcolor": "#E5ECF6",
            "gridcolor": "white",
            "gridwidth": 2,
            "linecolor": "white",
            "showbackground": true,
            "ticks": "",
            "zerolinecolor": "white"
           },
           "yaxis": {
            "backgroundcolor": "#E5ECF6",
            "gridcolor": "white",
            "gridwidth": 2,
            "linecolor": "white",
            "showbackground": true,
            "ticks": "",
            "zerolinecolor": "white"
           },
           "zaxis": {
            "backgroundcolor": "#E5ECF6",
            "gridcolor": "white",
            "gridwidth": 2,
            "linecolor": "white",
            "showbackground": true,
            "ticks": "",
            "zerolinecolor": "white"
           }
          },
          "shapedefaults": {
           "line": {
            "color": "#2a3f5f"
           }
          },
          "ternary": {
           "aaxis": {
            "gridcolor": "white",
            "linecolor": "white",
            "ticks": ""
           },
           "baxis": {
            "gridcolor": "white",
            "linecolor": "white",
            "ticks": ""
           },
           "bgcolor": "#E5ECF6",
           "caxis": {
            "gridcolor": "white",
            "linecolor": "white",
            "ticks": ""
           }
          },
          "title": {
           "x": 0.05
          },
          "xaxis": {
           "automargin": true,
           "gridcolor": "white",
           "linecolor": "white",
           "ticks": "",
           "title": {
            "standoff": 15
           },
           "zerolinecolor": "white",
           "zerolinewidth": 2
          },
          "yaxis": {
           "automargin": true,
           "gridcolor": "white",
           "linecolor": "white",
           "ticks": "",
           "title": {
            "standoff": 15
           },
           "zerolinecolor": "white",
           "zerolinewidth": 2
          }
         }
        },
        "xaxis": {
         "anchor": "y",
         "autorange": true,
         "domain": [
          0,
          1
         ],
         "range": [
          -1.0997012377969413,
          19.273938590150323
         ],
         "title": {
          "text": "linear_model dcg"
         },
         "type": "linear"
        },
        "yaxis": {
         "anchor": "x",
         "autorange": true,
         "domain": [
          0,
          1
         ],
         "range": [
          -1.4071916060221121,
          19.581428958375493
         ],
         "title": {
          "text": "random_forest dcg"
         },
         "type": "linear"
        }
       }
      },
      "image/png": "[encoded data removed]",
      "text/html": [
       "<div>                            <div id=\"a1ca8265-693c-453d-a6d6-39e2df18c7c7\" class=\"plotly-graph-div\" style=\"height:525px; width:100%;\"></div>            <script type=\"text/javascript\">                require([\"plotly\"], function(Plotly) {                    window.PLOTLYENV=window.PLOTLYENV || {};                                    if (document.getElementById(\"a1ca8265-693c-453d-a6d6-39e2df18c7c7\")) {                    Plotly.newPlot(                        \"a1ca8265-693c-453d-a6d6-39e2df18c7c7\",                        [{\"customdata\":[[\"7 days without a pun makes one weak\",0.6640659408521532,0.9,0.9,0.6640659408521532,0.9,0.9,15.650518338067553,18.17423735235338,0.6640659408521532,0.9,0.9],[\"american flag 5x8 outdoor made in usa\",0.3489895615869866,0.3,0.3,0.48287910642304827,0.5,0.5,14.55199855728299,18.17423735235338,0.5958074859353115,0.7,0.7],[\"andis t edger\",0.283827920583421,0.2,0.2,0.283827920583421,0.2,0.2,6.52371901428583,14.65329964272228,0.308602267049212,0.2,0.2],[\"backpacks lunchbox combo\",0.04439416571845614,0.1,0.1,0.04439416571845614,0.1,0.1,1.2041199826559248,7.123212623289701,0.0847256001992896,0.1,0.1],[\"best ride on cars mercedes 3-in-1 push car in white\",0.4268932385479575,0.4,0.4,0.4268932385479575,0.4,0.4,9.785578521428748,17.572177361025417,0.4268932385479575,0.4,0.4],[\"bookshelf 4 tier\",0.056895702836502485,0.1,0.1,0.056895702836502485,0.1,0.1,7.333333333333333,18.17423735235338,0.3129263656007636,0.3,0.3],[\"coil incense\",0.7441140557478906,1.0,1.0,0.7441140557478906,1.0,1.0,18.17423735235338,18.17423735235338,0.7441140557478906,1.0,1.0],[\"cousin it costume\",0.43116905701454383,0.2,0.2,0.43116905701454383,0.2,0.2,7.948547762717919,10.246425246579404,0.6177958874958227,0.3,0.3],[\"dji goggles\",0.5425438628684552,0.7,0.9,0.5425438628684552,0.7,0.9,13.622765437410264,15.400988038505483,0.5532772433580658,0.7,0.9],[\"do not enter tape\",0.2749602024444795,0.3,0.3,0.2749602024444795,0.3,0.3,11.567432817846504,18.17423735235338,0.4832914623544739,0.7,0.7],[\"eye mask without strap\",0.0,0.0,0.0,0.0,0.0,0.0,13.85633827958356,16.912377845210468,0.3751620967651038,0.8,0.8],[\"fabric aprons\",0.0,0.0,0.0,0.0,0.0,0.0,5.914421387036973,14.551998557282992,0.2421561906772534,0.4,0.4],[\"four paws magic coat instant dog mat remover\",0.5021885990757317,0.9,1.0,0.5021885990757317,0.9,1.0,16.043307598781926,16.043307598781926,0.5021885990757317,0.9,1.0],[\"galaxy 8 note case\",0.0473411227365995,0.1,0.1,0.0473411227365995,0.1,0.1,1.3333333333333333,18.17423735235338,0.0545911256189271,0.1,0.1],[\"golf sets for men left handed\",0.21307407578185383,0.2,0.2,0.09900587088750676,0.2,0.2,5.204119982655925,18.17423735235338,0.2130740757818538,0.2,0.2],[\"halloween glow bracelets kids\",0.05459112561892712,0.1,0.1,0.05459112561892712,0.1,0.1,1.7227062322935722,15.813858064425906,0.0705333542487352,0.1,0.1],[\"heavy duty plastic folders with pockets\",0.17599134684835033,0.3,0.3,0.12469621941351844,0.2,0.2,8.083085520221049,18.17423735235338,0.3377141914649278,0.4,0.4],[\"helen kaminski hats\",0.0,0.0,0.0,0.0,0.0,0.0,1.1562593052715515,4.0,0.0483089255243834,0.1,0.1],[\"hug machine\",0.5544928869275813,0.1,0.4,0.5544928869275813,0.1,0.4,5.0396944362254255,5.096268032608155,0.5544928869275813,0.1,0.4],[\"if lost or drunk please return to bestie\",0.7441140557478906,1.0,1.0,0.7441140557478906,1.0,1.0,18.17423735235338,18.17423735235338,0.7441140557478906,1.0,1.0],[\"jobs evergreen tree spikes\",0.8201370158377279,1.0,1.0,0.8201370158377279,1.0,1.0,16.994047708389644,16.994047708389644,0.8201370158377279,1.0,1.0],[\"kid animal plates\",0.3050128638003318,0.3,0.3,0.3050128638003318,0.3,0.3,6.666666666666667,12.218665223949658,0.3050128638003318,0.3,0.3],[\"kobe baby jersey\",0.3489895615869866,0.3,0.3,0.3489895615869866,0.3,0.3,8.523719014285831,18.17423735235338,0.3489895615869866,0.3,0.3],[\"lights bulbs color changing\",0.0,0.0,0.0,0.0,0.0,0.0,5.2618595071429155,18.17423735235338,0.2154381250076886,0.3,0.3],[\"mary meyer baby mat\",0.7860189940564837,0.8,0.8,0.7860189940564837,0.8,0.8,16.415918055753867,16.994047708389644,0.8159440500938725,0.9,0.9],[\"moto play screen protector\",0.37561473645734933,0.3,0.3,0.37561473645734933,0.3,0.3,15.708257862554545,18.17423735235338,0.6922158188648209,0.8,0.8],[\"neuroquell for neuropathy\",0.10022579111902698,0.2,0.2,0.10022579111902698,0.2,0.2,2.4087643450849527,12.061392557535653,0.1002257911190269,0.2,0.2],[\"organicbone broth\",0.34430224321006225,0.3,0.3,0.34430224321006225,0.3,0.3,7.333333333333333,16.96517794614615,0.3443022432100622,0.3,0.3],[\"panties\",0.0,0.0,0.0,0.0,0.0,0.0,0.0,0.0,0.0,0.0,0.0],[\"patio chair swing\",0.05833725389333615,0.1,0.1,0.05833725389333615,0.1,0.1,5.061172330275088,18.17423735235338,0.2072213208458141,0.3,0.3],[\"play kitchen for toddlers accessories\",0.04930069892507245,0.1,0.1,0.04930069892507245,0.1,0.1,4.52371901428583,17.01797804708183,0.1852161847302052,0.2,0.2],[\"posh moomy\",0.0,0.0,0.0,0.0,0.0,0.0,0.0,0.0,0.0,0.0,0.0],[\"rose petals for romantic night\",0.19615652453527263,0.3,0.3,0.19615652453527263,0.3,0.3,4.6949462096638275,17.572177361025417,0.1961565245352726,0.3,0.3],[\"runtz\",0.0,0.0,0.0,0.19221699294337333,0.1,0.1,10.922917465165648,15.63889700619912,0.5248925873306987,0.7,0.7],[\"slarm window sensor\",0.13628165177409043,0.2,0.2,0.13628165177409043,0.2,0.2,3.261859507142915,7.2618595071429155,0.1362816517740904,0.2,0.2],[\"stuffed animal washer bag\",0.19159298779343467,0.1,0.1,0.19159298779343467,0.1,0.1,4.0,8.523719014285831,0.1915929877934346,0.1,0.1],[\"sundiata\",0.35295301492382125,0.2,0.3,0.35295301492382125,0.2,0.3,18.17423735235338,18.17423735235338,0.9587865593035604,1.0,1.0],[\"sushi go card game\",0.5696949029899167,0.4,0.4,0.5696949029899167,0.4,0.4,9.385072130432617,9.385072130432617,0.5696949029899167,0.4,0.4],[\"tetley\",0.0,0.0,0.0,0.6334167424239648,0.8,0.8,16.626826123415217,18.17423735235338,0.6807578651605644,0.9,0.9],[\"the first years gate parts\",0.015110214571816376,0.0,0.1,0.015110214571816376,0.0,0.1,0.5,3.02371901428583,0.0239491234741793,0.0,0.1],[\"ultra fast keto boost 800mg\",0.546164971470979,0.6,0.6,0.546164971470979,0.6,0.6,10.344157669746249,14.728059224202315,0.5495976022359215,0.6,0.6],[\"wiggle scooters for kids\",0.358574377361775,0.5,0.5,0.4404610657901657,0.5,0.5,11.637127619330546,18.17423735235338,0.4764629217827701,0.6,0.6],[\"winter cycling shoe covers\",0.5443019058264909,0.7,0.7,0.5443019058264909,0.7,0.7,14.344492172257391,17.543307598781922,0.673478295356918,0.8,0.8],[\"wowled\",0.0,0.0,0.0,0.265090358377816,0.2,0.2,15.813858064425906,15.813858064425906,0.7860189940564837,0.8,0.8]],\"hovertemplate\":\"linear_model dcg=%{x}\\u003cbr\\u003erandom_forest dcg=%{y}\\u003cbr\\u003equery=%{customdata[0]}\\u003cbr\\u003elinear_model ndcg=%{customdata[1]}\\u003cbr\\u003elinear_model prec@10=%{customdata[2]}\\u003cbr\\u003elinear_model ratio_of_ratings=%{customdata[3]}\\u003cbr\\u003erandom_forest ndcg=%{customdata[4]}\\u003cbr\\u003erandom_forest prec@10=%{customdata[5]}\\u003cbr\\u003erandom_forest ratio_of_ratings=%{customdata[6]}\\u003cbr\\u003edcg=%{customdata[7]}\\u003cbr\\u003edcg_dense=%{customdata[8]}\\u003cbr\\u003endcg=%{customdata[9]}\\u003cbr\\u003eprec@10=%{customdata[10]}\\u003cbr\\u003eratio_of_ratings=%{customdata[11]}\\u003cextra\\u003e\\u003c\\u002fextra\\u003e\",\"legendgroup\":\"\",\"marker\":{\"color\":\"#636efa\",\"symbol\":\"circle\"},\"mode\":\"markers\",\"name\":\"\",\"orientation\":\"v\",\"showlegend\":false,\"x\":[15.650518338067553,8.523719014285831,6.0,0.6309297535714575,9.785578521428747,1.3333333333333333,18.17423735235338,5.5474112289381665,13.358488663847371,6.58108805370364,0.0,0.0,16.043307598781926,1.1562593052715515,5.204119982655925,1.3333333333333333,4.212298870898457,0.0,5.0396944362254255,18.17423735235338,16.994047708389644,6.666666666666667,8.523719014285831,0.0,15.813858064425906,8.523719014285831,2.4087643450849527,7.333333333333333,0.0,1.4248287484320887,1.2041199826559248,0.0,4.6949462096638275,0.0,3.261859507142915,4.0,6.690385680952497,9.385072130432617,0.0,0.31546487678572877,10.279550994407543,8.757818498799,11.593149298649742,0.0],\"xaxis\":\"x\",\"y\":[15.650518338067553,11.793836475517569,6.0,0.6309297535714575,9.785578521428747,1.3333333333333333,18.17423735235338,5.5474112289381665,13.358488663847371,6.58108805370364,0.0,0.0,16.043307598781926,1.1562593052715515,2.4181188124144666,1.3333333333333333,2.984565739436487,0.0,5.0396944362254255,18.17423735235338,16.994047708389644,6.666666666666667,8.523719014285831,0.0,15.813858064425906,8.523719014285831,2.4087643450849527,7.333333333333333,0.0,1.4248287484320887,1.2041199826559248,0.0,4.6949462096638275,4.0,3.261859507142915,4.0,6.690385680952497,9.385072130432617,15.470566818143665,0.31546487678572877,10.279550994407543,10.757818498799,11.593149298649742,5.333333333333333],\"yaxis\":\"y\",\"type\":\"scatter\"}],                        {\"template\":{\"data\":{\"histogram2dcontour\":[{\"type\":\"histogram2dcontour\",\"colorbar\":{\"outlinewidth\":0,\"ticks\":\"\"},\"colorscale\":[[0.0,\"#0d0887\"],[0.1111111111111111,\"#46039f\"],[0.2222222222222222,\"#7201a8\"],[0.3333333333333333,\"#9c179e\"],[0.4444444444444444,\"#bd3786\"],[0.5555555555555556,\"#d8576b\"],[0.6666666666666666,\"#ed7953\"],[0.7777777777777778,\"#fb9f3a\"],[0.8888888888888888,\"#fdca26\"],[1.0,\"#f0f921\"]]}],\"choropleth\":[{\"type\":\"choropleth\",\"colorbar\":{\"outlinewidth\":0,\"ticks\":\"\"}}],\"histogram2d\":[{\"type\":\"histogram2d\",\"colorbar\":{\"outlinewidth\":0,\"ticks\":\"\"},\"colorscale\":[[0.0,\"#0d0887\"],[0.1111111111111111,\"#46039f\"],[0.2222222222222222,\"#7201a8\"],[0.3333333333333333,\"#9c179e\"],[0.4444444444444444,\"#bd3786\"],[0.5555555555555556,\"#d8576b\"],[0.6666666666666666,\"#ed7953\"],[0.7777777777777778,\"#fb9f3a\"],[0.8888888888888888,\"#fdca26\"],[1.0,\"#f0f921\"]]}],\"heatmap\":[{\"type\":\"heatmap\",\"colorbar\":{\"outlinewidth\":0,\"ticks\":\"\"},\"colorscale\":[[0.0,\"#0d0887\"],[0.1111111111111111,\"#46039f\"],[0.2222222222222222,\"#7201a8\"],[0.3333333333333333,\"#9c179e\"],[0.4444444444444444,\"#bd3786\"],[0.5555555555555556,\"#d8576b\"],[0.6666666666666666,\"#ed7953\"],[0.7777777777777778,\"#fb9f3a\"],[0.8888888888888888,\"#fdca26\"],[1.0,\"#f0f921\"]]}],\"heatmapgl\":[{\"type\":\"heatmapgl\",\"colorbar\":{\"outlinewidth\":0,\"ticks\":\"\"},\"colorscale\":[[0.0,\"#0d0887\"],[0.1111111111111111,\"#46039f\"],[0.2222222222222222,\"#7201a8\"],[0.3333333333333333,\"#9c179e\"],[0.4444444444444444,\"#bd3786\"],[0.5555555555555556,\"#d8576b\"],[0.6666666666666666,\"#ed7953\"],[0.7777777777777778,\"#fb9f3a\"],[0.8888888888888888,\"#fdca26\"],[1.0,\"#f0f921\"]]}],\"contourcarpet\":[{\"type\":\"contourcarpet\",\"colorbar\":{\"outlinewidth\":0,\"ticks\":\"\"}}],\"contour\":[{\"type\":\"contour\",\"colorbar\":{\"outlinewidth\":0,\"ticks\":\"\"},\"colorscale\":[[0.0,\"#0d0887\"],[0.1111111111111111,\"#46039f\"],[0.2222222222222222,\"#7201a8\"],[0.3333333333333333,\"#9c179e\"],[0.4444444444444444,\"#bd3786\"],[0.5555555555555556,\"#d8576b\"],[0.6666666666666666,\"#ed7953\"],[0.7777777777777778,\"#fb9f3a\"],[0.8888888888888888,\"#fdca26\"],[1.0,\"#f0f921\"]]}],\"surface\":[{\"type\":\"surface\",\"colorbar\":{\"outlinewidth\":0,\"ticks\":\"\"},\"colorscale\":[[0.0,\"#0d0887\"],[0.1111111111111111,\"#46039f\"],[0.2222222222222222,\"#7201a8\"],[0.3333333333333333,\"#9c179e\"],[0.4444444444444444,\"#bd3786\"],[0.5555555555555556,\"#d8576b\"],[0.6666666666666666,\"#ed7953\"],[0.7777777777777778,\"#fb9f3a\"],[0.8888888888888888,\"#fdca26\"],[1.0,\"#f0f921\"]]}],\"mesh3d\":[{\"type\":\"mesh3d\",\"colorbar\":{\"outlinewidth\":0,\"ticks\":\"\"}}],\"scatter\":[{\"fillpattern\":{\"fillmode\":\"overlay\",\"size\":10,\"solidity\":0.2},\"type\":\"scatter\"}],\"parcoords\":[{\"type\":\"parcoords\",\"line\":{\"colorbar\":{\"outlinewidth\":0,\"ticks\":\"\"}}}],\"scatterpolargl\":[{\"type\":\"scatterpolargl\",\"marker\":{\"colorbar\":{\"outlinewidth\":0,\"ticks\":\"\"}}}],\"bar\":[{\"error_x\":{\"color\":\"#2a3f5f\"},\"error_y\":{\"color\":\"#2a3f5f\"},\"marker\":{\"line\":{\"color\":\"#E5ECF6\",\"width\":0.5},\"pattern\":{\"fillmode\":\"overlay\",\"size\":10,\"solidity\":0.2}},\"type\":\"bar\"}],\"scattergeo\":[{\"type\":\"scattergeo\",\"marker\":{\"colorbar\":{\"outlinewidth\":0,\"ticks\":\"\"}}}],\"scatterpolar\":[{\"type\":\"scatterpolar\",\"marker\":{\"colorbar\":{\"outlinewidth\":0,\"ticks\":\"\"}}}],\"histogram\":[{\"marker\":{\"pattern\":{\"fillmode\":\"overlay\",\"size\":10,\"solidity\":0.2}},\"type\":\"histogram\"}],\"scattergl\":[{\"type\":\"scattergl\",\"marker\":{\"colorbar\":{\"outlinewidth\":0,\"ticks\":\"\"}}}],\"scatter3d\":[{\"type\":\"scatter3d\",\"line\":{\"colorbar\":{\"outlinewidth\":0,\"ticks\":\"\"}},\"marker\":{\"colorbar\":{\"outlinewidth\":0,\"ticks\":\"\"}}}],\"scattermapbox\":[{\"type\":\"scattermapbox\",\"marker\":{\"colorbar\":{\"outlinewidth\":0,\"ticks\":\"\"}}}],\"scatterternary\":[{\"type\":\"scatterternary\",\"marker\":{\"colorbar\":{\"outlinewidth\":0,\"ticks\":\"\"}}}],\"scattercarpet\":[{\"type\":\"scattercarpet\",\"marker\":{\"colorbar\":{\"outlinewidth\":0,\"ticks\":\"\"}}}],\"carpet\":[{\"aaxis\":{\"endlinecolor\":\"#2a3f5f\",\"gridcolor\":\"white\",\"linecolor\":\"white\",\"minorgridcolor\":\"white\",\"startlinecolor\":\"#2a3f5f\"},\"baxis\":{\"endlinecolor\":\"#2a3f5f\",\"gridcolor\":\"white\",\"linecolor\":\"white\",\"minorgridcolor\":\"white\",\"startlinecolor\":\"#2a3f5f\"},\"type\":\"carpet\"}],\"table\":[{\"cells\":{\"fill\":{\"color\":\"#EBF0F8\"},\"line\":{\"color\":\"white\"}},\"header\":{\"fill\":{\"color\":\"#C8D4E3\"},\"line\":{\"color\":\"white\"}},\"type\":\"table\"}],\"barpolar\":[{\"marker\":{\"line\":{\"color\":\"#E5ECF6\",\"width\":0.5},\"pattern\":{\"fillmode\":\"overlay\",\"size\":10,\"solidity\":0.2}},\"type\":\"barpolar\"}],\"pie\":[{\"automargin\":true,\"type\":\"pie\"}]},\"layout\":{\"autotypenumbers\":\"strict\",\"colorway\":[\"#636efa\",\"#EF553B\",\"#00cc96\",\"#ab63fa\",\"#FFA15A\",\"#19d3f3\",\"#FF6692\",\"#B6E880\",\"#FF97FF\",\"#FECB52\"],\"font\":{\"color\":\"#2a3f5f\"},\"hovermode\":\"closest\",\"hoverlabel\":{\"align\":\"left\"},\"paper_bgcolor\":\"white\",\"plot_bgcolor\":\"#E5ECF6\",\"polar\":{\"bgcolor\":\"#E5ECF6\",\"angularaxis\":{\"gridcolor\":\"white\",\"linecolor\":\"white\",\"ticks\":\"\"},\"radialaxis\":{\"gridcolor\":\"white\",\"linecolor\":\"white\",\"ticks\":\"\"}},\"ternary\":{\"bgcolor\":\"#E5ECF6\",\"aaxis\":{\"gridcolor\":\"white\",\"linecolor\":\"white\",\"ticks\":\"\"},\"baxis\":{\"gridcolor\":\"white\",\"linecolor\":\"white\",\"ticks\":\"\"},\"caxis\":{\"gridcolor\":\"white\",\"linecolor\":\"white\",\"ticks\":\"\"}},\"coloraxis\":{\"colorbar\":{\"outlinewidth\":0,\"ticks\":\"\"}},\"colorscale\":{\"sequential\":[[0.0,\"#0d0887\"],[0.1111111111111111,\"#46039f\"],[0.2222222222222222,\"#7201a8\"],[0.3333333333333333,\"#9c179e\"],[0.4444444444444444,\"#bd3786\"],[0.5555555555555556,\"#d8576b\"],[0.6666666666666666,\"#ed7953\"],[0.7777777777777778,\"#fb9f3a\"],[0.8888888888888888,\"#fdca26\"],[1.0,\"#f0f921\"]],\"sequentialminus\":[[0.0,\"#0d0887\"],[0.1111111111111111,\"#46039f\"],[0.2222222222222222,\"#7201a8\"],[0.3333333333333333,\"#9c179e\"],[0.4444444444444444,\"#bd3786\"],[0.5555555555555556,\"#d8576b\"],[0.6666666666666666,\"#ed7953\"],[0.7777777777777778,\"#fb9f3a\"],[0.8888888888888888,\"#fdca26\"],[1.0,\"#f0f921\"]],\"diverging\":[[0,\"#8e0152\"],[0.1,\"#c51b7d\"],[0.2,\"#de77ae\"],[0.3,\"#f1b6da\"],[0.4,\"#fde0ef\"],[0.5,\"#f7f7f7\"],[0.6,\"#e6f5d0\"],[0.7,\"#b8e186\"],[0.8,\"#7fbc41\"],[0.9,\"#4d9221\"],[1,\"#276419\"]]},\"xaxis\":{\"gridcolor\":\"white\",\"linecolor\":\"white\",\"ticks\":\"\",\"title\":{\"standoff\":15},\"zerolinecolor\":\"white\",\"automargin\":true,\"zerolinewidth\":2},\"yaxis\":{\"gridcolor\":\"white\",\"linecolor\":\"white\",\"ticks\":\"\",\"title\":{\"standoff\":15},\"zerolinecolor\":\"white\",\"automargin\":true,\"zerolinewidth\":2},\"scene\":{\"xaxis\":{\"backgroundcolor\":\"#E5ECF6\",\"gridcolor\":\"white\",\"linecolor\":\"white\",\"showbackground\":true,\"ticks\":\"\",\"zerolinecolor\":\"white\",\"gridwidth\":2},\"yaxis\":{\"backgroundcolor\":\"#E5ECF6\",\"gridcolor\":\"white\",\"linecolor\":\"white\",\"showbackground\":true,\"ticks\":\"\",\"zerolinecolor\":\"white\",\"gridwidth\":2},\"zaxis\":{\"backgroundcolor\":\"#E5ECF6\",\"gridcolor\":\"white\",\"linecolor\":\"white\",\"showbackground\":true,\"ticks\":\"\",\"zerolinecolor\":\"white\",\"gridwidth\":2}},\"shapedefaults\":{\"line\":{\"color\":\"#2a3f5f\"}},\"annotationdefaults\":{\"arrowcolor\":\"#2a3f5f\",\"arrowhead\":0,\"arrowwidth\":1},\"geo\":{\"bgcolor\":\"white\",\"landcolor\":\"#E5ECF6\",\"subunitcolor\":\"white\",\"showland\":true,\"showlakes\":true,\"lakecolor\":\"white\"},\"title\":{\"x\":0.05},\"mapbox\":{\"style\":\"light\"}}},\"xaxis\":{\"anchor\":\"y\",\"domain\":[0.0,1.0],\"title\":{\"text\":\"linear_model dcg\"}},\"yaxis\":{\"anchor\":\"x\",\"domain\":[0.0,1.0],\"title\":{\"text\":\"random_forest dcg\"}},\"legend\":{\"tracegroupgap\":0},\"margin\":{\"t\":60}},                        {\"responsive\": true}                    ).then(function(){\n",
       "                            \n",
       "var gd = document.getElementById('a1ca8265-693c-453d-a6d6-39e2df18c7c7');\n",
       "var x = new MutationObserver(function (mutations, observer) {{\n",
       "        var display = window.getComputedStyle(gd).display;\n",
       "        if (!display || display === 'none') {{\n",
       "            console.log([gd, 'removed!']);\n",
       "            Plotly.purge(gd);\n",
       "            observer.disconnect();\n",
       "        }}\n",
       "}});\n",
       "\n",
       "// Listen for the removal of the full notebook cells\n",
       "var notebookContainer = gd.closest('#notebook-container');\n",
       "if (notebookContainer) {{\n",
       "    x.observe(notebookContainer, {childList: true});\n",
       "}}\n",
       "\n",
       "// Listen for the clearing of the current output cell\n",
       "var outputEl = gd.closest('.output');\n",
       "if (outputEl) {{\n",
       "    x.observe(outputEl, {childList: true});\n",
       "}}\n",
       "\n",
       "                        })                };                });            </script>        </div>"
      ]
     },
     "metadata": {},
     "output_type": "display_data"
    }
   ],
   "source": [
    "px.scatter(\n",
    "    df_metrics_merged,\n",
    "    x=\"linear_model dcg\",\n",
    "    y=\"random_forest dcg\",\n",
    "    hover_data=df_metrics_merged.columns,\n",
    ")"
   ]
  },
  {
   "cell_type": "code",
   "execution_count": 382,
   "id": "ff2d1068-34b3-4ab9-8b6d-0df17f4bf7ce",
   "metadata": {},
   "outputs": [
    {
     "data": {
      "application/vnd.plotly.v1+json": {
       "config": {
        "plotlyServerURL": "https://plot.ly"
       },
       "data": [
        {
         "customdata": [
          [
           "7 days without a pun makes one weak",
           15.650518338067553,
           0.9,
           0.9,
           15.650518338067553,
           0.9,
           0.9,
           15.650518338067553,
           18.17423735235338,
           0.6640659408521532,
           0.9,
           0.9
          ],
          [
           "american flag 5x8 outdoor made in usa",
           8.523719014285831,
           0.3,
           0.3,
           11.793836475517569,
           0.5,
           0.5,
           14.55199855728299,
           18.17423735235338,
           0.5958074859353115,
           0.7,
           0.7
          ],
          [
           "andis t edger",
           6,
           0.2,
           0.2,
           6,
           0.2,
           0.2,
           6.52371901428583,
           14.65329964272228,
           0.308602267049212,
           0.2,
           0.2
          ],
          [
           "backpacks lunchbox combo",
           0.6309297535714575,
           0.1,
           0.1,
           0.6309297535714575,
           0.1,
           0.1,
           1.2041199826559248,
           7.123212623289701,
           0.0847256001992896,
           0.1,
           0.1
          ],
          [
           "best ride on cars mercedes 3-in-1 push car in white",
           9.785578521428747,
           0.4,
           0.4,
           9.785578521428747,
           0.4,
           0.4,
           9.785578521428748,
           17.572177361025417,
           0.4268932385479575,
           0.4,
           0.4
          ],
          [
           "bookshelf 4 tier",
           1.3333333333333333,
           0.1,
           0.1,
           1.3333333333333333,
           0.1,
           0.1,
           7.333333333333333,
           18.17423735235338,
           0.3129263656007636,
           0.3,
           0.3
          ],
          [
           "coil incense",
           18.17423735235338,
           1,
           1,
           18.17423735235338,
           1,
           1,
           18.17423735235338,
           18.17423735235338,
           0.7441140557478906,
           1,
           1
          ],
          [
           "cousin it costume",
           5.5474112289381665,
           0.2,
           0.2,
           5.5474112289381665,
           0.2,
           0.2,
           7.948547762717919,
           10.246425246579404,
           0.6177958874958227,
           0.3,
           0.3
          ],
          [
           "dji goggles",
           13.358488663847371,
           0.7,
           0.9,
           13.358488663847371,
           0.7,
           0.9,
           13.622765437410264,
           15.400988038505483,
           0.5532772433580658,
           0.7,
           0.9
          ],
          [
           "do not enter tape",
           6.58108805370364,
           0.3,
           0.3,
           6.58108805370364,
           0.3,
           0.3,
           11.567432817846504,
           18.17423735235338,
           0.4832914623544739,
           0.7,
           0.7
          ],
          [
           "eye mask without strap",
           0,
           0,
           0,
           0,
           0,
           0,
           13.85633827958356,
           16.912377845210468,
           0.3751620967651038,
           0.8,
           0.8
          ],
          [
           "fabric aprons",
           0,
           0,
           0,
           0,
           0,
           0,
           5.914421387036973,
           14.551998557282992,
           0.2421561906772534,
           0.4,
           0.4
          ],
          [
           "four paws magic coat instant dog mat remover",
           16.043307598781926,
           0.9,
           1,
           16.043307598781926,
           0.9,
           1,
           16.043307598781926,
           16.043307598781926,
           0.5021885990757317,
           0.9,
           1
          ],
          [
           "galaxy 8 note case",
           1.1562593052715515,
           0.1,
           0.1,
           1.1562593052715515,
           0.1,
           0.1,
           1.3333333333333333,
           18.17423735235338,
           0.0545911256189271,
           0.1,
           0.1
          ],
          [
           "golf sets for men left handed",
           5.204119982655925,
           0.2,
           0.2,
           2.4181188124144666,
           0.2,
           0.2,
           5.204119982655925,
           18.17423735235338,
           0.2130740757818538,
           0.2,
           0.2
          ],
          [
           "halloween glow bracelets kids",
           1.3333333333333333,
           0.1,
           0.1,
           1.3333333333333333,
           0.1,
           0.1,
           1.7227062322935722,
           15.813858064425906,
           0.0705333542487352,
           0.1,
           0.1
          ],
          [
           "heavy duty plastic folders with pockets",
           4.212298870898457,
           0.3,
           0.3,
           2.984565739436487,
           0.2,
           0.2,
           8.083085520221049,
           18.17423735235338,
           0.3377141914649278,
           0.4,
           0.4
          ],
          [
           "helen kaminski hats",
           0,
           0,
           0,
           0,
           0,
           0,
           1.1562593052715515,
           4,
           0.0483089255243834,
           0.1,
           0.1
          ],
          [
           "hug machine",
           5.0396944362254255,
           0.1,
           0.4,
           5.0396944362254255,
           0.1,
           0.4,
           5.0396944362254255,
           5.096268032608155,
           0.5544928869275813,
           0.1,
           0.4
          ],
          [
           "if lost or drunk please return to bestie",
           18.17423735235338,
           1,
           1,
           18.17423735235338,
           1,
           1,
           18.17423735235338,
           18.17423735235338,
           0.7441140557478906,
           1,
           1
          ],
          [
           "jobs evergreen tree spikes",
           16.994047708389644,
           1,
           1,
           16.994047708389644,
           1,
           1,
           16.994047708389644,
           16.994047708389644,
           0.8201370158377279,
           1,
           1
          ],
          [
           "kid animal plates",
           6.666666666666667,
           0.3,
           0.3,
           6.666666666666667,
           0.3,
           0.3,
           6.666666666666667,
           12.218665223949658,
           0.3050128638003318,
           0.3,
           0.3
          ],
          [
           "kobe baby jersey",
           8.523719014285831,
           0.3,
           0.3,
           8.523719014285831,
           0.3,
           0.3,
           8.523719014285831,
           18.17423735235338,
           0.3489895615869866,
           0.3,
           0.3
          ],
          [
           "lights bulbs color changing",
           0,
           0,
           0,
           0,
           0,
           0,
           5.2618595071429155,
           18.17423735235338,
           0.2154381250076886,
           0.3,
           0.3
          ],
          [
           "mary meyer baby mat",
           15.813858064425906,
           0.8,
           0.8,
           15.813858064425906,
           0.8,
           0.8,
           16.415918055753867,
           16.994047708389644,
           0.8159440500938725,
           0.9,
           0.9
          ],
          [
           "moto play screen protector",
           8.523719014285831,
           0.3,
           0.3,
           8.523719014285831,
           0.3,
           0.3,
           15.708257862554545,
           18.17423735235338,
           0.6922158188648209,
           0.8,
           0.8
          ],
          [
           "neuroquell for neuropathy",
           2.4087643450849527,
           0.2,
           0.2,
           2.4087643450849527,
           0.2,
           0.2,
           2.4087643450849527,
           12.061392557535653,
           0.1002257911190269,
           0.2,
           0.2
          ],
          [
           "organicbone broth",
           7.333333333333333,
           0.3,
           0.3,
           7.333333333333333,
           0.3,
           0.3,
           7.333333333333333,
           16.96517794614615,
           0.3443022432100622,
           0.3,
           0.3
          ],
          [
           "panties",
           0,
           0,
           0,
           0,
           0,
           0,
           0,
           0,
           0,
           0,
           0
          ],
          [
           "patio chair swing",
           1.4248287484320887,
           0.1,
           0.1,
           1.4248287484320887,
           0.1,
           0.1,
           5.061172330275088,
           18.17423735235338,
           0.2072213208458141,
           0.3,
           0.3
          ],
          [
           "play kitchen for toddlers accessories",
           1.2041199826559248,
           0.1,
           0.1,
           1.2041199826559248,
           0.1,
           0.1,
           4.52371901428583,
           17.01797804708183,
           0.1852161847302052,
           0.2,
           0.2
          ],
          [
           "posh moomy",
           0,
           0,
           0,
           0,
           0,
           0,
           0,
           0,
           0,
           0,
           0
          ],
          [
           "rose petals for romantic night",
           4.6949462096638275,
           0.3,
           0.3,
           4.6949462096638275,
           0.3,
           0.3,
           4.6949462096638275,
           17.572177361025417,
           0.1961565245352726,
           0.3,
           0.3
          ],
          [
           "runtz",
           0,
           0,
           0,
           4,
           0.1,
           0.1,
           10.922917465165648,
           15.63889700619912,
           0.5248925873306987,
           0.7,
           0.7
          ],
          [
           "slarm window sensor",
           3.261859507142915,
           0.2,
           0.2,
           3.261859507142915,
           0.2,
           0.2,
           3.261859507142915,
           7.2618595071429155,
           0.1362816517740904,
           0.2,
           0.2
          ],
          [
           "stuffed animal washer bag",
           4,
           0.1,
           0.1,
           4,
           0.1,
           0.1,
           4,
           8.523719014285831,
           0.1915929877934346,
           0.1,
           0.1
          ],
          [
           "sundiata",
           6.690385680952497,
           0.2,
           0.3,
           6.690385680952497,
           0.2,
           0.3,
           18.17423735235338,
           18.17423735235338,
           0.9587865593035604,
           1,
           1
          ],
          [
           "sushi go card game",
           9.385072130432617,
           0.4,
           0.4,
           9.385072130432617,
           0.4,
           0.4,
           9.385072130432617,
           9.385072130432617,
           0.5696949029899167,
           0.4,
           0.4
          ],
          [
           "tetley",
           0,
           0,
           0,
           15.470566818143665,
           0.8,
           0.8,
           16.626826123415217,
           18.17423735235338,
           0.6807578651605644,
           0.9,
           0.9
          ],
          [
           "the first years gate parts",
           0.31546487678572877,
           0,
           0.1,
           0.31546487678572877,
           0,
           0.1,
           0.5,
           3.02371901428583,
           0.0239491234741793,
           0,
           0.1
          ],
          [
           "ultra fast keto boost 800mg",
           10.279550994407543,
           0.6,
           0.6,
           10.279550994407543,
           0.6,
           0.6,
           10.344157669746249,
           14.728059224202315,
           0.5495976022359215,
           0.6,
           0.6
          ],
          [
           "wiggle scooters for kids",
           8.757818498799,
           0.5,
           0.5,
           10.757818498799,
           0.5,
           0.5,
           11.637127619330546,
           18.17423735235338,
           0.4764629217827701,
           0.6,
           0.6
          ],
          [
           "winter cycling shoe covers",
           11.593149298649742,
           0.7,
           0.7,
           11.593149298649742,
           0.7,
           0.7,
           14.344492172257391,
           17.543307598781922,
           0.673478295356918,
           0.8,
           0.8
          ],
          [
           "wowled",
           0,
           0,
           0,
           5.333333333333333,
           0.2,
           0.2,
           15.813858064425906,
           15.813858064425906,
           0.7860189940564837,
           0.8,
           0.8
          ]
         ],
         "hovertemplate": "linear_model ndcg=%{x}<br>random_forest ndcg=%{y}<br>query=%{customdata[0]}<br>linear_model dcg=%{customdata[1]}<br>linear_model prec@10=%{customdata[2]}<br>linear_model ratio_of_ratings=%{customdata[3]}<br>random_forest dcg=%{customdata[4]}<br>random_forest prec@10=%{customdata[5]}<br>random_forest ratio_of_ratings=%{customdata[6]}<br>dcg=%{customdata[7]}<br>dcg_dense=%{customdata[8]}<br>ndcg=%{customdata[9]}<br>prec@10=%{customdata[10]}<br>ratio_of_ratings=%{customdata[11]}<extra></extra>",
         "legendgroup": "",
         "marker": {
          "color": "#636efa",
          "symbol": "circle"
         },
         "mode": "markers",
         "name": "",
         "orientation": "v",
         "showlegend": false,
         "type": "scatter",
         "x": [
          0.6640659408521532,
          0.3489895615869866,
          0.283827920583421,
          0.04439416571845614,
          0.4268932385479575,
          0.056895702836502485,
          0.7441140557478906,
          0.43116905701454383,
          0.5425438628684552,
          0.2749602024444795,
          0,
          0,
          0.5021885990757317,
          0.0473411227365995,
          0.21307407578185383,
          0.05459112561892712,
          0.17599134684835033,
          0,
          0.5544928869275813,
          0.7441140557478906,
          0.8201370158377279,
          0.3050128638003318,
          0.3489895615869866,
          0,
          0.7860189940564837,
          0.37561473645734933,
          0.10022579111902698,
          0.34430224321006225,
          0,
          0.05833725389333615,
          0.04930069892507245,
          0,
          0.19615652453527263,
          0,
          0.13628165177409043,
          0.19159298779343467,
          0.35295301492382125,
          0.5696949029899167,
          0,
          0.015110214571816376,
          0.546164971470979,
          0.358574377361775,
          0.5443019058264909,
          0
         ],
         "xaxis": "x",
         "y": [
          0.6640659408521532,
          0.48287910642304827,
          0.283827920583421,
          0.04439416571845614,
          0.4268932385479575,
          0.056895702836502485,
          0.7441140557478906,
          0.43116905701454383,
          0.5425438628684552,
          0.2749602024444795,
          0,
          0,
          0.5021885990757317,
          0.0473411227365995,
          0.09900587088750676,
          0.05459112561892712,
          0.12469621941351844,
          0,
          0.5544928869275813,
          0.7441140557478906,
          0.8201370158377279,
          0.3050128638003318,
          0.3489895615869866,
          0,
          0.7860189940564837,
          0.37561473645734933,
          0.10022579111902698,
          0.34430224321006225,
          0,
          0.05833725389333615,
          0.04930069892507245,
          0,
          0.19615652453527263,
          0.19221699294337333,
          0.13628165177409043,
          0.19159298779343467,
          0.35295301492382125,
          0.5696949029899167,
          0.6334167424239648,
          0.015110214571816376,
          0.546164971470979,
          0.4404610657901657,
          0.5443019058264909,
          0.265090358377816
         ],
         "yaxis": "y"
        }
       ],
       "layout": {
        "autosize": true,
        "legend": {
         "tracegroupgap": 0
        },
        "margin": {
         "t": 60
        },
        "template": {
         "data": {
          "bar": [
           {
            "error_x": {
             "color": "#2a3f5f"
            },
            "error_y": {
             "color": "#2a3f5f"
            },
            "marker": {
             "line": {
              "color": "#E5ECF6",
              "width": 0.5
             },
             "pattern": {
              "fillmode": "overlay",
              "size": 10,
              "solidity": 0.2
             }
            },
            "type": "bar"
           }
          ],
          "barpolar": [
           {
            "marker": {
             "line": {
              "color": "#E5ECF6",
              "width": 0.5
             },
             "pattern": {
              "fillmode": "overlay",
              "size": 10,
              "solidity": 0.2
             }
            },
            "type": "barpolar"
           }
          ],
          "carpet": [
           {
            "aaxis": {
             "endlinecolor": "#2a3f5f",
             "gridcolor": "white",
             "linecolor": "white",
             "minorgridcolor": "white",
             "startlinecolor": "#2a3f5f"
            },
            "baxis": {
             "endlinecolor": "#2a3f5f",
             "gridcolor": "white",
             "linecolor": "white",
             "minorgridcolor": "white",
             "startlinecolor": "#2a3f5f"
            },
            "type": "carpet"
           }
          ],
          "choropleth": [
           {
            "colorbar": {
             "outlinewidth": 0,
             "ticks": ""
            },
            "type": "choropleth"
           }
          ],
          "contour": [
           {
            "colorbar": {
             "outlinewidth": 0,
             "ticks": ""
            },
            "colorscale": [
             [
              0,
              "#0d0887"
             ],
             [
              0.1111111111111111,
              "#46039f"
             ],
             [
              0.2222222222222222,
              "#7201a8"
             ],
             [
              0.3333333333333333,
              "#9c179e"
             ],
             [
              0.4444444444444444,
              "#bd3786"
             ],
             [
              0.5555555555555556,
              "#d8576b"
             ],
             [
              0.6666666666666666,
              "#ed7953"
             ],
             [
              0.7777777777777778,
              "#fb9f3a"
             ],
             [
              0.8888888888888888,
              "#fdca26"
             ],
             [
              1,
              "#f0f921"
             ]
            ],
            "type": "contour"
           }
          ],
          "contourcarpet": [
           {
            "colorbar": {
             "outlinewidth": 0,
             "ticks": ""
            },
            "type": "contourcarpet"
           }
          ],
          "heatmap": [
           {
            "colorbar": {
             "outlinewidth": 0,
             "ticks": ""
            },
            "colorscale": [
             [
              0,
              "#0d0887"
             ],
             [
              0.1111111111111111,
              "#46039f"
             ],
             [
              0.2222222222222222,
              "#7201a8"
             ],
             [
              0.3333333333333333,
              "#9c179e"
             ],
             [
              0.4444444444444444,
              "#bd3786"
             ],
             [
              0.5555555555555556,
              "#d8576b"
             ],
             [
              0.6666666666666666,
              "#ed7953"
             ],
             [
              0.7777777777777778,
              "#fb9f3a"
             ],
             [
              0.8888888888888888,
              "#fdca26"
             ],
             [
              1,
              "#f0f921"
             ]
            ],
            "type": "heatmap"
           }
          ],
          "heatmapgl": [
           {
            "colorbar": {
             "outlinewidth": 0,
             "ticks": ""
            },
            "colorscale": [
             [
              0,
              "#0d0887"
             ],
             [
              0.1111111111111111,
              "#46039f"
             ],
             [
              0.2222222222222222,
              "#7201a8"
             ],
             [
              0.3333333333333333,
              "#9c179e"
             ],
             [
              0.4444444444444444,
              "#bd3786"
             ],
             [
              0.5555555555555556,
              "#d8576b"
             ],
             [
              0.6666666666666666,
              "#ed7953"
             ],
             [
              0.7777777777777778,
              "#fb9f3a"
             ],
             [
              0.8888888888888888,
              "#fdca26"
             ],
             [
              1,
              "#f0f921"
             ]
            ],
            "type": "heatmapgl"
           }
          ],
          "histogram": [
           {
            "marker": {
             "pattern": {
              "fillmode": "overlay",
              "size": 10,
              "solidity": 0.2
             }
            },
            "type": "histogram"
           }
          ],
          "histogram2d": [
           {
            "colorbar": {
             "outlinewidth": 0,
             "ticks": ""
            },
            "colorscale": [
             [
              0,
              "#0d0887"
             ],
             [
              0.1111111111111111,
              "#46039f"
             ],
             [
              0.2222222222222222,
              "#7201a8"
             ],
             [
              0.3333333333333333,
              "#9c179e"
             ],
             [
              0.4444444444444444,
              "#bd3786"
             ],
             [
              0.5555555555555556,
              "#d8576b"
             ],
             [
              0.6666666666666666,
              "#ed7953"
             ],
             [
              0.7777777777777778,
              "#fb9f3a"
             ],
             [
              0.8888888888888888,
              "#fdca26"
             ],
             [
              1,
              "#f0f921"
             ]
            ],
            "type": "histogram2d"
           }
          ],
          "histogram2dcontour": [
           {
            "colorbar": {
             "outlinewidth": 0,
             "ticks": ""
            },
            "colorscale": [
             [
              0,
              "#0d0887"
             ],
             [
              0.1111111111111111,
              "#46039f"
             ],
             [
              0.2222222222222222,
              "#7201a8"
             ],
             [
              0.3333333333333333,
              "#9c179e"
             ],
             [
              0.4444444444444444,
              "#bd3786"
             ],
             [
              0.5555555555555556,
              "#d8576b"
             ],
             [
              0.6666666666666666,
              "#ed7953"
             ],
             [
              0.7777777777777778,
              "#fb9f3a"
             ],
             [
              0.8888888888888888,
              "#fdca26"
             ],
             [
              1,
              "#f0f921"
             ]
            ],
            "type": "histogram2dcontour"
           }
          ],
          "mesh3d": [
           {
            "colorbar": {
             "outlinewidth": 0,
             "ticks": ""
            },
            "type": "mesh3d"
           }
          ],
          "parcoords": [
           {
            "line": {
             "colorbar": {
              "outlinewidth": 0,
              "ticks": ""
             }
            },
            "type": "parcoords"
           }
          ],
          "pie": [
           {
            "automargin": true,
            "type": "pie"
           }
          ],
          "scatter": [
           {
            "fillpattern": {
             "fillmode": "overlay",
             "size": 10,
             "solidity": 0.2
            },
            "type": "scatter"
           }
          ],
          "scatter3d": [
           {
            "line": {
             "colorbar": {
              "outlinewidth": 0,
              "ticks": ""
             }
            },
            "marker": {
             "colorbar": {
              "outlinewidth": 0,
              "ticks": ""
             }
            },
            "type": "scatter3d"
           }
          ],
          "scattercarpet": [
           {
            "marker": {
             "colorbar": {
              "outlinewidth": 0,
              "ticks": ""
             }
            },
            "type": "scattercarpet"
           }
          ],
          "scattergeo": [
           {
            "marker": {
             "colorbar": {
              "outlinewidth": 0,
              "ticks": ""
             }
            },
            "type": "scattergeo"
           }
          ],
          "scattergl": [
           {
            "marker": {
             "colorbar": {
              "outlinewidth": 0,
              "ticks": ""
             }
            },
            "type": "scattergl"
           }
          ],
          "scattermapbox": [
           {
            "marker": {
             "colorbar": {
              "outlinewidth": 0,
              "ticks": ""
             }
            },
            "type": "scattermapbox"
           }
          ],
          "scatterpolar": [
           {
            "marker": {
             "colorbar": {
              "outlinewidth": 0,
              "ticks": ""
             }
            },
            "type": "scatterpolar"
           }
          ],
          "scatterpolargl": [
           {
            "marker": {
             "colorbar": {
              "outlinewidth": 0,
              "ticks": ""
             }
            },
            "type": "scatterpolargl"
           }
          ],
          "scatterternary": [
           {
            "marker": {
             "colorbar": {
              "outlinewidth": 0,
              "ticks": ""
             }
            },
            "type": "scatterternary"
           }
          ],
          "surface": [
           {
            "colorbar": {
             "outlinewidth": 0,
             "ticks": ""
            },
            "colorscale": [
             [
              0,
              "#0d0887"
             ],
             [
              0.1111111111111111,
              "#46039f"
             ],
             [
              0.2222222222222222,
              "#7201a8"
             ],
             [
              0.3333333333333333,
              "#9c179e"
             ],
             [
              0.4444444444444444,
              "#bd3786"
             ],
             [
              0.5555555555555556,
              "#d8576b"
             ],
             [
              0.6666666666666666,
              "#ed7953"
             ],
             [
              0.7777777777777778,
              "#fb9f3a"
             ],
             [
              0.8888888888888888,
              "#fdca26"
             ],
             [
              1,
              "#f0f921"
             ]
            ],
            "type": "surface"
           }
          ],
          "table": [
           {
            "cells": {
             "fill": {
              "color": "#EBF0F8"
             },
             "line": {
              "color": "white"
             }
            },
            "header": {
             "fill": {
              "color": "#C8D4E3"
             },
             "line": {
              "color": "white"
             }
            },
            "type": "table"
           }
          ]
         },
         "layout": {
          "annotationdefaults": {
           "arrowcolor": "#2a3f5f",
           "arrowhead": 0,
           "arrowwidth": 1
          },
          "autotypenumbers": "strict",
          "coloraxis": {
           "colorbar": {
            "outlinewidth": 0,
            "ticks": ""
           }
          },
          "colorscale": {
           "diverging": [
            [
             0,
             "#8e0152"
            ],
            [
             0.1,
             "#c51b7d"
            ],
            [
             0.2,
             "#de77ae"
            ],
            [
             0.3,
             "#f1b6da"
            ],
            [
             0.4,
             "#fde0ef"
            ],
            [
             0.5,
             "#f7f7f7"
            ],
            [
             0.6,
             "#e6f5d0"
            ],
            [
             0.7,
             "#b8e186"
            ],
            [
             0.8,
             "#7fbc41"
            ],
            [
             0.9,
             "#4d9221"
            ],
            [
             1,
             "#276419"
            ]
           ],
           "sequential": [
            [
             0,
             "#0d0887"
            ],
            [
             0.1111111111111111,
             "#46039f"
            ],
            [
             0.2222222222222222,
             "#7201a8"
            ],
            [
             0.3333333333333333,
             "#9c179e"
            ],
            [
             0.4444444444444444,
             "#bd3786"
            ],
            [
             0.5555555555555556,
             "#d8576b"
            ],
            [
             0.6666666666666666,
             "#ed7953"
            ],
            [
             0.7777777777777778,
             "#fb9f3a"
            ],
            [
             0.8888888888888888,
             "#fdca26"
            ],
            [
             1,
             "#f0f921"
            ]
           ],
           "sequentialminus": [
            [
             0,
             "#0d0887"
            ],
            [
             0.1111111111111111,
             "#46039f"
            ],
            [
             0.2222222222222222,
             "#7201a8"
            ],
            [
             0.3333333333333333,
             "#9c179e"
            ],
            [
             0.4444444444444444,
             "#bd3786"
            ],
            [
             0.5555555555555556,
             "#d8576b"
            ],
            [
             0.6666666666666666,
             "#ed7953"
            ],
            [
             0.7777777777777778,
             "#fb9f3a"
            ],
            [
             0.8888888888888888,
             "#fdca26"
            ],
            [
             1,
             "#f0f921"
            ]
           ]
          },
          "colorway": [
           "#636efa",
           "#EF553B",
           "#00cc96",
           "#ab63fa",
           "#FFA15A",
           "#19d3f3",
           "#FF6692",
           "#B6E880",
           "#FF97FF",
           "#FECB52"
          ],
          "font": {
           "color": "#2a3f5f"
          },
          "geo": {
           "bgcolor": "white",
           "lakecolor": "white",
           "landcolor": "#E5ECF6",
           "showlakes": true,
           "showland": true,
           "subunitcolor": "white"
          },
          "hoverlabel": {
           "align": "left"
          },
          "hovermode": "closest",
          "mapbox": {
           "style": "light"
          },
          "paper_bgcolor": "white",
          "plot_bgcolor": "#E5ECF6",
          "polar": {
           "angularaxis": {
            "gridcolor": "white",
            "linecolor": "white",
            "ticks": ""
           },
           "bgcolor": "#E5ECF6",
           "radialaxis": {
            "gridcolor": "white",
            "linecolor": "white",
            "ticks": ""
           }
          },
          "scene": {
           "xaxis": {
            "backgroundcolor": "#E5ECF6",
            "gridcolor": "white",
            "gridwidth": 2,
            "linecolor": "white",
            "showbackground": true,
            "ticks": "",
            "zerolinecolor": "white"
           },
           "yaxis": {
            "backgroundcolor": "#E5ECF6",
            "gridcolor": "white",
            "gridwidth": 2,
            "linecolor": "white",
            "showbackground": true,
            "ticks": "",
            "zerolinecolor": "white"
           },
           "zaxis": {
            "backgroundcolor": "#E5ECF6",
            "gridcolor": "white",
            "gridwidth": 2,
            "linecolor": "white",
            "showbackground": true,
            "ticks": "",
            "zerolinecolor": "white"
           }
          },
          "shapedefaults": {
           "line": {
            "color": "#2a3f5f"
           }
          },
          "ternary": {
           "aaxis": {
            "gridcolor": "white",
            "linecolor": "white",
            "ticks": ""
           },
           "baxis": {
            "gridcolor": "white",
            "linecolor": "white",
            "ticks": ""
           },
           "bgcolor": "#E5ECF6",
           "caxis": {
            "gridcolor": "white",
            "linecolor": "white",
            "ticks": ""
           }
          },
          "title": {
           "x": 0.05
          },
          "xaxis": {
           "automargin": true,
           "gridcolor": "white",
           "linecolor": "white",
           "ticks": "",
           "title": {
            "standoff": 15
           },
           "zerolinecolor": "white",
           "zerolinewidth": 2
          },
          "yaxis": {
           "automargin": true,
           "gridcolor": "white",
           "linecolor": "white",
           "ticks": "",
           "title": {
            "standoff": 15
           },
           "zerolinecolor": "white",
           "zerolinewidth": 2
          }
         }
        },
        "xaxis": {
         "anchor": "y",
         "autorange": true,
         "domain": [
          0,
          1
         ],
         "range": [
          -0.04962550416802229,
          0.8697625200057502
         ],
         "title": {
          "text": "linear_model ndcg"
         },
         "type": "linear"
        },
        "yaxis": {
         "anchor": "x",
         "autorange": true,
         "domain": [
          0,
          1
         ],
         "range": [
          -0.06350142248612328,
          0.8836384383238511
         ],
         "title": {
          "text": "random_forest ndcg"
         },
         "type": "linear"
        }
       }
      },
      "image/png": "[encoded data removed]",
      "text/html": [
       "<div>                            <div id=\"f7528bda-d0a5-425b-832e-78ef9d75b21e\" class=\"plotly-graph-div\" style=\"height:525px; width:100%;\"></div>            <script type=\"text/javascript\">                require([\"plotly\"], function(Plotly) {                    window.PLOTLYENV=window.PLOTLYENV || {};                                    if (document.getElementById(\"f7528bda-d0a5-425b-832e-78ef9d75b21e\")) {                    Plotly.newPlot(                        \"f7528bda-d0a5-425b-832e-78ef9d75b21e\",                        [{\"customdata\":[[\"7 days without a pun makes one weak\",15.650518338067553,0.9,0.9,15.650518338067553,0.9,0.9,15.650518338067553,18.17423735235338,0.6640659408521532,0.9,0.9],[\"american flag 5x8 outdoor made in usa\",8.523719014285831,0.3,0.3,11.793836475517569,0.5,0.5,14.55199855728299,18.17423735235338,0.5958074859353115,0.7,0.7],[\"andis t edger\",6.0,0.2,0.2,6.0,0.2,0.2,6.52371901428583,14.65329964272228,0.308602267049212,0.2,0.2],[\"backpacks lunchbox combo\",0.6309297535714575,0.1,0.1,0.6309297535714575,0.1,0.1,1.2041199826559248,7.123212623289701,0.0847256001992896,0.1,0.1],[\"best ride on cars mercedes 3-in-1 push car in white\",9.785578521428747,0.4,0.4,9.785578521428747,0.4,0.4,9.785578521428748,17.572177361025417,0.4268932385479575,0.4,0.4],[\"bookshelf 4 tier\",1.3333333333333333,0.1,0.1,1.3333333333333333,0.1,0.1,7.333333333333333,18.17423735235338,0.3129263656007636,0.3,0.3],[\"coil incense\",18.17423735235338,1.0,1.0,18.17423735235338,1.0,1.0,18.17423735235338,18.17423735235338,0.7441140557478906,1.0,1.0],[\"cousin it costume\",5.5474112289381665,0.2,0.2,5.5474112289381665,0.2,0.2,7.948547762717919,10.246425246579404,0.6177958874958227,0.3,0.3],[\"dji goggles\",13.358488663847371,0.7,0.9,13.358488663847371,0.7,0.9,13.622765437410264,15.400988038505483,0.5532772433580658,0.7,0.9],[\"do not enter tape\",6.58108805370364,0.3,0.3,6.58108805370364,0.3,0.3,11.567432817846504,18.17423735235338,0.4832914623544739,0.7,0.7],[\"eye mask without strap\",0.0,0.0,0.0,0.0,0.0,0.0,13.85633827958356,16.912377845210468,0.3751620967651038,0.8,0.8],[\"fabric aprons\",0.0,0.0,0.0,0.0,0.0,0.0,5.914421387036973,14.551998557282992,0.2421561906772534,0.4,0.4],[\"four paws magic coat instant dog mat remover\",16.043307598781926,0.9,1.0,16.043307598781926,0.9,1.0,16.043307598781926,16.043307598781926,0.5021885990757317,0.9,1.0],[\"galaxy 8 note case\",1.1562593052715515,0.1,0.1,1.1562593052715515,0.1,0.1,1.3333333333333333,18.17423735235338,0.0545911256189271,0.1,0.1],[\"golf sets for men left handed\",5.204119982655925,0.2,0.2,2.4181188124144666,0.2,0.2,5.204119982655925,18.17423735235338,0.2130740757818538,0.2,0.2],[\"halloween glow bracelets kids\",1.3333333333333333,0.1,0.1,1.3333333333333333,0.1,0.1,1.7227062322935722,15.813858064425906,0.0705333542487352,0.1,0.1],[\"heavy duty plastic folders with pockets\",4.212298870898457,0.3,0.3,2.984565739436487,0.2,0.2,8.083085520221049,18.17423735235338,0.3377141914649278,0.4,0.4],[\"helen kaminski hats\",0.0,0.0,0.0,0.0,0.0,0.0,1.1562593052715515,4.0,0.0483089255243834,0.1,0.1],[\"hug machine\",5.0396944362254255,0.1,0.4,5.0396944362254255,0.1,0.4,5.0396944362254255,5.096268032608155,0.5544928869275813,0.1,0.4],[\"if lost or drunk please return to bestie\",18.17423735235338,1.0,1.0,18.17423735235338,1.0,1.0,18.17423735235338,18.17423735235338,0.7441140557478906,1.0,1.0],[\"jobs evergreen tree spikes\",16.994047708389644,1.0,1.0,16.994047708389644,1.0,1.0,16.994047708389644,16.994047708389644,0.8201370158377279,1.0,1.0],[\"kid animal plates\",6.666666666666667,0.3,0.3,6.666666666666667,0.3,0.3,6.666666666666667,12.218665223949658,0.3050128638003318,0.3,0.3],[\"kobe baby jersey\",8.523719014285831,0.3,0.3,8.523719014285831,0.3,0.3,8.523719014285831,18.17423735235338,0.3489895615869866,0.3,0.3],[\"lights bulbs color changing\",0.0,0.0,0.0,0.0,0.0,0.0,5.2618595071429155,18.17423735235338,0.2154381250076886,0.3,0.3],[\"mary meyer baby mat\",15.813858064425906,0.8,0.8,15.813858064425906,0.8,0.8,16.415918055753867,16.994047708389644,0.8159440500938725,0.9,0.9],[\"moto play screen protector\",8.523719014285831,0.3,0.3,8.523719014285831,0.3,0.3,15.708257862554545,18.17423735235338,0.6922158188648209,0.8,0.8],[\"neuroquell for neuropathy\",2.4087643450849527,0.2,0.2,2.4087643450849527,0.2,0.2,2.4087643450849527,12.061392557535653,0.1002257911190269,0.2,0.2],[\"organicbone broth\",7.333333333333333,0.3,0.3,7.333333333333333,0.3,0.3,7.333333333333333,16.96517794614615,0.3443022432100622,0.3,0.3],[\"panties\",0.0,0.0,0.0,0.0,0.0,0.0,0.0,0.0,0.0,0.0,0.0],[\"patio chair swing\",1.4248287484320887,0.1,0.1,1.4248287484320887,0.1,0.1,5.061172330275088,18.17423735235338,0.2072213208458141,0.3,0.3],[\"play kitchen for toddlers accessories\",1.2041199826559248,0.1,0.1,1.2041199826559248,0.1,0.1,4.52371901428583,17.01797804708183,0.1852161847302052,0.2,0.2],[\"posh moomy\",0.0,0.0,0.0,0.0,0.0,0.0,0.0,0.0,0.0,0.0,0.0],[\"rose petals for romantic night\",4.6949462096638275,0.3,0.3,4.6949462096638275,0.3,0.3,4.6949462096638275,17.572177361025417,0.1961565245352726,0.3,0.3],[\"runtz\",0.0,0.0,0.0,4.0,0.1,0.1,10.922917465165648,15.63889700619912,0.5248925873306987,0.7,0.7],[\"slarm window sensor\",3.261859507142915,0.2,0.2,3.261859507142915,0.2,0.2,3.261859507142915,7.2618595071429155,0.1362816517740904,0.2,0.2],[\"stuffed animal washer bag\",4.0,0.1,0.1,4.0,0.1,0.1,4.0,8.523719014285831,0.1915929877934346,0.1,0.1],[\"sundiata\",6.690385680952497,0.2,0.3,6.690385680952497,0.2,0.3,18.17423735235338,18.17423735235338,0.9587865593035604,1.0,1.0],[\"sushi go card game\",9.385072130432617,0.4,0.4,9.385072130432617,0.4,0.4,9.385072130432617,9.385072130432617,0.5696949029899167,0.4,0.4],[\"tetley\",0.0,0.0,0.0,15.470566818143665,0.8,0.8,16.626826123415217,18.17423735235338,0.6807578651605644,0.9,0.9],[\"the first years gate parts\",0.31546487678572877,0.0,0.1,0.31546487678572877,0.0,0.1,0.5,3.02371901428583,0.0239491234741793,0.0,0.1],[\"ultra fast keto boost 800mg\",10.279550994407543,0.6,0.6,10.279550994407543,0.6,0.6,10.344157669746249,14.728059224202315,0.5495976022359215,0.6,0.6],[\"wiggle scooters for kids\",8.757818498799,0.5,0.5,10.757818498799,0.5,0.5,11.637127619330546,18.17423735235338,0.4764629217827701,0.6,0.6],[\"winter cycling shoe covers\",11.593149298649742,0.7,0.7,11.593149298649742,0.7,0.7,14.344492172257391,17.543307598781922,0.673478295356918,0.8,0.8],[\"wowled\",0.0,0.0,0.0,5.333333333333333,0.2,0.2,15.813858064425906,15.813858064425906,0.7860189940564837,0.8,0.8]],\"hovertemplate\":\"linear_model ndcg=%{x}\\u003cbr\\u003erandom_forest ndcg=%{y}\\u003cbr\\u003equery=%{customdata[0]}\\u003cbr\\u003elinear_model dcg=%{customdata[1]}\\u003cbr\\u003elinear_model prec@10=%{customdata[2]}\\u003cbr\\u003elinear_model ratio_of_ratings=%{customdata[3]}\\u003cbr\\u003erandom_forest dcg=%{customdata[4]}\\u003cbr\\u003erandom_forest prec@10=%{customdata[5]}\\u003cbr\\u003erandom_forest ratio_of_ratings=%{customdata[6]}\\u003cbr\\u003edcg=%{customdata[7]}\\u003cbr\\u003edcg_dense=%{customdata[8]}\\u003cbr\\u003endcg=%{customdata[9]}\\u003cbr\\u003eprec@10=%{customdata[10]}\\u003cbr\\u003eratio_of_ratings=%{customdata[11]}\\u003cextra\\u003e\\u003c\\u002fextra\\u003e\",\"legendgroup\":\"\",\"marker\":{\"color\":\"#636efa\",\"symbol\":\"circle\"},\"mode\":\"markers\",\"name\":\"\",\"orientation\":\"v\",\"showlegend\":false,\"x\":[0.6640659408521532,0.3489895615869866,0.283827920583421,0.04439416571845614,0.4268932385479575,0.056895702836502485,0.7441140557478906,0.43116905701454383,0.5425438628684552,0.2749602024444795,0.0,0.0,0.5021885990757317,0.0473411227365995,0.21307407578185383,0.05459112561892712,0.17599134684835033,0.0,0.5544928869275813,0.7441140557478906,0.8201370158377279,0.3050128638003318,0.3489895615869866,0.0,0.7860189940564837,0.37561473645734933,0.10022579111902698,0.34430224321006225,0.0,0.05833725389333615,0.04930069892507245,0.0,0.19615652453527263,0.0,0.13628165177409043,0.19159298779343467,0.35295301492382125,0.5696949029899167,0.0,0.015110214571816376,0.546164971470979,0.358574377361775,0.5443019058264909,0.0],\"xaxis\":\"x\",\"y\":[0.6640659408521532,0.48287910642304827,0.283827920583421,0.04439416571845614,0.4268932385479575,0.056895702836502485,0.7441140557478906,0.43116905701454383,0.5425438628684552,0.2749602024444795,0.0,0.0,0.5021885990757317,0.0473411227365995,0.09900587088750676,0.05459112561892712,0.12469621941351844,0.0,0.5544928869275813,0.7441140557478906,0.8201370158377279,0.3050128638003318,0.3489895615869866,0.0,0.7860189940564837,0.37561473645734933,0.10022579111902698,0.34430224321006225,0.0,0.05833725389333615,0.04930069892507245,0.0,0.19615652453527263,0.19221699294337333,0.13628165177409043,0.19159298779343467,0.35295301492382125,0.5696949029899167,0.6334167424239648,0.015110214571816376,0.546164971470979,0.4404610657901657,0.5443019058264909,0.265090358377816],\"yaxis\":\"y\",\"type\":\"scatter\"}],                        {\"template\":{\"data\":{\"histogram2dcontour\":[{\"type\":\"histogram2dcontour\",\"colorbar\":{\"outlinewidth\":0,\"ticks\":\"\"},\"colorscale\":[[0.0,\"#0d0887\"],[0.1111111111111111,\"#46039f\"],[0.2222222222222222,\"#7201a8\"],[0.3333333333333333,\"#9c179e\"],[0.4444444444444444,\"#bd3786\"],[0.5555555555555556,\"#d8576b\"],[0.6666666666666666,\"#ed7953\"],[0.7777777777777778,\"#fb9f3a\"],[0.8888888888888888,\"#fdca26\"],[1.0,\"#f0f921\"]]}],\"choropleth\":[{\"type\":\"choropleth\",\"colorbar\":{\"outlinewidth\":0,\"ticks\":\"\"}}],\"histogram2d\":[{\"type\":\"histogram2d\",\"colorbar\":{\"outlinewidth\":0,\"ticks\":\"\"},\"colorscale\":[[0.0,\"#0d0887\"],[0.1111111111111111,\"#46039f\"],[0.2222222222222222,\"#7201a8\"],[0.3333333333333333,\"#9c179e\"],[0.4444444444444444,\"#bd3786\"],[0.5555555555555556,\"#d8576b\"],[0.6666666666666666,\"#ed7953\"],[0.7777777777777778,\"#fb9f3a\"],[0.8888888888888888,\"#fdca26\"],[1.0,\"#f0f921\"]]}],\"heatmap\":[{\"type\":\"heatmap\",\"colorbar\":{\"outlinewidth\":0,\"ticks\":\"\"},\"colorscale\":[[0.0,\"#0d0887\"],[0.1111111111111111,\"#46039f\"],[0.2222222222222222,\"#7201a8\"],[0.3333333333333333,\"#9c179e\"],[0.4444444444444444,\"#bd3786\"],[0.5555555555555556,\"#d8576b\"],[0.6666666666666666,\"#ed7953\"],[0.7777777777777778,\"#fb9f3a\"],[0.8888888888888888,\"#fdca26\"],[1.0,\"#f0f921\"]]}],\"heatmapgl\":[{\"type\":\"heatmapgl\",\"colorbar\":{\"outlinewidth\":0,\"ticks\":\"\"},\"colorscale\":[[0.0,\"#0d0887\"],[0.1111111111111111,\"#46039f\"],[0.2222222222222222,\"#7201a8\"],[0.3333333333333333,\"#9c179e\"],[0.4444444444444444,\"#bd3786\"],[0.5555555555555556,\"#d8576b\"],[0.6666666666666666,\"#ed7953\"],[0.7777777777777778,\"#fb9f3a\"],[0.8888888888888888,\"#fdca26\"],[1.0,\"#f0f921\"]]}],\"contourcarpet\":[{\"type\":\"contourcarpet\",\"colorbar\":{\"outlinewidth\":0,\"ticks\":\"\"}}],\"contour\":[{\"type\":\"contour\",\"colorbar\":{\"outlinewidth\":0,\"ticks\":\"\"},\"colorscale\":[[0.0,\"#0d0887\"],[0.1111111111111111,\"#46039f\"],[0.2222222222222222,\"#7201a8\"],[0.3333333333333333,\"#9c179e\"],[0.4444444444444444,\"#bd3786\"],[0.5555555555555556,\"#d8576b\"],[0.6666666666666666,\"#ed7953\"],[0.7777777777777778,\"#fb9f3a\"],[0.8888888888888888,\"#fdca26\"],[1.0,\"#f0f921\"]]}],\"surface\":[{\"type\":\"surface\",\"colorbar\":{\"outlinewidth\":0,\"ticks\":\"\"},\"colorscale\":[[0.0,\"#0d0887\"],[0.1111111111111111,\"#46039f\"],[0.2222222222222222,\"#7201a8\"],[0.3333333333333333,\"#9c179e\"],[0.4444444444444444,\"#bd3786\"],[0.5555555555555556,\"#d8576b\"],[0.6666666666666666,\"#ed7953\"],[0.7777777777777778,\"#fb9f3a\"],[0.8888888888888888,\"#fdca26\"],[1.0,\"#f0f921\"]]}],\"mesh3d\":[{\"type\":\"mesh3d\",\"colorbar\":{\"outlinewidth\":0,\"ticks\":\"\"}}],\"scatter\":[{\"fillpattern\":{\"fillmode\":\"overlay\",\"size\":10,\"solidity\":0.2},\"type\":\"scatter\"}],\"parcoords\":[{\"type\":\"parcoords\",\"line\":{\"colorbar\":{\"outlinewidth\":0,\"ticks\":\"\"}}}],\"scatterpolargl\":[{\"type\":\"scatterpolargl\",\"marker\":{\"colorbar\":{\"outlinewidth\":0,\"ticks\":\"\"}}}],\"bar\":[{\"error_x\":{\"color\":\"#2a3f5f\"},\"error_y\":{\"color\":\"#2a3f5f\"},\"marker\":{\"line\":{\"color\":\"#E5ECF6\",\"width\":0.5},\"pattern\":{\"fillmode\":\"overlay\",\"size\":10,\"solidity\":0.2}},\"type\":\"bar\"}],\"scattergeo\":[{\"type\":\"scattergeo\",\"marker\":{\"colorbar\":{\"outlinewidth\":0,\"ticks\":\"\"}}}],\"scatterpolar\":[{\"type\":\"scatterpolar\",\"marker\":{\"colorbar\":{\"outlinewidth\":0,\"ticks\":\"\"}}}],\"histogram\":[{\"marker\":{\"pattern\":{\"fillmode\":\"overlay\",\"size\":10,\"solidity\":0.2}},\"type\":\"histogram\"}],\"scattergl\":[{\"type\":\"scattergl\",\"marker\":{\"colorbar\":{\"outlinewidth\":0,\"ticks\":\"\"}}}],\"scatter3d\":[{\"type\":\"scatter3d\",\"line\":{\"colorbar\":{\"outlinewidth\":0,\"ticks\":\"\"}},\"marker\":{\"colorbar\":{\"outlinewidth\":0,\"ticks\":\"\"}}}],\"scattermapbox\":[{\"type\":\"scattermapbox\",\"marker\":{\"colorbar\":{\"outlinewidth\":0,\"ticks\":\"\"}}}],\"scatterternary\":[{\"type\":\"scatterternary\",\"marker\":{\"colorbar\":{\"outlinewidth\":0,\"ticks\":\"\"}}}],\"scattercarpet\":[{\"type\":\"scattercarpet\",\"marker\":{\"colorbar\":{\"outlinewidth\":0,\"ticks\":\"\"}}}],\"carpet\":[{\"aaxis\":{\"endlinecolor\":\"#2a3f5f\",\"gridcolor\":\"white\",\"linecolor\":\"white\",\"minorgridcolor\":\"white\",\"startlinecolor\":\"#2a3f5f\"},\"baxis\":{\"endlinecolor\":\"#2a3f5f\",\"gridcolor\":\"white\",\"linecolor\":\"white\",\"minorgridcolor\":\"white\",\"startlinecolor\":\"#2a3f5f\"},\"type\":\"carpet\"}],\"table\":[{\"cells\":{\"fill\":{\"color\":\"#EBF0F8\"},\"line\":{\"color\":\"white\"}},\"header\":{\"fill\":{\"color\":\"#C8D4E3\"},\"line\":{\"color\":\"white\"}},\"type\":\"table\"}],\"barpolar\":[{\"marker\":{\"line\":{\"color\":\"#E5ECF6\",\"width\":0.5},\"pattern\":{\"fillmode\":\"overlay\",\"size\":10,\"solidity\":0.2}},\"type\":\"barpolar\"}],\"pie\":[{\"automargin\":true,\"type\":\"pie\"}]},\"layout\":{\"autotypenumbers\":\"strict\",\"colorway\":[\"#636efa\",\"#EF553B\",\"#00cc96\",\"#ab63fa\",\"#FFA15A\",\"#19d3f3\",\"#FF6692\",\"#B6E880\",\"#FF97FF\",\"#FECB52\"],\"font\":{\"color\":\"#2a3f5f\"},\"hovermode\":\"closest\",\"hoverlabel\":{\"align\":\"left\"},\"paper_bgcolor\":\"white\",\"plot_bgcolor\":\"#E5ECF6\",\"polar\":{\"bgcolor\":\"#E5ECF6\",\"angularaxis\":{\"gridcolor\":\"white\",\"linecolor\":\"white\",\"ticks\":\"\"},\"radialaxis\":{\"gridcolor\":\"white\",\"linecolor\":\"white\",\"ticks\":\"\"}},\"ternary\":{\"bgcolor\":\"#E5ECF6\",\"aaxis\":{\"gridcolor\":\"white\",\"linecolor\":\"white\",\"ticks\":\"\"},\"baxis\":{\"gridcolor\":\"white\",\"linecolor\":\"white\",\"ticks\":\"\"},\"caxis\":{\"gridcolor\":\"white\",\"linecolor\":\"white\",\"ticks\":\"\"}},\"coloraxis\":{\"colorbar\":{\"outlinewidth\":0,\"ticks\":\"\"}},\"colorscale\":{\"sequential\":[[0.0,\"#0d0887\"],[0.1111111111111111,\"#46039f\"],[0.2222222222222222,\"#7201a8\"],[0.3333333333333333,\"#9c179e\"],[0.4444444444444444,\"#bd3786\"],[0.5555555555555556,\"#d8576b\"],[0.6666666666666666,\"#ed7953\"],[0.7777777777777778,\"#fb9f3a\"],[0.8888888888888888,\"#fdca26\"],[1.0,\"#f0f921\"]],\"sequentialminus\":[[0.0,\"#0d0887\"],[0.1111111111111111,\"#46039f\"],[0.2222222222222222,\"#7201a8\"],[0.3333333333333333,\"#9c179e\"],[0.4444444444444444,\"#bd3786\"],[0.5555555555555556,\"#d8576b\"],[0.6666666666666666,\"#ed7953\"],[0.7777777777777778,\"#fb9f3a\"],[0.8888888888888888,\"#fdca26\"],[1.0,\"#f0f921\"]],\"diverging\":[[0,\"#8e0152\"],[0.1,\"#c51b7d\"],[0.2,\"#de77ae\"],[0.3,\"#f1b6da\"],[0.4,\"#fde0ef\"],[0.5,\"#f7f7f7\"],[0.6,\"#e6f5d0\"],[0.7,\"#b8e186\"],[0.8,\"#7fbc41\"],[0.9,\"#4d9221\"],[1,\"#276419\"]]},\"xaxis\":{\"gridcolor\":\"white\",\"linecolor\":\"white\",\"ticks\":\"\",\"title\":{\"standoff\":15},\"zerolinecolor\":\"white\",\"automargin\":true,\"zerolinewidth\":2},\"yaxis\":{\"gridcolor\":\"white\",\"linecolor\":\"white\",\"ticks\":\"\",\"title\":{\"standoff\":15},\"zerolinecolor\":\"white\",\"automargin\":true,\"zerolinewidth\":2},\"scene\":{\"xaxis\":{\"backgroundcolor\":\"#E5ECF6\",\"gridcolor\":\"white\",\"linecolor\":\"white\",\"showbackground\":true,\"ticks\":\"\",\"zerolinecolor\":\"white\",\"gridwidth\":2},\"yaxis\":{\"backgroundcolor\":\"#E5ECF6\",\"gridcolor\":\"white\",\"linecolor\":\"white\",\"showbackground\":true,\"ticks\":\"\",\"zerolinecolor\":\"white\",\"gridwidth\":2},\"zaxis\":{\"backgroundcolor\":\"#E5ECF6\",\"gridcolor\":\"white\",\"linecolor\":\"white\",\"showbackground\":true,\"ticks\":\"\",\"zerolinecolor\":\"white\",\"gridwidth\":2}},\"shapedefaults\":{\"line\":{\"color\":\"#2a3f5f\"}},\"annotationdefaults\":{\"arrowcolor\":\"#2a3f5f\",\"arrowhead\":0,\"arrowwidth\":1},\"geo\":{\"bgcolor\":\"white\",\"landcolor\":\"#E5ECF6\",\"subunitcolor\":\"white\",\"showland\":true,\"showlakes\":true,\"lakecolor\":\"white\"},\"title\":{\"x\":0.05},\"mapbox\":{\"style\":\"light\"}}},\"xaxis\":{\"anchor\":\"y\",\"domain\":[0.0,1.0],\"title\":{\"text\":\"linear_model ndcg\"}},\"yaxis\":{\"anchor\":\"x\",\"domain\":[0.0,1.0],\"title\":{\"text\":\"random_forest ndcg\"}},\"legend\":{\"tracegroupgap\":0},\"margin\":{\"t\":60}},                        {\"responsive\": true}                    ).then(function(){\n",
       "                            \n",
       "var gd = document.getElementById('f7528bda-d0a5-425b-832e-78ef9d75b21e');\n",
       "var x = new MutationObserver(function (mutations, observer) {{\n",
       "        var display = window.getComputedStyle(gd).display;\n",
       "        if (!display || display === 'none') {{\n",
       "            console.log([gd, 'removed!']);\n",
       "            Plotly.purge(gd);\n",
       "            observer.disconnect();\n",
       "        }}\n",
       "}});\n",
       "\n",
       "// Listen for the removal of the full notebook cells\n",
       "var notebookContainer = gd.closest('#notebook-container');\n",
       "if (notebookContainer) {{\n",
       "    x.observe(notebookContainer, {childList: true});\n",
       "}}\n",
       "\n",
       "// Listen for the clearing of the current output cell\n",
       "var outputEl = gd.closest('.output');\n",
       "if (outputEl) {{\n",
       "    x.observe(outputEl, {childList: true});\n",
       "}}\n",
       "\n",
       "                        })                };                });            </script>        </div>"
      ]
     },
     "metadata": {},
     "output_type": "display_data"
    }
   ],
   "source": [
    "px.scatter(\n",
    "    df_metrics_merged,\n",
    "    x=\"linear_model ndcg\",\n",
    "    y=\"random_forest ndcg\",\n",
    "    hover_data=df_metrics_merged.columns,\n",
    ")"
   ]
  },
  {
   "cell_type": "code",
   "execution_count": 383,
   "id": "9aeff1a7-7d1f-4cf2-97ad-e34a38735d6c",
   "metadata": {
    "scrolled": true
   },
   "outputs": [
    {
     "data": {
      "application/vnd.plotly.v1+json": {
       "config": {
        "plotlyServerURL": "https://plot.ly"
       },
       "data": [
        {
         "customdata": [
          [
           "7 days without a pun makes one weak",
           0.6640659408521532,
           0.9,
           0.9,
           15.650518338067553,
           0.6640659408521532,
           0.9,
           0.9,
           18.17423735235338,
           0.6640659408521532,
           0.9,
           0.9
          ],
          [
           "american flag 5x8 outdoor made in usa",
           0.3489895615869866,
           0.3,
           0.3,
           11.793836475517569,
           0.48287910642304827,
           0.5,
           0.5,
           18.17423735235338,
           0.5958074859353115,
           0.7,
           0.7
          ],
          [
           "andis t edger",
           0.283827920583421,
           0.2,
           0.2,
           6,
           0.283827920583421,
           0.2,
           0.2,
           14.65329964272228,
           0.308602267049212,
           0.2,
           0.2
          ],
          [
           "backpacks lunchbox combo",
           0.04439416571845614,
           0.1,
           0.1,
           0.6309297535714575,
           0.04439416571845614,
           0.1,
           0.1,
           7.123212623289701,
           0.0847256001992896,
           0.1,
           0.1
          ],
          [
           "best ride on cars mercedes 3-in-1 push car in white",
           0.4268932385479575,
           0.4,
           0.4,
           9.785578521428747,
           0.4268932385479575,
           0.4,
           0.4,
           17.572177361025417,
           0.4268932385479575,
           0.4,
           0.4
          ],
          [
           "bookshelf 4 tier",
           0.056895702836502485,
           0.1,
           0.1,
           1.3333333333333333,
           0.056895702836502485,
           0.1,
           0.1,
           18.17423735235338,
           0.3129263656007636,
           0.3,
           0.3
          ],
          [
           "coil incense",
           0.7441140557478906,
           1,
           1,
           18.17423735235338,
           0.7441140557478906,
           1,
           1,
           18.17423735235338,
           0.7441140557478906,
           1,
           1
          ],
          [
           "cousin it costume",
           0.43116905701454383,
           0.2,
           0.2,
           5.5474112289381665,
           0.43116905701454383,
           0.2,
           0.2,
           10.246425246579404,
           0.6177958874958227,
           0.3,
           0.3
          ],
          [
           "dji goggles",
           0.5425438628684552,
           0.7,
           0.9,
           13.358488663847371,
           0.5425438628684552,
           0.7,
           0.9,
           15.400988038505483,
           0.5532772433580658,
           0.7,
           0.9
          ],
          [
           "do not enter tape",
           0.2749602024444795,
           0.3,
           0.3,
           6.58108805370364,
           0.2749602024444795,
           0.3,
           0.3,
           18.17423735235338,
           0.4832914623544739,
           0.7,
           0.7
          ],
          [
           "eye mask without strap",
           0,
           0,
           0,
           0,
           0,
           0,
           0,
           16.912377845210468,
           0.3751620967651038,
           0.8,
           0.8
          ],
          [
           "fabric aprons",
           0,
           0,
           0,
           0,
           0,
           0,
           0,
           14.551998557282992,
           0.2421561906772534,
           0.4,
           0.4
          ],
          [
           "four paws magic coat instant dog mat remover",
           0.5021885990757317,
           0.9,
           1,
           16.043307598781926,
           0.5021885990757317,
           0.9,
           1,
           16.043307598781926,
           0.5021885990757317,
           0.9,
           1
          ],
          [
           "galaxy 8 note case",
           0.0473411227365995,
           0.1,
           0.1,
           1.1562593052715515,
           0.0473411227365995,
           0.1,
           0.1,
           18.17423735235338,
           0.0545911256189271,
           0.1,
           0.1
          ],
          [
           "golf sets for men left handed",
           0.21307407578185383,
           0.2,
           0.2,
           2.4181188124144666,
           0.09900587088750676,
           0.2,
           0.2,
           18.17423735235338,
           0.2130740757818538,
           0.2,
           0.2
          ],
          [
           "halloween glow bracelets kids",
           0.05459112561892712,
           0.1,
           0.1,
           1.3333333333333333,
           0.05459112561892712,
           0.1,
           0.1,
           15.813858064425906,
           0.0705333542487352,
           0.1,
           0.1
          ],
          [
           "heavy duty plastic folders with pockets",
           0.17599134684835033,
           0.3,
           0.3,
           2.984565739436487,
           0.12469621941351844,
           0.2,
           0.2,
           18.17423735235338,
           0.3377141914649278,
           0.4,
           0.4
          ],
          [
           "helen kaminski hats",
           0,
           0,
           0,
           0,
           0,
           0,
           0,
           4,
           0.0483089255243834,
           0.1,
           0.1
          ],
          [
           "hug machine",
           0.5544928869275813,
           0.1,
           0.4,
           5.0396944362254255,
           0.5544928869275813,
           0.1,
           0.4,
           5.096268032608155,
           0.5544928869275813,
           0.1,
           0.4
          ],
          [
           "if lost or drunk please return to bestie",
           0.7441140557478906,
           1,
           1,
           18.17423735235338,
           0.7441140557478906,
           1,
           1,
           18.17423735235338,
           0.7441140557478906,
           1,
           1
          ],
          [
           "jobs evergreen tree spikes",
           0.8201370158377279,
           1,
           1,
           16.994047708389644,
           0.8201370158377279,
           1,
           1,
           16.994047708389644,
           0.8201370158377279,
           1,
           1
          ],
          [
           "kid animal plates",
           0.3050128638003318,
           0.3,
           0.3,
           6.666666666666667,
           0.3050128638003318,
           0.3,
           0.3,
           12.218665223949658,
           0.3050128638003318,
           0.3,
           0.3
          ],
          [
           "kobe baby jersey",
           0.3489895615869866,
           0.3,
           0.3,
           8.523719014285831,
           0.3489895615869866,
           0.3,
           0.3,
           18.17423735235338,
           0.3489895615869866,
           0.3,
           0.3
          ],
          [
           "lights bulbs color changing",
           0,
           0,
           0,
           0,
           0,
           0,
           0,
           18.17423735235338,
           0.2154381250076886,
           0.3,
           0.3
          ],
          [
           "mary meyer baby mat",
           0.7860189940564837,
           0.8,
           0.8,
           15.813858064425906,
           0.7860189940564837,
           0.8,
           0.8,
           16.994047708389644,
           0.8159440500938725,
           0.9,
           0.9
          ],
          [
           "moto play screen protector",
           0.37561473645734933,
           0.3,
           0.3,
           8.523719014285831,
           0.37561473645734933,
           0.3,
           0.3,
           18.17423735235338,
           0.6922158188648209,
           0.8,
           0.8
          ],
          [
           "neuroquell for neuropathy",
           0.10022579111902698,
           0.2,
           0.2,
           2.4087643450849527,
           0.10022579111902698,
           0.2,
           0.2,
           12.061392557535653,
           0.1002257911190269,
           0.2,
           0.2
          ],
          [
           "organicbone broth",
           0.34430224321006225,
           0.3,
           0.3,
           7.333333333333333,
           0.34430224321006225,
           0.3,
           0.3,
           16.96517794614615,
           0.3443022432100622,
           0.3,
           0.3
          ],
          [
           "panties",
           0,
           0,
           0,
           0,
           0,
           0,
           0,
           0,
           0,
           0,
           0
          ],
          [
           "patio chair swing",
           0.05833725389333615,
           0.1,
           0.1,
           1.4248287484320887,
           0.05833725389333615,
           0.1,
           0.1,
           18.17423735235338,
           0.2072213208458141,
           0.3,
           0.3
          ],
          [
           "play kitchen for toddlers accessories",
           0.04930069892507245,
           0.1,
           0.1,
           1.2041199826559248,
           0.04930069892507245,
           0.1,
           0.1,
           17.01797804708183,
           0.1852161847302052,
           0.2,
           0.2
          ],
          [
           "posh moomy",
           0,
           0,
           0,
           0,
           0,
           0,
           0,
           0,
           0,
           0,
           0
          ],
          [
           "rose petals for romantic night",
           0.19615652453527263,
           0.3,
           0.3,
           4.6949462096638275,
           0.19615652453527263,
           0.3,
           0.3,
           17.572177361025417,
           0.1961565245352726,
           0.3,
           0.3
          ],
          [
           "runtz",
           0,
           0,
           0,
           4,
           0.19221699294337333,
           0.1,
           0.1,
           15.63889700619912,
           0.5248925873306987,
           0.7,
           0.7
          ],
          [
           "slarm window sensor",
           0.13628165177409043,
           0.2,
           0.2,
           3.261859507142915,
           0.13628165177409043,
           0.2,
           0.2,
           7.2618595071429155,
           0.1362816517740904,
           0.2,
           0.2
          ],
          [
           "stuffed animal washer bag",
           0.19159298779343467,
           0.1,
           0.1,
           4,
           0.19159298779343467,
           0.1,
           0.1,
           8.523719014285831,
           0.1915929877934346,
           0.1,
           0.1
          ],
          [
           "sundiata",
           0.35295301492382125,
           0.2,
           0.3,
           6.690385680952497,
           0.35295301492382125,
           0.2,
           0.3,
           18.17423735235338,
           0.9587865593035604,
           1,
           1
          ],
          [
           "sushi go card game",
           0.5696949029899167,
           0.4,
           0.4,
           9.385072130432617,
           0.5696949029899167,
           0.4,
           0.4,
           9.385072130432617,
           0.5696949029899167,
           0.4,
           0.4
          ],
          [
           "tetley",
           0,
           0,
           0,
           15.470566818143665,
           0.6334167424239648,
           0.8,
           0.8,
           18.17423735235338,
           0.6807578651605644,
           0.9,
           0.9
          ],
          [
           "the first years gate parts",
           0.015110214571816376,
           0,
           0.1,
           0.31546487678572877,
           0.015110214571816376,
           0,
           0.1,
           3.02371901428583,
           0.0239491234741793,
           0,
           0.1
          ],
          [
           "ultra fast keto boost 800mg",
           0.546164971470979,
           0.6,
           0.6,
           10.279550994407543,
           0.546164971470979,
           0.6,
           0.6,
           14.728059224202315,
           0.5495976022359215,
           0.6,
           0.6
          ],
          [
           "wiggle scooters for kids",
           0.358574377361775,
           0.5,
           0.5,
           10.757818498799,
           0.4404610657901657,
           0.5,
           0.5,
           18.17423735235338,
           0.4764629217827701,
           0.6,
           0.6
          ],
          [
           "winter cycling shoe covers",
           0.5443019058264909,
           0.7,
           0.7,
           11.593149298649742,
           0.5443019058264909,
           0.7,
           0.7,
           17.543307598781922,
           0.673478295356918,
           0.8,
           0.8
          ],
          [
           "wowled",
           0,
           0,
           0,
           5.333333333333333,
           0.265090358377816,
           0.2,
           0.2,
           15.813858064425906,
           0.7860189940564837,
           0.8,
           0.8
          ]
         ],
         "hovertemplate": "linear_model dcg=%{x}<br>dcg=%{y}<br>query=%{customdata[0]}<br>linear_model ndcg=%{customdata[1]}<br>linear_model prec@10=%{customdata[2]}<br>linear_model ratio_of_ratings=%{customdata[3]}<br>random_forest dcg=%{customdata[4]}<br>random_forest ndcg=%{customdata[5]}<br>random_forest prec@10=%{customdata[6]}<br>random_forest ratio_of_ratings=%{customdata[7]}<br>dcg_dense=%{customdata[8]}<br>ndcg=%{customdata[9]}<br>prec@10=%{customdata[10]}<br>ratio_of_ratings=%{customdata[11]}<extra></extra>",
         "legendgroup": "",
         "marker": {
          "color": "#636efa",
          "symbol": "circle"
         },
         "mode": "markers",
         "name": "",
         "orientation": "v",
         "showlegend": false,
         "type": "scatter",
         "x": [
          15.650518338067553,
          8.523719014285831,
          6,
          0.6309297535714575,
          9.785578521428747,
          1.3333333333333333,
          18.17423735235338,
          5.5474112289381665,
          13.358488663847371,
          6.58108805370364,
          0,
          0,
          16.043307598781926,
          1.1562593052715515,
          5.204119982655925,
          1.3333333333333333,
          4.212298870898457,
          0,
          5.0396944362254255,
          18.17423735235338,
          16.994047708389644,
          6.666666666666667,
          8.523719014285831,
          0,
          15.813858064425906,
          8.523719014285831,
          2.4087643450849527,
          7.333333333333333,
          0,
          1.4248287484320887,
          1.2041199826559248,
          0,
          4.6949462096638275,
          0,
          3.261859507142915,
          4,
          6.690385680952497,
          9.385072130432617,
          0,
          0.31546487678572877,
          10.279550994407543,
          8.757818498799,
          11.593149298649742,
          0
         ],
         "xaxis": "x",
         "y": [
          15.650518338067553,
          14.55199855728299,
          6.52371901428583,
          1.2041199826559248,
          9.785578521428748,
          7.333333333333333,
          18.17423735235338,
          7.948547762717919,
          13.622765437410264,
          11.567432817846504,
          13.85633827958356,
          5.914421387036973,
          16.043307598781926,
          1.3333333333333333,
          5.204119982655925,
          1.7227062322935722,
          8.083085520221049,
          1.1562593052715515,
          5.0396944362254255,
          18.17423735235338,
          16.994047708389644,
          6.666666666666667,
          8.523719014285831,
          5.2618595071429155,
          16.415918055753867,
          15.708257862554545,
          2.4087643450849527,
          7.333333333333333,
          0,
          5.061172330275088,
          4.52371901428583,
          0,
          4.6949462096638275,
          10.922917465165648,
          3.261859507142915,
          4,
          18.17423735235338,
          9.385072130432617,
          16.626826123415217,
          0.5,
          10.344157669746249,
          11.637127619330546,
          14.344492172257391,
          15.813858064425906
         ],
         "yaxis": "y"
        }
       ],
       "layout": {
        "autosize": true,
        "legend": {
         "tracegroupgap": 0
        },
        "margin": {
         "t": 60
        },
        "template": {
         "data": {
          "bar": [
           {
            "error_x": {
             "color": "#2a3f5f"
            },
            "error_y": {
             "color": "#2a3f5f"
            },
            "marker": {
             "line": {
              "color": "#E5ECF6",
              "width": 0.5
             },
             "pattern": {
              "fillmode": "overlay",
              "size": 10,
              "solidity": 0.2
             }
            },
            "type": "bar"
           }
          ],
          "barpolar": [
           {
            "marker": {
             "line": {
              "color": "#E5ECF6",
              "width": 0.5
             },
             "pattern": {
              "fillmode": "overlay",
              "size": 10,
              "solidity": 0.2
             }
            },
            "type": "barpolar"
           }
          ],
          "carpet": [
           {
            "aaxis": {
             "endlinecolor": "#2a3f5f",
             "gridcolor": "white",
             "linecolor": "white",
             "minorgridcolor": "white",
             "startlinecolor": "#2a3f5f"
            },
            "baxis": {
             "endlinecolor": "#2a3f5f",
             "gridcolor": "white",
             "linecolor": "white",
             "minorgridcolor": "white",
             "startlinecolor": "#2a3f5f"
            },
            "type": "carpet"
           }
          ],
          "choropleth": [
           {
            "colorbar": {
             "outlinewidth": 0,
             "ticks": ""
            },
            "type": "choropleth"
           }
          ],
          "contour": [
           {
            "colorbar": {
             "outlinewidth": 0,
             "ticks": ""
            },
            "colorscale": [
             [
              0,
              "#0d0887"
             ],
             [
              0.1111111111111111,
              "#46039f"
             ],
             [
              0.2222222222222222,
              "#7201a8"
             ],
             [
              0.3333333333333333,
              "#9c179e"
             ],
             [
              0.4444444444444444,
              "#bd3786"
             ],
             [
              0.5555555555555556,
              "#d8576b"
             ],
             [
              0.6666666666666666,
              "#ed7953"
             ],
             [
              0.7777777777777778,
              "#fb9f3a"
             ],
             [
              0.8888888888888888,
              "#fdca26"
             ],
             [
              1,
              "#f0f921"
             ]
            ],
            "type": "contour"
           }
          ],
          "contourcarpet": [
           {
            "colorbar": {
             "outlinewidth": 0,
             "ticks": ""
            },
            "type": "contourcarpet"
           }
          ],
          "heatmap": [
           {
            "colorbar": {
             "outlinewidth": 0,
             "ticks": ""
            },
            "colorscale": [
             [
              0,
              "#0d0887"
             ],
             [
              0.1111111111111111,
              "#46039f"
             ],
             [
              0.2222222222222222,
              "#7201a8"
             ],
             [
              0.3333333333333333,
              "#9c179e"
             ],
             [
              0.4444444444444444,
              "#bd3786"
             ],
             [
              0.5555555555555556,
              "#d8576b"
             ],
             [
              0.6666666666666666,
              "#ed7953"
             ],
             [
              0.7777777777777778,
              "#fb9f3a"
             ],
             [
              0.8888888888888888,
              "#fdca26"
             ],
             [
              1,
              "#f0f921"
             ]
            ],
            "type": "heatmap"
           }
          ],
          "heatmapgl": [
           {
            "colorbar": {
             "outlinewidth": 0,
             "ticks": ""
            },
            "colorscale": [
             [
              0,
              "#0d0887"
             ],
             [
              0.1111111111111111,
              "#46039f"
             ],
             [
              0.2222222222222222,
              "#7201a8"
             ],
             [
              0.3333333333333333,
              "#9c179e"
             ],
             [
              0.4444444444444444,
              "#bd3786"
             ],
             [
              0.5555555555555556,
              "#d8576b"
             ],
             [
              0.6666666666666666,
              "#ed7953"
             ],
             [
              0.7777777777777778,
              "#fb9f3a"
             ],
             [
              0.8888888888888888,
              "#fdca26"
             ],
             [
              1,
              "#f0f921"
             ]
            ],
            "type": "heatmapgl"
           }
          ],
          "histogram": [
           {
            "marker": {
             "pattern": {
              "fillmode": "overlay",
              "size": 10,
              "solidity": 0.2
             }
            },
            "type": "histogram"
           }
          ],
          "histogram2d": [
           {
            "colorbar": {
             "outlinewidth": 0,
             "ticks": ""
            },
            "colorscale": [
             [
              0,
              "#0d0887"
             ],
             [
              0.1111111111111111,
              "#46039f"
             ],
             [
              0.2222222222222222,
              "#7201a8"
             ],
             [
              0.3333333333333333,
              "#9c179e"
             ],
             [
              0.4444444444444444,
              "#bd3786"
             ],
             [
              0.5555555555555556,
              "#d8576b"
             ],
             [
              0.6666666666666666,
              "#ed7953"
             ],
             [
              0.7777777777777778,
              "#fb9f3a"
             ],
             [
              0.8888888888888888,
              "#fdca26"
             ],
             [
              1,
              "#f0f921"
             ]
            ],
            "type": "histogram2d"
           }
          ],
          "histogram2dcontour": [
           {
            "colorbar": {
             "outlinewidth": 0,
             "ticks": ""
            },
            "colorscale": [
             [
              0,
              "#0d0887"
             ],
             [
              0.1111111111111111,
              "#46039f"
             ],
             [
              0.2222222222222222,
              "#7201a8"
             ],
             [
              0.3333333333333333,
              "#9c179e"
             ],
             [
              0.4444444444444444,
              "#bd3786"
             ],
             [
              0.5555555555555556,
              "#d8576b"
             ],
             [
              0.6666666666666666,
              "#ed7953"
             ],
             [
              0.7777777777777778,
              "#fb9f3a"
             ],
             [
              0.8888888888888888,
              "#fdca26"
             ],
             [
              1,
              "#f0f921"
             ]
            ],
            "type": "histogram2dcontour"
           }
          ],
          "mesh3d": [
           {
            "colorbar": {
             "outlinewidth": 0,
             "ticks": ""
            },
            "type": "mesh3d"
           }
          ],
          "parcoords": [
           {
            "line": {
             "colorbar": {
              "outlinewidth": 0,
              "ticks": ""
             }
            },
            "type": "parcoords"
           }
          ],
          "pie": [
           {
            "automargin": true,
            "type": "pie"
           }
          ],
          "scatter": [
           {
            "fillpattern": {
             "fillmode": "overlay",
             "size": 10,
             "solidity": 0.2
            },
            "type": "scatter"
           }
          ],
          "scatter3d": [
           {
            "line": {
             "colorbar": {
              "outlinewidth": 0,
              "ticks": ""
             }
            },
            "marker": {
             "colorbar": {
              "outlinewidth": 0,
              "ticks": ""
             }
            },
            "type": "scatter3d"
           }
          ],
          "scattercarpet": [
           {
            "marker": {
             "colorbar": {
              "outlinewidth": 0,
              "ticks": ""
             }
            },
            "type": "scattercarpet"
           }
          ],
          "scattergeo": [
           {
            "marker": {
             "colorbar": {
              "outlinewidth": 0,
              "ticks": ""
             }
            },
            "type": "scattergeo"
           }
          ],
          "scattergl": [
           {
            "marker": {
             "colorbar": {
              "outlinewidth": 0,
              "ticks": ""
             }
            },
            "type": "scattergl"
           }
          ],
          "scattermapbox": [
           {
            "marker": {
             "colorbar": {
              "outlinewidth": 0,
              "ticks": ""
             }
            },
            "type": "scattermapbox"
           }
          ],
          "scatterpolar": [
           {
            "marker": {
             "colorbar": {
              "outlinewidth": 0,
              "ticks": ""
             }
            },
            "type": "scatterpolar"
           }
          ],
          "scatterpolargl": [
           {
            "marker": {
             "colorbar": {
              "outlinewidth": 0,
              "ticks": ""
             }
            },
            "type": "scatterpolargl"
           }
          ],
          "scatterternary": [
           {
            "marker": {
             "colorbar": {
              "outlinewidth": 0,
              "ticks": ""
             }
            },
            "type": "scatterternary"
           }
          ],
          "surface": [
           {
            "colorbar": {
             "outlinewidth": 0,
             "ticks": ""
            },
            "colorscale": [
             [
              0,
              "#0d0887"
             ],
             [
              0.1111111111111111,
              "#46039f"
             ],
             [
              0.2222222222222222,
              "#7201a8"
             ],
             [
              0.3333333333333333,
              "#9c179e"
             ],
             [
              0.4444444444444444,
              "#bd3786"
             ],
             [
              0.5555555555555556,
              "#d8576b"
             ],
             [
              0.6666666666666666,
              "#ed7953"
             ],
             [
              0.7777777777777778,
              "#fb9f3a"
             ],
             [
              0.8888888888888888,
              "#fdca26"
             ],
             [
              1,
              "#f0f921"
             ]
            ],
            "type": "surface"
           }
          ],
          "table": [
           {
            "cells": {
             "fill": {
              "color": "#EBF0F8"
             },
             "line": {
              "color": "white"
             }
            },
            "header": {
             "fill": {
              "color": "#C8D4E3"
             },
             "line": {
              "color": "white"
             }
            },
            "type": "table"
           }
          ]
         },
         "layout": {
          "annotationdefaults": {
           "arrowcolor": "#2a3f5f",
           "arrowhead": 0,
           "arrowwidth": 1
          },
          "autotypenumbers": "strict",
          "coloraxis": {
           "colorbar": {
            "outlinewidth": 0,
            "ticks": ""
           }
          },
          "colorscale": {
           "diverging": [
            [
             0,
             "#8e0152"
            ],
            [
             0.1,
             "#c51b7d"
            ],
            [
             0.2,
             "#de77ae"
            ],
            [
             0.3,
             "#f1b6da"
            ],
            [
             0.4,
             "#fde0ef"
            ],
            [
             0.5,
             "#f7f7f7"
            ],
            [
             0.6,
             "#e6f5d0"
            ],
            [
             0.7,
             "#b8e186"
            ],
            [
             0.8,
             "#7fbc41"
            ],
            [
             0.9,
             "#4d9221"
            ],
            [
             1,
             "#276419"
            ]
           ],
           "sequential": [
            [
             0,
             "#0d0887"
            ],
            [
             0.1111111111111111,
             "#46039f"
            ],
            [
             0.2222222222222222,
             "#7201a8"
            ],
            [
             0.3333333333333333,
             "#9c179e"
            ],
            [
             0.4444444444444444,
             "#bd3786"
            ],
            [
             0.5555555555555556,
             "#d8576b"
            ],
            [
             0.6666666666666666,
             "#ed7953"
            ],
            [
             0.7777777777777778,
             "#fb9f3a"
            ],
            [
             0.8888888888888888,
             "#fdca26"
            ],
            [
             1,
             "#f0f921"
            ]
           ],
           "sequentialminus": [
            [
             0,
             "#0d0887"
            ],
            [
             0.1111111111111111,
             "#46039f"
            ],
            [
             0.2222222222222222,
             "#7201a8"
            ],
            [
             0.3333333333333333,
             "#9c179e"
            ],
            [
             0.4444444444444444,
             "#bd3786"
            ],
            [
             0.5555555555555556,
             "#d8576b"
            ],
            [
             0.6666666666666666,
             "#ed7953"
            ],
            [
             0.7777777777777778,
             "#fb9f3a"
            ],
            [
             0.8888888888888888,
             "#fdca26"
            ],
            [
             1,
             "#f0f921"
            ]
           ]
          },
          "colorway": [
           "#636efa",
           "#EF553B",
           "#00cc96",
           "#ab63fa",
           "#FFA15A",
           "#19d3f3",
           "#FF6692",
           "#B6E880",
           "#FF97FF",
           "#FECB52"
          ],
          "font": {
           "color": "#2a3f5f"
          },
          "geo": {
           "bgcolor": "white",
           "lakecolor": "white",
           "landcolor": "#E5ECF6",
           "showlakes": true,
           "showland": true,
           "subunitcolor": "white"
          },
          "hoverlabel": {
           "align": "left"
          },
          "hovermode": "closest",
          "mapbox": {
           "style": "light"
          },
          "paper_bgcolor": "white",
          "plot_bgcolor": "#E5ECF6",
          "polar": {
           "angularaxis": {
            "gridcolor": "white",
            "linecolor": "white",
            "ticks": ""
           },
           "bgcolor": "#E5ECF6",
           "radialaxis": {
            "gridcolor": "white",
            "linecolor": "white",
            "ticks": ""
           }
          },
          "scene": {
           "xaxis": {
            "backgroundcolor": "#E5ECF6",
            "gridcolor": "white",
            "gridwidth": 2,
            "linecolor": "white",
            "showbackground": true,
            "ticks": "",
            "zerolinecolor": "white"
           },
           "yaxis": {
            "backgroundcolor": "#E5ECF6",
            "gridcolor": "white",
            "gridwidth": 2,
            "linecolor": "white",
            "showbackground": true,
            "ticks": "",
            "zerolinecolor": "white"
           },
           "zaxis": {
            "backgroundcolor": "#E5ECF6",
            "gridcolor": "white",
            "gridwidth": 2,
            "linecolor": "white",
            "showbackground": true,
            "ticks": "",
            "zerolinecolor": "white"
           }
          },
          "shapedefaults": {
           "line": {
            "color": "#2a3f5f"
           }
          },
          "ternary": {
           "aaxis": {
            "gridcolor": "white",
            "linecolor": "white",
            "ticks": ""
           },
           "baxis": {
            "gridcolor": "white",
            "linecolor": "white",
            "ticks": ""
           },
           "bgcolor": "#E5ECF6",
           "caxis": {
            "gridcolor": "white",
            "linecolor": "white",
            "ticks": ""
           }
          },
          "title": {
           "x": 0.05
          },
          "xaxis": {
           "automargin": true,
           "gridcolor": "white",
           "linecolor": "white",
           "ticks": "",
           "title": {
            "standoff": 15
           },
           "zerolinecolor": "white",
           "zerolinewidth": 2
          },
          "yaxis": {
           "automargin": true,
           "gridcolor": "white",
           "linecolor": "white",
           "ticks": "",
           "title": {
            "standoff": 15
           },
           "zerolinecolor": "white",
           "zerolinewidth": 2
          }
         }
        },
        "xaxis": {
         "anchor": "y",
         "autorange": true,
         "domain": [
          0,
          1
         ],
         "range": [
          -1.1011695097505403,
          19.27540686210392
         ],
         "title": {
          "text": "linear_model dcg"
         },
         "type": "linear"
        },
        "yaxis": {
         "anchor": "x",
         "autorange": true,
         "domain": [
          0,
          1
         ],
         "range": [
          -1.4071916060221121,
          19.581428958375493
         ],
         "title": {
          "text": "dcg"
         },
         "type": "linear"
        }
       }
      },
      "image/png": "[encoded data removed]",
      "text/html": [
       "<div>                            <div id=\"85fc7d73-d003-4355-8578-d040b3cf6918\" class=\"plotly-graph-div\" style=\"height:525px; width:100%;\"></div>            <script type=\"text/javascript\">                require([\"plotly\"], function(Plotly) {                    window.PLOTLYENV=window.PLOTLYENV || {};                                    if (document.getElementById(\"85fc7d73-d003-4355-8578-d040b3cf6918\")) {                    Plotly.newPlot(                        \"85fc7d73-d003-4355-8578-d040b3cf6918\",                        [{\"customdata\":[[\"7 days without a pun makes one weak\",0.6640659408521532,0.9,0.9,15.650518338067553,0.6640659408521532,0.9,0.9,18.17423735235338,0.6640659408521532,0.9,0.9],[\"american flag 5x8 outdoor made in usa\",0.3489895615869866,0.3,0.3,11.793836475517569,0.48287910642304827,0.5,0.5,18.17423735235338,0.5958074859353115,0.7,0.7],[\"andis t edger\",0.283827920583421,0.2,0.2,6.0,0.283827920583421,0.2,0.2,14.65329964272228,0.308602267049212,0.2,0.2],[\"backpacks lunchbox combo\",0.04439416571845614,0.1,0.1,0.6309297535714575,0.04439416571845614,0.1,0.1,7.123212623289701,0.0847256001992896,0.1,0.1],[\"best ride on cars mercedes 3-in-1 push car in white\",0.4268932385479575,0.4,0.4,9.785578521428747,0.4268932385479575,0.4,0.4,17.572177361025417,0.4268932385479575,0.4,0.4],[\"bookshelf 4 tier\",0.056895702836502485,0.1,0.1,1.3333333333333333,0.056895702836502485,0.1,0.1,18.17423735235338,0.3129263656007636,0.3,0.3],[\"coil incense\",0.7441140557478906,1.0,1.0,18.17423735235338,0.7441140557478906,1.0,1.0,18.17423735235338,0.7441140557478906,1.0,1.0],[\"cousin it costume\",0.43116905701454383,0.2,0.2,5.5474112289381665,0.43116905701454383,0.2,0.2,10.246425246579404,0.6177958874958227,0.3,0.3],[\"dji goggles\",0.5425438628684552,0.7,0.9,13.358488663847371,0.5425438628684552,0.7,0.9,15.400988038505483,0.5532772433580658,0.7,0.9],[\"do not enter tape\",0.2749602024444795,0.3,0.3,6.58108805370364,0.2749602024444795,0.3,0.3,18.17423735235338,0.4832914623544739,0.7,0.7],[\"eye mask without strap\",0.0,0.0,0.0,0.0,0.0,0.0,0.0,16.912377845210468,0.3751620967651038,0.8,0.8],[\"fabric aprons\",0.0,0.0,0.0,0.0,0.0,0.0,0.0,14.551998557282992,0.2421561906772534,0.4,0.4],[\"four paws magic coat instant dog mat remover\",0.5021885990757317,0.9,1.0,16.043307598781926,0.5021885990757317,0.9,1.0,16.043307598781926,0.5021885990757317,0.9,1.0],[\"galaxy 8 note case\",0.0473411227365995,0.1,0.1,1.1562593052715515,0.0473411227365995,0.1,0.1,18.17423735235338,0.0545911256189271,0.1,0.1],[\"golf sets for men left handed\",0.21307407578185383,0.2,0.2,2.4181188124144666,0.09900587088750676,0.2,0.2,18.17423735235338,0.2130740757818538,0.2,0.2],[\"halloween glow bracelets kids\",0.05459112561892712,0.1,0.1,1.3333333333333333,0.05459112561892712,0.1,0.1,15.813858064425906,0.0705333542487352,0.1,0.1],[\"heavy duty plastic folders with pockets\",0.17599134684835033,0.3,0.3,2.984565739436487,0.12469621941351844,0.2,0.2,18.17423735235338,0.3377141914649278,0.4,0.4],[\"helen kaminski hats\",0.0,0.0,0.0,0.0,0.0,0.0,0.0,4.0,0.0483089255243834,0.1,0.1],[\"hug machine\",0.5544928869275813,0.1,0.4,5.0396944362254255,0.5544928869275813,0.1,0.4,5.096268032608155,0.5544928869275813,0.1,0.4],[\"if lost or drunk please return to bestie\",0.7441140557478906,1.0,1.0,18.17423735235338,0.7441140557478906,1.0,1.0,18.17423735235338,0.7441140557478906,1.0,1.0],[\"jobs evergreen tree spikes\",0.8201370158377279,1.0,1.0,16.994047708389644,0.8201370158377279,1.0,1.0,16.994047708389644,0.8201370158377279,1.0,1.0],[\"kid animal plates\",0.3050128638003318,0.3,0.3,6.666666666666667,0.3050128638003318,0.3,0.3,12.218665223949658,0.3050128638003318,0.3,0.3],[\"kobe baby jersey\",0.3489895615869866,0.3,0.3,8.523719014285831,0.3489895615869866,0.3,0.3,18.17423735235338,0.3489895615869866,0.3,0.3],[\"lights bulbs color changing\",0.0,0.0,0.0,0.0,0.0,0.0,0.0,18.17423735235338,0.2154381250076886,0.3,0.3],[\"mary meyer baby mat\",0.7860189940564837,0.8,0.8,15.813858064425906,0.7860189940564837,0.8,0.8,16.994047708389644,0.8159440500938725,0.9,0.9],[\"moto play screen protector\",0.37561473645734933,0.3,0.3,8.523719014285831,0.37561473645734933,0.3,0.3,18.17423735235338,0.6922158188648209,0.8,0.8],[\"neuroquell for neuropathy\",0.10022579111902698,0.2,0.2,2.4087643450849527,0.10022579111902698,0.2,0.2,12.061392557535653,0.1002257911190269,0.2,0.2],[\"organicbone broth\",0.34430224321006225,0.3,0.3,7.333333333333333,0.34430224321006225,0.3,0.3,16.96517794614615,0.3443022432100622,0.3,0.3],[\"panties\",0.0,0.0,0.0,0.0,0.0,0.0,0.0,0.0,0.0,0.0,0.0],[\"patio chair swing\",0.05833725389333615,0.1,0.1,1.4248287484320887,0.05833725389333615,0.1,0.1,18.17423735235338,0.2072213208458141,0.3,0.3],[\"play kitchen for toddlers accessories\",0.04930069892507245,0.1,0.1,1.2041199826559248,0.04930069892507245,0.1,0.1,17.01797804708183,0.1852161847302052,0.2,0.2],[\"posh moomy\",0.0,0.0,0.0,0.0,0.0,0.0,0.0,0.0,0.0,0.0,0.0],[\"rose petals for romantic night\",0.19615652453527263,0.3,0.3,4.6949462096638275,0.19615652453527263,0.3,0.3,17.572177361025417,0.1961565245352726,0.3,0.3],[\"runtz\",0.0,0.0,0.0,4.0,0.19221699294337333,0.1,0.1,15.63889700619912,0.5248925873306987,0.7,0.7],[\"slarm window sensor\",0.13628165177409043,0.2,0.2,3.261859507142915,0.13628165177409043,0.2,0.2,7.2618595071429155,0.1362816517740904,0.2,0.2],[\"stuffed animal washer bag\",0.19159298779343467,0.1,0.1,4.0,0.19159298779343467,0.1,0.1,8.523719014285831,0.1915929877934346,0.1,0.1],[\"sundiata\",0.35295301492382125,0.2,0.3,6.690385680952497,0.35295301492382125,0.2,0.3,18.17423735235338,0.9587865593035604,1.0,1.0],[\"sushi go card game\",0.5696949029899167,0.4,0.4,9.385072130432617,0.5696949029899167,0.4,0.4,9.385072130432617,0.5696949029899167,0.4,0.4],[\"tetley\",0.0,0.0,0.0,15.470566818143665,0.6334167424239648,0.8,0.8,18.17423735235338,0.6807578651605644,0.9,0.9],[\"the first years gate parts\",0.015110214571816376,0.0,0.1,0.31546487678572877,0.015110214571816376,0.0,0.1,3.02371901428583,0.0239491234741793,0.0,0.1],[\"ultra fast keto boost 800mg\",0.546164971470979,0.6,0.6,10.279550994407543,0.546164971470979,0.6,0.6,14.728059224202315,0.5495976022359215,0.6,0.6],[\"wiggle scooters for kids\",0.358574377361775,0.5,0.5,10.757818498799,0.4404610657901657,0.5,0.5,18.17423735235338,0.4764629217827701,0.6,0.6],[\"winter cycling shoe covers\",0.5443019058264909,0.7,0.7,11.593149298649742,0.5443019058264909,0.7,0.7,17.543307598781922,0.673478295356918,0.8,0.8],[\"wowled\",0.0,0.0,0.0,5.333333333333333,0.265090358377816,0.2,0.2,15.813858064425906,0.7860189940564837,0.8,0.8]],\"hovertemplate\":\"linear_model dcg=%{x}\\u003cbr\\u003edcg=%{y}\\u003cbr\\u003equery=%{customdata[0]}\\u003cbr\\u003elinear_model ndcg=%{customdata[1]}\\u003cbr\\u003elinear_model prec@10=%{customdata[2]}\\u003cbr\\u003elinear_model ratio_of_ratings=%{customdata[3]}\\u003cbr\\u003erandom_forest dcg=%{customdata[4]}\\u003cbr\\u003erandom_forest ndcg=%{customdata[5]}\\u003cbr\\u003erandom_forest prec@10=%{customdata[6]}\\u003cbr\\u003erandom_forest ratio_of_ratings=%{customdata[7]}\\u003cbr\\u003edcg_dense=%{customdata[8]}\\u003cbr\\u003endcg=%{customdata[9]}\\u003cbr\\u003eprec@10=%{customdata[10]}\\u003cbr\\u003eratio_of_ratings=%{customdata[11]}\\u003cextra\\u003e\\u003c\\u002fextra\\u003e\",\"legendgroup\":\"\",\"marker\":{\"color\":\"#636efa\",\"symbol\":\"circle\"},\"mode\":\"markers\",\"name\":\"\",\"orientation\":\"v\",\"showlegend\":false,\"x\":[15.650518338067553,8.523719014285831,6.0,0.6309297535714575,9.785578521428747,1.3333333333333333,18.17423735235338,5.5474112289381665,13.358488663847371,6.58108805370364,0.0,0.0,16.043307598781926,1.1562593052715515,5.204119982655925,1.3333333333333333,4.212298870898457,0.0,5.0396944362254255,18.17423735235338,16.994047708389644,6.666666666666667,8.523719014285831,0.0,15.813858064425906,8.523719014285831,2.4087643450849527,7.333333333333333,0.0,1.4248287484320887,1.2041199826559248,0.0,4.6949462096638275,0.0,3.261859507142915,4.0,6.690385680952497,9.385072130432617,0.0,0.31546487678572877,10.279550994407543,8.757818498799,11.593149298649742,0.0],\"xaxis\":\"x\",\"y\":[15.650518338067553,14.55199855728299,6.52371901428583,1.2041199826559248,9.785578521428748,7.333333333333333,18.17423735235338,7.948547762717919,13.622765437410264,11.567432817846504,13.85633827958356,5.914421387036973,16.043307598781926,1.3333333333333333,5.204119982655925,1.7227062322935722,8.083085520221049,1.1562593052715515,5.0396944362254255,18.17423735235338,16.994047708389644,6.666666666666667,8.523719014285831,5.2618595071429155,16.415918055753867,15.708257862554545,2.4087643450849527,7.333333333333333,0.0,5.061172330275088,4.52371901428583,0.0,4.6949462096638275,10.922917465165648,3.261859507142915,4.0,18.17423735235338,9.385072130432617,16.626826123415217,0.5,10.344157669746249,11.637127619330546,14.344492172257391,15.813858064425906],\"yaxis\":\"y\",\"type\":\"scatter\"}],                        {\"template\":{\"data\":{\"histogram2dcontour\":[{\"type\":\"histogram2dcontour\",\"colorbar\":{\"outlinewidth\":0,\"ticks\":\"\"},\"colorscale\":[[0.0,\"#0d0887\"],[0.1111111111111111,\"#46039f\"],[0.2222222222222222,\"#7201a8\"],[0.3333333333333333,\"#9c179e\"],[0.4444444444444444,\"#bd3786\"],[0.5555555555555556,\"#d8576b\"],[0.6666666666666666,\"#ed7953\"],[0.7777777777777778,\"#fb9f3a\"],[0.8888888888888888,\"#fdca26\"],[1.0,\"#f0f921\"]]}],\"choropleth\":[{\"type\":\"choropleth\",\"colorbar\":{\"outlinewidth\":0,\"ticks\":\"\"}}],\"histogram2d\":[{\"type\":\"histogram2d\",\"colorbar\":{\"outlinewidth\":0,\"ticks\":\"\"},\"colorscale\":[[0.0,\"#0d0887\"],[0.1111111111111111,\"#46039f\"],[0.2222222222222222,\"#7201a8\"],[0.3333333333333333,\"#9c179e\"],[0.4444444444444444,\"#bd3786\"],[0.5555555555555556,\"#d8576b\"],[0.6666666666666666,\"#ed7953\"],[0.7777777777777778,\"#fb9f3a\"],[0.8888888888888888,\"#fdca26\"],[1.0,\"#f0f921\"]]}],\"heatmap\":[{\"type\":\"heatmap\",\"colorbar\":{\"outlinewidth\":0,\"ticks\":\"\"},\"colorscale\":[[0.0,\"#0d0887\"],[0.1111111111111111,\"#46039f\"],[0.2222222222222222,\"#7201a8\"],[0.3333333333333333,\"#9c179e\"],[0.4444444444444444,\"#bd3786\"],[0.5555555555555556,\"#d8576b\"],[0.6666666666666666,\"#ed7953\"],[0.7777777777777778,\"#fb9f3a\"],[0.8888888888888888,\"#fdca26\"],[1.0,\"#f0f921\"]]}],\"heatmapgl\":[{\"type\":\"heatmapgl\",\"colorbar\":{\"outlinewidth\":0,\"ticks\":\"\"},\"colorscale\":[[0.0,\"#0d0887\"],[0.1111111111111111,\"#46039f\"],[0.2222222222222222,\"#7201a8\"],[0.3333333333333333,\"#9c179e\"],[0.4444444444444444,\"#bd3786\"],[0.5555555555555556,\"#d8576b\"],[0.6666666666666666,\"#ed7953\"],[0.7777777777777778,\"#fb9f3a\"],[0.8888888888888888,\"#fdca26\"],[1.0,\"#f0f921\"]]}],\"contourcarpet\":[{\"type\":\"contourcarpet\",\"colorbar\":{\"outlinewidth\":0,\"ticks\":\"\"}}],\"contour\":[{\"type\":\"contour\",\"colorbar\":{\"outlinewidth\":0,\"ticks\":\"\"},\"colorscale\":[[0.0,\"#0d0887\"],[0.1111111111111111,\"#46039f\"],[0.2222222222222222,\"#7201a8\"],[0.3333333333333333,\"#9c179e\"],[0.4444444444444444,\"#bd3786\"],[0.5555555555555556,\"#d8576b\"],[0.6666666666666666,\"#ed7953\"],[0.7777777777777778,\"#fb9f3a\"],[0.8888888888888888,\"#fdca26\"],[1.0,\"#f0f921\"]]}],\"surface\":[{\"type\":\"surface\",\"colorbar\":{\"outlinewidth\":0,\"ticks\":\"\"},\"colorscale\":[[0.0,\"#0d0887\"],[0.1111111111111111,\"#46039f\"],[0.2222222222222222,\"#7201a8\"],[0.3333333333333333,\"#9c179e\"],[0.4444444444444444,\"#bd3786\"],[0.5555555555555556,\"#d8576b\"],[0.6666666666666666,\"#ed7953\"],[0.7777777777777778,\"#fb9f3a\"],[0.8888888888888888,\"#fdca26\"],[1.0,\"#f0f921\"]]}],\"mesh3d\":[{\"type\":\"mesh3d\",\"colorbar\":{\"outlinewidth\":0,\"ticks\":\"\"}}],\"scatter\":[{\"fillpattern\":{\"fillmode\":\"overlay\",\"size\":10,\"solidity\":0.2},\"type\":\"scatter\"}],\"parcoords\":[{\"type\":\"parcoords\",\"line\":{\"colorbar\":{\"outlinewidth\":0,\"ticks\":\"\"}}}],\"scatterpolargl\":[{\"type\":\"scatterpolargl\",\"marker\":{\"colorbar\":{\"outlinewidth\":0,\"ticks\":\"\"}}}],\"bar\":[{\"error_x\":{\"color\":\"#2a3f5f\"},\"error_y\":{\"color\":\"#2a3f5f\"},\"marker\":{\"line\":{\"color\":\"#E5ECF6\",\"width\":0.5},\"pattern\":{\"fillmode\":\"overlay\",\"size\":10,\"solidity\":0.2}},\"type\":\"bar\"}],\"scattergeo\":[{\"type\":\"scattergeo\",\"marker\":{\"colorbar\":{\"outlinewidth\":0,\"ticks\":\"\"}}}],\"scatterpolar\":[{\"type\":\"scatterpolar\",\"marker\":{\"colorbar\":{\"outlinewidth\":0,\"ticks\":\"\"}}}],\"histogram\":[{\"marker\":{\"pattern\":{\"fillmode\":\"overlay\",\"size\":10,\"solidity\":0.2}},\"type\":\"histogram\"}],\"scattergl\":[{\"type\":\"scattergl\",\"marker\":{\"colorbar\":{\"outlinewidth\":0,\"ticks\":\"\"}}}],\"scatter3d\":[{\"type\":\"scatter3d\",\"line\":{\"colorbar\":{\"outlinewidth\":0,\"ticks\":\"\"}},\"marker\":{\"colorbar\":{\"outlinewidth\":0,\"ticks\":\"\"}}}],\"scattermapbox\":[{\"type\":\"scattermapbox\",\"marker\":{\"colorbar\":{\"outlinewidth\":0,\"ticks\":\"\"}}}],\"scatterternary\":[{\"type\":\"scatterternary\",\"marker\":{\"colorbar\":{\"outlinewidth\":0,\"ticks\":\"\"}}}],\"scattercarpet\":[{\"type\":\"scattercarpet\",\"marker\":{\"colorbar\":{\"outlinewidth\":0,\"ticks\":\"\"}}}],\"carpet\":[{\"aaxis\":{\"endlinecolor\":\"#2a3f5f\",\"gridcolor\":\"white\",\"linecolor\":\"white\",\"minorgridcolor\":\"white\",\"startlinecolor\":\"#2a3f5f\"},\"baxis\":{\"endlinecolor\":\"#2a3f5f\",\"gridcolor\":\"white\",\"linecolor\":\"white\",\"minorgridcolor\":\"white\",\"startlinecolor\":\"#2a3f5f\"},\"type\":\"carpet\"}],\"table\":[{\"cells\":{\"fill\":{\"color\":\"#EBF0F8\"},\"line\":{\"color\":\"white\"}},\"header\":{\"fill\":{\"color\":\"#C8D4E3\"},\"line\":{\"color\":\"white\"}},\"type\":\"table\"}],\"barpolar\":[{\"marker\":{\"line\":{\"color\":\"#E5ECF6\",\"width\":0.5},\"pattern\":{\"fillmode\":\"overlay\",\"size\":10,\"solidity\":0.2}},\"type\":\"barpolar\"}],\"pie\":[{\"automargin\":true,\"type\":\"pie\"}]},\"layout\":{\"autotypenumbers\":\"strict\",\"colorway\":[\"#636efa\",\"#EF553B\",\"#00cc96\",\"#ab63fa\",\"#FFA15A\",\"#19d3f3\",\"#FF6692\",\"#B6E880\",\"#FF97FF\",\"#FECB52\"],\"font\":{\"color\":\"#2a3f5f\"},\"hovermode\":\"closest\",\"hoverlabel\":{\"align\":\"left\"},\"paper_bgcolor\":\"white\",\"plot_bgcolor\":\"#E5ECF6\",\"polar\":{\"bgcolor\":\"#E5ECF6\",\"angularaxis\":{\"gridcolor\":\"white\",\"linecolor\":\"white\",\"ticks\":\"\"},\"radialaxis\":{\"gridcolor\":\"white\",\"linecolor\":\"white\",\"ticks\":\"\"}},\"ternary\":{\"bgcolor\":\"#E5ECF6\",\"aaxis\":{\"gridcolor\":\"white\",\"linecolor\":\"white\",\"ticks\":\"\"},\"baxis\":{\"gridcolor\":\"white\",\"linecolor\":\"white\",\"ticks\":\"\"},\"caxis\":{\"gridcolor\":\"white\",\"linecolor\":\"white\",\"ticks\":\"\"}},\"coloraxis\":{\"colorbar\":{\"outlinewidth\":0,\"ticks\":\"\"}},\"colorscale\":{\"sequential\":[[0.0,\"#0d0887\"],[0.1111111111111111,\"#46039f\"],[0.2222222222222222,\"#7201a8\"],[0.3333333333333333,\"#9c179e\"],[0.4444444444444444,\"#bd3786\"],[0.5555555555555556,\"#d8576b\"],[0.6666666666666666,\"#ed7953\"],[0.7777777777777778,\"#fb9f3a\"],[0.8888888888888888,\"#fdca26\"],[1.0,\"#f0f921\"]],\"sequentialminus\":[[0.0,\"#0d0887\"],[0.1111111111111111,\"#46039f\"],[0.2222222222222222,\"#7201a8\"],[0.3333333333333333,\"#9c179e\"],[0.4444444444444444,\"#bd3786\"],[0.5555555555555556,\"#d8576b\"],[0.6666666666666666,\"#ed7953\"],[0.7777777777777778,\"#fb9f3a\"],[0.8888888888888888,\"#fdca26\"],[1.0,\"#f0f921\"]],\"diverging\":[[0,\"#8e0152\"],[0.1,\"#c51b7d\"],[0.2,\"#de77ae\"],[0.3,\"#f1b6da\"],[0.4,\"#fde0ef\"],[0.5,\"#f7f7f7\"],[0.6,\"#e6f5d0\"],[0.7,\"#b8e186\"],[0.8,\"#7fbc41\"],[0.9,\"#4d9221\"],[1,\"#276419\"]]},\"xaxis\":{\"gridcolor\":\"white\",\"linecolor\":\"white\",\"ticks\":\"\",\"title\":{\"standoff\":15},\"zerolinecolor\":\"white\",\"automargin\":true,\"zerolinewidth\":2},\"yaxis\":{\"gridcolor\":\"white\",\"linecolor\":\"white\",\"ticks\":\"\",\"title\":{\"standoff\":15},\"zerolinecolor\":\"white\",\"automargin\":true,\"zerolinewidth\":2},\"scene\":{\"xaxis\":{\"backgroundcolor\":\"#E5ECF6\",\"gridcolor\":\"white\",\"linecolor\":\"white\",\"showbackground\":true,\"ticks\":\"\",\"zerolinecolor\":\"white\",\"gridwidth\":2},\"yaxis\":{\"backgroundcolor\":\"#E5ECF6\",\"gridcolor\":\"white\",\"linecolor\":\"white\",\"showbackground\":true,\"ticks\":\"\",\"zerolinecolor\":\"white\",\"gridwidth\":2},\"zaxis\":{\"backgroundcolor\":\"#E5ECF6\",\"gridcolor\":\"white\",\"linecolor\":\"white\",\"showbackground\":true,\"ticks\":\"\",\"zerolinecolor\":\"white\",\"gridwidth\":2}},\"shapedefaults\":{\"line\":{\"color\":\"#2a3f5f\"}},\"annotationdefaults\":{\"arrowcolor\":\"#2a3f5f\",\"arrowhead\":0,\"arrowwidth\":1},\"geo\":{\"bgcolor\":\"white\",\"landcolor\":\"#E5ECF6\",\"subunitcolor\":\"white\",\"showland\":true,\"showlakes\":true,\"lakecolor\":\"white\"},\"title\":{\"x\":0.05},\"mapbox\":{\"style\":\"light\"}}},\"xaxis\":{\"anchor\":\"y\",\"domain\":[0.0,1.0],\"title\":{\"text\":\"linear_model dcg\"}},\"yaxis\":{\"anchor\":\"x\",\"domain\":[0.0,1.0],\"title\":{\"text\":\"dcg\"}},\"legend\":{\"tracegroupgap\":0},\"margin\":{\"t\":60}},                        {\"responsive\": true}                    ).then(function(){\n",
       "                            \n",
       "var gd = document.getElementById('85fc7d73-d003-4355-8578-d040b3cf6918');\n",
       "var x = new MutationObserver(function (mutations, observer) {{\n",
       "        var display = window.getComputedStyle(gd).display;\n",
       "        if (!display || display === 'none') {{\n",
       "            console.log([gd, 'removed!']);\n",
       "            Plotly.purge(gd);\n",
       "            observer.disconnect();\n",
       "        }}\n",
       "}});\n",
       "\n",
       "// Listen for the removal of the full notebook cells\n",
       "var notebookContainer = gd.closest('#notebook-container');\n",
       "if (notebookContainer) {{\n",
       "    x.observe(notebookContainer, {childList: true});\n",
       "}}\n",
       "\n",
       "// Listen for the clearing of the current output cell\n",
       "var outputEl = gd.closest('.output');\n",
       "if (outputEl) {{\n",
       "    x.observe(outputEl, {childList: true});\n",
       "}}\n",
       "\n",
       "                        })                };                });            </script>        </div>"
      ]
     },
     "metadata": {},
     "output_type": "display_data"
    }
   ],
   "source": [
    "px.scatter(\n",
    "    df_metrics_merged,\n",
    "    x=\"linear_model dcg\",\n",
    "    y=\"dcg\",\n",
    "    hover_data=df_metrics_merged.columns,\n",
    ")"
   ]
  },
  {
   "cell_type": "code",
   "execution_count": 384,
   "id": "19b72951-f2cb-4276-8a5f-71fdff7fb504",
   "metadata": {},
   "outputs": [
    {
     "data": {
      "application/vnd.plotly.v1+json": {
       "config": {
        "plotlyServerURL": "https://plot.ly"
       },
       "data": [
        {
         "customdata": [
          [
           "7 days without a pun makes one weak",
           15.650518338067553,
           0.9,
           0.9,
           15.650518338067553,
           0.6640659408521532,
           0.9,
           0.9,
           15.650518338067553,
           18.17423735235338,
           0.9,
           0.9
          ],
          [
           "american flag 5x8 outdoor made in usa",
           8.523719014285831,
           0.3,
           0.3,
           11.793836475517569,
           0.48287910642304827,
           0.5,
           0.5,
           14.55199855728299,
           18.17423735235338,
           0.7,
           0.7
          ],
          [
           "andis t edger",
           6,
           0.2,
           0.2,
           6,
           0.283827920583421,
           0.2,
           0.2,
           6.52371901428583,
           14.65329964272228,
           0.2,
           0.2
          ],
          [
           "backpacks lunchbox combo",
           0.6309297535714575,
           0.1,
           0.1,
           0.6309297535714575,
           0.04439416571845614,
           0.1,
           0.1,
           1.2041199826559248,
           7.123212623289701,
           0.1,
           0.1
          ],
          [
           "best ride on cars mercedes 3-in-1 push car in white",
           9.785578521428747,
           0.4,
           0.4,
           9.785578521428747,
           0.4268932385479575,
           0.4,
           0.4,
           9.785578521428748,
           17.572177361025417,
           0.4,
           0.4
          ],
          [
           "bookshelf 4 tier",
           1.3333333333333333,
           0.1,
           0.1,
           1.3333333333333333,
           0.056895702836502485,
           0.1,
           0.1,
           7.333333333333333,
           18.17423735235338,
           0.3,
           0.3
          ],
          [
           "coil incense",
           18.17423735235338,
           1,
           1,
           18.17423735235338,
           0.7441140557478906,
           1,
           1,
           18.17423735235338,
           18.17423735235338,
           1,
           1
          ],
          [
           "cousin it costume",
           5.5474112289381665,
           0.2,
           0.2,
           5.5474112289381665,
           0.43116905701454383,
           0.2,
           0.2,
           7.948547762717919,
           10.246425246579404,
           0.3,
           0.3
          ],
          [
           "dji goggles",
           13.358488663847371,
           0.7,
           0.9,
           13.358488663847371,
           0.5425438628684552,
           0.7,
           0.9,
           13.622765437410264,
           15.400988038505483,
           0.7,
           0.9
          ],
          [
           "do not enter tape",
           6.58108805370364,
           0.3,
           0.3,
           6.58108805370364,
           0.2749602024444795,
           0.3,
           0.3,
           11.567432817846504,
           18.17423735235338,
           0.7,
           0.7
          ],
          [
           "eye mask without strap",
           0,
           0,
           0,
           0,
           0,
           0,
           0,
           13.85633827958356,
           16.912377845210468,
           0.8,
           0.8
          ],
          [
           "fabric aprons",
           0,
           0,
           0,
           0,
           0,
           0,
           0,
           5.914421387036973,
           14.551998557282992,
           0.4,
           0.4
          ],
          [
           "four paws magic coat instant dog mat remover",
           16.043307598781926,
           0.9,
           1,
           16.043307598781926,
           0.5021885990757317,
           0.9,
           1,
           16.043307598781926,
           16.043307598781926,
           0.9,
           1
          ],
          [
           "galaxy 8 note case",
           1.1562593052715515,
           0.1,
           0.1,
           1.1562593052715515,
           0.0473411227365995,
           0.1,
           0.1,
           1.3333333333333333,
           18.17423735235338,
           0.1,
           0.1
          ],
          [
           "golf sets for men left handed",
           5.204119982655925,
           0.2,
           0.2,
           2.4181188124144666,
           0.09900587088750676,
           0.2,
           0.2,
           5.204119982655925,
           18.17423735235338,
           0.2,
           0.2
          ],
          [
           "halloween glow bracelets kids",
           1.3333333333333333,
           0.1,
           0.1,
           1.3333333333333333,
           0.05459112561892712,
           0.1,
           0.1,
           1.7227062322935722,
           15.813858064425906,
           0.1,
           0.1
          ],
          [
           "heavy duty plastic folders with pockets",
           4.212298870898457,
           0.3,
           0.3,
           2.984565739436487,
           0.12469621941351844,
           0.2,
           0.2,
           8.083085520221049,
           18.17423735235338,
           0.4,
           0.4
          ],
          [
           "helen kaminski hats",
           0,
           0,
           0,
           0,
           0,
           0,
           0,
           1.1562593052715515,
           4,
           0.1,
           0.1
          ],
          [
           "hug machine",
           5.0396944362254255,
           0.1,
           0.4,
           5.0396944362254255,
           0.5544928869275813,
           0.1,
           0.4,
           5.0396944362254255,
           5.096268032608155,
           0.1,
           0.4
          ],
          [
           "if lost or drunk please return to bestie",
           18.17423735235338,
           1,
           1,
           18.17423735235338,
           0.7441140557478906,
           1,
           1,
           18.17423735235338,
           18.17423735235338,
           1,
           1
          ],
          [
           "jobs evergreen tree spikes",
           16.994047708389644,
           1,
           1,
           16.994047708389644,
           0.8201370158377279,
           1,
           1,
           16.994047708389644,
           16.994047708389644,
           1,
           1
          ],
          [
           "kid animal plates",
           6.666666666666667,
           0.3,
           0.3,
           6.666666666666667,
           0.3050128638003318,
           0.3,
           0.3,
           6.666666666666667,
           12.218665223949658,
           0.3,
           0.3
          ],
          [
           "kobe baby jersey",
           8.523719014285831,
           0.3,
           0.3,
           8.523719014285831,
           0.3489895615869866,
           0.3,
           0.3,
           8.523719014285831,
           18.17423735235338,
           0.3,
           0.3
          ],
          [
           "lights bulbs color changing",
           0,
           0,
           0,
           0,
           0,
           0,
           0,
           5.2618595071429155,
           18.17423735235338,
           0.3,
           0.3
          ],
          [
           "mary meyer baby mat",
           15.813858064425906,
           0.8,
           0.8,
           15.813858064425906,
           0.7860189940564837,
           0.8,
           0.8,
           16.415918055753867,
           16.994047708389644,
           0.9,
           0.9
          ],
          [
           "moto play screen protector",
           8.523719014285831,
           0.3,
           0.3,
           8.523719014285831,
           0.37561473645734933,
           0.3,
           0.3,
           15.708257862554545,
           18.17423735235338,
           0.8,
           0.8
          ],
          [
           "neuroquell for neuropathy",
           2.4087643450849527,
           0.2,
           0.2,
           2.4087643450849527,
           0.10022579111902698,
           0.2,
           0.2,
           2.4087643450849527,
           12.061392557535653,
           0.2,
           0.2
          ],
          [
           "organicbone broth",
           7.333333333333333,
           0.3,
           0.3,
           7.333333333333333,
           0.34430224321006225,
           0.3,
           0.3,
           7.333333333333333,
           16.96517794614615,
           0.3,
           0.3
          ],
          [
           "panties",
           0,
           0,
           0,
           0,
           0,
           0,
           0,
           0,
           0,
           0,
           0
          ],
          [
           "patio chair swing",
           1.4248287484320887,
           0.1,
           0.1,
           1.4248287484320887,
           0.05833725389333615,
           0.1,
           0.1,
           5.061172330275088,
           18.17423735235338,
           0.3,
           0.3
          ],
          [
           "play kitchen for toddlers accessories",
           1.2041199826559248,
           0.1,
           0.1,
           1.2041199826559248,
           0.04930069892507245,
           0.1,
           0.1,
           4.52371901428583,
           17.01797804708183,
           0.2,
           0.2
          ],
          [
           "posh moomy",
           0,
           0,
           0,
           0,
           0,
           0,
           0,
           0,
           0,
           0,
           0
          ],
          [
           "rose petals for romantic night",
           4.6949462096638275,
           0.3,
           0.3,
           4.6949462096638275,
           0.19615652453527263,
           0.3,
           0.3,
           4.6949462096638275,
           17.572177361025417,
           0.3,
           0.3
          ],
          [
           "runtz",
           0,
           0,
           0,
           4,
           0.19221699294337333,
           0.1,
           0.1,
           10.922917465165648,
           15.63889700619912,
           0.7,
           0.7
          ],
          [
           "slarm window sensor",
           3.261859507142915,
           0.2,
           0.2,
           3.261859507142915,
           0.13628165177409043,
           0.2,
           0.2,
           3.261859507142915,
           7.2618595071429155,
           0.2,
           0.2
          ],
          [
           "stuffed animal washer bag",
           4,
           0.1,
           0.1,
           4,
           0.19159298779343467,
           0.1,
           0.1,
           4,
           8.523719014285831,
           0.1,
           0.1
          ],
          [
           "sundiata",
           6.690385680952497,
           0.2,
           0.3,
           6.690385680952497,
           0.35295301492382125,
           0.2,
           0.3,
           18.17423735235338,
           18.17423735235338,
           1,
           1
          ],
          [
           "sushi go card game",
           9.385072130432617,
           0.4,
           0.4,
           9.385072130432617,
           0.5696949029899167,
           0.4,
           0.4,
           9.385072130432617,
           9.385072130432617,
           0.4,
           0.4
          ],
          [
           "tetley",
           0,
           0,
           0,
           15.470566818143665,
           0.6334167424239648,
           0.8,
           0.8,
           16.626826123415217,
           18.17423735235338,
           0.9,
           0.9
          ],
          [
           "the first years gate parts",
           0.31546487678572877,
           0,
           0.1,
           0.31546487678572877,
           0.015110214571816376,
           0,
           0.1,
           0.5,
           3.02371901428583,
           0,
           0.1
          ],
          [
           "ultra fast keto boost 800mg",
           10.279550994407543,
           0.6,
           0.6,
           10.279550994407543,
           0.546164971470979,
           0.6,
           0.6,
           10.344157669746249,
           14.728059224202315,
           0.6,
           0.6
          ],
          [
           "wiggle scooters for kids",
           8.757818498799,
           0.5,
           0.5,
           10.757818498799,
           0.4404610657901657,
           0.5,
           0.5,
           11.637127619330546,
           18.17423735235338,
           0.6,
           0.6
          ],
          [
           "winter cycling shoe covers",
           11.593149298649742,
           0.7,
           0.7,
           11.593149298649742,
           0.5443019058264909,
           0.7,
           0.7,
           14.344492172257391,
           17.543307598781922,
           0.8,
           0.8
          ],
          [
           "wowled",
           0,
           0,
           0,
           5.333333333333333,
           0.265090358377816,
           0.2,
           0.2,
           15.813858064425906,
           15.813858064425906,
           0.8,
           0.8
          ]
         ],
         "hovertemplate": "linear_model ndcg=%{x}<br>ndcg=%{y}<br>query=%{customdata[0]}<br>linear_model dcg=%{customdata[1]}<br>linear_model prec@10=%{customdata[2]}<br>linear_model ratio_of_ratings=%{customdata[3]}<br>random_forest dcg=%{customdata[4]}<br>random_forest ndcg=%{customdata[5]}<br>random_forest prec@10=%{customdata[6]}<br>random_forest ratio_of_ratings=%{customdata[7]}<br>dcg=%{customdata[8]}<br>dcg_dense=%{customdata[9]}<br>prec@10=%{customdata[10]}<br>ratio_of_ratings=%{customdata[11]}<extra></extra>",
         "legendgroup": "",
         "marker": {
          "color": "#636efa",
          "symbol": "circle"
         },
         "mode": "markers",
         "name": "",
         "orientation": "v",
         "showlegend": false,
         "type": "scatter",
         "x": [
          0.6640659408521532,
          0.3489895615869866,
          0.283827920583421,
          0.04439416571845614,
          0.4268932385479575,
          0.056895702836502485,
          0.7441140557478906,
          0.43116905701454383,
          0.5425438628684552,
          0.2749602024444795,
          0,
          0,
          0.5021885990757317,
          0.0473411227365995,
          0.21307407578185383,
          0.05459112561892712,
          0.17599134684835033,
          0,
          0.5544928869275813,
          0.7441140557478906,
          0.8201370158377279,
          0.3050128638003318,
          0.3489895615869866,
          0,
          0.7860189940564837,
          0.37561473645734933,
          0.10022579111902698,
          0.34430224321006225,
          0,
          0.05833725389333615,
          0.04930069892507245,
          0,
          0.19615652453527263,
          0,
          0.13628165177409043,
          0.19159298779343467,
          0.35295301492382125,
          0.5696949029899167,
          0,
          0.015110214571816376,
          0.546164971470979,
          0.358574377361775,
          0.5443019058264909,
          0
         ],
         "xaxis": "x",
         "y": [
          0.6640659408521532,
          0.5958074859353115,
          0.308602267049212,
          0.0847256001992896,
          0.4268932385479575,
          0.3129263656007636,
          0.7441140557478906,
          0.6177958874958227,
          0.5532772433580658,
          0.4832914623544739,
          0.3751620967651038,
          0.2421561906772534,
          0.5021885990757317,
          0.0545911256189271,
          0.2130740757818538,
          0.0705333542487352,
          0.3377141914649278,
          0.0483089255243834,
          0.5544928869275813,
          0.7441140557478906,
          0.8201370158377279,
          0.3050128638003318,
          0.3489895615869866,
          0.2154381250076886,
          0.8159440500938725,
          0.6922158188648209,
          0.1002257911190269,
          0.3443022432100622,
          0,
          0.2072213208458141,
          0.1852161847302052,
          0,
          0.1961565245352726,
          0.5248925873306987,
          0.1362816517740904,
          0.1915929877934346,
          0.9587865593035604,
          0.5696949029899167,
          0.6807578651605644,
          0.0239491234741793,
          0.5495976022359215,
          0.4764629217827701,
          0.673478295356918,
          0.7860189940564837
         ],
         "yaxis": "y"
        }
       ],
       "layout": {
        "autosize": true,
        "legend": {
         "tracegroupgap": 0
        },
        "margin": {
         "t": 60
        },
        "template": {
         "data": {
          "bar": [
           {
            "error_x": {
             "color": "#2a3f5f"
            },
            "error_y": {
             "color": "#2a3f5f"
            },
            "marker": {
             "line": {
              "color": "#E5ECF6",
              "width": 0.5
             },
             "pattern": {
              "fillmode": "overlay",
              "size": 10,
              "solidity": 0.2
             }
            },
            "type": "bar"
           }
          ],
          "barpolar": [
           {
            "marker": {
             "line": {
              "color": "#E5ECF6",
              "width": 0.5
             },
             "pattern": {
              "fillmode": "overlay",
              "size": 10,
              "solidity": 0.2
             }
            },
            "type": "barpolar"
           }
          ],
          "carpet": [
           {
            "aaxis": {
             "endlinecolor": "#2a3f5f",
             "gridcolor": "white",
             "linecolor": "white",
             "minorgridcolor": "white",
             "startlinecolor": "#2a3f5f"
            },
            "baxis": {
             "endlinecolor": "#2a3f5f",
             "gridcolor": "white",
             "linecolor": "white",
             "minorgridcolor": "white",
             "startlinecolor": "#2a3f5f"
            },
            "type": "carpet"
           }
          ],
          "choropleth": [
           {
            "colorbar": {
             "outlinewidth": 0,
             "ticks": ""
            },
            "type": "choropleth"
           }
          ],
          "contour": [
           {
            "colorbar": {
             "outlinewidth": 0,
             "ticks": ""
            },
            "colorscale": [
             [
              0,
              "#0d0887"
             ],
             [
              0.1111111111111111,
              "#46039f"
             ],
             [
              0.2222222222222222,
              "#7201a8"
             ],
             [
              0.3333333333333333,
              "#9c179e"
             ],
             [
              0.4444444444444444,
              "#bd3786"
             ],
             [
              0.5555555555555556,
              "#d8576b"
             ],
             [
              0.6666666666666666,
              "#ed7953"
             ],
             [
              0.7777777777777778,
              "#fb9f3a"
             ],
             [
              0.8888888888888888,
              "#fdca26"
             ],
             [
              1,
              "#f0f921"
             ]
            ],
            "type": "contour"
           }
          ],
          "contourcarpet": [
           {
            "colorbar": {
             "outlinewidth": 0,
             "ticks": ""
            },
            "type": "contourcarpet"
           }
          ],
          "heatmap": [
           {
            "colorbar": {
             "outlinewidth": 0,
             "ticks": ""
            },
            "colorscale": [
             [
              0,
              "#0d0887"
             ],
             [
              0.1111111111111111,
              "#46039f"
             ],
             [
              0.2222222222222222,
              "#7201a8"
             ],
             [
              0.3333333333333333,
              "#9c179e"
             ],
             [
              0.4444444444444444,
              "#bd3786"
             ],
             [
              0.5555555555555556,
              "#d8576b"
             ],
             [
              0.6666666666666666,
              "#ed7953"
             ],
             [
              0.7777777777777778,
              "#fb9f3a"
             ],
             [
              0.8888888888888888,
              "#fdca26"
             ],
             [
              1,
              "#f0f921"
             ]
            ],
            "type": "heatmap"
           }
          ],
          "heatmapgl": [
           {
            "colorbar": {
             "outlinewidth": 0,
             "ticks": ""
            },
            "colorscale": [
             [
              0,
              "#0d0887"
             ],
             [
              0.1111111111111111,
              "#46039f"
             ],
             [
              0.2222222222222222,
              "#7201a8"
             ],
             [
              0.3333333333333333,
              "#9c179e"
             ],
             [
              0.4444444444444444,
              "#bd3786"
             ],
             [
              0.5555555555555556,
              "#d8576b"
             ],
             [
              0.6666666666666666,
              "#ed7953"
             ],
             [
              0.7777777777777778,
              "#fb9f3a"
             ],
             [
              0.8888888888888888,
              "#fdca26"
             ],
             [
              1,
              "#f0f921"
             ]
            ],
            "type": "heatmapgl"
           }
          ],
          "histogram": [
           {
            "marker": {
             "pattern": {
              "fillmode": "overlay",
              "size": 10,
              "solidity": 0.2
             }
            },
            "type": "histogram"
           }
          ],
          "histogram2d": [
           {
            "colorbar": {
             "outlinewidth": 0,
             "ticks": ""
            },
            "colorscale": [
             [
              0,
              "#0d0887"
             ],
             [
              0.1111111111111111,
              "#46039f"
             ],
             [
              0.2222222222222222,
              "#7201a8"
             ],
             [
              0.3333333333333333,
              "#9c179e"
             ],
             [
              0.4444444444444444,
              "#bd3786"
             ],
             [
              0.5555555555555556,
              "#d8576b"
             ],
             [
              0.6666666666666666,
              "#ed7953"
             ],
             [
              0.7777777777777778,
              "#fb9f3a"
             ],
             [
              0.8888888888888888,
              "#fdca26"
             ],
             [
              1,
              "#f0f921"
             ]
            ],
            "type": "histogram2d"
           }
          ],
          "histogram2dcontour": [
           {
            "colorbar": {
             "outlinewidth": 0,
             "ticks": ""
            },
            "colorscale": [
             [
              0,
              "#0d0887"
             ],
             [
              0.1111111111111111,
              "#46039f"
             ],
             [
              0.2222222222222222,
              "#7201a8"
             ],
             [
              0.3333333333333333,
              "#9c179e"
             ],
             [
              0.4444444444444444,
              "#bd3786"
             ],
             [
              0.5555555555555556,
              "#d8576b"
             ],
             [
              0.6666666666666666,
              "#ed7953"
             ],
             [
              0.7777777777777778,
              "#fb9f3a"
             ],
             [
              0.8888888888888888,
              "#fdca26"
             ],
             [
              1,
              "#f0f921"
             ]
            ],
            "type": "histogram2dcontour"
           }
          ],
          "mesh3d": [
           {
            "colorbar": {
             "outlinewidth": 0,
             "ticks": ""
            },
            "type": "mesh3d"
           }
          ],
          "parcoords": [
           {
            "line": {
             "colorbar": {
              "outlinewidth": 0,
              "ticks": ""
             }
            },
            "type": "parcoords"
           }
          ],
          "pie": [
           {
            "automargin": true,
            "type": "pie"
           }
          ],
          "scatter": [
           {
            "fillpattern": {
             "fillmode": "overlay",
             "size": 10,
             "solidity": 0.2
            },
            "type": "scatter"
           }
          ],
          "scatter3d": [
           {
            "line": {
             "colorbar": {
              "outlinewidth": 0,
              "ticks": ""
             }
            },
            "marker": {
             "colorbar": {
              "outlinewidth": 0,
              "ticks": ""
             }
            },
            "type": "scatter3d"
           }
          ],
          "scattercarpet": [
           {
            "marker": {
             "colorbar": {
              "outlinewidth": 0,
              "ticks": ""
             }
            },
            "type": "scattercarpet"
           }
          ],
          "scattergeo": [
           {
            "marker": {
             "colorbar": {
              "outlinewidth": 0,
              "ticks": ""
             }
            },
            "type": "scattergeo"
           }
          ],
          "scattergl": [
           {
            "marker": {
             "colorbar": {
              "outlinewidth": 0,
              "ticks": ""
             }
            },
            "type": "scattergl"
           }
          ],
          "scattermapbox": [
           {
            "marker": {
             "colorbar": {
              "outlinewidth": 0,
              "ticks": ""
             }
            },
            "type": "scattermapbox"
           }
          ],
          "scatterpolar": [
           {
            "marker": {
             "colorbar": {
              "outlinewidth": 0,
              "ticks": ""
             }
            },
            "type": "scatterpolar"
           }
          ],
          "scatterpolargl": [
           {
            "marker": {
             "colorbar": {
              "outlinewidth": 0,
              "ticks": ""
             }
            },
            "type": "scatterpolargl"
           }
          ],
          "scatterternary": [
           {
            "marker": {
             "colorbar": {
              "outlinewidth": 0,
              "ticks": ""
             }
            },
            "type": "scatterternary"
           }
          ],
          "surface": [
           {
            "colorbar": {
             "outlinewidth": 0,
             "ticks": ""
            },
            "colorscale": [
             [
              0,
              "#0d0887"
             ],
             [
              0.1111111111111111,
              "#46039f"
             ],
             [
              0.2222222222222222,
              "#7201a8"
             ],
             [
              0.3333333333333333,
              "#9c179e"
             ],
             [
              0.4444444444444444,
              "#bd3786"
             ],
             [
              0.5555555555555556,
              "#d8576b"
             ],
             [
              0.6666666666666666,
              "#ed7953"
             ],
             [
              0.7777777777777778,
              "#fb9f3a"
             ],
             [
              0.8888888888888888,
              "#fdca26"
             ],
             [
              1,
              "#f0f921"
             ]
            ],
            "type": "surface"
           }
          ],
          "table": [
           {
            "cells": {
             "fill": {
              "color": "#EBF0F8"
             },
             "line": {
              "color": "white"
             }
            },
            "header": {
             "fill": {
              "color": "#C8D4E3"
             },
             "line": {
              "color": "white"
             }
            },
            "type": "table"
           }
          ]
         },
         "layout": {
          "annotationdefaults": {
           "arrowcolor": "#2a3f5f",
           "arrowhead": 0,
           "arrowwidth": 1
          },
          "autotypenumbers": "strict",
          "coloraxis": {
           "colorbar": {
            "outlinewidth": 0,
            "ticks": ""
           }
          },
          "colorscale": {
           "diverging": [
            [
             0,
             "#8e0152"
            ],
            [
             0.1,
             "#c51b7d"
            ],
            [
             0.2,
             "#de77ae"
            ],
            [
             0.3,
             "#f1b6da"
            ],
            [
             0.4,
             "#fde0ef"
            ],
            [
             0.5,
             "#f7f7f7"
            ],
            [
             0.6,
             "#e6f5d0"
            ],
            [
             0.7,
             "#b8e186"
            ],
            [
             0.8,
             "#7fbc41"
            ],
            [
             0.9,
             "#4d9221"
            ],
            [
             1,
             "#276419"
            ]
           ],
           "sequential": [
            [
             0,
             "#0d0887"
            ],
            [
             0.1111111111111111,
             "#46039f"
            ],
            [
             0.2222222222222222,
             "#7201a8"
            ],
            [
             0.3333333333333333,
             "#9c179e"
            ],
            [
             0.4444444444444444,
             "#bd3786"
            ],
            [
             0.5555555555555556,
             "#d8576b"
            ],
            [
             0.6666666666666666,
             "#ed7953"
            ],
            [
             0.7777777777777778,
             "#fb9f3a"
            ],
            [
             0.8888888888888888,
             "#fdca26"
            ],
            [
             1,
             "#f0f921"
            ]
           ],
           "sequentialminus": [
            [
             0,
             "#0d0887"
            ],
            [
             0.1111111111111111,
             "#46039f"
            ],
            [
             0.2222222222222222,
             "#7201a8"
            ],
            [
             0.3333333333333333,
             "#9c179e"
            ],
            [
             0.4444444444444444,
             "#bd3786"
            ],
            [
             0.5555555555555556,
             "#d8576b"
            ],
            [
             0.6666666666666666,
             "#ed7953"
            ],
            [
             0.7777777777777778,
             "#fb9f3a"
            ],
            [
             0.8888888888888888,
             "#fdca26"
            ],
            [
             1,
             "#f0f921"
            ]
           ]
          },
          "colorway": [
           "#636efa",
           "#EF553B",
           "#00cc96",
           "#ab63fa",
           "#FFA15A",
           "#19d3f3",
           "#FF6692",
           "#B6E880",
           "#FF97FF",
           "#FECB52"
          ],
          "font": {
           "color": "#2a3f5f"
          },
          "geo": {
           "bgcolor": "white",
           "lakecolor": "white",
           "landcolor": "#E5ECF6",
           "showlakes": true,
           "showland": true,
           "subunitcolor": "white"
          },
          "hoverlabel": {
           "align": "left"
          },
          "hovermode": "closest",
          "mapbox": {
           "style": "light"
          },
          "paper_bgcolor": "white",
          "plot_bgcolor": "#E5ECF6",
          "polar": {
           "angularaxis": {
            "gridcolor": "white",
            "linecolor": "white",
            "ticks": ""
           },
           "bgcolor": "#E5ECF6",
           "radialaxis": {
            "gridcolor": "white",
            "linecolor": "white",
            "ticks": ""
           }
          },
          "scene": {
           "xaxis": {
            "backgroundcolor": "#E5ECF6",
            "gridcolor": "white",
            "gridwidth": 2,
            "linecolor": "white",
            "showbackground": true,
            "ticks": "",
            "zerolinecolor": "white"
           },
           "yaxis": {
            "backgroundcolor": "#E5ECF6",
            "gridcolor": "white",
            "gridwidth": 2,
            "linecolor": "white",
            "showbackground": true,
            "ticks": "",
            "zerolinecolor": "white"
           },
           "zaxis": {
            "backgroundcolor": "#E5ECF6",
            "gridcolor": "white",
            "gridwidth": 2,
            "linecolor": "white",
            "showbackground": true,
            "ticks": "",
            "zerolinecolor": "white"
           }
          },
          "shapedefaults": {
           "line": {
            "color": "#2a3f5f"
           }
          },
          "ternary": {
           "aaxis": {
            "gridcolor": "white",
            "linecolor": "white",
            "ticks": ""
           },
           "baxis": {
            "gridcolor": "white",
            "linecolor": "white",
            "ticks": ""
           },
           "bgcolor": "#E5ECF6",
           "caxis": {
            "gridcolor": "white",
            "linecolor": "white",
            "ticks": ""
           }
          },
          "title": {
           "x": 0.05
          },
          "xaxis": {
           "automargin": true,
           "gridcolor": "white",
           "linecolor": "white",
           "ticks": "",
           "title": {
            "standoff": 15
           },
           "zerolinecolor": "white",
           "zerolinewidth": 2
          },
          "yaxis": {
           "automargin": true,
           "gridcolor": "white",
           "linecolor": "white",
           "ticks": "",
           "title": {
            "standoff": 15
           },
           "zerolinecolor": "white",
           "zerolinewidth": 2
          }
         }
        },
        "xaxis": {
         "anchor": "y",
         "autorange": true,
         "domain": [
          0,
          1
         ],
         "range": [
          -0.04962550416802229,
          0.8697625200057502
         ],
         "title": {
          "text": "linear_model ndcg"
         },
         "type": "linear"
        },
        "yaxis": {
         "anchor": "x",
         "autorange": true,
         "domain": [
          0,
          1
         ],
         "range": [
          -0.07423675459174549,
          1.0330233138953058
         ],
         "title": {
          "text": "ndcg"
         },
         "type": "linear"
        }
       }
      },
      "image/png": "[encoded data removed]",
      "text/html": [
       "<div>                            <div id=\"f11b0433-0ef5-41a0-9bf0-ef38005e38c8\" class=\"plotly-graph-div\" style=\"height:525px; width:100%;\"></div>            <script type=\"text/javascript\">                require([\"plotly\"], function(Plotly) {                    window.PLOTLYENV=window.PLOTLYENV || {};                                    if (document.getElementById(\"f11b0433-0ef5-41a0-9bf0-ef38005e38c8\")) {                    Plotly.newPlot(                        \"f11b0433-0ef5-41a0-9bf0-ef38005e38c8\",                        [{\"customdata\":[[\"7 days without a pun makes one weak\",15.650518338067553,0.9,0.9,15.650518338067553,0.6640659408521532,0.9,0.9,15.650518338067553,18.17423735235338,0.9,0.9],[\"american flag 5x8 outdoor made in usa\",8.523719014285831,0.3,0.3,11.793836475517569,0.48287910642304827,0.5,0.5,14.55199855728299,18.17423735235338,0.7,0.7],[\"andis t edger\",6.0,0.2,0.2,6.0,0.283827920583421,0.2,0.2,6.52371901428583,14.65329964272228,0.2,0.2],[\"backpacks lunchbox combo\",0.6309297535714575,0.1,0.1,0.6309297535714575,0.04439416571845614,0.1,0.1,1.2041199826559248,7.123212623289701,0.1,0.1],[\"best ride on cars mercedes 3-in-1 push car in white\",9.785578521428747,0.4,0.4,9.785578521428747,0.4268932385479575,0.4,0.4,9.785578521428748,17.572177361025417,0.4,0.4],[\"bookshelf 4 tier\",1.3333333333333333,0.1,0.1,1.3333333333333333,0.056895702836502485,0.1,0.1,7.333333333333333,18.17423735235338,0.3,0.3],[\"coil incense\",18.17423735235338,1.0,1.0,18.17423735235338,0.7441140557478906,1.0,1.0,18.17423735235338,18.17423735235338,1.0,1.0],[\"cousin it costume\",5.5474112289381665,0.2,0.2,5.5474112289381665,0.43116905701454383,0.2,0.2,7.948547762717919,10.246425246579404,0.3,0.3],[\"dji goggles\",13.358488663847371,0.7,0.9,13.358488663847371,0.5425438628684552,0.7,0.9,13.622765437410264,15.400988038505483,0.7,0.9],[\"do not enter tape\",6.58108805370364,0.3,0.3,6.58108805370364,0.2749602024444795,0.3,0.3,11.567432817846504,18.17423735235338,0.7,0.7],[\"eye mask without strap\",0.0,0.0,0.0,0.0,0.0,0.0,0.0,13.85633827958356,16.912377845210468,0.8,0.8],[\"fabric aprons\",0.0,0.0,0.0,0.0,0.0,0.0,0.0,5.914421387036973,14.551998557282992,0.4,0.4],[\"four paws magic coat instant dog mat remover\",16.043307598781926,0.9,1.0,16.043307598781926,0.5021885990757317,0.9,1.0,16.043307598781926,16.043307598781926,0.9,1.0],[\"galaxy 8 note case\",1.1562593052715515,0.1,0.1,1.1562593052715515,0.0473411227365995,0.1,0.1,1.3333333333333333,18.17423735235338,0.1,0.1],[\"golf sets for men left handed\",5.204119982655925,0.2,0.2,2.4181188124144666,0.09900587088750676,0.2,0.2,5.204119982655925,18.17423735235338,0.2,0.2],[\"halloween glow bracelets kids\",1.3333333333333333,0.1,0.1,1.3333333333333333,0.05459112561892712,0.1,0.1,1.7227062322935722,15.813858064425906,0.1,0.1],[\"heavy duty plastic folders with pockets\",4.212298870898457,0.3,0.3,2.984565739436487,0.12469621941351844,0.2,0.2,8.083085520221049,18.17423735235338,0.4,0.4],[\"helen kaminski hats\",0.0,0.0,0.0,0.0,0.0,0.0,0.0,1.1562593052715515,4.0,0.1,0.1],[\"hug machine\",5.0396944362254255,0.1,0.4,5.0396944362254255,0.5544928869275813,0.1,0.4,5.0396944362254255,5.096268032608155,0.1,0.4],[\"if lost or drunk please return to bestie\",18.17423735235338,1.0,1.0,18.17423735235338,0.7441140557478906,1.0,1.0,18.17423735235338,18.17423735235338,1.0,1.0],[\"jobs evergreen tree spikes\",16.994047708389644,1.0,1.0,16.994047708389644,0.8201370158377279,1.0,1.0,16.994047708389644,16.994047708389644,1.0,1.0],[\"kid animal plates\",6.666666666666667,0.3,0.3,6.666666666666667,0.3050128638003318,0.3,0.3,6.666666666666667,12.218665223949658,0.3,0.3],[\"kobe baby jersey\",8.523719014285831,0.3,0.3,8.523719014285831,0.3489895615869866,0.3,0.3,8.523719014285831,18.17423735235338,0.3,0.3],[\"lights bulbs color changing\",0.0,0.0,0.0,0.0,0.0,0.0,0.0,5.2618595071429155,18.17423735235338,0.3,0.3],[\"mary meyer baby mat\",15.813858064425906,0.8,0.8,15.813858064425906,0.7860189940564837,0.8,0.8,16.415918055753867,16.994047708389644,0.9,0.9],[\"moto play screen protector\",8.523719014285831,0.3,0.3,8.523719014285831,0.37561473645734933,0.3,0.3,15.708257862554545,18.17423735235338,0.8,0.8],[\"neuroquell for neuropathy\",2.4087643450849527,0.2,0.2,2.4087643450849527,0.10022579111902698,0.2,0.2,2.4087643450849527,12.061392557535653,0.2,0.2],[\"organicbone broth\",7.333333333333333,0.3,0.3,7.333333333333333,0.34430224321006225,0.3,0.3,7.333333333333333,16.96517794614615,0.3,0.3],[\"panties\",0.0,0.0,0.0,0.0,0.0,0.0,0.0,0.0,0.0,0.0,0.0],[\"patio chair swing\",1.4248287484320887,0.1,0.1,1.4248287484320887,0.05833725389333615,0.1,0.1,5.061172330275088,18.17423735235338,0.3,0.3],[\"play kitchen for toddlers accessories\",1.2041199826559248,0.1,0.1,1.2041199826559248,0.04930069892507245,0.1,0.1,4.52371901428583,17.01797804708183,0.2,0.2],[\"posh moomy\",0.0,0.0,0.0,0.0,0.0,0.0,0.0,0.0,0.0,0.0,0.0],[\"rose petals for romantic night\",4.6949462096638275,0.3,0.3,4.6949462096638275,0.19615652453527263,0.3,0.3,4.6949462096638275,17.572177361025417,0.3,0.3],[\"runtz\",0.0,0.0,0.0,4.0,0.19221699294337333,0.1,0.1,10.922917465165648,15.63889700619912,0.7,0.7],[\"slarm window sensor\",3.261859507142915,0.2,0.2,3.261859507142915,0.13628165177409043,0.2,0.2,3.261859507142915,7.2618595071429155,0.2,0.2],[\"stuffed animal washer bag\",4.0,0.1,0.1,4.0,0.19159298779343467,0.1,0.1,4.0,8.523719014285831,0.1,0.1],[\"sundiata\",6.690385680952497,0.2,0.3,6.690385680952497,0.35295301492382125,0.2,0.3,18.17423735235338,18.17423735235338,1.0,1.0],[\"sushi go card game\",9.385072130432617,0.4,0.4,9.385072130432617,0.5696949029899167,0.4,0.4,9.385072130432617,9.385072130432617,0.4,0.4],[\"tetley\",0.0,0.0,0.0,15.470566818143665,0.6334167424239648,0.8,0.8,16.626826123415217,18.17423735235338,0.9,0.9],[\"the first years gate parts\",0.31546487678572877,0.0,0.1,0.31546487678572877,0.015110214571816376,0.0,0.1,0.5,3.02371901428583,0.0,0.1],[\"ultra fast keto boost 800mg\",10.279550994407543,0.6,0.6,10.279550994407543,0.546164971470979,0.6,0.6,10.344157669746249,14.728059224202315,0.6,0.6],[\"wiggle scooters for kids\",8.757818498799,0.5,0.5,10.757818498799,0.4404610657901657,0.5,0.5,11.637127619330546,18.17423735235338,0.6,0.6],[\"winter cycling shoe covers\",11.593149298649742,0.7,0.7,11.593149298649742,0.5443019058264909,0.7,0.7,14.344492172257391,17.543307598781922,0.8,0.8],[\"wowled\",0.0,0.0,0.0,5.333333333333333,0.265090358377816,0.2,0.2,15.813858064425906,15.813858064425906,0.8,0.8]],\"hovertemplate\":\"linear_model ndcg=%{x}\\u003cbr\\u003endcg=%{y}\\u003cbr\\u003equery=%{customdata[0]}\\u003cbr\\u003elinear_model dcg=%{customdata[1]}\\u003cbr\\u003elinear_model prec@10=%{customdata[2]}\\u003cbr\\u003elinear_model ratio_of_ratings=%{customdata[3]}\\u003cbr\\u003erandom_forest dcg=%{customdata[4]}\\u003cbr\\u003erandom_forest ndcg=%{customdata[5]}\\u003cbr\\u003erandom_forest prec@10=%{customdata[6]}\\u003cbr\\u003erandom_forest ratio_of_ratings=%{customdata[7]}\\u003cbr\\u003edcg=%{customdata[8]}\\u003cbr\\u003edcg_dense=%{customdata[9]}\\u003cbr\\u003eprec@10=%{customdata[10]}\\u003cbr\\u003eratio_of_ratings=%{customdata[11]}\\u003cextra\\u003e\\u003c\\u002fextra\\u003e\",\"legendgroup\":\"\",\"marker\":{\"color\":\"#636efa\",\"symbol\":\"circle\"},\"mode\":\"markers\",\"name\":\"\",\"orientation\":\"v\",\"showlegend\":false,\"x\":[0.6640659408521532,0.3489895615869866,0.283827920583421,0.04439416571845614,0.4268932385479575,0.056895702836502485,0.7441140557478906,0.43116905701454383,0.5425438628684552,0.2749602024444795,0.0,0.0,0.5021885990757317,0.0473411227365995,0.21307407578185383,0.05459112561892712,0.17599134684835033,0.0,0.5544928869275813,0.7441140557478906,0.8201370158377279,0.3050128638003318,0.3489895615869866,0.0,0.7860189940564837,0.37561473645734933,0.10022579111902698,0.34430224321006225,0.0,0.05833725389333615,0.04930069892507245,0.0,0.19615652453527263,0.0,0.13628165177409043,0.19159298779343467,0.35295301492382125,0.5696949029899167,0.0,0.015110214571816376,0.546164971470979,0.358574377361775,0.5443019058264909,0.0],\"xaxis\":\"x\",\"y\":[0.6640659408521532,0.5958074859353115,0.308602267049212,0.0847256001992896,0.4268932385479575,0.3129263656007636,0.7441140557478906,0.6177958874958227,0.5532772433580658,0.4832914623544739,0.3751620967651038,0.2421561906772534,0.5021885990757317,0.0545911256189271,0.2130740757818538,0.0705333542487352,0.3377141914649278,0.0483089255243834,0.5544928869275813,0.7441140557478906,0.8201370158377279,0.3050128638003318,0.3489895615869866,0.2154381250076886,0.8159440500938725,0.6922158188648209,0.1002257911190269,0.3443022432100622,0.0,0.2072213208458141,0.1852161847302052,0.0,0.1961565245352726,0.5248925873306987,0.1362816517740904,0.1915929877934346,0.9587865593035604,0.5696949029899167,0.6807578651605644,0.0239491234741793,0.5495976022359215,0.4764629217827701,0.673478295356918,0.7860189940564837],\"yaxis\":\"y\",\"type\":\"scatter\"}],                        {\"template\":{\"data\":{\"histogram2dcontour\":[{\"type\":\"histogram2dcontour\",\"colorbar\":{\"outlinewidth\":0,\"ticks\":\"\"},\"colorscale\":[[0.0,\"#0d0887\"],[0.1111111111111111,\"#46039f\"],[0.2222222222222222,\"#7201a8\"],[0.3333333333333333,\"#9c179e\"],[0.4444444444444444,\"#bd3786\"],[0.5555555555555556,\"#d8576b\"],[0.6666666666666666,\"#ed7953\"],[0.7777777777777778,\"#fb9f3a\"],[0.8888888888888888,\"#fdca26\"],[1.0,\"#f0f921\"]]}],\"choropleth\":[{\"type\":\"choropleth\",\"colorbar\":{\"outlinewidth\":0,\"ticks\":\"\"}}],\"histogram2d\":[{\"type\":\"histogram2d\",\"colorbar\":{\"outlinewidth\":0,\"ticks\":\"\"},\"colorscale\":[[0.0,\"#0d0887\"],[0.1111111111111111,\"#46039f\"],[0.2222222222222222,\"#7201a8\"],[0.3333333333333333,\"#9c179e\"],[0.4444444444444444,\"#bd3786\"],[0.5555555555555556,\"#d8576b\"],[0.6666666666666666,\"#ed7953\"],[0.7777777777777778,\"#fb9f3a\"],[0.8888888888888888,\"#fdca26\"],[1.0,\"#f0f921\"]]}],\"heatmap\":[{\"type\":\"heatmap\",\"colorbar\":{\"outlinewidth\":0,\"ticks\":\"\"},\"colorscale\":[[0.0,\"#0d0887\"],[0.1111111111111111,\"#46039f\"],[0.2222222222222222,\"#7201a8\"],[0.3333333333333333,\"#9c179e\"],[0.4444444444444444,\"#bd3786\"],[0.5555555555555556,\"#d8576b\"],[0.6666666666666666,\"#ed7953\"],[0.7777777777777778,\"#fb9f3a\"],[0.8888888888888888,\"#fdca26\"],[1.0,\"#f0f921\"]]}],\"heatmapgl\":[{\"type\":\"heatmapgl\",\"colorbar\":{\"outlinewidth\":0,\"ticks\":\"\"},\"colorscale\":[[0.0,\"#0d0887\"],[0.1111111111111111,\"#46039f\"],[0.2222222222222222,\"#7201a8\"],[0.3333333333333333,\"#9c179e\"],[0.4444444444444444,\"#bd3786\"],[0.5555555555555556,\"#d8576b\"],[0.6666666666666666,\"#ed7953\"],[0.7777777777777778,\"#fb9f3a\"],[0.8888888888888888,\"#fdca26\"],[1.0,\"#f0f921\"]]}],\"contourcarpet\":[{\"type\":\"contourcarpet\",\"colorbar\":{\"outlinewidth\":0,\"ticks\":\"\"}}],\"contour\":[{\"type\":\"contour\",\"colorbar\":{\"outlinewidth\":0,\"ticks\":\"\"},\"colorscale\":[[0.0,\"#0d0887\"],[0.1111111111111111,\"#46039f\"],[0.2222222222222222,\"#7201a8\"],[0.3333333333333333,\"#9c179e\"],[0.4444444444444444,\"#bd3786\"],[0.5555555555555556,\"#d8576b\"],[0.6666666666666666,\"#ed7953\"],[0.7777777777777778,\"#fb9f3a\"],[0.8888888888888888,\"#fdca26\"],[1.0,\"#f0f921\"]]}],\"surface\":[{\"type\":\"surface\",\"colorbar\":{\"outlinewidth\":0,\"ticks\":\"\"},\"colorscale\":[[0.0,\"#0d0887\"],[0.1111111111111111,\"#46039f\"],[0.2222222222222222,\"#7201a8\"],[0.3333333333333333,\"#9c179e\"],[0.4444444444444444,\"#bd3786\"],[0.5555555555555556,\"#d8576b\"],[0.6666666666666666,\"#ed7953\"],[0.7777777777777778,\"#fb9f3a\"],[0.8888888888888888,\"#fdca26\"],[1.0,\"#f0f921\"]]}],\"mesh3d\":[{\"type\":\"mesh3d\",\"colorbar\":{\"outlinewidth\":0,\"ticks\":\"\"}}],\"scatter\":[{\"fillpattern\":{\"fillmode\":\"overlay\",\"size\":10,\"solidity\":0.2},\"type\":\"scatter\"}],\"parcoords\":[{\"type\":\"parcoords\",\"line\":{\"colorbar\":{\"outlinewidth\":0,\"ticks\":\"\"}}}],\"scatterpolargl\":[{\"type\":\"scatterpolargl\",\"marker\":{\"colorbar\":{\"outlinewidth\":0,\"ticks\":\"\"}}}],\"bar\":[{\"error_x\":{\"color\":\"#2a3f5f\"},\"error_y\":{\"color\":\"#2a3f5f\"},\"marker\":{\"line\":{\"color\":\"#E5ECF6\",\"width\":0.5},\"pattern\":{\"fillmode\":\"overlay\",\"size\":10,\"solidity\":0.2}},\"type\":\"bar\"}],\"scattergeo\":[{\"type\":\"scattergeo\",\"marker\":{\"colorbar\":{\"outlinewidth\":0,\"ticks\":\"\"}}}],\"scatterpolar\":[{\"type\":\"scatterpolar\",\"marker\":{\"colorbar\":{\"outlinewidth\":0,\"ticks\":\"\"}}}],\"histogram\":[{\"marker\":{\"pattern\":{\"fillmode\":\"overlay\",\"size\":10,\"solidity\":0.2}},\"type\":\"histogram\"}],\"scattergl\":[{\"type\":\"scattergl\",\"marker\":{\"colorbar\":{\"outlinewidth\":0,\"ticks\":\"\"}}}],\"scatter3d\":[{\"type\":\"scatter3d\",\"line\":{\"colorbar\":{\"outlinewidth\":0,\"ticks\":\"\"}},\"marker\":{\"colorbar\":{\"outlinewidth\":0,\"ticks\":\"\"}}}],\"scattermapbox\":[{\"type\":\"scattermapbox\",\"marker\":{\"colorbar\":{\"outlinewidth\":0,\"ticks\":\"\"}}}],\"scatterternary\":[{\"type\":\"scatterternary\",\"marker\":{\"colorbar\":{\"outlinewidth\":0,\"ticks\":\"\"}}}],\"scattercarpet\":[{\"type\":\"scattercarpet\",\"marker\":{\"colorbar\":{\"outlinewidth\":0,\"ticks\":\"\"}}}],\"carpet\":[{\"aaxis\":{\"endlinecolor\":\"#2a3f5f\",\"gridcolor\":\"white\",\"linecolor\":\"white\",\"minorgridcolor\":\"white\",\"startlinecolor\":\"#2a3f5f\"},\"baxis\":{\"endlinecolor\":\"#2a3f5f\",\"gridcolor\":\"white\",\"linecolor\":\"white\",\"minorgridcolor\":\"white\",\"startlinecolor\":\"#2a3f5f\"},\"type\":\"carpet\"}],\"table\":[{\"cells\":{\"fill\":{\"color\":\"#EBF0F8\"},\"line\":{\"color\":\"white\"}},\"header\":{\"fill\":{\"color\":\"#C8D4E3\"},\"line\":{\"color\":\"white\"}},\"type\":\"table\"}],\"barpolar\":[{\"marker\":{\"line\":{\"color\":\"#E5ECF6\",\"width\":0.5},\"pattern\":{\"fillmode\":\"overlay\",\"size\":10,\"solidity\":0.2}},\"type\":\"barpolar\"}],\"pie\":[{\"automargin\":true,\"type\":\"pie\"}]},\"layout\":{\"autotypenumbers\":\"strict\",\"colorway\":[\"#636efa\",\"#EF553B\",\"#00cc96\",\"#ab63fa\",\"#FFA15A\",\"#19d3f3\",\"#FF6692\",\"#B6E880\",\"#FF97FF\",\"#FECB52\"],\"font\":{\"color\":\"#2a3f5f\"},\"hovermode\":\"closest\",\"hoverlabel\":{\"align\":\"left\"},\"paper_bgcolor\":\"white\",\"plot_bgcolor\":\"#E5ECF6\",\"polar\":{\"bgcolor\":\"#E5ECF6\",\"angularaxis\":{\"gridcolor\":\"white\",\"linecolor\":\"white\",\"ticks\":\"\"},\"radialaxis\":{\"gridcolor\":\"white\",\"linecolor\":\"white\",\"ticks\":\"\"}},\"ternary\":{\"bgcolor\":\"#E5ECF6\",\"aaxis\":{\"gridcolor\":\"white\",\"linecolor\":\"white\",\"ticks\":\"\"},\"baxis\":{\"gridcolor\":\"white\",\"linecolor\":\"white\",\"ticks\":\"\"},\"caxis\":{\"gridcolor\":\"white\",\"linecolor\":\"white\",\"ticks\":\"\"}},\"coloraxis\":{\"colorbar\":{\"outlinewidth\":0,\"ticks\":\"\"}},\"colorscale\":{\"sequential\":[[0.0,\"#0d0887\"],[0.1111111111111111,\"#46039f\"],[0.2222222222222222,\"#7201a8\"],[0.3333333333333333,\"#9c179e\"],[0.4444444444444444,\"#bd3786\"],[0.5555555555555556,\"#d8576b\"],[0.6666666666666666,\"#ed7953\"],[0.7777777777777778,\"#fb9f3a\"],[0.8888888888888888,\"#fdca26\"],[1.0,\"#f0f921\"]],\"sequentialminus\":[[0.0,\"#0d0887\"],[0.1111111111111111,\"#46039f\"],[0.2222222222222222,\"#7201a8\"],[0.3333333333333333,\"#9c179e\"],[0.4444444444444444,\"#bd3786\"],[0.5555555555555556,\"#d8576b\"],[0.6666666666666666,\"#ed7953\"],[0.7777777777777778,\"#fb9f3a\"],[0.8888888888888888,\"#fdca26\"],[1.0,\"#f0f921\"]],\"diverging\":[[0,\"#8e0152\"],[0.1,\"#c51b7d\"],[0.2,\"#de77ae\"],[0.3,\"#f1b6da\"],[0.4,\"#fde0ef\"],[0.5,\"#f7f7f7\"],[0.6,\"#e6f5d0\"],[0.7,\"#b8e186\"],[0.8,\"#7fbc41\"],[0.9,\"#4d9221\"],[1,\"#276419\"]]},\"xaxis\":{\"gridcolor\":\"white\",\"linecolor\":\"white\",\"ticks\":\"\",\"title\":{\"standoff\":15},\"zerolinecolor\":\"white\",\"automargin\":true,\"zerolinewidth\":2},\"yaxis\":{\"gridcolor\":\"white\",\"linecolor\":\"white\",\"ticks\":\"\",\"title\":{\"standoff\":15},\"zerolinecolor\":\"white\",\"automargin\":true,\"zerolinewidth\":2},\"scene\":{\"xaxis\":{\"backgroundcolor\":\"#E5ECF6\",\"gridcolor\":\"white\",\"linecolor\":\"white\",\"showbackground\":true,\"ticks\":\"\",\"zerolinecolor\":\"white\",\"gridwidth\":2},\"yaxis\":{\"backgroundcolor\":\"#E5ECF6\",\"gridcolor\":\"white\",\"linecolor\":\"white\",\"showbackground\":true,\"ticks\":\"\",\"zerolinecolor\":\"white\",\"gridwidth\":2},\"zaxis\":{\"backgroundcolor\":\"#E5ECF6\",\"gridcolor\":\"white\",\"linecolor\":\"white\",\"showbackground\":true,\"ticks\":\"\",\"zerolinecolor\":\"white\",\"gridwidth\":2}},\"shapedefaults\":{\"line\":{\"color\":\"#2a3f5f\"}},\"annotationdefaults\":{\"arrowcolor\":\"#2a3f5f\",\"arrowhead\":0,\"arrowwidth\":1},\"geo\":{\"bgcolor\":\"white\",\"landcolor\":\"#E5ECF6\",\"subunitcolor\":\"white\",\"showland\":true,\"showlakes\":true,\"lakecolor\":\"white\"},\"title\":{\"x\":0.05},\"mapbox\":{\"style\":\"light\"}}},\"xaxis\":{\"anchor\":\"y\",\"domain\":[0.0,1.0],\"title\":{\"text\":\"linear_model ndcg\"}},\"yaxis\":{\"anchor\":\"x\",\"domain\":[0.0,1.0],\"title\":{\"text\":\"ndcg\"}},\"legend\":{\"tracegroupgap\":0},\"margin\":{\"t\":60}},                        {\"responsive\": true}                    ).then(function(){\n",
       "                            \n",
       "var gd = document.getElementById('f11b0433-0ef5-41a0-9bf0-ef38005e38c8');\n",
       "var x = new MutationObserver(function (mutations, observer) {{\n",
       "        var display = window.getComputedStyle(gd).display;\n",
       "        if (!display || display === 'none') {{\n",
       "            console.log([gd, 'removed!']);\n",
       "            Plotly.purge(gd);\n",
       "            observer.disconnect();\n",
       "        }}\n",
       "}});\n",
       "\n",
       "// Listen for the removal of the full notebook cells\n",
       "var notebookContainer = gd.closest('#notebook-container');\n",
       "if (notebookContainer) {{\n",
       "    x.observe(notebookContainer, {childList: true});\n",
       "}}\n",
       "\n",
       "// Listen for the clearing of the current output cell\n",
       "var outputEl = gd.closest('.output');\n",
       "if (outputEl) {{\n",
       "    x.observe(outputEl, {childList: true});\n",
       "}}\n",
       "\n",
       "                        })                };                });            </script>        </div>"
      ]
     },
     "metadata": {},
     "output_type": "display_data"
    }
   ],
   "source": [
    "px.scatter(\n",
    "    df_metrics_merged,\n",
    "    x=\"linear_model ndcg\",\n",
    "    y=\"ndcg\",\n",
    "    hover_data=df_metrics_merged.columns,\n",
    ")"
   ]
  },
  {
   "cell_type": "code",
   "execution_count": 385,
   "id": "a339ec74-6527-4f51-a5f8-a9e096d13f20",
   "metadata": {},
   "outputs": [],
   "source": [
    "df_metrics_merged['dcg_difference'] = df_metrics_merged['random_forest dcg'] - df_metrics_merged['linear_model dcg']"
   ]
  },
  {
   "cell_type": "code",
   "execution_count": 386,
   "id": "89ec2d11-a6e1-4ec7-98bb-81ede508e321",
   "metadata": {},
   "outputs": [
    {
     "data": {
      "text/html": [
       "<div>\n",
       "<style scoped>\n",
       "    .dataframe tbody tr th:only-of-type {\n",
       "        vertical-align: middle;\n",
       "    }\n",
       "\n",
       "    .dataframe tbody tr th {\n",
       "        vertical-align: top;\n",
       "    }\n",
       "\n",
       "    .dataframe thead th {\n",
       "        text-align: right;\n",
       "    }\n",
       "</style>\n",
       "<table border=\"1\" class=\"dataframe\">\n",
       "  <thead>\n",
       "    <tr style=\"text-align: right;\">\n",
       "      <th></th>\n",
       "      <th>query</th>\n",
       "      <th>dcg_difference</th>\n",
       "      <th>random_forest dcg</th>\n",
       "      <th>linear_model dcg</th>\n",
       "    </tr>\n",
       "  </thead>\n",
       "  <tbody>\n",
       "    <tr>\n",
       "      <th>14</th>\n",
       "      <td>golf sets for men left handed</td>\n",
       "      <td>-2.786001</td>\n",
       "      <td>2.418119</td>\n",
       "      <td>5.204120</td>\n",
       "    </tr>\n",
       "    <tr>\n",
       "      <th>16</th>\n",
       "      <td>heavy duty plastic folders with pockets</td>\n",
       "      <td>-1.227733</td>\n",
       "      <td>2.984566</td>\n",
       "      <td>4.212299</td>\n",
       "    </tr>\n",
       "    <tr>\n",
       "      <th>0</th>\n",
       "      <td>7 days without a pun makes one weak</td>\n",
       "      <td>0.000000</td>\n",
       "      <td>15.650518</td>\n",
       "      <td>15.650518</td>\n",
       "    </tr>\n",
       "    <tr>\n",
       "      <th>23</th>\n",
       "      <td>lights bulbs color changing</td>\n",
       "      <td>0.000000</td>\n",
       "      <td>0.000000</td>\n",
       "      <td>0.000000</td>\n",
       "    </tr>\n",
       "    <tr>\n",
       "      <th>24</th>\n",
       "      <td>mary meyer baby mat</td>\n",
       "      <td>0.000000</td>\n",
       "      <td>15.813858</td>\n",
       "      <td>15.813858</td>\n",
       "    </tr>\n",
       "  </tbody>\n",
       "</table>\n",
       "</div>"
      ],
      "text/plain": [
       "                                      query  dcg_difference  \\\n",
       "14            golf sets for men left handed       -2.786001   \n",
       "16  heavy duty plastic folders with pockets       -1.227733   \n",
       "0       7 days without a pun makes one weak        0.000000   \n",
       "23              lights bulbs color changing        0.000000   \n",
       "24                      mary meyer baby mat        0.000000   \n",
       "\n",
       "    random_forest dcg  linear_model dcg  \n",
       "14           2.418119          5.204120  \n",
       "16           2.984566          4.212299  \n",
       "0           15.650518         15.650518  \n",
       "23           0.000000          0.000000  \n",
       "24          15.813858         15.813858  "
      ]
     },
     "execution_count": 386,
     "metadata": {},
     "output_type": "execute_result"
    }
   ],
   "source": [
    "df_metrics_merged[['query', 'dcg_difference','random_forest dcg','linear_model dcg']].sort_values(by='dcg_difference').head(5)"
   ]
  },
  {
   "cell_type": "code",
   "execution_count": 387,
   "id": "e9fbf0f7-2807-49c8-b5a4-917e23fc95f4",
   "metadata": {},
   "outputs": [
    {
     "data": {
      "application/vnd.plotly.v1+json": {
       "config": {
        "plotlyServerURL": "https://plot.ly"
       },
       "data": [
        {
         "alignmentgroup": "True",
         "customdata": [
          [
           15.650518338067553,
           0.6640659408521532,
           0.9,
           0.9,
           15.650518338067553,
           0.6640659408521532,
           0.9,
           0.9,
           15.650518338067553,
           18.17423735235338,
           0.6640659408521532,
           0.9,
           0.9
          ],
          [
           8.523719014285831,
           0.3489895615869866,
           0.3,
           0.3,
           11.793836475517569,
           0.48287910642304827,
           0.5,
           0.5,
           14.55199855728299,
           18.17423735235338,
           0.5958074859353115,
           0.7,
           0.7
          ],
          [
           6,
           0.283827920583421,
           0.2,
           0.2,
           6,
           0.283827920583421,
           0.2,
           0.2,
           6.52371901428583,
           14.65329964272228,
           0.308602267049212,
           0.2,
           0.2
          ],
          [
           0.6309297535714575,
           0.04439416571845614,
           0.1,
           0.1,
           0.6309297535714575,
           0.04439416571845614,
           0.1,
           0.1,
           1.2041199826559248,
           7.123212623289701,
           0.0847256001992896,
           0.1,
           0.1
          ],
          [
           9.785578521428747,
           0.4268932385479575,
           0.4,
           0.4,
           9.785578521428747,
           0.4268932385479575,
           0.4,
           0.4,
           9.785578521428748,
           17.572177361025417,
           0.4268932385479575,
           0.4,
           0.4
          ],
          [
           1.3333333333333333,
           0.056895702836502485,
           0.1,
           0.1,
           1.3333333333333333,
           0.056895702836502485,
           0.1,
           0.1,
           7.333333333333333,
           18.17423735235338,
           0.3129263656007636,
           0.3,
           0.3
          ],
          [
           18.17423735235338,
           0.7441140557478906,
           1,
           1,
           18.17423735235338,
           0.7441140557478906,
           1,
           1,
           18.17423735235338,
           18.17423735235338,
           0.7441140557478906,
           1,
           1
          ],
          [
           5.5474112289381665,
           0.43116905701454383,
           0.2,
           0.2,
           5.5474112289381665,
           0.43116905701454383,
           0.2,
           0.2,
           7.948547762717919,
           10.246425246579404,
           0.6177958874958227,
           0.3,
           0.3
          ],
          [
           13.358488663847371,
           0.5425438628684552,
           0.7,
           0.9,
           13.358488663847371,
           0.5425438628684552,
           0.7,
           0.9,
           13.622765437410264,
           15.400988038505483,
           0.5532772433580658,
           0.7,
           0.9
          ],
          [
           6.58108805370364,
           0.2749602024444795,
           0.3,
           0.3,
           6.58108805370364,
           0.2749602024444795,
           0.3,
           0.3,
           11.567432817846504,
           18.17423735235338,
           0.4832914623544739,
           0.7,
           0.7
          ],
          [
           0,
           0,
           0,
           0,
           0,
           0,
           0,
           0,
           13.85633827958356,
           16.912377845210468,
           0.3751620967651038,
           0.8,
           0.8
          ],
          [
           0,
           0,
           0,
           0,
           0,
           0,
           0,
           0,
           5.914421387036973,
           14.551998557282992,
           0.2421561906772534,
           0.4,
           0.4
          ],
          [
           16.043307598781926,
           0.5021885990757317,
           0.9,
           1,
           16.043307598781926,
           0.5021885990757317,
           0.9,
           1,
           16.043307598781926,
           16.043307598781926,
           0.5021885990757317,
           0.9,
           1
          ],
          [
           1.1562593052715515,
           0.0473411227365995,
           0.1,
           0.1,
           1.1562593052715515,
           0.0473411227365995,
           0.1,
           0.1,
           1.3333333333333333,
           18.17423735235338,
           0.0545911256189271,
           0.1,
           0.1
          ],
          [
           5.204119982655925,
           0.21307407578185383,
           0.2,
           0.2,
           2.4181188124144666,
           0.09900587088750676,
           0.2,
           0.2,
           5.204119982655925,
           18.17423735235338,
           0.2130740757818538,
           0.2,
           0.2
          ],
          [
           1.3333333333333333,
           0.05459112561892712,
           0.1,
           0.1,
           1.3333333333333333,
           0.05459112561892712,
           0.1,
           0.1,
           1.7227062322935722,
           15.813858064425906,
           0.0705333542487352,
           0.1,
           0.1
          ],
          [
           4.212298870898457,
           0.17599134684835033,
           0.3,
           0.3,
           2.984565739436487,
           0.12469621941351844,
           0.2,
           0.2,
           8.083085520221049,
           18.17423735235338,
           0.3377141914649278,
           0.4,
           0.4
          ],
          [
           0,
           0,
           0,
           0,
           0,
           0,
           0,
           0,
           1.1562593052715515,
           4,
           0.0483089255243834,
           0.1,
           0.1
          ],
          [
           5.0396944362254255,
           0.5544928869275813,
           0.1,
           0.4,
           5.0396944362254255,
           0.5544928869275813,
           0.1,
           0.4,
           5.0396944362254255,
           5.096268032608155,
           0.5544928869275813,
           0.1,
           0.4
          ],
          [
           18.17423735235338,
           0.7441140557478906,
           1,
           1,
           18.17423735235338,
           0.7441140557478906,
           1,
           1,
           18.17423735235338,
           18.17423735235338,
           0.7441140557478906,
           1,
           1
          ],
          [
           16.994047708389644,
           0.8201370158377279,
           1,
           1,
           16.994047708389644,
           0.8201370158377279,
           1,
           1,
           16.994047708389644,
           16.994047708389644,
           0.8201370158377279,
           1,
           1
          ],
          [
           6.666666666666667,
           0.3050128638003318,
           0.3,
           0.3,
           6.666666666666667,
           0.3050128638003318,
           0.3,
           0.3,
           6.666666666666667,
           12.218665223949658,
           0.3050128638003318,
           0.3,
           0.3
          ],
          [
           8.523719014285831,
           0.3489895615869866,
           0.3,
           0.3,
           8.523719014285831,
           0.3489895615869866,
           0.3,
           0.3,
           8.523719014285831,
           18.17423735235338,
           0.3489895615869866,
           0.3,
           0.3
          ],
          [
           0,
           0,
           0,
           0,
           0,
           0,
           0,
           0,
           5.2618595071429155,
           18.17423735235338,
           0.2154381250076886,
           0.3,
           0.3
          ],
          [
           15.813858064425906,
           0.7860189940564837,
           0.8,
           0.8,
           15.813858064425906,
           0.7860189940564837,
           0.8,
           0.8,
           16.415918055753867,
           16.994047708389644,
           0.8159440500938725,
           0.9,
           0.9
          ],
          [
           8.523719014285831,
           0.37561473645734933,
           0.3,
           0.3,
           8.523719014285831,
           0.37561473645734933,
           0.3,
           0.3,
           15.708257862554545,
           18.17423735235338,
           0.6922158188648209,
           0.8,
           0.8
          ],
          [
           2.4087643450849527,
           0.10022579111902698,
           0.2,
           0.2,
           2.4087643450849527,
           0.10022579111902698,
           0.2,
           0.2,
           2.4087643450849527,
           12.061392557535653,
           0.1002257911190269,
           0.2,
           0.2
          ],
          [
           7.333333333333333,
           0.34430224321006225,
           0.3,
           0.3,
           7.333333333333333,
           0.34430224321006225,
           0.3,
           0.3,
           7.333333333333333,
           16.96517794614615,
           0.3443022432100622,
           0.3,
           0.3
          ],
          [
           0,
           0,
           0,
           0,
           0,
           0,
           0,
           0,
           0,
           0,
           0,
           0,
           0
          ],
          [
           1.4248287484320887,
           0.05833725389333615,
           0.1,
           0.1,
           1.4248287484320887,
           0.05833725389333615,
           0.1,
           0.1,
           5.061172330275088,
           18.17423735235338,
           0.2072213208458141,
           0.3,
           0.3
          ],
          [
           1.2041199826559248,
           0.04930069892507245,
           0.1,
           0.1,
           1.2041199826559248,
           0.04930069892507245,
           0.1,
           0.1,
           4.52371901428583,
           17.01797804708183,
           0.1852161847302052,
           0.2,
           0.2
          ],
          [
           0,
           0,
           0,
           0,
           0,
           0,
           0,
           0,
           0,
           0,
           0,
           0,
           0
          ],
          [
           4.6949462096638275,
           0.19615652453527263,
           0.3,
           0.3,
           4.6949462096638275,
           0.19615652453527263,
           0.3,
           0.3,
           4.6949462096638275,
           17.572177361025417,
           0.1961565245352726,
           0.3,
           0.3
          ],
          [
           0,
           0,
           0,
           0,
           4,
           0.19221699294337333,
           0.1,
           0.1,
           10.922917465165648,
           15.63889700619912,
           0.5248925873306987,
           0.7,
           0.7
          ],
          [
           3.261859507142915,
           0.13628165177409043,
           0.2,
           0.2,
           3.261859507142915,
           0.13628165177409043,
           0.2,
           0.2,
           3.261859507142915,
           7.2618595071429155,
           0.1362816517740904,
           0.2,
           0.2
          ],
          [
           4,
           0.19159298779343467,
           0.1,
           0.1,
           4,
           0.19159298779343467,
           0.1,
           0.1,
           4,
           8.523719014285831,
           0.1915929877934346,
           0.1,
           0.1
          ],
          [
           6.690385680952497,
           0.35295301492382125,
           0.2,
           0.3,
           6.690385680952497,
           0.35295301492382125,
           0.2,
           0.3,
           18.17423735235338,
           18.17423735235338,
           0.9587865593035604,
           1,
           1
          ],
          [
           9.385072130432617,
           0.5696949029899167,
           0.4,
           0.4,
           9.385072130432617,
           0.5696949029899167,
           0.4,
           0.4,
           9.385072130432617,
           9.385072130432617,
           0.5696949029899167,
           0.4,
           0.4
          ],
          [
           0,
           0,
           0,
           0,
           15.470566818143665,
           0.6334167424239648,
           0.8,
           0.8,
           16.626826123415217,
           18.17423735235338,
           0.6807578651605644,
           0.9,
           0.9
          ],
          [
           0.31546487678572877,
           0.015110214571816376,
           0,
           0.1,
           0.31546487678572877,
           0.015110214571816376,
           0,
           0.1,
           0.5,
           3.02371901428583,
           0.0239491234741793,
           0,
           0.1
          ],
          [
           10.279550994407543,
           0.546164971470979,
           0.6,
           0.6,
           10.279550994407543,
           0.546164971470979,
           0.6,
           0.6,
           10.344157669746249,
           14.728059224202315,
           0.5495976022359215,
           0.6,
           0.6
          ],
          [
           8.757818498799,
           0.358574377361775,
           0.5,
           0.5,
           10.757818498799,
           0.4404610657901657,
           0.5,
           0.5,
           11.637127619330546,
           18.17423735235338,
           0.4764629217827701,
           0.6,
           0.6
          ],
          [
           11.593149298649742,
           0.5443019058264909,
           0.7,
           0.7,
           11.593149298649742,
           0.5443019058264909,
           0.7,
           0.7,
           14.344492172257391,
           17.543307598781922,
           0.673478295356918,
           0.8,
           0.8
          ],
          [
           0,
           0,
           0,
           0,
           5.333333333333333,
           0.265090358377816,
           0.2,
           0.2,
           15.813858064425906,
           15.813858064425906,
           0.7860189940564837,
           0.8,
           0.8
          ]
         ],
         "hovertemplate": "dcg_difference=%{x}<br>query=%{y}<br>linear_model dcg=%{customdata[0]}<br>linear_model ndcg=%{customdata[1]}<br>linear_model prec@10=%{customdata[2]}<br>linear_model ratio_of_ratings=%{customdata[3]}<br>random_forest dcg=%{customdata[4]}<br>random_forest ndcg=%{customdata[5]}<br>random_forest prec@10=%{customdata[6]}<br>random_forest ratio_of_ratings=%{customdata[7]}<br>dcg=%{customdata[8]}<br>dcg_dense=%{customdata[9]}<br>ndcg=%{customdata[10]}<br>prec@10=%{customdata[11]}<br>ratio_of_ratings=%{customdata[12]}<extra></extra>",
         "legendgroup": "",
         "marker": {
          "color": "#636efa",
          "pattern": {
           "shape": ""
          }
         },
         "name": "",
         "offsetgroup": "",
         "orientation": "h",
         "showlegend": false,
         "textposition": "auto",
         "type": "bar",
         "x": [
          0,
          3.270117461231738,
          0,
          0,
          0,
          0,
          0,
          0,
          0,
          0,
          0,
          0,
          0,
          0,
          -2.7860011702414584,
          0,
          -1.22773313146197,
          0,
          0,
          0,
          0,
          0,
          0,
          0,
          0,
          0,
          0,
          0,
          0,
          0,
          0,
          0,
          0,
          4,
          0,
          0,
          0,
          0,
          15.470566818143665,
          0,
          0,
          2,
          0,
          5.333333333333333
         ],
         "xaxis": "x",
         "y": [
          "7 days without a pun makes one weak",
          "american flag 5x8 outdoor made in usa",
          "andis t edger",
          "backpacks lunchbox combo",
          "best ride on cars mercedes 3-in-1 push car in white",
          "bookshelf 4 tier",
          "coil incense",
          "cousin it costume",
          "dji goggles",
          "do not enter tape",
          "eye mask without strap",
          "fabric aprons",
          "four paws magic coat instant dog mat remover",
          "galaxy 8 note case",
          "golf sets for men left handed",
          "halloween glow bracelets kids",
          "heavy duty plastic folders with pockets",
          "helen kaminski hats",
          "hug machine",
          "if lost or drunk please return to bestie",
          "jobs evergreen tree spikes",
          "kid animal plates",
          "kobe baby jersey",
          "lights bulbs color changing",
          "mary meyer baby mat",
          "moto play screen protector",
          "neuroquell for neuropathy",
          "organicbone broth",
          "panties",
          "patio chair swing",
          "play kitchen for toddlers accessories",
          "posh moomy",
          "rose petals for romantic night",
          "runtz",
          "slarm window sensor",
          "stuffed animal washer bag",
          "sundiata",
          "sushi go card game",
          "tetley",
          "the first years gate parts",
          "ultra fast keto boost 800mg",
          "wiggle scooters for kids",
          "winter cycling shoe covers",
          "wowled"
         ],
         "yaxis": "y"
        }
       ],
       "layout": {
        "autosize": true,
        "barmode": "relative",
        "legend": {
         "tracegroupgap": 0
        },
        "template": {
         "data": {
          "bar": [
           {
            "error_x": {
             "color": "#2a3f5f"
            },
            "error_y": {
             "color": "#2a3f5f"
            },
            "marker": {
             "line": {
              "color": "#E5ECF6",
              "width": 0.5
             },
             "pattern": {
              "fillmode": "overlay",
              "size": 10,
              "solidity": 0.2
             }
            },
            "type": "bar"
           }
          ],
          "barpolar": [
           {
            "marker": {
             "line": {
              "color": "#E5ECF6",
              "width": 0.5
             },
             "pattern": {
              "fillmode": "overlay",
              "size": 10,
              "solidity": 0.2
             }
            },
            "type": "barpolar"
           }
          ],
          "carpet": [
           {
            "aaxis": {
             "endlinecolor": "#2a3f5f",
             "gridcolor": "white",
             "linecolor": "white",
             "minorgridcolor": "white",
             "startlinecolor": "#2a3f5f"
            },
            "baxis": {
             "endlinecolor": "#2a3f5f",
             "gridcolor": "white",
             "linecolor": "white",
             "minorgridcolor": "white",
             "startlinecolor": "#2a3f5f"
            },
            "type": "carpet"
           }
          ],
          "choropleth": [
           {
            "colorbar": {
             "outlinewidth": 0,
             "ticks": ""
            },
            "type": "choropleth"
           }
          ],
          "contour": [
           {
            "colorbar": {
             "outlinewidth": 0,
             "ticks": ""
            },
            "colorscale": [
             [
              0,
              "#0d0887"
             ],
             [
              0.1111111111111111,
              "#46039f"
             ],
             [
              0.2222222222222222,
              "#7201a8"
             ],
             [
              0.3333333333333333,
              "#9c179e"
             ],
             [
              0.4444444444444444,
              "#bd3786"
             ],
             [
              0.5555555555555556,
              "#d8576b"
             ],
             [
              0.6666666666666666,
              "#ed7953"
             ],
             [
              0.7777777777777778,
              "#fb9f3a"
             ],
             [
              0.8888888888888888,
              "#fdca26"
             ],
             [
              1,
              "#f0f921"
             ]
            ],
            "type": "contour"
           }
          ],
          "contourcarpet": [
           {
            "colorbar": {
             "outlinewidth": 0,
             "ticks": ""
            },
            "type": "contourcarpet"
           }
          ],
          "heatmap": [
           {
            "colorbar": {
             "outlinewidth": 0,
             "ticks": ""
            },
            "colorscale": [
             [
              0,
              "#0d0887"
             ],
             [
              0.1111111111111111,
              "#46039f"
             ],
             [
              0.2222222222222222,
              "#7201a8"
             ],
             [
              0.3333333333333333,
              "#9c179e"
             ],
             [
              0.4444444444444444,
              "#bd3786"
             ],
             [
              0.5555555555555556,
              "#d8576b"
             ],
             [
              0.6666666666666666,
              "#ed7953"
             ],
             [
              0.7777777777777778,
              "#fb9f3a"
             ],
             [
              0.8888888888888888,
              "#fdca26"
             ],
             [
              1,
              "#f0f921"
             ]
            ],
            "type": "heatmap"
           }
          ],
          "heatmapgl": [
           {
            "colorbar": {
             "outlinewidth": 0,
             "ticks": ""
            },
            "colorscale": [
             [
              0,
              "#0d0887"
             ],
             [
              0.1111111111111111,
              "#46039f"
             ],
             [
              0.2222222222222222,
              "#7201a8"
             ],
             [
              0.3333333333333333,
              "#9c179e"
             ],
             [
              0.4444444444444444,
              "#bd3786"
             ],
             [
              0.5555555555555556,
              "#d8576b"
             ],
             [
              0.6666666666666666,
              "#ed7953"
             ],
             [
              0.7777777777777778,
              "#fb9f3a"
             ],
             [
              0.8888888888888888,
              "#fdca26"
             ],
             [
              1,
              "#f0f921"
             ]
            ],
            "type": "heatmapgl"
           }
          ],
          "histogram": [
           {
            "marker": {
             "pattern": {
              "fillmode": "overlay",
              "size": 10,
              "solidity": 0.2
             }
            },
            "type": "histogram"
           }
          ],
          "histogram2d": [
           {
            "colorbar": {
             "outlinewidth": 0,
             "ticks": ""
            },
            "colorscale": [
             [
              0,
              "#0d0887"
             ],
             [
              0.1111111111111111,
              "#46039f"
             ],
             [
              0.2222222222222222,
              "#7201a8"
             ],
             [
              0.3333333333333333,
              "#9c179e"
             ],
             [
              0.4444444444444444,
              "#bd3786"
             ],
             [
              0.5555555555555556,
              "#d8576b"
             ],
             [
              0.6666666666666666,
              "#ed7953"
             ],
             [
              0.7777777777777778,
              "#fb9f3a"
             ],
             [
              0.8888888888888888,
              "#fdca26"
             ],
             [
              1,
              "#f0f921"
             ]
            ],
            "type": "histogram2d"
           }
          ],
          "histogram2dcontour": [
           {
            "colorbar": {
             "outlinewidth": 0,
             "ticks": ""
            },
            "colorscale": [
             [
              0,
              "#0d0887"
             ],
             [
              0.1111111111111111,
              "#46039f"
             ],
             [
              0.2222222222222222,
              "#7201a8"
             ],
             [
              0.3333333333333333,
              "#9c179e"
             ],
             [
              0.4444444444444444,
              "#bd3786"
             ],
             [
              0.5555555555555556,
              "#d8576b"
             ],
             [
              0.6666666666666666,
              "#ed7953"
             ],
             [
              0.7777777777777778,
              "#fb9f3a"
             ],
             [
              0.8888888888888888,
              "#fdca26"
             ],
             [
              1,
              "#f0f921"
             ]
            ],
            "type": "histogram2dcontour"
           }
          ],
          "mesh3d": [
           {
            "colorbar": {
             "outlinewidth": 0,
             "ticks": ""
            },
            "type": "mesh3d"
           }
          ],
          "parcoords": [
           {
            "line": {
             "colorbar": {
              "outlinewidth": 0,
              "ticks": ""
             }
            },
            "type": "parcoords"
           }
          ],
          "pie": [
           {
            "automargin": true,
            "type": "pie"
           }
          ],
          "scatter": [
           {
            "fillpattern": {
             "fillmode": "overlay",
             "size": 10,
             "solidity": 0.2
            },
            "type": "scatter"
           }
          ],
          "scatter3d": [
           {
            "line": {
             "colorbar": {
              "outlinewidth": 0,
              "ticks": ""
             }
            },
            "marker": {
             "colorbar": {
              "outlinewidth": 0,
              "ticks": ""
             }
            },
            "type": "scatter3d"
           }
          ],
          "scattercarpet": [
           {
            "marker": {
             "colorbar": {
              "outlinewidth": 0,
              "ticks": ""
             }
            },
            "type": "scattercarpet"
           }
          ],
          "scattergeo": [
           {
            "marker": {
             "colorbar": {
              "outlinewidth": 0,
              "ticks": ""
             }
            },
            "type": "scattergeo"
           }
          ],
          "scattergl": [
           {
            "marker": {
             "colorbar": {
              "outlinewidth": 0,
              "ticks": ""
             }
            },
            "type": "scattergl"
           }
          ],
          "scattermapbox": [
           {
            "marker": {
             "colorbar": {
              "outlinewidth": 0,
              "ticks": ""
             }
            },
            "type": "scattermapbox"
           }
          ],
          "scatterpolar": [
           {
            "marker": {
             "colorbar": {
              "outlinewidth": 0,
              "ticks": ""
             }
            },
            "type": "scatterpolar"
           }
          ],
          "scatterpolargl": [
           {
            "marker": {
             "colorbar": {
              "outlinewidth": 0,
              "ticks": ""
             }
            },
            "type": "scatterpolargl"
           }
          ],
          "scatterternary": [
           {
            "marker": {
             "colorbar": {
              "outlinewidth": 0,
              "ticks": ""
             }
            },
            "type": "scatterternary"
           }
          ],
          "surface": [
           {
            "colorbar": {
             "outlinewidth": 0,
             "ticks": ""
            },
            "colorscale": [
             [
              0,
              "#0d0887"
             ],
             [
              0.1111111111111111,
              "#46039f"
             ],
             [
              0.2222222222222222,
              "#7201a8"
             ],
             [
              0.3333333333333333,
              "#9c179e"
             ],
             [
              0.4444444444444444,
              "#bd3786"
             ],
             [
              0.5555555555555556,
              "#d8576b"
             ],
             [
              0.6666666666666666,
              "#ed7953"
             ],
             [
              0.7777777777777778,
              "#fb9f3a"
             ],
             [
              0.8888888888888888,
              "#fdca26"
             ],
             [
              1,
              "#f0f921"
             ]
            ],
            "type": "surface"
           }
          ],
          "table": [
           {
            "cells": {
             "fill": {
              "color": "#EBF0F8"
             },
             "line": {
              "color": "white"
             }
            },
            "header": {
             "fill": {
              "color": "#C8D4E3"
             },
             "line": {
              "color": "white"
             }
            },
            "type": "table"
           }
          ]
         },
         "layout": {
          "annotationdefaults": {
           "arrowcolor": "#2a3f5f",
           "arrowhead": 0,
           "arrowwidth": 1
          },
          "autotypenumbers": "strict",
          "coloraxis": {
           "colorbar": {
            "outlinewidth": 0,
            "ticks": ""
           }
          },
          "colorscale": {
           "diverging": [
            [
             0,
             "#8e0152"
            ],
            [
             0.1,
             "#c51b7d"
            ],
            [
             0.2,
             "#de77ae"
            ],
            [
             0.3,
             "#f1b6da"
            ],
            [
             0.4,
             "#fde0ef"
            ],
            [
             0.5,
             "#f7f7f7"
            ],
            [
             0.6,
             "#e6f5d0"
            ],
            [
             0.7,
             "#b8e186"
            ],
            [
             0.8,
             "#7fbc41"
            ],
            [
             0.9,
             "#4d9221"
            ],
            [
             1,
             "#276419"
            ]
           ],
           "sequential": [
            [
             0,
             "#0d0887"
            ],
            [
             0.1111111111111111,
             "#46039f"
            ],
            [
             0.2222222222222222,
             "#7201a8"
            ],
            [
             0.3333333333333333,
             "#9c179e"
            ],
            [
             0.4444444444444444,
             "#bd3786"
            ],
            [
             0.5555555555555556,
             "#d8576b"
            ],
            [
             0.6666666666666666,
             "#ed7953"
            ],
            [
             0.7777777777777778,
             "#fb9f3a"
            ],
            [
             0.8888888888888888,
             "#fdca26"
            ],
            [
             1,
             "#f0f921"
            ]
           ],
           "sequentialminus": [
            [
             0,
             "#0d0887"
            ],
            [
             0.1111111111111111,
             "#46039f"
            ],
            [
             0.2222222222222222,
             "#7201a8"
            ],
            [
             0.3333333333333333,
             "#9c179e"
            ],
            [
             0.4444444444444444,
             "#bd3786"
            ],
            [
             0.5555555555555556,
             "#d8576b"
            ],
            [
             0.6666666666666666,
             "#ed7953"
            ],
            [
             0.7777777777777778,
             "#fb9f3a"
            ],
            [
             0.8888888888888888,
             "#fdca26"
            ],
            [
             1,
             "#f0f921"
            ]
           ]
          },
          "colorway": [
           "#636efa",
           "#EF553B",
           "#00cc96",
           "#ab63fa",
           "#FFA15A",
           "#19d3f3",
           "#FF6692",
           "#B6E880",
           "#FF97FF",
           "#FECB52"
          ],
          "font": {
           "color": "#2a3f5f"
          },
          "geo": {
           "bgcolor": "white",
           "lakecolor": "white",
           "landcolor": "#E5ECF6",
           "showlakes": true,
           "showland": true,
           "subunitcolor": "white"
          },
          "hoverlabel": {
           "align": "left"
          },
          "hovermode": "closest",
          "mapbox": {
           "style": "light"
          },
          "paper_bgcolor": "white",
          "plot_bgcolor": "#E5ECF6",
          "polar": {
           "angularaxis": {
            "gridcolor": "white",
            "linecolor": "white",
            "ticks": ""
           },
           "bgcolor": "#E5ECF6",
           "radialaxis": {
            "gridcolor": "white",
            "linecolor": "white",
            "ticks": ""
           }
          },
          "scene": {
           "xaxis": {
            "backgroundcolor": "#E5ECF6",
            "gridcolor": "white",
            "gridwidth": 2,
            "linecolor": "white",
            "showbackground": true,
            "ticks": "",
            "zerolinecolor": "white"
           },
           "yaxis": {
            "backgroundcolor": "#E5ECF6",
            "gridcolor": "white",
            "gridwidth": 2,
            "linecolor": "white",
            "showbackground": true,
            "ticks": "",
            "zerolinecolor": "white"
           },
           "zaxis": {
            "backgroundcolor": "#E5ECF6",
            "gridcolor": "white",
            "gridwidth": 2,
            "linecolor": "white",
            "showbackground": true,
            "ticks": "",
            "zerolinecolor": "white"
           }
          },
          "shapedefaults": {
           "line": {
            "color": "#2a3f5f"
           }
          },
          "ternary": {
           "aaxis": {
            "gridcolor": "white",
            "linecolor": "white",
            "ticks": ""
           },
           "baxis": {
            "gridcolor": "white",
            "linecolor": "white",
            "ticks": ""
           },
           "bgcolor": "#E5ECF6",
           "caxis": {
            "gridcolor": "white",
            "linecolor": "white",
            "ticks": ""
           }
          },
          "title": {
           "x": 0.05
          },
          "xaxis": {
           "automargin": true,
           "gridcolor": "white",
           "linecolor": "white",
           "ticks": "",
           "title": {
            "standoff": 15
           },
           "zerolinecolor": "white",
           "zerolinewidth": 2
          },
          "yaxis": {
           "automargin": true,
           "gridcolor": "white",
           "linecolor": "white",
           "ticks": "",
           "title": {
            "standoff": 15
           },
           "zerolinecolor": "white",
           "zerolinewidth": 2
          }
         }
        },
        "title": {
         "text": "DCG Difference Linear Model and Random Forest Model"
        },
        "xaxis": {
         "anchor": "y",
         "autorange": true,
         "domain": [
          0,
          1
         ],
         "range": [
          -3.800254947373965,
          16.484820595276172
         ],
         "title": {
          "text": "dcg_difference"
         },
         "type": "linear"
        },
        "yaxis": {
         "anchor": "x",
         "autorange": true,
         "domain": [
          0,
          1
         ],
         "range": [
          -0.5,
          43.5
         ],
         "title": {
          "text": "query"
         },
         "type": "category"
        }
       }
      },
      "image/png": "[encoded data removed]",
      "text/html": [
       "<div>                            <div id=\"3bee486b-24d5-4bc0-bf2d-a7b7ebe1504a\" class=\"plotly-graph-div\" style=\"height:1000px; width:100%;\"></div>            <script type=\"text/javascript\">                require([\"plotly\"], function(Plotly) {                    window.PLOTLYENV=window.PLOTLYENV || {};                                    if (document.getElementById(\"3bee486b-24d5-4bc0-bf2d-a7b7ebe1504a\")) {                    Plotly.newPlot(                        \"3bee486b-24d5-4bc0-bf2d-a7b7ebe1504a\",                        [{\"alignmentgroup\":\"True\",\"customdata\":[[15.650518338067553,0.6640659408521532,0.9,0.9,15.650518338067553,0.6640659408521532,0.9,0.9,15.650518338067553,18.17423735235338,0.6640659408521532,0.9,0.9],[8.523719014285831,0.3489895615869866,0.3,0.3,11.793836475517569,0.48287910642304827,0.5,0.5,14.55199855728299,18.17423735235338,0.5958074859353115,0.7,0.7],[6.0,0.283827920583421,0.2,0.2,6.0,0.283827920583421,0.2,0.2,6.52371901428583,14.65329964272228,0.308602267049212,0.2,0.2],[0.6309297535714575,0.04439416571845614,0.1,0.1,0.6309297535714575,0.04439416571845614,0.1,0.1,1.2041199826559248,7.123212623289701,0.0847256001992896,0.1,0.1],[9.785578521428747,0.4268932385479575,0.4,0.4,9.785578521428747,0.4268932385479575,0.4,0.4,9.785578521428748,17.572177361025417,0.4268932385479575,0.4,0.4],[1.3333333333333333,0.056895702836502485,0.1,0.1,1.3333333333333333,0.056895702836502485,0.1,0.1,7.333333333333333,18.17423735235338,0.3129263656007636,0.3,0.3],[18.17423735235338,0.7441140557478906,1.0,1.0,18.17423735235338,0.7441140557478906,1.0,1.0,18.17423735235338,18.17423735235338,0.7441140557478906,1.0,1.0],[5.5474112289381665,0.43116905701454383,0.2,0.2,5.5474112289381665,0.43116905701454383,0.2,0.2,7.948547762717919,10.246425246579404,0.6177958874958227,0.3,0.3],[13.358488663847371,0.5425438628684552,0.7,0.9,13.358488663847371,0.5425438628684552,0.7,0.9,13.622765437410264,15.400988038505483,0.5532772433580658,0.7,0.9],[6.58108805370364,0.2749602024444795,0.3,0.3,6.58108805370364,0.2749602024444795,0.3,0.3,11.567432817846504,18.17423735235338,0.4832914623544739,0.7,0.7],[0.0,0.0,0.0,0.0,0.0,0.0,0.0,0.0,13.85633827958356,16.912377845210468,0.3751620967651038,0.8,0.8],[0.0,0.0,0.0,0.0,0.0,0.0,0.0,0.0,5.914421387036973,14.551998557282992,0.2421561906772534,0.4,0.4],[16.043307598781926,0.5021885990757317,0.9,1.0,16.043307598781926,0.5021885990757317,0.9,1.0,16.043307598781926,16.043307598781926,0.5021885990757317,0.9,1.0],[1.1562593052715515,0.0473411227365995,0.1,0.1,1.1562593052715515,0.0473411227365995,0.1,0.1,1.3333333333333333,18.17423735235338,0.0545911256189271,0.1,0.1],[5.204119982655925,0.21307407578185383,0.2,0.2,2.4181188124144666,0.09900587088750676,0.2,0.2,5.204119982655925,18.17423735235338,0.2130740757818538,0.2,0.2],[1.3333333333333333,0.05459112561892712,0.1,0.1,1.3333333333333333,0.05459112561892712,0.1,0.1,1.7227062322935722,15.813858064425906,0.0705333542487352,0.1,0.1],[4.212298870898457,0.17599134684835033,0.3,0.3,2.984565739436487,0.12469621941351844,0.2,0.2,8.083085520221049,18.17423735235338,0.3377141914649278,0.4,0.4],[0.0,0.0,0.0,0.0,0.0,0.0,0.0,0.0,1.1562593052715515,4.0,0.0483089255243834,0.1,0.1],[5.0396944362254255,0.5544928869275813,0.1,0.4,5.0396944362254255,0.5544928869275813,0.1,0.4,5.0396944362254255,5.096268032608155,0.5544928869275813,0.1,0.4],[18.17423735235338,0.7441140557478906,1.0,1.0,18.17423735235338,0.7441140557478906,1.0,1.0,18.17423735235338,18.17423735235338,0.7441140557478906,1.0,1.0],[16.994047708389644,0.8201370158377279,1.0,1.0,16.994047708389644,0.8201370158377279,1.0,1.0,16.994047708389644,16.994047708389644,0.8201370158377279,1.0,1.0],[6.666666666666667,0.3050128638003318,0.3,0.3,6.666666666666667,0.3050128638003318,0.3,0.3,6.666666666666667,12.218665223949658,0.3050128638003318,0.3,0.3],[8.523719014285831,0.3489895615869866,0.3,0.3,8.523719014285831,0.3489895615869866,0.3,0.3,8.523719014285831,18.17423735235338,0.3489895615869866,0.3,0.3],[0.0,0.0,0.0,0.0,0.0,0.0,0.0,0.0,5.2618595071429155,18.17423735235338,0.2154381250076886,0.3,0.3],[15.813858064425906,0.7860189940564837,0.8,0.8,15.813858064425906,0.7860189940564837,0.8,0.8,16.415918055753867,16.994047708389644,0.8159440500938725,0.9,0.9],[8.523719014285831,0.37561473645734933,0.3,0.3,8.523719014285831,0.37561473645734933,0.3,0.3,15.708257862554545,18.17423735235338,0.6922158188648209,0.8,0.8],[2.4087643450849527,0.10022579111902698,0.2,0.2,2.4087643450849527,0.10022579111902698,0.2,0.2,2.4087643450849527,12.061392557535653,0.1002257911190269,0.2,0.2],[7.333333333333333,0.34430224321006225,0.3,0.3,7.333333333333333,0.34430224321006225,0.3,0.3,7.333333333333333,16.96517794614615,0.3443022432100622,0.3,0.3],[0.0,0.0,0.0,0.0,0.0,0.0,0.0,0.0,0.0,0.0,0.0,0.0,0.0],[1.4248287484320887,0.05833725389333615,0.1,0.1,1.4248287484320887,0.05833725389333615,0.1,0.1,5.061172330275088,18.17423735235338,0.2072213208458141,0.3,0.3],[1.2041199826559248,0.04930069892507245,0.1,0.1,1.2041199826559248,0.04930069892507245,0.1,0.1,4.52371901428583,17.01797804708183,0.1852161847302052,0.2,0.2],[0.0,0.0,0.0,0.0,0.0,0.0,0.0,0.0,0.0,0.0,0.0,0.0,0.0],[4.6949462096638275,0.19615652453527263,0.3,0.3,4.6949462096638275,0.19615652453527263,0.3,0.3,4.6949462096638275,17.572177361025417,0.1961565245352726,0.3,0.3],[0.0,0.0,0.0,0.0,4.0,0.19221699294337333,0.1,0.1,10.922917465165648,15.63889700619912,0.5248925873306987,0.7,0.7],[3.261859507142915,0.13628165177409043,0.2,0.2,3.261859507142915,0.13628165177409043,0.2,0.2,3.261859507142915,7.2618595071429155,0.1362816517740904,0.2,0.2],[4.0,0.19159298779343467,0.1,0.1,4.0,0.19159298779343467,0.1,0.1,4.0,8.523719014285831,0.1915929877934346,0.1,0.1],[6.690385680952497,0.35295301492382125,0.2,0.3,6.690385680952497,0.35295301492382125,0.2,0.3,18.17423735235338,18.17423735235338,0.9587865593035604,1.0,1.0],[9.385072130432617,0.5696949029899167,0.4,0.4,9.385072130432617,0.5696949029899167,0.4,0.4,9.385072130432617,9.385072130432617,0.5696949029899167,0.4,0.4],[0.0,0.0,0.0,0.0,15.470566818143665,0.6334167424239648,0.8,0.8,16.626826123415217,18.17423735235338,0.6807578651605644,0.9,0.9],[0.31546487678572877,0.015110214571816376,0.0,0.1,0.31546487678572877,0.015110214571816376,0.0,0.1,0.5,3.02371901428583,0.0239491234741793,0.0,0.1],[10.279550994407543,0.546164971470979,0.6,0.6,10.279550994407543,0.546164971470979,0.6,0.6,10.344157669746249,14.728059224202315,0.5495976022359215,0.6,0.6],[8.757818498799,0.358574377361775,0.5,0.5,10.757818498799,0.4404610657901657,0.5,0.5,11.637127619330546,18.17423735235338,0.4764629217827701,0.6,0.6],[11.593149298649742,0.5443019058264909,0.7,0.7,11.593149298649742,0.5443019058264909,0.7,0.7,14.344492172257391,17.543307598781922,0.673478295356918,0.8,0.8],[0.0,0.0,0.0,0.0,5.333333333333333,0.265090358377816,0.2,0.2,15.813858064425906,15.813858064425906,0.7860189940564837,0.8,0.8]],\"hovertemplate\":\"dcg_difference=%{x}\\u003cbr\\u003equery=%{y}\\u003cbr\\u003elinear_model dcg=%{customdata[0]}\\u003cbr\\u003elinear_model ndcg=%{customdata[1]}\\u003cbr\\u003elinear_model prec@10=%{customdata[2]}\\u003cbr\\u003elinear_model ratio_of_ratings=%{customdata[3]}\\u003cbr\\u003erandom_forest dcg=%{customdata[4]}\\u003cbr\\u003erandom_forest ndcg=%{customdata[5]}\\u003cbr\\u003erandom_forest prec@10=%{customdata[6]}\\u003cbr\\u003erandom_forest ratio_of_ratings=%{customdata[7]}\\u003cbr\\u003edcg=%{customdata[8]}\\u003cbr\\u003edcg_dense=%{customdata[9]}\\u003cbr\\u003endcg=%{customdata[10]}\\u003cbr\\u003eprec@10=%{customdata[11]}\\u003cbr\\u003eratio_of_ratings=%{customdata[12]}\\u003cextra\\u003e\\u003c\\u002fextra\\u003e\",\"legendgroup\":\"\",\"marker\":{\"color\":\"#636efa\",\"pattern\":{\"shape\":\"\"}},\"name\":\"\",\"offsetgroup\":\"\",\"orientation\":\"h\",\"showlegend\":false,\"textposition\":\"auto\",\"x\":[0.0,3.270117461231738,0.0,0.0,0.0,0.0,0.0,0.0,0.0,0.0,0.0,0.0,0.0,0.0,-2.7860011702414584,0.0,-1.22773313146197,0.0,0.0,0.0,0.0,0.0,0.0,0.0,0.0,0.0,0.0,0.0,0.0,0.0,0.0,0.0,0.0,4.0,0.0,0.0,0.0,0.0,15.470566818143665,0.0,0.0,2.0,0.0,5.333333333333333],\"xaxis\":\"x\",\"y\":[\"7 days without a pun makes one weak\",\"american flag 5x8 outdoor made in usa\",\"andis t edger\",\"backpacks lunchbox combo\",\"best ride on cars mercedes 3-in-1 push car in white\",\"bookshelf 4 tier\",\"coil incense\",\"cousin it costume\",\"dji goggles\",\"do not enter tape\",\"eye mask without strap\",\"fabric aprons\",\"four paws magic coat instant dog mat remover\",\"galaxy 8 note case\",\"golf sets for men left handed\",\"halloween glow bracelets kids\",\"heavy duty plastic folders with pockets\",\"helen kaminski hats\",\"hug machine\",\"if lost or drunk please return to bestie\",\"jobs evergreen tree spikes\",\"kid animal plates\",\"kobe baby jersey\",\"lights bulbs color changing\",\"mary meyer baby mat\",\"moto play screen protector\",\"neuroquell for neuropathy\",\"organicbone broth\",\"panties\",\"patio chair swing\",\"play kitchen for toddlers accessories\",\"posh moomy\",\"rose petals for romantic night\",\"runtz\",\"slarm window sensor\",\"stuffed animal washer bag\",\"sundiata\",\"sushi go card game\",\"tetley\",\"the first years gate parts\",\"ultra fast keto boost 800mg\",\"wiggle scooters for kids\",\"winter cycling shoe covers\",\"wowled\"],\"yaxis\":\"y\",\"type\":\"bar\"}],                        {\"template\":{\"data\":{\"histogram2dcontour\":[{\"type\":\"histogram2dcontour\",\"colorbar\":{\"outlinewidth\":0,\"ticks\":\"\"},\"colorscale\":[[0.0,\"#0d0887\"],[0.1111111111111111,\"#46039f\"],[0.2222222222222222,\"#7201a8\"],[0.3333333333333333,\"#9c179e\"],[0.4444444444444444,\"#bd3786\"],[0.5555555555555556,\"#d8576b\"],[0.6666666666666666,\"#ed7953\"],[0.7777777777777778,\"#fb9f3a\"],[0.8888888888888888,\"#fdca26\"],[1.0,\"#f0f921\"]]}],\"choropleth\":[{\"type\":\"choropleth\",\"colorbar\":{\"outlinewidth\":0,\"ticks\":\"\"}}],\"histogram2d\":[{\"type\":\"histogram2d\",\"colorbar\":{\"outlinewidth\":0,\"ticks\":\"\"},\"colorscale\":[[0.0,\"#0d0887\"],[0.1111111111111111,\"#46039f\"],[0.2222222222222222,\"#7201a8\"],[0.3333333333333333,\"#9c179e\"],[0.4444444444444444,\"#bd3786\"],[0.5555555555555556,\"#d8576b\"],[0.6666666666666666,\"#ed7953\"],[0.7777777777777778,\"#fb9f3a\"],[0.8888888888888888,\"#fdca26\"],[1.0,\"#f0f921\"]]}],\"heatmap\":[{\"type\":\"heatmap\",\"colorbar\":{\"outlinewidth\":0,\"ticks\":\"\"},\"colorscale\":[[0.0,\"#0d0887\"],[0.1111111111111111,\"#46039f\"],[0.2222222222222222,\"#7201a8\"],[0.3333333333333333,\"#9c179e\"],[0.4444444444444444,\"#bd3786\"],[0.5555555555555556,\"#d8576b\"],[0.6666666666666666,\"#ed7953\"],[0.7777777777777778,\"#fb9f3a\"],[0.8888888888888888,\"#fdca26\"],[1.0,\"#f0f921\"]]}],\"heatmapgl\":[{\"type\":\"heatmapgl\",\"colorbar\":{\"outlinewidth\":0,\"ticks\":\"\"},\"colorscale\":[[0.0,\"#0d0887\"],[0.1111111111111111,\"#46039f\"],[0.2222222222222222,\"#7201a8\"],[0.3333333333333333,\"#9c179e\"],[0.4444444444444444,\"#bd3786\"],[0.5555555555555556,\"#d8576b\"],[0.6666666666666666,\"#ed7953\"],[0.7777777777777778,\"#fb9f3a\"],[0.8888888888888888,\"#fdca26\"],[1.0,\"#f0f921\"]]}],\"contourcarpet\":[{\"type\":\"contourcarpet\",\"colorbar\":{\"outlinewidth\":0,\"ticks\":\"\"}}],\"contour\":[{\"type\":\"contour\",\"colorbar\":{\"outlinewidth\":0,\"ticks\":\"\"},\"colorscale\":[[0.0,\"#0d0887\"],[0.1111111111111111,\"#46039f\"],[0.2222222222222222,\"#7201a8\"],[0.3333333333333333,\"#9c179e\"],[0.4444444444444444,\"#bd3786\"],[0.5555555555555556,\"#d8576b\"],[0.6666666666666666,\"#ed7953\"],[0.7777777777777778,\"#fb9f3a\"],[0.8888888888888888,\"#fdca26\"],[1.0,\"#f0f921\"]]}],\"surface\":[{\"type\":\"surface\",\"colorbar\":{\"outlinewidth\":0,\"ticks\":\"\"},\"colorscale\":[[0.0,\"#0d0887\"],[0.1111111111111111,\"#46039f\"],[0.2222222222222222,\"#7201a8\"],[0.3333333333333333,\"#9c179e\"],[0.4444444444444444,\"#bd3786\"],[0.5555555555555556,\"#d8576b\"],[0.6666666666666666,\"#ed7953\"],[0.7777777777777778,\"#fb9f3a\"],[0.8888888888888888,\"#fdca26\"],[1.0,\"#f0f921\"]]}],\"mesh3d\":[{\"type\":\"mesh3d\",\"colorbar\":{\"outlinewidth\":0,\"ticks\":\"\"}}],\"scatter\":[{\"fillpattern\":{\"fillmode\":\"overlay\",\"size\":10,\"solidity\":0.2},\"type\":\"scatter\"}],\"parcoords\":[{\"type\":\"parcoords\",\"line\":{\"colorbar\":{\"outlinewidth\":0,\"ticks\":\"\"}}}],\"scatterpolargl\":[{\"type\":\"scatterpolargl\",\"marker\":{\"colorbar\":{\"outlinewidth\":0,\"ticks\":\"\"}}}],\"bar\":[{\"error_x\":{\"color\":\"#2a3f5f\"},\"error_y\":{\"color\":\"#2a3f5f\"},\"marker\":{\"line\":{\"color\":\"#E5ECF6\",\"width\":0.5},\"pattern\":{\"fillmode\":\"overlay\",\"size\":10,\"solidity\":0.2}},\"type\":\"bar\"}],\"scattergeo\":[{\"type\":\"scattergeo\",\"marker\":{\"colorbar\":{\"outlinewidth\":0,\"ticks\":\"\"}}}],\"scatterpolar\":[{\"type\":\"scatterpolar\",\"marker\":{\"colorbar\":{\"outlinewidth\":0,\"ticks\":\"\"}}}],\"histogram\":[{\"marker\":{\"pattern\":{\"fillmode\":\"overlay\",\"size\":10,\"solidity\":0.2}},\"type\":\"histogram\"}],\"scattergl\":[{\"type\":\"scattergl\",\"marker\":{\"colorbar\":{\"outlinewidth\":0,\"ticks\":\"\"}}}],\"scatter3d\":[{\"type\":\"scatter3d\",\"line\":{\"colorbar\":{\"outlinewidth\":0,\"ticks\":\"\"}},\"marker\":{\"colorbar\":{\"outlinewidth\":0,\"ticks\":\"\"}}}],\"scattermapbox\":[{\"type\":\"scattermapbox\",\"marker\":{\"colorbar\":{\"outlinewidth\":0,\"ticks\":\"\"}}}],\"scatterternary\":[{\"type\":\"scatterternary\",\"marker\":{\"colorbar\":{\"outlinewidth\":0,\"ticks\":\"\"}}}],\"scattercarpet\":[{\"type\":\"scattercarpet\",\"marker\":{\"colorbar\":{\"outlinewidth\":0,\"ticks\":\"\"}}}],\"carpet\":[{\"aaxis\":{\"endlinecolor\":\"#2a3f5f\",\"gridcolor\":\"white\",\"linecolor\":\"white\",\"minorgridcolor\":\"white\",\"startlinecolor\":\"#2a3f5f\"},\"baxis\":{\"endlinecolor\":\"#2a3f5f\",\"gridcolor\":\"white\",\"linecolor\":\"white\",\"minorgridcolor\":\"white\",\"startlinecolor\":\"#2a3f5f\"},\"type\":\"carpet\"}],\"table\":[{\"cells\":{\"fill\":{\"color\":\"#EBF0F8\"},\"line\":{\"color\":\"white\"}},\"header\":{\"fill\":{\"color\":\"#C8D4E3\"},\"line\":{\"color\":\"white\"}},\"type\":\"table\"}],\"barpolar\":[{\"marker\":{\"line\":{\"color\":\"#E5ECF6\",\"width\":0.5},\"pattern\":{\"fillmode\":\"overlay\",\"size\":10,\"solidity\":0.2}},\"type\":\"barpolar\"}],\"pie\":[{\"automargin\":true,\"type\":\"pie\"}]},\"layout\":{\"autotypenumbers\":\"strict\",\"colorway\":[\"#636efa\",\"#EF553B\",\"#00cc96\",\"#ab63fa\",\"#FFA15A\",\"#19d3f3\",\"#FF6692\",\"#B6E880\",\"#FF97FF\",\"#FECB52\"],\"font\":{\"color\":\"#2a3f5f\"},\"hovermode\":\"closest\",\"hoverlabel\":{\"align\":\"left\"},\"paper_bgcolor\":\"white\",\"plot_bgcolor\":\"#E5ECF6\",\"polar\":{\"bgcolor\":\"#E5ECF6\",\"angularaxis\":{\"gridcolor\":\"white\",\"linecolor\":\"white\",\"ticks\":\"\"},\"radialaxis\":{\"gridcolor\":\"white\",\"linecolor\":\"white\",\"ticks\":\"\"}},\"ternary\":{\"bgcolor\":\"#E5ECF6\",\"aaxis\":{\"gridcolor\":\"white\",\"linecolor\":\"white\",\"ticks\":\"\"},\"baxis\":{\"gridcolor\":\"white\",\"linecolor\":\"white\",\"ticks\":\"\"},\"caxis\":{\"gridcolor\":\"white\",\"linecolor\":\"white\",\"ticks\":\"\"}},\"coloraxis\":{\"colorbar\":{\"outlinewidth\":0,\"ticks\":\"\"}},\"colorscale\":{\"sequential\":[[0.0,\"#0d0887\"],[0.1111111111111111,\"#46039f\"],[0.2222222222222222,\"#7201a8\"],[0.3333333333333333,\"#9c179e\"],[0.4444444444444444,\"#bd3786\"],[0.5555555555555556,\"#d8576b\"],[0.6666666666666666,\"#ed7953\"],[0.7777777777777778,\"#fb9f3a\"],[0.8888888888888888,\"#fdca26\"],[1.0,\"#f0f921\"]],\"sequentialminus\":[[0.0,\"#0d0887\"],[0.1111111111111111,\"#46039f\"],[0.2222222222222222,\"#7201a8\"],[0.3333333333333333,\"#9c179e\"],[0.4444444444444444,\"#bd3786\"],[0.5555555555555556,\"#d8576b\"],[0.6666666666666666,\"#ed7953\"],[0.7777777777777778,\"#fb9f3a\"],[0.8888888888888888,\"#fdca26\"],[1.0,\"#f0f921\"]],\"diverging\":[[0,\"#8e0152\"],[0.1,\"#c51b7d\"],[0.2,\"#de77ae\"],[0.3,\"#f1b6da\"],[0.4,\"#fde0ef\"],[0.5,\"#f7f7f7\"],[0.6,\"#e6f5d0\"],[0.7,\"#b8e186\"],[0.8,\"#7fbc41\"],[0.9,\"#4d9221\"],[1,\"#276419\"]]},\"xaxis\":{\"gridcolor\":\"white\",\"linecolor\":\"white\",\"ticks\":\"\",\"title\":{\"standoff\":15},\"zerolinecolor\":\"white\",\"automargin\":true,\"zerolinewidth\":2},\"yaxis\":{\"gridcolor\":\"white\",\"linecolor\":\"white\",\"ticks\":\"\",\"title\":{\"standoff\":15},\"zerolinecolor\":\"white\",\"automargin\":true,\"zerolinewidth\":2},\"scene\":{\"xaxis\":{\"backgroundcolor\":\"#E5ECF6\",\"gridcolor\":\"white\",\"linecolor\":\"white\",\"showbackground\":true,\"ticks\":\"\",\"zerolinecolor\":\"white\",\"gridwidth\":2},\"yaxis\":{\"backgroundcolor\":\"#E5ECF6\",\"gridcolor\":\"white\",\"linecolor\":\"white\",\"showbackground\":true,\"ticks\":\"\",\"zerolinecolor\":\"white\",\"gridwidth\":2},\"zaxis\":{\"backgroundcolor\":\"#E5ECF6\",\"gridcolor\":\"white\",\"linecolor\":\"white\",\"showbackground\":true,\"ticks\":\"\",\"zerolinecolor\":\"white\",\"gridwidth\":2}},\"shapedefaults\":{\"line\":{\"color\":\"#2a3f5f\"}},\"annotationdefaults\":{\"arrowcolor\":\"#2a3f5f\",\"arrowhead\":0,\"arrowwidth\":1},\"geo\":{\"bgcolor\":\"white\",\"landcolor\":\"#E5ECF6\",\"subunitcolor\":\"white\",\"showland\":true,\"showlakes\":true,\"lakecolor\":\"white\"},\"title\":{\"x\":0.05},\"mapbox\":{\"style\":\"light\"}}},\"xaxis\":{\"anchor\":\"y\",\"domain\":[0.0,1.0],\"title\":{\"text\":\"dcg_difference\"}},\"yaxis\":{\"anchor\":\"x\",\"domain\":[0.0,1.0],\"title\":{\"text\":\"query\"}},\"legend\":{\"tracegroupgap\":0},\"title\":{\"text\":\"DCG Difference Linear Model and Random Forest Model\"},\"barmode\":\"relative\",\"height\":1000},                        {\"responsive\": true}                    ).then(function(){\n",
       "                            \n",
       "var gd = document.getElementById('3bee486b-24d5-4bc0-bf2d-a7b7ebe1504a');\n",
       "var x = new MutationObserver(function (mutations, observer) {{\n",
       "        var display = window.getComputedStyle(gd).display;\n",
       "        if (!display || display === 'none') {{\n",
       "            console.log([gd, 'removed!']);\n",
       "            Plotly.purge(gd);\n",
       "            observer.disconnect();\n",
       "        }}\n",
       "}});\n",
       "\n",
       "// Listen for the removal of the full notebook cells\n",
       "var notebookContainer = gd.closest('#notebook-container');\n",
       "if (notebookContainer) {{\n",
       "    x.observe(notebookContainer, {childList: true});\n",
       "}}\n",
       "\n",
       "// Listen for the clearing of the current output cell\n",
       "var outputEl = gd.closest('.output');\n",
       "if (outputEl) {{\n",
       "    x.observe(outputEl, {childList: true});\n",
       "}}\n",
       "\n",
       "                        })                };                });            </script>        </div>"
      ]
     },
     "metadata": {},
     "output_type": "display_data"
    }
   ],
   "source": [
    "px.bar(df_metrics_merged, x=\"dcg_difference\", y=\"query\", orientation='h',\n",
    "             hover_data=df_metrics_merged.columns,\n",
    "             height=1000,\n",
    "             title='DCG Difference Linear Model and Random Forest Model')"
   ]
  },
  {
   "cell_type": "markdown",
   "id": "89b4d85f-80c4-4da5-971b-bd7cfc81ba0c",
   "metadata": {},
   "source": [
    "## Metrics per Pipeline from Hybrid Optimizer for Test Queries\n",
    "\n",
    "We compare the metrics aggregated over 44 test queries and compared them to the metrics from all 220 queries above.\n",
    "\n",
    "Let's do the comparison for the results of the 44 queries only."
   ]
  },
  {
   "cell_type": "code",
   "execution_count": 411,
   "id": "e69c56e7-6d56-4888-a682-b1fff4fd8f6c",
   "metadata": {},
   "outputs": [],
   "source": [
    "df_hso_results = pd.read_csv('results_and_ratings.csv', index_col=[0])"
   ]
  },
  {
   "cell_type": "code",
   "execution_count": 412,
   "id": "19abf278-3d2b-41fb-8752-a07e7525cde8",
   "metadata": {},
   "outputs": [
    {
     "data": {
      "text/html": [
       "<div>\n",
       "<style scoped>\n",
       "    .dataframe tbody tr th:only-of-type {\n",
       "        vertical-align: middle;\n",
       "    }\n",
       "\n",
       "    .dataframe tbody tr th {\n",
       "        vertical-align: top;\n",
       "    }\n",
       "\n",
       "    .dataframe thead th {\n",
       "        text-align: right;\n",
       "    }\n",
       "</style>\n",
       "<table border=\"1\" class=\"dataframe\">\n",
       "  <thead>\n",
       "    <tr style=\"text-align: right;\">\n",
       "      <th></th>\n",
       "      <th>query_id</th>\n",
       "      <th>query_string</th>\n",
       "      <th>product_id</th>\n",
       "      <th>position</th>\n",
       "      <th>relevance</th>\n",
       "      <th>run</th>\n",
       "      <th>rating</th>\n",
       "    </tr>\n",
       "  </thead>\n",
       "  <tbody>\n",
       "    <tr>\n",
       "      <th>0</th>\n",
       "      <td>0</td>\n",
       "      <td>$30 roblox gift card not digital</td>\n",
       "      <td>B00F4CF4PU</td>\n",
       "      <td>0</td>\n",
       "      <td>1.000000</td>\n",
       "      <td>min_maxarithmetic_mean0.0</td>\n",
       "      <td>NaN</td>\n",
       "    </tr>\n",
       "    <tr>\n",
       "      <th>1</th>\n",
       "      <td>0</td>\n",
       "      <td>$30 roblox gift card not digital</td>\n",
       "      <td>B07C438TMN</td>\n",
       "      <td>1</td>\n",
       "      <td>0.799684</td>\n",
       "      <td>min_maxarithmetic_mean0.0</td>\n",
       "      <td>NaN</td>\n",
       "    </tr>\n",
       "    <tr>\n",
       "      <th>2</th>\n",
       "      <td>0</td>\n",
       "      <td>$30 roblox gift card not digital</td>\n",
       "      <td>B00XJZHJCA</td>\n",
       "      <td>2</td>\n",
       "      <td>0.795128</td>\n",
       "      <td>min_maxarithmetic_mean0.0</td>\n",
       "      <td>NaN</td>\n",
       "    </tr>\n",
       "  </tbody>\n",
       "</table>\n",
       "</div>"
      ],
      "text/plain": [
       "   query_id                      query_string  product_id  position  \\\n",
       "0         0  $30 roblox gift card not digital  B00F4CF4PU         0   \n",
       "1         0  $30 roblox gift card not digital  B07C438TMN         1   \n",
       "2         0  $30 roblox gift card not digital  B00XJZHJCA         2   \n",
       "\n",
       "   relevance                        run  rating  \n",
       "0   1.000000  min_maxarithmetic_mean0.0     NaN  \n",
       "1   0.799684  min_maxarithmetic_mean0.0     NaN  \n",
       "2   0.795128  min_maxarithmetic_mean0.0     NaN  "
      ]
     },
     "execution_count": 412,
     "metadata": {},
     "output_type": "execute_result"
    }
   ],
   "source": [
    "df_hso_results.head(3)"
   ]
  },
  {
   "cell_type": "code",
   "execution_count": 413,
   "id": "f91496dc-1808-480e-ad18-6f767477c0ff",
   "metadata": {},
   "outputs": [
    {
     "data": {
      "text/html": [
       "<div>\n",
       "<style scoped>\n",
       "    .dataframe tbody tr th:only-of-type {\n",
       "        vertical-align: middle;\n",
       "    }\n",
       "\n",
       "    .dataframe tbody tr th {\n",
       "        vertical-align: top;\n",
       "    }\n",
       "\n",
       "    .dataframe thead th {\n",
       "        text-align: right;\n",
       "    }\n",
       "</style>\n",
       "<table border=\"1\" class=\"dataframe\">\n",
       "  <thead>\n",
       "    <tr style=\"text-align: right;\">\n",
       "      <th></th>\n",
       "      <th>query_string</th>\n",
       "      <th>ndcg</th>\n",
       "      <th>neuralness</th>\n",
       "      <th>f_1_num_of_terms</th>\n",
       "      <th>f_2_query_length</th>\n",
       "      <th>f_3_has_numbers</th>\n",
       "      <th>f_4_has_special_char</th>\n",
       "      <th>f_5_num_results</th>\n",
       "      <th>f_6_max_title_score</th>\n",
       "      <th>f_7_sum_title_scores</th>\n",
       "      <th>f_8_max_semantic_score</th>\n",
       "      <th>f_9_avg_semantic_score</th>\n",
       "      <th>linear_model</th>\n",
       "      <th>random_forest</th>\n",
       "    </tr>\n",
       "  </thead>\n",
       "  <tbody>\n",
       "    <tr>\n",
       "      <th>0</th>\n",
       "      <td>7 days without a pun makes one weak</td>\n",
       "      <td>0.664066</td>\n",
       "      <td>1.0</td>\n",
       "      <td>8</td>\n",
       "      <td>35</td>\n",
       "      <td>1</td>\n",
       "      <td>0</td>\n",
       "      <td>13</td>\n",
       "      <td>0.261906</td>\n",
       "      <td>2.187382</td>\n",
       "      <td>0.816212</td>\n",
       "      <td>0.714292</td>\n",
       "      <td>0.801477</td>\n",
       "      <td>0.435</td>\n",
       "    </tr>\n",
       "    <tr>\n",
       "      <th>1</th>\n",
       "      <td>american flag 5x8 outdoor made in usa</td>\n",
       "      <td>0.595807</td>\n",
       "      <td>0.3</td>\n",
       "      <td>7</td>\n",
       "      <td>37</td>\n",
       "      <td>1</td>\n",
       "      <td>0</td>\n",
       "      <td>8</td>\n",
       "      <td>0.913549</td>\n",
       "      <td>4.974668</td>\n",
       "      <td>0.755891</td>\n",
       "      <td>0.723251</td>\n",
       "      <td>0.741743</td>\n",
       "      <td>0.516</td>\n",
       "    </tr>\n",
       "    <tr>\n",
       "      <th>2</th>\n",
       "      <td>andis t edger</td>\n",
       "      <td>0.308602</td>\n",
       "      <td>1.0</td>\n",
       "      <td>3</td>\n",
       "      <td>13</td>\n",
       "      <td>0</td>\n",
       "      <td>0</td>\n",
       "      <td>2</td>\n",
       "      <td>0.086820</td>\n",
       "      <td>0.166090</td>\n",
       "      <td>0.578003</td>\n",
       "      <td>0.519416</td>\n",
       "      <td>0.735459</td>\n",
       "      <td>0.669</td>\n",
       "    </tr>\n",
       "  </tbody>\n",
       "</table>\n",
       "</div>"
      ],
      "text/plain": [
       "                            query_string      ndcg  neuralness  \\\n",
       "0    7 days without a pun makes one weak  0.664066         1.0   \n",
       "1  american flag 5x8 outdoor made in usa  0.595807         0.3   \n",
       "2                          andis t edger  0.308602         1.0   \n",
       "\n",
       "   f_1_num_of_terms  f_2_query_length  f_3_has_numbers  f_4_has_special_char  \\\n",
       "0                 8                35                1                     0   \n",
       "1                 7                37                1                     0   \n",
       "2                 3                13                0                     0   \n",
       "\n",
       "   f_5_num_results  f_6_max_title_score  f_7_sum_title_scores  \\\n",
       "0               13             0.261906              2.187382   \n",
       "1                8             0.913549              4.974668   \n",
       "2                2             0.086820              0.166090   \n",
       "\n",
       "   f_8_max_semantic_score  f_9_avg_semantic_score  linear_model  random_forest  \n",
       "0                0.816212                0.714292      0.801477          0.435  \n",
       "1                0.755891                0.723251      0.741743          0.516  \n",
       "2                0.578003                0.519416      0.735459          0.669  "
      ]
     },
     "execution_count": 413,
     "metadata": {},
     "output_type": "execute_result"
    }
   ],
   "source": [
    "df_test_data.head(3)"
   ]
  },
  {
   "cell_type": "code",
   "execution_count": 414,
   "id": "8c3360c7-e64d-4f43-973e-c0720c1395dc",
   "metadata": {},
   "outputs": [],
   "source": [
    "df_hso_results_fitlered = df_hso_results[df_hso_results['query_string'].isin(df_test_data['query_string'])]"
   ]
  },
  {
   "cell_type": "code",
   "execution_count": 415,
   "id": "e572769a-9c95-4d7e-9ee4-0709988ece75",
   "metadata": {},
   "outputs": [
    {
     "data": {
      "text/html": [
       "<div>\n",
       "<style scoped>\n",
       "    .dataframe tbody tr th:only-of-type {\n",
       "        vertical-align: middle;\n",
       "    }\n",
       "\n",
       "    .dataframe tbody tr th {\n",
       "        vertical-align: top;\n",
       "    }\n",
       "\n",
       "    .dataframe thead th {\n",
       "        text-align: right;\n",
       "    }\n",
       "</style>\n",
       "<table border=\"1\" class=\"dataframe\">\n",
       "  <thead>\n",
       "    <tr style=\"text-align: right;\">\n",
       "      <th></th>\n",
       "      <th>query_id</th>\n",
       "      <th>query_string</th>\n",
       "      <th>product_id</th>\n",
       "      <th>position</th>\n",
       "      <th>relevance</th>\n",
       "      <th>run</th>\n",
       "      <th>rating</th>\n",
       "    </tr>\n",
       "  </thead>\n",
       "  <tbody>\n",
       "    <tr>\n",
       "      <th>900</th>\n",
       "      <td>9</td>\n",
       "      <td>7 days without a pun makes one weak</td>\n",
       "      <td>B07PCLLG2H</td>\n",
       "      <td>0</td>\n",
       "      <td>1.000000</td>\n",
       "      <td>min_maxarithmetic_mean0.0</td>\n",
       "      <td>3.0</td>\n",
       "    </tr>\n",
       "    <tr>\n",
       "      <th>901</th>\n",
       "      <td>9</td>\n",
       "      <td>7 days without a pun makes one weak</td>\n",
       "      <td>B07PY9SL52</td>\n",
       "      <td>1</td>\n",
       "      <td>0.948538</td>\n",
       "      <td>min_maxarithmetic_mean0.0</td>\n",
       "      <td>NaN</td>\n",
       "    </tr>\n",
       "    <tr>\n",
       "      <th>902</th>\n",
       "      <td>9</td>\n",
       "      <td>7 days without a pun makes one weak</td>\n",
       "      <td>B083Z9M4TR</td>\n",
       "      <td>2</td>\n",
       "      <td>0.919161</td>\n",
       "      <td>min_maxarithmetic_mean0.0</td>\n",
       "      <td>3.0</td>\n",
       "    </tr>\n",
       "    <tr>\n",
       "      <th>903</th>\n",
       "      <td>9</td>\n",
       "      <td>7 days without a pun makes one weak</td>\n",
       "      <td>B07PGBYSYD</td>\n",
       "      <td>3</td>\n",
       "      <td>0.912485</td>\n",
       "      <td>min_maxarithmetic_mean0.0</td>\n",
       "      <td>3.0</td>\n",
       "    </tr>\n",
       "    <tr>\n",
       "      <th>904</th>\n",
       "      <td>9</td>\n",
       "      <td>7 days without a pun makes one weak</td>\n",
       "      <td>B07RHGP8T8</td>\n",
       "      <td>4</td>\n",
       "      <td>0.912149</td>\n",
       "      <td>min_maxarithmetic_mean0.0</td>\n",
       "      <td>3.0</td>\n",
       "    </tr>\n",
       "    <tr>\n",
       "      <th>...</th>\n",
       "      <td>...</td>\n",
       "      <td>...</td>\n",
       "      <td>...</td>\n",
       "      <td>...</td>\n",
       "      <td>...</td>\n",
       "      <td>...</td>\n",
       "      <td>...</td>\n",
       "    </tr>\n",
       "    <tr>\n",
       "      <th>1451895</th>\n",
       "      <td>218</td>\n",
       "      <td>wowled</td>\n",
       "      <td>B07W6KQQ53</td>\n",
       "      <td>95</td>\n",
       "      <td>0.000000</td>\n",
       "      <td>l2geometric_mean1.0</td>\n",
       "      <td>NaN</td>\n",
       "    </tr>\n",
       "    <tr>\n",
       "      <th>1451896</th>\n",
       "      <td>218</td>\n",
       "      <td>wowled</td>\n",
       "      <td>B000QZYTU6</td>\n",
       "      <td>96</td>\n",
       "      <td>0.000000</td>\n",
       "      <td>l2geometric_mean1.0</td>\n",
       "      <td>NaN</td>\n",
       "    </tr>\n",
       "    <tr>\n",
       "      <th>1451897</th>\n",
       "      <td>218</td>\n",
       "      <td>wowled</td>\n",
       "      <td>B0818RWK73</td>\n",
       "      <td>97</td>\n",
       "      <td>0.000000</td>\n",
       "      <td>l2geometric_mean1.0</td>\n",
       "      <td>NaN</td>\n",
       "    </tr>\n",
       "    <tr>\n",
       "      <th>1451898</th>\n",
       "      <td>218</td>\n",
       "      <td>wowled</td>\n",
       "      <td>B07ND3XYWM</td>\n",
       "      <td>98</td>\n",
       "      <td>0.000000</td>\n",
       "      <td>l2geometric_mean1.0</td>\n",
       "      <td>NaN</td>\n",
       "    </tr>\n",
       "    <tr>\n",
       "      <th>1451899</th>\n",
       "      <td>218</td>\n",
       "      <td>wowled</td>\n",
       "      <td>B0888TDMKX</td>\n",
       "      <td>99</td>\n",
       "      <td>0.000000</td>\n",
       "      <td>l2geometric_mean1.0</td>\n",
       "      <td>NaN</td>\n",
       "    </tr>\n",
       "  </tbody>\n",
       "</table>\n",
       "<p>290400 rows × 7 columns</p>\n",
       "</div>"
      ],
      "text/plain": [
       "         query_id                         query_string  product_id  position  \\\n",
       "900             9  7 days without a pun makes one weak  B07PCLLG2H         0   \n",
       "901             9  7 days without a pun makes one weak  B07PY9SL52         1   \n",
       "902             9  7 days without a pun makes one weak  B083Z9M4TR         2   \n",
       "903             9  7 days without a pun makes one weak  B07PGBYSYD         3   \n",
       "904             9  7 days without a pun makes one weak  B07RHGP8T8         4   \n",
       "...           ...                                  ...         ...       ...   \n",
       "1451895       218                               wowled  B07W6KQQ53        95   \n",
       "1451896       218                               wowled  B000QZYTU6        96   \n",
       "1451897       218                               wowled  B0818RWK73        97   \n",
       "1451898       218                               wowled  B07ND3XYWM        98   \n",
       "1451899       218                               wowled  B0888TDMKX        99   \n",
       "\n",
       "         relevance                        run  rating  \n",
       "900       1.000000  min_maxarithmetic_mean0.0     3.0  \n",
       "901       0.948538  min_maxarithmetic_mean0.0     NaN  \n",
       "902       0.919161  min_maxarithmetic_mean0.0     3.0  \n",
       "903       0.912485  min_maxarithmetic_mean0.0     3.0  \n",
       "904       0.912149  min_maxarithmetic_mean0.0     3.0  \n",
       "...            ...                        ...     ...  \n",
       "1451895   0.000000        l2geometric_mean1.0     NaN  \n",
       "1451896   0.000000        l2geometric_mean1.0     NaN  \n",
       "1451897   0.000000        l2geometric_mean1.0     NaN  \n",
       "1451898   0.000000        l2geometric_mean1.0     NaN  \n",
       "1451899   0.000000        l2geometric_mean1.0     NaN  \n",
       "\n",
       "[290400 rows x 7 columns]"
      ]
     },
     "execution_count": 415,
     "metadata": {},
     "output_type": "execute_result"
    }
   ],
   "source": [
    "df_hso_results_fitlered"
   ]
  },
  {
   "cell_type": "code",
   "execution_count": 418,
   "id": "f16e08a1-17ba-41d8-ad42-7b535d1a8c2e",
   "metadata": {},
   "outputs": [],
   "source": [
    "df_metrics_hso_results_filtered = []\n",
    "for m_name, m_function, ref_search in metrics:\n",
    "    for (query_string, run), df_gr in df_hso_results_fitlered.groupby([\"query_string\", \"run\"]):\n",
    "        metric = m_function(df_gr, reference=reference[query_string])\n",
    "        df_metrics_hso_results_filtered.append(pd.DataFrame({\n",
    "            \"query\": [query_string],\n",
    "            \"pipeline\": [run],\n",
    "            \"metric\": [m_name],\n",
    "            \"value\": [metric],\n",
    "        }))\n",
    "df_metrics_hso_results_filtered = pd.concat(df_metrics_hso_results_filtered)"
   ]
  },
  {
   "cell_type": "code",
   "execution_count": 419,
   "id": "c71d1598-7e72-4590-9845-d9f943d4f241",
   "metadata": {},
   "outputs": [
    {
     "data": {
      "text/html": [
       "<div>\n",
       "<style scoped>\n",
       "    .dataframe tbody tr th:only-of-type {\n",
       "        vertical-align: middle;\n",
       "    }\n",
       "\n",
       "    .dataframe tbody tr th {\n",
       "        vertical-align: top;\n",
       "    }\n",
       "\n",
       "    .dataframe thead th {\n",
       "        text-align: right;\n",
       "    }\n",
       "</style>\n",
       "<table border=\"1\" class=\"dataframe\">\n",
       "  <thead>\n",
       "    <tr style=\"text-align: right;\">\n",
       "      <th></th>\n",
       "      <th>query</th>\n",
       "      <th>pipeline</th>\n",
       "      <th>metric</th>\n",
       "      <th>value</th>\n",
       "    </tr>\n",
       "  </thead>\n",
       "  <tbody>\n",
       "    <tr>\n",
       "      <th>0</th>\n",
       "      <td>7 days without a pun makes one weak</td>\n",
       "      <td>l2arithmetic_mean0.0</td>\n",
       "      <td>dcg</td>\n",
       "      <td>15.650518</td>\n",
       "    </tr>\n",
       "    <tr>\n",
       "      <th>0</th>\n",
       "      <td>7 days without a pun makes one weak</td>\n",
       "      <td>l2arithmetic_mean0.1</td>\n",
       "      <td>dcg</td>\n",
       "      <td>15.650518</td>\n",
       "    </tr>\n",
       "    <tr>\n",
       "      <th>0</th>\n",
       "      <td>7 days without a pun makes one weak</td>\n",
       "      <td>l2arithmetic_mean0.2</td>\n",
       "      <td>dcg</td>\n",
       "      <td>15.650518</td>\n",
       "    </tr>\n",
       "    <tr>\n",
       "      <th>0</th>\n",
       "      <td>7 days without a pun makes one weak</td>\n",
       "      <td>l2arithmetic_mean0.3</td>\n",
       "      <td>dcg</td>\n",
       "      <td>15.650518</td>\n",
       "    </tr>\n",
       "    <tr>\n",
       "      <th>0</th>\n",
       "      <td>7 days without a pun makes one weak</td>\n",
       "      <td>l2arithmetic_mean0.4</td>\n",
       "      <td>dcg</td>\n",
       "      <td>15.650518</td>\n",
       "    </tr>\n",
       "    <tr>\n",
       "      <th>...</th>\n",
       "      <td>...</td>\n",
       "      <td>...</td>\n",
       "      <td>...</td>\n",
       "      <td>...</td>\n",
       "    </tr>\n",
       "    <tr>\n",
       "      <th>0</th>\n",
       "      <td>wowled</td>\n",
       "      <td>min_maxharmonic_mean0.6</td>\n",
       "      <td>ratio_of_ratings</td>\n",
       "      <td>0.300000</td>\n",
       "    </tr>\n",
       "    <tr>\n",
       "      <th>0</th>\n",
       "      <td>wowled</td>\n",
       "      <td>min_maxharmonic_mean0.7</td>\n",
       "      <td>ratio_of_ratings</td>\n",
       "      <td>0.300000</td>\n",
       "    </tr>\n",
       "    <tr>\n",
       "      <th>0</th>\n",
       "      <td>wowled</td>\n",
       "      <td>min_maxharmonic_mean0.8</td>\n",
       "      <td>ratio_of_ratings</td>\n",
       "      <td>0.300000</td>\n",
       "    </tr>\n",
       "    <tr>\n",
       "      <th>0</th>\n",
       "      <td>wowled</td>\n",
       "      <td>min_maxharmonic_mean0.9</td>\n",
       "      <td>ratio_of_ratings</td>\n",
       "      <td>0.300000</td>\n",
       "    </tr>\n",
       "    <tr>\n",
       "      <th>0</th>\n",
       "      <td>wowled</td>\n",
       "      <td>min_maxharmonic_mean1.0</td>\n",
       "      <td>ratio_of_ratings</td>\n",
       "      <td>0.800000</td>\n",
       "    </tr>\n",
       "  </tbody>\n",
       "</table>\n",
       "<p>11616 rows × 4 columns</p>\n",
       "</div>"
      ],
      "text/plain": [
       "                                  query                 pipeline  \\\n",
       "0   7 days without a pun makes one weak     l2arithmetic_mean0.0   \n",
       "0   7 days without a pun makes one weak     l2arithmetic_mean0.1   \n",
       "0   7 days without a pun makes one weak     l2arithmetic_mean0.2   \n",
       "0   7 days without a pun makes one weak     l2arithmetic_mean0.3   \n",
       "0   7 days without a pun makes one weak     l2arithmetic_mean0.4   \n",
       "..                                  ...                      ...   \n",
       "0                                wowled  min_maxharmonic_mean0.6   \n",
       "0                                wowled  min_maxharmonic_mean0.7   \n",
       "0                                wowled  min_maxharmonic_mean0.8   \n",
       "0                                wowled  min_maxharmonic_mean0.9   \n",
       "0                                wowled  min_maxharmonic_mean1.0   \n",
       "\n",
       "              metric      value  \n",
       "0                dcg  15.650518  \n",
       "0                dcg  15.650518  \n",
       "0                dcg  15.650518  \n",
       "0                dcg  15.650518  \n",
       "0                dcg  15.650518  \n",
       "..               ...        ...  \n",
       "0   ratio_of_ratings   0.300000  \n",
       "0   ratio_of_ratings   0.300000  \n",
       "0   ratio_of_ratings   0.300000  \n",
       "0   ratio_of_ratings   0.300000  \n",
       "0   ratio_of_ratings   0.800000  \n",
       "\n",
       "[11616 rows x 4 columns]"
      ]
     },
     "execution_count": 419,
     "metadata": {},
     "output_type": "execute_result"
    }
   ],
   "source": [
    "df_metrics_hso_results_filtered"
   ]
  },
  {
   "cell_type": "code",
   "execution_count": 420,
   "id": "b65f2c6a-df96-4ee6-98e2-77296989c087",
   "metadata": {},
   "outputs": [
    {
     "data": {
      "text/html": [
       "<div>\n",
       "<style scoped>\n",
       "    .dataframe tbody tr th:only-of-type {\n",
       "        vertical-align: middle;\n",
       "    }\n",
       "\n",
       "    .dataframe tbody tr th {\n",
       "        vertical-align: top;\n",
       "    }\n",
       "\n",
       "    .dataframe thead th {\n",
       "        text-align: right;\n",
       "    }\n",
       "</style>\n",
       "<table border=\"1\" class=\"dataframe\">\n",
       "  <thead>\n",
       "    <tr style=\"text-align: right;\">\n",
       "      <th>metric</th>\n",
       "      <th>pipeline</th>\n",
       "      <th>dcg</th>\n",
       "      <th>ndcg</th>\n",
       "      <th>prec@10</th>\n",
       "      <th>ratio_of_ratings</th>\n",
       "    </tr>\n",
       "  </thead>\n",
       "  <tbody>\n",
       "    <tr>\n",
       "      <th>0</th>\n",
       "      <td>l2arithmetic_mean0.0</td>\n",
       "      <td>5.79</td>\n",
       "      <td>0.27</td>\n",
       "      <td>0.30</td>\n",
       "      <td>0.32</td>\n",
       "    </tr>\n",
       "    <tr>\n",
       "      <th>1</th>\n",
       "      <td>l2arithmetic_mean0.1</td>\n",
       "      <td>6.95</td>\n",
       "      <td>0.32</td>\n",
       "      <td>0.35</td>\n",
       "      <td>0.37</td>\n",
       "    </tr>\n",
       "    <tr>\n",
       "      <th>2</th>\n",
       "      <td>l2arithmetic_mean0.2</td>\n",
       "      <td>7.07</td>\n",
       "      <td>0.32</td>\n",
       "      <td>0.36</td>\n",
       "      <td>0.38</td>\n",
       "    </tr>\n",
       "    <tr>\n",
       "      <th>3</th>\n",
       "      <td>l2arithmetic_mean0.3</td>\n",
       "      <td>7.73</td>\n",
       "      <td>0.35</td>\n",
       "      <td>0.40</td>\n",
       "      <td>0.42</td>\n",
       "    </tr>\n",
       "  </tbody>\n",
       "</table>\n",
       "</div>"
      ],
      "text/plain": [
       "metric              pipeline   dcg  ndcg  prec@10  ratio_of_ratings\n",
       "0       l2arithmetic_mean0.0  5.79  0.27     0.30              0.32\n",
       "1       l2arithmetic_mean0.1  6.95  0.32     0.35              0.37\n",
       "2       l2arithmetic_mean0.2  7.07  0.32     0.36              0.38\n",
       "3       l2arithmetic_mean0.3  7.73  0.35     0.40              0.42"
      ]
     },
     "execution_count": 420,
     "metadata": {},
     "output_type": "execute_result"
    }
   ],
   "source": [
    "df_metrics_per_pipeline_hso = df_metrics_hso_results_filtered.pivot_table(index=\"pipeline\", columns=\"metric\", values=\"value\", aggfunc=lambda x: x.mean().round(2))\n",
    "df_metrics_per_pipeline_hso = df_metrics_per_pipeline_hso.reset_index()\n",
    "df_metrics_per_pipeline_hso.head(4)"
   ]
  },
  {
   "cell_type": "code",
   "execution_count": 429,
   "id": "58b9b424-5391-4848-8e54-745e33bc8397",
   "metadata": {},
   "outputs": [
    {
     "data": {
      "text/html": [
       "<div>\n",
       "<style scoped>\n",
       "    .dataframe tbody tr th:only-of-type {\n",
       "        vertical-align: middle;\n",
       "    }\n",
       "\n",
       "    .dataframe tbody tr th {\n",
       "        vertical-align: top;\n",
       "    }\n",
       "\n",
       "    .dataframe thead th {\n",
       "        text-align: right;\n",
       "    }\n",
       "</style>\n",
       "<table border=\"1\" class=\"dataframe\">\n",
       "  <thead>\n",
       "    <tr style=\"text-align: right;\">\n",
       "      <th>metric</th>\n",
       "      <th>pipeline</th>\n",
       "      <th>dcg</th>\n",
       "      <th>ndcg</th>\n",
       "      <th>prec@10</th>\n",
       "      <th>ratio_of_ratings</th>\n",
       "    </tr>\n",
       "  </thead>\n",
       "  <tbody>\n",
       "    <tr>\n",
       "      <th>29</th>\n",
       "      <td>l2harmonic_mean0.7</td>\n",
       "      <td>7.86</td>\n",
       "      <td>0.36</td>\n",
       "      <td>0.41</td>\n",
       "      <td>0.43</td>\n",
       "    </tr>\n",
       "  </tbody>\n",
       "</table>\n",
       "</div>"
      ],
      "text/plain": [
       "metric            pipeline   dcg  ndcg  prec@10  ratio_of_ratings\n",
       "29      l2harmonic_mean0.7  7.86  0.36     0.41              0.43"
      ]
     },
     "execution_count": 429,
     "metadata": {},
     "output_type": "execute_result"
    }
   ],
   "source": [
    "df_metrics_per_pipeline_hso.sort_values(by='ndcg', ascending=False).head(1)"
   ]
  },
  {
   "cell_type": "code",
   "execution_count": 430,
   "id": "029150c7-b899-4a17-807a-318525f56174",
   "metadata": {},
   "outputs": [
    {
     "data": {
      "text/html": [
       "<div>\n",
       "<style scoped>\n",
       "    .dataframe tbody tr th:only-of-type {\n",
       "        vertical-align: middle;\n",
       "    }\n",
       "\n",
       "    .dataframe tbody tr th {\n",
       "        vertical-align: top;\n",
       "    }\n",
       "\n",
       "    .dataframe thead th {\n",
       "        text-align: right;\n",
       "    }\n",
       "</style>\n",
       "<table border=\"1\" class=\"dataframe\">\n",
       "  <thead>\n",
       "    <tr style=\"text-align: right;\">\n",
       "      <th>metric</th>\n",
       "      <th>pipeline</th>\n",
       "      <th>dcg</th>\n",
       "      <th>ndcg</th>\n",
       "      <th>prec@10</th>\n",
       "      <th>ratio_of_ratings</th>\n",
       "    </tr>\n",
       "  </thead>\n",
       "  <tbody>\n",
       "    <tr>\n",
       "      <th>30</th>\n",
       "      <td>l2harmonic_mean0.8</td>\n",
       "      <td>7.97</td>\n",
       "      <td>0.36</td>\n",
       "      <td>0.42</td>\n",
       "      <td>0.44</td>\n",
       "    </tr>\n",
       "  </tbody>\n",
       "</table>\n",
       "</div>"
      ],
      "text/plain": [
       "metric            pipeline   dcg  ndcg  prec@10  ratio_of_ratings\n",
       "30      l2harmonic_mean0.8  7.97  0.36     0.42              0.44"
      ]
     },
     "execution_count": 430,
     "metadata": {},
     "output_type": "execute_result"
    }
   ],
   "source": [
    "df_metrics_per_pipeline_hso.sort_values(by='dcg', ascending=False).head(1)"
   ]
  },
  {
   "cell_type": "code",
   "execution_count": 431,
   "id": "56749f70-7c56-4354-a626-513ee7f3abc0",
   "metadata": {},
   "outputs": [
    {
     "data": {
      "text/html": [
       "<div>\n",
       "<style scoped>\n",
       "    .dataframe tbody tr th:only-of-type {\n",
       "        vertical-align: middle;\n",
       "    }\n",
       "\n",
       "    .dataframe tbody tr th {\n",
       "        vertical-align: top;\n",
       "    }\n",
       "\n",
       "    .dataframe thead th {\n",
       "        text-align: right;\n",
       "    }\n",
       "</style>\n",
       "<table border=\"1\" class=\"dataframe\">\n",
       "  <thead>\n",
       "    <tr style=\"text-align: right;\">\n",
       "      <th>metric</th>\n",
       "      <th>pipeline</th>\n",
       "      <th>dcg</th>\n",
       "      <th>ndcg</th>\n",
       "      <th>prec@10</th>\n",
       "      <th>ratio_of_ratings</th>\n",
       "    </tr>\n",
       "  </thead>\n",
       "  <tbody>\n",
       "    <tr>\n",
       "      <th>30</th>\n",
       "      <td>l2harmonic_mean0.8</td>\n",
       "      <td>7.97</td>\n",
       "      <td>0.36</td>\n",
       "      <td>0.42</td>\n",
       "      <td>0.44</td>\n",
       "    </tr>\n",
       "  </tbody>\n",
       "</table>\n",
       "</div>"
      ],
      "text/plain": [
       "metric            pipeline   dcg  ndcg  prec@10  ratio_of_ratings\n",
       "30      l2harmonic_mean0.8  7.97  0.36     0.42              0.44"
      ]
     },
     "execution_count": 431,
     "metadata": {},
     "output_type": "execute_result"
    }
   ],
   "source": [
    "df_metrics_per_pipeline_hso.sort_values(by='prec@10', ascending=False).head(1)"
   ]
  },
  {
   "cell_type": "code",
   "execution_count": 425,
   "id": "e68c0715-d705-4e6f-8cd8-286b9c39fd06",
   "metadata": {},
   "outputs": [
    {
     "data": {
      "text/html": [
       "<div>\n",
       "<style scoped>\n",
       "    .dataframe tbody tr th:only-of-type {\n",
       "        vertical-align: middle;\n",
       "    }\n",
       "\n",
       "    .dataframe tbody tr th {\n",
       "        vertical-align: top;\n",
       "    }\n",
       "\n",
       "    .dataframe thead th {\n",
       "        text-align: right;\n",
       "    }\n",
       "</style>\n",
       "<table border=\"1\" class=\"dataframe\">\n",
       "  <thead>\n",
       "    <tr style=\"text-align: right;\">\n",
       "      <th>metric</th>\n",
       "      <th>model</th>\n",
       "      <th>dcg</th>\n",
       "      <th>ndcg</th>\n",
       "      <th>prec@10</th>\n",
       "      <th>ratio_of_ratings</th>\n",
       "    </tr>\n",
       "  </thead>\n",
       "  <tbody>\n",
       "    <tr>\n",
       "      <th>0</th>\n",
       "      <td>linear_model</td>\n",
       "      <td>7.57</td>\n",
       "      <td>0.35</td>\n",
       "      <td>0.39</td>\n",
       "      <td>0.41</td>\n",
       "    </tr>\n",
       "    <tr>\n",
       "      <th>1</th>\n",
       "      <td>random_forest</td>\n",
       "      <td>7.82</td>\n",
       "      <td>0.36</td>\n",
       "      <td>0.41</td>\n",
       "      <td>0.43</td>\n",
       "    </tr>\n",
       "  </tbody>\n",
       "</table>\n",
       "</div>"
      ],
      "text/plain": [
       "metric          model   dcg  ndcg  prec@10  ratio_of_ratings\n",
       "0        linear_model  7.57  0.35     0.39              0.41\n",
       "1       random_forest  7.82  0.36     0.41              0.43"
      ]
     },
     "execution_count": 425,
     "metadata": {},
     "output_type": "execute_result"
    }
   ],
   "source": [
    "df_metrics_per_pipeline"
   ]
  },
  {
   "cell_type": "code",
   "execution_count": null,
   "id": "25b4c335-dc1d-4dc7-9878-1b4feafac797",
   "metadata": {},
   "outputs": [],
   "source": []
  }
 ],
 "metadata": {
  "kernelspec": {
   "display_name": ".venv",
   "language": "python",
   "name": ".venv"
  },
  "language_info": {
   "codemirror_mode": {
    "name": "ipython",
    "version": 3
   },
   "file_extension": ".py",
   "mimetype": "text/x-python",
   "name": "python",
   "nbconvert_exporter": "python",
   "pygments_lexer": "ipython3",
   "version": "3.12.6"
  }
 },
 "nbformat": 4,
 "nbformat_minor": 5
}
